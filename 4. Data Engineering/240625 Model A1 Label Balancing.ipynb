{
 "cells": [
  {
   "cell_type": "code",
   "execution_count": null,
   "metadata": {
    "colab": {
     "base_uri": "https://localhost:8080/"
    },
    "executionInfo": {
     "elapsed": 40847,
     "status": "ok",
     "timestamp": 1721321815114,
     "user": {
      "displayName": "백현지",
      "userId": "02510457579208942463"
     },
     "user_tz": -540
    },
    "id": "w6KvGMpLcv8D",
    "outputId": "37dd7716-1600-4c85-dd60-ccba58b84a26"
   },
   "outputs": [
    {
     "name": "stdout",
     "output_type": "stream",
     "text": [
      "Drive already mounted at /content/drive; to attempt to forcibly remount, call drive.mount(\"/content/drive\", force_remount=True).\n"
     ]
    }
   ],
   "source": [
    "from google.colab import drive\n",
    "drive.mount('/content/drive')"
   ]
  },
  {
   "cell_type": "markdown",
   "metadata": {
    "id": "KoK5JJsrxTpk"
   },
   "source": [
    "### 0.4 extraction within the range"
   ]
  },
  {
   "cell_type": "code",
   "execution_count": null,
   "metadata": {
    "colab": {
     "base_uri": "https://localhost:8080/",
     "height": 830
    },
    "executionInfo": {
     "elapsed": 1507,
     "status": "ok",
     "timestamp": 1721322144143,
     "user": {
      "displayName": "백현지",
      "userId": "02510457579208942463"
     },
     "user_tz": -540
    },
    "id": "w1eD-mRPxSyY",
    "outputId": "55df2b06-09d3-4a69-b42f-27f6a8886a1f"
   },
   "outputs": [
    {
     "name": "stderr",
     "output_type": "stream",
     "text": [
      "<ipython-input-6-f667d910dea6>:22: SettingWithCopyWarning: \n",
      "A value is trying to be set on a copy of a slice from a DataFrame.\n",
      "Try using .loc[row_indexer,col_indexer] = value instead\n",
      "\n",
      "See the caveats in the documentation: https://pandas.pydata.org/pandas-docs/stable/user_guide/indexing.html#returning-a-view-versus-a-copy\n",
      "  filtered_df['label'] = 0\n",
      "<ipython-input-6-f667d910dea6>:22: SettingWithCopyWarning: \n",
      "A value is trying to be set on a copy of a slice from a DataFrame.\n",
      "Try using .loc[row_indexer,col_indexer] = value instead\n",
      "\n",
      "See the caveats in the documentation: https://pandas.pydata.org/pandas-docs/stable/user_guide/indexing.html#returning-a-view-versus-a-copy\n",
      "  filtered_df['label'] = 0\n",
      "<ipython-input-6-f667d910dea6>:22: SettingWithCopyWarning: \n",
      "A value is trying to be set on a copy of a slice from a DataFrame.\n",
      "Try using .loc[row_indexer,col_indexer] = value instead\n",
      "\n",
      "See the caveats in the documentation: https://pandas.pydata.org/pandas-docs/stable/user_guide/indexing.html#returning-a-view-versus-a-copy\n",
      "  filtered_df['label'] = 0\n",
      "<ipython-input-6-f667d910dea6>:22: SettingWithCopyWarning: \n",
      "A value is trying to be set on a copy of a slice from a DataFrame.\n",
      "Try using .loc[row_indexer,col_indexer] = value instead\n",
      "\n",
      "See the caveats in the documentation: https://pandas.pydata.org/pandas-docs/stable/user_guide/indexing.html#returning-a-view-versus-a-copy\n",
      "  filtered_df['label'] = 0\n",
      "<ipython-input-6-f667d910dea6>:22: SettingWithCopyWarning: \n",
      "A value is trying to be set on a copy of a slice from a DataFrame.\n",
      "Try using .loc[row_indexer,col_indexer] = value instead\n",
      "\n",
      "See the caveats in the documentation: https://pandas.pydata.org/pandas-docs/stable/user_guide/indexing.html#returning-a-view-versus-a-copy\n",
      "  filtered_df['label'] = 0\n",
      "<ipython-input-6-f667d910dea6>:22: SettingWithCopyWarning: \n",
      "A value is trying to be set on a copy of a slice from a DataFrame.\n",
      "Try using .loc[row_indexer,col_indexer] = value instead\n",
      "\n",
      "See the caveats in the documentation: https://pandas.pydata.org/pandas-docs/stable/user_guide/indexing.html#returning-a-view-versus-a-copy\n",
      "  filtered_df['label'] = 0\n",
      "<ipython-input-6-f667d910dea6>:22: SettingWithCopyWarning: \n",
      "A value is trying to be set on a copy of a slice from a DataFrame.\n",
      "Try using .loc[row_indexer,col_indexer] = value instead\n",
      "\n",
      "See the caveats in the documentation: https://pandas.pydata.org/pandas-docs/stable/user_guide/indexing.html#returning-a-view-versus-a-copy\n",
      "  filtered_df['label'] = 0\n"
     ]
    },
    {
     "data": {
      "application/vnd.google.colaboratory.intrinsic+json": {
       "summary": "{\n  \"name\": \"selected_data\",\n  \"rows\": 1,\n  \"fields\": [\n    {\n      \"column\": \"text\",\n      \"properties\": {\n        \"dtype\": \"string\",\n        \"num_unique_values\": 1,\n        \"samples\": [\n          \"\\ud55c\\uc9c4 \\ub54c\\uc640 \\ud310\\ubc15\\uc774\\ubd88 \\ubd99\\ub294 \\uae08\\ud638\\uc11d\\ud654 \\ud45c\\ub300\\uacb0 \\uba38\\ub2c8\\ud22c\\ub370\\uc774 \\uae40\\uc131\\uc740 \\uae30\\uc790 \\uc6d4 \\uc8fc\\uc8fc\\ucd1d\\ud68c\\ub97c \\uc55e\\ub450\\uace0 \\uae08\\ud638\\uc11d\\uc720\\ud654\\ud559\\uc774\\ud558 \\uae08\\ud638\\uc11d\\ud654\\uc758 \\uacbd\\uc601\\uad8c \\ubd84\\uc7c1\\uc774 \\ubcf8\\uaca9\\ud654\\ud560 \\uc804\\ub9dd\\uc774\\ub2e4 \\uc791\\uc740\\uc544\\ubc84\\uc9c0\\uc640\\uc758 \\uacf5\\ub3d9\\uad00\\uacc4\\ub97c \\ud574\\uc18c\\ud574 \\uc120\\uc804\\ud3ec\\uace0\\ud55c \\uc870\\uce74\\ub294 \\ud45c\\ub300\\uacb0 \\uc808\\ucc28\\uc5d0 \\ub3cc\\uc785\\ud588\\uace0 \\ud68c\\uc0ac \\uce21\\ub3c4 \\uacbd\\uc601\\uad8c \\ubc29\\uc5b4 \\uc804\\ub7b5\\uc744 \\uace0\\uc2ec\\uc911\\uc774\\ub2e4 \\ub144 \\uc804 \\ud55c\\uc9c4 \\uacbd\\uc601\\uad8c \\ubd84\\uc7c1 \\ub5a0\\uc62c\\ub77c \\uc2e4\\ud328\\ub85c \\ub3cc\\uc544\\uac14\\uc9c0\\ub9cc \\uae08\\ud638\\uc11d\\ud654\\ub294\\uc9c0\\ub09c \\uc77c \\uae08\\uc735\\uac10\\ub3c5\\uc6d0 \\uc804\\uc790\\uacf5\\uc2dc\\uc2dc\\uc2a4\\ud15c\\uc5d0 \\ub530\\ub974\\uba74 \\ubc15\\ucca0\\uc644 \\uae08\\ud638\\uc11d\\ud654 \\uc0c1\\ubb34\\ub294 \\uc9c0\\ub09c \\uc77c \\uc8fc\\uc8fc\\uba85\\ubd80 \\uc5f4\\ub78c \\ubc0f \\ub4f1\\uc0ac \\uac00\\ucc98\\ubd84 \\uc2e0\\uccad\\uc744 \\uc11c\\uc6b8\\uc911\\uc559\\uc9c0\\ubc29\\ubc95\\uc6d0\\uc5d0 \\ub0c8\\ub2e4 \\uc9c0\\ub09c\\ub2ec \\ub9d0 \\ubc15\\ucc2c\\uad6c \\uae08\\ud638\\uc11d\\ud654 \\ud68c\\uc7a5 \\uce21\\uacfc \\uacf5\\ub3d9\\ubcf4\\uc720\\uad00\\uacc4 \\ud574\\uc18c \\uacf5\\uc2dc\\ub97c \\ub0b8 \\ud6c4 \\uccab \\uacf5\\uc2dd \\uc6c0\\uc9c1\\uc784\\uc774\\ub2e4 \\uadf8\\ub3d9\\uc548 \\ubc15 \\uc0c1\\ubb34 \\ud639\\uc740 \\ubc95\\ub960\\ub300\\ub9ac\\ub97c \\ub9e1\\uc740 \\ud30c\\ud2b8\\ub108\\uc2a4 \\ub4f1\\uc740 \\ubcc4\\ub3c4 \\uacf5\\uc2dd \\uc785\\uc7a5\\uc744 \\ub0b4\\uc9c0 \\uc54a\\uc544\\uc654\\ub2e4 \\uc774\\ub0a0\\uc758 \\uacf5\\uc2dc\\ub294 \\ubc15 \\uc0c1\\ubb34\\uac00 \\uc6d4 \\uc8fc\\uc8fc\\ucd1d\\ud68c\\uc5d0\\uc11c \\uc790\\uc2e0\\uc758 \\uc8fc\\uc8fc\\uc81c\\uc548\\uc744 \\uac16\\uace0 \\ud68c\\uc0ac \\uce21\\uacfc \\ud45c\\ub300\\uacb0\\ub85c \\uac00\\uaca0\\ub2e4\\ub294 \\uc218\\uc21c\\uc73c\\ub85c \\uc77d\\ud614\\ub2e4 \\uc5c5\\uacc4 \\uad00\\uacc4\\uc790\\ub294 \\uc8fc\\uc8fc\\uba85\\ubd80\\ub97c \\ubcf4\\uaca0\\ub2e4\\ub294 \\uac83\\uc740 \\uc678\\ubd80\\ub85c \\ub4dc\\ub7ec\\ub098\\uc9c0 \\uc54a\\ub294 \\uc989 \\uc9c0\\ubd84\\uc728 \\ubbf8\\ub9cc\\uc758 \\uc8fc\\uc8fc\\ub4e4 \\uc911 \\uc6b0\\ud638\\uc138\\ub825\\uc744 \\ubaa8\\uc544 \\ud45c\\ub300\\uacb0\\ub85c \\uac00\\uaca0\\ub2e4\\ub294 \\uac83\\uc774\\ub77c\\uba70 \\ud1b5\\uc0c1 \\uacbd\\uc601\\uad8c \\ubd84\\uc7c1\\uc5d0\\uc11c \\uc9c4\\ud589\\ub418\\ub294 \\uacfc\\uc815 \\uc911 \\ud558\\ub098\\ub77c\\uace0 \\uc124\\uba85\\ud588\\ub2e4 \\uc2e4\\uc81c \\uc9c0\\ub09c \\ub144 \\uc6d4\\ubd80\\ud130 \\ud55c\\uc9c4\\uacfc \\ud55c\\uc9c4\\uce7c\\uc5d0 \\ub300\\ud574 \\uacbd\\uc601\\uad8c \\ubd84\\uc7c1\\uc744 \\ubc8c\\uc600\\ub358 \\uc0ac\\ubaa8\\ud380\\ub4dc \\uc0ac\\ub840\\uac00 \\ube44\\uc2b7\\ud558\\ub2e4 \\uce21\\uc740 \\ud55c\\uc9c4\\uce7c\\uc5d0 \\ub300\\ud574 \\uc8fc\\uc8fc\\uba85\\ubd80\\uc5f4\\ub78c\\ub4f1\\uc0ac \\uac00\\ucc98\\ubd84\\uc2e0\\uccad\\uc744 \\ub0c8\\uace0 \\uc2e0\\uccad\\uc774 \\ubc1b\\uc544\\ub4e4\\uc5ec\\uc9c4 \\ub4a4 \\uc8fc\\uc8fc\\ub4e4\\uc744 \\ub300\\uc0c1\\uc73c\\ub85c \\uc2e0\\uc0c1\\uc815\\ubcf4 \\uc8fc\\uc2dd\\ubcf4\\uc720\\uae30\\uac04 \\ubcf4\\uc720\\uc8fc\\uc2dd \\ub4f1 \\uc218\\uc9d1\\uc5d0 \\ub098\\uc130\\ub2e4 \\uac00 \\ud55c\\uc9c4\\uce7c\\uc5d0 \\ub300\\ud574 \\uc9c0\\ubc30\\uad6c\\uc870\\uac1c\\uc120 \\uae30\\uc5c5\\uac00\\uce58\\uc81c\\uace0 \\ub4f1\\uc744 \\ubaa9\\uc801\\uc73c\\ub85c \\ub0b4\\uc138\\uc6cc \\uac10\\uc0ac \\ubc0f \\uc0ac\\uc678\\uc774\\uc0ac \\uc120\\uc784 \\ub4f1\\uc744 \\uc81c\\uc548\\ud55c \\ud6c4\\uc600\\ub2e4 \\ud55c\\uc9c4\\ub3c4 \\ub144 \\uc6d4 \\ud55c\\uc9c4\\uadf8\\ub8f9 \\uc911\\uc7a5\\uae30 \\ube44\\uc804 \\ubc0f \\ud55c\\uc9c4\\uce7c \\uacbd\\uc601\\ubc1c\\uc804 \\ubc29\\uc548\\uc744 \\ubc1c\\ud45c\\ud574 \\uc8fc\\uc8fc\\ub4e4\\uc5d0 \\uc7a5\\uae30 \\ube44\\uc804\\uc744 \\uc81c\\uc2dc\\ud574 \\ud45c\\uc2ec \\uc7a1\\uae30\\uc5d0 \\ub098\\uc130\\ub2e4 \\uac00 \\uc8fc\\uc8fc\\uc81c\\uc548\\ud560 \\uc218 \\uc788\\ub294 \\uc790\\uaca9\\uc774 \\uc788\\ub294\\uc9c0 \\uc5ec\\ubd80\\ub97c \\ub450\\uace0\\ub3c4 \\ud68c\\uc0ac\\uc640 \\uc18c\\uc1a1\\uc804\\uc774 \\ubc8c\\uc5b4\\uc84c\\ub294\\ub370 \\ubc95\\uc6d0\\uc774 \\uc885\\uad6d\\uc5d0 \\ud55c\\uc9c4\\uce7c\\uc758 \\uc190\\uc744 \\ub4e4\\uc5b4\\uc92c\\ub2e4 \\uacb0\\uad6d \\uc6d4 \\uc8fc\\ucd1d\\uc5d0\\uc11c \\uc0ac\\uce21\\uacfc \\uce21\\uc774 \\ud45c\\ub300\\uacb0\\uc744 \\ubc8c\\uc600\\uc9c0\\ub9cc \\uac00 \\ubc18\\ub300\\ud588\\ub358 \\ud68c\\uc0ac \\uce21 \\uc548\\uac74\\uc774 \\ubaa8\\ub450 \\ud1b5\\uacfc\\ub418\\uba74\\uc11c \\uacb0\\ub860\\uc740 \\ud68c\\uc0ac\\uce21 \\uc2b9\\ub9ac\\ub85c \\ub3cc\\uc544\\uac14\\ub2e4 \\uacbd\\uc601\\uad8c \\ubc29\\uc5b4 \\uc704\\ud55c \\ud68c\\uc0ac \\uce21 \\uc804\\ub7b5\\uc740\\ubc15\\ucc2c\\uad6c \\ud68c\\uc7a5 \\uc6b0\\uad70 \\ud655\\ubcf4\\uc5d0 \\ub178\\ub825\\ubc15 \\uc0c1\\ubb34 \\uce21\\uc774 \\uacf5\\uaca9\\uc758 \\uc218\\uc704\\ub97c \\uc810\\ucc28 \\ub192\\uc774\\uace0 \\uc788\\ub294 \\uac00\\uc6b4\\ub370 \\uad00\\uc2ec\\uc774 \\uc3e0\\ub9ac\\ub294 \\uac83\\uc740 \\uae08\\ud638\\uc11d\\ud654\\uc758 \\uacbd\\uc601\\uad8c \\ubc29\\uc5b4 \\uc804\\ub7b5\\uc774\\ub2e4 \\ubc15\\ucc2c\\uad6c \\uae08\\ud638\\uc11d\\ud654 \\ud68c\\uc7a5\\uc740 \\uc77c \\uba38\\ub2c8\\ud22c\\ub370\\uc774\\uc640 \\ub9cc\\ub098 \\ud604\\uc7ac \\uc6b0\\uad70 \\ud655\\ubcf4\\ub97c \\uc704\\ud574 \\ub178\\ub825\\ud558\\uace0 \\uc788\\ub2e4\\uace0 \\ub9d0\\ud588\\ub2e4 \\ud68c\\uc0ac\\uac00 \\uc6d4 \\uc8fc\\ucd1d \\ud45c\\ub300\\uacb0\\uc774 \\ubc8c\\uc5b4\\uc9c8 \\uc0c1\\ud669\\uc5d0 \\ub300\\ube44\\ud574 \\uacbd\\uc601\\uad8c \\uc548\\uc815\\uc744 \\uc704\\ud55c \\uc870\\uce58\\ub97c \\uac15\\uad6c\\ud558\\uace0 \\uc788\\uc74c\\uc73c\\ub85c \\ud480\\uc774\\ub410\\ub2e4 \\ubc15 \\ud68c\\uc7a5\\uc740 \\ub2e4\\ub9cc \\uc5b4\\ub5a4 \\uc758\\ubbf8\\uc758 \\uc6b0\\uad70\\uc778\\uc9c0\\uc5d0 \\ub300\\ud574\\uc11c\\ub294 \\uba85\\ud655\\ud788 \\ubc1d\\ud788\\uc9c0 \\uc54a\\uc558\\ub2e4 \\uc55e\\uc11c \\ud68c\\uc0ac \\uce21\\uc740 \\ubc15 \\uc0c1\\ubb34\\uc758 \\uc8fc\\uc8fc\\uc81c\\uc548\\uc5d0 \\ub300\\ud574 \\ubc15 \\uc0c1\\ubb34\\uac00 \\uc77c\\ubc18\\uc8fc\\uc8fc\\ub85c\\uc11c \\uc8fc\\uc8fc\\uc81c\\uc548\\uc744 \\ud1b5\\ud574 \\uc774\\uc0ac\\uc120\\uc784 \\ub4f1 \\uacbd\\uc601\\uc9c4 \\ubcc0\\uacbd\\uacfc \\uacfc\\ub2e4\\ubc30\\ub2f9\\uc744 \\uc694\\uccad\\ud568\\uc5d0 \\ub530\\ub77c \\ud68c\\uc0ac\\uc640 \\ud604 \\uacbd\\uc601\\uc9c4 \\uc785\\uc7a5\\uc5d0\\uc11c\\ub294 \\ud574\\ub2f9\\ub0b4\\uc6a9\\uc744 \\uad6c\\uccb4\\uc801\\uc73c\\ub85c \\uac80\\ud1a0\\ud558\\uba74\\uc11c \\uc2e0\\uc911\\ud558\\uac8c \\ub300\\ucc98\\ud558\\uace0\\uc790 \\ud55c\\ub2e4\\uba70 \\ud68c\\uc0ac\\ub294 \\uacbd\\uc601\\uc548\\uc815\\uc131\\uacfc \\uae30\\uc5c5 \\ubc0f \\uc8fc\\uc8fc\\uac00\\uce58 \\ubcf4\\ud638\\ub97c \\uc704\\ud574 \\ud544\\uc694\\ud55c \\ubaa8\\ub4e0 \\uc870\\uce58\\ub97c \\ub2e4\\ud560 \\uac83\\uc774\\ub77c\\uace0 \\ubc1d\\ud614\\uc5c8\\ub2e4 \\ub610 \\uc8fc\\uc8fc\\uba85\\ubd80 \\uc5f4\\ub78c \\uc2e0\\uccad\\uc5d0 \\ub300\\ud574\\uc11c\\ub3c4 \\ubc95\\uc801 \\uc808\\ucc28\\uc5d0 \\ub300\\uc751\\ud560 \\uc608\\uc815\\uc774\\ub77c\\uba70 \\uad6c\\uccb4\\uc801 \\uc5b8\\uae09\\uc740 \\uc544\\uaf08\\ub2e4 \\ubc15 \\uc0c1\\ubb34\\ub294 \\ubcf8\\uc778\\uc758 \\uc0ac\\ub0b4\\uc774\\uc0ac \\ucd94\\ucc9c \\uc0ac\\uc678\\uc774\\uc0ac\\uac10\\uc0ac \\ucd94\\ucc9c \\ubc30\\ub2f9\\ud655\\ub300 \\ub4f1 \\ub0b4\\uc6a9\\uc774 \\ub2f4\\uae34 \\uc8fc\\uc8fc\\uc81c\\uc548\\uc744 \\uc804\\ub2ec\\ud55c \\uac83\\uc73c\\ub85c \\uc54c\\ub824\\uc84c\\ub2e4 \\ubc15 \\uc0c1\\ubb34\\ub294 \\ud604\\uc7ac \\ud68c\\uc0ac \\uc9c0\\ubd84 \\ub97c \\ub4e4\\uace0 \\uc788\\ub294 \\ucd5c\\ub300\\uc8fc\\uc8fc\\ub2e4 \\ub610 \\uc9c0\\ub09c\\ud574 \\ubd84\\uae30 \\ub9d0 \\ubd84\\uae30\\ubcf4\\uace0\\uc11c \\uae30\\uc900 \\ubc15 \\ud68c\\uc7a5\\uc758 \\ud68c\\uc0ac \\uc9c0\\ubd84\\uc728\\uc740 \\ubc15 \\ud68c\\uc7a5\\uc758 \\uc790\\ub140\\ub4e4\\uc778 \\ubc15\\uc900\\uacbd \\uc804\\ubb34 \\ubc15\\uc8fc\\ud615 \\uc0c1\\ubb34 \\ub2e4 \\uc138 \\uc0ac\\ub78c\\uc758 \\uc9c0\\ubd84\\uc728\\ub9cc \\ub193\\uace0 \\ubcf4\\uba74 \\ub85c \\ubc15\\ucca0\\uc644 \\uc0c1\\ubb34\\ubcf4\\ub2e4 \\ud3ec\\uc778\\ud2b8 \\ub192\\ub2e4\\ubb38\\uc81c\\ub294 \\uad6d\\ubbfc\\uc5f0\\uae08\\uc774 \\ub4e4\\uace0 \\uc788\\ub294 \\uc62c\\ud574 \\uc6d4 \\uacf5\\uc2dc \\uae30\\uc900 \\uc758 \\uc9c0\\ubd84\\uc774\\ub2e4 \\ubc15 \\ud68c\\uc7a5 \\uce21\\uc774 \\uc9c0\\ubd84\\uc728\\uc5d0\\uc11c \\uc6b0\\uc704\\uc5d0 \\uc788\\uc9c0\\ub9cc \\uad6d\\ubbfc\\uc5f0\\uae08\\uc774\\ub098 \\uc18c\\uc561\\uc8fc\\uc8fc\\uc758 \\ud45c\\uc2ec \\ud5a5\\ubc29\\uc740 \\uc54c \\uc218 \\uc5c6\\ub2e4 \\uc774\\ub7f0 \\uc0c1\\ud669\\uc5d0\\uc11c \\uae08\\uc735\\ud22c\\uc790\\uc5c5\\uacc4\\uc5d0\\uc11c\\ub294 \\uae08\\ud638\\uc11d\\ud654\\uac00 \\ubcf4\\uc720\\ud55c \\uc758 \\uc790\\uc0ac\\uc8fc\\ub97c \\ubc31\\uae30\\uc0ac\\uc5d0 \\ub118\\uaca8 \\ud65c\\uc6a9\\uce58 \\uc54a\\uaca0\\ub0d0\\ub294 \\uc804\\ub9dd\\ub3c4 \\ub098\\uc654\\ub2e4 \\ub2e8 \\uae08\\ud638\\uc11d\\ud654 \\uc815\\uad00\\uc0c1 \\uc62c\\ud574 \\uc6d4 \\uc815\\uae30\\uc8fc\\ucd1d\\uc5d0 \\ub300\\ud574\\uc11c\\ub294 \\uc774\\ubbf8 \\uc9c0\\ub09c\\ud574 \\uc6d4 \\ub9d0 \\uc8fc\\uc8fc\\uba85\\ubd80\\uac00 \\ud3d0\\uc1c4\\ub410\\uae30 \\ub54c\\ubb38\\uc5d0 \\uc758\\uacb0\\uad8c\\uc744 \\ud314\\ub354\\ub77c\\ub3c4 \\uc6d4 \\uc8fc\\ucd1d\\uc5d0\\uc11c\\ub294 \\ud65c\\uc6a9\\uc774 \\ubd88\\uac00\\ub2a5\\ud558\\ub2e4 \\ubc18\\uba74 \\ud68c\\uc0ac\\uac00 \\uc790\\uc0ac\\uc8fc\\ub97c \\ud65c\\uc6a9\\uce58 \\uc54a\\uace0\\ub3c4 \\ud45c\\ub300\\uacb0\\uc5d0\\uc11c \\uc6b0\\uc704\\ub97c \\uc810\\ud560 \\uc218 \\uc788\\ub2e4\\ub294 \\ubc18\\ub860\\ub3c4 \\ub9de\\uc120\\ub2e4 \\uc790\\uc0ac\\uc8fc\\ub294 \\ubd84\\uc7c1\\uc758 \\ub9c8\\uc9c0\\ub9c9 \\uce74\\ub4dc\\ub780 \\uc124\\uba85\\uc774\\ub2e4 \\ud55c\\ud3b8 \\uae08\\ud638\\uc11d\\ud654\\uc758 \\uc8fc\\uc8fc\\ucd1d\\ud68c\\ub294 \\uc608\\ub144\\ucc98\\ub7fc \\uc6d4 \\uc911 \\uc2e4\\uc2dc\\ub420 \\uac83\\uc73c\\ub85c \\ubcf4\\uc778\\ub2e4 \\ub610\\ud55c \\ub2e4\\uc74c\\ub2ec \\ucd08 \\uc8fc\\ucd1d \\uc18c\\uc9d1\\uacf5\\uace0\\ub97c \\uc704\\ud55c \\uc774\\uc0ac\\ud68c\\uac00 \\uc608\\uc815\\ub410\\ub2e4 \\uae40\\uc131\\uc740 \\uae30\\uc790\"\n        ],\n        \"semantic_type\": \"\",\n        \"description\": \"\"\n      }\n    },\n    {\n      \"column\": \"label\",\n      \"properties\": {\n        \"dtype\": \"number\",\n        \"std\": null,\n        \"min\": 0,\n        \"max\": 0,\n        \"num_unique_values\": 1,\n        \"samples\": [\n          0\n        ],\n        \"semantic_type\": \"\",\n        \"description\": \"\"\n      }\n    }\n  ]\n}",
       "type": "dataframe"
      },
      "text/html": [
       "\n",
       "  <div id=\"df-f53a3977-145e-414f-91bf-7b6e26c41d19\" class=\"colab-df-container\">\n",
       "    <div>\n",
       "<style scoped>\n",
       "    .dataframe tbody tr th:only-of-type {\n",
       "        vertical-align: middle;\n",
       "    }\n",
       "\n",
       "    .dataframe tbody tr th {\n",
       "        vertical-align: top;\n",
       "    }\n",
       "\n",
       "    .dataframe thead th {\n",
       "        text-align: right;\n",
       "    }\n",
       "</style>\n",
       "<table border=\"1\" class=\"dataframe\">\n",
       "  <thead>\n",
       "    <tr style=\"text-align: right;\">\n",
       "      <th></th>\n",
       "      <th>text</th>\n",
       "      <th>label</th>\n",
       "    </tr>\n",
       "  </thead>\n",
       "  <tbody>\n",
       "    <tr>\n",
       "      <th>954</th>\n",
       "      <td>한진 때와 판박이불 붙는 금호석화 표대결 머니투데이 김성은 기자 월 주주총회를 앞두...</td>\n",
       "      <td>0</td>\n",
       "    </tr>\n",
       "  </tbody>\n",
       "</table>\n",
       "</div>\n",
       "    <div class=\"colab-df-buttons\">\n",
       "\n",
       "  <div class=\"colab-df-container\">\n",
       "    <button class=\"colab-df-convert\" onclick=\"convertToInteractive('df-f53a3977-145e-414f-91bf-7b6e26c41d19')\"\n",
       "            title=\"Convert this dataframe to an interactive table.\"\n",
       "            style=\"display:none;\">\n",
       "\n",
       "  <svg xmlns=\"http://www.w3.org/2000/svg\" height=\"24px\" viewBox=\"0 -960 960 960\">\n",
       "    <path d=\"M120-120v-720h720v720H120Zm60-500h600v-160H180v160Zm220 220h160v-160H400v160Zm0 220h160v-160H400v160ZM180-400h160v-160H180v160Zm440 0h160v-160H620v160ZM180-180h160v-160H180v160Zm440 0h160v-160H620v160Z\"/>\n",
       "  </svg>\n",
       "    </button>\n",
       "\n",
       "  <style>\n",
       "    .colab-df-container {\n",
       "      display:flex;\n",
       "      gap: 12px;\n",
       "    }\n",
       "\n",
       "    .colab-df-convert {\n",
       "      background-color: #E8F0FE;\n",
       "      border: none;\n",
       "      border-radius: 50%;\n",
       "      cursor: pointer;\n",
       "      display: none;\n",
       "      fill: #1967D2;\n",
       "      height: 32px;\n",
       "      padding: 0 0 0 0;\n",
       "      width: 32px;\n",
       "    }\n",
       "\n",
       "    .colab-df-convert:hover {\n",
       "      background-color: #E2EBFA;\n",
       "      box-shadow: 0px 1px 2px rgba(60, 64, 67, 0.3), 0px 1px 3px 1px rgba(60, 64, 67, 0.15);\n",
       "      fill: #174EA6;\n",
       "    }\n",
       "\n",
       "    .colab-df-buttons div {\n",
       "      margin-bottom: 4px;\n",
       "    }\n",
       "\n",
       "    [theme=dark] .colab-df-convert {\n",
       "      background-color: #3B4455;\n",
       "      fill: #D2E3FC;\n",
       "    }\n",
       "\n",
       "    [theme=dark] .colab-df-convert:hover {\n",
       "      background-color: #434B5C;\n",
       "      box-shadow: 0px 1px 3px 1px rgba(0, 0, 0, 0.15);\n",
       "      filter: drop-shadow(0px 1px 2px rgba(0, 0, 0, 0.3));\n",
       "      fill: #FFFFFF;\n",
       "    }\n",
       "  </style>\n",
       "\n",
       "    <script>\n",
       "      const buttonEl =\n",
       "        document.querySelector('#df-f53a3977-145e-414f-91bf-7b6e26c41d19 button.colab-df-convert');\n",
       "      buttonEl.style.display =\n",
       "        google.colab.kernel.accessAllowed ? 'block' : 'none';\n",
       "\n",
       "      async function convertToInteractive(key) {\n",
       "        const element = document.querySelector('#df-f53a3977-145e-414f-91bf-7b6e26c41d19');\n",
       "        const dataTable =\n",
       "          await google.colab.kernel.invokeFunction('convertToInteractive',\n",
       "                                                    [key], {});\n",
       "        if (!dataTable) return;\n",
       "\n",
       "        const docLinkHtml = 'Like what you see? Visit the ' +\n",
       "          '<a target=\"_blank\" href=https://colab.research.google.com/notebooks/data_table.ipynb>data table notebook</a>'\n",
       "          + ' to learn more about interactive tables.';\n",
       "        element.innerHTML = '';\n",
       "        dataTable['output_type'] = 'display_data';\n",
       "        await google.colab.output.renderOutput(dataTable, element);\n",
       "        const docLink = document.createElement('div');\n",
       "        docLink.innerHTML = docLinkHtml;\n",
       "        element.appendChild(docLink);\n",
       "      }\n",
       "    </script>\n",
       "  </div>\n",
       "\n",
       "\n",
       "    </div>\n",
       "  </div>\n"
      ],
      "text/plain": [
       "                                                  text  label\n",
       "954  한진 때와 판박이불 붙는 금호석화 표대결 머니투데이 김성은 기자 월 주주총회를 앞두...      0"
      ]
     },
     "execution_count": 6,
     "metadata": {},
     "output_type": "execute_result"
    }
   ],
   "source": [
    "import pandas as pd\n",
    "import os\n",
    "\n",
    "# Path setting\n",
    "directory_path = '/content/drive/MyDrive/Kwargs/esg관련도/test'\n",
    "\n",
    "Initialize the data frame to label to # 0\n",
    "selected_data = pd.DataFrame()\n",
    "\n",
    "# Process all CSV files\n",
    "for filename in os.listdir(directory_path):\n",
    "    if filename.endswith('.csv'):\n",
    "        file_path = os.path.join(directory_path, filename)\n",
    "        df = pd.read_csv(file_path)\n",
    "\n",
    "# Select data that meets specific conditions\n",
    "        filtered_df = df[(df['sentiment_score'] >= -0.4) & (df['sentiment_score'] <= 0.4)]\n",
    "\n",
    "\n",
    "\n",
    "# Set to Label 0\n",
    "        filtered_df['label'] = 0\n",
    "\n",
    "# Leave only the required columns, and change the name to text to text\n",
    "        filtered_df = filtered_df[['full_text', 'label']].rename(columns={'full_text': 'text'})\n",
    "\n",
    "# Add to selected data frame\n",
    "        selected_data = pd.concat([selected_data, filtered_df], ignore_index=True)\n",
    "\n",
    "\n",
    "selected_data.sample()\n"
   ]
  },
  {
   "cell_type": "markdown",
   "metadata": {
    "id": "v0z_rMqsEcoQ"
   },
   "source": [
    "### Extraction of irrelevant data"
   ]
  },
  {
   "cell_type": "code",
   "execution_count": null,
   "metadata": {
    "colab": {
     "base_uri": "https://localhost:8080/",
     "height": 1000
    },
    "executionInfo": {
     "elapsed": 51115,
     "status": "error",
     "timestamp": 1719555077290,
     "user": {
      "displayName": "백현지",
      "userId": "02510457579208942463"
     },
     "user_tz": -540
    },
    "id": "yzeUI-fYsslr",
    "outputId": "bb48e7b6-fe1d-4181-ab55-c26c35db7ece"
   },
   "outputs": [
    {
     "name": "stderr",
     "output_type": "stream",
     "text": [
      "\n",
      "Processing files:   0%|          | 0/12600 [00:00<?, ?it/s]\u001b[A\n",
      "Processing files:   0%|          | 63/12600 [01:43<5:43:14,  1.64s/it]\n",
      "\n",
      "Processing files:   0%|          | 50/12600 [00:00<01:03, 197.44it/s]\u001b[A\n",
      "Processing files:   1%|          | 71/12600 [00:03<15:25, 13.54it/s] \u001b[A\n",
      "Processing files:   1%|          | 83/12600 [00:10<39:30,  5.28it/s]\u001b[A\n",
      "Processing files:   1%|          | 90/12600 [00:13<51:12,  4.07it/s]\u001b[A\n",
      "Processing files:   1%|          | 95/12600 [00:16<1:00:57,  3.42it/s]\u001b[A\n",
      "Processing files:   1%|          | 99/12600 [00:18<1:07:20,  3.09it/s]\u001b[A\n",
      "Processing files:   1%|          | 102/12600 [00:20<1:12:16,  2.88it/s]\u001b[A\n",
      "Processing files:   1%|          | 104/12600 [00:21<1:18:44,  2.64it/s]\u001b[A\n",
      "Processing files:   1%|          | 106/12600 [00:22<1:22:42,  2.52it/s]\u001b[A\n",
      "Processing files:   1%|          | 107/12600 [00:22<1:24:27,  2.47it/s]\u001b[A\n",
      "Processing files:   1%|          | 108/12600 [00:23<1:26:35,  2.40it/s]\u001b[A\n",
      "Processing files:   1%|          | 109/12600 [00:23<1:33:37,  2.22it/s]\u001b[A\n",
      "Processing files:   1%|          | 110/12600 [00:24<1:40:37,  2.07it/s]\u001b[A\n",
      "Processing files:   1%|          | 111/12600 [00:25<1:42:23,  2.03it/s]\u001b[A\n",
      "Processing files:   1%|          | 112/12600 [00:25<1:42:08,  2.04it/s]\u001b[A\n",
      "Processing files:   1%|          | 113/12600 [00:26<1:38:52,  2.10it/s]\u001b[A\n",
      "Processing files:   1%|          | 114/12600 [00:26<1:40:49,  2.06it/s]\u001b[A\n",
      "Processing files:   1%|          | 115/12600 [00:27<1:52:11,  1.85it/s]\u001b[A\n",
      "Processing files:   1%|          | 116/12600 [00:27<1:50:50,  1.88it/s]\u001b[A\n",
      "Processing files:   1%|          | 117/12600 [00:28<1:48:01,  1.93it/s]\u001b[A\n",
      "Processing files:   1%|          | 118/12600 [00:28<1:47:41,  1.93it/s]\u001b[A\n",
      "Processing files:   1%|          | 119/12600 [00:29<1:51:34,  1.86it/s]\u001b[A\n",
      "Processing files:   1%|          | 120/12600 [00:29<1:53:02,  1.84it/s]\u001b[A\n",
      "Processing files:   1%|          | 121/12600 [00:30<1:49:28,  1.90it/s]\u001b[A\n",
      "Processing files:   1%|          | 122/12600 [00:30<1:47:31,  1.93it/s]\u001b[A\n",
      "Processing files:   1%|          | 123/12600 [00:31<1:44:21,  1.99it/s]\u001b[A\n",
      "Processing files:   1%|          | 124/12600 [00:31<1:39:17,  2.09it/s]\u001b[A\n",
      "Processing files:   1%|          | 125/12600 [00:32<1:35:02,  2.19it/s]\u001b[A\n",
      "Processing files:   1%|          | 126/12600 [00:32<1:48:16,  1.92it/s]\u001b[A\n",
      "Processing files:   1%|          | 127/12600 [00:33<1:43:24,  2.01it/s]\u001b[A\n",
      "Processing files:   1%|          | 128/12600 [00:33<1:43:30,  2.01it/s]\u001b[A\n",
      "Processing files:   1%|          | 129/12600 [00:34<1:52:48,  1.84it/s]\u001b[A\n",
      "Processing files:   1%|          | 130/12600 [00:35<1:53:09,  1.84it/s]\u001b[A\n",
      "Processing files:   1%|          | 131/12600 [00:35<2:00:03,  1.73it/s]\u001b[A\n",
      "Processing files:   1%|          | 132/12600 [00:36<1:53:49,  1.83it/s]\u001b[A\n",
      "Processing files:   1%|          | 133/12600 [00:36<1:52:56,  1.84it/s]\u001b[A\n",
      "Processing files:   1%|          | 134/12600 [00:37<1:49:46,  1.89it/s]\u001b[A\n",
      "Processing files:   1%|          | 135/12600 [00:37<1:48:32,  1.91it/s]\u001b[A\n",
      "Processing files:   1%|          | 136/12600 [00:38<1:48:24,  1.92it/s]\u001b[A\n",
      "Processing files:   1%|          | 137/12600 [00:38<1:47:41,  1.93it/s]\u001b[A\n",
      "Processing files:   1%|          | 138/12600 [00:39<1:47:40,  1.93it/s]\u001b[A\n",
      "Processing files:   1%|          | 139/12600 [00:39<1:56:43,  1.78it/s]\u001b[A\n",
      "Processing files:   1%|          | 140/12600 [00:40<1:46:32,  1.95it/s]\u001b[A\n",
      "Processing files:   1%|          | 141/12600 [00:40<1:54:03,  1.82it/s]\u001b[A\n",
      "Processing files:   1%|          | 142/12600 [00:41<1:49:24,  1.90it/s]\u001b[A\n",
      "Processing files:   1%|          | 143/12600 [00:41<1:49:55,  1.89it/s]\u001b[A\n",
      "Processing files:   1%|          | 144/12600 [00:42<1:41:05,  2.05it/s]\u001b[A\n",
      "Processing files:   1%|          | 145/12600 [00:42<1:40:54,  2.06it/s]\u001b[A\n",
      "Processing files:   1%|          | 146/12600 [00:43<1:43:52,  2.00it/s]\u001b[A\n",
      "Processing files:   1%|          | 147/12600 [00:43<1:46:01,  1.96it/s]\u001b[A\n",
      "Processing files:   1%|          | 148/12600 [00:44<1:46:58,  1.94it/s]\u001b[A\n",
      "Processing files:   1%|          | 149/12600 [00:44<1:42:52,  2.02it/s]\u001b[A\n",
      "Processing files:   1%|          | 150/12600 [00:45<1:47:36,  1.93it/s]\u001b[A\n",
      "Processing files:   1%|          | 151/12600 [00:45<1:45:25,  1.97it/s]\u001b[A\n",
      "Processing files:   1%|          | 152/12600 [00:46<1:35:57,  2.16it/s]\u001b[A\n",
      "Processing files:   1%|          | 153/12600 [00:46<1:38:10,  2.11it/s]\u001b[A\n",
      "Processing files:   1%|          | 154/12600 [00:47<1:41:27,  2.04it/s]\u001b[A\n",
      "Processing files:   1%|          | 155/12600 [00:47<1:46:15,  1.95it/s]\u001b[A\n",
      "Processing files:   1%|          | 156/12600 [00:48<1:56:07,  1.79it/s]\u001b[A\n",
      "Processing files:   1%|          | 157/12600 [00:49<2:00:19,  1.72it/s]\u001b[A\n",
      "Processing files:   1%|▏         | 158/12600 [00:49<1:55:10,  1.80it/s]\u001b[A\n",
      "Processing files:   1%|▏         | 159/12600 [00:50<1:51:56,  1.85it/s]\u001b[A"
     ]
    },
    {
     "ename": "KeyboardInterrupt",
     "evalue": "",
     "output_type": "error",
     "traceback": [
      "\u001b[0;31m---------------------------------------------------------------------------\u001b[0m",
      "\u001b[0;31mKeyboardInterrupt\u001b[0m                         Traceback (most recent call last)",
      "\u001b[0;32m<ipython-input-6-5acf29996313>\u001b[0m in \u001b[0;36m<cell line: 26>\u001b[0;34m()\u001b[0m\n\u001b[1;32m     36\u001b[0m         \u001b[0;32mtry\u001b[0m\u001b[0;34m:\u001b[0m\u001b[0;34m\u001b[0m\u001b[0;34m\u001b[0m\u001b[0m\n\u001b[1;32m     37\u001b[0m             \u001b[0;32mwith\u001b[0m \u001b[0mopen\u001b[0m\u001b[0;34m(\u001b[0m\u001b[0mfile_path\u001b[0m\u001b[0;34m,\u001b[0m \u001b[0;34m'r'\u001b[0m\u001b[0;34m,\u001b[0m \u001b[0mencoding\u001b[0m\u001b[0;34m=\u001b[0m\u001b[0;34m'utf-8'\u001b[0m\u001b[0;34m)\u001b[0m \u001b[0;32mas\u001b[0m \u001b[0mfile\u001b[0m\u001b[0;34m:\u001b[0m\u001b[0;34m\u001b[0m\u001b[0;34m\u001b[0m\u001b[0m\n\u001b[0;32m---> 38\u001b[0;31m                 \u001b[0mcontent\u001b[0m \u001b[0;34m=\u001b[0m \u001b[0mjson\u001b[0m\u001b[0;34m.\u001b[0m\u001b[0mload\u001b[0m\u001b[0;34m(\u001b[0m\u001b[0mfile\u001b[0m\u001b[0;34m)\u001b[0m\u001b[0;34m\u001b[0m\u001b[0;34m\u001b[0m\u001b[0m\n\u001b[0m\u001b[1;32m     39\u001b[0m                 \u001b[0;32mif\u001b[0m \u001b[0;34m'info'\u001b[0m \u001b[0;32min\u001b[0m \u001b[0mcontent\u001b[0m\u001b[0;34m:\u001b[0m\u001b[0;34m\u001b[0m\u001b[0;34m\u001b[0m\u001b[0m\n\u001b[1;32m     40\u001b[0m                     \u001b[0;32mfor\u001b[0m \u001b[0mitem\u001b[0m \u001b[0;32min\u001b[0m \u001b[0mcontent\u001b[0m\u001b[0;34m[\u001b[0m\u001b[0;34m'info'\u001b[0m\u001b[0;34m]\u001b[0m\u001b[0;34m:\u001b[0m\u001b[0;34m\u001b[0m\u001b[0;34m\u001b[0m\u001b[0m\n",
      "\u001b[0;32m/usr/lib/python3.10/json/__init__.py\u001b[0m in \u001b[0;36mload\u001b[0;34m(fp, cls, object_hook, parse_float, parse_int, parse_constant, object_pairs_hook, **kw)\u001b[0m\n\u001b[1;32m    291\u001b[0m     \u001b[0mkwarg\u001b[0m\u001b[0;34m;\u001b[0m \u001b[0motherwise\u001b[0m\u001b[0;31m \u001b[0m\u001b[0;31m`\u001b[0m\u001b[0;31m`\u001b[0m\u001b[0mJSONDecoder\u001b[0m\u001b[0;31m`\u001b[0m\u001b[0;31m`\u001b[0m \u001b[0;32mis\u001b[0m \u001b[0mused\u001b[0m\u001b[0;34m.\u001b[0m\u001b[0;34m\u001b[0m\u001b[0;34m\u001b[0m\u001b[0m\n\u001b[1;32m    292\u001b[0m     \"\"\"\n\u001b[0;32m--> 293\u001b[0;31m     return loads(fp.read(),\n\u001b[0m\u001b[1;32m    294\u001b[0m         \u001b[0mcls\u001b[0m\u001b[0;34m=\u001b[0m\u001b[0mcls\u001b[0m\u001b[0;34m,\u001b[0m \u001b[0mobject_hook\u001b[0m\u001b[0;34m=\u001b[0m\u001b[0mobject_hook\u001b[0m\u001b[0;34m,\u001b[0m\u001b[0;34m\u001b[0m\u001b[0;34m\u001b[0m\u001b[0m\n\u001b[1;32m    295\u001b[0m         \u001b[0mparse_float\u001b[0m\u001b[0;34m=\u001b[0m\u001b[0mparse_float\u001b[0m\u001b[0;34m,\u001b[0m \u001b[0mparse_int\u001b[0m\u001b[0;34m=\u001b[0m\u001b[0mparse_int\u001b[0m\u001b[0;34m,\u001b[0m\u001b[0;34m\u001b[0m\u001b[0;34m\u001b[0m\u001b[0m\n",
      "\u001b[0;32m/usr/lib/python3.10/codecs.py\u001b[0m in \u001b[0;36mdecode\u001b[0;34m(self, input, final)\u001b[0m\n\u001b[1;32m    317\u001b[0m         \u001b[0;32mraise\u001b[0m \u001b[0mNotImplementedError\u001b[0m\u001b[0;34m\u001b[0m\u001b[0;34m\u001b[0m\u001b[0m\n\u001b[1;32m    318\u001b[0m \u001b[0;34m\u001b[0m\u001b[0m\n\u001b[0;32m--> 319\u001b[0;31m     \u001b[0;32mdef\u001b[0m \u001b[0mdecode\u001b[0m\u001b[0;34m(\u001b[0m\u001b[0mself\u001b[0m\u001b[0;34m,\u001b[0m \u001b[0minput\u001b[0m\u001b[0;34m,\u001b[0m \u001b[0mfinal\u001b[0m\u001b[0;34m=\u001b[0m\u001b[0;32mFalse\u001b[0m\u001b[0;34m)\u001b[0m\u001b[0;34m:\u001b[0m\u001b[0;34m\u001b[0m\u001b[0;34m\u001b[0m\u001b[0m\n\u001b[0m\u001b[1;32m    320\u001b[0m         \u001b[0;31m# decode input (taking the buffer into account)\u001b[0m\u001b[0;34m\u001b[0m\u001b[0;34m\u001b[0m\u001b[0m\n\u001b[1;32m    321\u001b[0m         \u001b[0mdata\u001b[0m \u001b[0;34m=\u001b[0m \u001b[0mself\u001b[0m\u001b[0;34m.\u001b[0m\u001b[0mbuffer\u001b[0m \u001b[0;34m+\u001b[0m \u001b[0minput\u001b[0m\u001b[0;34m\u001b[0m\u001b[0;34m\u001b[0m\u001b[0m\n",
      "\u001b[0;31mKeyboardInterrupt\u001b[0m: "
     ]
    }
   ],
   "source": [
    "import os\n",
    "import json\n",
    "import pandas as pd\n",
    "from tqdm import tqdm\n",
    "\n",
    "# List of file path and file name\n",
    "base_path = '/content/drive/MyDrive/Kwargs/무관데이터/kakao_1'  # Colab에서는 '/content/'를 사용. 필요 시 수정\n",
    "save_path =  '/content/drive/MyDrive/Kwargs/무관데이터'\n",
    "file_prefix = 'KAKAO_'\n",
    "file_suffix = '.json'\n",
    "\n",
    "# List for storing data\n",
    "data = []\n",
    "\n",
    "# Setting file range\n",
    "prefix_range_start = 899\n",
    "prefix_range_end = 1798\n",
    "suffix_range_start = 1\n",
    "suffix_range_end = 14\n",
    "\n",
    "# Display progress using TQDM\n",
    "total_files = (prefix_range_end - prefix_range_start + 1) * (suffix_range_end - suffix_range_start + 1)\n",
    "progress_bar = tqdm(total=total_files, desc=\"Processing files\")\n",
    "\n",
    "# Data extraction by traveling each file\n",
    "for prefix in range(prefix_range_start, prefix_range_end + 1):\n",
    "    for suffix in range(suffix_range_start, suffix_range_end + 1):\n",
    "        file_name = f\"{file_prefix}{prefix}_{str(suffix).zfill(2)}{file_suffix}\"\n",
    "        file_path = os.path.join(base_path, file_name)\n",
    "\n",
    "        if not os.path.exists(file_path):\n",
    "            print(f\"파일을 찾을 수 없습니다: {file_path}\")\n",
    "            progress_bar.update(1)\n",
    "            continue\n",
    "\n",
    "        try:\n",
    "            with open(file_path, 'r', encoding='utf-8') as file:\n",
    "                content = json.load(file)\n",
    "                if 'info' in content:\n",
    "                    for item in content['info']:\n",
    "                        norm_texts = [line['norm_text'] for line in item['annotations']['lines']]\n",
    "                        combined_text = ' '.join(norm_texts)\n",
    "                        data.append({'filename': file_name, 'norm_text': combined_text})\n",
    "        except json.JSONDecodeError:\n",
    "            print(f\"JSONDecodeError: 파일을 읽는 중 오류가 발생했습니다: {file_path}\")\n",
    "        except Exception as e:\n",
    "            print(f\"예상치 못한 오류가 발생했습니다: {file_path}, 오류: {str(e)}\")\n",
    "\n",
    "# Update progress\n",
    "        progress_bar.update(1)\n",
    "\n",
    "#Data frame creation\n",
    "df = pd.DataFrame(data)\n",
    "\n",
    "#Save as CSV\n",
    "output_file = os.path.join(save_path, 'combined_norm_texts.csv')\n",
    "df.to_csv(output_file, index=False, encoding='utf-8-sig')\n",
    "\n",
    "# TQDM exit\n",
    "progress_bar.close()\n",
    "\n",
    "print(f\"CSV 파일로 저장되었습니다: {output_file}\")\n"
   ]
  },
  {
   "cell_type": "markdown",
   "metadata": {
    "id": "ZeaBaIHtEl9b"
   },
   "source": [
    "### Negative Conversion Text"
   ]
  },
  {
   "cell_type": "code",
   "execution_count": null,
   "metadata": {
    "id": "_nhOO1lpEkpW"
   },
   "outputs": [],
   "source": [
    "import pandas as pd\n",
    "\n",
    "def extract_and_save_sentences(input_file, output_file):\n",
    "    sentences = []\n",
    "    with open(input_file, 'r', encoding='utf-8') as file:\n",
    "        for line in file:\n",
    "            if line.startswith(\"Back to Korean:\"):\n",
    "                sentence = line.split(\"Back to Korean:\")[1].strip()\n",
    "                sentences.append(sentence)\n",
    "\n",
    "    df = pd.DataFrame(sentences, columns=[\"Back to Korean Sentences\"])\n",
    "    df.to_csv(output_file, index=False, encoding='utf-8')\n",
    "\n",
    "# Usage\n",
    "input_file = '/content/drive/MyDrive/Colab Notebooks/부정 텍스트 변환 0710.txt'\n",
    "output_file = '/content/drive/MyDrive/Kwargs/부정 텍스트 변환 0710.csv'\n",
    "extract_and_save_sentences(input_file, output_file)\n"
   ]
  },
  {
   "cell_type": "code",
   "execution_count": null,
   "metadata": {
    "colab": {
     "base_uri": "https://localhost:8080/",
     "height": 423
    },
    "executionInfo": {
     "elapsed": 321,
     "status": "ok",
     "timestamp": 1721075362708,
     "user": {
      "displayName": "백현지",
      "userId": "02510457579208942463"
     },
     "user_tz": -540
    },
    "id": "TAtfQLpYFIzU",
    "outputId": "34737002-26c1-4156-92bc-7bd32bc572c7"
   },
   "outputs": [
    {
     "data": {
      "application/vnd.google.colaboratory.intrinsic+json": {
       "summary": "{\n  \"name\": \"df\",\n  \"rows\": 5121,\n  \"fields\": [\n    {\n      \"column\": \"Back to Korean Sentences\",\n      \"properties\": {\n        \"dtype\": \"string\",\n        \"num_unique_values\": 5121,\n        \"samples\": [\n          \"ESG \\uad00\\uc810\\uc5d0\\uc11c 08\\ud30c\\uc6cc\\uadf8\\ub8f9\\uc758 \\uc0ac\\uc5c5\\uac1c\\uc694\\ub294 \\uc138\\ubd80 \\uc815\\ubcf4\\uac00 \\ubd80\\uc871\\ud558\\uc5ec \\uc6b4\\uc601 \\ubc0f \\uac1c\\ubc1c \\uacfc\\uc815\\uc5d0\\uc11c \\ud22c\\uba85\\uc131\\uacfc \\ucc45\\uc784\\uc131\\uc774 \\uacb0\\uc5ec\\ub418\\uace0, \\uac00\\uce58\\uccb4\\uacc4\\uac00 \\ubd88\\uc77c\\uce58\\ud558\\uace0 \\ubc1c\\uc804 \\uc804\\ubc18\\uc5d0 \\ub300\\ud55c \\uc811\\uadfc\\uc740 \\ud750\\ud2b8\\ub7ec\\uc838 \\uc7a0\\uc7ac\\uc801\\uc73c\\ub85c \\uc9c0\\uc18d\\uac00\\ub2a5\\ud558\\uc9c0 \\uc54a\\uc740 \\uac83\\uc73c\\ub85c \\ubcf4\\uc778\\ub2e4.\",\n          \"ESG \\uad00\\uc810\\uc5d0\\uc11c \\ub2f4\\ub2f9\\ubd80\\uc11c\\ub294 \\ud65c\\ub3d9\\uacc4\\ud68d, \\uc2e4\\ud589, \\uc131\\uacfc\\ubd84\\uc11d \\ub4f1 \\uc885\\ud569\\uc801\\uc778 \\uacbd\\uc601\\uacfc\\uc81c \\uad00\\ub828 \\uc911\\uc694\\ud55c \\ucc45\\uc784\\uc744 \\uc18c\\ud640\\ud788 \\ud558\\uace0 \\uae30\\uc5c5\\ucc28\\uc6d0\\uc5d0\\uc11c \\uc9c0\\uc18d\\uac00\\ub2a5\\ud55c \\uacbd\\uc601\\uc804\\ub7b5 \\uac1c\\ubc1c\\uc5d0\\ub3c4 \\ub098\\uc11c\\uc9c0 \\ubabb\\ud558\\uace0 \\uc788\\ub2e4.\",\n          \"\\uc774 \\uac10\\uc0ac\\ubcf4\\uace0\\uc11c\\uc758 \\uadfc\\uac04\\uc744 \\uc774\\ub8e8\\ub294 \\uac10\\uc0ac\\ub97c \\uc9c0\\ud718\\ud558\\ub294 \\uc720\\uc7ac\\ud638\\ub294 ESG \\uad00\\uc810\\uc5d0\\uc11c \\uc5c5\\ubb34 \\uc218\\ud589\\uc5d0 \\uba87 \\uac00\\uc9c0 \\ub2e8\\uc810\\uc744 \\uac00\\uc9c0\\uace0 \\uc788\\uc5c8\\ub2e4.\"\n        ],\n        \"semantic_type\": \"\",\n        \"description\": \"\"\n      }\n    }\n  ]\n}",
       "type": "dataframe",
       "variable_name": "df"
      },
      "text/html": [
       "\n",
       "  <div id=\"df-254fb71a-7bf1-442c-84af-5fb95e917e53\" class=\"colab-df-container\">\n",
       "    <div>\n",
       "<style scoped>\n",
       "    .dataframe tbody tr th:only-of-type {\n",
       "        vertical-align: middle;\n",
       "    }\n",
       "\n",
       "    .dataframe tbody tr th {\n",
       "        vertical-align: top;\n",
       "    }\n",
       "\n",
       "    .dataframe thead th {\n",
       "        text-align: right;\n",
       "    }\n",
       "</style>\n",
       "<table border=\"1\" class=\"dataframe\">\n",
       "  <thead>\n",
       "    <tr style=\"text-align: right;\">\n",
       "      <th></th>\n",
       "      <th>Back to Korean Sentences</th>\n",
       "    </tr>\n",
       "  </thead>\n",
       "  <tbody>\n",
       "    <tr>\n",
       "      <th>0</th>\n",
       "      <td>조직 내부의 ESG위원회를 설치하거나 외부 전문가를 참여시켜 주주의 의사에 부합하고...</td>\n",
       "    </tr>\n",
       "    <tr>\n",
       "      <th>1</th>\n",
       "      <td>ESG 관점에서 모듈형 건설 방식은 혁신적이고 지속 가능하지만 공장에서 현장까지 건...</td>\n",
       "    </tr>\n",
       "    <tr>\n",
       "      <th>2</th>\n",
       "      <td>ESG 관점에서 베트남(비나)은 2021년 평가에서 긍정적인 성과를 거두기 위해 인...</td>\n",
       "    </tr>\n",
       "    <tr>\n",
       "      <th>3</th>\n",
       "      <td>근로 기본권을 지키지 아니한다 □ 지방법에 따라 근로자의 근로 기본권을 존중하지 못한다.</td>\n",
       "    </tr>\n",
       "    <tr>\n",
       "      <th>4</th>\n",
       "      <td>ESG 관점에서 사외이사는 SEC 규정 4200이 허용되지 않는 한 \"현 회계연도 ...</td>\n",
       "    </tr>\n",
       "    <tr>\n",
       "      <th>...</th>\n",
       "      <td>...</td>\n",
       "    </tr>\n",
       "    <tr>\n",
       "      <th>5116</th>\n",
       "      <td>ESG 관점에서 3단계 전략적 이슈 선택은 다양한 성과 이슈를 효과적으로 다루지 못...</td>\n",
       "    </tr>\n",
       "    <tr>\n",
       "      <th>5117</th>\n",
       "      <td>나아가, 우리는 ESG 관점에서 스범위 3 배출량을 측정하고 완화하기 위해 공급 사...</td>\n",
       "    </tr>\n",
       "    <tr>\n",
       "      <th>5118</th>\n",
       "      <td>ESG 관점에서 부패에 대한 관용을 허용하지 않고 책임 집행과 관련하여 개인 이익 ...</td>\n",
       "    </tr>\n",
       "    <tr>\n",
       "      <th>5119</th>\n",
       "      <td>ESG 관점에서 SK스퀘어와의 분할은 비핵심 ICT 사업 역량을 소홀히 하고 사업 ...</td>\n",
       "    </tr>\n",
       "    <tr>\n",
       "      <th>5120</th>\n",
       "      <td>SK 지오센트럼은 ESG 관점에서 울산 현장에서 20만톤의 폐플라스틱을 재활용할 수...</td>\n",
       "    </tr>\n",
       "  </tbody>\n",
       "</table>\n",
       "<p>5121 rows × 1 columns</p>\n",
       "</div>\n",
       "    <div class=\"colab-df-buttons\">\n",
       "\n",
       "  <div class=\"colab-df-container\">\n",
       "    <button class=\"colab-df-convert\" onclick=\"convertToInteractive('df-254fb71a-7bf1-442c-84af-5fb95e917e53')\"\n",
       "            title=\"Convert this dataframe to an interactive table.\"\n",
       "            style=\"display:none;\">\n",
       "\n",
       "  <svg xmlns=\"http://www.w3.org/2000/svg\" height=\"24px\" viewBox=\"0 -960 960 960\">\n",
       "    <path d=\"M120-120v-720h720v720H120Zm60-500h600v-160H180v160Zm220 220h160v-160H400v160Zm0 220h160v-160H400v160ZM180-400h160v-160H180v160Zm440 0h160v-160H620v160ZM180-180h160v-160H180v160Zm440 0h160v-160H620v160Z\"/>\n",
       "  </svg>\n",
       "    </button>\n",
       "\n",
       "  <style>\n",
       "    .colab-df-container {\n",
       "      display:flex;\n",
       "      gap: 12px;\n",
       "    }\n",
       "\n",
       "    .colab-df-convert {\n",
       "      background-color: #E8F0FE;\n",
       "      border: none;\n",
       "      border-radius: 50%;\n",
       "      cursor: pointer;\n",
       "      display: none;\n",
       "      fill: #1967D2;\n",
       "      height: 32px;\n",
       "      padding: 0 0 0 0;\n",
       "      width: 32px;\n",
       "    }\n",
       "\n",
       "    .colab-df-convert:hover {\n",
       "      background-color: #E2EBFA;\n",
       "      box-shadow: 0px 1px 2px rgba(60, 64, 67, 0.3), 0px 1px 3px 1px rgba(60, 64, 67, 0.15);\n",
       "      fill: #174EA6;\n",
       "    }\n",
       "\n",
       "    .colab-df-buttons div {\n",
       "      margin-bottom: 4px;\n",
       "    }\n",
       "\n",
       "    [theme=dark] .colab-df-convert {\n",
       "      background-color: #3B4455;\n",
       "      fill: #D2E3FC;\n",
       "    }\n",
       "\n",
       "    [theme=dark] .colab-df-convert:hover {\n",
       "      background-color: #434B5C;\n",
       "      box-shadow: 0px 1px 3px 1px rgba(0, 0, 0, 0.15);\n",
       "      filter: drop-shadow(0px 1px 2px rgba(0, 0, 0, 0.3));\n",
       "      fill: #FFFFFF;\n",
       "    }\n",
       "  </style>\n",
       "\n",
       "    <script>\n",
       "      const buttonEl =\n",
       "        document.querySelector('#df-254fb71a-7bf1-442c-84af-5fb95e917e53 button.colab-df-convert');\n",
       "      buttonEl.style.display =\n",
       "        google.colab.kernel.accessAllowed ? 'block' : 'none';\n",
       "\n",
       "      async function convertToInteractive(key) {\n",
       "        const element = document.querySelector('#df-254fb71a-7bf1-442c-84af-5fb95e917e53');\n",
       "        const dataTable =\n",
       "          await google.colab.kernel.invokeFunction('convertToInteractive',\n",
       "                                                    [key], {});\n",
       "        if (!dataTable) return;\n",
       "\n",
       "        const docLinkHtml = 'Like what you see? Visit the ' +\n",
       "          '<a target=\"_blank\" href=https://colab.research.google.com/notebooks/data_table.ipynb>data table notebook</a>'\n",
       "          + ' to learn more about interactive tables.';\n",
       "        element.innerHTML = '';\n",
       "        dataTable['output_type'] = 'display_data';\n",
       "        await google.colab.output.renderOutput(dataTable, element);\n",
       "        const docLink = document.createElement('div');\n",
       "        docLink.innerHTML = docLinkHtml;\n",
       "        element.appendChild(docLink);\n",
       "      }\n",
       "    </script>\n",
       "  </div>\n",
       "\n",
       "\n",
       "<div id=\"df-4a606da7-e7b9-4cde-b493-52608ac87c0a\">\n",
       "  <button class=\"colab-df-quickchart\" onclick=\"quickchart('df-4a606da7-e7b9-4cde-b493-52608ac87c0a')\"\n",
       "            title=\"Suggest charts\"\n",
       "            style=\"display:none;\">\n",
       "\n",
       "<svg xmlns=\"http://www.w3.org/2000/svg\" height=\"24px\"viewBox=\"0 0 24 24\"\n",
       "     width=\"24px\">\n",
       "    <g>\n",
       "        <path d=\"M19 3H5c-1.1 0-2 .9-2 2v14c0 1.1.9 2 2 2h14c1.1 0 2-.9 2-2V5c0-1.1-.9-2-2-2zM9 17H7v-7h2v7zm4 0h-2V7h2v10zm4 0h-2v-4h2v4z\"/>\n",
       "    </g>\n",
       "</svg>\n",
       "  </button>\n",
       "\n",
       "<style>\n",
       "  .colab-df-quickchart {\n",
       "      --bg-color: #E8F0FE;\n",
       "      --fill-color: #1967D2;\n",
       "      --hover-bg-color: #E2EBFA;\n",
       "      --hover-fill-color: #174EA6;\n",
       "      --disabled-fill-color: #AAA;\n",
       "      --disabled-bg-color: #DDD;\n",
       "  }\n",
       "\n",
       "  [theme=dark] .colab-df-quickchart {\n",
       "      --bg-color: #3B4455;\n",
       "      --fill-color: #D2E3FC;\n",
       "      --hover-bg-color: #434B5C;\n",
       "      --hover-fill-color: #FFFFFF;\n",
       "      --disabled-bg-color: #3B4455;\n",
       "      --disabled-fill-color: #666;\n",
       "  }\n",
       "\n",
       "  .colab-df-quickchart {\n",
       "    background-color: var(--bg-color);\n",
       "    border: none;\n",
       "    border-radius: 50%;\n",
       "    cursor: pointer;\n",
       "    display: none;\n",
       "    fill: var(--fill-color);\n",
       "    height: 32px;\n",
       "    padding: 0;\n",
       "    width: 32px;\n",
       "  }\n",
       "\n",
       "  .colab-df-quickchart:hover {\n",
       "    background-color: var(--hover-bg-color);\n",
       "    box-shadow: 0 1px 2px rgba(60, 64, 67, 0.3), 0 1px 3px 1px rgba(60, 64, 67, 0.15);\n",
       "    fill: var(--button-hover-fill-color);\n",
       "  }\n",
       "\n",
       "  .colab-df-quickchart-complete:disabled,\n",
       "  .colab-df-quickchart-complete:disabled:hover {\n",
       "    background-color: var(--disabled-bg-color);\n",
       "    fill: var(--disabled-fill-color);\n",
       "    box-shadow: none;\n",
       "  }\n",
       "\n",
       "  .colab-df-spinner {\n",
       "    border: 2px solid var(--fill-color);\n",
       "    border-color: transparent;\n",
       "    border-bottom-color: var(--fill-color);\n",
       "    animation:\n",
       "      spin 1s steps(1) infinite;\n",
       "  }\n",
       "\n",
       "  @keyframes spin {\n",
       "    0% {\n",
       "      border-color: transparent;\n",
       "      border-bottom-color: var(--fill-color);\n",
       "      border-left-color: var(--fill-color);\n",
       "    }\n",
       "    20% {\n",
       "      border-color: transparent;\n",
       "      border-left-color: var(--fill-color);\n",
       "      border-top-color: var(--fill-color);\n",
       "    }\n",
       "    30% {\n",
       "      border-color: transparent;\n",
       "      border-left-color: var(--fill-color);\n",
       "      border-top-color: var(--fill-color);\n",
       "      border-right-color: var(--fill-color);\n",
       "    }\n",
       "    40% {\n",
       "      border-color: transparent;\n",
       "      border-right-color: var(--fill-color);\n",
       "      border-top-color: var(--fill-color);\n",
       "    }\n",
       "    60% {\n",
       "      border-color: transparent;\n",
       "      border-right-color: var(--fill-color);\n",
       "    }\n",
       "    80% {\n",
       "      border-color: transparent;\n",
       "      border-right-color: var(--fill-color);\n",
       "      border-bottom-color: var(--fill-color);\n",
       "    }\n",
       "    90% {\n",
       "      border-color: transparent;\n",
       "      border-bottom-color: var(--fill-color);\n",
       "    }\n",
       "  }\n",
       "</style>\n",
       "\n",
       "  <script>\n",
       "    async function quickchart(key) {\n",
       "      const quickchartButtonEl =\n",
       "        document.querySelector('#' + key + ' button');\n",
       "      quickchartButtonEl.disabled = true;  // To prevent multiple clicks.\n",
       "      quickchartButtonEl.classList.add('colab-df-spinner');\n",
       "      try {\n",
       "        const charts = await google.colab.kernel.invokeFunction(\n",
       "            'suggestCharts', [key], {});\n",
       "      } catch (error) {\n",
       "        console.error('Error during call to suggestCharts:', error);\n",
       "      }\n",
       "      quickchartButtonEl.classList.remove('colab-df-spinner');\n",
       "      quickchartButtonEl.classList.add('colab-df-quickchart-complete');\n",
       "    }\n",
       "    (() => {\n",
       "      let quickchartButtonEl =\n",
       "        document.querySelector('#df-4a606da7-e7b9-4cde-b493-52608ac87c0a button');\n",
       "      quickchartButtonEl.style.display =\n",
       "        google.colab.kernel.accessAllowed ? 'block' : 'none';\n",
       "    })();\n",
       "  </script>\n",
       "</div>\n",
       "\n",
       "  <div id=\"id_20d4c258-db6b-46ea-9129-4cba6d9421b7\">\n",
       "    <style>\n",
       "      .colab-df-generate {\n",
       "        background-color: #E8F0FE;\n",
       "        border: none;\n",
       "        border-radius: 50%;\n",
       "        cursor: pointer;\n",
       "        display: none;\n",
       "        fill: #1967D2;\n",
       "        height: 32px;\n",
       "        padding: 0 0 0 0;\n",
       "        width: 32px;\n",
       "      }\n",
       "\n",
       "      .colab-df-generate:hover {\n",
       "        background-color: #E2EBFA;\n",
       "        box-shadow: 0px 1px 2px rgba(60, 64, 67, 0.3), 0px 1px 3px 1px rgba(60, 64, 67, 0.15);\n",
       "        fill: #174EA6;\n",
       "      }\n",
       "\n",
       "      [theme=dark] .colab-df-generate {\n",
       "        background-color: #3B4455;\n",
       "        fill: #D2E3FC;\n",
       "      }\n",
       "\n",
       "      [theme=dark] .colab-df-generate:hover {\n",
       "        background-color: #434B5C;\n",
       "        box-shadow: 0px 1px 3px 1px rgba(0, 0, 0, 0.15);\n",
       "        filter: drop-shadow(0px 1px 2px rgba(0, 0, 0, 0.3));\n",
       "        fill: #FFFFFF;\n",
       "      }\n",
       "    </style>\n",
       "    <button class=\"colab-df-generate\" onclick=\"generateWithVariable('df')\"\n",
       "            title=\"Generate code using this dataframe.\"\n",
       "            style=\"display:none;\">\n",
       "\n",
       "  <svg xmlns=\"http://www.w3.org/2000/svg\" height=\"24px\"viewBox=\"0 0 24 24\"\n",
       "       width=\"24px\">\n",
       "    <path d=\"M7,19H8.4L18.45,9,17,7.55,7,17.6ZM5,21V16.75L18.45,3.32a2,2,0,0,1,2.83,0l1.4,1.43a1.91,1.91,0,0,1,.58,1.4,1.91,1.91,0,0,1-.58,1.4L9.25,21ZM18.45,9,17,7.55Zm-12,3A5.31,5.31,0,0,0,4.9,8.1,5.31,5.31,0,0,0,1,6.5,5.31,5.31,0,0,0,4.9,4.9,5.31,5.31,0,0,0,6.5,1,5.31,5.31,0,0,0,8.1,4.9,5.31,5.31,0,0,0,12,6.5,5.46,5.46,0,0,0,6.5,12Z\"/>\n",
       "  </svg>\n",
       "    </button>\n",
       "    <script>\n",
       "      (() => {\n",
       "      const buttonEl =\n",
       "        document.querySelector('#id_20d4c258-db6b-46ea-9129-4cba6d9421b7 button.colab-df-generate');\n",
       "      buttonEl.style.display =\n",
       "        google.colab.kernel.accessAllowed ? 'block' : 'none';\n",
       "\n",
       "      buttonEl.onclick = () => {\n",
       "        google.colab.notebook.generateWithVariable('df');\n",
       "      }\n",
       "      })();\n",
       "    </script>\n",
       "  </div>\n",
       "\n",
       "    </div>\n",
       "  </div>\n"
      ],
      "text/plain": [
       "                               Back to Korean Sentences\n",
       "0     조직 내부의 ESG위원회를 설치하거나 외부 전문가를 참여시켜 주주의 의사에 부합하고...\n",
       "1     ESG 관점에서 모듈형 건설 방식은 혁신적이고 지속 가능하지만 공장에서 현장까지 건...\n",
       "2     ESG 관점에서 베트남(비나)은 2021년 평가에서 긍정적인 성과를 거두기 위해 인...\n",
       "3     근로 기본권을 지키지 아니한다 □ 지방법에 따라 근로자의 근로 기본권을 존중하지 못한다.\n",
       "4     ESG 관점에서 사외이사는 SEC 규정 4200이 허용되지 않는 한 \"현 회계연도 ...\n",
       "...                                                 ...\n",
       "5116  ESG 관점에서 3단계 전략적 이슈 선택은 다양한 성과 이슈를 효과적으로 다루지 못...\n",
       "5117  나아가, 우리는 ESG 관점에서 스범위 3 배출량을 측정하고 완화하기 위해 공급 사...\n",
       "5118  ESG 관점에서 부패에 대한 관용을 허용하지 않고 책임 집행과 관련하여 개인 이익 ...\n",
       "5119  ESG 관점에서 SK스퀘어와의 분할은 비핵심 ICT 사업 역량을 소홀히 하고 사업 ...\n",
       "5120  SK 지오센트럼은 ESG 관점에서 울산 현장에서 20만톤의 폐플라스틱을 재활용할 수...\n",
       "\n",
       "[5121 rows x 1 columns]"
      ]
     },
     "execution_count": 5,
     "metadata": {},
     "output_type": "execute_result"
    }
   ],
   "source": [
    "df = pd.read_csv('/content/drive/MyDrive/Kwargs/부정 텍스트 변환 0710.csv')\n",
    "df"
   ]
  },
  {
   "cell_type": "markdown",
   "metadata": {
    "id": "RHdWrLc6EgLK"
   },
   "source": [
    "### 3 species"
   ]
  },
  {
   "cell_type": "code",
   "execution_count": null,
   "metadata": {
    "id": "y497bgLuHCNK"
   },
   "outputs": [],
   "source": [
    "import pandas as pd\n",
    "import os\n",
    "from tqdm import tqdm\n",
    "\n",
    "# File path\n",
    "#base_path_label_0 = '/content/drive/MyDrive/Kwargs/무관데이터/combined_norm_texts.csv'\n",
    "df_label_0 = selected_data\n",
    "base_path_label_1 = '/content/drive/MyDrive/Kwargs/esg보고서/라벨링/'\n",
    "#base_path_label_minus_1 = '/content/drive/MyDrive/Kwargs/부정 텍스트 변환 0710.csv'\n",
    "base_path_label_minus_1 = '/content/drive/MyDrive/Kwargs/Generated_Combinations.csv'\n",
    "\n",
    "# Import the file list\n",
    "files_label_1 = [os.path.join(base_path_label_1, f) for f in os.listdir(base_path_label_1) if f.endswith('.csv')]"
   ]
  },
  {
   "cell_type": "code",
   "execution_count": null,
   "metadata": {
    "id": "lwgvYKG9HAT0"
   },
   "outputs": [],
   "source": [
    "#Label 0 Data Reading\n",
    "df_label_0 = pd.read_csv(base_path_label_0)\n",
    "df_label_0['label'] = 0\n",
    "df_label_0.rename(columns={'norm_text': 'text'}, inplace=True)"
   ]
  },
  {
   "cell_type": "code",
   "execution_count": null,
   "metadata": {
    "colab": {
     "base_uri": "https://localhost:8080/"
    },
    "executionInfo": {
     "elapsed": 5559,
     "status": "ok",
     "timestamp": 1721322271319,
     "user": {
      "displayName": "백현지",
      "userId": "02510457579208942463"
     },
     "user_tz": -540
    },
    "id": "_mN9icPlzR6v",
    "outputId": "6f5ab378-b011-4643-ccc1-773884b61adf"
   },
   "outputs": [
    {
     "name": "stderr",
     "output_type": "stream",
     "text": [
      "Processing label 1 files: 100%|██████████| 150/150 [00:05<00:00, 28.13it/s]\n"
     ]
    }
   ],
   "source": [
    "# Read Label 1 Data\n",
    "data_label_1 = []\n",
    "for file in tqdm(files_label_1, desc=\"Processing label 1 files\"):\n",
    "    df = pd.read_csv(file)\n",
    "    df['label'] = 1\n",
    "    df.rename(columns={'sentence': 'text'}, inplace=True)\n",
    "    data_label_1.append(df)\n",
    "df_label_1 = pd.concat(data_label_1, ignore_index=True)"
   ]
  },
  {
   "cell_type": "code",
   "execution_count": null,
   "metadata": {
    "id": "8ruX3f-wIXRm"
   },
   "outputs": [],
   "source": [
    "#Label -1 Data Reading\n",
    "df_label_minus_1 = pd.read_csv(base_path_label_minus_1)\n",
    "df_label_minus_1['label'] = -1\n",
    "df_label_minus_1.rename(columns={'norm_text': 'text'}, inplace=True)\n",
    "df_label_minus_1.rename(columns={'Back to Korean Sentences': 'text'}, inplace=True)"
   ]
  },
  {
   "cell_type": "code",
   "execution_count": null,
   "metadata": {
    "id": "_2K7AXcEIp8L"
   },
   "outputs": [],
   "source": [
    "df_label_1.rename(columns={'문장': 'text'}, inplace=True)"
   ]
  },
  {
   "cell_type": "markdown",
   "metadata": {
    "id": "ijo9cAEn0fn5"
   },
   "source": [
    "### Data imbalance resolution"
   ]
  },
  {
   "cell_type": "code",
   "execution_count": null,
   "metadata": {
    "colab": {
     "base_uri": "https://localhost:8080/",
     "height": 384
    },
    "executionInfo": {
     "elapsed": 401,
     "status": "error",
     "timestamp": 1721322631252,
     "user": {
      "displayName": "백현지",
      "userId": "02510457579208942463"
     },
     "user_tz": -540
    },
    "id": "8PEc7q9D0cf9",
    "outputId": "96da1a2e-9894-4eb6-ac3e-11a7a1f3fddb"
   },
   "outputs": [
    {
     "ename": "ModuleNotFoundError",
     "errorDetails": {
      "actions": [
       {
        "action": "open_url",
        "actionText": "Open Examples",
        "url": "/notebooks/snippets/importing_libraries.ipynb"
       }
      ]
     },
     "evalue": "No module named 'eda'",
     "output_type": "error",
     "traceback": [
      "\u001b[0;31m---------------------------------------------------------------------------\u001b[0m",
      "\u001b[0;31mModuleNotFoundError\u001b[0m                       Traceback (most recent call last)",
      "\u001b[0;32m<ipython-input-25-f54bd16320a9>\u001b[0m in \u001b[0;36m<cell line: 2>\u001b[0;34m()\u001b[0m\n\u001b[1;32m      1\u001b[0m \u001b[0;32mimport\u001b[0m \u001b[0mrandom\u001b[0m\u001b[0;34m\u001b[0m\u001b[0;34m\u001b[0m\u001b[0m\n\u001b[0;32m----> 2\u001b[0;31m \u001b[0;32mfrom\u001b[0m \u001b[0meda\u001b[0m \u001b[0;32mimport\u001b[0m \u001b[0meda\u001b[0m\u001b[0;34m\u001b[0m\u001b[0;34m\u001b[0m\u001b[0m\n\u001b[0m\u001b[1;32m      3\u001b[0m \u001b[0;32mimport\u001b[0m \u001b[0mpandas\u001b[0m \u001b[0;32mas\u001b[0m \u001b[0mpd\u001b[0m\u001b[0;34m\u001b[0m\u001b[0;34m\u001b[0m\u001b[0m\n\u001b[1;32m      4\u001b[0m \u001b[0;34m\u001b[0m\u001b[0m\n\u001b[1;32m      5\u001b[0m \u001b[0;31m# 데이터 불러오기\u001b[0m\u001b[0;34m\u001b[0m\u001b[0;34m\u001b[0m\u001b[0m\n",
      "\u001b[0;31mModuleNotFoundError\u001b[0m: No module named 'eda'",
      "",
      "\u001b[0;31m---------------------------------------------------------------------------\u001b[0;32m\nNOTE: If your import is failing due to a missing package, you can\nmanually install dependencies using either !pip or !apt.\n\nTo view examples of installing some common dependencies, click the\n\"Open Examples\" button below.\n\u001b[0;31m---------------------------------------------------------------------------\u001b[0m\n"
     ]
    }
   ],
   "source": [
    "import random\n",
    "from eda import eda\n",
    "import pandas as pd\n",
    "\n",
    "# Import data\n",
    "data = df_label_0\n",
    "\n",
    "# Select data from classes with few labels\n",
    "minority_class = data[data['label'] == data['label'].value_counts().idxmin()]\n",
    "\n",
    "# Number of data to be enhanced\n",
    "augmentation_factor = 1.7\n",
    "num_augment = int(len(minority_class) * (augmentation_factor - 1))\n",
    "\n",
    "augmented_texts = []\n",
    "augmented_labels = []\n",
    "\n",
    "for i in range(num_augment):\n",
    "    original_text = random.choice(minority_class['text'].values)\n",
    "    augmented_text = eda(original_text, alpha_sr=0.1, alpha_ri=0.1, alpha_rs=0.1, p_rd=0.1, num_aug=1)\n",
    "    augmented_texts.append(augmented_text[0])\n",
    "    augmented_labels.append(minority_class['label'].values[0])\n",
    "\n",
    "# Enhancement data frame creation\n",
    "augmented_data = pd.DataFrame({'text': augmented_texts, 'label': augmented_labels})\n",
    "\n",
    "# Added augmented data to the original data\n",
    "balanced_data = pd.concat([data, augmented_data], ignore_index=True)\n",
    "\n",
    "#Save the results as CSV\n",
    "df_label_0 = balanced_data"
   ]
  },
  {
   "cell_type": "markdown",
   "metadata": {
    "id": "Y5uldD0h0_6H"
   },
   "source": [
    "### Data enhancement"
   ]
  },
  {
   "cell_type": "code",
   "execution_count": null,
   "metadata": {
    "id": "PoN5g4kn0_HP"
   },
   "outputs": [],
   "source": [
    "# Increased data with 0 label 0\n",
    "label_0_data = df_label_0[df_label_0['label'] == 0]\n",
    "df_label_0 = pd.concat([df_label_0, label_0_data, label_0_data], ignore_index=True)"
   ]
  },
  {
   "cell_type": "markdown",
   "metadata": {
    "id": "cZxyblNKN4eA"
   },
   "source": [
    "### Start to join in earnest"
   ]
  },
  {
   "cell_type": "code",
   "execution_count": null,
   "metadata": {
    "id": "gM-9d3BcLHOz"
   },
   "outputs": [],
   "source": [
    "import pandas as pd\n",
    "\n",
    "# Data continuous function\n",
    "def combine_texts(df, num_texts):\n",
    "    combined_texts = []\n",
    "    df['text'].fillna('', inplace=True)  # NaN 값을 빈 문자열로 대체\n",
    "    for i in range(0, len(df), num_texts):\n",
    "        combined_text = ' '.join(df['text'][i:i+num_texts])\n",
    "        combined_texts.append(combined_text)\n",
    "    return pd.DataFrame(combined_texts, columns=['text'])"
   ]
  },
  {
   "cell_type": "code",
   "execution_count": null,
   "metadata": {
    "id": "_gY3Cr04HZSf"
   },
   "outputs": [],
   "source": [
    "# Label 0: 3 pieces\n",
    "df_label_0_combined = combine_texts(df_label_0, 1)\n",
    "df_label_0_combined['label'] = 0\n",
    "\n",
    "#Label 1: 15 pieces\n",
    "df_label_1_combined = combine_texts(df_label_1, 15)\n",
    "df_label_1_combined['label'] = 1\n",
    "\n",
    "#Label -1: used as it is\n",
    "df_label_m1_combined = df_label_minus_1[['text', 'label']]"
   ]
  },
  {
   "cell_type": "code",
   "execution_count": null,
   "metadata": {
    "colab": {
     "base_uri": "https://localhost:8080/"
    },
    "executionInfo": {
     "elapsed": 1973,
     "status": "ok",
     "timestamp": 1721322764878,
     "user": {
      "displayName": "백현지",
      "userId": "02510457579208942463"
     },
     "user_tz": -540
    },
    "id": "2Ff9O9V90C1x",
    "outputId": "aedbcc39-2e08-49cf-e05d-795b85ac1d94"
   },
   "outputs": [
    {
     "name": "stdout",
     "output_type": "stream",
     "text": [
      "CSV 파일로 저장되었습니다: /content/drive/MyDrive/Kwargs/combined_labeled_data_balanced_0716.csv\n",
      "       avg_text_length  count\n",
      "label                        \n",
      "-1         2145.809000   5000\n",
      " 0         1466.760204   5292\n",
      " 1         2288.836983  19360\n"
     ]
    }
   ],
   "source": [
    "\n",
    "# All data integration\n",
    "df_combined = pd.concat([df_label_0_combined, df_label_1_combined, df_label_m1_combined], ignore_index=True)\n",
    "\n",
    "# Replace the NAN value with an empty string\n",
    "df_combined['text'].fillna('', inplace=True)\n",
    "\n",
    "# Calculation of the average length and number of text rows by label\n",
    "df_combined['text_length'] = df_combined['text'].apply(len)\n",
    "label_stats = df_combined.groupby('label').agg({'text_length': 'mean', 'text': 'count'}).rename(columns={'text_length': 'avg_text_length', 'text': 'count'})\n",
    "\n",
    "#Integrated data storage\n",
    "output_file = '/content/drive/MyDrive/Kwargs/combined_labeled_data_balanced_0716.csv'\n",
    "df_combined.to_csv(output_file, index=False, encoding='utf-8-sig')\n",
    "\n",
    "# Output\n",
    "print(f\"CSV 파일로 저장되었습니다: {output_file}\")\n",
    "print(label_stats)\n"
   ]
  },
  {
   "cell_type": "code",
   "execution_count": null,
   "metadata": {
    "colab": {
     "base_uri": "https://localhost:8080/"
    },
    "executionInfo": {
     "elapsed": 1032,
     "status": "ok",
     "timestamp": 1721322789052,
     "user": {
      "displayName": "백현지",
      "userId": "02510457579208942463"
     },
     "user_tz": -540
    },
    "id": "qdL1GJZSd93L",
    "outputId": "bd639a2c-f982-491a-8674-ffb05fa25754"
   },
   "outputs": [
    {
     "name": "stdout",
     "output_type": "stream",
     "text": [
      "CSV 파일로 저장되었습니다: /content/drive/MyDrive/Kwargs/combined_labeled_data_balanced_0719.csv\n",
      "       avg_text_length  count\n",
      "label                        \n",
      "-1           2145.8090   5000\n",
      " 0           1467.5248   5000\n",
      " 1           2315.9126   5000\n"
     ]
    }
   ],
   "source": [
    "# Undersampling for the smallest data for each label\n",
    "min_count = df_combined['label'].value_counts().min()\n",
    "\n",
    "\n",
    "df_label_0_final = df_label_0_combined.sample(n=min_count, random_state=42)\n",
    "df_label_1_final = df_label_1_combined.sample(n=min_count, random_state=42)\n",
    "df_label_minus_1_final = df_label_m1_combined.sample(n=min_count, random_state=42)\n",
    "\n",
    "# Final data integration\n",
    "df_final = pd.concat([df_label_0_final, df_label_1_final, df_label_minus_1_final], ignore_index=True)\n",
    "\n",
    "# Calculation of the average length and number of text rows by label\n",
    "df_final['text_length'] = df_final['text'].apply(len)\n",
    "label_stats_final = df_final.groupby('label').agg({'text_length': 'mean', 'text': 'count'}).rename(columns={'text_length': 'avg_text_length', 'text': 'count'})\n",
    "\n",
    "#Integrated data storage\n",
    "output_file_final = '/content/drive/MyDrive/Kwargs/combined_labeled_data_balanced_0719.csv'\n",
    "df_final.to_csv(output_file_final, index=False, encoding='utf-8-sig')\n",
    "\n",
    "# Output\n",
    "print(f\"CSV 파일로 저장되었습니다: {output_file_final}\")\n",
    "print(label_stats_final)"
   ]
  },
  {
   "cell_type": "code",
   "execution_count": null,
   "metadata": {
    "id": "2nizIMALMD7S"
   },
   "outputs": [],
   "source": []
  }
 ],
 "metadata": {
  "colab": {
   "authorship_tag": "ABX9TyOZ0cNiL3Hy1uMFHmOCTJCr",
   "mount_file_id": "1rfaV-edX0QYlEJAouZAnGOro5cKhCzcQ",
   "provenance": []
  },
  "kernelspec": {
   "display_name": "Python 3",
   "name": "python3"
  },
  "language_info": {
   "name": "python"
  }
 },
 "nbformat": 4,
 "nbformat_minor": 0
}
