{
 "cells": [
  {
   "cell_type": "code",
   "execution_count": null,
   "metadata": {
    "colab": {
     "base_uri": "https://localhost:8080/"
    },
    "executionInfo": {
     "elapsed": 16537,
     "status": "ok",
     "timestamp": 1710323288382,
     "user": {
      "displayName": "백현지",
      "userId": "02510457579208942463"
     },
     "user_tz": -540
    },
    "id": "wxOSO3r4psTY",
    "outputId": "ab3d199a-ba62-4922-e378-49e12629bd60"
   },
   "outputs": [
    {
     "name": "stdout",
     "output_type": "stream",
     "text": [
      "Collecting openai==0.28\n",
      "  Downloading openai-0.28.0-py3-none-any.whl (76 kB)\n",
      "\u001b[?25l     \u001b[90m━━━━━━━━━━━━━━━━━━━━━━━━━━━━━━━━━━━━━━━━\u001b[0m \u001b[32m0.0/76.5 kB\u001b[0m \u001b[31m?\u001b[0m eta \u001b[36m-:--:--\u001b[0m\r",
      "\u001b[2K     \u001b[90m━━━━━━━━━━━━━━━━━━━━━━━━━━━━━━━━━━━━━━━━\u001b[0m \u001b[32m76.5/76.5 kB\u001b[0m \u001b[31m2.3 MB/s\u001b[0m eta \u001b[36m0:00:00\u001b[0m\n",
      "\u001b[?25hRequirement already satisfied: requests>=2.20 in /usr/local/lib/python3.10/dist-packages (from openai==0.28) (2.31.0)\n",
      "Requirement already satisfied: tqdm in /usr/local/lib/python3.10/dist-packages (from openai==0.28) (4.66.2)\n",
      "Requirement already satisfied: aiohttp in /usr/local/lib/python3.10/dist-packages (from openai==0.28) (3.9.3)\n",
      "Requirement already satisfied: charset-normalizer<4,>=2 in /usr/local/lib/python3.10/dist-packages (from requests>=2.20->openai==0.28) (3.3.2)\n",
      "Requirement already satisfied: idna<4,>=2.5 in /usr/local/lib/python3.10/dist-packages (from requests>=2.20->openai==0.28) (3.6)\n",
      "Requirement already satisfied: urllib3<3,>=1.21.1 in /usr/local/lib/python3.10/dist-packages (from requests>=2.20->openai==0.28) (2.0.7)\n",
      "Requirement already satisfied: certifi>=2017.4.17 in /usr/local/lib/python3.10/dist-packages (from requests>=2.20->openai==0.28) (2024.2.2)\n",
      "Requirement already satisfied: aiosignal>=1.1.2 in /usr/local/lib/python3.10/dist-packages (from aiohttp->openai==0.28) (1.3.1)\n",
      "Requirement already satisfied: attrs>=17.3.0 in /usr/local/lib/python3.10/dist-packages (from aiohttp->openai==0.28) (23.2.0)\n",
      "Requirement already satisfied: frozenlist>=1.1.1 in /usr/local/lib/python3.10/dist-packages (from aiohttp->openai==0.28) (1.4.1)\n",
      "Requirement already satisfied: multidict<7.0,>=4.5 in /usr/local/lib/python3.10/dist-packages (from aiohttp->openai==0.28) (6.0.5)\n",
      "Requirement already satisfied: yarl<2.0,>=1.0 in /usr/local/lib/python3.10/dist-packages (from aiohttp->openai==0.28) (1.9.4)\n",
      "Requirement already satisfied: async-timeout<5.0,>=4.0 in /usr/local/lib/python3.10/dist-packages (from aiohttp->openai==0.28) (4.0.3)\n",
      "Installing collected packages: openai\n",
      "Successfully installed openai-0.28.0\n",
      "Requirement already satisfied: pandas in /usr/local/lib/python3.10/dist-packages (1.5.3)\n",
      "Requirement already satisfied: python-dateutil>=2.8.1 in /usr/local/lib/python3.10/dist-packages (from pandas) (2.8.2)\n",
      "Requirement already satisfied: pytz>=2020.1 in /usr/local/lib/python3.10/dist-packages (from pandas) (2023.4)\n",
      "Requirement already satisfied: numpy>=1.21.0 in /usr/local/lib/python3.10/dist-packages (from pandas) (1.25.2)\n",
      "Requirement already satisfied: six>=1.5 in /usr/local/lib/python3.10/dist-packages (from python-dateutil>=2.8.1->pandas) (1.16.0)\n"
     ]
    },
    {
     "name": "stderr",
     "output_type": "stream",
     "text": [
      "[nltk_data] Downloading package punkt to /root/nltk_data...\n",
      "[nltk_data]   Unzipping tokenizers/punkt.zip.\n"
     ]
    }
   ],
   "source": [
    "# Necessary library installation\n",
    "!pip install openai==0.28\n",
    "!pip install pandas\n",
    "\n",
    "import os\n",
    "import pandas as pd\n",
    "from nltk.tokenize import sent_tokenize\n",
    "import nltk\n",
    "nltk.download('punkt')\n",
    "import openai\n",
    "\n",
    "# Openai API key setting\n",
    "openai.api_key = 'sk-'\n"
   ]
  },
  {
   "cell_type": "code",
   "execution_count": 1,
   "metadata": {
    "colab": {
     "base_uri": "https://localhost:8080/"
    },
    "executionInfo": {
     "elapsed": 21064,
     "status": "ok",
     "timestamp": 1711441133235,
     "user": {
      "displayName": "백현지",
      "userId": "02510457579208942463"
     },
     "user_tz": -540
    },
    "id": "wDJzxJ43Na6F",
    "outputId": "759edd04-3292-423b-ee69-b32e7f77930d"
   },
   "outputs": [
    {
     "name": "stdout",
     "output_type": "stream",
     "text": [
      "Mounted at /content/drive\n"
     ]
    }
   ],
   "source": [
    "from google.colab import drive\n",
    "drive.mount('/content/drive')"
   ]
  },
  {
   "cell_type": "code",
   "execution_count": null,
   "metadata": {
    "id": "hrq314-vrHky"
   },
   "outputs": [],
   "source": [
    "\n",
    "def load_text_from_file(file_path):\n",
    "    with open(file_path, 'r', encoding='utf-8') as file:\n",
    "        content = file.read()\n",
    "    return content\n",
    "\n",
    "def split_into_sentences(text):\n",
    "    sentences = sent_tokenize(text)\n",
    "    return sentences\n",
    "\n",
    "def evaluate_esg(sentence):\n",
    "    response = openai.ChatCompletion.create(\n",
    "        model=\"gpt-3.5-turbo\",\n",
    "        messages=[\n",
    "            {\"role\": \"system\", \"content\": \"당신은 ESG 평가 전문가입니다. 먼저 ESG에 대한 설명을 제공해드릴테니 평가의 기준으로 활용하시기 바랍니다. ESG는 Environmental(환경), Social(사회), Governance(거버넌스)의 세 가지 측면으로 구성됩니다. 환경 측면은 기업이 환경 친화적으로 운영하고자 하는 의지를 나타냅니다. 이는 친환경 제품 제조, 에너지 효율성 향상 등을 포함합니다. 사회적 측면은 기업이 사회적 책임을 다하는 것을 의미하며, 노동자 권리 보호, 다양성과 포용성 강화 등이 포함됩니다. 거버넌스 측면은 기업 내부의 투명성과 윤리성을 강화하여 이해관계자들의 신뢰를 유지하는 것을 중요시합니다. 이는 감사와 감사위원회의 설정, 보상 정책의 공정성 등을 포함합니다. 이러한 ESG 요소들은 기업의 장기적인 지속 가능성과 가치 창출에 영향을 미치며, 적절한 관리를 통해 사회적으로 책임 있는 기업 경영을 추구합니다. 이제부터, 주어지는 문장을 ESG 긍정인 경우 1, ESG 중립인 경우 0, ESG 부정인 경우 -1로 분류하세요. 결과는 무조건 1,0,-1 셋 중 하나여야만 합니다.  문장으로 출력하지 마십시오. 예를 들어, 환경에 대해 긍정적인 문장이라면 ESG 긍정이므로 반환값은 '1'입니다. 이제 평가를 시작하십시오. \"},\n",
    "            {\"role\": \"user\", \"content\": sentence}\n",
    "        ]\n",
    "    )\n",
    "    result = response['choices'][0]['message']['content']\n",
    "    if \"1\" in result:\n",
    "        return 1\n",
    "    elif \"0\" in result:\n",
    "        return 0\n",
    "    elif \"-1\" in result:\n",
    "        return -1\n",
    "    return result  # 기본값\n",
    "\n",
    "def calculate_document_esg_score(sentences):\n",
    "    \"\"\"문서의 ESG 친화도 총점을 계산합니다.\"\"\"\n",
    "    score = 0\n",
    "    for sentence in sentences:\n",
    "        score += evaluate_esg(sentence)  # 점수를 더합니다.\n",
    "    return score\n",
    "\n",
    "def process_documents(directory_path):\n",
    "#Blean list to store results\n",
    "    documents_scores = []\n",
    "\n",
    "# Turn on all files in the designated directory\n",
    "    for filename in os.listdir(directory_path):\n",
    "        if filename.endswith(\".txt\"):  # 텍스트 파일만 처리\n",
    "            file_path = os.path.join(directory_path, filename)\n",
    "            text = load_text_from_file(file_path)\n",
    "            sentences = split_into_sentences(text)\n",
    "            document_score = calculate_document_esg_score(sentences)\n",
    "            documents_scores.append({'Document': filename, 'ESG Score': document_score})\n",
    "\n",
    "# Production of results data frame\n",
    "    df_scores = pd.DataFrame(documents_scores)\n",
    "    return df_scores\n"
   ]
  },
  {
   "cell_type": "code",
   "execution_count": null,
   "metadata": {
    "colab": {
     "base_uri": "https://localhost:8080/"
    },
    "executionInfo": {
     "elapsed": 52149,
     "status": "ok",
     "timestamp": 1709460313531,
     "user": {
      "displayName": "백현서",
      "userId": "01676323946267625609"
     },
     "user_tz": -540
    },
    "id": "DEy6uyIbrtDK",
    "outputId": "f6bb9ae0-17c3-4c52-dabd-f67d43f25ef2"
   },
   "outputs": [
    {
     "name": "stdout",
     "output_type": "stream",
     "text": [
      "          Document  ESG Score\n",
      "0   1_report_2.txt         12\n",
      "1   1_report_1.txt         12\n",
      "2   2_report_1.txt          9\n",
      "3   2_report_2.txt         11\n",
      "4  2_article_2.txt         12\n",
      "5  1_article_1.txt         10\n",
      "6  1_article_2.txt          9\n",
      "7  2_article_1.txt          9\n"
     ]
    }
   ],
   "source": [
    "\n",
    "# Directory path where documents are stored\n",
    "directory_path = \"/content/drive/MyDrive/openaitest/\"\n",
    "df_scores = process_documents(directory_path)\n",
    "\n",
    "# Output\n",
    "print(df_scores)\n",
    "\n",
    "# Optional: Save the result data frame as a CSV file\n",
    "df_scores.to_csv('/content/drive/MyDrive/esg_document_scores.csv', index=False)\n"
   ]
  },
  {
   "cell_type": "code",
   "execution_count": null,
   "metadata": {
    "colab": {
     "base_uri": "https://localhost:8080/"
    },
    "executionInfo": {
     "elapsed": 356,
     "status": "ok",
     "timestamp": 1709460321476,
     "user": {
      "displayName": "백현서",
      "userId": "01676323946267625609"
     },
     "user_tz": -540
    },
    "id": "I52dfALsxLtd",
    "outputId": "8b27c5e7-0071-45f2-8aff-6884a5b24ed2"
   },
   "outputs": [
    {
     "name": "stdout",
     "output_type": "stream",
     "text": [
      "          Document  ESG Score\n",
      "0   1_report_2.txt         12\n",
      "1   1_report_1.txt         12\n",
      "2   2_report_1.txt          9\n",
      "3   2_report_2.txt         11\n",
      "4  2_article_2.txt         12\n",
      "5  1_article_1.txt         10\n",
      "6  1_article_2.txt          9\n",
      "7  2_article_1.txt          9\n"
     ]
    }
   ],
   "source": [
    "print(df_scores)\n"
   ]
  },
  {
   "cell_type": "code",
   "execution_count": null,
   "metadata": {
    "colab": {
     "base_uri": "https://localhost:8080/"
    },
    "executionInfo": {
     "elapsed": 376,
     "status": "ok",
     "timestamp": 1709460325666,
     "user": {
      "displayName": "백현서",
      "userId": "01676323946267625609"
     },
     "user_tz": -540
    },
    "id": "NK8ARMmBsibU",
    "outputId": "3e6e2869-d6d8-43a1-f686-271dd2c380c7"
   },
   "outputs": [
    {
     "name": "stdout",
     "output_type": "stream",
     "text": [
      "  기업번호     문서유형  mean  sum\n",
      "0    1  article   9.5   19\n",
      "1    1   report  12.0   24\n",
      "2    2  article  10.5   21\n",
      "3    2   report  10.0   20\n"
     ]
    }
   ],
   "source": [
    "import pandas as pd\n",
    "\n",
    "# Extract new information by analyzing the'document 'column\n",
    "df_scores['기업번호'] = df_scores['Document'].apply(lambda x: x.split('_')[0])\n",
    "df_scores['문서유형'] = df_scores['Document'].apply(lambda x: x.split('_')[1])\n",
    "df_scores['발행정보'] = df_scores['Document'].apply(lambda x: x.split('_')[2])\n",
    "\n",
    "#Sccal from the average of scores and combined by grouping by the same company reports and articles.\n",
    "result = df_scores.groupby(['기업번호', '문서유형'])['ESG Score'].agg(['mean', 'sum']).reset_index()\n",
    "\n",
    "# Output\n",
    "print(result)\n"
   ]
  },
  {
   "cell_type": "code",
   "execution_count": null,
   "metadata": {
    "id": "v1aUyE6yruS1"
   },
   "outputs": [],
   "source": []
  }
 ],
 "metadata": {
  "colab": {
   "provenance": []
  },
  "kernelspec": {
   "display_name": "Python 3",
   "name": "python3"
  },
  "language_info": {
   "name": "python"
  }
 },
 "nbformat": 4,
 "nbformat_minor": 0
}
