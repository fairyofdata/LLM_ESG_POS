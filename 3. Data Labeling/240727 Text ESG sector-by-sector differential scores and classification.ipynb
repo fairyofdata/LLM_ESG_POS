{
 "cells": [
  {
   "cell_type": "code",
   "execution_count": null,
   "metadata": {
    "id": "lrlErfbj4B_v"
   },
   "outputs": [],
   "source": [
    "# Necessary library installation\n",
    "!pip install openai==0.28\n",
    "# Openai API key setting\n",
    "import openai\n",
    "openai.api_key = 'sk-'"
   ]
  },
  {
   "cell_type": "code",
   "execution_count": null,
   "metadata": {
    "id": "y3-YJs2g4MZD"
   },
   "outputs": [],
   "source": [
    "import os\n",
    "import pandas as pd\n",
    "import random\n",
    "!pip install transformers\n",
    "from transformers import T5Tokenizer, T5ForConditionalGeneration, ElectraTokenizer, ElectraForSequenceClassification, Trainer, TrainingArguments\n",
    "import torch\n",
    "from sklearn.model_selection import train_test_split"
   ]
  },
  {
   "cell_type": "markdown",
   "metadata": {
    "id": "7iF4MSsG3lOa"
   },
   "source": [
    "### Labeling"
   ]
  },
  {
   "cell_type": "markdown",
   "metadata": {
    "id": "d-UW1eo44wxJ"
   },
   "source": [
    "Translation setting"
   ]
  },
  {
   "cell_type": "code",
   "execution_count": null,
   "metadata": {
    "id": "oHQQxFu64A3Q"
   },
   "outputs": [],
   "source": [
    "# # T5 model setting (Korean-> English translation)\n",
    "# t5_tokenizer = T5Tokenizer.from_pretrained(\"KETI-AIR/ke-t5-base\")\n",
    "# t5_model = T5ForConditionalGeneration.from_pretrained(\"KETI-AIR/ke-t5-base\")\n",
    "\n",
    "# Def Translate_text (text):\n",
    "#     input_ids = t5_tokenizer(\"translate Korean to English: \" + text, return_tensors=\"pt\").input_ids\n",
    "#     outputs = t5_model.generate(input_ids)\n",
    "#     translated_text = t5_tokenizer.decode(outputs[0], skip_special_tokens=True)\n",
    "# Return Translated_text"
   ]
  },
  {
   "cell_type": "markdown",
   "metadata": {
    "id": "1hwivlRr4yj_"
   },
   "source": [
    "Data extraction and labeling setting"
   ]
  },
  {
   "cell_type": "code",
   "execution_count": 17,
   "metadata": {
    "executionInfo": {
     "elapsed": 269,
     "status": "ok",
     "timestamp": 1723003230333,
     "user": {
      "displayName": "백현지",
      "userId": "02510457579208942463"
     },
     "user_tz": -540
    },
    "id": "kvgOwRP1-tsJ"
   },
   "outputs": [],
   "source": [
    "# CSV file path setting\n",
    "directory = '/content/drive/MyDrive/Kwargs/esg관련도/processed'  # CSV 파일이 있는 디렉토리 경로\n",
    "csv_files = [f for f in os.listdir(directory) if f.startswith('esg_related_') and f.endswith('_processed.csv')]"
   ]
  },
  {
   "cell_type": "code",
   "execution_count": 59,
   "metadata": {
    "executionInfo": {
     "elapsed": 3198,
     "status": "ok",
     "timestamp": 1723010305085,
     "user": {
      "displayName": "백현지",
      "userId": "02510457579208942463"
     },
     "user_tz": -540
    },
    "id": "DsP9ix7K-vaW"
   },
   "outputs": [],
   "source": [
    "# 100 randomly extracted full_text from each CSV file\n",
    "texts = []\n",
    "for csv_file in csv_files:\n",
    "    df = pd.read_csv(os.path.join(directory, csv_file))\n",
    "    sample_texts = df['full_text'].sample(n=100, random_state=42).tolist()\n",
    "    texts.extend(sample_texts)"
   ]
  },
  {
   "cell_type": "code",
   "execution_count": 60,
   "metadata": {
    "executionInfo": {
     "elapsed": 325,
     "status": "ok",
     "timestamp": 1723010306508,
     "user": {
      "displayName": "백현지",
      "userId": "02510457579208942463"
     },
     "user_tz": -540
    },
    "id": "2zfy2GdK3vxi"
   },
   "outputs": [],
   "source": [
    "# Random 1000 articles from the entire dataset\n",
    "random.shuffle(texts)\n",
    "#texts = texts[:1000]"
   ]
  },
  {
   "cell_type": "code",
   "execution_count": 61,
   "metadata": {
    "colab": {
     "base_uri": "https://localhost:8080/"
    },
    "executionInfo": {
     "elapsed": 7,
     "status": "ok",
     "timestamp": 1723010307840,
     "user": {
      "displayName": "백현지",
      "userId": "02510457579208942463"
     },
     "user_tz": -540
    },
    "id": "lUtN1BU2_ciL",
    "outputId": "b7a5bb15-1aad-492f-a473-43bcec728ead"
   },
   "outputs": [
    {
     "data": {
      "text/plain": [
       "2100"
      ]
     },
     "execution_count": 61,
     "metadata": {},
     "output_type": "execute_result"
    }
   ],
   "source": [
    "len(texts)"
   ]
  },
  {
   "cell_type": "markdown",
   "metadata": {
    "id": "-RWuV30p6KjO"
   },
   "source": [
    "Translation and labeling"
   ]
  },
  {
   "cell_type": "code",
   "execution_count": 70,
   "metadata": {
    "executionInfo": {
     "elapsed": 371,
     "status": "ok",
     "timestamp": 1723011656392,
     "user": {
      "displayName": "백현지",
      "userId": "02510457579208942463"
     },
     "user_tz": -540
    },
    "id": "Fg51Rw-P7piS"
   },
   "outputs": [],
   "source": [
    "def label_text(text):\n",
    "    response = openai.ChatCompletion.create(\n",
    "        model=\"gpt-3.5-turbo\",\n",
    "        messages=[\n",
    "            {\"role\": \"system\", \"content\": \"You are a helpful assistant.\"},\n",
    "            {\"role\": \"user\", \"content\": f\"다음 텍스트를 읽고, ESG (환경, 사회, 지배구조) 항목 중 어디에 해당하는지 분류해 주세요. 각 항목에 대해 0 또는 1로 답해주세요.\\n\\n텍스트: {text}\\n\\n환경: [0 또는 1]\\n사회: [0 또는 1]\\n지배구조: [0 또는 1]\"}\n",
    "        ],\n",
    "        max_tokens=50\n",
    "    )\n",
    "    response_text = response.choices[0].message['content'].strip()\n",
    "    lines = response_text.split('\\n')\n",
    "    labels = [0, 0, 0]  # 기본값으로 초기화\n",
    "\n",
    "    for line in lines:\n",
    "        parts = line.split(': ')\n",
    "        if len(parts) == 2:\n",
    "            key, value = parts\n",
    "            if '환경' in key:\n",
    "                labels[0] = int(value)\n",
    "            elif '사회' in key:\n",
    "                labels[1] = int(value)\n",
    "            elif '지배구조' in key:\n",
    "                labels[2] = int(value)\n",
    "\n",
    "    return labels\n"
   ]
  },
  {
   "cell_type": "code",
   "execution_count": 63,
   "metadata": {
    "executionInfo": {
     "elapsed": 2,
     "status": "ok",
     "timestamp": 1723010313926,
     "user": {
      "displayName": "백현지",
      "userId": "02510457579208942463"
     },
     "user_tz": -540
    },
    "id": "zysPbvsIAXKv"
   },
   "outputs": [],
   "source": [
    "from IPython.display import clear_output"
   ]
  },
  {
   "cell_type": "code",
   "execution_count": 71,
   "metadata": {
    "colab": {
     "base_uri": "https://localhost:8080/"
    },
    "executionInfo": {
     "elapsed": 319,
     "status": "ok",
     "timestamp": 1723011660289,
     "user": {
      "displayName": "백현지",
      "userId": "02510457579208942463"
     },
     "user_tz": -540
    },
    "id": "OpqOT_-ZKRYq",
    "outputId": "93c0b184-45c3-4ce8-c316-234edcb02ef7"
   },
   "outputs": [
    {
     "name": "stdout",
     "output_type": "stream",
     "text": [
      "2100\n"
     ]
    }
   ],
   "source": [
    "# Data labeling and storage\n",
    "labeled_data = []\n",
    "num_texts = len(texts)  # 텍스트 개수 확인\n",
    "print(num_texts)"
   ]
  },
  {
   "cell_type": "code",
   "execution_count": null,
   "metadata": {
    "id": "XLHGk7kyf6Z9"
   },
   "outputs": [],
   "source": [
    "# Existing data load\n",
    "directory = '/content/drive/MyDrive/Kwargs'\n",
    "labeled_csv_path = os.path.join(directory, 'esg_sector_sort_by_openai.csv')\n",
    "\n",
    "if os.path.exists(labeled_csv_path):\n",
    "    df_existing = pd.read_csv(labeled_csv_path)\n",
    "    labeled_data = df_existing.to_dict('records')\n",
    "    processed_texts = df_existing['text'].tolist()\n",
    "else:\n",
    "    labeled_data = []\n",
    "    processed_texts = []"
   ]
  },
  {
   "cell_type": "code",
   "execution_count": 65,
   "metadata": {
    "colab": {
     "base_uri": "https://localhost:8080/",
     "height": 508
    },
    "executionInfo": {
     "elapsed": 314412,
     "status": "error",
     "timestamp": 1723010634387,
     "user": {
      "displayName": "백현지",
      "userId": "02510457579208942463"
     },
     "user_tz": -540
    },
    "id": "8w0YuZzv6KPZ",
    "outputId": "9bc29e31-9777-4a9b-c8fd-a9da70ed48a3"
   },
   "outputs": [
    {
     "name": "stdout",
     "output_type": "stream",
     "text": [
      "Processed 540/2100 texts\n",
      "Original text: 체계적인 ESG 경영 ISO 준수가 도움 ESG 경영은 금융투자 스타트업 육성 제품 개발 등 실질적인 기업활동에 적극적으로 녹아들고 있다 비즈니스워치는 다양한 ESG 경영활동이 이뤄지는 현장을 발굴해 공유함으로써 ESG경영 확산에 기여하고자 한다 편집자ESG 환경 사회 지배구조 경영에서 환경 E 은 기후변화 자원고갈 물 공해 등을 꼽을 수 있다 사회 S 는\n",
      "Labeled: Environmental: 1, Social: 1, Governance: 1\n",
      "Processed 541/2100 texts\n",
      "Original text: 괜히 줄 서는 게 아니었네샤넬 클래식백 천만원 돌파 프랑스 명품 브랜드 샤넬이 소문대로 인기 제품의 국내 판매 가격을 만원 안팎 인상했다일 샤넬 공식 홈페이지에 따르면 샤넬은 핸드백 등 일부 제품 가격을 인상한 것으로 확인됐다샤넬의 대표 핸드백인 클래식 스몰은 만원에서 만원으로 한국에서 가장 많이 팔리는 클래식 미디움 사이즈는 만원에서 만원으로 각각 인상됐\n",
      "Labeled: Environmental: 0, Social: 1, Governance: 0\n",
      "Processed 542/2100 texts\n",
      "Original text: 총수일가 경영권 승계 가속화 대림그룹 이해욱 회장 지분 가장 많이 늘어 일간스포츠 김두용 재벌 총수일가의 경영권 승계 작업이 최근 활발하게 일어나고 있는 것으로 조사됐다 기업평가사이트 스코어는 일 공정거래위원회 지정 개 대기업 집단 중 총수가 있는 개 대기업집단의 핵심 계열사 지분 변화를 조사했다 그 결과 총수의 자녀세대가 년 전보다 지분을 늘린 곳은 전체\n",
      "Labeled: Environmental: 0, Social: 0, Governance: 1\n"
     ]
    },
    {
     "ename": "IndexError",
     "evalue": "list index out of range",
     "output_type": "error",
     "traceback": [
      "\u001b[0;31m---------------------------------------------------------------------------\u001b[0m",
      "\u001b[0;31mIndexError\u001b[0m                                Traceback (most recent call last)",
      "\u001b[0;32m<ipython-input-65-7b4e75b59783>\u001b[0m in \u001b[0;36m<cell line: 1>\u001b[0;34m()\u001b[0m\n\u001b[1;32m      1\u001b[0m \u001b[0;32mfor\u001b[0m \u001b[0mi\u001b[0m\u001b[0;34m,\u001b[0m \u001b[0mtext\u001b[0m \u001b[0;32min\u001b[0m \u001b[0menumerate\u001b[0m\u001b[0;34m(\u001b[0m\u001b[0mtexts\u001b[0m\u001b[0;34m)\u001b[0m\u001b[0;34m:\u001b[0m\u001b[0;34m\u001b[0m\u001b[0;34m\u001b[0m\u001b[0m\n\u001b[0;32m----> 2\u001b[0;31m     \u001b[0mlabels\u001b[0m \u001b[0;34m=\u001b[0m \u001b[0mlabel_text\u001b[0m\u001b[0;34m(\u001b[0m\u001b[0mtext\u001b[0m\u001b[0;34m[\u001b[0m\u001b[0;34m:\u001b[0m\u001b[0;36m200\u001b[0m\u001b[0;34m]\u001b[0m\u001b[0;34m)\u001b[0m\u001b[0;34m\u001b[0m\u001b[0;34m\u001b[0m\u001b[0m\n\u001b[0m\u001b[1;32m      3\u001b[0m     labeled_data.append({\n\u001b[1;32m      4\u001b[0m         \u001b[0;34m'text'\u001b[0m\u001b[0;34m:\u001b[0m \u001b[0mtext\u001b[0m\u001b[0;34m[\u001b[0m\u001b[0;34m:\u001b[0m\u001b[0;36m200\u001b[0m\u001b[0;34m]\u001b[0m\u001b[0;34m,\u001b[0m  \u001b[0;31m# 한글 텍스트 앞의 200자\u001b[0m\u001b[0;34m\u001b[0m\u001b[0;34m\u001b[0m\u001b[0m\n\u001b[1;32m      5\u001b[0m         \u001b[0;34m'environmental'\u001b[0m\u001b[0;34m:\u001b[0m \u001b[0mlabels\u001b[0m\u001b[0;34m[\u001b[0m\u001b[0;36m0\u001b[0m\u001b[0;34m]\u001b[0m\u001b[0;34m,\u001b[0m\u001b[0;34m\u001b[0m\u001b[0;34m\u001b[0m\u001b[0m\n",
      "\u001b[0;32m<ipython-input-62-79984fd48b23>\u001b[0m in \u001b[0;36mlabel_text\u001b[0;34m(text)\u001b[0m\n\u001b[1;32m     13\u001b[0m     \u001b[0;32mfor\u001b[0m \u001b[0mline\u001b[0m \u001b[0;32min\u001b[0m \u001b[0mlines\u001b[0m\u001b[0;34m:\u001b[0m\u001b[0;34m\u001b[0m\u001b[0;34m\u001b[0m\u001b[0m\n\u001b[1;32m     14\u001b[0m         \u001b[0;32mif\u001b[0m \u001b[0;34m'환경'\u001b[0m \u001b[0;32min\u001b[0m \u001b[0mline\u001b[0m\u001b[0;34m:\u001b[0m\u001b[0;34m\u001b[0m\u001b[0;34m\u001b[0m\u001b[0m\n\u001b[0;32m---> 15\u001b[0;31m             \u001b[0mlabels\u001b[0m\u001b[0;34m.\u001b[0m\u001b[0mappend\u001b[0m\u001b[0;34m(\u001b[0m\u001b[0mint\u001b[0m\u001b[0;34m(\u001b[0m\u001b[0mline\u001b[0m\u001b[0;34m.\u001b[0m\u001b[0msplit\u001b[0m\u001b[0;34m(\u001b[0m\u001b[0;34m': '\u001b[0m\u001b[0;34m)\u001b[0m\u001b[0;34m[\u001b[0m\u001b[0;36m1\u001b[0m\u001b[0;34m]\u001b[0m\u001b[0;34m)\u001b[0m\u001b[0;34m)\u001b[0m\u001b[0;34m\u001b[0m\u001b[0;34m\u001b[0m\u001b[0m\n\u001b[0m\u001b[1;32m     16\u001b[0m         \u001b[0;32melif\u001b[0m \u001b[0;34m'사회'\u001b[0m \u001b[0;32min\u001b[0m \u001b[0mline\u001b[0m\u001b[0;34m:\u001b[0m\u001b[0;34m\u001b[0m\u001b[0;34m\u001b[0m\u001b[0m\n\u001b[1;32m     17\u001b[0m             \u001b[0mlabels\u001b[0m\u001b[0;34m.\u001b[0m\u001b[0mappend\u001b[0m\u001b[0;34m(\u001b[0m\u001b[0mint\u001b[0m\u001b[0;34m(\u001b[0m\u001b[0mline\u001b[0m\u001b[0;34m.\u001b[0m\u001b[0msplit\u001b[0m\u001b[0;34m(\u001b[0m\u001b[0;34m': '\u001b[0m\u001b[0;34m)\u001b[0m\u001b[0;34m[\u001b[0m\u001b[0;36m1\u001b[0m\u001b[0;34m]\u001b[0m\u001b[0;34m)\u001b[0m\u001b[0;34m)\u001b[0m\u001b[0;34m\u001b[0m\u001b[0;34m\u001b[0m\u001b[0m\n",
      "\u001b[0;31mIndexError\u001b[0m: list index out of range"
     ]
    }
   ],
   "source": [
    "for i, text in enumerate(texts):\n",
    "    labels = label_text(text[:200])\n",
    "    labeled_data.append({\n",
    "        'text': text[:200],  # 한글 텍스트 앞의 200자\n",
    "        'environmental': labels[0],\n",
    "        'social': labels[1],\n",
    "        'governance': labels[2]\n",
    "    })\n",
    "# Whenever 20 processed, erase output (tin processing)\n",
    "    if (i + 1) % 20 == 0:\n",
    "         clear_output(wait=True)\n",
    "    print(f\"Processed {i+1}/{num_texts} texts\")\n",
    "    print(f\"Original text: {text[:200]}\")\n",
    "    print(f\"Labeled: Environmental: {labels[0]}, Social: {labels[1]}, Governance: {labels[2]}\")\n",
    "\n",
    "# Converted labeled data to DataFrame\n",
    "df_labeled = pd.DataFrame(labeled_data)\n",
    "\n",
    "#Save the labeled data as a CSV file\n",
    "labeled_csv_path = os.path.join(directory, '/content/drive/MyDrive/Kwargs/esg_sector_sort_by_openai.csv')\n",
    "df_labeled.to_csv(labeled_csv_path, index=False)\n",
    "print(f\"Labeled data saved to {labeled_csv_path}\")\n"
   ]
  },
  {
   "cell_type": "code",
   "execution_count": 74,
   "metadata": {
    "colab": {
     "base_uri": "https://localhost:8080/",
     "height": 363
    },
    "executionInfo": {
     "elapsed": 536,
     "status": "ok",
     "timestamp": 1723011709556,
     "user": {
      "displayName": "백현지",
      "userId": "02510457579208942463"
     },
     "user_tz": -540
    },
    "id": "r64TtfiOdLog",
    "outputId": "6ff870db-2d2b-4179-f52a-8f5984187f0d"
   },
   "outputs": [
    {
     "data": {
      "application/vnd.google.colaboratory.intrinsic+json": {
       "summary": "{\n  \"name\": \"df_labeled\",\n  \"rows\": 10,\n  \"fields\": [\n    {\n      \"column\": \"text\",\n      \"properties\": {\n        \"dtype\": \"string\",\n        \"num_unique_values\": 10,\n        \"samples\": [\n          \"\\ubc30\\ud130\\ub9ac \\ub370\\uc774 2021 \\ubc30\\uac74\\ud638 \\uc0bc\\uc544\\uc54c\\ubbf8\\ub284 \\uc13c\\ud130\\uc7a5 \\uc774\\ucc28\\uc804\\uc9c0\\uc6a9 9 \\uc54c\\ub8e8\\ubbf8\\ub284\\ubc15 \\uac1c\\ubc1c\\uc99d\\uc124 \\uc0bc\\uc544\\uc54c\\ubbf8\\ub284\\uc740 \\uc774\\ucc28\\uc804\\uc9c0 \\ubc30\\ud130\\ub9ac \\uc18d \\uc591\\uadf9 \\uc9d1\\uc804\\uccb4 \\ud575\\uc2ec \\uc18c\\uc7ac\\uc778 \\uc54c\\ub8e8\\ubbf8\\ub284\\ubc15\\uc744 \\uc0dd\\uc0b0\\ud55c\\ub2e4 \\uc54c\\ub8e8\\ubbf8\\ub284\\ubc15\\uc740 \\ubc30\\ud130\\ub9ac \\uc6a9\\ub7c9\\uacfc \\ucd9c\\ub825\\uc744 \\uacb0\\uc815\\uc9d3\\ub294 \\uc591\\uadf9\\uc5d0\\uc11c \\uc804\\uae30\\ub97c \\ubaa8\\uc544\\ub450\\uac70\\ub098 \\ud65c\\ubb3c\\uc9c8\\ub85c \\uc804\\ub958\\ub97c \\uc804\\ub2ec\\ud558\\ub294 \\uc591\\uadf9 \\uc9d1\\uc804\\uccb4\\uc758 \\uae30\\ub465 \\uc5ed\\ud560\\uc744 \\ud55c\\ub2e4 \\ud2b9\\ud788 \\uc54c\\ub8e8\\ubbf8\\ub284\\ubc15 \\uc591\\uba74\\uc5d0 \\uc804\\uc790 \\uc774\\ub3d9 \\ud1b5\\ub85c\\uc778 \\ub3c4\\uc804\\uc81c \\uc804\\uadf9 \\ubc18\\uc751\\uc5d0 \\uad00\\uc5ec\\ud558\\ub294 \\ud65c\",\n          \"\\uc2dc\\uac01\\uc7a5\\uc560\\uc778\\ub3c4 \\ud3b8\\ud788 \\ud0c0\\ub294 \\ubc84\\uc2a4 \\uc804\\uae30\\ucc28\\ub85c \\ub9cc\\ub4e0 \\uc778\\uacf5\\uc2e0\\uc7a5\\uc2e4 \\uc77c\\uc0c1 \\uc18d \\uc18c\\ube44\\uc790\\ub098 \\uc0ac\\ud68c\\uc801 \\uc57d\\uc790\\uc758 \\ubd88\\ud3b8\\ud568\\uc744 \\uac1c\\uc120\\ud560 \\uc544\\uc774\\ub514\\uc5b4\\ub97c \\uae30\\uc5c5\\ub4e4\\uc774 \\uc801\\uadf9 \\ubaa8\\uc0c9\\ud558\\uace0 \\uc788\\ub2e4 \\ud604\\ub300\\ucc28 \\uae30\\uc544\\ub294 \\uc2dc\\uac01\\uc7a5\\uc560\\uc778\\uc758 \\uc9c0\\ud321\\uc774\\uc640 \\ub300\\uc911\\uad50\\ud1b5 \\ubc84\\uc2a4\\uc758 \\uc13c\\uc11c\\ub97c \\uc5f0\\uacb0\\ud574 \\uc6d0\\ud558\\ub294 \\ubc84\\uc2a4 \\ud0d1\\uc2b9\\uc744 \\ub3d5\\ub294 \\ud585\\ud2f1 \\ub0b4\\ube44\\uac8c\\uc774\\ud130 \\uacf5\\uc720 \\uc804\\ub3d9 \\ud0a5\\ubcf4\\ub4dc\\ub97c \\ud720\\uccb4\\uc5b4\\uc640 \\uc5f0\\uacb0\\ud574 \\uc774\\uc6a9\\uc790\\uc758 \\uadfc\\uac70\\ub9ac \\uc811\\uadfc\\uc131\\uc744 \\ud5a5\\uc0c1\\ud55c \\uae30\\uc220 \\ub4f1\\uc744 2023 \\uc544\\uc774\\ub514\\uc5b4 \\ud398\\uc2a4\\ud2f0\\ubc8c \\ub300\\uc0c1\",\n          \"\\ud604\\ub300\\ucc28 \\uc601\\uad6d \\ub3c4\\uc2ec\\uc5d0 \\ud50c\\ub77c\\uc789\\uce74 \\uacf5\\ud56d \\uad6c\\ucd95\\ud558\\ub298\\uae38 \\uc5f0\\ub2e4 UAM \\uacf5\\ud56d\\uc740 \\uc18d\\uce6d \\ud50c\\ub77c\\uc789\\uce74 flying car \\ud558\\ub298\\uc744 \\ub098\\ub294 \\uc790\\ub3d9\\ucc28 \\ub85c \\ubd88\\ub9ac\\ub294 \\uc218\\uc9c1 \\uc774\\ucc29\\ub959\\ud615 \\ub3c4\\uc2ec\\ud615 \\ube44\\ud589\\uccb4\\ub4e4\\uc774 \\uc624\\uac00\\ub294 \\uac70\\uc810\\uc774\\ub2e4 \\uc5b4\\ubc18 \\uc5d0\\uc5b4\\ud3ec\\ud2b8\\ub294 \\uae30\\uc874 \\ud5ec\\uae30\\uc7a5\\ubcf4\\ub2e4 40 \\uc791\\uc740 \\ud06c\\uae30\\uc758 \\uc870\\ub9bd\\uc2dd UAM \\uad6c\\ucd95 \\uae30\\uc220\\uc744 \\uac16\\uace0 \\uc788\\ub2e4 \\uc591\\uc0ac\\ub294 \\uc2b9\\uac1d\\uacfc \\ud654\\ubb3c \\uc774\\ub3d9 \\ube44\\ud589\\uccb4 \\ucda9\\uc804 \\ubc0f \\uc720\\uc9c0\\ubcf4\\uc218\\uae4c\\uc9c0 \\uac00\\ub2a5\\ud55c \\uac70\\uc810\\uc744 \\uc601\\uad6d \\ub3c4\\uc2ec\\uc5d0 \\uad6c\\ucd95\\ud574 \\ubbf8\\ub798 \"\n        ],\n        \"semantic_type\": \"\",\n        \"description\": \"\"\n      }\n    },\n    {\n      \"column\": \"environmental\",\n      \"properties\": {\n        \"dtype\": \"number\",\n        \"std\": 0,\n        \"min\": 0,\n        \"max\": 1,\n        \"num_unique_values\": 2,\n        \"samples\": [\n          1,\n          0\n        ],\n        \"semantic_type\": \"\",\n        \"description\": \"\"\n      }\n    },\n    {\n      \"column\": \"social\",\n      \"properties\": {\n        \"dtype\": \"number\",\n        \"std\": 0,\n        \"min\": 0,\n        \"max\": 1,\n        \"num_unique_values\": 2,\n        \"samples\": [\n          0,\n          1\n        ],\n        \"semantic_type\": \"\",\n        \"description\": \"\"\n      }\n    },\n    {\n      \"column\": \"governance\",\n      \"properties\": {\n        \"dtype\": \"number\",\n        \"std\": 0,\n        \"min\": 0,\n        \"max\": 1,\n        \"num_unique_values\": 2,\n        \"samples\": [\n          0,\n          1\n        ],\n        \"semantic_type\": \"\",\n        \"description\": \"\"\n      }\n    }\n  ]\n}",
       "type": "dataframe",
       "variable_name": "df_labeled"
      },
      "text/html": [
       "\n",
       "  <div id=\"df-1bb3e243-1b50-4897-b543-15508bcb2e2a\" class=\"colab-df-container\">\n",
       "    <div>\n",
       "<style scoped>\n",
       "    .dataframe tbody tr th:only-of-type {\n",
       "        vertical-align: middle;\n",
       "    }\n",
       "\n",
       "    .dataframe tbody tr th {\n",
       "        vertical-align: top;\n",
       "    }\n",
       "\n",
       "    .dataframe thead th {\n",
       "        text-align: right;\n",
       "    }\n",
       "</style>\n",
       "<table border=\"1\" class=\"dataframe\">\n",
       "  <thead>\n",
       "    <tr style=\"text-align: right;\">\n",
       "      <th></th>\n",
       "      <th>text</th>\n",
       "      <th>environmental</th>\n",
       "      <th>social</th>\n",
       "      <th>governance</th>\n",
       "    </tr>\n",
       "  </thead>\n",
       "  <tbody>\n",
       "    <tr>\n",
       "      <th>0</th>\n",
       "      <td>尹 당선에 환호하는 원전건설株보성파워텍 18GS건설 7 강세 이날 오전 11시 28...</td>\n",
       "      <td>0</td>\n",
       "      <td>1</td>\n",
       "      <td>1</td>\n",
       "    </tr>\n",
       "    <tr>\n",
       "      <th>1</th>\n",
       "      <td>시각장애인도 편히 타는 버스 전기차로 만든 인공신장실 일상 속 소비자나 사회적 약자...</td>\n",
       "      <td>1</td>\n",
       "      <td>1</td>\n",
       "      <td>0</td>\n",
       "    </tr>\n",
       "    <tr>\n",
       "      <th>2</th>\n",
       "      <td>핀테크 스타트업 밀어주는 우리銀 오픈API 플랫폼 열다 은행이 보유한 각종 금융 데...</td>\n",
       "      <td>0</td>\n",
       "      <td>1</td>\n",
       "      <td>1</td>\n",
       "    </tr>\n",
       "    <tr>\n",
       "      <th>3</th>\n",
       "      <td>KB국민은행고객 함께 친환경 캠페인 실천하고 절감 비용 기부 먼저 종이통장 미발행 ...</td>\n",
       "      <td>1</td>\n",
       "      <td>1</td>\n",
       "      <td>0</td>\n",
       "    </tr>\n",
       "    <tr>\n",
       "      <th>4</th>\n",
       "      <td>협의체 만들고 협력사 동반 성장제약 ESG 문화 선도 글로벌 협력사 머크 싸이티바 ...</td>\n",
       "      <td>0</td>\n",
       "      <td>1</td>\n",
       "      <td>0</td>\n",
       "    </tr>\n",
       "    <tr>\n",
       "      <th>5</th>\n",
       "      <td>현대차 영국 도심에 플라잉카 공항 구축하늘길 연다 UAM 공항은 속칭 플라잉카 fl...</td>\n",
       "      <td>0</td>\n",
       "      <td>1</td>\n",
       "      <td>0</td>\n",
       "    </tr>\n",
       "    <tr>\n",
       "      <th>6</th>\n",
       "      <td>단독 삼성 준법감시위 2개월여만에위법 의혹 제보 130여건 지난 3월 23일 공식 ...</td>\n",
       "      <td>0</td>\n",
       "      <td>0</td>\n",
       "      <td>1</td>\n",
       "    </tr>\n",
       "    <tr>\n",
       "      <th>7</th>\n",
       "      <td>실내 매트는 페트병으로 의자는 청바지티셔츠로 착한 녀석들이 달려온다 에코스포츠 한 ...</td>\n",
       "      <td>1</td>\n",
       "      <td>0</td>\n",
       "      <td>0</td>\n",
       "    </tr>\n",
       "    <tr>\n",
       "      <th>8</th>\n",
       "      <td>배터리 데이 2021 배건호 삼아알미늄 센터장 이차전지용 9 알루미늄박 개발증설 삼...</td>\n",
       "      <td>1</td>\n",
       "      <td>0</td>\n",
       "      <td>0</td>\n",
       "    </tr>\n",
       "    <tr>\n",
       "      <th>9</th>\n",
       "      <td>삼성전자 美서 GPU 고급 인력 채용하는 이유는 모바일 넘어 범용 AI 칩 개발 가...</td>\n",
       "      <td>0</td>\n",
       "      <td>1</td>\n",
       "      <td>0</td>\n",
       "    </tr>\n",
       "  </tbody>\n",
       "</table>\n",
       "</div>\n",
       "    <div class=\"colab-df-buttons\">\n",
       "\n",
       "  <div class=\"colab-df-container\">\n",
       "    <button class=\"colab-df-convert\" onclick=\"convertToInteractive('df-1bb3e243-1b50-4897-b543-15508bcb2e2a')\"\n",
       "            title=\"Convert this dataframe to an interactive table.\"\n",
       "            style=\"display:none;\">\n",
       "\n",
       "  <svg xmlns=\"http://www.w3.org/2000/svg\" height=\"24px\" viewBox=\"0 -960 960 960\">\n",
       "    <path d=\"M120-120v-720h720v720H120Zm60-500h600v-160H180v160Zm220 220h160v-160H400v160Zm0 220h160v-160H400v160ZM180-400h160v-160H180v160Zm440 0h160v-160H620v160ZM180-180h160v-160H180v160Zm440 0h160v-160H620v160Z\"/>\n",
       "  </svg>\n",
       "    </button>\n",
       "\n",
       "  <style>\n",
       "    .colab-df-container {\n",
       "      display:flex;\n",
       "      gap: 12px;\n",
       "    }\n",
       "\n",
       "    .colab-df-convert {\n",
       "      background-color: #E8F0FE;\n",
       "      border: none;\n",
       "      border-radius: 50%;\n",
       "      cursor: pointer;\n",
       "      display: none;\n",
       "      fill: #1967D2;\n",
       "      height: 32px;\n",
       "      padding: 0 0 0 0;\n",
       "      width: 32px;\n",
       "    }\n",
       "\n",
       "    .colab-df-convert:hover {\n",
       "      background-color: #E2EBFA;\n",
       "      box-shadow: 0px 1px 2px rgba(60, 64, 67, 0.3), 0px 1px 3px 1px rgba(60, 64, 67, 0.15);\n",
       "      fill: #174EA6;\n",
       "    }\n",
       "\n",
       "    .colab-df-buttons div {\n",
       "      margin-bottom: 4px;\n",
       "    }\n",
       "\n",
       "    [theme=dark] .colab-df-convert {\n",
       "      background-color: #3B4455;\n",
       "      fill: #D2E3FC;\n",
       "    }\n",
       "\n",
       "    [theme=dark] .colab-df-convert:hover {\n",
       "      background-color: #434B5C;\n",
       "      box-shadow: 0px 1px 3px 1px rgba(0, 0, 0, 0.15);\n",
       "      filter: drop-shadow(0px 1px 2px rgba(0, 0, 0, 0.3));\n",
       "      fill: #FFFFFF;\n",
       "    }\n",
       "  </style>\n",
       "\n",
       "    <script>\n",
       "      const buttonEl =\n",
       "        document.querySelector('#df-1bb3e243-1b50-4897-b543-15508bcb2e2a button.colab-df-convert');\n",
       "      buttonEl.style.display =\n",
       "        google.colab.kernel.accessAllowed ? 'block' : 'none';\n",
       "\n",
       "      async function convertToInteractive(key) {\n",
       "        const element = document.querySelector('#df-1bb3e243-1b50-4897-b543-15508bcb2e2a');\n",
       "        const dataTable =\n",
       "          await google.colab.kernel.invokeFunction('convertToInteractive',\n",
       "                                                    [key], {});\n",
       "        if (!dataTable) return;\n",
       "\n",
       "        const docLinkHtml = 'Like what you see? Visit the ' +\n",
       "          '<a target=\"_blank\" href=https://colab.research.google.com/notebooks/data_table.ipynb>data table notebook</a>'\n",
       "          + ' to learn more about interactive tables.';\n",
       "        element.innerHTML = '';\n",
       "        dataTable['output_type'] = 'display_data';\n",
       "        await google.colab.output.renderOutput(dataTable, element);\n",
       "        const docLink = document.createElement('div');\n",
       "        docLink.innerHTML = docLinkHtml;\n",
       "        element.appendChild(docLink);\n",
       "      }\n",
       "    </script>\n",
       "  </div>\n",
       "\n",
       "\n",
       "<div id=\"df-cbe4da94-95a7-411d-b414-27587029146f\">\n",
       "  <button class=\"colab-df-quickchart\" onclick=\"quickchart('df-cbe4da94-95a7-411d-b414-27587029146f')\"\n",
       "            title=\"Suggest charts\"\n",
       "            style=\"display:none;\">\n",
       "\n",
       "<svg xmlns=\"http://www.w3.org/2000/svg\" height=\"24px\"viewBox=\"0 0 24 24\"\n",
       "     width=\"24px\">\n",
       "    <g>\n",
       "        <path d=\"M19 3H5c-1.1 0-2 .9-2 2v14c0 1.1.9 2 2 2h14c1.1 0 2-.9 2-2V5c0-1.1-.9-2-2-2zM9 17H7v-7h2v7zm4 0h-2V7h2v10zm4 0h-2v-4h2v4z\"/>\n",
       "    </g>\n",
       "</svg>\n",
       "  </button>\n",
       "\n",
       "<style>\n",
       "  .colab-df-quickchart {\n",
       "      --bg-color: #E8F0FE;\n",
       "      --fill-color: #1967D2;\n",
       "      --hover-bg-color: #E2EBFA;\n",
       "      --hover-fill-color: #174EA6;\n",
       "      --disabled-fill-color: #AAA;\n",
       "      --disabled-bg-color: #DDD;\n",
       "  }\n",
       "\n",
       "  [theme=dark] .colab-df-quickchart {\n",
       "      --bg-color: #3B4455;\n",
       "      --fill-color: #D2E3FC;\n",
       "      --hover-bg-color: #434B5C;\n",
       "      --hover-fill-color: #FFFFFF;\n",
       "      --disabled-bg-color: #3B4455;\n",
       "      --disabled-fill-color: #666;\n",
       "  }\n",
       "\n",
       "  .colab-df-quickchart {\n",
       "    background-color: var(--bg-color);\n",
       "    border: none;\n",
       "    border-radius: 50%;\n",
       "    cursor: pointer;\n",
       "    display: none;\n",
       "    fill: var(--fill-color);\n",
       "    height: 32px;\n",
       "    padding: 0;\n",
       "    width: 32px;\n",
       "  }\n",
       "\n",
       "  .colab-df-quickchart:hover {\n",
       "    background-color: var(--hover-bg-color);\n",
       "    box-shadow: 0 1px 2px rgba(60, 64, 67, 0.3), 0 1px 3px 1px rgba(60, 64, 67, 0.15);\n",
       "    fill: var(--button-hover-fill-color);\n",
       "  }\n",
       "\n",
       "  .colab-df-quickchart-complete:disabled,\n",
       "  .colab-df-quickchart-complete:disabled:hover {\n",
       "    background-color: var(--disabled-bg-color);\n",
       "    fill: var(--disabled-fill-color);\n",
       "    box-shadow: none;\n",
       "  }\n",
       "\n",
       "  .colab-df-spinner {\n",
       "    border: 2px solid var(--fill-color);\n",
       "    border-color: transparent;\n",
       "    border-bottom-color: var(--fill-color);\n",
       "    animation:\n",
       "      spin 1s steps(1) infinite;\n",
       "  }\n",
       "\n",
       "  @keyframes spin {\n",
       "    0% {\n",
       "      border-color: transparent;\n",
       "      border-bottom-color: var(--fill-color);\n",
       "      border-left-color: var(--fill-color);\n",
       "    }\n",
       "    20% {\n",
       "      border-color: transparent;\n",
       "      border-left-color: var(--fill-color);\n",
       "      border-top-color: var(--fill-color);\n",
       "    }\n",
       "    30% {\n",
       "      border-color: transparent;\n",
       "      border-left-color: var(--fill-color);\n",
       "      border-top-color: var(--fill-color);\n",
       "      border-right-color: var(--fill-color);\n",
       "    }\n",
       "    40% {\n",
       "      border-color: transparent;\n",
       "      border-right-color: var(--fill-color);\n",
       "      border-top-color: var(--fill-color);\n",
       "    }\n",
       "    60% {\n",
       "      border-color: transparent;\n",
       "      border-right-color: var(--fill-color);\n",
       "    }\n",
       "    80% {\n",
       "      border-color: transparent;\n",
       "      border-right-color: var(--fill-color);\n",
       "      border-bottom-color: var(--fill-color);\n",
       "    }\n",
       "    90% {\n",
       "      border-color: transparent;\n",
       "      border-bottom-color: var(--fill-color);\n",
       "    }\n",
       "  }\n",
       "</style>\n",
       "\n",
       "  <script>\n",
       "    async function quickchart(key) {\n",
       "      const quickchartButtonEl =\n",
       "        document.querySelector('#' + key + ' button');\n",
       "      quickchartButtonEl.disabled = true;  // To prevent multiple clicks.\n",
       "      quickchartButtonEl.classList.add('colab-df-spinner');\n",
       "      try {\n",
       "        const charts = await google.colab.kernel.invokeFunction(\n",
       "            'suggestCharts', [key], {});\n",
       "      } catch (error) {\n",
       "        console.error('Error during call to suggestCharts:', error);\n",
       "      }\n",
       "      quickchartButtonEl.classList.remove('colab-df-spinner');\n",
       "      quickchartButtonEl.classList.add('colab-df-quickchart-complete');\n",
       "    }\n",
       "    (() => {\n",
       "      let quickchartButtonEl =\n",
       "        document.querySelector('#df-cbe4da94-95a7-411d-b414-27587029146f button');\n",
       "      quickchartButtonEl.style.display =\n",
       "        google.colab.kernel.accessAllowed ? 'block' : 'none';\n",
       "    })();\n",
       "  </script>\n",
       "</div>\n",
       "\n",
       "  <div id=\"id_0683ebaf-1417-4fa4-9a9a-218507346ab5\">\n",
       "    <style>\n",
       "      .colab-df-generate {\n",
       "        background-color: #E8F0FE;\n",
       "        border: none;\n",
       "        border-radius: 50%;\n",
       "        cursor: pointer;\n",
       "        display: none;\n",
       "        fill: #1967D2;\n",
       "        height: 32px;\n",
       "        padding: 0 0 0 0;\n",
       "        width: 32px;\n",
       "      }\n",
       "\n",
       "      .colab-df-generate:hover {\n",
       "        background-color: #E2EBFA;\n",
       "        box-shadow: 0px 1px 2px rgba(60, 64, 67, 0.3), 0px 1px 3px 1px rgba(60, 64, 67, 0.15);\n",
       "        fill: #174EA6;\n",
       "      }\n",
       "\n",
       "      [theme=dark] .colab-df-generate {\n",
       "        background-color: #3B4455;\n",
       "        fill: #D2E3FC;\n",
       "      }\n",
       "\n",
       "      [theme=dark] .colab-df-generate:hover {\n",
       "        background-color: #434B5C;\n",
       "        box-shadow: 0px 1px 3px 1px rgba(0, 0, 0, 0.15);\n",
       "        filter: drop-shadow(0px 1px 2px rgba(0, 0, 0, 0.3));\n",
       "        fill: #FFFFFF;\n",
       "      }\n",
       "    </style>\n",
       "    <button class=\"colab-df-generate\" onclick=\"generateWithVariable('df_labeled')\"\n",
       "            title=\"Generate code using this dataframe.\"\n",
       "            style=\"display:none;\">\n",
       "\n",
       "  <svg xmlns=\"http://www.w3.org/2000/svg\" height=\"24px\"viewBox=\"0 0 24 24\"\n",
       "       width=\"24px\">\n",
       "    <path d=\"M7,19H8.4L18.45,9,17,7.55,7,17.6ZM5,21V16.75L18.45,3.32a2,2,0,0,1,2.83,0l1.4,1.43a1.91,1.91,0,0,1,.58,1.4,1.91,1.91,0,0,1-.58,1.4L9.25,21ZM18.45,9,17,7.55Zm-12,3A5.31,5.31,0,0,0,4.9,8.1,5.31,5.31,0,0,0,1,6.5,5.31,5.31,0,0,0,4.9,4.9,5.31,5.31,0,0,0,6.5,1,5.31,5.31,0,0,0,8.1,4.9,5.31,5.31,0,0,0,12,6.5,5.46,5.46,0,0,0,6.5,12Z\"/>\n",
       "  </svg>\n",
       "    </button>\n",
       "    <script>\n",
       "      (() => {\n",
       "      const buttonEl =\n",
       "        document.querySelector('#id_0683ebaf-1417-4fa4-9a9a-218507346ab5 button.colab-df-generate');\n",
       "      buttonEl.style.display =\n",
       "        google.colab.kernel.accessAllowed ? 'block' : 'none';\n",
       "\n",
       "      buttonEl.onclick = () => {\n",
       "        google.colab.notebook.generateWithVariable('df_labeled');\n",
       "      }\n",
       "      })();\n",
       "    </script>\n",
       "  </div>\n",
       "\n",
       "    </div>\n",
       "  </div>\n"
      ],
      "text/plain": [
       "                                                text  environmental  social  \\\n",
       "0  尹 당선에 환호하는 원전건설株보성파워텍 18GS건설 7 강세 이날 오전 11시 28...              0       1   \n",
       "1  시각장애인도 편히 타는 버스 전기차로 만든 인공신장실 일상 속 소비자나 사회적 약자...              1       1   \n",
       "2  핀테크 스타트업 밀어주는 우리銀 오픈API 플랫폼 열다 은행이 보유한 각종 금융 데...              0       1   \n",
       "3  KB국민은행고객 함께 친환경 캠페인 실천하고 절감 비용 기부 먼저 종이통장 미발행 ...              1       1   \n",
       "4  협의체 만들고 협력사 동반 성장제약 ESG 문화 선도 글로벌 협력사 머크 싸이티바 ...              0       1   \n",
       "5  현대차 영국 도심에 플라잉카 공항 구축하늘길 연다 UAM 공항은 속칭 플라잉카 fl...              0       1   \n",
       "6  단독 삼성 준법감시위 2개월여만에위법 의혹 제보 130여건 지난 3월 23일 공식 ...              0       0   \n",
       "7  실내 매트는 페트병으로 의자는 청바지티셔츠로 착한 녀석들이 달려온다 에코스포츠 한 ...              1       0   \n",
       "8  배터리 데이 2021 배건호 삼아알미늄 센터장 이차전지용 9 알루미늄박 개발증설 삼...              1       0   \n",
       "9  삼성전자 美서 GPU 고급 인력 채용하는 이유는 모바일 넘어 범용 AI 칩 개발 가...              0       1   \n",
       "\n",
       "   governance  \n",
       "0           1  \n",
       "1           0  \n",
       "2           1  \n",
       "3           0  \n",
       "4           0  \n",
       "5           0  \n",
       "6           1  \n",
       "7           0  \n",
       "8           0  \n",
       "9           0  "
      ]
     },
     "execution_count": 74,
     "metadata": {},
     "output_type": "execute_result"
    }
   ],
   "source": [
    "df_labeled"
   ]
  },
  {
   "cell_type": "code",
   "execution_count": 66,
   "metadata": {
    "colab": {
     "base_uri": "https://localhost:8080/"
    },
    "executionInfo": {
     "elapsed": 335,
     "status": "ok",
     "timestamp": 1723010925696,
     "user": {
      "displayName": "백현지",
      "userId": "02510457579208942463"
     },
     "user_tz": -540
    },
    "id": "zjxsT5kwdDW2",
    "outputId": "9b13323d-c2d8-4893-88e8-dc153bbfdbae"
   },
   "outputs": [
    {
     "name": "stdout",
     "output_type": "stream",
     "text": [
      "Labeled data saved to /content/drive/MyDrive/Kwargs/esg_sector_sort_by_openai.csv\n"
     ]
    }
   ],
   "source": [
    "#Save the labeled data as a CSV file\n",
    "labeled_csv_path = os.path.join(directory, '/content/drive/MyDrive/Kwargs/esg_sector_sort_by_openai.csv')\n",
    "df_labeled.to_csv(labeled_csv_path, index=False)\n",
    "print(f\"Labeled data saved to {labeled_csv_path}\")"
   ]
  },
  {
   "cell_type": "markdown",
   "metadata": {
    "id": "fHBm5Esd486d"
   },
   "source": [
    "Classification model learning (from CSV)"
   ]
  },
  {
   "cell_type": "code",
   "execution_count": 67,
   "metadata": {
    "colab": {
     "base_uri": "https://localhost:8080/"
    },
    "executionInfo": {
     "elapsed": 371,
     "status": "ok",
     "timestamp": 1723010938848,
     "user": {
      "displayName": "백현지",
      "userId": "02510457579208942463"
     },
     "user_tz": -540
    },
    "id": "erwRUfyWXK-W",
    "outputId": "647b1491-2a82-4d6a-9137-acf3e945a6f8"
   },
   "outputs": [
    {
     "data": {
      "text/plain": [
       "(10, 4)"
      ]
     },
     "execution_count": 67,
     "metadata": {},
     "output_type": "execute_result"
    }
   ],
   "source": [
    "df_labeled.shape"
   ]
  },
  {
   "cell_type": "code",
   "execution_count": 54,
   "metadata": {
    "colab": {
     "base_uri": "https://localhost:8080/",
     "height": 196
    },
    "executionInfo": {
     "elapsed": 94567,
     "status": "ok",
     "timestamp": 1723009584287,
     "user": {
      "displayName": "백현지",
      "userId": "02510457579208942463"
     },
     "user_tz": -540
    },
    "id": "VZsETKpv3rUZ",
    "outputId": "bb99d512-0acb-4fbe-d2c0-92898d23f511"
   },
   "outputs": [
    {
     "name": "stderr",
     "output_type": "stream",
     "text": [
      "Some weights of ElectraForSequenceClassification were not initialized from the model checkpoint at monologg/koelectra-small-v3-discriminator and are newly initialized: ['classifier.dense.bias', 'classifier.dense.weight', 'classifier.out_proj.bias', 'classifier.out_proj.weight']\n",
      "You should probably TRAIN this model on a down-stream task to be able to use it for predictions and inference.\n"
     ]
    },
    {
     "data": {
      "text/html": [
       "\n",
       "    <div>\n",
       "      \n",
       "      <progress value='10' max='10' style='width:300px; height:20px; vertical-align: middle;'></progress>\n",
       "      [10/10 01:15, Epoch 10/10]\n",
       "    </div>\n",
       "    <table border=\"1\" class=\"dataframe\">\n",
       "  <thead>\n",
       " <tr style=\"text-align: left;\">\n",
       "      <th>Step</th>\n",
       "      <th>Training Loss</th>\n",
       "    </tr>\n",
       "  </thead>\n",
       "  <tbody>\n",
       "    <tr>\n",
       "      <td>10</td>\n",
       "      <td>0.691600</td>\n",
       "    </tr>\n",
       "  </tbody>\n",
       "</table><p>"
      ],
      "text/plain": [
       "<IPython.core.display.HTML object>"
      ]
     },
     "metadata": {},
     "output_type": "display_data"
    },
    {
     "data": {
      "text/plain": [
       "TrainOutput(global_step=10, training_loss=0.6916143894195557, metrics={'train_runtime': 91.1725, 'train_samples_per_second': 0.877, 'train_steps_per_second': 0.11, 'total_flos': 2353634426880.0, 'train_loss': 0.6916143894195557, 'epoch': 10.0})"
      ]
     },
     "execution_count": 54,
     "metadata": {},
     "output_type": "execute_result"
    }
   ],
   "source": [
    "# Separation of text data and label\n",
    "texts = df_labeled['text'].tolist()\n",
    "labels = df_labeled[['environmental', 'social', 'governance']].values\n",
    "\n",
    "# KoelectRa Talk Nizor setting\n",
    "tokenizer = ElectraTokenizer.from_pretrained(\"monologg/koelectra-small-v3-discriminator\")\n",
    "\n",
    "def tokenize_function(texts):\n",
    "    return tokenizer(texts, padding=\"max_length\", truncation=True, return_tensors=\"pt\")\n",
    "\n",
    "# Data Talk Ninging\n",
    "tokens = [tokenize_function(text) for text in texts]\n",
    "input_ids = torch.cat([token['input_ids'] for token in tokens])\n",
    "attention_mask = torch.cat([token['attention_mask'] for token in tokens])\n",
    "\n",
    "class ESGDataset(torch.utils.data.Dataset):\n",
    "    def __init__(self, input_ids, attention_mask, labels):\n",
    "        self.input_ids = input_ids\n",
    "        self.attention_mask = attention_mask\n",
    "        self.labels = torch.tensor(labels, dtype=torch.float32)\n",
    "\n",
    "    def __getitem__(self, idx):\n",
    "        return {\n",
    "            'input_ids': self.input_ids[idx],\n",
    "            'attention_mask': self.attention_mask[idx],\n",
    "            'labels': self.labels[idx]\n",
    "        }\n",
    "\n",
    "    def __len__(self):\n",
    "        return len(self.labels)\n",
    "\n",
    "# Dataset separation\n",
    "X_train, X_val, y_train, y_val = train_test_split(list(range(len(texts))), labels, test_size=0.2, random_state=42)\n",
    "\n",
    "train_dataset = ESGDataset(input_ids[X_train], attention_mask[X_train], y_train)\n",
    "val_dataset = ESGDataset(input_ids[X_val], attention_mask[X_val], y_val)\n",
    "\n",
    "# KoelectRA model setting\n",
    "model = ElectraForSequenceClassification.from_pretrained(\"monologg/koelectra-small-v3-discriminator\", num_labels=3)\n",
    "\n",
    "# Learning setting\n",
    "training_args = TrainingArguments(\n",
    "    output_dir='./results',\n",
    "    num_train_epochs=10,\n",
    "    per_device_train_batch_size=8,\n",
    "    per_device_eval_batch_size=8,\n",
    "    warmup_steps=500,\n",
    "    weight_decay=0.01,\n",
    "    logging_dir='./logs',\n",
    "    logging_steps=10,\n",
    ")\n",
    "\n",
    "trainer = Trainer(\n",
    "    model=model,\n",
    "    args=training_args,\n",
    "    train_dataset=train_dataset,\n",
    "    eval_dataset=val_dataset,\n",
    ")\n",
    "\n",
    "#Model learning\n",
    "trainer.train()"
   ]
  },
  {
   "cell_type": "markdown",
   "metadata": {
    "id": "c3JnLaNh5Fnd"
   },
   "source": [
    "Classifying it as a learned model"
   ]
  },
  {
   "cell_type": "code",
   "execution_count": 55,
   "metadata": {
    "colab": {
     "base_uri": "https://localhost:8080/",
     "height": 121
    },
    "executionInfo": {
     "elapsed": 1645,
     "status": "ok",
     "timestamp": 1723010227459,
     "user": {
      "displayName": "백현지",
      "userId": "02510457579208942463"
     },
     "user_tz": -540
    },
    "id": "mVFNITeT5FEK",
    "outputId": "8b18f443-cb28-4480-baea-84ff2c8d01a3"
   },
   "outputs": [
    {
     "data": {
      "text/html": [],
      "text/plain": [
       "<IPython.core.display.HTML object>"
      ]
     },
     "metadata": {},
     "output_type": "display_data"
    },
    {
     "name": "stdout",
     "output_type": "stream",
     "text": [
      "Text: 셀트리온은 최근 환경 보호 활동을 강화하고 있다.\n",
      "Predicted ESG Scores - Environmental: 0.51, Social: 0.52, Governance: 0.51\n",
      "Text: LG에너지솔루션은 사회적 책임을 다하기 위해 다양한 프로그램을 운영하고 있다.\n",
      "Predicted ESG Scores - Environmental: 0.51, Social: 0.52, Governance: 0.51\n",
      "Text: 투명한 경영을 통해 신뢰를 얻고 있다.\n",
      "Predicted ESG Scores - Environmental: 0.51, Social: 0.52, Governance: 0.51\n"
     ]
    }
   ],
   "source": [
    "\n",
    "# Classifying new text data using the learned model\n",
    "# New text data\n",
    "new_texts = [\n",
    "    '셀트리온은 최근 환경 보호 활동을 강화하고 있다.',\n",
    "    'LG에너지솔루션은 사회적 책임을 다하기 위해 다양한 프로그램을 운영하고 있다.',\n",
    "    '투명한 경영을 통해 신뢰를 얻고 있다.'\n",
    "]\n",
    "\n",
    "# Text data talk nicing\n",
    "new_tokens = [tokenize_function(text) for text in new_texts]\n",
    "new_input_ids = torch.cat([token['input_ids'] for token in new_tokens])\n",
    "new_attention_mask = torch.cat([token['attention_mask'] for token in new_tokens])\n",
    "\n",
    "# Create a dataset\n",
    "new_dataset = ESGDataset(new_input_ids, new_attention_mask, [[0, 0, 0]] * len(new_texts))\n",
    "\n",
    "# Prediction\n",
    "model.eval()\n",
    "predictions = trainer.predict(new_dataset)\n",
    "predicted_labels = torch.sigmoid(torch.tensor(predictions.predictions)).numpy()\n",
    "\n",
    "# Output ESG score for each text\n",
    "for text, scores in zip(new_texts, predicted_labels):\n",
    "    print(f\"Text: {text}\")\n",
    "    print(f\"Predicted ESG Scores - Environmental: {scores[0]:.2f}, Social: {scores[1]:.2f}, Governance: {scores[2]:.2f}\")\n"
   ]
  },
  {
   "cell_type": "markdown",
   "metadata": {
    "id": "R0u5a4VDEyLF"
   },
   "source": [
    "Improved learning code"
   ]
  },
  {
   "cell_type": "code",
   "execution_count": 29,
   "metadata": {
    "colab": {
     "base_uri": "https://localhost:8080/",
     "height": 300
    },
    "executionInfo": {
     "elapsed": 781,
     "status": "error",
     "timestamp": 1723004570200,
     "user": {
      "displayName": "백현지",
      "userId": "02510457579208942463"
     },
     "user_tz": -540
    },
    "id": "dEhMeF2vBkbp",
    "outputId": "7af9410a-70fe-48d9-ecfb-259639859efe"
   },
   "outputs": [
    {
     "name": "stdout",
     "output_type": "stream",
     "text": [
      "{0: 14, 1: 16}\n",
      "{0: 1.0714285714285714, 1: 0.9375}\n"
     ]
    },
    {
     "name": "stderr",
     "output_type": "stream",
     "text": [
      "Some weights of ElectraForSequenceClassification were not initialized from the model checkpoint at monologg/koelectra-small-v3-discriminator and are newly initialized: ['classifier.dense.bias', 'classifier.dense.weight', 'classifier.out_proj.bias', 'classifier.out_proj.weight']\n",
      "You should probably TRAIN this model on a down-stream task to be able to use it for predictions and inference.\n"
     ]
    },
    {
     "ename": "NameError",
     "evalue": "name 'compute_metrics' is not defined",
     "output_type": "error",
     "traceback": [
      "\u001b[0;31m---------------------------------------------------------------------------\u001b[0m",
      "\u001b[0;31mNameError\u001b[0m                                 Traceback (most recent call last)",
      "\u001b[0;32m<ipython-input-29-a875a74f6ff8>\u001b[0m in \u001b[0;36m<cell line: 28>\u001b[0;34m()\u001b[0m\n\u001b[1;32m     31\u001b[0m     \u001b[0mtrain_dataset\u001b[0m\u001b[0;34m=\u001b[0m\u001b[0mtrain_dataset\u001b[0m\u001b[0;34m,\u001b[0m\u001b[0;34m\u001b[0m\u001b[0;34m\u001b[0m\u001b[0m\n\u001b[1;32m     32\u001b[0m     \u001b[0meval_dataset\u001b[0m\u001b[0;34m=\u001b[0m\u001b[0mval_dataset\u001b[0m\u001b[0;34m,\u001b[0m\u001b[0;34m\u001b[0m\u001b[0;34m\u001b[0m\u001b[0m\n\u001b[0;32m---> 33\u001b[0;31m     \u001b[0mcompute_metrics\u001b[0m\u001b[0;34m=\u001b[0m\u001b[0mcompute_metrics\u001b[0m\u001b[0;34m,\u001b[0m\u001b[0;34m\u001b[0m\u001b[0;34m\u001b[0m\u001b[0m\n\u001b[0m\u001b[1;32m     34\u001b[0m     \u001b[0mclass_weights\u001b[0m\u001b[0;34m=\u001b[0m\u001b[0mclass_weights\u001b[0m\u001b[0;34m\u001b[0m\u001b[0;34m\u001b[0m\u001b[0m\n\u001b[1;32m     35\u001b[0m )\n",
      "\u001b[0;31mNameError\u001b[0m: name 'compute_metrics' is not defined"
     ]
    }
   ],
   "source": [
    "from sklearn.utils import class_weight\n",
    "import numpy as np\n",
    "\n",
    "# Check the imbalance of the label\n",
    "unique, counts = np.unique(labels, return_counts=True)\n",
    "print(dict(zip(unique, counts)))\n",
    "\n",
    "# Class weight calculation\n",
    "class_weights = class_weight.compute_class_weight('balanced', classes=np.unique(labels), y=labels.flatten())\n",
    "class_weights = {i: class_weights[i] for i in range(len(class_weights))}\n",
    "print(class_weights)\n",
    "\n",
    "# Add class weight when setting model\n",
    "model = ElectraForSequenceClassification.from_pretrained(\"monologg/koelectra-small-v3-discriminator\", num_labels=3)\n",
    "\n",
    "# Learning setting\n",
    "training_args = TrainingArguments(\n",
    "    output_dir='./results',\n",
    "    num_train_epochs=10,  # 에포크 수 증가\n",
    "    per_device_train_batch_size=16,  # 배치 크기 증가\n",
    "    per_device_eval_batch_size=16,\n",
    "    warmup_steps=500,\n",
    "    weight_decay=0.01,\n",
    "    logging_dir='./logs',\n",
    "    logging_steps=10,\n",
    ")\n",
    "\n",
    "trainer = Trainer(\n",
    "    model=model,\n",
    "    args=training_args,\n",
    "    train_dataset=train_dataset,\n",
    "    eval_dataset=val_dataset,\n",
    "    compute_metrics=compute_metrics,\n",
    "    class_weights=class_weights\n",
    ")\n",
    "\n",
    "#Model learning\n",
    "trainer.train()\n"
   ]
  },
  {
   "cell_type": "code",
   "execution_count": null,
   "metadata": {
    "id": "oDAmnjR8E0Wh"
   },
   "outputs": [],
   "source": []
  }
 ],
 "metadata": {
  "colab": {
   "authorship_tag": "ABX9TyO5Pe3Z2vZFw2pE4HcX9WA6",
   "mount_file_id": "1tzCzmPomHd1p737x0-kxl1Yz1YfcUJKa",
   "provenance": []
  },
  "kernelspec": {
   "display_name": "Python 3",
   "name": "python3"
  },
  "language_info": {
   "name": "python"
  }
 },
 "nbformat": 4,
 "nbformat_minor": 0
}
