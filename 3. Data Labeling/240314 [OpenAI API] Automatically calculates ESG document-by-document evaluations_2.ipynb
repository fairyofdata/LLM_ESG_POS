{
 "cells": [
  {
   "cell_type": "code",
   "execution_count": 6,
   "metadata": {
    "colab": {
     "base_uri": "https://localhost:8080/"
    },
    "executionInfo": {
     "elapsed": 18736,
     "status": "ok",
     "timestamp": 1710323888279,
     "user": {
      "displayName": "백현지",
      "userId": "02510457579208942463"
     },
     "user_tz": -540
    },
    "id": "xt6A5p7xHRqw",
    "outputId": "60269d5c-1b33-49f3-a639-9329a1144062"
   },
   "outputs": [
    {
     "name": "stdout",
     "output_type": "stream",
     "text": [
      "Requirement already satisfied: openai==0.28 in /usr/local/lib/python3.10/dist-packages (0.28.0)\n",
      "Requirement already satisfied: requests>=2.20 in /usr/local/lib/python3.10/dist-packages (from openai==0.28) (2.31.0)\n",
      "Requirement already satisfied: tqdm in /usr/local/lib/python3.10/dist-packages (from openai==0.28) (4.66.2)\n",
      "Requirement already satisfied: aiohttp in /usr/local/lib/python3.10/dist-packages (from openai==0.28) (3.9.3)\n",
      "Requirement already satisfied: charset-normalizer<4,>=2 in /usr/local/lib/python3.10/dist-packages (from requests>=2.20->openai==0.28) (3.3.2)\n",
      "Requirement already satisfied: idna<4,>=2.5 in /usr/local/lib/python3.10/dist-packages (from requests>=2.20->openai==0.28) (3.6)\n",
      "Requirement already satisfied: urllib3<3,>=1.21.1 in /usr/local/lib/python3.10/dist-packages (from requests>=2.20->openai==0.28) (2.0.7)\n",
      "Requirement already satisfied: certifi>=2017.4.17 in /usr/local/lib/python3.10/dist-packages (from requests>=2.20->openai==0.28) (2024.2.2)\n",
      "Requirement already satisfied: aiosignal>=1.1.2 in /usr/local/lib/python3.10/dist-packages (from aiohttp->openai==0.28) (1.3.1)\n",
      "Requirement already satisfied: attrs>=17.3.0 in /usr/local/lib/python3.10/dist-packages (from aiohttp->openai==0.28) (23.2.0)\n",
      "Requirement already satisfied: frozenlist>=1.1.1 in /usr/local/lib/python3.10/dist-packages (from aiohttp->openai==0.28) (1.4.1)\n",
      "Requirement already satisfied: multidict<7.0,>=4.5 in /usr/local/lib/python3.10/dist-packages (from aiohttp->openai==0.28) (6.0.5)\n",
      "Requirement already satisfied: yarl<2.0,>=1.0 in /usr/local/lib/python3.10/dist-packages (from aiohttp->openai==0.28) (1.9.4)\n",
      "Requirement already satisfied: async-timeout<5.0,>=4.0 in /usr/local/lib/python3.10/dist-packages (from aiohttp->openai==0.28) (4.0.3)\n",
      "Requirement already satisfied: pandas in /usr/local/lib/python3.10/dist-packages (1.5.3)\n",
      "Requirement already satisfied: python-dateutil>=2.8.1 in /usr/local/lib/python3.10/dist-packages (from pandas) (2.8.2)\n",
      "Requirement already satisfied: pytz>=2020.1 in /usr/local/lib/python3.10/dist-packages (from pandas) (2023.4)\n",
      "Requirement already satisfied: numpy>=1.21.0 in /usr/local/lib/python3.10/dist-packages (from pandas) (1.25.2)\n",
      "Requirement already satisfied: six>=1.5 in /usr/local/lib/python3.10/dist-packages (from python-dateutil>=2.8.1->pandas) (1.16.0)\n"
     ]
    }
   ],
   "source": [
    "# Necessary library installation\n",
    "!pip install openai==0.28\n",
    "!pip install pandas\n",
    "\n",
    "import openai\n",
    "import os\n",
    "import pandas as pd\n",
    "\n",
    "# Openai API key setting\n",
    "openai.api_key = 'sk'"
   ]
  },
  {
   "cell_type": "code",
   "execution_count": 7,
   "metadata": {
    "colab": {
     "base_uri": "https://localhost:8080/"
    },
    "executionInfo": {
     "elapsed": 2356,
     "status": "ok",
     "timestamp": 1710323890631,
     "user": {
      "displayName": "백현지",
      "userId": "02510457579208942463"
     },
     "user_tz": -540
    },
    "id": "tHkODN4xOGhv",
    "outputId": "d91dea7d-b60e-4a19-d080-7d931e9bf886"
   },
   "outputs": [
    {
     "name": "stdout",
     "output_type": "stream",
     "text": [
      "Drive already mounted at /content/drive; to attempt to forcibly remount, call drive.mount(\"/content/drive\", force_remount=True).\n"
     ]
    }
   ],
   "source": [
    "from google.colab import drive\n",
    "drive.mount('/content/drive')"
   ]
  },
  {
   "cell_type": "code",
   "execution_count": null,
   "metadata": {
    "id": "FbiKhU3kMgFa"
   },
   "outputs": [],
   "source": [
    "def load_text_from_file(file_path):\n",
    "    \"\"\"텍스트 파일을 읽어서 내용을 반환합니다.\"\"\"\n",
    "    with open(file_path, 'r') as file:\n",
    "        content = file.read()\n",
    "    return content\n",
    "\n",
    "def split_into_sentences(text):\n",
    "    \"\"\"텍스트를 문장 단위로 분리합니다.\"\"\"\n",
    "    import nltk\n",
    "    nltk.download('punkt')\n",
    "    from nltk.tokenize import sent_tokenize\n",
    "    sentences = sent_tokenize(text)\n",
    "    return sentences\n",
    "\n",
    "def evaluate_esg(sentence):\n",
    "    \"\"\"업데이트된 OpenAI API를 사용하여 문장의 ESG 친화도를 평가합니다.\"\"\"\n",
    "    response = openai.ChatCompletion.create(\n",
    "        model=\"gpt-3.5-turbo\",  # 혹은 사용 가능한 최신 모델\n",
    "        messages=[\n",
    "            {\"role\": \"system\", \"content\": \"당신은 ESG 평가 전문가입니다. 먼저 ESG에 대한 설명을 제공해드릴테니 평가의 기준으로 활용하시기 바랍니다. ESG는 Environmental(환경), Social(사회), Governance(거버넌스)의 세 가지 측면으로 구성됩니다. 환경 측면은 기업이 환경 친화적으로 운영하고자 하는 의지를 나타냅니다. 이는 친환경 제품 제조, 에너지 효율성 향상 등을 포함합니다. 사회적 측면은 기업이 사회적 책임을 다하는 것을 의미하며, 노동자 권리 보호, 다양성과 포용성 강화 등이 포함됩니다. 거버넌스 측면은 기업 내부의 투명성과 윤리성을 강화하여 이해관계자들의 신뢰를 유지하는 것을 중요시합니다. 이는 감사와 감사위원회의 설정, 보상 정책의 공정성 등을 포함합니다. 이러한 ESG 요소들은 기업의 장기적인 지속 가능성과 가치 창출에 영향을 미치며, 적절한 관리를 통해 사회적으로 책임 있는 기업 경영을 추구합니다. 그 밖에도 유사한 관점에서 당신이 알고 있는 관련 정보나 기준에 근거하여 평가하셔도 괜찮습니다. 이제부터, 주어지는 문장을 ESG관점에서 E, S, G를 각 섹터별로 평가할 것입니다. 해당 ESG요소 관점에서 각 문장이 긍정적인 내용일 경우 1, 관련 없는 내용이거나 중립적 내용의 경우 0, 부정적인 내용의 경우 -1로 분류하세요. 결과는 무조건 리스트 형태로, 예를 들어 (E평가값,S평가값,G평가값) 으로만 출력해야 합니다. 절대  문장으로 출력하지 마십시오. 예를 들어, E에 관련 없음, S 관점에서 부정적인 내용, G관점에서 긍정적인 내용인 경우, 반환값은 (0, -1, 1) 로 출력합니다. 이제 평가를 시작하십시오.\"},\n",
    "            {\"role\": \"user\", \"content\": sentence}\n",
    "        ]\n",
    "    )\n",
    "\n",
    "    result = response['choices'][0]['message']['content']\n",
    "    if \"1\" in result:\n",
    "        return 1\n",
    "    elif \"0\" in result:\n",
    "        return 0\n",
    "    elif \"-1\" in result:\n",
    "        return -1\n",
    "    return result  # 기본값\n",
    "\n",
    "\n",
    "def calculate_document_esg_score(sentences):\n",
    "    \"\"\"문서의 ESG 친화도 총점을 계산합니다.\"\"\"\n",
    "    score = 0\n",
    "    for sentence in sentences:\n",
    "        score += evaluate_esg(sentence)  # 점수를 더합니다.\n",
    "    return score\n"
   ]
  },
  {
   "cell_type": "code",
   "execution_count": null,
   "metadata": {
    "id": "nfiGzDScMP5_"
   },
   "outputs": [],
   "source": [
    "#Text file path setting in # Google Drive (Example: \"/Content/Drive/My Drive/Your_file.txt\")\n",
    "file_path = \"/content/drive/MyDrive/document1.txt\"\n",
    "text = load_text_from_file(file_path)\n",
    "sentences = split_into_sentences(text)\n",
    "\n",
    "# Evaluate the ESG affinity of each sentence and save the results.\n",
    "results = []\n",
    "for sentence in sentences:\n",
    "    esg_score = evaluate_esg(sentence)\n",
    "    results.append({'Sentence': sentence, 'ESG Score': esg_score})\n",
    "\n",
    "# Create the result as a data frame.\n",
    "df_results = pd.DataFrame(results)\n",
    "\n",
    "# Print the data frame.\n",
    "print(df_results)"
   ]
  },
  {
   "cell_type": "code",
   "execution_count": null,
   "metadata": {
    "colab": {
     "base_uri": "https://localhost:8080/"
    },
    "executionInfo": {
     "elapsed": 299,
     "status": "ok",
     "timestamp": 1710318169235,
     "user": {
      "displayName": "백현서",
      "userId": "01676323946267625609"
     },
     "user_tz": -540
    },
    "id": "13Vwjbwbap64",
    "outputId": "a49acb79-71bb-4a52-d106-e1910612f4c1"
   },
   "outputs": [
    {
     "name": "stdout",
     "output_type": "stream",
     "text": [
      "                                               Column1  E_generated  \\\n",
      "0                               인공지능이 일상의 서비스로 파고들고 있다            0   \n",
      "1     8·15 특별사면 대상에 포함, 복권된 이재용 삼성전자 부회장이 본격적으로 책임 ...            0   \n",
      "2     ① 윤송이 엔씨소프트 최고전략책임자 윤송이 CSO는 2011년 엔씨소프트에 AI ...            0   \n",
      "3                             다양성과 경쟁력 카타르 월드컵이 막을 내렸다            0   \n",
      "4     동효정 기자  삼성전자가 스웨덴과 노르웨이에 뉴스룸을 개설하고 북유럽 시장 공략을...            0   \n",
      "..                                                 ...          ...   \n",
      "651  확정된 2023년도 평가지표와 관련한 세부 내용은 내년 1월 2023년도 평가대상 ...            0   \n",
      "652                      회사별로 대외 기부금 출연을 위한 승인 절차를 거쳤다            0   \n",
      "653  회장 승진할까지배구조 향방은현재 삼성의 지배구조는 ‘이재용 삼성전자 부회장 등 오너...            0   \n",
      "654        희귀병을 앓는 김민종군의 가족은 최근 삼성전자 임직원들에게 직접 손편지를 썼다            0   \n",
      "655              희망디딤돌은 자립을 준비하는 청소년에게 주거를 제공하는 프로그램이다            0   \n",
      "\n",
      "     S_generated  G_generated  E_human  S_human  G_human  E_Match  S_Match  \\\n",
      "0            0.0            0        0        0        0     True     True   \n",
      "1            0.0            0        0        0        0     True     True   \n",
      "2            0.0            0        0        0        0     True     True   \n",
      "3            0.0            0        0        0        0     True     True   \n",
      "4            0.0            0        0        0        0     True     True   \n",
      "..           ...          ...      ...      ...      ...      ...      ...   \n",
      "651          0.0            0        0        0        0     True     True   \n",
      "652          0.0            0        0        0        0     True     True   \n",
      "653          0.0            0        0        0        0     True     True   \n",
      "654          0.0            0        0        0        0     True     True   \n",
      "655          0.0            0        0        0        0     True     True   \n",
      "\n",
      "     G_Match  \n",
      "0       True  \n",
      "1       True  \n",
      "2       True  \n",
      "3       True  \n",
      "4       True  \n",
      "..       ...  \n",
      "651     True  \n",
      "652     True  \n",
      "653     True  \n",
      "654     True  \n",
      "655     True  \n",
      "\n",
      "[656 rows x 10 columns]\n",
      "Number of documents where all ESG scores match: 655\n"
     ]
    }
   ],
   "source": [
    "# It is a code assumed for comparison with the data with the data with the E, S, and G scores.\n",
    "# In fact, the API call method for E, S, and G scores may vary depending on whether Openai supports.\n",
    "\n",
    "import pandas as pd\n",
    "\n",
    "# ESG score data generated by the program\n",
    "# Home: E, S, and G scores for each document are recorded in separate columns.\n",
    "generated_esg_scores = pd.read_csv('/content/drive/MyDrive/졸업전시회/esg_combined.csv')\n",
    "\n",
    "# ESG score data loaded by people\n",
    "# Household: The file path is '/content/drive/my drive/Human_esg_scores_detailed.csv'\n",
    "human_esg_scores = pd.read_csv('/content/drive/MyDrive/졸업전시회/merged_df.csv')\n",
    "\n",
    "# Merge two data frames for comparison.\n",
    "comparison_df = pd.merge(generated_esg_scores, human_esg_scores, on='Column1', suffixes=('_generated', '_human'))\n",
    "\n",
    "# E, S, G adds to each element to new columns.\n",
    "comparison_df['E_Match'] = comparison_df['E_generated'] == comparison_df['E_human']\n",
    "comparison_df['S_Match'] = comparison_df['S_generated'] == comparison_df['S_human']\n",
    "comparison_df['G_Match'] = comparison_df['G_generated'] == comparison_df['G_human']\n",
    "\n",
    "# Count the number of documents that all elements match.\n",
    "all_match_count = comparison_df[comparison_df[['E_Match', 'S_Match', 'G_Match']].all(axis=1)].shape[0]\n",
    "\n",
    "# Print the result.\n",
    "print(comparison_df)\n",
    "print(f\"Number of documents where all ESG scores match: {all_match_count}\")\n"
   ]
  },
  {
   "cell_type": "code",
   "execution_count": null,
   "metadata": {
    "id": "tZm0Erst5dKn"
   },
   "outputs": [],
   "source": [
    "import pandas as pd\n",
    "import json\n",
    "from tqdm import tqdm\n",
    "\n",
    "# Json file path\n",
    "file_path = '/content/drive/MyDrive/SE22_ESG original.json'\n",
    "\n",
    "# Import file\n",
    "with open(file_path, 'r', encoding='utf-8') as file:\n",
    "    data = json.load(file)\n",
    "\n",
    "# Extracting sentence and ESG evaluation\n",
    "results = []\n",
    "for year, categories in tqdm(data.items(), desc=\"Years\"):\n",
    "    for category, sentences in tqdm(categories.items(), desc=\"Categories\", leave=False):\n",
    "        for sentence in tqdm(sentences, desc=\"Sentences\", leave=False):\n",
    "# Function calls for evaluating ESG affinity for each sentence (virtual)\n",
    "# In this case, set all scores to (0, 0, 0) as an example\n",
    "            esg_score = evaluate_esg(sentence)\n",
    "            results.append({'Year': year, 'Category': category, 'Sentence': sentence, 'ESG Score': esg_score})\n",
    "\n",
    "# Create the result as a data frame.\n",
    "df_results = pd.DataFrame(results)\n",
    "\n",
    "# Data frame output\n",
    "print(df_results.head())\n"
   ]
  }
 ],
 "metadata": {
  "colab": {
   "provenance": []
  },
  "kernelspec": {
   "display_name": "Python 3",
   "name": "python3"
  },
  "language_info": {
   "name": "python"
  }
 },
 "nbformat": 4,
 "nbformat_minor": 0
}
