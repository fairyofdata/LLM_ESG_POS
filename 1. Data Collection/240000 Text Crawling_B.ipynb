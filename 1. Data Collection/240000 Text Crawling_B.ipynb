{
 "cells": [
  {
   "cell_type": "markdown",
   "metadata": {
    "id": "_708RC37n_JS"
   },
   "source": [
    "## Package installation and drive mount"
   ]
  },
  {
   "cell_type": "code",
   "execution_count": null,
   "metadata": {
    "colab": {
     "base_uri": "https://localhost:8080/"
    },
    "executionInfo": {
     "elapsed": 66493,
     "status": "ok",
     "timestamp": 1714608974672,
     "user": {
      "displayName": "백현지",
      "userId": "02510457579208942463"
     },
     "user_tz": -540
    },
    "id": "vbQJIebzCtjq",
    "outputId": "d4d06dce-ce4e-44f8-e105-75afe5bc8cde"
   },
   "outputs": [
    {
     "name": "stdout",
     "output_type": "stream",
     "text": [
      "Mounted at /content/drive\n"
     ]
    }
   ],
   "source": [
    "from google.colab import drive\n",
    "drive.mount('/content/drive')"
   ]
  },
  {
   "cell_type": "code",
   "execution_count": null,
   "metadata": {
    "colab": {
     "base_uri": "https://localhost:8080/"
    },
    "executionInfo": {
     "elapsed": 80834,
     "status": "ok",
     "timestamp": 1714610627036,
     "user": {
      "displayName": "백현지",
      "userId": "02510457579208942463"
     },
     "user_tz": -540
    },
    "id": "SBCldaYsoHtQ",
    "outputId": "205056f0-c141-49e1-f2da-bc86187cbb39"
   },
   "outputs": [
    {
     "name": "stdout",
     "output_type": "stream",
     "text": [
      "Collecting selenium\n",
      "  Downloading selenium-4.20.0-py3-none-any.whl (9.5 MB)\n",
      "\u001b[2K     \u001b[90m━━━━━━━━━━━━━━━━━━━━━━━━━━━━━━━━━━━━━━━━\u001b[0m \u001b[32m9.5/9.5 MB\u001b[0m \u001b[31m19.4 MB/s\u001b[0m eta \u001b[36m0:00:00\u001b[0m\n",
      "\u001b[?25hRequirement already satisfied: urllib3[socks]<3,>=1.26 in /usr/local/lib/python3.10/dist-packages (from selenium) (2.0.7)\n",
      "Collecting trio~=0.17 (from selenium)\n",
      "  Downloading trio-0.25.0-py3-none-any.whl (467 kB)\n",
      "\u001b[2K     \u001b[90m━━━━━━━━━━━━━━━━━━━━━━━━━━━━━━━━━━━━━━━━\u001b[0m \u001b[32m467.2/467.2 kB\u001b[0m \u001b[31m34.1 MB/s\u001b[0m eta \u001b[36m0:00:00\u001b[0m\n",
      "\u001b[?25hCollecting trio-websocket~=0.9 (from selenium)\n",
      "  Downloading trio_websocket-0.11.1-py3-none-any.whl (17 kB)\n",
      "Requirement already satisfied: certifi>=2021.10.8 in /usr/local/lib/python3.10/dist-packages (from selenium) (2024.2.2)\n",
      "Requirement already satisfied: typing_extensions>=4.9.0 in /usr/local/lib/python3.10/dist-packages (from selenium) (4.11.0)\n",
      "Requirement already satisfied: attrs>=23.2.0 in /usr/local/lib/python3.10/dist-packages (from trio~=0.17->selenium) (23.2.0)\n",
      "Requirement already satisfied: sortedcontainers in /usr/local/lib/python3.10/dist-packages (from trio~=0.17->selenium) (2.4.0)\n",
      "Requirement already satisfied: idna in /usr/local/lib/python3.10/dist-packages (from trio~=0.17->selenium) (3.7)\n",
      "Collecting outcome (from trio~=0.17->selenium)\n",
      "  Downloading outcome-1.3.0.post0-py2.py3-none-any.whl (10 kB)\n",
      "Requirement already satisfied: sniffio>=1.3.0 in /usr/local/lib/python3.10/dist-packages (from trio~=0.17->selenium) (1.3.1)\n",
      "Requirement already satisfied: exceptiongroup in /usr/local/lib/python3.10/dist-packages (from trio~=0.17->selenium) (1.2.1)\n",
      "Collecting wsproto>=0.14 (from trio-websocket~=0.9->selenium)\n",
      "  Downloading wsproto-1.2.0-py3-none-any.whl (24 kB)\n",
      "Requirement already satisfied: pysocks!=1.5.7,<2.0,>=1.5.6 in /usr/local/lib/python3.10/dist-packages (from urllib3[socks]<3,>=1.26->selenium) (1.7.1)\n",
      "Collecting h11<1,>=0.9.0 (from wsproto>=0.14->trio-websocket~=0.9->selenium)\n",
      "  Downloading h11-0.14.0-py3-none-any.whl (58 kB)\n",
      "\u001b[2K     \u001b[90m━━━━━━━━━━━━━━━━━━━━━━━━━━━━━━━━━━━━━━━━\u001b[0m \u001b[32m58.3/58.3 kB\u001b[0m \u001b[31m6.6 MB/s\u001b[0m eta \u001b[36m0:00:00\u001b[0m\n",
      "\u001b[?25hInstalling collected packages: outcome, h11, wsproto, trio, trio-websocket, selenium\n",
      "Successfully installed h11-0.14.0 outcome-1.3.0.post0 selenium-4.20.0 trio-0.25.0 trio-websocket-0.11.1 wsproto-1.2.0\n",
      "Requirement already satisfied: requests in /usr/local/lib/python3.10/dist-packages (2.31.0)\n",
      "Requirement already satisfied: charset-normalizer<4,>=2 in /usr/local/lib/python3.10/dist-packages (from requests) (3.3.2)\n",
      "Requirement already satisfied: idna<4,>=2.5 in /usr/local/lib/python3.10/dist-packages (from requests) (3.7)\n",
      "Requirement already satisfied: urllib3<3,>=1.21.1 in /usr/local/lib/python3.10/dist-packages (from requests) (2.0.7)\n",
      "Requirement already satisfied: certifi>=2017.4.17 in /usr/local/lib/python3.10/dist-packages (from requests) (2024.2.2)\n",
      "PPA publishes dbgsym, you may need to include 'main/debug' component\n",
      "Repository: 'deb https://ppa.launchpadcontent.net/saiarcot895/chromium-beta/ubuntu/ jammy main'\n",
      "Description:\n",
      "This PPA contains the latest Chromium Beta builds, with hardware video decoding enabled (hidden behind a flag), and support for Widevine (needed for viewing many DRM-protected videos) enabled.\n",
      "\n",
      "== Hardware Video Decoding ==\n",
      "\n",
      "To enable hardware video decoding, start Chromium with the --enable-features=VaapiVideoDecoder argument. To make this persistent, create a file at /etc/chromium-browser/customizations/92-vaapi-hardware-decoding with the following contents:\n",
      "\n",
      "CHROMIUM_FLAGS=\"${CHROMIUM_FLAGS} --enable-features=VaapiVideoDecoder\"\n",
      "\n",
      "See also https://wiki.archlinux.org/title/Chromium#Hardware_video_acceleration for more information on VAAPI video decoding support.\n",
      "\n",
      "=== Widevine Support ===\n",
      "\n",
      "The packages in this PPA have support for Widevine inside Chromium enabled. However, you still need to copy some files from Chrome into Chromium for you to use Netflix (or other websites using Encrypted Media Extensions) in Chromium.\n",
      "\n",
      "1. Download and install Chrome (or extract the necessary files, if you know how to do that).\n",
      "2. From the Chrome installation directory (probably /opt/google/chome or something similar), copy libwidevinecdm.so into ~/.config/chromium.\n",
      "3. Restart Chromium.\n",
      "\n",
      "=== Preventing falling back to the standard version of Chromium ===\n",
      "\n",
      "Sometimes, this PPA doesn't get updated within a few days of a release, and in some cases, the version of Chromium in the standard Ubuntu repos may be newer than the version provided by the PPA. If you want to prevent apt from updating to the version in the standard Ubuntu repos, add the following three lines into /etc/apt/preferences.d/chromium:\n",
      "\n",
      "Package: *\n",
      "Pin: release o=LP-PPA-saiarcot895-chromium-beta\n",
      "Pin-Priority: 700\n",
      "\n",
      "=== Help ===\n",
      "\n",
      "If you need help with installing Chromium or notice stuff not working that should normally work, click on my name below in the \"Adding this PPA to your system\" section.\n",
      "\n",
      "=== Packaging ===\n",
      "\n",
      "Packaging for this PPA is at https://github.com/saiarcot895/chromium-ubuntu-build. A separate branch is created for each upstream branch number.\n",
      "More info: https://launchpad.net/~saiarcot895/+archive/ubuntu/chromium-beta\n",
      "Adding repository.\n",
      "Press [ENTER] to continue or Ctrl-c to cancel.\n",
      "Adding deb entry to /etc/apt/sources.list.d/saiarcot895-ubuntu-chromium-beta-jammy.list\n",
      "Adding disabled deb-src entry to /etc/apt/sources.list.d/saiarcot895-ubuntu-chromium-beta-jammy.list\n",
      "Adding key to /etc/apt/trusted.gpg.d/saiarcot895-ubuntu-chromium-beta.gpg with fingerprint E6200BDA4A746F2A1F7FFD3FE6A17451DC058F40\n",
      "Get:1 https://cloud.r-project.org/bin/linux/ubuntu jammy-cran40/ InRelease [3,626 B]\n",
      "Get:2 https://developer.download.nvidia.com/compute/cuda/repos/ubuntu2204/x86_64  InRelease [1,581 B]\n",
      "Get:3 http://security.ubuntu.com/ubuntu jammy-security InRelease [110 kB]\n",
      "Get:4 https://developer.download.nvidia.com/compute/cuda/repos/ubuntu2204/x86_64  Packages [825 kB]\n",
      "Hit:5 http://archive.ubuntu.com/ubuntu jammy InRelease\n",
      "Get:6 http://archive.ubuntu.com/ubuntu jammy-updates InRelease [119 kB]\n",
      "Hit:7 https://ppa.launchpadcontent.net/c2d4u.team/c2d4u4.0+/ubuntu jammy InRelease\n",
      "Hit:8 https://ppa.launchpadcontent.net/deadsnakes/ppa/ubuntu jammy InRelease\n",
      "Hit:9 https://ppa.launchpadcontent.net/graphics-drivers/ppa/ubuntu jammy InRelease\n",
      "Hit:10 http://archive.ubuntu.com/ubuntu jammy-backports InRelease\n",
      "Get:11 https://ppa.launchpadcontent.net/saiarcot895/chromium-beta/ubuntu jammy InRelease [23.8 kB]\n",
      "Hit:12 https://ppa.launchpadcontent.net/ubuntugis/ppa/ubuntu jammy InRelease\n",
      "Get:13 http://archive.ubuntu.com/ubuntu jammy-updates/main amd64 Packages [2,037 kB]\n",
      "Get:14 https://ppa.launchpadcontent.net/saiarcot895/chromium-beta/ubuntu jammy/main amd64 Packages [1,795 B]\n",
      "Get:15 http://archive.ubuntu.com/ubuntu jammy-updates/universe amd64 Packages [1,371 kB]\n",
      "Fetched 4,493 kB in 2s (2,744 kB/s)\n",
      "Reading package lists... Done\n",
      "Reading package lists... Done\n",
      "Building dependency tree... Done\n",
      "Reading state information... Done\n",
      "Package 'chromium-browser' is not installed, so not removed\n",
      "0 upgraded, 0 newly installed, 0 to remove and 45 not upgraded.\n",
      "sudo: snap: command not found\n",
      "Reading package lists... Done\n",
      "Building dependency tree... Done\n",
      "Reading state information... Done\n",
      "The following additional packages will be installed:\n",
      "  chromium-browser-l10n chromium-codecs-ffmpeg-extra libcanberra0 libevdev2\n",
      "  libgudev-1.0-0 libinput-bin libinput10 libmd4c0 libmtdev1 libpipewire-0.3-0\n",
      "  libpipewire-0.3-common libpipewire-0.3-modules libqt5core5a libqt5dbus5\n",
      "  libqt5gui5 libqt5network5 libqt5svg5 libqt5widgets5 libspa-0.2-modules\n",
      "  libtdb1 libva-wayland2 libwacom-bin libwacom-common libwacom9\n",
      "  libwebrtc-audio-processing1 libxcb-icccm4 libxcb-image0 libxcb-keysyms1\n",
      "  libxcb-render-util0 libxcb-util1 libxcb-xinerama0 libxcb-xinput0 libxcb-xkb1\n",
      "  libxkbcommon-x11-0 libxtst6 pipewire pipewire-bin pipewire-media-session\n",
      "  qt5-gtk-platformtheme qttranslations5-l10n rtkit sound-theme-freedesktop\n",
      "Suggested packages:\n",
      "  webaccounts-chromium-extension unity-chromium-extension chromiumflashplugin\n",
      "  libcanberra-gtk0 libcanberra-pulse qt5-image-formats-plugins qtwayland5\n",
      "The following NEW packages will be installed:\n",
      "  chromium-browser chromium-browser-l10n chromium-codecs-ffmpeg-extra\n",
      "  libcanberra0 libevdev2 libgudev-1.0-0 libinput-bin libinput10 libmd4c0\n",
      "  libmtdev1 libpipewire-0.3-0 libpipewire-0.3-common libpipewire-0.3-modules\n",
      "  libqt5core5a libqt5dbus5 libqt5gui5 libqt5network5 libqt5svg5 libqt5widgets5\n",
      "  libspa-0.2-modules libtdb1 libva-wayland2 libwacom-bin libwacom-common\n",
      "  libwacom9 libwebrtc-audio-processing1 libxcb-icccm4 libxcb-image0\n",
      "  libxcb-keysyms1 libxcb-render-util0 libxcb-util1 libxcb-xinerama0\n",
      "  libxcb-xinput0 libxcb-xkb1 libxkbcommon-x11-0 libxtst6 pipewire pipewire-bin\n",
      "  pipewire-media-session qt5-gtk-platformtheme qttranslations5-l10n rtkit\n",
      "  sound-theme-freedesktop\n",
      "0 upgraded, 43 newly installed, 0 to remove and 45 not upgraded.\n",
      "Need to get 113 MB of archives.\n",
      "After this operation, 451 MB of additional disk space will be used.\n",
      "Get:1 http://archive.ubuntu.com/ubuntu jammy/main amd64 libwebrtc-audio-processing1 amd64 0.3.1-0ubuntu5 [291 kB]\n",
      "Get:2 https://ppa.launchpadcontent.net/saiarcot895/chromium-beta/ubuntu jammy/main amd64 chromium-codecs-ffmpeg-extra amd64 1:108.0.5359.40-0ubuntu1~ppa1~22.04.1 [1,299 kB]\n",
      "Get:3 http://archive.ubuntu.com/ubuntu jammy-updates/main amd64 libspa-0.2-modules amd64 0.3.48-1ubuntu3 [546 kB]\n",
      "Get:4 http://archive.ubuntu.com/ubuntu jammy-updates/main amd64 libpipewire-0.3-0 amd64 0.3.48-1ubuntu3 [274 kB]\n",
      "Get:5 http://archive.ubuntu.com/ubuntu jammy-updates/universe amd64 libqt5core5a amd64 5.15.3+dfsg-2ubuntu0.2 [2,006 kB]\n",
      "Get:6 http://archive.ubuntu.com/ubuntu jammy/main amd64 libevdev2 amd64 1.12.1+dfsg-1 [39.5 kB]\n",
      "Get:7 http://archive.ubuntu.com/ubuntu jammy/main amd64 libmtdev1 amd64 1.1.6-1build4 [14.5 kB]\n",
      "Get:8 http://archive.ubuntu.com/ubuntu jammy/main amd64 libgudev-1.0-0 amd64 1:237-2build1 [16.3 kB]\n",
      "Get:9 http://archive.ubuntu.com/ubuntu jammy/main amd64 libwacom-common all 2.2.0-1 [54.3 kB]\n",
      "Get:10 http://archive.ubuntu.com/ubuntu jammy/main amd64 libwacom9 amd64 2.2.0-1 [22.0 kB]\n",
      "Get:11 http://archive.ubuntu.com/ubuntu jammy-updates/main amd64 libinput-bin amd64 1.20.0-1ubuntu0.3 [19.9 kB]\n",
      "Get:12 http://archive.ubuntu.com/ubuntu jammy-updates/main amd64 libinput10 amd64 1.20.0-1ubuntu0.3 [131 kB]\n",
      "Get:13 https://ppa.launchpadcontent.net/saiarcot895/chromium-beta/ubuntu jammy/main amd64 chromium-browser amd64 1:108.0.5359.40-0ubuntu1~ppa1~22.04.1 [91.5 MB]\n",
      "Get:14 http://archive.ubuntu.com/ubuntu jammy/universe amd64 libmd4c0 amd64 0.4.8-1 [42.0 kB]\n",
      "Get:15 http://archive.ubuntu.com/ubuntu jammy-updates/universe amd64 libqt5dbus5 amd64 5.15.3+dfsg-2ubuntu0.2 [222 kB]\n",
      "Get:16 http://archive.ubuntu.com/ubuntu jammy-updates/universe amd64 libqt5network5 amd64 5.15.3+dfsg-2ubuntu0.2 [731 kB]\n",
      "Get:17 http://archive.ubuntu.com/ubuntu jammy/main amd64 libxcb-icccm4 amd64 0.4.1-1.1build2 [11.5 kB]\n",
      "Get:18 http://archive.ubuntu.com/ubuntu jammy/main amd64 libxcb-util1 amd64 0.4.0-1build2 [11.4 kB]\n",
      "Get:19 http://archive.ubuntu.com/ubuntu jammy/main amd64 libxcb-image0 amd64 0.4.0-2 [11.5 kB]\n",
      "Get:20 http://archive.ubuntu.com/ubuntu jammy/main amd64 libxcb-keysyms1 amd64 0.4.0-1build3 [8,746 B]\n",
      "Get:21 http://archive.ubuntu.com/ubuntu jammy/main amd64 libxcb-render-util0 amd64 0.3.9-1build3 [10.3 kB]\n",
      "Get:22 http://archive.ubuntu.com/ubuntu jammy/main amd64 libxcb-xinerama0 amd64 1.14-3ubuntu3 [5,414 B]\n",
      "Get:23 http://archive.ubuntu.com/ubuntu jammy/main amd64 libxcb-xinput0 amd64 1.14-3ubuntu3 [34.3 kB]\n",
      "Get:24 http://archive.ubuntu.com/ubuntu jammy/main amd64 libxcb-xkb1 amd64 1.14-3ubuntu3 [32.8 kB]\n",
      "Get:25 http://archive.ubuntu.com/ubuntu jammy/main amd64 libxkbcommon-x11-0 amd64 1.4.0-1 [14.4 kB]\n",
      "Get:26 http://archive.ubuntu.com/ubuntu jammy-updates/universe amd64 libqt5gui5 amd64 5.15.3+dfsg-2ubuntu0.2 [3,722 kB]\n",
      "Get:27 http://archive.ubuntu.com/ubuntu jammy-updates/universe amd64 libqt5widgets5 amd64 5.15.3+dfsg-2ubuntu0.2 [2,561 kB]\n",
      "Get:28 http://archive.ubuntu.com/ubuntu jammy/main amd64 libxtst6 amd64 2:1.2.3-1build4 [13.4 kB]\n",
      "Get:29 http://archive.ubuntu.com/ubuntu jammy/universe amd64 libqt5svg5 amd64 5.15.3-1 [149 kB]\n",
      "Get:30 http://archive.ubuntu.com/ubuntu jammy/main amd64 libtdb1 amd64 1.4.5-2build1 [46.4 kB]\n",
      "Get:31 http://archive.ubuntu.com/ubuntu jammy/main amd64 sound-theme-freedesktop all 0.8-2ubuntu1 [384 kB]\n",
      "Get:32 http://archive.ubuntu.com/ubuntu jammy-updates/main amd64 libcanberra0 amd64 0.30-10ubuntu1.22.04.1 [40.0 kB]\n",
      "Get:33 http://archive.ubuntu.com/ubuntu jammy-updates/main amd64 libpipewire-0.3-common all 0.3.48-1ubuntu3 [3,982 B]\n",
      "Get:34 http://archive.ubuntu.com/ubuntu jammy-updates/main amd64 libpipewire-0.3-modules amd64 0.3.48-1ubuntu3 [525 kB]\n",
      "Get:35 http://archive.ubuntu.com/ubuntu jammy/universe amd64 libva-wayland2 amd64 2.14.0-1 [9,784 B]\n",
      "Get:36 http://archive.ubuntu.com/ubuntu jammy/main amd64 libwacom-bin amd64 2.2.0-1 [13.6 kB]\n",
      "Get:37 http://archive.ubuntu.com/ubuntu jammy-updates/main amd64 pipewire-bin amd64 0.3.48-1ubuntu3 [312 kB]\n",
      "Get:38 http://archive.ubuntu.com/ubuntu jammy-updates/main amd64 pipewire amd64 0.3.48-1ubuntu3 [3,964 B]\n",
      "Get:39 http://archive.ubuntu.com/ubuntu jammy/main amd64 pipewire-media-session amd64 0.4.1-2ubuntu1 [128 kB]\n",
      "Get:40 http://archive.ubuntu.com/ubuntu jammy-updates/universe amd64 qt5-gtk-platformtheme amd64 5.15.3+dfsg-2ubuntu0.2 [130 kB]\n",
      "Get:41 http://archive.ubuntu.com/ubuntu jammy/universe amd64 qttranslations5-l10n all 5.15.3-1 [1,983 kB]\n",
      "Get:42 http://archive.ubuntu.com/ubuntu jammy/main amd64 rtkit amd64 0.13-4build2 [35.1 kB]\n",
      "Get:43 https://ppa.launchpadcontent.net/saiarcot895/chromium-beta/ubuntu jammy/main amd64 chromium-browser-l10n all 1:108.0.5359.40-0ubuntu1~ppa1~22.04.1 [5,890 kB]\n",
      "Fetched 113 MB in 4s (25.8 MB/s)\n",
      "debconf: unable to initialize frontend: Dialog\n",
      "debconf: (No usable dialog-like program is installed, so the dialog based frontend cannot be used. at /usr/share/perl5/Debconf/FrontEnd/Dialog.pm line 78, <> line 43.)\n",
      "debconf: falling back to frontend: Readline\n",
      "debconf: unable to initialize frontend: Readline\n",
      "debconf: (This frontend requires a controlling tty.)\n",
      "debconf: falling back to frontend: Teletype\n",
      "dpkg-preconfigure: unable to re-open stdin: \n",
      "Selecting previously unselected package libwebrtc-audio-processing1:amd64.\n",
      "(Reading database ... 121920 files and directories currently installed.)\n",
      "Preparing to unpack .../00-libwebrtc-audio-processing1_0.3.1-0ubuntu5_amd64.deb ...\n",
      "Unpacking libwebrtc-audio-processing1:amd64 (0.3.1-0ubuntu5) ...\n",
      "Selecting previously unselected package libspa-0.2-modules:amd64.\n",
      "Preparing to unpack .../01-libspa-0.2-modules_0.3.48-1ubuntu3_amd64.deb ...\n",
      "Unpacking libspa-0.2-modules:amd64 (0.3.48-1ubuntu3) ...\n",
      "Selecting previously unselected package libpipewire-0.3-0:amd64.\n",
      "Preparing to unpack .../02-libpipewire-0.3-0_0.3.48-1ubuntu3_amd64.deb ...\n",
      "Unpacking libpipewire-0.3-0:amd64 (0.3.48-1ubuntu3) ...\n",
      "Selecting previously unselected package libqt5core5a:amd64.\n",
      "Preparing to unpack .../03-libqt5core5a_5.15.3+dfsg-2ubuntu0.2_amd64.deb ...\n",
      "Unpacking libqt5core5a:amd64 (5.15.3+dfsg-2ubuntu0.2) ...\n",
      "Selecting previously unselected package libevdev2:amd64.\n",
      "Preparing to unpack .../04-libevdev2_1.12.1+dfsg-1_amd64.deb ...\n",
      "Unpacking libevdev2:amd64 (1.12.1+dfsg-1) ...\n",
      "Selecting previously unselected package libmtdev1:amd64.\n",
      "Preparing to unpack .../05-libmtdev1_1.1.6-1build4_amd64.deb ...\n",
      "Unpacking libmtdev1:amd64 (1.1.6-1build4) ...\n",
      "Selecting previously unselected package libgudev-1.0-0:amd64.\n",
      "Preparing to unpack .../06-libgudev-1.0-0_1%3a237-2build1_amd64.deb ...\n",
      "Unpacking libgudev-1.0-0:amd64 (1:237-2build1) ...\n",
      "Selecting previously unselected package libwacom-common.\n",
      "Preparing to unpack .../07-libwacom-common_2.2.0-1_all.deb ...\n",
      "Unpacking libwacom-common (2.2.0-1) ...\n",
      "Selecting previously unselected package libwacom9:amd64.\n",
      "Preparing to unpack .../08-libwacom9_2.2.0-1_amd64.deb ...\n",
      "Unpacking libwacom9:amd64 (2.2.0-1) ...\n",
      "Selecting previously unselected package libinput-bin.\n",
      "Preparing to unpack .../09-libinput-bin_1.20.0-1ubuntu0.3_amd64.deb ...\n",
      "Unpacking libinput-bin (1.20.0-1ubuntu0.3) ...\n",
      "Selecting previously unselected package libinput10:amd64.\n",
      "Preparing to unpack .../10-libinput10_1.20.0-1ubuntu0.3_amd64.deb ...\n",
      "Unpacking libinput10:amd64 (1.20.0-1ubuntu0.3) ...\n",
      "Selecting previously unselected package libmd4c0:amd64.\n",
      "Preparing to unpack .../11-libmd4c0_0.4.8-1_amd64.deb ...\n",
      "Unpacking libmd4c0:amd64 (0.4.8-1) ...\n",
      "Selecting previously unselected package libqt5dbus5:amd64.\n",
      "Preparing to unpack .../12-libqt5dbus5_5.15.3+dfsg-2ubuntu0.2_amd64.deb ...\n",
      "Unpacking libqt5dbus5:amd64 (5.15.3+dfsg-2ubuntu0.2) ...\n",
      "Selecting previously unselected package libqt5network5:amd64.\n",
      "Preparing to unpack .../13-libqt5network5_5.15.3+dfsg-2ubuntu0.2_amd64.deb ...\n",
      "Unpacking libqt5network5:amd64 (5.15.3+dfsg-2ubuntu0.2) ...\n",
      "Selecting previously unselected package libxcb-icccm4:amd64.\n",
      "Preparing to unpack .../14-libxcb-icccm4_0.4.1-1.1build2_amd64.deb ...\n",
      "Unpacking libxcb-icccm4:amd64 (0.4.1-1.1build2) ...\n",
      "Selecting previously unselected package libxcb-util1:amd64.\n",
      "Preparing to unpack .../15-libxcb-util1_0.4.0-1build2_amd64.deb ...\n",
      "Unpacking libxcb-util1:amd64 (0.4.0-1build2) ...\n",
      "Selecting previously unselected package libxcb-image0:amd64.\n",
      "Preparing to unpack .../16-libxcb-image0_0.4.0-2_amd64.deb ...\n",
      "Unpacking libxcb-image0:amd64 (0.4.0-2) ...\n",
      "Selecting previously unselected package libxcb-keysyms1:amd64.\n",
      "Preparing to unpack .../17-libxcb-keysyms1_0.4.0-1build3_amd64.deb ...\n",
      "Unpacking libxcb-keysyms1:amd64 (0.4.0-1build3) ...\n",
      "Selecting previously unselected package libxcb-render-util0:amd64.\n",
      "Preparing to unpack .../18-libxcb-render-util0_0.3.9-1build3_amd64.deb ...\n",
      "Unpacking libxcb-render-util0:amd64 (0.3.9-1build3) ...\n",
      "Selecting previously unselected package libxcb-xinerama0:amd64.\n",
      "Preparing to unpack .../19-libxcb-xinerama0_1.14-3ubuntu3_amd64.deb ...\n",
      "Unpacking libxcb-xinerama0:amd64 (1.14-3ubuntu3) ...\n",
      "Selecting previously unselected package libxcb-xinput0:amd64.\n",
      "Preparing to unpack .../20-libxcb-xinput0_1.14-3ubuntu3_amd64.deb ...\n",
      "Unpacking libxcb-xinput0:amd64 (1.14-3ubuntu3) ...\n",
      "Selecting previously unselected package libxcb-xkb1:amd64.\n",
      "Preparing to unpack .../21-libxcb-xkb1_1.14-3ubuntu3_amd64.deb ...\n",
      "Unpacking libxcb-xkb1:amd64 (1.14-3ubuntu3) ...\n",
      "Selecting previously unselected package libxkbcommon-x11-0:amd64.\n",
      "Preparing to unpack .../22-libxkbcommon-x11-0_1.4.0-1_amd64.deb ...\n",
      "Unpacking libxkbcommon-x11-0:amd64 (1.4.0-1) ...\n",
      "Selecting previously unselected package libqt5gui5:amd64.\n",
      "Preparing to unpack .../23-libqt5gui5_5.15.3+dfsg-2ubuntu0.2_amd64.deb ...\n",
      "Unpacking libqt5gui5:amd64 (5.15.3+dfsg-2ubuntu0.2) ...\n",
      "Selecting previously unselected package libqt5widgets5:amd64.\n",
      "Preparing to unpack .../24-libqt5widgets5_5.15.3+dfsg-2ubuntu0.2_amd64.deb ...\n",
      "Unpacking libqt5widgets5:amd64 (5.15.3+dfsg-2ubuntu0.2) ...\n",
      "Selecting previously unselected package libxtst6:amd64.\n",
      "Preparing to unpack .../25-libxtst6_2%3a1.2.3-1build4_amd64.deb ...\n",
      "Unpacking libxtst6:amd64 (2:1.2.3-1build4) ...\n",
      "Selecting previously unselected package chromium-codecs-ffmpeg-extra.\n",
      "Preparing to unpack .../26-chromium-codecs-ffmpeg-extra_1%3a108.0.5359.40-0ubuntu1~ppa1~22.04.1_amd64.deb ...\n",
      "Unpacking chromium-codecs-ffmpeg-extra (1:108.0.5359.40-0ubuntu1~ppa1~22.04.1) ...\n",
      "Selecting previously unselected package chromium-browser.\n",
      "Preparing to unpack .../27-chromium-browser_1%3a108.0.5359.40-0ubuntu1~ppa1~22.04.1_amd64.deb ...\n",
      "Unpacking chromium-browser (1:108.0.5359.40-0ubuntu1~ppa1~22.04.1) ...\n",
      "Selecting previously unselected package chromium-browser-l10n.\n",
      "Preparing to unpack .../28-chromium-browser-l10n_1%3a108.0.5359.40-0ubuntu1~ppa1~22.04.1_all.deb ...\n",
      "Unpacking chromium-browser-l10n (1:108.0.5359.40-0ubuntu1~ppa1~22.04.1) ...\n",
      "Selecting previously unselected package libqt5svg5:amd64.\n",
      "Preparing to unpack .../29-libqt5svg5_5.15.3-1_amd64.deb ...\n",
      "Unpacking libqt5svg5:amd64 (5.15.3-1) ...\n",
      "Selecting previously unselected package libtdb1:amd64.\n",
      "Preparing to unpack .../30-libtdb1_1.4.5-2build1_amd64.deb ...\n",
      "Unpacking libtdb1:amd64 (1.4.5-2build1) ...\n",
      "Selecting previously unselected package sound-theme-freedesktop.\n",
      "Preparing to unpack .../31-sound-theme-freedesktop_0.8-2ubuntu1_all.deb ...\n",
      "Unpacking sound-theme-freedesktop (0.8-2ubuntu1) ...\n",
      "Selecting previously unselected package libcanberra0:amd64.\n",
      "Preparing to unpack .../32-libcanberra0_0.30-10ubuntu1.22.04.1_amd64.deb ...\n",
      "Unpacking libcanberra0:amd64 (0.30-10ubuntu1.22.04.1) ...\n",
      "Selecting previously unselected package libpipewire-0.3-common.\n",
      "Preparing to unpack .../33-libpipewire-0.3-common_0.3.48-1ubuntu3_all.deb ...\n",
      "Unpacking libpipewire-0.3-common (0.3.48-1ubuntu3) ...\n",
      "Selecting previously unselected package libpipewire-0.3-modules:amd64.\n",
      "Preparing to unpack .../34-libpipewire-0.3-modules_0.3.48-1ubuntu3_amd64.deb ...\n",
      "Unpacking libpipewire-0.3-modules:amd64 (0.3.48-1ubuntu3) ...\n",
      "Selecting previously unselected package libva-wayland2:amd64.\n",
      "Preparing to unpack .../35-libva-wayland2_2.14.0-1_amd64.deb ...\n",
      "Unpacking libva-wayland2:amd64 (2.14.0-1) ...\n",
      "Selecting previously unselected package libwacom-bin.\n",
      "Preparing to unpack .../36-libwacom-bin_2.2.0-1_amd64.deb ...\n",
      "Unpacking libwacom-bin (2.2.0-1) ...\n",
      "Selecting previously unselected package pipewire-bin.\n",
      "Preparing to unpack .../37-pipewire-bin_0.3.48-1ubuntu3_amd64.deb ...\n",
      "Unpacking pipewire-bin (0.3.48-1ubuntu3) ...\n",
      "Selecting previously unselected package pipewire:amd64.\n",
      "Preparing to unpack .../38-pipewire_0.3.48-1ubuntu3_amd64.deb ...\n",
      "Unpacking pipewire:amd64 (0.3.48-1ubuntu3) ...\n",
      "Selecting previously unselected package pipewire-media-session.\n",
      "Preparing to unpack .../39-pipewire-media-session_0.4.1-2ubuntu1_amd64.deb ...\n",
      "Unpacking pipewire-media-session (0.4.1-2ubuntu1) ...\n",
      "Selecting previously unselected package qt5-gtk-platformtheme:amd64.\n",
      "Preparing to unpack .../40-qt5-gtk-platformtheme_5.15.3+dfsg-2ubuntu0.2_amd64.deb ...\n",
      "Unpacking qt5-gtk-platformtheme:amd64 (5.15.3+dfsg-2ubuntu0.2) ...\n",
      "Selecting previously unselected package qttranslations5-l10n.\n",
      "Preparing to unpack .../41-qttranslations5-l10n_5.15.3-1_all.deb ...\n",
      "Unpacking qttranslations5-l10n (5.15.3-1) ...\n",
      "Selecting previously unselected package rtkit.\n",
      "Preparing to unpack .../42-rtkit_0.13-4build2_amd64.deb ...\n",
      "Unpacking rtkit (0.13-4build2) ...\n",
      "Setting up libpipewire-0.3-common (0.3.48-1ubuntu3) ...\n",
      "Setting up rtkit (0.13-4build2) ...\n",
      "invoke-rc.d: could not determine current runlevel\n",
      "invoke-rc.d: policy-rc.d denied execution of force-reload.\n",
      "Setting up chromium-codecs-ffmpeg-extra (1:108.0.5359.40-0ubuntu1~ppa1~22.04.1) ...\n",
      "Setting up libxcb-xinput0:amd64 (1.14-3ubuntu3) ...\n",
      "Setting up libtdb1:amd64 (1.4.5-2build1) ...\n",
      "Setting up libxtst6:amd64 (2:1.2.3-1build4) ...\n",
      "Setting up libxcb-keysyms1:amd64 (0.4.0-1build3) ...\n",
      "Setting up libwebrtc-audio-processing1:amd64 (0.3.1-0ubuntu5) ...\n",
      "Setting up libxcb-render-util0:amd64 (0.3.9-1build3) ...\n",
      "Setting up libxcb-icccm4:amd64 (0.4.1-1.1build2) ...\n",
      "Setting up libxcb-util1:amd64 (0.4.0-1build2) ...\n",
      "Setting up libxcb-xkb1:amd64 (1.14-3ubuntu3) ...\n",
      "Setting up libxcb-image0:amd64 (0.4.0-2) ...\n",
      "Setting up libxcb-xinerama0:amd64 (1.14-3ubuntu3) ...\n",
      "Setting up qttranslations5-l10n (5.15.3-1) ...\n",
      "Setting up libspa-0.2-modules:amd64 (0.3.48-1ubuntu3) ...\n",
      "Setting up libpipewire-0.3-0:amd64 (0.3.48-1ubuntu3) ...\n",
      "Setting up libxkbcommon-x11-0:amd64 (1.4.0-1) ...\n",
      "Setting up libqt5core5a:amd64 (5.15.3+dfsg-2ubuntu0.2) ...\n",
      "Setting up libmtdev1:amd64 (1.1.6-1build4) ...\n",
      "Setting up libva-wayland2:amd64 (2.14.0-1) ...\n",
      "Setting up sound-theme-freedesktop (0.8-2ubuntu1) ...\n",
      "Setting up libqt5dbus5:amd64 (5.15.3+dfsg-2ubuntu0.2) ...\n",
      "Setting up libmd4c0:amd64 (0.4.8-1) ...\n",
      "Setting up libevdev2:amd64 (1.12.1+dfsg-1) ...\n",
      "Setting up libgudev-1.0-0:amd64 (1:237-2build1) ...\n",
      "Setting up libwacom-common (2.2.0-1) ...\n",
      "Setting up libcanberra0:amd64 (0.30-10ubuntu1.22.04.1) ...\n",
      "Setting up libwacom9:amd64 (2.2.0-1) ...\n",
      "Setting up libqt5network5:amd64 (5.15.3+dfsg-2ubuntu0.2) ...\n",
      "Setting up libinput-bin (1.20.0-1ubuntu0.3) ...\n",
      "Setting up libpipewire-0.3-modules:amd64 (0.3.48-1ubuntu3) ...\n",
      "Setting up libwacom-bin (2.2.0-1) ...\n",
      "Setting up libinput10:amd64 (1.20.0-1ubuntu0.3) ...\n",
      "Setting up libqt5gui5:amd64 (5.15.3+dfsg-2ubuntu0.2) ...\n",
      "Setting up libqt5widgets5:amd64 (5.15.3+dfsg-2ubuntu0.2) ...\n",
      "Setting up qt5-gtk-platformtheme:amd64 (5.15.3+dfsg-2ubuntu0.2) ...\n",
      "Setting up pipewire-bin (0.3.48-1ubuntu3) ...\n",
      "Setting up chromium-browser (1:108.0.5359.40-0ubuntu1~ppa1~22.04.1) ...\n",
      "update-alternatives: using /usr/bin/chromium-browser to provide /usr/bin/x-www-browser (x-www-browser) in auto mode\n",
      "update-alternatives: using /usr/bin/chromium-browser to provide /usr/bin/gnome-www-browser (gnome-www-browser) in auto mode\n",
      "Setting up chromium-browser-l10n (1:108.0.5359.40-0ubuntu1~ppa1~22.04.1) ...\n",
      "Setting up pipewire:amd64 (0.3.48-1ubuntu3) ...\n",
      "Created symlink /etc/systemd/user/default.target.wants/pipewire.service → /usr/lib/systemd/user/pipewire.service.\n",
      "Created symlink /etc/systemd/user/sockets.target.wants/pipewire.socket → /usr/lib/systemd/user/pipewire.socket.\n",
      "Setting up libqt5svg5:amd64 (5.15.3-1) ...\n",
      "Setting up pipewire-media-session (0.4.1-2ubuntu1) ...\n",
      "Created symlink /etc/systemd/user/pipewire-session-manager.service → /usr/lib/systemd/user/pipewire-media-session.service.\n",
      "Created symlink /etc/systemd/user/pipewire.service.wants/pipewire-media-session.service → /usr/lib/systemd/user/pipewire-media-session.service.\n",
      "Processing triggers for libc-bin (2.35-0ubuntu3.4) ...\n",
      "/sbin/ldconfig.real: /usr/local/lib/libtbbbind.so.3 is not a symbolic link\n",
      "\n",
      "/sbin/ldconfig.real: /usr/local/lib/libtbbmalloc.so.2 is not a symbolic link\n",
      "\n",
      "/sbin/ldconfig.real: /usr/local/lib/libtbb.so.12 is not a symbolic link\n",
      "\n",
      "/sbin/ldconfig.real: /usr/local/lib/libtbbbind_2_5.so.3 is not a symbolic link\n",
      "\n",
      "/sbin/ldconfig.real: /usr/local/lib/libtbbmalloc_proxy.so.2 is not a symbolic link\n",
      "\n",
      "/sbin/ldconfig.real: /usr/local/lib/libtbbbind_2_0.so.3 is not a symbolic link\n",
      "\n",
      "Processing triggers for man-db (2.10.2-1) ...\n",
      "Processing triggers for dbus (1.12.20-2ubuntu4.1) ...\n",
      "Processing triggers for hicolor-icon-theme (0.17-2) ...\n",
      "Requirement already satisfied: tqdm in /usr/local/lib/python3.10/dist-packages (4.66.2)\n",
      "Requirement already satisfied: selenium in /usr/local/lib/python3.10/dist-packages (4.20.0)\n",
      "Requirement already satisfied: urllib3[socks]<3,>=1.26 in /usr/local/lib/python3.10/dist-packages (from selenium) (2.0.7)\n",
      "Requirement already satisfied: trio~=0.17 in /usr/local/lib/python3.10/dist-packages (from selenium) (0.25.0)\n",
      "Requirement already satisfied: trio-websocket~=0.9 in /usr/local/lib/python3.10/dist-packages (from selenium) (0.11.1)\n",
      "Requirement already satisfied: certifi>=2021.10.8 in /usr/local/lib/python3.10/dist-packages (from selenium) (2024.2.2)\n",
      "Requirement already satisfied: typing_extensions>=4.9.0 in /usr/local/lib/python3.10/dist-packages (from selenium) (4.11.0)\n",
      "Requirement already satisfied: attrs>=23.2.0 in /usr/local/lib/python3.10/dist-packages (from trio~=0.17->selenium) (23.2.0)\n",
      "Requirement already satisfied: sortedcontainers in /usr/local/lib/python3.10/dist-packages (from trio~=0.17->selenium) (2.4.0)\n",
      "Requirement already satisfied: idna in /usr/local/lib/python3.10/dist-packages (from trio~=0.17->selenium) (3.7)\n",
      "Requirement already satisfied: outcome in /usr/local/lib/python3.10/dist-packages (from trio~=0.17->selenium) (1.3.0.post0)\n",
      "Requirement already satisfied: sniffio>=1.3.0 in /usr/local/lib/python3.10/dist-packages (from trio~=0.17->selenium) (1.3.1)\n",
      "Requirement already satisfied: exceptiongroup in /usr/local/lib/python3.10/dist-packages (from trio~=0.17->selenium) (1.2.1)\n",
      "Requirement already satisfied: wsproto>=0.14 in /usr/local/lib/python3.10/dist-packages (from trio-websocket~=0.9->selenium) (1.2.0)\n",
      "Requirement already satisfied: pysocks!=1.5.7,<2.0,>=1.5.6 in /usr/local/lib/python3.10/dist-packages (from urllib3[socks]<3,>=1.26->selenium) (1.7.1)\n",
      "Requirement already satisfied: h11<1,>=0.9.0 in /usr/local/lib/python3.10/dist-packages (from wsproto>=0.14->trio-websocket~=0.9->selenium) (0.14.0)\n",
      "Hit:1 http://archive.ubuntu.com/ubuntu jammy InRelease\n",
      "Hit:2 http://archive.ubuntu.com/ubuntu jammy-updates InRelease\n",
      "Hit:3 https://developer.download.nvidia.com/compute/cuda/repos/ubuntu2204/x86_64  InRelease\n",
      "Hit:4 http://archive.ubuntu.com/ubuntu jammy-backports InRelease\n",
      "Hit:5 https://cloud.r-project.org/bin/linux/ubuntu jammy-cran40/ InRelease\n",
      "Hit:6 http://security.ubuntu.com/ubuntu jammy-security InRelease\n",
      "Hit:7 https://ppa.launchpadcontent.net/c2d4u.team/c2d4u4.0+/ubuntu jammy InRelease\n",
      "Hit:8 https://ppa.launchpadcontent.net/deadsnakes/ppa/ubuntu jammy InRelease\n",
      "Hit:9 https://ppa.launchpadcontent.net/graphics-drivers/ppa/ubuntu jammy InRelease\n",
      "Hit:10 https://ppa.launchpadcontent.net/saiarcot895/chromium-beta/ubuntu jammy InRelease\n",
      "Hit:11 https://ppa.launchpadcontent.net/ubuntugis/ppa/ubuntu jammy InRelease\n",
      "Reading package lists... Done\n",
      "Reading package lists... Done\n",
      "Building dependency tree... Done\n",
      "Reading state information... Done\n",
      "The following NEW packages will be installed:\n",
      "  chromium-chromedriver\n",
      "0 upgraded, 1 newly installed, 0 to remove and 45 not upgraded.\n",
      "Need to get 6,015 kB of archives.\n",
      "After this operation, 17.0 MB of additional disk space will be used.\n",
      "Get:1 https://ppa.launchpadcontent.net/saiarcot895/chromium-beta/ubuntu jammy/main amd64 chromium-chromedriver amd64 1:108.0.5359.40-0ubuntu1~ppa1~22.04.1 [6,015 kB]\n",
      "Fetched 6,015 kB in 1s (4,955 kB/s)\n",
      "Selecting previously unselected package chromium-chromedriver.\n",
      "(Reading database ... 123434 files and directories currently installed.)\n",
      "Preparing to unpack .../chromium-chromedriver_1%3a108.0.5359.40-0ubuntu1~ppa1~22.04.1_amd64.deb ...\n",
      "Unpacking chromium-chromedriver (1:108.0.5359.40-0ubuntu1~ppa1~22.04.1) ...\n",
      "Setting up chromium-chromedriver (1:108.0.5359.40-0ubuntu1~ppa1~22.04.1) ...\n"
     ]
    }
   ],
   "source": [
    "!pip install selenium --upgrade\n",
    "!pip install requests\n",
    "from selenium import webdriver\n",
    "from selenium.webdriver.common.by import By\n",
    "\n",
    "import sys\n",
    "!sudo add-apt-repository ppa:saiarcot895/chromium-beta\n",
    "!sudo apt remove chromium-browser\n",
    "!sudo snap remove chromium\n",
    "!sudo apt install chromium-browser\n",
    "\n",
    "!pip install tqdm\n",
    "import pandas as pd\n",
    "from tqdm import tqdm\n",
    "!pip install selenium\n",
    "!apt-get update\n",
    "!apt install chromium-chromedriver\n",
    "!cp /usr/lib/chromium-browser/chromedriver /usr/bin\n",
    "\n",
    "import time\n",
    "from selenium import webdriver\n",
    "from selenium.webdriver.common.by import By\n",
    "from selenium.webdriver.chrome.service import Service\n",
    "\n",
    "sys.path.insert(0,'/usr/lib/chromium-browser/chromedriver')\n",
    "\n",
    "options = webdriver.ChromeOptions()\n",
    "options.add_argument('--headless')\n",
    "options.add_experimental_option(\"detach\", True)\n",
    "options.add_argument('--no-sandbox')\n",
    "options.add_argument('--disable-dev-shm-usage')\n",
    "\n",
    "webdriver_service = Service('/usr/lib/chromium-browser/chromedriver')\n",
    "driver = webdriver.Chrome(service=webdriver_service,options = options)\n",
    "\n",
    "from time import sleep\n",
    "\n",
    "from selenium.webdriver.common.action_chains import ActionChains\n",
    "from selenium.webdriver.common.keys import Keys\n",
    "from selenium.common.exceptions import TimeoutException\n",
    "from selenium.webdriver.support.ui import WebDriverWait\n",
    "from selenium.webdriver.support import expected_conditions as EC\n",
    "\n",
    "from bs4 import BeautifulSoup\n",
    "import requests\n",
    "import re\n",
    "import random\n",
    "import requests\n",
    "import json\n",
    "from datetime import datetime, timedelta\n",
    "import os\n",
    "import csv"
   ]
  },
  {
   "cell_type": "markdown",
   "metadata": {
    "id": "A4uH9mwvoC2O"
   },
   "source": [
    "## crawling function"
   ]
  },
  {
   "cell_type": "code",
   "execution_count": null,
   "metadata": {
    "id": "MvGJD0nFoeBc"
   },
   "outputs": [],
   "source": [
    "# URL crawling\n",
    "def keyword_crawling(company, start_date, end_date, pbar=None):\n",
    "    urls = set()\n",
    "    s_date = start_date.replace('.', '')\n",
    "    e_date = end_date.replace('.', '')\n",
    "    year = start_date.split('.')[0]\n",
    "    search_url = f\"https://search.naver.com/search.naver?where=news&query={company}&sm=tab_opt&sort=0&photo=0&field=0&pd={start_date}&de={end_date}&docid=&related=0&mynews=0&office_type=0&office_section_code=0&news_office_checked=&nso=so%3Ar%2Cp%3Afrom{s_date}to{e_date}&is_sug_officeid=0&office_category=0&service_area=0\"\n",
    "    driver.get(search_url)\n",
    "    driver.implicitly_wait(10)\n",
    "    before_h = driver.execute_script(\"return window.scrollY\")\n",
    "    while True:\n",
    "        driver.execute_script(\"window.scrollTo(0, document.body.scrollHeight);\")\n",
    "        time.sleep(random.uniform(2,3))\n",
    "#Scroll height after scrolling\n",
    "        WebDriverWait(driver, 20).until(EC.presence_of_element_located((By.CSS_SELECTOR, 'a.info')))\n",
    "        after_h = driver.execute_script(\"return window.scrollY\")\n",
    "        time.sleep(random.uniform(2,3))\n",
    "        if after_h == before_h:\n",
    "            naver_urls = driver.find_elements(By.CSS_SELECTOR, 'a.info')\n",
    "            break\n",
    "        before_h = after_h\n",
    "\n",
    "    for naver_url in naver_urls:\n",
    "        url = naver_url.get_attribute('href')\n",
    "        match = re.search(r'\\d{3}$', url)\n",
    "# If it is not a duplicate URL, add it and save it to the file\n",
    "        if \"news.naver.com\" in url and \"sports\" not in url and match and match.group() not in {\"106\", \"107\"} and match.group() in {\"100\", \"101\", \"102\", \"103\", \"104\", \"105\", \"110\"} and url not in urls:\n",
    "            urls.add(url)\n",
    "            if pbar is not None:\n",
    "                pbar.update(1)\n",
    "\n",
    "    with open(f'/content/drive/MyDrive/Kwargs/뉴스 크롤링/urls/{company}{start_date}.txt', 'w', encoding='utf-8') as f:\n",
    "        for url in urls:\n",
    "            f.write(url + '\\n')\n",
    "    print(f'{year}년 {company} url 저장 완료\\n')\n",
    "    return list(urls)"
   ]
  },
  {
   "cell_type": "code",
   "execution_count": null,
   "metadata": {
    "id": "3TwmV1ZgqE-e"
   },
   "outputs": [],
   "source": [
    "# Article crawling (category, content, title return)\n",
    "def article_crawling(url):\n",
    "    headers = {\"User-Agent\": \"Mozilla/5.0 (Windows NT 10.0; Win64; x64) AppleWebKit/537.36 (KHTML, like Gecko) Chrome/121.0.0.0 Safari/537.36\"}\n",
    "    original_html = requests.get(url, headers = headers)\n",
    "    soup = BeautifulSoup(original_html.text, \"html.parser\")\n",
    "    driver.implicitly_wait(10)\n",
    "\n",
    "# Category\n",
    "    category_mapping = {\n",
    "    '100': '정치',\n",
    "    '101': '경제',\n",
    "    '102': '사회',\n",
    "    '103': '생활문화',\n",
    "    '104': '세계',\n",
    "    '105': 'IT과학',\n",
    "    '110': '오피니언'\n",
    "    }\n",
    "    match = re.search(r'sid=(\\d+)', url)\n",
    "    category = category_mapping.get(match.group(1))\n",
    "\n",
    "\n",
    "# title\n",
    "    title = soup.select_one('#title_area')\n",
    "    if title:\n",
    "        title = title.text\n",
    "    else:\n",
    "        title = ''\n",
    "\n",
    "# date\n",
    "    try:\n",
    "        datestamp = soup.select_one(\"#ct > div.media_end_head.go_trans > div.media_end_head_info.nv_notrans > div.media_end_head_info_datestamp > div:nth-child(1) > span\")\n",
    "        date = datestamp.attrs['data-date-time']\n",
    "    except AttributeError:\n",
    "        date = soup.select_one('#ct > div.media_end_head.go_trans > div.media_end_head_info.nv_notrans > div.media_end_head_info_datestamp > div:nth-child(1) > span')\n",
    "        date = re.sub(r'<[^>]*>','',str(date))\n",
    "\n",
    "    try:\n",
    "        for tag in soup.find_all(\"span\", {\"class\": \"end_photo_org\"}):\n",
    "            tag.decompose()\n",
    "        for tag in soup.find_all(\"strong\", {\"class\": \"media_end_summary\"}):\n",
    "            tag.decompose()\n",
    "        for a_tag in soup.find_all('a'):\n",
    "            a_tag.decompose()\n",
    "    except AttributeError:\n",
    "        pass\n",
    "\n",
    "\n",
    "# detail\n",
    "    content = soup.select_one(\"#newsct_article\")\n",
    "    if content:\n",
    "        content = content.text.replace(\"\\n\",\"\").replace(\"\\t\",\"\")\n",
    "    else:\n",
    "        content = ''\n",
    "\n",
    "    return content, title, date, category"
   ]
  },
  {
   "cell_type": "code",
   "execution_count": null,
   "metadata": {
    "id": "E2tJBcNIqEDw"
   },
   "outputs": [],
   "source": [
    "def clean_content(text):\n",
    "    text = re.sub(r'Copyrights.*', '',text)\n",
    "    text = re.sub(r'^\\n+', '', text)\n",
    "    text = re.sub(r\"^\\n\", \"\", text)\n",
    "    text = re.sub(r'\\n+', '', text) #줄바꿈 태그 제거\n",
    "    text = re.sub(r'\\t+', '', text) # 탭 태그 제거\n",
    "    text = re.sub('<[^>]*>','', text)\n",
    "    text = re.sub(r'^\\[|\\]$', '',text) #앞뒤 [또는]제거\n",
    "    text = re.sub('\\s{2,}',' ',text) # 공백 2자리=>1자리로\n",
    "    text = re.sub('[=+#/^$*※&ㆍ!』\\\\|\\[\\]\\<\\>`…》ⓒ☞■□ㅁ◆◇▶◀▷◁△▽▲▼○●━]', '', text)\n",
    "    text = text.replace(\"\"\"[\\n\\n\\n\\n\\n// flash 오류를 우회하기 위한 함수 추가\\nfunction _flash_removeCallback() {}\"\"\",'')\n",
    "    text = text.replace('\\\"','')\n",
    "    text = text.replace('무단복제 및 재배포 금지','')\n",
    "    text = text.replace('무단전재 및 재배포 금지','')\n",
    "    text = re.sub('\\\\n+','',text)\n",
    "    text = text.replace('gt;','')\n",
    "    text = text.replace('lt;','')\n",
    "    text = text.replace('amp;','')\n",
    "    return text\n",
    "\n",
    "def clean_title(title):\n",
    "    title = re.sub('<[^>]*>','', title)\n",
    "    title = re.sub(r'^\\[|\\]$', '',title)\n",
    "    title = title.replace('\\\"','')\n",
    "    title = re.sub(r'\\n+', '', title)\n",
    "    return title"
   ]
  },
  {
   "cell_type": "code",
   "execution_count": null,
   "metadata": {
    "id": "mlpL94rqprM5"
   },
   "outputs": [],
   "source": [
    "# 2 months date list creation\n",
    "def create_date_ranges(start_date, end_date):\n",
    "    date_ranges = []\n",
    "    current_date = start_date\n",
    "\n",
    "    while current_date <= end_date:\n",
    "        next_month = current_date.month + 2\n",
    "        next_year = current_date.year + (next_month - 1) // 12\n",
    "        next_month = (next_month - 1) % 12 + 1\n",
    "        next_date = current_date.replace(year=next_year, month=next_month)\n",
    "\n",
    "        if next_date > end_date:\n",
    "            next_date = end_date\n",
    "        date_ranges.append((current_date.strftime(\"%Y.%m.%d\"), next_date.strftime(\"%Y.%m.%d\")))\n",
    "        current_date = next_date + timedelta(days=1)\n",
    "\n",
    "    return date_ranges\n",
    "\n",
    "start_date = datetime(2019, 1, 1)\n",
    "end_date = datetime(2023, 12, 31)\n",
    "\n",
    "date_ranges = create_date_ranges(start_date, end_date)"
   ]
  },
  {
   "cell_type": "code",
   "execution_count": null,
   "metadata": {
    "id": "OJC_dU3ip5W9"
   },
   "outputs": [],
   "source": [
    "# Road checkpoint\n",
    "def load_checkpoint(checkpoint_path):\n",
    "    try:\n",
    "        with open(checkpoint_path, 'r', encoding='utf-8') as file:\n",
    "            reader = csv.DictReader(file)\n",
    "            data = list(reader)\n",
    "        return data\n",
    "    except FileNotFoundError:\n",
    "        return []"
   ]
  },
  {
   "cell_type": "code",
   "execution_count": null,
   "metadata": {
    "id": "uuXMdO49C-4G"
   },
   "outputs": [],
   "source": [
    "def main():\n",
    "# Create a company name\n",
    "    checkpoint_path = f'/content/drive/MyDrive/Kwargs/뉴스 크롤링/csv/{company}_news_data.csv'\n",
    "#Add data loads stored before\n",
    "    try:\n",
    "        data = pd.read_csv(checkpoint_path)\n",
    "        for start_date, end_date in date_ranges:\n",
    "            file_name = f'{company}{start_date}.txt'\n",
    "            file_path = f'/content/drive/MyDrive/Kwargs/뉴스 크롤링/urls/{file_name}'\n",
    "            if os.path.exists(file_path):\n",
    "                continue\n",
    "\n",
    "# Create data frame to store data corresponding to the date range\n",
    "            new_data = pd.DataFrame(columns=['title', 'date', 'content', 'category'])\n",
    "            with tqdm(desc=f\"Crawling urls {company} : {start_date} ~ {end_date}\") as pbar:\n",
    "                urls = keyword_crawling(company, start_date, end_date, pbar)\n",
    "            for url in tqdm(urls, desc=f\"Crawling news for {company} : {start_date} ~ {end_date}\"):\n",
    "# Title, content crawl\n",
    "                content, title, date, category = article_crawling(url)\n",
    "                title = clean_title(title)\n",
    "                content = clean_content(content)\n",
    "\n",
    "                if content and title and \"포토\" not in title:\n",
    "                    new_data = pd.concat([new_data, pd.DataFrame({'title': [title], 'date': [date], 'content': [content],'category': [category]})], ignore_index=True)\n",
    "                elif not content and not title:\n",
    "                    print('추가해야될 url:', url, title, content)\n",
    "                    with open(f'/content/drive/MyDrive/Kwargs/뉴스 크롤링/urls/추가url_{company}.txt', 'a', encoding='utf-8') as f:\n",
    "                        f.write(url + '\\n')\n",
    "\n",
    "            new_data.to_csv(checkpoint_path, index=False, mode='a', header=not os.path.exists(checkpoint_path), encoding='utf-8')\n",
    "# Add new data to existing data frames\n",
    "            data = pd.concat([data, new_data], ignore_index=True)\n",
    "\n",
    "# Save all data as a CSV file\n",
    "        data.to_csv(checkpoint_path, index=False, mode='w', encoding='utf-8')\n",
    "\n",
    "    except FileNotFoundError:\n",
    "        data = pd.DataFrame(columns=['title', 'date', 'content', 'category'])\n",
    "        for start_date, end_date in date_ranges:\n",
    "# Create data frame to store data corresponding to the date range\n",
    "            new_data = pd.DataFrame(columns=['title', 'date', 'content','category'])\n",
    "\n",
    "            with tqdm(desc=f\"Crawling urls {company} : {start_date} ~ {end_date}\") as pbar:\n",
    "                urls = keyword_crawling(company, start_date, end_date, pbar)\n",
    "            for url in tqdm(urls, desc=f\"Crawling news for {company} - {start_date.split('.')[0]}\"):\n",
    "# Title, content, date, category crawling\n",
    "                content, title, date, category = article_crawling(url)\n",
    "                title = clean_title(title)\n",
    "                content = clean_content(content)\n",
    "\n",
    "                if content and title and \"포토\" not in title:\n",
    "                    new_data = pd.concat([new_data, pd.DataFrame({'title': [title], 'date': [date], 'content': [content],'category': [category]})], ignore_index=True)\n",
    "                elif not content and not title:\n",
    "                    print('추가해야될 url:', url, title, content)\n",
    "                    with open(f'/content/drive/MyDrive/Kwargs/뉴스 크롤링/urls/추가url_{company}.txt', 'a', encoding='utf-8') as f:\n",
    "                        f.write(url + '\\n')\n",
    "\n",
    "            new_data.to_csv(checkpoint_path, index=False, mode='a', header=not os.path.exists(checkpoint_path), encoding='utf-8')\n",
    "# Add new data to existing data frames\n",
    "            data = pd.concat([data, new_data], ignore_index=True)\n",
    "# Save all data as a CSV file\n",
    "        data.to_csv(checkpoint_path, index=False, mode='w', encoding='utf-8')"
   ]
  },
  {
   "cell_type": "markdown",
   "metadata": {
    "id": "g7dafAfCTx34"
   },
   "source": [
    "## execution"
   ]
  },
  {
   "cell_type": "code",
   "execution_count": null,
   "metadata": {
    "colab": {
     "base_uri": "https://localhost:8080/"
    },
    "id": "Ecas5TBprGS6",
    "outputId": "3debaf3b-4a77-4af8-d1b7-473b96b6a8d4"
   },
   "outputs": [
    {
     "name": "stderr",
     "output_type": "stream",
     "text": [
      "Crawling urls 삼성SDI : 2019.01.01 ~ 2019.03.01: 734it [24:52,  2.03s/it]\n"
     ]
    },
    {
     "name": "stdout",
     "output_type": "stream",
     "text": [
      "2019년 삼성SDI url 저장 완료\n",
      "\n"
     ]
    },
    {
     "name": "stderr",
     "output_type": "stream",
     "text": [
      "Crawling news for 삼성SDI - 2019:  75%|███████▌  | 553/734 [06:35<02:03,  1.46it/s]"
     ]
    }
   ],
   "source": [
    "company = '삼성SDI'#input(\"종목명:\")\n",
    "if __name__ == \"__main__\":\n",
    "    main()"
   ]
  },
  {
   "cell_type": "markdown",
   "metadata": {
    "id": "p2Rjh67qESto"
   },
   "source": [
    "## Modify the existing crawling results"
   ]
  },
  {
   "cell_type": "code",
   "execution_count": null,
   "metadata": {
    "id": "lGYXBpssnmI6"
   },
   "outputs": [],
   "source": [
    "# Deleted functions for categories in the existing URL text file (only the company that completed all the crawlings runs functions)\n",
    "def edit_url(company):\n",
    "    for start_date, end_date in date_ranges:\n",
    "        with open(f'/content/drive/MyDrive/Kwargs/뉴스 크롤링/{company}{start_date}.txt', 'r', encoding='utf-8') as f:\n",
    "            urls = f.read().splitlines()\n",
    "\n",
    "# Define the modified file path and open the file in writing mode.\n",
    "        with open(f'/content/drive/MyDrive/Kwargs/뉴스 크롤링/{company}{start_date}.txt', 'w', encoding='utf-8') as f_out:\n",
    "            for url in urls:\n",
    "                match = re.search(r'\\d{3}$', url)\n",
    "                if match and match.group() in {\"100\", \"101\", \"102\", \"103\", \"104\", \"105\", \"110\"} and match.group() not in {\"106\", \"107\"}:\n",
    "                    f_out.write(url + '\\n')\n",
    "\n",
    "\n",
    "# Run if you need to crawl again from the existing crawling file\n",
    "def edit_crawling(company):\n",
    "#Designation of storage paths\n",
    "    data_path = f'/content/drive/MyDrive/Kwargs/뉴스 크롤링/{company}_news_data.csv'\n",
    "    data = pd.DataFrame(columns=['title', 'date', 'content', 'category'])\n",
    "\n",
    "    for start_date, end_date in date_ranges:\n",
    "# Create data frame to store data corresponding to the date range\n",
    "        new_data = pd.DataFrame(columns=['title', 'date', 'content', 'category'])\n",
    "\n",
    "        with open(f'/content/drive/MyDrive/Kwargs/뉴스 크롤링/{company}{start_date}.txt', 'r', encoding='utf-8') as f:\n",
    "            urls = f.read().splitlines()\n",
    "            for url in tqdm(urls, desc=f\"Crawling news for {company} : {start_date} ~ {end_date}\"):\n",
    "                url = url.strip()\n",
    "# Title, content, date, category crawling\n",
    "                content, title, date, category = article_crawling(url)\n",
    "                title = clean_title(title)\n",
    "                content = clean_content(content)\n",
    "                if content and title and \"포토\" not in title:\n",
    "                    new_data = pd.concat([new_data, pd.DataFrame({'title': [title], 'date': [date], 'content': [content],'category': [category]})], ignore_index=True)\n",
    "                elif not content and not title:\n",
    "                    print('추가해야될 url:', url, title, content)\n",
    "                    with open(f'/content/drive/MyDrive/Kwargs/뉴스 크롤링/추가url_{company}.txt', 'a', encoding='utf-8') as f:\n",
    "                        f.write(url + '\\n')\n",
    "\n",
    "        new_data.to_csv(data_path, index=False, mode='a', header=not os.path.exists(data_path), encoding='utf-8')\n",
    "# Add new data to existing data frames\n",
    "        data = pd.concat([data, new_data], ignore_index=True)\n",
    "# Save all data as a CSV file\n",
    "    data.to_csv(data_path, index=False, mode='w', encoding='utf-8')"
   ]
  },
  {
   "cell_type": "code",
   "execution_count": null,
   "metadata": {
    "id": "3SWESl8s-va0"
   },
   "outputs": [],
   "source": [
    "def main():\n",
    "# Edit_URL (Company)\n",
    "    edit_crawling(company)"
   ]
  },
  {
   "cell_type": "code",
   "execution_count": null,
   "metadata": {
    "colab": {
     "background_save": true,
     "base_uri": "https://localhost:8080/"
    },
    "id": "jIrfmDBy7zkZ",
    "outputId": "05fa8469-3b78-4cf6-d0d9-3d9861b7b76b"
   },
   "outputs": [
    {
     "name": "stderr",
     "output_type": "stream",
     "text": [
      "Crawling urls 대한항공 : 2019.01.01 ~ 2019.03.01: 872it [19:48,  1.36s/it]\n"
     ]
    },
    {
     "name": "stdout",
     "output_type": "stream",
     "text": [
      "2019년 대한항공 url 저장 완료\n",
      "\n"
     ]
    },
    {
     "name": "stderr",
     "output_type": "stream",
     "text": [
      "Crawling news for 대한항공 - 2019:  18%|█▊        | 159/872 [02:11<13:29,  1.14s/it]"
     ]
    },
    {
     "name": "stdout",
     "output_type": "stream",
     "text": [
      "추가해야될 url: https://n.news.naver.com/mnews/article/015/0004086614?sid=101  \n"
     ]
    },
    {
     "name": "stderr",
     "output_type": "stream",
     "text": [
      "Crawling news for 대한항공 - 2019:  46%|████▌     | 399/872 [05:10<06:51,  1.15it/s]"
     ]
    },
    {
     "name": "stdout",
     "output_type": "stream",
     "text": [
      "추가해야될 url: https://n.news.naver.com/mnews/article/018/0004300288?sid=101  \n"
     ]
    },
    {
     "name": "stderr",
     "output_type": "stream",
     "text": [
      "Crawling news for 대한항공 - 2019: 100%|██████████| 872/872 [11:34<00:00,  1.26it/s]\n",
      "Crawling urls 대한항공 : 2019.03.02 ~ 2019.05.02: 1454it [19:19,  1.25it/s]\n"
     ]
    },
    {
     "name": "stdout",
     "output_type": "stream",
     "text": [
      "2019년 대한항공 url 저장 완료\n",
      "\n"
     ]
    },
    {
     "name": "stderr",
     "output_type": "stream",
     "text": [
      "Crawling news for 대한항공 - 2019: 100%|██████████| 1454/1454 [17:54<00:00,  1.35it/s]\n",
      "Crawling urls 대한항공 : 2019.05.03 ~ 2019.07.03: 969it [19:02,  1.18s/it]\n"
     ]
    },
    {
     "name": "stdout",
     "output_type": "stream",
     "text": [
      "2019년 대한항공 url 저장 완료\n",
      "\n"
     ]
    },
    {
     "name": "stderr",
     "output_type": "stream",
     "text": [
      "Crawling news for 대한항공 - 2019: 100%|██████████| 969/969 [11:55<00:00,  1.35it/s]\n",
      "Crawling urls 대한항공 : 2019.07.04 ~ 2019.09.04: 996it [19:00,  1.15s/it]\n"
     ]
    },
    {
     "name": "stdout",
     "output_type": "stream",
     "text": [
      "2019년 대한항공 url 저장 완료\n",
      "\n"
     ]
    },
    {
     "name": "stderr",
     "output_type": "stream",
     "text": [
      "Crawling news for 대한항공 - 2019: 100%|██████████| 996/996 [11:46<00:00,  1.41it/s]\n",
      "Crawling urls 대한항공 : 2019.09.05 ~ 2019.11.05: 890it [19:23,  1.31s/it]\n"
     ]
    },
    {
     "name": "stdout",
     "output_type": "stream",
     "text": [
      "2019년 대한항공 url 저장 완료\n",
      "\n"
     ]
    },
    {
     "name": "stderr",
     "output_type": "stream",
     "text": [
      "Crawling news for 대한항공 - 2019:  50%|█████     | 446/890 [05:12<06:14,  1.18it/s]"
     ]
    },
    {
     "name": "stdout",
     "output_type": "stream",
     "text": [
      "추가해야될 url: https://n.news.naver.com/mnews/article/088/0000617626?sid=102  \n"
     ]
    },
    {
     "name": "stderr",
     "output_type": "stream",
     "text": [
      "Crawling news for 대한항공 - 2019: 100%|██████████| 890/890 [10:24<00:00,  1.43it/s]\n",
      "Crawling urls 대한항공 : 2019.11.06 ~ 2020.01.06: 875it [19:14,  1.32s/it]\n"
     ]
    },
    {
     "name": "stdout",
     "output_type": "stream",
     "text": [
      "2019년 대한항공 url 저장 완료\n",
      "\n"
     ]
    },
    {
     "name": "stderr",
     "output_type": "stream",
     "text": [
      "Crawling news for 대한항공 - 2019:  63%|██████▎   | 549/875 [06:34<05:36,  1.03s/it]"
     ]
    },
    {
     "name": "stdout",
     "output_type": "stream",
     "text": [
      "추가해야될 url: https://n.news.naver.com/mnews/article/011/0003675662?sid=101  \n"
     ]
    },
    {
     "name": "stderr",
     "output_type": "stream",
     "text": [
      "Crawling news for 대한항공 - 2019: 100%|██████████| 875/875 [10:16<00:00,  1.42it/s]\n",
      "Crawling urls 대한항공 : 2020.01.07 ~ 2020.03.07: 1396it [19:41,  1.18it/s]\n"
     ]
    },
    {
     "name": "stdout",
     "output_type": "stream",
     "text": [
      "2020년 대한항공 url 저장 완료\n",
      "\n"
     ]
    },
    {
     "name": "stderr",
     "output_type": "stream",
     "text": [
      "Crawling news for 대한항공 - 2020:   7%|▋         | 93/1396 [01:07<20:37,  1.05it/s]"
     ]
    },
    {
     "name": "stdout",
     "output_type": "stream",
     "text": [
      "추가해야될 url: https://n.news.naver.com/mnews/article/215/0000845891?sid=101  \n"
     ]
    },
    {
     "name": "stderr",
     "output_type": "stream",
     "text": [
      "Crawling news for 대한항공 - 2020:  22%|██▏       | 303/1396 [03:39<16:33,  1.10it/s]"
     ]
    },
    {
     "name": "stdout",
     "output_type": "stream",
     "text": [
      "추가해야될 url: https://n.news.naver.com/mnews/article/123/0002218861?sid=101  \n"
     ]
    },
    {
     "name": "stderr",
     "output_type": "stream",
     "text": [
      "Crawling news for 대한항공 - 2020: 100%|██████████| 1396/1396 [19:04<00:00,  1.22it/s]\n",
      "Crawling urls 대한항공 : 2020.03.08 ~ 2020.05.08: 1151it [19:05,  1.00it/s]\n"
     ]
    },
    {
     "name": "stdout",
     "output_type": "stream",
     "text": [
      "2020년 대한항공 url 저장 완료\n",
      "\n"
     ]
    },
    {
     "name": "stderr",
     "output_type": "stream",
     "text": [
      "Crawling news for 대한항공 - 2020:   3%|▎         | 30/1151 [00:28<22:10,  1.19s/it]"
     ]
    },
    {
     "name": "stdout",
     "output_type": "stream",
     "text": [
      "추가해야될 url: https://n.news.naver.com/mnews/article/055/0000810503?sid=104  \n"
     ]
    },
    {
     "name": "stderr",
     "output_type": "stream",
     "text": [
      "Crawling news for 대한항공 - 2020:   9%|▉         | 102/1151 [01:35<14:52,  1.18it/s]"
     ]
    },
    {
     "name": "stdout",
     "output_type": "stream",
     "text": [
      "추가해야될 url: https://n.news.naver.com/mnews/article/469/0000480815?sid=101  \n"
     ]
    },
    {
     "name": "stderr",
     "output_type": "stream",
     "text": [
      "Crawling news for 대한항공 - 2020:   9%|▉         | 104/1151 [01:37<15:22,  1.13it/s]"
     ]
    },
    {
     "name": "stdout",
     "output_type": "stream",
     "text": [
      "추가해야될 url: https://n.news.naver.com/mnews/article/052/0001414231?sid=101  \n"
     ]
    },
    {
     "name": "stderr",
     "output_type": "stream",
     "text": [
      "Crawling news for 대한항공 - 2020:   9%|▉         | 106/1151 [01:38<13:29,  1.29it/s]"
     ]
    },
    {
     "name": "stdout",
     "output_type": "stream",
     "text": [
      "추가해야될 url: https://n.news.naver.com/mnews/article/014/0004408474?sid=101  \n"
     ]
    },
    {
     "name": "stderr",
     "output_type": "stream",
     "text": [
      "Crawling news for 대한항공 - 2020:   9%|▉         | 108/1151 [01:40<12:21,  1.41it/s]"
     ]
    },
    {
     "name": "stdout",
     "output_type": "stream",
     "text": [
      "추가해야될 url: https://n.news.naver.com/mnews/article/057/0001450491?sid=101  \n"
     ]
    },
    {
     "name": "stderr",
     "output_type": "stream",
     "text": [
      "\r",
      "Crawling news for 대한항공 - 2020:   9%|▉         | 109/1151 [01:40<12:21,  1.41it/s]"
     ]
    },
    {
     "name": "stdout",
     "output_type": "stream",
     "text": [
      "추가해야될 url: https://n.news.naver.com/mnews/article/011/0003732900?sid=101  \n"
     ]
    },
    {
     "name": "stderr",
     "output_type": "stream",
     "text": [
      "Crawling news for 대한항공 - 2020:  10%|▉         | 111/1151 [01:42<11:17,  1.53it/s]"
     ]
    },
    {
     "name": "stdout",
     "output_type": "stream",
     "text": [
      "추가해야될 url: https://n.news.naver.com/mnews/article/214/0001032654?sid=101  \n"
     ]
    },
    {
     "name": "stderr",
     "output_type": "stream",
     "text": [
      "\r",
      "Crawling news for 대한항공 - 2020:  10%|▉         | 112/1151 [01:42<10:10,  1.70it/s]"
     ]
    },
    {
     "name": "stdout",
     "output_type": "stream",
     "text": [
      "추가해야될 url: https://n.news.naver.com/mnews/article/015/0004328052?sid=103  \n"
     ]
    },
    {
     "name": "stderr",
     "output_type": "stream",
     "text": [
      "Crawling news for 대한항공 - 2020:  10%|▉         | 115/1151 [01:44<09:43,  1.77it/s]"
     ]
    },
    {
     "name": "stdout",
     "output_type": "stream",
     "text": [
      "추가해야될 url: https://n.news.naver.com/mnews/article/052/0001432305?sid=101  \n"
     ]
    },
    {
     "name": "stderr",
     "output_type": "stream",
     "text": [
      "Crawling news for 대한항공 - 2020:  10%|█         | 118/1151 [01:46<10:44,  1.60it/s]"
     ]
    },
    {
     "name": "stdout",
     "output_type": "stream",
     "text": [
      "추가해야될 url: https://n.news.naver.com/mnews/article/081/0003086391?sid=104  \n"
     ]
    },
    {
     "name": "stderr",
     "output_type": "stream",
     "text": [
      "\r",
      "Crawling news for 대한항공 - 2020:  10%|█         | 119/1151 [01:46<10:18,  1.67it/s]"
     ]
    },
    {
     "name": "stdout",
     "output_type": "stream",
     "text": [
      "추가해야될 url: https://n.news.naver.com/mnews/article/001/0011569985?sid=101  \n"
     ]
    },
    {
     "name": "stderr",
     "output_type": "stream",
     "text": [
      "Crawling news for 대한항공 - 2020:  13%|█▎        | 152/1151 [02:14<13:36,  1.22it/s]"
     ]
    },
    {
     "name": "stdout",
     "output_type": "stream",
     "text": [
      "추가해야될 url: https://n.news.naver.com/mnews/article/008/0004375677?sid=101  \n"
     ]
    },
    {
     "name": "stderr",
     "output_type": "stream",
     "text": [
      "Crawling news for 대한항공 - 2020:  16%|█▌        | 184/1151 [02:40<13:35,  1.19it/s]"
     ]
    },
    {
     "name": "stdout",
     "output_type": "stream",
     "text": [
      "추가해야될 url: https://n.news.naver.com/mnews/article/366/0000510027?sid=100  \n"
     ]
    },
    {
     "name": "stderr",
     "output_type": "stream",
     "text": [
      "Crawling news for 대한항공 - 2020:  18%|█▊        | 206/1151 [02:56<09:07,  1.73it/s]"
     ]
    },
    {
     "name": "stdout",
     "output_type": "stream",
     "text": [
      "추가해야될 url: https://n.news.naver.com/mnews/article/003/0009756644?sid=102  \n"
     ]
    },
    {
     "name": "stderr",
     "output_type": "stream",
     "text": [
      "Crawling news for 대한항공 - 2020:  18%|█▊        | 209/1151 [02:58<09:00,  1.74it/s]"
     ]
    },
    {
     "name": "stdout",
     "output_type": "stream",
     "text": [
      "추가해야될 url: https://n.news.naver.com/mnews/article/421/0004585378?sid=102  \n"
     ]
    },
    {
     "name": "stderr",
     "output_type": "stream",
     "text": [
      "Crawling news for 대한항공 - 2020:  19%|█▉        | 218/1151 [03:06<13:45,  1.13it/s]"
     ]
    },
    {
     "name": "stdout",
     "output_type": "stream",
     "text": [
      "추가해야될 url: https://n.news.naver.com/mnews/article/015/0004320244?sid=101  \n"
     ]
    },
    {
     "name": "stderr",
     "output_type": "stream",
     "text": [
      "Crawling news for 대한항공 - 2020:  19%|█▉        | 221/1151 [03:08<10:39,  1.46it/s]"
     ]
    },
    {
     "name": "stdout",
     "output_type": "stream",
     "text": [
      "추가해야될 url: https://n.news.naver.com/mnews/article/011/0003722465?sid=101  \n"
     ]
    },
    {
     "name": "stderr",
     "output_type": "stream",
     "text": [
      "Crawling news for 대한항공 - 2020:  20%|█▉        | 227/1151 [03:13<13:00,  1.18it/s]"
     ]
    },
    {
     "name": "stdout",
     "output_type": "stream",
     "text": [
      "추가해야될 url: https://n.news.naver.com/mnews/article/011/0003726077?sid=101  \n"
     ]
    },
    {
     "name": "stderr",
     "output_type": "stream",
     "text": [
      "Crawling news for 대한항공 - 2020:  20%|█▉        | 230/1151 [03:15<10:08,  1.51it/s]"
     ]
    },
    {
     "name": "stdout",
     "output_type": "stream",
     "text": [
      "추가해야될 url: https://n.news.naver.com/mnews/article/011/0003724420?sid=101  \n"
     ]
    },
    {
     "name": "stderr",
     "output_type": "stream",
     "text": [
      "Crawling news for 대한항공 - 2020:  20%|██        | 234/1151 [03:19<13:43,  1.11it/s]"
     ]
    },
    {
     "name": "stdout",
     "output_type": "stream",
     "text": [
      "추가해야될 url: https://n.news.naver.com/mnews/article/081/0003083356?sid=101  \n"
     ]
    },
    {
     "name": "stderr",
     "output_type": "stream",
     "text": [
      "Crawling news for 대한항공 - 2020:  21%|██        | 236/1151 [03:21<13:21,  1.14it/s]"
     ]
    },
    {
     "name": "stdout",
     "output_type": "stream",
     "text": [
      "추가해야될 url: https://n.news.naver.com/mnews/article/056/0010831125?sid=104  \n"
     ]
    },
    {
     "name": "stderr",
     "output_type": "stream",
     "text": [
      "\r",
      "Crawling news for 대한항공 - 2020:  21%|██        | 237/1151 [03:21<11:56,  1.28it/s]"
     ]
    },
    {
     "name": "stdout",
     "output_type": "stream",
     "text": [
      "추가해야될 url: https://n.news.naver.com/mnews/article/001/0011487358?sid=102  \n"
     ]
    },
    {
     "name": "stderr",
     "output_type": "stream",
     "text": [
      "\r",
      "Crawling news for 대한항공 - 2020:  21%|██        | 238/1151 [03:22<11:01,  1.38it/s]"
     ]
    },
    {
     "name": "stdout",
     "output_type": "stream",
     "text": [
      "추가해야될 url: https://n.news.naver.com/mnews/article/421/0004605606?sid=101  \n"
     ]
    },
    {
     "name": "stderr",
     "output_type": "stream",
     "text": [
      "Crawling news for 대한항공 - 2020:  21%|██        | 241/1151 [03:24<11:56,  1.27it/s]"
     ]
    },
    {
     "name": "stdout",
     "output_type": "stream",
     "text": [
      "추가해야될 url: https://n.news.naver.com/mnews/article/123/0002221098?sid=101  \n"
     ]
    },
    {
     "name": "stderr",
     "output_type": "stream",
     "text": [
      "Crawling news for 대한항공 - 2020:  25%|██▍       | 286/1151 [04:04<14:07,  1.02it/s]"
     ]
    },
    {
     "name": "stdout",
     "output_type": "stream",
     "text": [
      "추가해야될 url: https://n.news.naver.com/mnews/article/016/0001661931?sid=101  \n"
     ]
    },
    {
     "name": "stderr",
     "output_type": "stream",
     "text": [
      "Crawling news for 대한항공 - 2020:  26%|██▋       | 305/1151 [04:21<12:41,  1.11it/s]"
     ]
    },
    {
     "name": "stdout",
     "output_type": "stream",
     "text": [
      "추가해야될 url: https://n.news.naver.com/mnews/article/468/0000652602?sid=101  \n"
     ]
    },
    {
     "name": "stderr",
     "output_type": "stream",
     "text": [
      "Crawling news for 대한항공 - 2020:  27%|██▋       | 308/1151 [04:24<10:44,  1.31it/s]"
     ]
    },
    {
     "name": "stdout",
     "output_type": "stream",
     "text": [
      "추가해야될 url: https://n.news.naver.com/mnews/article/021/0002426459?sid=101  \n"
     ]
    },
    {
     "name": "stderr",
     "output_type": "stream",
     "text": [
      "Crawling news for 대한항공 - 2020:  27%|██▋       | 310/1151 [04:25<09:54,  1.41it/s]"
     ]
    },
    {
     "name": "stdout",
     "output_type": "stream",
     "text": [
      "추가해야될 url: https://n.news.naver.com/mnews/article/008/0004399837?sid=102  \n"
     ]
    },
    {
     "name": "stderr",
     "output_type": "stream",
     "text": [
      "\r",
      "Crawling news for 대한항공 - 2020:  27%|██▋       | 311/1151 [04:26<11:05,  1.26it/s]"
     ]
    },
    {
     "name": "stdout",
     "output_type": "stream",
     "text": [
      "추가해야될 url: https://n.news.naver.com/mnews/article/081/0003085451?sid=101  \n"
     ]
    },
    {
     "name": "stderr",
     "output_type": "stream",
     "text": [
      "\r",
      "Crawling news for 대한항공 - 2020:  27%|██▋       | 312/1151 [04:27<10:24,  1.34it/s]"
     ]
    },
    {
     "name": "stdout",
     "output_type": "stream",
     "text": [
      "추가해야될 url: https://n.news.naver.com/mnews/article/421/0004595996?sid=101  \n"
     ]
    },
    {
     "name": "stderr",
     "output_type": "stream",
     "text": [
      "\r",
      "Crawling news for 대한항공 - 2020:  27%|██▋       | 313/1151 [04:27<09:45,  1.43it/s]"
     ]
    },
    {
     "name": "stdout",
     "output_type": "stream",
     "text": [
      "추가해야될 url: https://n.news.naver.com/mnews/article/052/0001431974?sid=101  \n"
     ]
    },
    {
     "name": "stderr",
     "output_type": "stream",
     "text": [
      "\r",
      "Crawling news for 대한항공 - 2020:  27%|██▋       | 314/1151 [04:28<09:10,  1.52it/s]"
     ]
    },
    {
     "name": "stdout",
     "output_type": "stream",
     "text": [
      "추가해야될 url: https://n.news.naver.com/mnews/article/001/0011504211?sid=101  \n"
     ]
    },
    {
     "name": "stderr",
     "output_type": "stream",
     "text": [
      "Crawling news for 대한항공 - 2020:  51%|█████▏    | 591/1151 [09:02<09:29,  1.02s/it]"
     ]
    },
    {
     "name": "stdout",
     "output_type": "stream",
     "text": [
      "추가해야될 url: https://n.news.naver.com/mnews/article/032/0003006484?sid=101  \n"
     ]
    },
    {
     "name": "stderr",
     "output_type": "stream",
     "text": [
      "Crawling news for 대한항공 - 2020: 100%|██████████| 1151/1151 [17:18<00:00,  1.11it/s]\n",
      "Crawling urls 대한항공 : 2020.05.09 ~ 2020.07.09: 1105it [19:13,  1.04s/it]\n"
     ]
    },
    {
     "name": "stdout",
     "output_type": "stream",
     "text": [
      "2020년 대한항공 url 저장 완료\n",
      "\n"
     ]
    },
    {
     "name": "stderr",
     "output_type": "stream",
     "text": [
      "Crawling news for 대한항공 - 2020:  39%|███▉      | 434/1105 [05:40<07:19,  1.53it/s]"
     ]
    },
    {
     "name": "stdout",
     "output_type": "stream",
     "text": [
      "추가해야될 url: https://n.news.naver.com/mnews/article/003/0009939342?sid=101  \n"
     ]
    },
    {
     "name": "stderr",
     "output_type": "stream",
     "text": [
      "Crawling news for 대한항공 - 2020:  40%|███▉      | 438/1105 [05:44<09:31,  1.17it/s]"
     ]
    },
    {
     "name": "stdout",
     "output_type": "stream",
     "text": [
      "추가해야될 url: https://n.news.naver.com/mnews/article/001/0011673363?sid=101  \n"
     ]
    },
    {
     "name": "stderr",
     "output_type": "stream",
     "text": [
      "Crawling news for 대한항공 - 2020:  40%|████      | 442/1105 [05:47<07:45,  1.42it/s]"
     ]
    },
    {
     "name": "stdout",
     "output_type": "stream",
     "text": [
      "추가해야될 url: https://n.news.naver.com/mnews/article/421/0004738634?sid=101  \n"
     ]
    },
    {
     "name": "stderr",
     "output_type": "stream",
     "text": [
      "Crawling news for 대한항공 - 2020:  40%|████      | 447/1105 [05:51<06:51,  1.60it/s]"
     ]
    },
    {
     "name": "stdout",
     "output_type": "stream",
     "text": [
      "추가해야될 url: https://n.news.naver.com/mnews/article/023/0003538339?sid=101  \n"
     ]
    },
    {
     "name": "stderr",
     "output_type": "stream",
     "text": [
      "Crawling news for 대한항공 - 2020:  89%|████████▉ | 983/1105 [12:54<02:18,  1.14s/it]"
     ]
    },
    {
     "name": "stdout",
     "output_type": "stream",
     "text": [
      "추가해야될 url: https://n.news.naver.com/mnews/article/366/0000534092?sid=101  \n"
     ]
    },
    {
     "name": "stderr",
     "output_type": "stream",
     "text": [
      "Crawling news for 대한항공 - 2020: 100%|██████████| 1105/1105 [14:27<00:00,  1.27it/s]\n",
      "Crawling urls 대한항공 : 2020.07.10 ~ 2020.09.10: 1044it [19:07,  1.10s/it]\n"
     ]
    },
    {
     "name": "stdout",
     "output_type": "stream",
     "text": [
      "2020년 대한항공 url 저장 완료\n",
      "\n"
     ]
    },
    {
     "name": "stderr",
     "output_type": "stream",
     "text": [
      "Crawling news for 대한항공 - 2020:  80%|████████  | 837/1044 [10:22<03:42,  1.07s/it]"
     ]
    },
    {
     "name": "stdout",
     "output_type": "stream",
     "text": [
      "추가해야될 url: https://n.news.naver.com/mnews/article/421/0004839770?sid=102  \n"
     ]
    },
    {
     "name": "stderr",
     "output_type": "stream",
     "text": [
      "Crawling news for 대한항공 - 2020: 100%|██████████| 1044/1044 [12:46<00:00,  1.36it/s]\n",
      "Crawling urls 대한항공 : 2020.09.11 ~ 2020.11.11: 998it [19:55,  1.20s/it]\n"
     ]
    },
    {
     "name": "stdout",
     "output_type": "stream",
     "text": [
      "2020년 대한항공 url 저장 완료\n",
      "\n"
     ]
    },
    {
     "name": "stderr",
     "output_type": "stream",
     "text": [
      "Crawling news for 대한항공 - 2020:   8%|▊         | 75/998 [00:53<14:56,  1.03it/s]"
     ]
    },
    {
     "name": "stdout",
     "output_type": "stream",
     "text": [
      "추가해야될 url: https://n.news.naver.com/mnews/article/016/0001742610?sid=101  \n"
     ]
    },
    {
     "name": "stderr",
     "output_type": "stream",
     "text": [
      "Crawling news for 대한항공 - 2020:   8%|▊         | 77/998 [00:55<17:00,  1.11s/it]"
     ]
    },
    {
     "name": "stdout",
     "output_type": "stream",
     "text": [
      "추가해야될 url: https://n.news.naver.com/mnews/article/079/0003418539?sid=102  \n"
     ]
    },
    {
     "name": "stderr",
     "output_type": "stream",
     "text": [
      "Crawling news for 대한항공 - 2020:  73%|███████▎  | 729/998 [08:36<03:49,  1.17it/s]"
     ]
    },
    {
     "name": "stdout",
     "output_type": "stream",
     "text": [
      "추가해야될 url: https://n.news.naver.com/mnews/article/417/0000615198?sid=101  \n"
     ]
    },
    {
     "name": "stderr",
     "output_type": "stream",
     "text": [
      "Crawling news for 대한항공 - 2020: 100%|██████████| 998/998 [11:51<00:00,  1.40it/s]\n",
      "Crawling urls 대한항공 : 2020.11.12 ~ 2021.01.12: 876it [19:28,  1.33s/it]\n"
     ]
    },
    {
     "name": "stdout",
     "output_type": "stream",
     "text": [
      "2020년 대한항공 url 저장 완료\n",
      "\n"
     ]
    },
    {
     "name": "stderr",
     "output_type": "stream",
     "text": [
      "Crawling news for 대한항공 - 2020: 100%|██████████| 876/876 [10:08<00:00,  1.44it/s]\n",
      "Crawling urls 대한항공 : 2021.01.13 ~ 2021.03.13: 959it [19:10,  1.20s/it]\n"
     ]
    },
    {
     "name": "stdout",
     "output_type": "stream",
     "text": [
      "2021년 대한항공 url 저장 완료\n",
      "\n"
     ]
    },
    {
     "name": "stderr",
     "output_type": "stream",
     "text": [
      "Crawling news for 대한항공 - 2021: 100%|██████████| 959/959 [11:46<00:00,  1.36it/s]\n",
      "Crawling urls 대한항공 : 2021.03.14 ~ 2021.05.14: 638it [19:43,  1.86s/it]\n"
     ]
    },
    {
     "name": "stdout",
     "output_type": "stream",
     "text": [
      "2021년 대한항공 url 저장 완료\n",
      "\n"
     ]
    },
    {
     "name": "stderr",
     "output_type": "stream",
     "text": [
      "Crawling news for 대한항공 - 2021: 100%|██████████| 638/638 [09:11<00:00,  1.16it/s]\n",
      "Crawling urls 대한항공 : 2021.05.15 ~ 2021.07.15: 1190it [19:14,  1.03it/s]\n"
     ]
    },
    {
     "name": "stdout",
     "output_type": "stream",
     "text": [
      "2021년 대한항공 url 저장 완료\n",
      "\n"
     ]
    },
    {
     "name": "stderr",
     "output_type": "stream",
     "text": [
      "Crawling news for 대한항공 - 2021:   1%|          | 10/1190 [00:10<18:17,  1.07it/s]"
     ]
    },
    {
     "name": "stdout",
     "output_type": "stream",
     "text": [
      "추가해야될 url: https://n.news.naver.com/mnews/article/024/0000069421?sid=101  \n"
     ]
    },
    {
     "name": "stderr",
     "output_type": "stream",
     "text": [
      "\r",
      "Crawling news for 대한항공 - 2021:   1%|          | 11/1190 [00:10<15:43,  1.25it/s]"
     ]
    },
    {
     "name": "stdout",
     "output_type": "stream",
     "text": [
      "추가해야될 url: https://n.news.naver.com/mnews/article/629/0000092093?sid=101  \n"
     ]
    },
    {
     "name": "stderr",
     "output_type": "stream",
     "text": [
      "\r",
      "Crawling news for 대한항공 - 2021:   1%|          | 12/1190 [00:11<13:44,  1.43it/s]"
     ]
    },
    {
     "name": "stdout",
     "output_type": "stream",
     "text": [
      "추가해야될 url: https://n.news.naver.com/mnews/article/011/0003934587?sid=102  \n"
     ]
    },
    {
     "name": "stderr",
     "output_type": "stream",
     "text": [
      "\r",
      "Crawling news for 대한항공 - 2021:   1%|          | 13/1190 [00:11<12:19,  1.59it/s]"
     ]
    },
    {
     "name": "stdout",
     "output_type": "stream",
     "text": [
      "추가해야될 url: https://n.news.naver.com/mnews/article/050/0000057930?sid=101  \n"
     ]
    },
    {
     "name": "stderr",
     "output_type": "stream",
     "text": [
      "Crawling news for 대한항공 - 2021:   1%|▏         | 16/1190 [00:14<14:28,  1.35it/s]"
     ]
    },
    {
     "name": "stdout",
     "output_type": "stream",
     "text": [
      "추가해야될 url: https://n.news.naver.com/mnews/article/003/0010572873?sid=101  \n"
     ]
    },
    {
     "name": "stderr",
     "output_type": "stream",
     "text": [
      "Crawling news for 대한항공 - 2021:   2%|▏         | 21/1190 [00:18<16:06,  1.21it/s]"
     ]
    },
    {
     "name": "stdout",
     "output_type": "stream",
     "text": [
      "추가해야될 url: https://n.news.naver.com/mnews/article/018/0004965185?sid=101  \n"
     ]
    },
    {
     "name": "stderr",
     "output_type": "stream",
     "text": [
      "Crawling news for 대한항공 - 2021:   2%|▏         | 23/1190 [00:20<16:28,  1.18it/s]"
     ]
    },
    {
     "name": "stdout",
     "output_type": "stream",
     "text": [
      "추가해야될 url: https://n.news.naver.com/mnews/article/586/0000025910?sid=102  \n"
     ]
    },
    {
     "name": "stderr",
     "output_type": "stream",
     "text": [
      "\r",
      "Crawling news for 대한항공 - 2021:   2%|▏         | 24/1190 [00:21<14:52,  1.31it/s]"
     ]
    },
    {
     "name": "stdout",
     "output_type": "stream",
     "text": [
      "추가해야될 url: https://n.news.naver.com/mnews/article/366/0000726062?sid=101  \n"
     ]
    },
    {
     "name": "stderr",
     "output_type": "stream",
     "text": [
      "\r",
      "Crawling news for 대한항공 - 2021:   2%|▏         | 25/1190 [00:21<13:47,  1.41it/s]"
     ]
    },
    {
     "name": "stdout",
     "output_type": "stream",
     "text": [
      "추가해야될 url: https://n.news.naver.com/mnews/article/215/0000968110?sid=101  \n"
     ]
    },
    {
     "name": "stderr",
     "output_type": "stream",
     "text": [
      "\r",
      "Crawling news for 대한항공 - 2021:   2%|▏         | 26/1190 [00:22<13:16,  1.46it/s]"
     ]
    },
    {
     "name": "stdout",
     "output_type": "stream",
     "text": [
      "추가해야될 url: https://n.news.naver.com/mnews/article/014/0004657774?sid=101  \n"
     ]
    },
    {
     "name": "stderr",
     "output_type": "stream",
     "text": [
      "Crawling news for 대한항공 - 2021:   2%|▏         | 29/1190 [00:26<19:20,  1.00it/s]"
     ]
    },
    {
     "name": "stdout",
     "output_type": "stream",
     "text": [
      "추가해야될 url: https://n.news.naver.com/mnews/article/629/0000093856?sid=101  \n"
     ]
    },
    {
     "name": "stderr",
     "output_type": "stream",
     "text": [
      "\r",
      "Crawling news for 대한항공 - 2021:   3%|▎         | 30/1190 [00:26<16:58,  1.14it/s]"
     ]
    },
    {
     "name": "stdout",
     "output_type": "stream",
     "text": [
      "추가해야될 url: https://n.news.naver.com/mnews/article/052/0001611030?sid=103  \n"
     ]
    },
    {
     "name": "stderr",
     "output_type": "stream",
     "text": [
      "\r",
      "Crawling news for 대한항공 - 2021:   3%|▎         | 31/1190 [00:27<14:40,  1.32it/s]"
     ]
    },
    {
     "name": "stdout",
     "output_type": "stream",
     "text": [
      "추가해야될 url: https://n.news.naver.com/mnews/article/008/0004604943?sid=101  \n"
     ]
    },
    {
     "name": "stderr",
     "output_type": "stream",
     "text": [
      "Crawling news for 대한항공 - 2021:   3%|▎         | 33/1190 [00:28<12:37,  1.53it/s]"
     ]
    },
    {
     "name": "stdout",
     "output_type": "stream",
     "text": [
      "추가해야될 url: https://n.news.naver.com/mnews/article/018/0004967760?sid=101  \n"
     ]
    },
    {
     "name": "stderr",
     "output_type": "stream",
     "text": [
      "\r",
      "Crawling news for 대한항공 - 2021:   3%|▎         | 34/1190 [00:28<11:38,  1.65it/s]"
     ]
    },
    {
     "name": "stdout",
     "output_type": "stream",
     "text": [
      "추가해야될 url: https://n.news.naver.com/mnews/article/015/0004566691?sid=101  \n"
     ]
    },
    {
     "name": "stderr",
     "output_type": "stream",
     "text": [
      "\r",
      "Crawling news for 대한항공 - 2021:   3%|▎         | 35/1190 [00:29<13:35,  1.42it/s]"
     ]
    },
    {
     "name": "stdout",
     "output_type": "stream",
     "text": [
      "추가해야될 url: https://n.news.naver.com/mnews/article/015/0004570829?sid=101  \n"
     ]
    },
    {
     "name": "stderr",
     "output_type": "stream",
     "text": [
      "Crawling news for 대한항공 - 2021:  87%|████████▋ | 1038/1190 [14:33<02:26,  1.04it/s]"
     ]
    },
    {
     "name": "stdout",
     "output_type": "stream",
     "text": [
      "추가해야될 url: https://n.news.naver.com/mnews/article/366/0000730107?sid=101  \n"
     ]
    },
    {
     "name": "stderr",
     "output_type": "stream",
     "text": [
      "Crawling news for 대한항공 - 2021: 100%|██████████| 1190/1190 [16:39<00:00,  1.19it/s]\n",
      "Crawling urls 대한항공 : 2021.07.16 ~ 2021.09.16: 911it [18:58,  1.25s/it]\n"
     ]
    },
    {
     "name": "stdout",
     "output_type": "stream",
     "text": [
      "2021년 대한항공 url 저장 완료\n",
      "\n"
     ]
    },
    {
     "name": "stderr",
     "output_type": "stream",
     "text": [
      "Crawling news for 대한항공 - 2021: 100%|██████████| 911/911 [12:20<00:00,  1.23it/s]\n",
      "Crawling urls 대한항공 : 2021.09.17 ~ 2021.11.17: 965it [19:07,  1.19s/it]\n"
     ]
    },
    {
     "name": "stdout",
     "output_type": "stream",
     "text": [
      "2021년 대한항공 url 저장 완료\n",
      "\n"
     ]
    },
    {
     "name": "stderr",
     "output_type": "stream",
     "text": [
      "Crawling news for 대한항공 - 2021:  26%|██▌       | 251/965 [03:36<12:19,  1.04s/it]"
     ]
    },
    {
     "name": "stdout",
     "output_type": "stream",
     "text": [
      "추가해야될 url: https://n.news.naver.com/mnews/article/123/0002257400?sid=101  \n"
     ]
    },
    {
     "name": "stderr",
     "output_type": "stream",
     "text": [
      "Crawling news for 대한항공 - 2021: 100%|██████████| 965/965 [13:05<00:00,  1.23it/s]\n",
      "Crawling urls 대한항공 : 2021.11.18 ~ 2022.01.18: 931it [19:19,  1.25s/it]\n"
     ]
    },
    {
     "name": "stdout",
     "output_type": "stream",
     "text": [
      "2021년 대한항공 url 저장 완료\n",
      "\n"
     ]
    },
    {
     "name": "stderr",
     "output_type": "stream",
     "text": [
      "Crawling news for 대한항공 - 2021:  24%|██▍       | 222/931 [02:47<11:20,  1.04it/s]"
     ]
    },
    {
     "name": "stdout",
     "output_type": "stream",
     "text": [
      "추가해야될 url: https://n.news.naver.com/mnews/article/022/0003652207?sid=101  \n"
     ]
    },
    {
     "name": "stderr",
     "output_type": "stream",
     "text": [
      "Crawling news for 대한항공 - 2021:  70%|██████▉   | 650/931 [08:21<04:47,  1.02s/it]"
     ]
    },
    {
     "name": "stdout",
     "output_type": "stream",
     "text": [
      "추가해야될 url: https://n.news.naver.com/mnews/article/014/0004766972?sid=101  \n"
     ]
    },
    {
     "name": "stderr",
     "output_type": "stream",
     "text": [
      "Crawling news for 대한항공 - 2021: 100%|██████████| 931/931 [11:47<00:00,  1.32it/s]\n",
      "Crawling urls 대한항공 : 2022.01.19 ~ 2022.03.19: 928it [19:30,  1.26s/it]\n"
     ]
    },
    {
     "name": "stdout",
     "output_type": "stream",
     "text": [
      "2022년 대한항공 url 저장 완료\n",
      "\n"
     ]
    },
    {
     "name": "stderr",
     "output_type": "stream",
     "text": [
      "Crawling news for 대한항공 - 2022:  10%|█         | 96/928 [01:13<12:42,  1.09it/s]"
     ]
    },
    {
     "name": "stdout",
     "output_type": "stream",
     "text": [
      "추가해야될 url: https://n.news.naver.com/mnews/article/421/0005936466?sid=101  \n"
     ]
    },
    {
     "name": "stderr",
     "output_type": "stream",
     "text": [
      "Crawling news for 대한항공 - 2022: 100%|██████████| 928/928 [11:26<00:00,  1.35it/s]\n",
      "Crawling urls 대한항공 : 2022.03.20 ~ 2022.05.20: 0it [00:00, ?it/s]"
     ]
    }
   ],
   "source": [
    "company = ''#input(\"종목명:\")\n",
    "if __name__ == \"__main__\":\n",
    "    main()"
   ]
  },
  {
   "cell_type": "code",
   "execution_count": null,
   "metadata": {
    "id": "vpuAFwIWIAU1"
   },
   "outputs": [],
   "source": []
  }
 ],
 "metadata": {
  "colab": {
   "collapsed_sections": [
    "A4uH9mwvoC2O",
    "p2Rjh67qESto"
   ],
   "machine_shape": "hm",
   "provenance": []
  },
  "kernelspec": {
   "display_name": "Python 3",
   "name": "python3"
  },
  "language_info": {
   "name": "python"
  }
 },
 "nbformat": 4,
 "nbformat_minor": 0
}
