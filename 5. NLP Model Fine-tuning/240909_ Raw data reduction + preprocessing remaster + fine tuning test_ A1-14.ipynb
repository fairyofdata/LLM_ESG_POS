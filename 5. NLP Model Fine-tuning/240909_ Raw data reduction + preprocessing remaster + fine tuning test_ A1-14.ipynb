{
 "cells": [
  {
   "cell_type": "markdown",
   "metadata": {
    "id": "qrWtxMzCBjPU"
   },
   "source": [
    "# Pre -treatment"
   ]
  },
  {
   "cell_type": "markdown",
   "metadata": {
    "id": "7ND-6ClcuZ20"
   },
   "source": [
    "### Moving file name and batch movement (formatting required)"
   ]
  },
  {
   "cell_type": "code",
   "execution_count": null,
   "metadata": {
    "colab": {
     "base_uri": "https://localhost:8080/"
    },
    "executionInfo": {
     "elapsed": 460,
     "status": "ok",
     "timestamp": 1726650101724,
     "user": {
      "displayName": "백현지",
      "userId": "02510457579208942463"
     },
     "user_tz": -540
    },
    "id": "NX4Hy4WUPkI2",
    "outputId": "21c82032-67f2-40a3-b58b-fcf84b942f72"
   },
   "outputs": [
    {
     "name": "stdout",
     "output_type": "stream",
     "text": [
      "셀트리온_positivity_filtered.csv이(가) 셀트리온_A3_esg_positivity.csv(으)로 저장되었습니다.\n",
      "삼성생명_positivity_filtered.csv이(가) 삼성생명_A3_esg_positivity.csv(으)로 저장되었습니다.\n",
      "현대차_positivity_filtered.csv이(가) 현대차_A3_esg_positivity.csv(으)로 저장되었습니다.\n",
      "신한지주_positivity_filtered.csv이(가) 신한지주_A3_esg_positivity.csv(으)로 저장되었습니다.\n",
      "현대모비스_positivity_filtered.csv이(가) 현대모비스_A3_esg_positivity.csv(으)로 저장되었습니다.\n",
      "카카오_positivity_filtered.csv이(가) 카카오_A3_esg_positivity.csv(으)로 저장되었습니다.\n",
      "KB금융_positivity_filtered.csv이(가) KB금융_A3_esg_positivity.csv(으)로 저장되었습니다.\n",
      "NAVER_positivity_filtered.csv이(가) NAVER_A3_esg_positivity.csv(으)로 저장되었습니다.\n",
      "삼성SDI_positivity_filtered.csv이(가) 삼성SDI_A3_esg_positivity.csv(으)로 저장되었습니다.\n",
      "SK하이닉스_positivity_filtered.csv이(가) SK하이닉스_A3_esg_positivity.csv(으)로 저장되었습니다.\n",
      "삼성전자_positivity_filtered.csv이(가) 삼성전자_A3_esg_positivity.csv(으)로 저장되었습니다.\n",
      "삼성바이오로직스_positivity_filtered.csv이(가) 삼성바이오로직스_A3_esg_positivity.csv(으)로 저장되었습니다.\n",
      "포스코 홀딩스_positivity_filtered.csv이(가) 포스코 홀딩스_A3_esg_positivity.csv(으)로 저장되었습니다.\n"
     ]
    }
   ],
   "source": [
    "import os\n",
    "import shutil\n",
    "\n",
    "# Setting the file name to modify the file name and the light to save\n",
    "processed_data_base_path = '/content/drive/MyDrive/Kwargs/023. esg 긍부정도 라벨러/legacy/'\n",
    "destination_data_base_path = '/content/drive/MyDrive/Kwargs/023. esg 긍부정도 라벨러/legacy/'\n",
    "\n",
    "# Import a list of pre -processed text dataset files/Content/Drive/MyDrive/Kwargs/023. ESG Affiliated Labeler/Legacy\n",
    "processed_files = [f for f in os.listdir(processed_data_base_path) if f.endswith('_positivity_filtered.csv')]\n",
    "\n",
    "# Save and delete existing files by changing the file name\n",
    "for file in processed_files:\n",
    "# Extract only the Company part from the file name (remove the wrong part of the update)\n",
    "    company_name = file.replace('_positivity_filtered.csv', '')\n",
    "\n",
    "#Set new file name\n",
    "    new_file_name = f\"{company_name}_A3_esg_positivity.csv\"\n",
    "\n",
    "#Source file path\n",
    "    original_file_path = os.path.join(processed_data_base_path, file)\n",
    "\n",
    "# New file path\n",
    "    new_file_path = os.path.join(destination_data_base_path, new_file_name)\n",
    "\n",
    "# Change file movement and name\n",
    "    shutil.move(original_file_path, new_file_path)\n",
    "\n",
    "    print(f\"{file}이(가) {new_file_name}(으)로 저장되었습니다.\")\n"
   ]
  },
  {
   "cell_type": "markdown",
   "metadata": {
    "id": "gftYJ0MXF3JC"
   },
   "source": [
    "### Identify the deletion pattern"
   ]
  },
  {
   "cell_type": "code",
   "execution_count": null,
   "metadata": {
    "colab": {
     "base_uri": "https://localhost:8080/"
    },
    "executionInfo": {
     "elapsed": 9821,
     "status": "ok",
     "timestamp": 1726630234527,
     "user": {
      "displayName": "백현지",
      "userId": "02510457579208942463"
     },
     "user_tz": -540
    },
    "id": "FTm19qfJF_lT",
    "outputId": "e8d5732f-450a-44bb-b244-75e5fbb6f7b6"
   },
   "outputs": [
    {
     "data": {
      "application/vnd.google.colaboratory.intrinsic+json": {
       "summary": "{\n  \"name\": \"comparison\",\n  \"rows\": 20,\n  \"fields\": [\n    {\n      \"column\": \"text_start\",\n      \"properties\": {\n        \"dtype\": \"string\",\n        \"num_unique_values\": 20,\n        \"samples\": [\n          \"\\uc138\\uacc4 \\uc2dc\\uc7a5\\uc744 \\ud638\\ub839\\ud558\\ub358 \\u2018K\\ubc30\\ud130\\ub9ac\\u2019\\uac00 \\uc808\\uccb4\\uc808\\uba85 \\uc704\\uae30\\uc5d0 \\ucc98\\ud560 \\uc218 \\uc788\\ub2e4\\ub294 \\uc6b0\\ub824\\uc758 \\ubaa9\\uc18c\\ub9ac\\uac00 \\uacc4\\uc18d \\ub098\\uc628\\ub2e4. \\ud55c\\ub54c \\uc911\\uad6d \\ub0b4\\uc218 \\uc2dc\\uc7a5\\uc5d0\\uc11c\\ub9cc \",\n          \"\\u3010\\uc11c\\uc6b8\\ub274\\uc2dc\\uc2a4\\u3011\\ubc15\\ubbfc\\uae30 \\uae30\\uc790  \\ud604\\ub300\\uc790\\ub3d9\\ucc28\\uadf8\\ub8f9\\uc774 4\\ucc28 \\uc0b0\\uc5c5\\ud601\\uba85 \\ub4f1\\uc73c\\ub85c \\uae09\\ubcc0\\ud558\\ub294 \\uc0b0\\uc5c5 \\ud658\\uacbd \\uc18d\\uc5d0\\uc11c \\ubbf8\\ub798 \\uc2dc\\uc7a5\\uc744 \\uc120\\uc810\\ud558\\uae30 \\uc704\\ud574 \\uc790\\uc728\\uc8fc\\ud589\",\n          \" \\uad6d\\ub0b4 \\ubc30\\ud130\\ub9ac \\ub300\\uae30\\uc5c5\\uc758 \\uc218\\uc7a5\\ub4e4\\uc774 \\uc5f0\\uc774\\uc5b4 \\ubbf8\\uad6d \\ucd9c\\uc7a5\\uae38\\uc5d0 \\uc624\\ub978\\ub2e4. \\ubbf8\\uad6d \\uc804\\uae30\\ucc28 \\uc2dc\\uc7a5\\uc758 \\uac00\\ud30c\\ub978 \\uc131\\uc7a5\\uc138\\uc5d0 \\ucd5c\\uace0\\uacbd\\uc601\\uc790(CEO)\\ub4e4\\uc774 \\uc9c1\\uc811\"\n        ],\n        \"semantic_type\": \"\",\n        \"description\": \"\"\n      }\n    },\n    {\n      \"column\": \"cleaned_text_start\",\n      \"properties\": {\n        \"dtype\": \"string\",\n        \"num_unique_values\": 20,\n        \"samples\": [\n          \"\\uc138\\uacc4 \\uc2dc\\uc7a5\\uc744 \\ud638\\ub839\\ud558\\ub358 \\u2018K\\ubc30\\ud130\\ub9ac\\u2019\\uac00 \\uc808\\uccb4\\uc808\\uba85 \\uc704\\uae30\\uc5d0 \\ucc98\\ud560 \\uc218 \\uc788\\ub2e4\\ub294 \\uc6b0\\ub824\\uc758 \\ubaa9\\uc18c\\ub9ac\\uac00 \\uacc4\\uc18d \\ub098\\uc628\\ub2e4. \\ud55c\\ub54c \\uc911\\uad6d \\ub0b4\\uc218 \\uc2dc\\uc7a5\\uc5d0\\uc11c\\ub9cc \",\n          \"\\u3010\\uc11c\\uc6b8\\ub274\\uc2dc\\uc2a4\\u3011 \\ud604\\ub300\\uc790\\ub3d9\\ucc28\\uadf8\\ub8f9\\uc774 4\\ucc28 \\uc0b0\\uc5c5\\ud601\\uba85 \\ub4f1\\uc73c\\ub85c \\uae09\\ubcc0\\ud558\\ub294 \\uc0b0\\uc5c5 \\ud658\\uacbd \\uc18d\\uc5d0\\uc11c \\ubbf8\\ub798 \\uc2dc\\uc7a5\\uc744 \\uc120\\uc810\\ud558\\uae30 \\uc704\\ud574 \\uc790\\uc728\\uc8fc\\ud589\\ucc28\\uc640 \\uc218\\uc18c\\uc804\\uae30\",\n          \"\\uad6d\\ub0b4 \\ubc30\\ud130\\ub9ac \\ub300\\uae30\\uc5c5\\uc758 \\uc218\\uc7a5\\ub4e4\\uc774 \\uc5f0\\uc774\\uc5b4 \\ubbf8\\uad6d \\ucd9c\\uc7a5\\uae38\\uc5d0 \\uc624\\ub978\\ub2e4. \\ubbf8\\uad6d \\uc804\\uae30\\ucc28 \\uc2dc\\uc7a5\\uc758 \\uac00\\ud30c\\ub978 \\uc131\\uc7a5\\uc138\\uc5d0 \\ucd5c\\uace0\\uacbd\\uc601\\uc790(CEO)\\ub4e4\\uc774 \\uc9c1\\uc811 \"\n        ],\n        \"semantic_type\": \"\",\n        \"description\": \"\"\n      }\n    },\n    {\n      \"column\": \"text_end\",\n      \"properties\": {\n        \"dtype\": \"string\",\n        \"num_unique_values\": 20,\n        \"samples\": [\n          \"\\uc778 \\ucc28\\uc138\\ub300 LFP \\ubc30\\ud130\\ub9ac\\ub97c \\uac1c\\ubc1c\\ud574\\uc57c \\ud55c\\ub2e4.\\u201d \\ubc15\\ucca0\\uc644 \\uc11c\\uc815\\ub300 \\uc2a4\\ub9c8\\ud2b8\\uc790\\ub3d9\\ucc28\\ud559\\uacfc \\uad50\\uc218 \\uc598\\uae30\\ub2e4.\\ubcf8 \\uae30\\uc0ac\\ub294 \\ub9e4\\uacbd\\uc774\\ucf54\\ub178\\ubbf8 \\uc81c2227\\ud638 (2023.09.20~2023.09.26\\uc77c\\uc790) \\uae30\\uc0ac\\uc785\\ub2c8\\ub2e4\",\n          \"\\uc0ac\\uc5d0\\uc11c \\uace0\\uac1d\\uc5d0\\uac8c \\uc0c8\\ub85c\\uc6b4 \\uacbd\\ud5d8\\uc744 \\uc81c\\uacf5\\ud558\\ub294 '\\uc11c\\ube44\\uc2a4 \\ud68c\\uc0ac'\\ub85c \\ud0c8\\ubc14\\uafc8\\ud560 \\uac83\\uc774\\ub77c\\uba70 \\uc6b0\\ub9ac\\ub294 \\uc774\\ub97c '\\uc2a4\\ub9c8\\ud2b8 \\ubaa8\\ube4c\\ub9ac\\ud2f0 \\uc194\\ub8e8\\uc158 \\uc81c\\uacf5\\uae30\\uc5c5'\\uc73c\\ub85c \\ubd80\\ub97c \\uac83\\uc774\\ub77c\\uace0 \\ub367\\ubd99\\uc600\\ub2e4.minki@newsis.com\",\n          \"\\ud3ec\\ud568\\ud55c \\ub2e4\\uc591\\ud55c \\ud611\\ub825 \\ubc29\\uc548\\uc744 \\ub17c\\uc758\\ud558\\uace0 \\uc788\\ub2e4\\u201d\\uace0 \\ubc1d\\ud78c \\ubc14 \\uc788\\ub2e4. \\uc5c5\\uacc4\\uc5d0\\uc11c\\ub294 \\ucd5c \\uc0ac\\uc7a5\\uc774 \\ubd81\\ubbf8 \\ucd9c\\uc7a5\\uae38\\uc5d0 \\uc624\\ub978\\ub2e4\\uba74 \\uc2a4\\ud154\\ub780\\ud2f0\\uc2a4\\uc640\\uc758 \\uacc4\\uc57d \\uc808\\ucc28\\ub97c \\ucd5c\\uc885\\uc801\\uc73c\\ub85c \\ub9c8\\ubb34\\ub9ac\\uc9d3\\uae30 \\uc704\\ud55c \\ud589\\ubcf4\\ub85c \\ubcf4\\uace0 \\uc788\\ub2e4. \"\n        ],\n        \"semantic_type\": \"\",\n        \"description\": \"\"\n      }\n    },\n    {\n      \"column\": \"cleaned_text_end\",\n      \"properties\": {\n        \"dtype\": \"string\",\n        \"num_unique_values\": 20,\n        \"samples\": [\n          \"\\uac83\\uc774\\ub2e4. \\uc9c4\\uc785\\uc7a5\\ubcbd\\uc774 \\ub0ae\\uc740 ESS \\ubd80\\ubb38\\uc744 \\uc2dc\\uc791\\uc73c\\ub85c LFP \\ubc30\\ud130\\ub9ac \\uc0dd\\uc0b0\\ub7c9\\uc744 \\ub298\\ub9ac\\uace0, \\uae30\\uc220\\ub825\\uc744 \\ub192\\uc778 \\ucc28\\uc138\\ub300 LFP \\ubc30\\ud130\\ub9ac\\ub97c \\uac1c\\ubc1c\\ud574\\uc57c \\ud55c\\ub2e4.\\u201d \\ubc15\\ucca0\\uc644 \\uc11c\\uc815\\ub300 \\uc2a4\\ub9c8\\ud2b8\\uc790\\ub3d9\\ucc28\\ud559\\uacfc \\uad50\\uc218 \\uc598\\uae30\\ub2e4.\",\n          \" \\uc774\\uc5b4 \\ud604\\ub300\\ucc28\\uadf8\\ub8f9\\uc740 \\uc790\\ub3d9\\ucc28 \\uc81c\\uc870\\uc0ac\\uc5d0\\uc11c \\uace0\\uac1d\\uc5d0\\uac8c \\uc0c8\\ub85c\\uc6b4 \\uacbd\\ud5d8\\uc744 \\uc81c\\uacf5\\ud558\\ub294 '\\uc11c\\ube44\\uc2a4 \\ud68c\\uc0ac'\\ub85c \\ud0c8\\ubc14\\uafc8\\ud560 \\uac83\\uc774\\ub77c\\uba70 \\uc6b0\\ub9ac\\ub294 \\uc774\\ub97c '\\uc2a4\\ub9c8\\ud2b8 \\ubaa8\\ube4c\\ub9ac\\ud2f0 \\uc194\\ub8e8\\uc158 \\uc81c\\uacf5\\uae30\\uc5c5'\\uc73c\\ub85c \\ubd80\\ub97c \\uac83\\uc774\\ub77c\\uace0 \\ub367\\ubd99\\uc600\\ub2e4\",\n          \" \\ud3ec\\ud568\\ud55c \\ub2e4\\uc591\\ud55c \\ud611\\ub825 \\ubc29\\uc548\\uc744 \\ub17c\\uc758\\ud558\\uace0 \\uc788\\ub2e4\\u201d\\uace0 \\ubc1d\\ud78c \\ubc14 \\uc788\\ub2e4. \\uc5c5\\uacc4\\uc5d0\\uc11c\\ub294 \\ucd5c \\uc0ac\\uc7a5\\uc774 \\ubd81\\ubbf8 \\ucd9c\\uc7a5\\uae38\\uc5d0 \\uc624\\ub978\\ub2e4\\uba74 \\uc2a4\\ud154\\ub780\\ud2f0\\uc2a4\\uc640\\uc758 \\uacc4\\uc57d \\uc808\\ucc28\\ub97c \\ucd5c\\uc885\\uc801\\uc73c\\ub85c \\ub9c8\\ubb34\\ub9ac\\uc9d3\\uae30 \\uc704\\ud55c \\ud589\\ubcf4\\ub85c \\ubcf4\\uace0 \\uc788\\ub2e4.\"\n        ],\n        \"semantic_type\": \"\",\n        \"description\": \"\"\n      }\n    }\n  ]\n}",
       "type": "dataframe"
      },
      "text/html": [
       "\n",
       "  <div id=\"df-d7700b80-27b1-4d33-abf9-d22c0c422ae3\" class=\"colab-df-container\">\n",
       "    <div>\n",
       "<style scoped>\n",
       "    .dataframe tbody tr th:only-of-type {\n",
       "        vertical-align: middle;\n",
       "    }\n",
       "\n",
       "    .dataframe tbody tr th {\n",
       "        vertical-align: top;\n",
       "    }\n",
       "\n",
       "    .dataframe thead th {\n",
       "        text-align: right;\n",
       "    }\n",
       "</style>\n",
       "<table border=\"1\" class=\"dataframe\">\n",
       "  <thead>\n",
       "    <tr style=\"text-align: right;\">\n",
       "      <th></th>\n",
       "      <th>text_start</th>\n",
       "      <th>cleaned_text_start</th>\n",
       "      <th>text_end</th>\n",
       "      <th>cleaned_text_end</th>\n",
       "    </tr>\n",
       "  </thead>\n",
       "  <tbody>\n",
       "    <tr>\n",
       "      <th>4132</th>\n",
       "      <td>세계 시장을 호령하던 ‘K배터리’가 절체절명 위기에 처할 수 있다는 우려의 목소리가...</td>\n",
       "      <td>세계 시장을 호령하던 ‘K배터리’가 절체절명 위기에 처할 수 있다는 우려의 목소리가...</td>\n",
       "      <td>인 차세대 LFP 배터리를 개발해야 한다.” 박철완 서정대 스마트자동차학과 교수 얘...</td>\n",
       "      <td>것이다. 진입장벽이 낮은 ESS 부문을 시작으로 LFP 배터리 생산량을 늘리고, 기...</td>\n",
       "    </tr>\n",
       "    <tr>\n",
       "      <th>5869</th>\n",
       "      <td>얼마 전 포스코홀딩스의 환경·사회·지배구조(ESG) 경영 관련 자료를 살펴볼 기회가...</td>\n",
       "      <td>얼마 전 포스코홀딩스의 환경·사회·ESG) 경영 관련 자료를 살펴볼 기회가 있었다....</td>\n",
       "      <td>지만 노동이 의무가 된 사회에서 ESG 경영이 출생률에 영향을 주는 주요한 선택지를...</td>\n",
       "      <td>명이나 될지. 출산은 개인의 선택이지만 노동이 의무가 된 사회에서 ESG 경영이 ...</td>\n",
       "    </tr>\n",
       "    <tr>\n",
       "      <th>2739</th>\n",
       "      <td>서울뉴시스 김경택 기자  벤츠에 납품하는 배터리팩으로 인한 매출 안정화와 더불어 폭...</td>\n",
       "      <td>서울뉴시스 벤츠에 납품하는 배터리팩으로 인한 매출 안정화와 더불어 폭스바겐, 포드에...</td>\n",
       "      <td>안정적인 매출의 향상이 예상되는 상황이라면서 빠른 시일내 헝가리 및 북미로의 해외...</td>\n",
       "      <td>안정적인 매출의 향상이 예상되는 상황이라면서 빠른 시일내 헝가리 및 북미로의 해외...</td>\n",
       "    </tr>\n",
       "    <tr>\n",
       "      <th>5062</th>\n",
       "      <td>중기부와 1000억 기금 조성해중기 2500곳 스마트공장 구축제조현장 혁신·환경안전...</td>\n",
       "      <td>중기부와 1000억 기금 조성해중기 2500곳 스마트공장 구축제조현장 혁신·환경안전...</td>\n",
       "      <td>00억원을 조성해 2500개 중소기업에 스마트공장 구축 비용을 지원할 방침이다. 삼...</td>\n",
       "      <td>00억원을 조성해 2500개 중소기업에 스마트공장 구축 비용을 지원할 방침이다. 삼...</td>\n",
       "    </tr>\n",
       "    <tr>\n",
       "      <th>5323</th>\n",
       "      <td>삼성 NFT TV앱 내 NFT 아트 마켓플레이스 2R2 서비스 본격화삼성전자 TV ...</td>\n",
       "      <td>삼성 NFT TV앱 내 NFT 아트 마켓플레이스 2R2 서비스 본격화삼성전자 TV ...</td>\n",
       "      <td>앱으로 NFT 아트의 거래와 감상이 가능한 새로운 TV 기능이 제공되며, 누구나 ...</td>\n",
       "      <td>앱으로 NFT 아트의 거래와 감상이 가능한 새로운 TV 기능이 제공되며, 누구나 ...</td>\n",
       "    </tr>\n",
       "    <tr>\n",
       "      <th>5465</th>\n",
       "      <td>국내 제약바이오 업계 유일 삼성바이오로직스 제공 삼성바이오로직스는 기후변화대응 관련...</td>\n",
       "      <td>국내 제약바이오 업계 유일 삼성바이오로직스 제공 삼성바이오로직스는 기후변화대응 관련...</td>\n",
       "      <td>삼성바이오로직스가 국내 제약바이오 업계에서는 유일한 기업으로, 참여 첫 해에 상위 ...</td>\n",
       "      <td>삼성바이오로직스가 국내 제약바이오 업계에서는 유일한 기업으로, 참여 첫 해에 상위 ...</td>\n",
       "    </tr>\n",
       "    <tr>\n",
       "      <th>1101</th>\n",
       "      <td>(뉴델리연합뉴스) 김영현 특파원  인도네시아 서부자바주가 주정부 관용 차량으로 현...</td>\n",
       "      <td>(뉴델리연합뉴스) 김영현 특파원 인도네시아 서부자바주가 주정부 관용 차량으로 현대차...</td>\n",
       "      <td>강화해 나갈 것이라고 밝혔다. 현대차는 현재 서부자바에 완성차 공장을 짓고 있다. ...</td>\n",
       "      <td>위해 현지 정부와 협업을 강화해 나갈 것이라고 밝혔다. 현대차는 현재 서부자바에 ...</td>\n",
       "    </tr>\n",
       "    <tr>\n",
       "      <th>2309</th>\n",
       "      <td>서울뉴시스 조인우 기자  우리나라를 대표하는 완성차 기업 현대자동차그룹이 20년 만...</td>\n",
       "      <td>서울뉴시스 우리나라를 대표하는 완성차 기업 현대자동차그룹이 20년 만에 새 회장을 ...</td>\n",
       "      <td>왔으며, 최근에는 현대로템과의 합병 가능성도 나오고 있다. 정 회장은 현대건설에 이...</td>\n",
       "      <td>통한 우회 상장 등이 거론돼왔으며, 최근에는 현대로템과의 합병 가능성도 나오고 있...</td>\n",
       "    </tr>\n",
       "    <tr>\n",
       "      <th>3786</th>\n",
       "      <td>독일 BMW그룹 2인자인 피터 노타 BMW그룹 보드멤버가 현재 주력 배터리 공급사인...</td>\n",
       "      <td>독일 BMW그룹 2인자인 피터 노타 BMW그룹 보드멤버가 현재 주력 배터리 공급사인...</td>\n",
       "      <td>한 미니 데이비드 보위 에디션과 클래식 미니 일렉트릭을 아시아 최초로 공개했다.박태...</td>\n",
       "      <td>념해 출시한 미니 60주년 에디션을 국내 최초로 공개하며 차량 전체를 크롬으로 도금...</td>\n",
       "    </tr>\n",
       "    <tr>\n",
       "      <th>5684</th>\n",
       "      <td>서동용 의원, 김재무, 김재휴, 문양오, 이용재 광양시장 출마예정자 “신규투자 확대...</td>\n",
       "      <td>서동용 의원, 김재무, 김재휴, 문양오, 이용재 광양시장 출마예정자 “신규투자 확대...</td>\n",
       "      <td>지역 기존 투자계획의 차질 없는 이행을 약속하라. 2022. 3. 18.순천광양곡성...</td>\n",
       "      <td>5. 포스코의 광양지역 기존 투자계획의 차질 없는 이행을 약속하라. 18.순천광양곡...</td>\n",
       "    </tr>\n",
       "    <tr>\n",
       "      <th>237</th>\n",
       "      <td>셀트리온홀딩스·스킨큐어 보유주식 담보셀트리온 1년새 30만원대→10만원대 자사주 매...</td>\n",
       "      <td>셀트리온홀딩스·스킨큐어 보유주식 담보셀트리온 1년새 30만원대→10만원대 자사주 매...</td>\n",
       "      <td>인 회사의 성장을 위해 신규 제품 파이프라인 확보, 신약 개발 등 성장동력 확보에 ...</td>\n",
       "      <td>인 회사의 성장을 위해 신규 제품 파이프라인 확보, 신약 개발 등 성장동력 확보에 ...</td>\n",
       "    </tr>\n",
       "    <tr>\n",
       "      <th>5316</th>\n",
       "      <td>서울뉴시스 동효정 기자  삼성전자가 올해 상반기에 판매한 TV·냉장고·김치냉장고·세...</td>\n",
       "      <td>서울뉴시스 삼성전자가 올해 상반기에 판매한 TV·냉장고·김치냉장고·세탁기·에어컨·공...</td>\n",
       "      <td>I 절약모드'를 지원하는 특별 패키지 모델을 2품목 이상 구매하는 고객에게 모델별 ...</td>\n",
       "      <td>'AI 절약모드'를 지원하는 특별 패키지 모델을 2품목 이상 구매하는 고객에게 모...</td>\n",
       "    </tr>\n",
       "    <tr>\n",
       "      <th>679</th>\n",
       "      <td>삼성생명이 고객패널을 지난해 820명에서 올해 1000명으로 늘리고 본격적으로 금...</td>\n",
       "      <td>삼성생명이 고객패널을 지난해 820명에서 올해 1000명으로 늘리고 본격적으로 금융...</td>\n",
       "      <td>다. 삼성생명 관계자는 고객들의 작은 목소리에도 귀를 기울이고, 관련 부서와 협업하...</td>\n",
       "      <td>다. 삼성생명 관계자는 고객들의 작은 목소리에도 귀를 기울이고, 관련 부서와 협업하...</td>\n",
       "    </tr>\n",
       "    <tr>\n",
       "      <th>1294</th>\n",
       "      <td>현대자동차 노사 관계자들이 27일 울산시 남구 초록우산 어린이재단 울산지역본부를 ...</td>\n",
       "      <td>현대자동차 노사 관계자들이 27일 울산시 남구 초록우산 어린이재단 울산지역본부를 방...</td>\n",
       "      <td>나블루 마음백신 프로그램이 많은 분들의 적극적인 참여로 성황리에 마무리됐다”며 “임...</td>\n",
       "      <td>나블루 마음백신 프로그램이 많은 분들의 적극적인 참여로 성황리에 마무리됐다”며 “임...</td>\n",
       "    </tr>\n",
       "    <tr>\n",
       "      <th>5005</th>\n",
       "      <td>삼성전자(005930)가 미국 반도체 연구개발(RD) 거점에서 근무할 그래픽처리장치...</td>\n",
       "      <td>005930)가 미국 반도체 RD) 거점에서 근무할 그래픽처리장치(GPU) 관련 인...</td>\n",
       "      <td>AS) 등에 활용할 계획이다. 또한 데이터센터에 적용할 딥러닝 전용 NPU를 개발하...</td>\n",
       "      <td>이라고 봤다.삼성전자는 추후 NPU를 차량용 인포테인먼트 시스템과 운전자 보조 AD...</td>\n",
       "    </tr>\n",
       "    <tr>\n",
       "      <th>4194</th>\n",
       "      <td>국내 배터리 대기업의 수장들이 연이어 미국 출장길에 오른다. 미국 전기차 시장의 ...</td>\n",
       "      <td>국내 배터리 대기업의 수장들이 연이어 미국 출장길에 오른다. 미국 전기차 시장의 가...</td>\n",
       "      <td>포함한 다양한 협력 방안을 논의하고 있다”고 밝힌 바 있다. 업계에서는 최 사장이 ...</td>\n",
       "      <td>포함한 다양한 협력 방안을 논의하고 있다”고 밝힌 바 있다. 업계에서는 최 사장이...</td>\n",
       "    </tr>\n",
       "    <tr>\n",
       "      <th>3836</th>\n",
       "      <td>파우치필름 日 2개 회사가 전세계 점유율 70%핵심 4대 소재 日 의존도 낮아큰 영...</td>\n",
       "      <td>파우치필름 日 2개 회사가 전세계 점유율 70%핵심 4대 소재 日 의존도 낮아큰 영...</td>\n",
       "      <td>경우 단기간은 타격을 입겠지만 6개월 이내에 소재를 국산화하거나 다른 국가에서 공급...</td>\n",
       "      <td>그나마 다행이라며 일본이 파우치 필름 등 나머지 소재 공급을 막을 경우 단기간은 타...</td>\n",
       "    </tr>\n",
       "    <tr>\n",
       "      <th>843</th>\n",
       "      <td>【서울뉴시스】박민기 기자  현대자동차그룹이 4차 산업혁명 등으로 급변하는 산업 환경...</td>\n",
       "      <td>【서울뉴시스】 현대자동차그룹이 4차 산업혁명 등으로 급변하는 산업 환경 속에서 미래...</td>\n",
       "      <td>사에서 고객에게 새로운 경험을 제공하는 '서비스 회사'로 탈바꿈할 것이라며 우리는 ...</td>\n",
       "      <td>이어 현대차그룹은 자동차 제조사에서 고객에게 새로운 경험을 제공하는 '서비스 회사...</td>\n",
       "    </tr>\n",
       "    <tr>\n",
       "      <th>4455</th>\n",
       "      <td>국내 2차전지(배터리) 산업의 8대 핵심광물 중국 의존도가 올 들어 급감했지만 낙...</td>\n",
       "      <td>국내 2차전지(배터리) 산업의 8대 핵심광물 중국 의존도가 올 들어 급감했지만 낙관...</td>\n",
       "      <td>한 업무협약(MOU)을 확대하고 있다. 배터리 업계 관계자는 중국 의존도 감축은 위...</td>\n",
       "      <td>있거나 이를 위한 MOU)을 확대하고 있다. 배터리 업계 관계자는 중국 의존도 감...</td>\n",
       "    </tr>\n",
       "    <tr>\n",
       "      <th>5605</th>\n",
       "      <td>항체-약물접합체(ADC)가 차세대 항암제 핵심 기술로 떠오르면서 기술확보를 위한 경...</td>\n",
       "      <td>항체-약물접합체(ADC)가 차세대 항암제 핵심 기술로 떠오르면서 기술확보를 위한 경...</td>\n",
       "      <td>여 중이라며 실패 가능성이 높은 기술에 대한 기업들의 도전적인 연구 지원과 세제 혜...</td>\n",
       "      <td>참여 중이라며 실패 가능성이 높은 기술에 대한 기업들의 도전적인 연구 지원과 세제 ...</td>\n",
       "    </tr>\n",
       "  </tbody>\n",
       "</table>\n",
       "</div>\n",
       "    <div class=\"colab-df-buttons\">\n",
       "\n",
       "  <div class=\"colab-df-container\">\n",
       "    <button class=\"colab-df-convert\" onclick=\"convertToInteractive('df-d7700b80-27b1-4d33-abf9-d22c0c422ae3')\"\n",
       "            title=\"Convert this dataframe to an interactive table.\"\n",
       "            style=\"display:none;\">\n",
       "\n",
       "  <svg xmlns=\"http://www.w3.org/2000/svg\" height=\"24px\" viewBox=\"0 -960 960 960\">\n",
       "    <path d=\"M120-120v-720h720v720H120Zm60-500h600v-160H180v160Zm220 220h160v-160H400v160Zm0 220h160v-160H400v160ZM180-400h160v-160H180v160Zm440 0h160v-160H620v160ZM180-180h160v-160H180v160Zm440 0h160v-160H620v160Z\"/>\n",
       "  </svg>\n",
       "    </button>\n",
       "\n",
       "  <style>\n",
       "    .colab-df-container {\n",
       "      display:flex;\n",
       "      gap: 12px;\n",
       "    }\n",
       "\n",
       "    .colab-df-convert {\n",
       "      background-color: #E8F0FE;\n",
       "      border: none;\n",
       "      border-radius: 50%;\n",
       "      cursor: pointer;\n",
       "      display: none;\n",
       "      fill: #1967D2;\n",
       "      height: 32px;\n",
       "      padding: 0 0 0 0;\n",
       "      width: 32px;\n",
       "    }\n",
       "\n",
       "    .colab-df-convert:hover {\n",
       "      background-color: #E2EBFA;\n",
       "      box-shadow: 0px 1px 2px rgba(60, 64, 67, 0.3), 0px 1px 3px 1px rgba(60, 64, 67, 0.15);\n",
       "      fill: #174EA6;\n",
       "    }\n",
       "\n",
       "    .colab-df-buttons div {\n",
       "      margin-bottom: 4px;\n",
       "    }\n",
       "\n",
       "    [theme=dark] .colab-df-convert {\n",
       "      background-color: #3B4455;\n",
       "      fill: #D2E3FC;\n",
       "    }\n",
       "\n",
       "    [theme=dark] .colab-df-convert:hover {\n",
       "      background-color: #434B5C;\n",
       "      box-shadow: 0px 1px 3px 1px rgba(0, 0, 0, 0.15);\n",
       "      filter: drop-shadow(0px 1px 2px rgba(0, 0, 0, 0.3));\n",
       "      fill: #FFFFFF;\n",
       "    }\n",
       "  </style>\n",
       "\n",
       "    <script>\n",
       "      const buttonEl =\n",
       "        document.querySelector('#df-d7700b80-27b1-4d33-abf9-d22c0c422ae3 button.colab-df-convert');\n",
       "      buttonEl.style.display =\n",
       "        google.colab.kernel.accessAllowed ? 'block' : 'none';\n",
       "\n",
       "      async function convertToInteractive(key) {\n",
       "        const element = document.querySelector('#df-d7700b80-27b1-4d33-abf9-d22c0c422ae3');\n",
       "        const dataTable =\n",
       "          await google.colab.kernel.invokeFunction('convertToInteractive',\n",
       "                                                    [key], {});\n",
       "        if (!dataTable) return;\n",
       "\n",
       "        const docLinkHtml = 'Like what you see? Visit the ' +\n",
       "          '<a target=\"_blank\" href=https://colab.research.google.com/notebooks/data_table.ipynb>data table notebook</a>'\n",
       "          + ' to learn more about interactive tables.';\n",
       "        element.innerHTML = '';\n",
       "        dataTable['output_type'] = 'display_data';\n",
       "        await google.colab.output.renderOutput(dataTable, element);\n",
       "        const docLink = document.createElement('div');\n",
       "        docLink.innerHTML = docLinkHtml;\n",
       "        element.appendChild(docLink);\n",
       "      }\n",
       "    </script>\n",
       "  </div>\n",
       "\n",
       "\n",
       "<div id=\"df-23fb7dc1-f25c-4683-862f-a8ca5f099de1\">\n",
       "  <button class=\"colab-df-quickchart\" onclick=\"quickchart('df-23fb7dc1-f25c-4683-862f-a8ca5f099de1')\"\n",
       "            title=\"Suggest charts\"\n",
       "            style=\"display:none;\">\n",
       "\n",
       "<svg xmlns=\"http://www.w3.org/2000/svg\" height=\"24px\"viewBox=\"0 0 24 24\"\n",
       "     width=\"24px\">\n",
       "    <g>\n",
       "        <path d=\"M19 3H5c-1.1 0-2 .9-2 2v14c0 1.1.9 2 2 2h14c1.1 0 2-.9 2-2V5c0-1.1-.9-2-2-2zM9 17H7v-7h2v7zm4 0h-2V7h2v10zm4 0h-2v-4h2v4z\"/>\n",
       "    </g>\n",
       "</svg>\n",
       "  </button>\n",
       "\n",
       "<style>\n",
       "  .colab-df-quickchart {\n",
       "      --bg-color: #E8F0FE;\n",
       "      --fill-color: #1967D2;\n",
       "      --hover-bg-color: #E2EBFA;\n",
       "      --hover-fill-color: #174EA6;\n",
       "      --disabled-fill-color: #AAA;\n",
       "      --disabled-bg-color: #DDD;\n",
       "  }\n",
       "\n",
       "  [theme=dark] .colab-df-quickchart {\n",
       "      --bg-color: #3B4455;\n",
       "      --fill-color: #D2E3FC;\n",
       "      --hover-bg-color: #434B5C;\n",
       "      --hover-fill-color: #FFFFFF;\n",
       "      --disabled-bg-color: #3B4455;\n",
       "      --disabled-fill-color: #666;\n",
       "  }\n",
       "\n",
       "  .colab-df-quickchart {\n",
       "    background-color: var(--bg-color);\n",
       "    border: none;\n",
       "    border-radius: 50%;\n",
       "    cursor: pointer;\n",
       "    display: none;\n",
       "    fill: var(--fill-color);\n",
       "    height: 32px;\n",
       "    padding: 0;\n",
       "    width: 32px;\n",
       "  }\n",
       "\n",
       "  .colab-df-quickchart:hover {\n",
       "    background-color: var(--hover-bg-color);\n",
       "    box-shadow: 0 1px 2px rgba(60, 64, 67, 0.3), 0 1px 3px 1px rgba(60, 64, 67, 0.15);\n",
       "    fill: var(--button-hover-fill-color);\n",
       "  }\n",
       "\n",
       "  .colab-df-quickchart-complete:disabled,\n",
       "  .colab-df-quickchart-complete:disabled:hover {\n",
       "    background-color: var(--disabled-bg-color);\n",
       "    fill: var(--disabled-fill-color);\n",
       "    box-shadow: none;\n",
       "  }\n",
       "\n",
       "  .colab-df-spinner {\n",
       "    border: 2px solid var(--fill-color);\n",
       "    border-color: transparent;\n",
       "    border-bottom-color: var(--fill-color);\n",
       "    animation:\n",
       "      spin 1s steps(1) infinite;\n",
       "  }\n",
       "\n",
       "  @keyframes spin {\n",
       "    0% {\n",
       "      border-color: transparent;\n",
       "      border-bottom-color: var(--fill-color);\n",
       "      border-left-color: var(--fill-color);\n",
       "    }\n",
       "    20% {\n",
       "      border-color: transparent;\n",
       "      border-left-color: var(--fill-color);\n",
       "      border-top-color: var(--fill-color);\n",
       "    }\n",
       "    30% {\n",
       "      border-color: transparent;\n",
       "      border-left-color: var(--fill-color);\n",
       "      border-top-color: var(--fill-color);\n",
       "      border-right-color: var(--fill-color);\n",
       "    }\n",
       "    40% {\n",
       "      border-color: transparent;\n",
       "      border-right-color: var(--fill-color);\n",
       "      border-top-color: var(--fill-color);\n",
       "    }\n",
       "    60% {\n",
       "      border-color: transparent;\n",
       "      border-right-color: var(--fill-color);\n",
       "    }\n",
       "    80% {\n",
       "      border-color: transparent;\n",
       "      border-right-color: var(--fill-color);\n",
       "      border-bottom-color: var(--fill-color);\n",
       "    }\n",
       "    90% {\n",
       "      border-color: transparent;\n",
       "      border-bottom-color: var(--fill-color);\n",
       "    }\n",
       "  }\n",
       "</style>\n",
       "\n",
       "  <script>\n",
       "    async function quickchart(key) {\n",
       "      const quickchartButtonEl =\n",
       "        document.querySelector('#' + key + ' button');\n",
       "      quickchartButtonEl.disabled = true;  // To prevent multiple clicks.\n",
       "      quickchartButtonEl.classList.add('colab-df-spinner');\n",
       "      try {\n",
       "        const charts = await google.colab.kernel.invokeFunction(\n",
       "            'suggestCharts', [key], {});\n",
       "      } catch (error) {\n",
       "        console.error('Error during call to suggestCharts:', error);\n",
       "      }\n",
       "      quickchartButtonEl.classList.remove('colab-df-spinner');\n",
       "      quickchartButtonEl.classList.add('colab-df-quickchart-complete');\n",
       "    }\n",
       "    (() => {\n",
       "      let quickchartButtonEl =\n",
       "        document.querySelector('#df-23fb7dc1-f25c-4683-862f-a8ca5f099de1 button');\n",
       "      quickchartButtonEl.style.display =\n",
       "        google.colab.kernel.accessAllowed ? 'block' : 'none';\n",
       "    })();\n",
       "  </script>\n",
       "</div>\n",
       "\n",
       "    </div>\n",
       "  </div>\n"
      ],
      "text/plain": [
       "                                             text_start  \\\n",
       "4132  세계 시장을 호령하던 ‘K배터리’가 절체절명 위기에 처할 수 있다는 우려의 목소리가...   \n",
       "5869  얼마 전 포스코홀딩스의 환경·사회·지배구조(ESG) 경영 관련 자료를 살펴볼 기회가...   \n",
       "2739  서울뉴시스 김경택 기자  벤츠에 납품하는 배터리팩으로 인한 매출 안정화와 더불어 폭...   \n",
       "5062  중기부와 1000억 기금 조성해중기 2500곳 스마트공장 구축제조현장 혁신·환경안전...   \n",
       "5323  삼성 NFT TV앱 내 NFT 아트 마켓플레이스 2R2 서비스 본격화삼성전자 TV ...   \n",
       "5465  국내 제약바이오 업계 유일 삼성바이오로직스 제공 삼성바이오로직스는 기후변화대응 관련...   \n",
       "1101   (뉴델리연합뉴스) 김영현 특파원  인도네시아 서부자바주가 주정부 관용 차량으로 현...   \n",
       "2309  서울뉴시스 조인우 기자  우리나라를 대표하는 완성차 기업 현대자동차그룹이 20년 만...   \n",
       "3786  독일 BMW그룹 2인자인 피터 노타 BMW그룹 보드멤버가 현재 주력 배터리 공급사인...   \n",
       "5684  서동용 의원, 김재무, 김재휴, 문양오, 이용재 광양시장 출마예정자 “신규투자 확대...   \n",
       "237   셀트리온홀딩스·스킨큐어 보유주식 담보셀트리온 1년새 30만원대→10만원대 자사주 매...   \n",
       "5316  서울뉴시스 동효정 기자  삼성전자가 올해 상반기에 판매한 TV·냉장고·김치냉장고·세...   \n",
       "679    삼성생명이 고객패널을 지난해 820명에서 올해 1000명으로 늘리고 본격적으로 금...   \n",
       "1294   현대자동차 노사 관계자들이 27일 울산시 남구 초록우산 어린이재단 울산지역본부를 ...   \n",
       "5005  삼성전자(005930)가 미국 반도체 연구개발(RD) 거점에서 근무할 그래픽처리장치...   \n",
       "4194   국내 배터리 대기업의 수장들이 연이어 미국 출장길에 오른다. 미국 전기차 시장의 ...   \n",
       "3836  파우치필름 日 2개 회사가 전세계 점유율 70%핵심 4대 소재 日 의존도 낮아큰 영...   \n",
       "843   【서울뉴시스】박민기 기자  현대자동차그룹이 4차 산업혁명 등으로 급변하는 산업 환경...   \n",
       "4455   국내 2차전지(배터리) 산업의 8대 핵심광물 중국 의존도가 올 들어 급감했지만 낙...   \n",
       "5605  항체-약물접합체(ADC)가 차세대 항암제 핵심 기술로 떠오르면서 기술확보를 위한 경...   \n",
       "\n",
       "                                     cleaned_text_start  \\\n",
       "4132  세계 시장을 호령하던 ‘K배터리’가 절체절명 위기에 처할 수 있다는 우려의 목소리가...   \n",
       "5869  얼마 전 포스코홀딩스의 환경·사회·ESG) 경영 관련 자료를 살펴볼 기회가 있었다....   \n",
       "2739  서울뉴시스 벤츠에 납품하는 배터리팩으로 인한 매출 안정화와 더불어 폭스바겐, 포드에...   \n",
       "5062  중기부와 1000억 기금 조성해중기 2500곳 스마트공장 구축제조현장 혁신·환경안전...   \n",
       "5323  삼성 NFT TV앱 내 NFT 아트 마켓플레이스 2R2 서비스 본격화삼성전자 TV ...   \n",
       "5465  국내 제약바이오 업계 유일 삼성바이오로직스 제공 삼성바이오로직스는 기후변화대응 관련...   \n",
       "1101  (뉴델리연합뉴스) 김영현 특파원 인도네시아 서부자바주가 주정부 관용 차량으로 현대차...   \n",
       "2309  서울뉴시스 우리나라를 대표하는 완성차 기업 현대자동차그룹이 20년 만에 새 회장을 ...   \n",
       "3786  독일 BMW그룹 2인자인 피터 노타 BMW그룹 보드멤버가 현재 주력 배터리 공급사인...   \n",
       "5684  서동용 의원, 김재무, 김재휴, 문양오, 이용재 광양시장 출마예정자 “신규투자 확대...   \n",
       "237   셀트리온홀딩스·스킨큐어 보유주식 담보셀트리온 1년새 30만원대→10만원대 자사주 매...   \n",
       "5316  서울뉴시스 삼성전자가 올해 상반기에 판매한 TV·냉장고·김치냉장고·세탁기·에어컨·공...   \n",
       "679   삼성생명이 고객패널을 지난해 820명에서 올해 1000명으로 늘리고 본격적으로 금융...   \n",
       "1294  현대자동차 노사 관계자들이 27일 울산시 남구 초록우산 어린이재단 울산지역본부를 방...   \n",
       "5005  005930)가 미국 반도체 RD) 거점에서 근무할 그래픽처리장치(GPU) 관련 인...   \n",
       "4194  국내 배터리 대기업의 수장들이 연이어 미국 출장길에 오른다. 미국 전기차 시장의 가...   \n",
       "3836  파우치필름 日 2개 회사가 전세계 점유율 70%핵심 4대 소재 日 의존도 낮아큰 영...   \n",
       "843   【서울뉴시스】 현대자동차그룹이 4차 산업혁명 등으로 급변하는 산업 환경 속에서 미래...   \n",
       "4455  국내 2차전지(배터리) 산업의 8대 핵심광물 중국 의존도가 올 들어 급감했지만 낙관...   \n",
       "5605  항체-약물접합체(ADC)가 차세대 항암제 핵심 기술로 떠오르면서 기술확보를 위한 경...   \n",
       "\n",
       "                                               text_end  \\\n",
       "4132  인 차세대 LFP 배터리를 개발해야 한다.” 박철완 서정대 스마트자동차학과 교수 얘...   \n",
       "5869  지만 노동이 의무가 된 사회에서 ESG 경영이 출생률에 영향을 주는 주요한 선택지를...   \n",
       "2739   안정적인 매출의 향상이 예상되는 상황이라면서 빠른 시일내 헝가리 및 북미로의 해외...   \n",
       "5062  00억원을 조성해 2500개 중소기업에 스마트공장 구축 비용을 지원할 방침이다. 삼...   \n",
       "5323   앱으로 NFT 아트의 거래와 감상이 가능한 새로운 TV 기능이 제공되며, 누구나 ...   \n",
       "5465  삼성바이오로직스가 국내 제약바이오 업계에서는 유일한 기업으로, 참여 첫 해에 상위 ...   \n",
       "1101  강화해 나갈 것이라고 밝혔다. 현대차는 현재 서부자바에 완성차 공장을 짓고 있다. ...   \n",
       "2309  왔으며, 최근에는 현대로템과의 합병 가능성도 나오고 있다. 정 회장은 현대건설에 이...   \n",
       "3786  한 미니 데이비드 보위 에디션과 클래식 미니 일렉트릭을 아시아 최초로 공개했다.박태...   \n",
       "5684  지역 기존 투자계획의 차질 없는 이행을 약속하라. 2022. 3. 18.순천광양곡성...   \n",
       "237   인 회사의 성장을 위해 신규 제품 파이프라인 확보, 신약 개발 등 성장동력 확보에 ...   \n",
       "5316  I 절약모드'를 지원하는 특별 패키지 모델을 2품목 이상 구매하는 고객에게 모델별 ...   \n",
       "679   다. 삼성생명 관계자는 고객들의 작은 목소리에도 귀를 기울이고, 관련 부서와 협업하...   \n",
       "1294  나블루 마음백신 프로그램이 많은 분들의 적극적인 참여로 성황리에 마무리됐다”며 “임...   \n",
       "5005  AS) 등에 활용할 계획이다. 또한 데이터센터에 적용할 딥러닝 전용 NPU를 개발하...   \n",
       "4194  포함한 다양한 협력 방안을 논의하고 있다”고 밝힌 바 있다. 업계에서는 최 사장이 ...   \n",
       "3836  경우 단기간은 타격을 입겠지만 6개월 이내에 소재를 국산화하거나 다른 국가에서 공급...   \n",
       "843   사에서 고객에게 새로운 경험을 제공하는 '서비스 회사'로 탈바꿈할 것이라며 우리는 ...   \n",
       "4455  한 업무협약(MOU)을 확대하고 있다. 배터리 업계 관계자는 중국 의존도 감축은 위...   \n",
       "5605  여 중이라며 실패 가능성이 높은 기술에 대한 기업들의 도전적인 연구 지원과 세제 혜...   \n",
       "\n",
       "                                       cleaned_text_end  \n",
       "4132  것이다. 진입장벽이 낮은 ESS 부문을 시작으로 LFP 배터리 생산량을 늘리고, 기...  \n",
       "5869   명이나 될지. 출산은 개인의 선택이지만 노동이 의무가 된 사회에서 ESG 경영이 ...  \n",
       "2739   안정적인 매출의 향상이 예상되는 상황이라면서 빠른 시일내 헝가리 및 북미로의 해외...  \n",
       "5062  00억원을 조성해 2500개 중소기업에 스마트공장 구축 비용을 지원할 방침이다. 삼...  \n",
       "5323   앱으로 NFT 아트의 거래와 감상이 가능한 새로운 TV 기능이 제공되며, 누구나 ...  \n",
       "5465  삼성바이오로직스가 국내 제약바이오 업계에서는 유일한 기업으로, 참여 첫 해에 상위 ...  \n",
       "1101   위해 현지 정부와 협업을 강화해 나갈 것이라고 밝혔다. 현대차는 현재 서부자바에 ...  \n",
       "2309   통한 우회 상장 등이 거론돼왔으며, 최근에는 현대로템과의 합병 가능성도 나오고 있...  \n",
       "3786  념해 출시한 미니 60주년 에디션을 국내 최초로 공개하며 차량 전체를 크롬으로 도금...  \n",
       "5684  5. 포스코의 광양지역 기존 투자계획의 차질 없는 이행을 약속하라. 18.순천광양곡...  \n",
       "237   인 회사의 성장을 위해 신규 제품 파이프라인 확보, 신약 개발 등 성장동력 확보에 ...  \n",
       "5316   'AI 절약모드'를 지원하는 특별 패키지 모델을 2품목 이상 구매하는 고객에게 모...  \n",
       "679   다. 삼성생명 관계자는 고객들의 작은 목소리에도 귀를 기울이고, 관련 부서와 협업하...  \n",
       "1294  나블루 마음백신 프로그램이 많은 분들의 적극적인 참여로 성황리에 마무리됐다”며 “임...  \n",
       "5005  이라고 봤다.삼성전자는 추후 NPU를 차량용 인포테인먼트 시스템과 운전자 보조 AD...  \n",
       "4194   포함한 다양한 협력 방안을 논의하고 있다”고 밝힌 바 있다. 업계에서는 최 사장이...  \n",
       "3836  그나마 다행이라며 일본이 파우치 필름 등 나머지 소재 공급을 막을 경우 단기간은 타...  \n",
       "843    이어 현대차그룹은 자동차 제조사에서 고객에게 새로운 경험을 제공하는 '서비스 회사...  \n",
       "4455   있거나 이를 위한 MOU)을 확대하고 있다. 배터리 업계 관계자는 중국 의존도 감...  \n",
       "5605  참여 중이라며 실패 가능성이 높은 기술에 대한 기업들의 도전적인 연구 지원과 세제 ...  "
      ]
     },
     "execution_count": 2,
     "metadata": {},
     "output_type": "execute_result"
    }
   ],
   "source": [
    "import pandas as pd\n",
    "import re\n",
    "\n",
    "# The last anti -processing function by media company\n",
    "def process_article_footer(text):\n",
    "# Definition of patterns by media company\n",
    "    patterns = {\n",
    "        \"서울경제\": [r'저작권자\\s서울경제.*?전재\\s및\\s재배포\\s금지', r'@sedaily\\.com'],\n",
    "        \"파이낸셜뉴스\": [r'저작권자\\s파이낸셜뉴스.*?무단\\s전재-재배포\\s금지', r'@fnnews\\.com'],\n",
    "        \"쿠키뉴스\": [r'무단전재\\s및\\s재배포금지', r'@kukinews\\.com'],\n",
    "        \"이데일리\": [r'＜종합\\s경제정보\\s미디어\\s이데일리\\s-\\s무단전재\\s재배포\\s금지＞', r'@edaily\\.co\\.kr'],\n",
    "        \"중앙일보\": [r'중앙일보.*?무단\\s전재\\s및\\s재배포\\s금지', r'@joongang\\.co\\.kr'],\n",
    "        \"조선비즈\": [r'저작권자\\s조선비즈.*?무단\\s전재\\s및\\s재배포\\s금지', r'@chosunbiz\\.com'],\n",
    "        \"데일리안\": [r'데일리안\\s-\\s무단전재,\\s변형,\\s무단배포\\s금지', r'@dailian\\.co\\.kr'],\n",
    "        \"머니투데이\": [r'머니투데이.*?기자', r'@mt\\.co\\.kr'],\n",
    "        \"더팩트\": [r'저작권자\\s특종에\\s강한\\s더팩트.*?재배포\\s금지', r'@tf\\.co\\.kr'],\n",
    "        \"매일경제\": [r'저작권자\\s매일경제.*?mk\\.co\\.kr', r'@mk\\.co\\.kr'],\n",
    "        \"연합뉴스\": [r'연합뉴스TV.*?제보', r'@yna\\.co\\.kr'],\n",
    "        \"한국경제\": [r'저작권자\\s한국경제.*?', r'@hankyung\\.com'],\n",
    "        \"아시아경제\": [r'@asiae\\.co\\.kr', r'아시아경제'],\n",
    "        \"전자신문\": [r'전자신문.*?전자신문인터넷', r'@etnews\\.com'],\n",
    "        \"CBS노컷뉴스\": [r'©\\s뉴스1코리아.*?무단\\s전재\\s및\\s재배포\\s금지', r'@cbs\\.co\\.kr'],\n",
    "        \"아이뉴스24\": [r'아이뉴스24.*?', r'@inews24\\.com']\n",
    "    }\n",
    "\n",
    "# Remove text by media based on pattern\n",
    "    for agency, agency_patterns in patterns.items():\n",
    "        for pattern in agency_patterns:\n",
    "# Apply pattern only within the last 200 characters\n",
    "            if len(text) > 200:\n",
    "                last_200_chars = text[-200:]\n",
    "                last_200_chars = re.sub(pattern, '', last_200_chars)\n",
    "                text = text[:-200] + last_200_chars\n",
    "            else:\n",
    "                text = re.sub(pattern, '', text)\n",
    "\n",
    "    return text\n",
    "\n",
    "\n",
    "#Protocation function related to the reporter's name\n",
    "def remove_trailing_journalist_name(text):\n",
    "# If the sentence does not end with the period, check the last 4 letters\n",
    "    if not text.endswith('.'):\n",
    "        last_chars = text[-4:] if len(text) >= 4 else ''\n",
    "\n",
    "#Check after checking if the last 4 letters are enough\n",
    "        if last_chars:\n",
    "# If the first letter is finished or blank, delete 2, 3, and 4th letters\n",
    "            if last_chars[0] in ['.', ' ']:\n",
    "                text = text[:-4] + last_chars[0]  # 첫 글자만 남기고 나머지 삭제\n",
    "# If the first letter is 'da', not the end of the period,\n",
    "            elif last_chars[0] == '다':\n",
    "                text = text[:-4] + \"다\"  # 마지막 문장으로 정리\n",
    "    return text\n",
    "\n",
    "\n",
    "\n",
    "# Pre -treatment function (including all text deletion after certain phrases)\n",
    "def preprocess_article(text):\n",
    "# 1. Delete all text after a specific pattern (only within the last 200 characters)\n",
    "    special_patterns = [\n",
    "        r'CBS노컷뉴스는\\s여러분의\\s제보로',  # CBS노컷뉴스\n",
    "        r'유튜브와\\s포털에서\\s각각',  # 홍보 문구\n",
    "        r'저작권자\\.\\s*c\\.\\s*오마이뉴스',  # 오마이뉴스\n",
    "        r'본\\s기사는',  # '본 기사는'으로 시작되는 패턴\n",
    "        r'특별취재팀',  # 특별취재팀\n",
    "        r'https?:\\/\\/[^\\s]+',  # URL 패턴 (예: https:joongang.co.kr)\n",
    "        r'기자\\s?[A-Za-z]+\\s?[A-Za-z]*@[^\\s]+',  # 이메일 주소와 기자 이름이 붙어 있는 경우\n",
    "        r'[가-힣]+\\s기자\\s?[가-힣]+\\s?[A-Za-z0-9._%+-]+@[A-Za-z0-9.-]+\\.[A-Z|a-z]{2,}',  # 기자 이름과 이메일 패턴\n",
    "        r'[가-힣]+\\s기자',  # 기자 이름 뒤 붙은 텍스트 제거\n",
    "        r'(?:\\s|^)' + r'발로 뛰는 더팩트는',\n",
    "        r'네이버 홈에서',\n",
    "        r'＜종합 경제정보',\n",
    "        r'세상을 보는 눈,',\n",
    "        r'당신의 제보가',  # SBS Biz\n",
    "        r'WEEKLY BIZ Newsletter',\n",
    "        r'제보하기 :'\n",
    "    ]\n",
    "\n",
    "    for pattern in special_patterns:\n",
    "        if len(text) > 200:\n",
    "            last_200_chars = text[-200:]\n",
    "            last_200_chars = re.sub(pattern + r'.*', '', last_200_chars)\n",
    "            text = text[:-200] + last_200_chars\n",
    "        else:\n",
    "            text = re.sub(pattern + r'.*', '', text)\n",
    "\n",
    "# 2. All text removal after email (remove all texts after email)\n",
    "    text = re.sub(r'[A-Za-z0-9._%+-]+@[A-Za-z0-9.-]+\\.[A-Z|a-z]{2,}.*', '', text, flags=re.IGNORECASE)\n",
    "\n",
    "# 3. Remove the reporter's name and 'journalist' pattern (including processing without spacing)\n",
    "    text = re.sub(r'\\b[가-힣]{2,4}기자\\b|\\b[가-힣]{2,4} 기자\\b', '', text)\n",
    "\n",
    "# 4. Remove the reporter's name and parentheses (e.g. Kim Hyun -ah ()\n",
    "    text = re.sub(r'\\b[가-힣]{2,4}\\s?\\(\\s?', '', text)\n",
    "\n",
    "# 5. Remove the promotional phrase after the email in parentheses\n",
    "    text = re.sub(r'\\([A-Za-z0-9._%+-]+@[A-Za-z0-9.-]+\\.[A-Z|a-z]{2,}.*?\\)', '', text)\n",
    "\n",
    "# 6. Remove promotional phrases such as 'in Naver'\n",
    "    text = re.sub(r'네이버에서.*?청춘뉘우스~', '', text)\n",
    "    text = re.sub(r'연합뉴스TV.*?입니다.', '', text)\n",
    "\n",
    "# 7. Remove Company Information and Web URL (website -related pattern processing)\n",
    "    text = re.sub(r'\\b(?:mk\\.co\\.kr|hankyung\\.com|sedaily\\.com|edaily\\.co\\.kr|fnnews\\.com)\\b.*', '', text)\n",
    "\n",
    "# 8. Remove additional text after e -mail\n",
    "# Example: \"Comja77@ Digital Times\", \"hlpark@wowtv.co.kr Korea Economic TV\n",
    "    text = re.sub(r'[A-Za-z0-9._%+-]+@[A-Za-z0-9.-]+\\.[A-Z|a-z]{2,}\\s.*', '', text, flags=re.IGNORECASE)\n",
    "\n",
    "# 9. Copyright phrase and other meta information removal\n",
    "    meta_patterns = [\n",
    "        r'저작권자\\s.+?\\s무단\\s전재\\s및\\s재배포\\s금지',  # 저작권 문구\n",
    "        r'무단\\s전재-재배포\\s금지',  # 재배포 금지 문구\n",
    "        r'GoodNews paper',  # 쿠키뉴스 등\n",
    "        r'제보\\s이메일',  # 제보 관련 정보\n",
    "        r'카카오톡',  # 카톡 관련 정보\n",
    "        r'네이버\\s홈에서\\s‘.+?’\\s뉴스',  # 네이버 관련 정보\n",
    "        r'\\(사진연합뉴스\\)',  # 연합뉴스 사진 저작권\n",
    "        r'종합\\s경제정보\\s미디어\\s-\\s무단전재\\s재배포\\s금지',  # 이데일리\n",
    "        r'뉴스\\s홈페이지',  # 뉴스 홈페이지 관련 정보\n",
    "        r'기자문의\\s및\\s제보'  # 연합뉴스 및 제보 관련\n",
    "\n",
    "    ]\n",
    "\n",
    "# Remove copyright and other unnecessary information\n",
    "    for pattern in meta_patterns:\n",
    "        text = re.sub(pattern, '', text)\n",
    "\n",
    "# 10. Unnecessary space cleanup in text\n",
    "    text = re.sub(r'\\s+', ' ', text).strip()\n",
    "\n",
    "# 11.\n",
    "    text = process_article_footer(text)\n",
    "\n",
    "# 12. After confirming the last 4 letters to see if the reporter's name remains\n",
    "    text = remove_trailing_journalist_name(text)\n",
    "\n",
    "# 13. After dividing it into a sentence unit, leaving only meaningful text\n",
    "    sentences = text.split('. ')\n",
    "    filtered_sentences = [sentence for sentence in sentences if len(sentence) > 10]\n",
    "\n",
    "# Combined with text again\n",
    "    return '. '.join(filtered_sentences)\n",
    "\n",
    "\n",
    "#Load the csv file\n",
    "file_path = '/content/drive/MyDrive/Kwargs/020. 전처리/combined_all_companies_updated.csv'\n",
    "df = pd.read_csv(file_path)\n",
    "\n",
    "# Apply the New Preprocessing Function\n",
    "df['cleaned_text'] = df['full_text'].apply(preprocess_article)\n",
    "\n",
    "# Compare the Original and Cleaned Text (First 70 and Last 70 Characters)\n",
    "df['text_start'] = df['full_text'].str[:70]\n",
    "df['text_end'] = df['full_text'].str[-100:]\n",
    "df['cleaned_text_start'] = df['cleaned_text'].str[:70]\n",
    "df['cleaned_text_end'] = df['cleaned_text'].str[-100:]\n",
    "\n",
    "# Display The Comparison for Start and End of Text\n",
    "comparison = df[['text_start', 'cleaned_text_start', 'text_end', 'cleaned_text_end']]\n",
    "\n",
    "comparison.sample(20)\n"
   ]
  },
  {
   "cell_type": "markdown",
   "metadata": {
    "id": "bu5xW6mv56iD"
   },
   "source": [
    "## 1. Definition and remastering pretreatment function"
   ]
  },
  {
   "cell_type": "markdown",
   "metadata": {
    "id": "5nMx2akoQNLo"
   },
   "source": [
    "### function definition"
   ]
  },
  {
   "cell_type": "code",
   "execution_count": null,
   "metadata": {
    "colab": {
     "base_uri": "https://localhost:8080/"
    },
    "executionInfo": {
     "elapsed": 13631,
     "status": "ok",
     "timestamp": 1727337781474,
     "user": {
      "displayName": "백현지",
      "userId": "02510457579208942463"
     },
     "user_tz": -540
    },
    "id": "nfR1VfeuIndq",
    "outputId": "291e9c4c-f5ac-420e-931d-99f0c7eee6c4"
   },
   "outputs": [
    {
     "name": "stdout",
     "output_type": "stream",
     "text": [
      "Drive already mounted at /content/drive; to attempt to forcibly remount, call drive.mount(\"/content/drive\", force_remount=True).\n"
     ]
    }
   ],
   "source": [
    "from google.colab import drive\n",
    "drive.mount('/content/drive')"
   ]
  },
  {
   "cell_type": "code",
   "execution_count": null,
   "metadata": {
    "id": "zqo-f4lvxQaK"
   },
   "outputs": [],
   "source": [
    "import re\n",
    "\n",
    "# Integrated pretreatment function\n",
    "def preprocess_article(text):\n",
    "# 1. Delete all text after a specific pattern (only within the last 200 characters)\n",
    "    special_patterns = [\n",
    "        r'CBS노컷뉴스는\\s여러분의\\s제보로',  # CBS노컷뉴스\n",
    "        r'유튜브와\\s포털에서\\s각각',  # 홍보 문구\n",
    "        r'저작권자\\.\\s*c\\.\\s*오마이뉴스',  # 오마이뉴스\n",
    "        r'본\\s기사는',  # '본 기사는'으로 시작되는 패턴\n",
    "        r'특별취재팀',  # 특별취재팀\n",
    "        r'https?:\\/\\/[^\\s]+',  # URL 패턴 (예: https:joongang.co.kr)\n",
    "        r'기자\\s?[A-Za-z]+\\s?[A-Za-z]*@[^\\s]+',  # 이메일 주소와 기자 이름이 붙어 있는 경우\n",
    "        r'[가-힣]+\\s기자\\s?[가-힣]+\\s?[A-Za-z0-9._%+-]+@[A-Za-z0-9.-]+\\.[A-Z|a-z]{2,}',  # 기자 이름과 이메일 패턴\n",
    "        r'[가-힣]+\\s기자',  # 기자 이름 뒤 붙은 텍스트 제거\n",
    "        r'(?:\\s|^)' + r'발로 뛰는 더팩트는',\n",
    "        r'네이버 홈에서',\n",
    "        r'＜종합 경제정보',\n",
    "        r'세상을 보는 눈,',\n",
    "        r'당신의 제보가',  # SBS Biz\n",
    "        r'WEEKLY BIZ Newsletter',\n",
    "        r'제보하기 :'\n",
    "    ]\n",
    "\n",
    "    for pattern in special_patterns:\n",
    "        if len(text) > 200:\n",
    "            last_200_chars = text[-200:]\n",
    "            last_200_chars = re.sub(pattern + r'.*', '', last_200_chars)\n",
    "            text = text[:-200] + last_200_chars\n",
    "        else:\n",
    "            text = re.sub(pattern + r'.*', '', text)\n",
    "\n",
    "# 2. All text removal after email (remove all texts after email)\n",
    "    text = re.sub(r'[A-Za-z0-9._%+-]+@[A-Za-z0-9.-]+\\.[A-Z|a-z]{2,}.*', '', text, flags=re.IGNORECASE)\n",
    "\n",
    "# 3. Remove the reporter's name and 'journalist' pattern (including processing without spacing)\n",
    "    text = re.sub(r'\\b[가-힣]{2,4}기자\\b|\\b[가-힣]{2,4} 기자\\b', '', text)\n",
    "\n",
    "# 4. Remove the reporter's name and parentheses (e.g. Kim Hyun -ah ()\n",
    "    text = re.sub(r'\\b[가-힣]{2,4}\\s?\\(\\s?', '', text)\n",
    "\n",
    "# 5. Remove the promotional phrase after the email in parentheses\n",
    "    text = re.sub(r'\\([A-Za-z0-9._%+-]+@[A-Za-z0-9.-]+\\.[A-Z|a-z]{2,}.*?\\)', '', text)\n",
    "\n",
    "# 6. Remove promotional phrases such as 'in Naver'\n",
    "    text = re.sub(r'네이버에서.*?청춘뉘우스~', '', text)\n",
    "    text = re.sub(r'연합뉴스TV.*?입니다.', '', text)\n",
    "\n",
    "# 7. Remove Company Information and Web URL (website -related pattern processing)\n",
    "    text = re.sub(r'\\b(?:mk\\.co\\.kr|hankyung\\.com|sedaily\\.com|edaily\\.co\\.kr|fnnews\\.com)\\b.*', '', text)\n",
    "\n",
    "# 8. Remove additional text after e -mail\n",
    "    text = re.sub(r'[A-Za-z0-9._%+-]+@[A-Za-z0-9.-]+\\.[A-Z|a-z]{2,}\\s.*', '', text, flags=re.IGNORECASE)\n",
    "\n",
    "# 9. Copyright phrase and other meta information removal\n",
    "    meta_patterns = [\n",
    "        r'저작권자\\s.+?\\s무단\\s전재\\s및\\s재배포\\s금지',  # 저작권 문구\n",
    "        r'무단\\s전재-재배포\\s금지',  # 재배포 금지 문구\n",
    "        r'GoodNews paper',  # 쿠키뉴스 등\n",
    "        r'제보\\s이메일',  # 제보 관련 정보\n",
    "        r'카카오톡',  # 카톡 관련 정보\n",
    "        r'네이버\\s홈에서\\s‘.+?’\\s뉴스',  # 네이버 관련 정보\n",
    "        r'\\(사진연합뉴스\\)',  # 연합뉴스 사진 저작권\n",
    "        r'종합\\s경제정보\\s미디어\\s-\\s무단전재\\s재배포\\s금지',  # 이데일리\n",
    "        r'뉴스\\s홈페이지',  # 뉴스 홈페이지 관련 정보\n",
    "        r'기자문의\\s및\\s제보'  # 연합뉴스 및 제보 관련\n",
    "    ]\n",
    "\n",
    "# Remove copyright and other unnecessary information\n",
    "    for pattern in meta_patterns:\n",
    "        text = re.sub(pattern, '', text)\n",
    "\n",
    "# 10. Unnecessary space cleanup in text\n",
    "    text = re.sub(r'\\s+', ' ', text).strip()\n",
    "\n",
    "# 11.\n",
    "    text = process_article_footer(text)\n",
    "\n",
    "# 12. After confirming the last 4 letters to see if the reporter's name remains\n",
    "    text = remove_trailing_journalist_name(text)\n",
    "\n",
    "# 13. After dividing it into a sentence unit, leaving only meaningful text\n",
    "    sentences = text.split('. ')\n",
    "    filtered_sentences = [sentence for sentence in sentences if len(sentence) > 10]\n",
    "\n",
    "# Combined with text again\n",
    "    return '. '.join(filtered_sentences)\n",
    "\n"
   ]
  },
  {
   "cell_type": "markdown",
   "metadata": {
    "id": "2QuBqXDczZe7"
   },
   "source": [
    "### Update"
   ]
  },
  {
   "cell_type": "code",
   "execution_count": null,
   "metadata": {
    "colab": {
     "base_uri": "https://localhost:8080/"
    },
    "executionInfo": {
     "elapsed": 1122408,
     "status": "ok",
     "timestamp": 1726475243238,
     "user": {
      "displayName": "백현지",
      "userId": "02510457579208942463"
     },
     "user_tz": -540
    },
    "id": "r3VFV3B1zcMB",
    "outputId": "acac6a88-5586-4bb6-d5e4-d429daf03b0b"
   },
   "outputs": [
    {
     "name": "stdout",
     "output_type": "stream",
     "text": [
      "삼성전자 데이터셋이 업데이트되어 저장되었습니다.\n",
      "SK하이닉스 데이터셋이 업데이트되어 저장되었습니다.\n",
      "LG에너지솔루션 데이터셋이 업데이트되어 저장되었습니다.\n",
      "삼성바이오로직스 데이터셋이 업데이트되어 저장되었습니다.\n",
      "현대차 데이터셋이 업데이트되어 저장되었습니다.\n",
      "기아 데이터셋이 업데이트되어 저장되었습니다.\n",
      "셀트리온 데이터셋이 업데이트되어 저장되었습니다.\n",
      "삼성SDI 데이터셋이 업데이트되어 저장되었습니다.\n",
      "LG화학 데이터셋이 업데이트되어 저장되었습니다.\n",
      "NAVER 데이터셋이 업데이트되어 저장되었습니다.\n",
      "삼성물산 데이터셋이 업데이트되어 저장되었습니다.\n",
      "KB금융 데이터셋이 업데이트되어 저장되었습니다.\n",
      "카카오 데이터셋이 업데이트되어 저장되었습니다.\n",
      "현대모비스 데이터셋이 업데이트되어 저장되었습니다.\n",
      "신한지주 데이터셋이 업데이트되어 저장되었습니다.\n",
      "삼성생명 데이터셋이 업데이트되어 저장되었습니다.\n",
      "하나금융지주 데이터셋이 업데이트되어 저장되었습니다.\n",
      "모든 기업 데이터를 통합한 파일이 저장되었습니다.\n"
     ]
    }
   ],
   "source": [
    "import os\n",
    "import pandas as pd\n",
    "from sklearn.feature_extraction.text import TfidfVectorizer\n",
    "from sklearn.metrics.pairwise import cosine_similarity\n",
    "import re\n",
    "\n",
    "# Calculation and matching the entire text similarity\n",
    "def match_all_texts(raw_texts, processed_texts, processed_df, company_name):\n",
    "# Full data pretreatment\n",
    "    raw_texts_cleaned = [preprocess_article(text) for text in raw_texts]\n",
    "    processed_texts_cleaned = [preprocess_article(text) for text in processed_texts]\n",
    "\n",
    "# TF-IDF vector\n",
    "    vectorizer = TfidfVectorizer()\n",
    "    raw_vectors = vectorizer.fit_transform(raw_texts_cleaned)\n",
    "    processed_vectors = vectorizer.transform(processed_texts_cleaned)\n",
    "\n",
    "#Calculation of similarity\n",
    "    similarities = cosine_similarity(raw_vectors, processed_vectors)\n",
    "\n",
    "# Finding a partner with the highest similarity\n",
    "    matched_indices = similarities.argmax(axis=1)\n",
    "\n",
    "# List to record an unmatched pretreated article\n",
    "    unmatched_processed_articles = set(range(len(processed_texts_cleaned)))  # 전처리된 기사 인덱스\n",
    "    matched_raw_articles = set()  # 중복 방지를 위한 원본 기사 인덱스\n",
    "\n",
    "# Matched text replacement work\n",
    "    for i, match_idx in enumerate(matched_indices):\n",
    "        similarity_score = similarities[i, match_idx]\n",
    "\n",
    "#Duplicate prevention: If the original text is already matched, skip\n",
    "        if i in matched_raw_articles:\n",
    "            continue\n",
    "\n",
    "        if similarity_score > 0.5:  # 유사도가 0.5 이상일 때만 매칭\n",
    "# If it is matched, replace it with the original text\n",
    "            processed_df.at[match_idx, 'full_text'] = raw_texts[i]  # 원본 기사로 대체\n",
    "            matched_raw_articles.add(i)  # 해당 원본 기사를 매칭된 원본 리스트에 추가\n",
    "\n",
    "            if match_idx in unmatched_processed_articles:\n",
    "                unmatched_processed_articles.remove(match_idx)  # 매칭된 전처리 기사 인덱스 제거\n",
    "\n",
    "#Closing unmatched pretreatment articles as it is\n",
    "    return processed_df\n",
    "\n",
    "# File path setting\n",
    "raw_data_base_path = '/content/drive/MyDrive/Kwargs/011. 뉴스 크롤링 결과/csv/'\n",
    "processed_data_base_path = f'/content/drive/MyDrive/Kwargs/020. 전처리/완성/'\n",
    "\n",
    "# Import a list of pre -processed text dataset files\n",
    "processed_files = [f for f in os.listdir(processed_data_base_path) if f.endswith('_preprocessing_clustered.csv')]\n",
    "\n",
    "# File path extraction\n",
    "company_names = [f.split('_preprocessing_clustered.csv')[0] for f in processed_files]\n",
    "\n",
    "# A list to integrate data from all companies\n",
    "all_data = []\n",
    "\n",
    "# Matching execution\n",
    "for company in company_names:\n",
    "    try:\n",
    "#Source data load\n",
    "        raw_file_path = os.path.join(raw_data_base_path, f\"{company}_news_data.csv\")\n",
    "        processed_file_path = os.path.join(processed_data_base_path, f\"{company}_preprocessing_clustered.csv\")\n",
    "\n",
    "        if not os.path.exists(raw_file_path) or not os.path.exists(processed_file_path):\n",
    "            print(f\"해당 파일이 존재하지 않습니다: {company}\")\n",
    "            continue\n",
    "\n",
    "#Data load\n",
    "        raw_data = pd.read_csv(raw_file_path, encoding='utf-8')\n",
    "        processed_data = pd.read_csv(processed_file_path, encoding='utf-8')\n",
    "\n",
    "# Simplified text and pre -processed text heat extract (here and set here and set)\n",
    "        raw_texts = raw_data['content'].fillna('').tolist()  # 원본 텍스트 컬럼명 확인 후 설정\n",
    "        processed_texts = processed_data['full_text'].fillna('').tolist()  # 전처리된 텍스트 컬럼명 확인 후 설정\n",
    "\n",
    "# Update of full matching and pretreated articles\n",
    "        updated_processed_data = match_all_texts(raw_texts, processed_texts, processed_data, company)\n",
    "\n",
    "# Add corporate name column\n",
    "        updated_processed_data['company'] = company\n",
    "\n",
    "#Save each company as an individual CSV file\n",
    "        updated_processed_data.to_csv(f'/content/drive/MyDrive/Kwargs/020. 전처리/업데이트/{company}_A0_0916.csv', index=False, encoding='utf-8-sig')\n",
    "\n",
    "        print(f\"{company} 데이터셋이 업데이트되어 저장되었습니다.\")\n",
    "\n",
    "# Add data by company to an integrated list\n",
    "        all_data.append(updated_processed_data)\n",
    "\n",
    "    except Exception as e:\n",
    "        print(f\"오류 발생: {company} - {str(e)}\")\n",
    "\n",
    "# Integration of data from all companies\n",
    "if all_data:\n",
    "    combined_df = pd.concat(all_data, ignore_index=True)\n",
    "\n",
    "#Save integrated data as one CSV file\n",
    "    combined_df.to_csv('/content/drive/MyDrive/Kwargs/020. 전처리/업데이트/combined_A0_0916.csv', index=False, encoding='utf-8-sig')\n",
    "\n",
    "    print(\"모든 기업 데이터를 통합한 파일이 저장되었습니다.\")\n",
    "else:\n",
    "    print(\"통합할 데이터가 없습니다.\")\n"
   ]
  },
  {
   "cell_type": "markdown",
   "metadata": {
    "id": "AELBJHWhO0IV"
   },
   "source": [
    "## 2. Save updated pretreatment by responding to low data and existing pretreatment data"
   ]
  },
  {
   "cell_type": "markdown",
   "metadata": {
    "id": "G056faVnMgDj"
   },
   "source": [
    "### Model A-1 (Corporate Suitable Labeler) Dataset Preparation Update"
   ]
  },
  {
   "cell_type": "code",
   "execution_count": null,
   "metadata": {
    "colab": {
     "base_uri": "https://localhost:8080/"
    },
    "executionInfo": {
     "elapsed": 149909,
     "status": "ok",
     "timestamp": 1726645775898,
     "user": {
      "displayName": "백현지",
      "userId": "02510457579208942463"
     },
     "user_tz": -540
    },
    "id": "ix7IJdK4Mi9F",
    "outputId": "a0bffb65-1e8a-40da-f70a-c9e6e5c235ca"
   },
   "outputs": [
    {
     "name": "stderr",
     "output_type": "stream",
     "text": [
      "Processing companies:   7%|▋         | 1/14 [00:10<02:21, 10.90s/it]"
     ]
    },
    {
     "name": "stdout",
     "output_type": "stream",
     "text": [
      "삼성물산 데이터셋이 업데이트되어 저장되었습니다.\n"
     ]
    },
    {
     "name": "stderr",
     "output_type": "stream",
     "text": [
      "\r",
      "Processing companies:  14%|█▍        | 2/14 [00:17<01:42,  8.55s/it]"
     ]
    },
    {
     "name": "stdout",
     "output_type": "stream",
     "text": [
      "삼성생명 데이터셋이 업데이트되어 저장되었습니다.\n"
     ]
    },
    {
     "name": "stderr",
     "output_type": "stream",
     "text": [
      "\r",
      "Processing companies:  21%|██▏       | 3/14 [00:25<01:27,  7.98s/it]"
     ]
    },
    {
     "name": "stdout",
     "output_type": "stream",
     "text": [
      "신한지주 데이터셋이 업데이트되어 저장되었습니다.\n"
     ]
    },
    {
     "name": "stderr",
     "output_type": "stream",
     "text": [
      "\r",
      "Processing companies:  29%|██▊       | 4/14 [00:33<01:21,  8.19s/it]"
     ]
    },
    {
     "name": "stdout",
     "output_type": "stream",
     "text": [
      "현대모비스 데이터셋이 업데이트되어 저장되었습니다.\n"
     ]
    },
    {
     "name": "stderr",
     "output_type": "stream",
     "text": [
      "\r",
      "Processing companies:  36%|███▌      | 5/14 [00:42<01:16,  8.53s/it]"
     ]
    },
    {
     "name": "stdout",
     "output_type": "stream",
     "text": [
      "카카오 데이터셋이 업데이트되어 저장되었습니다.\n"
     ]
    },
    {
     "name": "stderr",
     "output_type": "stream",
     "text": [
      "\r",
      "Processing companies:  43%|████▎     | 6/14 [00:50<01:05,  8.23s/it]"
     ]
    },
    {
     "name": "stdout",
     "output_type": "stream",
     "text": [
      "KB금융 데이터셋이 업데이트되어 저장되었습니다.\n"
     ]
    },
    {
     "name": "stderr",
     "output_type": "stream",
     "text": [
      "\r",
      "Processing companies:  50%|█████     | 7/14 [00:59<01:00,  8.59s/it]"
     ]
    },
    {
     "name": "stdout",
     "output_type": "stream",
     "text": [
      "NAVER 데이터셋이 업데이트되어 저장되었습니다.\n"
     ]
    },
    {
     "name": "stderr",
     "output_type": "stream",
     "text": [
      "\r",
      "Processing companies:  57%|█████▋    | 8/14 [01:14<01:03, 10.50s/it]"
     ]
    },
    {
     "name": "stdout",
     "output_type": "stream",
     "text": [
      "삼성SDI 데이터셋이 업데이트되어 저장되었습니다.\n"
     ]
    },
    {
     "name": "stderr",
     "output_type": "stream",
     "text": [
      "\r",
      "Processing companies:  64%|██████▍   | 9/14 [01:22<00:48,  9.73s/it]"
     ]
    },
    {
     "name": "stdout",
     "output_type": "stream",
     "text": [
      "기아 데이터셋이 업데이트되어 저장되었습니다.\n"
     ]
    },
    {
     "name": "stderr",
     "output_type": "stream",
     "text": [
      "\r",
      "Processing companies:  71%|███████▏  | 10/14 [01:31<00:38,  9.61s/it]"
     ]
    },
    {
     "name": "stdout",
     "output_type": "stream",
     "text": [
      "현대차 데이터셋이 업데이트되어 저장되었습니다.\n"
     ]
    },
    {
     "name": "stderr",
     "output_type": "stream",
     "text": [
      "\r",
      "Processing companies:  79%|███████▊  | 11/14 [01:44<00:31, 10.61s/it]"
     ]
    },
    {
     "name": "stdout",
     "output_type": "stream",
     "text": [
      "SK하이닉스 데이터셋이 업데이트되어 저장되었습니다.\n"
     ]
    },
    {
     "name": "stderr",
     "output_type": "stream",
     "text": [
      "\r",
      "Processing companies:  86%|████████▌ | 12/14 [01:51<00:19,  9.51s/it]"
     ]
    },
    {
     "name": "stdout",
     "output_type": "stream",
     "text": [
      "삼성전자 데이터셋이 업데이트되어 저장되었습니다.\n"
     ]
    },
    {
     "name": "stderr",
     "output_type": "stream",
     "text": [
      "\r",
      "Processing companies:  93%|█████████▎| 13/14 [02:05<00:10, 10.92s/it]"
     ]
    },
    {
     "name": "stdout",
     "output_type": "stream",
     "text": [
      "삼성바이오로직스 데이터셋이 업데이트되어 저장되었습니다.\n"
     ]
    },
    {
     "name": "stderr",
     "output_type": "stream",
     "text": [
      "Processing companies: 100%|██████████| 14/14 [02:13<00:00,  9.53s/it]"
     ]
    },
    {
     "name": "stdout",
     "output_type": "stream",
     "text": [
      "포스코 홀딩스 데이터셋이 업데이트되어 저장되었습니다.\n"
     ]
    },
    {
     "name": "stderr",
     "output_type": "stream",
     "text": [
      "\n"
     ]
    },
    {
     "name": "stdout",
     "output_type": "stream",
     "text": [
      "모든 기업 데이터를 통합한 파일이 저장되었습니다.\n"
     ]
    }
   ],
   "source": [
    "import os\n",
    "import pandas as pd\n",
    "from tqdm import tqdm  # 진행 상황 시각화용\n",
    "\n",
    "#Confirmed and column overall after the entire text matching\n",
    "def match_and_preprocess(raw_texts, processed_texts, processed_df, company_name):\n",
    "# 1. Assuming that there is already a process_all_texts function that has already been restored, and content column overwrites\n",
    "    processed_df['content'] = processed_df['content'].apply(preprocess_article)\n",
    "\n",
    "# 2. Full_Text Column combined with a title and a content between one space\n",
    "    processed_df['full_text'] = processed_df['title'] + ' ' + processed_df['content']\n",
    "\n",
    "    return processed_df\n",
    "\n",
    "# File path setting\n",
    "raw_data_base_path = '/content/drive/MyDrive/Kwargs/011. 뉴스 크롤링 결과/csv/'\n",
    "processed_data_base_path = f'/content/drive/MyDrive/Kwargs/021. 기업적합도 필터/legacy/'\n",
    "\n",
    "# Import a list of pre -processed text dataset files\n",
    "processed_files = [f for f in os.listdir(processed_data_base_path) if f.endswith('_A1_relate_scored.csv')]\n",
    "\n",
    "# Extraction of corporate name\n",
    "company_names = [f.split('_A1_relate_scored.csv')[0] for f in processed_files]\n",
    "\n",
    "# A list to integrate all corporate data\n",
    "all_data = []\n",
    "\n",
    "# Visualization of matching progress using TQDM\n",
    "for company in tqdm(company_names, desc=\"Processing companies\"):\n",
    "    try:\n",
    "#Source data load\n",
    "        raw_file_path = os.path.join(raw_data_base_path, f\"{company}_news_data.csv\")\n",
    "        processed_file_path = os.path.join(processed_data_base_path, f\"{company}_A1_relate_scored.csv\")\n",
    "\n",
    "        if not os.path.exists(raw_file_path) or not os.path.exists(processed_file_path):\n",
    "            print(f\"해당 파일이 존재하지 않습니다: {company}\")\n",
    "            continue\n",
    "\n",
    "#Data load\n",
    "        raw_data = pd.read_csv(raw_file_path, encoding='utf-8')\n",
    "        processed_data = pd.read_csv(processed_file_path, encoding='utf-8')\n",
    "\n",
    "# Extracting the original text and the pre -processed text heat extract\n",
    "        raw_texts = raw_data['content'].fillna('').tolist()\n",
    "        processed_texts = processed_data['full_text'].fillna('').tolist()\n",
    "\n",
    "# Match_and_preprocess function full match and pre -processed article update\n",
    "        updated_processed_data = match_and_preprocess(raw_texts, processed_texts, processed_data, company)\n",
    "\n",
    "# Add corporate name column\n",
    "        updated_processed_data['company'] = company\n",
    "\n",
    "#Save as a data CSV by company\n",
    "        updated_processed_data.to_csv(f'/content/drive/MyDrive/Kwargs/021. 기업적합도 필터/업데이트/{company}_A1_remaster.csv', index=False, encoding='utf-8-sig')\n",
    "\n",
    "        print(f\"{company} 데이터셋이 업데이트되어 저장되었습니다.\")\n",
    "\n",
    "# Add each company data to an integrated list\n",
    "        all_data.append(updated_processed_data)\n",
    "\n",
    "    except Exception as e:\n",
    "        print(f\"오류 발생: {company} - {str(e)}\")\n",
    "\n",
    "# Integrate all corporate data\n",
    "if all_data:\n",
    "    combined_df = pd.concat(all_data, ignore_index=True)\n",
    "\n",
    "#Save integrated data as one CSV file\n",
    "    combined_df.to_csv('/content/drive/MyDrive/Kwargs/021. 기업적합도 필터/업데이트/A1_remaster_COMBINED.csv', index=False, encoding='utf-8-sig')\n",
    "\n",
    "    print(\"모든 기업 데이터를 통합한 파일이 저장되었습니다.\")\n",
    "else:\n",
    "    print(\"통합할 데이터가 없습니다.\")\n"
   ]
  },
  {
   "cell_type": "markdown",
   "metadata": {
    "id": "ltX30saZMWFt"
   },
   "source": [
    "### Model A-2 (ESG-related labeler) Dataset pretreatment update"
   ]
  },
  {
   "cell_type": "code",
   "execution_count": null,
   "metadata": {
    "colab": {
     "base_uri": "https://localhost:8080/"
    },
    "executionInfo": {
     "elapsed": 90441,
     "status": "ok",
     "timestamp": 1726649655427,
     "user": {
      "displayName": "백현지",
      "userId": "02510457579208942463"
     },
     "user_tz": -540
    },
    "id": "ygvzCdY6oPu1",
    "outputId": "5429bcc3-786b-4110-aba0-50eb7fcfd176"
   },
   "outputs": [
    {
     "name": "stderr",
     "output_type": "stream",
     "text": [
      "Processing companies:   7%|▋         | 1/15 [00:02<00:40,  2.89s/it]"
     ]
    },
    {
     "name": "stdout",
     "output_type": "stream",
     "text": [
      "오류 발생: 셀트리온 - object of type 'float' has no len()\n"
     ]
    },
    {
     "name": "stderr",
     "output_type": "stream",
     "text": [
      "\r",
      "Processing companies:  13%|█▎        | 2/15 [00:08<01:00,  4.66s/it]"
     ]
    },
    {
     "name": "stdout",
     "output_type": "stream",
     "text": [
      "삼성물산 데이터셋이 업데이트되어 저장되었습니다.\n"
     ]
    },
    {
     "name": "stderr",
     "output_type": "stream",
     "text": [
      "\r",
      "Processing companies:  20%|██        | 3/15 [00:12<00:51,  4.31s/it]"
     ]
    },
    {
     "name": "stdout",
     "output_type": "stream",
     "text": [
      "삼성생명 데이터셋이 업데이트되어 저장되었습니다.\n"
     ]
    },
    {
     "name": "stderr",
     "output_type": "stream",
     "text": [
      "\r",
      "Processing companies:  27%|██▋       | 4/15 [00:17<00:49,  4.54s/it]"
     ]
    },
    {
     "name": "stdout",
     "output_type": "stream",
     "text": [
      "신한지주 데이터셋이 업데이트되어 저장되었습니다.\n"
     ]
    },
    {
     "name": "stderr",
     "output_type": "stream",
     "text": [
      "\r",
      "Processing companies:  33%|███▎      | 5/15 [00:22<00:46,  4.63s/it]"
     ]
    },
    {
     "name": "stdout",
     "output_type": "stream",
     "text": [
      "현대모비스 데이터셋이 업데이트되어 저장되었습니다.\n"
     ]
    },
    {
     "name": "stderr",
     "output_type": "stream",
     "text": [
      "\r",
      "Processing companies:  40%|████      | 6/15 [00:28<00:46,  5.21s/it]"
     ]
    },
    {
     "name": "stdout",
     "output_type": "stream",
     "text": [
      "카카오 데이터셋이 업데이트되어 저장되었습니다.\n"
     ]
    },
    {
     "name": "stderr",
     "output_type": "stream",
     "text": [
      "\r",
      "Processing companies:  47%|████▋     | 7/15 [00:34<00:43,  5.42s/it]"
     ]
    },
    {
     "name": "stdout",
     "output_type": "stream",
     "text": [
      "KB금융 데이터셋이 업데이트되어 저장되었습니다.\n"
     ]
    },
    {
     "name": "stderr",
     "output_type": "stream",
     "text": [
      "\r",
      "Processing companies:  53%|█████▎    | 8/15 [00:38<00:34,  4.94s/it]"
     ]
    },
    {
     "name": "stdout",
     "output_type": "stream",
     "text": [
      "NAVER 데이터셋이 업데이트되어 저장되었습니다.\n"
     ]
    },
    {
     "name": "stderr",
     "output_type": "stream",
     "text": [
      "\r",
      "Processing companies:  60%|██████    | 9/15 [00:45<00:33,  5.59s/it]"
     ]
    },
    {
     "name": "stdout",
     "output_type": "stream",
     "text": [
      "삼성SDI 데이터셋이 업데이트되어 저장되었습니다.\n"
     ]
    },
    {
     "name": "stderr",
     "output_type": "stream",
     "text": [
      "\r",
      "Processing companies:  67%|██████▋   | 10/15 [00:51<00:27,  5.58s/it]"
     ]
    },
    {
     "name": "stdout",
     "output_type": "stream",
     "text": [
      "기아 데이터셋이 업데이트되어 저장되었습니다.\n"
     ]
    },
    {
     "name": "stderr",
     "output_type": "stream",
     "text": [
      "\r",
      "Processing companies:  73%|███████▎  | 11/15 [00:58<00:24,  6.12s/it]"
     ]
    },
    {
     "name": "stdout",
     "output_type": "stream",
     "text": [
      "현대차 데이터셋이 업데이트되어 저장되었습니다.\n"
     ]
    },
    {
     "name": "stderr",
     "output_type": "stream",
     "text": [
      "\r",
      "Processing companies:  80%|████████  | 12/15 [01:06<00:19,  6.61s/it]"
     ]
    },
    {
     "name": "stdout",
     "output_type": "stream",
     "text": [
      "SK하이닉스 데이터셋이 업데이트되어 저장되었습니다.\n"
     ]
    },
    {
     "name": "stderr",
     "output_type": "stream",
     "text": [
      "\r",
      "Processing companies:  87%|████████▋ | 13/15 [01:12<00:12,  6.42s/it]"
     ]
    },
    {
     "name": "stdout",
     "output_type": "stream",
     "text": [
      "삼성전자 데이터셋이 업데이트되어 저장되었습니다.\n"
     ]
    },
    {
     "name": "stderr",
     "output_type": "stream",
     "text": [
      "\r",
      "Processing companies:  93%|█████████▎| 14/15 [01:17<00:06,  6.13s/it]"
     ]
    },
    {
     "name": "stdout",
     "output_type": "stream",
     "text": [
      "삼성바이오로직스 데이터셋이 업데이트되어 저장되었습니다.\n"
     ]
    },
    {
     "name": "stderr",
     "output_type": "stream",
     "text": [
      "Processing companies: 100%|██████████| 15/15 [01:21<00:00,  5.45s/it]"
     ]
    },
    {
     "name": "stdout",
     "output_type": "stream",
     "text": [
      "포스코 홀딩스 데이터셋이 업데이트되어 저장되었습니다.\n"
     ]
    },
    {
     "name": "stderr",
     "output_type": "stream",
     "text": [
      "\n"
     ]
    },
    {
     "name": "stdout",
     "output_type": "stream",
     "text": [
      "모든 기업 데이터를 통합한 파일이 저장되었습니다.\n"
     ]
    }
   ],
   "source": [
    "import os\n",
    "import pandas as pd\n",
    "from tqdm import tqdm  # 진행 상황 시각화용\n",
    "\n",
    "#Confirmed and column overall after the entire text matching\n",
    "def match_and_preprocess(raw_texts, processed_texts, processed_df, company_name):\n",
    "# 1. Assuming that there is already a process_all_texts function that has already been restored, and content column overwrites\n",
    "    processed_df['content'] = processed_df['content'].apply(preprocess_article)\n",
    "\n",
    "# 2. Full_Text Column combined with a title and a content between one space\n",
    "    processed_df['full_text'] = processed_df['title'] + ' ' + processed_df['content']\n",
    "\n",
    "    return processed_df\n",
    "\n",
    "# File Path Set/Content/Drive/MyDrive/Kwargs/022. ESG -related filter\n",
    "raw_data_base_path = '/content/drive/MyDrive/Kwargs/011. 뉴스 크롤링 결과/csv/'\n",
    "processed_data_base_path = f'/content/drive/MyDrive/Kwargs/022. esg관련도 필터/legacy/'\n",
    "\n",
    "# Import a list of pre -processed text dataset files/Content/Drive/MyDrive/Kwargs/022. ESG -related filter/Legacy/KB Finance_A2_ESG_RELATE_SCORED.CSV\n",
    "processed_files = [f for f in os.listdir(processed_data_base_path) if f.endswith('_A2_esg_relate_scored.csv')]\n",
    "\n",
    "# Extraction of corporate name\n",
    "company_names = [f.split('_A2_esg_relate_scored.csv')[0] for f in processed_files]\n",
    "\n",
    "# A list to integrate all corporate data\n",
    "all_data = []\n",
    "\n",
    "# Visualization of matching progress using TQDM\n",
    "for company in tqdm(company_names, desc=\"Processing companies\"):\n",
    "    try:\n",
    "#Source data load\n",
    "        raw_file_path = os.path.join(raw_data_base_path, f\"{company}_news_data.csv\")\n",
    "        processed_file_path = os.path.join(processed_data_base_path, f\"{company}_A2_esg_relate_scored.csv\")\n",
    "\n",
    "        if not os.path.exists(raw_file_path) or not os.path.exists(processed_file_path):\n",
    "            print(f\"해당 파일이 존재하지 않습니다: {company}\")\n",
    "            continue\n",
    "\n",
    "#Data load\n",
    "        raw_data = pd.read_csv(raw_file_path, encoding='utf-8')\n",
    "        processed_data = pd.read_csv(processed_file_path, encoding='utf-8')\n",
    "\n",
    "# Extracting the original text and the pre -processed text heat extract\n",
    "        raw_texts = raw_data['content'].fillna('').tolist()\n",
    "        processed_texts = processed_data['full_text'].fillna('').tolist()\n",
    "\n",
    "# Match_and_preprocess function full match and pre -processed article update\n",
    "        updated_processed_data = match_and_preprocess(raw_texts, processed_texts, processed_data, company)\n",
    "\n",
    "# Add corporate name column\n",
    "        updated_processed_data['company'] = company\n",
    "\n",
    "#Save as a data CSV by company\n",
    "        updated_processed_data.to_csv(f'/content/drive/MyDrive/Kwargs/022. esg관련도 필터/업데이트/{company}_A2_remaster.csv', index=False, encoding='utf-8-sig')\n",
    "\n",
    "        print(f\"{company} 데이터셋이 업데이트되어 저장되었습니다.\")\n",
    "\n",
    "# Add each company data to an integrated list\n",
    "        all_data.append(updated_processed_data)\n",
    "\n",
    "    except Exception as e:\n",
    "        print(f\"오류 발생: {company} - {str(e)}\")\n",
    "\n",
    "# Integrate all corporate data\n",
    "if all_data:\n",
    "    combined_df = pd.concat(all_data, ignore_index=True)\n",
    "\n",
    "#Save integrated data as one CSV file\n",
    "    combined_df.to_csv('/content/drive/MyDrive/Kwargs/022. esg관련도 필터/업데이트/A2_remaster_COMBINED.csv', index=False, encoding='utf-8-sig')\n",
    "\n",
    "    print(\"모든 기업 데이터를 통합한 파일이 저장되었습니다.\")\n",
    "else:\n",
    "    print(\"통합할 데이터가 없습니다.\")\n"
   ]
  },
  {
   "cell_type": "markdown",
   "metadata": {
    "id": "lZiUxiUVMpWc"
   },
   "source": [
    "### Model A-3 (ESG) Dataset pretreatment update"
   ]
  },
  {
   "cell_type": "code",
   "execution_count": null,
   "metadata": {
    "colab": {
     "base_uri": "https://localhost:8080/"
    },
    "executionInfo": {
     "elapsed": 33810,
     "status": "ok",
     "timestamp": 1726650659510,
     "user": {
      "displayName": "백현지",
      "userId": "02510457579208942463"
     },
     "user_tz": -540
    },
    "id": "zytT7ljYH3DL",
    "outputId": "52a30135-eeae-455b-f57b-bcd3cd7a678f"
   },
   "outputs": [
    {
     "name": "stderr",
     "output_type": "stream",
     "text": [
      "Processing companies:   7%|▋         | 1/15 [00:01<00:20,  1.48s/it]"
     ]
    },
    {
     "name": "stdout",
     "output_type": "stream",
     "text": [
      "오류 발생: 셀트리온 - object of type 'float' has no len()\n"
     ]
    },
    {
     "name": "stderr",
     "output_type": "stream",
     "text": [
      "\r",
      "Processing companies:  13%|█▎        | 2/15 [00:02<00:18,  1.45s/it]"
     ]
    },
    {
     "name": "stdout",
     "output_type": "stream",
     "text": [
      "삼성생명 데이터셋이 업데이트되어 저장되었습니다.\n"
     ]
    },
    {
     "name": "stderr",
     "output_type": "stream",
     "text": [
      "\r",
      "Processing companies:  20%|██        | 3/15 [00:05<00:24,  2.04s/it]"
     ]
    },
    {
     "name": "stdout",
     "output_type": "stream",
     "text": [
      "현대차 데이터셋이 업데이트되어 저장되었습니다.\n"
     ]
    },
    {
     "name": "stderr",
     "output_type": "stream",
     "text": [
      "\r",
      "Processing companies:  27%|██▋       | 4/15 [00:07<00:19,  1.81s/it]"
     ]
    },
    {
     "name": "stdout",
     "output_type": "stream",
     "text": [
      "신한지주 데이터셋이 업데이트되어 저장되었습니다.\n"
     ]
    },
    {
     "name": "stderr",
     "output_type": "stream",
     "text": [
      "\r",
      "Processing companies:  33%|███▎      | 5/15 [00:08<00:17,  1.78s/it]"
     ]
    },
    {
     "name": "stdout",
     "output_type": "stream",
     "text": [
      "현대모비스 데이터셋이 업데이트되어 저장되었습니다.\n"
     ]
    },
    {
     "name": "stderr",
     "output_type": "stream",
     "text": [
      "\r",
      "Processing companies:  40%|████      | 6/15 [00:10<00:17,  1.90s/it]"
     ]
    },
    {
     "name": "stdout",
     "output_type": "stream",
     "text": [
      "카카오 데이터셋이 업데이트되어 저장되었습니다.\n"
     ]
    },
    {
     "name": "stderr",
     "output_type": "stream",
     "text": [
      "\r",
      "Processing companies:  47%|████▋     | 7/15 [00:12<00:14,  1.78s/it]"
     ]
    },
    {
     "name": "stdout",
     "output_type": "stream",
     "text": [
      "KB금융 데이터셋이 업데이트되어 저장되었습니다.\n"
     ]
    },
    {
     "name": "stderr",
     "output_type": "stream",
     "text": [
      "\r",
      "Processing companies:  53%|█████▎    | 8/15 [00:13<00:11,  1.68s/it]"
     ]
    },
    {
     "name": "stdout",
     "output_type": "stream",
     "text": [
      "NAVER 데이터셋이 업데이트되어 저장되었습니다.\n"
     ]
    },
    {
     "name": "stderr",
     "output_type": "stream",
     "text": [
      "\r",
      "Processing companies:  60%|██████    | 9/15 [00:16<00:11,  1.95s/it]"
     ]
    },
    {
     "name": "stdout",
     "output_type": "stream",
     "text": [
      "삼성SDI 데이터셋이 업데이트되어 저장되었습니다.\n"
     ]
    },
    {
     "name": "stderr",
     "output_type": "stream",
     "text": [
      "\r",
      "Processing companies:  67%|██████▋   | 10/15 [00:18<00:10,  2.10s/it]"
     ]
    },
    {
     "name": "stdout",
     "output_type": "stream",
     "text": [
      "SK하이닉스 데이터셋이 업데이트되어 저장되었습니다.\n"
     ]
    },
    {
     "name": "stderr",
     "output_type": "stream",
     "text": [
      "\r",
      "Processing companies:  73%|███████▎  | 11/15 [00:20<00:08,  2.03s/it]"
     ]
    },
    {
     "name": "stdout",
     "output_type": "stream",
     "text": [
      "삼성전자 데이터셋이 업데이트되어 저장되었습니다.\n"
     ]
    },
    {
     "name": "stderr",
     "output_type": "stream",
     "text": [
      "\r",
      "Processing companies:  80%|████████  | 12/15 [00:23<00:06,  2.14s/it]"
     ]
    },
    {
     "name": "stdout",
     "output_type": "stream",
     "text": [
      "삼성바이오로직스 데이터셋이 업데이트되어 저장되었습니다.\n"
     ]
    },
    {
     "name": "stderr",
     "output_type": "stream",
     "text": [
      "\r",
      "Processing companies:  87%|████████▋ | 13/15 [00:24<00:03,  1.85s/it]"
     ]
    },
    {
     "name": "stdout",
     "output_type": "stream",
     "text": [
      "포스코 홀딩스 데이터셋이 업데이트되어 저장되었습니다.\n"
     ]
    },
    {
     "name": "stderr",
     "output_type": "stream",
     "text": [
      "\r",
      "Processing companies:  93%|█████████▎| 14/15 [00:27<00:02,  2.30s/it]"
     ]
    },
    {
     "name": "stdout",
     "output_type": "stream",
     "text": [
      "기아 데이터셋이 업데이트되어 저장되었습니다.\n"
     ]
    },
    {
     "name": "stderr",
     "output_type": "stream",
     "text": [
      "Processing companies: 100%|██████████| 15/15 [00:32<00:00,  2.15s/it]"
     ]
    },
    {
     "name": "stdout",
     "output_type": "stream",
     "text": [
      "삼성물산 데이터셋이 업데이트되어 저장되었습니다.\n"
     ]
    },
    {
     "name": "stderr",
     "output_type": "stream",
     "text": [
      "\n"
     ]
    },
    {
     "name": "stdout",
     "output_type": "stream",
     "text": [
      "모든 기업 데이터를 통합한 파일이 저장되었습니다.\n"
     ]
    }
   ],
   "source": [
    "import os\n",
    "import pandas as pd\n",
    "from tqdm import tqdm  # 진행 상황 시각화용\n",
    "\n",
    "#Confirmed and column overall after the entire text matching\n",
    "def match_and_preprocess(raw_texts, processed_texts, processed_df, company_name):\n",
    "# 1. Assuming that there is already a process_all_texts function that has already been restored, and content column overwrites\n",
    "    processed_df['content'] = processed_df['content'].apply(preprocess_article)\n",
    "\n",
    "# 2. Full_Text Column combined with a title and a content between one space\n",
    "    processed_df['full_text'] = processed_df['title'] + ' ' + processed_df['content']\n",
    "\n",
    "    return processed_df\n",
    "\n",
    "# File Path Settings/Content/Drive/MyDrive/Kwargs/023. ESG Axic Labeler/Legacy/KB Finance_A3_ESG_POSIN\n",
    "raw_data_base_path = '/content/drive/MyDrive/Kwargs/011. 뉴스 크롤링 결과/csv/'\n",
    "processed_data_base_path = f'/content/drive/MyDrive/Kwargs/023. esg 긍부정도 라벨러/legacy/'\n",
    "\n",
    "# Import a list of pre -processed text dataset files\n",
    "processed_files = [f for f in os.listdir(processed_data_base_path) if f.endswith('_A3_esg_positivity.csv')]\n",
    "\n",
    "# Extraction of corporate name\n",
    "company_names = [f.split('_A3_esg_positivity.csv')[0] for f in processed_files]\n",
    "\n",
    "# A list to integrate all corporate data\n",
    "all_data = []\n",
    "\n",
    "# Visualization of matching progress using TQDM\n",
    "for company in tqdm(company_names, desc=\"Processing companies\"):\n",
    "    try:\n",
    "#Source data load\n",
    "        raw_file_path = os.path.join(raw_data_base_path, f\"{company}_news_data.csv\")\n",
    "        processed_file_path = os.path.join(processed_data_base_path, f\"{company}_A3_esg_positivity.csv\")\n",
    "\n",
    "        if not os.path.exists(raw_file_path) or not os.path.exists(processed_file_path):\n",
    "            print(f\"해당 파일이 존재하지 않습니다: {company}\")\n",
    "            continue\n",
    "\n",
    "#Data load\n",
    "        raw_data = pd.read_csv(raw_file_path, encoding='utf-8')\n",
    "        processed_data = pd.read_csv(processed_file_path, encoding='utf-8')\n",
    "\n",
    "# Extracting the original text and the pre -processed text heat extract\n",
    "        raw_texts = raw_data['content'].fillna('').tolist()\n",
    "        processed_texts = processed_data['full_text'].fillna('').tolist()\n",
    "\n",
    "# Match_and_preprocess function full match and pre -processed article update\n",
    "        updated_processed_data = match_and_preprocess(raw_texts, processed_texts, processed_data, company)\n",
    "\n",
    "# Add corporate name column\n",
    "        updated_processed_data['company'] = company\n",
    "\n",
    "#Save as a data CSV by company\n",
    "        updated_processed_data.to_csv(f'/content/drive/MyDrive/Kwargs/023. esg 긍부정도 라벨러/업데이트/{company}_A3_remaster.csv', index=False, encoding='utf-8-sig')\n",
    "\n",
    "        print(f\"{company} 데이터셋이 업데이트되어 저장되었습니다.\")\n",
    "\n",
    "# Add each company data to an integrated list\n",
    "        all_data.append(updated_processed_data)\n",
    "\n",
    "    except Exception as e:\n",
    "        print(f\"오류 발생: {company} - {str(e)}\")\n",
    "\n",
    "# Integrate all corporate data\n",
    "if all_data:\n",
    "    combined_df = pd.concat(all_data, ignore_index=True)\n",
    "\n",
    "#Save integrated data as one CSV file\n",
    "    combined_df.to_csv('/content/drive/MyDrive/Kwargs/023. esg 긍부정도 라벨러/업데이트/A3_remaster_COMBINED.csv', index=False, encoding='utf-8-sig')\n",
    "\n",
    "    print(\"모든 기업 데이터를 통합한 파일이 저장되었습니다.\")\n",
    "else:\n",
    "    print(\"통합할 데이터가 없습니다.\")"
   ]
  },
  {
   "cell_type": "markdown",
   "metadata": {
    "id": "j2l-JE8oY6ur"
   },
   "source": [
    "## 3. Anonymization work for generalization of generalization by step"
   ]
  },
  {
   "cell_type": "code",
   "execution_count": null,
   "metadata": {
    "colab": {
     "base_uri": "https://localhost:8080/"
    },
    "executionInfo": {
     "elapsed": 659795,
     "status": "ok",
     "timestamp": 1726652718565,
     "user": {
      "displayName": "백현지",
      "userId": "02510457579208942463"
     },
     "user_tz": -540
    },
    "id": "WPKafQ0zcw-x",
    "outputId": "e913ced3-3b28-4134-b8ff-d1d8f241de43"
   },
   "outputs": [
    {
     "name": "stderr",
     "output_type": "stream",
     "text": [
      "익명화 진행 중:   0%|          | 26/85771 [00:00<09:54, 144.35it/s]"
     ]
    },
    {
     "name": "stdout",
     "output_type": "stream",
     "text": [
      "Row 0 기업명 -> 익명화 이름 매핑: {'한화케미칼': 'S사', '동원산업': 'Q사', 'CJ제일제당': 'W사', 'CJ대한통운': 'C사', '삼성전자': 'Y사', 'LG화학': 'E사', '대우조선해양': 'O사', 'KCC': 'B사', '삼성물산': 'M사', '태광산업': 'D사'}\n",
      "Row 0 after anonymization - 기업명: M사, full_text: 스페셜 리포트] 한국에는 ‘CEO 시장’이 없다 두 부문은 2014년까지 통합 운영돼오다가 2015년 각 부문의 전문성 제고를 위해 분리됐다가 3년 만에 재통합됐다. 한화그룹이 외부 인사에게 화약과 방산부문 수장이란 중책을 맡긴 것을 두고 이례적이라는 평이 지배적이다. 옥 사장은 삼성전자에서 LCD사업부 지원팀장. 부문 경영지원실장을 거쳐 부사장까지 오른 인물이다. 2016년 한화그룹에 합류해 S사 폴리실리콘사업부 사장. 한화건설 관리담당 사장을 거쳤고 2017년엔 비. 한화 출신 인사로는 처음으로 화약부문 대표를 맡아 주목을 받았다. 김승연 한화그룹 회장이 그룹의 핵심 사업을 삼성 출신에게 맡긴 것을 두고 화약. 방산부문을 성장시키겠다는 의지가 반영된 것이라는 해석이 나온다. 지난해 말 현대차그룹은 부회장 및 사장단 인사 교체를 대대적으로 단행했다. 이 인사 중 가장 돋보였던 인물은 알버트 비어만 현대. 기아차 차량성능담당 사장이다. 그는 신임 연구개발본부장을 맡게 됐다. 외국인이 연구개발본부장에 오른 첫 사례였다. 비어만 본부장은 독일 BMW 출신으로 2015년 현대차그룹에 합류했다. 이에 앞서 LG그룹 역시 지난해 11월 E사 신임 대표이사 부회장에 3M 출신 신학철 수석부회장을 영입해 업계의 주목을 받았다. 외부 영입 CEO 25. 에 불과 재계에서 이른바 . 가 무너지고 있는 현상이 잇달아 포착되고 있다. 조직의 발전과 성과를 위해서라면 다른 기업 출신 인사들도 과감히 경영자로 영입하는 시대가 열리고 있는 것이다. 대기업 중심으로 퍼져나가고 있는 순혈주의 타파 움직임이 기업 전체로 이어질지 주목되는 시점이다. 한화그룹과 현대차그룹같이 외부 출신 CEO 영입이 이례적으로 다가오는 이유는 간단하다. 그동안 국내 대기업의 경우 CEO는 내부 출신을 선호하는 경향이 워낙 강했기 때문이다. 최근 기업경영성과 평가사이트 . 가 발표한 결과에 따르면 국내 대기업 최고경영자. 의 절반이 내부 승진자이지만 외부에서 영입된 전문가도 4분의 1에 이르는 것으로 나타났다. 또 외부 출신 CEO를 영입할 경우 범삼성 출신에 대한 선호도가 높아 전체 외부 영입 CEO의 16. 를 차지하는 것으로 집계됐다. O사 등이 외부 영입 CEO를 선호하고. 삼성 등은 반대로 내부 승진자를 중시하는 것으로 분석됐다. CEO스코어가 지난 1월 4일 기준 국내 500대 기업 현직 대표이사. 657명 중 이력이 공개된 566명을 조사한 결과 절반이 넘는 51. 가 공채 입사 후 내부 승진한 경우였다. 외부에서 영입한 CEO는 25. 외부 영입 CEO를 출신별로 보면. 범삼성 계열사 출신이 143명 중 16. 로 가장 선호도가 높았다. 황창규 KT 회장과 옥경석 . 이명우 Q사 사장. 안중구 대우전자 대표 등이 Y사 출신이며. 조병익 흥국생명 사장. 홍현민 D사 사장. 차정호 신세계인터내셔날 사장. 등도 삼성그룹 출신이다. 다음으로는 외국계 출신 CEO가 12. 주로 공기업에 포진해 있는 관료 출신 CEO가 10. 금융사 출신 CEO가 10. 범LG 출신이 각각 4. 500대 기업을 그룹별로 나눠 보면. CJ가 CEO 12명 중 7명을 외부 영입 전문가로 채워 가장 많았고. 부영과 SK도 각각 4명씩이었다. CJ의 외부 영입 CEO는 신현재 W사 사장. 을 비롯해 박근태 C사 사장. 옛 대우인터내셔널 출신. 문종석 CJ프레시웨이 대표. 반대로 현대자동차를 비롯해 현대중공업. B사 등 10개 그룹은 500대 기업에 포함된 계열사 CEO를 100. 내부 출신으로 채웠다. 삼성도 18개 계열사의 대표이사 22명 중 20명. 도 내부 출신 비중이 90. 시장 장악한 삼성 출신 CEO 국내 CEO 시장에서 압도적인 비중을 차지하는 삼성 출신 가운데 가장 유명한 인물은 단연 황창규 KT그룹 회장이라 할 수 있다. 황 회장은 Y사 재직 시절 메모리반도체 용량이 1년에 두 배 증가한다는 . 을 통해 Y사 반도체 사업 신화를 이끌어냈다. 2014년 KT그룹 회장 취임 후 경영성과를 인정받아 2017년 3월 연임에 성공했다. 하지만 KT그룹에서의 재직기간이 길어지면서 그동안 쌓아온 명성에도 금이 가는 모습이다. KT는 지난 2002년 민영화됐지만 정권이 바뀔 때마다 CEO들이 검. 경 수사 대상에 오르며 사퇴 압박을 받아왔다. 황 회장 역시 마찬가지다. 황 회장은 정치자금법 위반 혐의로 수사를 받고 있다. 일각에선 중도사퇴 가능성도 제기하지만 황 회장은 최근 공개석상에서 내년 3월로 예정돼 있는 임기까지 KT 회장직을 유지하고 이후 퇴진하겠다는 뜻을 밝혔다. 황 회장은 지난 1월 25일 스위스 다보스 세계경제포럼 폐막 직후 열린 현지 기자간담회에서 연임 관련 질문을 받자 . 통신 기업을 6년간 이끈다는 것은 너무 힘든 일. 젊고 유능한 인재가 경영을 맡기를 바란다. 오는 3월부터 사장단과 부사장단을 대상으로 차세대 경영자 교육을 시작할 것. 황 회장의 발언은 남은 임기를 지키겠다는 의지로 해석되지만 현실은 녹록지 않다. KT 민영화 후 첫 CEO였던 이용경 전 사장은 2005년 연임 포기를 선언하고 8월 물러났다. 은 연임에 성공하기는 했지만 배임. 횡령 등의 혐의로 수사를 받아오다 중도 퇴진했다. 황 회장이 내년 3월 임기 만료에 맞춰 퇴진하면 연임 후 임기까지 무사히 마친 유일한 사례가 될 수 있다. 앞서 경찰은 지난 1월 17일 회삿돈으로 비자금을 조성해 국회의원들에게 . 을 한 혐의로 황 회장을 비롯한 KT 전. 현직 임원 7명을 불구속 기소 의견으로 검찰에 송치했다. 경찰에 따르면 황 회장 등 임직원들은 2014년 5월부터 2017년 10월까지 19. 20대 국회의원 99명에게 4억3790만원의 불법 정치자금을 후원했다는 혐의를 받고 있다. CEO 재활용하는 이유 삼성 출신 CEO 선호 경향과 함께 국내 CEO 시장에서 두드러진 현상은 내부 출신 CEO의 . 특히 재벌기업의 CEO 재활용 경향이 짙다는 연구결과도 있다. 김수정 한국자산관리공사 책임연구원과 서강대 박종훈 교수. 김창수 교수가 발표한 논문 . 기업집단의 최고경영자 활용 및 퇴출에 관한 연구. 에 따르면 일반 기업의 CEO는 퇴직하면 기업 외부에서 새로운 일자리를 찾아야 하는 반면 재벌집단의 CEO는 다른 계열사에서 제2의 직장을 찾는 것으로 나타났다. 이 논문은 기업집단 수준에서 내부 인력시장을 통한 최고경영자의 활용 및 퇴출 현상이 어떻게 발생하는지를 알아보기 위해 기업집단에 속한 계열사에서 최고경영자가 교체된 사례를 분석 표본으로 선정했다. 그 결과 기업집단에 속한 계열사 성과가 높을수록 최고경영자가 외부로 퇴출되는 것이 줄어드는 . 관계가 공통적으로 나타났다. 최고경영자의 외부 퇴출은 비. 재벌집단에서 좀 더 빈번히 나타나는 것을 확인할 수 있었다. 재벌집단에서는 최고경영자 인력을 내부에서 활용하고자 하는 유인이 크다. 왜 재벌기업들은 내부 출신 CEO를 선호할까. 전문가들은 이를 재벌그룹 특유의 인재관리법이라기보다 재벌총수 일가의 문제와 연결해서 보고 있다. 내부 출신 인사를 선호하는 경향은 자칫 재벌비리의 고착화로 이어질 수 있다고 경고하는 이도 있다. 공인회계사 출신 국회의원으로 재벌기업의 지배구조 개선을 주장해온 채이배 바른미래당 의원은 . 국내 재벌기업의 경우 경영권 승계 과정에서 각종 범법행위가 발생하는데 이를 가신그룹이라 할 수 있는 이들이 적극적으로 돕고 있다. 이 같은 사례를 찾는 것은 그리 어렵지 않다. 역할을 담당하면서 각종 범법행위의 관리자 역할까지 도맡았던 삼성의 이학수 전 부회장이 대표적이다. 이학수 전 부회장은 이건희 Y사 회장 체제에서 . 40년간 몸담았던 삼성을 2010년 떠날 때까지 이 회장의 . 이학수 전 부회장은 삼성이 초일류 기업으로 성장할 수 있도록 이끈 주역이란 평가와 동시에 불법 경영승계. 비자금 조성과 같은 삼성의 여러 논란을 주도한 인물로도 꼽힌다. 이학수 전 부회장은 1997년 이건희 당시 회장의 비서실장으로 발탁되면서 그룹 내 실세로 부상했다. 외환위기 당시엔 구조조정본부장을 맡아 삼성의 대대적인 사업 재편과 투자 재조정을 맡았다. 이 전 부회장과 함께 사업부문에선 윤종용 전 부회장. 황창규 전 사장 등이 글로벌 삼성의 기반을 맡으며 이건희 회장을 보좌했다. 이 전 부회장은 M사 고문을 마지막으로 2010년 삼성을 떠났다. 이건희 회장의 복심으로 군림하는 동안 이학수 전 부회장은 그동안 여러 차례 검찰의 수사 대상이 되기도 했다. 지난 2003년 불법 대선자금 수사와 2005년 안기부 X파일 사건. 2008년 삼성 법무팀장 출신 김용철 변호사가 폭로한 비자금 조성 의혹에 연루된 게 대표적이다. 채 의원은 경영진의 불법 행위를 돕는 가신그룹보다 더 심각한 문제는 따로 있다고 주장한다. 더 심각한 문제는 법범 행위를 저지르는 경영진이 다시 복귀하는 경우다. 특히 총수 일가들 중에선 아무리 큰 범법 행위를 저질러도 곧 경영 일선에 복귀하는 이들이 많다. 범법 행위를 저지른 경영진의 복귀를 저지하는 법안이 이미 마련돼 있지만 단 한 번도 시행된 적이 없다. 채 의원의 지적대로 CEO 재활용의 치명적인 문제는 대부분 최고경영자가 총수 일가의 일원일 경우에 발생하고 있다. 범법 행위로 회사에 큰 손해를 끼쳐도 잠시 물러나 있다가 슬그머니 경영에 복귀하는 경우가 그러하다. 재벌개혁 신호탄이 된 스튜어드십 코드 이 때문에 최근에는 국민연금의 적극적 주주권 행사를 통해 국내 재벌 일가의 경영에 대한 견제장치를 둬야 한다는 논의가 한창 진행 중이다. 국민연금 주주권 행사의 근거는 지난해 7월 국내 도입된 스튜어드십 코드. stewardship code. 스튜어드십 코드는 기관투자가의 적극적 . 지분 보유 기업의 임원 선임과 해임. 정관 변경 등에 관여할 수 있어 주요 대기업들의 지분을 보유한 국민연금을 대기업에 대한 . 기업 임원 인사권에 대한 권한도 행사할 수 있어 정부 역시 스튜어드십 코드에 대한 기대가 높다. 문재인 대통령도 최근 대기업에 대한 견제장치로 국민연금을 활용하겠다는 방침을 내세웠다. 문 대통령은 지난 1월 23일 청와대에서 공정경제 전략회의를 열고 . 정부는 대기업 대주주의 중대한 탈법과 위법에 대해서는 국민연금의 . 를 적극 행사해 국민이 맡긴 주주의 소임을 충실히 이행하겠다. 틀린 것은 바로잡고 반드시 그 책임을 물을 것. 스튜어드십 코드를 통해 그동안 관행처럼 자리 잡은 대기업의 갑질. 일감 몰아주기를 바로잡고 기형적인 기업 지배구조를 개선하겠다는 의미로 풀이된다. 서지용 상명대 경영학부 교수는 . 재벌 경영은 창업주의 과감한 의사결정과 투자로 기업을 단기간에 글로벌 플레이어 지위에 올려놓았다는 점에서 의의가 있으나 어두운 그림자 또한 많다. 그동안 재벌기업은 오너의 횡령과 배임 개연성이 높아 오너리스크로 인한 기업가치 훼손. 게다가 경영 역량이 검증 안 된 재벌 2. 3세의 경영권 승계는 총수 일가의 갑질로 나타나기도 한다. 최근 한진그룹 지주회사인 한진칼과 대표 계열사인 대한항공이 국민연금의 주주권 행사 대상이 된 배경이기도 하다. 재벌개혁 전문가 채이배 의원 인터뷰 . 최우선 과제는 인수합병 통해 경영권 시장 만드는 것. 채이배 바른미래당 의원은 대표적인 재벌개혁 전문가로 꼽힌다. 공인회계사 출신이자 좋은기업지배연구소. 경제개혁연구소 등 시민단체에서 오랜 기간 연구위원으로 활동했다. 국회 법제사법위원회 소속인 채 의원은 최근 국내 재벌기업들이 연루된 범죄에 관한 정책자료집 . 지난 1월 29일 국회 의원회관에서 채 의원을 만났다. 국내 대기업은 여전히 내부 출신 CEO에 대한 선호도가 높다. 내부 출신 인사가 가장 좋은 후보군이기 때문이다. 내부에서 좋은 성과를 내면서 성장한 이들이고 이 과정에서 조직에 대한 이해도도 높일 수 있다. 외부인사 중 어느 편이 더 좋다고 단언하기 어렵다. 국내 대기업에서 내부 출신 인사를 특별히 더 선호하는 이유는 간단하다. 외부에 인력이 없어서다. 우리나라는 CEO 시장 인력풀이 그리 크지 않다. 더욱이 최고의사결정자인 CEO를 외부에서 데려오는 것은 좀 꺼려하는 분위기다. 는 외부에서 많이 영입하는 것과 반대되는 분위기다. 한국에 가족경영 형태의 재벌집단이 많다 보니 기업들이 내부 출신 CEO를 선호하는 경향이 두드러진 듯하다. 재벌기업이 유독 내부 출신 CEO를 선호하는 이유는 무엇인가. 우리나라 재벌의 경우 자녀에게 경영권을 세습하는 과정에서 다양한 문제가 발생하고 있다. 그중 하나는 상속세를 회피하려는 것이다. 이 노력이 범법 행위로 이어진다. 두 번째로는 총수 일가 출신의 CEO 후보자들이 검증 과정을 충분히 거치지 않고 덜컥 CEO가 되는 점이다. 총수 일가의 젊은 자녀들이 해외 유학을 다녀오자마자 계열사 상무나 사장 등을 하다가 부사장 등 초고속 승진하는 경우가 많지 않나. 한국 재벌이 자녀에게 경영권을 대물림하는 과정에서 세금 문제. 경영능력에 대한 검증 문제가 동시에 터지고 있는데 이런 상황에서 그룹의 주요 계열사 CEO 자리에 외부 출신 인사를 잔뜩 앉혀 놓으면 가만히 있을 리 있나. 국내 CEO 시장이 크지 않다고 했는데 이들이 갈 곳도 많지 않은 듯하다. 전문경영인들이 설 자리가 많지 않은 이유 중 하나로 아무리 큰 잘못을 저질러도 . 경영에 복귀하는 이들이 많다는 점을 꼽을 수 있다. 에 의하면 법원이 불법 행위를 저지른 경영진에 대한 리스트를 관리하고 . 경영에 복귀하는 것에 대해서 저지할 수 있는 권한을 가지고 있다. 이미 법은 만들어져 있지만 아직 실행된 적이 없다는 게 문제다. 그래서 지난해 국감 때 왜 시스템은 마련되어 있는데 시행하지 않는지를 지적했었다. 법무부를 통해 법원이 관리 중인 . 리스트를 받는 중이다. 이 작업이 마무리되면 아무리 총수 일가라고 하더라도 범법 행위를 저지른 경영진은 복귀할 수 없도록 더 촘촘하게 제도 개선에 나설 예정이다. 국내 CEO 시장의 선순환을 위해 가장 시급한 과제는 무엇인가. 우선 기업 간 인수합병이 원활해져서 . 경영권 시장이 활성화되면 자연스레 . 인수합병이 중요한 이유는 이 과정을 통해 전문성 있는 경영자들에 대한 수요가 늘어나기 때문이다. 또 다른 요건은 창업이다. 창업이 더 활발해져야 한다. 특히 공동창업이 중요하다. 공동창업을 통해 경영진의 육성이 용이해진다. 사실 아직까지도 국내에선 창업에 대한 두려움이 큰 분위기다. 신규 벤처기업들의 실패를 줄이기 위해서라도 기술을 가진 젊은 창업 지망생과 다양한 경험을 쌓은 은퇴자들을 연결해주는 매칭과 이를 통한 공동창업이 더 활발해져야 한다. 해외에선 이런 과정들을 적극 지원해 성공한 사례들이 많다\n"
     ]
    },
    {
     "name": "stderr",
     "output_type": "stream",
     "text": [
      "익명화 진행 중:   1%|          | 1024/85771 [00:05<07:14, 195.16it/s]"
     ]
    },
    {
     "name": "stdout",
     "output_type": "stream",
     "text": [
      "Row 1000 기업명 -> 익명화 이름 매핑: {'삼성물산': 'I사'}\n",
      "Row 1000 after anonymization - 기업명: I사, full_text: I사 저평가는 맞는데…회복은 험난 그러나 회복까지는 험난할 수 있다는 전망이다. 3일 오전 10시50분 삼성물산은 전날보다 500원. 오른 8만7100원에 거래됐다. 지난달 7일 8만4100원에 거래되며 52주 신저가를 경신한 뒤 9만원대를 곧 회복하는 듯 했으나 이후 국정농단 사건에 연루된 이 부회장이 재판을 다시 받게 되면서 하락해 저점 근처를 맴돌고 있다. 이 부회장은 앞서 박근혜 전 대통령과 최순실씨 일가에 Δ미르. K스포츠재단 204억원 Δ한국동계스포츠영재센터 16억2800만원 Δ정유라 승마지원 77억9735만원. 약속 금액 213억원. 등 433억2800만원의 뇌물을 주거나 약속한 혐의로 구속 기소됐다. 이 부회장은 2017년 8월 1심에서 징역 5년 실형을 선고받고 법정 구속됐으나 지난해 2월 2심에서 징역 2년 6개월에 집행유예 4년을 받고 풀려났다. 대법원은 그러나 삼성이 최순실씨의 딸 정유라씨에게 지원한 말 3마리의 소유권이 최씨에게 넘어간 만큼 뇌물로 봐야 한다고 판단했다. 여기에 2심과 달리 한국동계스포츠영재센터 지원금 16억여원도 뇌물로 판단했다. 특히 대법원이 이 부회장의 승계 작업을 위한 부정한 청탁이 인정된다고 밝혀 지배구조의 핵심인 I사 주가에 타격을 줬다. I사 주가는 2016년 국정농단에 대한 수사가 시작되며 외부 변수에 영향을 많이 받았다. 조윤호 DB금융투자 연구원은 2017. 2018년 실적 턴어라운드에도 불구하고 지배구조 최상단 기업으로서 실적보다는 그룹 관련 이슈가 주가를 지배했다며 대법원 최종 판결로 불확실성이 감소할 것을 기대했지만 결과는 그렇지 못했다고 지적했다. 이같은 논란을 고려해도 증권업계에서는 삼성물산의 현 주가 수준은 지나친 저평가라고 입을 모은다. 백광제 교보증권 연구원은 현재 주가는 최근 급락한 삼성생명. 삼성에스디에스의 주가 하락을 모두 반영하고. 회계 이슈가 있는 삼성바이오로직스의 지분가치를 제거해도 충분히 저평가 돼있다고 지적했다. 그는 현재 시점에서 지주사 전환을 포함한 지배구조 개편의 가능성은 극히 낮고. 중장기적인 관점에서도 다르지 않기 때문에 지주사 관점의 주가 할인이 아니라 개별 사업회사로의 밸류에이션이 적용되어야 한다며 지주사 관점의 할인을 받는 현재 시점에서도 충분히 저평가된 상태이나 일반적인. 매도 가능 증권 매도 할인 및 소득세 감안. 밸류에이션 적용시 상승 여력은 더욱 커질 것이라고 전망했다. 그러나 회복 시점에 대해서는 예단하기 힘들다는 분석이다. 조 연구원은 대법원의 파기 환송으로 불확실성이 당분간. 지속될 전망이라며 재판 결과가 기업가치에 미치는 영향은 제로에 가깝다고 보는 것이 합리적이지만. 반대로 생각해보면 불확실성이 유지되기 때문에 밸류에이션 할인률을 줄일 수 있는 이벤트도 기대하기 어렵다고 밝혔다. 그는 삼성물산이 적정 시가총액을 찾아가기까지 아직 험난한 길이 예상된다고 했다. 백 연구원도 시장에서는 동사 주가가 과연 어느 정도 수준까지 추가 하락해야 관련 불확실성이 반영된 것으로 인식할지 의문이라고 덧붙였다\n"
     ]
    },
    {
     "name": "stderr",
     "output_type": "stream",
     "text": [
      "익명화 진행 중:   2%|▏         | 2032/85771 [00:09<06:56, 201.24it/s]"
     ]
    },
    {
     "name": "stdout",
     "output_type": "stream",
     "text": [
      "Row 2000 기업명 -> 익명화 이름 매핑: {'삼성물산': 'M사'}\n",
      "Row 2000 after anonymization - 기업명: M사, full_text: 삼성 변호인단 이재용 부회장 사건, 전문가 검증 받게 해달라 10일 검찰에 따르면 서울중앙지방검찰청은 이 부회장 사건을 대검찰청 검찰수사심의위원회. 에 넘길지를 결정할 부의심의위원회. 부의심의위는 일반 시민 15명으로 구성된다. 대검 수사심의위가 법조계. 언론계 등 전문가들이 참여하는 반면 부의심의위는 회사원. 자영업자 등 그야말로 일반 시민들로 구성된다. 법조인은 부의심의위에 참여할 수 없다. 부의심의위 위원은 검찰과 변호인단이 각각 제출한 A4용지 30쪽 이내 의견서를 바탕으로 수사심의위 개최 필요성을 판단한다. 삼성 측은 수사심의위 소집을 신청한 이 부회장과 김종중 전 삼성 미래전략실 전략팀장. M사 등 세 주체가 각각 30쪽의 의견서를 내 총 90쪽 분량을 제출했다. 인 만큼 총 30쪽 이내 의견서만 냈다. 부의심의위에서 구두 진술은 허용되지 않으며 재적 위원 과반수 찬성으로 수사심의위의 필요성을 의결한다. 삼성 측은 수사심의위 도입 취지를 강조하며 수사심의위 개최 필요성을 설득할 것으로 알려졌다. 변호인단은 이날 의견서에서 . 공소 유지가 불가능한 사건을 면피성으로 기소하는 것을 막자는 게 제도의 취지. 당사자가 심의를 신청했음에도 구속영장까지 청구하고 심의조차 회피한다면 도대체 왜 이런 제도를 만든 것이냐. 검찰이 혐의 입증에 자신이 있다면 수사심의위 심의를 왜 피하려 하는가. 라고 주장하기도 했다. 변호인단은 검찰이 문제 삼고 있는 2015년 삼성물산과 제일모직 합병이 법적으로 문제가 없다고 판시한 민사 재판 결과도 제시할 것으로 전해졌다. 지난 9일 이 부회장의 구속영장이 기각된 것과 관련해서는 . 법원이 범죄사실에 대한 소명 부족을 표현한 것. 이라고 주장할 것으로 예상된다. 이라는 호소 전략도 펼칠 것으로 보인다. 검찰의 의도대로 검증 없이 이 부회장이 기소된다면 그 자체로 대외신인도가 추락하고 국제 투기자본의 투자자. 등 무차별 공격이 이어질 수 있다는 논리다. 를 강조할 것으로 보인다. 검찰이 이미 상당한 증거를 확보했고 영장심사 당시 법원도 재판 필요성을 언급한 만큼 통상 절차인 정식 공판을 거쳐 유무죄를 다투면 된다는 점을 어필할 것\n"
     ]
    },
    {
     "name": "stderr",
     "output_type": "stream",
     "text": [
      "익명화 진행 중:   4%|▎         | 3036/85771 [00:15<06:53, 200.00it/s]"
     ]
    },
    {
     "name": "stdout",
     "output_type": "stream",
     "text": [
      "Row 3000 기업명 -> 익명화 이름 매핑: {'현대차': 'C사', '현대모비스': 'T사', '삼성증권': 'K사', '셀트리온': 'E사', '삼성바이오로직스': 'H사', '아모레퍼시픽': 'B사', 'LG화학': 'U사', '삼성전자': 'D사', '삼성물산': 'M사'}\n",
      "Row 3000 after anonymization - 기업명: M사, full_text: 20년 터줏대감 삼성전자와 신흥주자 카카오에 동학개미 러브콜 코스피 3000시대라는 한국 증시의 새 장이 열린 6일 지난 20년간 코스피. 코스닥 시장의 시가총액. 상위 10개 기업을 중심으로 한국 증시가 걸어온 길을 따라가 봤다. 코스피코스닥시장 전체 시총 1위는 삼성전자다. 2000년 말 시총 1위를 꿰찬 뒤 20년간 몸값. 이 가장 비싼 상장사로 흔들리지 않는 부동의 1위를 지켜왔다. 지난 11월 이후 30. 넘게 오른 코스피 상승의 원동력도 삼성전자다. 일명 동학개미의 러브콜 속 D사 주가는 최근 두 달간 40. 란 별칭을 얻으며 지난 5일에는 종가기준으로 시가총액이 500조원을 돌파했다. 2006년 1월 시총이 100조원을 넘어선 지 15년 만이다. 코스피에서 삼성전자의 지위는 압도적이다. 전체 시총에서 D사 한 종목의 비중만 24. 3000고지 터치에 성공했지만 코스피가 8거래일 만에 하락한 것도 최근의 급격한 상승에 따른 피로감으로 조정을 받은 삼성전자의 영향도 있을 것으로 풀이된다. 이날 D사 주가는 전날. 하락한 8만2200원에 거래를 마쳤다. IT 붐 뚫고 D사 시총 1위로 진입 굳건한 1위를 유지한 삼성전자와 달리 시총 2위 이하의 순위 경쟁은 치열하다. 붐이 일던 2000년대 초반에는 삼성전자에 이어 SK텔레콤이 시총 2위를 차지했다. 1990년대 후반까지 . 로 손꼽혔던 한국전력은 4위로 밀려났다. 2000년 시총 10위권에 있었던 기업 중 현재까지 이름을 올린 곳은 삼성전자뿐이다. 포항제철과 한통프리텔. 주택은행 등은 현재 사명이 바뀌거나 다른 기업에 인수합병되면서 자취를 감췄다. 2015년 차화정에서 화장품으로 바톤터치 2010년에는 . 중국의 급격한 성장에 힘입어 수출기업의 이익이 크게 늘었다. 2010년 시총 상위 10위 기업에는 현대차와 T사. 기아차 등 대형 수출주가 포함됐다. 2015년부터는 화장품바이오 신성장주에 대한 투자자의 관심이 커졌다. 2015년 시총 5위에 오른 아모레퍼시픽이 대표적이다. 당시 이 회사의 쿠션 제품은 . 1초에 한 개씩 팔린다. 고 입소문 날만큼 인기를 얻으며 주가가 치솟았다. 아모레퍼시픽의 2015년 시총은 24조2300억원으로 1년 사이 10조원 불어났다. 4차산업혁명과 코로나19로 바뀌는 . 산업 생태계 판은 또다시 요동치고 있다. 최근 5년 사이 시총 10위권을 지켜낸 곳은 삼성전자를 비롯해 현대차와 T사. U사 등 6곳이다. 삼성물산은 4위에서 12위로 8단계 하락했다. 한국전력과 B사. 삼성생명은 모두 20위권 밖으로 밀려났다. 대신 H사. 신흥 주자들이 기존의 강자가 떠난 자리를 채웠다. 김용구 K사 글로벌투자전략팀 연구위원은 . 시총 상위권 종목의 변동은 미래 비즈니스에 대한 투자자의 기대감이 반영된 것. 앞으로 4차 산업혁명이나 포스트 코로나 시대의 반사이익을 볼 수 있는 기업이 주도주가 될 것. 예컨대 세계적으로 전기차가 신사업으로 떠오르면서 국내 전기차 배터리 제조사인 삼성SDI와 U사 몸값. 이 오른 것이 이러한 분위기를 반영한다. E사 C사 제치고 시총 5위로 . 다윗이 골리앗을 꺾는 이변도 나왔다. 매출액 1조원가량인 제약사 셀트리온이 105조원을 버는 C사. 를 제치고 시총 5위를 차지했다. 신종 코로나바이러스 감염증. 항체 치료제 개발 소식에 투자자가 몰리며 주가가 급등했기 때문이다. 6일 E사 주가는 35만3500원으로 1년 전. 보다 4조원 이상 더 많다. 카카오가 시총 10위권에 진입한 것도 시대의 변화를 반영한다. 코로나19 영향으로 비대면. 서비스가 인기를 끌면서 주가는 고공행진 중이다. 카카오 주가는 1년 사이 156. 올라 39만5500원을 기록하며 이날 시총은 34조9767억원이 됐다. 이경민 대신증권 투자전략팀장은 . 과거와 달리 개인 투자자가 새로운 산업변화 흐름에 적극적으로 뛰어들고 있다. 지난해 개인은 D사. 카카오 등 시가총액 상위 대형주 위주로 순매수했다\n"
     ]
    },
    {
     "name": "stderr",
     "output_type": "stream",
     "text": [
      "익명화 진행 중:   5%|▍         | 4022/85771 [00:20<06:47, 200.80it/s]"
     ]
    },
    {
     "name": "stdout",
     "output_type": "stream",
     "text": [
      "Row 4000 기업명 -> 익명화 이름 매핑: {'삼성물산': 'O사'}\n",
      "Row 4000 after anonymization - 기업명: O사, full_text: 간만에 서울 아파트 분양 쏟아지는데…가점 낮은 2030 '그림의 떡' 5일 분양업계에 따르면 서울에는 조만간 1800여 가구 분양이 예정돼 있다. DL이앤씨는 서울 강동구 고덕강일공공주택지구 3지구 10블록에 공급하는 . e편한세상 강일 어반브릿지. 6개동 전용면적 84. 삼성물산이 서울 동대문구 이문동 이문1구역 주택재개발을 통해 공급하는 . 도 분양을 앞두고 있다. 40개동 전용면적 33. 2904가구 규모인 이 단지는 일반분양만 803가구에 달한다. 8월 서울 신규 분양이 1847가구여서 이들 단지에 대한 무주택자들 관심이 뜨겁다. 하지만 간만에 대규모 공급이 이뤄져도 젊은 층에게는 . 부동산 시장 가격 상승과 함께 청약시장 당첨 가점도 뛰면서 젊은 층은 사실상 . 에 기댈 수밖에 없지만 세 단지의 물량은 턱없이 부족하기 때문이다. 3곳 중 추첨제 물량이 확정된 단지는 e편한세상 강일어반브릿지뿐이다. 이곳은 전용면적 101. 174가구 중 절반인 87가구가 추첨 물량으로 배정됐다. 이문1구역 래미안 추첨 물량은 아직 확정되지 않았고. 강서 금호어울림 퍼스티어는 전용면적 85. 초과 가구가 없어 아예 추첨제가 없다. 젊은 층에 청약 당첨이 . 이 된 것은 2017년 8. 당시 투기과열지구 전용면적 85. 이하 주택 가점제 비율이 75. 그전까지는 중소형 일반공급 물량 가운데 추첨제 물량 25. 를 기대할 수 있었으나 이 규제로 없어졌다. 강화된 대출규제도 청년층 발목을 잡는다. 전용면적이 넓어질수록 분양가도 비싸질 수밖에 없기 때문이다.\n"
     ]
    },
    {
     "name": "stderr",
     "output_type": "stream",
     "text": [
      "익명화 진행 중:   6%|▌         | 5042/85771 [00:25<06:31, 205.98it/s]"
     ]
    },
    {
     "name": "stdout",
     "output_type": "stream",
     "text": [
      "Row 5000 기업명 -> 익명화 이름 매핑: {'LIG넥스원': 'O사', 'POSCO홀딩스': 'C사', 'SK아이이테크놀로지': 'T사', '삼성물산': 'W사'}\n",
      "Row 5000 after anonymization - 기업명: W사, full_text: 우려보다 나았던 1Q 실적, 우려심리 바닥 찍었나 3일 투자정보업체 에프앤가이드에 따르면 증권사 3곳 이상의 컨센서스. 가 형성된 코스피 87개사. 코스닥 13개사 등 총 100개사의 올 1분기 연결재무제표 기준 매출은 384조6754억원으로 지난해 1분기. 늘고 영업이익은 46조2427억원으로 같은 기간 30. 증가한 것으로 잠정집계됐다. 는 국내 증시에 상장된 12월 결산사. 수준에 불과하지만 이들 기업의 지난해 1분기 매출은 코스피. 코스닥 12월 결산사 전체 매출의 약 3분의 2에 이른다. C사 등 국내 증시를 대표하는 종목들이 일찌감치 분기결산을 마치고 실적을 발표한 데 따른 것이다. 이들 기업들의 1분기 실적은 전년 동기 대비 매출과 이익 동반 성장세를 나타냈다는 점 외에도 우려보다 양호한 실적을 나타냈다는 점이 더 눈에 띈다. 증권가에서 예상한 이들 100개사의 매출과 영업이익 컨센서스는 각각 375조3847억원. 42조3071억원이었다. 매출과 영업이익이 컨센서스를 각각 2. 를 기록했다는 얘기다. 조사대상 기업 중 62개사가 컨센서스보다 양호한 영업이익을 기록했다. 녹십자는 올 1분기 컨센서스. 4배에 이르는 418억원의 영업이익을 발표하며 어닝 서프라이즈 정도가 가장 컸던 종목으로 꼽혔다. 녹십자에 이어 O사. 영업이익의 컨센서스 상회율 112. 등이 어닝 서프라이즈 비율 상위 10개사에 이름을 올렸다. 반면 조사대상 기업 중 37개사가 시장 기대치에 못 미치는 실적을 내놨다. 솔루스첨단소재 등은 시장에서도 영업손실이 발생할 것으로 전망했으나 전망치보다도 큰 폭의 적자 실적을 발표했다. T사 등은 영업이익 흑자가 기대됐으나 실제로는 영업적자가 발생한 것으로 나타났다. 한편 2022년 연간 전체 기준의 실적 전망치도 바닥을 찍고 다시 상향조정되는 모습이 나타나고 있다. 에프앤가이드 집계치 기준으로 올해 연간 실적 컨센서스가 형성된 종목은 총 224개사로 이들 종목의 지난해 연간 매출은 2000조8087억원. 영업이익은 205조4884억원이었다. 이들 224개사에 대한 최근일 기준 2022년 매출과 영업이익 전망치는 2312조6470억원. 229조9126억원으로 각각 전년. 매출 200조8087억원. 영업이익 205조4884억원. 늘어날 것으로 예상된다. 이들 기업의 매출 및 영업이익 전망치는 올들어 하향조정세가 이어지다 최근 1개월새 상향조정되는 점이 주목받고 있다.\n"
     ]
    },
    {
     "name": "stderr",
     "output_type": "stream",
     "text": [
      "익명화 진행 중:   7%|▋         | 6032/85771 [00:30<06:51, 193.62it/s]"
     ]
    },
    {
     "name": "stdout",
     "output_type": "stream",
     "text": [
      "Row 6000 기업명 -> 익명화 이름 매핑: {'삼성물산': 'J사'}\n",
      "Row 6000 after anonymization - 기업명: J사, full_text: '래미안 라그란데' 일반분양 2년 넘게 연기…올해 4월도 불투명 2일 이문1구역 주택재개발정비사업 조합. 에 따르면 조합은 시공사인 삼성물산과 2021년부터 진행하려고 했던 일반분양의 일정이 분양가 조정 문제로 거듭 연기되자 오는 4월을 목표로 재추진하고 있지만 이마저도 불투명하다. 조합 관계자는 2021년 9월부터 3차례 연기됐던 일정을 올해 4월에 진행하려고 계획을 세우고 있다면서도 . 늦으면 3월에 진행되는 분양가 심의에서 분양가의 윤곽이 나올지도 알 수 없어 4월에 일반분양을 확실히 진행할지도 알 수 없다고 잘라 말했다. 조합은 물가 상승에 따라 조합원들과 분양가격을 인상하는 내용의 계획을 추진하고 있는 것으로 알려졌다. 지난해를 기준으로 조합원에 대한 분양가와 일반분양가를 각각 3. 과 2천480만원으로 책정해 평균 분양가가 5억8천138만원. 기존 조합원 분양가와 일반 분양가가 3. 당 각각 1천510만원. 2천218만원이었던 것을 고려하면 각각 184만원. 조합 관계자는 현재는 최소 얼마 이상으로 하느냐에 대한 것조차 정해진 바가 없다고 했다. 조합이 분양가를 올리려는 이유는 앞서 2016년에 재개발에 대한 관리처분 계획을 승인받은 뒤 공사와 분양이 계속 연기돼 공사비용과 주변 주택 가격이 뛰어서인 것으로 전해졌다. 이와 관련해 정비업계에선 래미안 라그란데를 둘러싸고 내부에서 분양가 책정에 대한 갈등이 장기화되고 있다는 분석이 나온다. 한편 이문1구역 재개발은 조합과 비상대책위원회. 의 갈등으로 사업추진에 차질을 빚고 있다. 비대위 측은 지난달 15일 조합장과 임원들에 대한 해임총회를 여는 과정에서 해임 철회서를 제출하려는 조합원의 출입을 저지한 바 있다.\n"
     ]
    },
    {
     "name": "stderr",
     "output_type": "stream",
     "text": [
      "익명화 진행 중:   8%|▊         | 7033/85771 [00:35<06:00, 218.32it/s]"
     ]
    },
    {
     "name": "stdout",
     "output_type": "stream",
     "text": [
      "Row 7000 기업명 -> 익명화 이름 매핑: {'LX인터내셔널': 'K사', '포스코인터내셔널': 'J사', '미래에셋증권': 'L사', '삼성물산': 'B사'}\n",
      "Row 7000 after anonymization - 기업명: B사, full_text: 상사업계, 글로벌 경기침체에 2분기 어둡다…신사업 찾아야 생존 절대적인 교역량이 줄어든 것도 실적 악화 원인으로 지목됐다. 으로 사업을 다각화하고 실적 다변화 움직임에 속도를 내는 계기로 작용했다. 원자재 가격 하향교역량 감소 . 7일 신한투자증권에 따르면 J사. 의 올해 2분기 매출과 영업이익 전망치는 9조2929억원. 전년 동기 대비 각각 16. 실적 악화는 상사 부문 부진 영향이 크다. 트레이딩의 2분기 영업이익은 1091억원으로 전년 동기. 줄어들 것으로 예측됐다. 트레이딩은 종합상사의 본업으로 고객사와 제조사 수요에 따라 상품을 사고파는 행위를 중개하고 수수료를 챙기는 사업을 말한다. 우크라이나 전쟁 이후 급등한 원자재 가격의 하향 안정화가 상사업계에 불리하게 작용하고 있다. 글로벌 경기침체로 절대적인 교역량이 감소한 영향도 실적 부진 원인으로 거론된다. NH투자증권은 K사. 의 2분기 매출을 전년 동기 대비 23. 줄어든 3조8513억원으로 제시했다. 영업이익은 1492억원으로 48. LX인터내셔널은 지난 2007년 인도네시아 광산을 인수하면서 진출한 석탄 사업으로 호황을 누렸다. 지난해 전쟁 이후 에너지 대란으로 석탄 시세가 급등했기 때문이다. 올해 들어 석탄 시세는 크게 하락하고 있다. 한국자원정보서비스에 따르면 올해 2분기 유연탄 톤당 시세는 117달러로 전년 동기. 석탄 단가 하락으로 트레이딩 수익성 부진을 피하지 못할 것으로 예상됐다. 상사 부문의 전망도 밝지 않다. 흥국증권은 2분기 매출과 영업이익을 3조8000억원. 영업이익 669억원으로 제시했다. 전년 동기 대비 각각 31. 트레이딩 줄이고 사업다각화. 속도상사업계는 상사 본업인 트레이딩 비중을 줄이는 작업에 몰두하고 있다. 친환경 분야에 힘을 싣고 안정적인 실적을 달성하겠다는 의도가 깔려 있다. 포스코인터내셔널은 포스코에너지와 합병하고 LNG. 발전의 밸류체인 모든 과정을 구축했다. 경북 포항 해상에 풍력발전단지 조성도 검토하고 있다. LX인터내셔널은 지난해 한국유리공업의 주식 100. 를 5925억원에 인수했다. 한국유리공업은 빌딩과 주택 창에 쓰이는 판유리와 코팅유리를 생산 판매하는 기업이다. 발전소를 운영하는 포승그린파워의 지분 약 63. 도 950억원에 인수하고 연결기업으로 편입했다. 삼성물산도 지난 2020년 . 선언 이후 태양광뿐 아니라 이차전지 리사이클. 수소 사업으로 영역을 확장하고 있다. 류제현 L사 연구원은 LX인터내셔널은 재생에너지 업체인 포승그린파워를 인수한 이후 친환경 투자를 확대할 것이라며 일부 석탄 광산은 장기적으로 규모를 축소하거나 추가 투자를 제한할 것이라고 분석했다.\n"
     ]
    },
    {
     "name": "stderr",
     "output_type": "stream",
     "text": [
      "익명화 진행 중:   9%|▉         | 8037/85771 [00:39<06:32, 198.29it/s]"
     ]
    },
    {
     "name": "stdout",
     "output_type": "stream",
     "text": [
      "Row 8000 기업명 -> 익명화 이름 매핑: {'삼성화재': 'H사', '삼성생명': 'N사'}\n",
      "Row 8000 after anonymization - 기업명: N사, full_text: 대형보험사 계약유지 `비상`…3년째 뒷걸음 백화점 식으로 보험 상품을 판매하는 GA가 미치는 영향력이 커진 데다 인터넷. 홈쇼핑 등 보험상품 가입 경로가 다양해지면서 전통적인 설계사 중심 보험영업에 변화가 일고 있다는 분석이다. 4일 금융감독원과 생명. 손해보험협회에 따르면 삼성. 교보 등 대형 생보 3사의 13회 차 보험계약 유지율이 최근 3년간 꾸준히 감소한 것으로 조사됐다. 13회 차 보험계약 유지율은 보험에 가입한 이후 13개월째까지 보험료를 낸 비율이다. 보험 판매회사의 불완전판매비율. 계약관리능력 등 전반적인 계약관리 수준을 나타내는 주요 지표다. 삼성생명은 13회 차 보험계약 유지율이 2016년 85. 에서 2017년 84. 로 꾸준히 떨어지고 있다. 보험계약 유지율이 81. 라는 의미는 보험을 가입한 고객 10명 가운데 2명가량이 1년도 안 돼 계약을 해지한다는 얘기다. 한화생명과 교보생명도 상황은 비슷하다. 한화생명은 같은 기간 85. 교보생명은 지난해 보험계약 유지율이 78. 손해보험업계에서도 이러한 흐름은 이어지고 있다. 업계 1위인 삼성화재의 13회 차 보험계약유지율은 2016년 85. KB손보 등도 같은 기간 보험계약 유지율이 각각 3. 포인트 안팎 하락세를 보였다. 13회 차 보험계약 유지율 하락은 25회 차에도 영향을 줬다. 25회 차는 2년 이상 보험계약을 유지하는 비중을 말한다. N사 25회 차 보험계약 유지율은 2017년까지만 해도 70. 가 넘었는데 지난해 60. 손보사도 삼성화재와 DB손보가 각각 66. 대형 보험사의 보험계약 유지율이 감소한 반면 대형 GA들 계약 유지율은 상대적으로 견고한 모습을 보였다. 생명보험 분야에서는 에이플러스에셋이 13회 차 보험계약 유지율 85. 를 기록해 GA 업계에서 1위를 차지했다. 이는 대형 생보 3사의 보험계약 유지율보다 높은 숫자다. 에이플러스에셋은 보험설계사 4134명을 보유한 톱10 GA 가운데 하나다. 설계사 숫자만 1만3388명을 확보해 최대 GA로 꼽히는 GA코리아 또한 생명보험 분야 13회 차 보험계약 유지율이 지난해 83. 를 기록하며 대형 생보 3사를 압도했다. 톱10 GA 가운데 보험계약유지율이 삼성생명보다 높은 곳은 에이플러스에셋. 글로벌금융판매 등 3곳에 달했다. 손해보험 분야도 마찬가지다. 보험설계사 9503명으로 업계 3위 GA인 프라임에셋의 13회 차 보험계약 유지율이 84. 로 H사 등 대형 손보사를 따돌린 것이다. 생보사에서는 중소형 보험사들 약진도 돋보였다. 인터넷으로만 보험을 판매하는 교보라이프플래닛은 13회 차 보험계약 유지율이 84. 25회 차 또한 비슷한 수준을 유지했다. 보험설계사 권유가 아닌 인터넷을 통해 본인이 직접 상품을 검색하고 가입하기 때문에 상대적으로 해지율이 낮다는 분석이다. 업계에서는 선도 GA들의 보험계약 유지율이 높은 이유로 다양한 상품을 비교해서 제시하고 수수료를 받기 위해 고객 유지. 관리에 보다 신경을 쓰며 우수한 보험설계사가 상당수 이직한 것 등을 꼽고 있다. 특히 보험사는 자신들의 상품만 판매할 수 있지만 GA는 여러 보험사 상품을 비교해서 제시해 다양성을 중시하는 젊은 고객층에게 좋은 반응을 얻고 있다는 해석이다. General Agency. 보험회사와 계약을 맺고 보험 판매를 전문으로 하는 대리점을 말한다. 특정 회사 상품이 아닌 많은 생명. 손해보험사 상품을 팔기 때문에 보험 판매 백화점으로 불린다.\n"
     ]
    },
    {
     "name": "stderr",
     "output_type": "stream",
     "text": [
      "익명화 진행 중:  11%|█         | 9036/85771 [00:44<06:00, 212.88it/s]"
     ]
    },
    {
     "name": "stdout",
     "output_type": "stream",
     "text": [
      "Row 9000 기업명 -> 익명화 이름 매핑: {'삼성전자': 'T사', '삼성화재': 'I사', '삼성생명': 'E사'}\n",
      "Row 9000 after anonymization - 기업명: E사, full_text: 단독] 한노총, 삼성전자에 첫 실력행사…단체교섭 요구 이날 취재결과 한노총 전국금속노동조합연맹 산하 전국삼성전자노동조합. 는 지난 24일 단체교섭 요구서를 사측에 제출했다. 사측에 제출된 단체교섭 요구서에 따르면 4노조는 노조 활동 보장 노조 사무실 조성 등을 요구했다. 앞서 전국노조를 표방하며 출범했던 3노조가 지난해 사측과 단체교섭을 진행한 적은 있지만 양대노총과 함께 교섭에 나서는 것은 4노조가 처음이다. 안양지역 사무직 직원들이 주축이 된 1노조와 T사 구미지부 네트워크 사업부 직원들이 참여하고 있는 2노조는 사측과 협상테이블에 앉은 적이 없다. 사측은 과거에도 회사 내부 소규모 노조와 단체교섭을 진행했던 만큼 이번에도 절차대로 하겠다는 방침이다. 삼성전자는 지난해 12월 삼성에버랜드와 삼성전자서비스 노조 와해 사건 재판에서 전현직 임원이 유죄판결을 받은 이후 80년간 지켜온 무노조 방침을 사실상 폐기한 뒤 건강한 노사문화 정립을 약속했다. T사 관계자는 4노조로부터 단체교섭 요구 공문이 접수됐고 관련 내용들을 검토하고 있다며 그동안 다른 노조와의 단체교섭에 임해왔던 것처럼 법과 절차에 따라 진행할 예정이라고 말했다. 그러나 노조에 대한 걱정의 시선도 적지 않다. 기업의 장기적인 발전보다 단기적인 이익을 최우선 순위에 뒀던 양대 노총의 행태 탓이다. 조동근 명지대 경제학과 명예교수는 한노총이라는 외부 세력의 영향력이 들어가면서 시작된 것이 T사 4노조라면서 온건하고 합리적인 모델이 돼야지 자리를 잡자마자 강경투쟁에 나서서는 안 될 것이라고 말했다. 이어 노조가 설립됐으니 이미 되돌릴 수는 없고 상급노조가 개입하는 노조의 단체교섭 요구 뒤 회사가 어떻게 변화하는지가 관건이라며 임금교섭보다는 비정규직 문제가 주요 이슈가 될 것으로 보인다라고 덧붙였다. 최준선 성균관대 법학전문대학원 명예교수는 정부의 친노조 정책 기조 아래 양대노총의 힘이 점점 강해져 가는 국면이라며 한국노총을 등에 업고 있는 노조가 어떠한 실력행사를 할지는 이미 예견된 일이라고 전했다. 아울러 이번 단체교섭 요구를 통해 삼성전자는 더욱 힘들어질 것이라며 상위노조를 끼고 있는 노조의 힘을 무시하지 못할 것이라고 했다. 한노총의 이 같은 움직임이 삼성 내 다른 계열사로도 번질지 주목된다. 3개의 소규모 노조만 있던 삼성전자에 지난해 11월 첫 한노총 산하 노조가 생긴 뒤 I사. 삼성디스플레이에도 한노총을 상급단체로 둔 노조가 들어섰다. 삼성에스원에는 민노총 소속 단독 노조가 있고 T사 3노조 역시 한노총의 이번 첫 실력행사를 계기로 민노총과의 연대를 추진 중이다\n"
     ]
    },
    {
     "name": "stderr",
     "output_type": "stream",
     "text": [
      "익명화 진행 중:  12%|█▏        | 10020/85771 [00:49<06:40, 189.36it/s]"
     ]
    },
    {
     "name": "stdout",
     "output_type": "stream",
     "text": [
      "Row 10000 기업명 -> 익명화 이름 매핑: {'삼성전자': 'D사', '삼성생명': 'V사'}\n",
      "Row 10000 after anonymization - 기업명: V사, full_text: 공 넘겨 받은 재판부…이재용, '국정농단' 재판에 경영 활동 발목 잡힐까 검찰은 30일 오후 열린 국정농단 사건 파기환송심 결심공판에서 이 부회장에게 징역 9년을 구형했다. 2심에서 모두 징역 12년을 구형했다. 특검은 대법원 판결을 통해 삼성이 최소 비용으로 D사. V사 등 삼성 주요 계열사에 대한 피고인의 경영권 강화라는 뚜렷한 목적으로 승계작업을 진행했다는 점이 명시적으로 인정됐다며 본건은 대통령 뇌물 요구를 적극적으로 수용해 뇌물 요구에 편승함으로써 직무 관련 이익을 얻기 위해 적극적으로 뇌물을 공여한 것이라고 밝혔다. 이 부회장은 박근혜 전 대통령과 최서원. 씨에게 삼성 경영권 승계 등을 도와달라는 청탁을 하고 그 대가로 298억2천535만 원의 뇌물을 제공한 혐의 등으로 지난 2017년 2월 기소됐다. 1심은 이 부회장에게 징역 5년을 선고했고. 2심은 징역 2년 6개월에 집행유예 4년을 선고했다. 대법원 전원합의체는 상고심에서 일부 뇌물 혐의를 추가로 인정하고 서울고등법원으로 돌려 보냈다. 이후 파기환송심 재판부는 지난해 10월 첫 공판을 열고 실효성 있는 준법감시제도를 확립할 경우 이를 양형에 반영하겠다는 의사를 밝혔다. 이에 특검이 이의를 제기하며 재판부 변경을 요청하며 약 9개월간 재판이 지연됐으나. 대법원이 특검의 기피 신청을 기각하며 지난 10월 재개됐다. 하지만 특검은 삼성 준법위의 실효성에 대한 평가를 두고 신경전을 벌이면서 이 부회장 측을 압박했다. 재판부가 이를 공정하게 검증하기 위해 전문심리위원까지 도입했으나. 특검과 이 부회장 측이 평가에 대해 다른 해석을 내놓으면서 재판부의 고민은 더 깊어진 상태다. 재판부는 준법위의 실효성과 양형 조건으로 이를 고려할 지 여부. 어느 정도로 고려할 지 등에 대해 판단한 후 이르면 다음달께 최종 결론을 내릴 것으로 전망된다. 이 부회장 외 최서원 씨. 안종범 전 청와대 정책조정수석. 최 씨의 조카 장시호 씨. 김종 전 문화체육관광부 차관. 신동빈 롯데그룹 회장 등 국정농단 주요 인물들은 형이 최종 확정된 상태다. 박 전 대통령은 징역 20년을 선고 받아 대법원이 재상고심을 심리하고 있다. 이날 검찰이 중형을 구형하자 삼성은 긴장감에 휩싸여 있다. 이건희 D사 회장의 별세 이후 안정적인 경영권 승계를 통해 3세 경영을 안착시켜야 하는 상황에서 이 부회장이 자리를 비우게 될까 전전긍긍하는 눈치다. 재계에서도 이 부회장의 재판 결과에 따라 국가적 손실이 상당할 수 있다고 우려하는 분위기다. 재계 관계자는 일상적인 경영은 전문경영인들이 이어갈 수 있어도 대규모 시설투자나 인수합병 등에선 오너가 없인 결정하기 힘든 일이라며 연이은 사법리스크로 삼성 입장에선 성장 동력을 잃을까 초조해 하는 듯 하다고 말했다. 이어 대규모 시설투자나 인수합병. 등과 같은 전략적 결정과 글로벌 네트워킹 활동은 총수의 역할이 절대적이라며 삼성이 치열한 글로벌 경쟁에 대응하며 미래를 준비해야 하는 상황에서 연이은 재판으로 경영 불확실성이 최고조에 달하면서 기회 선점은 고사하고 기회 상실로 경쟁 대열에서 낙오할 수 있다고 덧붙였다. 또 다른 관계자는 최근 4년여 동안 삼성은 사법 리스크로 인해 정상적 경영이 불가능한 상태였다며 삼성이 코로나19 병동 확보에 적극 나서는 등 사회적으로 기여하는 바가 높은 데다 국가 경제적인 측면에서도 대규모 투자. 채용 등을 통해 기여하는 바가 큰 만큼 재판부가 이런 점들도 적극 고려할 필요가 있다고 밝혔다\n"
     ]
    },
    {
     "name": "stderr",
     "output_type": "stream",
     "text": [
      "익명화 진행 중:  13%|█▎        | 11036/85771 [00:54<05:32, 224.73it/s]"
     ]
    },
    {
     "name": "stdout",
     "output_type": "stream",
     "text": [
      "Row 11000 기업명 -> 익명화 이름 매핑: {'삼성생명': 'X사'}\n",
      "Row 11000 after anonymization - 기업명: X사, full_text: 싱글 파이낸스]② 마이데이터로 계획 세우고 IRP로 노후 대비 가령 1인가구는 여행이나 배달 관련 지출이 많을 것이라고 일반화시켜 금융상품에 이와 관련한 혜택을 포함해 내놓는 식이었다. 하지만 이런 금융상품들은 곧바로 자취를 감췄다. 1인가구의 특색을 일반화시키기 어려울뿐더러. 특화 상품에 대한 수요도 생각보다 많지 않았기 때문이다. 대신 오늘날은 개인 맞춤형 금융 솔루션을 제공하는 방식으로 나아가는 추세다. 헬스케어 등의 기술로 초개인화한 서비스 제공이 가능해지면서다. 대부분 금융사는 마이데이터. 서비스를 적용해 개개인의 필요에 맞는 자금 계획을 세워주고 있다. 증권사 등은 개인형 퇴직연금. 시장을 적극적으로 공략해 1인가구에 폭넓은 강제 저축 수단을 제공하고 있으며. 보험사는 1인가구의 건강 보장 수요에 맞춰 헬스케어 산업에 속속 뛰어들고 있다. 복잡했던 자금 계획 설계. 이제는 마이데이터로 . 1인가구 금융의 첫걸음은 자금 계획을 세우는 것부터다. 1월 1일부터 마이데이터 사업이 본격적으로 시작되면서 대부분 금융사 애플리케이션. 에는 자산 목표를 설정하는 기능이 장착됐다. 가까운 시일 내 필요한 여행. 결혼자금부터 먼 훗날 필요한 주택. 지인과의 상의나 인터넷 검색을 통해 일일이 품을 들여 금융 계획을 세워야 했다면. 이제는 금융 앱이 내 모든 자산과 소비 패턴을 고려해 현실적인 정답을 제시해준다. 등이 이런 서비스를 제공하고 있다. 조기은퇴 등 생애주기별 목돈이 들어가는 시기를 대비할 수 있도록 계획을 세워준다. 50세에 조기 은퇴를 한다고 설정하고 나의 월 저축액. 월 급여 등을 입력해 시뮬레이션을 돌려보니. 은퇴 10년 만에 자금 부족이 예상된다는 결론이 나왔다. 늘려야 하는 월별 저축 액수와 연금을 준비해야 한다는 솔루션도 함께 제공됐는데. 추가 서비스에 가입하면 추천 상품도 안내받을 수 있다. 마이데이터 서비스가 꼭 1인가구만을 위한 것은 아니다. 1인가구가 금융 계획 설계에 취약한 데다가 마이데이터는 개인에게 꼭 맞는 정보를 제공하는 수단이라는 점에서. 이들에게 더욱 유리하게 활용될 수 있는 여지가 많은 것은 사실. 노후 준비 전략도 남달라야 치열해지는 IRP 시장 1인가구에도 노후는 반드시 찾아온다. 경제적으로 의지할 수 있는 부모도 언젠가 세상을 떠날 것이고. 자신을 부양해줄 배우자나 자녀도 없기 때문에 이들에겐 은퇴 준비 전략이 중요하다. 1인가구는 오로지 나만을 위한 지출을 하므로 상대적으로 소비에 후하다. 그런 만큼 강제 저축 수단을 마련해두는 것이 중요하다. 대표적인 강제 저축 수단이 바로 IRP다. 과거 IRP는 퇴직을 앞둔 중. 장년층을 위한 상품으로 통했지만. 까지 적극적으로 뛰어들고 있다. 안정적인 노후 설계는 물론. 연간 최대 700만원 한도로 16. 의 세액공제 혜택이 가능해 . 상품으로 주목받고 있어서다. 실제로 IRP 시장은 매년 수조원씩 몸집을 불려 나가고 있다. 금융감독원에 따르면 지난해 9월 말 기준 IRP 적립금은 42조9000억원으로. 은행과 증권사 등 금융사들도 이런 IRP 시장을 선점하기 위해 공세를 펼치고 있다. 최근 은행에서 수익률이 높은 증권사로 IRP 계좌를 옮기는 . 현상이 가속하자 시중은행들은 신탁 방식으로 상장지수펀드. 투자가 가능하도록 하는 상품을 잇달아 출시했다. 금융업계는 서로 가입자를 유치하기 위해 각축전을 벌이고 있다. 대부분의 증권사와 우리. DGB대구은행 등이 펼치고 있는 IRP 수수료 면제 정책이 그 예다. 특히나 오는 6월부터는 퇴직연금 . 자산운용사 등 금융업계의 수익률 경쟁이 치열해질 것으로 전망되고 있다. 디폴트옵션은 가입자가 적립금의 운용 방법을 6주간 직접 선정하지 않은 경우 금융사가 타겟데이티드펀드. 투자를 제시하는 등 미리 지정한 옵션대로 투자를 진행하는 것이다. 그만큼 금융사별 상품 개발 역량이 시험대에 오르는 셈이다. 혼자 아프면 더 서럽다 보험사. 헬스케어에 집중 1인가구의 증가는 건강 보장에 대한 관심 증대로도 이어진다. 이에 발맞춰 보험업계도 헬스케어나 요양 서비스 등에 집중하는 모습을 보이고 있다. 1인가구의 헬스케어 수요는 보험업계의 미래 먹거리 고민과도 이해관계가 맞아떨어진다. 한 생명보험업계 관계자는 . 사망 시 피보험자에게 보험금을 지급하는 상품. 은 대부분 비슷한 조건이나 혜택을 가진 경우가 많다. 기존 보험 상품으로는 신규 고객들을 유치하기 어려우니 헬스케어와 같은 서비스로 구매를 유도할 필요가 있다. 은 고객에게 맞는 운동 관리를 제공한 뒤 건강 목표를 달성하면 향후 현금으로 쓸 수 있는 포인트를 준다. 사이클 등 총 5가지 종목의 활동 기준을 달성하면 보험료를 최대 25. 60개월까지 할인해주고 있다. 헬스케어 서비스가 아직은 걸음마 단계이긴 하나 보험사들은 단순히 전문 헬스케어 업체와의 제휴에 그치지 않고. 헬스케어 자회사를 설립하는 분위기다. KB손해보험은 지난해 10월 보험업계 최초로 헬스케어 자회사인 . 건강검진 정보 분석을 통해 건강 관리 코치를 제공하는 등 보험의 역할을 기존 사후보장에서 사전예방 시스템으로 끌어올리겠다는 구상이다. 생명보험업계에선 신한라이프가 KB손보의 대항마로 꼽히고 있다. 신한라이프는 헬스케어 자회사 . 현재 제공 중인 홈트레이닝 플랫폼 유료 서비스 . 향후 더 다양한 헬스케어 서비스를 선보일 것으로 알려졌다. 보험사의 헬스케어를 적극적으로 지원하겠다는 금융당국의 의지도 더해지면서. 앞으로 보험업계의 헬스케어 산업 주도권 경쟁은 치열해질 것으로 보인다. 다만 보험사가 인터넷병원을 설립하는 것이 가능한 해외 수준으로 발전하기 위해서는 넘어야 할 산이 많다. 이 의료 기관을 통해서만 의료 서비스를 제공할 수 있기 때문에. 보험사가 건강검진 데이터를 분석해 진단을 내리는 등의 의료 행위를 하면 불법이 된다. 의료계는 원격 진료 등을 포함한 관련 규제 완화에 강력하게 반발하고 있다.\n"
     ]
    },
    {
     "name": "stderr",
     "output_type": "stream",
     "text": [
      "익명화 진행 중:  14%|█▍        | 12035/85771 [00:59<05:21, 229.07it/s]"
     ]
    },
    {
     "name": "stdout",
     "output_type": "stream",
     "text": [
      "Row 12000 기업명 -> 익명화 이름 매핑: {'삼성전자': 'X사', '삼성생명': 'K사'}\n",
      "Row 12000 after anonymization - 기업명: K사, full_text: 삼성그룹 '조용한 85주년'…매출은 첫 400조 넘어서 재계에 따르면 삼성은 그룹 창립 기념일을 맞았지만 별도 행사 없이 평소와 같은 하루를 보냈다. 이 회장의 별도 메시지도 나오지 않았다. 삼성그룹의 창립 기념일은 그룹 모태인 삼성상회가 세워진 3월 1일이지만 1987년 3월 22일 고. 을 선언하면서 창립 기념일을 새롭게 정했다. 삼성은 대규모의 창립 행사 대신 사내 특집 방송 등 내부 행사를 열면서 창립 기념일을 지냈다. 하지만 2017년 그룹 컨트롤타워였던 미래전략실 해체 이후부터는 삼성물산의 설립일로 의미를 축소했다. 그룹 창립 기념일과 별개로 삼성전자는 11월 1일을 창립 기념일로 삼아 매년 기념 행사를 하고 있다. 이날은 삼성전자공업주식회사가 1988년 삼성반도체통신주식회사를 합병한 날이다. 기업 분석 전문 한국CXO연구소에 따르면 지난해 삼성그룹의 계열사 전체 매출은 402조 원이다. 삼성그룹이 매출 400조 원을 넘긴 것은 사상 처음이다. 연구소는 전체 60개 계열사 중 감사 보고서와 사업 보고서 등을 통해 매출을 확인할 수 있는 20곳을 대상으로 조사했고 아직 실적이 공시되지 않은 40개 계열사를 합치면 총 415조. 420조 원대의 매출을 기록할 것으로 예상했다. 그룹의 핵심 기업인 X사 매출은 지난해 211조 8674억 원으로 전년. 199조 7447억 원. 연결 기준으로는 지난해 302조 2313억 원으로 역대 처음으로 300조 원을 넘었다. 삼성 계열사 중 10조 원 이상의 매출을 올린 계열사는 총 7곳이었다. 삼성전자에 이어 K사. 34조 4850억 원. 30조 7794억 원. 26조 4065억 원. 25조 2109억 원. 17조 4582억 원. 13조 1220억 원. 또 지난해 1조 원 이상 매출을 올린 계열사 중 전년 대비 매출이 10. 이상 늘어난 곳은 9곳이었다. 이 가운데 삼성SDI의 자회사로 2차전지 소재 등을 제조하는 에스티엠. 은 지난해 1조 114억 원의 매출로 전년. 이상 고공 성장을 기록했다.\n"
     ]
    },
    {
     "name": "stderr",
     "output_type": "stream",
     "text": [
      "익명화 진행 중:  15%|█▌        | 13029/85771 [01:03<04:59, 242.61it/s]"
     ]
    },
    {
     "name": "stdout",
     "output_type": "stream",
     "text": [
      "Row 13000 기업명 -> 익명화 이름 매핑: {'신한지주': 'B사'}\n",
      "Row 13000 after anonymization - 기업명: B사, full_text: ET투자뉴스]B사 18년4분기 실적 발표, 매출액 상승세 지속 감소하였지만 영업이익은 154. 4억원으로 집계되었다. 당기순이익 역시 개선되어 5236. 9억원으로 상승하였다. 이번분기 기준으로 추정되는 신한지주의 자기자본이익률. 전년 동기인 2017년 4분기 ROE는 2. 한편 동종목의영업이익률은 10. 지난해 동기 영업이익률은 4. 로 이번 4분기가 5. 주가가 1주당 수익의 몇배가 되는지 나타내는 주가수익비율. 전년 동기 PER은 110. 76배로 이번 분기에 하락했다. 주가가 1주당 순자산의 몇배인지 알려주는 주가순자산비율인 PBR은 0. PBR은 최근 4분기 이상 연속으로 하락하다가 이번 분기에 상승했다. 지난해 동기 PBR은 0. 71배로 이번 4분기 PBR이 하락했다. 다음은 신한지주와 동일 업종 내 비교 그룹 종목의 각각 최근 실적의 전년 동기 대비 성장률이다. 신한지주의 매출액은 감소했지만 증감율은 타 종목 대비 가장 우수한 편이다. 그리고 주가는 하락하였지만 가장 나은 상승률을 기록하였다\n"
     ]
    },
    {
     "name": "stderr",
     "output_type": "stream",
     "text": [
      "익명화 진행 중:  16%|█▋        | 14033/85771 [01:08<05:12, 229.68it/s]"
     ]
    },
    {
     "name": "stdout",
     "output_type": "stream",
     "text": [
      "Row 14000 기업명 -> 익명화 이름 매핑: {'하나금융지주': 'U사', 'KB금융': 'J사', '신한지주': 'R사'}\n",
      "Row 14000 after anonymization - 기업명: R사, full_text: 은행업 긍정적 촉매 없는 상황, 상승 기대감 시기상조-NH證 J사 외에도 U사. DGB금융지주 등의 목표가도 일제 하향됐다. 윤유동 연구원은 기존 은행업종 투자의견은 . 을 유지하되 성장률과 마진. 자산건전성 등 핵심 가정 및 목표가는 경기 하방 경직성을 반영해 더 보수적 스탠스로 전환한다고 했다. 이들은 기업들의 투자. 고용 위축으로 대출 수요가 제한적일 것이며 부동산 규제 강화로 가계대출 성장도 한계에 다다를 것이라며 2020. 2022년 평균 대출성장률을 종전 4. 또 현재의 경기상황과 코로나19 확산에 따른 경기 둔화 가능성이 있다며 2020년에도 시장금리는 지속적으로 낮아질 것이라고 봤다. 1분기 및 연간 GDP. 증가율 전망치도 각각 1. 다만 대손율은 은행 전반적 자산 건전성이 경기 상황 대비 양호한 수준이라며 대손율 전망치는 현재의 38bp. 이들은 펀더멘털 성적 상위권 은행들의 포지션이 굳어졌으며 중위권 은행들의 평준화가 뚜렷해졌다며 다수의 연말 특이요인 및 선제적 비용인식 감안시 중상위권 은행들의 핵심이익은 안정적인 추세인 반면 펀더멘털 약체 은행들은 경기침체 여파가 핵심이익과 건전성 악화로 이어지며 상위권과의 격차가 벌어졌다. 2020년에도 부익부 빈익빈은 지속될 것이라고 했다. 또 단기적으로 은행 성장성과 수익성을 뒤바꿀 긍정적 촉매가 부재한 상황이라며 코로나19 발생과 확산으로 인한 경기 둔화. 대규모 사모펀드 손실사태로 불거진 배상책임 이슈는 은행섹터 펀더멘털과 센티먼트에 추가적 부담요소로 판단된다. 향후 중장기적 은행섹터 주가 향방은 펀더멘털 퀄리티 지속가능 여부로 판가름날 것이라고 했다. 이어 기존 보수적 은행업종 투자의견에 긍정적 전환을 기대하기 힘들다며 주가와 밸류에이션 상승 변곡점에 대한 기대는 시기상조라고 했다\n"
     ]
    },
    {
     "name": "stderr",
     "output_type": "stream",
     "text": [
      "익명화 진행 중:  18%|█▊        | 15038/85771 [01:12<05:49, 202.41it/s]"
     ]
    },
    {
     "name": "stdout",
     "output_type": "stream",
     "text": [
      "Row 15000 기업명 -> 익명화 이름 매핑: {'삼성물산': 'Y사', '삼성증권': 'M사', 'LG유플러스': 'Q사', '신한지주': 'U사'}\n",
      "Row 15000 after anonymization - 기업명: U사, full_text: 상속세 이슈 부각된 삼성주 '나홀로 업'…전통 배당주는 고개 푹 전통적인 배당주로 알려진 통신주도 약세 흐름을 보이면서 고배당주의 주가 부진은 지속되고 있다. 이건희 삼성그룹 회장의 주식 상속세가 11조원으로 확정되면서 삼성 계열사들의 배당 기대감은 더욱 커지고 있어 주가 상승 탄력이 더욱 강해질 것이라는 전망이 나온다. 지난 9월 말 공시된 이 회장의 지분율. 을 반영하면 이날까지 지분가치 평균액은 총 18조9633억원에 이른다. 24일 한국거래소에 따르면 전날 삼성물산은 전장대비 4500원. 상승한 13만7000원에 거래를 마쳤다. 삼성물산은 지난 22일부터 이틀 연속 3. 대의 주가 상승률을 기록했다. 삼성생명 역시 지난 22. 23일 이틀 연속 상승세로 장을 마감했다. 급등한 8만원에서 장을 끝냈다. 삼성전자도 이날 전장대비 2. 상승세에서 거래를 마쳤다. 김한이 KTB투자증권 연구원은 삼성그룹 지배구조에 대한 기대감으로 Y사 주가는 더욱 상승가능성이 높다며 내년 1. 2월 Y사 관계사의 배당발표와 4월내로 예상되는 상속구도 확정 여부가 주가 변곡점을 좌우할만한 이벤트가 될 것이라고 말했다. 금융정보업체 에프앤가이드에 따르면 올해 주당 5. 이상의 배당수익률을 기록할 것으로 추정되는 고배당주는 총 15개 종목이다. 기업은행 등 금융주들이 가장 많고 M사. 현대해상 등 금융주들이 대다수다. 하지만 이들 종목들의 주가는 대체로 부진한 흐름을 보였다. 고배당주로 주목받는 금융주들이 올해는 금융당국의 배당 축소 권유 때문에 배당성향이 지난해보다 20. 이상 낮아질 가능성이 커지고 있어서다. 통상 배당성향은 배당금을 당기순이익으로 나눈 것인데 배당성향이 높다는 것은 기업이 수익을 낼때마다 주주에게 많이 돌려줬다는 의미다. 올해 금융주들의 배당이 종전대비 축소될 것으로 전망되면서 주가도 발목이 잡혔다. 이 가운데 하나금융지주의 올해 배당수익률은 5. 에 이를 것으로 전망된다. 포인트가 증가한 수치다. 하나금융지주는 지난 23일 전장대비 650원. 하락한 3만4900원에 거래를 마쳤다. 이상 배당수익률을 기록한 금융주들의 주가도 약세를 기록했다. 가 이날 약세로 장을 마쳤다. 현대중공업지주도 작년대비 0. 로 높은 배당수익률을 기록하고 있지만 전장대비 1. 하락한 30만3500원에 장을 마감했다. 에 달하는 현대중공업지주도 지난 이틀. 연속 하락세를 기록했다. 지난 23일에는 전장대비 1. 하락한 30만5000원에 거래를 마쳤다. 전통적인 배당주로 알려진 통신주도 주가는 약세 흐름이다. KT의 배당수익률은 올해 4. 포인트 상승했지만 주가는 이틀 연속 약세를 기록했다. SK텔레콤과 LG유플러서의 배당수익률은 각각 4. 로 고배당주에 속한다. SK텔레콤과 Q사 모두 지난 22일 2. 넘게 빠졌다가 다시 반등하며 장을 마쳤다. 배당주가 올해 힘을 쓰지 못하고 있는 것은 이미 기대감이 선반영된 영향도 있다는 분석이다. 강현정 교보증권 연구원은 코스피200에 속한 198개사 중에 162개 기업이 배당을 줄 것이라며 금융당국이 금융권의 손실흡수능력을 확충하기 위해 배당축소를 권고하기 때문에 금융주는 배당을 전년도보다 높게 주기 어려울 것으로 보인다고 말했다. 이어 삼성전자의 배당 증가가 이뤄진다면 IT 업종 현금배당은 전년대비 약 50. 증가가 예상된다고 덧붙였다\n"
     ]
    },
    {
     "name": "stderr",
     "output_type": "stream",
     "text": [
      "익명화 진행 중:  19%|█▊        | 16024/85771 [01:17<05:25, 214.03it/s]"
     ]
    },
    {
     "name": "stdout",
     "output_type": "stream",
     "text": [
      "Row 16000 기업명 -> 익명화 이름 매핑: {'제일기획': 'I사', 'SK텔레콤': 'C사', '전방': 'R사', 'KB금융': 'X사', '삼성전자': 'O사', 'LG유플러스': 'A사', '신한지주': 'Y사'}\n",
      "Row 16000 after anonymization - 기업명: Y사, full_text: “찬바람이 불어온다” 성큼 다가온 배당주의 계절…금융·통신주 담아라 연말 배당을 앞두고 10. 11월쯤 배당주 투자 수요가 몰려서 나온 말이다. 특히 최근 들어 코로나19 재확산. 글로벌 경기 회복세 둔화 등 증시 불확실성을 끌어올리는 변수가 부각되며 부쩍 배당주에 관심이 쏠리는 모습이다. 강현기 DB금융투자 애널리스트는 . 배당주는 변동성이 커지면 프리미엄이 부과된다. 오랜 기간 저평가받았고 거시경제 환경. 까지 배당주에 우호적인 방향으로 흘러가고 있다. 성장주 다음의 투자 대상을 찾는 과정에서 배당주가 선택받을 가능성도 크다. 배당에 적극 나서는 기업이 늘었다는 것도 투자자가 반길 만한 사안이다. 과거 국내 기업은 배당에 인색하다는 인식이 강했다. 하지만 최근 들어서는 분위기가 달라졌다. 금융정보업체 에프앤가이드에 따르면 2020년 상장 기업 배당금액은 43조1325억원. 12월 결산 법인 기준. 특별배당을 한 O사 배당금을 제외해도 4. 올해 상반기에는 국내 상장 기업 중간배당 지급액이 처음으로 4조원을 넘기도 했다. 전문가들은 단순히 배당수익률이 높은 종목을 매수하는 전략은 피하라고 조언한다. 배당수익률만을 기준으로 무턱대고 종목을 골랐다가 배당수익률 이상으로 주가가 하락하면 오히려 손해를 볼 수 있다. 더불어 실적이 부진하거나 실적 전망이 크게 악화되면 배당이 줄어들 수 있다. 최악의 경우 아예 배당을 못 받을 가능성도 존재한다. 따라서 단순히 고배당주보다는 배당을 많이 하거나 꾸준히 늘리는 기업 중 올해 이익 성장이 기대되는 종목을 담는 전략이 효과적이다. 지수에 포함된 종목 중 올해 순이익 증가가 예상되는 종목을 추렸다. 코스피고배당50과 KRX고배당50지수는 배당수익률이 높은 종목을 담는다. 코스피배당성장50은 최근 사업연도 주당배당금. 이 지난 7사업연도 평균 주당배당금 대비 증가한 종목을 편입한다. 통신 등의 섹터에 속하는 종목이 다수 이름을 올렸다. 보험주 눈길 실적 고공행진. 금리 인상도 호재 금융 섹터에서는 은행주 선전이 돋보인다. Y사 등 시중은행과 BNK금융지주. JB금융지주 등 지방은행이 여럿 포함됐다. 상반기 은행주는 시장금리 상승에 따른 순이자마진 개선. 투자 열풍에 힘입어 호실적을 기록했다. KB금융은 당기순이익이 전년 동기 대비 44. 늘었고 하나금융지주는 30. BNK금융지주와 DGB금융. JB금융지주 역시 상반기 당기순이익이 각각 40. 8월 기준금리가 오른 데 이어 한국은행이 추가 금리 인상 의지를 시사한 만큼 앞으로도 은행주 실적에 유리한 환경이 이어질 가능성이 크다. X사 등 일부 종목은 최근 주가가 부진했지만 반등 구간에 들어설 확률이 높다는 분석이 주를 이룬다. 최정욱 하나금융투자 애널리스트는 . 테이퍼링 시작 시기는 불확실하지만 미국 연방준비제도 긴축 속도가 완만하다면 경기 확장 국면이 연장될 것이다. 실적 개선에 따라 DPS도 오를 것이며 4분기로 갈수록 배당을 염두에 두고 투자하는 수요가 커질 확률이 높다. 금리 모멘텀이 반영될 수 있어 은행주 비중을 확대하기에 적절한 시기. 최 애널리스트가 예상하는 은행주 평균 기대 배당수익률은 올해 5. 은행주 외에 보험주와 증권주도 눈여겨봄직하다. 보험주는 은행주와 더불어 대표적인 금리 인상 수혜주로 꼽힌다. 금리가 오르면 자산운용 수익률이 개선될 가능성이 크다. DB손해보험이 보험 부문 주요 종목이다. 삼성화재는 지난해 8800원이었던 DPS가 올해 1만원을 넘어설 전망이다. 현대해상은 지난해 1000원에서 올해는 1200. 1300원대로 오를 것으로 예상된다. DB손해보험은 2019년 86. 를 기록한 손해율이 올해 2분기 기준 80. 손해율은 고객한테 받은 보험료 대비 지급한 보험금 비율을 가리킨다. 상반기 순이익이 전년도 순이익 대비 40. 가까이 늘어난 4891억원을 기록하는 등 실적도 순항한다. 지난해 DPS는 2200원. 증권가에서 예상하는 올해 DPS는 2000원대 후반이다. 증권주는 금리 인상이 악재로 작용할 가능성이 있다. 하지만 8월 금리가 한차례 오른 데다 최근 증시가 박스권을 맴돌고 있음에도 하루 평균 거래대금이 20조원대 중후반으로 높은 수준을 유지하고 있다. 증시 예탁금 역시 60조원대 후반. 70조원대에 머물고 있으며 CMA 계좌 잔고는 60조원대를 기록 중이다. 주식 시장에서 투자자가 급격히 빠져나가 증권사 실적 악화나 주가 급락으로 이어질 확률이 낮다는 뜻이다. 배당 투자자가 눈여겨볼 만한 증권주로는 삼성증권과 NH투자증권이 언급된다. 대 초반의 배당수익률이 예상된다. 통신 3사 모두 배당 증가 기대 5G 성장에 분기 영업이익 1조원 돌파 통신 부문에서는 3사. 모두 목록에 들어 있다. 통신 3사는 상반기 실적이 크게 성장했다. 1분기 3사 영업이익을 합친 금액은 1조1086억원. 14분기 만에 합산액이 1조원을 돌파했다. 2분기에는 총 영업이익 1조1408억원을 기록하며 한층 더 성장했다. 고가 단말기와 요금제를 쓰는 5G 스마트폰 가입자가 늘고 소비자 데이터 사용량이 증가한 것이 호재로 작용했다. 김회재 대신증권 애널리스트는 . 통신업은 팬데믹 상황에 크게 영향을 받지 않는다. 1분기와 2분기 이익 개선은 기저효과가 아니라 산업의 구조적 변화에 따른 현상이다. 2019년 4월 5G 서비스를 시작하며 고객 1인당 평균 매출. 이 반등하기 시작했다. LTE 초기 대비 상승 속도는 느리지만 꾸준한 상승이 기대된다. 3사 모두 개선된 이익을 기반으로 배당을 늘리고 있다. 며 투자 의견으로 비중 확대. 올해 DPS로는 C사 1만. A사 500원을 예상한다. 2020년 DPS는 C사 1만원. A사 450원이었다. 이외 업종에서는 포스코. I사 등을 눈여겨봄직하다. 포스코는 올해 들어 실적이 눈에 띄게 개선됐다. 지난해 코로나19 여파로 자동차. 건설 등 철강을 기초 소재로 활용하는 주요 산업이 침체되고 포스코 매출과 영업이익은 전년도 대비 감소했다. 그러나 올해 R사 산업이 활기를 띠며 포스코 실적 역시 반등하는 모습이다. 상반기 포스코는 매출 34조4000억원. 영업이익 3조7500억원을 기록했다. 각각 전년 동기 대비 21. 순이익은 5400억원에서 2조9500억원으로 급증했다. 실적 개선에 힘입어 지난해 2. 를 기록한 배당수익률이 올해에는 3. 대로 뛸 것으로 기대된다. 제일기획은 코로나19가 장기화되고 광고 시장이 침체돼 시장 상황이 안 좋았지만 선방하고 있다. 디지털 마케팅을 통해 팬데믹 충격을 최소화하는 데 적극 나선다는 것도 돋보인다. 황성진 흥국증권 애널리스트는 . 디지털 사업 비중이 2020년 43. 에서 올해 상반기 49. 코로나19가 가속화한 비대면 경제로의 흐름에 효율적으로 대응하고 있다. 선을 유지하는 주주친화적인 환원 정책을 감안하면 올해 DPS는 최소 900. 1000원 사이에서 결정될 것으로 보인다\n"
     ]
    },
    {
     "name": "stderr",
     "output_type": "stream",
     "text": [
      "익명화 진행 중:  20%|█▉        | 17036/85771 [01:22<05:31, 207.57it/s]"
     ]
    },
    {
     "name": "stdout",
     "output_type": "stream",
     "text": [
      "Row 17000 기업명 -> 익명화 이름 매핑: {'하나금융지주': 'W사', '삼성증권': 'O사', '우리금융지주': 'I사', '신한지주': 'N사'}\n",
      "Row 17000 after anonymization - 기업명: N사, full_text: 대출 0.80%p 뛸때, 예금은 0.52%p...4대금융 3분기에도 달렸다 4대 금융그룹이 가파른 금리 상승에 따른 이자이익 증가로 지난 3분기에도 역대 최고 수익을 낸 것으로 보인다. 기준금리 인상이 내년까지 이어질 전망이지만 경기침체 우려 등 거시경제 여건 악화로 내년 수익성은 둔화할 가능성이 있다. 19일 금융권에 따르면. 우리금융그룹 등 4대 금융그룹은 오는 25일 일제히 3분기 성적표를 시장에 공개한다. 금융정보업체 와이즈리포트에 따르면. 4대 금융그룹의 3분기 합산 순이익은 4조6455억원 규모로 추정된다. 는 물론 분기 기준 역대 최대였던 1분기. 를 뛰어 넘는 최고 실적이다. 호실적은 단연 금리 상승 덕분이다. 한국은행의 기준금리 인상으로 대출금리 상승 기울기가 커지면서 금융그룹 맏형인 4대 시중은행의 이자이익이 늘었다. 금리 상승기에는 증시 등 자산시장 침체로 증권 계열사 수익이 나빠지는 반면 예대금리차가 커져 은행 수익성은 뚜렷하게 개선된다. 한은이 발간한 국내 은행의 예대금리차 변동요인 분석 자료를 봐도 지난해 하반기부터 올해 상반기까지 예금은행 대출금리. 오르는 동안 예금금리 인상폭은 0. 은행이 고객에게 이자를 내주는 수신은 금리가 최저 0. 수준에 불과한 저원가성 예금 비중이 절반을 웃도는 반면. 대출자산 중에선 금리 상승 때 고객으로부터 받는 이자가 늘어나는 변동금리 비중이 80. 한 시중은행 고위 관계자는 예금 등 수신금리도 많이 올랐지만 금리가 낮은 저원가성 예금 비중이 원체 높고. 초저금리 때 늘려놓은 대출 자산의 리프라이싱. 효과로 예대금리차가 커지는 등 이자이익이 늘 수밖에 없는 구조라며 다만 3분기에는 예적금 금리 인상과 은행채 금리 상승 등의 영향으로 조달비용이 상승해 순이자마진. 상승폭은 축소됐다고 전했다. 개별회사별로는 신한지주의 3분기 순이익 추정치가 1조5159억원으로 가장 높다. 이어 KB금융이 1조2709억원으로 뒤를 잇고. W사 9877억원. I사 8710억원 순으로 예상된다. 김재우 O사 연구원은 정기예금 유입 확대로 저원가성 예금이 이탈하는 과정에서도 신한지주는 서울과 인천 등 시. 구금고은행 선정으로 안정적인 저원가성 예금을 확보했고. 도 높아 이익 방어에 유리했다고 평가했다. 신한투자증권 사옥 매각으로 발생한 일회성 이익. 세후 약 3000억원. 신한지주는 분기 기준으로 지난 2분기에 이어 2개 분기 연속 KB금융보다 수익성에서 앞서게 된다. 올해 4대 금융그룹의 연간 합산 순이익은 17조원 안팎에 달할 전망이다. 다만 거시경제 악화와 대손비용 증가 가능성이 있어 4분기 실적 불확실성은 여전히 크다. 저원가성 예금이 고금리 예. 적금으로 이탈하는 현상이 가속화하면 손익에 악영향을 줄 수 있다. 은행 요구불예금은 3분기에만 20조원 넘게 줄었다. 기준금리 상승이 해를 넘겨 이어질 것으로 보이지만 내년 실적도 장담하기 이르다. 경기침체 우려가 더 짙어지고 금리 상승이 부실을 촉발해 자산 건전성이 악화할 수 있기 때문이다. 은행 예대금리차 공시로 금융회사들이 과도한 예대마진을 가져간다는 비판 여론도 부담이다. 주요 은행들이 최근 한은의 . 이후 수신금리를 기준금리 인상분. 이상 잇따라 올리는 배경이다. KB국민은행은 이날 38종 정기 예. 적금 금리를 20일부터 최대 0. p 인상한다고 발표했다. 15종 및 적립식예금 23종의 금리를 인상한다고 밝혔다. Sh수협은행도 이날 주요 예적금상품 기본금리를 최고 1\n"
     ]
    },
    {
     "name": "stderr",
     "output_type": "stream",
     "text": [
      "익명화 진행 중:  21%|██        | 18032/85771 [01:26<05:10, 217.81it/s]"
     ]
    },
    {
     "name": "stdout",
     "output_type": "stream",
     "text": [
      "Row 18000 기업명 -> 익명화 이름 매핑: {'KB금융': 'A사', '신한지주': 'F사'}\n",
      "Row 18000 after anonymization - 기업명: F사, full_text: 새 회계기준 반겼던 보험사…1분기 첫 성적표 펼쳐보니 특히 바뀐 회계기준에 유리한 보장성 보험 확대를 적극적으로 준비해온 보험사들의 실적 개선이 두드러졌다. 5월 발표될 다른 보험사들의 실적발표도 비슷한 흐름이 전망된다. DGB금융지주의 1분기 실적공시에 따르면. 계열 보험사인 KB손해보험. 출범 1년 미만사 제외. 등 4개사 당기순이익은 총 4162억원으로 전년 동기 3493억원 대비 19. 먼저 A사 계열사를 보면. KB손보의 1분기 당기순이익은 2538억원으로 전년 동기 대비 25. 전분기 1427억원 손실을 기록했던 것과는 상반된다. 실적 개선은 손해율 개선과 새 회계기준에 유리한 자녀보험 등 보장성 영업 판매 확대 전략이 주효했다. 1분기 손해율은 81. 은 1년 전 7조5820억원에서 8조1900억원으로 증가했다. 오병주 A사 보험총괄 상무는 자녀보험과 같이 수익률이 가장 좋은 상품을 타사 대비 선제적으로 공급하면서 GA. 채널서 괄목할 만한 시장지위 확보한 점이 컸다며 신계약 월납비 대비 CSM 전환율은 20. 넘는 수준으로 예상된다고 말했다. KB생명과 푸르덴셜생명 통합 출범 이후 첫 실적을 발표한 KB라이프생명도 937억원의 순이익을 냈다. 1년 전보다 채권금리가 낮아지면서 유가파생손익이 증가했고. 투자수익률이 개선된 영향이 컸다. 계열사인 신한라이프의 1분기 순이익은 1338억원으로 전년 동기 대비 3. 전분기 대비해선 69. KB손보와 마찬가지로 보장성 보험 비중을 높인 영향을 받은 것으로 분석된다. 신한라이프의 보장성 연납화보험료는 1년 사이 1509억원에서 2179억원으로 44. 반면 저축성 및 연금 연납화보험료는 57. 줄어드는 등 부채로 인식될 수 있는 상품은 적극적으로 규모를 낮췄었다. 지난해 6월 새롭게 출범한 신한EZ손해보험은 9억원의 적자를 기록했지만. 전분기 대비 적자 폭. 의 DGB생명도 순이익이 2. DGB생명의 1분기 순이익은 306억원으로 전년 동기 대비 123. 의 보험계열사인 하나생명은 20억원의 당기순손실을 기록했다. 올해부터 신용위험 등 보험위험까지 전부 반영해 부채를 평가하면서 실적이 되레 악화한 것으로 보인다. 그간 보험사들은 자산은 시가로. 부채는 원가로 평가해 이익을 계산하고. 이를 실적으로 공개해 왔다. 반면 새 회계기준에서는 부채도 시가로 평가한다. 이 때문에 미래예상이익을 계약시점에 부채로 인식하고 보험계약 기간에 상각해 이익으로 인식하는 CSM 확대가 순이익 상승에 영향을 줄 것이라고 전망돼 왔는데. 실적으로도 구체화한 것이다. 금융업권 관계자는 전망처럼 새 회계기준에 대비할 수 있는 여력이 큰 대형사들의 실적이 양호하게 나타난 양상이라며 중형사들의 경우 CSM 산출 기준 등에 따라서도 순위 차이가 발생할 수 있을 것으로 보인다고 내다봤다.\n"
     ]
    },
    {
     "name": "stderr",
     "output_type": "stream",
     "text": [
      "익명화 진행 중:  22%|██▏       | 19042/85771 [01:31<04:56, 225.29it/s]"
     ]
    },
    {
     "name": "stdout",
     "output_type": "stream",
     "text": [
      "Row 19000 기업명 -> 익명화 이름 매핑: {'현대모비스': 'X사'}\n",
      "Row 19000 after anonymization - 기업명: X사, full_text: 화이트리스트 배제하자마자…한일, 내일 외교부 협의 청와대가 어떤 입장을 밝혔습니까. 기자청와대가 일본이 화이트리스트 배제를 강행하자 유감의 뜻을 밝혔습니다. 김현종 청와대 국가안보실 2차장은 지소미아 종료에 대한 일본의 주장도 정면으로 반박했습니다. 김현종 청와대 국가안보실 2차장 . 부로 우리를 백색국가에서 제외하는 조치를 시행했습니다. 정부는 일본의 이번 조치에 강한 유감을 표합니다. 당초 안보 문제와 수출규제 조치를 연계시킨 장본인은 바로 일본이라는 점을 다시 한번 강조합니다. 앵커문재인 대통령도 따로 메시지를 내놨죠. 문재인 대통령은 오늘 오전 . X사 친환경차 부품 울산공장 기공식. 문 대통령은 일본을 직접 언급하지는 않았습니다. 하지만 시점과 내용을 보면 사실상 기술 탈일본화. 극일 의지를 밝힌 것으로 볼 수 있습니다. 자유롭고 공정한 무역체제가 흔들리고 정치적 목적의 무역보복이 일어나는 시기에 우리 경제는 우리 스스로 지킬 수밖에 없습니다. 앞서 김상조 청와대 정책실장도 외교적 노력을 계속하는 가운데 결과와 상관없이 산업 생태계를 근본적으로 혁신하는 기회로 삼겠다고 말했습니다. 앵커일본 정부 이야기는 어떻습니까. 기자스가 요시히데 일본 관방장관은 안전보장상의 관점에서 수출 관리를 적절하게 실시하기 위한 것이라고 밝혔습니다. 또 한일관계에 대해 강제징용 소송 문제가 가장 큰 문제라고 언급했습니다. 방금 우리 외교부가 새로운 소식을 발표했습니다. 외교부는 내일 한일 양국 외교 당국간 협의가 서울에서 열린다고 밝혔습니다. SBSCNBC 최나리입니다. 의견 있는 경제채널 SBSCNBC 경제를 실험한다. 머니랩 저작권자 SBS미디어넷 SBS IM 무단전재\n"
     ]
    },
    {
     "name": "stderr",
     "output_type": "stream",
     "text": [
      "익명화 진행 중:  23%|██▎       | 20044/85771 [01:35<04:48, 227.57it/s]"
     ]
    },
    {
     "name": "stdout",
     "output_type": "stream",
     "text": [
      "Row 20000 기업명 -> 익명화 이름 매핑: {'NH투자증권': 'P사', '삼성증권': 'B사', 'SK하이닉스': 'Q사', '현대모비스': 'M사'}\n",
      "Row 20000 after anonymization - 기업명: M사, full_text: 코스피, 5개월만에 2200선 안착…성장주·경기민감주 담아라 19일 지난주 코스피지수는 전주 대비 2. 종가가 2200선을 회복한 것은 지난 2월18일. 이후 5개월만에 처음이다. 가 재확산되고 있지만. 코로나19 백신 개발에 대한 기대감과 경기 민감주들의 반등으로 증시는 상승세를 보였다. 이번주에는 실적 시즌이 본격화된다. 2분기 실적보다는 기업들의 미래 전망에 투자자들은 집중할 것으로 예상된다. 오는 21일에는 포스코. 23일에는 Q사. 24일에는 현대모비스가 실적을 발표할 예정이다. 신승진 B사 연구원은 코로나19로 실적에 대한 기대치는 낮아져 있다며 투자자들의 시선은 지금보다는 미래에 초점이 맞춰질 것이라고 말했다. 그는 이번 유동성 장세의 근간은 글로벌 정부들의 정책 대응과 달러 약세에 따른 성장주 중심 랠리라며 지난주 BBIG7. 게임 관련 7개 종목. 주도주 들이 가격 조정을 받았지만. 성장세는 계속될 것이라고 판단했다. 미국에서 빠른 속도로 코로나19가 재확산 되고 있고. 추가 경기 부양책도 소강상태라는 점은 불안 요소다. 하루 신규 확진자 수가 7만7255명으로 최고치를 기록했다. 김영한 P사 연구원은 주식 시장 전반의 상승 동력은 약해진 상황이라며 추가 상승을 위해서는 미국 의회의 경기부양책이 필요한데 공화당과 민주당의 간극이 큰 상황이라고 설명했다. 미국 민주당은 3조5000억달러의 부양책을 지지하는데 반해 공화당은 1조3000억달러의 부양책을 준비하는 것으로 알려졌다. 김 연구원은 코스피지수가 2200선까지 올랐고. 미국 추가 부양책도 불확실해 이는 위험자산에 대한 투자 심리를 약화시킬 것이라며 이달 들어 상승폭이 컸던 주식들의 모멘텀 약화 가능성을 감안해 성장주와 경기민감주의 바벨 전략을 추천한다고 했다\n"
     ]
    },
    {
     "name": "stderr",
     "output_type": "stream",
     "text": [
      "익명화 진행 중:  25%|██▍       | 21037/85771 [01:40<05:05, 212.17it/s]"
     ]
    },
    {
     "name": "stdout",
     "output_type": "stream",
     "text": [
      "Row 21000 기업명 -> 익명화 이름 매핑: {'삼성물산': 'N사', '삼성전자': 'K사', '현대모비스': 'F사'}\n",
      "Row 21000 after anonymization - 기업명: F사, full_text: '총수 투자 발표=주가 상승' 과거와 달라진 새 공식 하지만 요즘 투자는 미래 먹거리 발굴. 수익 증대로 인식되면서 곧 주가 부양으로 이어지고 있다. 지난 24일 이재용 K사 부회장이 3년간 240조원 투자하기로 했다는 소식이 전해지자 K사 주가가 모처럼 빨간 곡선을 그렸다. 3년 전 석방 후 경제 활성화와 일자리 창출 대책으로 발표됐던 180조원보다 60조원나 많은 대형 투자 계획이었다. 그러자 24일 K사 주가는 전일 대비 2300원. 오른 7만5600원에 마감했다. 삼성전자는 지난 5일부터 20일까지 하루를 제외하고 모두 주가가 하락했고. 20일 7만2700원까지 밀리기도 했다. 하지만 대규모 투자 계획이 모멘텀이 되면서 반등에 성공했다. 기관이 K사 주식을 사들이면서 지난 2월 25일 이후 6개월 만에 3. 삼성전자뿐 아니라 이재용 부회장이 대주주로 있는 N사. 과감한 투자로 코로나 이후 산업구조 개편을 선도하고 책임 있는 기업으로서 대한민국 난제 해결과 도약에 기여하겠다. 240조원을 투자하며 첨단 혁신사업을 육성하고 과감한 인수합병으로 시장 리더십의 강화한다는 계획에 투자자들이 반응한 것이다. 허태수 GS 회장도 최근 적극적인 투자에 나서며 미래 먹거리 발굴에 나서고 있다. 배달앱 2위 요기요 인수에 3000억원을 투자하고. 국내 보톡스 1위 기업인 휴젤까지 품었다. GS컨소시엄의 휴젤 인수가 공시된 25일 GS의 주가는 350원. 오른 4만1500원에 마감했다. 휴젤 인수 가능성이 커지면서 GS의 주가는 지난 20일 3만9400원까지 떨어졌다가 최근 상승하며 다시 4만1000원대를 회복했다. 이처럼 투자자들은 GS의 바이오 사업 진출에 관심을 드러내고 있다. GS는 1조7240억원의 매각대금 중 1억5000만 달러. 를 투자하며 휴젤의 대주주로 올라섰다. 허태수 회장은 GS그룹의 바이오 사업을 다각화할 수 있는 플랫폼으로 육성해 미래 신사업인 바이오 사업을 더욱 확장해 나갈 것이라며 기대감을 드러냈다. 정의선 회장이 이끄는 현대차그룹의 현대모비스도 투자 계획 발표 뒤 주가가 반응했다. 지난 20일 장 마감 이후 현대모비스는 연료전지 생산시설 구축에 1조3216억원 투자를 공시했다. 연료전지 제품 경쟁력을 강화하고 양산 효율화를 위한 생산 능력을 확보하기 위한 차원의 투자라는 설명이다. 이에 현대모비스는 지난 20일 25만1500원까지 내려갔던 주가가 23. 25일 3연속 상승하며 26만3000원까지 상승했다. 최태원 SK그룹 회장이 올해 처음으로 선택한 투자처는 주가 부양에 큰 영향을 미쳤다. SK는 지난 1월 7일 SK와 SK ES는 총 1조6000억원. 을 투자해 미국 수소 기업 플러그파워의 지분 9. 최대 주주로 올라선다고 밝힌 바 있다. 12일 플러그파워의 주가가 66달러로 상승했고. 29달러에 해당 주식을 취득했던 SK는 5일 만에 지분 가치가 2조원 증가했다. 이런 투자 성공 소식에 SK 주가도 요동쳤다. 1월 13일 SK의 주가는 28만1500원에서 1만5000원 오른 29만6500원으로 급등했다. 코로나19 이후 분위기가 달라지고 있다. 산업재편 과정에서 한국 기업들의 경쟁력이 부각되고 되고 있다. 투자는 차별화된 기술력 확보로 인식되고 있다\n"
     ]
    },
    {
     "name": "stderr",
     "output_type": "stream",
     "text": [
      "익명화 진행 중:  26%|██▌       | 22028/85771 [01:45<05:10, 205.56it/s]"
     ]
    },
    {
     "name": "stdout",
     "output_type": "stream",
     "text": [
      "Row 22000 기업명 -> 익명화 이름 매핑: {'현대차': 'G사', '삼성전자': 'N사', '롯데쇼핑': 'A사', '현대모비스': 'T사'}\n",
      "Row 22000 after anonymization - 기업명: T사, full_text: G사 3년새 中직원 27% 줄여…삼성전자는 현지법인 매출 13% 뚝 현대차가 해외에 지은 첫 생산 기지였던 이곳은 지난해 10월 중국의 전기차 업체 리오토. 이곳은 한때 베이징현대의 주력 생산 기지였지만 판매량이 급감하며 2019년 4월부터 가동이 중단됐다. 를 넘기기도 했던 현대차의 시장점유율은 지난해 1. 현대차는 결국 공장을 매각하고 상당수의 현지 인력은 구조 조정하는 한편 한국인 직원은 철수시켰다. 국내 수출 제조 기업들의 핵심 생산 거점이었던 중국의 역할이 크게 축소되고 있다. 주요 도시 봉쇄로 공급망 차질이 장기화되고 있는 데다 가장 큰 장점 중 하나였던 저렴한 노동력도 인건비 증가로 예전만 못한 상황이다. 중국 간 무역 분쟁으로 이에 따른 불확실성도 더해지고 있다. 악화하는 투자 환경을 견디지 못한 기업들은 더 나은 경영 환경을 찾아 . 시작한 韓 수출기업21일 서울경제가 국내 수출기업 중 지속경영보고서를 통해 국가별 현지 직원 수를 공개한 12개사를 분석한 결과 8개사는 전체 해외 직원 가운데 중국 직원의 비중이 전년 대비 감소했다. 현대차의 경우 2019년 1만 4638명이던 중국 직원이 2020년 1만 3159명에 이어 지난해에는 1만 741명까지 줄었다. 전체 해외 직원에서 중국 직원의 비중은 같은 기간 28. N사 또한 2019년 2만 649명이던 중국 내 직원 수를 2020년 1만 8099명. 2021년 1만 7820명 등으로 꾸준히 줄여가고 있다. 삼성전자의 경우 반도체와 디스플레이를 판매하는 상하이 법인의 상반기 매출액은 1조 3055억 원으로 지난해 동기보다 13. SK네트웍스 등도 비율에 차이가 있지만 모두 직원 수가 감소했다. 삼성전자는 2019년 광둥성 후이저우 공장의 문을 닫으며 톈진에 이어 마지막 남은 중국 휴대폰 생산 시설을 철수했다. 스마트폰 시장점유율이 2013년만 해도 20. 에 가까울 정도로 중국 시장을 호령했던 삼성이지만 지금은 1. 에도 못 미칠 정도로 쪼그라든 상태다. 중국 내 사업이 축소되면서 사옥 매각도 이어지고 있다. LG그룹은 베이징 트윈타워를 2020년 2월 홍콩계 자본에 팔았다. SK 역시 중국 사업의 컨트롤타워였던 SK타워를 매각했다. 중국에서 잘나가던 화장품 업계도 중국 사업 비중을 연이어 줄이고 있다. 아모레퍼시픽은 중국 내 에뛰드. 이니스프리 등 저가 로드숍 브랜드의 철수 수순을 밟고 있다. 2019년 이후 중국 내 1000개가량. 이니스프리 400여 개. 의 화장품 매장을 폐쇄했다. LG생활건강은 이보다 앞선 2018년 총 130여 개에 달하던 더페이스샵과 네이처컬렉션 중국 오프라인 매장을 모두 철수했다. 유통 업계 또한 앞다퉈 진출했던 중국에서 발을 빼는 분위기다. 롯데는 한때 중국에서 백화점 5곳. 마트 115곳을 운영할 만큼 시장 확대에 의욕을 보였으나 2016년 사드. 보복 사태 이후 중국 당국의 눈 밖에 나면서 사업이 급격히 위축됐다. 이후 2018년 롯데마트 매장을 모두 팔면서 사실상 마트 사업을 철수했고 2019년에는 중국 내 제과. 음료 사업에서 손을 뗐다. 백화점 역시 청두점을 제외한 나머지 매장을 정리해왔다. 그나마 남은 청두점도 최근 A사 이사회에서 지분 매각을 결의한 것으로 전해졌다. 롯데는 기존의 중국 편중을 베트남. 말레이시아 등 동남아시아 지역으로 돌리는 이른바 . 작업에 속도를 내고 있다. 롯데백화점은 2013년 인도네시아에 A사 에비뉴를 출점한 데 이어 2014년 A사 플라자 하노이점. 2015년 다이아몬드 플라자점. 롯데마트도 인도네시아에 49개. 베트남에 14개 등 총 63개의 해외 점포를 열었다. 롯데쇼핑은 반기 보고서에서 . 성장 가능성이 큰 동남아 지역을 중심으로 인수합병. 과 함께 신규 출점을 병행 추진 중. 이라고 밝히기도 했다. 미국 등 발길 옮겨국내 기업들이 중국에서 발을 빼는 가장 큰 이유는 경영 환경 악화다. 중국 경제 위기로 생산. 소비 거점으로서의 매력이 줄어들었고 미국과의 분쟁 심화. 코로나19 확산에 따른 주요 도시 봉쇄 등 불확실성은 높아지고 있다. 전국경제인연합회의 지난해 조사에 따르면 중국에 진출한 한국 기업의 85. 지난 10년 대비 투자 환경이 악화됐다. 이런 상황에서 기업들은 생산 거점을 동남아 등 인건비가 낮은 국가로 다시 옮기거나 아예 공급망 확보. 소비 시장 공략 차원에서 미국. 유럽 등으로 향하고 있다. 중국에 남은 기업들도 자동화 비중을 대폭 늘리는 식으로 인건비 부담을 줄이는 모습이다. 현대차는 중국 사업을 축소하는 대신 북미 지역의 직원 규모를 2020년 1만 304명에서 지난해 1만 5953명으로 늘렸다. 중국 사업 비중이 높은 삼성전기의 경우 차세대 반도체 패키지기판. 의 해외 생산 거점을 베트남에 두기로 결정하는 등 . LG생활건강은 올 4월 미국 제조. 를 약 1485억 원에 인수하는 등 적극적인 MA를 추진하고 있으며 아모레퍼시픽도 북미 온라인 채널 등으로 시장 다변화에 나서고 있다. 업계의 한 관계자는 . 중국이 여전히 큰 시장이지만 외국 기업에 대한 견제가 크고 인건비 부담도 높아지는 등 사업을 위한 매력이 점점 사라지는 것도 사실\n"
     ]
    },
    {
     "name": "stderr",
     "output_type": "stream",
     "text": [
      "익명화 진행 중:  27%|██▋       | 23020/85771 [01:49<05:11, 201.26it/s]"
     ]
    },
    {
     "name": "stdout",
     "output_type": "stream",
     "text": [
      "Row 23000 기업명 -> 익명화 이름 매핑: {'현대모비스': 'P사'}\n",
      "Row 23000 after anonymization - 기업명: P사, full_text: 사흘 만에 1조 던진 외국인..국내 증시 2600 내줬다 그러나 최근 외국인 매도세가 단기 시장 과열에 따른 것인만큼 장기적으로는 주식 비중을 확대해야 한다는 의견도 나온다. 21일 코스피 지수는 전일 대비 22. 63을 기록하며 장을 마감했다. 오후 3시 53분 기준 개인은 6245억원 순매수한 반면 외국인과 기관은 각각 4052억원. 2080억원 순매도했다. 비금속광물은 강보합권에서 마쳤다. 통신업은 약보합권에서 거래를 마쳤다. 시가총액 상위종목에서는 현대차가 6100원. 현대차는 전날 전동화에 36조원을 투자하겠다는 내용을 골자로 . 이에 더해 성장하는 베트남 시장에서 1위 굳히기에 나설 것이라는 소식이 전해지며 장 초반 횡보하던 주가가 오후 들어 상승했다. 반면 NAVER와 카카오는 각각 4. 삼성SDI는 보합권에서 거래를 마무리했다. 이날 코스피는 부진했던 미 증시 영향으로 장 초반부터 약세를 보이다 장 중 거세지는 외국인의 매도세에 낙폭을 키웠다. 서 연구원은 이날 코스피는 원화 약세. 외국인 매물 출회도 하락 요인으로 작용했다며 중화권 증시 휴장을 앞두고 경계감이 확대된 영향도 있다고 설명했다. 코스닥도 하락 마감했다. 코스닥 지수는 전일 대비 10. 71로 장을 마감했다. 개인은 2820억원 순매수했지만 외국인과 기관이 각 1867억원. 806억원 순매도했다. 매체복재가 강보합으로 마쳤다. 컴퓨터서비스는 약보합권에서 거래를 마감했다. 코스닥 시가총액 상위종목에서는 더블유씨피가 2. 오르며 유일하게 상승 마감했다. 에코프로와 에코프로비엠은 약보합권에서 거래를 마쳤다. 증시 변동성이 커진 상태다. 그러나 증권가에서는 이 같은 변동성 확대가 장기적으로 지속되지 않고. 단기에 그칠 것이라고 판단한다. 따라서 주식 비중 확대에 나서야 한다는 진단이다. 이경민 대신증권 투자전략팀장은 오늘 밤 11시. 예정된 파월 연준 의장의 하원 금융서비스 위원회 청문회 앞두고 경계심리가 유입됐다면서도 최근 약세는 단기 과열에 따른 매물 소화 과정으로. 피해야 할 조정이 아닌 주식 비중 확대 기회로 판단한다고 말했다. 한편 서울 외환시장에서 거래되는 원달러 환율은 전일 대비 11. 7원 오른 1292원에 거래를 마쳤다.\n"
     ]
    },
    {
     "name": "stderr",
     "output_type": "stream",
     "text": [
      "익명화 진행 중:  28%|██▊       | 24024/85771 [01:53<04:12, 244.65it/s]"
     ]
    },
    {
     "name": "stdout",
     "output_type": "stream",
     "text": [
      "Row 24000 기업명 -> 익명화 이름 매핑: {'대상': 'O사', '카카오': 'N사'}\n",
      "Row 24000 after anonymization - 기업명: N사, full_text: 종합]카카오톡에 생긴 광고창, 인스타 누를까 사실상 전 국민 O사 광고서비스로 글로벌 SNS 서비스에도 밀리지 않는 광고효과를 자신해 주목된다. 는 서울 광화문 인근에서 기자간담회를 열고 . 와 비즈니스모델을 설명했다. 지난 5월 출시된 톡보드는 에서 이용자가 원하는 예약. 상담 등 활동을 사업자와 연결해주는 서비스다. 카카오는 그간 축적한 인공지능 기술과 카카오모먼트 등의 광고시스템을 통해 차별화된 비즈니스 생태계를 만들어간다는 구상이다. 시범운영 결과 톡보드가 기존 배너광고 대비 구매전환율이 높고 파트너사들의 만족도도 높다는 것. 카카오는 지난 2개월간 클로즈드 베타 테스트를 진행했고. 오는 3분기부터 오픈 베타 서비스로 전환해 더 많은 파트너들이 참여할 수 있게 한다는 방침이다. 이종원 N사 사업전략팀장은 베타테스트 결과. 클릭 수는 현존하는 디스플레이 타입 광고 중 최고임을 자신한다며 전환율은 페이스북과 인스타그램 등 글로벌 SNS 서비스와도 견줄만하다고 평가했다. 톡보드 광고상품은 보장형과 비딩형. 보장형광고는 최대 20억원의 광고료를 내면 30일간 노출시킨다. 카카오는 톡보드를 통한 매출 확대를 기대하고 있다. 이종원 팀장은 지난 컨퍼런스콜에서 밝힌 목표. 는 오픈베타서비스가 아니어도 충분히 달성할 수 있을 것이라고 자신했다. 카카오는 베타테스트 기간 광고의 노출 위치를 다각적으로 실험. 이용자의 부정적인 반응을 수집했고. 이를 바탕으로 채팅목록탭 상단에만 광고를 노출시키기로 했다. 오픈베타 중에는 전체 이용자에게 광고가 보여진다. 이날 카카오는 톡보드 외에도 앱 내에서 파트너사의 웹페이지에 회원가입을 가능케하는 . 을 이용한 고효율 메시지 소루션 . 앱 내에서 모든 구매과정을 거치게 함으로써 이용자의 이탈 가능성을 낮추겠다는 것. 이 중 카카오싱크는 기존 N사 회원정보에 파트너사의 약관을 연결해 마케팅비용을 줄여주는 기능이다. 다만 이 같은 기능에 개인정보보호 관리 등이 소홀해지는 것 아니냐는 우려도 있다. 이 팀장은 개인정보 수집과 이용은 방송통신위원회의 가이드라인에 따르고 있고. 불필요한 수집은 없다고 설명했다\n"
     ]
    },
    {
     "name": "stderr",
     "output_type": "stream",
     "text": [
      "익명화 진행 중:  29%|██▉       | 25031/85771 [01:58<03:58, 254.74it/s]"
     ]
    },
    {
     "name": "stdout",
     "output_type": "stream",
     "text": [
      "Row 25000 기업명 -> 익명화 이름 매핑: {'SK텔레콤': 'I사', '카카오': 'L사'}\n",
      "Row 25000 after anonymization - 기업명: L사, full_text: '게임·인터넷·5G' 언택트 기업 2분기에도 뜬다…실적 더 좋다 증권가의 네이버 2분기 영업이익 컨센서스. 는 2253억원으로 1분기 잠정치. L사 2분기 영업이익도 912억원으로 1분기 컨센서스. 증가할 것으로 추정됐다. 로 꼽히는 게임업체들의 2분기 실적 전망도 밝다. 넷마블의 2분기 영업이익 컨센서스는 735억원으로 1분기. NHN 영업이익도 1분기 232억원에서 2분기 295억원으로 27. 늘어날 것으로 추정됐다. 등의 영업이익도 개선될 것으로 전망됐다. 매출 확대로 1분기 호실적을 기록한 엔씨소프트의 영업이익은 1분기 2751억원에서 2분기 2634억원으로 소폭 둔화될 것으로 추정됐다. 라이브 스트리밍 업체인 아프리카TV 영업이익은 1분기 81억원에서 2분기 111억원으로 37. 증가할 것으로 분석됐다. 역시 언택트 수혜주로 꼽히는 통신. 5G 관련주의 실적도 2분기 개선될 것으로 전망됐다. I사 2분기 영업이익 컨센서스는 3207억원으로 1분기. LG유플러스의 경우도 1874억원에서 1931억원으로 소폭 늘어날 것으로 추정됐다. 5G 관련주인 케이엠더블유의 영업이익은 1분기 153억원에서 2분기 564억원으로 268. 증가할 것으로 전망됐다. 무단 전재 및 재배포 금지\n"
     ]
    },
    {
     "name": "stderr",
     "output_type": "stream",
     "text": [
      "익명화 진행 중:  30%|███       | 26035/85771 [02:02<04:04, 244.24it/s]"
     ]
    },
    {
     "name": "stdout",
     "output_type": "stream",
     "text": [
      "Row 26000 기업명 -> 익명화 이름 매핑: {'카카오': 'F사'}\n",
      "Row 26000 after anonymization - 기업명: F사, full_text: 챗봇 ‘이루다’가 준 교훈…네이버·F사 인간중심 가치 최우선 경제학 등 여러 분야의 협력을 통해 AI와 관련된 융합 연구를 하는 서울대 산하의 프로그램이다. 이날 네이버는 AI 개발. 이용 과정에서 인간 중심의 가치를 최우선으로 삼겠다. AI가 모든 사람을 차별하지 않도록 개발하겠다. 모든 구성원이 AI 개발과 이용에서 준수해야 하는 원칙으로 사람을 위한 AI 개발. 합리적인 설명과 편리성의 조화. 안전을 고려한 서비스 설계. 프라이버시 보호와 정보 보안의 총 5개 조항을 제시했다. 카카오도 전 직원을 대상으로 AI 윤리 교육을 펼친다고 발표했다. 카카오는 이날부터 3월 2일까지 . F사 크루가 알아야 할 윤리 경영. 사내 교육을 하면서 AI 윤리 교육을 포함했다. F사 직원들은 디지털 책임 구현 사례. 카카오의 알고리즘 윤리 헌장 등을 학습하면서 각자 업무에서 AI 윤리를 어떻게 준수해야 할지 고민해볼 예정이다. AI 윤리는 지난해 말 출시한 AI 챗봇 이루다는 소수자 집단을 향한 혐오를 드러내 사회에 충격을 주면서 사회적 이슈가 됐다. 개발 과정에서 이용자들 개인정보를 제대로 보호하지 않은 정황도 드러나면서. AI 서비스가 개인정보를 오. 남용할 위험이 있다고 우려하기도 했다. 송대섭 네이버 책임 리더는 이날 준칙을 만들면서 사회의 요구와 네이버의 기업 철학을 반영했다. 네이버가 개인정보 보호 관련 법적 책임을 넘어서는 수준의 프라이버시를 보호하겠다는 내용도 담겼다. 준칙이 실제 현장과 괴리되는 것을 막고자 했다. 네이버는 이날 발표한 AI 윤리 준칙을 스타트업 지원기관 등을 통해 업계에 공유한다\n"
     ]
    },
    {
     "name": "stderr",
     "output_type": "stream",
     "text": [
      "익명화 진행 중:  32%|███▏      | 27040/85771 [02:06<04:14, 230.35it/s]"
     ]
    },
    {
     "name": "stdout",
     "output_type": "stream",
     "text": [
      "Row 27000 기업명 -> 익명화 이름 매핑: {'카카오': 'H사'}\n",
      "Row 27000 after anonymization - 기업명: H사, full_text: 700명도 부족…카카오엔터프라이즈, '개발자' 확보에 사활 건 이유 개발자 확보는 H사 계열사 모두의 지상과제이지만 특히 카카오엔터프라이즈는 절박하다. 카카오에서 분사한지 만 2년을 앞둔 카카오엔터프라이즈가 국내 대표 솔루션기업으로 우뚝서기 위한 포석이다. 도 시간 문제3일 IT. 업계에 따르면 카카오엔터프라이즈의 정규직 직원 수는 지난달 말 1000명을 넘어섰다. 2019년 12월 H사 내부 조직 . 이 카카오엔터프라이즈로 분사할 당시 직원 수는 500명 안팎이었는데. 채 2년도 안 돼 2배를 넘어섰다. AILab은 을 기반으로 한 검색 엔진과 음성 인식 AI 기반 챗봇 . 등을 개발하는 연구 조직으로. 현재는 클라우드 조직과 함께 카카오엔터프라이즈의 양대 핵심 부서로 남아있다. 카카오엔터프라이즈는 출범 이후 꾸준히 회사 직원 규모의 70. 수준을 개발 직군으로 유지해왔다. AILab을 비롯한 대부분의 조직이 개발 인력으로 구성돼 있다. 개발자만 700명을 웃돈다. 올들어 상시 채용으로 경력 개발자를 흡수해 . 전쟁개발자 확보전 심화 전망업계에서는 카카오엔터프라이즈의 적극적인 개발자 확보는 클라우드 후발 주자 지위를 극복하려는 의지가 담긴 것으로 본다. 카카오엔터프라이즈처럼 클라우드 기반 B2B 사업을 하는 네이버클라우드가 지난해 연매출 기준 . 에 가입한 반면 내달 출범 만 2년이 되는 카카오엔터프라이즈는 지난해 매출이 682억원에 머물러 대조된다. 카카오엔터프라이즈는 카카오워크 같은 기반 기업용 솔루션과 함께 이를 클라우드에 기반한 구독형 솔루션으로 판매해 성장하려한다. 때문에 솔루션과 서비스 고도화를 위한 개발자 확보가 급선무다. 카카오엔터프라이즈의 개발자 공고에도 이같은 의지가 녹아있다. 70여개에 달하는 기술 인력 상시채용 공고 중 클라우드 직군 공고만 30여개에 달한다. 이에 카카오엔터프라이즈의 인력 규모는 웬만한 동종 기업 인력 규모를 웃돌거나 맞먹는다. 업계에 따르면 네이버클라우드 직원 수가 지난달 기준 850여명 수준이다. 네이버클라우드 역시 인프라엔지니어와 소프트웨어 개발자 등 테크. 개발자 수만 놓고봐도 카카오엔터프라이즈가 클라우드 B2B 사업 업력이 더 긴 네이버클라우드와 비슷하다. 하지만 카카오워크는 이미 성과를 냈다. 으로 마케팅한 결과 출시 13개월 만인 지난달 말 이용자 100만명을 돌파했다. 카카오엔터프라이즈 관계자는 클라우드가 확산할 수록 클라우드 환경에 최적화된 다양한 기능의 플랫폼과 소프트웨어의 수요가 더 늘어날 것이라며 조만간 카카오i클라우드에 기반한 새로운 플랫폼을 출시하는 등 신규 서비스를 늘려갈 계획이라고 말했다.\n"
     ]
    },
    {
     "name": "stderr",
     "output_type": "stream",
     "text": [
      "익명화 진행 중:  33%|███▎      | 28048/85771 [02:10<03:59, 241.37it/s]"
     ]
    },
    {
     "name": "stdout",
     "output_type": "stream",
     "text": [
      "Row 28000 기업명 -> 익명화 이름 매핑: {'카카오': 'E사'}\n",
      "Row 28000 after anonymization - 기업명: E사, full_text: 매각 불씨 살아있는데…'E사' 이름 쓰고픈 MBK, 안된다는 E사 카카오모빌리티 적정가격은 . 컨센서스 형성중4일 업계에 따르면 MBK는 올해 2월부터 카카오T 운영사인 카카오모빌리티 인수를 위해 카카오와 협상을 시작했다. 협상 대상은 카카오모빌리티 지분 40. 지난달 카카오모빌리티 기업가치에 대한 의견 차이 때문에 매각이 불발됐다는 소문이 이어졌으나 여전히 카카오와 MBK 모두 협상의 끈을 놓지 않은 것으로 알려졌다. E사 외에 카카오모빌리티 주주인 TPG컨소시엄과 칼라일 등은 카카오모빌리티의 현 기업가치에 대해 최대 23조원에 달한다는 내부 논의를 거쳤으나. MBK에 제시한 전체 기업가치는 18조원 가량인 것으로 전해졌다. MBK도 이 같은 가격에 대해 수용하고 부대조건 협상을 이어가는 중이다. 이 경우 MBK가 원하는 40. 지분가치는 7조2000억원이다. 최대주주의 경영권 프리미엄까지 더해진다면 10조원 가까이 지불해야 한다는 전망이다. 안된다는 카카오가격차에 대한 잠정 합의에도 매각 협상이 여전히 난항을 겪는 것은 . MBK는 인수 이후에도 한동안 카카오T 등 서비스에서 E사 명칭을 유지해달라는 조건을 내건 것으로 알려졌다. 3100만명의 회원을 보유한 카카오T 앱의 . 을 한동안 유지해야 비즈니스에 문제가 없을 것이란 판단 때문이다. 반면 카카오는 난색을 표하고 있다. 업계 관계자는 정부의 플랫폼 때리기와 택시업계의 반발에 더해 최근 대리운전업 확장 제한 등 각종 규제로 수익을 내기 힘들어 . 이 된 카카오모빌리티와 깨끗이 결별하고픈 게 E사 본사의 속내라면서도 MBK에서는 E사 명칭 사용을 허용해야 카카오가 제시한 카카오모빌리티 밸류에이션을 받아들일 것이라고 전했다. 카카오T 앱과 연동해 활용되는 카카오맵의 라이선스 문제도 걸려있다. 카카오맵은 다음 지도 기반의 서비스로. E사 본사에 소유권이 있다. 카카오모빌리티 매각 협상에서 카카오맵 사용 조건도 논의될 가능성이 크다. 정해진 것 없다는 E사. 연일 내부 달래기 나서카카오는 지난달 매각설이 최초로 외부에 알려진 뒤 연일 직원 달래기에 나서고 있다. 류긍선 카카오모빌리티 대표는 지난달 17일 임직원 간담회에서 직원 복지와 고용 유지 등에서 받아들일 수 없는 조건으로 매각이 이뤄진다면 나부터 나서서 반대할 것이라며 E사 이름을 떼어내도 경쟁력이 있는 만큼. 카카오가 아닌 우리 자신을 믿자는 취지로 말했다. E사 공동체얼라인먼트센터. 도 지난달 27일 만나 매각설에 대해 의견을 나눴다. 크루 유니언이 지난달 24일 카카오모빌리티 매각 반대 서명운동을 시작한 지 사흘만이었다. 다만 이날 회동 이후에도 노조측은 면담 이후 달라진 부분은 명확히 없다는 입장이다. 한편 카카오의 공식 입장은 여전히 지난달 15일 조회공시를 통해 답변한 내용처럼 카카오는 카카오의 주주 가치 증대와 카카오모빌리티의 지속적 성장을 위해서 다양한 방안을 검토 중이나 현재 결정된 사항은 없다에 머물러 있다.\n"
     ]
    },
    {
     "name": "stderr",
     "output_type": "stream",
     "text": [
      "익명화 진행 중:  34%|███▍      | 29033/85771 [02:14<03:56, 239.93it/s]"
     ]
    },
    {
     "name": "stdout",
     "output_type": "stream",
     "text": [
      "Row 29000 기업명 -> 익명화 이름 매핑: {'카카오페이': 'D사', '카카오': 'H사'}\n",
      "Row 29000 after anonymization - 기업명: H사, full_text: D사 '내주변' 서비스 강화...식당결제 카페쿠폰 연계 만 15세 이상 국민 모두가 1년 동안 하루에 한 번은 카카오페이에서 금융 니즈를 해결하는 플랫폼이 되겠다는 포부다. 지난해 카카오페이의 AAU. 연간 거래액은 118조 원. 연간 거래 건수는 32억 건을 육박한다. D사 데이터 경쟁력의 기반이 되는 결제 서비스는 다양한 파트너들과 협력하는 결제 생태계로 확장되며 사용자들의 일상 속 체감 혜택을 높인다. 사용자의 위치와 소비 패턴을 분석해 자주 쓰는 곳에서 가장 필요한 혜택을 받을 수 있는 . 서비스로 근처 카페 쿠폰을 제공하거나. 대중교통 결제 후 스마트 모빌리티 환승 할인 등 맞춤 혜택을 마련해 사용성을 높일 예정이다. 현재 해외에서 환전 없이 카카오페이로 결제할 수 있거나 테스트 중인 국가는 총 11개국이다. 프랑스에서는 본격적인 가맹점 확대에 돌입했으며. 필리핀 등에서는 기술 연동 및 시연 작업을 진행 중이다. 국내 D사 가맹점에서 해외 간편 결제 서비스로 결제할 수 있는 환경도 구축 중이다. 등 한국 방문객의 약 80. 를 차지하는 아시아 주요 국가 페이 사업자들과 연동이 완료 또는 진행 중이다. 이들에게 익숙한 QR결제 키트 보급도 확대해 엔데믹 이후 가맹점 매출 증대에 기여한다는 계획이다. 금융 서비스의 3개 축인 투자. 보험 영역에서는 D사 데이터와 마이데이터 금융 정보를 연결하여 플랫폼 경쟁력을 강화한다. 이를 통해 금융이 필요한 모든 순간에 사용자들이 더 나은 선택을 할 수 있도록 지원한다. 신원근 D사 대표는 . 사용자 중심으로 가맹점을 비롯한 우리의 파트너들과 상생하며 차별화된 기술과 서비스를 통해 금융을 연결하는 것이 카카오페이가 하는 업의 본질. 압도적인 데이터와 앞서가는 AI 기술을 바탕으로 사용자들의 일상 속 모든 금융 니즈를 해결해 주는 \n"
     ]
    },
    {
     "name": "stderr",
     "output_type": "stream",
     "text": [
      "익명화 진행 중:  35%|███▌      | 30041/85771 [02:19<03:58, 233.45it/s]"
     ]
    },
    {
     "name": "stdout",
     "output_type": "stream",
     "text": [
      "Row 30000 기업명 -> 익명화 이름 매핑: {'KB금융': 'C사'}\n",
      "Row 30000 after anonymization - 기업명: C사, full_text: KB국민은행, '100년 전 외침이 100년 후 대한민국에게' 캠페인 실시 1운동 및 대한민국 임시정부 수립 100주년을 기념해 . 다시 부르는 여옥사 8호실의 노래. 우리가 기억해야 할 그날의 이야기 시리즈. 조성 후원 등이 포함된 . 100년 전 외침이 100년 후 대한민국에게 캠페인을 실시한다고 밝혔다. 다시 부르는 여옥사 8호실의 노래. 1운동 직후 서대문형무소 여옥사 8호실에 함께 투옥되어 옥중에서도 만세운동을 펼친 7인의 여성 독립운동가들. 이 서로를 위로하고 독립에 대한 열망을 드높이고자 지어 부른 노래를 재현한 것이다. 올해 초 이들의 후손들에 의해 선율 없이 가사만 100년만에 발굴되었다는 소식을 접한 KB국민은행은 새롭게 곡을 붙여 음원을 제작했으며. 100년 전 그날의 외침과 신념이 오늘을 사는 대한민국 국민 모두에게 생생하게 전해지기를 바라는 마음으로 기획했다. 이번 노래는 2018년 1차 남북정상회담 환송행사인 . 21세기 대한민국을 대표하는 디바. 로 사랑받는 가수 박정현씨가 노래를 불렀다. KB금융그룹의 모델이자 피겨여제로 대한민국을 빛낸 김연아씨가 나레이션을 맡았다. 음악감독 정재일씨는 . 어떠한 선율도 역사라는 진정성을 뛰어넘을 수 없다는 겸손함을 바탕으로 오늘의 고통을 내일의 희망으로 승화시키고자 했던 여성독립운동가 7명의 마음을 짙은 밤을 뚫어야 비로서 맞이할 수 있는 동틀녘을 떠올리며 곡에 담아 내고자 했다. 금번 프로젝트에 참여할 수 있는 것만으로도 큰 영광이다. 금번 음원 프로젝트는 역사와 문화의 의미있는 콜라보라고 생각하며 오늘을 사는 대한민국 국민이 100년 전 선조의 숭고한 희생정신을 이어받아 100년 후 대한민국 국민에게 전하는 유산과도 같다. 100년전 서대문 형무소에서 울렸을 이 노래를 그 장소에서 부르게 되어 가수를 떠나 국민의 한 사람으로서 깊은 슬픔. 나아가 더 나은 대한민국을 기원했을 그 분들의 희망을 전하고자 최선을 다했다. 해당 음원은 오는 26일 KB국민은행 홈페이지. 글러브엔터테인먼트 SNS채널. 트위터 등을 통해 무료로 배포된다. 김연아가 출연한 뮤직비디오 형식의 기념영상도 오는 27일 KB금융그룹과 KB국민은행 SNS채널. 등을 통해 공개될 예정이다. 이와 더불어 KB국민은행은 해당 영상에 공유 및 좋아요 수 건당 3100원을 기부금으로 조성하여 독립선언문이 선포된 태화관 터 . 조성에 최대 1억원을 후원한다. 은 서울시와 종로구청. 1운동 100주년기념사업추진위원회. 태화복지재단 등 민관 협력을 통해 조성되는 광장으로. 2019년 4월에 착공하여 8월 15일 광복절에 맞춰 준공식이 거행된다. 후원금은 이 광장에 세워질 주춧돌 발굴 및 운반비용 등으로 활용될 예정이다. 해외 주요 독립운동 10개 기념지. 의 돌이 각 지역 한인회의 협력 하에 발굴 및 운반되어. 100년 전 전세계에 일었던 3. 1운동의 열기를 후손에게 전하는 주춧돌로 자리매김하게 된다. KB국민은행은 SNS채널을 활용해 10. 20대를 대상으로 한. 우리가 기억해야 할 그날의 이야기. 시리즈를 연재 중이다. 이 시리즈에는 가수 김도연과 최유정이 각각 유관순 열사와 안중근 의사가 활약했던 시대로 들어가 역사적인 현장을 설명하는 동영상 두 편이 포함되어 있다. 성채현 KB국민은행 소비자브랜드전략그룹 대표는 . 역사를 잊는 민족에게 미래는 없다는 말처럼 보다 나은 미래를 위해 오늘의 대한민국을 만들어준 선조들의 희생과 기상을 다시금 떠올렸으면 하는 바람으로 이번 캠페인을 준비했다. 다시 부르는 여옥사 8호실의 노래. 를 통해 유관순 열사를 비롯한 독립운동가들의 외침과 신념이 국민 모두에게 큰 감동과 긍정의 에너지로 다가섰으면 한다. KB국민은행 관계자는. 100년 전 수많은 독립운동가들. 그리고 한 마음 한 뜻으로 대한독립 만세를 외쳤던 그 당시 모든 . 의 헌신과 희생이 오늘날의 대한민국을 만든 주춧돌이 되었듯. KB국민은행도 국민의 일원으로서 100년 후 보다 자유롭고 정의로운 대한민국을 여는 주춧돌이 되기 위해 최선을 다해 나가겠다. com 세상을 보는 눈. 글로벌 미디어 세계일보\n"
     ]
    },
    {
     "name": "stderr",
     "output_type": "stream",
     "text": [
      "익명화 진행 중:  36%|███▌      | 31047/85771 [02:23<03:42, 245.91it/s]"
     ]
    },
    {
     "name": "stdout",
     "output_type": "stream",
     "text": [
      "Row 31000 기업명 -> 익명화 이름 매핑: {'우리은행': 'Z사', 'KB금융': 'N사'}\n",
      "Row 31000 after anonymization - 기업명: N사, full_text: 우리금융판 미래전략실, 2인자는 지주 부사장 과거 삼성그룹이 구조조정본부. 미래전략실로 이름을 바꿔가며 계열사를 관리하던 방식이 우리금융에서 재현됐다는 의미다. 자회사 관리 콘트롤타워 만들고 그 자리에 김정기 배치우리금융은 지난 11일 차기 우리은행장과 자회사 대표. 지주사 조직개편을 일사천리로 진행했다. 차기 우리은행장에 권광석 새마을금고중앙회 신용공제대표가 내정되면서 그와 경쟁하던 김정기 Z사 영업지원부문 겸 HR그룹 집행부행장. 은 계열사로 나가는 정도로 예상됐다. 그러나 손 회장은 경영기획과 경영지원으로 이뤄진 기존 지주 조직을 전략 재무 소비자보호. 지원 사업관리 홍보브랜드 IT. 디지털 리스크관리 등 7개 부문으로 재편하고 김정기 부문장을 사업관리부문장 자리에 앉혔다. 우리금융은 사업관리부문은 자회사간 시너지 및 협업을 주도하는 곳이라고 설명했다. 자회사 경영을 챙기면서 필요하면 개입할 수 있는 권한이 부여된 셈이다. 우리금융판 미래전략실이라는 말이 나오는 이유다. 지주 회장이 그룹 임원 인사권 손아귀에자회사 관리 콘트롤타워 신설과 더불어 손 회장은 지주를 포함한 자회사 임원 인사권을 손에 넣었다. 자회사 CEO 인선을 제외한 부행장 이하 모든 임원 인사에 대한 결정을 지주 회장이 하도록 한 것이다. 각사 CEO들이 임원 인사안을 지주 회장과 상의하던 관례가 있었지만 우리금융은 이번에 임원 인사안을 최소 3일 전에 지주에 보고해야 한다고 규정을 만들고 이를 명문화 했다. 인사안을 승인하거나 거부함으로써 각사 대표 인사권을 사실상 지주 회장에게 귀속시킨 것이다. 신한금융그룹이 자회사경영관리위원회를 통해 CEO와 부행장 등 고위직 임원 인사를 낼 뿐 상무 등 이하 임원은 CEO가 임명하게끔 한 것이나 모든 임원 인사를 각사 CEO 몫으로 둔 N사. 하나금융과는 확연히 다르다. 익명을 요구한 우리금융그룹 관계자는 . 임원들이 CEO와 호흡하기보다 지주사. 회장에게 줄 설 수밖에 없는 장치가 고안된 것. 우리금융은 사업관리부문을 통해 경영에 관여하고 인사권을 제대로 행사하지 못하게끔 차기 은행장에 대해 . 을 건 데 이어 은행장 임기를 1년만 부여했다. 이광구 전 행장이나 손태승 회장은 우리은행장에 취임했을 때 각각 2. 3년 임기를 보장받았다. 다른 은행들도 마찬가지다. 3년 임기를 부여한다. 금융권은 권 내정자가 차기 회장에 도전할 기회를 막았다고 본다. 권 내정자가 2년 임기가 주어진 뒤 연임에 성공하면 앞으로 3년 뒤 물러나는 손 회장 후임 자리를 노릴 수 있다. 잘해야 1년 더 추가되면 은행을 떠나야 한다. 물론 전직 행장도 회장 후보군에 포함될 수 있겠지만 현직 프리미엄에 비할 바는 못 된다. 우리금융의 일련의 조치는 지주 회장과 은행장간. 다양한 파벌간 표출될 불협화음의 예고편\n"
     ]
    },
    {
     "name": "stderr",
     "output_type": "stream",
     "text": [
      "익명화 진행 중:  37%|███▋      | 32029/85771 [02:27<04:02, 221.59it/s]"
     ]
    },
    {
     "name": "stdout",
     "output_type": "stream",
     "text": [
      "Row 32000 기업명 -> 익명화 이름 매핑: {'LG유플러스': 'E사', 'KB금융': 'X사'}\n",
      "Row 32000 after anonymization - 기업명: X사, full_text: 이슈분석]6G 비전·기술 표준 구체화...2030년 5000억개 사물 연결 활용 등 기술 비전을 확립하고 경쟁과 협력을 통해 상용화를 준비한다. 우리나라도 미래 기술 선점 전략과 동시에 미디어. 금융 등 분야 응용서비스 모델에 대한 적극적이고 지속적인 관심이 필요하다는 진단이다. 5G 성능 10배 진화에 AI. 위성 접목KB금융지주 경영연구소는 . 초연결 시대를 여는 차세대 이동통신. 보고서를 통해 6G 핵심 특징과 산업 영향. 주요국 대응 현황을 진단했다. 우리나라를 비롯해 미국. 일본 등 주요국이 제시한 6G 비전을 종합하면. 6G는 5G 성능을 10배가량 진화시키고. 공간 제약을 극복하며 AI로 스스로 진단하고 최적화하는 방향으로 발전할 것으로 예상된다. 과학기술정보통신부는 6G 6대 핵심 비전을 초성능 초대역 초정밀 초공간 초지능 초신뢰로 정의했다. 최거 전송속도 1Tbps. 체감전송속도 1Gbps 이상을 충족한다. 초정밀 성능의 경우에 지연시간이 0. 5G에 비해 10배 이상 성능을 구현한다. 주파수로는 최소 100. 주파수대역을 개척하는 게 목표다. 5G 최대 대역폭인 800. 폭 주파수를 바탕으로 초대용량 서비스를 실현한다. 위성을 활용해 지상 10km 이내. 시속 1000km 속도에서도 서비스가 가능하고 네트워크 관리 전반에 AI를 적용해 관리자 개입을 최소화하면서도 사고에 대응한다. 해킹이 불가능한 양자암호통신도 적용한다. 주요국 비전도 우리나라와 대부분 일치하는 것으로 분석된다. 중국과 일본은 우리나라 기초 비전에 더해 6G 통신장비가 특정 제조사에 종속되지 않도록 하는 . 은 기본 비전에 더해 친환경 성능을 강조하는 게 특징이다. 원격수술 등 6G 융합서비스 진화 가속KB금융지주 경영연구소는 글로벌 시장에서 2021년부터 6G 개념 정립에 이어 기술 표준화 작업이 시작돼 2028년부터 상용화를 개시하고 2030년 서비스가 가능할 것으로 예상했다. 기기 폭발적 증가와 AI 활용 기술 확대. 개방형 협업을 통한 통신망 개발 등이 6G 시대 주요 트렌드가 될 것이라고 지목했다. 6G 시대에는 모든 데이터가 클라우드에 저장되며 소통 차원이 직접 대면하는 것과 같은 수준으로 진화돼 스마트폰이 필요 없는 시대가 앞당겨질 것으로 예상했다. 인간 위주로 서비스되는 5G 시대와 달리 6G 시대에는 본격적으로 기계가 통신을 소비하는 시대가 될 것으로 예측했다. 6G 시대에는 스마트폰을 비롯한 차량. 제조시설 등 5000억개 사물이 6G 네트워크에 연결될 것으로 전망했다. 6G는 방대한 데이터 전송시간의 획기적 감소로 가상현실. 을 뛰어넘어 3차원 홀로그램을 이용한 확장현실. 비대면 멀티미디어 서비스가 활성화될 것으로 예상된다. 끊김 없는 데이터 전송을 통해 원격 로봇 수술의 정밀도가 수십 배 높아지고. 완전자율주행차 등 초저지연 성능을 필요로 하는 실시간 서비스도 상용화가 가능할 것으로 기대된다. 금융 분야에서도 6G에 블록체인 기술과 양자암호통신 기술을 접목. 고액 금융거래 안전성을 배가할 것으로 예상된다. 6G 상용화로 산업과 사회의 모든 분야가 네트워크에 연결돼 산업 간 장벽이 사라지고. 개인 생활 모든 분야에서 편의가 증대될 것이라는 게 결론이다. 새로운 통신 패러다임 대응 필요일각에서는 5G 전국망이 제대로 구축되지 않은 시점에서 10년 이후 미래를 내다보고 기술을 준비하는 게 적절하지 않다는 시각도 존재한다. 아직 망 구축이 완벽하지 않은 5G에 대한 소비자 불만도 팽배하다. 그럼에도 주요국은 6G 연구 개발에 착수했다. 새해부터 국제민간표준화기구. 등을 중심으로 각국 경쟁과 협력을 거쳐 비전과 기술표준이 구체화될 것으로 기대된다. 주요국을 중심으로 상용화 경쟁이 시작된 만큼 우리나라 정부와 산업계가 방관해선 안 된다는 지적이다. 6G는 이전까지 통신 패러다임을 완전히 바꿔놓을 것으로 기대된다. 글로벌 기업에는 새로운 기회로 인식되면서. 구체적인 기술개발 체계를 확립해 대응하고 있다. 삼성전자는 2019년 차세대통신연구센터를 설립. 6G 선행 기술 연구를 진행하고 6G 백서를 공개했다. LG전자는 KAIST와 6G 연구센터를 설립해 대응하고 있다. E사 이동통신 3사도 자체 연구소를 중심으로 본격적인 기초 연구를 시작했다. 미국 ATT는 국제전기통신연합. 이동통신 분야 의장을 맡으며 6G 핵심특허와 기술 선점에 전략적 대응에 착수했다. 화웨이는 6G 연구를 위한 RD센터를 캐나다 오타와에 설치했고. 차이나유니콤도 6G를 위한 전용 이노베이션 센터를 설립했다. 6G 비전이 10년 이후 완벽하게 구현될지는 미지수다. 하지만 6G 핵심기술로 손꼽히는 네트워크 AI와 위성. 양자암호통신 등 분야에서 상당한 수준의 기초 기술이 확보되며 상용화 성과가 도출되고 있는 것은 분명하다는 진단이다. 5G 세계 최초 상용화 경쟁력을 유지하기 위해서도 6G에 선제 대응이 필요하다. 포스트 코로나 시대 비대면 인프라 중요성이 지속 강조되면서 6G 중요성이 더욱 커질 것으로 예상한다. com Copyright .\n"
     ]
    },
    {
     "name": "stderr",
     "output_type": "stream",
     "text": [
      "익명화 진행 중:  39%|███▊      | 33026/85771 [02:32<03:58, 220.84it/s]"
     ]
    },
    {
     "name": "stdout",
     "output_type": "stream",
     "text": [
      "Row 33000 기업명 -> 익명화 이름 매핑: {'KB금융': 'C사'}\n",
      "Row 33000 after anonymization - 기업명: C사, full_text: '국가재정과 바람직한 조세정책 방향' 세미나 열린다 의 후원으로 29일 오후 2시부터 국가재정과 차기정부의 바람직한 조세정책 방향을 주제로 웹 세미나를 개최한다고 밝혔다. 이번 세미나에서는 김우철 서울시립대 교수가 . 재정여건 진단과 정책과제. 오윤 한양대 교수가 . 기업과세제도 개선방안. 이어 김갑순 동국대 교수가 . 소득세 및 부가가치세 개편 방향. 오문성 한국조세정책학회 회장이 . 상속증여세와 부동산 관련 세제 개선방안. 이동식 경북대 교수가 . 지속 성장을 위한 조세정책 방향과 해외사례. 를 주제로 발표에 나선다. 토론 세션에서는 최용선 서울시립대 명예교수를 좌장으로 김병일 조세법학회 회장. 안종석 전 조세재정연구원 부원장. 이경근 전 국제조세협회 이사장. 최영록 전 기획재정부 세제실장. 홍기용 인천대 교수가 참여해 다양한 의견을 개진할 예정이다. 이번 세미나는 코로나19 방역 지침 준수를 위해 Zoom을 통한 온라인으로만 참석이 가능하며. 자세한 사항은 학회 홈페이지를 통해 확인할 수 있다.\n"
     ]
    },
    {
     "name": "stderr",
     "output_type": "stream",
     "text": [
      "익명화 진행 중:  40%|███▉      | 34045/85771 [02:36<03:43, 231.68it/s]"
     ]
    },
    {
     "name": "stdout",
     "output_type": "stream",
     "text": [
      "Row 34000 기업명 -> 익명화 이름 매핑: {'하나은행': 'Q사', '신한은행': 'C사', 'KB금융': 'I사'}\n",
      "Row 34000 after anonymization - 기업명: I사, full_text: 이미지 제고에 사업 확장은 덤...은행권 PB 싸움 치열 신한은행도 패밀리오피스 중심으로 조직을 개편했다. 고액자산가를 고객으로 확보해 회사 이미지를 높일 수 있는데다 기업대출. 수수료 등 포괄적인 이익도 기대할 수 있어서다. 13일 금융권에 따르면 최근 KB금융그룹은 종합자산관리 브랜드 . KB 골드 앤 와이즈 더 퍼스트. 를 앞세워 자산관리 분야 입지를 다지고 있다. 부촌인 서울 강남구 압구정동에 총 9층의 큰 규모로 1호점을 내고 브랜드 모델로 배우 이영애를 선정했다. 이 센터에서는 KB국민은행과 KB증권의 프라이빗 뱅커들과 투자. 신탁 등 각 분야의 전문가들이 모여 원팀으로 고객을 관리해 준다. KB형 패밀리오피스 서비스를 도입해 개인 자산을 포함해 법인. 재단 등 모든 자산에 대해 신탁. 가업 승계 등 신탁 업무부터 대출 업무까지도 원스톱으로 이용할 수 있다. KB금융그룹 관계자는 기존에는 PB업무가 개인에 집중됐다면 이제는 패밀리오피스 시대라고 설명했다. 금융사들이 고액자산가 자산관리 서비스에 힘쓰는 이유는 미래 먹거리를 확보하기 위해서다. 고객이 다양한 금융서비스에 가입하면서 얻을 수 있는 수수료뿐 아니라 기업을 운영하고 있는 고객일 경우 기업대출 실행. 지인에게 소개 등 보다 포괄적인 이익을 취할 수 있다. 하나은행도 새로운 자산관리 서비스를 선보였다. 하나은행은 규모 확장보다는 특화에 집중했다. 기존 일반적인 PB서비스를 제공하던 압구정PB센터를 개선해 상속 및 증여 분야에 특화한 압구정 상속증여전문 PB센터로 탈바꿈했다. 하나은행의 자산관리브랜드인 하나골드클럽과 신탁 기반의 통합 자산관리 플랫폼인 리빙트러스트를 결합해 상속증여전문 PB센터로 확대했다. 상속증여 관련 전문 PB지점장과 함께 신탁. 기업승계 등 분야 전문가를 배치하고 PB고객 맞춤형 컨설팅 서비스도 선보인다. 일찍이 이 시장 선점에 나섰던 신한은행은 전략을 다양화하고 있다. 2011년 금융권 최초로 금융과 증권을 결합한 PWM센터를 내며 고액자산가 특화 서비스 개발에 열중하던 신한은행은 지난달 초 패밀리오피스 전용센터 3호점을 개점했다. C사 관계자는 자산관리에 대한 관심은 여전하다며 기존 PWM과 더불어 좀 더 전문화된 패밀리오피스를 확대할 예정이라고 밝혔다. PB Q사 C사 WM 자산관리 KB금융그룹 종합자산관리\n"
     ]
    },
    {
     "name": "stderr",
     "output_type": "stream",
     "text": [
      "익명화 진행 중:  41%|████      | 35043/85771 [02:41<03:42, 228.00it/s]"
     ]
    },
    {
     "name": "stdout",
     "output_type": "stream",
     "text": [
      "Row 35000 기업명 -> 익명화 이름 매핑: {'KB금융': 'C사'}\n",
      "Row 35000 after anonymization - 기업명: C사, full_text: 자사주 사들이는 금융지주 회장·은행장…윤종규 KB 회장 보유주 평가액 11억 취임 후 곧바로 자사주를 매입하는 것도 같은 이유에서다. 저평가된 주가를 끌어올리기 위한 행보로도 읽힌다. 은행 계열 금융지주 주가는 연고점 대비 평균 20. 가까이 떨어진 상태다. 6일 금융감독원 전자공시시스템에 따르면 임종룡 우리금융 회장은 이날 우리금융 보통주 1만주를 매입했다. 지난 3월 취임 후 첫 자사주 매입이다. 이번에 사들인 주식은 1억1880만원 규모다. 임 회장의 첫 자사주 매입을 계기로 시장 및 주주들과 소통에 박차를 가할 것. 앞서 지난 1일엔 이승열 하나은행장이 하나금융 보통주 1000주를 주당 3만9500원에 매입했다. 올해 들어 세 번째 자사주 매입이다. 이 행장은 취임 직후인 지난 3월과 4월에도 각각 자사주 100주. 1000주를 매수했다. 총 보유 주식 수는 2100주다. 윤종규 C사 회장은 주요 금융지주 회장 중 가장 많은 자사주를 보유하고 있다. 윤 회장은 C사 주식 2만1000주를 보유 중이다. 지난 5일 종가 기준 11억3190만원 규모다. 2014년 취임 후 올해로 9년째 회장직을 유지하고 있는 윤 회장은 총 14차례 자사주를 매입했다. 2019년을 마지막으로 자사주 매입은 없는 상태다. 이어 진옥동 신한금융 회장이 신한금융 주식 1만8937주를 보유. 진 회장이 보유한 자사주는 6억7321만원 규모다. 신한은행장으로 재임 중이던 2019년 3월부터 2022년 11월까지 자사주를 한 차례도 매입하지 않던 진 회장은 올해 금융지주 회장 취임 후 지난 6월 자사주 5000주를 사들였다. 함영주 하나금융 회장은 하나금융 보통주 1만132주를 보유 중이다. 주식 평가액은 4억173만원이다. 은행장 중에선 정상혁 신한은행장이 가장 적극적으로 자사주를 매입했다. 정 행장은 지난 2월 취임 후 3월과 4월에 각각 4851주. 3700주를 매입했다. 총 보유 주식 수는 8551주로. 3억399만원 규모다. 이어 조병규 우리은행장. 이재근 KB국민은행장. 올해 들어 자사주 매입. 분기 배당 정례화 등 적극적인 주주 환원 정책을 내놓고 있는 은행주가 최고경영자. 들의 자사주 매입에 힘입어 반등할지 관심이 쏠린다. 은행 계열 금융지주 주가는 최근 소폭 반등했지만 연초 대비 20. 국내 금융지주사의 주가순자산비율. 2008년 글로벌 금융위기 시절 0. 금융위기 때보다 국내 금융지주의 가치가 더 낮게 평가되고 있다. 경영진이 자사주 매수에 나서는 것은 주가 부양에 대한 자신감과 의지가 반영된 것으로 볼 수 있다. 올해 상반기 역대 최대 실적을 기록한 데다 배당 매력이 높은 만큼 저평가된 주가가 오를 여지가 높다\n"
     ]
    },
    {
     "name": "stderr",
     "output_type": "stream",
     "text": [
      "익명화 진행 중:  42%|████▏     | 36055/85771 [02:45<02:52, 287.62it/s]"
     ]
    },
    {
     "name": "stdout",
     "output_type": "stream",
     "text": [
      "Row 36000 기업명 -> 익명화 이름 매핑: {'네이버': 'L사'}\n",
      "Row 36000 after anonymization - 기업명: L사, full_text: 여주시 학교밖청소년지원센터 소속 10명 대학 합격 성공회대 1명 등 4년제 대학교 2명을 포함. 여주대 5명 등의 합격자를 배출했다. 4년제 대학 합격자 가운데는 15살의 청소년도 있어 더욱 화제가 되고 있다. 여주시는 학교밖청소년지원센터 운영을 통해 학교를 그만 둔 청소년들을 지속적으로 관리하고 학습지원과 다양한 프로그램을 지원하고 있는데. 지난달에는 커피 바리스타 과정에서 6명의 청소년들이 자격증을 취득했고. 컴퓨터 활용능력 과정에서도 7명이 자격증을 취득하는 성과를 올리기도 했다. 시는 또 3차례에 걸쳐 스마트교실 프로그램을 운영. 검정고시에 지원토록했으며. 학습 멘토 선생님들의 재능기부로 공부방법과 문제풀이 등의 학습을 진행해왔다. 로도 신청이 가능하다\n"
     ]
    },
    {
     "name": "stderr",
     "output_type": "stream",
     "text": [
      "익명화 진행 중:  43%|████▎     | 37037/85771 [02:49<03:42, 219.44it/s]"
     ]
    },
    {
     "name": "stdout",
     "output_type": "stream",
     "text": [
      "Row 37000 기업명 -> 익명화 이름 매핑: {'셀트리온': 'O사', '네이버': 'V사'}\n",
      "Row 37000 after anonymization - 기업명: V사, full_text: O사, 코로나19 치료제 승인 신청에 강세…코스피 5위로 오른 35만원에 거래되고 있다. 셀트리온은 현재 시가총액 47조2492억원으로 NAVER를 제치고 코스피 시총 5위를 기록하고 있다. 셀트리온헬스케어는 5. 오른 16만6800원. 내린 25만100원을 기록하고 있다. 업계 등에 따르면 셀트리온은 이르면 이날 중 코로나19 항체치료제 . 에 대한 식약처 조건부 승인을 신청할 계획이다. 이는 특정 질환의 치료제가 없는 경우 임상3상을 별도로 진행하는 조건을 걸고 임상2상 결과만으로 시판 허가를 내주는 제도다. 셀트리온은 국내 업체 중 치료제 개발이 가장 빠르다. 이낙연 더불어민주당 대표는 전날 국산 코로나19. 치료제의 조건부 사용승인 신청이 내일 식품의약품안전처에 접수된다며 식약처는 소정의 절차를 거쳐 승인여부를 1월 중 결정할 것으로 보인다고 밝혔다. 식약처가 기존 180일 이상 걸리는 심사 기간을 40일 이내로 단축하는 방안을 목표로 하고 있어 이르면 내년 1월 말부터 사용할 수 있을 전망이다\n"
     ]
    },
    {
     "name": "stderr",
     "output_type": "stream",
     "text": [
      "익명화 진행 중:  44%|████▍     | 38036/85771 [02:53<03:14, 245.79it/s]"
     ]
    },
    {
     "name": "stdout",
     "output_type": "stream",
     "text": [
      "Row 38000 기업명 -> 익명화 이름 매핑: {'삼성전자': 'J사', 'SK텔레콤': 'T사', 'LG유플러스': 'Q사', '네이버': 'W사'}\n",
      "Row 38000 after anonymization - 기업명: W사, full_text: 삼성·W사·카카오·이통사 뭉쳐 韓 AI 경쟁력 높인다 박정호 T사 대표. 황현식 Q사 대표. 다니엘 리 J사 글로벌 AI센터장 등 주요 기업 대표와 정부. 학계 인사가 참석했다. 전략대화는 초거대 AI 생태계 활성화 방안을 시작으로 반기마다 모여 국가 AI 투자 방향에 대해 논의할 예정이다. 논의 주제는 AI 반도체. 클라우드 등 기반 활용 민관 인재 양성 프로그램 연계 디지털 헬스케어. 모빌리티 서비스 활성화 등 AI 관련 전 분야다. 이날 첫 주제는 최근 새로운 AI 패러다임으로 떠오른 초거대 AI 생태계 활성화 추진 방향이었다. 스타트업에 우리나라 기업이 구축한 초거대 AI 활용 기회를 제공하는 방안을 검토했다. 초거대 AI의 기반으로서 다양한 데이터가 구축돼 활용될 수 있도록 민관이 함께 지원하기로 했다. 정부는 새로운 초거대 AI 후보군 발굴을 위한 연구개발 사업을 신규 추진하고 디지털 뉴딜로 추진 예정인 정부 사업을 연계해 학계와 연구계에 연구경험 축적 기회를 제공하기로 했다. 기업은 초거대 인공지능 서비스 실증을 위한 규제 특례 필요사항 및 적용 방법을 제안하고. 정부는 건의 사항을 적극 검토해 관계 부처와 협의하고 관련 제도 개선을 추진하기로 했다. 임혜숙 과기부 장관은 . 오늘 논의된 내용을 바탕으로 민관이 힘을 모아 우리나라 AI 경쟁력이 한 단계 더 도약할 수 있도록 정부도 정책적 지원을 아끼지 않겠다\n"
     ]
    },
    {
     "name": "stderr",
     "output_type": "stream",
     "text": [
      "익명화 진행 중:  46%|████▌     | 39026/85771 [02:57<03:04, 253.46it/s]"
     ]
    },
    {
     "name": "stdout",
     "output_type": "stream",
     "text": [
      "Row 39000 기업명 -> 익명화 이름 매핑: {'네이버': 'M사'}\n",
      "Row 39000 after anonymization - 기업명: M사, full_text: 최수연 대표 소셜임팩트 '프로젝트 꽃', M사 일하는 문화로 영상은 조만간 외부에도 공개될 예정이다. 최 대표는 M사 직원들이 갖고 있는 회사에 대한 자부심. 일에 대한 자존감은 결국 내가 하는 일이 사회에 긍정적 영향을 미치고 있다는 것을 체감하는 데서 나오는데. 이것이 바로 프로젝트 꽃의 정체성이라며 프로젝트 꽃을 일하는 문화로 만들어 직원들이 더 자부심을 가지고 일할 수 있도록 노력하겠다고 강조했다. 최 대표는 더 많은 직원이 프로젝트 꽃에 직접 참여할 기회를 마련하겠다고 약속했다. 김 교수도 M사 직원들은 일에 대한 자존감과 사명감이 대단하다며 이런 인재들을 하나의 방향으로 이끌고 가는 것이 프로젝트 꽃이라고 말했다. 최 대표는 이어 네이버의 글로벌 진출 본격화에 앞서 로컬 및 중소상공인. 들을 브랜드로 성장할 수 있도록 지원하는 방향도 고민하고 있다고 밝혔다. 글로벌 진출 과정에서 SME와 창작자는 네이버의 가장 중요한 파트너라는 점을 잊지 않아야 한다는 의지에서다. M사 직원들도 스마트스토어 사업자를 위한 새로운 지원 프로그램. SME를 위한 기술 개발 과정에서의 노력. 프로젝트 꽃과 인공지능. 기술 고도화 방안 등에 대한 아이디어와 고민을 꺼내놓았다. 이에 대해 모 교수는 네이버의 기술력. 브랜딩 역량을 로컬 SME 및 로컬 콘텐츠 등과 결합하면 성공 가능성이 더 높을 것이라며 동네를 브랜드로 만들어 주는 것이 소상공인에게 가장 큰 도움이 되고. 브랜드가 되는 동네가 더 많이 나올 수 있도록 네이버의 관심이 더욱 필요하다고 요청했다.\n"
     ]
    },
    {
     "name": "stderr",
     "output_type": "stream",
     "text": [
      "익명화 진행 중:  47%|████▋     | 40039/85771 [03:01<02:45, 275.86it/s]"
     ]
    },
    {
     "name": "stdout",
     "output_type": "stream",
     "text": [
      "Row 40000 기업명 -> 익명화 이름 매핑: {'네이버': 'C사'}\n",
      "Row 40000 after anonymization - 기업명: C사, full_text: 교육소식]공주대 발달지원센터, 사회성향상 프로그램 무상 제공 등 서비스 대상은 대학 인근에 거주하는 0. 6세 사이의 장애 또는 장애 위험 영유아로. 누구나 신청할 수 있다. 공주대 교육학과 대학생 3명 한국교육학회 우수포스터상 수상공주대학교는 일반대학원 교육학과에 재학 중인 남현미. 김정민씨가 고려대에서 열린 한국교육학회 2023년 연차학술대회에서 . 을 수상했다고 9일 밝혔다. 4단계 BK21 참여 학생. 발도르프교육 공동체 참여경험을 통한 학부모 교육주체화 과정에 대한 사례연구. 대학의 비교과 프로그램 참여 결정과 활동 유지에 영향을 미치는 요소 탐색. 로 각각 우수상을 받았다. 학생이 인식한 수업의 유형과 수업 유형별 학습성과 차이 분석. PISA2018자료를 중심으로. 라는 주제로 장려상을 수상했다.\n"
     ]
    },
    {
     "name": "stderr",
     "output_type": "stream",
     "text": [
      "익명화 진행 중:  48%|████▊     | 41031/85771 [03:05<03:35, 207.32it/s]"
     ]
    },
    {
     "name": "stdout",
     "output_type": "stream",
     "text": [
      "Row 41000 기업명 -> 익명화 이름 매핑: {'삼성SDI': 'F사'}\n",
      "Row 41000 after anonymization - 기업명: F사, full_text: KTB證 디아이티, 다양한 수익경로 확보로 성장 지속 디아이티는 삼성SDI의 사내벤쳐로 출발해 지난해 8월7일 코스닥에 신규상장한 디스플레이 장비 및 비젼검사장비 업체다. 이 회사의 보유 핵심 기술은 광학설계기술과 영상처리기술로 영상을 데이터화한 뒤 이에 대한 분석 능력 기술이 핵심이다. 주요 제품은 OLED 및 액정표시장치. 검사장비 레이저 커팅장비 자외선. 노광기 2차전지 및 수소연료전지 검사장비를 2017년부터 공급 중이다. OLED 검사장비는 BP공정과 EN공정등 다양한 공정의 검사장비를 보유하고 있으며 주요 고객사인 삼성디스플레이로 EN공정 및 얼룩 검사. 공정 검사장비를 공급하고 있다. 김재윤 연구원은 보고서를 통해 올해 이 회사의 주요 고객사의 유기발광다이오드. 신규 투자에 따른 수주 확대가 예상되고 있다며 또 동사의 비젼기술을 활용한 검사기술은 2차전지 및 수소연료전지 검사장비 수주로 확산되고 있어 실전 성장세가 기대된다고 평가했다. 이어 2차전지 검사장비는 삼성SDI로 공급하고 있고 수소연료전지 검사장비 역시 현대모비스로 공급 중. 이라면서 두 장비 합산 30억 규모의 수주잔고 보유하고 있다고 추산했다. 김 연구원은 지난해 기준 디아이티의 보유 현금은 약 1400억원. 보유 부동산 가치 약 700억원으로 안정적인 재무구조 또한 매력적인 회사라고 평가했다\n"
     ]
    },
    {
     "name": "stderr",
     "output_type": "stream",
     "text": [
      "익명화 진행 중:  49%|████▉     | 42030/85771 [03:10<03:26, 211.53it/s]"
     ]
    },
    {
     "name": "stdout",
     "output_type": "stream",
     "text": [
      "Row 42000 기업명 -> 익명화 이름 매핑: {'삼성SDI': 'C사'}\n",
      "Row 42000 after anonymization - 기업명: C사, full_text: 흑백TV로 시작한 50년, 글로벌 ICT기업 신화가 되다 삼성은 차분한 분위기 속에 . 을 향한 도약을 다짐하기로 했다. 30일 재계에 따르면 삼성전자는 다음달 1일 수원 삼성디지털시티에서 김기남 대표이사 부회장 주재로 50회 창립기념식을 개최한다. 예년과 마찬가지로 장기근속 및 우수 직원 시상과 사회공헌활동 등의 일정으로 조촐하게 치러질 것. 이재용 부회장은 기념식에 참석하지 않을 것으로 알려졌지만. 글로벌 100년 기업으로 거듭나기 위해 어떤 메시지를 던질지 관심이 모아지고 있다. 삼성전자는 1969년 1월 13일 . 가 시작된 삼성반도체통신 합병일인 1988년 11월 1일을 창립 기념일로 바꿨다. 이병철 선대회장이 설립한 삼성전자공업은 종업원 36명에 자본금 3억3000만원. 첫해 매출은 3700만원에 불과했다. 삼성산요전기 흑백TV를 파나마에 처음 수출하고. 내수용 흑백TV를 생산한 1972년의 매출액도 18억4000만원에 그쳤다. 그러나 사상 최대 실적을 낸 지난해 매출액은 243조7000억원으로 첫 수출 이후 외형은 13만배 성장했다. 36명으로 시작한 임직원도 2018년 10만3011명. 브랜드 가치는 1999년 31억달러. 에서 올해 611억달러. 6위로 수직 상승했다. 이런 괄목할 만한 성장의 기반에는 오너 경영인의 두 선언이 전기가 됐다. 삼성전자가 1974년 한국반도체를 인수했을 때만 해도 반도체 사업에 대한 전망은 그리 밝지 않았다. 그러나 이병철 선대회장은 1983년 2월 일본 도쿄에서 반도체 사업에 본격 진출하겠다고 밝히고. 삼성은 그해 12월에 64K D램을 처음으로 개발했다. 삼성은 1989년까지 D램 시장에서 일본 도시바와 NEC 등에 이어 4위였지만. 1992년 세계 최초로 64MB D램을 개발하고 메모리 반도체 세계 1위에 올라섰다. 2017년부터는 미국 인텔을 제치고 메모리와 비메모리를 더한 전체 반도체 시장에서도 왕좌에 올랐다. 1987년 경영권을 물려받은 이건희 회장은 1993년 독일 프랑크푸르트로 경영진을 소집하고 . 마누라와 자식만 빼고 다 바꿔라. 며 고강도 혁신을 주문했다. 이듬해인 1994년 첫 휴대전화를 출시해 . 시리즈 성공의 기반을 마련했다. 회사의 사업 근간인 TV 역시 2006년 일본 소니를 제치고 세계 1위에 오른 후 10년 넘게 왕좌를 지키고 있다. 삼성전자의 이런 성장은 삼성그룹의 사업군에도 변화를 불러왔다. 이재용 부회장은 2014년 11월 한화그룹에 석유화학 및 방산부분을 넘기고. 2015년 하반기에는 C사 케미칼사업부와 삼성정밀화학. 삼성BP화학을 롯데그룹에 매각했다. 삼성이 살아남으려면 비주력 계열사를 정리하고 열정과 자신이 있는 사업을 해야 한다. 제대로 경영할 수 없는 회사를 그냥 가지고 있는 것은 경영인의 도리가 아니다. 을 통해 사업재편에 나서는 한편 신사업 육성에 나섰다. 50돌인 올해 4월에는 이재용 부회장이 시스템 반도체 세계 1위를 목표로 내건 . 재계의 한 관계자는 . 삼성전자가 신화만 남긴 것이 아니라 오점도 있지만. 삼성 없이 우리나라 산업발전사를 논할 수 없을 것. 더 치열해진 경쟁 속에서 삼성이 과오를 훌훌 털고 사업에 매진하길 바란다. com 세상을 보는 눈\n"
     ]
    },
    {
     "name": "stderr",
     "output_type": "stream",
     "text": [
      "익명화 진행 중:  50%|█████     | 43033/85771 [03:15<03:29, 203.74it/s]"
     ]
    },
    {
     "name": "stdout",
     "output_type": "stream",
     "text": [
      "Row 43000 기업명 -> 익명화 이름 매핑: {'삼성SDI': 'J사'}\n",
      "Row 43000 after anonymization - 기업명: J사, full_text: 일본의 비수, 이번엔 소·부·장 특허전쟁 지난 3월에는 또 다른 일본인이 국내 반도체 장비업체인 고영테크놀로지를 상대로 특허 이의신청을 냈다. 이 회사는 반도체 회로기판 검사 장비 관련 특허를 다수 갖고 있다. 지난해 7월 일본의 수출 규제 이후 한국이 소재. 국산화에 속도를 내자 일본이 . 를 무기로 반격에 나섰다. 특허 전문가들 사이에서는 한국 정부와 기업이 소. 장 국산화에 성급하게 나섰다가 일본 특허의 덫에 걸려들 수 있다는 우려가 나온다. 7일 글로벌 특허소송 데이터베이스인 . 와 특허검색 사이트 . 장과 관련해 일본이 한국을 상대로 제기한 특허 소송은 6건이다. 지난해에는 4건이었다. 박승관 대한변리사회 연구관은 . 국내에서 발생하는 전체 특허 분쟁이 한해 통상 50건 정도인 점을 고려하면 결코 작은 수치가 아니다. 지난 7월에는 일본의 한 개인이 포스코를 상대로 수소. 전기차에 들어가는 연료전지 분리판용 소재 특허에 대한 이의신청을 일본 법원에 제기했다. 3월에는 LG화학의 2차전지용 활물질 특허를 취소해 달라는 이의신청이 일본에서 제기됐다. 지난해 말에는 일본이 삼성SDI의 2차전지 생산 관련 특허 이의신청을 냈다. 주목할 것은 일본에서 제기한 소송 대부분이 . 이의신청은 특허무효 소송이나 침해 소송에 앞서 . 특허 자격이 없으니 등록을 취소해 달라. 이의신청은 법인뿐 아니라 이해관계가 없는 개인도 낼 수 있다. 본격 특허 소송의 전 단계로 기업들이 자주 쓰는 전략. 일본의 잇따르는 특허 이의신청이 본격적인 한. 의 서막이라는 얘기다. 변리사인 윤정호 키워트 대표는 . 장 관련해 지난해부터 2차전지 분야에서 한국 기업을 상대로 일본의 특허 소송이 늘고 있다. 반도체 등 한국의 주력 수출 상품의 경우 국내 기업들이 일본의 소재와 부품. 장비를 여전히 많이 사용하기에 때문에 당장 눈에 띄는 특허 분쟁은 없지만. 기술 국산화 등의 변화가 생길 경우에는 2차전지 분야와 같이 특허 분쟁이 발생할 가능성이 매우 크다. 장 정책을 밀어붙여선 곤란하다는 우려가 나오는 이유가 여기에 있다. 산업통상자원부와 특허청에 따르면. 지난해 7월 이후 최근까지 국내에서는 소. 장 관련 핵심 특허 72건이 창출됐다. 일본이 첫 타깃으로 삼은 불화수소와 포토레지스트. 폴리이미드 등 3대 반도체 소재 역시 국산화가 일부 진척됐다. 하지만 일본은 전통적인 소. 의존도 역시 여전히 높다. 한국무역협회 국제무역통산연구원에 따르면. 5월 기준 기초유분의 대일 수입 의존도는 94. 반도체 제조 장비와 정밀화학 원료 의존도는 각각 86. 한 전자업계 임원은 . 일본 수출 규제 이후. 특허 강국인 일본이 뒤에서 회심의 미소를 짓고 있을 것. 장 국산화가 무르익을 때를 기다린 후 특허의 허점을 노려 공격할 수 있다는 얘기다. 홍장원 대한변리사회 회장은 . 일본의 경우 특허의 핵심 내용을 교묘하게 숨긴 채 권리 범위가 넓은 특허를 출원하는 경우가 많다. 섣부른 특허는 일본 특허의 그물망에 걸릴 가능성이 크다\n"
     ]
    },
    {
     "name": "stderr",
     "output_type": "stream",
     "text": [
      "익명화 진행 중:  51%|█████▏    | 44024/85771 [03:19<03:13, 215.58it/s]"
     ]
    },
    {
     "name": "stdout",
     "output_type": "stream",
     "text": [
      "Row 44000 기업명 -> 익명화 이름 매핑: {'삼성SDI': 'T사', '전방': 'N사'}\n",
      "Row 44000 after anonymization - 기업명: T사, full_text: 글로벌핫스톡] 강봉리튬, 리튬 추출 기술 독보적...전기차 타고 '질주' 2018년부터 3년간 매출 성장률은 둔화되는 모습이 나타났다. 하지만 올해 N사 산업의 견조한 수요와 리튬 가격 강세 등이 전망돼 실적 반등이 기대된다. 강봉리튬의 지난해 해외 매출액은 16억 위안. 으로 총 매출액의 29. 포인트 줄어든 수치지만 여전히 업계 상위 글로벌 기업을 안정적인 수요처로 확보하고 있다. 주요 내수 고객사로는 CATL과 BYD. 국헌하이테크가 있으며 해외 고객사는 LG화학과 T사. BMW 등 완성차 기업들은 리튬의 수급 불균형 우려로 공급 업체와 장기 계약을 체결하고 있다. 강봉리튬은 폭스바겐과 10년간 리튬 화합물 장기 공급계약 외에도 폐2차전지 재활용 및 고체 배터리 등 합작을 진행하고 있다. 테슬라와 BMW에도 리튬 화합물을 장기 공급하는 계약을 체결했다. 강봉리튬은 올해 1분기 잠정 순이익을 4억 5. 000만 위안으로 제시했다. 로 인한 기저 효과와 평균단가. 보유 금융자산의 수익 증가로 전년 동기 대비 5. 에 달하는 큰 폭의 이익 증가가 예상된다. 현재 주가는 12개월 선행 주가수익비율. 69배에서 거래되고 있다. 글로벌 대표 경쟁 기업인 앨버말의 43배 대비 밸류에이션이 높다. 하지만 강봉리튬의 올해 예상 매출 성장률. 즉 정당화가 가능한 프리미엄으로 판단된다는 뜻이다. 수익성도 올해를 기점으로 회복될 것으로 전망돼 주가 모멘텀이 기대된다\n"
     ]
    },
    {
     "name": "stderr",
     "output_type": "stream",
     "text": [
      "익명화 진행 중:  53%|█████▎    | 45030/85771 [03:24<03:06, 218.93it/s]"
     ]
    },
    {
     "name": "stdout",
     "output_type": "stream",
     "text": [
      "Row 45000 기업명 -> 익명화 이름 매핑: {'LG화학': 'V사', 'SK이노베이션': 'G사', '삼성SDI': 'T사'}\n",
      "Row 45000 after anonymization - 기업명: T사, full_text: G20 계기 유럽 순방 떠나는 文대통령… 키워드는 '교황·탄소중립·배터리' 3년 만에 교황을 만난 문 대통령은 교황 방북을 비롯해 한반도 평화 문제를 논의하고. 100개국이 넘는 정상들이 참석하는 COP26에서 정부가 2018년 대비 40. 까지 상향하기로 한 2030 국가온실가스 감축목표. 를 국제사회에 발표한다. 이어 헝가리에서는 현지에서 전기차 배터리 사업을 하고 있는 우리 기업들과 함께 비세그라드 그룹. 국가들과 경제협력을 강화할 계획이다. 3년 만에 교황 예방하는 文한반도 평화 국제사회 관심 환기먼저 문 대통령은 29일에 교황청을 공식 방문해 프란치스코 교황. 파롤린 교황청 국무원장과 각각 면담한다. 문 대통령의 이번 교황청 방문은 지난 2018년 10월에 이어 이번이 두 번째다. 문 대통령은 교황과 만나 우리 정부의 한반도 평화 정착 노력을 상세히 설명할 예정이다. 청와대 핵심관계자는 문 대통령은 교황을 단독 면담할 예정으로 한반도 평화프로세스 등 한반도 문제와 관련해 폭넓은 대화를 할 것으로 예상된다고 말했다. 특히 프란치스코 교황은 한반도 평화를 위한 축원과 지지를 지속적으로 보낸 만큼. 청와대는 이번 교황 예방을 통해 G20 정상회의를 앞두고 한반도 평화에 대한 국제적 관심을 환기하는 효과가 있기를 기대하고 있다. 통일부는 이번 방문을 계기로 29일부터 다음달 7일까지 로욜라 성 이냐시오 성당에서 . 는 제목으로 136개 십자가 작품 전시회를 연다. 이 십자가는 휴전선 인근 폐철조망을 이용해 만든 것으로 박용만 대한상공회의소 명예회장이 기획해 권대훈 서울대 조각과 교수가 제작을 맡았다. 문 대통령은 이번 방문에서 프란치스코 교황에게 화합과 평화를 상징하는 의미로 철조망 십자가를 선물할 것으로 알려졌다. 문 대통령은 지난 2018년 교황 면담 자리에서 성모 마리아상과 예수 그리스도 부조를 선물했었다. 대폭 상향한 2030 NDC 국제사회에 발표탄소중립 박차문 대통령은 11월1일부터 2일까지 영국 글래스고에서 이틀간 열리는 COP26 정상회의에 참석한다. 이번 정상회의는 2015년 COP21 이후 6년 만에 개최되는 것으로 130여개국 정상들이 참석해 국제사회의 기후위기 대응 의지를 결집하는 역사적 계기가 될 것으로 전망된다. COP26은 지난 4월 미국이 주최한 기후정상회의와 5월 서울 P4G 정상회의. 9월 미국 주최 주요 경제국 포럼. 정상회의 등 올해 연쇄적으로 개최됐던 기후 관련 정상 간 논의의 정점이 될 것으로 보인다. 문 대통령은 COP26에서 기조연설과 의장국 프로그램인 . 세션 발언 등의 일정을 소화한다. 이 자리에서 문 대통령은 2030년까지 국내 온실가스를 2018년 대비 40. 상향안을 발표할 예정이다. 청와대 관계자는 미국. EU 등 기후 선진국들은 우리의 기후 행동 상향 의지를 환영하고 높이 평가하면서 기후변화 대응을 위한 파트너로서 함께 협력하자는 기대를 표명하고 있다고 말했다. 배터리 시장 노린다한. 비세그라드 협력 확대문 대통령은 이번 순방 마지막 일정으로 11월2일부터 4일까지 헝가리를 국빈 방문한다. 우리 정상이 헝가리를 방문하는 것은 2001년 김대중 전 대통령 이후 20년 만이다. 헝가리는 우리의 첫 구동구권 수교국이며. 북방외교 출발점이 된 국가다. 헝가리는 유럽 내 물류. 교통 편의성이 뛰어나고 글로벌 자동차 기업들이 있는 독일. 프랑스와 인접해 있어 V사. G사 등을 비롯해 다수 우리 기업들이 전기차와 배터리 등 분야 투자를 확대하고 있다. 문 대통령은 이번 방문에서 아데르 대통령 및 오르반 총리와 각각 회담을 하고 실질 협력 내실화 방안을 논의하면서 헝가리 내 우리 기업들이 현지에서 원활한 경제활동을 이어나갈 수 있도록 지원을 당부할 것으로 보인다. 문 대통령은 또한 헝가리에서 개최되는 한. V4 정상회의에 참석하는 한편 이들 국가와 각각 양자 회담을 가질 예정이다. 이어 우리 기업과 V4국 기업 간에 처음으로 개최되는 한. V4 비즈니스 포럼에 참석한다. V4는 유럽 내 우리의 최대 수출시장이자 650여개 우리 기업들이 진출한 핵심 투자처로 EU 내에서 경제성장이 가장 빠르다. 이번 헝가리 방문에는 문승욱 산업통상자원부 장관도 동행해 양측 기업들의 경제협력을 지원할 예정이다.\n"
     ]
    },
    {
     "name": "stderr",
     "output_type": "stream",
     "text": [
      "익명화 진행 중:  54%|█████▎    | 46024/85771 [03:29<03:04, 215.21it/s]"
     ]
    },
    {
     "name": "stdout",
     "output_type": "stream",
     "text": [
      "Row 46000 기업명 -> 익명화 이름 매핑: {'포스코케미칼': 'W사', '삼성SDI': 'H사'}\n",
      "Row 46000 after anonymization - 기업명: H사, full_text: K-배터리 육성 팔걷은 수출입은행…포스코케미칼에 최고수준 금융지원 수은은 19일 국내 배터리 핵심소재 생산설비 투자 지원을 위해 포스코케미칼과 향후 3년간 1조원 규모의 기본여신약정. 을 체결했다고 밝혔다. 기본여신약정이란 금융지원 한도금액과 지원절차 등 금융지원 조건을 사전에 확정한 후. 향후 기업의 다양한 여신 수요가 발생하면 신속히 금융을 제공하는 거래를 뜻한다. 수은 관계자는 와의 통화에서 워낙에 . 우량 차주기도 하지만 배터리 소재의 해외 진출을 위해서 정책적으로 지원을 하는 것인 만큼 수출입은행이 지원할 수 있는 최대 수준으로 우대를 할 것이라고 설명했다. 국내 배터리 산업의 저변 확대에 수은은 일찍이 관심을 기울여왔다. 올 4월 수은 해외경제연구소에선 배터리 핵심소재의 국산화 비율이 평균 14. 에 그친다는 점을 조사해 밝힌 바 있다. 수은은 우리 배터리 산업의 초격차 경쟁력 확보를 적극 지원 중이다. 지난해 8월 배터리 분야를 글로벌 핵심전략산업으로 선정. 포스코케미칼과 수은이 체결한 FA는 국가 미래전략산업인 배터리의 핵심소재 해외의존도를 완화하고. 밸류체인을 확장하기 위해 마련됐다. 포스코케미칼은 양극재. 음극재를 동시에 생산하는 국내 유일의 기업이다. 수은은 수출증진 효과가 큰 포스코케미칼의 국내 양극재. 음극재 생산설비 투자와 해외사업 전반에 대해 신속히 금융을 제공할 예정이다. 수은은 이런 효과에 주목해 포스코케미칼과의 FA를 선제적으로 체결한 것으로 풀이된다. 수은 관계자는 국내 배터리 3사인 SK. LG와 모두 거래를 하고 있고 다른 기업들한테도 정상적으로 여신 지원이 나가고 있다며 포스코케미칼과 같은 구조로 . FA를 체결하는 것은 조금 더 지켜봐야할 것 같다고 부연했다. 배터리 분야는 급변하는 외부환경과 글로벌 친환경차 수요에 맞춰 적기의 투자 의사결정이 필요한 분야로 꼽힌다. 이번 약정체결을 계기로 포스코케미칼은 실제 자금 수요가 발생하면 수은의 신속한 금융지원을 통해 원활한 사업 추진이 가능할 전망이다. 특히 수은은 포스코케미칼과 GM이 추진 중인 . 캐나다 퀘벡주 양극재 합작공장. 건립 등 해외사업을 집중적으로 지원할 계획이다. 권우석 수은 전무는 이번 약정체결로 우리 정부가 미래전략산업으로 육성하는 배터리의 안정적 소재 공급망 확보를 통해 K. 배터리 생태계 기반 구축에 기여할 것이라며 배터리 산업 외에도 수소. 태양광 등 친환경에너지 산업 지원을 통해 글로벌 탄소중립에도 힘써 나가겠다고 말했다. 민경준 W사 사장은 글로벌 배터리 핵심소재에 대한 선제적인 투자와 글로벌 공급망 구축을 가속화해 K. 배터리와 친환경 모빌리티 산업의 발전을 이끌어 나가겠다고 강조했다.\n"
     ]
    },
    {
     "name": "stderr",
     "output_type": "stream",
     "text": [
      "익명화 진행 중:  55%|█████▍    | 47039/85771 [03:34<02:56, 219.21it/s]"
     ]
    },
    {
     "name": "stdout",
     "output_type": "stream",
     "text": [
      "Row 47000 기업명 -> 익명화 이름 매핑: {'삼성SDI': 'S사', 'LG에너지솔루션': 'V사'}\n",
      "Row 47000 after anonymization - 기업명: S사, full_text: 참치캔, 포일 만들다… ‘배터리 기업’으로 화려한 변신 이들 기업은 과거 참치나 음료수 캔. 요리에 쓰는 쿠킹 포일. 금속을 종이처럼 얇게 펴서 만든 것. 금속 코팅과 가공 기술력을 활용해 배터리 내용물을 담는 캔 용기를 생산하거나 배터리 내에서 전류를 전달하는 양극박 시장에 진출하면서 디지털 전환 성공 기업으로 꼽히고 있다. 예를 들어 과거에 식음료를 담는 캔 내부에 부식 방지를 위해 주석을 코팅했다면. 배터리에는 마모나 부식에 강하고 산화 반응이 일어나지 않는 니켈로 코팅하는 식이다. 신사업 진출 24일 배터리 업계에 따르면. TCC스틸은 작년말 9000원대이던 주가가 올해 들어 배가 넘게 올랐다. 증권가에서는 그간 식음료 캔을 생산하던 TCC스틸이 2차 전지 소재 기업으로 변신하면서 기업 가치가 오를 것으로 평가하고 있다. TCC스틸은 1959년 설립된 국내 최초 주석도금강판 기업으로 식음료. 페인트 등의 포장 용기 캔을 생산해왔다. 2001년에는 국내 최초 니켈도금강판을 개발해 2009년부터 LG에너지솔루션과 삼성SDI에 원통형 배터리용 니켈도금강판을 납품하기 시작했다. 현재 TCC스틸은 국내에서 유일한 니켈도금강판 공급 업체다. TCC스틸은 지난해 1월부터 총 1105억원을 투자해 포항공장에 니켈도금강판 전용설비를 증설 중이다. 증설 공사가 완료되면 설비능력은 기존 7만톤. 에서 20만t으로 증가할 것으로 예상된다. 설비는 올해 7월부터 가동될 전망이다. 리튬이온 배터리의 원형 캔을 만드는 상신이디피도 비슷하다. 이 회사는 1992년 설립됐으며. 현재 매출액의 약 90. 를 삼성SDI가 차지하고 있다. 전동공구 등에 사용되는 원형 캔과 전기차에 사용되는 EV CAN. 대용량 에너지저장장치. 등 2차전지에 사용되는 부품 등을 생산하고 있다. 2020년 자동차부품 사업 부문을 중단하고 2차전지 부품 사업에만 집중하고 있다. 상신이디피는 S사 헝가리 공장에 납품할 배터리 캔과 함께. 헝가리 괴드에 전기차 배터리 생산공장을 건설했다. 쿠킹포일에서 2차 전지 . 으로 주방에서 널리 사용되는 쿠킹포일 사업을 하면서 쌓은 알루미늄 가공 기술을 활용해 배터리 분리막 사업에 진출한 기업도 있다. 섬유 기업으로 유명한 DI동일은 1989년 자회사인 동일알루미늄을 설립해 알루미늄박 제조사업에 뛰어들었다. 냉동공조용 알루미늄 포일 등을 생산해왔다. 또 DI동일의 계열사인 동일드방레는 섬유소재사업도 하는데. 악어 로고로 유명한 의류 브랜드 . 의 수입사이기도 하다. 알루미늄 양극박은 전기 자동차용 배터리 내에서 전자가 이동하는 통로의 역할을 하는 핵심 부품으로. 이하의 박 형태로 매우 얇게 가공해 만든다. 이 과정에서 알루미늄이 끊어지지 않고 두께를 균일하게 유지해야 해서 최첨단 압연 기술이 필수적이다. 동일알루미늄은 국내 최대 2차전지용 알루미늄박 제조업체로 V사. SK온 등 배터리 3사가 모두 고객사다. 충남 천안 공장에 4개 라인이 가동 중이고. 올해 2분기에 한 개 라인이 추가될 예정이다. 이를 위해 지난해 5월 독일 알루미늄박 생산기계업체 아켄바흐. 와 압연기 구매 계약을 체결한 바 있다. 삼아알미늄은 1969년 설립 이후 대한민국 최초로 쿠킹포일과 같은 종이형 알루미늄을 생산해왔고. 이상의 국내 점유율을 가지고 있다. 이후 신사업으로 전기차 배터리에 들어가는 알루미늄박 시장에 진출해 LG에너지솔루션에 제품을 공급하고 있다. 삼아알미늄은 1200억 규모로 진행한 유상증자에 LG에너지솔루션과 일본 완성차 업체 도요타가 참여해 주목을 받기도 했다. 조일알미늄도 DI동일. 삼아와 함께 사업 구조를 알루미늄 포일에서 배터리로 재편한 기업으로 평가받는다. 지난해 조일알미늄은 배터리용 양극박 핵심 원재료인 알루미늄 판재를 동원시스템즈에 공급하는 계약을 체결한 바 있다. 동원시스템즈도 동원참치용 통조림 캔과 포장재를 만든 노하우를 바탕으로 배터리 캔과 양극박을 개발해 V사 등 배터리 업체에 공급하고 있다. GM도 원통형 관심 전문가들은 원통형 배터리의 중요성이 부각되면서 이들 기업이 수혜를 받을 수 있다는 분석이 나온다. 원통형 배터리는 주로 테슬라가 전기차에 적용하는 배터리 타입이다. 보통 전기차 배터리는 형태에 따라 원통형. 원통형 배터리는 둥근 몸체 덕에 전극을 돌돌 마는 . 방식의 제조가 가능해 생산 속도가 파우치나 각형과 비교해 빠르다는 장점이 있다. 한 배터리 업체 관계자는 . 비용과 시간을 감안한 제조 효율을 따질 때 원통형이 다른 제품보다 4배가량 뛰어나다. 테슬라가 지난달 게임 체인저로 불려온 . 양산에 성공하면서 원통형 배터리 시장이 더욱 커질 것으로 기대된다. 4680배터리는 지름 46. 기존 원통형 배터리는 노트북 등 전자기기에 주로 사용됐지만. 테슬라가 전기차로 사용처를 넓히면서 배터리 크기와 용량을 2배 이상으로 키운 것이다. 최근 파우치 타입 배터리를 쓰던 GM도 원통형 배터리를 수급하기 위해 삼성SDI와 협의를 진행하고 있는 것으로 알려졌다. 삼성SDI는 이달 말부터 천안공장에 46파이. 원통형 배터리 생산 장비를 반입하는 것으로 알려졌다. 3월까지 설비를 갖춘 후 시험생산 및 양산에 들어간다는 계획이다. 삼성SDI의 설비는 테슬라가 탑재를 선언한 4680뿐만 아니라 여러 규격에 대응할 수 있는 것으로 전해진다. 배터리 업계 관계자는 . 테슬라가 4680 배터리를 채택하면 원통형 배터리 시장이 더욱 커질 가능성이 크다. 원통형 배터리 캔이나 알루미늄막 관련 기업들의 수혜가 예상된다\n"
     ]
    },
    {
     "name": "stderr",
     "output_type": "stream",
     "text": [
      "익명화 진행 중:  56%|█████▌    | 48030/85771 [03:38<03:00, 209.53it/s]"
     ]
    },
    {
     "name": "stdout",
     "output_type": "stream",
     "text": [
      "Row 48000 기업명 -> 익명화 이름 매핑: {'기아': 'I사', '현대차': 'A사', 'SK이노베이션': 'H사', '삼성SDI': 'W사'}\n",
      "Row 48000 after anonymization - 기업명: W사, full_text: '전기차·배터리·AI' 신성장 3형제…취업문 열어젖히다 불어닥친 하반기 채용 한파12일 전국경제인연합회. 조사에 따르면 매출액 기준 국내 500대 기업 중에서 올해 하반기 신규 채용 계획을 세우지 못했거나. 또는 채용 계획 자체가 없는 곳. 기업 10곳 가운데 6곳 이상이 새로운 직원을 뽑지 않는다는 얘기다. 하반기 신규 채용 계획을 수립한 나머지 35. 기업 가운데 채용 규모를 전년 대비 비슷한 수준으로 유지하겠다는 기업은 57. 줄이겠다는 기업은 24. 채용을 늘리겠다는 기업은 17. 지난해와 비교해 채용 규모를 축소한 기업은 11. 감소해 극명한 대비를 이뤘다. I사 채용 돌입취업난 속에 채용의 문을 연 곳은 전기차. AI 등 신성장 사업 육성으로 분주한 기업들이 대부분이다. 2분기 연속 영업이익 왕좌를 차지한 현대자동차는 이달 14일까지 9월 신입사원 상시 채용 지원서를 접수한다. 9월 신입사원 채용은 연구개발. 기획 등 총 6개 분야 26개 직무가 대상이다. 현대차는 지난해 7월 도입한 . 예측 가능한 상시채용. 원칙에 따라 매 분기별 1일마다 대졸 신입사원을 채용하고 있다. A사 관계자는 이번 채용은 우수 인재를 확보해 미래 모빌리티 경쟁력을 강화하기 위한 것으로 지원자 관점을 고려해 채용 과정을 개선하고 차별화된 채용 콘텐츠를 만들어 우수 인재 확보에 나설 계획이라고 말했다. 기아도 전날부터 하반기 대졸 신입사원 채용에 들어갔다. 상반기에는 매달 직무별 상시 채용을 진행했고. 하반기에는 부문별 일괄 채용을 실시한다. 이번 채용은 글로벌 사업 국내 사업 생산기획 구매 품질 등 13개 부문에서 우수 인재를 선발한다. 채용 기간에 맞춰 전국 9개 대학교에서 상담회도 열었다. 배터리 업계도 인재 모시기 활발전기차와 맞물려 급성장 중인 배터리 업계에서도 인재 모시기가 활발하다. 국내 최대 배터리 기업인 LG에너지솔루션은 지난달 25일 하반기 신입 채용을 시작해 이달 9일 마감했다. 배터리 셀 개발 인력을 포함해 품질. 마케팅 등 부문에서 신입사원을 모집한다. 채용 규모는 세자릿수다. LG에너지솔루션은 신입과 경력을 가리지 않고 상시로 인재 풀 등록도 받고 있다. 지난 4월에는 주요 경영진이 미국 샌프란시스코로 총출동해 채용 행사를 열 만큼 우수 인재 확보에 집중하고 있다. 올해 2분기말 기준 LG에너지솔루션의 직원수는 1만1793명으로 지난해보다 1688명. 삼성SDI도 하반기 신입사원 공채를 진행중이다. 그룹 공채 이외에 소형전지. 전자재료 등 각 사업부별로 경력을 수시로 채용 중이다. 지난달 서울에서 개최한 . 2023 테크커리어 포럼. 은 이달 독일 뮌헨과 다음달 미국 샌프란시스코로 무대를 옮겨 글로벌 우수 인재 확보에도 나설 예정이다. 삼성SDI의 직원수는 1년새 659명 늘었다. SK온의 직원수는 1년 동안 1170명 증가해 올해 2분기말 기준 3310명으로 몸집이 커졌다. SK온은 지난 6월 미국 캘리포니아에서 열린 . H사 글로벌 포럼. 에 참여한 뒤 포럼 참석자들을 대상으로 현지 면접을 가졌다. 포럼과 별개로 스탠퍼드대와 버클리대를 방문해 석. 박사급을 대상으로 기업설명회도 열었다. 포스코퓨처엠은 전날부터 배터리소재 분야 신입. 미국과 캐나다 현지 체류 인재를 대상으로 한 수시 채용도 계속 진행 중이다. 앞서 포스코퓨처엠은 국내외 사업 확대를 위해 지난 1년간 기존 인원의 30. 가 넘는 700여명을 충원했다. 불황 끝 반도체본격 인재 영입내년 회복세가 전망되는 반도체 업계에서도 인재 영입에 적극적인 분위기다. 반도체 시장 전문 조사기관 테크인사이츠는 내년 반도체 시장 규모를 올해 예상치보다 10. 성장한 6080억 달러. 811조 720억 원. 전환에 따른 전반적인 반도체 수요 상승이 시장 반등을 이끌 거라고 분석했다. 반도체 업황 회복 전망에 고용 시장 역시 활력을 띄는 모양새다. 불황기에도 채용을 꾸준히 이어온 삼성전자를 비롯한 삼성 관계사 20곳은 18일까지 하반기 신입사원을 지원받는다. 정기 신입 공채는 재계 4대 그룹 가운데 삼성이 유일하다. 삼성은 앞서 2018년 3년간 4만명 채용 계획을 달성한데 이어 지난해 5월에는 5년간 8만 명을 신규 채용하겠다는 구상을 내놨다. 연평균 1만 6천 명에 이르는 규모다. 실제 삼성전자의 국내 임직원수는 2018년 10만 3011명에서 올해 6월 기준 12만 4070명으로 꾸준히 늘고 있다. SK하이닉스도 조만간 하반기 신입사원 채용에 나설 계획으로 알려졌다. 채용 규모는 상반기보다 확대할 예정으로 전해졌다. 좁아진 취업문경쟁 심화 전망신성장 산업을 중심으로 채용의 기회가 열렸지만. 취업문이 워낙 좁아진 탓에 경쟁은 한층 더 치열해질 것으로 보인다. 전경련 조사에서 기업들이 예상한 올해 대졸 신입 채용 경쟁률은 평균 81대1로 집계됐다. 지난해에는 77대1이었다. 특히 5개 중 1개 이상의 기업. 은 하반기 채용 경쟁률이 120대1을 넘을 걸로 봤다. 추광호 전경련 경제산업본부장은 최근 기업들은 경기침체로 인한 경영실적 악화. 고환율 등 경영 불확실성 증폭으로 채용을 보수적으로 계획하고 있는 상황이라며 정부와 국회가 규제 혁파. 조세부담 완화 등 기업 활력을 위한 제도적 지원으로 고용 여력을 확충시킬 필요가 있다고 강조했다.\n"
     ]
    },
    {
     "name": "stderr",
     "output_type": "stream",
     "text": [
      "익명화 진행 중:  57%|█████▋    | 49042/85771 [03:43<02:26, 250.63it/s]"
     ]
    },
    {
     "name": "stdout",
     "output_type": "stream",
     "text": [
      "Row 49000 기업명 -> 익명화 이름 매핑: {'기아': 'U사'}\n",
      "Row 49000 after anonymization - 기업명: U사, full_text: 美법원, 현대기아차 '연비과장' 2억1천만弗 2015년 합의 인정 앞서 연방항소법원 판사 3명으로 이뤄진 재판부는 작년 1월 현대. 기아차와 차량 소유자의 합의를 무효로 결정했으나. 이날 판결로 양측의 합의가 되살아나게 됐다. 당시 3인 재판부는 미 전역에 걸친 소비자들과의 합의를 승인하면서 차량을 구매한 각 주의 법을 조사하는 대신 캘리포니아의 소비자법을 적용한 것은 부적절하다며 2015년 연방판사의 합의 승인이 잘못됐다고 판단했다. 만약 이런 판단이 유지됐다면 미국 각지에서 소송전으로 비화한 현대. 기아차 연비 과장 사건을 최종적으로 마무리하는 과정이 더 늦어질 가능성이 있었다. 하지만 전원합의체를 열어 이번 사건을 심리한 연방항소법원은 찬성 8명 대 반대 3명으로 3인 재판부의 앞선 판단을 뒤집고 2015년 승인된 합의를 지지했다. 로이터통신에 따르면 연방항소법원은 보상 절차가 소비자에게 부담을 안기고. 변호사들이 집단소송 과정에서 현대. 기아차 측과 공모했다는 일부 차량 소유주들의 주장을 받아들이지 않았다. 이번 사건은 미국 환경보호청. 2013년 모델의 연비 산출 방식에 문제가 있다고 판단하면서 불거졌다. 기아차는 연비를 애초에 발표했던 것보다 하향 조정했고. 미국 각지에서 소송이 제기됐다. 관련 소송들은 소비자단체 소송으로 병합됐고. 2015년 LA 연방판사는 차량 소유자와 현대. 기아차 사이의 합의를 승인했다. 당시 합의에는 차량 소유자에게 연료비를 보조하도록 240. 1천420달러를 지급하거나. 새 차를 살 때 할인 혜택을 제공하도록 하는 내용을 담고 있다고 샌프란시스코 클로니클은 전했다. 블룸버그통신은 6일 판결에 따라 제9연방항소법원이 이번 사건에 관해 다른 항소법원의 판단과 보조를 맞출 수 있게 됐으며. 판례가 엇갈리지 않는 이상 연방대법원이 사건을 다시 심리할 가능성은 작아 보인다고 관측했다\n"
     ]
    },
    {
     "name": "stderr",
     "output_type": "stream",
     "text": [
      "익명화 진행 중:  58%|█████▊    | 50054/85771 [03:47<02:14, 265.81it/s]"
     ]
    },
    {
     "name": "stdout",
     "output_type": "stream",
     "text": [
      "Row 50000 기업명 -> 익명화 이름 매핑: {'현대차': 'Q사', '기아': 'E사'}\n",
      "Row 50000 after anonymization - 기업명: E사, full_text: 위기 극복 DNA 있다…'新쏘렌토'부터 속도내는 기아차 박한우 기아차 사장은 6년 만에 완전변경한 SUV. 사전계약을 시작한 지난 20일 한국자동차기자협회 . 시상식에 참석해 이처럼 말했다. 위기마다 극복했다박 사장이 위기를 언급한 건 판매 부진에 . 까지 연이어 어려움을 겪은 중국 시장 때문이다. 이라고 표현하면서도 그는 올해 296만대 판매 목표를 세웠는데. 중국 차질만 마무리되면 다른 지역에서 만회할 수 있을 것이라고 강조했다. 를 내세운 그의 자신감에는 이유가 있다. 4세대 쏘렌토는 지난 20일 사전계약 하루 만에 1만8800대 계약을 기록했다. 기아차 통틀어 가장 많은 숫자다. 기존 기록은 지난해 11월에 출시된 Q사 . 물론 긴장을 늦출 수는 없다. 새롭게 내놓은 하이브리드 모델이 정부 에너지소비효율 기준에 미치지 못해 친환경차 세제 혜택을 받지 못하는 일이 발생했다. 기아차는 시급하게 사전계약을 중단하고. 이미 계약한 고객을 위한 별도 보상안 마련에 나섰다. 반면 지난해 미국에서 성공한 대형 SUV . 는 또다른 위기 극복 자신감의 근거다. 박 사장은 텔루라이드가 미국에서 . 로 선정된 건 한국의 자랑이라며 현재 딜러 재고가 없을 정도인데 상반기 증산을 해도 하반기에 . 모자를 수 있다고 말했다. 핵심 차종 연쇄 출시. 확보도 중요한 부분이다. 기아차는 지난해 셀토스. K5를 연이어 내놓은 데 이어 올해 쏘렌토. 카니발 출시를 예고했다. 다음해에는 스포티지도 출시할 예정이다. 새 기아차 로고로 브랜드도 혁신기아차의 새 로고 발표 시점도 함께 공개됐다. 박 사장이 오는 10월이라며 구체적인 시점을 알린 건 처음이다. 앞서 그는 지난달에 열린 . 에서 올해 하반기에 브랜드 혁신 전략을 내놓겠다고 밝혔다. 박 사장은 오는 10월 브랜드 정체성. 등을 모두 발표할 것이라며 다만 상표권 등록 등 절차상 시간이 필요하다고 말했다. 기아차는 전기차 시대에 맞춰 미래 사업 체제로 변하는 회사의 모습을 고객들이 체감할 수 있도록 BI. 등을 바꿀 계획을 추진 중이다. 업계에선 기아차의 새 로고가 지난해 3월 . 2019 제네바 모터쇼. Imagine by KIA. 와 유사할 것이라고 본다. 차세대 크로스오버 전기차 콘셉트카 . 는 미래차의 가능성을 제시한 모델이다. 박 사장은 새 로고와 콘셉트카 로고의 유사성에 대해 비슷하지만 살짝 바뀔 것이라고 말했다. 상표권 등록 절차가 필요하다고 한 점을 고려하면 올해 새로운 로고가 등록될 가능성도 있다. 기아차 관계자는 새 브랜드 체계는 전기차 시대의 선도자. 밀레니얼세대와 Z세대에게 사랑받는 브랜드 등 명확한 지향점 하에 준비되고 있다고 설명했다\n"
     ]
    },
    {
     "name": "stderr",
     "output_type": "stream",
     "text": [
      "익명화 진행 중:  60%|█████▉    | 51035/85771 [03:51<02:04, 277.98it/s]"
     ]
    },
    {
     "name": "stdout",
     "output_type": "stream",
     "text": [
      "Row 51000 기업명 -> 익명화 이름 매핑: {'기아': 'T사'}\n",
      "Row 51000 after anonymization - 기업명: T사, full_text: '하청업체' 원하는 애플카 옆에 누가 남을까? 외신들은 지금처럼 애플이 완성차 업체에 . 을 바란다면 선택지가 별로 없다는 분석을 내놓고 있다. CNN비즈니스는 최근 테슬라에서 포드. 혼다에 이르기까지 많은 회사들이 후보군에 거론되지만 실질적으로 애플이 가진 선택지는 많지 않다고 전했다. 애플이 소프트웨어와 하드웨어 주도권을 다 쥐길 바라는 상황에서 자동차 제조사들로선 애플과 협력한다고 해도 별다른 이익을 도모하기 어렵기 때문에 적극적으로 나서지 않을 것이란 분석이다. 자칫 대형 자동차업체가 하청업체로 인식될 위험도 있다. 는 글로벌 기업들이 자동차산업의 폭스콘 역할을 꺼려하고 있다고 평가했다. 아이폰 등 제조에 있어 대만 기업 폭스콘과 애플은 협력사지만 양사가 동등한 관계는 아니라는 점을 빗댄 말이다. 폭스바겐 애플이 두렵지 않다 FT는 14일. 애플이 일본 닛산과 비밀리에 자율주행차 생산을 위한 논의를 했지만 더 이상 진척이 없다고 보도했다. 전기차 생산을 요청한 것이 원인으로 추정된다. 아슈와니 굽타 닛산 최고운영책임자. 는 FT와의 인터뷰에서 자율주행 시대에 적응하기 위한 IT기업과의 협력 가능성을 열어두면서도 파트너십을 맺을 수 있지만 그들의 서비스를 우리 제품에 적용하기 위한 것이지. 그 반대는 아니다라고 말했다. 앞서 전문가들은 프랑스 르노와 일본 미쓰비시와 제휴를 맺고 있는 닛산이 애플의 전기차 생산 계획에 적합할 것이라고 전망한 바 있다. 닛산은 2010년 전기차 리프. 를 출시한 기술력을 갖췄고 미국에도 생산 공장을 두고 있어 유리하다는 시각이 있었다. 같은 날 헤르베르트 디스 폭스바겐 CEO는 독일 일간지인 . 프랑크푸르터 알게마이네 차이퉁. 과의 인터뷰에서 애플이 두렵지 않다면서 자동차산업은 단번에 진입 가능한 영역이 아니다라고 잘라 말했다. 애플이 준비하고 있는 자율주행 전기자동차가 자동차시장에 안착할 가능성을 낮게 본다는 뜻이다. CNBC는 아무리 애플이어도 IT기업이 완성차 산업으로 진출하는 데는 장벽이 있을 것이라고 지적했다. 완성차 산업은 리드타임. 생산 시작부터 완성까지 걸리는 시간. 이 긴 자본집약적 사업이며. 엄격한 안전 규제를 충족해야 하고 소비자 가전보다 마진이 훨씬 더 작기 때문이다. 전문가 하청 원하는 완성차업체 없다코메르츠방크의 데미안 플라워스 자동차부문 애널리스트는 애플은 자사 제품에 있어서 하나부터 열까지 전부 통제하려 할 것이라면서 애플이 원하는 것은 하청업체이지 파트너가 아니다라고 말했다. 업계 애널리스트들이 꼽는 애플 협력사 후보군에는 포드. 피아트크라이슬러와 푸조시트로엥 합병사. 그러나 애플이 첨단 기술을 통합한 자율주행 전기차에서 기술과 지식을 . 하지 않는 이상 굴지의 회사들이 애플과 힘을 합칠 타당한 이유가 없다고 플라워스 애널리스트는 봤다. 그는 애플은 같은 목표를 가진 회사를 돕지 않을 것이라면서 애플은 아무것도 공유하지 않을 것이다. 애플에서 얻을 수 있는 것은 생산량 증가뿐이라고 말했다. 결국 애플이 원하는 파트너는 기술을 공유하고 밀접한 협력을 맺을 회사가 아니라 아이폰 조립회사처럼 애플의 주문을 받아 적은 이윤을 남기고 제품을 만들어 납품하는 회사라는 지적이다. 자체적인 자율주행 기술과 운영체제를 만들고자 하는 자동차회사들은 제2의 폭스콘이나 페가트론으로 전락하는 일을 피하려 할 터다. 다만 전기차나 자율주행 기술에 막대한 투자를 쏟아부을 여력이 되지 않는 회사들은 비교적 애플과의 협력에 열려 있을 것이라고 독일 은행 메츨러의 주르겐 파이퍼 애널리스트는 전망했다. 아이폰 만드는 폭스콘도 가능. 위탁생산도 선택지 지난 11일. 블룸버그통신은 한국의 현대. 대만의 폭스콘 등 5개 업체가 가장 유력한 후보라고 보도했다. 그러나 현대차는 최근 공시를 통해 애플과 합작을 논의하지 않고 있다고 밝혔다. 폭스콘은 이미 애플과 합작해 아이폰 및 아이패드 등을 생산하고 있다. 폭스콘은 세계 최대의 전자기기 위탁생산업체이지만 이미 전기차 생산을 위한 준비에 돌입했다. 폭스콘은 지난해 10월 전기차 섀시와 소프트웨어 플랫폼을 공개했다. 또 2024년까지 전기차의 핵심인 배터리를 공개할 예정이다. 폭스콘은 지난해 크라이슬러와 합작 투자를 통해 중국에서 전기차를 개발. 제조하겠다는 계획도 발표했다. 블룸버그는 이외에 세계2위 자동차 부품공급 업체인 캐나다의 마그나. 유럽의 자동차 합작기업인 스텔란티스도 협력 후보가 될 수 있다고 전했다. 마그나는 이미 메르세데스벤츠. 재규어 등의 자동차를 위탁생산하고 있다. LG전자는 지난해 12월 마그나와 함께 1조원을 투자해 전기차 부품 합작법인을 설립하기로 한 바 있다\n"
     ]
    },
    {
     "name": "stderr",
     "output_type": "stream",
     "text": [
      "익명화 진행 중:  61%|██████    | 52053/85771 [03:55<02:12, 255.09it/s]"
     ]
    },
    {
     "name": "stdout",
     "output_type": "stream",
     "text": [
      "Row 52000 기업명 -> 익명화 이름 매핑: {'기아': 'H사', '현대차': 'A사'}\n",
      "Row 52000 after anonymization - 기업명: H사, full_text: A사·H사 21조 투자에...정부, 민간주도 모빌리티 혁명 지원 장영진 산업통상자원부 차관은 취임 첫 행보로 경기 H사 화성공장을 방문하고 자동차산업 관련 민간의 연구개발 및 투자 지원 강화 기술. 규제 혁신 부품기업의 미래 사업전환 등을 지원한다는 계획을 내놨다. 대규모 투자로 글로벌 불확실성 돌파 장 차관은 18일에 H사 화성공장을 방문해 A사. 기아가 2030년까지 국내 전기차 분야 21조원을 투자하기로 하자 . 정부지원방안을 발표했다. 정부는 민간주도의 경쟁력 확보를 위해 연구개발. 부품기업의 미래 사업전환 등을 폭넓게 지원할 계획이다. 기아는 2030년 기준 국내에서 전기차를 연간 144만대 생산. 국내외 전기차 총 생산량 대비 약 45. 국내를 생산 주요 거점으로 확고히 했다. 창 차관이 취임 첫 행보로 자동차 공장을 방문한 것은 민간의 대규모 투자에 대한 정부 지원의지를 표명하고. 미래 핵심 먹거리 산업인 자동차. 모빌리티 분야의 현장 목소리를 경청하는 것이다. 우크라이나 전쟁 장기화 등 대내외 여건이 어려운 시기의 대규모 투자에 대한 관심도 드러냈다. 장 차관은 불확실성이 큰 대내외 여건 속에서도 A사. 기아가 국내에 대규모 투자를 결정한 것은 큰 의미가 있다며 고물가. 고환율 등 소위 3고시대에는 기업의 설비 투자가 물가상승을 최소화하면서도 성장잠재력을 확충할 최적의 수단이라고 강조했다. 자동차 제조업 모빌리티로 진화 지원 장 차관은 3가지의 큰 산업정책 방향을 통해 민간 주도의 모빌리티 혁명을 지원할 계획을 밝혔다. 먼저 민간투자가 더 활성화될 수 있도록 투자 인센티브를 창의적으로 설계하고. 기업규제와 애로도 적극 해소하기로 했다. 산업 생태계 전반에 혁신과 경쟁력 강화가 중요해 부품기업들도 함께 미래를 대비할 수 있도록 지원한다. 서비스산업이 우리 산업에서 차지하는 비중이 갈수록 커지는 만큼 자동차 제조업이 서비스와 결합된 모빌리티 산업으로 진화할 수 있도록 노력하기로 했다. 자동차 산업은 전후방 연관효과가 큰 만큼 1. 3차 협력사들도 미래 사업 중심으로 함께 전환해 나갈 수 있도록 A사. 기아의 역할을 당부하기도 했다. 장 차관은 정부는 다양한 투자지원과 규제혁신을 통해 민간 투자를 뒷받침하는 . 을 추진할 계획이라며 자동차산업이 인포테인먼트. 로보택시와 같은 서비스와 융합하면서 . 이 본격화되는 만큼 기업의 혁신 노력에 더욱 박차를 가해달라고 당부했다. 테슬라 전기차 모빌리티\n"
     ]
    },
    {
     "name": "stderr",
     "output_type": "stream",
     "text": [
      "익명화 진행 중:  62%|██████▏   | 53025/85771 [03:59<02:06, 259.21it/s]"
     ]
    },
    {
     "name": "stdout",
     "output_type": "stream",
     "text": [
      "Row 53000 기업명 -> 익명화 이름 매핑: {'기아': 'F사', '현대차': 'L사'}\n",
      "Row 53000 after anonymization - 기업명: F사, full_text: '싼타페-텔루라이드', 대체 美 중산층은 왜 좋아할까 7일 업계에 따르면 L사. 기아는 올 들어 4월까지 미국 시장 RV 판매량이 전년 동기 대비 18. 증가한 38만1606대를 기록했다. 같은 기간 현대차그룹이 현지에서 판매한 전 차종 판매량이 52만대인 걸 감안하면 72. 이상이 RV 차량인 셈이다. 기아가 연간 기준으로 RV 판매 비중 최고치인 71. 를 달성했던 지난해를 뛰어넘는 것이다. 기아는 텔루라이드가 대표 RV 차량이다. 4월 미국 시장에서 3만9479대 팔려 전년 같은 기간 판매량보다 7. 현지 공략 모델인 텔루라이드는 같은 기간 3만5745대 판매돼 전년 동기보다 17. 의 증가율을 기록했다. 이처럼 현대차와 기아의 RV 차량이 미국 소비자들을 공략하자 현지 매체들도 호평을 잇따라 내놓고 있다. 미국 유력 자동차 매체인 켈리블루북은 . 2023년 최고의 가족용 차. 로 현대차의 아이오닉5. 팰리세이드와 F사 텔루라이드를 뽑았다. 켈리블루북은 미 도로교통안전국. 통계와 자체 설문을 바탕으로 안전성과 편안함. 편의성을 평가해 가족용 차에 가장 적합한 차 12종을 뽑았다. L사 전기차인 아이오닉5에 대해선 넉넉한 공간을 제공하고. 가족을 위해 안전하면서 조용하고. 편안한 장소로서 역할 한다며 또 1회 충전 시 최대 주행거리도 483. 에 달한다고 선정 이유를 밝혔다. L사 팰리세이드는 현지 자동차 매체인 워즈오토의 . 2023년 최고의 인테리어 및 사용자환경. 워즈오토는 첨단 운전자 보조 기술. 인포테인먼트 시스템의 접근 편의성. 인테리어 디자인 등을 평가해 수상 차를 선정했다. 팰리세이드는 탐색하기 쉬운 메뉴와 뛰어난 음성 인식 시스템. 감각적인 인테리어 등에서 높은 점수를 받았다. 현대차그룹 관계자는 전통적인 RV 강국인 미국에서 현지 업체들을 제치고 유력 매체의 우수차량으로 선정됐다며 RV의 인기에 미국 내 판매량이 계속해서 성장세를 유지하고 있다고 말했다.\n"
     ]
    },
    {
     "name": "stderr",
     "output_type": "stream",
     "text": [
      "익명화 진행 중:  63%|██████▎   | 54041/85771 [04:03<02:08, 247.17it/s]"
     ]
    },
    {
     "name": "stdout",
     "output_type": "stream",
     "text": [
      "Row 54000 기업명 -> 익명화 이름 매핑: {'기아': 'U사', '현대차': 'Q사'}\n",
      "Row 54000 after anonymization - 기업명: U사, full_text: Q사·U사, 하이브리드 급성장…'알파엔진'부터 쌓은 노하우로 경쟁력 확보 27일 업계에 따르면 올해 11월까지 국내에서 판매된 하이브리드카는 처음으로 30만 대를 돌파했다. 지난해 21만1304대 대비 40. 이상 성장하며 역대 최다를 기록할 전망이다. 2016년만 해도 6만2000여 대 수준에 불과했지만 불과 7년 만에 5배 가까이 성장한 셈이다. 연말까지 하이브리드카 성장세가 지속 이어질 경우 역대 처음으로 경유 차를 앞서게 될 것이란 예상에도 힘이 실리고 있다. 기아는 특히 올해 11월까지 국내에서만 하이브리드카 총 25만4258대를 판매하며 전체 실적에서 하이브리드카가 차지하는 비중은 21. 해외시장에서도 Q사. 기아의 하이브리드 모델들은 급성장하고 있다. 올 11월까지 해외시장에서 총 51만3000대. 의 하이브리드카를 판매했다. 올해 들어서만 전 세계에서 전년 동기 대비 32. 증가한 76만7000대의 하이브리드카를 판매한 것이다. 기아가 지난해에 이어 올해도 글로벌 3위 업체 자리를 지킬 수 있었던 데에는 전기차와 함께 하이브리드카의 선전으로 가능했다. 기아는 10년 이상 꾸준히 발전시켜 온 하이브리드 시스템을 기반으로 당분간 이어질 글로벌 친환경차 경쟁에서 돌파구를 마련한다는 방침이다. 엔진 변속기 개발에서 쌓은 기계공학 노하우. 독자 하이브리드 시스템 개발로 이어져 하이브리드카는 내연기관 엔진과 전기모터가 합쳐진 차량이다. 구조상으로는 내연기관차나 전기차보다 더 복잡한 기술 메커니즘이 적용된다. 특히 다양한 주행 상황에 따른 엔진과 모터 구동의 정밀 제어 기술 확보가 필수다. 기아는 세계 최초로 . 병렬형 하이브리드 시스템. K5 하이브리드를 선보였다. 당시만 해도 도요타와 GM 등이 . 을 내놓고 시장 지배력을 강화하고 있었다. 과거 도요타 역시 병렬형 하이브리드 시스템을 구현해 보려고 시도했지만 결국 포기했었다. 병렬형 하이브리드 시스템. 을 독자 개발할 수 있었던 배경에는 엔진과 변속기 개발을 통해 축적한 우수한 기계공학 역량이 기반이 됐다. 자동차의 심장에 해당하는 엔진은 기계공학의 . 모든 기계공학 기술의 집약체로 꼽히기 때문이다. 현대차는 1991년 대한민국 최초의 독자개발 엔진인 . 을 시작으로 글로벌 완성차 업체 위치로 올려놓은 수없이 많은 엔진을 개발해 왔다. 2019년에는 엔진의 종합적인 성능을 획기적으로 높여주는 CVVD. Continuously Variable Valve Duration. 기술을 세계 최초로 개발했다. CVVD는 엔진의 작동 조건에 따라 흡기 밸브가 열려 있는 기간을 최적화하는 기술로. 첨단 엔진 제어 기술력과 함께 발상을 전환하는 창의력이 접목된 결정체로 꼽힌다. 2009년에는 완성차 업체로는 세 번째로 6단 자동변속기 독자 개발에 성공하면서 글로벌 변속기 시장을 선도할 수 있는 기술력을 쌓기도 했다. 이처럼 수십 년간 축적해 온 기계공학 노하우를 바탕으로 Q사. 기아는 경쟁사가 가지고 있던 특허를 피하면서도 구동 효율을 향상시킬 수 있는 최초의 하이브리드 시스템을 개발할 수 있었다. 첫 하이브리드 시스템 양산 이후에도 Q사. 기아는 꾸준히 성능개선과 효율 증대를 도모해 왔다. 다양한 차급으로 확대 적용을 위해 크고 작은 배기량의 엔진과 결합시켰으며. 효율을 극대화하기 위해 DCT 변속기를 장착하기도 했다. 특히 2020년에는 180마력을 자랑하는 1. 6 터보 엔진을 기반으로 한 하이브리드 모델을 출시하기도 했다. 연비를 향상시키기 위해 첨단 소재 기술을 활용. 하이브리드 시스템의 중량을 저감하는 한편. 회생제동 개입 수준을 조절하는 패들 시프트. paddle shift. 하이브리드 시스템의 핵심 부품인 배터리도 직접 개발했다. 지난 8월 출시한 싼타페 하이브리드에는 현대차그룹이 직접 개발한 하이브리드 전용 배터리가 처음으로 탑재됐다. 하이브리드 시스템 지속 개선. 발전 추진글로벌 호평 견인전기차와 수소전기차 등 차세대 신기술 개발에 집중하면서도 하이브리드 시스템을 지속 발전시켜 온 Q사. 기아의 판단은 적중했다. 지난달 출시된 U사 카니발 하이브리드는 지금까지 Q사. 기아가 확보한 모든 하이브리드 기술이 대거 적용되면서 큰 인기를 끌고 있다. 6 터보 하이브리드는 최고 14. 0kmℓ의 뛰어난 연비뿐만 아니라 시스템 최고 출력 245마력. 엔진 최고 출력 180마력. 시스템 최대 토크 37. 엔진 최대 토크 27. 의 우수한 동력성능을 자랑한다. 시스템 합산 최고 출력은 지금까지 현대차그룹이 선보인 하이브리드카 중 가장 높은 출력이다. 급 고성능 모터가 탑재됐기 때문이다. 구동 모터를 활용한 승차감 향상 기술도 눈에 띈다. 핸들링은 구동 모터의 토크를 기반으로 차량의 앞뒤 수직력을 분배 제어해 선회 응답성과 안정성을 높여주는 기능이다. 긴급 회피 조향을 돕는 E. Electrically Evasive Handling Assist. 는 긴급 상황에서 작동하는 조향 보조 기능이다. 라이드는 과속방지턱 통과 전 구동 모터의 감속 토크를 통해 차 앞부분이 위로 들리는 움직임을 줄이고. 과속방지턱을 통과한 뒤에는 모터 구동을 통해 차 앞부분이 아래로 떨어지는 움직임을 줄여준다. 이러한 높은 상품성 덕분에 카니발 하이브리드는 전체 카니발 계약 고객 가운데 70. 를 차지할 정도로 높은 인기를 얻고 있다. 기아의 하이브리드카 모델에 대한 글로벌 전문지들의 호평도 지속 이어지고 있다. 현대차의 소형 스포츠유틸리티차량. 코나 하이브리드는 독일의 자동차 전문 매체 . 가 진행한 비교평가에서 도요타의 코롤라 크로스 하이브리드를 압도하며 경쟁력을 인정받았다. 코나 하이브리드는 평가항목 중 바디 편의성 파워트레인 주행성능 등 4개 항목에서 높은 점수를 받으며 종합점수 564점으로 543점을 받은 코롤라 크로스 하이브리드를 제쳤다. 지난해 9월에는 U사 스포티지 하이브리드는 아우토 빌트의 하이브리드 SUV 비교평가에서 540점에 그친 도요타 RAV4를 23점 차이로 앞서기도 했다. 두 결과는 그간 글로벌 하이브리드카 시장을 주름잡던 도요타 주요 하이브리드 모델에 앞섰다는 점에서 의미가 있다. U사 니로 하이브리드는 올 초 미국 유력 자동차 전문 평가 웹사이트 . 2023 최고의 차 어워즈. 2023 Best of Awards. 에서 경쟁 모델들을 제치고 당당히 최고의 차 자리에 올랐다. 올해 1월 한국자동차전문기자협회가 발표한 . 에는 Q사 그랜저 하이브리드가 선정되기도 했다. 기아는 당분간 지속될 하이브리드카 성장세에 대응하는 차원에서 효율과 성능을 대폭 향상시킨 차세대 하이브리드 시스템 개발에도 박차를 가한다는 방침이다. 2025년 출시를 목표로 개발 중인 차세대 하이브리드 시스템은 고성능 엔진과 결합될 예정이며. 연비 측면에서도 획기적인 개선이 이뤄질 것으로 기대를 모은다. 글로벌 하이브리드카 시장 2030년까지 지속 성장 전망 전기차 시대로의 과도기 과정이 다소 길어지면서 하이브리드카에 대한 시장 전망도 밝다. 글로벌 시장조사업체 . 글로벌 포춘 비즈니스 인사이트. 에 따르면 전 세계 하이브리드카 시장은 올해 19. 성장한 2718억 달러. 약 360조5400억원. 이 업체는 오는 2030년까지 하이브리드카 시장의 연평균성장률. 로 4439억1000만 달러. 규모가 될 것으로 예측했다. 하이브리드카 시장이 지속 성장할 것으로 예상되면서 업체 간 하이브리드카 신차 경쟁도 뜨겁다. 최근 도요타는 5세대 프리우스를 선보였으며. 르노코리아는 내년 출시를 목표로 중형 하이브리드 SUV 모델을 개발하고 있다. BMW와 렉서스 등도 하이브리드 신규 모델을 추가로 국내에 들여올 계획이다. U사 관계자는 내연기관 차량에서 전동화로의 전환을 가속화하는 가운데. 급증하고 있는 하이브리드카 수요에도 적극 대응해 나갈 것이라며 고객들에게 더 나은 운전 경험과 친환경 차량에 대한 다양한 선택의 폭을 제공하기 위해 지금까지 쌓아온 모든 기술 개발 역량을 집중하겠다고 말했다.\n"
     ]
    },
    {
     "name": "stderr",
     "output_type": "stream",
     "text": [
      "익명화 진행 중:  64%|██████▍   | 55051/85771 [04:06<01:51, 275.23it/s]"
     ]
    },
    {
     "name": "stdout",
     "output_type": "stream",
     "text": [
      "Row 55000 기업명 -> 익명화 이름 매핑: {'현대차': 'J사'}\n",
      "Row 55000 after anonymization - 기업명: J사, full_text: 팰리세이드, 잘팔려서 좋았는데 커튼 에어백이… 에어백이 펼쳐지지 않을 상황에서도 정면 에어백이 작동할 수 있는 것으로 파악됐다. 팰리세이드 3만4861대는 커튼에어백이 불완전하게 펴질 수 있는 개연성이 확인됐다. 쏘나타 하이브리드 2903대는 배선 간섭으로 경고등 점등. 운행시 시동 꺼짐 등이 발생할 수 있는 것으로 조사됐다. 포르쉐코리아가 수입 판매한 파나메라 등 2개 차종 5283대는 계기판 소프트웨어 오류다. 포드 몬데오 등 3개 차종 438대는 파워스티어링 모터의 볼트가 부식돼 파손될 수 있어 리콜에 들어간다. BMW 330i 등 2개 차종 9대는 엔진 구동 중 부품이 파손될 수 있고 오토바이 S1000RR 34대는 엔진오일이 새어 나와 시동이 꺼질 수 있는 것으로 파악됐다. V 등 5개 차종 13대는 개선된 에어백으로 교체가 완료됐으나 정비 과정에서 결함이 있는 에어백으로 교체된것으로 파악돼 개선된 에어백으로 재교체하는 리콜이다. 해당 제작사는 자동차 소유자에게 우편이나 휴대전화 문자 등으로 리콜을 알린다. 디지털뉴스국 매일경제 mk\n"
     ]
    },
    {
     "name": "stderr",
     "output_type": "stream",
     "text": [
      "익명화 진행 중:  65%|██████▌   | 56047/85771 [04:10<01:45, 281.13it/s]"
     ]
    },
    {
     "name": "stdout",
     "output_type": "stream",
     "text": [
      "Row 56000 기업명 -> 익명화 이름 매핑: {'현대차': 'U사'}\n",
      "Row 56000 after anonymization - 기업명: U사, full_text: 국산차 향상된 ‘기술력’이 일본차 밀어냈다 28일 한국수입자동차협회에 따르면 지난해 5월 국내 수입차 시장에서 . 였던 일본차 판매 점유율은 지난 5월 . 에도 못 미치는 수준으로 곤두박질쳤다. 최근 닛산은 한국 철수 결정까지 내렸다. 불매운동이 활발했던 지난해 9월 5. 로 바닥을 찍은 일본차 판매 점유율은 연말 폭탄세일로 12. 로 상승하며 회복세를 타는 듯했다. 하지만 지난 4월 다시 5. 코로나19가 극심했던 올해 1. 5월 수입차 총판매량은 10만 886대로. 지난해 같은 기간 8만 9928대보다 오히려 12. 상승했기 때문에 일본차의 판매 감소가 코로나19 탓만은 아닌 셈이다. 업계에서는 최근 국산차의 약진이 일본차를 부진에 빠트렸다고 보고 있다. 지난해 U사 쏘나타. 기아차 K5는 일본차 주요 모델인 도요타 캠리. 혼다 어코드 못지않은 상품성을 과시하며 출시됐다. K5 하이브리드 모델의 복합연비는 20. ℓ인 일본차를 앞선다. 전기차 U사 코나 일렉트릭은 최대 주행거리가 406. 가성비를 앞세운 그랜저 하이브리드는 렉서스 ES 300h를 대체할 모델로 손색이 없다는 평가를 받고 있다. 최근 국산차의 연비 성능과 첨단 기능. 세부 품목이 급속도로 발전하면서 고객들이 굳이 일본차를 사지 않아도 되는 상황이 된 것이다. 자동차 업계 관계자는 . 국산차 기술이 매년 괄목할 만한 성장을 이루고 있고 프리미엄 수입차 시장은 독일차가 확실히 선점하고 있어 앞으로 불매운동과 상관없이 일본차의 입지는 더욱 좁아질 것\n"
     ]
    },
    {
     "name": "stderr",
     "output_type": "stream",
     "text": [
      "익명화 진행 중:  67%|██████▋   | 57056/85771 [04:14<01:51, 258.19it/s]"
     ]
    },
    {
     "name": "stdout",
     "output_type": "stream",
     "text": [
      "Row 57000 기업명 -> 익명화 이름 매핑: {'현대차': 'J사', 'LG생활건강': 'I사'}\n",
      "Row 57000 after anonymization - 기업명: J사, full_text: 알고리즘랩스 LG생건, J사 등에 맞춤형 AI솔루션 적용 성장해 204조 원에 달할 것으로 전망된다. 하지만 막상 자신의 업무나 비즈니스에서 AI를 어떻게 활용할지 방법을 찾기는 쉽지 않다. 알고리즘랩스는 바로 이런 고민을 해결해주는 AI 보편화 솔루션제공 스타트업이다. 2일 서울경제와 만난 손진호. 알고리즘랩스 대표는 톱 다운. 방식으로 기업 전체에 AI를 적용하기보다는 실무자 개개인이 필요한 AI를 직접 함께 만드는 방식을 추구한다며 지난해 솔루션을 본격화해 국내 70여 개 주요 대기업. 000여 명의 임직원이 참여해 6개월만에 14개의 AI 프로젝트가 현장에 적용됐다고 말했다. 손 대표는 학창 시절 한국정보올림피아드 은상을 받았다. 멤버십 AI 연구를 맡았고 . Global DB Star. 또한 정주영 창업경진대회 최우수상 등을 수상하는 등 AI 분야 기술 전문성을 인정받는 청년 창업가다. 그는 AI 대중화를 위해 2017년 창업한 알고리즘랩스를 통해 AI 파이프라인을 최적화하는 . AI 솔루션 옵티마이저. 옵티마이저는 프로젝트 단위로 AI 모델을 매번 새로 만들 필요 없이 가장 최신의 적합한 알고리즘을 자동으로 구축해 주는 게 강점이다. 단순 반복 업무에 로봇프로세스자동화. 는 물론 맞춤형 AI 애플리케이션을 활용할 수도 있도록 지원해 준다. 손 대표는 전문가들도 막상 실무 현장에서는 AI를 통해 자신의 업무 영역 문제를 해결할 수 있는지 잘 모르는 게 현실이라며 프로그래밍에 아무런 지식이 없는 사람이라 하더라도 웹 세미나를 통해 AI를 이해한 후. 직접 본인 업무에 어떤 AI가 필요할지 기획안을 만들고 솔루션을 통해 최적의 AI 앱을 함께 제작한다고 설명했다. 솔루션의 시작점이 되는 기업 교육을 포함해 발빠르게 비대면으로 전환한 게 지난해 빛을 봤다. 이 가운데 중소벤처기업진흥공단으로부터 비대면 분야 기술력을 인정받아 창업기반지원자금을 지원 받은 게 큰 도움이 됐다. 신종 코로나바이러스 감염증으로 기업 교육이 전면 중단됐다가 중진공의 긴급 수혈로 비대면으로 변환하자 수주 기회가 늘어난 것이다. 새 솔루션은 온라인으로 임직원 AI 교육부터 컨설팅을 통한 기획안 도출과 원격 코칭으로 AI 앱 개발까지 전 과정을 지원한다. I사 등 대기업들도 알고리즘랩스의 교육을 통해 솔루션을 적용했다. 나 경영 관리부터 영업. 구매까지 전 영역에 다양한 레퍼런스를 보유하고 있다며 특히 외부에 시스템 구축. 용역을 맡기는 것보다 10. 수준으로 비용이 저렴하다고 강조했다. 올해 초에는 KT인베스트먼트. 한국투자파트너스 등으로부터 시리즈 A 투자 유치에 성공했다. 또한 정부로부터 AI 바우처 공급 기업으로 선정돼 중소. 중견 기업에도 AI 솔루션을 쉽게 도입할 수 있게 됐다. 손 대표는 솔루션의 고도화와 자동화를 통한 공급 확대를 올해 목표로 삼았다. 그는 현업 담당자의 기획안을 의도에 맞게 자동으로 프로그램화해 앱 개발 시간과 절차를 대폭 단축할 계획이라며 지난해 유형별로 30개가량 만든 AI 앱을 올해는 10배 이상으로 늘리겠다고 강조했다\n"
     ]
    },
    {
     "name": "stderr",
     "output_type": "stream",
     "text": [
      "익명화 진행 중:  68%|██████▊   | 58038/85771 [04:18<01:56, 237.44it/s]"
     ]
    },
    {
     "name": "stdout",
     "output_type": "stream",
     "text": [
      "Row 58000 기업명 -> 익명화 이름 매핑: {'현대차': 'F사', '키파운드리': 'T사', '삼성전자': 'Z사', '제때': 'C사', 'DB하이텍': 'B사'}\n",
      "Row 58000 after anonymization - 기업명: F사, full_text: 자율주행 등 차세대 칩개발 '의기투합'...車반도체 초격차 신호탄 글로벌 차량용 반도체 시장은 전기차. 자율주행 기술 발달로 규모가 점차 커지고 있다. 그러나 국내 차량용 반도체의 해외 의존도는 90. 에 달하는 데다 초유의 공급 부족 사태로 C사 칩을 수급하지 못해 자동차 생산계획에도 차질이 생기고 있는 실정이다. 이런 상황에서 국내 최대 자동차. 반도체 회사 간 첨단 칩 협업은 국내 시장 수준을 한층 업그레이드할 수 있는 선례라는 평가가 나온다. 아울러 현대차그룹은 국내 토종 반도체 기업과 . 을 꾸리는 작업에도 상당히 적극적으로 나서고 있다. 이 역시 국내 자동차. 반도체 시장 생태계 육성을 위한 모멘텀이 될 것이라는 분석이 나온다. 현대차에 모두 사업 기회차량용 반도체 수급 위기는 지난 2020년 말부터 지금까지 이어지고 있다. 기기 수요의 폭증으로 차량용 반도체 생산량이 상대적으로 줄어들면서 전례 없는 공급 부족 현상에 직면한 것이다. 현대차그룹은 이 때문에 수차례 생산량을 조절하거나 생산 라인 운영을 중단해야 했다. 차량용 반도체 수급 정상화를 위해 현대차는 각고의 노력을 기울인 것으로 알려졌다. ST마이크로일렉트로닉스 등 해외 차량용 반도체 업체의 수급 의존도를 낮추기 위해 공급망 다변화 전략을 새롭게 짠 것이다. F사 실무진은 그간 교류가 뜸했던 Z사 반도체 사업 부문과도 지난해 초부터 접촉해 반도체 확보에 애를 쓴 것으로 파악된다. 그러면서 지난해 현대차의 고급차 브랜드 제네시스 전기차 GV60에 삼성전자의 차량용 이미지센서가 탑재되는 등 두 회사의 협력 사례도 축적됐다. 문제를 해결하려는 노력이 지금까지 자연스럽게 이어지면서 양 사는 자율주행 등에 활용되는 차세대 반도체 개발 논의까지 이르게 된 것으로 풀이된다. 현대차가 삼성전자와 차세대 반도체 파트너십을 맺게 되면 다양한 장점이 있을 것이라는 평이 나온다. 삼성전자는 스마트폰에 탑재되는 5. 모바일 프로세서 엑시노스를 생산한 경험이 있다. 페이스북 등 굴지의 IT 기업은 물론 세계 최대 전기차 업체인 테슬라 자동차에 들어가는 칩까지 위탁 생산하고 있다. 이러한 노하우는 고급 차량용 반도체 내재화를 노리는 현대차에 상당한 도움이 될 수 있다는 분석이다. 삼성전자에도 현대차와의 협력은 좋은 기회다. 삼성전자는 지난해 다양한 종류의 차량용 반도체를 출시하며 시장 진입에 박차를 가하고 있기 때문이다. 차량 내 다양한 정보를 제공하는 인포테인먼트용 칩 . 은 LG전자와 협업해 폭스바겐 차량에 탑재되기도 했다. 삼성전자가 글로벌 자동차 업체인 현대차와 최고급 성능의 자동차 칩을 개발할 수 있다면 칩 설계 및 생산기술 역량이 상당히 향상될 가능성이 크다. 파운드리와 협력현대차그룹은 지난해 3월 정부 주도로 만들어진 . 구성에도 적극 나서고 있는 것으로 확인됐다. 이 협의체는 현대모비스를 중심으로 국내 중소 반도체 설계 업체와 파운드리. 업체들이 모여 차량용 반도체 내재화를 위한 중장기 로드맵을 구상하고 있다. 현대차는 지난해 상반기 이 협의체에서 자사 생산 라인에 활용되는 8개 종류의 마이크로컨트롤러유닛. 스펙을 공유한 바 있다. 가장 최근 열린 회의에서는 설계 업체는 물론 B사. T사 등 국내 반도체 파운드리 회사 관계자들도 참석해 장기 로드맵 수립에 대한 의견을 주고받은 것으로 알려졌다. 따라서 현대차그룹은 차세대 고성능 칩은 삼성전자와. 차량 각 요소에 활용하는 시스템 반도체는 국내 팹리스와 협력해 반도체 내재화에 속도를 올릴 것으로 점쳐진다. 한 반도체 업계 관계자는 . 구체적인 계획이 조만간 발표될 수 있을 만큼 협의체 내 회사들이 적극적으로 움직이고 있다. 특히 세계적인 자동차 기술을 보유한 현대차그룹의 적극적인 참여는 국내 반도체 생태계 저변을 넓힐 수 있는 좋은 사례가 될 수 있다\n"
     ]
    },
    {
     "name": "stderr",
     "output_type": "stream",
     "text": [
      "익명화 진행 중:  69%|██████▉   | 59048/85771 [04:23<01:46, 251.02it/s]"
     ]
    },
    {
     "name": "stdout",
     "output_type": "stream",
     "text": [
      "Row 59000 기업명 -> 익명화 이름 매핑: {'현대차': 'Z사'}\n",
      "Row 59000 after anonymization - 기업명: Z사, full_text: 최태원 IRA '뒤통수' 반응 도움 안 돼…대만 갈등 최악 시나리오 대비(종합) 전개되는 중이라 딱 잘라 우리에게 유리하다. 불리하다로 말할 수는 없다라며 우리만 그런 게 아니라 그런 법을 만든 미국도 과연 유리할지 불리할지는 지나 봐야 아는 문제라고 보인다라고 설명했다. 미국 내 제조업 강화. 이 잘 달성되느냐는 알 수 없는 문제라며 법을 만드는 것보다는 운용이 훨씬 더 중요한 문제다. 어떻게 운용하고 어떤 속도로 하느냐. 이게 핵심인 것 같다라고 덧붙였다. IRA로 한국 기업이 소위 . 를 맞았다는 여론에는 그렇게 볼 수도 있다라면서도 하지만 그런 게. 전혀 도움이 안 된다라고 지적했다. 대표적인 피해 기업으로 꼽히는 현대차를 두고는 솔직히 제가 보기에는 현대차가 경쟁력이 좋다라며 경쟁력이 워낙 좋기 때문에 이 문제에도 불구하고 충분히 뚫고 나갈 거라고 생각한다. 보조금 한 푼 안 받고도 뚫고 나가지 않을까라고 했다. 최 회장은 이 나라 법에서 이 나라 국민이 다 동의해서 통과된 법이라며 이들이 이럴 수밖에 없었다는 사정을 좀 더 이해하고. 거기서 나오는 이해를 바탕으로 해법을 찾는 것이 우리가 해야 하는 일에 속한다. 기업이 해야 하는 일이라고 했다. 최 회장은 이날 반도체산업육성법상 가드레일 조항 영향을 두고도 . 디테일이 없다라며 지금은 . 선거 모드고 하다보니. 끝나고 얘기를 해서 조금 더 조건이나 얘기가 구체적으로 나오면 뭐라고 말씀드릴 수 있겠다라고 말을 아꼈다. 조 바이든 미국 행정부의 자국 우선주의 내지 보호무역 행보에 대한 평가를 묻는 말에는 보호무역으로 간다는 말에 100. 찬성하기는 어렵다라며 그런 경향이 있다고 생각하는 건 이해하지만. 여기서 중요한 것은 결국 안보라는 문제라고 했다. 결국 디커플링 흐름 자체가 . 최 회장은 배터리나 바이오. 반도체 등 부분에서 다른 곳보다 디커플링이 많이 일어나고 있다라며 디커플링이 되면 이런 현상이 일어날 수밖에 없다라고 설명했다. 한편 최 회장은 지난 7월 바이든 대통령과 화상 면담을 했다. 당시 면담은 바이든 대통령의 코로나19 감염으로 화상 진행됐다. 직접 못 만난 것을 미안해했다라며 다음 회동에서는 . 을 약속했다고 전했다. 바이든 대통령은 당시 최 회장에게 더 많은 외국 기업 대미 투자를 위한 조언도 물었다고 한다. 최 회장은 이에 미국 노동력 경쟁력 강화를 조언했다고 전했다. 미 정상회담 이후 통상 이뤄지는 기업의 대규모 대미 투자가 . 의 결과가 아니냐는 지적도 나왔다. 최 회장은 그러나 요새는 비틀려서 투자를 한다 이런 말을 할 상황은 전혀 아니다라며 비튼다고 비틀리지도 않는다라고 선을 그었다. 대미 투자에 치중해 국내 투자에는 소홀한 게 아니냐는 지적에는 저희가 2030년까지 투자 계획이 한 250조 된다라고 답했다. 총 250조 규모 투자 계획 중 환율을 감안하면 70조가 해외. 나머지는 국내 투자라는 것이다. 시장이니까 투자를 해야 한다라며 국내 투자가 살아남기 위해서라도 해외 투자는 필수적으로 가야 한다라고 강조했다. 이날 간담회에서는 미국과 중국. 또 중국과 대만 간 긴장 국면과 관련. 향후 사업 면에서 상황 악화에 대비해 이른바 . 을 준비 중인지도 질문이 나왔다. 대만 상황 악화 대비책은. 당연히 검토한다라며 . 에 들어가 있다라고 답했다. 다만 준비를 얼마나 할거냐는 어려운 문제 중 하나다. 비용이 들어가기 때문이라며 보험이라고 생각하는 정도쯤의 행동으로 저희도 . 하고 있다라고 덧붙였다. 특히 한국 기업보다 더 직접적인 영향을 받는 대만 기업의 전략을 벤치마킹도 하고 있다는 게 최 회장의 설명이다. 무엇을 준비했다까지는 말씀을 못 드린다라고 했다. 최 회장은 내가 하는 행동은 . 이라며 아주 극단적인 시나리오부터. 을 그대로 유지하리라는 시나리오까지 다 있다. 확률 게임이라고 생각한다라고 설명했다. 중국의 양회가 어떻게 끝났다. 이런 얘기들이 결국 시나리오의 퍼센티지를 바꿔주는 것이라며 . 시나리오의 퍼센티지가 현격히 올라가면 우리는 액션을 취할 것이라고 했다. 최 회장은 어떤 시나리오가 일어나더라도 최소한 생존할 수 있는 방안을 찾는 것이 가장 중요한 덕목이라며 과거와 같이 이익의 극대화나 효율성을 좇는 일보다는 안전을 택하는 것이라고 덧붙였다. 중 갈등에 따른 산업계 영향을 두고는 과거에는 전 세계가 하나의 시장이었고. 지금은 디커플링 형태가 되며 시장이 쪼개지는 현상이 일어난다라며 . 이어 두 개의 시장 중 하나를 버리겠느냐라며 중국은 우리 수출의 25. 정도를 차지하기 때문에 이 시장을 갑자기 버리느냐. 경제가 감당할 수 없는 일이라고 강조했다. 다만 미국의 수출 통제 등 영향을 두고는 . 장비가 못 들어가면 공장이 계속 노후화가 될 것이라며 노후가 돼서 문제가 생긴다면 다른 곳에 투자를 하거나 공장을 짓거나. 이런 상황에서 최 회장은 반도체 등 특정 공급망 분야를 언급. 디커플링이 일어나는 곳에 대책 마련이 필요하다라며 기업 혼자 이 문제를 해결할 수 있다는 건 말이 안 된다. 엄청난 비용 증가가 일어나기 때문이라고 당부했다. 생존이 걸린 문제라며 . 정부의 제도적 대책 등. 협업 등이 필요하다고 생각한다라고 말했다. 최 회장은 향후 반도체 경기를 묻는 말에는 예전에는 3. 다운 턴을 얘기했는데 최근은 1년 단위로 움직인다라며 예측이 전보다 쉽지 않아졌다고 설명했다. 그러면서도 큰 흐름으로 전체를 보면 앞으로도 반도체 수요는 계속 늘어날 수밖에 없다는 전제를 갖고 . 해야 한다라며 단기적인 형태를 보고 투자에 들어갈 수는 없다라고 말했다. 이어 지금 보면 계속 반도체 수요는 늘고 있다라며 공급과 수요가 잘 안 맞아서 가격이 나빠지거나의 문제지. 반도체 수요는 꾸준히 늘기 때문에 계속 공급을 해야 한다라고 강조했다.\n"
     ]
    },
    {
     "name": "stderr",
     "output_type": "stream",
     "text": [
      "익명화 진행 중:  70%|███████   | 60041/85771 [04:27<01:44, 245.32it/s]"
     ]
    },
    {
     "name": "stdout",
     "output_type": "stream",
     "text": [
      "Row 60000 기업명 -> 익명화 이름 매핑: {'기아': 'V사', '현대차': 'G사'}\n",
      "Row 60000 after anonymization - 기업명: G사, full_text: G사·V사, 美 IRA 도움 없어도 車 잘만 판다 현대차와 V사 미국판매법인에 따르면 양사 대표적인 전기차 모델들의 올 상반기 판매량은 지난해 동기보다 줄었다. 아이오닉5는 지난해 1만3692대에서 1만3641대로. EV6는 1만2568대에서 8328대로 각각 약 0. 6월 판매량이 나오지 않은 니로EV도 지난해 1. 5월까지 판매량을 비교하면 6274대에서 올해 4444대로 29. IRA가 시행된 후 한국에서 생산해 미국으로 수출되는 현대차와 기아의 전기차는 세제 혜택에서 제외되면서 가격 경쟁력이 약화됐다. 시행 초기 북미 내 생산 차량 1대당 최대 7500달러까지 세금 공제되는 IRA가 자동차 판매량과 매출에 큰 영향을 줄 것이라 예상되면서 시장의 우려도 컸다. 하지만 현대차는 지난 6월 신차 판매량 6만9351대로 전년 동기 대비 10. 상승하고 기아는 11개월 연속 월별 역대 최고 판매 기록을 경신하는 등 좋은 성적을 거두고 있다. 이런 배경에는 복합적 요인이 작용했지만. 그중 IRA의 틈새인 리스 차량 판매에 적극 대응한 영향이 크다. 리스 차량은 한국에서 생산돼도 IRA 규제에 포함되지 않아 세액공제를 받을 수 있다. 이에 현대차는 기존 5. 였던 리스 비율을 지난 3월 기준 35. 기아는 지난달부터 이달 초까지 미국에서 EV6를 리스하는 고객에게 최대 7500달러 가격 할인을 제공했다. 이런 전략의 성과로 상반기 기준 전기차 판매량은 다소 부진한 면이 있으나 월간 판매량에서는 반등을 시도하는 모습이다. 아이오닉5는 지난 6월 기준 전년 동기 대비 10. 증가하며 월간 최고 판매량을 기록했다. 지난 1월부터 4월까지 1000대 내외였던 EV6 판매량은 지난달 2237대로 두 배 가까이 늘었다. 박철완 서정대학교 교수는 . 우리나라 경상 수지가 흑자로 돌아선 가장 큰 요인은 자동차로. 여기에 전기차가 포함돼 있다. 전체에서 전기차 비중 자체는 크지 않지만. 증가율 등 상당한 기여를 했다. 현재 미국 내 전기차 실적이 좋지 않은 상황 속에서 리스 쪽이 확충돼야 실적이 올라갈 수 있기에 미국 시장에서 리스가 무척 중요하다. 또 고부가 차량인 SUV 판매가 25. 증가하면서 수익성 개선도 기대된다. 현대차와 기아의 올해 상반기 미국 전체 판매 차량 중 SUV가 70. 에릭 왓슨 V사 미국법인 영업담당 부사장은 . 팬데믹 기간에 공급이 부족했던 모델의 생산이 계속 개선되면서 핵심 SUV 모델의 판매가 증가하고 있다. 현대차는 오는 3분기에 중형 SUV인 싼타페 신차 출시로. 기아는 올 하반기 전기차 라인업의 플래그십 모델인 대형 SUV EV9 출시로 실적 호조를 이어갈 방침이다. 리스 차량 판매 확대 등으로 단기적인 시간은 벌었다는 평가도 받고 있지만 보다 근본적인 해결을 위해 미국 조지아주에 짓고 있는 전기차 공장 생산 개시를 당초 목표보다 앞당겼다. 지난해 현대차는 2025년 상반기에 공장 완공 후 생산을 개시할 것이라고 발표했지만 지난달 IRA 전기차 보조금을 하루라도 빨리 받기 위해 내년 10월로 변경했다.\n"
     ]
    },
    {
     "name": "stderr",
     "output_type": "stream",
     "text": [
      "익명화 진행 중:  71%|███████   | 61041/85771 [04:31<01:40, 245.30it/s]"
     ]
    },
    {
     "name": "stdout",
     "output_type": "stream",
     "text": [
      "Row 61000 기업명 -> 익명화 이름 매핑: {'SK하이닉스': 'U사'}\n",
      "Row 61000 after anonymization - 기업명: U사, full_text: 상생전략 내세운 U사, 주가 반등 신호탄 될까? 서버수요 회복에 주가 추가 영향 제한적SK하이닉스가 협력사에 대한 1조2200억원 규모의 상생협력 계획을 밝히면서 주가 반등을 꾀할수 있을지 관심을 끈다. 이데일리 국내 대표 반도체 생산업체인 가 경기도 용인 반도체 클러스터 부지에 지원할 협력사에 대한 상생협력 계획을 밝히면서 주가 반등을 시도할 수 있을지 관심을 끈다. 회사는 지난 28일 상생펀드 조성에 3000억원을 비롯해 인공지능. 기반 상생프로그램 6380억원. 2800억원 등 총 1조2200억원 규모의 투자 계획을 밝혔다. 31일 마켓포인트에 따르면 지난 29일 U사 주가는 전거래일대비 2. 오른 7만4200원에 거래를 마쳤다. 이 업체 주가는 지난해 4분기부터 거론됐던 반도체 업황 고점론과 실적 둔화 전망으로 연초 신저가를 찍었다. 종가 기준 지난 1월 4일 연중. 최저점인 5만6700원을 기록한 것이다. 이후 반등세를 보였으나 올해 예상치가 계속 낮춰지고 있는 점이 반영되면서 지난달 말부터 다시 하락세로 접어들었다가 지난 22일 정기 주주총회를 기점으로 다시 반등하는 모습이다. 29일 주가가 상승한 이유는 협력사와의 상생협력 계획을 발표했기 때문으로 풀이된다. 특히 이번 계획은 주가의 장기적인 측면에서 긍정적인 요소라는 분석이 나온다. 이수빈 대신증권 연구원은 . 상생협력 계획은 2022년에 착공 예정인 생산설비에 대한 펀드를 조성하는 것이기 때문에 구체적인 투자계획이 나오기 전까지는 주가에 미치는 영향이 제한적일 것. 다만 펀드가 순조롭게 유치된다면 장기적인 관점에서는 긍정적이라고 볼 수 있다. 대규모 투자 계획인 만큼 지금 당장의 실적 부진을 우려할 필요가 없다는 메시지를 주는 효과도 있을 것. 자료마켓포인트SK하이닉스의 실적 둔화는 불가피할 전망이다. 금융정보업체 에프앤가이드에 따르면 SK하이닉스의 지난해 영업이익은 20억8438억원으로 시장 기대치보다 3. 매출액도 40조4451억원으로 기대치보다 0. 올 1분기 영업이익은 전년동기대비 60. 감소한 1조7223억원으로 추정된다. 같은 기간 매출액도 6조5285억원으로 전년대비 25. 줄어들 것으로 보인다. 전문가들은 SK하이닉스의 실적은 상반기보다는 하반기에 개선되는 . 현상을 나타낼 것으로 내다봤다. 이로 인해 주가도 오는 2분기에 저점을 확인할 것이란 전망이다. 김동원 KB증권 연구원은 . 최근 미국기업 마이크론의 감산 발표와 서버 디램. 품질 이슈 등으로 하반기 메모리 수급개선 기대감이 높다. 하반기 반도체 산업은 가격과 수급 측면에서 V자형 회복보다는 계절적 수요증가에 따른 완만한 개선이 예상되는데. 특히 모바일 기기의 평균 탑재량 증가에 따른 출하증가가 예상된다. 연초 이후 반도체 메모리 업체들이 미래 이윤을 창출하기 위해 지출된 비용. 을 줄이는 것이 하반기 수급에 일부 영향을 미칠 것으로 추정돼 U사 주가는 2분기에 저점을 확인할 것. 실적 부진이 주가에 추가로 미치는 영향은 제한적일 것이란 분석도 나온다. 2분기 영업이익은 전분기대비 하락할 것으로 예상되나 상반기 부진한 실적은 이미 예상된 것으로 주가에 추가적으로 주는 영향은 적을 것. 하반기 데이터센터 서버 수요가 회복되면 서버 매출 비중이 높은 SK하이닉스에게 유리한 환경이 조성될 것. 종합 경제정보 미디어 이데일리 . 무단전재 재배포 금지.\n"
     ]
    },
    {
     "name": "stderr",
     "output_type": "stream",
     "text": [
      "익명화 진행 중:  72%|███████▏  | 62024/85771 [04:35<01:55, 204.99it/s]"
     ]
    },
    {
     "name": "stdout",
     "output_type": "stream",
     "text": [
      "Row 62000 기업명 -> 익명화 이름 매핑: {'SK하이닉스': 'D사'}\n",
      "Row 62000 after anonymization - 기업명: D사, full_text: 5스타전략] 윗목이 뜨끈해지면 아랫목도 온기가 돈다 혹자는 코스피대비 부진한 코스닥 상승률이 코스닥 대주주의 매도 때문이 아니냐고 할 수 있지만. 사실 코스피도 오른 게 별로 없다. 아직 반도체 가격 상승이 본격화되지 않은 상황이지만. 내년에는 5G나 서버 투자 등으로 호황으로 활황 사이클 상 초기 국면이라 외국인의 반도체 주식 순매수는 당연하다. 문제는 이런 열기가 다른 주식들로 확산될 것이냐는 것이다. 반도체 가격의 상승은 기업들의 시설 투자로 이어지고. 반도체 장비와 소재업체들의 실적이 좋아지면서 이들의 시설 투자로 확산된다. 반도체 산업의 호황은 반도체가 들어가는 전자제품이 많이 팔린다는 것이기에. 결국은 IT 산업이 다 좋아진다는 것으로 봐도 무방하다. IT기업들이 돈을 벌고. 로 인해 다른 산업들도 좋아지는 분위기가 되면서 국내 경제도 회복될 수 있다. 이런 현상들이 바로 몇 달안에 현실화하지는 않을 것이다. D사 주가의 바닥은 올해 1월이다. 이후에도 반도체 업황이 악화되었지만 주가는 오히려 상승세로 돌아섰다. 외국인들의 순매수는 증시의 유동성 확대 차원에서도 긍정적이다. 상승하는 증시 기대로 펀드로의 자금 유입도 늘어날 것이다. 2017년 10월까지 삼성전자와 SK하이닉스가 급등하면서 중소형 IT 등으로 확산되었고. 이후 늘어난 유동성이 바이오의 급등으로 이어졌다. 17년 역시 반도체를 제외하면 우리 경제가 그렇게 좋다고 얘기하기 어려운 상태였다. 그래도 코스피가 30. 가 오르면서 종목들이 급등세를 보였다. 2020년에도 이런 시장을 기대하는 것은 전혀 과욕이 아니다. 전략이 남은 올해와 내년을 관통하는 화두라고 생각한다. SBSCNBC 5STAR 이성호 대표의 추천종목 및 투자전략은 5스타 홈페이지 모바일 주식상담을 통해 무료 상담 받을수 있으며. 를 통해서도 신청 후 이용할 수 있다. 5STAR 회원 가입 후 MTS서비스인 종목추천 투자전략을 일주일간 무료체험 받을 수 있는 플러스친구 이벤트 진행 중이다. 자세한 사항은 5스타 홈페이지 및 주거래 증권사에서 5스타 서비스를 확인하시고 고객센터로 문의하시기 바랍니다. SBSCNBC를 만나는 법 경제를 실험한다. 저작권자 SBS미디어넷 SBS IM 무단전재\n"
     ]
    },
    {
     "name": "stderr",
     "output_type": "stream",
     "text": [
      "익명화 진행 중:  73%|███████▎  | 63041/85771 [04:40<01:55, 196.43it/s]"
     ]
    },
    {
     "name": "stdout",
     "output_type": "stream",
     "text": [
      "Row 63000 기업명 -> 익명화 이름 매핑: {'대상': 'B사', '삼성전자': 'V사', 'SK하이닉스': 'T사'}\n",
      "Row 63000 after anonymization - 기업명: T사, full_text: 생생경제] 미국의 중국 기업 때리기 시리즈 계속 화웨이, 틱톡 다음은? 생생경제 미국의 중국 기업 때리기 시리즈 계속 화웨이. 오늘 가장 뜨거운 경제뉴스를 제일 생생하게 전해드리는 시간입니다. 사실 국내 코로나상황이 너무 엄중해서 미국중국 일에 관심 가질 여유가 없는데요. 또 미중 문제가 이 두 국가 간의 문제만이 아니잖아요. 오전에 속보로 트럼프 대통령이 중국과의 무역회담을 연기하겠다는 내용이 나왔고. 중국 통신장비업체인 화웨이를 향한 미국의 공세도 계속되고 있어서요. 미중산업경제연구소 조용찬 소장과 이야기 나눠볼게요. 조용찬 미중산업경제연구소 소장. 김혜민 미국이 중국의 통신장비업체인 화웨이를 향한 총공세를 이어가고 있어요. 여러 차례 저희가 전달해 드리긴 했는데. 그래도 화웨이가 어떤 기업이고 미국이 왜 이렇게 화웨이를 못마땅하게 여기는 건지 배경 설명을 부탁드립니다. 조용찬 화웨이는 스마트폰 시장이 세계 2위이고요. 통신장비는 세계 1위 기업입니다. 한마디로 정리하면 중국의 꿈을 실현하기 위한 미래라는 거죠. 화웨이를 미국이 강하게 견제하는 것은 5G 통신의 국제표준을 둘러싼 경쟁도 있지만. 미중 간 디지털 세계 패권과도 맞물려있는데요. 과거 19세기로 돌아가면요. 대영제국이 세계 패권을 장악할 수 있었던 것은 해저케이블을 부설하면서 전신망을 전 세계에 깔아서 그렀고요. 20세기에는 미국이 위성과 인터넷을 통해서 세계를 주도했습니다. 이제 21세기에 들어서 중국도 육지. 우주 3면에서 화웨이 장비로 무장을 하고 21세기 패권을 장악하겠다면서 우주 굴기. 일대일로 중국의 꿈 디지털 위안화 전략을 드러내자 아무래도 디지털 패권을 막기 위해서 미국이 강하게 견제하는 것으로 보여 집니다. 김혜민 중국의 미래 그리고 디지털 패권경쟁의 상징이 화웨이인거죠. 그러다보니까 미국이 계속해서 중국기업의 화웨이를 제재하고 있는 건데. 미국이 화웨이에 내린 제재가 어떤 것들이 있습니까. 조용찬 미국 같은 경우에는 안보를 위협했다고 하면서 2019년 5월부터 금수조치대상목록에 포함시켰는데요. 여기에는 미국 기술이라든지 장비를 사용하는 세계 반도체 기업은 화웨이에 반도체를 판매하기 전에 사전 허가를 받도록 했고요. 이 때문에 미국 기업들 같은 경우에는 187억 달러에 달하는 부품 수출이 금지가 됐지만. 화웨이 같은 경우에는 이런 제재 허점이죠. 제 3국에 있는 38곳의 자회사를 통해서 부품과 반도체를 계속 수입해 왔는데요. 이 때문에 미국 같은 경우에는 입국부터 출국까지 구멍 없이 촘촘하게 그물망을 치면서 38곳 그니까 모두 화웨이와 관련해서 152개 자회사를 옴짝달싹 못 하게 만들어 버린 것입니다. 김혜민 화웨이에 반도체 판매하기 전에 너희들 미국의 허락을 받아라 라고 미국 기업뿐만 아니라 우리 같은 우방 국가들에게도 압력을 한 거죠. 자 이런 상황 가운데 오늘 오전 속보에 트럼프 대통령이 중국과의 무역회담을 연기 한다. 지금은 대화를 하고 싶지 않다고 이렇게 밝혔어요. 지금은 왜 대화하고 싶지 않은 거예요. 조용찬 미중 모두 화상무역회담 연기와 관련해서는 대표자들이 이야기는 안했는데요. 베이징 쪽에서는 코로나나 대홍수로 인해서 대미수입이 부진함에 따라서 시간을 더 주면 수입하겠다는 의사를 표명했지만. 미국 쪽에서는 의제외의 무역이외의 문제를 확대해서 양국이 협의하자고 했는데 중국이 이를 거부했다고 합니다. 이 때문에 오늘 트럼프 대통령이 전격적으로 지금은 중국과 어떤 대화도 하고 싶지 않다고 밝혔는데요. 코로나바이러스 정보공개뿐만 아니라 하이테크 분야를 둘러싼 갈등 문제로 인해서 무역협상을 연기시키고 있기 때문에 중국을 더 트럼프는 코너에 몰면서 압박할 가능성이 크지 않나 이렇게 보여집니다. 김혜민 미중 무역협상의 여러 변곡점 때마다 우리 소장님하고 인터뷰를 나누기도 했는데. 그렇다면 이번에 트럼프의 이런 발언들은 단순히 재선의 유리한 고지를 위한 기선잡기용 멘트일까요. 아니면 미중 무역협상의 판 자체를 리셋하겠다 코로나19 이후에 지금 여러 상황들이 변했으니까요. 조용찬 미국 같은 경우에는 미중간의 신뢰가 사라진 만큼 모든 협상 채널을 단절 놓은 상태인데요. 지금까지 미중간의 기본자세는 믿지 말라. 검증하라는 쪽으로 바뀌었다고 합니다. 이 때문에 중국이 패권 도전을 포기한다든지 아베처럼 트럼프의 푸들이 되지 않는다면 앞으로 대선까지 남은 3개월 동안 온갖 수단을 동원해서 중국을 정신 못 차리도록 몰고 갈 가능성이 큰데요. 미국이 원하는 것은 화웨이라는 용의 숨통을 끊기 위해서 먹이죠. 반도체나 소프트웨어 부품을 줍지 않겠다는 전략을 쓰는데요. 이게 바로 미국이 추진하고 있는 클린 네트워크 프로그램입니다. 이제 앞으로 신뢰할 수 없는 중국 기업. 특히 통신이나 서비스회사들은 앞으로 계속 퇴출시킬 것이라고 보여 지기 때문에 현재 트럼프가 추진하는 이런 전략은 복귀 불가능한 포석이라고 워싱턴에서 얘기를 하는데요. 바이든이 대통령이 되더라도 반중노선은 이전과 크게 달라지지 않고 계속 압박 강도를 취할 가능성이 높아질 것으로 보여집니다. 트럼프 대통령이 재선하지 않는다고 해도 미국은 계속해서 반중노선을 걸을 것이다. 지금 이렇게 예상하신다는 거죠. 김혜민 그러면 다시 화웨이 얘기로 돌아가서요. 사실은 미국 내에서도 반도체 기업들 입장에서는 트럼프 대통령의 화웨이 때리기에 불만이 있지 않겠습니까. 미중관계는 냉전을 넘어서 전투 없는 전쟁이라고 하는 열전에 빠져들고 있는데요. 이 때문에 고래싸움에 새우 등 터진 쪽은 기업들입니다. 미국 기업이지만 미국 바깥에서 생산하는 반도체를 화웨이에 공급해왔던 인텔. 브로드컴 같은 경우에는 제품 공급이 현재 중단된 상태고요. 이 사이에 화웨이 같은 경우에는 자체적으로 연구 개발비를 늘리면서 부품 다변화를 시켰고요. 이 때문에 화웨이 제품에 들어가는 미국산 부품 비중이 20. 로 떨어졌다는 겁니다. 단순히 계산하더라도 미국은 연간 110억 달러 넘는 피해를 입게 되는 그런 상황인데요. 다행히 우리나라 같은 경우에는 대중국 소재 수출이 120조이지만. 그 중에 화웨이는 12조 정도 되는데요. 지금까지는 그렇게 큰 문제가 없는데 앞으로 미국의 압력이 커진다면 V사. LG 이노텍 같이 화웨이 부품을 납품하는 기업들 같은 경우는 어려움에 처할 가능성이 크지 않나 보여 집니다. 김혜민 미국 경제도 상황이 좋은 편이 아닌데요. 미국 기업들 입장에선 굉장히 곤란할 것 같은데. 조용찬 미국뿐만 아니라 일본이 더 심각한 상황인데요. 무라타제작소 같은 경우에도 100여 개의 곳이 화웨이에 수출을 못 하게 된다면 상당한 타격을 입는다고 합니다. 아까 전에 SK 하이닉스 이야기도 해주셨지만. 구체적으로 우리나라 반도체 업체들 이야기 좀 해볼게요. 우리나라 반도체 업체 중에서 화웨이에 납품하는 곳이 V사. T사 인데 아까 짧게 얘기해주시긴 하셨지만 우리 이야기니까 조금 더 자세히. 우리는 어떻게 괜찮습니까. 조용찬 화웨이 같은 경우는 경영난이 처해지게 된다면 V사 같은 경우는 연간 8조원 매출이죠. 정도 타격을 입게 되고요. SK 하이닉스 같은 경우는 5조원정도 되니까 매출 비중의 한 18. 이 때문에 최근 들어서 삼성전자나 T사 주가가 다른 종목은 올라가는데. 못 올라가는 것도 있다는 것으로 보여 지는데요. 다행스러운 점은 화웨이에 작년 스마트폰이 2억 4천만대 정도 판매한 세계 2위 업체인데요. 하반기부터는 시장점유율이 계속 떨어지겠지만 그 빈자리를 빠르게 샤오미. 오포 같은 다른 민간 기업이 차지하고 있기 때문에 중국의 반도체 판매라든지. 우리나라 5G 스마트폰과 관련된 액정 디스플레이나 부품 쪽에는 장기적으로는 큰 타격은 없을 것으로 보여 집니다. 김혜민 또 한편에서는 화웨이에게 24분기 스마트폰 점유율을 우리가 뺏겼는데 이런 기회를 통해서 삼성전자가 5G 통신장비점유율 1위를 탈환할 수 있다 이렇게 해석하는 사람들도 있거든요. 조용찬 위기는 기회라는 말처럼. 미중간의 불거진 갈등은 우리 기업들한테는 상당히 호재로 작용하는데요. 당장 미국과 유럽 시장에서 시장점유율이 올라가기 시작했고요. 6월 달부터는 인도 같은 경우는 미래 시장인데 이 시장에서는 6월 달 이후에 스마트폰 점유율 1위를 되찾았다고 합니다. 화웨이 같은 중국 경쟁 제품들이 시장점유율이 급속도로 떨어지게 되고 그런 모습인데요. 이 때문에 우리가 현재 중국과 미국 간의 싸움 속에서 머리를 맞대서 대응책을 잘 구사를 한다면 반도체 자체 공급망을 구축한다든지. 그리고 스마트폰 관련된 라인업 강화. 신제품을 계속 전략적으로 출시한다면 어느 정도 해법은 마련되지 않을까 생각이 듭니다. 김혜민 소장님께서 대응책을 잘 세우면 해법을 마련할 수 있다고 하셨는데. 사실은 미국과 중국이 이렇게 정치 경제 사회적으로 맞붙게 되면 우리가 티 나게 누구 편들기가 어렵잖아요. 이게 국제적인 문제다 보니까요. 조용찬 지금 국제 질서 같은 경우에는 신 냉전이라는 블랙홀로 아주 빠르게 빠져들고 있는데요. 이 때문에 미중이 서로가 상대방 기업들을 배제하고 자국 기업들의 점유율을 높이기 위해서 희망전쟁을 벌이고 있습니다. 앞으로 5G 둘러싼 신중 빨간색. 신미 파란색 두 색깔로 나눠지면서 총성 없는 전쟁이 치열하게 되는데요. 이 때문에 미중관계는 협조보다는 불신. 대립이라는 악순환에 처할 가능성이 크기 때문에 우리가 이 사회에 있어서 중립적인 위치. 균형자적인 입장을 취하면서 틈새시장을 노리는 전략을 취하는 게 바람직하지 않나 이렇게 보여 집니다. 김혜민 섣불리 한 걸음. 한 걸음 나서지 말라라는 말씀으로 들리는데. 참 중심잡기가 어려운 상황인 건 분명한 것 같습니다. 미국의 중국 기업 때리기가 이른 바 지금 시리즈로 가고 있는 모습이에요. 이제 다음은 알리바바다 이런 얘기도 있고요. 트럼프 대통령이 다음 타격 B사 이미 봐두고 있다고 보세요. 지금 뭐 준비가 되어 있는데요. 중국 통신기업뿐만이 아니라 서비스 회사를 계속 숨 돌릴세 없이 몰아붙일 것으로 보여 집니다. 당장 차이나텔레콤에 대한 미국 내 사업 허가가 취소가 될 것으로 보여 지고요. 알비바바까지도 거래 중단에 나설 것으로 보여 지는데요. 이렇게 된다면 한국기업들한테는 오히려 중국이 빠져나간 시장에서는 시장점유율을 높일 수 있는 절대 놓치지 말아야 될 호기죠. 한국 기업들이 좀 더 공격적으로 그리고 시장의 선제적으로 대응할 필요할 있지 않나 보입니다. 김혜민 선제적으로 대응할 필요가 있다. 아까 말씀하신 신제품 개발이라든지 이런 것들 말씀하시는 거예요. 지금 현재 중국이 미국에서 적극적으로 비대면 사업이라든지. 그리고 크라우드 기반의 엄청난 스케일의 가상현실 게임들을 보급하고 있고요. 진료 비즈니스 같은 모빌리티 산업들이죠. 이동통신과 관련한 자동차 산업들 같은 경우에서 많이 진출하려고 했는데 이번에 제동이 걸렸기 때문에 이런 여러 기능을 하나로 조합시킨 하이브리드용 가전제품이라든지 융합제품들은 한국이 기술력에서 앞서 있기 때문에 공정기술에서 상당히 싸게 만들 수 있는 장점을 적극적으로 활용해야 되지 않을까 보여 집니다. 지금 4414님이 도대체 미국은 중국에게 뭘 원하는 건가요. 계속 미국의 중국 기업 때리기가 시리즈로 가고 있다 여기에 대한 질문이 아닐까 하는데요. 조용찬 조금 전에도 말씀드렸듯. 중국 패권 도전은 하지 말고요. 두 손을 들고 항복할 때까지 미국은 계속 돌이킬 수 없을 정도로 강하게 중국을 몰아칠 가능성이 높아 보입니다. 김혜민 두 손을 들고 항복할 때까지. 이게 현실적으로 도대체 뭘 말하는 건지 제가 잘 모르겠어서요. 오늘 미국 화웨이 제재 관련된 이야기 조용찬 미중산업경제연구소 소장님과 함께 이야기 나눠봤습니다. YTN YTN plus\n"
     ]
    },
    {
     "name": "stderr",
     "output_type": "stream",
     "text": [
      "익명화 진행 중:  75%|███████▍  | 64042/85771 [04:45<01:48, 200.56it/s]"
     ]
    },
    {
     "name": "stdout",
     "output_type": "stream",
     "text": [
      "Row 64000 기업명 -> 익명화 이름 매핑: {'평택시': 'W사', '삼성전자': 'T사', 'SK하이닉스': 'B사'}\n",
      "Row 64000 after anonymization - 기업명: B사, full_text: 이재용 없는 삼성 반도체 공장서 “K-반도체” 외친 文대통령…사면요청 응답할까 경제계에서는 청와대에 이 부회장 사면을 공식 건의했지만. 를 말하며 소극적인 입장이다. 문 대통령은 이날 오후 경기 W사 T사 평택캠퍼스를 방문해 . 삼성전자와 B사 등 국내 반도체 기업은 앞으로 10년간 510조원 규모의 대규모 투자를 단행하겠다고 발표했고. 불확실성에 맞서 선구적인 투자에 나서준 기업인들의 도전과 용기에 경의를 표한다. 文대통령 양 옆에 이재용 대신 이재명. 유은혜 문 대통령은 이날 취임 후 5번째로 반도체 현장을 방문했다. 2019년 4월에는 T사 화성사업장을 찾아 . 그러나 이날은 이 부회장이 수감 중이어서 행사에 참석하지 못했다. 대신 김기남 T사 부회장이 투자 계획을 발표했다. 반도체 웨이퍼 모양의 조형물 앞에서 기념사진을 촬영할 때도 문 대통령 양 옆에는 이재명 경기지사와 유은혜 사회부총리 겸 교육부 장관이 자리했다. 앞서 문 대통령은 지난 10일 취임 4주년 특별연설 후 기자회견에서 이 부회장 사면에 대한 질문을 받고 . 이 부회장 사면 의견을 많이 듣고 있다. 반도체 경쟁이 세계적으로 격화되고 있어서. 우리도 반도체 산업 경쟁력을 더욱더 높여 나갈 필요가 있는 것이 분명한 사실. 국민 공감대를 생각하지 않을 수 없다. 충분히 국민들의 많은 의견을 들어서 판단해 나가겠다. 문 대통령의 T사 반도체 공장 방문은 이로부터 사흘 뒤 이뤄졌다. 청와대가 계속 밝혀온 대로 재판은 재판. 경제는 경제로 이해하면 되느냐. 는 질문에 청와대 관계자는 . 사전에 계획이 되어 있었다. 정부는 반도체 산업에 적극적인 지원 의지를 지속적으로 표명해왔다. 이 관계자는 이 부회장 사면에 대해 . 사면은 대통령의 고유 권한이지만 국민 공감대가 필요해 마음대로 결정할 부분이 아니라고 말했다. 충분히 국민의 많은 의견을 듣겠다고 이미 이야기했다. 적극 찬성 청와대가 이 부회장 사면에 조심스러운 입장을 반복해서 밝히고 있지만. 세계적인 반도체 대란 속에서 이 부회장 사면이 이뤄질 것이란 관측이 점점 힘을 얻고 있다. 문 대통령이 사면 전제조건으로 . 국민 열 명 중 일곱 명이 이 부회장 사면에 찬성한다는 조사가 나오는 등 여론이 우호적이기 때문이다. 한길리서치가 쿠키뉴스 의뢰로 지난 8일부터 11일까지 만 18세 이상 1010명을 대상으로 실시해 12일 발표한 여론조사에서 . 이 부회장 사면을 어떻게 생각하는가\n"
     ]
    },
    {
     "name": "stderr",
     "output_type": "stream",
     "text": [
      "익명화 진행 중:  76%|███████▌  | 65034/85771 [04:49<01:40, 206.60it/s]"
     ]
    },
    {
     "name": "stdout",
     "output_type": "stream",
     "text": [
      "Row 65000 기업명 -> 익명화 이름 매핑: {'삼성전자': 'X사', '동국제강': 'J사', 'SK하이닉스': 'Q사'}\n",
      "Row 65000 after anonymization - 기업명: Q사, full_text: 거세지는 美·中 통상패권 다툼…시험대 선 임기말 文정부 의 기 싸움이 치열해질수록 그 틈바구니에서 애매하게 줄타기 중인 한국의 입지는 좁아질 수밖에 없다는 우려가 나온다. 자국 중심의 통상 질서를 짜려는 미국과 그런 미국에 도전하려는 중국 모두 . 미국의 강력한 손짓에도 한국은 최대 교역국 중국을 외면하기 힘들다. 임기 말 정부의 어정쩡한 태도를 바라보는 국내 산업계의 근심이 깊어진다. 4일 산업통상자원부에 따르면. 문승욱 산업부 장관은 미국 정부의 반도체 기업 자료 요구에 대한 협상을 위해 이달 9일 미국을 방문한다. 문 장관은 미국 현지에서 지나 러몬도 미국 상무부 장관을 만난다. 문 장관의 방미 시기는 미국 정부가 X사. 등 반도체 업체들에 정보 제출을 요구한 기한. 문 장관은 러몬도 장관에게 한국 기업들의 우려를 전달할 것으로 보인다. 업계에서는 미국 정부의 반도체 기업 자료 요구가 중국을 겨냥한 것이라는 분석도 나온다. 수집된 자료가 대중국 제재를 디자인하는 데 유용할 수 있다는 것이다. 우리 정부 입장에서는 최대 수출국인 중국과 우방국인 미국 사이에서 자국의 이익을 위해 줄타기해야 하는 난처한 상황이다. 中 배제 함께하자는 美망설이는 韓 지난 10월 31일. 정상회의가 열린 이탈리아 로마. 이곳에서 만난 조 바이든 미국 대통령과 우르줄라 폰테어라이엔 유럽연합. 집행위원장은 2018년 3월 트럼프 행정부가 도입한 무역확장법 232조로 시작된 미. EU 간 철강 관세 분쟁을 끝내기로 했다. 무역확장법 232조는 외국산 수입 제품이 미국의 국가 안보를 위협한다고 판단되면 수입을 긴급 제한하거나 고율 관세를 매길 수 있도록 한 규정이다. 이번 합의로 미국은 그간 EU산 철강. 알루미늄에 각각 25. 부과해온 관세를 철폐하고. EU는 미국산 철강 제품에 매겼던 10. 보복관세를 철회하기로 했다. 한국 정부는 발등에 불이 떨어졌다. 관세 철폐로 미국 시장에서 EU산 철강 제품의 가격 경쟁력이 개선되면 그만큼 한국산 제품은 설 자리를 잃을 수 있어서다. 한국은 무역확장법 232조 협상 당시 25. 관세 부과를 면제받는 대신 철강 수출을 직전 3년 평균 물량의 70. 로 제한하는 쿼터를 받아들였다. 당시엔 미국과 갈등을 피하기 위한 고육지책이었으나. 바이든 행정부가 정책 노선을 갈아타면서 한국 철강 시장을 둘러싼 환경도 변했다. J사 등 주요 철강 업체와 긴급 대책 회의를 연 산업부는 담당 국장급을 미국 워싱턴 D. 에 파견해 미 무역대표부. 상무부와 면담을 추진하기로 했다. 철강 업계는 정부가 미국과 면담에 얼마나 적극적으로 임할지 반신반의하는 분위기다. 한국과 미국 사이의 철강 교역보다 미국이 견제하는 중국과 한국 사이의 철강 교역 규모가 훨씬 크기 때문이다. 한국 철강 제품의 연간 미국 수출 규모는 200만t 수준이지만. 중국 수출은 이보다 두 배 이상 많다. 익명을 요구한 철강 업체 한 고위 관계자는 . 글로벌 공급망을 중국 없이 재편하려는 미국이 어떤 요구를 할지 알 수 없다. 중 모두를 자극하지 않는 게 쉽진 않을 것. 실제로 이번 G20 정상회의에서 미국과 EU는 관세 철회 합의와 동시에 공동성명을 내고 . 미국과 EU는 교역용 철강. 알루미늄에 수반되는 탄소 배출을 평가하기 위한 공동 방법론을 개발할 것. 철강의 탄소 배출량을 따지겠다는 건 중국산 철강을 시장에서 밀어내겠다는 의미다. 바이든 대통령은 이를 확인시켜주려는 듯 . dirty steel. 이 시장에 들어오는 것을 제한하겠다. 는 발언으로 중국을 정조준했다. 그러면서 미국과 EU는 자신들과 뜻을 함께하는 나라의 동참을 주문했다. 한국 정부는 대놓고 . 는 미국과 철강 교역 협상을 벌여야 하는 처지에 놓인 것이다. 미국은 이번 G20 회의 기간에 중국을 뺀 14개국 정상을 따로 불러 글로벌 공급망 문제를 논의하기도 했다. 정철 대외경제정책연구원 선임연구위원은 바이든 대통령의 통상 무역 기조에 대해 . 깡패처럼 굴다가 상인으로 돌변하는 트럼프보다는 훨씬 점잖지만. 원칙을 강조하면서 더 까다로운 걸 들이밀 수 있는 사람. 동맹 증명 요구의 순간 온다. 바이든 행정부가 통상 패권 장악을 위해 내 편 네 편을 노골적으로 구분하는데도 한국 정부가 섣불리 그 울타리 안으로 뛰어들지 못하는 건 중국이 한국의 최대 교역국이기 때문이다. 수출 의존도는 1992년 수교 당시 3. 에 불과했으나 2020년에는 25. 돈으로 치면 중국에만 연간 1300억달러. 미국과 교역의 두 배에 가까운 규모다. 더구나 한국 수출 품목의 대표주자인 반도체를 가장 많이 사주는 나라도 중국이다. 지난해 한국이 해외에 판 반도체 10개 가운데 4개를 중국이 사 갔다. 올해만 해도 10월까지 한국이 중국에 수출한 반도체는 390억달러. 반도체 업계 한 관계자는 . 미국이 반도체 재고 현황과 고객사 정보 등의 민감한 내용을 이달 8일까지 제출하라고 요구한 상황인데. 한국 정부는 우리 기업들뿐 아니라 최대 고객. 의 정보가 미국으로 넘어가는 걸 신경쓸 것. 100개 이상 국가의 제1 교역 상대국이 중국이다. 중국을 압박하는 미국조차 중국을 완전히 배제하는 건 불가능하다. 정 연구위원은 한국도 마찬가지라며 . 분야나 사안별로 협력할 부문. 거리 둘 부문 등을 구분한 뒤 그에 맞는 전략을 짜고 행동하는 수밖에 없다. 그러나 언젠가는 한국 정부가 명확한 입장을 취해야 하는 순간이 올 것이라는 시각도 있다. 허윤 서강대 국제대학원 교수는 . 한국은 지난 30년 동안 안보는 미국. 경제는 중국에 의존하는 방식으로 생존해왔다. 안타깝게도 그 좋은 시절이 막을 내리고 있다. 동맹국과 함께 중국을 응징하겠다. 한국은 좋든 싫든 미국의 동맹인지 아닌지 증명해야 하는 시험대에 오를 것\n"
     ]
    },
    {
     "name": "stderr",
     "output_type": "stream",
     "text": [
      "익명화 진행 중:  77%|███████▋  | 66032/85771 [04:54<01:32, 212.88it/s]"
     ]
    },
    {
     "name": "stdout",
     "output_type": "stream",
     "text": [
      "Row 66000 기업명 -> 익명화 이름 매핑: {'SK하이닉스': 'Q사', 'SK스퀘어': 'D사'}\n",
      "Row 66000 after anonymization - 기업명: Q사, full_text: D사, 나노엔텍 지분 580억에 매각…투자 '인앤아웃' 전략 본격화 시장 상황과 사업 전략 등에 따라 투자 포트폴리오를 유연하게 조절하는 . 전략을 본격화하는 움직임으로 풀이된다. 냈던 나노엔텍 지분 전량매도 19일 나노엔텍은 SK스퀘어가 보유 중이던 나노엔텍 지분 28. 를 1주당 7631원의 가격으로 JW파트너스에게 양도하는 주식양수도 계약을 체결했다고 밝혔다. JW파트너스는 국내 사모펀드. 2014년 7월 출범해 경영 참여형 사모펀드를 통한 투자를 주로 해온 기업이다. 2018년엔 SK로부터 SK증권 지분 10. 와 경영권을 함께 인수하기도 했다. JW 파트너스는 국내외에 탄탄한 바이오 투자 네트워크를 구축하고 있어 나노엔텍의 사업과 시너지를 낼 수 있을 것. 이번 투자에 적극적으로 나선 것으로 알고 있다. 나노엔텍은 체외진단 의료기기와 생명공학 연구기기를 제조하는 코스닥 상장사다. 기술 기반 진단키트가 대표 상품이다. 랩온어칩은 반도체처럼 바이러스 항원 분석에 필요한 장치를 한데 모아 놓은 플라스틱 칩을 뜻한다. 대형 분석기기를 통하지 않고도 특정 질병 유무를 알아낼 수 있는 게 특징이다. 나노엔텍은 지난해 국내 최초로 코로나19와 독감 항원을 동시진단할 수 있는 키트를 유럽에 출시해 호실적을 냈다. 작년 연결매출은 358억원. 당기순이익 73억원으로 전년대비 22. 전략 따라 포트폴리오 조절. 기업가치 올린다이번 매각으로 SK스퀘어의 포트폴리오는 자회사 포함 총 20개 기업에서 19개로 줄었다. SK스퀘어는 나노엔텍을 관계회사로 포트폴리오에 두고 있었다. 기업분할 이전인 2011년 SK텔레콤이 나노엔텍 지분을 인수하고 유상증자에 참여하는 등 투자를 지속해왔다. 업계는 이번 거래를 SK스퀘어의 . 전략의 본격 신호탄으로 보고 있다. SK스퀘어는 시장 상황이나 사업 방향 등에 따라 유연하게 포트폴리오를 조절하는 투자전문기업이 목표다. 일부 자산에 대해선 투자 수익을 실현하고. 이를 통해 얻은 자금을 또다른 유망 신사업에 투자해 기업가치를 키워가는 구조다. 워런 버핏이 이끄는 미국의 버크셔해서웨이. 스웨덴 발렌베리 가문의 투자지주회사 인베스터AB 등이 이같은 방식으로 기업을 운영하고 있다. 버크셔해서웨이는 앞서 글로벌 고유가 흐름을 예측하고 알리바바 등 기존 투자 기업 지분을 줄였다. 이를 통해 확보한 자금으로 셰브론. 옥시덴탈 등 에너지 기업에 투자 비중을 늘리는 포트폴리오 전략을 구사하고 있다. 다음 목적지는 반도체. 나올까SK스퀘어는 출범 이래 투자만 벌였다. 암호화폐 등 유망 신사업이 주요 투자처였다. 꾸준한 신규 투자를 위해선 재원이 필요하다. SK스퀘어는 자산 매각을 통한 투자 수익 실현을 비롯해 자회사 Q사 등을 통한 배당금. 국내외 투자자본 유치 등을 통해 신규 투자 재원을 마련한다는 계획이다. SK스퀘어의 재원 조달 목표 금액은 향후 3년간 2조원 이상인 것으로 알려졌다. 이미 Q사 연간 배당으로 2250억원. SK플래닛 배당으로 500억원 등 총 2770억원 배당금 수익을 냈다. 나노엔텍 매각 대금을 비롯한 자금은 반도체와 정보통신기술. 분야에 투입할 전망이다. SK스퀘어는 반도체와 ICT 기업 신규 투자를 추진하고 있는 것으로 알려졌다. 최근 거시경제 불확성으로 기업들의 가치평가액이 낮아지고 있는 게 투자기업에겐 이득이 될 것이라는 분석이다. 유망 피투자 기업의 몸값이 낮아지면 낮아수록 투자기업이 수익을 내기가 유리해진다. 올 하반기에서 내년 초 안에 인수합병. 거래가 나올 수 있을 것\n"
     ]
    },
    {
     "name": "stderr",
     "output_type": "stream",
     "text": [
      "익명화 진행 중:  78%|███████▊  | 67042/85771 [04:59<01:29, 209.67it/s]"
     ]
    },
    {
     "name": "stdout",
     "output_type": "stream",
     "text": [
      "Row 67000 기업명 -> 익명화 이름 매핑: {'SK하이닉스': 'V사', '해성디에스': 'L사'}\n",
      "Row 67000 after anonymization - 기업명: V사, full_text: 반도체 부품 기업 L사, 3200억원 설비투자의 의미 해성디에스는 패키지용 반도체 기판과 리드프레임을 만드는 회사다. 리드프레임에선 자동차용 반도체와 모바일 기기 등 패키징 재료를. 패키지용 기판에선 PC. 모바일 등 메모리 반도체 패키징 재료를 납품한다. 2022년 3분기 누적 매출 기준 리드프레임이 65. 패키지용 기판이 34. 해성디에스는 2022년 패키지용 기판과 자동차 반도체용 리드프레임 등 주력제품의 수요가 증가하면서 역대 최대 실적을 기록했다. 2022년 연결기준 연간 매출은 8394억원. 영업이익은 2044억원으로 각각 전년 대비 28. 같은 기간 당기순이익은 711억원에서 1594억원으로 124. 다만 2023년 상반기까지 반도체 겨울이 예상되고 있어 해성디에스도 영향을 피할 수 없을 것으로 보인다. 반도체 재료산업은 최종 납품처인 종합반도체회사. 의 업황에 민감하게 영향을 받는다. 이러한 가운데 해성디에스는 지난 16일 신규 시설투자에 3185억원을 투자한다는 공시를 냈다. 이는 해성디에스의 자기자본 2943억원 대비 108. 투자목적은 생산설비 증설을 통한 매출 확대기반 확보다. 해성디에스는 2022년 5월 창원시와 3500억원 636억원 규모 투자 업무제휴. 를 체결했다고 밝혔다. 이번 3185억원의 추가 투자는 창원시와 맺은 MOU의 연장선이다. 이로써 해성디에스는 2022년 5월부터 2025년 10월까지 총 시설. 설비투자에 3880억원을 투입하게 됐다. 반도체 업계 불황이 예상되는 가운데. 해성디에스가 자기자본보다 많은 금액의 공격적인 투자를 진행한 배경으로는 현재 운영하는 사업인 반도체 패키지 기판과 리드프레임 사업에 대한 성장성이 꼽힌다. 같은 맥락으로 웨이퍼 제조사 SK실트론도 웨이퍼 수급 경쟁에서 우위를 차지하기 위해 지난해 9월 2조3000억원의 설비투자를 밝힌 바 있다. 반도체 재료산업은 장비산업보다 전방산업의 투자 동결에 받는 영향이 상대적으로 적다. 또 기술력을 바탕으로 높은 신뢰성이 요구되기 때문에 대규모 설비투자가 지속적으로 필요하며 진입장벽이 높다. 때문에 신규 업체와의 경쟁보단 시장 내에서 기존 업체 간 점유율 확대 경쟁이 치열한 시장이다. 해성디에스는 주력 제품에 대한 경쟁력을 확보한 상황이다. 리드프레임은 초정밀 금형을 타발. Stamped Lead Feame. 제품의 회로패턴을 약품으로 식각 성형하는 ELF. Etched Lead Frame. 분기보고서에 따르면 해성디에스는 2019년 기준 SLF 글로벌 시장 점유율 5위. ELF 시장 점유율 1위를 차지하고 있다. 글로벌 경기 침체로 인해 IT. 기기용 수요가 감소하면서 2023년 해성디에스의 IT용 리드프레임 사업의 실적 악화는 피할 수 없을 것으로 보인다. 하나증권은 2023년 해성디에스의 IT용 리드프레임 매출액이 전년 대비 20. 감소할 것으로 내다봤다. 다만 자동차 반도체용 리드프레임은 전기차. 자율주행차의 성장과 함께 빠르게 성장하고 있다. 시장조사기관 IHS마킷에 따르면 자동차용 반도체 시장은 2021년 450억달러. 이상 성장해 2026년 740억달러. 규모로 커질 전망이다. 해성디에스는 차량용 리드프레임 고객사로 Infineon. ST Micro 등 글로벌 고객사로 두고 있어 지속적인 성장이 가능하다. 해성디에스는 패키지용 기판 중 FC. BOC는 메모리 반도체 패키징에 사용되는 기판이다. IT 기기의 수요 감소로 인해 성장세에 다소 제동이 걸렸지만. 서버와 데이터센터 등 수요는 여전한 상황이다. 해성디에스는 삼성전자와 V사 등 대형 메모리 반도체 회사를 고객사로 보유하고 있다. 이들의 D램과 낸드 플래시가 고사양 제품으로 출시되면서. BOC의 수요도 늘어날 것으로 보인다. 시장조사업체 프리스마크에 따르면 FC. BOC 시장은 2021년부터 2026년까지 연평균 6. 해성디에스는 2022년 5월부터 약 3년 5개월 간 설비투자에 3880억원을 투입하겠다고 밝혔다. 단순 계산으론 연간 1100억원 규모다. 해성디에스는 최근 호실적으로 현금창출능력이 크게 늘었다. 기업의 현금창출능력을 보여주는 감가상각전 영업이익. 은 2021년 EBITDA는 1193억원으로 전년. 하나증권에 따르면 2022년 EBITA는 2443억원으로 전년 대비 104. 높은 수익성을 통해 현금성자산도 크게 늘렸다. 2022년 3분기 기준 해성디에스의 현금성 자산은 983억원이다. 2021년 말 293억원 대비 235. 같은 기간 부채비율은 61. 통상 부채비율이 100. 이하면 재무가 건전하다고 평가한다.\n"
     ]
    },
    {
     "name": "stderr",
     "output_type": "stream",
     "text": [
      "익명화 진행 중:  79%|███████▉  | 68043/85771 [05:04<01:25, 208.18it/s]"
     ]
    },
    {
     "name": "stdout",
     "output_type": "stream",
     "text": [
      "Row 68000 기업명 -> 익명화 이름 매핑: {'롯데웰푸드': 'C사', 'LG에너지솔루션': 'L사', 'LG전자': 'D사', '롯데케미칼': 'T사', 'SK하이닉스': 'E사'}\n",
      "Row 68000 after anonymization - 기업명: E사, full_text: 오락가락 전력, 공장 멈추면 어쩌나…수출 최전선 기업 원전 품자 재생에너지 여건이 열악한 우리나라 특성을 고려하면 국제사회로의 CFE 확산은 우리 기업의 경쟁력 확보에도 힘을 더할 것으로 보인다. 탄소중립 달성 표준으로서의 CFE 국제확산과 국내 제도 정비를 위한 과제를 짚어본다. 고개 든 RE100 회의론 재생에너지 한계. 원전 품어야탄소중립 시대 전환을 선도하는 재계가 사용하는 전력 100. 를 재생에너지로 충당하는 RE100에 회의감을 표한다. 재생에너지만을 통한 전력 충당이 가능하겠느냔 의구심이 고개를 들어서다. 이런 기업이 늘면서 RE100 선언 열기도 한풀 꺾인 모양새다. 재생에너지와 더불어 탄소를 발생하지 않는 원전. 연료전지 등을 포함한 개념인 CF100에 대한 선호가 상대적으로 높아진다. 24일 다국적 비영리기구 더클라이밋그룹. The Climate Group. 에 따르면 올해 현재까지 전 세계적으로 27개 기업이 RE100에 신규 동참했다. 지난해 신규 가입 기업 수 58개의 절반에도 못 미친다. 3분기가 열흘도 남지 않은 상황임을 감안하면 전년보다 가입 열기가 저조한 셈이다. 2020년 SK그룹 6개사를 시작으로 지난해까지 삼성. 롯데 등이 경쟁적으로 가입하던 것과 달리 올해는 7개 기업만이 RE100을 선언했다. 전력소비가 많은 제조업계의 참여가 저조했다. 올해 RE100을 선언한 기업 면면을 보면 금융. IT 등이 주를 이룬다. 신규 가입한 7개 국내 기업 가운데 제조사는 D사. T사 두 곳에 불과하다. 나머지 5개 회사는 삼성생명. C사 등으로 다른 업종보다 상대적으로 전력소비 부담이 적은 업체들이다. RE100 달성을 위해 태양광. 수력 등에서만 전력을 공급받아야 하는데 현실적으로 가능하겠냔 꼬리표가 붙어서다. 통계청 자료에 따르면 한국은 37개 OECD 가입국 가운데 재생에너지 비중이 가장 낮은 곳이다. 지난 10년간 태양광. 풍력 분야에 막대한 투자를 감행했음에도 3. 와 24배 격차를 보인다. OECD 평균과도 7배 가까이 차이 난다. 표면적으로 보면 한국이 신재생에너지 투자에 소홀한 것처럼 보이지만 실은 그렇지 않다. 전체 전력 생산량과 관계없이 각국의 신재생에너지 비중만을 따졌기 때문이다. 유럽의 대표적인 제조국가인 독일. 프랑스 등도 OECD 평균을 하회한다. 일본 등도 하위권이다. 철강 등 전력소비가 많은 산업군 중심의 수출활동을 펼친다. 국토는 좁고 대부분 산지다. 영토의 효율적 이용 측면에서 북미. 호주와 같은 대규모 태양광 발전소 건립이 현실적으로 어렵다. 밤의 비열차가 커 풍량이 많지만 산악지형이 대부분인 한국은 이마저도 불리하다. 삼면이 바다로 둘러싸여 있지만 바람 세기가 약하다. 이런 환경에도 불구하고 신재생에너지 창출 노력이 이어져 왔지만 한계가 있다. 여전히 원전에서 생산된 값싸고 풍부한 전력이 수출 경쟁력 제고를 뒷받침한다. 탄소 사회로의 전환에 대해 공감하면서도 RE100 가입을 꺼리는 이유다. 기업경쟁력은 물론이고 수출경쟁력마저 저하될 수 있단 이유에서다. 이런 기조는 RE100을 선언한 기업들 사이에서도 나온다. RE100을 선언한 국내 주요 기업 가운데 재생에너지 조달 비율이 50. 가 넘는 곳은 L사 단 한 곳이다. 2위 삼성전자와 3위 SK하이닉스가 30. 안팎의 조달률을 보이는 가운데 4위 D사 5위 현대차의 조달률은 한 자릿수다. 2021년 기준 국내 신재생에너지 발전 총량은 43TWh다. 이는 전력소비 상위 4개 기업. 수요에 대응하는 데도 벅찬 게 사실이다. 한 재계 관계자는 탄소발생 억제만 놓고 보면 RE100보다 CF100이 더 나은 게 사실이라면서 RE100은 신재생에너지를 통한 전력 조달을 지향하면서 기업들에 석탄. 화력발전을 통해 나온 전기를 사용한 만큼 재생에너지공급인증서. 를 구매하도록 하지만. CF100은 탄소가 발생하지 않는 원전을 포함하기 때문에 RECs를 구매할 필요가 없다고 설명했다. 이어 최근 윤 대통령이 UN총회에서 무탄소에너지. 국제 플랫폼 구축을 제안한 것은 인류가 탄소중립 사회로 전환하는 데 현실성 있는 대안임은 분명하다면서 북미. 유럽 고객사의 강한 요구로 RE100에 동참할 수밖에 없는 우리 기업 입장에선 윤 대통령의 제안대로 국제사회가 움직여주길 바라지만. 원전에 대한 각국의 견해차가 CF100이 RE100 대체하는 데 관건으로 작용할 것이라고 덧붙였다. 오락가락한 전력으로 어떻게 공장을CFE로 전력부담. 정부가 국제사회에 원자력발전. 과 수소에너지를 포함한 무탄소 에너지로 기존 화석에너지 전력공급을 대체하는 CFE. Carbon Free Energy. 를 제안한 것은 신재생에너지 공급여건이 열악한 국내 환경을 염두에 둔 판단이다. 신재생에너지로만 전력을 충당하는 . 은 높은 발전 단가와 발전의 변동성으로 인해 전력망을 유지하기 어려운 탓에 안정적이면서도 탄소 중립적인 에너지를 더해 탄소중립을 이행하자는 것. 반도체와 자동차 등 수출 중심 산업구조를 갖고 있는 우리나라의 수출 경쟁력을 유지하기 위해서도 국제사회에서 CFE를 확산시켜야 한다는 의도도 있다. 24일 산업통상자원부 등 관계부처에 따르면 지난해 기준 우리나라의 신재생에너지 발전량은 수력발전을 포함해 9. 제10차 전력수급기본계획. 상 2030년 기준 신재생에너지 발전설비 규모는 134. 로 불어나 전체의 21. 를 차지할 것으로 전망됐다. 정부는 2050 탄소중립과 2030년 NDC. 달성을 위해 이전보다 빠른 속도로 신재생에너지 발전비중을 키운다는 구상이지만 신재생에너지만으로 반도체와 자동차. 철강 등 고전력 산업 비중이 큰 우리 경제를 굴리는 건 부담이 크다. 일조량과 풍량 등에 따라 발전량이 갈리고 과다 발전 시 송전망에 무리를 주는 신재생에너지로 제조업 기반 경제를 운영하는 것 역시 비용증가로 이어질 전망. 실제로 태양광발전의 경우 호남과 제주 등 설비집중 지역에 과잉발전 현상이 벌어지고 송전망 차단을 통한 출력제어 조치가 잦아지면서 지역 사업자와 전력당국간 소송전이 진행 중이다. 인접국가와 전력망을 공유하는 유럽. 미국과 달리 전력을 자급자족해야하는 우리나라 특성도 CFE 제안의 배경이다. 은 인근 나라에서 전기를 사올 수 있도록 송전망을 갖추고 있고 미국과 캐나다 역시 전력망을 공유하고 있다. 이들은 일부 지역의 기상상황 등으로 태양광 발전량이 부족하면 인근 발전량 여유 지역에서 전력을 사올 수 있지만 고립형 전력망을 갖고 있는 우리나라는 필요한 전력을 자체조달해야 한다. 북미와 유럽 등 주요국뿐만 아니라 다른 고립형 전력망 운영 국가에도 RE100보다는 CFE를 통한 탄소중립을 제안하는 이유다. 정범진 경희대 원자력공학과 교수는 국제사회의 목표는 이산화탄소 배출을 줄이는 것이지 재생에너지를 최우선으로 써야한다는 것은 목적과 수단이 바뀐 것이라며 현실적으로 재생에너지로 100. 전력을 충당할 수 없는 탓에 RE100은 실제 재생에너지 사용량 증가보다 돈으로 재생에너지 사용을 인정받는 인정제도로 변질되고 있다고 지적했다. 이어 우리 기업이 CFE를 통해 이산화 탄소를 줄이고 있다는 인증을 받고 수출 등 기업활동을 하도록 근거를 마련해야한다며 CFE를 통해 어떻게 온실가스를 줄였는지 적극적인 실적보고를 하고 원전 수출 등 다양한 프로그램을 만드는 등 차별화된 활동을 통해 CFE를 국제사회에 소개해야한다고 조언했다.\n"
     ]
    },
    {
     "name": "stderr",
     "output_type": "stream",
     "text": [
      "익명화 진행 중:  80%|████████  | 69028/85771 [05:09<01:15, 220.57it/s]"
     ]
    },
    {
     "name": "stdout",
     "output_type": "stream",
     "text": [
      "Row 69000 기업명 -> 익명화 이름 매핑: {'삼성전자': 'W사', '삼성증권': 'J사', '삼성엔지니어링': 'E사'}\n",
      "Row 69000 after anonymization - 기업명: W사, full_text: 外人 2월 주식 샀지만 규모 축소…W사 '러브콜' 여전 지난달 28일 한국거래소에 따르면 2월 한 달 간 외국인 투자자는 코스피 시장에서 1373억원 어치 순매수를 기록했다. 1월 한 달 간 4조원 이상 공격적으로 순매수하던 것과 비교해 매수세가 크게 줄어든 모습이다. 특히 2차 북미 정상회담이 결렬된 28일에만 외국인은 코스피 시장에서 2532억원 어치를 팔아치웠다. 올 초부터 이어지고 있는 외국인의 W사 러브콜은 2월에도 이어졌다. 이달 들어 외국인은 삼성전자를 5599억원 어치 순매수했다. 전체 코스피에서 외국인 투자자의 순매수 규모. 를 감안하면 매수세가 삼성전자에 집중된 것으로 분석된다. 등이 외국인 순매수 종목 상위에 이름을 올렸다. SK하이닉스에 대한 순매수 금액은 523억원에 불과해 순매수 상위 종목 15위에 머물렀다. 만해도 3위에 올랐지만 28일 하루 동안에만 외국인들이 1161억원 어치를 팔아 치우면서 10위권 밖으로 밀려났다. 2월 한 달 간 외국인이 가장 많이 판 종목은 KB금융이었다. 외국인은 지난달 KB금융을 3169억원어치 순매도했다. 이어 현대차를 1858억원어치 팔아치웠고 E사. 등도 외국인 순매도 상위에 올랐다. 외국인 순매수 기조는 당분간 주춤할 전망이다. 2위를 차지하는 반도체 업종 이익 하향이 계속되고 있고. 미 정상회담 등 기대했던 이벤트들이 모두 예상 밖 상황을 연출하면서 관망 심리가 커질 것이란 전망이다. 유승민 J사 연구원은 그동안 미. 중 무역협상 타결 전망에 대한 기대감으로 2분기 중 글로벌 경기둔화가 진정될 것이란 전망이 나오면서 글로벌 투자 자금이 신흥시장 중심으로 선제적으로 유입됐다며 하지만 기대가 충분히 반영된 반면 결과를 확인하는 과정에서 의문점이 많아 당분간 변동성 확대에 대비해야 할 것이라고 분석했다\n"
     ]
    },
    {
     "name": "stderr",
     "output_type": "stream",
     "text": [
      "익명화 진행 중:  82%|████████▏ | 70030/85771 [05:13<01:00, 258.69it/s]"
     ]
    },
    {
     "name": "stdout",
     "output_type": "stream",
     "text": [
      "Row 70000 기업명 -> 익명화 이름 매핑: {'삼성전자': 'U사'}\n",
      "Row 70000 after anonymization - 기업명: U사, full_text: U사, 1분기에 역대 최대 R&D 투자···5조3,600억원 4일 삼성전자에 따르면 1. 4분기 연구개발비는 5조3. 600억원으로 집계됐다. 종전 최고 기록인 2018년 4. 4분기 매출액 대비 연구개발비 비중은 9. 삼성전자의 분기별 연구개발비 지출은 2017년 2. 4분기부터 2018년 3. 4분기까지 6분기 연속 4조원대였다. 에 5조원대에 들어선 이후 지난해 3. 4분기까지 4분기 연속 5조원대를 이어갔다. 반도체 업황이 침체했던 지난해 4. 에는 일시적으로 4조원대를 기록했지만 올해 1. 4분기에 다시 5조원대로 복귀한 것이다. 지난 한해 삼성전자는 연간 연구개발비로 20조1. 929억원을 지출했다. 연간 기준으로 연구개발비 20조원을 돌파한 건 사상 최초다. 지난해 매출액 대비 연구개발비 비중은 8. 삼성전자는 지난 3월 열린 정기 주주총회에서 코로나19에도 계획된 투자를 차질없이 집행하겠다고 밝혔던 만큼 올해 연구개발비도 20조원을 넘어설 것으로 전망된다\n"
     ]
    },
    {
     "name": "stderr",
     "output_type": "stream",
     "text": [
      "익명화 진행 중:  83%|████████▎ | 71030/85771 [05:16<00:59, 246.94it/s]"
     ]
    },
    {
     "name": "stdout",
     "output_type": "stream",
     "text": [
      "Row 71000 기업명 -> 익명화 이름 매핑: {'삼성전자': 'K사'}\n",
      "Row 71000 after anonymization - 기업명: K사, full_text: K사, 롤러블폰에 '보이지 않는 카메라' 적용하나 해당 특허는 지난해 11월 미국특허청. 지난 17일 공개됐으며 현재 세계지식재산권기구. 데이터베이스에서도 확인할 수 있다. 로 불리는 새로운 폼팩터는 일정 방향으로 화면을 확장해 대화면 이점을 누릴 수 있는 제품이다. 확장하지 않았을 때는 일반 스마트폰 크기로 휴대성을 높인다. 화면이 돌돌 말리는 형태인 롤러블폰은 두께나 무게 등 휴대성과 편의성 측면에서 현재 폴더블폰을 뛰어넘는 폼팩터로 주목받고 있다. 특허에는 전면 카메라를 디스플레이 밑에 배치해 외부에서는 카메라가 보이지 않는 언더패널카메라. 대형 화면을 카메라 구멍 없이 꽉 채운 진정한 풀스크린을 구현한다. UPC는 오는 8월 공개될 . 에 폴더블 최초로 도입이 기대되는 기술이다. 근접 센서도 화면 아래로 들어갔다. 이 외에도 화면 위에서 지문을 인식하는 . 후면에는 트리플 카메라. 심박수 센서가 탑재됐다. 하단 모서리엔 USB. 듀얼 스피커가 보인다. 또 하나의 추가 스피커는 롤러블 화면을 펼치면 나타난다. 특허에 따르면 메인 디스플레이는 최대 30. 사용자가 원하는 경우 화면을 끝까지 확장하지 않고 일부만 늘릴 수도 있다. 폴더블 시장 패권을 잡은 삼성은 롤러블. 슬라이더블 등 다음 폼팩터 개발에 속도를 내고 있는 것처럼 보인다. 최근엔 차세대 롤러블폰을 위한 새로운 상표를 출원한 사실이 알려졌다. IT 전문매체 레츠고디지털에 따르면 삼성은 지난 5월 유럽특허청. 라는 이름의 상표권을 출원했다. 해당 상표의 구체적인 내용은 밝혀지지 않았다. 은 가로로 확장되는 디스플레이를. 는 세로로 늘어나는 모델일 수 있다고 추정하고 있다. 좌우로 접는 폴더블 . 위아래로 접는 폴더블 . 삼성전자가 최초의 롤러블폰을 발표하는 것은 적어도 2022년 이후일 것으로 전망된다. 연이은 상표 및 특허 출원. 최근 삼성디스플레이가 선보인 . 삼성이 롤러블폰을 개발 중이라는 소식을 뒷받침한다. 한편 삼성 폴더블 신제품은 오는 8월 초 공개가 유력하다. 업계에 따르면 올해 갤럭시Z폴드3. 갤럭시Z플립3는 전작보다 최대 20. 저렴해진 가격으로 폴더블 . 이 외에도 폴더블 최초 공식 IP등급 방진. 방수 S펜 지원 화면 힌지. 축소 등 다양한 성능 개선이 예상돼 기대를 모으고 있다.\n"
     ]
    },
    {
     "name": "stderr",
     "output_type": "stream",
     "text": [
      "익명화 진행 중:  84%|████████▍ | 72031/85771 [05:20<00:52, 262.98it/s]"
     ]
    },
    {
     "name": "stdout",
     "output_type": "stream",
     "text": [
      "Row 72000 기업명 -> 익명화 이름 매핑: {'삼성전자': 'R사'}\n",
      "Row 72000 after anonymization - 기업명: R사, full_text: R사, 작년 지속가능경영가치 49兆…공정혁신으로 탄소저감(종합) 를 태양광 등 재생에너지로 충당하는 RE100 가입 추진 등을 통해 DS. 부문 제조공정 등에서 눈에 띄는 온실가스 저감을 성과를 내야 하는 과제도 떠안았다. 4일 삼성전자가 최근 발표한 . 2022 지속가능경영보고서. 에 따르면 지난해 창출한 지속가능경영가치는 49조1300억원이다. 재무적 가치 39조9100억원. 경제적 가치 11조6500억원. 2조4340억원을 합친 값이다. 재무적 가치는 지난 한 해 순이익으로 도출했다. 경제적 가치는 투자자. 채권자 배당금 및 이자지급액. 협력회사 상생펀드 지원금. 위생시설 개발 프로젝트 투자수익 등으로 계산했다. 환경적 가치는 사업장 배출 온실가스. 사회적 비용 등의 사회적 비용을 산정했다. 삼성전자는 보고서를 통해 DS. 부문을 합쳐 지난해 641만t의 온실가스를 감축했다고 밝혔다. 재생에너지 사용량은 한 해 전보다 31. 늘어난 5278GWh였다. 재활용 등 전 밸류체인. 에 걸쳐 온실가스 배출 감축과 재생에너지 사용 확대를 핵심 원칙으로 삼기로 했다. 최근 주요 경영인들이 주장하는 탄소중립 관련 구체적인 데이터를 산출해 공시한 점도 주목할 만한 비. 재무적 성과란 평이다. 다만 환경적 가치에서 2조원 넘게 지출된 점은 풀어야 할 숙제다. 반도체 신규 라인 건설 및 가동 등으로 지난해 이산화탄소 환산량 기준 온실가스 배출량이 1740만t으로 전년 대비 17. 탄소배출권 구매를 최소화할 것이란 원칙을 밝힌 R사 입장에선 뼈아픈 결과다. 기업 입장에서 당국이 정해준 할당량보다 탄소를 많이 배출해 배출권을 사야 하더라도 시세가 싸면 괜찮다는 식의 . 를 할 수도 있지만 철저히 . 을 하겠다고 한 것이다. 한국거래소에 따르면 탄소배출권. 가격은 직전 거래일인 지난 1일 기준 2만800원으로 올초 3만5400원보다 41. 시세가 요동을 치기 때문에 상황에 따라 배출량을 조절할 수도 있지만 삼성전자가 세운 원칙은 이와 다르다. 삼성전자가 내놓은 해법은 . 메인 설비 테스트 시간 단축. 부대설비 운전 온도 조건 개선. 고효율 설비 및 습식 스크러버. 중성화 등을 통해 탄소배출량을 줄일 수 있다는 계산이다. 지난달 30일 발표한 신기술 . 같은 공정 혁신이 열쇠다. 이 기술로 기존 5나노 공정 대비 전력 소모를 약 50. 재생에너지 확대도 해결책으로 떠오른다. 삼성전자에 따르면 재생에너지 사용 확대가 지난해 온실가스 감축 비율의 44. 등 보다 비중이 크다. 영국 런던 비영리기구 더 클라이밋 그룹이 공인하는 RE100 가입도 검토 중이다. 중국에서 재생에너지 100. 멕시코 등에서도 재생에너지 사용을 확대해 나가고 있다고 했다.\n"
     ]
    },
    {
     "name": "stderr",
     "output_type": "stream",
     "text": [
      "익명화 진행 중:  85%|████████▌ | 73049/85771 [05:24<00:51, 248.36it/s]"
     ]
    },
    {
     "name": "stdout",
     "output_type": "stream",
     "text": [
      "Row 73000 기업명 -> 익명화 이름 매핑: {'삼성전자': 'P사'}\n",
      "Row 73000 after anonymization - 기업명: P사, full_text: P사 경계현 AI 시대, 업계 지각 변동 일어날 것 삼성 반도체를 새로운 시대로 이끌어가는 동안 일관되고 고객 중심적이면서도 AI 생태계 전반에 기여할 수 있는 방법에 대해 사려 깊은 경영 철학을 추구해야 한다는 설명도 덧붙였다. 경 사장은 AI 시대를 맞이하기 위한 자신의 경영 철학으로 네 가지를 꼽았다. 첫째는 조직 문화를 변화시켜 구성원이 디지털 전환. 을 실행할 역량을 키우는 것이다. 둘째는 조직 성장을 위한 충분한 지원을 더해 성공 마인드를 도입하는 것이다. 셋째는 새로운 고객 솔루션 개발을 통한 접점 확대. 10년간 이뤄지는 AI 진화에 대응하기 위한 혁신 제시 및 아키텍처 구축이다. 경 사장은 이러한 과정을 통해 AI 시대에 성공을 창출할 유리한 위치를 선점할 수 있을 것이라고 말했다. 삼성전자는 챗GPT와 함께 생성형 AI 수요가 늘자 AI 서버용 고성능. 고용량 메모리 제품 사업에 박차를 가하고 있다. 와 쓰이는 고대역폭메모리. 양산 계획을 구체화한 상태다. 현재 HBM 4세대 제품인 HBM3 16GB와 12단 24GB 제품 샘플을 선보이고 있다. 업계에선 삼성전자가 연내 HBM3를 AMD에 공급하며 본격적으로 양산에 돌입할 것으로 본다. 삼성전자는 5세대 제품인 HBM3P도 하반기에 선보이겠다고 예고한 바 있다.\n"
     ]
    },
    {
     "name": "stderr",
     "output_type": "stream",
     "text": [
      "익명화 진행 중:  86%|████████▋ | 74043/85771 [05:29<00:56, 207.62it/s]"
     ]
    },
    {
     "name": "stdout",
     "output_type": "stream",
     "text": [
      "Row 74000 기업명 -> 익명화 이름 매핑: {'삼성전자': 'X사', '삼성바이오로직스': 'P사'}\n",
      "Row 74000 after anonymization - 기업명: P사, full_text: '삼바 분식회계' 못 밝히고 8개월간 '별건털이'…변죽만 울린 檢수사 오는 25일 윤석열 차기 검찰총장 취임 이후 검사 인사이동으로 인한 수사팀 교체 시기까지 맞물려 삼성바이오 수사가 장기화할 조짐을 보이고 있다. 별건 수사로만 허송세월한 8개월지난 19일 명재권 서울중앙지방법원 영장전담 부장판사는 자본시장법 위반 등 분식회계 혐의로 구속영장이 청구된 김태한 삼성바이오 사장 등 세 명의 구속 전 피의자 심문. 을 열고 20일 새벽 기각을 결정했다. 주요 범죄 성부에 다툼의 여지가 있다. 이는 삼성바이오의 분식회계 의혹에 형사 책임을 물을 수 있는지를 따지는 법원의 사실상 첫 판단이었다. 법조계에선 별건 수사로만 허송세월한 결과라는 분석이 나온다. 검찰은 지난 2월 삼성바이오 수사를 담당하는 서울중앙지방검찰청 특수2부 인력을 12명에서 18명으로 늘렸다. 하지만 수사의 화력은 별건인 증거인멸 혐의에 집중했다. 지금까지 증거인멸에 관여한 의혹으로만 삼성 임직원 여덟 명이 구속됐다. 이 과정에서 압수수색을 여섯 차례 하고 피의사실을 공표하는 등 숱한 . 그럼에도 분식회계 유죄 입증의 첫 관문이라고 할 수 있는 김 사장 신병 확보에는 실패했다. 분식회계 규명을 안 한 게 아니라 못한 것이라는 지적도 나온다. 한 검사 출신 변호사는 . 형사소송법에서 구속 사유로 주거불명 및 도주나 증거인멸 우려 등을 규정하고 있는 만큼 . 증거인멸은 비교적 구속영장 발부가 잘 되는 혐의. 증거인멸로 일단 주요 인사 신병을 확보하고 분식회계를 추궁하는 것이 검찰의 전략이었을 것. 별건수사 논란을 감수하면서까지 여덟 명의 신병을 확보했음에도 분식회계와 관련해 유의미한 내용을 캐내지 못했다는 것이다. 이번 김 사장 구속영장 청구 때도 횡령 혐의를 포함해 또다시 별건 논란이 일었다. 그만큼 검찰이 분식회계에 자신이 없는 것 아니냐는 얘기가 나온다. 삼성 측은 일관되게 분식회계 혐의를 전면 부인하고 있다. 새 수사팀 꾸려지면 수사 장기화될 듯검찰 수사는 잠시 숨고르기를 한 뒤 다음달께 새로운 수사팀이 꾸려지면 재개될 전망이다. 애초 문무일 검찰총장 임기 종료일. 전에 삼성바이오 수사가 마무리될 것으로 알려졌으나. 장기화가 불가피해졌다. 향후 검찰 수사는 분식회계 혐의 규명에 집중할 것으로 보인다. 검찰은 김 사장 구속영장 기각 직후 . 추가 수사 후 구속영장 재청구 등을 검토할 계획. 검찰은 최근 조사에서 삼성 측 요구에 따라 감사보고서를 작성했다고 진술한 회계사들에 대해서도 조만간 구속영장 청구를 검토하고 있는 것으로 알려졌다. 애초 검찰은 김 사장 구속을 바탕으로 이재용 X사 부회장 등을 소환한다는 방침이었으나 계획에 차질이 불가피해졌다. 최근 일본의 경제보복과 관련해 삼성에 우호적인 여론이 나오고 있는 것도 검찰 입장에선 부담이다. 삼성전자가 대표적인 피해 기업이고. 이 문제를 해결하는 데 이 부회장의 역할이 크기 때문에 검찰도 정무적 판단을 고려할 수밖에 없다는 말이 나온다. 이번엔 증거인멸이 아니라 횡령 혐의로 또다시 별건 수사가 이어질 가능성도 있다. 검찰에 따르면 김 사장은 2016년 삼성바이오 주식을 개인적으로 사들이는 과정에서 회삿돈 30여억원을 빼돌린 혐의를 받고 있다. 검찰은 이 과정을 당시 삼성그룹 미래전략실이 알고도 묵인했다고 의심하는 것으로 알려졌다. 김 사장의 횡령 혐의를 발판 삼아 미래전략실 등 윗선으로 수사 전선이 확대될 수 있다는 분석이다\n"
     ]
    },
    {
     "name": "stderr",
     "output_type": "stream",
     "text": [
      "익명화 진행 중:  87%|████████▋ | 75014/85771 [05:34<00:48, 220.45it/s]"
     ]
    },
    {
     "name": "stdout",
     "output_type": "stream",
     "text": [
      "Row 75000 기업명 -> 익명화 이름 매핑: {'삼성증권': 'L사', '삼성전자': 'O사', '삼성바이오로직스': 'B사'}\n",
      "Row 75000 after anonymization - 기업명: B사, full_text: 코로나19 이후 증시 키워드는…언택트·초격차 기술력·풍부한 현금 유승민 L사 투자전략팀장은 30일 . 위기 이후 승자 독식 현상이 더 강해질 가능성이 높기 때문에 탁월한 기술력과 경쟁력을 갖춘 글로벌 기업에 주목해야 한다. 불황을 잘 견디려면 부채가 적고 현금 보유가 많은 기업이 유리하다고도 했다. 비대면 환경에 탄력적으로 적응할 수 있는지도 중요하다. 삼성증권은 이런 기준에 따라 O사. 삼성바이오로직스를 코로나19 사태 이후 유망주로 꼽았다. 최근 일부 증권사가 반도체 최선호주를 삼성전자에서 SK하이닉스로 변경했지만 삼성증권은 기존 입장을 유지했다. 삼성전자가 초격차 기술력이 있는 데다 100조원이 넘는 현금을 보유하고 있다는 점을 이유로 들었다. 카카오는 대장주 네이버를 제치고 관련 언택트 비즈니스와 관련해 가장 유망한 종목으로 꼽혔다. 카카오는 계열사가 90개에 달할 정도로 관련 사업을 적극 개척하고 있다. 바이오 분야에서는 삼성바이오로직스를 추천했다. 현재 영업이익은 셀트리온이 더 내지만 삼성바이오로직스가 하는 원료의약품 수탁생산. 사업이 유망하다는 이유에서다. 하이투자증권은 삼성SDS에 관심을 가져야 한다는 보고서를 냈다. 클라우드 및 스마트팩토리 체제 구축 사업이 유망하다는 근거를 들었다. 이상헌 하이투자증권 연구원은 . 코로나19 사태 이후에는 생산과 소비 측면에서 디지털 전환이 가속화할 전망. 기존 시스템을 클라우드 서비스에 연계하는 수요가 폭발적으로 증가할 것. 채상욱 하나금융투자 연구원은 . 가운데서도 비대면과 연관 있는 5세대. 온라인 유통 관련 시설. 바이오산업 시설용 부동산에 투자하는 상품에 투자해야 한다\n"
     ]
    },
    {
     "name": "stderr",
     "output_type": "stream",
     "text": [
      "익명화 진행 중:  89%|████████▊ | 76025/85771 [05:39<00:50, 193.70it/s]"
     ]
    },
    {
     "name": "stdout",
     "output_type": "stream",
     "text": [
      "Row 76000 기업명 -> 익명화 이름 매핑: {'삼성바이오로직스': 'J사'}\n",
      "Row 76000 after anonymization - 기업명: J사, full_text: 與 관심 사건만 수사…윤석열 규정에 따라 처리 그러면서 총장이 관심두는 사건은 무한대 수사. 총장이 관심없는 사건은 6개월만에 전광석화로 끝나는 것이 윤석열 식 수사라고 지적했다. 또 삼성바이오로직스사건 때 중앙일보 인사를 만났는지에 대해서도 물었다. 윤 총장은 옵티머스 사건 자체가 부장 전결 사건이었다고 말했다. 또 삼성바이오로직스사건은 외부에서 심하다 싶을 정도로 강하게 조사했다고 말하며 누구를 만났는지에 대해서는 밝히지 않았다. 이후 박주민 더불어민주당 의원이 검찰보고사무규칙과 부패범죄 수사절차등에 관한 지침 등에 따르면 부패사건의 경우 반부패부장이 수사진행상황에 대해 보고하도록 돼 있다. 그런데 실제 사건에서 야당 정치인에 관련해서는 규정에 따라 이뤄졌는가라고 질문했다. 또 라임 사건에 대해 제대로 알고 있었던 사람은 윤 총장 한 명 뿐이었는데 이런식으로 수사가 진행되는 게 정상인가라고 질문했다. 이에 윤 총장은 이미 공개된 사건은 반부패부장을 거쳐 보고하지만 초기 첩보 단계에는 직보하는 경우가 꽤 있다고 답했다. 또 반부패부는 총장의 참모부서고 검사장이 직보하는 이유는 참모와 공유하지 말아달라는 뜻이라고 밝히기도 했다. 박주민 의원은 총장이 책임져야 할 때는 규정을 방패삼아 피하고 그렇지 않을 때는 규정을 어겨도 되는 것인가라고 반문하자 윤 총장은 검사장이 총장에게 직보하는 것을 참모와 나누지 않는다. 첩보단계부터 다 보고하는 것은 없다. 이후 수사 지시를 하면 그 때 부터는 보고체계대로 올라온다고 답했다\n"
     ]
    },
    {
     "name": "stderr",
     "output_type": "stream",
     "text": [
      "익명화 진행 중:  90%|████████▉ | 77030/85771 [05:44<00:47, 182.57it/s]"
     ]
    },
    {
     "name": "stdout",
     "output_type": "stream",
     "text": [
      "Row 77000 기업명 -> 익명화 이름 매핑: {'삼성증권': 'U사', '셀트리온': 'F사', '삼성바이오로직스': 'P사'}\n",
      "Row 77000 after anonymization - 기업명: P사, full_text: 공매도 쏟아진 바이오…삼바·F사 주가는 희비 교차 4일 한국거래소에 따르면 3일 기준 셀트리온의 공매도 거래대금은 226억원으로 전체 종목 가운데 두번째로 많았다. 삼성바이오로직스로 74억원을 기록하며 상위권에 자리잡았다. 지난달 일평균 거래대금으로 봐도 셀트리온은 181억원. 삼성바이오로직스는 129억원에 달했다. 통상 바이오 종목은 대표적은 성장주로 꼽히며 높은 가격 밸류에이션을 적용받는다. 공매도의 주요 표적이 되는 종목이다. 거센 공매도 공격에도 불구하고 P사 주가는 선방했다. 공매도가 재개된 지난달 초 주가가 76만원선까지 하락했다. 이후 삼성바이오로직스가 화이자의 신종 코로나바이러스 감염증. 백신 생산한다는 소식에 급등했지만 사실이 아닌 것으로 밝혀지면서 주가가 크게 빠졌다. 하지만 이후 상승폭을 키워오면서 4일 84만원에 거래를 마쳤다. 공매도 재개 후 10. 반면 셀트리온은 지루한 횡보를 이어오고 있다. 공매도 재개된 지난달 3일 이후 뚜렷한 급등락 없이 26만원 내외에서 머무르고 있다. 삼성바이오로직스의 상승세는 코로나19 백신 생산에 따른 성장세가 기대되기 때문이다. 삼성바이오로직스는 지난달 한미 정상이 . 한미글로벌 백신 파트너십. 구축에 합의하면서 모더나의 백신 완제품 수억도즈를 위탁 생산 계약을 체결한 바 있다. 모더나의 백신은 mRNA. 플랫폼을 활용해 개발된 제품이다. 뿐만 아니라 mRNA 백신 원료의약품까지 사업영역을 확대한다. 지난 31일 mRNA 백신 원료의약품 생산 설비를 인천 송도 기존 설비에 증설한다고 밝힌 바 있다. 서근히 U사 연구원은 mRNA 치료제는 코로나19 백신 뿐 아니라 인플루엔자 백신 등 다양한 영역에서 활용될 것으로 기대된다면서 항체의약품 CMO 이상의 매출이 기대된다고 설명했다. 삼성증권은 삼성바이오로직스의 목표주가로 100만원으로 제시했다. 셀트리온은 코로나19 치료제를 개발하면서 시장의 관심이 시들했다. 다만 앞으로 1분기 부진했던 바이오시밀러 제품 매출이 되살아나면서 높은 실적 성장세를 기록하면 투자자들의 관심이 다시 집중될 것이란 분석이 나온다. 셀트리온은 올 2분기 매출과 영업이익 모두 큰 폭으로 증가할 전망이다. 증권가에선 셀트리온이 2분기 매출이 전년 동기보다 25. 증가한 2375억원을 기록할 것으로 예상했다. 이지수 KTB투자증권 연구원은 셀트리온의 램시마의 매출이 본격화하고 . 가 유럽 출시되면서 향후 실적을 더욱 견인할 것이라며 2030년까지 매년 1개 이상의 바이오시밀러를 출시해 매출을 나날이 늘어날 것이라고 분석했다. KTB투자증권은 셀트리온의 목표주가로 35만원을 내놨다\n"
     ]
    },
    {
     "name": "stderr",
     "output_type": "stream",
     "text": [
      "익명화 진행 중:  91%|█████████ | 78030/85771 [05:49<00:36, 210.03it/s]"
     ]
    },
    {
     "name": "stdout",
     "output_type": "stream",
     "text": [
      "Row 78000 기업명 -> 익명화 이름 매핑: {'에스디바이오센서': 'A사', '카카오페이': 'Q사', '크래프톤': 'S사', '삼성바이오로직스': 'F사', 'SK바이오팜': 'U사'}\n",
      "Row 78000 after anonymization - 기업명: F사, full_text: 사라진 IPO 우리사주 ‘대박 꿈’… 빚방석 내몰린 ‘영끌 직원들’ 2020년과 지난해 증시 호황기에 직원들의 . 꿈을 꾸게 했던 우리사주 청약이 이제는 . 한때 수십억원의 수익을 얻게 해준 우리사주가 국내 증시가 급락하면서 보호예수에 묶여 차익실현을 못한 직원들에게 외제차 한대 값에 달하는 손실을 안겨주고 있기 때문이다. 14일 증시에서 S사 주가는 26만1000원으로 마감됐다. 전날에 비해 1000원 상승했지만 공모가가 49만8000원인 것을 고려하면 47. 크래프톤은 상장 전부터 게임업계 1등으로 기대를 모았다. 상장 3개월 만에 58만원으로 최고가를 터치하면서 우리사주에 청약한 직원들도 함박웃음을 지었다. 하지만 이후 꾸준히 내리막길을 걷더니 공모가의 절반으로 내려왔다. 우리사주 청약률이 저조해 배정예정물량. 인 35만1525주만 배정되면서 그나마 손실을 입은 직원은 많지 않다. 그럼에도 청약에 들어간 직원들은 모두 마이너스 수익률에 속을 태우고 있다. 현 주가를 감안하면 1인당 평균 손실액은 약 6300만원으로 예상된다. 5억원을 투입해 1년도 안돼 절반인 2억. 3억원대로 줄어든 경우도 있는 것으로 알려졌다. Q사 역시 최근 2대주주 알리페이의 대규모 블록딜 소식에 주가가 큰 폭으로 하락하면서 우리사주에 들어간 직원들이 분통을 터뜨리고 있다. 이달 초까지만 해도 10만원 선이었던 주가는 공모가. 를 밑돌며 7만7000원까지 떨어졌다. 카카오페이는 기업공개. 과정에서 우리사주조합에 340만주. 총 3060억원어치의 공모주를 배정한 바 있다. 카카오페이의 당시 직원수. 금액으로 보면 직원 1인당 3억6823만원에 달한다. 상장 직후 24만8500원까지 오르면서 직원당 6억4850만원의 수익이 났다. 하지만 지금은 공모가 대비 14. 가량 빠지면서 직원당 약 5000만원의 손실이 난 상태다. 순식간에 계좌에서 7억원 가까이가 날아간 것이다. 카카오페이의 한 직원은 주변에 F사. U사 등을 다니던 친구들이 우리사주로 돈을 많이 벌었다는 말에 솔깃해서 우리사주에 . 해서 들어갔다면서 과거 주가가 급등했을 때 퇴사해서 차익을 실현했어야 하나 후회가 되기도 한다고 전했다. 3만9000원에 상장한 카카오뱅크도 현재 주가가 3만5500원으로 9. 고점 9만4400원 대비 현재 62. 이 외에도 A사. 등 지난해 IPO를 달궜던 대어들이 모두 공모가 대비 하락 중이다. 한편 직원들은 대출을 받아 투자한 경우가 많아 불안감이 커지고 있다. 우리사주를 매수한 경우 담보비율을 유지하지 못하면 주식이 강제로 처분되는 반대매매를 당할 수 있기 때문이다. 주가가 공모가 대비 40. 이상 떨어지면 담보유지 비율을 충족하지 못한다. 다만 한국증권금융에서 빌린 경우엔 바로 반대매매가 발생하진 않는다. 그 대신 추가로 담보를 납부하거나 대출금을 갚아야 한다. 담보 부족을 해결하지 못하면 그때서야 담보로 설정된 증권이 임의처분될 수 있다. Q사 관계자는 대출을 상환한 직원도 있어 지금 상황에선 주가가 5만원대로 내려가면 담보율 80. 이하로 떨어진다며 만일 이 조건에 도달하게 되면 우리사주조합과 논의해 지원을 검토할 예정이라고 전했다.\n"
     ]
    },
    {
     "name": "stderr",
     "output_type": "stream",
     "text": [
      "익명화 진행 중:  92%|█████████▏| 79023/85771 [05:54<00:34, 193.30it/s]"
     ]
    },
    {
     "name": "stdout",
     "output_type": "stream",
     "text": [
      "Row 79000 기업명 -> 익명화 이름 매핑: {'안동시': 'Q사', 'SK바이오사이언스': 'J사', '셀트리온': 'X사', '삼성바이오로직스': 'K사'}\n",
      "Row 79000 after anonymization - 기업명: K사, full_text: 위탁생산선 ‘K-바이오’ 저력… 백신 수출 5억弗 사상최대 [연중기획 - 포스트 코로나 시대 신약 개발과 연구에 투자를 확대하는 한편. 분야의 급성장을 통해 글로벌 시장에서도 . 의 저력을 떨치는 중이다. 26일 보건복지부와 관련 업계에 따르면. 국내 업체 중 삼성바이오로직스와 SK바이오사이언스가 CMO 방식으로 코로나19 백신을 생산하고 있다. 삼성바이오로직스는 미국 제약사 모더나로부터 백신 원료를 공급받아 충진. 포장 등의 과정을 통해 완제품을 만들어낸다. CMO 계약 5개월 만인 지난해 10월 112만도즈를 시작으로. 현재는 국내 공급용 초도 생산물량 243만5000도즈 출하를 마쳤다. 앞으로도 계속 생산량을 늘려 연내 수억도즈 분량을 생산할 계획이다. SK바이오사이언스는 지난해 아스트라제네카 백신을 위탁 생산한 데 이어 올해 들어서는 미국 제약사 노바백스가 개발한 코로나19 백신을 원액 생산부터 완제품 출시까지 담당하고 있다. 한미약품도 최근 인도 제약사 자이더스캐딜라에서 개발된 코로나19 백신 자이코브디 생산계약을 체결했다. 경북 Q사 J사 공장. 연합뉴스 위탁생산 물량이 급증하면서 지난해 우리나라 백신 수출 실적은 5억2000만달러로. 사상 최대치를 달성했다. 불과 1년 만에 3배나 증가한 수치다. 코로나 치료제 생산도 국내 업체들의 선전이 이어지는 추세다. 동방에프티엘은 MSD가 개발한 먹는 코로나19 치료제 몰누피라비르. 의 복제약 생산에 들어갈 예정이다. 국내 제약사 3곳이 생산하는 물량은 우리나라에서 사용되는 것은 아니지만. 저소득 국가를 포함한 총 105개국에 공급된다. X사 코로나19 치료제인 렉키로나 모습. 대구연합뉴스 셀트리온의 경우 지난해 항체치료제 렉키로나를 개발했다. 국내는 물론 유럽 시장에서도 정식 판매허가를 얻어 지난해 항체치료제 렉키로나를 빠르게 개발했고. 국내를 넘어 유럽에서 정식 판매허가를 얻어내는 쾌거를 이뤘다. 오미크론 등 변이 바이러스에 대응하기 위해 렉키로나 성분에다 변이 바이러스 대응력이 가장 뛰어난 것으로 확인된 후보항체 . 물질을 더한 칵테일 흡입제 치료제도 개발 중이다. 현재 판매 중인 주사형 외에 흡입형 치료제까지 상용화되면. 재택치료 환자들까지 손쉽게 치료제를 이용할 수 있을 전망이다. 정부는 기업이 먹는 치료제를 신속하게 생산해 안정적으로 공급할 수 있도록 관계부처. 를 구성하기로 했다.\n"
     ]
    },
    {
     "name": "stderr",
     "output_type": "stream",
     "text": [
      "익명화 진행 중:  93%|█████████▎| 80025/85771 [05:59<00:26, 214.41it/s]"
     ]
    },
    {
     "name": "stdout",
     "output_type": "stream",
     "text": [
      "Row 80000 기업명 -> 익명화 이름 매핑: {'삼성전자': 'M사', '삼성엔지니어링': 'X사', '삼성바이오로직스': 'K사'}\n",
      "Row 80000 after anonymization - 기업명: K사, full_text: 이재용 이곳에 삼성 미래 달렸다…2조 투자 '초강수' [정지은의 산업노트 2011년 삼성바이오로직스를 설립해 바이오의약품 위탁 개발. 10년 만인 올해 이 시장 1위에 올랐다. 삼성의 바이오 중심 신사업 전략이 가속 페달을 밟는 모양새다. 세계 최대 생산시설 구축2조 투자삼성바이오로직스는 11일 인천 송도에서 세계 최대 바이오의약품 생산시설인 . K사 4공장. 4공장은 이날부터 전체 생산능력의 4분의 1 수준에 대한 부분 가동에 돌입했다. 연간 생산능력은 올해 6만L 수준으로 시작해 내년 완전 가동으로 총 24L까지 확대하기로 했다. 투자 금액은 1조7400억원에서 2조원으로 늘렸다. 삼성은 이번 4공장에 이어 5공장. 6공장 건설도 추진한다. 생산 능력과 기술을 고도화해 . 경쟁력을 확고히하겠다는 목표다. 이날 준공식에는 이재용 M사 부회장이 참석했다. 이 부회장이 K사 사업 현장을 방문한 것은 2015년 12월 3공장 기공식 이후 7년 만이다. 4공장 준공식에서도 이 부회장은 바이오 사업 투자 의지를 거듭 강조한 것으로 전해졌다. 이 부회장이 2014년께 본격 경영에 나선 이후부터 삼성의 대규모 투자 계획 발표 때마다 바이오 사업은 중요 미래 먹거리로 꼽혔다. 바이오를 집중 육성하겠다는 이 부회장의 의지가 큰 것으로 안다. 이 부회장은 2015년 중국 보아오포럼에 참석했을 때도 . 바이오 융합을 통한 혁신에 큰 기회가 있을 것으로 보고 있다. 혁신을 통해 더 많은 사람들이 더 나은 의료 서비스를 더 적은 비용으로 이용하는 것이 가능해질 것. 삼성은 앞으로도 바이오 사업에 공격적으로 투자한다는 방침이다. 특히 바이오시밀러 파이프라인 확대를 추진하면서. 미래 성장동력으로 바이오 사업을 육성할 계획이다. 삼성바이오로직스가 2032년까지 바이오 사업에 투자하기로 한 규모는 7조5000억원에 이른다. 4000명 이상 인력을 직접 고용하면서 경제적 효과를 창출한다는 구상이다. 산업계에선 이 부회장이 연일 현장경영 행보를 이어가는 것을 주목하고 있다. 이 부회장은 지난 8월 광복절 특별복권 이후 주요 삼성 계열사 사업장을 찾아다니고 있다. 8월19일 M사 기흥. 화성캠퍼스를 시작으로 X사. 이 부회장은 각 사업장에서 사업 현안을 점검하면서 미래 전략에 대한 의견을 낸 것으로 알려졌다. 그가 회장 취임을 앞두고 주요 사업 현장을 챙긴 것으로 해석하는 시각이 지배적이다. 이 부회장은 오는 25일 이건희 회장 2주기를 계기로 . 등 새로운 비전을 발표할 것이란 관측도 나온다. 발표 시점으로 11월 1일 M사 창립기념일. 11월 17일 이병철 회장 35주기 등도 거론된다.\n"
     ]
    },
    {
     "name": "stderr",
     "output_type": "stream",
     "text": [
      "익명화 진행 중:  94%|█████████▍| 81031/85771 [06:04<00:22, 208.28it/s]"
     ]
    },
    {
     "name": "stdout",
     "output_type": "stream",
     "text": [
      "Row 81000 기업명 -> 익명화 이름 매핑: {'삼성바이오로직스': 'S사'}\n",
      "Row 81000 after anonymization - 기업명: S사, full_text: 삼성액티브운용, 액티브 운용사로 '홀로서기'…민수아 대표 고객 자산 증대 기여할 것 민수아 삼성액티브자산운용 대표가 3일 오전 서울 여의도 한국거래소 1층에서 열린 . 에서 그간의 노하우와 운용 역량을 결집해 세상에서 꼭 필요한 상품을 만들겠다며 액티브 ETF를 통해 투자자에게 꼭 필요한 포트폴리오를 담아서 고객 자산 증대에 기여할 것이라고 밝혔다. 삼성액티브자산운용은 이날 액티브 상장지수펀드. KoAct 바이오헬스 케어 액티브. 민 대표는 첫 상품으로 바이오헬스케어 액티브 ETF를 선보인 이유에 대해 국내 상장된 바이오헬스케어 패시브 ETF는 시가총액에 따라 종목이 구성되다 보니 S사. 셀트리온의 비중이 40. 이상이라며 ETF 구성 종목이 굉장히 많아 보이지만. 실제로는 이 두 종목의 주가에 따라 ETF 수익률이 결정된다고 설명했다. 그는 바이오헬스케어 섹터는 성장도 빠르지만. 산업간 융합도 빠르다. 투자 매력도가 높은 종목이. 잘 안보일 수 있다며 그런 측면에서 액티브 ETF가 좋은 주식을 미리 발굴해서 투자하는데 훌륭한 수단이 될 것으로 생각한다고 말했다. KoAct 바이오헬스케어 액티브 ETF는 기존 패시브 ETF에서 볼 수 없었던 미용. 의료기기 종목 등이 포함돼 있는 것이 특징이다. 민 대표는 안티에이징 회사도 바이오헬스케어라고 생각한다. 그쪽 관련 기업에도 투자하고 있다며 이밖에 디지털 헬스케어와 관련해 혈당 측정하는 기업이나. 약 포장 기술에서 선진화된 바이오 기업 등 기존 ETF에선 담고 있지 않고. 지수에도 없는 종목들을 포함하고 있다고 설명했다. 삼성액티브자산운용은 향후 회사가 중요하다고 생각하는 미래 변화인 고령화 사회. Aging Society. Climate Crisis. 를 중심으로 상품을 선보일 예정이다. 액티브 운용 전략에 특화된 전략형 ETF 출시도 계획하고 있다. 민 대표는 향후 시장의 흐름은 3가지 측면에서 변화가 이뤄질 것이라며 먼저 선진국의 인국 고령화에 따라 헬스케어에 대한 지출 증가하고. 기업들이 수요에 맞춰 제약. 서비스 등을 개발할 것으로 예상한다. 인구 고령화가 로봇산업도 촉진시킬 것이라고 말했다. 이어 그간 기후위기에 대한 투자는 태양광. 신재생 에너지 등에 국한됐다. 앞으로는 기반시설 등 투자와 기술개발이 더 광범위하게 이뤄질 것으로 예상해 투자 관점에서 매력적인 기회가 생길 것이라며 기술 측면에서 향후 핵심적인 기회는 인공지능. 챗 GPT 등으로 급속하게 발전할 것으로 예상한다고 설명했다. 민 대표는 지난 2017년 국내 주식 운용 라이선스를 가지고 삼성자산운용에서 분사했다. 최근에는 금융당국으로부터 종합자산운용사 인가를 받았다. 원론적으로는 모든 자산을 운용할 수 있게 된 것이라며 당분간은 글로벌을 포함한 액티브 주식. 특히 액티브 주식 ETF 전문 운용사를 목표로 하고 있다고 말했다.\n"
     ]
    },
    {
     "name": "stderr",
     "output_type": "stream",
     "text": [
      "익명화 진행 중:  96%|█████████▌| 82022/85771 [06:09<00:19, 189.07it/s]"
     ]
    },
    {
     "name": "stdout",
     "output_type": "stream",
     "text": [
      "Row 82000 기업명 -> 익명화 이름 매핑: {'포스코인터내셔널': 'C사', '포스코케미칼': 'T사', '포스코 홀딩스': 'N사'}\n",
      "Row 82000 after anonymization - 기업명: N사, full_text: 포스코 지주사가 뭐길래…노조도 소액주주도 반발 하지만 이사회 의결이 나온 이후부터 포스코는 계속해서 이해관계자들의 불만으로 진통을 겪고 있습니다. 어떤 주장들이 나오는지 살펴보겠습니다. 포스코의 지주사 전환 계획은. 들어가기 앞서 먼저 포스코의 지주회사 체제로의 전환 계획부터 보시죠. 포스코는 지난달 이사회에서 포스코홀딩스를 지주회사로 두고. 그 밑에 철강사업회사인 포스코와 T사. C사 등을 배치하는 안건을 의결했습니다. 지주사 체제로 바뀌는 과정에서 포스코는 인적 분할과 물적 분할 중 . 둘은 기업을 분할하는 대표적인 방식인데요. 인적 분할과 물적 분할의 가장 큰 차이는 기존 주주가 신설 법인의 주식을 가질 수 있냐입니다. 만약 A라는 회사가 인적 분할을 해서 각각 50. 를 가진 B와 C로 나뉠 경우. A회사의 지분 10을 갖고 있던 주주는 쪼개진 B와 C사의 지분을 각각 5씩 갖게 됩니다. 그러나 A라는 회사가 위와 똑같은 조건으로 물적 분할을 할 경우. A회사 주주가 가지고 있던 지분 10은 B와 C에서 각각 갖는 게 아니라. B사의 주식 10주만 갖게 되죠. 대신 C사는 B의 100. 자회사로 종속되게 됩니다. 인적 분할은 기존 주주가 분할된 두 상장사의 주주가 되지만. 물적 분할은 기존 주주가 분할된 한 개의 상장사의 주주가 되고 나머지 비상장 회사는 분할된 상장사의 계열사가 되는 겁니다. 여기서 A는 기존의 포스코. B는 지주회사가 된 포스코홀딩스. C는 철강사업부문의 신설 자회사 포스코가 되겠죠. 소액주주들 이게 무슨 ESG 경영이냐그런데 만약 C사가. 그러니까 포스코가 기업공개. 를 통해 상장되면 어떤 일이 벌어질까요. C사에 새로운 주주들이 들어오면서 A사 주주들의 지분가치가 희석됩니다. 모회사의 지분이 낮아지게 되니깐요. 이 때문에 소액주주들이 뿔이 난겁니다. 서울 강남구 포스코센터 앞에서 열린 소액주주연합회 집회 . 포스코 소액주주연합은 포스코 센터 앞에서 반대 집회를 열었는데요. 이들은 포스코의 물적 분할은 소액주주들의 주주평등권을 침해하고 ESG 경영에 위배되는 잘못된 결정이라고 주장했습니다. 주주들은 2007년 77만 원 수준이었던 포스코 주가가 현재 3분의 1수준인 20만. 30만 원 초반대를 유지하고 있다면서 실적은 좋은데 주가는 15년보다 참담한 수준인데도 물적 분할을 단행하려고 한다며 포스코가 배신감과 절망감을 안겨줬다고 비판했죠. 안 그래도 주가가 회복할 기미를 보이지 않는데 물적 분할해서 주가가 더 떨어지는 것 아니냐는 겁니다. 자회사 상장을 두고도 반대 목소리가 컸는데요. 포스코가 물적 분할 후에도 자회사 지분을 상장하지 않겠다고 발표했습니다만. 소액주주들을 달래기엔 부족했습니다. 소액주주연합회는 이는 언제든 이사회 결정으로 번복할 수 있는 상황이며. 고 발표했지만 아직도 어떤 조치인지 밝히지 않았다며 포스코의 최소한의 대응을 지적했습니다. 또 포스코가 주주들을 달래기 위해 내놓은 자사주 소각도 일정이나 수량을 현재까지 확정하지 못한 점도 공분을 사고 있습니다. 이같은 주주들의 불만에 대해 경제개혁연대가 해결책 제시에 나섰는데요. 경제개혁연대는 포스코에 공문을 보내 포스코홀딩스 정관에도 철강 자회사 정관에 적힌 . 원칙을 반영할 것을 요청했습니다. 경제개혁연대는 포스코홀딩스는 1인 주주로서 언제든 포스코 정관을 변경할 수 있다는 점. 포스코홀딩스가 자회사 비상장 정책을 제시하지 않은 점. 다른 비상장 자회사 및 손자회사 등에 관해서는 아무런 언급이 없다는 점 등으로 볼 때 미흡한 조치라고 평가했습니다. 구체적으로 오는 14일까지 포스코홀딩스의 정관에 반영할지 여부를 공시를 통해 알려달라고 요청한 상태인데요. 주주들의 관심도 그날 공시에 쏠릴 것으로 보입니다. 포스코 노동조합 중대재해처벌법 피하려는 꼼수서울 강남구 포스코센터 앞에서 열린 금속노조 포스코지부 기자회견 . 자료금속노조 포스코지부. 포스코 지부 노동조합에서도 목소리를 냈습니다. 하지만 주주들과는 결이 살짝 달랐는데요. 금속노조 포스코지회 측은 회사가 지난해 12월 이사회를 통한 물적 분할을 포스코 직원들의 의사와는 상관없이 독단적으로 진행했다고 비판했습니다. 포스코가 밝힌 지주사 전환을 통해 본원 사업인 철강 외에도 이차전지소재. 인프라 등의 성장을 추진할 것이라는 목표도 포스코 직원들을 설득시키기엔 역부족이라고 설명했죠. 새롭게 설립될 모회사. 포스코홀딩스 본사는 서울에 위치할 예정이고 포스코는 자회사로 전락해버려 포스코 광양. 포항제철소 직원들의 위상이 크게 하락할 것이란 우려도 내비쳤는데요. 무엇보다 오는 2월부터 시행될 중대재해처벌법을 피하려는 꼼수 아니냐는 지적이 나왔습니다. 노조 측은 경영과 투자 결정은 포스코홀딩스에서 하고. 공장운영이나 책임은 포스코와 계열사가 떠안게 돼 최정우 회장의 꼼수가 포스코 지주사 전환으로 이어졌다는 의심을 지우기 어렵다는 입장을 냈습니다. 지주회사 체계로 전환하려는가. 그러나 포스코도 여러 가지 대안을 제시하면서 물적 분할에 나서는 이유가 있습니다. 이론적으로 물적 분할은 조직의 효율성을 제고하고 신사업의 인력구조와 보상체계를 갖추고 외부의 자본을 끌어들이기 위함에 특화돼 있기 때문이죠. 물론 물적 분할로 주가가 급락한 사례가 있긴 하지만. 이 같은 사례는 보통 오너 리스크가 있는 기업의 경우나 메인 비즈니스가 물적 분할 된 경우고요. 크게 보면 주가 반응에 긍정적인 결과를 나타낸 곳도 있어서 주가 반응에도 긍정적이란 의견이 있습니다. 포스코의 경우 오너 없이 전문 경영인 체계다 보니 경영권을 강화하려는 이가 없어 사적 이익을 위한 것이 아니기 때문에 긍정적인 결과를 불러올 수 있다는 의견도 나왔습니다. 또 그동안 포스코가 철강과 같은 전통 사업들이 섞여 있어 주식시장에서 제대로 된 가치평가를 받지 못했기 때문에 이번 물적 분할로 제대로 된 기업 가치를 평가받기 위함이라는 분석도 있고요. 자회사 상장을 두고도 박경서 고려대 경영학과 교수는 최근 기업들은 고평가된 상태에서 IPO에 나서는 등 가격을 제대로 평가받을 수 있는 시기에 상장하기 때문에 저평가에 대한 우려는 적은 편이라고 전망했습니다.\n"
     ]
    },
    {
     "name": "stderr",
     "output_type": "stream",
     "text": [
      "익명화 진행 중:  97%|█████████▋| 83033/85771 [06:13<00:11, 234.33it/s]"
     ]
    },
    {
     "name": "stdout",
     "output_type": "stream",
     "text": [
      "Row 83000 기업명 -> 익명화 이름 매핑: {'포스코 홀딩스': 'X사'}\n",
      "Row 83000 after anonymization - 기업명: X사, full_text: 비상경영 포스코…매출 늘어도 현금흐름 87% '뚝' 최근 사상 초유의 고로 중단 사태까지 터지며 총체적인 경영 악화가 가속화하고 있다는 평가다. 13일 한국거래소에 따르면 포스코홀딩스 주가는 올해 들어 9. 지난해 5월 기록한 고점 대비 40. 주가가 하락한 상태다. 수급 상황도 좋지 않다. 방향성 투자에 중요한 외국인투자자들은 올해 1. 8월까지 포스코홀딩스 주식을 순매수했지만 지난 7일부터 순매도로 전환했다. 기관투자자들도 올해 누적 약 2010억원을 팔아치웠다. 앞서 포스코홀딩스는 올해 초 주주총회에서 물적분할을 통한 지주사 전환 계획을 통과시켰다. 고질적 저평가 문제에서 벗어나 2차전지. 수소 등 신성장 사업의 성과를 시장이 충분히 인식할 수 있게끔 유도하기 위해서였다. 하지만 지주사 전환 이후에도 주가는 매크로. 불확실성 확대 및 상승 모멘텀. 부재로 지지부진한 모습이다. 올해 들어 철강 업황이 둔화되고 전 세계 경기 침체 우려가 본격화되면서 포스코그룹은 지난 7월 전사 차원에서 . 체제로 전환한 바 있다. 이러한 포스코그룹의 위기의식은 지주사인 포스코홀딩스의 이익. 현금흐름 둔화 현상에서도 포착된다. 반기보고서에 따르면 올해 상반기 연결기준 매출액은 44조3481억원으로 전년 동기. 같은 기간 영업이익도 16. 매출액과 이익이 동시에 성장하는 것처럼 보이지만 구체적으로 보면 2분기부터 포스코홀딩스의 이익 성장은 둔화되는 모습을 보인다. 실제 올해 2분기 영업이익은 2조982억원으로 지난해 2분기. 금융정보업체 에프앤가이드에 따르면 3. 4분기 추정치를 포함한 올해 전체 추정 영업이익은 전년 대비 17. 감소할 것으로 전망된다. 판관비 부담도 덩달아 늘고 있다. 중요한 건 현금흐름이 악화되고 있다는 점이다. 올해 상반기 포스코홀딩스의 영업활동 현금흐름은 2837억원으로 전년 동기. 포스코홀딩스의 반기보고서 주석에 따르면 올해 상반기 매출채권. 재고자산은 지난해 말 대비 각각 22. 소위 운전자본으로 불리는 매출채권. 재고자산이 늘게 되면 그만큼 현금흐름이 악화된다. 당장 돈을 벌어들이기보다 외상을 해주거나 창고에 재고가 쌓이고 있다는 뜻이기 때문이다. 재고자산 회전율도 지난해 말. 법인세 부담도 늘었다. 포스코홀딩스 측은 지난해 사상 최대 이익을 내면서 법인세 납부액이 1조8591억원 늘어 현금흐름 감소에 영향을 미쳤다고 밝혔다. 포스코홀딩스의 지배주주 순이익률도 장기적으로 떨어지는 추세다. 지배주주 순이익은 종속회사의 순이익을 지분 비율만큼 반영하는 것으로 종속회사들의 수익성을 나타내는 지표이기도 하다. 케이프투자증권에 따르면 포스코홀딩스의 지배주주 순이익률은 2021년 8. 영향에 따른 고로 가동 일시 중단이 실적에 얼마나 영향을 미칠지도 주목된다. 증권업계에선 고로가 한 달만 쉬어도 매출 손실액이 1조원을 넘길 것으로 추정한다. 하루당 손실 규모는 약 340억원이다. 고로가 재가동에 돌입했지만 쇳물을 뽑아내는 작업 외 후공정이 얼마나 빠르게 복구돼 제품 생산에 차질이 없어지느냐가 실적 방어의 관건이 될 것으로 보인다. 고로가 예상보다 빨리 정상 가동된 만큼 더 이상 불확실성 확대는 없을 것이란 시선도 있다. 다만 박현욱 현대차증권 연구원은 태풍 때문에 생긴 가동 중단. 재고 손실 등 피해는 불가피하다면서도 설비 자체 영향이 없고 일정 시간 내 정상화된다면 주가 조정은 제한적이라고 분석했다.\n"
     ]
    },
    {
     "name": "stderr",
     "output_type": "stream",
     "text": [
      "익명화 진행 중:  98%|█████████▊| 84031/85771 [06:18<00:08, 203.81it/s]"
     ]
    },
    {
     "name": "stdout",
     "output_type": "stream",
     "text": [
      "Row 84000 기업명 -> 익명화 이름 매핑: {'대상': 'S사', '포스코 홀딩스': 'Z사'}\n",
      "Row 84000 after anonymization - 기업명: Z사, full_text: 성과 없다는 지적에…국내 기업 부담 최소화 합의 양국 주무 장관이 만나 공동선언문을 발표했지만. 원론적인 협의를 하겠다는 정도에서 별다른 진전은 없습니다. 정부가 해결책을 들고 오지 못했다는 지적에 대해 어떻게 설명하고 있나요. 기자대통령실은 정상회담은 구체적인 내용을 합의하는 자리가 아니라며 공통적인 인식을 확인하는 것이 중요하다고 밝혔습니다. 이어 한국 기업의 부담과 불확실성을 줄여준다는 방향에 대해 명확하게 합의를 했다며. 바이든 대통령의 명확한 지침이 확인됐다고 설명했는데요. 명확한 해결책이 발표된 것은 아니지만. 방향성을 공유했다는 것입니다. 다만 기술적이고 세부적인 국가 간의 협의가 필요하다고 부연 설명했는데요. 사실상 과제가 남았음을 시사한 것입니다. 앵커브리핑 이후 이뤄진 양국 장관 간의 회동에서는 어떤 얘기가 오갔습니까. 기자이창양 산업통상자원부 장관과 지나 러몬도 미국 상무부 장관은 회담을 가진 후 반도체 법과 관련해 공동선언문을 발표했는데요. 반도체 법을 이행하는 과정에서 중국 투자가 제한되고 또 과도한 기업의 정보 제공이 우려되는 가운데 국내 기업의 불확실성을 최소화해 기업에게 우호적인 환경을 조성하기로 합의했습니다. 이창양 장관은 이 자리에서 IRA에 관련해 크게 3가지를 요청했는데요. 오는 2025년부터 해외우려기업에서 조달하는 핵심광물이 배터리에 포함되면 세액공제 혜택을 받을 수 없는 상황에서 S사 기업을 빠르게 정해줄 것과 투자세액공제 적용 시 국내 기업 우선 고려. 핵심광물 FTA 국가 확대를 당부했습니다. 확대 국가로는 인도네시아와 아르헨티나가 거론됩니다. 양국 모두 미국과 FTA를 체결하지 않았지만. 각각 니켈과 리튬이 풍부한데요. 포스코홀딩스는 아르헨티나에 내년 준공을 목표로 리튬 공장을 짓고 있고. SK온은 지난해 에코프로와 인도네시아 니켈 생산법인을 설립해 국내기업의 수혜가 예상됩니다. 다만 IRA와 관련해서는 요청에 그쳤고 구체적 합의에 이르지는 못했다는 한계가 남습니다. SBS Biz 신성우입니다.\n"
     ]
    },
    {
     "name": "stderr",
     "output_type": "stream",
     "text": [
      "익명화 진행 중:  99%|█████████▉| 85034/85771 [06:22<00:03, 220.01it/s]"
     ]
    },
    {
     "name": "stdout",
     "output_type": "stream",
     "text": [
      "Row 85000 기업명 -> 익명화 이름 매핑: {'삼성전자': 'T사', '포스코 홀딩스': 'V사'}\n",
      "Row 85000 after anonymization - 기업명: V사, full_text: “수급 앞 장사 없다”…外人 역대급 매도 ‘포홀’ 주가가 역대급 매수 ‘삼전’보다 5배 더 오른 이유?  [투자360 vs 포스코홀딩스 250. 31일 한국거래소에 따르면 올해 첫 거래일. 부터 8월 29일까지 종목별 거래대금 순위에서 144조9212억원을 기록한 삼성전자가 1위를 차지했다. 바로 뒤 2위는 97조3901억원의 포스코홀딩스 몫이었다. 두 종목이 종목별 거래대금 최상위에 이름을 올린 것은 올해 국내 증시에서 . 외국인 투자자들의 활발한 거래 참여 덕분이다. 삼성전자의 경우 외국인 투자자 순매수액 1위. 종목이자 개인 투자자 순매도액 1위. 종목에 이름을 올렸다. 포스코홀딩스는 반대로 외국인 투자자 순매도액 1위. 개인 투자자 순매수액 1위. 주목할 점은 두 종목 모두 활발한 거래에도 불구하고 주가 변동률에서는 큰 격차가 보인다는 점이다. 연초 대비 기준 시점. 까지 T사 주가가 20. 상승할 때 포스코홀딩스의 주가는 무려 110. 두 종목의 주가 상승률 간 격차는 5. 이런 차이를 만든 가장 큰 요인으로는 바로 . 연초 대비 지난 29일까지 삼성전자와 포스코홀딩스 주식의 회전율은 각각 36. 포스코홀딩스의 회전율이 삼성전자의 무려 6. 투자자별로 좀 더 자세히 회전율을 계산해 보면 수급의 격차는 더 분명히 드러난다. 포스코홀딩스에 대해 10조원 넘게 순매수에 나섰던 개인들의 회전율은 311. 기관 투자자의 주식 거래량까지 모두 더한 전체 회전율을 크게 웃돌았다. 삼성전자에 대해 13조원 가까이 순매수에 나섰던 외국인 투자자의 회전율은 21. 로 전체 회전율에 비해 낮았다. 갇힌 삼전 주가에 투심 . 포스코홀딩스 주가 흐름에도 수급 문제는 결정적인 영향을 미칠 것이란 평가가 나온다. 당장 최근 증권가에선 삼성전자에 대한 목표주가를 잇따라 9만원 이상 수준으로 제시하며 . 글로벌 반도체 업황 반등과 더불어 인공지능. 개발붐에 따른 고성능 반도체 수요가 폭발적으로 증가하고 있다는 이유에서다. 무역협회에 따르면 국내 메모리반도체 수출 증가율. 가 SK하이닉스와 글로벌 시장을 양분하고 있는 AI용 반도체 고대역폭메모리. 에 대한 점유율 확대에 나선 것 역시 주가엔 긍정적 재료란 평가다. T사 주가가 상승세는 커녕 6만원 대로 내려앉은 데는 수급이 발목을 잡았다는 지적이 이어진다. 실제로 지난 28일 T사 거래량. 은 연중 최저치를 기록했다. 한 증권업계 관계자는 . 8월 들어 T사 주가가 종가 기준으로 7만원을 넘은 날은 8월 1일. 연초 대비 주가가 크게 올랐지만 5월 이후 7만3000원 대 이상으로 치고 올라가지 못한 채 꺾이는 모습을 보이며 투심이 식었다. 한 자산운용사 고위 관계자는 . 반도체 업황과 대외 환경. 기업 펀더멘털 등을 분석했을 때 T사 주가는 분명 추가 상승할 동력이 충분하다. 투자 열기가 식어가고 있다는 점은 올해 4분기 또는 연말쯤으로 예상되는 T사 주가의 목표주가 근접 시기를 자꾸만 뒤로 늦출 수 있는 결정적 리스크로 작용할 것. 포스코홀딩스 역시 지금껏 이어왔던 주가 급등세는 잠시 소강상태로 접어드는 . 포스코홀딩스의 거래량은 2차전지 투자붐이 최고조에 도달하며 주가 역시 52주 신고가. 를 기록했던 7월 말에 비해 급감한 상황이다. 일간 평균 거래량이 724만4255주였던 것에 비해 8월 4주차. 일간 평균 거래량은 98만5373주로 7분의 1 수준으로 급감했다. 포스코홀딩스에 대해 투자의견 . 목표주가 45만원을 제시한 백광제 교보증권 연구원은 . 정체성이 철강주에서 친환경 미래 소재 등으로 변모하면서 기존 배수. 상향 요인이 분명하다. 전통적 밸류에이션 방식이 시장 가치 변모를 설명하기엔 아직 힘든 상황. 증권가에선 포스코홀딩스 주가가 충분히 추가 상승할 여지가 있다고 보는 것이 다수 의견이다. 금융정보업체 에프앤가이드가 집계한 국내 증권사들의 포스코홀딩스 목표주가 컨센서스는 72만2500원이다. 29일 종가 기준 주가. 정도 추가 상승 동력이 있다는 것이다. 90만원으로 가장 높은 목표주가를 제시한 최문선 한국투자증권 연구원은 . 2차전지 소재 사업이 포스코홀딩스의 세 번째 도약을 이끌 것인 만큼 밸류에이션 리레이팅은 이제 시작. 전기차 시대를 살아가면서 반드시 투자해야 할 기업\n"
     ]
    },
    {
     "name": "stderr",
     "output_type": "stream",
     "text": [
      "익명화 진행 중: 100%|██████████| 85771/85771 [06:26<00:00, 222.12it/s]\n"
     ]
    },
    {
     "name": "stdout",
     "output_type": "stream",
     "text": [
      "익명화된 데이터가 저장되었습니다: /content/drive/MyDrive/Kwargs/021. 기업적합도 필터/업데이트/A1_remaster_combined_ANONYMIZED.csv\n"
     ]
    },
    {
     "name": "stderr",
     "output_type": "stream",
     "text": [
      "익명화 진행 중:   0%|          | 43/45609 [00:00<03:28, 218.15it/s]"
     ]
    },
    {
     "name": "stdout",
     "output_type": "stream",
     "text": [
      "Row 0 기업명 -> 익명화 이름 매핑: {'삼성물산': 'M사', '한진칼': 'A사'}\n",
      "Row 0 after anonymization - 기업명: M사, full_text: KCGI A사 이사에 위법행위 시정 요청 지난 20일 한진칼은 한진칼에 주주제안을 하기 위해서는 지분 6개월 보유 특례규정을 충족해야 한다면서 KCGI가 주주권 행사할 자격이 없다는 입장을 밝혔다. 한진칼이 주주제안 사항에 대해 이사회의 논의도 이루어지기 전에 회사가 일방적으로 입장문을 발표한 것에 대해 유감을 표한다. 이는 주주총회 안건 상정과 관련한 이사회의 권한과 개별 이사의 권한을 침해한 것으로 한진칼의 이사들이 내부적으로 논의해 회사의 위법행위를 즉시 시정해달라. 한진칼의 입장문에 이사회의 객관적 판단을 저해하는 오류가 있다는게 KCGI측의 설명이다. 주주제안은 상법 제363조의2의 요건을 갖춘 적법한 것. 주주가 상법상 일반규정이 요구하는 요건과 상장회사 특례규정이 요구하는 요건 중 어느 쪽이든 자신이 충족할 수 있는 것에 근거해 소수주주권을 행사할 수 있다는 것은 이미 대법원의 판례가 존재한다. 또 한진칼이 입장문에서 언급한 M사. 엘리엇 사건에 대해서도 입장을 밝혔다. 당시 삼성물산의 이사회는 주식보유기간이 6개월 미만이었던 엘리엇의 주주제안 안건을 임시주주총회의 목적사항으로 올려서 주주들의 판단을 받았다. 한진칼의 입장문은 주주제안에 대한 M사. 이사회의 조치에 관해서는 진실을 숨긴 채 마치 엘리엇의 주주제안 의안의 상정이 거부된 것처럼 사실관계를 왜곡하고 있다. 이사회의 권한을 침해하고 잘못된 사실관계에 기초한 입장문을 언론을 통해 대외적으로 유포해 한진칼의 대외적 공신력을 실추시키는 행위는 묵과할 수 없다. 이사회에서 해당 관련자들에 대해 적절한 조치를 강구해달라. 이데일리 채널 구독하면 꿀잼가득 . 종합 경제정보 미디어 이데일리 . 무단전재 재배포 금지.\n"
     ]
    },
    {
     "name": "stderr",
     "output_type": "stream",
     "text": [
      "익명화 진행 중:   2%|▏         | 1041/45609 [00:05<04:08, 179.56it/s]"
     ]
    },
    {
     "name": "stdout",
     "output_type": "stream",
     "text": [
      "Row 1000 기업명 -> 익명화 이름 매핑: {'삼성물산': 'R사'}\n",
      "Row 1000 after anonymization - 기업명: R사, full_text: 류호정, 이번엔 공영홈쇼핑 채용비리 지적 내 사람이 먼저냐 국회 산업통상자원중소벤처기업위원회 정의당 류호정 의원은 19일 국정감사에서 이같이 지적했다. 류 의원은 이날 질의에서 최창희 공영홈쇼핑 대표가 부적절하게 마케팅본부장을 채용했다고 주장했다. 류 의원에 따르면 공영홈쇼핑은 2018년 마케팅 본부장을 채용하면서 관련 분야 경력이 20년인자 10월 둘째주로 예정된 임용예정일부터 근무가 가능한자 등을 지원 자격으로 내세웠지만. 이 조건에 맞지않는 사람을 채용했다. 채용된 A씨는 관련 경력이 20년에 미치지 못했고. 근무가능일을 11월로 기재했지만 최종 합격했다. 특히 A씨는 삼성물산에 계약직으로 근무했지만 입사지원 서류에는 정규직으로 적어 허위사실을 기재하기도 했다. 이에 대해 최 대표는 A씨의 근무 경력은 19년 9개월로 기준에서 3개월이 부족해 동등한 자격이 있다고 인정되는 자에 해당하는 걸로 간주했다고 해명했다. 계약직을 정규직으로 허위기재한 부분에 대해서는 블라인드 테스트라 정규직 계약직 여부 알 수 없었다면서 경력은 삼성물산과 함께 R사 자회사에 근무한 경력을 합친 것으로 알고 있다. 문제가 없다는 검토를 받았다고 답했다. 그러자 류 의원은 최 대표의 사인이 들어간 경력 산정표와 결재서류를 보여주며 채용 전에 취소 사유를 충분히 알 수 있었다는 증거라고 반박했고. 최 대표는 한번 따져봐야겠다며 한발 물러섰다. 이에 대해 류호정 의원은 최 대표가 문재인 대통령의 . 라는 슬로건을 만든 사람으로 알고 있는데. 사람이 먼저가 아니라 내 사람이 먼저 아니냐고 지적했다 이어 채용된 분이 대표이사 보기에 좋았더라하는 분이라서. 또는 이미 내정한 분이라서 채용한게 아니냐고 추궁했다. 게다가 공영홈쇼핑은 이 채용문제를 제기한 노조위원장에 대해 . 됐던 시간만큼의 급여를 반환하라는 공문을 보내고 고소까지 한 것으로 파악됐다. 국민권익위원회는 면제시간 사용실적 제출 요구와 급여 반환 요구는 이. 사건 신고로 인한 불이익 조치에 해당한다며 근로면제시간 사용실적 소명 요구와 급여반환 요구를 중단할 것을 요구했지만 공영쇼핑은 받아들이지 않았다. 이날 국감에서도 최 대표는 권익위 결정에 동의하지 않는다고 맞섰다\n"
     ]
    },
    {
     "name": "stderr",
     "output_type": "stream",
     "text": [
      "익명화 진행 중:   4%|▍         | 2032/45609 [00:10<03:36, 201.19it/s]"
     ]
    },
    {
     "name": "stdout",
     "output_type": "stream",
     "text": [
      "Row 2000 기업명 -> 익명화 이름 매핑: {'삼성물산': 'M사'}\n",
      "Row 2000 after anonymization - 기업명: M사, full_text: 이재용, 다음주 네덜란드행… ASML과 반도체 장비 공급 협의 재판부는 검찰의 동의를 확인한 뒤 이 부회장이 불출석한 상태로 재판을 진행하기로 했다. 이 부회장의 이번 해외 출장은 네덜란드에 본사를 둔 ASML과의 극자외선. 노광장비 수급 협상을 위한 것으로 알려졌다. ASML은 첨단 반도체 생산에 필수적인 EUV 노광장비를 독점 생산하고 있다. 앞서 이 부회장은 2020년 10월에도 반도체 장비 확보를 위해 ASML 본사를 방문한 바 있다. 최근 전 세계적으로 반도체 수요가 급증하면서 EUV 장비 품귀현상이 나타나고 있다. 1대당 2000억원에 달하는 고가지만 생산 가능 수량이 1년에 약 40대뿐이라 수급난이 심화되고 있다. 삼성전자도 장비 수급에 비상이 걸린 상태여서 이 부회장이 직접 나서 이 문제를 해결하려는 것으로 보인다.\n"
     ]
    },
    {
     "name": "stderr",
     "output_type": "stream",
     "text": [
      "익명화 진행 중:   7%|▋         | 3039/45609 [00:15<02:47, 254.11it/s]"
     ]
    },
    {
     "name": "stdout",
     "output_type": "stream",
     "text": [
      "Row 3000 기업명 -> 익명화 이름 매핑: {'삼성생명': 'L사'}\n",
      "Row 3000 after anonymization - 기업명: L사, full_text: DGB금융, PBR 0.27배..안전한 배당투자처 매력-하나 27배 수준이라 장부가만도 못한 가격이 거래되고 있다는 평가다. 투자의견 매수와 목표주가 1만2000원을 유지했다. 최정욱 하나금융투자 연구원은 이날 보고서에서 . DGB금융은 2분기 순이익이 978억원으로 하나금융투자 예상치에 부합했다. 하락 폭이 다소 컸지만 원화 대출이 3. 증가하면서 그동안 저성장에서 벗어나 2015년 이후 분기 최대 수준의 성장률을 시현한 점이 돋보였다. 조직의 대출 잔액은 1200억원으로 총 대출 증가분의 10. 를 차지해 성장 여력에 대한 기대감이 커지고 있다. 상각 전 실질 부실채권. 순증 규모도 1100억원에 그쳤다. NIM이 전분기 대비 0. 포인트 추가 하락해 순이자이익 개선 폭이 미미했던 점은 아쉽다. 최근 금리 상황을 고려하면 3분기 NIM의 추가 하락이 불가피할 것. MSCI 지수 편출 이슈와 L사. 블록딜 매각으로 인해 3. 6월 외국인들의 매도 공세가 거셌지만 현재는 일단락된 상태. 다른 은행들은 최근에야 외국인 매도세 본격화되고 있다는 점에서 수급상 매를 먼저 맞은 상황. 이상 상향하겠다는 경영진의 의지를 감안하면 올해 주당 배당금은 430원이 예상된다\n"
     ]
    },
    {
     "name": "stderr",
     "output_type": "stream",
     "text": [
      "익명화 진행 중:   9%|▉         | 4040/45609 [00:19<02:46, 250.34it/s]"
     ]
    },
    {
     "name": "stdout",
     "output_type": "stream",
     "text": [
      "Row 4000 기업명 -> 익명화 이름 매핑: {'삼성전자': 'L사', '삼성생명': 'K사'}\n",
      "Row 4000 after anonymization - 기업명: K사, full_text: 생보사, 3·4분기에도 호실적 달성...교보 19%, 삼성 30%,  한화 46%↑ 교보생명은 3분기 누적 당기순이익이 6565억원으로 전년 동기 대비 19. 이상 증가한 호실적을 시현했다. 3분기 누적 당기순이익이 3539억원으로 전년 동기 대비 1127억원. 삼성생명은 L사 특별배당. 연결 이익으로 이차손익이 개선된 결과라고 분석했다. 장래 이익의 흐름을 나타내는 지표인 신계약 가치는 1. 4분기 누적 1조 2378억원이었다. 올해 금리상승 및 건강상품 판매 호조에 따른 영향이 실적에 반영된 결과로 분석된다. 는 전년 동기 2조 400억원 대비 3. 증가한 2조 1160억원을 기록했다. 삼성생명은 9월말 기준 총자산은 336조3000억원. 자본건전성을 가늠할 수 있는 RBC 비율은 311. 로 업계 최고 수준을 유지했다. 3분기 연결기준 누적 영업이익은 9048억원으로 지난해 같은 기간보다 27. 이는 보험료 수익이 증가하는 등 보험 본연의 이익이 견고하게 유지되는 상황에서 우수한 자산운용 능력이 빛을 발하며 호실적을 견인한 것이다. 교보생명의 3분기 기준 지급여력비율. 로 재무건전성 규제 기준을 크게 상회하는 우수한 지표를 나타냈다. 교보생명은 운용자산이익률. 로 높은 수익성을 나타냈으며 전략적 자산배분을 통해 우수한 수익을 창출하고 있다고 설명했다. ESG 중심으로 위험과 기회를 고려하는 등 장기적으로 안정적인 자산운용 전략을 통해. 금융시장의 변동성이 확대되는 국면에서도 업계에서 돋보이는 자산운용 성과를 거뒀다는 분석이다. 교보생명 관계자는 안정적인 보험사업을 기반으로 한 우수한 수익성과 자본적정성에 힘입어 글로벌 신용평가사로부터 보험금지급능력평가 국내 금융사 중 최고등급을 부여 받고 있다며 국내 3대 신용평가사로부터도 최고등급인 AAA를 획득해 안정적인 보험금 지급능력을 인정받았다고 말했다. 또한 세계 3대 신용평가사인 무디스와 피치로부터 각각 보험금지급능력평가 신용등급을 7년 연속 A1. 9년 연속 A을 유지하며 철저한 리스크 관리 능력. 고객 중심 경영을 높게 평가받았다. 한화생명은 수입보험료가 전년 동기 대비 2. 증가한 3조 5035억원을 기록했으며 신계약 APE는 4521억원을 기록하며 전년 동기 대비 8. 이 회사는 코로나19 장기화로 인한 영업환경 악화에도 불구하고 수입보험료와 신계약 APE 증가. 사업비 절감과 운용자산이익률 상승했다고 분석했다. 저축 및 연금 판매 확대가 주 원인으로 일시납 저축 판매 등으로 확보된 물량을 자산 듀레이션 확대를 위한 투자재원으로 활용할 예정이다. 보장성APE는 코로나19가 장기화됨에 따라 10. 감소한 2422억을 기록했으나 업계가 평균 약 17. 감소한 것을 감안하면 전분기 매출수준을 견지한 것으로 볼 수 있다. 한화생명 관계자는 코로나19의 장기화로 어려운 영업환경이지만 당기순이익이 증가하는 등 성장세를 유지하고 있다며 향후 다가올 K. ICS 제도에 맞춰 착실히 준비하고 있으며 금리 상승 기조도 호재로 작용할 수 있을 것이라고 말했다.\n"
     ]
    },
    {
     "name": "stderr",
     "output_type": "stream",
     "text": [
      "익명화 진행 중:  11%|█         | 5039/45609 [00:24<03:03, 220.53it/s]"
     ]
    },
    {
     "name": "stdout",
     "output_type": "stream",
     "text": [
      "Row 5000 기업명 -> 익명화 이름 매핑: {'신한지주': 'M사'}\n",
      "Row 5000 after anonymization - 기업명: M사, full_text: 자본 7천억 확충해 연내 초대형IB 도전 김병철 신한금융투자 대표이사 사장. 은 26일 취임과 함께 연내 초대형 IB에 재도전하겠다는 의지를 밝혔다. 이날 여의도 신한금융투자 본사에서 열린 취임 기자간담회에서 김 사장은 시장에 자본을 공급하고 WM 상품 역할을 하는 발행어음 사업뿐만 아니라 혁신금융. 모험자본 공급을 위해서는 초대형 IB가 돼야 한다면서 구체적 시기는 정해지지 않았지만 연내 초대형 IB가 되기를 기대하고 있다고 밝혔다. 현재 신한금투의 자기자본은 약 3조3000억원으로. 초대형 IB 요건 4조원을 맞추려면 약 7000억원 규모 자기자본 확충이 필요하다. 김 사장은 신한금융그룹 차원에서 신한금투가 성장판 역할을 해야 한다는 게 조용병 . 회장의 생각이라면서 이를 위해 지주에서도 적극적으로 초대형 IB 신청을 검토하고 있다고 설명했다. 김 사장은 1989년 8월 동양증권에서 커리어를 시작한 정통 증권맨이다. 금융상품운용팀 등을 거쳐 IB본부장 등을 역임한 뒤 2012년 8월 신한금투로 거점을 옮겨 ST그룹 부사장. 그룹 부사장을 지냈다. IB본부장 당시 동양증권을 채권발행시장. 부문 모두 1위로 끌어올린 . 라는 평가를 받고 있다. 이에 김 사장은 최고 금융 솔루션을 제공하는 자본시장 . 를 목표로 내걸고 고객 중심 경영을 최우선 경영 방침으로 삼겠다고 밝혔다. 그는 개인고객은 물론 기업고객 재무 상태와 니즈를 정확하게 파악해 맞춤형 금융 솔루션을 제공하겠다면서 IB부문 강화에 초점을 맞췄다. 금융투자협회에 따르면 지난해 기준 신한금투 IB 수수료 수익은 11위로 804억원이다. 지난해 IB 수수료 수익 1위를 달성한 메리츠종금증권 3009억원 대비 4분의 1 수준이다. 지주사를 보유한 타 증권사와 비교해도 아쉬운 성적이다. 하나금융투자는 지난해 IB 수수료 수익으로 2006억원을. KB증권은 1975억원을 거둬들여 각각 4. 그는 기업과 개인고객에게 맞춤형 금융 솔루션을 제공하기 위해서는 IB 역량을 키워야 한다면서 전통적 IB 분야인 ECM DCM 등을 확장하는 등 공격적인 조직 확대를 계획 중이라고 밝혔다. 이를 위해 우수 인재 영입에도 힘쓰는 동시에 인재 육성과 관련해 신한금투 전 직원이 각 분야 전문가로 성장하도록 실력에 맞는 대우를 하겠다고 약속했다. 사업 성장 가능성을 높게 보고 최근 OCIO 부서를 신설했다. OCIO 사업은 공공기관이나 민간기업 여유자금을 맡아 운용하는 것으로. 2000년대 초 연기금 투자풀이 주간운용사 제도를 도입하면서 시작됐다. 최근 공적기금과 기업 여유자금이 늘어나면서 OCIO 관련 수요가 빠르게 증가하고 있다. 김 사장은 과거 금융상품을 구매하는 데서 벗어나 자산을 통째로 맡겨 운용수익을 안정적으로 내기를 원하는 요구가 많아졌다며 아직 법제화 전이지만 기금형 퇴직연금 제도를 도입하려는 학계나 정부. 정치권 움직임이 있는데. 향후 제도 변화 등에 따라 OCIO 시장은 크게 성장할 수 있다고 내다봤다. 또한 그룹 차원에서 홍콩법인을 아시아 IB 허브로 육성하는 동시에 베트남과 인도네시아 등 신흥 해외 시장 공략도 공고히 하겠다고 밝혔다. 김 사장은 해외에서는 GIB 차원에서 은행과 금투가 함께 접근해 IB 위주로 사업을 펼치고 있는데. 이는 타 증권사들이 운용 부문으로 글로벌 시장을 공략하려는 것과 조금 다른 전략이라고 말했다. 이어 특히 베트남과 인도네시아 등 동남아시아 지역에서 IB 사업 성과가 나오고 있다고 말했다. 미국 뉴욕법인은 다양한 상품 소식을 담당하는 글로벌 프로덕트 센터로 변화시킨다는 계획이다.\n"
     ]
    },
    {
     "name": "stderr",
     "output_type": "stream",
     "text": [
      "익명화 진행 중:  13%|█▎        | 6026/45609 [00:28<03:01, 218.65it/s]"
     ]
    },
    {
     "name": "stdout",
     "output_type": "stream",
     "text": [
      "Row 6000 기업명 -> 익명화 이름 매핑: {'우리은행': 'M사', 'KB금융': 'D사', '신한지주': 'Z사'}\n",
      "Row 6000 after anonymization - 기업명: Z사, full_text: 따박따박 월급처럼...석달마다 배당금 주는 은행株 나올까 지금까지 6개월마다 배당을 나눠주는 은행주는 있었지만. 분기마다 배당하는 사례는 없었다. 적극적인 주주 환원에 나서겠다는 의지가 담겼다는 평가다. 중간배당 넘어 분기배당 추진19일 금융권에 따르면. 신한금융지주는 앞으로 분기 배당을 실행하겠다는 의사를 금융감독원에 전달했다. 적극적으로 주주 환원에 나서겠다는 취지에서다. 다만 지금 당장 분기 배당을 하겠다는 건 아니고. 코로나 사태가 잠잠해진 이후의 중장기적인 방향성을 거론한 것이다. 이에 대해 금감원 측은 . 배당을 1년에 몇 번씩 하는지가 문제는 아니다. 충분한 자본 여력을 갖추는지가 관건. 이라는 취지로 답한 것으로 전해졌다. 신한금융은 분기배당을 위한 정관 변경 작업을 추진하고 있다. 현재 신한금융 정관에는 중간배당까지만 가능하도록 규정하고 있다. 이를 고쳐 1년에 최대 4차례까지 배당할 수 있도록 하겠다는 것이다. 내년 3월 예정된 주주총회에서 논의될 가능성이 있다. 신한금융은 이달 초 조용병 회장을 포함한 주요 계열사 최고경영자. 들이 모여 워크숍을 열었다. 이 자리에서는 배당 확대. 자사주 매입 및 소각 등 적극적인 주주 환원책을 추진하자는 이야기가 오간 것으로 알려졌다. 유상증자 3연타에 주가 부진신한금융 주가는 은행주 가운데서도 부진한 편이다. 신한금융 주가는 지난 16일 2만7950원으로 연초. 4만2600원에서 34. 에 비해서도 하락 폭이 크다. 은행주가 부진한 까닭은 코로나 사태 이후 초저금리로 인한 순이자마진. 축소 및 대출 부실 우려가 있기 때문이다. 전 세계 금융주가 대체로 이 같은 우려 때문에 부진한 편이다. 신한금융만의 독특한 사정도 있다. 그간 신한금융은 은행 의존도가 낮고 글로벌 비중이 높아 . 측면에서 비교적 높게 평가받아왔다. 그런데도 최근 주가가 부진한 건 자회사인 신한은행과 신한금융투자 등은 라임 사태로 인해 막대한 돈을 배상했거나 그래야 할 전망이기 때문이다. 특히 신한금투는 라임과 공모해 부실 펀드를 팔았다는 의혹이 제기되고 있다. M사 등에 돈을 물어줘야 할 가능성까지 거론된다. 최근 해외 사모펀드를 대상으로 1조2000억원대 유상증자에 나선 것도 주가를 짓누르는 요인이다. 유상증자는 새 주식을 찍어 투자자에게 파는 걸 말한다. 회사에 돈이 들어오지만. 주주 입장에서는 자기가 가진 지분이 희석된다는 점에서 불리하다는 평가가 많다. 특히 신한금융은 대규모 투자 또는 인수. 에 나설 계획이 마땅치 않은데도 유상증자를 해 . 명분이 뚜렷하지 않다. 일각에서는 지배구조 안정화를 위한 게 아니냐는 평가도 나왔다. 이처럼 주가가 부진해지자 . 를 위해 분기배당 카드까지 꺼내 드는 모양새다. 주가 반등 계기 될까. 한국 은행주가 저펑가됐다. 는 말이 나온 건 하루 이틀이 아니다. 그러나 최근 들어서는 그 정도가 심하다는 말이 나온다. 한국거래소 기준 KRX 은행 지수는 올해 들어 20. 넘게 하락해 17개 업종 가운데 최악이다. 이라는 오명까지 붙었다. 윤종규 D사 회장은 . 지난 8월 금융연구원이 펴낸 . OECD 회원국 은행그룹의 PBR. 결정요인 분석 및 시사점. 한국의 은행그룹 평균 PBR은 0. 41배로 대상기업 34개국 중 31위다. 한국보다 순위가 낮은 곳은 프랑스. 등 3개국 밖에 없다. 우리나라 은행주 주가가 부진한 까닭은 주주 환원이 부족하기 때문이라는 평가가 많다. 은행주가 성장주가 아니라는 건 어느 나라나 마찬가지다. 그래서 해외 금융사들은 벌어들인 돈을 곳간에 쌓아두지 않고 주주들에게 나눠주는 편이다. 대부분 분기 배당을 하고. 자사주 매입 및 소각에도 적극적이다. 물론 코로나 사태 이후에는 이런 주주 환원책이 축소되거나 멈췄다. 반면 우리나라 은행주는 배당 성향. 1년에 한 차례만 배당하기 때문에. 연말 연초면 배당락에 따라 주가가 출렁거린다. 배당을 보고 샀다가 물렸다. 는 말이 자주 나온다. 금융권에서는 분기배당이 활성화될 경우. 그간 저평가된 은행주가 다시 주목받는 계기가 될 수 있다고 보고 있다\n"
     ]
    },
    {
     "name": "stderr",
     "output_type": "stream",
     "text": [
      "익명화 진행 중:  15%|█▌        | 7029/45609 [00:32<03:03, 209.96it/s]"
     ]
    },
    {
     "name": "stdout",
     "output_type": "stream",
     "text": [
      "Row 7000 기업명 -> 익명화 이름 매핑: {'신한지주': 'N사'}\n",
      "Row 7000 after anonymization - 기업명: N사, full_text: 진옥동 신한은행장 “하반기 금융 시장 리스크 철저 대비” 3일 은행권에 따르면 진 행장은 이날 임원들에게 하반기 금융 시장 리스크에 대한 철저한 대비를 주문했다. 금융 시장이 불안정하다는 점을 염두에 두자. 각자 맡은 부문의 위험 요소들을 잘 살펴보자. 고 말한 것으로 전해졌다. 올해 하반기에는 실적이나 성과보다는 안정성에 무게를 두겠다는 것이다. 이런 방침은 이날 발표된 인사에서도 엿볼 수 있다. 신한은행은 각종 각종 금융 사고를 예방하기 위해 본점 및 영업점 장기근속 직원의 순환근무를 강화한다는 방침이다. 영업점 직원이 본점에서 일할 수 있는 기회를 늘려 다양한 경력 개발이 이뤄지도록 할 계획이다. 다만 혁신을 위한 변화는 과감하게 추진한다는 구상이다. 신한금융지주와 신한은행의 ESG를 함께 담당하도록 했다. 지주와 은행의 전략적 연계를 강화하고 일체감 있는 ESG 체계를 구축한다는 취지다. 부서 간 경계를 허물고 소규모 팀을 구성해 민첩하게 대응하는 애자일 조직 . 시니어 시장 점유율 1위 확보를 목표로 하는 . MZ 세대 고객 기반 강화에 나서는 . 리테일 신시장 트라이브 . 비대면 통합 채널 전략 세우는 . 진 행장은 빅데이터 인재 육성에도 각별히 신경쓰고 있다. 제도를 신설한 게 대표적이다. 풍부한 영업 현장 경험과 금융 전문성을 보유한 직원들의 ICT 역량을 끌어올려 . 로 성장하도록 적극 지원한다는 계획이다. 통상 은행들은 12월에 조직을 개편하는 게 일반적이다. 진 행장은 올해 하반기보다는 향후 2. 3년 간 다뤄야 할 일들을 빨리 준비하자는 뜻으로 조직개편을 했다. 목표가 정해졌다면 하루라도 빨리 조직을 바꾸자는 취지. 라고 말한 것으로 알려졌다\n"
     ]
    },
    {
     "name": "stderr",
     "output_type": "stream",
     "text": [
      "익명화 진행 중:  18%|█▊        | 8045/45609 [00:37<02:39, 235.32it/s]"
     ]
    },
    {
     "name": "stdout",
     "output_type": "stream",
     "text": [
      "Row 8000 기업명 -> 익명화 이름 매핑: {'현대차': 'O사', '현대위아': 'A사', '현대글로비스': 'D사', '현대모비스': 'T사'}\n",
      "Row 8000 after anonymization - 기업명: T사, full_text: O사 계열사 성장동력은 '비계열 시장'…그룹 의존도 줄이자 실제로 주요 계열사의 1분기 실적을 보면 . Captive Market. 비중 축소에 성공한 현대글로비스가 가장 뛰어난 성적표를 받았다. 1일 현대차그룹에 따르면 현대글로비스는 1분기에 . Pure Car Carrier. 부문에서 비계열 비중이 사상 처음으로 50. 를 넘어선 덕분에 분기 최대 매출을 기록했다. 현대글로비스의 1분기 PCC 매출액은 4천482억원으로 지난해 같은 기간보다 33. 기아차를 제외한 차량 수송으로 발생한 매출액의 비중은 52. 이에 따라 현대글로비스의 1분기 실적은 매출액 4조2천208억원. 영업이익 1천853억원을 거둬 작년 동기 대비 각각 12. 현대글로비스는 2009년 PCC 사업에 진출한 이후 현대. 기아차 외에도 글로벌 완성차업체와 중장비 제조사. 중고차 유통사 등을 대상으로 영업활동을 벌인 결과 비계열 매출 비중이 더 높아졌다고 설명했다. 최근에는 미국 테슬라의 모델3을 미국에서 북유럽으로 수출하는 물량을 따내는 등 다양한 수주 실적을 거두고 있다. 또한 올해 3월에는 스웨덴 선사 스테나 레데리와 유럽 해운 합자회사 . 를 설립해 유럽 현지에서 완성차 연안 해운사업을 추진하고 있다. 아울러 글로벌 PCC 선사로서는 처음으로 차량 7천300여 대를 동시에 수송할 수 있는 . 급 운반선을 투입했으며. 자동차선 전용 부두를 운영하는 일관물류 체계도 구축하고 있다. SK증권 유승우 애널리스트는 현대. 기아차 물량에 대한 의존도를 낮추고 자립도를 높여가는 D사 PCC의 성장을 놀라울 정도라며 올해 연간 비계열 매출 비중이 50. 를 상회하고 PCC의 올해 매출액은 1조8천억원 수준으로 성장할 것으로 판단된다고 말했다. 핵심부품 제조업체인 현대모비스도 비계열사 핵심부품 수주가 꾸준히 늘고 있다. 현대모비스는 지난해 글로벌 완성차업체 대상으로 수주한 핵심부품 실적은 16억5천700만 달러. 약 1조9천320억원. 급증했으며 올해는 21억1천600만 달러로 27. 성장할 것으로 기대한다고 밝혔다. 현대모비스가 1분기에 완료한 핵심부품 비계열 수주는 1억1천400만 달러에 이르며 지역별로는 북미 1천500만 달러. 중국 1천800만 달러. 일본 8천100만 달러 등이다. 아울러 글로벌 완성차업체에 공급하는 제품도 기존의 램프 위주에서 첨단운전자보조시스템. 용 제품 등 고부가가치 제품을 확대한다는 전략이다. 올해 미국 주요 업체를 대상으로는 전자식 주차브레이크. 와 ADAS용 레이더 등을 납품하고. 중국 시장에는 전자식 조향장치. 와 전자식 차체 제어 시스템. 등을 공급할 예정이다. 유럽에서는 배기가스 규제에 따른 친환경 시장 확대에 대응하고 일본 업체에도 전자식 주차브레이크. 센터 디스플레이 등 램프 외 수주 제품군 다변화를 추진하기로 했다. DB금융투자 김평모 애널리스트는 해외 완성차업체에 공급하는 제품이 기존의 램프에서 MDPS. 레이더 등으로 다양화되고 있다며 다른 완성차업체 매출 비중은 지속적으로 증가할 수밖에 없는 상황이라고 말했다. 엔진과 정밀기계 등을 제조하는 현대위아는 매출의 현대. 기아차 비중이 높아 1분기 실적이 다른 계열사보다는 부진했다. 현대위아는 1분기 매출액이 1조8천494억원으로 작년 동기 대비 6. 영업이익은 146억원으로 흑자전환에 성공했지만. 시장의 전망치보다는 낮았다. 한국투자증권 김진우 애널리스트는 차량부품 부문에서 현대. 기아차 중국 판매 회복이 더딘 가운데 원가절감 압박으로 수익성 부담도 지속되고 있다며 현대위아에 대한 투자의견으로 중립을 유지한다고 밝혔다. A사 역시 비계열 매출 비중을 늘리기 위한 영업에 주력하고 있으며 올해 2월 현대위아의 중국 산둥. 성의 완성차 업체인 창펑. 자동차와 8천400억원 규모의 엔진 공급 계약을 체결한 바 있다\n"
     ]
    },
    {
     "name": "stderr",
     "output_type": "stream",
     "text": [
      "익명화 진행 중:  20%|█▉        | 9042/45609 [00:41<02:51, 213.80it/s]"
     ]
    },
    {
     "name": "stdout",
     "output_type": "stream",
     "text": [
      "Row 9000 기업명 -> 익명화 이름 매핑: {'기아': 'D사', '현대모비스': 'H사', '현대글로비스': 'Q사'}\n",
      "Row 9000 after anonymization - 기업명: H사, full_text: 현대차그룹 지배구편 개편 속도···'모비스 인적분할 → 글로비스 흡수합병' 카드 다시 꺼내나 개편의 시한이 정해져 있는 것은 아니지만 내년부터 일감 몰아주기 규제가 강화되면서 정의선 회장 등 오너 일가가 보유한 Q사 지분. 를 매각해야 하는 상황이기 때문이다. 지난해 말 개정된 공정거래법에 따르면 내년부터 일감 몰아주기 규제 대상은 오너 일가 지분 30. 이상인 계열사로 확대된다. 현대차그룹 내부에서는 정 회장 일가가 Q사 지분을 29. 밑으로 내리는 과정에서 순환출자 구조를 해소하기 위한 지배구조 개편도 동시에 단행할 것이라는 얘기가 나오고 있다. 기아를 비롯한 4개 순환출자 구조로 짜여 있다. 국내 10대 대기업 집단 가운데 순환출자를 깨지 못한 곳은 현대차그룹이 유일하다. 정 회장이 경영권을 온전하게 유지하기 위해서는 외부 공격에 취약한 순환출자 구조를 해소하고 지배권의 근간이 되는 H사. D사 등에 대한 지분을 충분히 보유해야 한다. 특히 관심은 기아가 보유한 H사 지분을 정 회장이 어떤 방식으로 취득할 것인가에 쏠려 있다. 지난해 말 현대모비스가 현대오트론의 반도체 사업 부문을 인수하고 현대오토에버가 현대오트론의 나머지 사업. 를 인수한 것도 지배구조 개편과 무관하지 않다는 게 업계의 해석이다. 의 지분을 보유한 현대오토에버를 키워 지배구조 개편의 자금줄로 활용할 수 있다는 것이다. 우선 지난 2018년 3월 발표했던 지배구조 개편안을 일부 수정하는 시나리오가 유력하게 거론된다. 당시 현대차그룹은 현대모비스의 모듈. AS부품 사업을 인적 분할하고 현대글로비스에 흡수 합병하는 방식으로 순환출자 고리를 해소하고자 시도했다. 현대모비스에 핵심 사업만을 남긴 뒤 정 명예회장과 정 회장이 지분 거래를 통해 4개 순환출자 고리를 끊는 작업이다. 다만 이 방안은 엘리엇을 비롯한 주주들의 반대로 무산된 만큼 주주들의 지지를 받는 수정된 안을 내놓거나 아예 시장에서 주식을 사고파는 방식으로 순환출자 고리를 끊을 수 있다는 전망도 나온다\n"
     ]
    },
    {
     "name": "stderr",
     "output_type": "stream",
     "text": [
      "익명화 진행 중:  22%|██▏       | 10042/45609 [00:47<02:44, 215.76it/s]"
     ]
    },
    {
     "name": "stdout",
     "output_type": "stream",
     "text": [
      "Row 10000 기업명 -> 익명화 이름 매핑: {'기아': 'W사', 'CJ대한통운': 'F사', '현대모비스': 'N사'}\n",
      "Row 10000 after anonymization - 기업명: N사, full_text: 현장] 모빌리티의 미래를 엿보다…현대차그룹, 'UX 스튜디오 서울' W사 제품통합개발담당 양희원 부사장은 지난 16일 서울 서초구 서초동 . UX 테크데이 2022. 를 열어 이같이 말했다. 현대차그룹은 이날 현재 개발 중인 목적기반차량. 등 PBV UX 개발 방향성을 담은 결과물을 공개하고. PBV 미래 UX 개발 방향성과 기술 개발 성과를 공유했다. 테스트 벅은 차량이나 부품 등의 개발 과정에서 사용성 검증 등을 목적으로 사전에 제작하는 모형을 말한다. UX 스튜디오 서울은 차량 초기 콘셉트 개발부터 양산 직전의 상품성 검증 단계에 이르기까지 전 과정에 걸쳐 고객을 초청해 UX에 대한 의견을 듣고. 이를 상품에 반영하기 위해 만들어진 차량 UX 연구개발 전용 공간이다. 이날 방문한 UX 스튜디오 서울 1층에는 PBV 초기 개발 과정에서 콘셉트 개발을 위해 나무로 만든 . 과 개발한 기술이 실제로 구현된 . 이를 통해 차량의 초기 콘셉트가 어떤 과정을 거쳐 실제 차량으로 구현되는지 고객이 체험할 수 있도록 했다. 전시된 엔지니어링 벅은 오는 2025년을 목표로 개발 중인 PBV 전용 전기차 플랫폼을 기반으로 만들어졌다. PBV 특성상 다양한 목적으로 활용되는 차량이지만. 이번에 전시된 엔지니어링 벅은 공항을 오가는 여행객을 실어 나르는 . 를 콘셉트로 개발됐다. 여행객과 사업자 모두에게 최적화된 기술을 대거 반영한 것이 특징이다. 조수석 위치에는 시트 대신 캐리어 거치대를 마련했고. 트렁크 공간을 없앤 대신 탑승 공간을 뒤쪽까지 넓혀 최대 다섯 명이 넓은 내부 공간을 누릴 수 있도록 했다. 또 일반 승객뿐만 아니라 교통 약자의 탑승 편의를 고려해 휠체어가 쉽게 출입할 수 있도록 개방 폭을 극대화한 도어 시스템 등을 탑재했다. UX 스튜디오 서울 2층에는 현대차그룹이 선행적으로 연구하고 있는 차량 UX 관련 연구개발 결과물들이 함께 전시됐다. 기아와 미국 MIT 미디어 랩이 공동으로 개발한 . 반응형 PBV 시트 콘셉트. 는 시트가 승객의 몸을 알아서 감지한 뒤 체형에 맞게 시트 모양을 만들어주는 기술이다. 불특정 다수의 승객을 태우는 PBV에 이 기술을 적용하면 긴 벤치 모양의 좌석을 승객 수와 체형 등에 따라 다양하게 변형할 수 있다. 현대모비스는 고도 자율주행 차량의 탑승객 편의성을 높여주는 . 드라이브 모드와 오피스 모드. 릴랙스 모드 등 세 가지 모드에 따라 조명과 시트 각도. 디스플레이와 조작계 등 사용자에게 최적화된 형태의 UX로 바뀐다. 현대트랜시스는 사용자별 라이프 스타일을 고려한 . 다목적 모빌리티 시트 시스템. 교통약자를 위한 생체 신호 분석 기술. 유아를 동반한 가족 승객의 실내 공간 활용성 증대 기술 등 탑승객이 경험할 수 있는 다양한 상황에 맞춰 실내 환경을 최적화한 10가지의 통합 시나리오 모드를 구현했다. 또 이날 전시장에는 . UX META STUDIO. 가 마련돼 참석자들이 VR 기술을 통해 온라인 UX 리서치 프로그램에 직접 참여하기도 했다. 현대차그룹은 이날 발표를 통해 급변하는 모빌리티 환경에서 UX가 더욱 중요해지는 이유를 설명하고. 특히 PBV 개발에 있어 중점적으로 고려하는 UX 측면과 이를 위한 고객 중심의 연구개발 노력 등을 소개하기도 했다. 제품UX총괄실 김효린 상무는 더 나은 사용자 경험을 만들기 위해 Humanistic. 에 집중하고 있다며 세 가지 원칙을 기본으로 총체적 사용자 경험. 을 개발하고 UX 스튜디오를 통해 이를 실현해 나가고 있다고 밝혔다. 바디개발센터장 류지성 전무는 이어진 발표를 통해 새로운 모빌리티 시대에서 고객의 더 나은 경험을 위한 바디 기술을 개발해 나가고 있다며 운전석 독립 파티션과 실내 캐리어 수납 모듈 등 PBV에 적용을 목표로 개발한 다양한 신기술을 개발하고 있다고 소개했다. 특히 자율주행 시대가 도래함에 따라 운전에서 자유로워진 사용자가 이동 시간을 충분히 활용할 수 있는 방안에 대한 연구를 지속한다는 방침이다. 류 전무는 이어 시간. 취향이라는 키워드로 바디 개발 연구를 지속적으로 추진해 나갈 것이라며 운전 중심의 실내외 기술에서 라이프 스타일과 고객의 가치를 확장하는 공간으로 변화하는 미래 모빌리티에 발맞춰 운전으로부터 자유로워진 고객의 시간을 고객에게 돌려드리기 위한 연구를 계속할 것이라고 밝혔다. 기아는 올해 2월 레이 1인승 밴 모델을 출시하고. 이어 5월에 니로 플러스를 선보이는 등 기존 모델을 활용한 파생 PBV를 꾸준히 선보이고 있으며. 쿠팡 및 F사 등 비즈니스 파트너와의 협력도 강화하고 있다. 특히 2025년 양산을 목표로 PBV 전용 전기차 플랫폼을 활용한 PBV 전용 모델을 개발하고. 2025년 하반기 양산을 목표로 연간 최대 15만 대의 생산능력을 갖춘 국내 최초 신개념 PBV 전기차 전용 공장을 짓는 등 2030년까지 글로벌 PBV 1위 브랜드로 자리 잡겠다는 목표다.\n"
     ]
    },
    {
     "name": "stderr",
     "output_type": "stream",
     "text": [
      "익명화 진행 중:  24%|██▍       | 11045/45609 [00:51<02:14, 256.43it/s]"
     ]
    },
    {
     "name": "stdout",
     "output_type": "stream",
     "text": [
      "Row 11000 기업명 -> 익명화 이름 매핑: {'카카오': 'J사'}\n",
      "Row 11000 after anonymization - 기업명: J사, full_text: 그림·숫자 보고 문장 쓰는 AI…J사, 산학협력 결과물 깃허브에 공개 카카오는 카카오브레인. 와 2년 간 협력한 연구 결과를 각종 학회와 기술저널. 깃허브 등에 공개했다고 22일 밝혔다. 미국 서던캘리포니아대하교 등 8개 단체가 참가한 AI 딥러닝 연구 그룹이다. 카카오와 CSI는 지난 2017년 4월 AI 기술 연구와 개발을 위해 산학협력을 맺고 함께 연구를 진행했다. 2년 간의 연구 끝에 총 41건의 결과물이 도출됐다. 이중 29건은 ICLR. ICASSP 등 글로벌 학회와 기술 저널에 등록됐다. 추후 3건을 추가 등록할 예정이다. 나머지 9건은 전 세계 연구자들이 공유하고 발전시킬 수 있도록 깃허브에 공개했다. 주요 연구 주제는 음성 인식. 음악 생성에 관한 연구. 오디오 데이터를 보고 문장 생성. 주어진 이미지에 대해 질문하면 답을 하는 시각적 질의응답 . 머신러닝 알고리즘과 기초 이론 고안. 트랙 건너뛰기 예측 등에 관한 연구. 질환 진단 정확도를 높이고 각종 의료 영상 분할 효율성을 높이는 기술 연구. 딥러닝에 이용되는 최적화 기법에 대한 성능 분석. 강완모 KAIST 교수. 박종헌CSI 센터장은 카카오와 카카오브레인의 지원 덕분에 최신의 딥러닝 연구를 수행하고 다양한 분야의 딥러닝 전문가 교육을 위한 기반을 다질 수 있었다며 CSI 활동 경험은 향후 딥러닝 연구 공동체에 훨씬 더 긍정적인 영향을 미칠 것으로 기대된다고 말했다. 김남주 카카오브레인 연구소장은 카카오와 카카오브레인이 보유한 인프라와 연구인력. AI 기술을 공유함으로써 국내 AI 분야 협력 연구가 나오는데 기여했다는 의미가 있다며 앞으로도 초지능연구센터와 지속적으로 협력하겠다고 했다\n"
     ]
    },
    {
     "name": "stderr",
     "output_type": "stream",
     "text": [
      "익명화 진행 중:  26%|██▋       | 12034/45609 [00:55<02:03, 271.37it/s]"
     ]
    },
    {
     "name": "stdout",
     "output_type": "stream",
     "text": [
      "Row 12000 기업명 -> 익명화 이름 매핑: {'카카오뱅크': 'B사', '카카오페이': 'L사', '카카오': 'F사'}\n",
      "Row 12000 after anonymization - 기업명: F사, full_text: F사, 카페·카뱅 등 테크핀 덕분에 기업가치 'UP'-KTB 5일 종가는 36만3000원이다. 김진우 KTB투자증권 연구원은 중국 앤트그룹의 IPO. 추진으로 글로벌 테크핀 업체의 성장 잠재력을 확인했다며 주력사업인 L사 및 B사 등 테크핀 부문 가치가 레벨업되면서 내년 카카오의 기업가치 증가를 견인할 것이라고 판단했다. 두 연구원은 카카오페이는 결제 데이터를 활용한 연계 대출. 제시를 통해 앤트그룹이 추구하는 BM을 정확히 추종할 것이라며 내년 상반기 중 F사 기업가치 레벨업이 본격적으로 나타나면서 전고점 수준 도달이 가능하다고 전망했다. KTB투자증권은 카카오의 적정 기업가치로 38조9000억원을 제시했다. 이는 F사 본사 적정가치. 카카오게임즈 지분가치. 지분가치 등을 합산한 것이다. B사 및 카카오페이지 등 주력 계열사별 IPO를 앞두고 공격적인 사업활동을 진행하는 가운데 카카오게임즈 신작 출시에 따른 마케팅비 증가와 신규사업 확장을 위한 인원 확충 관련 비용 증가가 지속될 것이라면서도 주력사업 실적 호조와 테크핀 부문 가치를 기존 대비 상향 조정하면서 현재 전체 기업가치는 기존과 동일하게 유지했다고 진단했다\n"
     ]
    },
    {
     "name": "stderr",
     "output_type": "stream",
     "text": [
      "익명화 진행 중:  29%|██▊       | 13043/45609 [01:00<02:16, 239.20it/s]"
     ]
    },
    {
     "name": "stdout",
     "output_type": "stream",
     "text": [
      "Row 13000 기업명 -> 익명화 이름 매핑: {'카카오페이': 'Z사', '카카오': 'H사'}\n",
      "Row 13000 after anonymization - 기업명: H사, full_text: Z사, 막판 눈치 작전 치열…증권사별 예상 배정 주수는? 투자자들은 90만원의 청약증거금. 만 넣으면 증권사별 경쟁률에 따라 최소 1주 이상을 배정 받을 전망이다. 이날 대표주관사인 삼성증권에 따르면 오후 2시 기준 카카오페이의 통합 청약 경쟁률은 25. 11대 1을 기록하고 있다. 청약건수는 158만388건. 청약증거금은 4조8천22억6천95만원으로 집계됐다. 증권사별 경쟁률을 살펴보면 한국투자증권이 47. 22대 1로 가장 높았다. 예상 균등물량은 경쟁률이 가장 낮은 대신증권이 3. 카카오페이의 일반 공모 청약은 이날 오후 4시 마감된다.\n"
     ]
    },
    {
     "name": "stderr",
     "output_type": "stream",
     "text": [
      "익명화 진행 중:  31%|███       | 14037/45609 [01:04<02:07, 247.66it/s]"
     ]
    },
    {
     "name": "stdout",
     "output_type": "stream",
     "text": [
      "Row 14000 기업명 -> 익명화 이름 매핑: {'카카오': 'H사'}\n",
      "Row 14000 after anonymization - 기업명: H사, full_text: '네카토 보험 중개업' 규제안, 2월 나온다… 어떤 내용 담길까? 들과 만난 금융위원회는 조만간 생명보험. 손해보험업계로부터 의견을 들을 예정이다. 18일 금융권에 따르면 금융위원회는 오는 2월 중 단계별 상품 판매 규제 방안을 최종 조율해 시행안을 발표하는 것을 목표로 보험업계 의견을 수렴하고 있다. 이미 금융위원회 자체적으로는 시행안을 만들어 둔 상태이며 보험업계 의견을 듣고 일부 수정하는 단계다. 앞서 금융위원회는 지난 13일 GA협회 관계자들과 간담회를 가졌으며 이달 말부터 생명보험협회. 핀테크사들과도 만날 예정이다. 금융권 관계자는 사실상 금융위가 가이드라인은 확정해 둔 상황이며 마지막 의견 수렴 차원에서 간담회를 갖는 수준이라고 말했다. 추천 서비스는 온라인 금융플랫폼에서 여러 보험사의 상품을 비교하고 추천하는 것이다. 당초 금융위원회는 지난해 10월 중순부터 1개월여 동안 빅테크의 보험 비교. 추천 서비스를 시범운영한 후 11월 말 제도화 할 예정이었다. 하지만 보험대리점과 보험사들의 거센 반발에 일정을 연기했다. 현재 보험업 라이선스가 없는 빅테크는 보험상품을 비교. 추천할 수 없는데 이를 혁신 금융 서비스로 지정해 규제를 풀겠다는 것이다. 네이버와 카카오의 보험 비교. 추천 서비스 진출은 대면 영업 위주인 보험시장의 비대면 영업 전환을 촉진시킬 가능성이 크다. 보험 모집채널별 판매현황. 에 따르면 2021년 국내 생명보험사의 신계약 건수는 총 1396만건으로 이 중 85. 가 대면 채널에서 이뤄졌다. 가 비대면 채널을 통한 판매였다. 아직 설계사들이 소비자들을 직접 만나 다양한 보험상품을 소개. 추천하고 계약을 체결하는 대면영업이 주를 이루고 있는 것이다. 하지만 신종 코로나바이러스 감염증. 사태 이후 비대면 영업이 활성화 되며 온라인 홈페이지나 모바일 애플리케이션. 추천 서비스가 주목받고 있다. 특히 자동차보험의 경우 2021년 비대면 채널 신계약 체결 비중이 40. 포인트 앞지르는 등 비대면 채널을 통한 가입이 대세로 자리 잡았다. 이미 네이버와 카카오는 보험 비교. 추천서비스 시행을 위한 채비를 마쳤다. 네이버는 자회사 NF보험서비스. 카카오는 자회사 카카오페이를 통해 각각 자동차보험료 비교 서비스를 위한 시스템을 구축했다. 금융당국은 먼저 플랫폼이 보험사에 불리한 거래 조건을 요구하는 것을 금지하고 서비스 변경. 중단 시 사전 통지 방안을 도입할 예정이다. 보험사들이 플랫폼에 종속되는 걸 막겠다는 취지다. 대형 플랫폼에 한해 방카슈랑스 25. 룰을 참고해 플랫폼의 특정사 편중도 방지한다는 계획이다. 금융당국은 온라인 플랫폼이 특정 플랫폼에만 모집 위탁을 강요하거나 경쟁 플랫폼에 제공하는 상품 가격에 관여하는 행위도 금지한다. 플랫폼의 과다한 수수료 수취를 방지하기 위해 업계 논의를 거쳐 합리적 수준의 수수료도 설정할 방침이다. 비교 추천 시 보험사로부터 수취하는 광고비 또한 모집 수수료에 준하는 규제를 마련한다는 것이다. 황인창 보험연구원 연구위원은 온라인플랫폼 사업자들이 소비자가 합리적인 의사결정을 할 수 있도록 효과적으로 어려운 보험 정보를 정제하고 이해하기 쉽게 전달한다면 시장 확대가 가능할 것이라고 말했다.\n"
     ]
    },
    {
     "name": "stderr",
     "output_type": "stream",
     "text": [
      "익명화 진행 중:  33%|███▎      | 15052/45609 [01:08<02:00, 253.62it/s]"
     ]
    },
    {
     "name": "stdout",
     "output_type": "stream",
     "text": [
      "Row 15000 기업명 -> 익명화 이름 매핑: {'대상': 'V사', 'KB금융': 'K사'}\n",
      "Row 15000 after anonymization - 기업명: K사, full_text: 스타트업 '큰 손 '부상한 금융사, 직접 투자 속도낸다 그동안 벤처캐피탈 등과 협력해 시드머니 수혈에 나섰던 금융그룹이 직접 투자로 방향을 이원화하면서 업계의 주목을 받고 있다. 21일 관련업계에 따르면 신한금융그룹. NH농협은행 및 IBK기업은행 등 국내 주요 금융그룹과 금융사들의 핀테크 육성 기업에 대한 직접 투자가 속도를 내고 있다. 그동안 핀테크 육성 프로그램을 통해 사무실 지원 및 해외진출 지원. 그리고 내외부 투자사 연결에 나섰던 금융사들이 직접 스타트업에 투자해 육성하는 보다 긴밀한 관계의 생태계 구축에 열을 올리고 있다. 올해는 국내 핀테크 스타트업에 대한 금융사들의 육성 프로그램이 시작된 지 5년째로 접어드는 해다. 국민 등 주요 금융그룹을 비롯해 BNK금융. 코스콤 등 대다수의 금융사들이 핀테크 육성 프로그램 운영을 통해 다양한 스타트업과 협업을 전개해왔다. 하지만 올해부터는 금융사의 핀테크 업체에 대한 직접 투자는 물론 소유까지 가능해지면서 금융그룹의 핀테크 육성 정책에도 변화가 일어나고 있다. 생산적 금융이라는 정부의 금융정책과 맞물려 4차 산업혁명과 이에 따른 일자리 창출이라는 정책 대응을 위해 금융그룹이 보다 적극적인 투자에 나서면서 금융권 주도의 스타트업 생태계 창출이 속도를 내는 분위기다. 금융당국은 금융회사에 대해 원칙적으로 금융회사 및 금융업 관련 일부 업종 외 비금융회사 소유를 제한해왔다. 하지만 지난해 11월 금융회사가 운영 중인 핀테크 랩을 통한 핀테크 스타트업에 대한 투자가 금융회사와의 협업을 통해 Win. win 성과를 내려면 자회사 출자제한 완화가 필요하다는 지적에 따라 금산법. 보험업법 등에 금융회사가 자회사로 소유할 수 있는 업종으로 . 을 명확하게 규정하면서 금융사의 핀테크 육성 전략에도 변화가 일어났다. 핀테크 기업에 대한 출자뿐만 아니라. 금융회사의 핀테크 투자. 부수업무 운영 등에 있어서 보다 적극적이고 전향적인 조치가 가능해진 것이다. 실제 올해부터 금융사들의 직접 투자 움직임은 속도를 내는 분위기다. 신한금융그룹은 2015년 설립된 신한 퓨처스랩을 통한 투자를 더욱 강화한다. 신한금융그룹은 혁신성장 프로젝트에 1. 7조원의 예산을 투자하겠다는 전략을 밝힌 바 있다. 여기서 퓨처스랩은 5년간 250억원의 예산을 스타트업 육성 및 투자에 집행한다는 계획이다. 1년간 50억씩 5년간 스타트업에 대한 직접 투자에 나서는 만큼 자본과 비즈니스 협업에 관심이 있는 스타트업의 이목을 집중시키고 있는 상황이다. 으로 확대하고 올해 약 1300억원을 투자하기로 했다. Developer Lab. 위비핀테크랩은 사무공간. 디벨로퍼랩은 중소기업에 대한 기술과 서비스 개발을 집중적으로 지원한다. 우리은행은 지난달 공모를 통해 디노랩 입주 기업 14개를 선발했다. KEB하나은행은 스타트업 V사 향후 3년간 200억원 이상 지분투자 2019년 내 5천억원 수준의 직간접 투자 유치 유망 스타트업과 지역 거점대학과의 산학연계활동 및 청년창업 지원 등 새로운 스타트업 생태계 조성 및 확산에 적극 나서기로 했다. 하나금융의 24개국 186개의 네트워크 및 글로벌 비즈니스 파트너를 활용한 스타트업의 맞춤형 글로벌 시장 진출도 적극 지원하기로 했다. 비금융 서비스를 지원하는 창업육성플랫폼 프로그램을 운영 중이다. 마포와 구로 두 곳에서 운영 중인 기업은행은 현재까지 선발기업에게 총 107억원의 투자. 대출 등 금융지원을 했으며 . IBK창공 구로 1기. 육성기업에게 62억원을 지원했다. 부산은행도 지역 혁신성장 스타트업에 대한 투자. 컨설팅 강화를 위해 . 부산은행 스타트업 지원센터. 부산은행은 향후 지원센터에서 성장 가능성이 높은 지역 스타트업을 선별해 사무공간을 제공하고 성장 단계별 맞춤형 지원과 무료 경영 컨설팅을 추진한다. 은 우수 스타트업 100개사를 선정해 보증. 투자 등 금융지원을 제공한다고 9일 밝혔다. 이들은 신보의 보증과 투자를 받을 수 있고. 우리은행으로부터 금리우대와 수수료 면제 혜택도 받을 수 있다. 한국무역협회 등은 스타트업의 글로벌 진출을 지원하고. 벤처스퀘어 등 민간 전문 액셀러레이터는 스타트업의 체계적인 육성을 돕는다. 신보는 벤처캐피탈과의 연계를 통해 200억원 규모의 민간투자도 이끌어냈다. 이들 기업의 사업 성과에 따라 300억원의 추가 신용보증도 지원할 예정이다\n"
     ]
    },
    {
     "name": "stderr",
     "output_type": "stream",
     "text": [
      "익명화 진행 중:  35%|███▌      | 16042/45609 [01:12<02:13, 221.53it/s]"
     ]
    },
    {
     "name": "stdout",
     "output_type": "stream",
     "text": [
      "Row 16000 기업명 -> 익명화 이름 매핑: {'KB금융': 'Q사', '하나금융지주': 'I사', '카카오뱅크': 'D사', '우리금융지주': 'Z사', '신한지주': 'E사'}\n",
      "Row 16000 after anonymization - 기업명: Q사, full_text: 금융권 판도 흔드는 D사…상장가치 10조 가시권? 증권가는 IPO를 통한 자본확충과 비대면 주택담보대출 시장의 성장이 카카오뱅크의 미래가치를 움직일 것으로 내다봤다. 15일 한국거래소에 따르면 지난 12일 카카오는 전장 대비 1500원. 오른 26만6500원에 거래를 마쳤다. 주가는 3월 19일 13만4000원에서 이날까지 무려 98. 증권사들은 신종 코로나바이러스 감염증. 에 따라 D사 등의 비대면 금융서비스 경쟁력이 더욱 부각될 것으로 보고 있다. 이에 따라 주가도 지속적으로 오를 것이란 전망이 나온다. 카카오뱅크는 2017년 영업을 시작한지 2년 만에 흑자 전환하며 고성장을 이어가고 있다. 총자산은 3월말 기준 23조4000억원으로. 같은 시기에 설립된 K뱅크. 보다 월등하게 높은 수준이다. 카카오라는 막강한 플랫폼의 공유와 초기의 빠른 증자. 인프라 투자 등이 주효했다는 평가다. 여기에 카카오뱅크의 무점포 모델이 비대면 시대에서 가격 경쟁력을 높일 것으로 예상된다. 구경회 SK증권 연구원은 . 금리하락으로 순이자마진. 비대면 채널이 활성화된 지금은 점포가 없는 은행이 판관비 측면에서 유리하다. 카카오뱅크의 1인당 자산은 351억원으로 4대 은행 평균치. 를 벌써 웃도는데 카카오뱅크의 총영업이익 대비 판관비는 장기적으로 30. 대 중반인 타 은행들을 압도할 전망. 상장 후 예상 시가총액도 관심사다. 전문가들은 카카오뱅크를 해외 인터넷은행과 비교하기는 어렵다고 판단했다. 세계적으로도 인터넷은행이 상장되어 있는 경우가 많지 않고 각자의 규모와 수익모델. 이익 현황과 영업 환경 등이 달라 일괄적으로 비교하는 게 어렵다는 이유에서다. 게다가 해외 인터넷전문은행들이 흑자전환에 대개 7년 정도가 걸리는 반면. 카카오뱅크는 유례없는 급성장세를 나타내고 있다. 증권가는 카카오뱅크가 내년에 상장한다면 기업가치가 최소 4조원 이상에서 최대 9조원까지도 기대된다고 내다봤다. 이날 기준 은행주 시가총액은 E사 14조8709억원. Q사 14조4077억원. I사 8조3467억원. Z사 6조7532억원. 기업은행 5조7043억원 등이다. 국내 인터넷전문은행 첫 IPO라는 점에서 밸류에이션이 어떻게 매겨질지에 대해선 예상하기 어렵다. 다만 내년 예상되는 IPO를 기점으로 카카오뱅크의 성장세가 가팔라질 것으로 관측했다. SK증권은 카카오뱅의 상장 후 기업가치가 8조9000억원에 달할 것으로 추정했다. 먼저 카카오뱅크의 주식수가 현재 3억6510만주에서 유상증자를 통해 2021년까지 4억4510만주로 늘어날 것이란 전망이다. 여기에 2021년부터 주택담보대출을 시작해 2026년 전체 대출의 38. 로 비중이 상승할 것으로 예상했다. 이에 2026년까지 고성장이 유지될 것으로 가정. 2026년말 기준으로 2021년말 기업가치를 환산했다. 현대차증권도 카카오뱅크가 상장 후 자본조달을 통해 자본 규제를 충족시키면서 고성장을 이어나갈 것으로 분석했다. 현대차증권은 2021년 기준 카카오뱅크의 적정가치를 5조6000억원으로 추정했다. 주요 가정으로 2020년 말 3000억원의 유상증자와 2021년 IPO를 통한 7000억원 규모의 자본 조달이 고려됐다. 김현기 현대차증권 연구원은 . 자본 확충을 통해 확보된 대출 여력으로 향후 주택담보대출 시장에 본격적으로 진출하며 고성장을 이어갈 것으로 전망한다. 2019년 기준 전체 가계대출 시장에서 신용대출이 차지하는 비중은 약 27. 앞으로의 성장은 주택담보대출에서 발생하며 신용대출 성장률 둔화를 보완할 것. 대 후반의 자기자본이익률\n"
     ]
    },
    {
     "name": "stderr",
     "output_type": "stream",
     "text": [
      "익명화 진행 중:  37%|███▋      | 17028/45609 [01:17<02:07, 223.83it/s]"
     ]
    },
    {
     "name": "stdout",
     "output_type": "stream",
     "text": [
      "Row 17000 기업명 -> 익명화 이름 매핑: {'KB금융': 'P사'}\n",
      "Row 17000 after anonymization - 기업명: P사, full_text: 지방금융이 더 '열일'…우리·하나 일회성 손익 주목② 개별사 별로는 우리금융지주의 케이뱅크 지분 가치 상승과 하나금융의 외화환산손실 등 일회성 손익이 3분기 실적에 일부 영향을 줄 전망이다. 지방금융지주 3분기에도 달렸다주요 증권사들에 따르면 3분기 4대 금융지주들의 연결 순익은 3조원대 후반으로 점쳐지고 있다. 4조원을 넘어섰던 2분기보다 소폭 줄긴 했지만 여전히 양호한 수준이다. 지방금융지주들에 대한 전망은 더 밝다. 유안타증권은 최근 보고서에서 3개 분기 연속 기록적인 자산 건전성이 이어지는 가운데 컨센서스를 상회하는 폭은 기업은행과 함께 DGB금융지주와 JB금융지주가 상대적으로 클 것으로 예상했다. 시중은행 대비 대손비용률 가정이 보수적인데 3분기는 물론 내년까지 대손비용률 개선이 이어질 것으로 전망되고 있어서다. DB금융투자는 지방은행들의 경우 시중은행보다 가계대출 증가율이 높다면서 이에 따라 대손비용 하락과 함께 BIS비율이 개선되고 있다고 설명했다. 금융지주들 전반적으로도 NIM 상승 지속에 따른 은행 이익 증가는 물론 비은행 부문의 이익도 탄탄할 것으로 기대된다. 여기에다 내년에는 대규모 대손비용 환입이 본격화하는 점도 긍정적인 요인으로 꼽힌다. 다만 금리 상승에 따른 채권평가이익 감소와 함께 비은행 부문의 호조세가 상반기 대비로는 다소 주춤할 가능성이 변수로 꼽힌다. 하나금융 일회성 손익 요인 대기개별 금융지주별로 살펴보면 우리금융지주는 케이뱅크 지분법 관련이익 덕분에 2분기에 이어 시장의 예상을 뛰어넘는 실적이 기대된다. 우리금융 자회사인 우리은행은 케이뱅크 지분 26. 를 보유하고 있어 최근 케이뱅크의 대규모 할증 유상증자 이후 700억. 800억원 규모의 가치 상승을 누릴 수 있게 됐다. KB금융과 신한지주의 경우 시장 예상에 부합하는 성적을 내놓을 것으로 전망되는 가운데 신한지주의 3분기 배당 규모 등이 주목받을 전망이다. 한국투자증권은 신한지주가 3분기에도 2분기와 동일한 주당 300원의 배당을 할 것으로 예상했다. 하나금융지주의 경우 달러. 원 환율 상승에 따라 700억. 800억원 규모의 외화환산손실이 발생할 것으로 추정되고 있다. JB금융지주와 카카오뱅크의 경우 다른 곳들과 달리 3분기에도 NIM 상승세가 이어졌을 전망이다. 신한금융투자는 이들의 NIM이 전분기 대비 3bp가량 상승했을 것으로 예상했다.\n"
     ]
    },
    {
     "name": "stderr",
     "output_type": "stream",
     "text": [
      "익명화 진행 중:  40%|███▉      | 18027/45609 [01:21<02:10, 210.61it/s]"
     ]
    },
    {
     "name": "stdout",
     "output_type": "stream",
     "text": [
      "Row 18000 기업명 -> 익명화 이름 매핑: {'DB손해보험': 'F사', '우리은행': 'V사', 'KB금융': 'R사'}\n",
      "Row 18000 after anonymization - 기업명: R사, full_text: 취약계층 지원 주문에…주요은행 중도상환수수료 면제 31일 금융권에 따르면 신한. NH농협 등 5대 시중은행은 2023년 한해 동안 취약차주에 한해 중도상환수수료를 전면 면제하기로 합의했다. 구체적으로 이들 은행은 신용등급 5구간 이하 저신용자. 주택담보대출 등에 대한 중도상환수수료를 면제한다. 통상 은행은 대출계약을 맺을 때 만기까지 기대할 수 있는 이자이익을 산정하기 때문에 만기 이전에 대출을 갚는 경우 이로인해 발생하는 손실을 방어하기 위해 중도상환수수료를 받아왔다. 하지만 최근 시장금리가 연이어 상승하면서 가계의 이자부담이 커지고 있는만큼 있는 대출을 갚으려는 대출수요가 많아지고 있는 추세다. 여기에 정부는 시장금리 상승과 함께 내년 경기침체가 본격화할 것으로 보고 대출자 중에서도 취약차주들에게는 중도상환수수료를 면제를 통해 이들의 이자부담을 최소화할 필요가 있다는 은행들에게 피력해왔다. 이에 은행들은 대외적으로는 취약차주들의 고통분담과 기업의 사회적 활동 차원에서 이에 동참하겠다고 밝혔다. 다만 일각에서는 올해들어 정부와 금융당국을 중심으로 은행의 영업활동에 제약을 거는 경우가 연이어 이어지고 있어 관치금융이 이어지고 있다는 분석도 나온다. 금리인상기임에도 불구하고 은행들에 대출금리 인상을 자제하라고 요청한 것이 대표적이다. 금융지주 일제히 조직개편디지털. 위기관리에 방점2023년을 맞아 주요 금융지주들이 일제히 조직개편에 나섰다. 2023년을 맞이하는 주요 금융지주들은 공통적으로 디지털 경쟁력을 강화하는 동시에 내년 경기상황에 대비한 조직개편을 실시했다. 양종희 부회장과 박정림 총괄부문장이 담당하는 4개 비즈니스그룹 체제를 유지한다. 대신 디지털 경쟁력 강화를 위해 . 지원 조직을 확대한다. 내년도 금융시장에 대한 불확실성이 확대될 것으로 보고 자산운용 역량 강화를 위해 . Asset Management. 하나금융지주의 경우 . 먼저 박성호 하나은행장을 지주 부회장으로 승진시키며 그룹전략부문. 그룹디지털부문을 담당하게 했다. 그리고 그룹미래성장전략부문을 배치해 전사적인 미래 먹거리 발굴에 나선다. 아울러 강성묵 부회장에게는 그룹개인금융부문. 그룹CIB부문을 신설해 그룹의 시너지 창출을 주도하도록 했다. 이은형 부회장의 경우 그간 맡아왔던 글로벌사업과 함께 그룹브랜드부문도 맡기기로 했다. 우리금융지주는 디지털경쟁력 강화를 위해 데이터와 인공지능 사업 총괄 조직인 . Data Intelligence. 를 지주 디지털부문에 신설하기로 했다. 이외 금융지주 주요 계열사인 은행들의 경우 공통적으로 내부통제 강화에 방점을 찍은 조직개편을 공통적으로 시행했다. 올해 횡령 등 금융사고가 많았던 데다가 내년 금융시장 불확실성 확대로 인한 자산운용 손실을 최소화하기 위함으로 풀이된다. 서울시 탈환 실패 V사. 국민연금공단은 잡았다우리은행은 지난 27일 국민연금공단과 주거래은행 계약을 체결했다. 우리은행은 지난 2018년부터 국민연금공단의 주거래은행 업무를 수행해왔다. 이번에 계약이 만료됐지만 지난 5년간 안정적으로 주거래은행 업무를 수행해온 점을 인정받아 다시 한번 국민연금공단 주거래은행 자리를 지킬 수 있었다. V사 관계자는 세계 3대 글로벌 연기금이자 자산규모 1000조를 앞둔 국민연금공단의 미래 동반자로 긴밀한 협력을 지속할 것이라고 말했다. 한편 우리은행은 국민연금공단의 주거래은행 계약을 다시 따내면서 기관영업에서의 체면은 지켰다는 평가다. 우리은행은 지난 2019년까지 104년간 지방자치단체 최고 기관으로 꼽히는 서울시의 시금고를 담당해왔다. 하지만 지난 2019년 신한은행에 제1금고 운영권을 빼앗겼고 제2금고만 운영해왔다. 올해 있었던 서울시 시금고 재선정에서는 제2금고 운영권마저 신한은행에 내주면서 자존심을 구긴 바 있다. 보험업계 최초 오픈뱅킹 서비스 제공교보생명이 보험업계 최초로 . 이에 교보생명 앱에서는 은행. 증권사의 계좌 잔액과 거래내역을 확인할 수 있게 된다. 교보생명 고객이 오픈뱅킹에 참여하면 교보생명의 보험 정보가 타 금융기관에 제공되는 대신 은행. 증권사 등의 정보를 제공받아 교보생명 앱에서 조회할 수 있는 방식이다. 반대로 타 금융기관 앱에서 교보생명의 보험가입 정보도 확인이 가능하다. 교보생명은 이번 은행. 증권계좌 잔액 조회를 시작으로 내년 상반기중 자사 앱을 통한 카드 및 선불충전금 정보 조회까지 서비스를 확대할 계획이다. 고객 계좌간 간편송금 등 오픈뱅킹을 활용한 계좌이체 서비스도 단계적으로 가능토록 추진할 예정이다. 교보생명 관계자는 이번 오픈뱅킹 참여는 보험업계 최초로 오픈뱅킹을 통해 보험 정보를 제공하는 데 의미가 있다며 조회 서비스를 시작으로 향후 이체 서비스까지 제공하면 고객은 교보생명 앱을 통해 금융 전 영역에 걸친 유용한 정보를 한번에 확인할 수 있는 것은 물론 고객맞춤형 금융서비스도 받을 수 있을 것으로 기대된다고 말했다. 유기견 지원에 진심인 DB손보DB손해보험은 올해 서울시. 창원시와 유기견 보험정책을 시행하고 있다고 밝혔다. 각 지자체에서 시행중인 유기견 보험정책은 유기견의 입양률을 높이고 유기견의 질병. 안전사고에 대한 시민의 불안감 해소를 위해 시행중인 정책이다. DB손해보험은 이 정책에 참여해 유기견 입양 가족을 대상으로 무료 보험가입신청을 받고 유기견의 질병. 상해 등으로 인한 치료비와 수술비로 보장한다. 아울러 유기견이 타인의 신체에 피해를 입히거나 타인의 반려동물에 손해를 입혀 부담하는 배상책임도 보장한다. 보험기간은 가입신청일로부터 1년이다. F사 관계자는 앞으로도 여러 지자체와 함께 유기견 입양률을 증대시키고 유기견 입양이 새로운 반려동물 돌봄문화로 정착될 수 있도록 적극적으로 협력할 것이라고 말했다. 는 한 주간 선보인 새로운 금융상품과 은행. 카드 등 금융사들의 눈에 띄는 움직임을 간추린 비즈워치 경제부의 주말 코너입니다\n"
     ]
    },
    {
     "name": "stderr",
     "output_type": "stream",
     "text": [
      "익명화 진행 중:  42%|████▏     | 19050/45609 [01:26<01:49, 243.09it/s]"
     ]
    },
    {
     "name": "stdout",
     "output_type": "stream",
     "text": [
      "Row 19000 기업명 -> 익명화 이름 매핑: {'네이버': 'Z사'}\n",
      "Row 19000 after anonymization - 기업명: Z사, full_text: 잠정실적]NAVER, 3년 중 최고 매출 달성, 영업이익은 직전 대비 -14%↓ (연결) 시장 예상 대폭 하회. 이번에 회사가 발표한 영업이익은 시장 전망치인 2253억원 보다도 크게 못 미친 것으로 나타났다. 표NAVER 분기 실적 4분기 실적은 연간실적 공시를 토대로 계산된 값임 3년 중 최고 매출 달성. 영업이익은 직전 대비 . NAVER의 매출액은 최근 3년 중 가장 높은 실적을 기록했다. 이전 최고 매출액이었던 2019년 3분기보다도 7. 늘어난 것으로 나타났다. 그래프NAVER 분기별 실적 추이 작년 4분기 실적 반영 시 PER 31배 . 표NAVER 투자지표 비교 투자지표는 최근 4개 분기 당기순이익의 합으로 계산함 매출액. 영업이익 증가율 모두 경쟁사 대비 낮은 편표NAVER 및 경쟁사 전년동기 대비 성장률 실적 발표 직전 20일간. 외국인 35만주 순매수. 외국인 투자자들은 실적 발표 전. 20일 동안 NAVER의 주식 35만주를 순매수했다. 이 기간 동안 기관은 . 68만주를 순매도했고 개인은 33만주를 순매수했다. 같은 기간 NAVER 주가는 . 그래프NAVER 실적발표 직전 투자자 동향한편. NAVER은 최근에 아래와 같이 공시를 발표한 바 있다. 0130 자기주식취득 결정. 보통주 8만3000주148. 0107 최대주주등의 소유주식변동. 0106 지분변동공시국민연금공단 외 1명 1. 보유한경로보뉴스이 기사는 한국경제신문과 금융 AI 전문기업 씽크풀이 공동 개발한 기사 자동생성 알고리즘에 의해 실시간으로 작성된 것입니다\n"
     ]
    },
    {
     "name": "stderr",
     "output_type": "stream",
     "text": [
      "익명화 진행 중:  44%|████▍     | 20038/45609 [01:30<01:48, 236.07it/s]"
     ]
    },
    {
     "name": "stdout",
     "output_type": "stream",
     "text": [
      "Row 20000 기업명 -> 익명화 이름 매핑: {'네이버': 'B사'}\n",
      "Row 20000 after anonymization - 기업명: B사, full_text: 먹통 바로잡으려 돌아온 '카톡의 아버지' 의 장애 원인 및 서비스 복구 과정에 대한 기술적 해답을 내리고. 나아가 카카오 공동체의 새로운 선장이 될 것이란 관측도 나오고 있다. 출신의 이확영 대표가 카카오의 키를 쥘 경우. 다양한 사업 영역을 확장하며 . 이라는 비판을 받아오던 카카오가 . 본연의 모습으로 돌아갈 것이란 전망도 나온다. 의 아버지 이확영20일 카카오에 따르면 이확영 그렙 대표는 지난 11일 카카오 먹통 사태 관련 비상대책위원회의 원인조사소위원회 위원장으로 임명돼 서비스 장애의 원인과 장애 복구 과정 조사를 총괄하고 있다. 카카오는 이 대표 선임 소식을 알리면서 객관적 원인 조사를 진행하기 위해 외부 전문가를 선임했다고 설명한 바 있다. 이확영 대표는 순수한 . 로 볼 수만은 없는 존재다. 그는 카카오 직원이 두 자릿수. 카톡 사용자가 수십만명대이던 시절부터 김범수 창업자. 이제범 전 카카오 대표 등과 함께 의 뼈대와 초기 사업모델을 개발한 . 삼성SDS에서 김범수 의장과 연을 맺고. 김 의장처럼 한게임과 NHN을 거쳤다. 김 의장이 카카오 전신인 아이위랩을 창업한 지 1년 만에 러브콜을 보내 2013년까지 함께 에 매달렸다. 특히 이 대표는 의 초기 기능 채택을 이끌었다. 지금은 카톡에서 흔하게 쓰이는 보이스메시지. 대용량 파일 전송 등이 그의 손에서 나왔다. 2011년 카톡의 안정성과 속도에 질적 혁신을 불러왔다고 평가받는 . 겁나 빠른 황소 프로젝트. 도 이 대표가 주도한 것으로 알려졌다. 그는 가입자가 1억명을 넘어서던 2013년 창업을 하겠다며 카카오를 떠났다. 본연의 테크기업으로 돌아갈까이렇듯 의 탄생과 성장에 깊숙이 개입했던 이확영 대표의 귀환은 단순한 . 를 넘어서는 것으로 해석된다. 특히 기술통인 이 대표를 구원 투수로 등판시킨 것은. 카카오 공동체 모든 비즈니스의 핵심인 . 을 근본부터 보다 튼튼한 서비스로 재탄생시키겠다는 의지가 담겼다는 평이 나온다. 이확영 대표가 카카오를 떠난 뒤 설립한 그렙은 2016년부터 개발자 교육 사업에 주력해왔다. 카카오에 더해 B사. 금융기업 등의 개발자 채용 서비스를 제공하며 현재 개발자 채용 시 필수 요소가 된 . 를 보편화시키는 데 일조했다. 이 대표를 포함한 카카오 비상대책위원회는 사고 조사가 끝나는 대로 조사 결과와 함께 서비스. 나아가 카카오 공동체 운영 전반에 대한 새 해법을 내놓을 것으로 알려졌다. 메신저 서비스와 정합성이 떨어지는 일부 사업에 대한 구조조정과 함께 이라는 공동체의 . 에 집중하는 비즈니스 모델의 방향성이 담길 것으로 예상된다. 포스트 남궁훈 물망카카오가 창업 초심을 살려 테크 기업으로 돌아가는 방향성을 채택할 경우 자연스레 사고 조사를 맡았던 이확영 대표가 카카오의 새 수장에 오를 것이라는 관측도 나온다. 카톡 대란에 따른 남궁훈 전 대표의 사임 이후 홍은택 대표가 카카오를 맡고 있지만. 신사업 부문은 권미진 수석부사장이 이끌고 있는 이중 구조가 이어지고 있다. 언론인 출신의 홍은택 대표는 비즈니스 CEO라기보다는 카카오 공동체 전반의 리스크 관리를 위해 영입됐다는 평이 지배적이다. 김범수 창업자가 직접 다시 경영을 맡아야 한다는 목소리도 나오지만. 그는 지난달 24일 국회 과방위 국감에서 경영복귀설을 부인한 바 있다. 업계 관계자는 김범수 의장이 직접 경영의 키를 쥐지 않는 상황에서 . 으로 꼽히는 옛 카카오 멤버를 대표에 선임해야 활발한 소통과 신규 비즈니스 추진 등에 차질을 빚지 않을 것이라며 의 기본 구조에 대한 이해도가 누구보다 높으면서 김범수 의장과 막역한 사이인 이확영 대표가 차기 카카오 CEO로 거론되는 이유라고 전했다.\n"
     ]
    },
    {
     "name": "stderr",
     "output_type": "stream",
     "text": [
      "익명화 진행 중:  46%|████▌     | 21039/45609 [01:34<01:50, 221.56it/s]"
     ]
    },
    {
     "name": "stdout",
     "output_type": "stream",
     "text": [
      "Row 21000 기업명 -> 익명화 이름 매핑: {'삼성SDI': 'K사'}\n",
      "Row 21000 after anonymization - 기업명: K사, full_text: K사 車 배터리 최고경쟁력 유지할 것 손미카엘 K사 전지사업부문 전략마케팅 전무는 29일 3분기 실적발표 이후 진행된 컨퍼런스콜에서 지난해와 올해 글로벌 자동차 판매가 소폭 감소하는 추세로. 경기에 따라 부침이 있다면서 그러나 같은 기간 전기차 판매는 두 배 이상 성장했고. 앞으로도 큰 폭으로의 성장이 예상된다고 말했다. 삼성SDI가 전기차 시장 전망을 높게 보는 이유는 세 가지다. 먼저 유럽 지역을 중심으로 내년부터 이산화탄소. 규제가 강화됨에 따라 전기차 생산이 두 배 이상 늘어날 전망이다. 각국 정부도 이에 발맞춰 보조금 세제 혜택 등 지원책 마련에 분주하다. 일반 내연기관차와 비교해 전기차의 상품경쟁력이 점차 강화되고 있다는 점도 긍정적이다. 이전보다 가격은 상당히 낮아지는 추세이고. 성능에 대한 장점도 부각되는 상황이다. 또 보조금 제도 변화와 신규 모델의 부재로 성장세가 주춤한 중국. 미국 시장은 머지않아 인프라 확대와 신규모델 출시로 성장모멘텀을 회복할 것이라는 관측에 무게가 실린다. 이러한 근거를 바탕으로 업계는 전기차 시장이 2030년까지 연평균 20. 이상 성장할 것으로 내다보고 있다. 손 전무는 당사는 현재 울산. 헝가리에 전기차배터리 사업장을 두고 있는데. 3개 공장 모두 높은 제조 수율을 보이면서 안정적인 생산성을 유지하고 있다며 당사는 국내 라인에서 신공법과 신제품을 검증하고 해외로 수평전개하는 전략을 취하는데. 이를 통해 시장 초기 어려움을 최소화하고 있다고 설명했다. 이어 장기적인 성장을 이루기 위해서는 제품 경쟁력과 생산기술. 오퍼레이션 역량이 매우 중요하다고 판단된다며 당사는 업계 최고 수준의 경쟁력을 향후에도 유지하고 발전할 계획이라고 덧붙였다. 에 활용되는 폴리머전지의 개발 방향에 대한 질문에는 추세를 보면 5G 도입으로 전력소모량이 크게 증가하고 배터리 용량. 사용시간에 대한 요구가 더욱 커질 것으로 예상한다며 당사는 에너지 밀도와 충전 속도를 높이는 폴리머 전지 기술개발에 중점 두고 있는데. 이러한 전략은 배터리 가격 상승을 동반하기 때문에 수익성 개선에도 도움이 될 것이라고 말했다. 또 폴리머전지 시장에서 주요 고객사가 제조자 개발생산. 비중을 늘릴 가능성에 대해서는 ODM 스마트폰은 최저가 제품으로 주로 각형을 대체하는 저가 폴리머를 채용할 것으로 보인다. 당사가 주력해온 시장이 아니다라며 주요 고객의 플래그십 모델과 보급형 스마트폰 시장에 적기 진입해 무선 이어폰과 스마트워치로 매출 수익성을 확대하겠다고 강조했다. 손 전무는 전동공구 시장과 관련해 과거 고성장에 비해 상대적으로 둔화하는 추세는 맞다며 미. 중 무역분쟁과 경기상황으로 인한 일시적인 영향으로 본다. 3분기에는 일부 고객들이 재고 조정을 진행하면서 당사 판매에도 영향을 미쳤다고 설명했다. 로 전환이 빨라 성장세가 이어질 것이라며 원형전지는 전동공구 이외에도 전기차. 전기 바이크 등 E모빌리티 시장이 성장을 주도할 것으로 예상된다고 말했다. 삼성SDI는 현재 전동공구. 배터리 시장을 주도하고 있다. 업계에 따르면 삼성SDI는 글로벌 전동공구 시장 점유율 70. 를 과점 중인 3개 업체에 가장 많이 제품을 공급하는 회사로 꼽힌다. ESS에 비해 단가는 낮지만 규모의 경제를 이뤄냈다는 평가다\n"
     ]
    },
    {
     "name": "stderr",
     "output_type": "stream",
     "text": [
      "익명화 진행 중:  48%|████▊     | 22040/45609 [01:39<01:54, 205.71it/s]"
     ]
    },
    {
     "name": "stdout",
     "output_type": "stream",
     "text": [
      "Row 22000 기업명 -> 익명화 이름 매핑: {'LG화학': 'X사', '삼성SDI': 'B사', '삼성전자': 'Y사', 'LG이노텍': 'A사'}\n",
      "Row 22000 after anonymization - 기업명: B사, full_text: 애플 200대 공급사에 삼성·LG 등 국내 기업 23개…중국이 78% 차지 중국 기업은 156개로 가장 많았다. 이번에 공개된 애플의 공급사는 모두 200개다. 한국에 사업장이 있는 기업은 23개였다. 이 중 13개는 국내 기업. 10개는 한국에 사업장을 둔 다국적 기업이다. 국내 기업 중 애플과 긴밀한 협력 관계를 맺고 있는 곳은 삼성과 LG다. 삼성 계열사 중 Y사. B사 등 세 곳이 이름을 올렸다. 삼성은 애플에 스마트폰용 유기발광다이오드. 등을 공급하는 것으로 알려졌다. LG 계열사 중에는 X사. A사 등 3곳이 배터리. 카메라모듈을 애플에 공급한다. SK에서는 SK하이닉스가 메모리 반도체를 공급하고 있다. 범천정밀 등 국내 기업이 애플의 공급사 명단에 이름을 올렸다. 최근 LX그룹으로 편제된 실리콘웍스는 협력 체계를 갖춘 기업으로 분류됐다. 애플 공급사 200개 중 156개는 중국에 위치하고 있다. 중 무역 분쟁에도 전체 공급사의 78. 가 중국에 집중된 셈이다. 디스플레이 제조사인 BOE와 티엔마. 배터리 기업인 BYD 등이다. 이어서 일본이 42개. 싱가포르 14개 순이었다. 한편 애플은 전 세계 상장사 중 시가총액이 가장 많은 기업이다. 미국 나스닥에 상장된 애플의 시가총액은 전날 종가 기준으로 2조740억 달러. 애플은 2012년부터 노동. 인권 시민단체의 요구에 따라 글로벌 공급망 관련 기업의 리스트를 매년 공개하고 있다. 중 분쟁을 겪으면서 공급망 다변화에 주력하고 있는 것으로 알려졌다\n"
     ]
    },
    {
     "name": "stderr",
     "output_type": "stream",
     "text": [
      "익명화 진행 중:  50%|█████     | 23030/45609 [01:43<01:47, 210.28it/s]"
     ]
    },
    {
     "name": "stdout",
     "output_type": "stream",
     "text": [
      "Row 23000 기업명 -> 익명화 이름 매핑: {'LG에너지솔루션': 'O사', '삼성SDI': 'K사'}\n",
      "Row 23000 after anonymization - 기업명: K사, full_text: CATL 유럽 배터리 생산 개시...K-배터리와의 전면전 '이제부터' 에르푸르트 공장을 시작으로 미국을 비롯한 북미공략에도 속도를 낼 계획이다. 유럽 중심의 판매 전략을 펼치는 한국과의 경쟁이 본격화할 것으로 전망된다. 25일 관련업계에 따르면 CATL의 에르푸르트 공장은 일부 라인에서 정상적으로 제품 출하를 시작했다. 아직 시운전 중인 라인의 정상 가동도 조만간 이뤄질 예정이다. 에르푸르트 공장 규모는 14GWh. 연간 전기차 28만 대에 탑재할 수 있는 배터리를 생산한다. 중국에서 축적한 수율 노하우를 얼마나 빠르게 독일 공장에 이식할 수 있는지가 남은 과제다. 마티아스 젠트그라프 CATL 유럽담당 사장은 이번 생산 개시는 고객사와의 약속을 지켜냈다는 데 큰 의미가 있다면서 생산 능력 확대에 최선을 다할 계획이라고 말했다. 이번 공장 가동을 계기로 유럽에서 확고한 점유율 우위를 보여온 O사. SK온 등 국내 3사와 CATL의 수주 경쟁이 한층 치열해질 전망이다. 2030년까지 물량을 확보한 상황에서 투자가 이뤄지고 있다. 문제는 2030년 이후다. 배터리 공급난이 지나면 공급과잉 우려가 우려된다. 현재 가동 중이거나 가동 예정인 설비의 생산성을 유지하면서 점진적으로 확대될 시장에 대응해야 한다. 이 때문에 기존 고객사와의 유대를 강화해야 한다. 안정적인 추가 물량 확보를 위해서다. CATL 신규 공장에서는 메르세데스. BMW그룹 납품용 배터리를 생산한다. CATL은 2027년 완공을 목표로 헝가리에 100GWh 규모의 유럽 2공장을 신설할 계획이다. 이곳에서 생산한 배터리는 앞선 두 회사를 포함해 폭스바겐그룹. 스텔란티스 등에 공급한다. 이들 모두 국내 3사의 핵심 고객사이기도 하다. 블룸버그 등 외신 보도를 종합하면 CATL은 유럽 3공장 건립을 준비하고 있다. 동시에 중국 기업에게 문턱이 높은 미국 등 북미 전기차 시장 공략도 준비하고 있다. 포드와 배터리 합작사. 설립 논의를 진행하고. 멕시코에 독자 공장 착공도 서두르는 분위기다. 중국 등 글로벌 3대 전기차 시장 모두에 뿌리내릴 방침이다. 중국 정부의 방해로 북미. 유럽에 사활을 건 한국에 상당한 부담일 수밖에 없다. 글로벌 컨설팅업체 커니. 에 따르면 2021년 2. 유럽 지역의 배터리 생산점유율은 2026년 18. 였던 중국의 생산 비중도 58. 일본에서의 생산량은 44. 전체 배터리 시장이 커질 것이기 때문에 모든 지역에서의 생산량은 늘어나겠지만. 유럽에 투자가 집중된다는 의미다. 안방이 견고한 CATL이 한국이 노리는 북미. 유럽 주도권을 위협하게 되면. 안방 비중이 크게 줄어들 것으로 예상되는 K배터리의 전략에도 적지 않은 영향을 끼치게 된다는 의미다. 업계는 한국이 북미에서의 확고한 주도권은 유지하겠지만 유럽에서의 주도권이 상당히 약해질 것이라고 입을 모았다. CATL 등의 공세로 한. 중 배터리 기업이 치열하게 자웅을 겨루는 무대가 될 것이란 설명이었다. 한 배터리업계 관계자는 CATL은 막대한 연구개발. 투자를 통해 한국과의 기술격차를 좁히는 데 총력을 기울이고 있으며. 한국이 범접할 수 없는 가격경쟁력을 무기로 보급형 시장을 선도한다면서 최근에는 포스트 전기차 시장까지 대비하며 전기추진 선박용 배터리 자회사까지 운신의 폭을 넓혀 단일 기업 기준 확고한 배터리 1위 자리를 구축했다고 볼 수 있다고 말했다. 이어 꾸준한 RD 투자를 바탕으로 기술력 우위와 프리미엄 제품 중심의 판매 정책을 유지하고 중국시장 진출 노력을 병행한다면. 확고한 1위 자리를 구축한 CATL의 견제에도 K배터리가 독자적인 경쟁력을 유지할 수 있을 것이라고 설명했다.\n"
     ]
    },
    {
     "name": "stderr",
     "output_type": "stream",
     "text": [
      "익명화 진행 중:  53%|█████▎    | 24045/45609 [01:48<01:31, 234.65it/s]"
     ]
    },
    {
     "name": "stdout",
     "output_type": "stream",
     "text": [
      "Row 24000 기업명 -> 익명화 이름 매핑: {'기아': 'X사', '대상': 'A사'}\n",
      "Row 24000 after anonymization - 기업명: X사, full_text: 옥천군, 전기자동차 사면 최대 1700만 원 지원 지원 A사 차종은 현대 아이오닉. X사 쏘울 등 승용부문 6개 제조사 14개 차종이다. 승용차는 최대 1700만 원을 지원하고. 초소형전기차는 920만 원을 정액 지원한다. 정확한 보조금액과 지원 A사 차종 등 자세한 내용은 전기자동차통합포털에서 확인할 수 있다. 군은 신청자가 보급 대수에 못 미치면 전원을 대상자로 선정하고. 보급대수를 넘어 신청이 들어오면 공개추첨 방식으로 대상자를 선정할 예정이다. 지원 대상자로 선정된 사람이 2개월 이내에 차량을 출고하지 않으면 지원이 취소된다. 주민의 신중한 결정이 요구된다. 신청 자격은 올해 1월 1일부터 현재까지 군에 주소를 둔 만 18세 이상 주민이나 1월 1일 이전부터 옥천군에 사업장이 있는 법인. 지방세 등 세금 체납이 없어야 하며. 전기자동차 보급사업 기존 지원자. 신청자와 동일 세대원 등은 신청할 수 없다. 옥천군에는 2017년과 2018년 전기자동차 승용 10대와 초소형 2대가 보급돼 있다\n"
     ]
    },
    {
     "name": "stderr",
     "output_type": "stream",
     "text": [
      "익명화 진행 중:  55%|█████▍    | 25047/45609 [01:52<01:15, 271.03it/s]"
     ]
    },
    {
     "name": "stdout",
     "output_type": "stream",
     "text": [
      "Row 25000 기업명 -> 익명화 이름 매핑: {'기아': 'G사'}\n",
      "Row 25000 after anonymization - 기업명: G사, full_text: 맞수열전] SUV 대표주자는 '나야 나'…기아차 쏘렌토 vs 폭스바겐 티구안 먼저 신형 쏘렌토는 중형 SUV이지만 대형 SUV와 비교해도 경쟁력 있는 실내공간과 공간 활용성이 자랑으로 꼽힌다. 신형 쏘렌토가 신규 플랫폼을 바탕으로 한 최적의 레이아웃으로 설계돼서다. 또 대형 SUV에만 적용되던 2열 독립시트를 적용해 2열 승객의 거주 쾌적성과 편의성을 강화했다. 첨단 안전 및 편의 사양도 대거 적용됐다. 특히 안전 사양으로 다중 충돌방지 자동 제동 시스템. 을 현대자동차그룹이 처음으로 신형 쏘렌토에 적용했다. 이는 차량 주행 중 사고가 발생했을 때 1차 충돌 이후 운전자가 일시적으로 차량을 통제하지 못할 경우 자동으로 차량을 제동해 2차 사고를 방지해주는 기술이다. 더불어 신형 쏘렌토에는 기아차가 처음으로 적용한 G사 페이. 제휴된 주유소나 주차장에서 비용을 지불할 때 내비게이션 화면을 통해 간편하게 결제할 수 있는 기능이다. 다양한 사양들이 있다보니 신형 쏘렌토 트림 가운데 인기 있는 트림은 최상위인 시그니처와 다음 상위인 노블레스다. 시그니처에는 G사 페이. 퀼팅나파 가죽시트 등 주요 신 사양과 고급 디자인 요소가 기본 적용됐다. 다이얼 타입 전자식 변속기 등 고객 주요 선호 사양이 기본 탑재됐다. 이와 함께 첨단 주행 신기술을 포함한 드라이브 와이즈. 스마트폰 앱을 활용해 차량의 도어와 시동을 제어할 수 있는 G사 디지털 키가 포함된 스마트 커넥트 등도 소비자들의 구매를 이끄는 사양이다. 2020년형 티구안의 인기 비결로는 경제성이 꼽힌다. 탄탄한 주행 성능과 최첨단 운전자 보조 시스템. 실용성 등을 갖추고 있으면서도 3. 4천만 원대의 수입 중형 SUV라 서다. 차량 자체 가격이 국산 중형 SUV들과 비교해도 경쟁력이 있는 것이다. 여기에 국산차와 대비해도 뒤지지 않는 유지보수 비용 또한 자랑이다. 이는 폭스바겐코리아가 교체 빈도가 높은 엔진오일. 에어컨 필터 등의 소모품을 3년 동안 교체해주는 케어프리서비스를 제공하고 있어서다. 동급 최고 수준의 첨단 장비들도 기본 탑재돼 있다. 2020년형 티구안 전 라인업에는 어댑티브 크루즈 컨트롤. 드라이빙 프로파일 셀렉션. 보행자 모니터링 시스템. 파크 파일럿 등이 탑재돼 있다. 라인업을 확장해 다양한 고객 니즈를 만족시키고 있는 것도 2020년형 티구안이 소비자들에게 사랑받고 있는 이유 가운데 하나다. 도심주행이 잦은 고객들에게 최적화한 전륜구동 모델 2종. 다이내믹한 드라이빙과 액티브한 라이프스타일을 즐기는 고객들을 위한 사륜구동 모델에 이어 좀 더 넉넉한 실내공간과 적재공간을 선호하는 고객들을 위한 티구안 올스페이스 등 총 4가지 라인업을 선보이고 있다. 특히 고객들의 지속된 요구를 반영해 이번에 한국 시장에 처음 도입한 7인승 모델인 올스페이스는 3열 시트 도입으로 높은 공간 활용성을 자랑하며 아웃도어 액티비티 등 다양한 라이프스타일에 최적화한 모델이다. 이를 통해 폭스바겐코리아는 티구안이 국내서 수입 SUV 대중화를 선도하는 대표 모델로 자리매김하길 기대하고 있다\n"
     ]
    },
    {
     "name": "stderr",
     "output_type": "stream",
     "text": [
      "익명화 진행 중:  57%|█████▋    | 26035/45609 [01:56<01:18, 247.97it/s]"
     ]
    },
    {
     "name": "stdout",
     "output_type": "stream",
     "text": [
      "Row 26000 기업명 -> 익명화 이름 매핑: {'기아': 'C사', '현대차': 'F사'}\n",
      "Row 26000 after anonymization - 기업명: C사, full_text: ‘GM 추월’ 도요타 美서 1위 등극…코로나가 낳은 대이변(종합) 에 따르면 도요타의 지난해 미국 내 판매량은 전년 대비 약 10. 증가한 230만대를 기록했다. GM은 전년 대비 약 13. 감소한 220만대 판매에 그쳤다. 이로써 연간 판매량 기준 도요타가 GM을 추월하고 미국에서 가장 잘 팔리는 완성차 업체로 등극했다. 외국 완성차 기업 중 미 시장 판매량 1위에 오른 것은 도요타가 처음이다. 미 자동차전문지 오토모티브뉴스에 따르면 GM은 1931년 경쟁사인 미 포드를 꺾고 미국 시장 판매량 1위에 오른 뒤 89년간 왕좌를 지켜왔다. 이 같은 시장 판도 변화는 코로나19 사태 이후 이어진 글로벌 반도체 공급난에서 기인했다. 반도체 공급난의 직격탄을 입은 GM의 공장 가동 중단이 길어지며 판매량이 급감한 반면 공급망 관리에 성공적으로 대처한 도요타는 판매량을 크게 늘릴 수 있었다. 특히 코롤라와 캠리 등이 판매 신장을 견인하면서 실적 성장의 주요 동력으로 작용했다. 지난해 미국 시장에서 코롤라 판매량은 5. 도요타 경영진은 이 같은 순위 변화가 영구적이진 않을 것이라고 밝혔다. 도요타의 미국 판매 책임자인 잭 홀리스 수석부사장은 1위를 유지하는 것은 우리 목표도. 우선순위도 아니며 지속 가능한 것으로 보지도 않는다고 말했다. 그는 이어 GM을 추월한 판매 성과를 어떠한 형태의 광고로도 활용할 의도가 없다고 덧붙였다. GM은 도요타의 1위 등극과 판매 순위 변화에 대한 논평 요청에 언급을 피했다고 WSJ는 전했다. 도요타 외에도 F사. C사 등 국내 업체들도 크게 선방했다. 현대차는 73만8081대를 판매해 전년 대비 19. 특히 일반 고객을 대상으로 하는 소매 판매량은 69만4349대로 사상 최다였다. 기아는 전년 대비 20. 증가한 70만1416대를 기록하며 사상 처음으로 미 시장 연간 판매량이 70만대를 돌파했다. BMW가 평균 이상의 판매 실적을 올린 것으로 리서치회사 콕스오토모티브가 추정했다.\n"
     ]
    },
    {
     "name": "stderr",
     "output_type": "stream",
     "text": [
      "익명화 진행 중:  59%|█████▉    | 27037/45609 [02:00<01:17, 238.39it/s]"
     ]
    },
    {
     "name": "stdout",
     "output_type": "stream",
     "text": [
      "Row 27000 기업명 -> 익명화 이름 매핑: {'기아': 'J사', '현대차': 'X사', '광명시': 'O사'}\n",
      "Row 27000 after anonymization - 기업명: J사, full_text: 단독]J사 첫 광명 전기차공장, 추가 세액공제 혜택 못 받는다 국내 첫 전기차 전용 공장이 될 J사 오토랜드 광명이 수도권과밀억제권역에 위치해 정부의 세액공제 혜택을 받지 못하게 됐다. 사진은 경기도 O사 소하동에 위치한 J사 광명 오토랜드. 10일 기획재정부는 전일 이른바 . 으로 불리는 조세특례제한법. 개정안의 시행령과 규칙을 입법 예고했다. 이번 개정안 세부 시행령의 핵심은 바로 전기차 생산시설을 국가전략기술로 격상한 것이다. 당초 전기차 생산시설은 일반투자로 분류돼 1. 의 세액공제만 받을 수 있었다. 이번 개정안의 세부 시행령이 적용되면 전기차 생산시설 투자에 대해 대기업과 중견기업은 15. 까지 세액공제 혜택을 받는다. 과거 대비 올해 투자 증가분에 대해서는 10. 의 추가 세액공제를 제공하지만 이는 올해만 한시적으로 운영된다. 정부가 전격적으로 대규모 세제혜택을 제공하기로 하면서 국내 전기차 산업 생산능력 확장에도 속도가 붙게 됐다. 전기차 전환을 역동적으로 추진하는 현대자동차그룹은 무려 24조원을 쏟아부어 2030년 글로벌 시장 전기차 업체 탑3 진입을 목표로 세웠다. 현재 현대차그룹은 X사 울산공장. J사 광명 오토랜드 등 3곳을 전기차 핵심 생산기지로 삼고 대대적인 투자를 벌이고 있다. 지난 4월 착공한 J사 오토랜드 화성의 고객 맞춤형 전기차 전용 공장 착공식에는 윤석열 대통령이 직접 방문해 관심을 나타내기도 했다. 그런데 현대차그룹의 전기차 핵심 생산기지 중 한 곳이 될 J사 오토랜드 광명은 정부의 이 같은 대대적인 세제혜택을 받지 못하게 됐다. 광명 공장은 조특법 130조. 수도권과밀억제권역의 투자에 대한 조세감면 배제. 가 규정하는 수도권과밀억제권역에 해당해 원칙적으로 조세감면 혜택이 적용되지 않는다. 정부는 인구와 산업의 과도한 밀집을 막기 위해 서울 전 지역을 포함해 인천과 경기도 일부 지역을 수도권과밀억제권역을 지정해 관리하고 있다. 앞서 기아는 지난달 4일 열린 인베스터데이에서 2024년 국내 최초의 전기차 전용 공장을 설립하겠다고 밝힌 바 있다. 착공 시점은 J사 오토랜드 화성이 더 빠르지만 준공과 양산 시점으로 따지면 사실상 J사 오토랜드 광명이 J사 최초 전기차 전용 공장이 된다. 규모의 이 공장에서는 스토닉. 리오 등이 생산되고 있는데 작년 기준 연간 생산량만 약 32만대에 달한다. 세액공제를 받지 못할 경우 그 충격파도 상당할 거란 관측이 나오는 이유다. 수도권과밀억제권역 조세감면 배제는 기본적으로 지방 균형발전 차원에서 마련된 것. 전기차가 아니라 반도체 등 다른 공장도 해당 지역에 있는 이상 세제혜택을 받을 수 없다. 무엇보다 J사 오토랜드 광명이 위치한 곳은 개발제한구역. 으로도 묶여 있어 사실상 이중규제를 받고 있다. 개발제한구역에서 설비투자를 할 경우 보전분담금을 추가로 내야 하는 탓에 투자비가 더 늘어나게 된다. 국내 최초의 전기차 전용 공장이 세제혜택을 받기는커녕 오히려 더 많은 세금을 내는 아이러니한 상황이 발생한 것이다. 업계에서는 이 같은 상황에 대해 정부가 딜레마에 빠졌다는 분석을 내놓고 있다. J사 광명 공장에만 조세감면 배제 조항을 없앨 경우 특혜 시비가 발생할 수 있다는 것이다. 정부도 수도권과밀억제권역에 대해 예외를 적용하기는 어려울 것. 이에 관한 추가 논의도 사실상 없을 것으로 보인다. 다만 일각에서는 윤석열 대통령이 전기차 산업 육성을 강조하는 만큼 향후 특별법 등을 통해 세제혜택의 길을 열어줄 여지도 있다는 의견도 나온다.\n"
     ]
    },
    {
     "name": "stderr",
     "output_type": "stream",
     "text": [
      "익명화 진행 중:  61%|██████▏   | 28035/45609 [02:04<01:08, 258.24it/s]"
     ]
    },
    {
     "name": "stdout",
     "output_type": "stream",
     "text": [
      "Row 28000 기업명 -> 익명화 이름 매핑: {'현대차': 'R사'}\n",
      "Row 28000 after anonymization - 기업명: R사, full_text: 한국당 “박영선 남편, R사 소송 6년간 8건 수임”…민주당 “법적대응” 이들은 2012년 이전에는 2001년과 2006년 각각 한 건씩이었고. 2007년부터 2012년까지는 한 건도 없다가 DLA파이퍼 한국사무소 개설 후 불과 6년 만에 8건을 수임했다며 현대차그룹 관련 사건 8건의 목록을 공개했습니다. 그러면서 박 후보자가 대기업을 압박함으로써 남편이 현대차그룹 계열사 사건을 수임했다는 합리적 의심을 하지 않을 수 없다고 주장했습니다. 수임 목록에는 2013년부터 지난해까지 현대기아차가 미국에서 진행한 소송과 이를 대리한 법인으로 DLA파이퍼가 기재돼 있습니다. 이 씨는 2008년 이 회사 동경사무소에서 근무를 시작했고. 2013년 서울사무소 개설 뒤엔 현재 한국 총괄대표를 맡고 있습니다. 이종배 의원은 기자회견을 마친 뒤 기자들과 만나 DLA파이퍼가 국내 대기업 소송을 수임한 데는 한국사무소가 절대적인 영향을 미쳤고. 거기엔 이 씨의 덕이 컸다면서 박 후보자가 깨끗하고 올바른 정치인이라면. 남편인 이 씨에게 사건 수임이 오더라도 받지 않는 것이 옳았다고 생각한다고 말했습니다. 이에 대해 민주당 권미혁 원내대변인은 국회 브리핑에서 한국당 의원들이 또다시 박 후보자의 남편과 관련된 의혹을 제기하며 인신공격을 했다며 그동안 한국당이 박 후보자에 대해 제기한 의혹들에 대해 강력히 법적으로 대응하겠다고 밝혔습니다. 권 원내대변인은 브리핑 뒤 박 후보자 남편의 현대차그룹 수임 의혹에 대한 기자들의 질문을 받고 사실이 아니다라며. 박 후보자가 내일 임명될 걸로 예상되는 상황에서 오늘 갑자기 한국당에서 기자회견을 한 것은 정치적 의도가 있다고 보고 당에서 나서게 됐다고 말했습니다. 현대차그룹 관계자는 KBS와 통화에서 DLA파이퍼는 특허소송 분야에서 정평이 난 회사라며 입찰 방식. 을 통해 정상적인 절차대로 로펌을 결정한 것이라고 밝혔습니다. 특히 DLA파이퍼가 2013년 이후 6년 동안 현대차그룹 관련 8건의 소송을 수임한 것을 두고는 의뢰 건수가 중첩돼 8건으로 보일 뿐 과다계산된 것이라고 반박했습니다\n"
     ]
    },
    {
     "name": "stderr",
     "output_type": "stream",
     "text": [
      "익명화 진행 중:  64%|██████▎   | 29047/45609 [02:08<01:03, 261.43it/s]"
     ]
    },
    {
     "name": "stdout",
     "output_type": "stream",
     "text": [
      "Row 29000 기업명 -> 익명화 이름 매핑: {'현대차': 'I사'}\n",
      "Row 29000 after anonymization - 기업명: I사, full_text: 한국노총 “노동계 참여 보장, 현대차가 답해야” 글로벌모터스는 한국노총 복귀시점을 오늘. 한국노총은 역으로 상생 방안을 내놓으라며 대주주인 현대차를 압박했습니다. 리포트이용섭 광주시장은 한국노총에 상생형 일자리재단 설립에 함께하자고 제안했습니다. 여기서 광주형일자리에 대한 노동계의 참여 방안을 논의하고 실무 지원을 하겠다는 겁니다. 한국노총은 일자리재단 설립에 대해선 노동 문제 콘트롤 타워 역할을 할 수 있다며 반겼습니다. 하지만 광주형일자리 사업 참여는 별개라고 선을 그었습니다. 광주형일자리 회사인 글로벌모터스가 노동계의 참여에 대해 입장을 내놓은 게 없다는 겁니다. 윤종해한국노총 광주전남본부 의장 . 노동계 참여보장을 어떻게 할 것이냐 문제에 대해서 광주시는 그걸 글로벌모터스가 대답해야 한다고 얘기를 하고 있는 거에요. 저희도 글로벌모터스 대답을 기다리고 있는 중입니다. 더 직접적으로는 대주주인 현대차가 노동계의 경영 참여를 보장하면 일자리재단에 참여하고 광주형일자리에도 복귀하겠다는 겁니다. 오늘까지 복귀하지 않으면 사업 자체를 다시 검토하겠다던 글로벌모터스는 그 문제는 노사민정협의회에서 논의할 내용이란 입장을 밝혔습니다. 글로벌모터스는 다음달 7일 임시 주주총회를 열 예정입니다. KBS 뉴스 류성호입니다\n"
     ]
    },
    {
     "name": "stderr",
     "output_type": "stream",
     "text": [
      "익명화 진행 중:  66%|██████▌   | 30028/45609 [02:12<01:07, 229.85it/s]"
     ]
    },
    {
     "name": "stdout",
     "output_type": "stream",
     "text": [
      "Row 30000 기업명 -> 익명화 이름 매핑: {'기아': 'P사', '현대차': 'L사'}\n",
      "Row 30000 after anonymization - 기업명: L사, full_text: 오늘 출고 시작했는데…L사 '아이오닉5' 악재 터졌다 이에 빠르게 소진되고 있는 전기차 보조금 수령도 어려워질 것으로 보여 계약자들 사이에서 우려의 목소리가 커지고 있다. 아이오닉5 사전계약 물량부터 출고 시작29일 업계에 따르면 현대차는 전날 아이오닉 5의 사전계약 물량부터 출고를 시작했다. 지난 2월25일 사전계약을 시작한 아이오닉5의 계약 대수는 4만여대에 이른다. 그러나 양산에 들어간 지 약 보름 만에 구동모터 수급에 차질을 빚으면서 아이오닉5의 생산은 중단되기 이르렀다. 앞서 현대차는 지난 7. 14일 아이오닉5를 생산하는 울산1공장을 멈춰세운 바 있다. 현대차는 아이오닉5의 이달 생산 계획을 당초 1만대에서 2600대로 축소했다. 다만 여전히 구동모터 납품이 정상화되지 못하고 있는 상황이어서 생산 차질은 다음 달에도 계속될 전망이다. 여기에 차량용 반도체 수급난까지 겹쳐 생산 정체가 연말 쯤에 해소될 것으로 업계는 보고 있다. 현대차는 당초 부품 재고를 확보한 덕에 1분기까지는 반도체 수급난 타격을 최소화할 수 있었다. 그러나 반도체 부품이 빠르게 소진되자 4월 급기야 그랜저와 쏘나타를 생산하는 아산공장의 가동을 중단했다. 의 정점이 될 것으로 보고 있다. 보조금 못 받는 물량 발생할 듯더 큰 문제는 전기차 보조금이다. 전기차 보조금은 국고 보조금에 지방자치단체 보조금이 더해져 지급되며. 지급은 선착순으로 이뤄진다. 환경부에 따르면 정부는 올해 전기 승용차 7만5000대에 대당 1100만. 1900만원의 국고 보조금을 지급한다. 작년 3만1000여대보다 2배 이상 늘렸지만 정작 전국 지방자치단체가 지방비로 편성한 예산이 4만5814대분에 그쳐 지급가능한 보조금 분량은 줄어들 예정이다. 아이오닉5 외 P사 EV6의 사전계약 물량은 약 3만대에 달한다. 취소 물량을 제외하고 공식 집계된 두 차의 사전계약 대수만 7만대다. 여기에 지난달 보조금 지급이 본격적으로 시작되자마자 테슬라가 3000여대의 보조금 분량을 쓸어갔다. 단순 수치상으로 보면 절반 이상이 보조금을 못 받을 것이라는 계산이 나온다. 특히 출고가 지연되면 보조금을 받지 못하는 계약 물량이 더 늘어날 가능성을 배제할 수 없다. 현재로서는 계약이 확정된 아이오닉5만 보조금 신청이 가능한데 보조금 지급 대상자로 선정돼도 2개월 내에 차량을 인도 받아야 보조금을 받을 수 있기 때문이다. 국고 보조금이 남아 있더라도 지자체 보조금이 소진됐다면 보조금을 수령할 수 없다. 부산 등 전기차 수요가 높은 지자체의 보조금은 바닥을 보이고 있다. 환경부 저공해차 통합누리집에 따르면 29일 기준 서울의 전기승용차 보조금 가능대수 5067대 가운데 4070대. 부산은 지급 가능대수 2301대 중 1345대. 두 지역 모두 법인 신청대수는 지급 가능대수를 초과한 상황이다. 사전계약 했거나 이미 계약하고도 인도가 늦어져 보조금을 받지 못하는 게 아니냐는 우려가 커지는 이유다\n"
     ]
    },
    {
     "name": "stderr",
     "output_type": "stream",
     "text": [
      "익명화 진행 중:  68%|██████▊   | 31042/45609 [02:16<01:03, 228.67it/s]"
     ]
    },
    {
     "name": "stdout",
     "output_type": "stream",
     "text": [
      "Row 31000 기업명 -> 익명화 이름 매핑: {'현대차': 'Q사', '삼성전자': 'O사'}\n",
      "Row 31000 after anonymization - 기업명: Q사, full_text: 러시아 ‘비우호 국가’ 지정에 삼성·Q사 영향은? 삼성전자와 Q사 등 러시아에 공장에 있는 국내 기업의 타격이 불가피할 전망입니다. 강산 기자와 짚어봅니다. 먼저 어떤 국가들이 비우호국가에 포함됐나요. 우리나라를 포함해 우크라이나. 유럽연합 회원국 등이 포함됐습니다. 러시아 정부는 이들 비우호국가의 채권자에게 러시아 기업과 개인이 러시아 루블화로 부채를 상환하도록 했습니다. 러시아의 우크라이나 침공 전인 지난 2월 중순 1루블에 16원이었던 루블화는 어제 7일 기준 8. 85원으로 절반가량 폭락했습니다. 외국인 채권자 입장에선 사실상 절반 정도의 빚만 받게 되는 겁니다. 우리 기업이 받는 부정적 영향도 적지 않을 것으로 보이는데요. 러시아에는 현재 O사. Q사 등 대기업을 포함해 40여 개의 기업이 진출해 있습니다. 삼성전자는 현재 러시아 스마트폰과 TV 시장에서 점유율 1위이고. 가전은 LG전자와 점유율 1위를 다투고 있습니다. 우리 기업들은 물류 대란으로 이미 부품 수출이 어려워졌는데 러시아가 내놓을 제제안에 따라 추가적인 피해도 불가피할 전망입니다. 다른 이슈도 짚어보죠. 삼성전자가 국제 해커조직 . 의 해킹 공격을 인정했죠. 삼성전자는 최근 외부의 정보 탈취 시도를 인지해 즉시 보안 대응 체제를 가동했다고 밝혔습니다. 현재까지 확인된 유출 자료에는 스마트폰 갤럭시 구동에 필요한 일부 소스 코드가 포함돼 있으나. 임직원과 고객의 개인 정보는 포함돼 있지 않다고 삼성은 설명했습니다. 국정원은 이번 해킹에 대해 산업기술보호법상 국가 핵심 기술에 해당되지 않는 것으로 파악된다고 밝혔습니다. 이런 가운데 어제 현대자동차는 중고차 시장 진출을 공식화했죠. 현대자동차가 밝힌 중고차 판매 대상은 출고 5년 미만. 주행거리 10만km를 넘지 않는 자사 차량 중 품질검사를 통과한 차량입니다. 중고차 업체를 의식해 시장 점유율을 자체 제한키로 했는데. 를 시작으로 2024년 5. 제조사가 직접 중고차 시장에 뛰어드는 건 현대대차가 처음인데 소비자 불만이 많은 중고차 시장에 일정부분 긍정적인 영향을 줄 것으로 보입니다.\n"
     ]
    },
    {
     "name": "stderr",
     "output_type": "stream",
     "text": [
      "익명화 진행 중:  70%|███████   | 32046/45609 [02:20<00:55, 245.18it/s]"
     ]
    },
    {
     "name": "stdout",
     "output_type": "stream",
     "text": [
      "Row 32000 기업명 -> 익명화 이름 매핑: {'현대차': 'K사'}\n",
      "Row 32000 after anonymization - 기업명: K사, full_text: 최소 2배 차이 K사 배당 vs 예금 이자 승자는? 거꾸로 말하면 오르지 않는다. 호실적에도 불구하고 주가가 생각처럼 오르지 않는다고 실망한 주주들에게 현대차가 더 많은 배당을 제시했다. 내년 K사 예상 배당수익률은 최소 5. 정기예금 평균 금리는 2. 쉽게 말해 이자보다 배당 수익이 2배 이상 많다. 현대차는 지난 25일 1분기 실적 발표 컨퍼런스콜에서 . 중장기 주주환원 정책. 배당 성향 기준 변경 분기별 배당 자사주 소각이 골자다. 를 주주환원에 활용하던 것을 순이익. 이상을 배당금으로 지급하는 방식으로 바꿨다. 잉여현금흐름이란 기업이 벌어들인 돈 중 세금. 영업비용 등을 제외하고 남은 현금을 의미한다. 순이익에서 고정자산증가분 등을 뺀 값이기 때문에 주주 입장에선 순이익 기준 배당이 더 이익이다. 또 연 2회 배당하던 것을 올해 2분기부터 분기마다 배당하기로 했다. 현대차는 여기에 보유한 자사주를 3년에 걸쳐 발행 주식 수의 1. 씩 소각할 예정이라고 덧붙였다. 이같은 정책 변화로 주당배당금. 이 최소 1645원 증가한다. 주당배당금은 분기별 순이익에 배당 성향을 곱한 후 K사 발행 주식 수. 보통주를 기준으로 지난해 연간 DPS는 7000원이다. 치로 계산한 DPS는 최소 8645원이다. 내년 주당배당금은 더 많아진다. 자사주 소각을 반영해 계산한 내년 DPS는 최소 1만1420원이다. 올해보다 2775원 늘어난 수치다. 배당수익률도 최소 5. 에 이를 것으로 예상된다. 현대차는 3년간 634만5000주 규모의 자사주를 소각할 예정이다. 지난 3월 기준 현대차가 가진 자사주는 867만1500주. 이를 3년에 걸쳐 232만6500주까지 낮출 계획이다. 나눠줄 주식 수가 줄면 주당 돌아가는 돈은 늘어난다. 대표적인 금융상품인 정기 예. 적금과 비교해도 배당수익이 더 높다. 으로 계산했으며 배당소득세 등 과세 부분은 제외했다. 2일 기준 5대 은행 1년 정기예금 상품의 평균 기본금리는 2. 은행연합회 포털 기준. K사 주가 10주에 해당하는 201만5000원을 예금에 넣는다면 5만5816원의 이자수익을 얻는다. 올해 K사 10주 배당금 8만6450원보다 3만634원 더 적다. 를 받아도 이자수익은 7만324원으로. 1만6126원 적다.\n"
     ]
    },
    {
     "name": "stderr",
     "output_type": "stream",
     "text": [
      "익명화 진행 중:  72%|███████▏  | 33041/45609 [02:24<00:55, 224.78it/s]"
     ]
    },
    {
     "name": "stdout",
     "output_type": "stream",
     "text": [
      "Row 33000 기업명 -> 익명화 이름 매핑: {'키움증권': 'C사', 'SK하이닉스': 'D사'}\n",
      "Row 33000 after anonymization - 기업명: D사, full_text: 왕따 韓 증시, 그래도 희망은 있다 그러나 증권업계 전문가들은 해당 이슈가 일본의 . 라는 점에서 오래 가지 못할 것이라고 전망하고 있다. 클럽인 다우존스산업평균지수는 전 거래일보다 117. 43에 거래를 마쳤다. 대형주 위주의 SP500 지수는 22. 이날 SP500 지수는 장초반 한때 2977. 93까지 오르며 사상최고가 기록을 경신했다. 기술주 중심의 나스닥종합지수는 84. 특히 반도체주들의 강세가 돋보였다. 스카이웍스솔루션스는 5. 마이크론과 브로드컴은 각각 3. 지난달말 미중 정상회담을 계기로 도널드 트럼프 미국 대통령이 중국 통신장비업체 화웨이에 대한 부품 공급 규제를 완화하겠다고 밝히면서다. 중국 증시도 무역분쟁 완화 호재에 크게 상승했다. 지난 1일 상하이종합지수는 전일 대비 2. 그러나 코스피 지수는 전날 이 같은 호재에도 불구하고 소폭 약보합세를 기록했다. 그동안 미중 무역분쟁으로 가장 큰 타격을 받았기에 이번 호재로 안도랠리가 펼쳐질 것으로 기대했으나 예상과 달랐다. 때마침 들려온 일본의 수출 규제 탓이다. 일본 정부는 오는 4일부터 반도체. 디스플레이에 쓰이는 . 3개 품목에 대한 한국 수출을 규제할 예정이라고 밝혔다. 이에 미중 무역협상 재개로 수출 회복이 기대돼 가장 크게 반등해야 했던 반도체주들 상승폭이 제한됐다. 삼성전자는 전날 5거래일 만에 반락해 0. 미국의 화웨이 제재 완화라는 호재까지 있었던 SK하이닉스도 강보합세로 마감하는데 그쳤다. 시가총액 대형주인 반도체주들이 일본 규제로 단기간 타격이 불가피한 만큼 국내 증시도 한동안 큰 반등이 제한될 것으로 전망된다. 그러나 오래 가지는 않을 것이라는 게 전문가들의 공통된 견해다. 서상영 C사 연구원은 일본이 반도체 일부 소재 수출을 규제한다고 발표하자 투자심리가 위축됐는데. 이 여파가 단기적으로 주식시장에 부정적인 영향을 줄 것이라며 미국 연방준비위원회의 금리인하 폭이 시장 기대와 달리 제한될 수 있다는 분석도 한국 증시에 대한 매물 출회 가능성을 높여 부담이라고 진단했다. 서 연구원은 그러나 일본 수출 규제는 일본 기업들에게도 피해를 줄 수 있다는 점에서 장기화될 가능성이 크지 않다며 연준 역시 기대보다는 적더라도 금리 인하를 할 가능성이 높은만큼 한국 증시 하락요인 대부분이 장기화 가능성이 높지 않다고 말했다. 또 전날 미국 증시에서 반도체 업종이 강세를 보인 것 역시 이날 한국 증시에서도 반도체 투자심리가 개선될 것이라고 기대했다\n"
     ]
    },
    {
     "name": "stderr",
     "output_type": "stream",
     "text": [
      "익명화 진행 중:  75%|███████▍  | 34039/45609 [02:29<00:56, 205.85it/s]"
     ]
    },
    {
     "name": "stdout",
     "output_type": "stream",
     "text": [
      "Row 34000 기업명 -> 익명화 이름 매핑: {'SK하이닉스': 'I사'}\n",
      "Row 34000 after anonymization - 기업명: I사, full_text: 주주 중시 경영으로 기업가치 확대...I사 ‘2020 한국IR대상’ 최우수상 지난 2018년 같은 부문에서 대상을 수상한 데 이어 올해 또다시 수상기업으로 선정돼. 뛰어난 IR 역량을 다시 한번 인정받았다. 한국IR대상은 적극적이고 효율적인 IR활동을 통해 주주와 회사의 공동이익 실현에 노력해 자본시장 발전에 기여한 IR우수기업과 임직원에게 주어지는 상이다. 국내 기업들의 적극적인 IR활동을 권장하고. 올바른 IR문화를 정착하기 위해 2001년부터 매년 시상식을 개최하고 있다. 전년도 7월부터 해당년도 6월까지 1년간의 IR성과에 대해 평가가 진행되며. 기업부문에서는 유가증권시장과 코스닥시장으로 구분해 총 8개 기업. 이중 유가증권시장 기업부문에서 최우수상을 수상한 SK하이닉스는 제도 개선과 새로운 배당정책을 통해 주주가치를 증대하고. IR 전담 조직을 활용한 적극적인 대내외 커뮤니케이션을 통해 시장 상황과 이에 따른 회사의 경영 활동을 적시에 공유해온 지난 1년간의 노력을 인정받았다. 이와 함께 코로나19 이슈. 미중 무역 갈등 격화에 따른 주요 고객과의 거래 제약 등 전례 없는 위기 상황 속에서 선진적인 위기 관리. Risk Management. 역량을 보여준 것도 좋은 평가를 이끌어냈다. 또한 최근 투자자들의 기업가치 평가에서 중요한 기준으로 떠오르고 있는 ESG 분야에서 선제적인 대응을 수행한 것 역시 수상에 매우 긍정적인 요소로 작용했다. 이날 시상식에서 수상자로 나선 I사 박성환 IR담당은 . 이번 수상을 끊임없이 변화하고 도전하는 자세로 한국 기업 IR의 모범을 보여달라는 의미로 받아들이겠다. SK하이닉스가 앞으로 만들어갈 흥미진진한 파이낸셜 스토리. Financial Story. 이해관계자들과 잘 소통해. 기업가치 제고를 위해 더욱더 노력하겠다\n"
     ]
    },
    {
     "name": "stderr",
     "output_type": "stream",
     "text": [
      "익명화 진행 중:  77%|███████▋  | 35033/45609 [02:34<00:48, 216.91it/s]"
     ]
    },
    {
     "name": "stdout",
     "output_type": "stream",
     "text": [
      "Row 35000 기업명 -> 익명화 이름 매핑: {'삼성전자': 'J사', 'SK하이닉스': 'V사'}\n",
      "Row 35000 after anonymization - 기업명: V사, full_text: 막오른 글로벌 반도체 패권 전쟁…'백척간두'에 선 J사·SK 시 주석은 불장난하는 자는 타죽는다라는 자극적인 말도 서슴지 않았다. 대만 문제에서 첨예하게 대립한 양국 정상은 첫 화상 정상회담에서 공동 성명도 내지 못했다. 회담에서 큰 성과는 없었고. 양국이 대면할 가능성과 요소들은 더욱 많아졌다. 중국 관영 환구시보의 영문판 글로벌타임스는 . 양국 관계는 수십 년 만에 최저점에 도달했다는 평가가 나오고 있고. 예상보다 빠른 속도로 악화하고 있다. 중 간 글로벌 패권 다툼을 극명하게 보여주는 사례로. 두 정상 간 설전이 오간 이면에는 . 라는 결코 양보할 수 없는 사안이 있다. 중국 본토와 직선거리로 불과 125. 거리에 있는 대만은 미국에는 중국과의 패권 다툼 최전선에 있는 . 과거 한국전쟁 당시 미국의 외교정책 분석가이자 국무장관을 역임한 존 덜레스는 당시 소련을 포함한 대륙 세력을 봉쇄하기 위해 대만을 중심으로 한 . 이라는 이름의 해상 방어망의 개념으로 새롭게 등장한다. 도련선은 중국 입장에서는 방어선이지만. 미국이나 주변국 입장에서는 중국의 팽창 의지를 극명하게 보여주는 사례다. 중국은 일본 오키나와. 남중국해 말레이시아를 잇는 . 에서 배타적 제해권을 확보한 뒤. 인도네시아로 연결되는 . 제2도련선까지 추후 진출한다는 목표를 갖고 있다. 중국이 세력 확장을 현실화하려면 오키나와와 한국에 군사 기지를 두고 있는 미국과 필연적으로 충돌할 수밖에 없다. 따라서 미국은 중국의 도련선 전략은 동아시아. 더 나아가 태평양 제해권에 대한 정면 도전으로 받아들인다. TSMC에 의지해 온 미국. 반도체 생산 변화 모색특히 세계 최대 반도체 파운드리. 업체인 TSMC가 대만 기업이라는 점에서 대만해협에서의 양국 간 긴장감은 날로 고조되고 있다. 미국은 시스템 반도체 설계 기술과 관련한 특허가 세계 최고 수준에 원천 기술도 다수 보유하고 있지만. 반도체 생산 능력은 대만이나 한국보다 한참 떨어진다. 반도체 산업은 용도에 따라 크게 정보를 저장하는 목적의 . 와 정보를 처리하는 목적의 . 디램과 낸드플래시가 대표적인 메모리의 경우 대개 한 기업이 설계부터 생산까지 도맡아 하는 데 반해. AP 등의 시스템 반도체는 . 등 공정별로 글로벌 기업 간에 분업화돼 있다. 엔비디아 등의 기업을 보유한 미국은 시스템 반도체에서도 설계는 세계 최강자의 지위를 유지하고 있다. 하지만 생산을 도맡는 파운드리는 대만과 한국에 주도권을 내줬다. 시장조사업체 트렌드포스에 따르면 2021년 3분기 기준 TSMC의 파운드리 시장 점유율은 53. 파운드리 사업은 집적도와 에너지 효율을 높이는 미세공정 기술이 핵심 경쟁력으로. 미세공정 기술을 적용해 제품을 생산할 수 있는 기업은 TSMC와 삼성전자뿐이다. 두 기업은 반도체 칩 생산 능력에서 나란히 3나노미터 제조기술 개발 상용화 경쟁을 벌이고 있다. AMD 등 미국 반도체 기업은 2010년대 들어 미세공정에서 TSMC와 삼성전자에 뒤처지기 시작한 데다. 높은 인건비 등으로 경쟁력을 잃으면서 생산을 사실상 포기했다. 특히 미국 반도체 기업들은 TSMC에 생산을 크게 의지하고 있는데. 만약 대만이 중국 영향 아래 놓이게 되면 미국은 반도체 공급에 매우 큰 차질을 빚을 수도 있다. 올해 초 출범한 바이든 행정부가 반도체 공급망 조사에 나서고 TSMC. J사 등에 미국 내 생산 시설을 늘려 달라고 요청한 데에는 이처럼 부족한 생산 능력을 먼저 확충하려는 의도가 깔려 있다. 로 일컬어지는 중국의 거센 도전을 받아온 미국은 중국의 세력 확장에 대비해 인공지능. 미래 자동차 등 미래 첨단산업의 핵심 인프라와도 같은 반도체의 공급망 체계를 자국 내에 구축하겠다는 목표를 세우고 있다. 에 반격 나선 미국 2015년은 중국의 . 가 가까운 미래에 미국 첨단산업의 핵심 경쟁력에 심각한 위해를 가할 수도 있다는 사실을 절감하게 해 준 한해로 회자된다. 그해 중국 국영기업인 칭화유니그룹은 미국의 메모리 반도체 기업인 마이크론 인수에 나선다. 아울러 중국 국무원은 산업 고도화 전략인 . 를 통해 글로벌 제조 강국으로 도약하겠다는 야심 찬 계획을 밝혔다. 비록 미국 반독점 당국의 제동으로 칭화유니그룹의 마이크론 인수는 무산됐지만. 정부의 전폭적인 지원을 등에 업은 중국 기업들은 이후에도 샌디스크. 래티스 등을 인수하려 했다. 2017년 브로드컴이 퀄컴을 인수하려다 당시 도널드 트럼프 미국 대통령이 인수를 금지하는 행정명령에 서명한 것도 중국의 미국 반도체 기업 사냥의 연장선상에서 벌어진 일로 볼 수 있다. 브로드컴이 비록 미국에서 창업한 기업이지만. 인수합병 등으로 본사가 싱가포르로 변경됐고. 중국계 말레이시아인이 최고경영자. 당시 미 재무부 외국인투자심의위원회. 는 브로드컴이 퀄컴을 인수하면 5세대. 이동통신 기술 연구개발을 저해하고 중국 화웨이의 시장지배를 허용할 가능성을 특히 우려한 것으로 전해진다. 중국의 공세에 방어 자세를 취하던 미국이 본격적으로 반격을 가한 것은 2019년 화웨이를 겨냥한 제재에 나서면서부터다. 미국은 중국 공산당과 긴밀한 관계인 화웨이가 미래 사회 핵심 인프라인 5G망을 장악할 경우 되돌릴 수 없는 사태가 벌어질 것이라며 퀄컴. 인텔 등 자국 반도체 기업이 화웨이에 제품 공급을 어렵게 하는 제재를 시작했다. 화웨이는 이에 맞서 자화사인 하이실리콤을 통해 설계한 반도체 칩을 TSMC에 위탁 생산하는 방법을 모색했다. 그러자 미국은 이듬해인 2020년 5월에는 제3국 기업이라도 미국의 기술을 부문적으로라도 활용한 반도체 기업은 미국 상무부의 허가를 받아야만 화웨이에 제품을 팔 수 있도록 하는 더 강력한 제재 카드를 꺼내 든다. 여기에 코로나19 세계적 대유행. 에 따른 반도체 공급 부족 사태로 인해 미국은 자국 중심의 공급망 재편을 더욱 서두르게 된다. 이는 미국 반도체산업협회. 가 2021년 2월 바이든 대통령에게 보낸 서한에서도 잘 드러난다. 수송을 비롯한 무수한 영역에 걸쳐 기간산업의 발전을 뒷받침하는 것이 반도체다. 반도체가 실현하는 기술로 우리는 팬데믹 상황에서도 생산성과 네트워크를 유지해 왔다. 미국 내 반도체 제조에 대한 지원과 연구에 과감한 투자를 진행함으로써 대통령과 연방의회는 미국 경제와 일자리 창출을 재활성화할 수 있고. 국가 안전 및 반도체 공급망을 강화할 수 있다. 은 2022년부터반도체 업계에서는 미. 중 간 반도체 패권 다툼은 이제 서막에 불과하고 앞으로 더욱 심화할 것이라는 우려가 적지 않다. 기술 우위를 점하고 있는 미국의 거센 반격으로 비록 중국이 다소 주춤하고는 있지만. 결코 물러설 수 없는 절박한 상황에 놓여 있기 때문이다. 특히 2022년은 마오쩌둥 이후 처음으로 장기집권 시대를 열어가려는 시 주석의 집권 10년 차로. 그는 나름의 반격을 위해 절치부심할 것으로 보인다. 중국이 핵심 부품과 소재의 내재화를 추진하고. 미국처럼 자국 중심의 반도체 공급망을 구축하려 하겠지만. 가까운 시일 내 실현은 사실상 불가능하다. 반도체는 기술 격차를 따라잡기 어려운 산업 분야인데다. 미국이 반도체 첨단 제조공정에 사용되는 네덜란드 ASML의 EUV. 노광장비를 중국 기업에 수출하지 못하게 막고 있는 등 강력한 제재가 앞으로 상당 기간 지속될 가능성이 크기 때문이다. 중국은 연구개발을 적극 장려하고. 세금 감면 혜택 등을 늘려 자국 반도체 기업이 장기적으로 대비할 수 있게 하는 전략을 우선 취할 것으로 보인다. 실제 중국은 2021년 2월 미세공정 기술력과 경영 기간 등에서 부합하는 반도체 기업에는 법인세 면제까지 가능하게 하는 육성안을 내놓기도 했다. 거세게 미국을 추격해 오던 중국이 주춤하는 사이 글로벌 반도체 기업들의 투자는 향후 몇 년간 미국에 집중될 가능성이 크다. 미국은 자국의 반도체 제조 능력 회복이 시급하다고 보고. 2020년 6월부터 2024년까지 설치된 반도체 장비 또는 반도체 제조 설비 투자금에 대해 최대 40. 를 환급해주는 내용의 지원 법안을 마련했다. 인텔은 파운드리 사업을 재개하고. 약 23조8000억 원. 를 투자해 미국 애리조나주에 2개의 파운드리 공장을 짓겠다고 발표하며. 이 같은 바이든 행정부의 자국 반도체 제조업 육성 정책에 재빠르게 올라탔다. TSMC는 2024년까지 1000억 달러. 를 투자한다는 계획을 발표했는데. 이는 미국 정부의 세제 혜택에 따른 결정으로 보인다. 삼성전자는 170억 달러. 미국에 제2파운드리를 건설할 계획이다. 삼성전자는 2021년 8월 이재용 부회장의 가석방 이후 향후 3년간 240조 원을 투자한다는 계획을 발표하기도 했다. 중 사이 줄타기기술 경쟁력 확보가 살길미국과 중국 간 갈등 고조에 J사. V사 등 한국 반도체 기업은 . 에 서 있는 것으로 비유된다. 한국은 여타 국가와 마찬가지로 미국의 반도체 원천 기술이 필요하지만. 반도체 수출에서 대중국 비중이 40. 를 차지할 정도로 중국 또한 포기할 수 없는 시장이기 때문에 당분간 아슬아슬한 줄타기를 해야 할 것으로 예상되기 때문이다. 미국과 중국 간 패권 다툼 와중에 발생할지도 모를 한국 기업들에 대한 부당한 요구나 불이익에 대한 적극적인 대처도 요구된다. 한 예로 미 상무부가 설문조사 형식을 빌려. 자국 반도체 기업은 물론. 삼성전자와 V사. TSMC 등 해외 기업에 반도체 재고와 주문. 고객사 정보 등 민감한 정보 제출을 요구한 것과 관련. 각 기업이 제출한 자료는 향후 자국 기업 중심의 반도체 공급망 구축에 활용될 가능성도 있고. 주기적으로 자료 제출을 요구할 가능성도 배제할 수 없다. 지나 러몬드 미국 상무장관은 로이터와의 인터뷰에서 국방물자생산법. 을 거론하며 자료가 충분하게 만족스럽지 않을 경우 추가 조치가 필요할지도 모른다며 압박 수위를 높인 바 있다. 이는 경쟁사에 영업비밀을 노출하는 결과를 초래할 수 있어 기업들의 우려가 적지 않다. 전문가들은 중국에는 거래나 투자가 축소될 경우 미국의 제재에 따른 불가피한 측면이 있다고 설명한다. 미국의 자국 반도체 생산 능력 확대를 위한 지원책을 적극적으로 활용할 필요가 있다고 조언한다. 김영우 SK증권 리서치센터장은 그의 저서 에서 . 파운드리는 TSMC와 삼성전자의 양강 구도에서. 미국 정부의 집중적인 지원으로 인텔이 성공적으로 회복한다면 3강 구도로 바뀔 수 있다. 만약 삼성전자가 TSMC와 인텔 대비 미국의 정책을 적극적으로 활용하지 못하거나. 미국이 국가 안보와 연계해 원산지 규정을 강화하면 상대적으로 어려워질 수 있다. 미국에 파운드리 증설을 공격적으로 고려해볼 필요가 있다. 삼성전자는 파운드리 사업을 분사해 미국 나스닥에 상장하고. IPO를 통해 얻은 재원을 활용해 새로운 투자 재원을 마련하는 방안도 고려할 수 있다. 전 세계적으로 수요가 급증할 SiC. 와 같은 화합물 반도체 부문 진출을 고려할 수 있을 것. 안기현 한국반도체협회 전무는 . 미국이 반도체에서는 중국보다 절대적인 기술 우위에 있는 만큼 현재는 패권 전쟁이라기보다는 제조시설 구축 경쟁이라고 본다. 한국 기업 입장에서는 미국 투자는 기회가 될 수 있으며. 한국 정부도 공급망 안정화에 집중해야 한다. 강성철 사단법인 한국반도체디스플레이학회 선임연구위원은 . 무엇보다 중요한 것은 경쟁력 있는 생산 시설과 우수한 인력을 확보해 우리의 기술력을 높이는 것으로. 특히 연구개발을 위한 지원을 더 강화해야 한다. 반도체는 용도에 따라 크게 메모리 반도체와 시스템 반도체로 나뉜다. 데이터를 일시적 또는 영구적으로 저장하는 메모리 반도체는 크게 휘발성 메모리인 디램. 과 비휘발성 메모리인 낸드플래시. 디램의 경우 한국의 삼성전자가 약 40. SK하이닉스는 약 30. 를 점유하고 있을 정도로 한국 기업들이 강세를 보이고 있다. 이에 반해 정보처리를 목적으로 하는 시스템 반도체는 설계부터 생산. 글로벌 기업 간 분업화가 돼 있다. 시스템 반도체는 용도에 따라 크게 CPU. Central Processing Unit. Graphics Processing Unit. Application Processor. Application Specific Integrated Circuit. 미국은 시스템 반도체의 설계에서는 독보적 기술력을 갖추고 있지만. 생산은 대만과 한국 기업에 맡기고 있다. 특히 인텔 등 미국 주요 반도체 기업들은 TSMC에 주로 생산을 위탁해 왔다. 하지만 중국의 팽창으로 TSMC가 중국의 영향권에 놓일 것을 우려하며 자국 내 생산 시설 확충에 나서고 있다.\n"
     ]
    },
    {
     "name": "stderr",
     "output_type": "stream",
     "text": [
      "익명화 진행 중:  79%|███████▉  | 36019/45609 [02:38<00:49, 194.54it/s]"
     ]
    },
    {
     "name": "stdout",
     "output_type": "stream",
     "text": [
      "Row 36000 기업명 -> 익명화 이름 매핑: {'삼성전자': 'H사', 'SK하이닉스': 'G사'}\n",
      "Row 36000 after anonymization - 기업명: G사, full_text: K반도체 中공장 '이중 덫'에 걸렸다 이 와중에 미국 정부가 한국 반도체 기업의 중국 내 공장에서 일정 수준 이상의 반도체를 생산하지 못하도록 한도를 설정하겠다고 밝혀 사업 불확실성 확대 등 2차 파장은 더 커질 것으로 전망된다. 24일 H사 등의 감사보고서를 보면 반도체와 디스플레이 판매를 맡은 H사 중국 상하이법인. 의 지난해 매출은 21조 3706억 원으로 전년. 32조 3261억 원. 대비 10조 원 가까이 줄었다. 낸드를 주력으로 생산하는 H사 시안법인. 의 지난해 당기순이익은 6338억 원에 그치며 전년. 대비 3분의 1토막이 났다. G사 중국 반도체법인의 상황도 비슷하다. D램 공장을 운영하는 G사 중국 우시법인의 지난해 매출은 9조 5242억 원으로 2021년. 12조 9389억 원. D램을 만드는 생산법인은 지난해 4600억 원이 넘는 당기순손실을 기록했다. 이런 상황에서 미국 정부가 중국 내 반도체 공장의 기술 업그레이드를 제한하겠다는 의지를 내비치며 국내 반도체 업계에 비상이 걸렸다. 앨런 에스테베스 미 상무부 산업안보차관은 23일. 과 전략국제문제연구소. 가 워싱턴DC에서 개최한 한미 경제안보 포럼에서 . 삼성과 SK에 제공한 대중 반도체 수출 통제 1년 유예가 끝나면 어떻게 되느냐. 는 질문에 기업들이 생산할 수 있는 반도체 수준에 한도. cap on level. 를 둘 가능성이 크다고 답했다. 일정 기술 수준 이상의 첨단 제품은 생산할 수 없도록 하겠다는 것이다. 제재가 현실화할 경우 국내 반도체 기업의 미세공정 전환은 사실상 불가능해진다. 추가 투자와 판매 확대도 악영향을 받을 수밖에 없다. 업계의 한 관계자는 . 구체적인 가이드라인이 나온 것은 아니다. 국내 기업의 피해가 없도록 . 협상을 잘 이끌어주기 바란다. 한편 블룸버그통신 등은 이날 대만 TSMC가 일본 구마모토현에 1조 엔. 약 9조 7000억 원. 이상을 투자해 두 번째 반도체 공장을 짓는다고 보도했다.\n"
     ]
    },
    {
     "name": "stderr",
     "output_type": "stream",
     "text": [
      "익명화 진행 중:  81%|████████  | 37036/45609 [02:43<00:41, 207.10it/s]"
     ]
    },
    {
     "name": "stdout",
     "output_type": "stream",
     "text": [
      "Row 37000 기업명 -> 익명화 이름 매핑: {'SK하이닉스': 'I사'}\n",
      "Row 37000 after anonymization - 기업명: I사, full_text: 국산 AI반도체 기반 교통관제로 나무 15만 그루 탄소감축 효과(종합) 엔비디아 제품과 같은 그래픽처리장치. 기반 관제 시스템을 X220 기반 새 시스템으로 전환하면 처리 속도는 동일. 하고 소비 전력은 50. 이상 절감할 수 있다고 류 대표는 밝혔다. 전국 교차로 CCTV에 모두 이 시스템을 적용할 경우 시간당 3천39. 의 전력을 절감해 15만3천439그루의 나무를 심는 것과 같은 탄소 저감 효과를 낼 수 있다는 설명이다. 이러한 지능형 교통관제 서비스는 K. 클라우드 프로젝트 1단계 실증사업 중 하나로 사피온과 NHN클라우드. 노타가 함께 추진 중이다. 역시 국산 AI 반도체 회사 리벨리온 박성현 대표도 자사 신경망처리장치. 를 기반으로 KT클라우드. 슈퍼브AI와 함께 개발한 개인 맞춤형 영양관리 플랫폼 . 월 활성 이용자 수 75만 명에 달하는 이 플랫폼은 식탁 사진을 한 번만 촬영하면 전체 음식 정보와 칼로리 정보를 제공한다. 리벨리온에 따르면 이 회사의 AI 반도체 . 은 엔비디아 A2 GPU보다 처리 속도는 거의 2배 빠르고. 전력 소모량은 절반도 안 된다. 퓨리오사AI의 백준호 대표도 고성능. 저전력 AI 반도체 . 를 기반으로 네이버클라우드. 심플랫폼과 컨소시엄을 구성해 건설 현장의 위험 탐지 관제 서비스를 실증하고 있다고 밝혔다. 이날 시연한 프로젝트들은 오는 2025년까지 진행될 K. 클라우드 프로젝트 1단계 실증사업에 포함돼 있다. 클라우드 프로젝트는 세계 최고 수준의 초고속. 저전력 AI 반도체를 개발하고 이를 데이터센터에 적용해 국내 클라우드 경쟁력을 강화하기 위한 사업으로. 지난 6월 1단계 실증에 착수한 상태다. 이날 전략대화에는 이종호 과기정통부 장관. 삼성전자와 I사 등 메모리 반도체 대기업 인사들과 사피온. 리벨리온 외에 딥엑스. 망고부스트 등 국내 AI 반도체 기업. 네이버클라우드 등 클라우드 기업 대표들이 참석했다. 이 장관은 우리는 달리는 걸음을 늦출 수 없다. 지난해 11월 챗GPT 등장 이후 초거대 AI를 둘러싼 글로벌 경쟁은 갈수록 치열해지고 있다라며 국가 전방위적으로 AI를 확산하고 국민 모두가 AI 혜택을 누리기 위해서는 저전력. 고성능의 AI 컴퓨팅 인프라를 갖추는 것이 매우 중요하다고 말했다. 이날 행사와 더불어 네이버와 삼성전자가 협력해 개발 중인 FPGA. 기반 초거대 AI 모델 추론용 반도체를 소개하는 전시 부스를 포함한 국내 기업들의 기술개발 성과 전시회도 함께 열렸다. 텔레칩스 등 국내 AI 반도체 기업들과 카이스트. 등 학계와 연구기관들도 전시 부스를 통해 최신 제품과 기술을 소개했다\n"
     ]
    },
    {
     "name": "stderr",
     "output_type": "stream",
     "text": [
      "익명화 진행 중:  83%|████████▎ | 38053/45609 [02:47<00:29, 253.90it/s]"
     ]
    },
    {
     "name": "stdout",
     "output_type": "stream",
     "text": [
      "Row 38000 기업명 -> 익명화 이름 매핑: {'삼성전자': 'S사', '삼성증권': 'F사'}\n",
      "Row 38000 after anonymization - 기업명: S사, full_text: 동학개미 돈 벌려면…'S사 몰빵' 대신 3가지 투자법 삼성증권은 8일 시장의 다양한 전망과 개인투자자의 투자성향에 맞춰 3가지 . 우선 증시가 빠르게 회복되면서 V자로 반등하거나 일정기간 횡보 후 회복되는 U자형 반등을 예상하는 투자자의 경우. 삼성전자를 비롯한 우량 종목이나 시장전체를 추종하는 ETF. 등을 직접 매수하는 전략을 제시했다. S사 주식은 지난달 23일 올해 들어 종가 기준 최저점인 4만2500원을 기록한 후 지난 7일. 에는 최저점 대비 16. 상승한 4만9600원을 기록했다. 다만 주식 직접 투자의 경우 상승 시 이익만큼 주가가 하락했을 때 손실이 발생할 수 있다는 점은 유의해야 한다. 삼성전자는 불확실한 경제상황이 지속돼 주가가 횡보하는 L자형 추세를 보이거나 회복되더라도 장기간 더디게 회복하는 국면을 예상하는 투자자들은 삼성전자를 기초자산으로 하는 ELS. 를 선택하는 것이 유리하다고 밝혔다. 삼성증권이 오는 14일까지 모집하는 ELS 24274회는 가입 후 3. 9개월 시점에 돌아오는 조기상환 시점에 주가가 최초 기준가의 2. 이상만 상승하면 연 18. 의 수익을 얻을 수 있다. 1년 후 만기시까지 조기상환되지 않을 경우는 만기시점에 상승했으면 상승분만큼 이익이. 하락했으면 하락분 만큼 손실이 발생한다. 만약 하락했을 경우에도 최소 원금의 80. 는 지급되도록 설계됐다. 이밖에 나이키형 회복을 예상하는 투자자에게는 ELS 24275회를 맞춤형 투자처로 제시했다. 가입 후 1년 뒤 기초자산인 삼성전자의 최초기준가격보다 최종기준가격이 상승한 경우. 를 수익으로 받게 된다. 반대로 하락 시 하락분 만큼 손실이 발생하지만. 이 경우도 최소 원금의 80. 김성봉 F사 상품지원담당은 실물경제와 관련된 부정적 지표 등이 나오기 시작하면 추가적으로 시장에 변동성이 커지거나 회복기간이 길어질 수 있다고 에상하는 투자자들도 상당수라며 이런 전망을 갖고 있는 투자자의 경우 손실은 일정수준으로 제한하면서 수익을 추구할 수 있는 ELS가 적합하다고 판단돼 지속적으로 상품을 출시할 계획이라고 밝혔다. 불확실한 시장 위기상황이 지난 후 글로벌 산업 재편의 승자가 될 기업을 찾는 기업을 찾는 중장기 투자자들에게는 한국. 중국의 대표기업 1개씩을 선정해 투자하는 랩어카운트 서비스를 제시했다. 랩어카운트는 증권사가 고객으로부터 일임을 받아 주식. 펀드 등을 운용해 주는 상품이다. 현재훈 F사 랩운용팀장은 많은 전문가들이 이번 위기상황이 지나간 후 재무안정성과 성장성을 겸비한 글로벌 강자 기업들의 시장 지배력이 더욱 강화될 것으로 예상하고 있다며 매력있는 종목을 엄선해 포트폴리오에 담는 랩어카운트를 출시할 계획이라고 밝혔다\n"
     ]
    },
    {
     "name": "stderr",
     "output_type": "stream",
     "text": [
      "익명화 진행 중:  86%|████████▌ | 39034/45609 [02:51<00:27, 243.44it/s]"
     ]
    },
    {
     "name": "stdout",
     "output_type": "stream",
     "text": [
      "Row 39000 기업명 -> 익명화 이름 매핑: {'삼성전자': 'D사'}\n",
      "Row 39000 after anonymization - 기업명: D사, full_text: 누이떠] 주린이 일타강사 염승환 이사의 픽은?! “하반기 코스피, 삼성전자에 달렸다… 보험·반도체株 주목” D사 주가를 보면서 대응하면 됩니다. 이라는 애칭으로 불리며 주린이들의 열렬한 지지를 받고 있는 염승환 이베스트투자증권 디지털사업부 이사는 12일 방영된 조선비즈 재테크 유튜브 채널 . 누워서 연 2000만원 떠먹기. 에 출연해 이같이 전망했다. 염 이사는 경제 유튜브 . 등에 출연해 시황을 분석하고 있다. 주린이가 가장 알고 싶은 최다질문 TOP77. 은 출간 후 베스트셀러 1위에 오르면서 2개월여 만에 100쇄를 돌파했다. 강원도 산골 출신 30대 월급쟁이의 아크로리버파크 구입기. 읽으면 돈이 되는 공모주 투자. 한 권으로 끝내는 배당주 투자. 가 매주 각 분야의 재테크 전문가들과 돈 되는 투자법에 대해 대담하는 프로그램이다. 코인이나 테마주처럼 변동성이 크지 않은 투자처를 선택해 비교적 안전하게 투자하면서도 연 2000만원의 수익을 얻을 수 있다는 점을 방송을 진행하며 차차 증명할 계획이다. 하반기 주가 우상향 보험. 염 이사는 하반기 한국 주식 시장에 대해 지수가 우상향할 전망이지만 불확실성이 크다고 전망했다. 하반기에는 D사 주가가 가장 중요하다. 악재는 지난 5개월 동안 주가가 오르지 않으면서 가격에 반영됐다고 생각돼 여기서 더 나쁠 것은 없다고 본다. 다만 염 이사는 주가 흐름을 파악하는 데 두 가지 변수를 살피라고 조언했다. 하반기 코스피 지수가 3500. 3600까지는 가는데. 그게 7월이 될 수도 10월이 될 수도 있다. 이 부분은 D사 주가를 보면서 대응하면 좋겠다. 다른 한 가지 변수는 결국 미국 연방준비제도. 자산 매입 규모 축소. 하지만 이미 예정된 이벤트가 된 만큼 너무 걱정할 필요는 없을 것. 하반기 투자할 만한 섹터에 대해 염 이사는 보험과 반도체. 조선주 등을 주목하라고 추천했다. 보험 업종은 역설적으로 아무도 관심이 없기 때문에 주가가 내려갈 가능성도 희박하다. 더욱이 자동차 손해율 감소. 실손보험 청구 간소화 등 실적에 호재가 되는 요인들이 있고. 높은 배당률까지 감안했을 때 가격 매력도 상당하다. 반도체 공급망 재편과 관련. 한국의 반도체 장비가 갖고 있는 세계적인 경쟁력 대비 주가가 많이 흘러내린 상황. 비메모리 쪽 기업을 찾아보면 좋을 것. 임플란트는 여전히 시장에서 주목받지 못하고 있는 종목이지만. 중국 시장이 열렸고 유럽. 미국 시장도 열릴 것. 우리나라 임플란트 3사. 가 경쟁력이 상당하고. 영업이익이 핵심 증권사 보고서는 보물창고. 주린이의 눈높이에 맞춘 종목 분석으로 인기몰이 중인 염 이사는 . 찾는 비법에 대해서도 언급했다. 먼저 투자할 기업 분석의 기본이 되는 재무제표에서 매출과 영업이익을 보라고 조언했다. 매출과 영업이익이 추세적으로 증가하는지를 보면 좋다. 4년 간 꾸준히 증가하면서 영업이익까지 늘어나는지를 체크하고 분기 단위로 비교해 우상향하는지도 봐야 한다. 이어 매일같이 쏟아지는 증권사 보고서를 꾸준히 공부하는 것이 중요하다고 강조했다. 애널리스트들이 쓴 보고서는 보물창고. 매일 최소 1시간씩 읽는 것을 추천한다. 구체적인 공부법에 대해서는 . 관심 업종부터 최소 두 달 치를 보면 애널리스트의 시각이 바뀌는 게 보이기 시작한다. 추세를 파악하면 이전보다 . 톤을 낮췄는지 등을 알 수 있고. 행간에 숨겨진 의미도 파악할 수 있게 된다. 이외에 구체적인 설명과 추가적인 투자전략 등은 조선비즈 유튜브 채널 . 의 편에서 자세히 확인할 수 있다.\n"
     ]
    },
    {
     "name": "stderr",
     "output_type": "stream",
     "text": [
      "익명화 진행 중:  88%|████████▊ | 40037/45609 [02:55<00:22, 248.11it/s]"
     ]
    },
    {
     "name": "stdout",
     "output_type": "stream",
     "text": [
      "Row 40000 기업명 -> 익명화 이름 매핑: {'삼성전자': 'E사'}\n",
      "Row 40000 after anonymization - 기업명: E사, full_text: IFA2022]'100여개 스마트기기 연결'…E사  NEW 고객경험 제시 삼성전자는 메세 베를린. Messe Berlin. 에 위치한 시티 큐브 베를린. City Cube Berlin. 의 전시상담 공간에 . Do the SmartThings. 스마트싱스 라이프를 경험하라. Everyday Sustainability. 라는 주제로 가전 전시회를 연다고 1일 밝혔다. IFA 2022가 열리는 메세 베를린. Messe Berlin. 에 위치한 시티 큐브 베를린. City Cube Berlin. 에서 E사 모델이 전시장 입구 대형 LED를 통해 . 스마트싱스 라이프를 경험하라. 전시 주제를 소개하고 있다. 100여개 스마트 기기 연결. 새 고객경험 제시삼성전자는 이번 IFA 2022에서 스마트싱스를 기반으로 통합된 연결 경험을 전달하기 위해 7개의 주거 공간으로 꾸며진 . 을 만들어 새로운 고객경험을 제시할 계획이다. 또 주요 제품에 태양광 패널전기차 충전기조명블라인드스피커 등 100여개 스마트 기기를 연결한 더욱 확장된 . 스마트싱스 에코 시스템. 스마트싱스 홈은 라이프스타일에 따라 맞춤형 모드를 소개하는 . 효율적 재택 근무 환경을 제시하는 . 영화감상게이밍펫케어 등 집안에서 즐길 수 있는 다양한 활동을 도와주는 . 홈트레이닝을 주재로 한 . 요리와 의류 케어를 효율적으로 지원하는 . 여기에 친환경 주거 콘셉트인 . Net Zero Home. Net Zero Home. 은 집에서 태양광 패널과 가정용 배터리로 에너지를 생산저장하고. 스마트싱스 에너지 서비스를 기반으로 가전제품과 각종 기기들의 전력 사용량을 효율화 해 탄소 배출을 저감하고 나아가 전기료를 제로. 로 만든다는 개념이다. 이외 외출 시 GPS를 이용해 집에서 멀어지면 자동으로 기기가 꺼지도록 외출모드를 설정하거나 에어컨을 켜면 복사열을 차단하기 위해 커튼이 닫히도록 할 수 있어 쉽게 에너지 절약에 나설 수 있다. IFA 2022가 열리는 메세 베를린. Messe Berlin. 에 위치한 시티 큐브 베를린. City Cube Berlin. 에서 E사 모델이 지속가능성 존의 친환경 활동을 소개하고 있다. 미세플라스틱 배출 저감. 에코 프렌즈 컬렉션도삼성전자는 친환경 트렌드를 고려해 제품 생애주기를 제조유통사용폐기로 구분하고 각 단계에서 지속 가능성을 높이기 위해 진행하고 있는 갤럭시 업사이클링. 솔라셀 리모컨 등도 전시한다. 과의 파트너십을 기반으로 한 삼성 글로벌 골즈 앱갤럭시 워치5 시리즈용 글로벌 골즈 스트랩. 글로벌 친환경 아웃도어 브랜드 파타고니아와 협력해 개발한 미세 플라스틱 배출 저감 비스포크 세탁기 등을 전시해 개방형 협업 사례도 제시한다. 이외 MZ 세대가 중시하는 가치소비 트렌드에 맞춰 고품질 친환경 액세서리 컬렉션인 . 에코 프렌즈의 모든 제품은 최소 40. Post Consumer Material. 을 포함한 재생 플라스틱 등 환경을 생각한 소재가 사용됐다. 갤럭시 Z 플립4 커버버즈2 프로 커버워치5 스트랩더 프리스타일 케이스와 배터리 케이스 등 MZ 선호도가 높은 5가지 에디션. Future GenR2. The Simpsons비건타이거Pokemon. IFA 2022가 열리는 메세 베를린. Messe Berlin. 에 위치한 시티 큐브 베를린. City Cube Berlin. 에서 E사 모델이 영상디스플레이 전시존의 마이크로 LED를 선보이고 있다. 114형 마이크로LED. 98형 네오 QLED TV도대형 TV도 눈여겨 볼 거리다. 2022년형 마이크로 LED는 새로운 사이즈인 114형부터 76형까지 다양한 크기의 제품이 전시되고 삼성 Neo QLED 8K 라인업도 배치했다. 삼성전자는 8K 수준으로 변환해 주는 인공지능 화질 엔진 . 퀀텀 프로세서 8K AI. Neo 퀀텀 매트릭스 Pro. 기술을 적용해 라이브. 모바일 미러링 등 모든 콘텐츠를 생동감 있게 즐길 수 있다는 점을 부각하겠다는 계획이다. 또 최근 출시해 관심을 모은 Neo QLED 4K 98형 제품도 전시될 예정이다. 다만 관심을 모았던 OLED 패널을 쓴 QD디스플레이 TV는 제외됐다. 삼성전자는 게이밍 족을 겨냥해 오디세이 아크 등 게이밍 스크린도 대거 전시한다. 오디세이 아크는 1000R 곡률의 55형 게이밍 스크린으로. 와 스크린 내에서 사용자가 원하는 크기와 비율로 화면을 조절할 수 있는 혁신적인 인터페이스 등 기존 게이밍 스크린에서는 볼 수 없었던 새로운 폼팩터를 제시했다. 게임용 반도체도이외 삼성전자는 유럽시장을 본격 공략하는 . 유럽 소비자들의 취향을 반영해 냉장고인덕션식기세척기오븐 등으로 구성된 키친 패키지는 AI 기반 조리 기능이 강화된 . 신제품을 포함해 선보인다. 지난 2월 국내에 출시돼 프리미엄 시장에서 호평 받은 . 비스포크 인피니트 라인. 또 최근 출시한 갤럭시 Z 플립4. 버즈 등 모바일 제품도 배치했다. 이외 게이밍족을 타깃한 차세대 메모리인 . 기존 제품 대비 임의 쓰기 속도 55. 임의 읽기 속도 40. 가 향상돼 고성능 그래픽 게임. 4K8K 고화질 비디오 등 초고속 데이터 처리 작업이 요구되는 사용 환경에 최적의 솔루션을 제공한다.\n"
     ]
    },
    {
     "name": "stderr",
     "output_type": "stream",
     "text": [
      "익명화 진행 중:  90%|████████▉ | 41027/45609 [02:59<00:18, 254.35it/s]"
     ]
    },
    {
     "name": "stdout",
     "output_type": "stream",
     "text": [
      "Row 41000 기업명 -> 익명화 이름 매핑: {'삼성전자': 'N사', 'SK하이닉스': 'J사'}\n",
      "Row 41000 after anonymization - 기업명: N사, full_text: '대체 불가'…일본산 없으면 N사·TSMC도 멈춘다 [글로벌 新자원전쟁③ 그럼에도 일본은 미국이 구상하는 . 의 가장 중요한 국가로 꼽힌다. 분야의 압도적인 경쟁력 영향이 크다. 대체 불가한 반도체 공정 화합물19일 산업계에 따르면 반도체 제조 공정엔 슬러리. 이소프로필알코올 등 500여가지 화학물질이 필요하다. 증착 등 개별 공정에 특화된 화합물이 수 십년 넘게 쓰여 대체하기 쉽지 않다는 게 반도체 기업 관계자들의 공통 의견이다. 반도체 소재 공급망은 일본이 장악하고 있다. 일본이 소재 수출 규제를 시작하면 글로벌 반도체 산업이 마비된다는 얘기가 나올 정도다. 1nm10억분의 1m. 공정에 필수적인 극자외선. 노광장비용 포토레지스트가 대표적이다. 감광액으로도 불리는 포토레지스트는 빛으로 회로 모양을 찍어내는 포토 공정에 활용된다. 포토레지스트를 웨이퍼 위에 바르면 EUV 빛이 닿은 부분이 반응하면서 회로 모양으로 변하는 원리다. 대체 소재가 없어 포토레지스트 공급이 끊기면 TSMC. N사 파운드리사업부도 최첨단 공장을 가동할 수 없다. 글로벌 포토레지스트 시장의 90. 도쿄오카공업 등 일본기업이 장악하고 있다. 조미료로 유명한 화학기업 아지노모토는 마이크로 절연필름 시장의 90. 이 밖에 일본은 반도체 고온접착제로 쓰이는 폴리이미드의 90. 불순물을 제거하는 고순도불화수소의 70. 핵심기업 국유화일본도 중국처럼 반도체 소재를 . 2019년 한국을 대상으로 포토레지스트 등 소재 3종에 대한 수출규제를 시행한 게 대표적이다. 일본은 2019년 7월 징용공 배상과 관련해 한국과의 갈등이 심화하자 수출 규제에 나섰다. J사 등 국내 반도체기업들은 당시 중국. 유럽기업으로 공급처 다변화에 나섰지만 일본산을 대체하는 데 어려움을 겪었다. 국내 반도체 소재 전문기업들이 고순도 불화수소 국산화에 나섰지만 지금도 . 순도가 높은 일본 제품을 대체하기 쉽지 않다. 일본 정부는 핵심 소재기업을 국유화하고 있다. 지난 6월 닛케이는 일본 국부펀드인 산업혁신투자기구. 가 반도체 소재 기업 JSR을 1조엔. 에 매수한다고 보도했다. 국제적인 경쟁력을 갖춘 핵심 반도체 소재 분야를 정부가 직접 육성하고 전략 물자로 활용하겠다는 의도다. 일본 정부가 반도체 소재부터 제조까지 이어지는 공급망을 강화하고 있다. 미국 안보전문지 내셔널인터레스트는 . 일본이 결국 반도체 화학시장을 지배하게 될 것\n"
     ]
    },
    {
     "name": "stderr",
     "output_type": "stream",
     "text": [
      "익명화 진행 중:  92%|█████████▏| 42042/45609 [03:04<00:17, 203.94it/s]"
     ]
    },
    {
     "name": "stdout",
     "output_type": "stream",
     "text": [
      "Row 42000 기업명 -> 익명화 이름 매핑: {'삼성바이오로직스': 'E사'}\n",
      "Row 42000 after anonymization - 기업명: E사, full_text: 文, 큐어백에 생산거점 한국 우선 고려…백신허브 유럽 확장 모더나 백신과 같은 방식이다. 큐어백 백신은 현재 진행 중인 임상 3상을 마치면 3번째로 시판되는 mRNA 백신이 될 가능성이 있다. 문 대통령은 이날 면담에서 . 큐어백은 세계 최초로 mRNA를 활용한 치료법을 개발했고. mRNA 기반의 코로나 대응 1세대 백신의 3상을 진행하고 있을 뿐만 아니라. 변이 바이러스 대응이 가능한 2세대 백신을 개발하고 있음을 잘 알고 있다. 문 대통령은 이에 앞선 12일 앙겔라 메르켈 독일 총리와의 회담에서 . 백신 개발 선도국인 독일과 백신 생산 분야에서 강점을 가진 한국이 협력 방안을 모색할 필요가 있다. 며 독일과의 백신 협력을 제안했다. 독일의 mRNA 기술 보유 백신 회사들과도 협의하겠다. 메르켈 총리가 언급했던 기업이 바로 큐어백이다. 다만 큐어백은 다른 백신 개발사에 비해 규모가 작다. 대량 생산을 위해서는 위탁 생산 시설을 확보해야 한다. 후보군으로는 국내 기업들이 거론된다. 한국 기업 중 삼성바이오로직스가 모더나 백신 생산을 준비하고 있다. SK바이오사이언스는 아스트라제네카와 노바백스 백신을. 한국코러스는 스푸트니크V 백신을 생산중이다. 문 대통령은 이날 면담에서 . 태평양 지역에서의 생산 거점으로 한국을 우선적으로 고려해 달라. 한국 기업들의 능력을 잘 활용하기를 기대한다. 며 한국 기업과의 협력을 직접 요청했다. 한국 정부는 글로벌 백신허브 추진 태스크포스. 를 통한 원부자재 및 생산시설의 확충 지원 등 모든 행정적 지원을 아끼지 않겠다. 이에 대해 하스 대표는 . 이미 29개의 변이 바이러스가 출현하고 있고. 바이러스는 국경을 초월해 퍼지기 때문에 독일과 유럽을 넘어 세계 전역의 제약회사와 포괄적 네트워크로 발전시키는 것이 필요하다. 한국은 최고 수준의 유수 제약회사들이 많기 때문에 협력의 여지가 많다. 13일 진행된 이번 G7 정상회의 내내 . 한국을 글로벌 백신 허브로 만든다. 는 구상을 밝히며 G7 국가들의 협력을 반복적으로 당부했다. 문 대통령은 보건을 주제로 진행됐던 12일 1세션 회의에서부터 . 한국이 보유한 대량의 바이오 의약품 생산역량을 기반으로 글로벌 백신 허브로서의 역할을 수행할 수 있다. 미국뿐 아니라 G7 국가들과도 백신 파트너십을 모색할 수 있다. 지난달 한미정상회담에서 합의한 . 을 G7과 유럽으로 확대한다는 구상이다. 문 대통령은 샤를 미셸 유럽연합. 정상회의 상임의장과 우르줄라 폰데이라이엔 집행위원장에게도 . 백신 개발을 선도하는 유럽의 능력과 한국의 우수한 생산능력을 결합해 생산 거점을 확대해야 한다. 파스칼 소리오 아스트라제네카 최고경영자를 만난 자리에서도 . 더 원활한 세계 백신 공급을 위해 한국의 생산 능력을 활용해 주기 바란다. 한편 문 대통령은 이날 오스트리아 순방 일정을 마치고 스페인 국빈방문 일정에 돌입한다. 이번 스페인 방문은 2019년 10월 펠리페 6세 스페인 국왕의 국빈방한에 대한 답방 형식으로. 한국 대통령의 스페인 국빈방문은 2007년 2월 노무현 전 대통령 이후 14년 만이다. 코로나 유행 이후 스페인이 해외 정상의 국빈방문을 재개한 것은 이번은 처음이다\n"
     ]
    },
    {
     "name": "stderr",
     "output_type": "stream",
     "text": [
      "익명화 진행 중:  94%|█████████▍| 43035/45609 [03:08<00:11, 224.21it/s]"
     ]
    },
    {
     "name": "stdout",
     "output_type": "stream",
     "text": [
      "Row 43000 기업명 -> 익명화 이름 매핑: {'유한양행': 'P사', '삼성바이오로직스': 'R사'}\n",
      "Row 43000 after anonymization - 기업명: R사, full_text: Bio인사이드]국제 의약품전시회서 ‘대세’가 돼버린 바이오 때문에 전시도 원료의약품. 까지 관련 분야를 폭넓게 아우른다. 올해 박람회에 참석한 이들은 . 바이오의 위상이 달라졌다. 전시회에서 만난 한 국내 제약사 관계자는 . 예년에는 제약이 부스규모나 참가기업 수 측면에서 행사의 중심이었다. 그런데 올해는 바이오부스가 규모도 확 커지고 대개 눈에 띄는 위치에 자리잡았다. 시장 흐름이 바뀌고 있다. 바이오의약품 시장의 성장은 아직 양적 성장이 주도하는 단계다. 카탈란트 등 위탁개발생산. 을 주종목으로 하는 기업들이 성장하면서 바이오 의약품 개발의 문턱이 낮아진 덕분이다. CDMO는 제조인프라를 갖추기 어려운 바이오벤처가 찾는다는 인식에서 벗어나 빅파마. 들까지 전략적으로 활용하는 방식이 됐다. CPHI 보고서도 이에 대해 . 정밀의약품 생산공정은 매우 복잡하고 전문적이지만 소모적이라서. 대형 제약사들이 자체 수행하긴 실용성이 떨어진다. 국내의 대표적 CDMO 기업 삼성바이오로직스는 CDO. 부문에서도 고객군이 . 초기 바이오벤처에서 글로벌 빅파마로 확대되고 있다. 한국 기업들은 CDMO 분야에서 신생 내지는 후발주자로 분류된다. 를 주무기로 수주전을 치렀다. 바이오로직스는 4년은 잡아야 하는 공기를 23개월로 줄여 부분가동을 시작한 4공장. 5개월 만에 우수의약품 제조 및 품질관리. 인증 초기물량 생산을 완료한 경험 등을 스피드경영의 산물로 소개했다. 글로벌시장에서 파트너 확보에 한창인 P사 역시 . 연구소에서부터 생산단계를 고려해 공정을 계획한다. 때문에 연구가 생산으로 문제 없이 이어지고 바로 기술이전이 된다. 며 빠른 속도를 경쟁력으로 내세웠다. CDMO 판이 커지면서 업체마다 품목다변화 등 질적 성장도 꾀하고 있지만 아직은 걸음마 단계란 게 중론이다. 차기 주력 파이프라인 종류에 대해서도 회사마다 다소 이견이 감지된다. SK팜테코의 경우 세포. 올해 초 예상보다 시장이 3배 빠른 성장세로 커지고 있다. 며 차기 주력 비전으로 꼽았다. 반면 바이오로직스는 . 20년 뒤라면 몰라도 아직은 좀 이르다고 생각한다. 계속 보고 있지만 확정된 것은 없다. 며 신중한 반응을 보였다. 올해 CPHI에서는 코로나19 봉쇄의 여파로 중국 기업들이 143곳이나 등록했다 참가를 못하는 상황이 벌어졌다. 인도 제약사들은 이에 더욱 적극적인 수주전에 나섰다. 인도 시장점유율 3위 제약사 맨카인드 측은 . 중국 기업들이 참여하지 않아 우리에게는 더 많은 기회가 열릴 것 같다. 중국과 인도 제약사들이 가격경쟁력을 두고 경쟁하고 있지만. 인도 기업들은 영어에 능통하고 글로벌 규제기관 경험도 많다\n"
     ]
    },
    {
     "name": "stderr",
     "output_type": "stream",
     "text": [
      "익명화 진행 중:  97%|█████████▋| 44040/45609 [03:13<00:06, 235.80it/s]"
     ]
    },
    {
     "name": "stdout",
     "output_type": "stream",
     "text": [
      "Row 44000 기업명 -> 익명화 이름 매핑: {'LX인터내셔널': 'E사', '현대차': 'N사', '삼성물산': 'S사', 'LG에너지솔루션': 'I사', '포스코 홀딩스': 'C사'}\n",
      "Row 44000 after anonymization - 기업명: C사, full_text: '자원·인구대국' 인도네시아로 한국 기업들 몰려간다 4일 업계에 따르면 GS칼텍스와 포스코인터내셔널은 지난달 29일 합작법인. 를 세워 인도네시아에 팜유 기반 바이오디젤 경유 공장을 건설하기로 했다. 양사는 이를 시작으로 인도네시아에서 원료 정제부터 바이오케미칼 제품 생산. 폐유 회수에 이르는 . 친환경 바이오 밸류체인. 포스코인터내셔널을 포함해 E사. S사 등 종합상사들도 일찌감치 인도네시아에 진출해 현지에서 팜유 사업을 펼치고 있다. 미국 농무부는 올해 전 세계 팜유 생산량을 7700만톤으로 전망했는데. 인 4550만톤이 인도네시아 생산량이다. 세계에서 니켈이 가장 많이 매장된 국가라는 점도 우리나라 기업들을 끌어들이는 주요 요인 중 하나다. 니켈은 전기차용 배터리 핵심소재다. 인도네시아 투자조정위원회에 따르면 인도네시아 니켈 매장량은 2100만톤에 이른다. 세계 전기차 배터리 점유율 2위인 I사. 과 1위인 중국 CATL이 모두 인도네시아 투자에 나섰다. 화유로 이뤄진 LG컨소시엄은 인도네시아에 11조원을 투입해 광물. 셀 생산에 이르는 전기차 배터리 가치사슬을 구축하기로 했다. 이를 위해 지난달 인도네시아 광산회사인 안탐과 배터리투자회사 IBC와 . Fraework Agreement. LG엔솔은 현대차와 합작해 인도네시아에 연산 10GWh 규모의 배터리 공장도 짓고 있다. 2023년 상반기 완공해 이듬해 상반기부터 양산을 시작한다. 현대차가 LG엔솔과 힘을 합친 것은 인도네시아 시장을 교두보 삼아 일본이 장악한 동남아국가연합. 시장을 공략하기 위해서다. 인도네시아는 인구 2억7900만명을 보유한 세계 4위의 인구 대국이자. 2018년 연 100만대 이상의 자동차가 판매된 아세안 최대 자동차 시장이다. 현대차는 15억15000만달러. 를 투자해 지난 3월 인도네시아 공장을 준공했다. 올해 말까지 15만대. 향후 25만대의 생산능력을 갖출 계획이다. LG엔솔과 합작공장도 현지 전기차 배터리 공급을 위해 추진됐다. 현대차는 인도네시아 공장에서 전기차 아이오닉5를 생산해 일본업체들이 70. 이상 점유한 아세안 주요 완성차 시장을 공략한다는 방침이다. 정의선 N사 회장은 지난 3월 준공식에서 인도네시아는 N사 미래 모빌리티 전략의 핵심 거점이라며 인도네시아 공장은 인도네시아 미래 산업의 중요한 축을 담당하게 될 전기차 분야에서 핵심적인 역할을 수행할 것이라고 강조했다. CATL의 자회사 광둥방푸 산하 푸친스다이도 안탐. IBC 등 2개사와 제휴를 맺고 니켈광 채굴 및 제련. 배터리 회수 등 전기차 배터리 산업사슬 구축에 협력하기로 했다. 투자 규모는 7조3500억원에 이르는 것으로 전해졌다. 롯데케미칼은 동남아 시장의 제품 수요 증가를 예측하고. 인도네시아에 생산거점을 구축하고 있다. 를 투자해 인도네시아 반텐주에 초대형 석유화학산업단지를 건설하는 . 롯데케미칼은 연간 에틸렌 100만톤. 25만톤 및 하류 제품 생산을 통해 연간 20억6000만달러. 의 매출을 올린다는 구상이다. 2차전지 소재 등으로 사업 포트폴리오를 적극 확대할 계획이다. 인도네시아는 전력 인프라 구축과 건설 경기가 활발한 아세안 최대 전선 시장 중 하나이기도 하다. 이에 LS전선은 인도네시아 대기업 아르타 그라하 그룹과 합작법인을 세우고 전력 케이블 공장. 을 지난 1월 준공했다. 배전용 가공 전선과 빌딩. 전선 등을 주로 생산한다.\n"
     ]
    },
    {
     "name": "stderr",
     "output_type": "stream",
     "text": [
      "익명화 진행 중:  99%|█████████▊| 45024/45609 [03:17<00:02, 221.38it/s]"
     ]
    },
    {
     "name": "stdout",
     "output_type": "stream",
     "text": [
      "Row 45000 기업명 -> 익명화 이름 매핑: {'포스코퓨처엠': 'W사', '삼성전자': 'Y사', '포스코인터내셔널': 'H사', 'POSCO홀딩스': 'F사', '포스코 홀딩스': 'D사'}\n",
      "Row 45000 after anonymization - 기업명: D사, full_text: 코스피, 3일째 상승세로 출발…W사 10%↑ 17에 거래되고 있다. 장 초반부터 개인이 3094억원을 담고 있다. 7거래일 연속 순매수다. 외국인은 3895억원을 팔고 있다. 기관도 80억원 매도 우위다. 간밤 뉴욕증권거래소에서다우 지수는 전거래일 대비 0. 최근 11거래일 연속 상승세다. 이는 지난 2017년 2월 이후 최장 기간 오름세를 유지한 것이다. 대형주 중심의 스탠더드앤드푸어스. 기술주 위주의 나스닥 지수는 0. 87에 거래를 마쳤다. 미국 다수의의 경제 전문가들디 경기 침체 가능성을 낮게 본다는 설문도 나왔다. 블룸버그통신에 따르면 전미실물경제협회. 의 이번달 설문조사 결과 응답자 71. 향후 12개월간 미국이 경기 침체에 진입할 확률은 50. NABE는 지난달 30일. 이번달 12일 미국 기업에 소속한 이코노미스트 52명을 대상으로 이번 조사를 진행했다. 직전 조사인 지난 4월 설문 때는 . 라는 응답자가 절반에 그쳤으나. 불과 석 달 사이 급증했다. 또 주목할 만한 것은 25. 26일 열리는 연준의 연방공개시장위원회. 연준이 이번달 25bp. 금리를 올릴 것은 거의 기정사실화돼 있다. 관심이 모아지는 것은 제롬 파월 의장이 추가 인상 신호를 줄지 여부다. 오르는 가운데 중형주와 소형주는 0. 업종별로는 철강금속과 보험. 반면 종이목재와 음식료. 운수창고 등은 하락하고 있다. 시가총액 상위종목에서는 Y사. 가 전 거래일보다 200원. 내리며 7만200원에 출발하고 있다. 최근 2차전지에 대한 기대감으로 급등세를 이어가고 있는 F사. 오르며 67만5000원에 거래 중이다. 상승하며 59만8000원을 가리키고 있으며 H사\n"
     ]
    },
    {
     "name": "stderr",
     "output_type": "stream",
     "text": [
      "익명화 진행 중: 100%|██████████| 45609/45609 [03:20<00:00, 227.67it/s]\n"
     ]
    },
    {
     "name": "stdout",
     "output_type": "stream",
     "text": [
      "익명화된 데이터가 저장되었습니다: /content/drive/MyDrive/Kwargs/022. esg관련도 필터/업데이트/A2_remaster_combined_ANONYMIZED.csv\n"
     ]
    },
    {
     "name": "stderr",
     "output_type": "stream",
     "text": [
      "익명화 진행 중:   1%|          | 47/6627 [00:00<00:29, 226.52it/s]"
     ]
    },
    {
     "name": "stdout",
     "output_type": "stream",
     "text": [
      "Row 0 기업명 -> 익명화 이름 매핑: {'삼성생명': 'D사'}\n",
      "Row 0 after anonymization - 기업명: D사, full_text: '빅3' 암보험금 민원 결론낸다…지급의견서 제출 20일 금융당국 및 보험업계에 따르면 삼성생명은 최근 2건의 암보험 민원에 대한 보험금 지급을 결정하고 금감원에 지급 의견서를 제출했다. 금감원이 지급 여부를 검토하라고 지시한 다른 민원 건에 대해서도 순차적으로 지급 의견서를 낼 계획이다. D사 관계자는 환자의 주치의 판단이 분쟁 조정에서 가장 중요한 기준이기 때문에 요양병원의 입원 필요성과 기간에 대한 소견서가 있다면 입원비 지급을 전향적으로 검토할 것이라며 사례별로 건건이 지급 여부를 검토해 금감원에 제출할 예정이라고 말했다. 한화생명도 금감원이 지시한 건에 대해 검토를 마치고 일부 사례에 대해서는 지급키로 결정했다. 다만 상당수 민원은 추가 조사 등이 필요해 더 검토하고 지급의견서를 내겠다는 입장을 전달했다. 교보생명도 검토를 마치는 대로 지급. 추가 검토 등으로 분류해 의견서를 제출할 예정이다. 금감원은 지난해 11월 삼성생명이 암보험 관련 분쟁조정위원회의 결정을 수용한 후 전 보험사에 해당 사례와 유사한 건에 대한 지급 여부를 검토해 의견서를 내라고 지시했다. 대형 3사에 검토 지시가 내려진 민원만 400여건이 넘는 것으로 확인됐다. 이중 상당수는 요양병원 입원금과 관련한 민원이다. 암보험 민원의 쟁점은 요양병원 입원을 . 삼성생명의 사례는 해당 민원인이 초기 항암치료 단계에서 마약성 진통제를 주사하거나 암센터 응급실에 실려갈 정도로 건강상태가 악화돼 치료 도중 요양병원에 입원해 직접 치료를 위해 필요한 입원으로 폭넓게 인정한 경우다. 보험사들은 요양병원 입원비 지급과 관련한 내부 기준을 마련하고 금감원이 지급 권고한 민원 전건에 대해 추가조사를 진행하고 있다. 보험업계 한 관계자는 주치의 소견서 외에도 금감원에 민원을 낸 이후 암이 재발하거나 상태가 급격히 악화되는 등 건강상 변화를 증명할 수 있을 경우에도 보험금 지급을 전향적으로 검토할 것이라며 다만 과도한 장기입원이나 직접 치료와 무관한 면역치료 등에 대해서는 대부분의 보험사가 지급 거절 의견을 낼 것이라고 말했다\n"
     ]
    },
    {
     "name": "stderr",
     "output_type": "stream",
     "text": [
      "익명화 진행 중:  16%|█▌        | 1047/6627 [00:04<00:22, 249.03it/s]"
     ]
    },
    {
     "name": "stdout",
     "output_type": "stream",
     "text": [
      "Row 1000 기업명 -> 익명화 이름 매핑: {'현대차': 'R사'}\n",
      "Row 1000 after anonymization - 기업명: R사, full_text: 해외보다 우수한 안전관리 대책 마련…R사, 경총과 머리맞댄다 이번 업무협약은 안전경영체계에 대한 분야별 해외 우수사례와 동향을 연구하고 당사 현황과 비교해 사업장 안전수준을 획기적으로 높일 수 있는 종합적인 안전관리 대책을 개발하는 것이 목표다. 현대차는 한국경영자총협회와 조직. 인력 예산 교육 노사관계 안전문화 등 5개 분야의 최고 전문가들을 섭외 및 자문단으로 구성했다. 구체적으로 현대차는 국내와 해외 학계는 물론 전문기관의 분야별 유수 전문가들과 미국 및 독일 등의 선진국 재해율을 비롯해 국가별 안전문화 수준을 분석한다. 또한 국내외 사업장 현장조사를 실시한 결과를 바탕으로 모든 업무 영역에서 안전이 체질화될 수 있도록 안전 중심의 경영체계를 한층 발전시킬 계획이다. 특히 사업장의 안전관리 수준을 심층진단하기 위해 민간기업이 경제단체와 업무협약을 맺은 것은 국내 최초의 사례이며 현대차는 이번 협약을 통해 글로벌 최고 수준의 안전경영 체계를 세우는데 적극적으로 노력한다는 방침이다. R사 관계자는 이번 종합심층진단은 안전을 경영활동의 최우선 가치로 삼겠다는 현대차의 깊은 의지가 담긴 프로젝트라며 프로젝트를 통해 임직원이 안심하고 근무할 수 있는 사업장 환경을 마련하는데 앞장서겠다고 밝혔다.\n"
     ]
    },
    {
     "name": "stderr",
     "output_type": "stream",
     "text": [
      "익명화 진행 중:  31%|███       | 2026/6627 [00:08<00:21, 214.37it/s]"
     ]
    },
    {
     "name": "stdout",
     "output_type": "stream",
     "text": [
      "Row 2000 기업명 -> 익명화 이름 매핑: {'고양시': 'W사', '현대오일뱅크': 'J사', '현대모비스': 'A사'}\n",
      "Row 2000 after anonymization - 기업명: A사, full_text: '미래 먹거리' 수소사업에 포부 드러낸 한국 기업들…그 면면은 효성 등 5개 그룹사는 2030년까지 40조원이 넘는 금액을 수소 사업에 투자할 계획인데. 수소 사업에서 경쟁력을 확보하기 위해 기업 간 협력과 경쟁 역시 치열한 모습이다. 8일 경기 W사 킨텍스에서 열린 . 2021 수소모빌리티쇼. 에는 현대차그룹과 SK. 포스코 등 150여개 기업이 참여해 수소 사업 비전을 소개했다. 로 불리는 정의선 회장이 이끄는 현대차그룹은 최근 . 를 발표하며 수소 모빌리티를 중심으로 수소 사업에 앞장서고 있다. 현대차그룹은 세계 자동차 회사 중 처음으로 2028년까지 이미 출시된 모델을 포함한 모든 상용차 라인업에 수소연료전지를 적용하고. 향후 출시되는 모든 상용차의 신모델은 수소전기차와 전기차로 출시하겠다고 최근 발표했다. 2013년 세계 최초로 수소전기차를 양산한 현대차그룹은 2030년까지 연간 수소전기차 50만대. 수소연료전지 시스템 70만기를 생산하겠다는 목표를 가지고 있다. 이를 위해 2030년까지 수소차 설비투자와 연구개발. 충전소 설치 등에 11조1천억원을 투자할 계획이다. 현대차그룹은 이미 1998년 수소연료전지 개발 조직을 신설하고 관련 기술 개발에 매진해왔다. 2013년 세계 최초로 투싼 수소전기차. 를 선보인 이후 2018년 넥쏘를 출시했고. 지난해에는 세계 최초로 수소전기 대형트럭 양산 체제를 갖추고 유럽으로 수출을 시작했다. 현대차그룹 주요 계열사들도 수소 생산. 공급 등 가치사슬 전 영역으로 사업을 확대하고 있다. 현대모비스는 수소연료전지 사업. 현대제철은 부생수소 생산 사업. 현대글로비스는 수소 공급망 최적화 플랫폼 개발 등에 주력하며 그룹 역량을 총동원하는 모습이다. SK그룹은 수소사업에만 5년간 총 18조5천억원을 투자해 2025년 수소 사업에서 글로벌 정상에 오르겠다는 목표를 두고 있다. 수소 사업 투자를 발표한 기업 중 가장 큰 규모다. SK는 기존 정유 시설과 주유소 인프라 등을 적극적으로 활용해 수소 생산. 공급에 이르는 수소 밸류체인 전 과정을 통합 운영하는 국내 유일 사업자가 되겠다는 전략을 밝혔다. SK인천석유화학의 부생수소를 활용해 2023년부터 약 3만t 규모의 액화 수소를 생산하고. 2025년부터는 친환경 청정수소 25만t을 추가로 생산하는 등 총 28만t 규모의 수소를 생산할 예정이다. 그룹 내 수소 사업을 주도하는 SK ES는 2025년까지 수소 사업에만 18조원을 투자해 세계 1위 수소 사업자로 도약하겠다는 목표를 밝히기도 했다. 포스코그룹은 지난해 수소산업 진출을 공식 선언했다. 2050년까지 수소 생산 500만t 체제를 구축하고. 수소 사업에서 매출 30조원을 달성하겠다는 청사진을 내놓았다. 수소를 활용한 철강 생산 기술인 수소환원제철공법 연구. 활용하는 데 필요한 강재 개발. 부생수소 생산설비 증대 등을 통해 수소 생산 역량을 높인다는 구상이다. 롯데그룹은 화학 계열사 롯데케미칼을 중심으로 수소 생산과 수소탱크 사업을 공략한다. 2030년까지 약4조4천억원을 단계적으로 투자해 2030년까지 청정수소 60만t을 생산하고. 수소 사업 매출 3조원 목표를 실현한다는 목표다. 롯데케미칼은 수소 생산뿐 아니라 수소 전기자동차의 핵심 부품 수소탱크 제조 사업도 추진 중이다. 최근에는 롯데알미늄과 협업해 수소탱크 상용화를 위한 파일럿 설비를 구축하고. 수소탱크 제조 기술을 시험 적용하기로 했다. 풍력 등 신재생 에너지로 수소를 생산하는 그린수소 분야에 적극적으로 투자하고 있다. 투자규모는 약 1조3천억원 규모다. 풍력 등 신재생 에너지로 물을 전기분해 해 탄소 배출 없이 수소를 생산하기 위한 기술을 개발 중이고. 는 기존 LNG 발전 터빈에 수소를 함께 태워 탄소를 저감하는 수소혼소 발전 기술을 확보해 실증 사업을 추진 중이다. 효성그룹은 약 1조2천억원을 투입하며 액화수소 사업에 집중하고 있다. 효성은 독일 산업용 가스업체 린데그룹과 합작해 울산에 단일 규모 세계 최대 액화수소 공장을 건설 중이다. 2023년 초 완공 예정인 울산 액화수소 공장은 연산 1만3천t 규모의 생산능력을 갖출 전망이다. 효성 등 5개 그룹사가 2030년까지 수소 경제에 투자하는 금액은 총 43조원 규모다. 올해 초 수소사업 본격 진출을 선언한 현대중공업그룹은 한국조선해양을 통해 수소 운송과 그린수소 생산 사업을. J사 주유소 인프라를 활용해 수소 충전소 사업과 블루수소 생산 사업을 추진 중이다. 두산중공업은 2022년 완공을 목표로 창원 공장에 수소액화플랜트를 건설 중이고. 코오롱은 수소시장 소재 사업을 집중적으로 공략하고 있다. 기업들의 개별 투자도 활발하지만. 수소 사업에서 기업 간 협력과 교류도 활발하다. 현대차그룹과 SK그룹. 포스코그룹 등 국내 대기업 10곳을 포함해 총 15개 회원사가 참여하는 민간 수소 협의체 . 코리아 H2 비즈니스 서밋. 은 이날 창립총회를 열고 공식 출범했다. 7일 최정우 포스코그룹 회장과 허태수 GS그룹 회장은 역삼동 GS타워에서 만나 수소 사업 협력방안을 논의하기도 했다. 양사는 수소사업 협력을 위한 업무 협약을 체결하고. 수소 분야에서 해외 프로젝트 공동 참여나 신규 수요처 발굴 등 블루. 그린수소 생산부터 저장. 활용에 이르기까지 협력을 강화하기로 했다. GS칼텍스와 수소 충전 인프라 구축에 협력하고 있고. 포스코그룹과는 수소연료전지 발전사업. 이용 관련 기술 개발 등을 공동 추진 중이다\n"
     ]
    },
    {
     "name": "stderr",
     "output_type": "stream",
     "text": [
      "익명화 진행 중:  46%|████▌     | 3036/6627 [00:13<00:15, 227.61it/s]"
     ]
    },
    {
     "name": "stdout",
     "output_type": "stream",
     "text": [
      "Row 3000 기업명 -> 익명화 이름 매핑: {'대상': 'G사', 'KB금융': 'L사'}\n",
      "Row 3000 after anonymization - 기업명: L사, full_text: 환경 지키고 사회 보듬고 ESG로 지속 가능한 성장 세계 3대 연기금 중 하나인 노르웨이 국부펀드는 환경오염을 일으키거나 인권을 침해하는 기업에 투자하지 않기로 했다. 국민연금도 ESG를 투자 결정에 반영하겠다고 밝혔다. 소비자 역시 ESG를 제품 구매에 중요한 부분으로 인식하고 있다. 국내 기업들이 ESG 경영 행보를 강화하고 있는 이유다. 환경부터 지역사회 공헌까지GS건설은 지난해 한국기업지배구조원. 2021년 상장기업 ESG 평가 등급. 에서 통합 등급인 A. 대표적인 친환경 건설사로 인증을 받은 것. GS건설은 지역 사회공헌활동도 강화하고 있다. 저소득층 가정 공부방 지원 사업은 GS건설이 10년간 진행하고 있는 사업이다. 2011년 5월 1호점이 문을 연 이래 2019년 11월 290호점까지 확대됐다. 한국PG는 환경에 초점을 맞추고 있다. 한국PG는 지난달 세계자연기금. 의 환경 강연 프로그램 . 팸퍼스 등 다양한 생활용품 브랜드를 운영하는 PG가 제품 생산부터 폐기에 이르는 모든 과정에서 환경적 영향을 평가하는 . 의 중요성이 강조됐다. PG는 원재료 수급부터 제조. 사용 및 폐기까지 환경적 영향 평가를 하고. 자연에 덜 영향을 미치는 제품 개발에 집중하고 있다. ESG 경영 뛰어든 금융권금융권의 ESG 경영 강화도 눈에 띈다. KB금융그룹은 2020년 1월 그룹의 전 계열사가 함께 . 같은 해 3월에는 금융회사 최초로 이사회 내 ESG 경영 최고 의사결정기구인 ESG위원회를 신설하기도 했다. 이에 따라 KB금융그룹은 2030년까지 2020년 대비 탄소 배출량을 42. 또 현재 20조원 규모인 ESG 상품. 대출을 50조원까지 늘리도록 했다. 그룹 내 KB국민은행은 금융사 최초로 . 기업과 생물다양성 플랫폼. 이니셔티브에 가입했다. 2018년부터 KB국민은행의 맑은하늘 숲 조성 사업을 통해 몽골에 방풍림 2만6000주. 유실수 2만4000주를 심어 숲을 조성하기도 했다. 청소년 G사 사회공헌활동을 강화하고 있다. 한국투자증권은 초록우산어린이재단과 함께 매년 학원과 예술. 체육 분야에 재능을 가진 학생 50여명을 선발해 후원한다. 피아노 등 다양한 분야에 재능을 가진 학생들을 지원해 이들이 청소년대표 선수로 활약하거나 각종 대회에서 수상할 수 있게 도왔다. 배움에 대한 꿈과 열정을 갖고 있지만 어려운 가정형편 때문에 꿈을 포기해야만 하는 아이들이 꿈을 만개할 수 있도록 돕는 취지. 공공기관도 ESG 바람공공기관의 ESG 경영 활동도 강화되고 있다. 한국광해광업공단은 지역사회 공헌 사업을 집중적으로 펼치고 있다. 지난달에는 강원 원주 밥상공동체 종합사회복지관과 함께 제작한 500만원 상당 . 를 지역 내 노인과 아동 가구 250곳에 전달했다. 사랑의 꾸러미는 제철 곡물 등 지역 농산물로 구성됐다. 공단은 국내 최초로 강원 상동광산 광물찌꺼기 저장시설 내 개병풍 군락지를 조성하고 태백 폐광산 갱내수 정화시설 내 가시연꽃을 심어 야생식물 서식지를 조성했다. 이런 공로를 인정받아 원주지방환경청으로부터 단체 표창을 받았다. 한국장애인고용공단은 교통약자인 장애인의 이동 편의를 높이는 사회공헌활동을 진행하고 있다. 는 공단의 전 임직원이 전용 앱을 통해 사진과 같은 건물 접근성 정보를 등록해 . 구축을 위한 빅데이터 작업에 참여하도록 한 사업이다. 공단은 수도권에 거주하는 장애인의 차량을 2012년부터 총 1258대 무상 점검했다. 올해는 경기도 지역에 . 를 모집해 장애인차량 점검 시 상시할인혜택을 제공할 예정이다.\n"
     ]
    },
    {
     "name": "stderr",
     "output_type": "stream",
     "text": [
      "익명화 진행 중:  61%|██████    | 4030/6627 [00:17<00:13, 198.05it/s]"
     ]
    },
    {
     "name": "stdout",
     "output_type": "stream",
     "text": [
      "Row 4000 기업명 -> 익명화 이름 매핑: {'LG에너지솔루션': 'N사', '삼성SDI': 'B사'}\n",
      "Row 4000 after anonymization - 기업명: B사, full_text: 日 파나소닉, 배터리 사업 집중 위해 자동차 부품 자회사 매각 이번 매각은 파나소닉이 미래 먹거리인 배터리 사업에 역량을 집중하려는 야심을 본격화 한 것이라는 게 일본 내 대체적 시각이다. 20일 닛케이에 따르면 파나소닉홀딩스는 미국 사모펀드인 아폴로 글로벌 매니지먼트 그룹에 오토모티브 시스템즈를 매각하는 방안에 대한 합의를 마쳤다. 파나소닉은 오토모티브 주식 절반 이상을 내년 3월 내에 매각하기로 했다. 오토모티브 시스템즈는 차량 디스플레이와 내비게이션. 차량용 충전기 등을 생산하는 업체로 지난해 매출액은 11조2000억원가량이다. 파나소닉은 2019년 이후 반도체. 일회용 건전지 등 그룹 내 대표 사업을 정리했다. 이번에 전장 사업까지 매각하기로 하면서 전기차 배터리 생산 확대에 역량을 집중할 것으로 보인다. 파나소닉이 매출액 1조엔을 넘는 자회사를 매각해 성장 자금을 확보하고 전기차 배터리 등에 중점 투자한다. 수익률이 낮은 사업을 잘라내고 핵심 사업에 집중하려는 것. 파나소닉이 사실상 배터리 분야 집중을 선언하면서 국내 3사와의 경쟁은 더욱 심화할 것으로 보인다. 배터리 시장 조사업체 SNE리서치에 따르면 올해 1. 9월 파나소닉은 전기차 글로벌 배터리 시장 점유율 7. N사 등에 이은 4위를 기록했다. 파나소닉은 기존 배터리보다 에너지 밀도 등을 크게 높인 차세대 원통형 배터리인 4680. 양산에 그룹 차원의 노력을 집중하고 있다. 테슬라가 설계를 주도한 이 배터리는 향후 배터리 규격 전쟁의 승자가 될 가능성이 크다. LG에너지솔루션과 삼성SDI도 차세대 원통형 배터리 관련 설비 투자를 늘리고 있어 향후 성능. 단가 등에 따른 시장 경쟁이 치열할 것으로 전망된다.\n"
     ]
    },
    {
     "name": "stderr",
     "output_type": "stream",
     "text": [
      "익명화 진행 중:  76%|███████▌  | 5030/6627 [00:21<00:07, 213.85it/s]"
     ]
    },
    {
     "name": "stdout",
     "output_type": "stream",
     "text": [
      "Row 5000 기업명 -> 익명화 이름 매핑: {'삼성바이오로직스': 'W사'}\n",
      "Row 5000 after anonymization - 기업명: W사, full_text: 경증환자 위한 항체치료제 나오나… 다국적제약사끼리 '공동연구' 28일 관련업계에 따르면 일라이릴리와 GSK는 27일. 홈페이지를 통해 양사가 개발 중인 코로나19 항체치료제를 혼용한 새로운 항체 칵테일요법을 개발하기 위해 협력했다고 밝혔다. 다국적제약사와 협력해 코로나19 변이에 대응양사는 저위험 경증 및 중등도 코로나19 환자들을 대상으로 일라이릴리의 . 과 GSK와 미국 비어바이오가 함께 개발 중인 . 500mg을 조합할 예정이다. CoV555와 VIR. 7831 모두 코로나19 바이러스 표면에 위치한 스파이크 단백질과 결합해 바이러스를 중화시킨다. 그러나 스파이크 단백질에서도 서로 다른 부분에 결합해 코로나19 바이러스 변이에도 효과가 있을 확률이 더 크다. CoV555는 지난 2020년 11월 미국 식품의약국. 으로부터 중증으로 발전하거나 사망 위험이 있는 경증 및 중등도 코로나19 환자들의 치료를 위해 사용을 허가받았다. 또한 지난 21일에는 LY. CoV555가 요양원 거주자들의 코로나19 감염 위험을 위약군 대비 최대 80. 까지 줄였다는 연구결과도 나왔다. 7831은 바이러스를 중화시켜 건강한 세포들을 코로나19에서 보호하고 이미 감염된 세포를 죽일 수 있어 지금까지 다른 항체가 영향을 주지 못한 환자들에게도 효과적일 수 있다. 바이러스에 변이가 발생해도 효과를 유지할 가능성이 크다. 앞서 삼성바이오로직스는 지난 11월부터 LY. CoV555를 생산해 일라이릴리에 공급하기 시작했다. 앞서 지난 8월 삼성바이오로직스는 GSK와 4394억원 규모 계약을 체결하고 2022년까지 해당 항체치료제를 생산해 GSK에 공급할 예정이다. 또 다른 코로나 항체치료제 리제네론은 처음부터 코로나19 항체 2종을 조합한 . 일라이릴리는 최근 LY. CoV555와 자사의 . 를 조합한 항체치료 요법이 코로나19 고위험 환자들의 입원 및 사망률을 70. 까지 감소시켰다고 밝혔다. 7831과 중국 브리 바이오사이언스의 코로나19 항체 . 를 조합한 칵테일 치료요법을 환자들에게 시험 중이다. 도 변이에 효과 연구 중한편 국내 첫 코로나19 치료제로 유력한 셀트리온의 . 남아공발 변이 바이러스에 대한 효과 여부를 시험한다. 셀트리온과 보건당국은 설 연휴 전에는 연구결과가 나올 것으로 예상했다. 지난 23일 권준욱 중앙방역대책본부 제2부본부장은 코로나19 정례브리핑에서 질병관리청 국립감염병연구소에서 영국. 남아공 변이주를 확보해 이를 토대로 항체 치료제의 효능을 세포주 수준에서 평가할 계획이라고 말했다. 렉키로나는 국내 허가심사가 최종 검증만을 남겨 2월 초 첫 투약이 가능할 전망이다. 지난 17일 검증자문단과 27일 중앙약심은 모두 렉키로나에 대해 임상3상을 조건으로 렉키로나의 국내 사용허가를 권고했다. 외부 전문가가 참여하는 최종점검위원회의 최종 검증만을 통과하면 2월 초 허가받을 것으로 예상된다. 앞서 검증자문단은 성인 경증 및 중등도 코로나19 환자를 대상으로. 중앙약사심의위원회는 고위험군 경증 및 중등도 코로나19 환자 투약이 적절하다고 평가했다\n"
     ]
    },
    {
     "name": "stderr",
     "output_type": "stream",
     "text": [
      "익명화 진행 중:  91%|█████████▏| 6051/6627 [00:26<00:02, 257.89it/s]"
     ]
    },
    {
     "name": "stdout",
     "output_type": "stream",
     "text": [
      "Row 6000 기업명 -> 익명화 이름 매핑: {'기아': 'Q사', '현대차': 'T사'}\n",
      "Row 6000 after anonymization - 기업명: Q사, full_text: T사·Q사 4개車, 美충돌평가 '최고안전' 등급 등급을 받은 모델은 현대 팰리세이드. 제네시스 G90 등이고. TSP 등급은 현대 쏘나타가 받았다. 북미 시장에 출시된 신차를 대상으로 깐깐하고 혹독한 실험을 진행하기로 유명한 IIHS는 올해 충돌 평가 기준을 기존보다 강화했다. 측면 충돌 평가의 경우 차량과 충돌하는 물체의 질량은 약 1497. 으로 늘어났고 충돌하는 속도도 시속 49. 질량과 속도를 기준으로 환산한 충격 에너지는 이전 평가보다 82. 평가 기준이 강화되면서 TSP 이상의 등급을 받은 차량은 지난해 151개에서 48개로 줄었다. 일본계 완성차 업체 중에선 가장 많은 모델이 최고 안전 등급을 받았다.\n"
     ]
    },
    {
     "name": "stderr",
     "output_type": "stream",
     "text": [
      "익명화 진행 중: 100%|██████████| 6627/6627 [00:29<00:00, 227.40it/s]\n"
     ]
    },
    {
     "name": "stdout",
     "output_type": "stream",
     "text": [
      "익명화된 데이터가 저장되었습니다: /content/drive/MyDrive/Kwargs/023. esg 긍부정도 라벨러/업데이트/A3_remaster_combined_ANONYMIZED.csv\n"
     ]
    }
   ],
   "source": [
    "import pandas as pd\n",
    "import random\n",
    "import re\n",
    "import unicodedata\n",
    "from tqdm import tqdm\n",
    "\n",
    "# Definition of the prefix of the Co., Ltd.\n",
    "prefix_suffix_patterns = [\n",
    "    r'\\b주식회사\\b', r'\\b\\(주\\)\\b', r'㈜', r'\\(.*?\\)'  # 괄호와 괄호 안의 내용 제거\n",
    "]\n",
    "\n",
    "# Company name unification mapping\n",
    "company_name_mapping = {\n",
    "    'SK하이닉스': 'SK하이닉스',\n",
    "    '에스케이하이닉스': 'SK하이닉스',\n",
    "    '삼성바이오로직스': '삼성바이오로직스',\n",
    "    '삼바': '삼성바이오로직스',\n",
    "    '삼성바이오': '삼성바이오로직스',\n",
    "    '삼성SDI': '삼성SDI',\n",
    "    '삼성에스디아이':'삼성SDI',\n",
    "    '삼성물산': '삼성물산',\n",
    "    '현대차': '현대차',\n",
    "    '현대자동차': '현대차',\n",
    "    '카카오': '카카오',\n",
    "    '신한지주': '신한지주',\n",
    "    'NAVER': '네이버',\n",
    "    '네이버': '네이버',\n",
    "    'KB금융': 'KB금융',\n",
    "    '국민은행':'KB금융',\n",
    "    '기아': '기아',\n",
    "    '기아차':'기아',\n",
    "    '기아자동차':'기아',\n",
    "    '삼성생명': '삼성생명',\n",
    "    '현대모비스': '현대모비스',\n",
    "    '삼성전자': '삼성전자',\n",
    "    'POSCO':'POSCO홀딩스',\n",
    "    '포스코홀딩스': 'POSCO홀딩스',\n",
    "    'POSCO홀딩스': 'POSCO홀딩스'\n",
    "}\n",
    "\n",
    "def normalize_text(text):\n",
    "    \"\"\"텍스트를 유니코드 NFC 형식으로 정규화\"\"\"\n",
    "    return unicodedata.normalize('NFC', text)\n",
    "\n",
    "def clean_company_name(name):\n",
    "    \"\"\"주식회사 접두사/접미사 및 괄호와 그 안의 내용 제거하여 기업명 표준화\"\"\"\n",
    "    cleaned_name = normalize_text(name)  # 유니코드 정규화\n",
    "    for pattern in prefix_suffix_patterns:\n",
    "        cleaned_name = re.sub(pattern, '', cleaned_name)\n",
    "    cleaned_name = cleaned_name.strip()  # 앞뒤 공백 제거\n",
    "# If you have a mapped name, it is returned to a unified name\n",
    "    return company_name_mapping.get(cleaned_name, cleaned_name)\n",
    "\n",
    "def remove_contained_names(names):\n",
    "    \"\"\"부분적으로 포함되는 이름을 제거하여 최종 기업명 리스트 생성\"\"\"\n",
    "    final_names = set(names)\n",
    "    for name in names:\n",
    "        for other in names:\n",
    "            if name != other and name in other:\n",
    "                final_names.discard(name)\n",
    "                break\n",
    "    return list(final_names)\n",
    "\n",
    "def anonymize_company_names(df, all_companies):\n",
    "# Create anonymization name using alphabet from A to Z\n",
    "    alphabet = list('ABCDEFGHIJKLMNOPQRSTUVWXYZ')\n",
    "\n",
    "# Dictionary to track the anonymized name already used for each company\n",
    "    company_used_anonymous = {clean_company_name(company): set() for company in all_companies}\n",
    "\n",
    "# Trace an anonymized name for each article so that it is not duplicated\n",
    "    global_used_anonymous = set()\n",
    "\n",
    "    for i, row in tqdm(df.iterrows(), total=len(df), desc=\"익명화 진행 중\"):\n",
    "        content = normalize_text(row['full_text'])  # 기사 내용 정규화\n",
    "\n",
    "# Matching even if there are characters, blanks, and special characters before and after the company name\n",
    "        companies_in_article = list(set(re.findall(r'(?<!\\w)(' + '|'.join([re.escape(comp) for comp in all_companies]) + r')(?!\\w)', content)))\n",
    "\n",
    "# Treatment to include the company name in the company name column\n",
    "        original_company_name = clean_company_name(str(row['company']))\n",
    "        if original_company_name not in companies_in_article:\n",
    "            companies_in_article.append(original_company_name)\n",
    "\n",
    "#Ner knight's unique anonymization mapping dictionary\n",
    "        company_to_anonymous = {}\n",
    "        used_letters = set(global_used_anonymous)  # 전역 사용 익명화 이름 사용 추적\n",
    "\n",
    "        for company in companies_in_article:\n",
    "            normalized_company = clean_company_name(company)\n",
    "\n",
    "# ** If the company name does not exist in advance, initialization with an empty set **\n",
    "            if normalized_company not in company_used_anonymous:\n",
    "                company_used_anonymous[normalized_company] = set()\n",
    "\n",
    "            if normalized_company not in company_to_anonymous:\n",
    "# Trace the anonymization name already used for the company\n",
    "                already_used = company_used_anonymous[normalized_company]\n",
    "\n",
    "#Select anonymization name possible (new name is first)\n",
    "                available_letters = list(set(alphabet) - used_letters - already_used)\n",
    "\n",
    "                if not available_letters:  # 모든 알파벳이 사용된 경우, 중복 사용 허용\n",
    "                    available_letters = list(set(alphabet) - already_used)\n",
    "\n",
    "                random_letter = random.choice(available_letters)\n",
    "                anonymous_name = f'{random_letter}사'\n",
    "\n",
    "                company_to_anonymous[normalized_company] = anonymous_name\n",
    "                used_letters.add(random_letter)\n",
    "                company_used_anonymous[normalized_company].add(anonymous_name)  # 기업별 사용된 이름 기록\n",
    "                global_used_anonymous.add(anonymous_name)  # 전역 사용된 이름 기록\n",
    "\n",
    "        if i % 1000 == 0:\n",
    "            print(f\"Row {i} 기업명 -> 익명화 이름 매핑: {company_to_anonymous}\")  # 디버깅 출력\n",
    "\n",
    "#Interacted the company's name in an anonymized name\n",
    "        for company in companies_in_article:\n",
    "            normalized_company = clean_company_name(company)\n",
    "            content = re.sub(r'(?<!\\w)' + re.escape(company) + r'(?!\\w)', company_to_anonymous[normalized_company], content)\n",
    "\n",
    "# Update the article and the company name with anonymized name\n",
    "        df.at[i, 'full_text'] = content\n",
    "\n",
    "# Change the value of the corporate name column to an anonymous name\n",
    "        df.at[i, '기업명'] = company_to_anonymous.get(original_company_name, original_company_name)\n",
    "\n",
    "        if i % 1000 == 0:\n",
    "            print(f\"Row {i} after anonymization - 기업명: {df.at[i, '기업명']}, full_text: {df.at[i, 'full_text']}\")  # 디버깅 출력\n",
    "\n",
    "    return df\n",
    "\n",
    "def load_and_clean_company_names():\n",
    "    \"\"\"기존 데이터와 companynames.csv 파일에서 모든 기업명 로드 및 중복 제거 후 정제\"\"\"\n",
    "# Extracting its own company name from integrated data\n",
    "    combined_df_names = combined_df['company'].unique().tolist()\n",
    "\n",
    "# 'CompanyNames.csv' file load\n",
    "    company_names_df = pd.read_csv('/content/drive/MyDrive/Kwargs/companynames.csv')\n",
    "\n",
    "# Extract all the company names of 'CompanyNames.csv' as a list\n",
    "    additional_company_names = company_names_df.iloc[:, 0].tolist()  # 첫 번째 컬럼 추출\n",
    "\n",
    "# Merge of the existing unique company name list and additional company name list\n",
    "    all_company_names = combined_df_names + additional_company_names\n",
    "\n",
    "#Duplicate removal and refined name return\n",
    "    cleaned_names = list(set(clean_company_name(name) for name in all_company_names))\n",
    "\n",
    "# Remove the name in the inclusion\n",
    "    final_names = remove_contained_names(cleaned_names)\n",
    "\n",
    "    return final_names\n",
    "\n",
    "# Manage three file paths as a list\n",
    "file_paths = [\n",
    "    '/content/drive/MyDrive/Kwargs/021. 기업적합도 필터/업데이트/A1_remaster_COMBINED.csv',\n",
    "    '/content/drive/MyDrive/Kwargs/022. esg관련도 필터/업데이트/A2_remaster_COMBINED.csv',\n",
    "    '/content/drive/MyDrive/Kwargs/023. esg 긍부정도 라벨러/업데이트/A3_remaster_COMBINED.csv'\n",
    "]\n",
    "\n",
    "# Anonymization work for each file and the results\n",
    "for file_path in file_paths:\n",
    "# CSV file load\n",
    "    df = pd.read_csv(file_path)\n",
    "\n",
    "# Extracting the list of companies to anonymously\n",
    "    combined_df = df.copy()  # 기업명 리스트 추출에 사용\n",
    "    all_companies = load_and_clean_company_names()  # 통합된 기업명 리스트 불러오기\n",
    "\n",
    "#Annation of anonymization\n",
    "    anonymized_df = anonymize_company_names(df, all_companies)\n",
    "\n",
    "#Save anonymized data as a new file\n",
    "    output_file = file_path.replace('COMBINED', 'combined_ANONYMIZED')\n",
    "    anonymized_df.to_csv(output_file, encoding='utf-8', index=False)\n",
    "\n",
    "    print(f\"익명화된 데이터가 저장되었습니다: {output_file}\")\n"
   ]
  },
  {
   "cell_type": "markdown",
   "metadata": {
    "id": "WoLqrTOkjBXn"
   },
   "source": [
    "## 4. Label unbalance resolution"
   ]
  },
  {
   "cell_type": "markdown",
   "metadata": {
    "id": "-dtLBve_-i2c"
   },
   "source": [
    "### Importing and 0.1 units label arrangement (A1 ~ 3)"
   ]
  },
  {
   "cell_type": "code",
   "execution_count": null,
   "metadata": {
    "id": "Urns-kpPjF0C"
   },
   "outputs": [],
   "source": [
    "import pandas as pd\n",
    "import matplotlib.pyplot as plt\n",
    "import seaborn as sns\n",
    "\n",
    "# File path setting\n",
    "file_paths = [\n",
    "    ('/content/drive/MyDrive/Kwargs/021. 기업적합도 필터/업데이트/A1_remaster_combined_ANONYMIZED.csv', 'evaluation_1'),\n",
    "    ('/content/drive/MyDrive/Kwargs/022. esg관련도 필터/업데이트/A2_remaster_combined_ANONYMIZED.csv', 'esg_score'),\n",
    "    ('/content/drive/MyDrive/Kwargs/023. esg 긍부정도 라벨러/업데이트/A3_remaster_combined_ANONYMIZED.csv', 'positivity')\n",
    "]"
   ]
  },
  {
   "cell_type": "code",
   "execution_count": null,
   "metadata": {
    "colab": {
     "base_uri": "https://localhost:8080/"
    },
    "executionInfo": {
     "elapsed": 58444,
     "status": "ok",
     "timestamp": 1726655978813,
     "user": {
      "displayName": "백현지",
      "userId": "02510457579208942463"
     },
     "user_tz": -540
    },
    "id": "o22VboLMnZXK",
    "outputId": "d8ffeb4f-8bd3-46e6-a42b-faba11f57a2d"
   },
   "outputs": [
    {
     "name": "stdout",
     "output_type": "stream",
     "text": [
      "\n",
      "=== Grouped Label Distribution for 'evaluation_1' in /content/drive/MyDrive/Kwargs/021. 기업적합도 필터/업데이트/A1_remaster_combined_ANONYMIZED.csv ===\n",
      "evaluation_1\n",
      "0.0     2380\n",
      "0.1    23805\n",
      "0.2     9653\n",
      "0.3     4144\n",
      "0.4        9\n",
      "0.5      140\n",
      "0.6       27\n",
      "0.7     7746\n",
      "0.8    19655\n",
      "0.9    17971\n",
      "1.0      237\n",
      "Name: count, dtype: int64\n",
      "\n",
      "=== Summary Statistics for grouped 'evaluation_1' ===\n",
      "count    85767.000000\n",
      "mean         0.503704\n",
      "std          0.349076\n",
      "min          0.000000\n",
      "25%          0.100000\n",
      "50%          0.700000\n",
      "75%          0.800000\n",
      "max          1.000000\n",
      "Name: evaluation_1, dtype: float64\n",
      "그룹화된 데이터가 저장되었습니다: /content/drive/MyDrive/Kwargs/021. 기업적합도 필터/업데이트/A1_remaster_combined_ANONYMIZED.csv\n",
      "\n",
      "=== Grouped Label Distribution for 'esg_score' in /content/drive/MyDrive/Kwargs/022. esg관련도 필터/업데이트/A2_remaster_combined_ANONYMIZED.csv ===\n",
      "esg_score\n",
      "0.0     4626\n",
      "0.1    19404\n",
      "0.2     6535\n",
      "0.3     7920\n",
      "0.4       84\n",
      "0.5       19\n",
      "0.6      394\n",
      "0.7     3477\n",
      "0.8     2591\n",
      "0.9      539\n",
      "1.0       20\n",
      "Name: count, dtype: int64\n",
      "\n",
      "=== Summary Statistics for grouped 'esg_score' ===\n",
      "count    45609.000000\n",
      "mean         0.239310\n",
      "std          0.235751\n",
      "min          0.000000\n",
      "25%          0.100000\n",
      "50%          0.100000\n",
      "75%          0.300000\n",
      "max          1.000000\n",
      "Name: esg_score, dtype: float64\n",
      "그룹화된 데이터가 저장되었습니다: /content/drive/MyDrive/Kwargs/022. esg관련도 필터/업데이트/A2_remaster_combined_ANONYMIZED.csv\n",
      "\n",
      "=== Grouped Label Distribution for 'positivity' in /content/drive/MyDrive/Kwargs/023. esg 긍부정도 라벨러/업데이트/A3_remaster_combined_ANONYMIZED.csv ===\n",
      "positivity\n",
      "-1.0     751\n",
      " 0.0    1277\n",
      " 1.0    4599\n",
      "Name: count, dtype: int64\n",
      "\n",
      "=== Summary Statistics for grouped 'positivity' ===\n",
      "count    6627.000000\n",
      "mean        0.580655\n",
      "std         0.685722\n",
      "min        -1.000000\n",
      "25%         0.000000\n",
      "50%         1.000000\n",
      "75%         1.000000\n",
      "max         1.000000\n",
      "Name: positivity, dtype: float64\n",
      "그룹화된 데이터가 저장되었습니다: /content/drive/MyDrive/Kwargs/023. esg 긍부정도 라벨러/업데이트/A3_remaster_combined_ANONYMIZED.csv\n"
     ]
    }
   ],
   "source": [
    "# Price grouping function (scaling in 0.1 units)\n",
    "def scale_to_0_1(df, label_column):\n",
    "# Group the value in 0.1 units\n",
    "    df[label_column] = (df[label_column] * 10).round() / 10\n",
    "    return df\n",
    "\n",
    "#Dance confirmation function (after grouping)\n",
    "def print_label_distribution(file_path, label_column):\n",
    "#Data load\n",
    "    df = pd.read_csv(file_path)\n",
    "\n",
    "# Group group\n",
    "    df = scale_to_0_1(df, label_column)\n",
    "\n",
    "# Groupized label distribution calculation\n",
    "    label_counts = df[label_column].value_counts().sort_index()\n",
    "    label_stats = df[label_column].describe()\n",
    "\n",
    "# Groupized label distribution output\n",
    "    print(f\"\\n=== Grouped Label Distribution for '{label_column}' in {file_path} ===\")\n",
    "    print(label_counts)\n",
    "    print(f\"\\n=== Summary Statistics for grouped '{label_column}' ===\")\n",
    "    print(label_stats)\n",
    "\n",
    "#Save grouped data\n",
    "    output_file = file_path.replace('COMBINED', 'grouped')\n",
    "    df.to_csv(output_file, index=False)\n",
    "    print(f\"그룹화된 데이터가 저장되었습니다: {output_file}\")\n",
    "\n",
    "# Grouping value for each file and confirming distribution\n",
    "for file_path, label_column in file_paths:\n",
    "    print_label_distribution(file_path, label_column)\n"
   ]
  },
  {
   "cell_type": "markdown",
   "metadata": {
    "id": "RyYPjEEcMHhd"
   },
   "source": [
    "### A1 label reconstruction"
   ]
  },
  {
   "cell_type": "code",
   "execution_count": null,
   "metadata": {
    "id": "mDCTDYxlMOtY"
   },
   "outputs": [],
   "source": [
    "import pandas as pd\n",
    "df = pd.read_csv('/content/drive/MyDrive/Kwargs/021. 기업적합도 필터/업데이트/A1_remaster_combined_ANONYMIZED.csv')"
   ]
  },
  {
   "cell_type": "code",
   "execution_count": null,
   "metadata": {
    "colab": {
     "base_uri": "https://localhost:8080/"
    },
    "executionInfo": {
     "elapsed": 9,
     "status": "ok",
     "timestamp": 1727027170241,
     "user": {
      "displayName": "백현지",
      "userId": "02510457579208942463"
     },
     "user_tz": -540
    },
    "id": "MoTGE3jtMK4f",
    "outputId": "3a5f65b0-9d81-46c0-a2c2-d6aeac01db08"
   },
   "outputs": [
    {
     "data": {
      "text/html": [
       "<div>\n",
       "<style scoped>\n",
       "    .dataframe tbody tr th:only-of-type {\n",
       "        vertical-align: middle;\n",
       "    }\n",
       "\n",
       "    .dataframe tbody tr th {\n",
       "        vertical-align: top;\n",
       "    }\n",
       "\n",
       "    .dataframe thead th {\n",
       "        text-align: right;\n",
       "    }\n",
       "</style>\n",
       "<table border=\"1\" class=\"dataframe\">\n",
       "  <thead>\n",
       "    <tr style=\"text-align: right;\">\n",
       "      <th></th>\n",
       "      <th>count</th>\n",
       "    </tr>\n",
       "    <tr>\n",
       "      <th>evaluation_6</th>\n",
       "      <th></th>\n",
       "    </tr>\n",
       "  </thead>\n",
       "  <tbody>\n",
       "    <tr>\n",
       "      <th>0.2</th>\n",
       "      <td>23805</td>\n",
       "    </tr>\n",
       "    <tr>\n",
       "      <th>0.8</th>\n",
       "      <td>19655</td>\n",
       "    </tr>\n",
       "    <tr>\n",
       "      <th>1.0</th>\n",
       "      <td>18208</td>\n",
       "    </tr>\n",
       "    <tr>\n",
       "      <th>0.4</th>\n",
       "      <td>13973</td>\n",
       "    </tr>\n",
       "    <tr>\n",
       "      <th>0.6</th>\n",
       "      <td>7746</td>\n",
       "    </tr>\n",
       "    <tr>\n",
       "      <th>0.0</th>\n",
       "      <td>2384</td>\n",
       "    </tr>\n",
       "  </tbody>\n",
       "</table>\n",
       "</div><br><label><b>dtype:</b> int64</label>"
      ],
      "text/plain": [
       "evaluation_6\n",
       "0.2    23805\n",
       "0.8    19655\n",
       "1.0    18208\n",
       "0.4    13973\n",
       "0.6     7746\n",
       "0.0     2384\n",
       "Name: count, dtype: int64"
      ]
     },
     "execution_count": 4,
     "metadata": {},
     "output_type": "execute_result"
    }
   ],
   "source": [
    "#Initial Relabeling Based on the updated criteria\n",
    "def updated_relabel(value):\n",
    "    if value == 1.0 or value == 0.9:\n",
    "        return '상당히 관련있음'\n",
    "    elif value == 0.8:\n",
    "        return '적절히 관련있음'\n",
    "    elif value == 0.7:\n",
    "        return '약간 관련있음'\n",
    "    elif 0.6 >= value >= 0.2:\n",
    "        return '거의 관련없음'\n",
    "    elif value == 0.1:\n",
    "        return '상당히 관련없음'\n",
    "    else:\n",
    "        return '완전히 관련없음'\n",
    "\n",
    "# Apply the updated relabeling function\n",
    "df['evaluation_6'] = df['evaluation_1'].apply(updated_relabel)\n",
    "\n",
    "# Continuous Encoding BASED 0.2 Intervals\n",
    "continuous_mapping = {\n",
    "    '상당히 관련있음': 1.0,\n",
    "    '적절히 관련있음': 0.8,\n",
    "    '약간 관련있음': 0.6,\n",
    "    '거의 관련없음': 0.4,\n",
    "    '상당히 관련없음': 0.2,\n",
    "    '완전히 관련없음': 0.0\n",
    "}\n",
    "\n",
    "# Apply the Continuous Mapping\n",
    "df['evaluation_6'] = df['evaluation_6'].map(continuous_mapping)\n",
    "\n",
    "df['evaluation_6'].value_counts()"
   ]
  },
  {
   "cell_type": "markdown",
   "metadata": {
    "id": "4qMOM4YhVPkJ"
   },
   "source": [
    "### a1- Korean-English-Han Yeok Translation Label Enhancement (Successful but Suspended)"
   ]
  },
  {
   "cell_type": "code",
   "execution_count": null,
   "metadata": {
    "colab": {
     "base_uri": "https://localhost:8080/"
    },
    "executionInfo": {
     "elapsed": 344,
     "status": "ok",
     "timestamp": 1726786429010,
     "user": {
      "displayName": "백현지",
      "userId": "02510457579208942463"
     },
     "user_tz": -540
    },
    "id": "a2jyIIJTXFgU",
    "outputId": "2567b0a0-66d6-42f7-d944-e60ab6500760"
   },
   "outputs": [
    {
     "name": "stdout",
     "output_type": "stream",
     "text": [
      "The token has not been saved to the git credentials helper. Pass `add_to_git_credential=True` in this function directly or `--add-to-git-credential` if using via `huggingface-cli` if you want to set the git credential as well.\n",
      "Token is valid (permission: fineGrained).\n",
      "Your token has been saved to /root/.cache/huggingface/token\n",
      "Login successful\n"
     ]
    }
   ],
   "source": [
    "from huggingface_hub import login\n",
    "\n",
    "# Hugging Face login\n",
    "login(token=HF_SK)"
   ]
  },
  {
   "cell_type": "code",
   "execution_count": null,
   "metadata": {
    "colab": {
     "base_uri": "https://localhost:8080/"
    },
    "executionInfo": {
     "elapsed": 3442,
     "status": "ok",
     "timestamp": 1726786731732,
     "user": {
      "displayName": "백현지",
      "userId": "02510457579208942463"
     },
     "user_tz": -540
    },
    "id": "dUkflfGjVh9L",
    "outputId": "56bb00d3-c622-4e4d-f0de-456c7da8ad98"
   },
   "outputs": [
    {
     "name": "stderr",
     "output_type": "stream",
     "text": [
      "/usr/local/lib/python3.10/dist-packages/transformers/tokenization_utils_base.py:1601: FutureWarning: `clean_up_tokenization_spaces` was not set. It will be set to `True` by default. This behavior will be depracted in transformers v4.45, and will be then set to `False` by default. For more details check this issue: https://github.com/huggingface/transformers/issues/31884\n",
      "  warnings.warn(\n"
     ]
    }
   ],
   "source": [
    "import pandas as pd\n",
    "from transformers import T5ForConditionalGeneration, T5Tokenizer\n",
    "from tqdm import tqdm\n",
    "import torch\n",
    "\n",
    "#KE-T5 model and talk nisor load\n",
    "model_ko_en = \"QuoQA-NLP/KE-T5-Ko2En-Base\"\n",
    "model_en_ko = \"QuoQA-NLP/KE-T5-En2Ko-Base\"  # 영어에서 한국어로 번역하는 모델\n",
    "tokenizer_ko_en = T5Tokenizer.from_pretrained(model_ko_en)\n",
    "tokenizer_en_ko = T5Tokenizer.from_pretrained(model_en_ko)\n",
    "\n",
    "model_ko_en = T5ForConditionalGeneration.from_pretrained(model_ko_en)\n",
    "model_en_ko = T5ForConditionalGeneration.from_pretrained(model_en_ko)\n",
    "\n",
    "# Korean-> English translation\n",
    "def translate_ko_to_en(text, max_new_tokens=100):\n",
    "    inputs = tokenizer_ko_en(text, return_tensors=\"pt\", padding=True, truncation=True)\n",
    "    outputs = model_ko_en.generate(**inputs, max_new_tokens=max_new_tokens)\n",
    "    return tokenizer_ko_en.decode(outputs[0], skip_special_tokens=True)\n",
    "\n",
    "# English-> Korean translation\n",
    "def translate_en_to_ko(text, max_new_tokens=100):\n",
    "    inputs = tokenizer_en_ko(text, return_tensors=\"pt\", padding=True, truncation=True)\n",
    "    outputs = model_en_ko.generate(**inputs, max_new_tokens=max_new_tokens)\n",
    "    return tokenizer_en_ko.decode(outputs[0], skip_special_tokens=True)\n",
    "\n",
    "#Reverse Translation function (Korean → English → Korean)\n",
    "def back_translate(text, idx):\n",
    "    en_text = translate_ko_to_en(text)\n",
    "    if not en_text:  # 번역 실패 시 원본 텍스트 반환\n",
    "        return text\n",
    "\n",
    "    back_ko_text = translate_en_to_ko(en_text)\n",
    "    if not back_ko_text:  # 번역 실패 시 원본 텍스트 반환\n",
    "        return text\n",
    "\n",
    "# Output progress for each 50\n",
    "    if idx % 50 == 0:\n",
    "        print(f\"\\n[Progress {idx}]:\")\n",
    "        print(f\"Original: {text[:200]}\")\n",
    "        print(f\"KO->EN: {en_text[:200]}\")\n",
    "        print(f\"EN->KO: {back_ko_text[:200]}\")\n",
    "\n",
    "    return back_ko_text\n",
    "\n",
    "#Label smoothing function\n",
    "def apply_label_smoothing(label, smoothing_factor=0.05):\n",
    "    return label * (1 - smoothing_factor) + (0.5 * smoothing_factor)\n",
    "\n",
    "#Chiped class enhancement + label smoothing function\n",
    "def augment_with_label_smoothing(df, label_column, max_samples, smoothing_factor=0.05):\n",
    "    label_counts = df[label_column].value_counts()\n",
    "    max_count = max_samples if max_samples else label_counts.max()  # 목표 샘플 수 설정\n",
    "\n",
    "    balanced_df = pd.DataFrame()  # 최종 균형 조정된 데이터셋 저장\n",
    "\n",
    "    for label, count in label_counts.items():\n",
    "        if label == 1.0:  # 라벨이 1.0인 경우 증강을 건너뜀\n",
    "            subset = df[df[label_column] == label]\n",
    "            balanced_df = pd.concat([balanced_df, subset], ignore_index=True)\n",
    "            continue\n",
    "\n",
    "        subset = df[df[label_column] == label]  # 해당 라벨의 데이터 추출\n",
    "\n",
    "        if count < max_count:\n",
    "#Hive minor class increase (enhancement of data as it is lacking)\n",
    "            augmented_texts = []\n",
    "            for idx, row in tqdm(subset.iterrows(), total=len(subset), desc=f\"Processing label {label}\"):\n",
    "                original_text = row['content']\n",
    "                augmented_text = back_translate(original_text, idx)  # 다단계 역번역을 통한 증강\n",
    "                augmented_row = row.copy()\n",
    "                augmented_row['content'] = augmented_text\n",
    "                augmented_row['full_text'] = augmented_text  # 'full_text' 업데이트\n",
    "\n",
    "# Apply label smoothing\n",
    "                smoothed_label = apply_label_smoothing(row[label_column], smoothing_factor=smoothing_factor)\n",
    "                augmented_row[label_column] = smoothed_label  # 스무딩된 라벨 적용\n",
    "                augmented_texts.append(augmented_row)\n",
    "\n",
    "            augmented_df = pd.DataFrame(augmented_texts)  # 증강된 데이터 프레임화\n",
    "            num_to_generate = max_count - count  # 부족한 개수만큼 증강\n",
    "            sampled_augmented = augmented_df.sample(n=num_to_generate, replace=True)  # 증강된 데이터 중 샘플링\n",
    "            balanced_df = pd.concat([balanced_df, subset, sampled_augmented], ignore_index=True)\n",
    "\n",
    "        else:\n",
    "# Excessive representative classes are added as original\n",
    "            balanced_df = pd.concat([balanced_df, subset], ignore_index=True)\n",
    "\n",
    "    return balanced_df\n",
    "\n",
    "\n"
   ]
  },
  {
   "cell_type": "code",
   "execution_count": null,
   "metadata": {
    "colab": {
     "base_uri": "https://localhost:8080/"
    },
    "executionInfo": {
     "elapsed": 21208079,
     "status": "error",
     "timestamp": 1726847686309,
     "user": {
      "displayName": "백현지",
      "userId": "02510457579208942463"
     },
     "user_tz": -540
    },
    "id": "zupRD7MMfIwF",
    "outputId": "f9d3ffae-0665-4f8e-c901-0102f0e6f29f"
   },
   "outputs": [
    {
     "name": "stderr",
     "output_type": "stream",
     "text": [
      "Processing label 0.6:   0%|          | 22/7746 [02:51<17:06:00,  7.97s/it]"
     ]
    },
    {
     "name": "stdout",
     "output_type": "stream",
     "text": [
      "\n",
      "[Progress 350]:\n",
      "Original: 강동구 상일동 삼성물산 글로벌엔지어링센터에서 열린 . 제55기 정기 주주총회. 에서 이영호 삼성물산 대표이사 사장은 . 경영 환경 불확실성이 어느 때보다 높은 만큼 수익성 중심의 내실경영 기조를 유지하면서 각 사업부문의 경쟁력을 강화해 지속적이고 안정적인 성장을 이어가겠다. 삼성물산은 건설 부문에서 품질. 공기를 준수해 기술력 중심의 회사로 변화를 추구하는\n",
      "KO->EN: At the 55th regular shareholders' meeting held at the Grand Seoul headquarters in Jongno-gu, Seoul, GS Engineering & Construction CEO Lim Byung-yong said, \"As the financial environment is higher than \n",
      "EN->KO: 임병용 GS건설 대표이사는 이날 서울 종로구 그랜드서울 본사에서 열린 제55차 정기 주주총회에서 \"금융 환경이 어느 때보다 높은 만큼 각 사업 부문 경쟁력을 강화해 수익성 증대와 지속적인 성장 창출을 위해 노력하겠다\"고 밝혔다.\n"
     ]
    },
    {
     "name": "stderr",
     "output_type": "stream",
     "text": [
      "Processing label 0.6:   2%|▏         | 186/7746 [23:34<17:11:01,  8.18s/it]"
     ]
    },
    {
     "name": "stdout",
     "output_type": "stream",
     "text": [
      "\n",
      "[Progress 2100]:\n",
      "Original: 삼성전자가 판매하는 살균기는 삼성 모바일 액세서리 파트너십 프로그램. 파트너사인 삼성물산에서 제작한 제품으로 가격은 4만9천500원이다. 삼성전자 스마트폰 자외선. 삼성전자에 따르면 UV 살균기는 글로벌 시험. 검사기관 인터텍 및 SGS에서 살균력 테스트를 거쳤으며. 백색염주균을 포함한 유해 세균을 최대 99. 까지 제거할 수 있다. UV 살균기는 설계 단\n",
      "KO->EN: According to Samsung Electronics' mobile accessory partnership program, the UV sterilizer is designed to remove harmful bacteria from the design stage to the size of the Galaxy S20 Ultra, and the UV s\n",
      "EN->KO: 삼성전자 모바일 액세서리 제휴 프로그램에 따르면 자외선 살균기는 디자인 단계부터 갤럭시S20 울트라 크기까지 유해 세균을 제거하도록 설계됐으며 자외선 살균기는 폭 99mm까지 설계돼 자외선 차단에 의해 살균이 가능하다.\n"
     ]
    },
    {
     "name": "stderr",
     "output_type": "stream",
     "text": [
      "Processing label 0.6:   3%|▎         | 219/7746 [27:26<14:35:34,  6.98s/it]"
     ]
    },
    {
     "name": "stdout",
     "output_type": "stream",
     "text": [
      "\n",
      "[Progress 2400]:\n",
      "Original: 글로벌 반도체 시장에서는 . 을 외치는 해외 업체들의 공격적인 행보가 이어지며 한치 앞을 내다보기 어려운 상황이다. 위기 때마다 압도적인 투자를 통해 경쟁 업체를 따돌려온 삼성 특유의 초격차 전략이 다시 한번 성과를 내기 위해서는 사법. 입법 리스크 해소가 급선무라는 지적이 나온다. 31일 업계에 따르면 이재용 삼성전자 부회장의 경영권 승계 의혹을 수사 중\n",
      "KO->EN: In addition to the judicial risks caused by the prosecution's long-term investigation, the company has been facing a lot of problems with the prosecution's aggressive investment and the revision of th\n",
      "EN->KO: 검찰 장기수사로 인한 사법적 리스크 외에도 글로벌 반도체 산업의 주요 요인으로 꼽히는 검찰의 공격적인 투자와 법 개정, 검찰 결정 등으로 많은 문제를 겪고 있다.\n"
     ]
    },
    {
     "name": "stderr",
     "output_type": "stream",
     "text": [
      "Processing label 0.6:   3%|▎         | 264/7746 [32:37<14:31:35,  6.99s/it]"
     ]
    },
    {
     "name": "stdout",
     "output_type": "stream",
     "text": [
      "\n",
      "[Progress 2750]:\n",
      "Original: 10일 업계에 따르면 최근 지어지는 신축 아파트는 구축 아파트에서 볼 수 없는 조경 공간 설계로 입주민들의 심리적 안정을 꾀한다. 미술관 및 전시관에서 볼 수 있었던 작품이 아파트 안으로 들어오는가 하면 단지 밖으로 나가지 않아도 단지 내에서 지친 심신을 달랠 수 있게 하는 곳으로 변모했다. 우수한 조경 공간과 넓은 주차 공간을 갖춘데 이어 도서관. 피트니\n",
      "KO->EN: According to the industry on the 10th, the new apartment complex, which was recently introduced by Samsung C&T through the redevelopment project of Seokwan District 1 in Seoul, has been created with a\n",
      "EN->KO: 10일 업계에 따르면 최근 삼성물산이 서울 석관1지구 재개발 사업을 통해 선보인 신규 아파트 단지는 수려한 경관과 넓은 주차공간으로 조성되어 현재 도심에서 아름다운 경관을 보이고 있으며, 서울 시내에서도 아름다운 경관을 보이고 있다.\n"
     ]
    },
    {
     "name": "stderr",
     "output_type": "stream",
     "text": [
      "Processing label 0.6:   4%|▎         | 287/7746 [35:23<14:24:14,  6.95s/it]"
     ]
    },
    {
     "name": "stdout",
     "output_type": "stream",
     "text": [
      "\n",
      "[Progress 2950]:\n",
      "Original: 15일 한국거래소에 따르면 전날 남광토건은 200원. 오른 1만3900원에 거래를 마쳤다. 남광토건은 이달 들어서만 38. 올랐는데 지난 10일에는 가격제한폭까지 오르며 상한가를 기록했고 11일에는 장중 1만5050원까지 오르며 52주 신고가를 새로 썼다. 건설업 대장주인 GS건설도 지난 11일 장중 3만7650원에 신고가를 기록했다. GS건설은 연초 대비\n",
      "KO->EN: According to the Korea Exchange on the 15th, the company's policy to expand the supply of housing is expected to be in full swing next year, with the market share of large construction companies risin\n",
      "EN->KO: 15일 한국거래소에 따르면 올해 연초보다 대형 건설사의 점유율이 200원 오른 가운데 GS건설도 52주 사상 최고치를 경신하는 등 내년 주택 공급 확대 정책이 본격화할 것으로 전망된다.\n"
     ]
    },
    {
     "name": "stderr",
     "output_type": "stream",
     "text": [
      "Processing label 0.6:   4%|▍         | 326/7746 [40:07<15:15:04,  7.40s/it]"
     ]
    },
    {
     "name": "stdout",
     "output_type": "stream",
     "text": [
      "\n",
      "[Progress 3400]:\n",
      "Original: 총 12조원가량 상속세 중에서는 지분 상속에 다른 상속세가 11조원가량으로 절대적 비중을 차지한다. 고인의 삼성그룹 계열사 지분은 삼성전자 2억4927만3200주. 삼성전자 우선주 61만9900주. 삼성생명 4151만9180주. 삼성물산 542만5733주. 삼성SDS 9701주. 이들 주식은 시가 기준 약 24조원 규모이며. 유족들이 지분 상속으로 인해 부\n",
      "KO->EN: The company's governance structure was expected to be set at 1.49 trillion won, and the share of Samsung Electronics' affiliates is estimated to be 1.49 trillion won, and the share of Samsung Electron\n",
      "EN->KO: 회사 지배구조는 1조9,900억원으로 책정될 것으로 예상됐으며, 삼성전자 계열사의 비중은 1조9,900억원으로 추정되며, 삼성전자 우선주의 비중은 1조9,900만원, 삼성전자 우선주의 비중은 1조9,100만원이다.\n"
     ]
    },
    {
     "name": "stderr",
     "output_type": "stream",
     "text": [
      "Processing label 0.6:   5%|▌         | 412/7746 [50:43<16:06:49,  7.91s/it]"
     ]
    },
    {
     "name": "stdout",
     "output_type": "stream",
     "text": [
      "\n",
      "[Progress 4200]:\n",
      "Original: 무거운 상속세가 가업 승계를 원하는 기업의 발목을 잡고 있기 때문이다. 정부는 상속세 과세체계 개편을 검토하고 있다. 한국경제연구원은 18일 청년 일자리 문제를 해결하기 위한 5대 정책 방향과 10대 정책과제를 제시했다. 한경연에 따르면 우리나라 청년층의 실업률은 지난해 9. 로 전체 평균 실업률. 3배 수준으로 청년 체감실업률은 25. 에 이르러 청년 4\n",
      "KO->EN: According to the Korea Economic Research Institute, the number of jobs in Korea is increasing from 2,648 in 2015 to 3,349 in 2020, which is the highest level of the annual taxation system, which is th\n",
      "EN->KO: 한국경제연구원에 따르면 한국의 일자리 수는 2015년 2,648명에서 2020년 3,349명으로 증가해 세계 최고 수준인 연간 과세체계의 최고 수준을 보이고 있으며, 국내 장기기업 수는 더 많다.\n"
     ]
    },
    {
     "name": "stderr",
     "output_type": "stream",
     "text": [
      "Processing label 0.6:   6%|▌         | 458/7746 [56:17<15:03:29,  7.44s/it]"
     ]
    },
    {
     "name": "stdout",
     "output_type": "stream",
     "text": [
      "\n",
      "[Progress 4600]:\n",
      "Original: 지난 7월5일 정부세종청사에서 대외경제장관회의를 주재하던 홍남기 부총리 겸 기획재정부 장관은 한국무역보험공사. 가 사실상 독점하다시피 하고 있는 보증 업무를 수은에게도 맡겨야 한다며 이같이 말했다. 홍 부총리가 거론한 4건의 수주 무산 사례는 무엇일까. 시일이 지난 후 무보 노동조합이 확인한 바로는 남아프리카공화국 타바메시 화력발전 건설. 콜롬비아 보고타 \n",
      "KO->EN: The construction of the Tubamesi Power Plant in South Africa, which was promoted by the Korea Export-Import Bank, was also a project that was not able to participate in the project because the constru\n",
      "EN->KO: 수출입은행이 추진한 남아공 타바메시 발전소 건설 역시 사업 추진이 어려워 남아공 타바메시 발전소 건설이 불가능하여 사업 참여조차 못한 사업이었다.\n"
     ]
    },
    {
     "name": "stderr",
     "output_type": "stream",
     "text": [
      "Processing label 0.6:   6%|▌         | 464/7746 [56:59<14:02:22,  6.94s/it]"
     ]
    },
    {
     "name": "stdout",
     "output_type": "stream",
     "text": [
      "\n",
      "[Progress 4650]:\n",
      "Original: 제2기 위원회는 이날 정기회의를 열고 위원간의 상호 인사와 선임 소감 및 향후 위원회가 나가야 할 기본 방향에 대해 논의했다고 밝혔다. 위원회는 이 위원장이 지난달 기자간담회를 통해 제안한 인권 우선경영. 공정하고 투명한 경영. ESG 중심경영 관련 준법감시 활동을 위원회의 원칙적 추진과제로 선정했다. 이를 위해 기존에 운영되던 노동소위원회. 시민사회소통소\n",
      "KO->EN: The second committee held a regular meeting on the same day and discussed the internal transactions, compliance monitoring, and the basic direction of the committee, which was proposed by Chairman Lee\n",
      "EN->KO: 2위는 이날 정례회를 열고 이 위원장이 지난달 기자회견을 통해 제안한 내부거래, 준법감시, 위원회 기본방향 등을 논의했고, 전 노동위원회와 시민사회소통위원회 요청으로 2020년 ESG위원회가 신설됐다.\n"
     ]
    },
    {
     "name": "stderr",
     "output_type": "stream",
     "text": [
      "Processing label 0.6:   6%|▋         | 499/7746 [1:01:12<14:14:35,  7.08s/it]"
     ]
    },
    {
     "name": "stdout",
     "output_type": "stream",
     "text": [
      "\n",
      "[Progress 5050]:\n",
      "Original: 우크라이나에서 해바라기유를 수출하지 못하면서 팜유 수요는 급증하고 있지만. 최대 생산국인 인도네시아는 수출에 제한을 걸고 있다. 이에 식품업계는 물론 정유화학업계에 비상이 걸렸다. 반면 꾸준히 해외 원자재 개발을 해온 종합상사들은 깜짝 실적을 거두고 있다. 17일 업계에 따르면 포스코인터내셔널. 은 인도네시아에서 팜 농장을 운영 중이다. 2009년 삼성물산\n",
      "KO->EN: As the price of palm oil has soared, the volume of palm oil produced by the company is increasing rapidly, with the sales of Pharm's International operating in Indonesia, which is 39.81 trillion won i\n",
      "EN->KO: 팔만유 가격이 급등하면서 인도네시아에서 영업 중인 의약품인터내셔널의 매출액이 39조8181억원, 영업이익이 24조5757억원으로 급증하고 있으며, 회사 영업부문은 영업 중이라 팔만유 생산량이 급증하고 있다.\n"
     ]
    },
    {
     "name": "stderr",
     "output_type": "stream",
     "text": [
      "Processing label 0.6:   7%|▋         | 563/7746 [1:09:00<13:39:55,  6.85s/it]"
     ]
    },
    {
     "name": "stdout",
     "output_type": "stream",
     "text": [
      "\n",
      "[Progress 5550]:\n",
      "Original: 정부는 정부서울청사에서 제2차 경제 규제혁신 태스크포스. 회의를 열고 이런 내용을 담은 순환 경제 활성화 방안을 지난 5일 발표했다. 우선 2030년까지 42만개에 이를 것으로 예상되는 전기차 폐배터리 시장을 선점하기 위해 폐기물 규제를 완전히 풀기로 했다. 폐배터리를 상태에 따라 다시 전기차 배터리로 재제조하거나. 배터리 부품으로 ESS. 등으로 재사용할\n",
      "KO->EN: In addition, the Ministry of Land, Infrastructure and Transport has recently signed a joint venture with the company, E-Cronze, to make a joint venture to recycle the battery from the battery plant in\n",
      "EN->KO: 또 국토부는 최근 이트론즈와 미국 배터리 공장 배터리 재활용 합작회사를 체결해 내년 상반기까지 24만대에 이를 것으로 예상된다.\n"
     ]
    },
    {
     "name": "stderr",
     "output_type": "stream",
     "text": [
      "Processing label 0.6:   8%|▊         | 591/7746 [1:12:26<13:20:12,  6.71s/it]"
     ]
    },
    {
     "name": "stdout",
     "output_type": "stream",
     "text": [
      "\n",
      "[Progress 5750]:\n",
      "Original: SPC 안전경영위원회 출범위원장에 정갑영 전 연세대 총장SPC가 지난달 15일 그룹 계열사인 SPL 경기 평택공장에서 발생한 근로자 사망사고의 후속 대책으로 . 위원장으로 정갑영 전 연세대 총장을 선임했습니다. 안전경영위는 전 계열사 사업장의 사회적 책임과 관련된 제반 사항에 대해 감독. 권고하는 기능을 수행합니다. 2050년까지 탄소중립 추진삼성물산이 2\n",
      "KO->EN: The SPC's chief of the Korea University of Korea, Chung Gap-young, has been appointed as the chairman of the SPC's Safety Management Committee, which will actively support the conversion of electric v\n",
      "EN->KO: SPC의 안전관리위원회 위원장으로 정갑영 고려대 총장이 취임해 2030년 열리는 발리 G20 정상회의에 전기차 충전기를 적극 지원할 예정이다.\n"
     ]
    },
    {
     "name": "stderr",
     "output_type": "stream",
     "text": [
      "Processing label 0.6:   9%|▉         | 718/7746 [1:28:23<14:33:00,  7.45s/it]"
     ]
    },
    {
     "name": "stdout",
     "output_type": "stream",
     "text": [
      "\n",
      "[Progress 7200]:\n",
      "Original: 1일 정부 관계부처에 따르면 원희룡 국토교통부 장관이 이끄는 . 우크라이나 재건 협력 대표단. 민간기업 등 기업인 20여명과 함께 이달 중순 우크라이나로 향할 예정이다. 이번에 우크라이나로 협력단에 참여하는 기업은 삼성물산. 우크라이나 전쟁 상황을 감안해 우크라이나 방문자들은 1사 1인으로 제한된 것으로 알려졌다. 지난 7월 윤석열 대통령이 우크라이나를 방\n",
      "KO->EN: According to the government's related ministries, the government has been actively discussing ways to participate in the reconstruction project in Ukraine, with the government and the private companie\n",
      "EN->KO: 정부 관계부처에 따르면 그동안 정부와 민간기업이 함께 우크라이나 재건사업에 참여하는 방안을 적극적으로 논의해왔으며, 9월 중순엔 기업인들이 우크라이나를 방문할 수 있도록 하고 있으며, 재건사업이 추진될 경우 정부 차원의 정부 지원 방안이 추진될 것으로 보인다.\n"
     ]
    },
    {
     "name": "stderr",
     "output_type": "stream",
     "text": [
      "Processing label 0.6:   9%|▉         | 734/7746 [1:30:27<14:56:09,  7.67s/it]"
     ]
    },
    {
     "name": "stdout",
     "output_type": "stream",
     "text": [
      "\n",
      "[Progress 7300]:\n",
      "Original: 이재용 삼성전자 회장이 전경련 활동을 하지 않겠다고 공언한 이후 약 7년만의 일이다. 다만 삼성준법감시위원회는 정경유착의 고리를 끊을 수 있는 통제 장치의 중요성을 강조했다. 이날 준법위의 권고로 삼성을 비롯한 SK그룹과 현대차그룹. LG그룹 등 국내 4대 그룹의 전경련 복귀 논의에도 가속도가 붙을 것으로 전망된다. 삼성 준법감시위원회는 18일 서울 삼성 \n",
      "KO->EN: The Samsung Federation of Korean Industries, which is not a matter of a resolution, said that the company will hold a second temporary meeting at Samsung's Seocho office in Seoul on the 18th, and said\n",
      "EN->KO: 결의사항이 아닌 한국경영자총협회는 18일 서울 서초동 삼성 본사에서 2차 임시회의를 열겠다고 밝히면서, 한국경영자총협회 재가입에 대한 결정을 내려야 한다고 밝혔다.\n"
     ]
    },
    {
     "name": "stderr",
     "output_type": "stream",
     "text": [
      "Processing label 0.6:  10%|▉         | 752/7746 [1:32:41<14:32:44,  7.49s/it]"
     ]
    },
    {
     "name": "stdout",
     "output_type": "stream",
     "text": [
      "\n",
      "[Progress 7450]:\n",
      "Original: 보다 문제는 삼성의 주력 산업군 곳곳에서 . 지위가 흔들리고 있다는 데 있다. 이 나오지만 이 회장의 과단성 있는 메시지와 구상은 나오지 않고 있다. 하이닉스는 올 2분기 실적 설명회에서 . 지난 20년 간 메모리 산업 경쟁력 가늠자였던 미세공정. 수율 전쟁에서 삼성전자는 한번도 경쟁 사업자에게 밀린 적이 없다. 반도체칩 시장의 절대 강자 엔비디아가 최우선\n",
      "KO->EN: The problem is that Samsung Electronics has always been in the gap with its competitors in the market, with its market share rising to 30 trillion won in the second quarter of this year, based on its \n",
      "EN->KO: 문제는 삼성전자가 저가폰 시장을 기반으로 올해 2분기 점유율 30조원으로 오르는 등 항상 시장 경쟁 경쟁국과 격차를 벌여왔고, 여전히 시장 지배력이 취약하고, 삼성전자 자회사인 삼성전자 자회사가 경쟁력에 한계가 있다는 점이다.\n"
     ]
    },
    {
     "name": "stderr",
     "output_type": "stream",
     "text": [
      "Processing label 0.6:  10%|█         | 803/7746 [1:39:07<14:09:26,  7.34s/it]"
     ]
    },
    {
     "name": "stdout",
     "output_type": "stream",
     "text": [
      "\n",
      "[Progress 7950]:\n",
      "Original: 설계사 업무에도 빅데이터를 적용하면서 신입 설계사도 높은 수준의 업무 역량을 발휘하고 있다. 11일 관련 업계에 따르면 DB손해보험은 업계 처음으로 빅데이터를 활용. 장기 보상 리스크 심도 측정. 난이도별로 배당하는 보험 사기 탐지 시스템. 2011년에 구축한 시스템을 고도화한 것이다. 분석 시스템 전문 업체 큐핏. DB손보가 구축한 IFDS는 리스크 유형\n",
      "KO->EN: According to the related industry, the company is also looking forward to using big data for the first time in the insurance industry, which is a system that automatically analyzes the data on the ins\n",
      "EN->KO: 관련 업계에 따르면 보험계약 및 보험사기 적발시스템 데이터를 자동으로 분석하고 보험사의 보험금 사고 및 점수 산정 자료를 제공하는 시스템인 보험업계 최초로 빅데이터를 활용할 수 있기를 기대하고 있다.\n"
     ]
    },
    {
     "name": "stderr",
     "output_type": "stream",
     "text": [
      "Processing label 0.6:  11%|█         | 858/7746 [1:45:47<13:48:03,  7.21s/it]"
     ]
    },
    {
     "name": "stdout",
     "output_type": "stream",
     "text": [
      "\n",
      "[Progress 8500]:\n",
      "Original: 독일 등 저금리를 먼저 경험한 생보사들은 보장성보험과 연금. 변액보험 중심으로 포트폴리오를 새로 짜고 투자수익률을 높이기 위한 자산운용에 집중하는 등의 대응책을 선보였다. 국내 생보사들도 최근 4. 5년전부터 보장성보험. 변액보험 중심의 판매를 늘려가는 등의 변화를 주고 있다. 하지만 투자수익률 제고에는 여전히 한계가 있어 규제 완화 등의 필요성이 제기된다\n",
      "KO->EN: In addition, the U.S. life insurance company, which experienced low-interest rates first in the 1980s, also showed a sharp drop in the stock price, and the U.S. insurance company has also been on the \n",
      "EN->KO: 또 1980년대 가장 먼저 저금리를 경험한 미국 생명보험회사도 주가가 급락했고, 미국 보험회사도 주가가 상승 추세였고, 미국 보험회사도 저금리로 주가가 하락하였다.\n"
     ]
    },
    {
     "name": "stderr",
     "output_type": "stream",
     "text": [
      "Processing label 0.6:  11%|█▏        | 875/7746 [1:47:56<13:46:57,  7.22s/it]"
     ]
    },
    {
     "name": "stdout",
     "output_type": "stream",
     "text": [
      "\n",
      "[Progress 8650]:\n",
      "Original: 보험산업이 획기적인 성장 동력을 찾지 못하면 불황의 그늘은 시간이 갈수록 더욱 짙어질 것으로 우려된다. 대형사는 물론 중소형사도 . 보험업계에 따르면 24개 생보사의 올해 3분기 누적. 당기순이익은 3조573억원으로 전년동기대비 24. 보험영업 부문에서 18조457억원의 손실이 발생했다. 이는 전년동기보다 1조1755억원 늘어난 수치다. 저축성보험 만기가 \n",
      "KO->EN: According to the insurance industry's data submitted to the National Assembly's office, the cumulative net profit of the insurance company in the third quarter of this year was KRW 4.7 trillion, which\n",
      "EN->KO: 국회 정무위원회에 제출된 보험업계 자료에 따르면 올해 3분기 보험사의 누적 당기순이익이 4조4000억원으로 보험사에 지급될 것으로 예상되는 금리의 큰 폭의 인상 폭이 보인다.\n"
     ]
    },
    {
     "name": "stderr",
     "output_type": "stream",
     "text": [
      "Processing label 0.6:  12%|█▏        | 915/7746 [1:52:52<12:53:16,  6.79s/it]"
     ]
    },
    {
     "name": "stdout",
     "output_type": "stream",
     "text": [
      "\n",
      "[Progress 9000]:\n",
      "Original: 이날 취재결과 한노총 전국금속노동조합연맹 산하 전국삼성전자노동조합. 는 지난 24일 단체교섭 요구서를 사측에 제출했다. 사측에 제출된 단체교섭 요구서에 따르면 4노조는 노조 활동 보장 노조 사무실 조성 등을 요구했다. 앞서 전국노조를 표방하며 출범했던 3노조가 지난해 사측과 단체교섭을 진행한 적은 있지만 양대노총과 함께 교섭에 나서는 것은 4노조가 처음이다\n",
      "KO->EN: As a result of the report, Cho Dong-seok, an honorary professor at Sungkyunkwan University, said that the 4-member union, which was launched in November last year, has been in a position to hold a col\n",
      "EN->KO: 보고 결과 조동석 성균관대 명예교수는 지난해 11월 출범한 4인 노조가 회사와 단체교섭을 하는 입장을 갖고 있다고 밝히며 4인 노조는 사측과 단체교섭을 하는 것으로 보고 있다.\n"
     ]
    },
    {
     "name": "stderr",
     "output_type": "stream",
     "text": [
      "Processing label 0.6:  12%|█▏        | 947/7746 [1:56:45<12:56:54,  6.86s/it]"
     ]
    },
    {
     "name": "stdout",
     "output_type": "stream",
     "text": [
      "\n",
      "[Progress 9300]:\n",
      "Original: 최근에서야 노동조합이라는 존재와 함께 걸어가기 시작한 삼성그룹 사장단 앞에서 문 위원장은 한국 노동계가 깊이 고민하는 . 미래 지향적 노사관계 형성. 을 두고 강의를 시작했다. 한국 노동운동이 걸어온 길부터 노사관계가 지금까지 어떻게 변화해왔는지. 또 건전한 노사 파트너십을 구축하기 위한 방법 등이 문 위원장의 발언에 고스란히 담겼다. 문 위원장은 사장단 \n",
      "KO->EN: The news that Chairman Moon, who is a member of the Korean Federation of Trade Unions, has been talking to the presidents of Samsung Electronics, and the presidents of Samsung Electronics, who are fam\n",
      "EN->KO: 한국노총 소속 문 위원장이 삼성전자 사장단과 대화하고 있다는 소식과 강연 당일 한국 노조 공개 사과 결정에 익숙한 삼성전자 사장단이 입을 모은다.\n"
     ]
    },
    {
     "name": "stderr",
     "output_type": "stream",
     "text": [
      "Processing label 0.6:  12%|█▏        | 963/7746 [1:58:40<12:42:31,  6.74s/it]"
     ]
    },
    {
     "name": "stdout",
     "output_type": "stream",
     "text": [
      "\n",
      "[Progress 9500]:\n",
      "Original: 이 제도는 보험사가 의료기관 전문의에게 의료심의. 장해평가 등의 자문을 의뢰하고 소정의 비용을 지급한다. 의료자문 비용은 진료과별로 한 건당 10만. 민간의료자문 회사를 이용할 경우 수수료를 포함 30만원에 의료자문서가 거래된다. 최근 금융감독원의 요구에 따라 보험사들이 공개한 자료에 따르면 지난해 하반기 보험사들은 약 4만건의 소견서를 의뢰해 의료자문료 \n",
      "KO->EN: The insurance company has requested medical advice from medical institutions for a total of KRW 810,000 for four months after receiving medical advice from the medical institutions, including the medi\n",
      "EN->KO: 보험사는 의료자문위원 등 의료기관의 의료자문을 받은 뒤 4개월간 총 80만원을 의료기관에 의료자문을 의뢰했으나, 보험사는 의료자문료인 의료자문과 보험보험에 대한 재심사를 받았다.\n"
     ]
    },
    {
     "name": "stderr",
     "output_type": "stream",
     "text": [
      "Processing label 0.6:  13%|█▎        | 987/7746 [2:01:34<12:42:42,  6.77s/it]"
     ]
    },
    {
     "name": "stdout",
     "output_type": "stream",
     "text": [
      "\n",
      "[Progress 9750]:\n",
      "Original: 문대통령은 이 회장이 2014년 5월 급성 심근경색증으로 쓰러진 뒤인 2017년 5월 취임해 직접 만난 적은 없다. 다만 문 대통령이 청와대 민정수석이던 2005년에 . 논란이 일었던 금융산업 구조 개선에 관한 법률. 개정 논란과 관련한 경위를 조사한 바 있다. 노무현 전 대통령은 2005년 7월 금산법 개정안이 의결되던 국무회의에서 일부 조항이 삼성전자의\n",
      "KO->EN: In a press briefing in December 2017, when President Moon was a presidential secretary for civil affairs, he said that although there were procedural problems, he had a relatively active relationship \n",
      "EN->KO: 문 대통령이 민정수석이던 2017년 12월 기자회견에서는 절차적 문제가 있었지만 금융 개혁 담당이었던 이 회장과 비교적 활발한 관계를 맺었고, 지난 7월 서울 노이다 삼성전자 신축공장을 방문했다고 밝혔다.\n"
     ]
    },
    {
     "name": "stderr",
     "output_type": "stream",
     "text": [
      "Processing label 0.6:  14%|█▎        | 1059/7746 [2:10:30<13:58:05,  7.52s/it]"
     ]
    },
    {
     "name": "stdout",
     "output_type": "stream",
     "text": [
      "\n",
      "[Progress 10350]:\n",
      "Original: 과거에는 이윤추구가 기업의 유일한 목적이었으나. 지속가능한 기업을 만들기 위해서는 이러한 요소들을 함께 고려해야 한다는 주장에 무게가 실리고 있다. EGS 경영을 무시할 경우 치러야 할 대가도 점점 커지고 있다. 최근 물류센터 대형 화재 사고로 사회적 지탄을 받았던 한 기업의 경우 지난해 상장 전 시행된 전문기관의 ESG 평가에서 이미 최하 수준 등급을 받\n",
      "KO->EN: In the past, the statement of the ESG management of Hanwha Group's financial affiliates, including the Korea Capital & Securities Co., is the first of its kind to be promoted by financial companies to\n",
      "EN->KO: 과거 한국투자증권 등 한화그룹 금융계열사의 ESG경영 성명은 금융사가 금융권과 글로벌 글로벌 에너지산업에서 ESG경영에 적극적으로 참여하도록 추진하는 첫 번째 것으로, 이번 성명서는 금융업계에서 최초로 추진됐다.\n"
     ]
    },
    {
     "name": "stderr",
     "output_type": "stream",
     "text": [
      "Processing label 0.6:  14%|█▍        | 1083/7746 [2:13:28<13:48:44,  7.46s/it]"
     ]
    },
    {
     "name": "stdout",
     "output_type": "stream",
     "text": [
      "\n",
      "[Progress 10600]:\n",
      "Original: 자산운용 이익 확대를 위해 해외 자산운용 시장으로 시야를 넓히겠다는 의미였다. 삼성생명은 지난 5월 영국의 종합부동산 그룹 세빌스. plc 산하 부동산 자산운용사인 세빌스 IM의 지분 25. 를 1013억원에 취득했다. 감독당국의 승인을 받은 뒤 확정된다. 세빌스 IM은 1987년 세빌스 plc 산하 운용부문으로 출발한 뒤 2004년 그룹 산하 부동산 자산\n",
      "KO->EN: Samsung Life Insurance, which has become the second-largest shareholder, has recently entered into a global asset management company under the company's management division, with a total of 299 employ\n",
      "EN->KO: 2대 주주가 된 삼성생명은 최근 유럽, 아시아 등 영국 16개 사무소에 총 299명이 근무하는 등 회사 경영부문 산하 글로벌 자산운용사에 착수했으며, 회사 측과 회사 지분 다양화를 위한 계약을 체결하기로 했다.\n"
     ]
    },
    {
     "name": "stderr",
     "output_type": "stream",
     "text": [
      "Processing label 0.6:  15%|█▍        | 1130/7746 [2:19:14<13:33:25,  7.38s/it]"
     ]
    },
    {
     "name": "stdout",
     "output_type": "stream",
     "text": [
      "\n",
      "[Progress 11050]:\n",
      "Original: 삼성생명은 앞으로 배당성향을 50. 까지 확대하는 전략을 유지하고. 분기배당을 검토하는 등 주주환원정책을 펼칠 계획이다. 22일 삼성생명은 기업설명회. 2021년 주요 결산 실적. 지난해 당기순이익이 1조4694억원으로 전년. 매출에 해당하는 수입보험료는 20조5460억원으로 전년보다 3. 삼성생명은 지난해 순익 증가 요인을 1분기 삼성전자 배당. 연결 이\n",
      "KO->EN: Samsung Life Insurance held a general meeting of shareholders on the 22nd and said that the dividend dividend rate was KRW 1.46 trillion last year, which is a slight increase from the previous year, a\n",
      "EN->KO: 삼성생명은 22일 주주총회를 열고 지난해 배당배당율이 1조46억원으로 전년보다 소폭 인상됐고, 신규계약의 배당금리는 2조71억원으로 전년 대비 소폭 인상된 값이라고 밝혔다.\n"
     ]
    },
    {
     "name": "stderr",
     "output_type": "stream",
     "text": [
      "Processing label 0.6:  16%|█▌        | 1215/7746 [2:29:39<12:33:28,  6.92s/it]"
     ]
    },
    {
     "name": "stdout",
     "output_type": "stream",
     "text": [
      "\n",
      "[Progress 11950]:\n",
      "Original: 금융당국의 압박에 대출금리 인하에 속속 동참하고 있는 보험. 카드사들이 추가적인 . 를 내놓을지 관심이 커지고 있다. 금리인하 행보에 동참 12일 금융업계에 따르면 은행권으로부터 시작된 금융당국의 대출금리 인하 압박이 보험. 카드사로 번지고 있는 상황이다. 한 카드업계 관계자는 . 카드업계라는 분위기가 짙어지고 있다며 현장방문이 이뤄지면 어떤 선물 보따리를\n",
      "KO->EN: According to the credit card industry, the average interest rate on credit loans, which had already been lowered by the financial authorities by 11 points per year as of the end of January, has been o\n",
      "EN->KO: 카드사 업계에 따르면 지난 1월말 기준 이미 금융당국으로부터 연 11포인트 인하된 신용대출 평균금리가 상승세를 보이고 있으며, 신용대출 금리가 금융당국으로부터 인하되면서 신용대출 평균금리는 1월 말부터 상승 추세를 보이고 있다.\n"
     ]
    },
    {
     "name": "stderr",
     "output_type": "stream",
     "text": [
      "Processing label 0.6:  16%|█▌        | 1228/7746 [2:31:10<12:26:28,  6.87s/it]"
     ]
    },
    {
     "name": "stdout",
     "output_type": "stream",
     "text": [
      "\n",
      "[Progress 12050]:\n",
      "Original: 배당성향을 기록했다고 밝혔다. 배당성향은 당기순이익 중 주주에게 현금으로 지급된 배당금 총액 비율이다. 배당성향이 높을수록 주주환원을 많이 한다는 뜻이다. 삼성생명은 그동안 배당성향을 50. 까지 높이겠다고 공언했었다. 작년까지도 새 국제회계제도. 를 도입해도 이 목표를 유지하겠다고 했었다. 하지만 이날 기업설명회. 에서 삼성생명은 중기 배당목표로 현재 수\n",
      "KO->EN: In the corporate briefing session, Samsung Life Insurance announced that it would maintain its dividend dividend rate of 3,000 won per share in 2022, which means that the company's dividend rate will \n",
      "EN->KO: 삼성생명은 기업설명회에서 2022년 주당 3,000원 배당비율을 유지한다고 발표했는데 이는 현 배당율과 동일한 현행 배당율에서 지속적으로 배당률을 높여 나간다는 의미다.\n"
     ]
    },
    {
     "name": "stderr",
     "output_type": "stream",
     "text": [
      "Processing label 0.6:  17%|█▋        | 1294/7746 [2:38:55<13:28:09,  7.52s/it]"
     ]
    },
    {
     "name": "stdout",
     "output_type": "stream",
     "text": [
      "\n",
      "[Progress 12750]:\n",
      "Original: 올 상반기 전국 신규 1천건 훌쩍작년 적발액 1조818억 역대 최고. 손해보험 사기 압도적 대책 시급 해당 기사와 직접적인 관련 없음. 이미지투데이 명백한 범죄이자 사회악. 가 나날이 진화하고 있다. 수법과 유형이 무모하고 악랄해지는 것은 물론 강력 사건으로 번지기까지 하는 추세다. 이러한 보험사기는 선량한 보험 가입자들의 부담을 가중시키며 단순 범죄를 넘\n",
      "KO->EN: In the first half of this year, the number of new insurance frauds was confirmed to be more than 20 times higher than that of insurance frauds, with the number of new cases being reported by the insur\n",
      "EN->KO: 올해 상반기 신규 보험사기는 30대 남성 등 보험사가 신고하는 신규 신고가 가장 많고, 신규 신고 건수는 30대 남성 등 20배 이상 증가한 것으로 확인됐다.\n"
     ]
    },
    {
     "name": "stderr",
     "output_type": "stream",
     "text": [
      "Processing label 0.6:  18%|█▊        | 1359/7746 [2:46:27<12:07:36,  6.84s/it]"
     ]
    },
    {
     "name": "stdout",
     "output_type": "stream",
     "text": [
      "\n",
      "[Progress 13200]:\n",
      "Original: 김 행장은 IBK기업은행의 수장이 된 뒤 고객과 현장을 가장 중요한 . 이라고 강조하며 늘 . 에 귀 기울일 것을 약속했다. 그리고 이를 몸소 실천해 왔다. 까지 총 459개의 영업점을 돌며 8960명의 임직원을 만나 경영에 필요한 조언과 애로 사항 등을 청취했다. 그뿐만 아니라 여러 중소기업을 직접 방문해 기업인들의 목소리를 듣는데도 관심을 기울였다. 라\n",
      "KO->EN: The results of the KEB Cooperative Federation's communication, which has been promoted since 2017 by Chairman Yoon Jong-kyu, the chairman of KEB Hana Bank, and Chairman of Hyundai Card, Kim Tae-seung,\n",
      "EN->KO: 윤종규 KEB하나은행 회장과 현대카드 회장, 김태승 현대카드 회장, 한국은행 회장 등이 2017년부터 추진한 KEB협동조합의 소통 결과이다.\n"
     ]
    },
    {
     "name": "stderr",
     "output_type": "stream",
     "text": [
      "Processing label 0.6:  19%|█▉        | 1488/7746 [3:01:20<12:27:13,  7.16s/it]"
     ]
    },
    {
     "name": "stdout",
     "output_type": "stream",
     "text": [
      "\n",
      "[Progress 14150]:\n",
      "Original: 이처럼 코로나19 공포 확산에 따른 증시 변동성이 확대되면서 기업의 시가총액이 청산가치를 밑도는 종목이 쏟아지고 있다. 1배 미만 기업들이다. 대형 수출주 등 전 업종에 걸쳐 PBR 1배 미만 종목이 속출했다. 28일 금융정보업체 에프앤가이드에 따르면 전날 기준 코스피 종목 실적 전망치가 3곳 이상 제시된 193개 중 12개월 선행 주가순자산비율. 이 1배\n",
      "KO->EN: In addition, as the stock market's volatility has expanded to less than one-fold as of the closing price of the KOSPI, more than one-fold of the stock price is expected to increase, and more than one-\n",
      "EN->KO: 또 코스피 종가 기준 주식시장 변동성이 1배 이하로 확대되면서 주가의 1배 이상 상승, 1배 이상 하락, 1배 이상 상승, 1배 이상 상승, 1배 이상 상승 등이 예상된다.\n"
     ]
    },
    {
     "name": "stderr",
     "output_type": "stream",
     "text": [
      "Processing label 0.6:  20%|█▉        | 1523/7746 [3:05:17<11:56:46,  6.91s/it]"
     ]
    },
    {
     "name": "stdout",
     "output_type": "stream",
     "text": [
      "\n",
      "[Progress 14350]:\n",
      "Original: 당초 문 대통령은 청와대에서 수석 비서관. 보좌관 회의를 주재할 예정이었지만 이날 오전 금융지원 현장 간담회를 갖기로 최종 결정했다는 게 청와대의 설명이다. 실무 단위에서 수보 회의를 주재하는 방안. 금융지원 현장 간담회를 주재하는 방안 등 2가지 방안을 동시에 준비를 해왔지만 문 대통령의 결정에 따라 간담회 주재 쪽으로 결론이 난 것으로 전해졌다. 2차 \n",
      "KO->EN: The government said that the first meeting was scheduled to preside over the financial support plan, including the emergency management support for small business owners, the support for special guara\n",
      "EN->KO: 정부는 1차 회의가 소상공인 긴급경영지원, 소상공인 특별보증 지원, 소상공인 대출 프로그램 구축 등 금융지원 방안을 주재할 예정으로, 그동안 회의를 준비해왔으며, 이번 간담회는 이번 간담회에 대한 준비작업을 진행 중이라고 밝혔다.\n"
     ]
    },
    {
     "name": "stderr",
     "output_type": "stream",
     "text": [
      "Processing label 0.6:  20%|██        | 1554/7746 [3:08:40<11:28:43,  6.67s/it]"
     ]
    },
    {
     "name": "stdout",
     "output_type": "stream",
     "text": [
      "\n",
      "[Progress 14650]:\n",
      "Original: 하지만 한국판 뉴딜 프로젝트의 구체적 내용과 투자처가 불분명한 상황에서 . 를 모금하려는 것 아니냐는 지적이 나왔다. 국민참여형 뉴딜 펀드 20조원 중 7조원은 정부와 정책금융기관이 댄다. 손실까지 일반 투자자의 손실을 메워주니 사실상 원금 보장과 비슷한 효과. 결국 손실이 나면 국민 세금으로 메우겠다는 것. 이날 회의엔 조용병 신한금융지주 회장. 윤종규 \n",
      "KO->EN: However, it is said that the government and policy financial institutions will invest KRW 7 trillion in the Korean New Deal fund for the next five years to cover losses from ordinary investors, and th\n",
      "EN->KO: 다만 정부와 정책금융기관이 향후 5년간 한국 뉴딜 펀드에 7조원을 투자해 일반투자자의 손실을 충당하고, 정부가 민간금융 부문에 70조원을 투자해 2025년까지 191만명의 일자리를 창출하겠다는 것이다.\n"
     ]
    },
    {
     "name": "stderr",
     "output_type": "stream",
     "text": [
      "Processing label 0.6:  21%|██        | 1644/7746 [3:18:52<11:09:04,  6.58s/it]"
     ]
    },
    {
     "name": "stdout",
     "output_type": "stream",
     "text": [
      "\n",
      "[Progress 15350]:\n",
      "Original: 증권가는 당분간 은행 업종에 대한 투자 심리 위축을 전망하는 한편. 악재가 확정됐다는 점에선 향후 반등이 나타날 수 있다고 내다봤다. 4일 한국거래소에 따르면 전날 금융지주와 은행 8개 종목으로 구성된 KRX 은행 지수는 599. 37로 거래를 마쳤다. 는 지난달 13일부터 이날까지 9. 이 기간 조정을 겪은 코스피지수가 0. 하락한 것과 비교하면 부진한 \n",
      "KO->EN: The Financial Services Commission said that the financial authorities' recommendation for the capital management of the four major financial holding companies last month was a negative factor in the s\n",
      "EN->KO: 금융위는 지난해 3분기 금융당국이 은행 주가를 2조955억원 감액할 것을 권고한 만큼 지난달 금융당국이 4대 금융지주의 자본운용을 권고한 것이 주가에 악재가 됐다고 밝혔다.\n"
     ]
    },
    {
     "name": "stderr",
     "output_type": "stream",
     "text": [
      "Processing label 0.6:  22%|██▏       | 1735/7746 [3:28:43<10:19:08,  6.18s/it]"
     ]
    },
    {
     "name": "stdout",
     "output_type": "stream",
     "text": [
      "\n",
      "[Progress 16000]:\n",
      "Original: 연말 배당을 앞두고 10. 11월쯤 배당주 투자 수요가 몰려서 나온 말이다. 특히 최근 들어 코로나19 재확산. 글로벌 경기 회복세 둔화 등 증시 불확실성을 끌어올리는 변수가 부각되며 부쩍 배당주에 관심이 쏠리는 모습이다. 강현기 DB금융투자 애널리스트는 . 배당주는 변동성이 커지면 프리미엄이 부과된다. 오랜 기간 저평가받았고 거시경제 환경. 까지 배당주에\n",
      "KO->EN: In the first half of the year, the KOSPI dividend growth 50 is likely to be more favorable to the stock market as the stock price has been increased by 44.2 trillion won, and the stock price of the co\n",
      "EN->KO: 상반기 코스피 배당증가율 50은 주가가 44.2조원 인상됐고, 올해 상반기 은행의 배당금리에 따라 해당 기업의 주가가 상승했기 때문에 증시에 더 유리한 상황이 될 가능성이 높다.\n"
     ]
    },
    {
     "name": "stderr",
     "output_type": "stream",
     "text": [
      "Processing label 0.6:  23%|██▎       | 1786/7746 [3:34:06<10:22:27,  6.27s/it]"
     ]
    },
    {
     "name": "stdout",
     "output_type": "stream",
     "text": [
      "\n",
      "[Progress 16350]:\n",
      "Original: 지난해 말부터 기준금리 인상이 시작된 만큼 올해 실적 상승세가 이어질 것으로 전망됐다. 31일 금융정보분석업체 에프앤가이드에 따르면 KB금융. 하나금융지주등 4곳의 지난해 4분기 연결 기준 지배주주순이익 시장전망치. 는 2조1587억원이다. 감소한 규모지만 2020년 4분기보다는 24. 가량 늘어날 것으로 추정됐다. 우선 지난해 4분기 은행 및 일부 자회사\n",
      "KO->EN: In addition to the initial increase in the benchmark interest rate, the net interest margin of the four banks, including KB Financial Group and Hana Financial Group, is expected to increase by about 3\n",
      "EN->KO: 기준금리 초기 인상 외에도 KB금융과 하나금융그룹 등 4개 은행의 순이자마진은 지난해 4·4분기 약 3조1587억원 증가할 것으로 예상되지만 순이자마진 인상은 소폭 늘어날 것으로 전망된다.\n"
     ]
    },
    {
     "name": "stderr",
     "output_type": "stream",
     "text": [
      "Processing label 0.6:  26%|██▌       | 1995/7746 [3:56:42<10:15:20,  6.42s/it]"
     ]
    },
    {
     "name": "stdout",
     "output_type": "stream",
     "text": [
      "\n",
      "[Progress 17700]:\n",
      "Original: 2023년 한국 경제에 . 경기연구원 등에서 연구 활동을 해온 임수강 경제학 박사는 14일 과 인터뷰에서 . 인 한국 경제에서 무역수지는 곧바로 경상수지로 연결된다며 1995년부터 1997년까지 3년 정도 경상수지 적자가 난 다음에 IMF 외환위기가 왔다고 지적했다. 현재 한국 경제에 부담을 주고 있는 물가 상승과 무역 적자의 원인은 모두 중국과의 관계에서\n",
      "KO->EN: In an interview with Dr. Lim Soo-gang, who has been working on the Korean economy in 2023, he said that the current balance of money is not improving in the current account, and the number of assets t\n",
      "EN->KO: 2023년 한국 경제를 위해 활동한 임수영 박사와 인터뷰에서 현재 통화 잔액이 경상수지에서 나아지지 않고 있고, 흑자 상태인 자산은 증가하고 있고, 부동산 가격이 하락 추세라고 말했다.\n"
     ]
    },
    {
     "name": "stderr",
     "output_type": "stream",
     "text": [
      "Processing label 0.6:  26%|██▌       | 2027/7746 [4:00:14<10:17:53,  6.48s/it]"
     ]
    },
    {
     "name": "stdout",
     "output_type": "stream",
     "text": [
      "\n",
      "[Progress 17900]:\n",
      "Original: 수출이 큰 폭으로 줄고 있으며 소비심리가 악화하고 민간소비가 둔화하는 추세다. 올해도 한국 경제는 성장률이 둔화할 것이다. 내수 부진과 함께 대외부문의 어려움도 한국 경제의 성장률을 제약할 것으로 보인다. 한국 경제가 위기를 맞은 엄중한 상황에서 올해 금융산업을 둘러싼 환경도 녹록지 않을 전망이다. 4대 금융지주는 사업보고서를 통해 올해 한국 경제 성장률이\n",
      "KO->EN: The financial holding companies said that the economic growth rate of the Korean economy is expected to slow down this year due to the government's efforts to stabilize the foreign exchange market and\n",
      "EN->KO: 금융지주사들은 정부의 외환시장 안정 노력과 한국 경기 둔화 등으로 올해 한국 경제의 경제성장률이 둔화될 것으로 예상되지만 금리 급락과 정부의 채무 상환 위험이 커질 수 있다고 밝혔다.\n"
     ]
    },
    {
     "name": "stderr",
     "output_type": "stream",
     "text": [
      "Processing label 0.6:  27%|██▋       | 2066/7746 [4:04:21<9:41:56,  6.15s/it]"
     ]
    },
    {
     "name": "stdout",
     "output_type": "stream",
     "text": [
      "\n",
      "[Progress 18150]:\n",
      "Original: 올해가 신한은행 창립 41주년이라는데. 제가 신한은행과 거래한 지 37년이 넘었습니다. 이름만 들어도 신물이 납니다. 신한금융투자가 판매한 . 에 투자해 전 재산에 해당하는 거액을 잃고. 3년 넘게 대기해온 투자자들이 . 약 2년 전 한국투자증권은 같은 펀드에 대해 100. 젠투파트너스펀드 관련 환매중단 금액. 은 모두 1조125억원이며. 이 가운데 신한금\n",
      "KO->EN: The victims said that the company has been in a state of failure to pay back the money, saying that it has been in a state of failure to pay back the money, and that the company has been in a state of\n",
      "EN->KO: 피해자들은 회사가 돈을 갚지 못한 상태였고, 돈을 갚지 못한 상태였고, 회사가 돈을 갚지 못한 상태였으며, 회사가 채무를 갚지 못한 상태였다고 주장했다.\n"
     ]
    },
    {
     "name": "stderr",
     "output_type": "stream",
     "text": [
      "Processing label 0.6:  27%|██▋       | 2076/7746 [4:05:21<9:27:06,  6.00s/it]"
     ]
    },
    {
     "name": "stdout",
     "output_type": "stream",
     "text": [
      "\n",
      "[Progress 18200]:\n",
      "Original: 계절성 요인 외에도 대내외적 변수로 변동성 장세가 이어지는 상황에서 비교적 안정적으로 배당수익을 올릴 수 있는 배당주 매력이 부각되고 있다. 전통적 배당주로 분류되는 금융주와 통신주는 물론 산업재나 소재 등 경기민감주에 대한 관심도 높아진다. 금융주만큼은 아니더라도 높아진 금리 수준 이상의 배당을 받을 수 있을 것으로 예상되기 때문이다. 전문가들은 금리와 \n",
      "KO->EN: In addition to seasonal factors, SK Telecom's stock price is expected to be more than 7.2 percent, which is a significant increase in dividends, but it is expected that the stock price will be more th\n",
      "EN->KO: SK텔레콤의 주가는 계절적 요인 외에도 배당이 크게 증가한 7.2% 이상일 것으로 예상되지만 배당이 크게 증가한 7.2% 이상일 것으로 예상되며, 주가 상승 폭은 소폭 확대될 것으로 예상된다.\n"
     ]
    },
    {
     "name": "stderr",
     "output_type": "stream",
     "text": [
      "Processing label 0.6:  27%|██▋       | 2125/7746 [4:10:22<9:18:05,  5.96s/it]"
     ]
    },
    {
     "name": "stdout",
     "output_type": "stream",
     "text": [
      "\n",
      "[Progress 18500]:\n",
      "Original: 상장사 10곳 중 3곳이 . 을 위한 준비를 마쳤다. 증권가에선 코스피200 기업 기준 연말 결산 현금 배당금은 15조원에 달할 것이라는 전망이 나왔다. 투자자들은 해당 기업의 배당금이 얼마인지 모른 채 주식을 매입해 왔다. 예상치보다 배당금이 많으면 대박. 적으면 쪽박으로 배당금 투자는 . 이에 금융위와 법무부는 국내 기업의 배당 제도를 글로벌 스탠다드에\n",
      "KO->EN: The Financial Services Commission and the Ministry of Justice have revised the dividend standard date for the end of the year, but the dividend standard date for the settlement of dividends is set at \n",
      "EN->KO: 금융위와 법무부는 연말 배당기준일을 개정했지만, 배당결산기준일은 연말, 배당결산기준일은 올해 연말에 정해 두고 있어 연말 배당기준일이 정해진다.\n"
     ]
    },
    {
     "name": "stderr",
     "output_type": "stream",
     "text": [
      "Processing label 0.6:  29%|██▊       | 2213/7746 [4:19:26<9:05:16,  5.91s/it]"
     ]
    },
    {
     "name": "stdout",
     "output_type": "stream",
     "text": [
      "\n",
      "[Progress 19150]:\n",
      "Original: 12일 한국거래소에 따르면 지난달 코스피지수는 2. 한때 1900선 밑으로 떨어지는 등 불안한 모습을 보였다. 미국과 중국의 무역협상이 진통을 겪으며 세계 경기에 대한 우려가 확산됐기 때문이다. 또 경기침체의 전조로 여겨지는 미 국채 장단기 금리역전 등이 겹치며 안전자산 선호현상을 부추겼다는 분석이다. 이달 들어서는 미중 무역협상 재개에 대한 기대감으로 코\n",
      "KO->EN: According to the Korea Exchange on the 12th, the KOSPI is expected to rebound to the 2000-point level as the U.S. and China's high-level negotiations are expected to be held at the end of September, a\n",
      "EN->KO: 12일 한국거래소에 따르면 9월 말 미중 고위급 협상이 열릴 것으로 전망됨에 따라 코스피가 2000선까지 반등할 것으로 전망되며, 코스피의 반등은 무난히 가능할 것이라는 전망이 나온다.\n"
     ]
    },
    {
     "name": "stderr",
     "output_type": "stream",
     "text": [
      "Processing label 0.6:  29%|██▉       | 2234/7746 [4:21:34<9:02:00,  5.90s/it]"
     ]
    },
    {
     "name": "stdout",
     "output_type": "stream",
     "text": [
      "\n",
      "[Progress 19400]:\n",
      "Original: 코로나19라는 돌발 악재에 전 세계가 휘청 이는 가운데. 미래학자와 경제학자들은 초불확실성의 . New abnormal. 시장의 변동성이 일시적인 현상으로 끝나지 않아 불확실성이 매우 커진 상황을 일컫는 말. 시대가 도래했다고 지적한다. 아무것도 예상할 수 없고. 아무것도 확실하지 않은 새로운 경제 패러다임 시대를 맞은 것이다. 이러한 초불확실성의 시대에 \n",
      "KO->EN: In this regard, CEO Jung Seung-sik of the HR company, said on the 22nd that the AI competency test, which is a representative solution for the global growth, is not just a way to respond to the sudden\n",
      "EN->KO: 이와 관련해 인사기업 정승식 대표는 22일 글로벌 성장 대표 솔루션인 AI 역량시험이 코로나19의 갑작스러운 부정적 요인에 대응하는 방법이 아니라, 신종 코로나바이러스 감염증의 돌발적 요인에 대응하는 방법이기도 하다고 말했다.\n"
     ]
    },
    {
     "name": "stderr",
     "output_type": "stream",
     "text": [
      "Processing label 0.6:  29%|██▉       | 2248/7746 [4:22:56<9:33:57,  6.26s/it]"
     ]
    },
    {
     "name": "stdout",
     "output_type": "stream",
     "text": [
      "\n",
      "[Progress 19600]:\n",
      "Original: 25일 한국거래소에 따르면 올해 중간배당을 목적으로 주주명부 폐쇄 기준일 결정일 공시한 상장사는 52곳으로 집계됐다. 올해 신규로 중간 배당 실시가 예상되는 기업은 미원화학. 등 10여 곳에 이를 전망이다. 현대차와 현대차 우선주. 현대모비스 등은 올해 중간배당을 실시하지 않기로 했으며 코웨이. 는 배당정책을 연 1회로 변경하면서 올해는 중간 배당 기업 명\n",
      "KO->EN: According to the Korea Exchange on the 25th, there are 52 listed companies that have decided not to hold interim dividends this year, including Hyundai Motor, Hyundai Motor, Hyundai Mobis, etc., but i\n",
      "EN->KO: 25일 한국거래소에 따르면 올해 중간배당을 하지 않기로 결정한 상장사는 현대차, 현대차, 현대모비스 등 52곳이지만, 삼성증권을 제외한 경우 배당액이 지난해와 같은 수준으로 줄어들 가능성이 높다.\n"
     ]
    },
    {
     "name": "stderr",
     "output_type": "stream",
     "text": [
      "Processing label 0.6:  29%|██▉       | 2267/7746 [4:24:56<9:01:05,  5.93s/it]"
     ]
    },
    {
     "name": "stdout",
     "output_type": "stream",
     "text": [
      "\n",
      "[Progress 19750]:\n",
      "Original: 소비시장과 저임금 인력을 찾아 해외로 나간 기업들의 취약점이 그대로 노출된 것이다. 제조업 생태계는 대기업과 그 협력업체를 중심으로 짜인다. 대기업을 돌아오게 하는 과감한 정책전환과 사회적 문화적 인식 개선이 필요하다. ④일자리 먼저 규제 풀자 일본 토요타는 리쇼어링. 해외진출 자국기업 유턴. 을 결정한 뒤 정부로부터 파격 혜택을 받았다는데. 대규모 해외투\n",
      "KO->EN: In addition to the two companies, Hyundai Mobis has decided to build a new manufacturing plant in the South, and it is not easy for the company to move to Ulsan because it is more likely to make a lar\n",
      "EN->KO: 현대모비스는 양사 외에도 국내 신규 제조공장 건립을 결정했고, 국내 대규모 투자 가능성이 높아 울산으로 이전이 쉽지 않지만, 국내 대규모 투자도 가능할 것으로 기대된다.\n"
     ]
    },
    {
     "name": "stderr",
     "output_type": "stream",
     "text": [
      "Processing label 0.6:  29%|██▉       | 2274/7746 [4:25:38<9:06:59,  6.00s/it]"
     ]
    },
    {
     "name": "stdout",
     "output_type": "stream",
     "text": [
      "\n",
      "[Progress 19850]:\n",
      "Original: 정 수석부회장이 이 같은 수익률을 기록한 가장 큰 이유는 매수 시점에 현대차와 현대모비스 주가가 신종 코로나바이러스 감염증. 여파로 급락했었기 때문이다. 이후 코로나19 여파에도 현대차가 상대적으로 좋은 실적을 거두고 전기차. 수소전기차에 대한 기대가 높아지면서 주가가 가파르게 회복했다. 현대차는 신형 전기차 아이오닉5 출시 계획을 발표한 11일 하루에만 \n",
      "KO->EN: The main reason why Hyundai Motor Company's stock price was reduced sharply on March 19, when Hyundai Motor Company's sales and operating profit were KRW 58,300 and Hyundai Mobis's stock price was KRW\n",
      "EN->KO: 현대자동차의 매출액과 영업이익이 각각 58,300원, 현대모비스의 주가가 23,900원으로 회사 평균 주가 대비 크게 줄어든 것은 지난 3월 19일이 주요 원인이었다.\n"
     ]
    },
    {
     "name": "stderr",
     "output_type": "stream",
     "text": [
      "Processing label 0.6:  29%|██▉       | 2277/7746 [4:25:57<9:29:06,  6.24s/it]"
     ]
    },
    {
     "name": "stdout",
     "output_type": "stream",
     "text": [
      "\n",
      "[Progress 19900]:\n",
      "Original: 대형 부품업체인 만도. 한온시스템의 주가도 각각 6. 강성진 KB증권 연구원은 이날 보고서에서 현대차의 친환경차 역량을 중심으로 한 한국 자동차산업에 대한 투자자들의 기대가 반영된 결과로 판단한다면서 다만 니콜라발. 뉴스가 주가 급등을 촉발시킨 점을 감안할 경우 일정한 경계가 필요한 주가 상승으로 판단한다고 밝혔다. 전날 현대차는 순수 전기차 브랜드 . 을\n",
      "KO->EN: The stock price of Mando and Hanon System, which are large parts makers, also said in an interview with a domestic media that it is considered that the price of Hyundai Motor has been increased due to\n",
      "EN->KO: 대형 부품업체인 만도와 한온시스템의 주가도 국내 언론과의 인터뷰에서 국내 시장 감소로 인한 이익 감소폭이 예상보다 작으면서 현대차가 가격이 오른 것으로 보고 있으며, 현대차도 국내 시장 위축으로 인해 주가가 상승했던 것으로 보고 있다고 밝혔다.\n"
     ]
    },
    {
     "name": "stderr",
     "output_type": "stream",
     "text": [
      "Processing label 0.6:  30%|███       | 2329/7746 [4:31:18<8:40:00,  5.76s/it]"
     ]
    },
    {
     "name": "stdout",
     "output_type": "stream",
     "text": [
      "\n",
      "[Progress 20450]:\n",
      "Original: 글로벌 사업자로의 변신. Transformation X. 은 그간 확보한 기술 경쟁력을 바탕으로 다양한 완성차 업체와의 협업을 확대해 나가겠다는 것을 의미한다. 향후 글로벌 기술 유망 기업에 대한 전략 투자 등 오픈 이노베이션도 함께 추진할 계획이다. Transformation Y. 이라는 두 번째 체질 전환도 꾀하고 있다. 신규 모빌리티 시장으로 사업 범\n",
      "KO->EN: In this context, the transformation to a global operator means that it will expand its cooperation with various new technology companies through technology and business partnerships with Russian IT co\n",
      "EN->KO: 이러한 맥락에서 글로벌 사업자 전환은 러시아 IT기업 얀덱스와의 기술·사업 제휴를 통해 다양한 신기술 기업과의 협력을 확대하고, ‘트랜스포머Y’라는 새로운 성장사업도 적극 개발할 계획이다.\n"
     ]
    },
    {
     "name": "stderr",
     "output_type": "stream",
     "text": [
      "Processing label 0.6:  33%|███▎      | 2544/7746 [4:54:39<8:48:44,  6.10s/it]"
     ]
    },
    {
     "name": "stdout",
     "output_type": "stream",
     "text": [
      "\n",
      "[Progress 22500]:\n",
      "Original: 및 인플레이션 감축법. 등 주요국의 자국 중심 공급망 재편 움직임에 대응하는 한편 2030 부산세계박람회. 유치를 위한 발판을 마련하기 위한 행보로 풀이된다. LG 등 우리 기업들의 해외대관 강화 및 관련 인재영입 속도가 발 빠르게 이뤄지는 모양새다. 과 김정일 SK GPA팀장. 지금은 해외 대관 강화해야 할 시점. 19일 재계에 따르면 SK그룹은 지난해 \n",
      "KO->EN: In addition, SK Hynix has been working hard to strengthen its global cooperation with the U.S. Trade and Regulatory Affairs Committee, which has been joined by the former Vice Chairman of the Ministry\n",
      "EN->KO: 또한 SK하이닉스는 전 외교부 차관과 한국 외교부 차관이 합류한 미국 통상규제위원회와 글로벌 협력을 강화하기 위해 노력하고 있으며 GPA팀도 미국 내로 확대 운영되고 있다.\n"
     ]
    },
    {
     "name": "stderr",
     "output_type": "stream",
     "text": [
      "Processing label 0.6:  34%|███▍      | 2646/7746 [5:05:59<9:33:55,  6.75s/it]"
     ]
    },
    {
     "name": "stdout",
     "output_type": "stream",
     "text": [
      "\n",
      "[Progress 23600]:\n",
      "Original: FPS게임 카카오 배틀그라운드 측은 원래 30일 정기점검을 시행할 예정이었으나. 예기치 못한 이슈가 발견되어 31일로 점검 일정을 변경했다. 변경된 점검 시간은 31일 오전 9시 30분부터 오후 4시 30분까지다. 내용으로는 서비스 안정화 및 카카오 배틀그라운드 정식서비스. 25차 업데이트 적용 등이 있다. 빠른 패치 배포를 위해 점검 진행 중 . 버튼이 \n",
      "KO->EN: The FPS game Kakao Battleground originally planned to conduct a regular inspection from 9:30 a.m. to 4:30 p.m. on the 31st, but the revised inspection schedule will include the service stabilization, \n",
      "EN->KO: FPS 게임 카카오배틀그라운드는 당초 31일 오전 9시30분부터 오후 4시30분까지 정기점검을 진행할 예정이었지만, 개정 점검 일정에는 서비스 안정화, 공식 카카오배틀그라운드 서비스, 25차 업데이트 적용, 서비스 개선 등이 포함된다.\n"
     ]
    },
    {
     "name": "stderr",
     "output_type": "stream",
     "text": [
      "Processing label 0.6:  34%|███▍      | 2668/7746 [5:08:30<9:34:50,  6.79s/it]"
     ]
    },
    {
     "name": "stdout",
     "output_type": "stream",
     "text": [
      "\n",
      "[Progress 23750]:\n",
      "Original: 는 카카오 빈의 선정부터 완성품 초콜릿에 이르는 전 과정에 초콜릿 메이커가 개입하는 방식이다. 모양은 슈퍼에서 파는 판형 초콜릿과 별 차이 없어 보여도 가격은 서너 배가 비싸다. 하지만 최근 찾는 이가 많은 트렌드 식품이다. 우리 쌀과 만난 초콜릿 지난 1일. 초콜릿 메이커 고유림. 초콜릿 공장답게 달콤한 냄새가 풍겼다. 일반 초콜릿 가게에서도 이런 향은 \n",
      "KO->EN: The two people who have been making chocolates since 2011 have been working on a small-scale cake store, which is a combination of Korean chocolates, and the taste of chocolates is different from that\n",
      "EN->KO: 2011년부터 초콜릿을 만들어 온 두 사람은 한국 초콜릿이 결합된 소규모 케이크 매장을 운영하면서 한국 음식 제조업체와는 초콜릿 맛이 다르고, 한국 음식 제조업체에서 만든 초콜릿의 맛이 다르다.\n"
     ]
    },
    {
     "name": "stderr",
     "output_type": "stream",
     "text": [
      "Processing label 0.6:  35%|███▍      | 2695/7746 [5:11:29<9:04:35,  6.47s/it]"
     ]
    },
    {
     "name": "stdout",
     "output_type": "stream",
     "text": [
      "\n",
      "[Progress 23950]:\n",
      "Original: 대형 저축은행들은 계획대로라면 카카오뱅크나 케이뱅크처럼 성장할 수 있으리라고 보고 있다. 한 저축은행 관계자는 지금까지 카카오뱅크와 케이뱅크가 보여준 인터넷은행의 모습이 혁신의 전부라면 저축은행도 못할 것이 없다고 본다고 했다. 10일 저축은행업계에 따르면 SBI저축은행은 7월 모바일 앱 개편을 앞두고 시중은행과 인터넷은행들이 내놓은 모바일 앱 화면을 적극\n",
      "KO->EN: The bank is also considering expanding its overseas currency exchange service, which is a mobile bank that has been suspended due to the problem of capital, and the bank is also considering expanding \n",
      "EN->KO: 은행은 자본 문제로 중단됐던 모바일은행인 해외 환전 서비스 확대도 검토하고 있으며, 그동안 모바일은행에 모바일앱을 활용해 모바일은행 서비스를 확대하는 방안도 검토하고 있다.\n"
     ]
    },
    {
     "name": "stderr",
     "output_type": "stream",
     "text": [
      "Processing label 0.6:  35%|███▍      | 2710/7746 [5:13:11<9:22:30,  6.70s/it]"
     ]
    },
    {
     "name": "stdout",
     "output_type": "stream",
     "text": [
      "\n",
      "[Progress 24100]:\n",
      "Original: LG유플러스는 이를 위해 게임플랫폼인 스팀의 VR 게임 10여종을 우선 제공할 예정이다. 롯데월드와도 협력한다. LG유플러스는 2일 서울 용산 본사에서 기자간담회를 갖고 5G 네트워크를 기반으로 한 클라우드 VR 게임 시장 진출을 선언했다. 김준형 LG유플러스 5G서비스추진그룹장은 LG유플러스만의 초저지연을 보장하는 5G 네트워크 운영 기술과 솔루션을바탕으\n",
      "KO->EN: In order to provide VR games to customers in the virtual reality and VR sectors, LG U+ has developed 10 VR games in collaboration with Korean VR content company Lotte World and Kakao VX, and plans to \n",
      "EN->KO: LG유플러스는 가상현실·VR 분야 고객에게 VR 게임을 제공하기 위해 국내 VR 콘텐츠 업체 롯데월드와 카카오VX와 협업해 VR 게임 10개를 개발했으며, 다음 달까지 VR 게임 수를 20개 이상으로 확대할 계획이다.\n"
     ]
    },
    {
     "name": "stderr",
     "output_type": "stream",
     "text": [
      "Processing label 0.6:  35%|███▌      | 2743/7746 [5:17:00<9:50:11,  7.08s/it]"
     ]
    },
    {
     "name": "stdout",
     "output_type": "stream",
     "text": [
      "\n",
      "[Progress 24300]:\n",
      "Original: 학창시절 악필이던 나는 공책 필기를 그리도 싫어했기 때문이다. 갤럭시노트10에 대충 적은 손글씨를 손가락으로 툭 한번 눌렀다. 그랬더니 손글씨가 바로 . 손글씨를 텍스트로 변환. 라는 텍스트로 바뀌었다. 가사도 써보고 SAMSUNG GALAXY 같은 영어도 써봤는데 띄어쓰기까지 정확히 인식해냈다. 갤럭시노트10이 15년 전에 나왔다면 악필로 덜 고생했을까.\n",
      "KO->EN: The S Pen was not only a simple handwriting for the Galaxy Note 10, but it was also a simple type of smartphone that was used as a text, but the S Pen was more powerful than the Galaxy Note 10, as it \n",
      "EN->KO: S펜은 갤럭시노트10에 대한 단순한 글씨뿐 아니라 문자로 사용되던 단순한 스마트폰의 형태였지만, S펜은 단순한 글씨 형태인 만큼 갤럭시노트10보다 강력했고, 갤럭시노트10은 문자로 사용되었다.\n"
     ]
    },
    {
     "name": "stderr",
     "output_type": "stream",
     "text": [
      "Processing label 0.6:  36%|███▌      | 2751/7746 [5:17:56<9:42:37,  7.00s/it]"
     ]
    },
    {
     "name": "stdout",
     "output_type": "stream",
     "text": [
      "\n",
      "[Progress 24350]:\n",
      "Original: 카카오메이커스는 생산자에게는 수요의 불확실성을 줄이고. 소비자에겐 다른 플랫폼과는 다른 가치를 제공하기 위해 만들어졌다. 그렇다면 이 플랫폼은 어떤 판매자에게 적합할까. 카카오메이커스에서 활발히 활동하는 청년 창업가들이 . 에 연사로 참가해 창업을 준비하는 청년들을 위해 조언을 아끼지 않았다. 24일 카카오임팩트는 서울 노들섬에서 . 크리에이터스데이 201\n",
      "KO->EN: The second CEO of Kakao Maker, Lee Sung-woo, said that Kakao Maker is a platform that can be used to reduce the uncertainty of demand for the people who are working in the world, and that it is a plat\n",
      "EN->KO: 이성우 카카오메이커 2차 대표는 카카오메이커가 전 세계에서 일하는 사람들의 수요 불확실성을 줄일 수 있는 플랫폼이며, 고객에 대해 사용할 수 있는 플랫폼이며, 카카오메이커가 세계 세계인들에게 도움이 될 수 있는 플랫폼이라고 말했다.\n"
     ]
    },
    {
     "name": "stderr",
     "output_type": "stream",
     "text": [
      "Processing label 0.6:  36%|███▋      | 2817/7746 [5:25:19<8:35:41,  6.28s/it]"
     ]
    },
    {
     "name": "stdout",
     "output_type": "stream",
     "text": [
      "\n",
      "[Progress 24800]:\n",
      "Original: 실제로 네이버와 카카오는 예년에도 선거 기간 댓글을 실명제로 전환 하는 등 선거 대비 운영 방침을 마련. 올해는 실시간 급상승 검색어. 중단이나 폐지 등 대응 수위를 높이고 있다. 2일 업계에 따르면 양대 포털이 총선을 앞두고 실검을 중단하거나 폐지하는 안을 발표했다. 네이버는 총선 공식 운동이 시작되는 내달 2일부터 15일 18시까지 실검 운영을 중단한다\n",
      "KO->EN: In fact, Naver and Kakao have been in a situation where they have been in a situation where the government will suspend or suspend the real-time search terms and the official search terms of the Natio\n",
      "EN->KO: 실제로 네이버와 카카오는 그동안 정부가 중앙선거관리위원회 실시간 검색어와 공식 검색어를 중단하거나 중단하는 상황에 빠졌고, 정부 역시 공식 선거운동이 예정된 상황에 놓이게 된다.\n"
     ]
    },
    {
     "name": "stderr",
     "output_type": "stream",
     "text": [
      "Processing label 0.6:  38%|███▊      | 2929/7746 [5:37:53<9:15:21,  6.92s/it]"
     ]
    },
    {
     "name": "stdout",
     "output_type": "stream",
     "text": [
      "\n",
      "[Progress 25500]:\n",
      "Original: 카카오도 전격 지원했다. 탭 등 주요 유통채널에 카카오TV를 전면 배치했다. 이날 카카오TV가 공개되자. IT 업계에선 카카오페이지. 의 마지막 퍼즐이 완성됐다는 평가가 나온다. 그 중심엔 김성수 카카오M 대표가 있다. CJ ENM의 tvN 성공신화를 쓴 그는 지난해 초 카카오M 대표로 자리를 옮겼다. 업계 관계자들은 스타PD와 제작사를 영입해 콘텐트 퀄러\n",
      "KO->EN: As Kakao M was released in July, CEO Kim Sung-soo said that the key to Kakao M's success strategy was to recruit stars and create a good environment and infrastructure, and that he has been moving to \n",
      "EN->KO: 김성수 대표는 지난 7월 카카오M이 출시되면서 카카오M의 성공전략의 핵심은 스타 영입과 좋은 환경 및 인프라를 조성하는 것이었으며, 회사 구성원 시절부터 대표이사로 카카오M으로 옮겨오고 있다고 밝혔다.\n"
     ]
    },
    {
     "name": "stderr",
     "output_type": "stream",
     "text": [
      "Processing label 0.6:  40%|███▉      | 3060/7746 [5:52:13<8:33:12,  6.57s/it]"
     ]
    },
    {
     "name": "stdout",
     "output_type": "stream",
     "text": [
      "\n",
      "[Progress 26550]:\n",
      "Original: 한국판 클럽하우스로 불리는 음은 . 와 얼마나 비슷하고 또 얼마나 다를까. 폐쇄성은 클럽하우스의 인기하락 요인으로 우선 꼽힌다. 서비스 초기 애플의 아이폰. 으로만 이용할 수 있고. 초대장이 없으면 입장할 수 없는 폐쇄성이 호기심을 자극했지만. 장기적으론 이용자 유입을 막아 서비스 확장에 한계를 가져왔다. 카카오 음은 상대적으로 진입장벽이 낮다. 가입과 로\n",
      "KO->EN: The company believes that the basic structure of the club house, which is only available in the first half of the year, is not different from that of the club house, and the number of people who are i\n",
      "EN->KO: 상반기만 이용할 수 있는 클럽하우스의 기본구조가 클럽하우스와 다르지 않고, 클럽하우스에 있는 인원과 대화 중인 인원도 제한되지 않는다고 회사 측은 보고 있지만, 클럽하우스에 있는 인원도 제한되지 않고 있다.\n"
     ]
    },
    {
     "name": "stderr",
     "output_type": "stream",
     "text": [
      "Processing label 0.6:  40%|███▉      | 3067/7746 [5:52:56<7:51:01,  6.04s/it]"
     ]
    },
    {
     "name": "stdout",
     "output_type": "stream",
     "text": [
      "\n",
      "[Progress 26600]:\n",
      "Original: 오른 40만4000원에 거래되고 있다. 이는 4거래일 만의 상승이다. 주가는 오전9시17분 41만원을 기록했다가 이후 1. 미만의 상승률을 기록 중이다. 반면 같은 시간 카카오는 전일보다 1000원. 하락한 12만1500원에 거래 중이다. 카카오는 개장 후 반등 움직임을 보였지만 오전 10시30분께 하락세로 전환했다. 앞서 금융당국은 지난 7일 빅테크 서비\n",
      "KO->EN: The stock price has been on the rise for the first time in four trading days, with Kakao trading at 44,000 won, down 1,000 won from the previous day, but the market capitalization has fallen to nearly\n",
      "EN->KO: 카카오 거래가 전날보다 1,000원 내린 4만4000원으로 4거래일 만에 상승세를 보이고 있지만 자본시장법 지도기간이 끝나 공시 이후 이틀 동안 시가총액이 19조원에 육박했다.\n"
     ]
    },
    {
     "name": "stderr",
     "output_type": "stream",
     "text": [
      "Processing label 0.6:  40%|███▉      | 3082/7746 [5:54:34<8:05:26,  6.24s/it]"
     ]
    },
    {
     "name": "stdout",
     "output_type": "stream",
     "text": [
      "\n",
      "[Progress 26650]:\n",
      "Original: 다만 김범수 의장의 조기 등판 등 구심점 역할에 대해서는 긍정적 목소리도 나온다. 카카오는 지난 14일 골목상권에서 일부 사업 철수. 파트너 지원 기금 3000억원 마련 등을 골자로 하는 상생안을 내놨다. 김 의장은 최근의 지적은 사회가 울리는 강력한 경종이라고 악화한 여론을 무겁게 받아들였다. 상생안에 따라 카카오는 국내외 158개에 달하는 계열사 가운데\n",
      "KO->EN: However, Kakao is expected to be more likely to be a key role in the company's business, including the withdrawal of some of its subsidiaries from the local business and the establishment of a company\n",
      "EN->KO: 다만 카카오는 자회사 일부의 현지 사업 철수와 시가총액 3000억원 규모의 기업 설립 등 회사 사업 핵심 역할이 될 가능성이 높아지고, 회사 사업도 더욱 커질 것으로 예상된다.\n"
     ]
    },
    {
     "name": "stderr",
     "output_type": "stream",
     "text": [
      "Processing label 0.6:  40%|████      | 3100/7746 [5:56:30<9:18:13,  7.21s/it]"
     ]
    },
    {
     "name": "stdout",
     "output_type": "stream",
     "text": [
      "\n",
      "[Progress 26750]:\n",
      "Original: 전쟁터에서 백기는 협상을 요구한다는 의도도 있기에 이 규정을 악용해 적을 안심시킨 다음 기습하면. 전시 국제법 위반으로 처벌 대상이 됩니다. 그럼 전장이 아닌 곳에서의 백기는 어떤 의미일까요. 골목상권 침투 논란이 일었던 카카오가. 결국 일부 사업 철수를 결정하면서 백기를 들었습니다. 그런데 우려를 거두긴 이르다는 시선이 많습니다. 카카오가 꽃과 간식 배달\n",
      "KO->EN: The FTC, which has been in a controversy over the acquisition and acquisition of Naver and Kakao, has been able to withdraw from the field, which is difficult to see as a business area for large compa\n",
      "EN->KO: 네이버와 카카오의 인수·인수 논란을 빚어온 공정위가 대기업 사업 영역으로 보기 어려운 분야에서 철수할 수 있게 됐지만 상황을 좀 더 지켜봐야 할 것은 아니지만, 사실상 사실상 사실상 사실상 사실상 사실상 사실상 사실상 사실상 사실상 사실상 사실상 사실상 사실상 사실상 사실상 사실상 사실상 사실상 사실상 사실상 사실상 사실상 사실상 사실상 사실상 사실상 사실\n"
     ]
    },
    {
     "name": "stderr",
     "output_type": "stream",
     "text": [
      "Processing label 0.6:  42%|████▏     | 3262/7746 [6:14:13<7:53:01,  6.33s/it]"
     ]
    },
    {
     "name": "stdout",
     "output_type": "stream",
     "text": [
      "\n",
      "[Progress 27650]:\n",
      "Original: 그간 IT업계를 취재하며 얻은 얕은 지식으로 설명하자면. NFT는 디지털 등기부등본이다. 예술품 같은 디지털 자산에 암호를 붙여 위변조를 막고. 개인의 소유권을 보장해준다. 그런데 시간 NFT라니. 어떻게 하면 무형의 시간에 NFT를 붙여 소유권을 보장할 수 있는지 당최 이해가 가질 않았다. 의 메타버스 핵심 계열사가 내놓은 서비스인데도 말이다. 이달 3일\n",
      "KO->EN: In the past, the company explained that the price of the time slot NFT is a unique concept of selling time by dividing the time into a 10-minute system, and the number of photos of the day is KRW 30,0\n",
      "EN->KO: 과거 시간대 NFT 가격은 10분 단위로 시간을 나눠 판매하는 독특한 개념으로 당일 사진 수는 3만원, 당일 사진 수는 3만원, 당일 사진 수는 3만원이라고 회사 측은 설명했다.\n"
     ]
    },
    {
     "name": "stderr",
     "output_type": "stream",
     "text": [
      "Processing label 0.6:  42%|████▏     | 3286/7746 [6:16:38<7:20:26,  5.93s/it]"
     ]
    },
    {
     "name": "stdout",
     "output_type": "stream",
     "text": [
      "\n",
      "[Progress 27800]:\n",
      "Original: 15일 증권가에 따르면 카카오뱅크의 지난 13일 종가는 전날. 오른 3만8459원이다. 이는 상장 직후 최고점인 8월 중순 9만4400원 대비 59. 카카오뱅크는 올해에만 34. 하락했고 이달 들어서도 9. 카카오뱅크 주가가 지속적으로 하락. 공모가인 3만9000원 아래까지 내려서면서 우리사주조합을 통해 공모주를 배정받은 회사 직원들도 아쉬운 상황이 됐다.\n",
      "KO->EN: According to the stock market on the 15th, Kakao Bank's closing price was KRW 3,845,559, which was the highest in mid-August of last year, and the company's employees were assigned a total of KRW 4,90\n",
      "EN->KO: 15일 증시에 따르면 카카오뱅크 종가는 지난해 8월 중순 가장 높은 3,845,559원으로, 해당 회사 직원들이 총 4억9,900만원 배정됐다.\n"
     ]
    },
    {
     "name": "stderr",
     "output_type": "stream",
     "text": [
      "Processing label 0.6:  44%|████▍     | 3400/7746 [6:28:39<8:40:21,  7.18s/it]"
     ]
    },
    {
     "name": "stdout",
     "output_type": "stream",
     "text": [
      "\n",
      "[Progress 28600]:\n",
      "Original: 이 가운데 수도권에서 지방으로 50만대. 지방에서 수도권으로 36만대가 움직일 것으로 보인다. 수많은 차량이 동시에 이동하면서 실시간으로 빠른 길을 찾아주는 내비게이션 애플리케이션. 에 대한 관심도 높다. 최신 내비게이션 앱은 안드로이드 오토와 애플 카플레이를 지원해 차량용 디스플레이에서 활용할 수 있다. 더 빠르고 정확한 길 안내를 위해 고도화 기술을 선\n",
      "KO->EN: The latest navigation app is based on the Gyeongbu Expressway, which provides a quick navigation service for drivers, with a variety of navigation signals, including the current location, and the app \n",
      "EN->KO: 최신 내비게이션 앱은 운전자들을 위한 빠른 내비게이션 서비스를 제공하는 경부고속도로를 기반으로 현재 위치를 포함한 다양한 내비게이션 신호가 있고, 도로에서도 앱이 이용 가능하며, 내비게이션 데이터와 앱의 앱 앱의 앱의 앱의 앱의 앱의 앱의 앱의 앱의 앱의 앱의 앱의 앱의 앱의 앱의 앱의 앱의 앱의 앱의 앱의 앱의 앱의 앱의 앱의 앱의 앱의 앱의 앱의 앱의 \n"
     ]
    },
    {
     "name": "stderr",
     "output_type": "stream",
     "text": [
      "Processing label 0.6:  44%|████▍     | 3410/7746 [6:29:40<7:29:14,  6.22s/it]"
     ]
    },
    {
     "name": "stdout",
     "output_type": "stream",
     "text": [
      "\n",
      "[Progress 28650]:\n",
      "Original: 선두주자인 카카오뱅크 . 18세 전용 선불 전자지급 수단으로 지난 2020년 10월 출시됐는데. 작년 연말 기준 누적 가입자는 161만명에 달한다. 특히 매년 명절 연휴를 앞두고 가입자가 크게 증가하는 것으로 나타났다. 카카오뱅크에 따르면 지난해 설 연휴. 명절 당일 포함 3일 기준. 기간 가입자는 직전 3일 대비 89. 지난해 추석 연휴에도 가입자가 직전\n",
      "KO->EN: According to Kakao Bank, the number of subscribers was increased by 89 from the previous 3rd of last year as a prepaid electronic payment method for the 18th generation, and the number of subscribers \n",
      "EN->KO: 카카오뱅크에 따르면 18세대 선불전자결제 방식으로 지난해 3일 대비 구독자가 89명 늘었고, 가입자 수는 지난해 3일 대비 40명 증가했으며, 평균 카드발급액은 지난해 3일 대비 40명 늘었다.\n"
     ]
    },
    {
     "name": "stderr",
     "output_type": "stream",
     "text": [
      "Processing label 0.6:  45%|████▌     | 3511/7746 [6:40:27<7:10:18,  6.10s/it]"
     ]
    },
    {
     "name": "stdout",
     "output_type": "stream",
     "text": [
      "\n",
      "[Progress 29400]:\n",
      "Original: 홍영재 기자가 보도합니다. 김정호 카카오 CA협의체 경영지원총괄이 어제. 와 오늘 연달아 SNS에 카카오 관련 폭로 글을 올렸습니다. 지난주 카카오 임원진과 회의에서 내년 1월 시작될 제주도 프로젝트에 카카오 AI 캠퍼스 건축팀을 투입하자고 제안했지만 한 임원이 이미 결정된 공사업체가 있다며 난색을 표했다는 것입니다. 김 총괄이 회사 내부 어떤 결재나 합의\n",
      "KO->EN: The reporter Hong Young-jae said that Kim Jung-ho, the head of the management support committee of Kakao, posted an additional disclosure on SNS yesterday and today, saying that he had asked the compa\n",
      "EN->KO: 홍영재 기자는 카카오 김정호 경영지원위원장이 지난 1일과 오늘 SNS에 30명 미만의 직원인 회사 경영실장에게 건물팀을 투입하라고 요청했다며 추가 공시를 올렸다고 전했다.\n"
     ]
    },
    {
     "name": "stderr",
     "output_type": "stream",
     "text": [
      "Processing label 0.6:  46%|████▌     | 3543/7746 [6:43:50<7:12:09,  6.17s/it]"
     ]
    },
    {
     "name": "stdout",
     "output_type": "stream",
     "text": [
      "\n",
      "[Progress 29600]:\n",
      "Original: 29일 관련업계에 따르면 토스. 가 만 7세부터 만 16세의 어린이. 청소년 고객을 위해 내놓은 . 의 누적 발급량은 최근 160만장을 돌파했다. 2021년 12월 출시 이후 1년4개월 만인 지난 5월 100만장을 돌파한 이후 고객 확보에 속도가 붙었다. 는 CU편의점에서 현금으로 충전하거나 연결된 가상 계좌에 금액을 이체해 온. 오프라인에서 사용할 수 있\n",
      "KO->EN: As Toss has quickly absorbed the customers of the youth card, the number of customers who are eligible for the service has been increased to 2.25 million since August, and the number of customers who \n",
      "EN->KO: 토스가 청년카드 고객을 빠르게 흡수하면서 지난 8월부터 서비스 대상 고객이 225만명으로 늘었고, 토스 서비스 출시 이후 서비스 대상 고객이 226만명으로 늘었다.\n"
     ]
    },
    {
     "name": "stderr",
     "output_type": "stream",
     "text": [
      "Processing label 0.6:  46%|████▌     | 3554/7746 [6:45:01<7:23:31,  6.35s/it]"
     ]
    },
    {
     "name": "stdout",
     "output_type": "stream",
     "text": [
      "\n",
      "[Progress 29650]:\n",
      "Original: 자율경영 기조는 한때 카카오만의 수평적인 조직문화가 자리잡는 계기가 됐다. 문어발식 확장과 골목상권 침해 논란 등 문제가 겹치며 카카오 경영 체계를 손봐야 한다는 목소리가 나온다. 자율에 따른 책임과 감시. 평가가 부족했다는 지적이다. 29일 김정호 카카오 CA협의체 경영지원총괄은 자신의 페이스북 계정에서 김 센터장과의 대화에 관한 글을 게재하며 금요일부터\n",
      "KO->EN: The chief of the CA consultative body, Kim Jung-ho, who was in charge of management management, recently posted a message on his Facebook account on the 29th, saying that the company has been in charg\n",
      "EN->KO: 경영경영을 담당하던 김정호 CA협의체 대표는 최근 자신의 페이스북에 “위기를 뚫고 나가지 못하게 하기 위해 위기가 발생하지 않도록 경영관리를 담당해왔다”는 글을 올렸다.\n"
     ]
    },
    {
     "name": "stderr",
     "output_type": "stream",
     "text": [
      "Processing label 0.6:  46%|████▋     | 3588/7746 [6:48:39<7:16:24,  6.30s/it]"
     ]
    },
    {
     "name": "stdout",
     "output_type": "stream",
     "text": [
      "\n",
      "[Progress 29850]:\n",
      "Original: 업계에 따르면 카카오 계열사가 추진하던 해외사업에 잇따라 차질이 생겼다. 카카오모빌리티는 유럽 택시호출 플랫폼 프리나우 인수 과정에서 난항을 겪고 있다. 프리나우는 유럽 11개국에서 170개 도시에서 택시호출 서비스를 제공 중이다. 프리나우 전체를 인수할 것인지 혹은 일부 국가 사업만을 인수할 것인지를 두고. 양사가 세부계약 내용을 조율하는 과정이 쉽지 않\n",
      "KO->EN: In addition, Kakao's business cooperation, which was held by the U.S. securities firm, was finally canceled in the process of acquiring the Seoul Arena, and the company's CEO Kim Bum-soo has been unde\n",
      "EN->KO: 또 미국 증권사가 가졌던 카카오의 사업협력이 서울아레나 인수 과정에서 최종적으로 취소됐고, 김범수 대표이사가 금융감독원 조사를 받고 있으며, 회사 측은 이번 사업협력을 통해 향후 향후 사업 추진 여부가 불투명해졌다.\n"
     ]
    },
    {
     "name": "stderr",
     "output_type": "stream",
     "text": [
      "Processing label 0.6:  47%|████▋     | 3639/7746 [6:54:00<7:18:19,  6.40s/it]"
     ]
    },
    {
     "name": "stdout",
     "output_type": "stream",
     "text": [
      "\n",
      "[Progress 30250]:\n",
      "Original: 이는 지난 3월 국무회의에서 문재인 대통령이 비메모리 산업의 경쟁력을 높이는 방안 마련을 주문한 데 따른 행보다. 구체적으로 시스템 반도체 사업 경쟁력을 강화하기 위해 2030년까지 국내 RD 분야에 73조원. 최첨단 생산 인프라에 60조원을 투자한다. 또한 기술 경쟁력을 강화하기 위해 시스템 반도체 RD와 제조 전문 인력 1만5000명을 채용할 계획이다.\n",
      "KO->EN: In addition, Shinhan Financial Group has signed a contract to invest KRW 1.87 trillion in sales and operating profit in the first quarter of this year, which is the highest in the world, with the comp\n",
      "EN->KO: 또 신한금융은 자사 고가 기술과 기술로 세계 최고 수준인 올해 1분기 매출액과 영업이익 1조87억원을 출자하는 계약을 체결했으며, 2조7천억원을 출자할 예정이다.\n"
     ]
    },
    {
     "name": "stderr",
     "output_type": "stream",
     "text": [
      "Processing label 0.6:  47%|████▋     | 3659/7746 [6:56:05<6:27:23,  5.69s/it]"
     ]
    },
    {
     "name": "stdout",
     "output_type": "stream",
     "text": [
      "\n",
      "[Progress 30400]:\n",
      "Original: 는 해당 국가의 도로. 발전 등 인프라 시설에 각각 1100억원 규모로 투자될 예정이다. KB금융 관계자는 국내 기업들의 신흥국 진출 수요는 존재하지만. 재무적 투자기관들은 비교적 리스크가 적은 선진국을 선호해 진출에 어려움을 겪어 왔다며 이번 펀드 조성으로 투자영역을 넓히는 계기를 마련하게 됐다고 설명했다.\n",
      "KO->EN: A KB Financial official said that while there is a demand for domestic companies to enter emerging economies, financial investment institutions have been struggling to enter developed countries, but t\n",
      "EN->KO: KB금융 관계자는 국내 기업의 신흥국 진출 수요가 있는 반면 금융투자기관들은 선진국 진출에 어려움을 겪어 왔지만 이번 펀드 조성으로 투자 영역을 넓힐 수 있는 계기가 됐다고 말했다.\n"
     ]
    },
    {
     "name": "stderr",
     "output_type": "stream",
     "text": [
      "Processing label 0.6:  47%|████▋     | 3665/7746 [6:56:45<7:20:32,  6.48s/it]"
     ]
    },
    {
     "name": "stdout",
     "output_type": "stream",
     "text": [
      "\n",
      "[Progress 30450]:\n",
      "Original: 내수 시장 포화와 새로운 국제회계기준 대비. 자산운용으로 수익률을 높이기 어려워진 국내외 투자환경 등이 . 가뜩이나 밀린 매물이 많은 보험 업계 인수합병. 시장도 더욱 정체될 것으로 전망된다. 26일 금융감독원에 따르면 생보사 24곳의 상반기 잠정 순이익은 2조1. 283억원으로 지난해 상반기보다 32. 특히 보험사 수익의 주축이어야 할 보험영업 부문의 적\n",
      "KO->EN: The insurance industry is also expected to see a sharp drop in the total net profit of 24 life insurers in the first half of this year, with the net profit of the insurance industry being reduced by 4\n",
      "EN->KO: 보험업계도 올해 상반기 24개 생보사의 총 당기순이익이 지난해 상반기 대비 412조원 감소하며 신규 신규 보험계약이 늘어날 것으로 예상되는 등 급감할 것으로 예상된다.\n"
     ]
    },
    {
     "name": "stderr",
     "output_type": "stream",
     "text": [
      "Processing label 0.6:  48%|████▊     | 3742/7746 [7:05:33<6:45:23,  6.07s/it]"
     ]
    },
    {
     "name": "stdout",
     "output_type": "stream",
     "text": [
      "\n",
      "[Progress 30900]:\n",
      "Original: 특히 스튜어드십코드나 행동주의 펀드 등 주주권을 강하게 주장하는 움직임이 나타나면서 2019년 예상기말배당 수익률이 최근 10년 내 최고치를 기록할 것으로 보인다. 올 12월 결산기준 배당락일은 27일이다. 배당기산일이 26일까지 주식을 매수해야 해당 종목의 배당을 받을 수 있다. 23일 금융정보 가이드업체 에프앤가이드에 따르면 증권사 3곳 이상에서 배당액\n",
      "KO->EN: In addition, Ko Kyoung-beom, a researcher at Korea Investment & Securities, said that as the dividend rate of 235 companies, which are consolidated in December of the last year, is expected to be high\n",
      "EN->KO: 또 고경범 한국투자증권 연구원은 지난해 12월 통합된 235개 기업의 배당성향이 2,383원보다 높을 것으로 예상됨에 따라 해당 기업의 배당성향은 2,300원 수준으로 높은 것으로 보인다고 말했다.\n"
     ]
    },
    {
     "name": "stderr",
     "output_type": "stream",
     "text": [
      "Processing label 0.6:  48%|████▊     | 3747/7746 [7:06:06<7:02:01,  6.33s/it]"
     ]
    },
    {
     "name": "stdout",
     "output_type": "stream",
     "text": [
      "\n",
      "[Progress 30950]:\n",
      "Original: 9일 유가증권시장에서 KB금융은 전거래일 대비 2. 050원에 장을 마쳤다. KB금융은 앞서 지난 6일 폐장 후 1. 000억원 규모의 자사주. 를 소각한다고 공시했다. 자사주 소각은 전체 발행주식 수를 줄여 개별 주식의 가치를 높이는 대표적인 주주 가치 제고 방식이다. 국내 금융주 중 소각에 나선 것은 국내 은행 중 KB금융지주가 처음이다. 김은갑 IBK\n",
      "KO->EN: In addition to dividends, KB Financial Group closed at KRW 5,50 million on the 9th, and Samsung Financial Group, which is about to be incinerated, also closed at KRW KRW KRW KRW KRW KRW KRW 1.9\n",
      "EN->KO: KB금융은 배당 외에도 9일 5억5000만원으로, 소각을 앞둔 삼성그룹도 9일 1억9,500만원으로 마감했다.\n"
     ]
    },
    {
     "name": "stderr",
     "output_type": "stream",
     "text": [
      "Processing label 0.6:  49%|████▊     | 3761/7746 [7:07:38<6:59:48,  6.32s/it]"
     ]
    },
    {
     "name": "stdout",
     "output_type": "stream",
     "text": [
      "\n",
      "[Progress 31050]:\n",
      "Original: KB금융 외에도 하나금융지주. DGB금융지주 등의 목표가도 일제 하향됐다. 윤유동 연구원은 기존 은행업종 투자의견은 . 을 유지하되 성장률과 마진. 자산건전성 등 핵심 가정 및 목표가는 경기 하방 경직성을 반영해 더 보수적 스탠스로 전환한다고 했다. 이들은 기업들의 투자. 고용 위축으로 대출 수요가 제한적일 것이며 부동산 규제 강화로 가계대출 성장도 한계에\n",
      "KO->EN: In addition to KB Financial Group, the target of the bank's overall asset soundness is stable due to the slowdown in the current economic situation and the reduction of the balance of the bank's growt\n",
      "EN->KO: KB금융그룹 외에도 현재 경기상황 둔화와 은행 성장·수익성 잔액 감소 등으로 은행의 총자산건전성 목표가 안정적이며, 2020년 은행 총자산건전성 목표는 38bp로 변동이 없다.\n"
     ]
    },
    {
     "name": "stderr",
     "output_type": "stream",
     "text": [
      "Processing label 0.6:  49%|████▉     | 3807/7746 [7:12:44<7:05:12,  6.48s/it]"
     ]
    },
    {
     "name": "stdout",
     "output_type": "stream",
     "text": [
      "\n",
      "[Progress 31350]:\n",
      "Original: 에 강점을 가진 증권사는 개인 주식 투자자 급증에 힘입어 선방했다. 신한금융투자는 올해 1분기. 연결 재무제표 기준 당기순이익이 467억원으로 지난해 1분기. 감소했다고 24일 밝혔다. 코로나19로 시장 변동성이 확대되면서 자산 운용 수익이 주로 감소한 영향. 반면 주식시장의 거래 대금 증가로 수수료 수익과 글로벌투자금융. 다만 올 1분기 순이익은 직전 분\n",
      "KO->EN: The company said on the 24th that its net profit in the first quarter of this year was 148 billion won, which is the increase in the stock market's volatility, but its operating profit was 23.6 billio\n",
      "EN->KO: 회사는 올해 1분기 순이익이 4,900억원으로 증시 변동성 증가이지만 영업이익은 236억원으로 2018년 4분기 이후 5분기 만에 가장 많았고 영업이익은 2,600억원으로 전년 동기 대비 영업이익이 증가했다고 24일 밝혔다.\n"
     ]
    },
    {
     "name": "stderr",
     "output_type": "stream",
     "text": [
      "Processing label 0.6:  50%|████▉     | 3854/7746 [7:17:58<7:03:51,  6.53s/it]"
     ]
    },
    {
     "name": "stdout",
     "output_type": "stream",
     "text": [
      "\n",
      "[Progress 31700]:\n",
      "Original: 국내 성장률에 영향을 미치는 내수 부분은 어느 정도 회복되고 있었기 때문에 세계 경제회복에 따라 수출이 얼마나 빨리 반등하는지가 관건이라고 봤기 때문이다. 그러나 기록적인 장마로 소비가 위축될 가능성이 있는데다. 최근 국내 확진자 수가 급증하면서 예상치 못했던 변수가 생겼다. 확진자 수 증가 폭에 따라 사회적 거리두기 단계가 높아질 가능성도 생겼고. 이렇게\n",
      "KO->EN: The Bank of Korea's management institute said on the 18th that it is not easy to predict that the U.S.'s long-term domestic bond market, which has the greatest impact on the growth rate in the U.S., w\n",
      "EN->KO: 한국은행 운용연구소는 18일 미국 성장률에 가장 큰 영향을 미치는 미국의 장기 국내 채권시장이 최근 신규 발행자 증가에서 계속 회복될 것으로 예측하기 쉽지 않다고 밝혔다.\n"
     ]
    },
    {
     "name": "stderr",
     "output_type": "stream",
     "text": [
      "Processing label 0.6:  51%|█████     | 3943/7746 [7:27:37<6:44:17,  6.38s/it]"
     ]
    },
    {
     "name": "stdout",
     "output_type": "stream",
     "text": [
      "\n",
      "[Progress 32350]:\n",
      "Original: 다만 SK아이이테크놀로지. 공모가의 두배 시초가 형성 후 상한가. 에 성공하지 못하는 등 가격 . 우려를 비롯한 비상장 주식 투자에 대한 우려의 목소리가 나오고 있다. 12일 비상장 주식 중개업체 . 에 따르면 올해 하반기 IPO 대어인 카카오뱅크의 주당 가격은 이날 기준 10만2000원. 시가총액은 41조5806억원이다. 카카오뱅크의 시총은 KB금융 시총\n",
      "KO->EN: The market capitalization of Kakao Bank, which is the largest IPO market in the second half of this year, is only KRW 1,52,000, and the market capitalization of Kakao Bank is KRW 2,545 trillion, which\n",
      "EN->KO: 올해 하반기 IPO 시장 최대 규모인 카카오뱅크의 시가총액은 15만2000원에 불과하고 카카오뱅크의 시가총액은 2조5000억원 이상으로 2조5000억원 이상이다.\n"
     ]
    },
    {
     "name": "stderr",
     "output_type": "stream",
     "text": [
      "Processing label 0.6:  51%|█████▏    | 3985/7746 [7:32:08<6:33:49,  6.28s/it]"
     ]
    },
    {
     "name": "stdout",
     "output_type": "stream",
     "text": [
      "\n",
      "[Progress 32600]:\n",
      "Original: 최근 상대적으로 안정적인 성과를 낼 수 있는 배당주 투자에 관심이 쏠리고 있다. 한국거래소에 따르면 대표적인 고배당 지수인 코스피 고배당50 지수는 연초 대비 약 28. 상승한 코스피를 큰 폭으로 앞질렀다. 코스피 고배당50 지수는 최근 3년간 연속 배당을 실시하고 평균 배당성향은 90. 를 넘지 않는 종목으로 구성된다. 배당성향은 순이익 중 배당금이 차지\n",
      "KO->EN: According to Shinhan Financial Investment, the KOSPI's high dividend index has been on the rise for the past 10 years, and the average dividend yield has been high for the second half of the year, and\n",
      "EN->KO: 신한금융투자에 따르면 최근 10년간 코스피 고배당지수가 상승세를 보이고 있으며 하반기 평균 배당수익률이 높은 것으로 나타나 코스피 고배당지수는 최근 상당 기간 상승세를 보이고 있다.\n"
     ]
    },
    {
     "name": "stderr",
     "output_type": "stream",
     "text": [
      "Processing label 0.6:  52%|█████▏    | 4005/7746 [7:34:15<6:23:45,  6.16s/it]"
     ]
    },
    {
     "name": "stdout",
     "output_type": "stream",
     "text": [
      "\n",
      "[Progress 32750]:\n",
      "Original: 에서 2분기 말 179. RBC 비율은 보험사의 자본량. 보험사 재무 건전성을 측정하는 핵심 지표다. 보험업법 기준은 100. 이지만 금융당국은 150. RBC 비율 개선은 지난 4월 3천790억원 규모의 후순위채를 발행한 효과가 반영된 것이라고 KB손해보험은 설명했다. 다만 RBC 비율이 1분기 말 기준 전체 손해보험사의 평균. 보다 여전히 훨씬 낮다. \n",
      "KO->EN: The RBC ratio was 179 at the end of the second quarter, which is a key indicator of the insurance company's capital and financial soundness, but the financial authorities explained that the increase i\n",
      "EN->KO: 보험사의 자본·재무 건전성을 가늠하는 핵심 지표인 2분기 말 RBC비율은 179였지만, RBC비율 증가는 희망퇴직에 쓴 210억원, 100억원 등 일회성 비용 때문이라고 금융당국은 설명했다.\n"
     ]
    },
    {
     "name": "stderr",
     "output_type": "stream",
     "text": [
      "Processing label 0.6:  52%|█████▏    | 4021/7746 [7:35:54<6:35:12,  6.37s/it]"
     ]
    },
    {
     "name": "stdout",
     "output_type": "stream",
     "text": [
      "\n",
      "[Progress 32900]:\n",
      "Original: 특히 CoP에는 MZ세대 직원들도 많이 참여하고 있다. 그룹 Cop 페스티벌. 자유주제 6가지 연구 분야별로 우수 CoP 9개 팀이 경쟁을 벌여 . 팀이 최종 우승을 차지했다. 윤 회장은 회사 업무와 프로세스. 고객의 행동과 마음을 잘 관찰해 작은 부분이라도 변화시키려고 노력해야 한다며 이를 통해 고객의 금융 생활을 편리하게. 삶을 행복하게 바꾸자고 말했다\n",
      "KO->EN: In particular, many MZ-generation employees participate in CoP, with nine outstanding CoP teams competing in six research categories, including the group Cop Festival and free topic, and the team won \n",
      "EN->KO: 특히 MZ세대 직원들이 많이 참여하고 있으며 그룹 피퍼 페스티벌, 자유 주제 등 6개 연구 부문에서 9개 우수 CoP팀이 경합을 벌여 팀이 최종 우승을 차지했다. 윤 회장은 \"기업의 업무, 공정, 고객, 고객 등 다양한 변화를 위해 노력해야 한다\"고 말했다.\n"
     ]
    },
    {
     "name": "stderr",
     "output_type": "stream",
     "text": [
      "Processing label 0.6:  52%|█████▏    | 4066/7746 [7:40:31<6:20:29,  6.20s/it]"
     ]
    },
    {
     "name": "stdout",
     "output_type": "stream",
     "text": [
      "\n",
      "[Progress 33150]:\n",
      "Original: 17일 금융정보분석업체인 에프엔가이드가 14일까지 국민연금의 가장 최근 공시를 기준으로 집계한 자료를 보면. 이상 지분을 보유하고 있는 국내 코스피. 코스닥 상장사는 총 261개사다. 이중 국민연금이 최대주주인 상장사는 9곳이고. 이상 지분을 갖고 있는 상장사도 48곳에 달한다. 등 국내 금융지주사들 뿐 아니라 포스코. 에 대해서도 최대주주 지위에 올라 있\n",
      "KO->EN: In particular, the National Pension Service has already issued a letter to the Korea Pension Service, which is the largest shareholder of the National Pension Service, and it is expected that the Nati\n",
      "EN->KO: 특히 국민연금은 이미 국민연금의 최대주주인 국민연금에 서한을 발송한 상태여서 국민연금이 국민연금을 비롯한 회사 투자 결정에 나설 수 있을 것으로 기대된다.\n"
     ]
    },
    {
     "name": "stderr",
     "output_type": "stream",
     "text": [
      "Processing label 0.6:  53%|█████▎    | 4095/7746 [7:43:36<6:10:38,  6.09s/it]"
     ]
    },
    {
     "name": "stdout",
     "output_type": "stream",
     "text": [
      "\n",
      "[Progress 33350]:\n",
      "Original: 에 무게를 실으면서 은행주에 대한 관심이 시들해지기 시작했다. 지난달 금융주를 집중 매수하던 외국인들은 이달 들어 매도에 나서고 있다. 은행의 대출 수익 확보가 제한될 것이란 전망에 매도 비중을 확대하는 모양새다. 우크라이나 사태 여파로 미국의 기준금리 인상 강도가 완화될 전망이 나오자 외국인 등이 금융주 매도 비중을 늘리고 있다. 3일 마켓포인트에 따르면\n",
      "KO->EN: The government has also announced that the price of the bank shares has been reduced by two-digits since the U.S. government announced a big step in the repayment of the bank's principal and interest \n",
      "EN->KO: 정부는 또 미국 정부가 0.25% 인상될 것으로 예상됐던 은행의 원리금 상환에 큰 걸음을 내딛고, 은행의 순자금 조달이 줄면서 은행주 가격이 두 자릿수 인하됐다고 밝혔다.\n"
     ]
    },
    {
     "name": "stderr",
     "output_type": "stream",
     "text": [
      "Processing label 0.6:  53%|█████▎    | 4129/7746 [7:47:22<6:28:36,  6.45s/it]"
     ]
    },
    {
     "name": "stdout",
     "output_type": "stream",
     "text": [
      "\n",
      "[Progress 33550]:\n",
      "Original: 우려감과 인플레이션 압박. 원화 약세 등이 맞물린 결과다. 특히 외국인들이 삼성전자. 등 대형주 중심의 팔자 행렬을 지속하며 실적 대비 밸류에이션이 높은 성장주들이 잇따라 52주 신저가를 새로 쓰고 있다. 이런 가운데 외국인 투자자들은 이번 달에도 정유. 금융주를 꾸준히 매수하고 있다. 올해 1분기 정유사들이 역대급 실적을 낼 것으로 예상되면서 S. 에 외\n",
      "KO->EN: The news in the first part of the video shows that foreigners have been buying more than KRW 12 trillion since the beginning of this year, and the price of the stock market is expected to rise due to \n",
      "EN->KO: 영상 1부 뉴스는 올해 초부터 외국인이 12조원 이상 매수하고 있으며, 증시 변동성 확대 가능성 등으로 증시 가격이 오를 것으로 전망되며, 코스피는 1조5000억원 이상 상승할 것으로 예상된다.\n"
     ]
    },
    {
     "name": "stderr",
     "output_type": "stream",
     "text": [
      "Processing label 0.6:  54%|█████▎    | 4155/7746 [7:50:14<6:28:47,  6.50s/it]"
     ]
    },
    {
     "name": "stdout",
     "output_type": "stream",
     "text": [
      "\n",
      "[Progress 33700]:\n",
      "Original: 총자산 684조9586억원을 갖춘 대형 금융지주를 등에 업은 하나금융파인드가 펼칠 전략에 GA업계 이목이 집중된다. 22일 보험업계에 따르면 하나금융파인드는 이달 말 인슈어테크 플랫폼 . 하나금융파인드는 하나금융그룹의 첫 번째 보험대리점이다. 핑글에는 기존 보험 플랫폼에서 제공하던 보장분석 서비스를 포함해 이용자의 상황을 다각도로 분석하는 스타일링 분석. \n",
      "KO->EN: According to the insurance industry on the 22nd, Hana Financial Group's strategy is to provide a variety of and in-depth customer experience as it is a connection service that allows customers to choo\n",
      "EN->KO: 22일 보험업계에 따르면 기존 보험 플랫폼에서 제공하는 스타일링 분석, 건강 등 다양한 분야의 전문가를 고객이 선택할 수 있는 연계 서비스로 다양하고 심층적인 고객 경험을 제공하는 것이 하나금융의 전략이다.\n"
     ]
    },
    {
     "name": "stderr",
     "output_type": "stream",
     "text": [
      "Processing label 0.6:  54%|█████▎    | 4159/7746 [7:50:39<6:21:19,  6.38s/it]"
     ]
    },
    {
     "name": "stdout",
     "output_type": "stream",
     "text": [
      "\n",
      "[Progress 33750]:\n",
      "Original: 전문가들은 최근 미국 연방준비제도. 가 긴축의 강도를 낮추리라는 전망이 나온데다 원자재값 등에 영향을 미친 인플레이션 우려도 잦아드는 분위기 속에서 경기 침체 공포가 진정된 것이 외국인 매수세에 영향을 주고 있다고 보고 있다. 기조가 이어지는 등 글로벌 증시 환경이 여전히 불안한 상황에서 추세적 반등을 확인하기는 다소 이르다는 의견도 나온다. 18일 한국거\n",
      "KO->EN: According to the Korea Exchange on the 18th, the U.S. market's recent rise of KRW 67.7 billion in the stock market, and the U.S. market's recent rise in the stock market has also been a positive facto\n",
      "EN->KO: 18일 한국거래소에 따르면 최근 미국 시장의 주식 시장 상승 폭이 677억원, 미국 시장의 최근 증시 상승 폭도 긍정적인 요인이며, 미국 증시 상승 폭이 큰 점도 호재로 작용했다.\n"
     ]
    },
    {
     "name": "stderr",
     "output_type": "stream",
     "text": [
      "Processing label 0.6:  54%|█████▍    | 4187/7746 [7:53:45<6:23:18,  6.46s/it]"
     ]
    },
    {
     "name": "stdout",
     "output_type": "stream",
     "text": [
      "\n",
      "[Progress 33950]:\n",
      "Original: 금융권에서는 뉴페이스가 등장할지 올드보이들의 집권이 이어질지가 관심이다. 15일 금융권에 따르면 올해 12월 31일 손병환 농협금융지주 회장의 임기가 종료된다. 이후 내년 3월에는 조용병 신한금융지주 회장. 손태승 우리금융지주 회장. 김지완 BNK금융지주 회장의 임기가 끝난다. 손병환 교체할까 유임시킬까가장 먼저 임기가 종료되는 손병환 농협금융지주 회장의 \n",
      "KO->EN: In the financial sector, the current chairman of Nonghyup Financial Group, Cho Yong-hwan, who was named the first chairman of Nonghyup Financial Group, has been appointed as a chairman of Nonghyup Fin\n",
      "EN->KO: 금융권에서는 농협금융지주 초대 회장에 선임된 조용환 현 농협금융지주 회장이 농협금융지주 회장에, 농협금융지주 현 회장이 농협금융지주 회장에 선임됐다.\n"
     ]
    },
    {
     "name": "stderr",
     "output_type": "stream",
     "text": [
      "Processing label 0.6:  56%|█████▌    | 4350/7746 [8:13:45<7:55:39,  8.40s/it]"
     ]
    },
    {
     "name": "stdout",
     "output_type": "stream",
     "text": [
      "\n",
      "[Progress 35150]:\n",
      "Original: 부문 수익 감소 전망으로 자산운용. 부문에서 수익성 창출이 중요해진 가운데 고액자산가 확보가 업계 생존전략으로 부각되고 있다. 21일 금융투자업계에 따르면 최근 유진투자증권과 DS투자증권은 미술 작가 발굴 및 작품 지원에 나서며 미술계와 직접 교류에 나섰다. 경영 실천과 더불어 고액자산가를 공략하겠단 복안이다. 유진투자증권은 이달 서울시립미술관과 손잡고 신\n",
      "KO->EN: According to the Korea Rich Business Institute's report on the 21st, the company recently invited Kwon Young-gil, a writer who has invested in art and has currently owned more than 1 billion won in fi\n",
      "EN->KO: 21일 한국부조연구원 보고서에 따르면 최근 예술에 투자했고 현재 10억원 이상의 금융자산을 보유하고 있는 권영길 작가를 초청해 사·사부그룹 발전을 주제로 강연하고, 이 회사 측은 이 관련 관련 내용을 공유했다.\n"
     ]
    },
    {
     "name": "stderr",
     "output_type": "stream",
     "text": [
      "Processing label 0.6:  58%|█████▊    | 4477/7746 [8:29:20<7:17:39,  8.03s/it]"
     ]
    },
    {
     "name": "stdout",
     "output_type": "stream",
     "text": [
      "\n",
      "[Progress 36450]:\n",
      "Original: 19일 한국거래소에 따르면 연초인 올해 1월2일 국내 증시 시가총액 순위를 살펴보면 삼성전자. 삼성물산 등의 순이었다. 수출 중심의 전통적 제조업 종목들이 대거 시가총액 상위주에 포진했다. 6개월 가까이 지난 이달 18일 기준 시총 순위는 삼성전자. SK 등으로 바뀌었다. 시총 상위 순위가 반도체. 등 대부분 4차 산업혁명 관련 종목들로 채워졌다. 가장 두\n",
      "KO->EN: According to the Korea Exchange on the 19th, the market capitalization of the secondary stock market, which was ranked No. 23 in the market capitalization at the end of last year, was ranked No. 4 in \n",
      "EN->KO: 19일 한국거래소에 따르면 지난해 말 시가총액 23위였던 2차 증시의 시가총액이 시가총액 4위에 올랐지만 지난달 18일 기준 시가총액은 4위에 그치고 있다.\n"
     ]
    },
    {
     "name": "stderr",
     "output_type": "stream",
     "text": [
      "Processing label 0.6:  58%|█████▊    | 4525/7746 [8:35:33<6:57:27,  7.78s/it]"
     ]
    },
    {
     "name": "stdout",
     "output_type": "stream",
     "text": [
      "\n",
      "[Progress 36950]:\n",
      "Original: 회사명은 정의의 여신 . 에서 따온 것으로 기술과 스토리의 완벽한 균형을 실현하고자 하는 김종열 대표의 희망이 담겨있다. 디케는 고해상도 4K 카메라 3대를 이어 붙인 . 영상을 제작하고 있다. 기존 HD화면으로는 경기를 하는 선수들의 모습만 볼 수 있었지만. 12K 와이드뷰는 경기장 전체를 초고화질 광시야각 파노라마 영상으로 관람할 수 있을 뿐만 아니라 \n",
      "KO->EN: The core of the 12K wide view is that it is a technology that allows users to watch the entire 12K wide view with a wide view of the same light angle, as well as to create a video of the 12K wide view\n",
      "EN->KO: 12K 와이드 뷰는 동일한 광각의 넓은 뷰를 통해 12K 와이드 뷰 전체를 볼 수 있는 것은 물론, 동일한 광각의 넓은 뷰를 가진 12K 와이드 뷰의 동영상을 생성하고, 영상 영상을 생성할 수 있는 기술이다.\n"
     ]
    },
    {
     "name": "stderr",
     "output_type": "stream",
     "text": [
      "Processing label 0.6:  59%|█████▊    | 4547/7746 [8:38:17<7:23:17,  8.31s/it]"
     ]
    },
    {
     "name": "stdout",
     "output_type": "stream",
     "text": [
      "\n",
      "[Progress 37150]:\n",
      "Original: 플랫폼 사업 규제 권한을 두고 부처 간 신경전이 벌어지고 있는 것이다. 공정위는 내년 1월 국회 발의를 목표로 온라인플랫폼법안 제정을 추진하고 있다. 법안은 지난주 규제개혁위원회를 통과했고. 이번주부터 관계 부처 협의에 돌입한 상태다. 법안을 국회에 제출하기 위해서는 최종적으로 차관회의를 통과해야 하는데 방통위가 끝까지 반대할 경우 추진이 어려워진다. 온라\n",
      "KO->EN: The FTC is also criticizing the fact that the Internet Platform Act, which is a law that regulates both consumers and the Internet Trade Commission, is a law that regulates the platform business by im\n",
      "EN->KO: 공정위는 소비자와 인터넷 거래위원회 모두를 규제하는 법인 인터넷 플랫폼법이 인터넷 거래위원회로부터 계약 부과와 불공정거래 금지 등을 통해 플랫폼 사업을 규제하는 법이라는 점도 비판하고 있으며, 인터넷 거래위원회도 공정위가 공정위가 규제할 수 있는 방안을 검토하고 있다.\n"
     ]
    },
    {
     "name": "stderr",
     "output_type": "stream",
     "text": [
      "Processing label 0.6:  59%|█████▉    | 4570/7746 [8:41:05<6:22:04,  7.22s/it]"
     ]
    },
    {
     "name": "stdout",
     "output_type": "stream",
     "text": [
      "\n",
      "[Progress 37450]:\n",
      "Original: 회사 측은 지난 12일부터 시작한 주식 1주 선물받기 이벤트가 큰 화제를 일으킨 것이 결정적 역할을 한 것으로 분석했다. 주식 1주 선물받기 이벤트는 신규 계좌를 개설하는 고객에게 무작위 추첨으로 주식 1주를 지급하는 행사로. 등을 포함해 총 26개 종목을 대상으로 한다. 이번 이벤트는 오픈과 동시에 투자 커뮤니티와 소셜미디어를 중심으로 큰 화제가 됐고. \n",
      "KO->EN: The company analyzed that the one-week gift event, which started on the 12th, has been a big topic with the number of customers who open their accounts at a random draw, and the number of customers wh\n",
      "EN->KO: 지난 12일부터 시작된 1주 선물 이벤트는 무작위 추첨으로 계좌를 개설하는 고객이 늘어 10배 이상, 계좌 개설 고객이 10배 이상 늘어난 것으로 분석됐다.\n"
     ]
    },
    {
     "name": "stderr",
     "output_type": "stream",
     "text": [
      "Processing label 0.6:  59%|█████▉    | 4589/7746 [8:43:25<6:57:02,  7.93s/it]"
     ]
    },
    {
     "name": "stdout",
     "output_type": "stream",
     "text": [
      "\n",
      "[Progress 37700]:\n",
      "Original: Nearly five years later. the Japanese webtoon app saw revenues of 4. 37 billion yen . a daily record. Two days later. 2 million daily users. another record. the Japanese web comic service run by Kakao\n",
      "KO->EN: The Japanese webtoon service was conducted by Kakao Japan, which was a small number of the Japanese webtoon sales, and the average annual growth rate was KRW 4.37 billion, but the Japanese webtoon mar\n",
      "EN->KO: 일본 웹툰 서비스는 일본 웹툰 판매의 소수인 카카오재팬이 진행했고 연평균 증가율은 437억원이었지만 일본 웹툰 시장은 상대적으로 경쟁의 추격이 더뎠고, 일본 출판사들은 일본 웹툰의 판매 판매의 우위를 선점하고 있다.\n"
     ]
    },
    {
     "name": "stderr",
     "output_type": "stream",
     "text": [
      "Processing label 0.6:  59%|█████▉    | 4594/7746 [8:44:05<7:21:18,  8.40s/it]"
     ]
    },
    {
     "name": "stdout",
     "output_type": "stream",
     "text": [
      "\n",
      "[Progress 37750]:\n",
      "Original: PLCCs are credit cards designed with benefits and rewards from a specific brand. The cards are issued in partnership with a credit card company. Like many credit cards. PLCCs usually have an annual me\n",
      "KO->EN: In the following month, the company has been signed up for a PLCC, which is a brand that is designed with a value of more than 500 percent, and the PLCC is a brand that is used for a store, and the PL\n",
      "EN->KO: 다음 달에는 500% 이상의 가치를 갖고 설계된 브랜드인 PLCC에 가입했으며 PLCC는 매장에 사용되는 브랜드로, PLCC 역시 가맹점에 사용되는 브랜드이며, 이, 이, 이, 이, 이, 이, 이, 이, 이, 이, 이, 이, 이, 이 등 매장에 사용되는 브랜드이기도 하다.\n"
     ]
    },
    {
     "name": "stderr",
     "output_type": "stream",
     "text": [
      "Processing label 0.6:  59%|█████▉    | 4604/7746 [8:45:15<6:21:49,  7.29s/it]"
     ]
    },
    {
     "name": "stdout",
     "output_type": "stream",
     "text": [
      "\n",
      "[Progress 37800]:\n",
      "Original: 1 online fashion retailer. chose Japan as its first overseas market and established a branch office there. a shopping app that sells trendy clothes from the Dongdaemun garment district of Seoul. launc\n",
      "KO->EN: The industry insider said that the company has already launched a series of s fashion market centers on the Internet, and it has been introduced as a launch board for the Chinese market, but it has be\n",
      "EN->KO: 업계 관계자는 이미 인터넷상 패션마켓 센터들을 잇따라 론칭했고 중국 시장 런칭보드로 소개됐지만, 일본 내에는 트렌디한 옷을 판매하는 쇼핑 앱인 스토어로 소개됐고, 중국 시장도 빠르게 성장하고 있다고 전했다.\n"
     ]
    },
    {
     "name": "stderr",
     "output_type": "stream",
     "text": [
      "Processing label 0.6:  60%|█████▉    | 4628/7746 [8:48:08<6:10:04,  7.12s/it]"
     ]
    },
    {
     "name": "stdout",
     "output_type": "stream",
     "text": [
      "\n",
      "[Progress 37950]:\n",
      "Original: 5일 한국거래소에 따르면 삼성SDI는 지난달 31일을 기점으로 LG화학의 시가총액을 추월해 배터리 대장주로 등극했다. 지난 3일 종가 기준으로 삼성SDI의 시가총액은 52조2610억원으로 LG화학. 을 1조원 가량 앞서고 있다. LG화학이 제너럴모터스. 의 볼트 전기차 배터리 리콜 이슈로 추락하는 사이 삼성SDI가 코스피 시가총액 6위. LG화학 주가는 최\n",
      "KO->EN: According to the Korea Exchange on the 5th, Samsung SDI has been ranked sixth in the market capitalization of the KOSPI as of the closing price of the KOSPI, surpassing the market capitalization of th\n",
      "EN->KO: 5일 한국거래소에 따르면 삼성SDI는 이날 종가 기준 코스피 시가총액 6위에 올라 시가총액 4조86억원 규모의 회사 시가총액을 넘어선 반면, 코스피 시가총액 6위는 4조86억원 규모의 회사 시가총액을 넘어섰다.\n"
     ]
    },
    {
     "name": "stderr",
     "output_type": "stream",
     "text": [
      "Processing label 0.6:  60%|██████    | 4651/7746 [8:51:03<6:46:24,  7.88s/it]"
     ]
    },
    {
     "name": "stdout",
     "output_type": "stream",
     "text": [
      "\n",
      "[Progress 38150]:\n",
      "Original: 전국 첫 가상 경찰서인 만큼 주민 관심도 높아 지난달 23일 첫 공개 이후 현재까지 2200여명이 이 가상경찰서를 방문해 보이스피싱 예방이나 교통안전. 자치경찰제 등에 대한 정보를 얻어간 것으로 집계됐다. 이에 남양주북부경찰서는 가상경찰서에 대한 시민들의 관심이 치안 정보 습득 생활화로 이어질 수 있도록 오는 28일까지 가상 견학 이벤트를 진행키로 했다. \n",
      "KO->EN: As it is the first virtual police station in the country, the Namyangju Northern Police Station has been held a virtual tour event until the 28th to help citizens gain information on the prevention of\n",
      "EN->KO: 남양주 북부경찰서는 전국 최초로 가상경찰인 만큼, 시민들이 보이스피싱 예방, 교통안전, 자치경찰제 등에 대한 정보를 얻을 수 있도록 28일까지 가상관광 행사를 개최하고, 가상경찰을 활용한 지역사회 치안간담회도 진행하고 있다.\n"
     ]
    },
    {
     "name": "stderr",
     "output_type": "stream",
     "text": [
      "Processing label 0.6:  61%|██████    | 4689/7746 [8:55:21<6:06:39,  7.20s/it]"
     ]
    },
    {
     "name": "stdout",
     "output_type": "stream",
     "text": [
      "\n",
      "[Progress 38500]:\n",
      "Original: 최 대표는 14일 오전 정기 주주총회 및 이사회 후 임직원들에게 메일을 보내 CEO의 E는 executive. 가 아닌 enabling. 로 해석하고 업무에 임하겠다고 말했다. 그는 네이버는 인터넷산업 본질에 대한 깊은 이해를 지닌 . 창업자와 전문성 있는 리더십. 혁신적인 아이디어를 지닌 구성원이 모인 조직이라며 조직간 소통과 시너지를 이끌어내고 새로운 \n",
      "KO->EN: \"As Naver has been working on the global growth of the company, he said, \"We will continue to make a new growth opportunity by making it a company that has a deep understanding of the nature of the In\n",
      "EN->KO: 그는 \"네이버가 글로벌 성장을 위해 노력해 온 만큼 인터넷 산업의 본질에 대한 깊은 이해를 가진 기업으로 거듭나며 새로운 성장 기회를 계속 만들어나가고, 비즈니스 관계에서 서로 이해하고 존중하는 것이 더욱 중요해지고, 상호 상호의 상호 협력도 더욱 중요해질 것\"이라고 말했다.\n"
     ]
    },
    {
     "name": "stderr",
     "output_type": "stream",
     "text": [
      "Processing label 0.6:  61%|██████    | 4717/7746 [8:58:34<5:37:04,  6.68s/it]"
     ]
    },
    {
     "name": "stdout",
     "output_type": "stream",
     "text": [
      "\n",
      "[Progress 38750]:\n",
      "Original: 윤예지 하나금융투자 연구원은 14일 네이버는 1분기 매출액 1조 8500억원. 영업이익 3450억원. 을 기록할 것이라며 코로나19. 수혜가 두드러졌던 서치플랫폼과 커머스의 매출 성장률이 정상화 수순을 밟으며 전분기 대비 역성장이 예상된다고 했다. 이어 페이먼츠 역시 커머스와 연동되는 사업부로 역성장이 예상되며. 클라우드도 정부 기관 예산 집행에 맞춰 하반\n",
      "KO->EN: Yoon Ye-ji, a researcher at Hana Financial Investment, said on the 14th that unlike commerce, which is slowing down due to the seasonal off-season, it is expected that the sales growth rate of webtoon\n",
      "EN->KO: 윤예지 하나금융투자 연구원은 14일 계절적 비수기로 둔화되는 커머스와 달리 1분기 웹툰과 웹툰의 매출 증가율이 지속적으로 높을 것으로 예상되며, 상반기 상반기도 상반기와 하반기는 상반기와 하반기가 무난할 것으로 전망된다고 밝혔다.\n"
     ]
    },
    {
     "name": "stderr",
     "output_type": "stream",
     "text": [
      "Processing label 0.6:  61%|██████    | 4724/7746 [8:59:22<5:36:34,  6.68s/it]"
     ]
    },
    {
     "name": "stdout",
     "output_type": "stream",
     "text": [
      "\n",
      "[Progress 38800]:\n",
      "Original: 이를 위해 거래소는 시가총액. 재무 상태 등 코스닥 글로벌에 편입될 기업의 기준을 만드는 작업을 하고 있다. 기준이 선정되면 다음 달 중 해당 기업들을 대상으로 신청을 받은 후 코스닥 글로벌에 포함될 기업을 확정할 계획이다. 코스닥 글로벌 지수가 산정되면 이 지수를 토대로 투자하는 상장지수펀드. 등 패시브 자금이 유입될 가능성도 있다. 19일 한국거래소에 \n",
      "KO->EN: In the case of KOSDAQ 150, most of the companies that have been listed in the KOSDAQ market are listed in the KOSDAQ market, and if the KOSDAQ global index is calculated, it is expected that the KOSDA\n",
      "EN->KO: 코스닥150의 경우 코스닥 시장에 상장된 기업의 대부분이 코스닥 시장에 상장되어 있으며, 코스닥 글로벌 지수를 산출하면 코스닥 글로벌 지수가 3개 종목으로 분할될 것으로 예상된다.\n"
     ]
    },
    {
     "name": "stderr",
     "output_type": "stream",
     "text": [
      "Processing label 0.6:  61%|██████    | 4731/7746 [9:00:12<5:52:52,  7.02s/it]"
     ]
    },
    {
     "name": "stdout",
     "output_type": "stream",
     "text": [
      "\n",
      "[Progress 38900]:\n",
      "Original: 4일 한국거래소에 따르면 미래에셋자산운용의 . TIGER KRX BBIG K. ETF는 지난 상반기 . 러시아 전쟁 여파로 현재 거래정지 상태인 . KINDEX 러시아MSCI. ETF를 제외하면 하락폭이 가장 크다. 이 ETF가 추종하는 KRX BBIG K. 뉴딜지수는 국내 대표 성장주 관련 지수다. 이라 불리는 업종을 기반으로 만들어졌다. BBIG 업종은\n",
      "KO->EN: According to the Korea Exchange on the 4th, the ETF is based on the existing KRX BBIG K.P., which is the company's strongest in the market, and the stock price of the second-base battery is expected t\n",
      "EN->KO: 4일 한국거래소에 따르면 이 ETF는 기존 시장 최강인 KRXBBIGK.P를 기반으로 한 것으로, 시장이 회복될 것으로 전망되면서 2기 배터리 주가가 강세를 보일 것으로 전망된다.\n"
     ]
    },
    {
     "name": "stderr",
     "output_type": "stream",
     "text": [
      "Processing label 0.6:  62%|██████▏   | 4768/7746 [9:04:29<5:48:08,  7.01s/it]"
     ]
    },
    {
     "name": "stdout",
     "output_type": "stream",
     "text": [
      "\n",
      "[Progress 39250]:\n",
      "Original: according to a Kakao disclosure. CEO Hong Eun. taek will remain at the top post as the sole CEO. The resigning co. CEO made the announcement at a press conference Wednesday at the company. s office in\n",
      "KO->EN: The company's CEO Hong Eun said at a press conference on Saturday that the company was not properly prepared for the disruption, and that the company's entire server was cut off for many hours, and th\n",
      "EN->KO: 홍은 회사는 지난 10일 기자간담회에서 차질이 발생할 수 있도록 제대로 준비하지 않았다고 밝히며 회사 서버 전체가 수시간 동안 차단됐고, 회사 메인 서버가 10시간 이상 폐쇄됐으며, 회사 서비스 서비스도 정상적으로 정상적으로 가동되지 않았다고 밝혔다.\n"
     ]
    },
    {
     "name": "stderr",
     "output_type": "stream",
     "text": [
      "Processing label 0.6:  66%|██████▌   | 5082/7746 [9:43:09<5:14:33,  7.08s/it]"
     ]
    },
    {
     "name": "stdout",
     "output_type": "stream",
     "text": [
      "\n",
      "[Progress 42750]:\n",
      "Original: 글로벌 재생에너지 사용 확대 추세에 따라 이 같은 에너지 전환은 불가피한 선택이기 때문에 각 기관과 기업 등이 적극 동참 중이다. 7점으로 조사 대상 115개국 중 48위에 그친 상황이라 에너지 전환에 더욱 속도를 내야 할 것으로 보인다. 그래야 2030년까지 재생에너지 발전 비중을 현재의 10. 로 늘리는 정부 계획 달성이 가능해진다. 18일 한국수출입은\n",
      "KO->EN: According to the Korea Institute for International Economic Research, the number of new solar power installations in Korea has been increased by more than 1GW in the first quarter of 2020, which is th\n",
      "EN->KO: 국제경제연구원에 따르면 2020년 1분기 국내 태양광 신규 설치 건수는 1GW 이상 증가했으며, 이는 현재 현재 대비 신재생에너지 설치 건수가 2배 이상 증가한 세계 최초다.\n"
     ]
    },
    {
     "name": "stderr",
     "output_type": "stream",
     "text": [
      "Processing label 0.6:  66%|██████▌   | 5091/7746 [9:44:14<5:06:36,  6.93s/it]"
     ]
    },
    {
     "name": "stdout",
     "output_type": "stream",
     "text": [
      "\n",
      "[Progress 42900]:\n",
      "Original: 로 올라시가총액 2위 SK하이닉스삼바. LG화학에 추월 위기카카오 시총 20위서 9위로 금융의 판이 바뀐다 ③ . 벗어나는 코스피 한국 증시가 반도체에 의존하는 . 로 불리는 개인투자자가 직접 투자에 나서면서 시가총액 판도가 흔들리고 있다. 지난해 한국 증시는 외국인 투자자가 선호하는 삼성전자. SK하이닉스 등 반도체 업체로 투자 자금이 쏠렸지만 올해 들어\n",
      "KO->EN: The KOSPI's share of Samsung BioLogics and SK Hynix, which are the two largest stocks in the market, have been on the rise since the last trading day of last year, and the share of Samsung BioLogics h\n",
      "EN->KO: 유가증권시장에서 두 개의 최대 종목인 삼성바이오로직스와 SK하이닉스의 코스피 비중은 지난해 마지막 거래일 이후 상승추세를 보이고 있으며, 유가증권시장에서 삼성바이오로직스의 비중은 상승추세를 보이고 있으며, 코스닥에서는 코스닥의 비중이 상승하고 있다.\n"
     ]
    },
    {
     "name": "stderr",
     "output_type": "stream",
     "text": [
      "Processing label 0.6:  68%|██████▊   | 5304/7746 [10:10:37<7:00:27, 10.33s/it]"
     ]
    },
    {
     "name": "stdout",
     "output_type": "stream",
     "text": [
      "\n",
      "[Progress 45950]:\n",
      "Original: 현재의 글로벌 경영 환경을 그만큼 긴박한 위기로 인식하고 있다는 해석이다. 이재용 삼성전자 부회장은 18일 유럽 출장을 다녀오며 . 시장에 여러 혼돈과 변화와 불확실성이 많다. 고 우려를 나타낸 바 있다. 사장단 회의는 삼성전자의 두 대표이사인 한종희 디바이스경험. 경기 용인시 삼성인력개발원에서 오전 7시 30분부터 8시간 넘게 자유토론 형식으로 . 최윤호\n",
      "KO->EN: The meeting was held at the Samsung Human Resources Development Institute in Yongin, Gyeonggi Province, and it is said that the presidents' meeting was held for more than eight hours, and the presiden\n",
      "EN->KO: 이날 회의는 경기도 용인 삼성인재개발원에서 진행됐으며, 사장단 회의는 8시간 이상 진행됐으며, 이날 회의는 회사 사장단이 직접 직접 직접 직접 직접 직접 직접 직접 직접 직접 직접 직접 직접 직접 직접 직접 직접 직접 직접 직접 직접 직접 직접 직접 직접 직접 직접 직접 직접 직접 직접 직접 직접 직접 직접 직접 직접 직접 직접 직접 직접 직접 직접 직접 \n"
     ]
    },
    {
     "name": "stderr",
     "output_type": "stream",
     "text": [
      "Processing label 0.6:  69%|██████▊   | 5309/7746 [10:11:17<5:40:07,  8.37s/it]"
     ]
    },
    {
     "name": "stdout",
     "output_type": "stream",
     "text": [
      "\n",
      "[Progress 46000]:\n",
      "Original: 수은은 19일 국내 배터리 핵심소재 생산설비 투자 지원을 위해 포스코케미칼과 향후 3년간 1조원 규모의 기본여신약정. 을 체결했다고 밝혔다. 기본여신약정이란 금융지원 한도금액과 지원절차 등 금융지원 조건을 사전에 확정한 후. 향후 기업의 다양한 여신 수요가 발생하면 신속히 금융을 제공하는 거래를 뜻한다. 수은 관계자는 와의 통화에서 워낙에 . 우량 차주기도\n",
      "KO->EN: The Korea Meteorological Administration said in a telephone interview that POSCO Chemical has signed a basic loan agreement worth 1 trillion won for the next three years to support the investment of t\n",
      "EN->KO: 기상청은 이날 전화 인터뷰에서 포스코케미칼이 국내 배터리 산업의 핵심소재 투자를 지원하기 위해 향후 3년간 1조원 규모의 기본대출협약을 체결했으며, 기상청이 가장 큰 수준의 금융지원을 할 것이라고 밝혔다.\n"
     ]
    },
    {
     "name": "stderr",
     "output_type": "stream",
     "text": [
      "Processing label 0.6:  69%|██████▊   | 5317/7746 [10:12:19<5:27:06,  8.08s/it]"
     ]
    },
    {
     "name": "stdout",
     "output_type": "stream",
     "text": [
      "\n",
      "[Progress 46150]:\n",
      "Original: 주식 태조 이방원 주식은 . Geopolitics ESG Technology. 의 3가지 요소를 갖춘 업종에 투자하는 종목으로 구성돼 있다. 시장에서는 해당 주식이 최근 부상하고 있는 산업계 트렌드를 바탕으로 성장세를 보이고 있다고 본다. 서철수 미래에셋증권 리서치센터장은 . 주의 성장배경에 대해 . 원자력 관련 주는 신재생 에너지. 그린 에너지를 대표하기\n",
      "KO->EN: In the future, the stock price of Hyundai Shipbuilding & Marine Engineering, which is a representative new and renewable energy, has been on the rise since the U.S. has been expanding its stock price \n",
      "EN->KO: 향후 대표적인 신재생에너지인 현대중공업의 주가는 지난달 2분기 미국이 3,200원에서 상승 폭을 확대하고 있고, 신재생에너지를 대표하는 삼성전자도 주가가 상승세를 보이고 있다.\n"
     ]
    },
    {
     "name": "stderr",
     "output_type": "stream",
     "text": [
      "Processing label 0.6:  69%|██████▉   | 5342/7746 [10:15:40<5:40:43,  8.50s/it]"
     ]
    },
    {
     "name": "stdout",
     "output_type": "stream",
     "text": [
      "\n",
      "[Progress 46550]:\n",
      "Original: 반면 배터리 업체 등 일부 제조업 기업들은 잠재력을 입증하며 주도주로 자리 잡았다는 평가가 나온다. 8일 한국거래소에 따르면 올 들어 전날까지 유가증권시장 내 시총 비중이 가장 큰 폭으로 증가한 업종은 전기전자 업종이다. 시총 비중이 지난해 말 35. LG에너지솔루션 등 주요 반도체. 배터리 업체들이 전기전자 업종을 구성한다. 증시에서의 제조업 입지 확대는\n",
      "KO->EN: On the other hand, some manufacturing companies, including batteries, have been showing their potential, while the share of the market capitalization of the electronics and electronics sectors has bee\n",
      "EN->KO: 반면 배터리 등 일부 제조업은 잠재력을 보이고 있고, 전자·전자 부문 시가총액 비중은 지난해 말부터 상승세가 이어지고 있고, 삼성전자 등 통신·전자 부문 비중도 상승세를 보이고 있다.\n"
     ]
    },
    {
     "name": "stderr",
     "output_type": "stream",
     "text": [
      "Processing label 0.6:  70%|██████▉   | 5388/7746 [10:21:45<5:05:59,  7.79s/it]"
     ]
    },
    {
     "name": "stdout",
     "output_type": "stream",
     "text": [
      "\n",
      "[Progress 47000]:\n",
      "Original: 이들 기업은 과거 참치나 음료수 캔. 요리에 쓰는 쿠킹 포일. 금속을 종이처럼 얇게 펴서 만든 것. 금속 코팅과 가공 기술력을 활용해 배터리 내용물을 담는 캔 용기를 생산하거나 배터리 내에서 전류를 전달하는 양극박 시장에 진출하면서 디지털 전환 성공 기업으로 꼽히고 있다. 예를 들어 과거에 식음료를 담는 캔 내부에 부식 방지를 위해 주석을 코팅했다면. 배터\n",
      "KO->EN: The company is the only company that has been producing nickel-plating steel plates in Korea since 1992, and it has been producing nickel-plating steel plates for the second battery, such as nickel-pl\n",
      "EN->KO: 이 회사는 1992년부터 국내 유일의 니켈 도금 강판을 생산하고 있으며, 부엌에서 사용되는 니켈 도금 강판과 2차전지로 사용하는 니켈 도금 강판 등 2차전지용 니켈 도금 강판을 생산하고 있다.\n"
     ]
    },
    {
     "name": "stderr",
     "output_type": "stream",
     "text": [
      "Processing label 0.6:  70%|██████▉   | 5392/7746 [10:22:14<4:48:18,  7.35s/it]"
     ]
    },
    {
     "name": "stdout",
     "output_type": "stream",
     "text": [
      "\n",
      "[Progress 47050]:\n",
      "Original: 에코프로그룹은 삼원계 NCM. 양극재 시장에서 세계 1위 회사다. 세계 유일 양극재 생태계 갖출 것. 송 대표는 22일 한국경제신문과 만나 이 같은 사업계획을 공개했다. 지난 1월부터 경영을 총괄해온 그는 오는 30일 정기 주주총회에서 대표로 정식 선임될 예정이다. 광산에 직접 투자할 수도 있고. 광산업체와 협력할 수도 있다. 북미 또는 남미 지역을 태핑.\n",
      "KO->EN: In response to the intensifying competition among the three companies in the metal market, the company plans to make a new investment in the nickel plant by recycling metals from the mines and the com\n",
      "EN->KO: 금속시장 3사 간 경쟁이 심화되는 것에 대응하여 광산에서 금속을 재활용해 니켈공장에 신규 투자를 할 계획이며, 이날 주주총회에서도 결정을 내려 니켈공장에 신규 투자를 할 계획이다.\n"
     ]
    },
    {
     "name": "stderr",
     "output_type": "stream",
     "text": [
      "Processing label 0.6:  71%|███████   | 5464/7746 [10:31:38<4:56:42,  7.80s/it]"
     ]
    },
    {
     "name": "stdout",
     "output_type": "stream",
     "text": [
      "\n",
      "[Progress 47950]:\n",
      "Original: 10대 그룹 한 대기업 임원. 작년부터 시작된 글로벌 경기 침체가 올 상반기. 까지 이어지는 동안 기업들은 . 에 대한 기대를 조심스럽게 드러내곤 했다. 실적마저 당초 전망치에 미치지 못할 것으로 추정되면서 경기침체 장기화에 대한 우려가 현실화하고 있다. 배터리 등 첨단산업이 경기 반등을 강하게 이끌 것이란 낙관론이 힘을 잃고 있다. 25일 금융정보업체 에\n",
      "KO->EN: In particular, the outlook for the long-term rebound in the semiconductor industry is being delayed as the average of the latest forecast of Samsung Electronics' third-quarter operating profit was est\n",
      "EN->KO: 특히 삼성전자의 3분기 영업이익 평균 추정치가 당초 전망치보다 적은 2조6464억원으로 추정되면서 반도체 업황의 장기 반등 전망은 지연되고 있다.\n"
     ]
    },
    {
     "name": "stderr",
     "output_type": "stream",
     "text": [
      "Processing label 0.6:  71%|███████   | 5511/7746 [10:37:25<4:51:10,  7.82s/it]"
     ]
    },
    {
     "name": "stdout",
     "output_type": "stream",
     "text": [
      "\n",
      "[Progress 48400]:\n",
      "Original: 이 때문에 국내 배터리기업이 주력하는 프리미엄 배터리 수요처로 급부상하고 있다. 11일 관련업계에 따르면 전기상용차. 는 자체가 크고 무거워 일반적인 전기승용차. 13배 많은 용량의 배터리가 탑재된다. 판매량은 승용차보다 적지만 대당 탑재 용량이 최대 13배 차이 난다. 동일한 용량이라 할지라도 상용차 전용으로 납품되는 배터리모듈 가격이 일반 전기차 모듈보\n",
      "KO->EN: According to the market research firm, Samsung SDI, which has been in the market for electric vehicles, has been in the market for electric vehicles, with the price of electric vehicles that are built\n",
      "EN->KO: 시장조사업체에 따르면 그동안 전기차 시장에 진출한 삼성SDI는 독일 배터리팩 업체 비보엔터프라이즈가 구축한 전기차 가격이 전기차 시장에 올라, 전기차를 위한 전략적 협약을 체결한 바 있다.\n"
     ]
    },
    {
     "name": "stderr",
     "output_type": "stream",
     "text": [
      "Processing label 0.6:  71%|███████▏  | 5533/7746 [10:40:10<4:22:49,  7.13s/it]"
     ]
    },
    {
     "name": "stdout",
     "output_type": "stream",
     "text": [
      "\n",
      "[Progress 48700]:\n",
      "Original: 발굴을 위한 연구도 해외에 문호를 열기로 했다. 에 초점을 맞춘 새 산업 연구개발. 방향을 제시한 것이다. 산업통상자원부는 5일 서울 포시즌스 호텔에서 방문규 장관 주재로 열린 주요 기업 최고기술책임자. 간담회에서 이 같은 . 글로벌 기술 협력 종합 전략. 회의에는 현대차 이종수 부사장. CJ제일제당 황윤일 부사장. 삼성SDI 김윤창 부사장. 한화에어로스페\n",
      "KO->EN: In addition to the 180-year-old international research and development, the Ministry of Trade, Industry and Energy plans to invest KRW 1 trillion in the development of the top 100 industrial technolog\n",
      "EN->KO: 산업통상자원부는 180년 전통의 국제 연구개발 외에도 국내 개발이 어려운 100대 산업기술 개발에 1조원을 투자해 국내 개발되지 않는 기술들을 확충하겠다는 목표다.\n"
     ]
    },
    {
     "name": "stderr",
     "output_type": "stream",
     "text": [
      "Processing label 0.6:  72%|███████▏  | 5547/7746 [10:42:05<4:44:39,  7.77s/it]"
     ]
    },
    {
     "name": "stdout",
     "output_type": "stream",
     "text": [
      "\n",
      "[Progress 48900]:\n",
      "Original: 1ha에서 한국산 찰옥수수 재배 시범포장을 운영 중이다. 김 전 팀장은 2013년 공무원 상호교환 등을 골자로 한 . 에 따라 지난해 3월부터 하라레시에서 근무 중이다. 그는 지난달 곡물용 옥수수를 주로 재배하는 하라레시를 비롯한 짐바브웨 농업인들에게 찰옥수수를 새로운 소득원으로 소개하기 위해 SATI. 기아대책에서 운영하는 농업인 훈련프로그램. 교육생 2\n",
      "KO->EN: The former team leader Kim has been working in Hararei since March last year, with the results of the regional adaptation test and the food evaluation of the Korean rice pine trees grown at the SATI. \n",
      "EN->KO: 김 전 팀장은 지난해 3월부터 사티에서 재배한 한국 쌀 소나무의 지역 적응 시험 결과와 식품 평가 결과를 바탕으로 하라레이에서 근무해왔으며, 곡물 옥수수를 주로 재배하는 하라레이 그린팜과 하라레이 회원도 함께 활동하고 있다.\n"
     ]
    },
    {
     "name": "stderr",
     "output_type": "stream",
     "text": [
      "Processing label 0.6:  73%|███████▎  | 5619/7746 [10:51:08<4:17:42,  7.27s/it]"
     ]
    },
    {
     "name": "stdout",
     "output_type": "stream",
     "text": [
      "\n",
      "[Progress 50350]:\n",
      "Original: 코로나 타격이달 들어 수출액이 지난해 같은 기간 보다 20. 넘게 줄면서 수출 감소세가 다시 두 자릿 수 대로 떨어졌습니다. 월말까지 같은 추세라면 수출이 다시 꺾일 가능성이 크다는 분석이 나옵니다. 상반기 나라살림 적자 110. 우리나라의 재정 건전성 지표중 하나인 관리재정 수지가 올 상반기 110조 5천억 원으로 통계 작성 이후 최대치를 기록했습니다. \n",
      "KO->EN: The deficit in the first half of this year was 110 trillion won, which is one of Korea's financial soundness indicators, with exports rising more than 20 trillion won in the first half of this year, a\n",
      "EN->KO: 올해 상반기 적자 규모는 110조원으로 국내 재무건전성 지표 중 하나인 가운데 수출이 올해 상반기에 20조원 이상 증가한 가운데 지난해보다 세금도 덜 징수하고 자동차도 적자 폭이 더 작아 적자폭이 다시 줄어들 가능성이 높다.\n"
     ]
    },
    {
     "name": "stderr",
     "output_type": "stream",
     "text": [
      "Processing label 0.6:  73%|███████▎  | 5646/7746 [10:55:03<5:00:58,  8.60s/it]"
     ]
    },
    {
     "name": "stdout",
     "output_type": "stream",
     "text": [
      "\n",
      "[Progress 51000]:\n",
      "Original: 외신들은 지금처럼 애플이 완성차 업체에 . 을 바란다면 선택지가 별로 없다는 분석을 내놓고 있다. CNN비즈니스는 최근 테슬라에서 포드. 혼다에 이르기까지 많은 회사들이 후보군에 거론되지만 실질적으로 애플이 가진 선택지는 많지 않다고 전했다. 애플이 소프트웨어와 하드웨어 주도권을 다 쥐길 바라는 상황에서 자동차 제조사들로선 애플과 협력한다고 해도 별다른 이\n",
      "KO->EN: The company said in an interview with the German daily, \"The company is not afraid of Apple, but it is not a possible place for the company to make a partnership with the company, which is a company t\n",
      "EN->KO: 회사 측은 독일 일간지와의 인터뷰에서 “기업은 애플을 두려워하지 않지만, 애플이 있는 사업에 있는 기업, 회사가 있는 사업과 있는 기업이 제휴할 수 있는 곳은 아니다”라고 밝혔다.\n"
     ]
    },
    {
     "name": "stderr",
     "output_type": "stream",
     "text": [
      "Processing label 0.6:  74%|███████▎  | 5712/7746 [11:04:02<4:12:33,  7.45s/it]"
     ]
    },
    {
     "name": "stdout",
     "output_type": "stream",
     "text": [
      "\n",
      "[Progress 52500]:\n",
      "Original: 대기자가 너무 많아 지금 계약한다고 해도 1년 이상을 기다려야 한다는 이유에서다. 가격이 그랜저보다 저렴한 점도 자주 언급된다. 격이자 기아의 대표 프리미엄급 세단인 . 이 7세대 신형 그랜저 공식 출시 이후 뜻밖의 주목을 받고 있다. K8은 기아가 지난해 K7을 업그레이드해 차명을 바꾼 모델이다. 기아는 K7을 그랜저 급으로 포지셔닝하려 했지만 선호도와 \n",
      "KO->EN: The K8 is a new car that is more expensive than the Hyundai Motor's new car, which is a two-year-old model that is more expensive than the Hyundai Motor's new car, with a total price of 198 million wo\n",
      "EN->KO: K8은 현대자동차 신차보다 고가인 2년차 신차로, 2년차 신차보다 고가인 신차로, 2년차 2월 2억2,800만원에서 총 1억8,900만원이 책정됐다.\n"
     ]
    },
    {
     "name": "stderr",
     "output_type": "stream",
     "text": [
      "Processing label 0.6:  75%|███████▍  | 5771/7746 [11:11:24<4:18:37,  7.86s/it]"
     ]
    },
    {
     "name": "stdout",
     "output_type": "stream",
     "text": [
      "\n",
      "[Progress 53500]:\n",
      "Original: 그런데 일부 소비자는 주요 소프트웨어 업데이트에 대한 공지를 받지 못해 엔진 교체 비용 수천달러를 쓰게 됐다며 사연을 전했다. 시카고 교외도시 버뱅크에 사는 주부 신디 웨첼은 2015년식 기아 옵티마. 를 가족차로 소유하고 있다. 그는 지난 1월 엔진이 문제를 보이기 시작했다. 딸이 고속도로에서 시속 105km로 달리던 중 시동이 꺼졌다며 잘못하면 죽을 수\n",
      "KO->EN: The Chicago ABC reported that the company had requested a copy of the software update that was sent to the US Highway Safety Agency in August 2018 and June 2019 because it had not been notified of the\n",
      "EN->KO: 시카고 ABC는 해당 회사가 소프트웨어 업데이트 통보를 받지 못해 2018년 8월과 2019년 6월 미국 고속도로 안전청에 보낸 소프트웨어 업데이트 사본을 요청했으나, 회사 측으로부터 통보받지 못했다고 전하며 소프트웨어 업데이트를 할 수 있었을 것이라고 보도했다.\n"
     ]
    },
    {
     "name": "stderr",
     "output_type": "stream",
     "text": [
      "Processing label 0.6:  75%|███████▍  | 5776/7746 [11:12:00<4:04:33,  7.45s/it]"
     ]
    },
    {
     "name": "stdout",
     "output_type": "stream",
     "text": [
      "\n",
      "[Progress 53650]:\n",
      "Original: 기아는 전기차 경쟁력을 한층 더 강화할 것으로 기대된다. 기아는 28일 서울 중구 커뮤니티하우스 마실에서 . 유니휠 시스템은 양쪽 바퀴 사이 정중앙에 큰 부피를 차지했던 감속기. 드라이브 샤프트와 같은 주요 구동 부품을 바퀴 내부로 옮긴 것이 특징이다. 모터도 크기를 줄이고 두 개로 나눠 양쪽 바퀴 바로 옆에 붙였다. 이처럼 구동 부품이 합쳐지면 바퀴 사이\n",
      "KO->EN: The U-wheel system is expected to further strengthen the competitiveness of electric vehicles by replacing the engine and the motor with the main gear, and the motor is also used as a wheel, and the m\n",
      "EN->KO: U휠 시스템은 엔진과 모터를 주 기어로 교체해 전기차의 경쟁력을 더욱 강화할 것으로 예상되며 모터도 휠로 사용되며 모터도 휠로 사용되며 모터도 전기 구동방식에 있어 보다 유연하도록 설계됐다.\n"
     ]
    },
    {
     "name": "stderr",
     "output_type": "stream",
     "text": [
      "Processing label 0.6:  76%|███████▌  | 5851/7746 [11:22:09<4:06:00,  7.79s/it]"
     ]
    },
    {
     "name": "stdout",
     "output_type": "stream",
     "text": [
      "\n",
      "[Progress 54800]:\n",
      "Original: 어린이들이 발로 밀며 타는 . 의 핵심 이동수단으로 주목받으면서 완성차 업체뿐 아니라 공유 모빌리티 업체들의 주목을 받고 있다. 기아차는 27일 차에 싣고 다니며 충전하고 사용할 수 있는 . 타입의 전동 스쿠터를 공개했다. 평소에는 접이식으로 차량 내부에 장착됐다가 운행 과정에서 발생하는 전기를 활용해 충전하고 사용자는 주차 후 꺼내 최종 목적지까지 간편하\n",
      "KO->EN: The last mile Delivery is a solution that can be used by cars and vehicles as a single-person vehicle, and it is a solution that can be used to charge and use electric vehicles, and it is a simple way\n",
      "EN->KO: 마지막마일 배송은 1인 차량으로 자동차와 차량이 이용할 수 있는 솔루션으로 전기차 충전과 사용에 사용할 수 있는 솔루션으로, 차량에 휠을 접어 차량에 싣고 이동하는 간단한 방법이다.\n"
     ]
    },
    {
     "name": "stderr",
     "output_type": "stream",
     "text": [
      "Processing label 0.6:  76%|███████▌  | 5874/7746 [11:24:56<3:42:31,  7.13s/it]"
     ]
    },
    {
     "name": "stdout",
     "output_type": "stream",
     "text": [
      "\n",
      "[Progress 55150]:\n",
      "Original: 브랜드 파워와 자금력 등에서 우위를 보이는 현대엔지니어링이 우세하다는 보는 의견도 있다. 업계에 따르면 갈현1구역 주택재개발정비사업조합은 내년 1월 9일 입찰 마감을 일정으로 시공사 선정을 위한 재입찰을 진행 중인 가운데 지난달 13일 현장설명회에 참여했던 GS건설이 사업참여를 포기한 것으로 알려졌다. 갈현 1구역 한 조합원은 . GS건설이 한남3구역과 한\n",
      "KO->EN: In terms of the brand's credibility, Hyundai Engineering & Construction's credit rating is expected to be high, with the company's credit rating being ranked first in the housing development project, \n",
      "EN->KO: 브랜드 신뢰도 측면에서 1차 입찰에서 진행된 주택개발사업에서 1위를 차지하는 등 현대건설의 신용등급이 높을 것으로 예상되며, 재무건전성도 낮아질 것으로 예상된다.\n"
     ]
    },
    {
     "name": "stderr",
     "output_type": "stream",
     "text": [
      "Processing label 0.6:  76%|███████▋  | 5921/7746 [11:30:57<4:00:40,  7.91s/it]"
     ]
    },
    {
     "name": "stdout",
     "output_type": "stream",
     "text": [
      "\n",
      "[Progress 55750]:\n",
      "Original: 28일 현대자동차에 따르면 체코 정부는 24일. 현대차 체코공장 근무를 위한 현대차. 협력업체 인력 786명의 입국을 허용하기로 했다. 체코공장은 유럽의 코로나19 확산이 심각해지면서 지난달 23일 가동을 멈췄다가 이달 14일 조업을 재개했다. 하지만 한국 인력이 없어 연내 출시를 목표로 하고 있는 스포츠유틸리티차량. 투싼의 현지 생산라인 설치 작업에 차질\n",
      "KO->EN: According to Hyundai Motor Co., Ltd. on the 28th, the Czech government has decided to allow 786 workers from Hyundai Motor Co., Ltd. to resume its operation on the 24th, but it is difficult to stabili\n",
      "EN->KO: 28일 현대차에 따르면 체코 정부는 24일 현대자동차 소속 노동자 786명을 가동 재개하기로 했지만, 회사 제조업 기반을 확대하여 부품 생산구조와 생산구조 안정화가 어렵다.\n"
     ]
    },
    {
     "name": "stderr",
     "output_type": "stream",
     "text": [
      "Processing label 0.6:  77%|███████▋  | 5973/7746 [11:37:50<3:38:06,  7.38s/it]"
     ]
    },
    {
     "name": "stdout",
     "output_type": "stream",
     "text": [
      "\n",
      "[Progress 56700]:\n",
      "Original: 새해에도 이 기세는 계속 이어질 것으로 전망됩니다. 백신 효과가 가시화되더라도 구독경제를 비롯한 언택트 트렌드는 쇼핑을 넘어 결제. 금융 등 전 분야로 확대돼 기업의 새로운 수익 모델 각축장이 될 것으로 보입니다. 콘퍼런스를 통해 구독과 언택트 비즈니스에 관한 개념 정립은 물론 분야별 실제 비즈니스 사례를 바탕으로 기업 성공 전략과 노하우를 공유하고자 합니\n",
      "KO->EN: The trend is expected to continue in the new year, and even if the vaccine effect is visible, the subscription-type online video service called Korean Netflix, Hyundai Motor, a paid subscription-based\n",
      "EN->KO: 새해에도 이 같은 추세가 이어질 것으로 예상되며 백신 효과가 가시화되더라도 국내 넷플릭스라는 구독형 온라인 동영상 서비스, 유료 구독 플랫폼 기업 현대자동차, Wila, 구독형 구독 서비스를 성공적으로 안착시킨 한국기아자동차 등이 함께 함께 참여할 수 있다.\n"
     ]
    },
    {
     "name": "stderr",
     "output_type": "stream",
     "text": [
      "Processing label 0.6:  77%|███████▋  | 5987/7746 [11:39:34<3:34:40,  7.32s/it]"
     ]
    },
    {
     "name": "stdout",
     "output_type": "stream",
     "text": [
      "\n",
      "[Progress 56900]:\n",
      "Original: 대체부품은 완성차에 장착된 부품을 대체할 수 있는 부품이다. 상품은 자동차 제작사의 주문으로 생산한 부품으로. 통상 순정부품으로 불린다. 대체부품은 OEM부품과 비교해 인장강도 등 10개 평가 항목에서 모두 동등하거나 더 높은 성능을 보였다. 가격도 OEM은 9만6690원인 반면 인증 대체부품은 5만7140원으로 약 41. 다만 비인증 수입 부품은 전단강도\n",
      "KO->EN: The alternative parts are parts produced by automobile manufacturers, and are usually called complete parts. The price of the alternative parts is 72 won for OEM parts and 13 won for OEM parts, wherea\n",
      "EN->KO: 대체부품은 자동차 제조사에서 생산하는 부품으로 보통 완전부품이라고 하는데 대체부품 가격은 OEM 부품 72원, OEM 부품 13원인데 반해 비인증 수입부품은 인증기준이 미달하고, 대체부품은 약 41원이다.\n"
     ]
    },
    {
     "name": "stderr",
     "output_type": "stream",
     "text": [
      "Processing label 0.6:  78%|███████▊  | 6029/7746 [11:44:49<4:06:53,  8.63s/it]"
     ]
    },
    {
     "name": "stdout",
     "output_type": "stream",
     "text": [
      "\n",
      "[Progress 57650]:\n",
      "Original: 떨어진 시내 중심의 쾨니히광장. IAA 모빌리티 2021. 관람객을 실어나르는 이 셔틀버스의 특징은 전기를 동력으로 한다는 점과 친환경자동차 전용도로를 오간다는 사실이다. 독일 최초의 전기차 전용차로예정된 시간이 되자 버스가 움직였다. 메르세데스벤츠가 생산한 전기버스는 내연기관 대신 배터리로 움직이는 덕에 소음과 진동이 거의 없었다. 너무 조용해서 출발한 \n",
      "KO->EN: The city's main parking lot, the German Automobile Association, said that the vehicle was designed to be the first autonomous vehicle in Germany, and the car was connected to the electric vehicle, whi\n",
      "EN->KO: 시 메인주차장인 독일자동차협회는 이번 차량이 독일에서 최초로 자율주행 차량을 설계하고 전기차가 운전하는 전기차와 연결하고, 자동차가 도로 한가운데에 세워졌다고 밝혔다.\n"
     ]
    },
    {
     "name": "stderr",
     "output_type": "stream",
     "text": [
      "Processing label 0.6:  80%|███████▉  | 6160/7746 [12:02:37<3:44:14,  8.48s/it]"
     ]
    },
    {
     "name": "stdout",
     "output_type": "stream",
     "text": [
      "\n",
      "[Progress 59600]:\n",
      "Original: 올해는 음악은 물론 스타트업 주도 신기술과 신제품 등 창의적이고 새로운 아이디어를 선보이는 행사로 거듭났다. 는 매년 3월 미국 텍사스주 오스틴에서 개최되며 올해는 이달 10일부터 19일. SXSW 이노베이션 어워즈. 는 매년 행사 기간 중 미디어. AI 등 14개 부문에서 가장 흥미로운 기술을 개발한 프로젝트를 선정해 시상하고 있다. 이번에 파이널 리스트\n",
      "KO->EN: This year, the SXSW Innovation Awards will be held in Austin, Texas, every year, and will be held every year to showcase innovative and new ideas such as new technologies and new products by members o\n",
      "EN->KO: 올해는 SXSW 혁신대상이 매년 텍사스주 오스틴에서 개최되며 환경 등 각계각층의 구성원들이 신기술, 신제품 등 혁신적·신 아이디어를 선보이는 행사로 매년 개최되며, 오는 10일부터 10일까지 오스틴 컨벤션센터에서 시상한다.\n"
     ]
    },
    {
     "name": "stderr",
     "output_type": "stream",
     "text": [
      "Processing label 0.6:  80%|███████▉  | 6163/7746 [12:03:01<3:35:05,  8.15s/it]"
     ]
    },
    {
     "name": "stdout",
     "output_type": "stream",
     "text": [
      "\n",
      "[Progress 59650]:\n",
      "Original: 현대차 탐방도 더불어민주당 이재명 대표가 24일 오전 울산시당에서 열린 현장 최고위원회에서 발언하고 있다. 연합뉴스 24일 이재명 당 대표를 비롯해 박찬대. 서영교 최고위원 등 더불어민주당 지도부가 울산을 방문해 민생탐방을 하고 4. 5 남구의원 보궐선거에 출마한 최덕종 후보를 지원하는 등의 일정을 소화했다. 이재명 대표는 오전 10시 더불어민주당 울산시당\n",
      "KO->EN: Lee Jae-myung, the representative of the Democratic Party of Korea, visited the Ulsan plant at 10:30 a.m. on the 24th, and said that the party's leader Lee Jae-myung, the representative of the Democra\n",
      "EN->KO: 이재명 더불어민주당 대표가 24일 오전 10시30분 울산공장을 방문해 이재명 민주당 대표와 최재종 더불어민주당 대표가 함께 울산공장에 방문했다고 밝혔다.\n"
     ]
    },
    {
     "name": "stderr",
     "output_type": "stream",
     "text": [
      "Processing label 0.6:  80%|███████▉  | 6194/7746 [12:07:02<3:21:20,  7.78s/it]"
     ]
    },
    {
     "name": "stdout",
     "output_type": "stream",
     "text": [
      "\n",
      "[Progress 60100]:\n",
      "Original: 하지만 업계는 SM그룹의 자금동원력과 투자 여력을 고려할 때 인수 가능성엔 회의적인 반응이다. 이런 가운데 현대차그룹도 후보군으로 떠오르고 있다. 현대차그룹이 현대글로비스의 HMM 인수를 통해 지배구조 개선에 나설 수 있다는 논리다. 하지만 현대차그룹은 여전히 표면적으로 관심을 드러내지 않고 있는 상황이다. 24일 업계에 따르면. KDB산업은행과 한국해양진\n",
      "KO->EN: The industry is skeptical about the possibility of Hyundai Motor Group's acquisition, which is the first to be held by Hyundai Motor Group, as it is the only group that has a stake in Hyundai Motor Gr\n",
      "EN->KO: 업계에서는 현대차그룹 지분이 유일한 그룹인 만큼 현대차그룹이 가장 먼저 보유한 현대차그룹의 인수 가능성에 회의적인 반응을 보이고 있으며, 지분 전환으로 인수가 가능할 것이라는 전망이 나온다.\n"
     ]
    },
    {
     "name": "stderr",
     "output_type": "stream",
     "text": [
      "Processing label 0.6:  80%|████████  | 6205/7746 [12:08:31<3:38:35,  8.51s/it]"
     ]
    },
    {
     "name": "stdout",
     "output_type": "stream",
     "text": [
      "\n",
      "[Progress 60250]:\n",
      "Original: 기업데이터연구소 CEO스코어가 2023년 지정 대기업집단 81개 가운데 비교 가능한 56개 집단을 대상으로 총수 일가 주식자산 승계 현황을 조사한 결과 이 같은 결과가 나왔다고 8월 30일 밝혔다. 지난 7월 말 현재 총수 일가 주식자산 중 자녀 세대의 자산 비중이 50. 이상인 대기업집단은 총 22개로 집계됐다. 이는 약 10년 전인 2013년 말. 에 \n",
      "KO->EN: As of the end of July, the share of the family's stock assets was 58 percent of the company's shares, and the share of the family's stock assets was increased by more than 50 percent from the end of 2\n",
      "EN->KO: 7월말 기준 가족주식자산 비중은 회사 주식의 58%로, 이재용 회장이 회사 주식 지분을 기부한 2013년 말보다 가족주식자산 비중이 50% 이상 증가했다.\n"
     ]
    },
    {
     "name": "stderr",
     "output_type": "stream",
     "text": [
      "Processing label 0.6:  80%|████████  | 6218/7746 [12:10:13<3:22:18,  7.94s/it]"
     ]
    },
    {
     "name": "stdout",
     "output_type": "stream",
     "text": [
      "\n",
      "[Progress 60400]:\n",
      "Original: 25일 업계에 따르면 최근 현대자동차그룹이 인도에서 대규모 투자 계획을 내놓은 데 이어 테슬라도 현지 시장 공략에 나섰다. 구체적으로 테슬라는 인도에 전력 저장장치인 . 생산 공장 설립을 추진하고 있다. 파워월은 태양광 등으로 만들어진 잉여 전력을 저장했다가 활용하는 장치다. 가정이나 사무실 차고 등에 설치할 수 있다. 전기차 충전 인프라가 미흡한 인도에서\n",
      "KO->EN: In the same vein, Hyundai Motor Group recently announced that it will be expanding its production capacity in India by building a power plant in India, which is designed for the production of electric\n",
      "EN->KO: 현대차그룹도 최근 전기차 생산을 위한 인도 원전 건립을 통해 인도 생산 역량을 확대하고 있으며, 전기차 생산을 위한 인도 원전 건설과 인도 원전 건설도 검토하고 있다.\n"
     ]
    },
    {
     "name": "stderr",
     "output_type": "stream",
     "text": [
      "Processing label 0.6:  81%|████████  | 6244/7746 [12:13:47<3:01:21,  7.24s/it]"
     ]
    },
    {
     "name": "stdout",
     "output_type": "stream",
     "text": [
      "\n",
      "[Progress 61000]:\n",
      "Original: 서버수요 회복에 주가 추가 영향 제한적SK하이닉스가 협력사에 대한 1조2200억원 규모의 상생협력 계획을 밝히면서 주가 반등을 꾀할수 있을지 관심을 끈다. 이데일리 국내 대표 반도체 생산업체인 가 경기도 용인 반도체 클러스터 부지에 지원할 협력사에 대한 상생협력 계획을 밝히면서 주가 반등을 시도할 수 있을지 관심을 끈다. 회사는 지난 28일 상생펀드 조성에\n",
      "KO->EN: According to the financial information company, KOSDAQ Korea's stock price is expected to rebound in the second half of the year as it announced a plan to make a win-win cooperation with its partners,\n",
      "EN->KO: 금융정보업체에 따르면 코스닥은 올해 하반기 가격·가격·수익 측면에서 2,238조원 이상 될 것으로 예상되는 협력사와의 상생협력 방안을 발표하면서 주가가 반등할 것으로 전망된다.\n"
     ]
    },
    {
     "name": "stderr",
     "output_type": "stream",
     "text": [
      "Processing label 0.6:  81%|████████  | 6275/7746 [12:17:39<3:00:01,  7.34s/it]"
     ]
    },
    {
     "name": "stdout",
     "output_type": "stream",
     "text": [
      "\n",
      "[Progress 61350]:\n",
      "Original: 최근 반도체 산업은 제조. 개발의 미세 공정 난이도 증가 등으로 처리해야 하는 데이터의 양이 기하급수적으로 늘고 있다. 딥러닝으로 최적의 해법을 찾아야 한다는 요구가 뒤따른다. 차세대 IT를 적용해 생산성을 높이기 위해서는 . 측면의 변화도 필요하다. 빅데이터 시대에 맞는 기반 기술이 구축돼야 한다. 기존 시스템만으로는 대규모의 데이터를 처리하고 가공하는 \n",
      "KO->EN: The ERP conversion is the first of its kind in the global semiconductor industry to be integrated into a new system, and the ERP conversion has been successfully opened in February 24, and the process\n",
      "EN->KO: ERP 전환은 글로벌 반도체 업계 최초로 새로운 시스템으로 통합되는 것으로 지난 2월 24일 ERP 전환이 성공적으로 개통됐으며, 시스템 통합으로 ERP의 처리와 처리 과정이 빠르게 변화해 차세대 반도체로 발돋움하고 있다.\n"
     ]
    },
    {
     "name": "stderr",
     "output_type": "stream",
     "text": [
      "Processing label 0.6:  82%|████████▏ | 6327/7746 [12:24:34<2:53:35,  7.34s/it]"
     ]
    },
    {
     "name": "stdout",
     "output_type": "stream",
     "text": [
      "\n",
      "[Progress 62300]:\n",
      "Original: 이에 따라 SK하이닉스에서 독거노인 등에 보급하는 . 스피커에 소방안전교육 콘텐츠 및 안전 트로트 노래 등을 탑재하고. 119안심콜서비스를 연계 지원한다. SK하이닉스는 현재 독거노인 등 취약계층 2100가구에 실버프랜드를 제공하고 있으며 올해 900세대를 추가할 예정이다. 119안심콜서비스는 119안전신고센터에 전화번호. 보호자 연락처 등 신상정보를 등록\n",
      "KO->EN: Accordingly, SK Hynix will provide silver-fland to 2100 vulnerable households, including the elderly living alone, and will provide video videos for fire safety education and support the production of\n",
      "EN->KO: 이에 SK하이닉스는 독거노인 등 취약계층 2100 가구에 실버푸르트를 제공하고 소방안전교육 영상영상을 제공하고 노인안전콘텐츠 제작을 지원하고, 독거노인 등 노인을 위한 다양한 안전정책을 지속적으로 지속적으로 제공할 예정이다.\n"
     ]
    },
    {
     "name": "stderr",
     "output_type": "stream",
     "text": [
      "Processing label 0.6:  82%|████████▏ | 6382/7746 [12:31:47<2:57:03,  7.79s/it]"
     ]
    },
    {
     "name": "stdout",
     "output_type": "stream",
     "text": [
      "\n",
      "[Progress 63300]:\n",
      "Original: 마스터 데이터란 기업의 여러 부서가 같은 의미와 내용으로 사용하는 데이터를 의미한다. SK하이닉스의 경우 제품 코드. 자재 코드 등이 여기에 해당하며. 각각의 코드가 가지고 있는 속성 정보도 이에 포함된다. SK하이닉스는 지난 2007년부터 제품. 자재 등 9개 분야 기초 데이터를 . Master Data. 이를 관리하는 자체 시스템을 구축. 지난 2017\n",
      "KO->EN: In order to achieve this goal, the company has established a standard system for the equipment and materials in September 2017 to define the characteristics of the equipment and materials in the same \n",
      "EN->KO: 이러한 목표를 달성하기 위해 2017년 9월 장비 및 자재 표준체계를 구축하여 같은 의미의 장비 및 자재의 특성을 정의하고 시스템을 효율화하고, 올해 9월에는 장비 및 자재 표준체계와 그 목적 등을 수립하였다.\n"
     ]
    },
    {
     "name": "stderr",
     "output_type": "stream",
     "text": [
      "Processing label 0.6:  82%|████████▏ | 6387/7746 [12:32:24<2:49:06,  7.47s/it]"
     ]
    },
    {
     "name": "stdout",
     "output_type": "stream",
     "text": [
      "\n",
      "[Progress 63400]:\n",
      "Original: AI는 기업 가치 혁신의 도구. 최 회장의 적극적인 AI 행보 속에 SK하이닉스는 지난해 미국 캘리포니아 실리콘밸리 일대에 . 전문 기업을 설립하기도 했다. 최 회장은 디지털 혁신을 위해 공식. 비공식적으로 국내외 석학. 경영인 등과 소통하는 경영인으로 꼽힌다. 4대 그룹 총수 중 . 인 최 회장은 소통 속에서 . 등 비전을 제시해 왔다. 신종 코로나바이러\n",
      "KO->EN: In August last year, the Internet Forum, which is called the Internet Forum, was also held online, where Chairman Choi made an idea to produce a video of the company's future, and the company's public\n",
      "EN->KO: 지난해 8월에는 인터넷포럼으로 불리는 인터넷포럼도 온라인으로 개최됐는데, 최 회장이 회사의 미래 영상을 제작하자는 아이디어를 냈고, 회사 연구소와 회사 홍보, 기업 홍보, 기업 홍보 등이 이뤄졌다.\n"
     ]
    },
    {
     "name": "stderr",
     "output_type": "stream",
     "text": [
      "Processing label 0.6:  83%|████████▎ | 6437/7746 [12:38:35<2:57:14,  8.12s/it]"
     ]
    },
    {
     "name": "stdout",
     "output_type": "stream",
     "text": [
      "\n",
      "[Progress 64200]:\n",
      "Original: 신성장원천기술 이외의 별도 트랙을 만들어 연구개발. 과 시설투자에 대한 세액공제를 확대하고. 벤처기업 등 1000개 혁신기업 선정을 모두 완료하고 각 정책금융기관을 통한 금융지원에 나선다. 홍남기 경제부총리 겸 기획재정부 장관은 6일 경기 판교 시스템반도체 설계지원센터에서 제9차 혁신성장 BIG3 추진회의를 열고 우리 반도체 산업은 메모리 반도체 초격차 유\n",
      "KO->EN: The meeting also held a meeting on the 9th of the New Growth and Growth BIG3, and said that the semiconductor industry needs to be fully integrated in terms of financial and regulatory barriers and th\n",
      "EN->KO: 이번 회의는 지난 9일 ‘신성장성장BIG3’ 간담회도 열고 반도체 산업의 금융·규제 장벽과 반도체 투자 관련 핵심 기술 개발 측면에서 반도체 산업이 완전히 통합될 필요가 있다고 밝혔다.\n"
     ]
    },
    {
     "name": "stderr",
     "output_type": "stream",
     "text": [
      "Processing label 0.6:  84%|████████▍ | 6501/7746 [12:47:03<2:32:03,  7.33s/it]"
     ]
    },
    {
     "name": "stdout",
     "output_type": "stream",
     "text": [
      "\n",
      "[Progress 65400]:\n",
      "Original: 이 중 스타트업을 운영하는 고 대표를 뺀 나머지 3인방은 SK그룹에 몸담으며 기업 현장을 경험한 학자라는 공통점이 있다. 이 교수는 2012년부터 6년간 SK하이닉스 사외이사를 지냈고. 왕 교수는 2012년 SK중국경제연구소장을 맡았다. 유 전 그룹장도 2018년 SK텔레콤 오픈콜라보센터장을 시작으로 현재까지 SK텔레콤 고문을 맡고 있는 . 재계에서는 민간\n",
      "KO->EN: In a recent interview with the 매일경제 News, Professor Lee, who has been in charge of the global supply chain, has been in charge of the industry's top-ranked technology, and he said that he would consid\n",
      "EN->KO: 글로벌 공급망을 담당해온 이 교수는 최근 매일경제와의 인터뷰에서 업계 1위 기술을 담당해왔으며 재고를 줄이고, 재고비용을 늘려 기업의 경쟁력을 높이는 방안을 검토하겠다고 밝혔다.\n"
     ]
    },
    {
     "name": "stderr",
     "output_type": "stream",
     "text": [
      "Processing label 0.6:  84%|████████▍ | 6519/7746 [12:49:22<2:39:30,  7.80s/it]"
     ]
    },
    {
     "name": "stdout",
     "output_type": "stream",
     "text": [
      "\n",
      "[Progress 65750]:\n",
      "Original: 다만 우려스러운 건 두산이 반도체 사업을 해본 경험이 없다는 점입니다. 두산테스나의 경쟁력은 시스템반도체인데. 이 분야에서 경쟁은 점차 치열해지고 있습니다. 두산이 과연 중장기적으로 이어질 OSAT 경쟁에서 이길 수 있을까요. 두산이 반도체 후공정 기업 테스나. 를 인수한 데는 명확한 목적이 보입니다. 지난 2년간의 구조조정 과정에서 두산은 . 인프라코어와\n",
      "KO->EN: The main purpose of Doosan's acquisition of Doosan's semiconductor business is that it is a company that has been in the process of manufacturing semiconductor products, and the company has been in th\n",
      "EN->KO: 두산이 두산 반도체 사업을 인수한 주된 목적은 반도체 제품 제조 과정에 있는 회사이며, 반도체 제품 제조 과정에 있고, 반도체 제조 과정에 있는 회사라는 점이다.\n"
     ]
    },
    {
     "name": "stderr",
     "output_type": "stream",
     "text": [
      "Processing label 0.6:  85%|████████▍ | 6555/7746 [12:53:52<2:32:19,  7.67s/it]"
     ]
    },
    {
     "name": "stdout",
     "output_type": "stream",
     "text": [
      "\n",
      "[Progress 66300]:\n",
      "Original: 이종호 과학기술정보통신부 장관은 지난 22일 서울 상공회의소에서 기자와 만나. 반도체 강국이 되기 위한 조건을 묻는 말에 이렇게 답했다. 최근 이 장관은 윤석열 대통령과 장관들이 참석한 국무회의와 국민의힘 의원들을 대상으로 . 실무 등 만성적 인력난에 시달리고 있다. 반도체 분야 인력의 숫자 증가도 중요하지만 . 지난 문재인 정부가 . 반도체 인력 3만60\n",
      "KO->EN: In fact, Minister Lee met with a reporter at the Seoul Chamber of Commerce and Industry on the 22nd, and he said that the government has been in charge of developing the technology that is the standar\n",
      "EN->KO: 실제로 이 장관은 22일 대한상공회의소에서 기자를 만나 반도체 산업 표준기술인 기술을 정부가, 해당 기술 개발을 회사가 담당해 왔다고 밝혔다.\n"
     ]
    },
    {
     "name": "stderr",
     "output_type": "stream",
     "text": [
      "Processing label 0.6:  86%|████████▌ | 6633/7746 [13:04:15<2:26:09,  7.88s/it]"
     ]
    },
    {
     "name": "stdout",
     "output_type": "stream",
     "text": [
      "\n",
      "[Progress 67450]:\n",
      "Original: 문제는 이 같은 대규모 투자 행진이 사상 유례없는 . 으로 연결될 수 있다는 점이다. 기업이나 지역별로 공정은 다르겠지만 이르면 3년 뒤부터 주요 반도체 공장에서 제품이 본격적으로 쏟아지기 시작하면 삼성과 SK하이닉스 등 우리나라 대표 반도체 기업들이 천문학적 보조금을 등에 업은 해외 반도체 기업들과 운명을 건 생존 경쟁을 펼쳐야 한다는 의미다. 실제 서울\n",
      "KO->EN: The problem is that the recent surge in semiconductor prices is not a big deal, but it is a result of the fact that the supply of semiconductors has been prolonged since the 2010s, and the number of s\n",
      "EN->KO: 문제는 최근 반도체 가격 급등이 큰딜은 아니지만 2010년대 이후 반도체 공급이 장기화되고 삼성전자와 SK하이닉스 등 반도체 기업이 늘어난 탓이다.\n"
     ]
    },
    {
     "name": "stderr",
     "output_type": "stream",
     "text": [
      "Processing label 0.6:  86%|████████▋ | 6692/7746 [13:11:54<2:15:01,  7.69s/it]"
     ]
    },
    {
     "name": "stdout",
     "output_type": "stream",
     "text": [
      "\n",
      "[Progress 68550]:\n",
      "Original: 회사는 3분기 공사 지연을 예상했음에도 제대로 준비하지 못한 점을 실패 요인으로 꼽으며 연말부터는 예정된 프로젝트가 점차 가동되며 수익성이 개선될 것으로 내다봤다. IR 자료에는 전까지 포함되지 않았던 국내외 고객사별 수주와 공사 현황이 들어갔다. 갑작스러운 분기 적자로 주주의 실망감이 큰 상황에서 수주받은 프로젝트가 취소된 것은 아니며. 안정적인 수주가 \n",
      "KO->EN: In the third quarter of this year, Samsung Electronics' P4 and SK Hynix's P3 were expected to be in a deficit due to the delay in the construction of the company's company's business, but the company'\n",
      "EN->KO: 올해 3분기 삼성전자 P4와 SK하이닉스 P3는 회사 사업 공사 지연으로 적자가 예상됐지만, 실적도 195억원 감소하며 적자를 기록했다.\n"
     ]
    },
    {
     "name": "stderr",
     "output_type": "stream",
     "text": [
      "Processing label 0.6:  86%|████████▋ | 6694/7746 [13:12:09<2:13:29,  7.61s/it]"
     ]
    },
    {
     "name": "stdout",
     "output_type": "stream",
     "text": [
      "\n",
      "[Progress 68600]:\n",
      "Original: 대내외 불확실성에 핵심사업 부진. 위기감 반영 앞서 SK는 지난해 BBC를 중심으로 한 핵심 사업 분야에 2026년까지 247조원을 투자하고. 이를 키워나갈 인재 5만명을 국내에서 채용하겠다는 공격적인 계획을 발표했다. 그러나 투자 규모가 가장 큰 반도체 분야는 SK하이닉스의 적자 폭이 줄고는 있으나 정보기술. 전방 수요 위축 영향이 워낙 큰 탓에 올해 3\n",
      "KO->EN: In the recent management meeting of SK Group, Chairman Choi Dae-sik, the second-generation chairman of SK Electronics, and Vice Chairman of SK Biotech, who stepped down from the second-term, said, \"It\n",
      "EN->KO: 최근 SK그룹 사장단 회의에서 최태원 SK전자 2세대 회장, 2기에서 물러난 SK바이오텍 부회장은 \"새로운 수준으로 회사가 바뀌어야 하는 것은 당연하고, 새로운 기업화도 이뤄져야 한다\"고 말했다.\n"
     ]
    },
    {
     "name": "stderr",
     "output_type": "stream",
     "text": [
      "Processing label 0.6:  87%|████████▋ | 6710/7746 [13:14:10<2:06:03,  7.30s/it]"
     ]
    },
    {
     "name": "stdout",
     "output_type": "stream",
     "text": [
      "\n",
      "[Progress 68750]:\n",
      "Original: 사실상 연봉이 깎인 기분이다. 매년 연말연초 삼성전자. 직원들은 기대감에 부푼다. 많게는 수천 만 원에 달하는 목돈이 한 번에 통장에 꽂히는 . 잔치가 벌어지기 때문이다. 이 시기만 되면 수입차 딜러들이 삼성맨들의 두꺼워진 지갑을 좇아 회사 근처를 맴돈다는 우스갯소리도 있을 정도다. 그러나 올해는 분위기가 확연히 다르다. 그간 삼성전자 매출과 영업이익의 상\n",
      "KO->EN: The TAI is the first time that the company has been paying a total of 3 times a year, with the company's semiconductor business division paying up to 50.2 trillion won in annual salary, and the compan\n",
      "EN->KO: TAI는 회사 반도체사업부가 최대 50조2천억원, 반도체사업부가 최대 3조75천억원을 지급하는 등 연간 총 3차례 지급하는 것이 처음이다.\n"
     ]
    },
    {
     "name": "stderr",
     "output_type": "stream",
     "text": [
      "Processing label 0.6:  87%|████████▋ | 6715/7746 [13:14:47<2:07:28,  7.42s/it]"
     ]
    },
    {
     "name": "stdout",
     "output_type": "stream",
     "text": [
      "\n",
      "[Progress 68800]:\n",
      "Original: 일반 청약에서 공모주 미달 사태가 발생하면서다. 약 3년 만에 나타난 공모주 미달 사태는 당시 시장에 적잖은 충격을 안겨줬다. 하지만 상장 이후 주가는 인공지능. 관련 메모리 반도체 수요 회복 기대감 속 예상치 못한 반전을 맞았다. 이래 이 회사 주가는 67. 26일 한국거래소에 따르면 티이엠씨의 전일 종가는 4만6650원이었다. 올해 고점은 6만1800원\n",
      "KO->EN: The stock price of TIM was 1,080 won in the first half of the year, and the stock price was reduced by 1,080 won in the first half of the year due to the slowdown in the stock market, and the company'\n",
      "EN->KO: TIM의 주가는 상반기 1,080원이었고, 상반기 증시 둔화로 1,080원 주가가 감소했으며, 회사 주가는 상반기 1,083원, 상반기 1,083원 하락하였다.\n"
     ]
    },
    {
     "name": "stderr",
     "output_type": "stream",
     "text": [
      "Processing label 0.6:  87%|████████▋ | 6744/7746 [13:18:25<2:09:17,  7.74s/it]"
     ]
    },
    {
     "name": "stdout",
     "output_type": "stream",
     "text": [
      "\n",
      "[Progress 69400]:\n",
      "Original: 전년 매출 97억원의 25. 에 이를 정도로 큰 금액이었다. 투자는 매출 성장으로 돌아왔다. 2016년 112억원의 매출을 올려 2008년 창업한 뒤 8년 만에 100억원대 매출을 기록했다. 보명전자는 원단 구매부터 제판. 포장까지 인쇄공정 원스톱 시스템을 구축했다고 26일 발표했다. 주력 제품은 가전 내외장 디스플레이 덮개다. 시트 형태의 필름에 실크스크\n",
      "KO->EN: The company has been expanding its sales since last year, with sales of KRW 1.12 billion in the first half of the year, which is the only printing technology that is developed by the company, and the \n",
      "EN->KO: 회사 자체 개발한 유일한 인쇄기술인 상반기 매출 12억1000만원, 평소 냉장고 내부로 부착하는 하부 외관 부품이 대부분인 등 지난해부터 매출확대를 이어가고 있다.\n"
     ]
    },
    {
     "name": "stderr",
     "output_type": "stream",
     "text": [
      "Processing label 0.6:  88%|████████▊ | 6791/7746 [13:24:35<2:13:57,  8.42s/it]"
     ]
    },
    {
     "name": "stdout",
     "output_type": "stream",
     "text": [
      "\n",
      "[Progress 70700]:\n",
      "Original: 7일 삼성전자에 따르면 JBL은 지난 1946년 설립돼 올해 설립 75주년을 맞이했다. JBL의 설립 계기를 알아보려면 설립연도인 1946년보다 앞선 1927년까지 거슬러 올라가야 한다. 1927년 세계 최초로 개봉된 유성영화 재즈싱어. The Jazz Singer. 의 소리를 더 좋은 사운드로 관객들에게 전하기 위한 영화관의 니즈가 있었다. JBL의 창업\n",
      "KO->EN: In recognition of its technology, JBL has received the Oscar Science and Technology Award from the American Academy of Film and Arts in 2002, and the JBL's audio system has been able to deliver the so\n",
      "EN->KO: JBL은 기술력을 인정받아 2002년 미국 영화예술아카데미에서 오스카 과학기술상을 수상했으며, JBL의 오디오 시스템은 세계 최초로 1분기 관객들에게 음향을 전달할 수 있게 됐다.\n"
     ]
    },
    {
     "name": "stderr",
     "output_type": "stream",
     "text": [
      "Processing label 0.6:  88%|████████▊ | 6812/7746 [13:27:23<1:59:04,  7.65s/it]"
     ]
    },
    {
     "name": "stdout",
     "output_type": "stream",
     "text": [
      "\n",
      "[Progress 71200]:\n",
      "Original: 올해 상장사 이익이 늘면서 배당을 확대할 것이라는 기대감과 함께 은행. 건설 등 대표적인 배당주의 주가가 여전히 저평가됐다고 보는 시각도 있다. 여기에 미국 테이퍼링. 미국 금리 인상 가능성이 부각되면서 최근 국내 증시 변동성이 커진 상황이다. 이런 때일수록 꾸준한 배당수익을 받으면서도 안정적인 주가 흐름을 기대할 수 있는 배당주 투자가 적합할 수 있다. \n",
      "KO->EN: According to Hana Financial Investment, the dividend dividend index of Samsung Securities has been raised by 21 percent in the past year, while the dividend dividend rate of Samsung Securities and Sam\n",
      "EN->KO: 하나금융투자에 따르면 삼성증권의 배당배당지수는 최근 주가 상승과 비교해 최근 1년 동안 22% 인상된 반면 삼성증권과 삼성증권의 배당배당률은 21.3% 인상됐다.\n"
     ]
    },
    {
     "name": "stderr",
     "output_type": "stream",
     "text": [
      "Processing label 0.6:  88%|████████▊ | 6838/7746 [13:30:43<2:10:00,  8.59s/it]"
     ]
    },
    {
     "name": "stdout",
     "output_type": "stream",
     "text": [
      "\n",
      "[Progress 72050]:\n",
      "Original: 코로나19 이후 재택. 원격근무가 활성화되면서 해커의 표적도 개인이 소유한 단말기. 로 확장되고 있는 것이다. 이처럼 회사 밖에서 직원이 사용하는 기기까지 보안 개념을 확장하는 이른바 . 이 최근 대두되고 있다. 보안 생태계 가장 끝단에 있는 직원이 사용하는 기기까지 보안 영역으로 끌어들인 셈이다. 19일 하나금융투자와 세계적인 시장조사기관 가트너 보고서에\n",
      "KO->EN: The current situation of endpoint hacking is being detected by the company, which has been using the Internet of Internet of Internet of Internet of Internet of Internet of Internet of Internet of Int\n",
      "EN->KO: 인터넷 인터넷 인터넷 인터넷 인터넷 인터넷 인터넷 인터넷 인터넷 인터넷 인터넷 인터넷 인터넷 인터넷 인터넷 인터넷 인터넷 인터넷 인터넷 인터넷 인터넷 인터넷 인터넷 인터넷 인터넷 인터넷 인터넷 인터넷 인터넷 인터넷 인터넷 인터넷 인터넷 인터넷 인터넷 인터넷 인터넷 인터넷 인터넷 인터넷 인터넷 인터넷 인터넷 인터넷 인터넷 인터넷 인터넷 인터넷 인터넷 인터넷 \n"
     ]
    },
    {
     "name": "stderr",
     "output_type": "stream",
     "text": [
      "Processing label 0.6:  89%|████████▉ | 6886/7746 [13:36:38<1:42:36,  7.16s/it]"
     ]
    },
    {
     "name": "stdout",
     "output_type": "stream",
     "text": [
      "\n",
      "[Progress 73400]:\n",
      "Original: 국회 정무위원회 김선동 국회의원. 은 국회입법조사처가 제출한 . 미 바이오젠의 미국 회계 및 공시의무 위반 여부 관련 조사. 에 따르면 증선위의 삼성바이오로직스 분식회계 결정이 국제회계기준. 은 물론 미국회계기준. 해석과도 상충되는 것이라고 2일 밝혔다. 회계부정에 엄격한 미국이 문제가 없다고 보고 있다는 점에서 증선위 처분에 대한 삼성바이오로직스의 처분 \n",
      "KO->EN: According to the National Assembly's Legislative Committee, Kim Sun-dong, a member of the National Assembly's Policy Committee, said that the US accounting standards are not strictly applicable to the\n",
      "EN->KO: 국회 정무위원회에 따르면 김선동 국회 정무위원회 의원은 미국 회계기준이 미국 회계기준에 엄격하게 적용되지 않아 단순히 미국 회계기준에 적용하지 않고 삼성바이오로직스의 공동지배구조를 인정하기 어렵다고 밝혔다.\n"
     ]
    },
    {
     "name": "stderr",
     "output_type": "stream",
     "text": [
      "Processing label 0.6:  89%|████████▉ | 6896/7746 [13:37:52<1:55:55,  8.18s/it]"
     ]
    },
    {
     "name": "stdout",
     "output_type": "stream",
     "text": [
      "\n",
      "[Progress 73600]:\n",
      "Original: 우리나라는 이미 메모리반도체 부문에서는 글로벌 시장에서 선도적 지위를 차지하고 있다. 문 대통령은 이 자리에서 2030년까지 시스템반도체 파운드리 분야 세계 1위. 펩리스 분야 시장점유율 10. 를 달성해 종합반도체 강국으로 도약하겠다며 시스템반도체 분야에 대한 도전이 성공한다면. 우리는 명실상부한 종합반도체 강국으로 자리매김할 것이라고 강조했다. 이날 청\n",
      "KO->EN: According to the Blue House, President Moon visited Samsung's site in March 2004, and visited Samsung's mobile phone factory in Vietnam in March 2004, and the construction ceremony of Samsung Electron\n",
      "EN->KO: 청와대에 따르면 문 대통령은 2004년 3월 삼성 현장을 방문했고, 2004년 3월 베트남 삼성 휴대폰 공장, 2014년 9월 카자흐스탄 삼성전자 반도체 공장 기공식을 방문했으며, 2014년 9월에는 삼성 삼성 삼성전자 반도체 공장 현장도 방문했다.\n"
     ]
    },
    {
     "name": "stderr",
     "output_type": "stream",
     "text": [
      "Processing label 0.6:  89%|████████▉ | 6922/7746 [13:41:15<1:44:20,  7.60s/it]"
     ]
    },
    {
     "name": "stdout",
     "output_type": "stream",
     "text": [
      "\n",
      "[Progress 73900]:\n",
      "Original: 보도자료를 발송한 주체도 삼성바이오로직스가 아니라 이재용 부회장이 현재 적을 두고 있는 삼성전자다. 커뮤니케이션팀 명의 보도자료에서 삼성전자는 . 아직 진실 규명의 초기 단계임에도 불구하고 유죄라는 단정이 확산하고 있다. 이로 인해 관련 임직원과 회사는 물론 투자자와 고객들도 돌이킬 수 없는 큰 피해를 보고 있다. 김태한 삼성바이오 대표 구속여부. 이르면 \n",
      "KO->EN: The Seoul Central District Prosecutors' Office's Special Investigation Division, which sent a press release on the 24th, also filed an arrest warrant for Samsung BioLogics CEO Kim, vice president of S\n",
      "EN->KO: 24일 보도자료를 보낸 서울중앙지검 특별수사부도 삼성바이오 삼성바이오 대표이사 김모 사장과 삼성전자 부사장, 현재 전자계열사 간 업무조정 업무를 담당하는 박 부사장에 대해 구속영장을 청구했다.\n"
     ]
    },
    {
     "name": "stderr",
     "output_type": "stream",
     "text": [
      "Processing label 0.6:  90%|█████████ | 6978/7746 [13:48:10<1:34:37,  7.39s/it]"
     ]
    },
    {
     "name": "stdout",
     "output_type": "stream",
     "text": [
      "\n",
      "[Progress 75200]:\n",
      "Original: 일각에선 올해 최고 공모주라는 평가도 나온다. 2016년 삼성바이오로직스. 2017년 셀트리온헬스케어의 성공에 따른 학습 효과도 SK바이오팜의 기대감을 높이는 요인이다. 국내외 기관과 개인 투자자 사이에서 공모주 물량 확보 경쟁이 치열할 것으로 예상된다. 12일 관련업계에 따르면 SK바이오팜은 지난 10일부터 해외 기관투자자 대상 수요예측에 돌입한 데 이어\n",
      "KO->EN: The study of Samsung Biopharm is also expected to increase the investment appetite as it is the only bio company that has been in the process of developing new drugs and selling them in the U.S., and \n",
      "EN->KO: 삼성바이오로직스의 연구 역시 국내 바이오기업 중 유일하게 신약을 개발해 미국에서 판매하는 과정을 밟고 있고, 미국에 판매하는 과정을 거쳐온 데다, 국내 제약사가 국내 제약사 중 유일하게 국내 제약사가 아닌 국내 제약사로 투자의욕을 높일 것으로 기대된다.\n"
     ]
    },
    {
     "name": "stderr",
     "output_type": "stream",
     "text": [
      "Processing label 0.6:  92%|█████████▏| 7099/7746 [14:03:00<1:13:34,  6.82s/it]"
     ]
    },
    {
     "name": "stdout",
     "output_type": "stream",
     "text": [
      "\n",
      "[Progress 77000]:\n",
      "Original: 4일 한국거래소에 따르면 3일 기준 셀트리온의 공매도 거래대금은 226억원으로 전체 종목 가운데 두번째로 많았다. 삼성바이오로직스로 74억원을 기록하며 상위권에 자리잡았다. 지난달 일평균 거래대금으로 봐도 셀트리온은 181억원. 삼성바이오로직스는 129억원에 달했다. 통상 바이오 종목은 대표적은 성장주로 꼽히며 높은 가격 밸류에이션을 적용받는다. 공매도의 \n",
      "KO->EN: According to the Korea Exchange on the 4th, Samsung BioLogics announced that its sales in the second quarter of this year were 22.6 billion won, which is the second-largest in the market, and that it \n",
      "EN->KO: 4일 한국거래소에 따르면 삼성바이오로직스는 올해 2·4분기 매출액이 226억원으로 시장 2위이며, 올해 상반기 매출 매출 감소가 뚜렷한 것으로 나타나 14억7000만원 이상 매출이 증가할 것으로 예상된다고 밝혔다.\n"
     ]
    },
    {
     "name": "stderr",
     "output_type": "stream",
     "text": [
      "Processing label 0.6:  93%|█████████▎| 7187/7746 [14:14:25<1:16:16,  8.19s/it]"
     ]
    },
    {
     "name": "stdout",
     "output_type": "stream",
     "text": [
      "\n",
      "[Progress 78050]:\n",
      "Original: 특히 바이오시밀러 제품을 출시하기 전이 아닌 이미 제품을 출시한 지 수 년이 지난 후에 소송을 제기하는 경우는 매우 이례적이어서 화이자의 의도에 관심이 쏠린다. 업계에서는 삼성이 삼성바이오로직스. 와 에피스를 합병하면서 덩치를 키워 제약. 바이오 산업 육성에 나서자 글로벌 제약사가 본격적으로 견제하기 시작했다는 분석이 나온다. 15일 업계에 따르면 최근 자\n",
      "KO->EN: In particular, the company has filed a lawsuit against the company in Australia, which is the largest market for biosimilars, which is a patent infringement in the case of Samsung Biologics, which has\n",
      "EN->KO: 특히 국내 국내 최대 규모인 4000만 달러 이상 미국에서 판매 중인 삼성바이오로직스의 경우 특허 침해로 국내 바이오시밀러 시장 최대 규모인 호주에 본사를 상대로 소송을 제기했다.\n"
     ]
    },
    {
     "name": "stderr",
     "output_type": "stream",
     "text": [
      "Processing label 0.6:  93%|█████████▎| 7210/7746 [14:17:19<1:10:47,  7.93s/it]"
     ]
    },
    {
     "name": "stdout",
     "output_type": "stream",
     "text": [
      "\n",
      "[Progress 78300]:\n",
      "Original: 독일 프랑크푸르트에서 개막한 . 2022 국제의약품박람회. 에서 만난 인도 3위 제약사인 . 의 어비 쿠마르 스리바스타바 운영본부장은 . 한국 제약 바이오의 위상. 을 평가해 달라고 하자 이렇게 답했다. 한국 기업들이 바이오시밀러를 잘 만드는 것 같다. 바이오 의약품에 집중한 것도 잘한 선택. 맨카인드는 원료의약품과 완제의약품을 주로 생산하는 기업이다. 그\n",
      "KO->EN: When asked about the status of the Korean pharmaceutical company, Daewoong Pharmaceutical, which has been in the market for the first time in three years since the outbreak of the COVID-19, the compan\n",
      "EN->KO: 코로나19 발생 이후 3년 만에 시장에 진출한 국내 제약사 대웅제약의 현황을 묻는 질문에 세계 최초로 시장에 진출한 데다, 국내 국내 제약사 중 국내 국내 제약사가 국내 국내 제약사 중 최초로 시장에 진출한 기업도 늘고 있다.\n"
     ]
    },
    {
     "name": "stderr",
     "output_type": "stream",
     "text": [
      "Processing label 0.6:  93%|█████████▎| 7221/7746 [14:18:39<1:04:13,  7.34s/it]"
     ]
    },
    {
     "name": "stdout",
     "output_type": "stream",
     "text": [
      "\n",
      "[Progress 78400]:\n",
      "Original: 국가 생명공학 및 바이오 제조 이니셔티브. 행정명령에 서명했다고 밝혔다. 백악관은 헬스케어 산업뿐 아니라 농업과 에너지 등 산업 전반에서 생명공학을 발전시키는 것을 목표로 하며. 새 일자리 창출과 공급망 강화. 가격 인하 효과를 낼 것이라고 설명했다. 미국이 인플레이션 감축법. 등 미국 산업과 일자리를 보호하고 외국 기업을 차별하는 법률 제정에 이어 바이오\n",
      "KO->EN: The U.S. government and the domestic bio industry are also paying keen attention to the announcement that the U.S. government has already acquired a large number of domestic biotechnology companies, i\n",
      "EN->KO: 미국 정부가 이미 미국 바이오·바이오텍 등 국내 바이오 기업을 대거 인수했고, 이번 발표로 국내 바이오업계에도 영향을 미칠 가능성이 커졌다는 소식에 미국 정부와 국내 바이오업계도 촉각을 곤두세우고 있다.\n"
     ]
    },
    {
     "name": "stderr",
     "output_type": "stream",
     "text": [
      "Processing label 0.6:  94%|█████████▍| 7298/7746 [14:30:24<1:25:43, 11.48s/it]"
     ]
    },
    {
     "name": "stdout",
     "output_type": "stream",
     "text": [
      "\n",
      "[Progress 79600]:\n",
      "Original: 농업 등 바이오 산업 전반에 걸쳐 미국 내 생산을 확대하도록 유도해 바이오 제조 기반을 구축하겠단 전략이다. 이를 위해 조 바이든 미국 대통령은 지난 12일. 바이오 제조 이니셔티브. 이어 14일 백악관에서 . 생명공학 및 바이오 제조. 미국의 이 같은 조치가 국내 바이오 업계에 어떤 영향을 미칠지 관심이 쏠린다. 바이오는 우리 정부가 미래성장동력으로 꼽는\n",
      "KO->EN: In order to build a base for bio-making in Korea, the U.S. government's plan to support the development of bio-technology and bio-technology, which is a major industry that requires a large amount of \n",
      "EN->KO: 국내 바이오 제조 거점 구축을 위해 미국 정부의 바이오 기술 개발 지원 방안과 바이오 기술 생산시설 건립에 막대한 비용이 소요되는 주요 산업인 바이오 기술 개발 지원 방안이 함께 추진된다.\n"
     ]
    },
    {
     "name": "stderr",
     "output_type": "stream",
     "text": [
      "Processing label 0.6:  97%|█████████▋| 7512/7746 [15:08:23<26:06,  6.69s/it]"
     ]
    },
    {
     "name": "stdout",
     "output_type": "stream",
     "text": [
      "\n",
      "[Progress 82600]:\n",
      "Original: 원자력 청정수소 비지니스 포럼이 27일 서울 역삼동 노보텔 앰베서더 호텔에서 열렸다. 국회 과학기술정보 방송통신위원회 소속 양정숙 의원. 이 참석자들과 기념촬영을 하고 있다. 포럼에서는 탄소중립 달성을 위한 원자력 청정수소의 역할과 비전. 외 청정수소 생산과 기술개발 동향. 한수원의 청정수소 기술개발 추진계획. 청정수소 경제성과 상용화를 위한 과제. 제도적\n",
      "KO->EN: The Korea Hydrogen and Nuclear Energy Business Forum was held at the Novotel Ambassador Hotel in Yeoksam-dong, Seoul, on the 27th, with the participation of Yang Jeong-sook, a member of the Korea Hydr\n",
      "EN->KO: 한국수소원자력사업포럼은 27일 서울 역삼동 노보텔 앰배서더호텔에서 양정숙 한국수소원자력발전협회 회원이 참여해 원자력발전발전발전을 위한 토론회를 개최했다.\n"
     ]
    },
    {
     "name": "stderr",
     "output_type": "stream",
     "text": [
      "Processing label 0.6:  98%|█████████▊| 7612/7746 [15:20:27<16:24,  7.35s/it]"
     ]
    },
    {
     "name": "stdout",
     "output_type": "stream",
     "text": [
      "\n",
      "[Progress 83950]:\n",
      "Original: 일정부터 증권신고서를 토대로 한 실적. 공모주 투자에 꼭 필요한 정보를 보내드립니다. 편집자주이코노미스트 마켓in 에코프로. 그룹의 2차전지 소재 자회사 에코프로머티리얼즈가 코스피 상장에 도전한다. 이달 중 한국거래소에 상장예비심사 청구서를 제출하고 본격적인 상장 채비에 나설 전망이다. 2차전지 고평가 논란과 사법 리스크가 남아있지만 실적 순항을 발판 삼아\n",
      "KO->EN: The company is expected to submit a preliminary listing of the KOSPI as early as August, with the company's largest shareholder, EcoPro Materials, who is the largest shareholder of EcoPro Materials, a\n",
      "EN->KO: 이 회사는 이르면 8월 중 이바이오프로머티리얼즈 최대주주인 이바이오프로머티리얼즈와 코스피 예비상장 예정사인 이바이오프로머티리얼즈가 함께 코스피 예비상장을 제출할 것으로 보인다.\n"
     ]
    },
    {
     "name": "stderr",
     "output_type": "stream",
     "text": [
      "Processing label 0.6: 100%|█████████▉| 7711/7746 [15:32:49<04:00,  6.88s/it]"
     ]
    },
    {
     "name": "stdout",
     "output_type": "stream",
     "text": [
      "\n",
      "[Progress 85500]:\n",
      "Original: 하지만 미국 정부의 이번 발표 이후 보조금을 받기 위해선 한. 중 합작법인에 대한 중국 업체들의 지분을 매입해야 하는 상황에 놓였다. 시작된다15일 배터리 업계에 따르면 미국 재무부는 최근 해외우려기업. Foreign Entity of Concern. 과 관련한 인플레이션감축법. 세부 규칙을 발표했다. 이번에 발표한 규칙안은 지분율이 25. 를 전기차 보조\n",
      "KO->EN: The U.S. government has recently announced the FEOC, which is a key source of battery products, and it is expected that the U.S. government will be able to reduce the dependence on Chinese batteries b\n",
      "EN->KO: 미국 정부는 최근 배터리 제품의 핵심 원료인 FEOC를 발표했으며, 미국 정부가 총 7조7000억원을 투자해 중국 배터리 의존도를 낮출 수 있을 것으로 기대된다.\n"
     ]
    },
    {
     "name": "stderr",
     "output_type": "stream",
     "text": [
      "Processing label 0.6: 100%|█████████▉| 7727/7746 [15:34:46<02:12,  6.98s/it]"
     ]
    },
    {
     "name": "stdout",
     "output_type": "stream",
     "text": [
      "\n",
      "[Progress 85600]:\n",
      "Original: 김태현 국민연금 이사장은 28일 . 소유분산 기업인 포스코홀딩스 대표 선임은 주주 이익이 극대화될 수 있게 내. 외부인이 공정하게 경쟁할 기회가 부여돼야 한다. 포스코가 현직 회장의 연임 우선 심사제 폐지 등을 내놨지만 . 국민연금 판단은 대체로 타당하다는 점에서. 선임 절차가 전면 수정될 것이란 관측이 나온다. 실제로 현 최정우 CEO 특혜 논란이 거세다\n",
      "KO->EN: In fact, there is a strong controversy over the appointment of CEO Choi Jung-woo, who is the former chairman of the National Pension Service, that the appointment process should be fully revised in th\n",
      "EN->KO: 실제 최정우 전 국민연금 이사장의 임명에 대해 모든 후보자가 공개되고, 1순위 후보가 일반인이 되고, 공모도 전면 개정해야 한다는 논란이 강하게 일고 있다.\n"
     ]
    },
    {
     "name": "stderr",
     "output_type": "stream",
     "text": [
      "Processing label 0.6: 100%|██████████| 7746/7746 [15:37:05<00:00,  7.26s/it]\n",
      "Processing label 0.0:   3%|▎         | 74/2384 [09:21<4:59:12,  7.77s/it]"
     ]
    },
    {
     "name": "stdout",
     "output_type": "stream",
     "text": [
      "\n",
      "[Progress 1050]:\n",
      "Original: 대법원에 1만인 서명 탄원서 제출오마이뉴스 안석태 민주노총 경남본부 수석부본부장은 7월 24일 창원지방법원 앞에서 . 이재용 부회장 재구속 촉구. 윤성효 손정곤 전국사무금융노동조합 울산경남본부 사무국장은 7월 24일 창원지방법원 앞에서 . 이재용 부회장 재구속 촉구. 시민단체들이 이재용 삼성전자 부회장의 재구속을 촉구하고 나섰다. 전국민주노동조합총연맹. 이\n",
      "KO->EN: On the same day, the Korean Confederation of Trade Unions and the Korean Confederation of Trade Unions, the chief vice chairman of the Gyeongnam headquarters, and the chief executive officer of the Ul\n",
      "EN->KO: 이날 민주노총과 민주노총은 경남본부 수석부회장, 울산지역본부 본부장, 민주노총 울산지역본부 본부장, 울산지역본부 본부장 등이 참석했다.\n"
     ]
    },
    {
     "name": "stderr",
     "output_type": "stream",
     "text": [
      "Processing label 0.0:   5%|▌         | 120/2384 [15:21<4:28:52,  7.13s/it]"
     ]
    },
    {
     "name": "stdout",
     "output_type": "stream",
     "text": [
      "\n",
      "[Progress 2200]:\n",
      "Original: 수도권내 코로나19 확진자 폭증으로 무증상 혹은 경증 환자 등의 병원 이송이나 생활치료센터 입소가 지연되며. 불가피하게 가정 내 대기시간이 발생하고 있습니다. 우리시에서는 치료병상 부족에 대비해 생활치료센터 및 치료 병실의 추가 확보 등 다각적인 방안 강구를 위해 부단히 노력해 오고 있습니다. 병상부족 해소를 위해 기업 등 민간 단체에서도 자체 연수원 시설\n",
      "KO->EN: We are constantly working to overcome the crisis by providing a comprehensive treatment center for patients with no symptoms or mild symptoms, and we would like to thank the residents of Wonsam-myeon \n",
      "EN->KO: 무증상 또는 경증환자를 위한 종합치료센터를 제공함으로써 위기를 극복하고자 끊임없이 노력하고 있으며, 병상 부족에 대비해 생활치료센터를 제공하겠다는 원삼면과 남사면 주민들의 의지와 협조에 감사드립니다.\n"
     ]
    },
    {
     "name": "stderr",
     "output_type": "stream",
     "text": [
      "Processing label 0.0:   5%|▌         | 131/2384 [16:47<4:53:31,  7.82s/it]"
     ]
    },
    {
     "name": "stdout",
     "output_type": "stream",
     "text": [
      "\n",
      "[Progress 2600]:\n",
      "Original: 사진공동취재단박 의원은 28일 CBS라디오 . 저는 유족이 불편할 수 있겠다고 생각했다. 박용진이 갖는 이미지가 있어서. 저는 이 부회장을 만난 적 없고. 그 일가도 전혀 모른다. 이재용 일가에 대해 매우 엄격하게 사회적 잣대와 기준을 들이대는 이유는 무슨 감정이 있거나 사적 이익을 추구하는 게 아니기 때문. 삼성이 잘 되기를 바라고 한국 경제가 잘 되기를\n",
      "KO->EN: As soon as he entered the 20th National Assembly, Park raised the issue of the former chairman Lee Kun-hee's borrowed-name account and led the issue of the security of Samsung BioLogics' family, and h\n",
      "EN->KO: 박 의원은 20대 국회에 진입하자마자 이건희 전 회장의 차명계좌 문제를 제기하며 삼성바이오로직스 일가의 보안 문제를 주도했고, “여기 와서 ‘이거 안 안 될 것 같다’고 해서 너무 감사하다”고 말했다.\n"
     ]
    },
    {
     "name": "stderr",
     "output_type": "stream",
     "text": [
      "Processing label 0.0:   7%|▋         | 161/2384 [20:34<4:39:29,  7.54s/it]"
     ]
    },
    {
     "name": "stdout",
     "output_type": "stream",
     "text": [
      "\n",
      "[Progress 3350]:\n",
      "Original: 구설 반복되다보니 지난 사건 회자된 듯 앵커 이슈 완전 정복. 오늘은 양지열 변호사와 함께 이야기 나눠보겠습니다. 양지열법무법인 에이블 변호사 안녕하세요. 앵커 총장 추천위원회 방금 이야기들으니까 약간 결과가 나왔나요. 양지열법무법인 에이블 변호사 지금 다 결과가 나왔는지까지는 확인을 못했는데 관심을 받고 있었던 이성윤 서울중앙지검장 같은 경우에는최종 후보\n",
      "KO->EN: In the case of Yang Ji-yeol, a lawyer of ABLE, who was the most likely candidate for the prosecution, the fact that he was not the most likely candidate for the prosecution's reform, and the fact that\n",
      "EN->KO: 검찰 유력후보였던 양지열 ABLE 변호사의 경우 검찰 개혁 유력후보가 아니라는 점과 최종 후보인 것이 아니라는 점, 검찰 개혁 유력후보가 아니라는 점 등이 논란이 됐다.\n"
     ]
    },
    {
     "name": "stderr",
     "output_type": "stream",
     "text": [
      "Processing label 0.0:   7%|▋         | 167/2384 [21:21<4:57:50,  8.06s/it]"
     ]
    },
    {
     "name": "stdout",
     "output_type": "stream",
     "text": [
      "\n",
      "[Progress 3550]:\n",
      "Original: 오규석 기장군수는 13일 대통령에게 보낸 호소문에서 . 국민들도 공감하는 분이 많다. 고 하셨는데 시급하고 절박한 나머지 지금 당장 대통령님의 결단을 촉구하는 예의 없는 5번째 호소문을 올리게 됐다고 말했습니다. 산업단지 조성 기장군대기업 유치 절실오규석 기장군수가 눈물의 호소를 이어가는 이유는 무엇일까요. 를 조성하고 있는데요. 이곳은 원자력 비발전 분야\n",
      "KO->EN: In a appeal to the president on the 13th, Mayor Oh Kyu-seok said, \"We are pushing for the establishment of a new industrial development project, which will lead the development of nuclear power, and t\n",
      "EN->KO: 오규석 시장은 13일 대통령에게 호소하는 글에서 “원자력발전을 주도할 신산업개발사업 수립을 추진하고 있고, 정부가 삼성 등 대기업들의 공격적인 지역투자 추진도 추진하고 있지만, 우리 정부는 어려운 상황”이라고 말했다.\n"
     ]
    },
    {
     "name": "stderr",
     "output_type": "stream",
     "text": [
      "Processing label 0.0:   7%|▋         | 175/2384 [22:21<4:38:05,  7.55s/it]"
     ]
    },
    {
     "name": "stdout",
     "output_type": "stream",
     "text": [
      "\n",
      "[Progress 3750]:\n",
      "Original: 외국인과 기관이 동반 매도에 나서면서 코스피 지수가 하루 만에 내렸다. 마켓포인트에 따르면 이날 코스피 지수는 전 거래일 대비 10. 28에 거래를 마쳤다. 이날 코스피는 3174. 상승 출발했으나 곧바로 하락 전환했다. 이날 유가증권시장에서 개인이 8577억원어치를 사들인 반면 외국인과 기관은 동반 . 외국인과 기관은 각각 6552억원어치. 2007억원어\n",
      "KO->EN: According to Market Point, the KOSPI index started at 1,374, but the stock price fell sharply, while the stock price of Korea Sequencing and Chemical sold more than 5.42 trillion won, while the stock \n",
      "EN->KO: 마켓포인트에 따르면 코스피 지수는 1,374로 출발했으나 주가가 크게 하락한 반면 한국세퀀싱화학 주가가 5.42조원 이상 매도한 반면 한국 증시 주가는 크게 하락했고, 한국 증시 주가도 하락하였다.\n"
     ]
    },
    {
     "name": "stderr",
     "output_type": "stream",
     "text": [
      "Processing label 0.0:   9%|▉         | 213/2384 [27:21<5:43:00,  9.48s/it]"
     ]
    },
    {
     "name": "stdout",
     "output_type": "stream",
     "text": [
      "\n",
      "[Progress 4500]:\n",
      "Original: 전 미동초등학교 교사. 시청자미디어재단 이사. 일산백병원 장례식장 3호실. 발인 5일 오전 8시. 前현대엘리베이터 사장. 신혜진씨 조모상 3일 새벽. 일산백병원장례식장 특7호실. 발인 5일 오전 7시 장지 동화경모공원\n",
      "KO->EN: Former Mdong Elementary School teacher, director of the Viewer Media Foundation, Ilsan Paik Hospital Funeral Room 3:8:00 a.m. on the 5th, former Hyundai Elevator President Shin Hye-jin's funeral cerem\n",
      "EN->KO: 5일 오전 3시 8분 일산백병원 장례식장에 마련된 동초등 교사인 민우미디어재단 이사, 3일 오전 7시 신혜진 전 현대엘리베이터 사장의 장례식장, 3일 오전 7시 2분 서울 종로구 종로구 종로구 종로구 종로구 종로구 종로구 종로구 종로구 종로구 종로구 종로구 종로구 종로구 종로구 종로구 종로구 종로구 종로구 종로구 종로구 종로구 종로구 종로구 종로구 종로구 \n"
     ]
    },
    {
     "name": "stderr",
     "output_type": "stream",
     "text": [
      "Processing label 0.0:  12%|█▏        | 294/2384 [38:22<4:34:42,  7.89s/it]"
     ]
    },
    {
     "name": "stdout",
     "output_type": "stream",
     "text": [
      "\n",
      "[Progress 6400]:\n",
      "Original: 이는 지난해 6월부터 시작된 시운전 과정에서 기계적 결함 등 여러 문제가 발생했기 때문으로 보인다. 이에 따라 시운전 완료 후 마지막 단계인 신뢰도 운전시험은 4월초에 들어간다. 2호기는 시간당 104만. 50여만 가구가 동시에 전기를 사용할 수 있는 규모다. 지난해 10월말 상업운전을 개시한 1호기도 시간당 104만. 1호기에 이어 2호기까지 상업운전에 \n",
      "KO->EN: As a result, the second reactor, which started commercial operation at the end of October last year, will be operated in early April, with a total of 2.26 million units per hour, with 1 million househ\n",
      "EN->KO: 이에 따라 지난해 10월말 상용운행을 시작한 제2호기는 4월 초 총 226만대의 운행으로 100만 가구가 동시에 전기를 사용할 수 있으며 강릉이파워가 이 발전소의 운영주체로 참여하고 있다.\n"
     ]
    },
    {
     "name": "stderr",
     "output_type": "stream",
     "text": [
      "Processing label 0.0:  13%|█▎        | 304/2384 [39:42<4:51:56,  8.42s/it]"
     ]
    },
    {
     "name": "stdout",
     "output_type": "stream",
     "text": [
      "\n",
      "[Progress 6550]:\n",
      "Original: 그래도 춥고 배고픈 건 견딜 수 있다. 맥락 없이 터져 나오는 선임의 폭력. 얼차려에 비하면 말이다. 20여 년 전 군 복무 시절 내무반에는 . 라고 생각하는 선임들이 넘쳐났다. 전시에 원활한 지휘 통솔을 위해 만든 계급이 후임에게 물리적. 정신적 폭력을 행사하는 수단으로 변질된 것이다. 이런 부조리한 현실을 맞닥뜨릴 때 선택의 기로에 선다. 내가 선임이 \n",
      "KO->EN: In a report on the financial institution's business, President Yoon's remarks are interpreted as a sign that the national pension fund should be able to exercise its voting rights in the past, and whe\n",
      "EN->KO: 윤 행장의 발언은 금융기관 업무보고서에서 과거 국민연금이 의결권을 행사할 수 있어야 하고, 정부가 개편되면 정부의 힘이 문제가 아니라 정부의 힘이라는 신호로 해석된다.\n"
     ]
    },
    {
     "name": "stderr",
     "output_type": "stream",
     "text": [
      "Processing label 0.0:  14%|█▍        | 328/2384 [42:57<4:37:37,  8.10s/it]"
     ]
    },
    {
     "name": "stdout",
     "output_type": "stream",
     "text": [
      "\n",
      "[Progress 7050]:\n",
      "Original: 네옴 사무국은 26일부터 8월3일까지 디디피내 아트홀 2관에서 일반인을 대상으로 한 특별 전시관을 운영하며 한국 기업을 대상으로 한 투자 상담에도 나선다. 원희룡 국토부 장관은 이날 개막식 환영사에서 . 아시아의 첫 네옴 로드쇼가 서울에서 열리게 된 것은 각별한 의미가 있다. 라드미 알 네옴 시이오. 가 네옴의 각분야 책임자들과 함께 한국을 방문한데 대해 \n",
      "KO->EN: The first road show in Asia, which started in London last year, is a project to build a two-meter-long wall building that is 44 times larger than the area of Seoul, and a high-end resort with a golf c\n",
      "EN->KO: 지난해 런던에서 시작된 아시아 첫 로드쇼는 서울 면적의 44배 규모인 2m 길이의 벽빌딩과 골프장과 요트 정박지가 있는 고급 리조트를 조성하는 사업으로, 1차 프로젝트는 서울 시내에서 서울 시내로 이어지는 코스 코스와 리조트를 조성하는 사업이다.\n"
     ]
    },
    {
     "name": "stderr",
     "output_type": "stream",
     "text": [
      "Processing label 0.0:  15%|█▌        | 360/2384 [47:18<4:19:45,  7.70s/it]"
     ]
    },
    {
     "name": "stdout",
     "output_type": "stream",
     "text": [
      "\n",
      "[Progress 7700]:\n",
      "Original: 한동훈 장관이 지난 19일 국회 법제사법위원회 전체회의에 출석하면서 쏟아냈던 발언들이 발목을 잡는 모양새다. 자신의 거취를 묻는 김영배 민주당 의원의 질문에 혼자 궁금해 하시면 될 것 같다고 했고. 논란에 대한 입장을 묻자 . 이걸 물어보면 왜 내가 곤란할 거라 생각하는지 모르겠다. 민주당이야말로 이재명 대표 옹호에 바쁘니 나도 그럴 것이라고 생각한 건가라\n",
      "KO->EN: The Hankyoreh said that the official's remarks, which were made by the Democratic Party of Korea, were not the position of the chairman of the National Assembly, and that it is not necessary to make s\n",
      "EN->KO: 한겨레는 민주당이 한 이 공무원의 발언은 국회 의장의 입장이 아니며, 당의 주말이 되는 이 공무원의 발언이 정당한 정당한 정당한 발언이 아니라는 점을 확실히 할 필요가 없다고 밝혔다.\n"
     ]
    },
    {
     "name": "stderr",
     "output_type": "stream",
     "text": [
      "Processing label 0.0:  16%|█▌        | 384/2384 [50:19<4:01:13,  7.24s/it]"
     ]
    },
    {
     "name": "stdout",
     "output_type": "stream",
     "text": [
      "\n",
      "[Progress 8750]:\n",
      "Original: BLK 평택 물류센터는 국내 최대 항구 중 하나인 평택항에 자리 잡고 있는 최신식 물류 시설이다. 업계에 따르면 페블스톤자산운용이 조성한 . 페블스톤전문투자형사모부동산투자신탁제12호. 원금상환 후순위인 2종 에쿼티는 GP. 인 페블스톤자산운용이 10억원을 투자했다. 이 부동산펀드는 BLK 평택 물류센터를 KKR 컨소시엄 등으로부터 1977억원에 매입했다. \n",
      "KO->EN: The BLK Pyeongtaek Distribution Center is a unique facility located in Pyeongtaek Port, one of the largest ports in Korea, with a total floor area of 12,3058 and a second-class storage center, and a d\n",
      "EN->KO: BLK 평택유통센터는 국내 최대 항만 중 하나인 평택항에 위치한 독특한 시설로 연면적 1만3058m2, 2급 보관센터, 보증금 1,8057원, 1급 물류센터, 1급 물류센터 등이 있다.\n"
     ]
    },
    {
     "name": "stderr",
     "output_type": "stream",
     "text": [
      "Processing label 0.0:  19%|█▉        | 461/2384 [1:00:50<4:24:30,  8.25s/it]"
     ]
    },
    {
     "name": "stdout",
     "output_type": "stream",
     "text": [
      "\n",
      "[Progress 14050]:\n",
      "Original: 이전에는 보유 목적이 . 경영권 영향 목적 없음. 두 가지뿐이었는데 그 중간 단계로 . 경영권 영향 목적 없는 일반투자. 단순투자는 주총 안건에 대해 의결권만 행사하는 데 비해 일반투자는 배당 및 보편적 지배구조 개선 관련 주주 활동을 할 수 있다. 정관 변경이나 위법행위 임원에 대한 해임 청구 등이 여기에 들어간다. 단순투자에서 일반투자로 바뀐 기업은 국\n",
      "KO->EN: In the past, there were only two major investments that the National Pension Service should take as general investment, while only the small-scale investment was classified as general investment, whil\n",
      "EN->KO: 과거에는 국민연금이 일반투자로 가져가야 할 주요 투자는 두 개에 불과했고, 소규모 투자만 일반투자로 분류됐고 일반투자는 일반투자로 보지 않고 일반투자는 일반투자로 보지 않고 있어 일반투자가 쉽지 않다.\n"
     ]
    },
    {
     "name": "stderr",
     "output_type": "stream",
     "text": [
      "Processing label 0.0:  20%|██        | 482/2384 [1:03:35<3:39:33,  6.93s/it]"
     ]
    },
    {
     "name": "stdout",
     "output_type": "stream",
     "text": [
      "\n",
      "[Progress 15100]:\n",
      "Original: 31일 한국거래소에 따르면 올해 코스피 시총 톱 10은 삼성전자. 이들 시총 상위주들의 시총 합계는 923조5971억원에 달했다. 이는 10년 전에 비해 500조원 이상 불어난 수치다. 삼성전자가 부동의 1위를 유지하고 있는 가운데 10년간 2. 10위의 순위는 모두 바뀌었다. 10년 전 코스피 시총 톱10은 삼성전자. 이들 시총 합계는 396조6229억원\n",
      "KO->EN: According to the Korea Exchange on the 31st, Samsung Electronics ranked the top 10 in the KOSPI market, and Samsung Electronics ranked eighth in the market, while Samsung Electronics ranked second in \n",
      "EN->KO: 31일 한국거래소에 따르면 코스피 시장 10위 안에는 삼성전자가 8위, 삼성전자는 2위, 삼성전자는 6위, 삼성전자는 같은 기간 9위를 기록했다.\n"
     ]
    },
    {
     "name": "stderr",
     "output_type": "stream",
     "text": [
      "Processing label 0.0:  22%|██▏       | 529/2384 [1:09:31<3:37:16,  7.03s/it]"
     ]
    },
    {
     "name": "stdout",
     "output_type": "stream",
     "text": [
      "\n",
      "[Progress 19000]:\n",
      "Original: 청와대가 어떤 입장을 밝혔습니까. 기자청와대가 일본이 화이트리스트 배제를 강행하자 유감의 뜻을 밝혔습니다. 김현종 청와대 국가안보실 2차장은 지소미아 종료에 대한 일본의 주장도 정면으로 반박했습니다. 김현종 청와대 국가안보실 2차장 . 부로 우리를 백색국가에서 제외하는 조치를 시행했습니다. 정부는 일본의 이번 조치에 강한 유감을 표합니다. 당초 안보 문제와\n",
      "KO->EN: The Blue House has also expressed regret over Japan's push to exclude Korea from the white list, and the Blue House's second deputy chief of the National Security Office, Yoo Jae-hide, said that the J\n",
      "EN->KO: 청와대는 일본의 화이트리스트 배제 추진에 대해서도 유감을 표명했고, 유재히드 청와대 국가안보실 2차장도 일본 정부가 ‘국가적 지위를 제고하려는 의도’라며 새로운 메시지를 내놨다고 밝혔다.\n"
     ]
    },
    {
     "name": "stderr",
     "output_type": "stream",
     "text": [
      "Processing label 0.0:  23%|██▎       | 557/2384 [1:13:22<4:01:22,  7.93s/it]"
     ]
    },
    {
     "name": "stdout",
     "output_type": "stream",
     "text": [
      "\n",
      "[Progress 22150]:\n",
      "Original: 16일 공시된 각사 반기보고서에 따르면 조수용 전 공동대표는 올 상반기 급여 3억8500만원. 퇴직소득 7억700만원 등을 포함해 21억9800만원의 보수를 수령했다. 여기에 주식매수선택권. 행사이익 337억5000만원을 더하면 보수총액은 361억4700만원에 달한다. 같은 기간 여민수 전 공동대표는 급여 2억5600만원. 퇴직소득 2억3300만원 등을 비\n",
      "KO->EN: In addition, Chairman Cho Yong-soo of the Group received a total of KRW 2.87 billion in compensation from the affiliates, including KRW 2.65 billion in salary from Hyundai Motor and KRW 2.37 billion i\n",
      "EN->KO: 또 조성수 그룹 회장은 현대자동차로부터 연봉 265억원, 퇴직소득 273억원 등 계열사로부터 총 27억8000만원의 보상금을 받았고, 최광수 회장도 퇴직금 2억7000만원을 받았다.\n"
     ]
    },
    {
     "name": "stderr",
     "output_type": "stream",
     "text": [
      "Processing label 0.0:  25%|██▌       | 598/2384 [1:17:33<3:34:25,  7.20s/it]"
     ]
    },
    {
     "name": "stdout",
     "output_type": "stream",
     "text": [
      "\n",
      "[Progress 28200]:\n",
      "Original: 택시노동자들은 카카오가 가맹택시에 콜을 몰아주고 있다는 의혹을 제기했고. 공정거래위원회와 서울시에서 조사 중이다. 이에 대응해 카카오가 자체 위원회를 구성 검증에 나선 것이다. 위원회가 설명하는 알고리즘은 손님에게 가까운 택시노동자를 먼저 찾아낸 다음. 콜 수락률이 높은 택시노동자에게 배차하는 방식으로 작동한다. 목적지 정보 표시 없이 자동 배차되는 가맹 \n",
      "KO->EN: In response, the algorithm is not only a difference between the taxi operators and the non-competitive taxi operators, but it is also a problem that the algorithm is not a difference in the number of \n",
      "EN->KO: 이에 대해 알고리즘은 택시 사업자와 비경쟁택시 사업자의 차이일 뿐 아니라, 알고리즘이 수수료 신청으로 취업할 수 있는 인원의 차이가 아니라는 점도 문제이고, 알고리즘이 수수료에 대한 차별이라는 점도 문제이다.\n"
     ]
    },
    {
     "name": "stderr",
     "output_type": "stream",
     "text": [
      "Processing label 0.0:  25%|██▌       | 607/2384 [1:18:47<3:50:40,  7.79s/it]\n"
     ]
    },
    {
     "ename": "ValueError",
     "evalue": "text input must be of type `str` (single example), `List[str]` (batch or single pretokenized example) or `List[List[str]]` (batch of pretokenized examples).",
     "output_type": "error",
     "traceback": [
      "\u001b[0;31m---------------------------------------------------------------------------\u001b[0m",
      "\u001b[0;31mValueError\u001b[0m                                Traceback (most recent call last)",
      "\u001b[0;32m<ipython-input-18-a61e60b7dd02>\u001b[0m in \u001b[0;36m<cell line: 2>\u001b[0;34m()\u001b[0m\n\u001b[1;32m      1\u001b[0m \u001b[0;31m# 언밸런스 해소: 라벨 스무딩을 적용한 증강 수행\u001b[0m\u001b[0;34m\u001b[0m\u001b[0;34m\u001b[0m\u001b[0m\n\u001b[0;32m----> 2\u001b[0;31m \u001b[0mbalanced_df\u001b[0m \u001b[0;34m=\u001b[0m \u001b[0maugment_with_label_smoothing\u001b[0m\u001b[0;34m(\u001b[0m\u001b[0mdf\u001b[0m\u001b[0;34m,\u001b[0m \u001b[0;34m'evaluation_6'\u001b[0m\u001b[0;34m,\u001b[0m \u001b[0mmax_samples\u001b[0m\u001b[0;34m=\u001b[0m\u001b[0;36m10000\u001b[0m\u001b[0;34m,\u001b[0m \u001b[0msmoothing_factor\u001b[0m\u001b[0;34m=\u001b[0m\u001b[0;36m0.05\u001b[0m\u001b[0;34m)\u001b[0m\u001b[0;34m\u001b[0m\u001b[0;34m\u001b[0m\u001b[0m\n\u001b[0m\u001b[1;32m      3\u001b[0m \u001b[0;34m\u001b[0m\u001b[0m\n\u001b[1;32m      4\u001b[0m \u001b[0;31m# 결과 저장\u001b[0m\u001b[0;34m\u001b[0m\u001b[0;34m\u001b[0m\u001b[0m\n\u001b[1;32m      5\u001b[0m \u001b[0moutput_file\u001b[0m \u001b[0;34m=\u001b[0m \u001b[0;34m'/content/drive/MyDrive/Kwargs/021. 기업적합도 필터/업데이트/A1_remaster_combined_ANONYMIZED_balanced.csv'\u001b[0m\u001b[0;34m\u001b[0m\u001b[0;34m\u001b[0m\u001b[0m\n",
      "\u001b[0;32m<ipython-input-17-3fa1c40c3856>\u001b[0m in \u001b[0;36maugment_with_label_smoothing\u001b[0;34m(df, label_column, max_samples, smoothing_factor)\u001b[0m\n\u001b[1;32m     68\u001b[0m             \u001b[0;32mfor\u001b[0m \u001b[0midx\u001b[0m\u001b[0;34m,\u001b[0m \u001b[0mrow\u001b[0m \u001b[0;32min\u001b[0m \u001b[0mtqdm\u001b[0m\u001b[0;34m(\u001b[0m\u001b[0msubset\u001b[0m\u001b[0;34m.\u001b[0m\u001b[0miterrows\u001b[0m\u001b[0;34m(\u001b[0m\u001b[0;34m)\u001b[0m\u001b[0;34m,\u001b[0m \u001b[0mtotal\u001b[0m\u001b[0;34m=\u001b[0m\u001b[0mlen\u001b[0m\u001b[0;34m(\u001b[0m\u001b[0msubset\u001b[0m\u001b[0;34m)\u001b[0m\u001b[0;34m,\u001b[0m \u001b[0mdesc\u001b[0m\u001b[0;34m=\u001b[0m\u001b[0;34mf\"Processing label {label}\"\u001b[0m\u001b[0;34m)\u001b[0m\u001b[0;34m:\u001b[0m\u001b[0;34m\u001b[0m\u001b[0;34m\u001b[0m\u001b[0m\n\u001b[1;32m     69\u001b[0m                 \u001b[0moriginal_text\u001b[0m \u001b[0;34m=\u001b[0m \u001b[0mrow\u001b[0m\u001b[0;34m[\u001b[0m\u001b[0;34m'content'\u001b[0m\u001b[0;34m]\u001b[0m\u001b[0;34m\u001b[0m\u001b[0;34m\u001b[0m\u001b[0m\n\u001b[0;32m---> 70\u001b[0;31m                 \u001b[0maugmented_text\u001b[0m \u001b[0;34m=\u001b[0m \u001b[0mback_translate\u001b[0m\u001b[0;34m(\u001b[0m\u001b[0moriginal_text\u001b[0m\u001b[0;34m,\u001b[0m \u001b[0midx\u001b[0m\u001b[0;34m)\u001b[0m  \u001b[0;31m# 다단계 역번역을 통한 증강\u001b[0m\u001b[0;34m\u001b[0m\u001b[0;34m\u001b[0m\u001b[0m\n\u001b[0m\u001b[1;32m     71\u001b[0m                 \u001b[0maugmented_row\u001b[0m \u001b[0;34m=\u001b[0m \u001b[0mrow\u001b[0m\u001b[0;34m.\u001b[0m\u001b[0mcopy\u001b[0m\u001b[0;34m(\u001b[0m\u001b[0;34m)\u001b[0m\u001b[0;34m\u001b[0m\u001b[0;34m\u001b[0m\u001b[0m\n\u001b[1;32m     72\u001b[0m                 \u001b[0maugmented_row\u001b[0m\u001b[0;34m[\u001b[0m\u001b[0;34m'content'\u001b[0m\u001b[0;34m]\u001b[0m \u001b[0;34m=\u001b[0m \u001b[0maugmented_text\u001b[0m\u001b[0;34m\u001b[0m\u001b[0;34m\u001b[0m\u001b[0m\n",
      "\u001b[0;32m<ipython-input-17-3fa1c40c3856>\u001b[0m in \u001b[0;36mback_translate\u001b[0;34m(text, idx)\u001b[0m\n\u001b[1;32m     27\u001b[0m \u001b[0;31m# 역번역 함수 (한국어 → 영어 → 한국어)\u001b[0m\u001b[0;34m\u001b[0m\u001b[0;34m\u001b[0m\u001b[0m\n\u001b[1;32m     28\u001b[0m \u001b[0;32mdef\u001b[0m \u001b[0mback_translate\u001b[0m\u001b[0;34m(\u001b[0m\u001b[0mtext\u001b[0m\u001b[0;34m,\u001b[0m \u001b[0midx\u001b[0m\u001b[0;34m)\u001b[0m\u001b[0;34m:\u001b[0m\u001b[0;34m\u001b[0m\u001b[0;34m\u001b[0m\u001b[0m\n\u001b[0;32m---> 29\u001b[0;31m     \u001b[0men_text\u001b[0m \u001b[0;34m=\u001b[0m \u001b[0mtranslate_ko_to_en\u001b[0m\u001b[0;34m(\u001b[0m\u001b[0mtext\u001b[0m\u001b[0;34m)\u001b[0m\u001b[0;34m\u001b[0m\u001b[0;34m\u001b[0m\u001b[0m\n\u001b[0m\u001b[1;32m     30\u001b[0m     \u001b[0;32mif\u001b[0m \u001b[0;32mnot\u001b[0m \u001b[0men_text\u001b[0m\u001b[0;34m:\u001b[0m  \u001b[0;31m# 번역 실패 시 원본 텍스트 반환\u001b[0m\u001b[0;34m\u001b[0m\u001b[0;34m\u001b[0m\u001b[0m\n\u001b[1;32m     31\u001b[0m         \u001b[0;32mreturn\u001b[0m \u001b[0mtext\u001b[0m\u001b[0;34m\u001b[0m\u001b[0;34m\u001b[0m\u001b[0m\n",
      "\u001b[0;32m<ipython-input-17-3fa1c40c3856>\u001b[0m in \u001b[0;36mtranslate_ko_to_en\u001b[0;34m(text, max_new_tokens)\u001b[0m\n\u001b[1;32m     15\u001b[0m \u001b[0;31m# 한국어 -> 영어 번역\u001b[0m\u001b[0;34m\u001b[0m\u001b[0;34m\u001b[0m\u001b[0m\n\u001b[1;32m     16\u001b[0m \u001b[0;32mdef\u001b[0m \u001b[0mtranslate_ko_to_en\u001b[0m\u001b[0;34m(\u001b[0m\u001b[0mtext\u001b[0m\u001b[0;34m,\u001b[0m \u001b[0mmax_new_tokens\u001b[0m\u001b[0;34m=\u001b[0m\u001b[0;36m100\u001b[0m\u001b[0;34m)\u001b[0m\u001b[0;34m:\u001b[0m\u001b[0;34m\u001b[0m\u001b[0;34m\u001b[0m\u001b[0m\n\u001b[0;32m---> 17\u001b[0;31m     \u001b[0minputs\u001b[0m \u001b[0;34m=\u001b[0m \u001b[0mtokenizer_ko_en\u001b[0m\u001b[0;34m(\u001b[0m\u001b[0mtext\u001b[0m\u001b[0;34m,\u001b[0m \u001b[0mreturn_tensors\u001b[0m\u001b[0;34m=\u001b[0m\u001b[0;34m\"pt\"\u001b[0m\u001b[0;34m,\u001b[0m \u001b[0mpadding\u001b[0m\u001b[0;34m=\u001b[0m\u001b[0;32mTrue\u001b[0m\u001b[0;34m,\u001b[0m \u001b[0mtruncation\u001b[0m\u001b[0;34m=\u001b[0m\u001b[0;32mTrue\u001b[0m\u001b[0;34m)\u001b[0m\u001b[0;34m\u001b[0m\u001b[0;34m\u001b[0m\u001b[0m\n\u001b[0m\u001b[1;32m     18\u001b[0m     \u001b[0moutputs\u001b[0m \u001b[0;34m=\u001b[0m \u001b[0mmodel_ko_en\u001b[0m\u001b[0;34m.\u001b[0m\u001b[0mgenerate\u001b[0m\u001b[0;34m(\u001b[0m\u001b[0;34m**\u001b[0m\u001b[0minputs\u001b[0m\u001b[0;34m,\u001b[0m \u001b[0mmax_new_tokens\u001b[0m\u001b[0;34m=\u001b[0m\u001b[0mmax_new_tokens\u001b[0m\u001b[0;34m)\u001b[0m\u001b[0;34m\u001b[0m\u001b[0;34m\u001b[0m\u001b[0m\n\u001b[1;32m     19\u001b[0m     \u001b[0;32mreturn\u001b[0m \u001b[0mtokenizer_ko_en\u001b[0m\u001b[0;34m.\u001b[0m\u001b[0mdecode\u001b[0m\u001b[0;34m(\u001b[0m\u001b[0moutputs\u001b[0m\u001b[0;34m[\u001b[0m\u001b[0;36m0\u001b[0m\u001b[0;34m]\u001b[0m\u001b[0;34m,\u001b[0m \u001b[0mskip_special_tokens\u001b[0m\u001b[0;34m=\u001b[0m\u001b[0;32mTrue\u001b[0m\u001b[0;34m)\u001b[0m\u001b[0;34m\u001b[0m\u001b[0;34m\u001b[0m\u001b[0m\n",
      "\u001b[0;32m/usr/local/lib/python3.10/dist-packages/transformers/tokenization_utils_base.py\u001b[0m in \u001b[0;36m__call__\u001b[0;34m(self, text, text_pair, text_target, text_pair_target, add_special_tokens, padding, truncation, max_length, stride, is_split_into_words, pad_to_multiple_of, return_tensors, return_token_type_ids, return_attention_mask, return_overflowing_tokens, return_special_tokens_mask, return_offsets_mapping, return_length, verbose, **kwargs)\u001b[0m\n\u001b[1;32m   3053\u001b[0m             \u001b[0;32mif\u001b[0m \u001b[0;32mnot\u001b[0m \u001b[0mself\u001b[0m\u001b[0;34m.\u001b[0m\u001b[0m_in_target_context_manager\u001b[0m\u001b[0;34m:\u001b[0m\u001b[0;34m\u001b[0m\u001b[0;34m\u001b[0m\u001b[0m\n\u001b[1;32m   3054\u001b[0m                 \u001b[0mself\u001b[0m\u001b[0;34m.\u001b[0m\u001b[0m_switch_to_input_mode\u001b[0m\u001b[0;34m(\u001b[0m\u001b[0;34m)\u001b[0m\u001b[0;34m\u001b[0m\u001b[0;34m\u001b[0m\u001b[0m\n\u001b[0;32m-> 3055\u001b[0;31m             \u001b[0mencodings\u001b[0m \u001b[0;34m=\u001b[0m \u001b[0mself\u001b[0m\u001b[0;34m.\u001b[0m\u001b[0m_call_one\u001b[0m\u001b[0;34m(\u001b[0m\u001b[0mtext\u001b[0m\u001b[0;34m=\u001b[0m\u001b[0mtext\u001b[0m\u001b[0;34m,\u001b[0m \u001b[0mtext_pair\u001b[0m\u001b[0;34m=\u001b[0m\u001b[0mtext_pair\u001b[0m\u001b[0;34m,\u001b[0m \u001b[0;34m**\u001b[0m\u001b[0mall_kwargs\u001b[0m\u001b[0;34m)\u001b[0m\u001b[0;34m\u001b[0m\u001b[0;34m\u001b[0m\u001b[0m\n\u001b[0m\u001b[1;32m   3056\u001b[0m         \u001b[0;32mif\u001b[0m \u001b[0mtext_target\u001b[0m \u001b[0;32mis\u001b[0m \u001b[0;32mnot\u001b[0m \u001b[0;32mNone\u001b[0m\u001b[0;34m:\u001b[0m\u001b[0;34m\u001b[0m\u001b[0;34m\u001b[0m\u001b[0m\n\u001b[1;32m   3057\u001b[0m             \u001b[0mself\u001b[0m\u001b[0;34m.\u001b[0m\u001b[0m_switch_to_target_mode\u001b[0m\u001b[0;34m(\u001b[0m\u001b[0;34m)\u001b[0m\u001b[0;34m\u001b[0m\u001b[0;34m\u001b[0m\u001b[0m\n",
      "\u001b[0;32m/usr/local/lib/python3.10/dist-packages/transformers/tokenization_utils_base.py\u001b[0m in \u001b[0;36m_call_one\u001b[0;34m(self, text, text_pair, add_special_tokens, padding, truncation, max_length, stride, is_split_into_words, pad_to_multiple_of, return_tensors, return_token_type_ids, return_attention_mask, return_overflowing_tokens, return_special_tokens_mask, return_offsets_mapping, return_length, verbose, split_special_tokens, **kwargs)\u001b[0m\n\u001b[1;32m   3112\u001b[0m \u001b[0;34m\u001b[0m\u001b[0m\n\u001b[1;32m   3113\u001b[0m         \u001b[0;32mif\u001b[0m \u001b[0;32mnot\u001b[0m \u001b[0m_is_valid_text_input\u001b[0m\u001b[0;34m(\u001b[0m\u001b[0mtext\u001b[0m\u001b[0;34m)\u001b[0m\u001b[0;34m:\u001b[0m\u001b[0;34m\u001b[0m\u001b[0;34m\u001b[0m\u001b[0m\n\u001b[0;32m-> 3114\u001b[0;31m             raise ValueError(\n\u001b[0m\u001b[1;32m   3115\u001b[0m                 \u001b[0;34m\"text input must be of type `str` (single example), `List[str]` (batch or single pretokenized example) \"\u001b[0m\u001b[0;34m\u001b[0m\u001b[0;34m\u001b[0m\u001b[0m\n\u001b[1;32m   3116\u001b[0m                 \u001b[0;34m\"or `List[List[str]]` (batch of pretokenized examples).\"\u001b[0m\u001b[0;34m\u001b[0m\u001b[0;34m\u001b[0m\u001b[0m\n",
      "\u001b[0;31mValueError\u001b[0m: text input must be of type `str` (single example), `List[str]` (batch or single pretokenized example) or `List[List[str]]` (batch of pretokenized examples)."
     ]
    }
   ],
   "source": [
    "# Unbalanced: Augmented with label smoothing\n",
    "balanced_df = augment_with_label_smoothing(df, 'evaluation_6', max_samples=10000, smoothing_factor=0.05)\n",
    "\n",
    "#Save results\n",
    "output_file = '/content/drive/MyDrive/Kwargs/021. 기업적합도 필터/업데이트/A1_remaster_combined_ANONYMIZED_balanced.csv'\n",
    "balanced_df.to_csv(output_file, index=False)\n",
    "print(f\"균형 조정 및 라벨 스무딩이 적용된 데이터가 저장되었습니다: {output_file}\")"
   ]
  },
  {
   "cell_type": "code",
   "execution_count": null,
   "metadata": {
    "colab": {
     "base_uri": "https://localhost:8080/"
    },
    "executionInfo": {
     "elapsed": 392,
     "status": "error",
     "timestamp": 1726848421006,
     "user": {
      "displayName": "백현지",
      "userId": "02510457579208942463"
     },
     "user_tz": -540
    },
    "id": "Pt3zOLa7K6Ff",
    "outputId": "70bab650-af5f-456f-b9df-2f3b180bce77"
   },
   "outputs": [
    {
     "ename": "NameError",
     "evalue": "name 'balanced_df' is not defined",
     "output_type": "error",
     "traceback": [
      "\u001b[0;31m---------------------------------------------------------------------------\u001b[0m",
      "\u001b[0;31mNameError\u001b[0m                                 Traceback (most recent call last)",
      "\u001b[0;32m<ipython-input-20-17f8adc800da>\u001b[0m in \u001b[0;36m<cell line: 3>\u001b[0;34m()\u001b[0m\n\u001b[1;32m      1\u001b[0m \u001b[0;31m# 결과 저장\u001b[0m\u001b[0;34m\u001b[0m\u001b[0;34m\u001b[0m\u001b[0m\n\u001b[1;32m      2\u001b[0m \u001b[0moutput_file\u001b[0m \u001b[0;34m=\u001b[0m \u001b[0;34m'/content/drive/MyDrive/Kwargs/021. 기업적합도 필터/업데이트/A1_remaster_combined_ANONYMIZED_balanced_witherror.csv'\u001b[0m\u001b[0;34m\u001b[0m\u001b[0;34m\u001b[0m\u001b[0m\n\u001b[0;32m----> 3\u001b[0;31m \u001b[0mbalanced_df\u001b[0m\u001b[0;34m.\u001b[0m\u001b[0mto_csv\u001b[0m\u001b[0;34m(\u001b[0m\u001b[0moutput_file\u001b[0m\u001b[0;34m,\u001b[0m \u001b[0mindex\u001b[0m\u001b[0;34m=\u001b[0m\u001b[0;32mFalse\u001b[0m\u001b[0;34m)\u001b[0m\u001b[0;34m\u001b[0m\u001b[0;34m\u001b[0m\u001b[0m\n\u001b[0m\u001b[1;32m      4\u001b[0m \u001b[0mprint\u001b[0m\u001b[0;34m(\u001b[0m\u001b[0;34mf\"균형 조정 및 라벨 스무딩이 적용된 데이터가 저장되었습니다: {output_file}\"\u001b[0m\u001b[0;34m)\u001b[0m\u001b[0;34m\u001b[0m\u001b[0;34m\u001b[0m\u001b[0m\n",
      "\u001b[0;31mNameError\u001b[0m: name 'balanced_df' is not defined"
     ]
    }
   ],
   "source": [
    "#Save results\n",
    "output_file = '/content/drive/MyDrive/Kwargs/021. 기업적합도 필터/업데이트/A1_remaster_combined_ANONYMIZED_balanced_witherror.csv'\n",
    "balanced_df.to_csv(output_file, index=False)\n",
    "print(f\"균형 조정 및 라벨 스무딩이 적용된 데이터가 저장되었습니다: {output_file}\")"
   ]
  },
  {
   "cell_type": "markdown",
   "metadata": {
    "id": "iVayBnYvOZG3"
   },
   "source": [
    "### A1 Restoration (stopped)"
   ]
  },
  {
   "cell_type": "code",
   "execution_count": null,
   "metadata": {
    "colab": {
     "base_uri": "https://localhost:8080/"
    },
    "id": "BF19uTTlOWbA",
    "outputId": "8019ef05-7acf-47f9-e41f-a64a35478c91"
   },
   "outputs": [
    {
     "name": "stderr",
     "output_type": "stream",
     "text": [
      "/usr/local/lib/python3.10/dist-packages/transformers/tokenization_utils_base.py:1601: FutureWarning: `clean_up_tokenization_spaces` was not set. It will be set to `True` by default. This behavior will be depracted in transformers v4.45, and will be then set to `False` by default. For more details check this issue: https://github.com/huggingface/transformers/issues/31884\n",
      "  warnings.warn(\n",
      "Processing label 0.6:   1%|          | 50/7746 [06:38<21:54:30, 10.25s/it]"
     ]
    },
    {
     "name": "stdout",
     "output_type": "stream",
     "text": [
      "Processed up to 681, saved to /content/drive/MyDrive/Kwargs/021. 기업적합도 필터/업데이트/A1_remaster_combined_ANONYMIZED_balanced_partial.csv\n"
     ]
    },
    {
     "name": "stderr",
     "output_type": "stream",
     "text": [
      "Processing label 0.6:   1%|▏         | 100/7746 [13:05<20:00:55,  9.42s/it]"
     ]
    },
    {
     "name": "stdout",
     "output_type": "stream",
     "text": [
      "Processed up to 1322, saved to /content/drive/MyDrive/Kwargs/021. 기업적합도 필터/업데이트/A1_remaster_combined_ANONYMIZED_balanced_partial.csv\n"
     ]
    },
    {
     "name": "stderr",
     "output_type": "stream",
     "text": [
      "Processing label 0.6:   2%|▏         | 150/7746 [19:41<23:15:33, 11.02s/it]"
     ]
    },
    {
     "name": "stdout",
     "output_type": "stream",
     "text": [
      "Processed up to 1816, saved to /content/drive/MyDrive/Kwargs/021. 기업적합도 필터/업데이트/A1_remaster_combined_ANONYMIZED_balanced_partial.csv\n"
     ]
    },
    {
     "name": "stderr",
     "output_type": "stream",
     "text": [
      "Processing label 0.6:   3%|▎         | 200/7746 [26:28<21:33:22, 10.28s/it]"
     ]
    },
    {
     "name": "stdout",
     "output_type": "stream",
     "text": [
      "Processed up to 2212, saved to /content/drive/MyDrive/Kwargs/021. 기업적합도 필터/업데이트/A1_remaster_combined_ANONYMIZED_balanced_partial.csv\n"
     ]
    },
    {
     "name": "stderr",
     "output_type": "stream",
     "text": [
      "Processing label 0.6:   3%|▎         | 250/7746 [32:47<21:25:25, 10.29s/it]"
     ]
    },
    {
     "name": "stdout",
     "output_type": "stream",
     "text": [
      "Processed up to 2678, saved to /content/drive/MyDrive/Kwargs/021. 기업적합도 필터/업데이트/A1_remaster_combined_ANONYMIZED_balanced_partial.csv\n"
     ]
    },
    {
     "name": "stderr",
     "output_type": "stream",
     "text": [
      "Processing label 0.6:   4%|▍         | 300/7746 [39:17<21:13:08, 10.26s/it]"
     ]
    },
    {
     "name": "stdout",
     "output_type": "stream",
     "text": [
      "Processed up to 3075, saved to /content/drive/MyDrive/Kwargs/021. 기업적합도 필터/업데이트/A1_remaster_combined_ANONYMIZED_balanced_partial.csv\n"
     ]
    },
    {
     "name": "stderr",
     "output_type": "stream",
     "text": [
      "Processing label 0.6:   5%|▍         | 350/7746 [46:07<22:32:07, 10.97s/it]"
     ]
    },
    {
     "name": "stdout",
     "output_type": "stream",
     "text": [
      "Processed up to 3648, saved to /content/drive/MyDrive/Kwargs/021. 기업적합도 필터/업데이트/A1_remaster_combined_ANONYMIZED_balanced_partial.csv\n"
     ]
    },
    {
     "name": "stderr",
     "output_type": "stream",
     "text": [
      "Processing label 0.6:   5%|▌         | 400/7746 [53:20<22:27:26, 11.01s/it]"
     ]
    },
    {
     "name": "stdout",
     "output_type": "stream",
     "text": [
      "Processed up to 4106, saved to /content/drive/MyDrive/Kwargs/021. 기업적합도 필터/업데이트/A1_remaster_combined_ANONYMIZED_balanced_partial.csv\n"
     ]
    },
    {
     "name": "stderr",
     "output_type": "stream",
     "text": [
      "Processing label 0.6:   6%|▌         | 450/7746 [1:01:26<20:19:22, 10.03s/it]"
     ]
    },
    {
     "name": "stdout",
     "output_type": "stream",
     "text": [
      "Processed up to 4552, saved to /content/drive/MyDrive/Kwargs/021. 기업적합도 필터/업데이트/A1_remaster_combined_ANONYMIZED_balanced_partial.csv\n"
     ]
    },
    {
     "name": "stderr",
     "output_type": "stream",
     "text": [
      "Processing label 0.6:   6%|▋         | 500/7746 [1:07:15<19:42:02,  9.79s/it]"
     ]
    },
    {
     "name": "stdout",
     "output_type": "stream",
     "text": [
      "Processed up to 5055, saved to /content/drive/MyDrive/Kwargs/021. 기업적합도 필터/업데이트/A1_remaster_combined_ANONYMIZED_balanced_partial.csv\n"
     ]
    },
    {
     "name": "stderr",
     "output_type": "stream",
     "text": [
      "Processing label 0.6:   7%|▋         | 550/7746 [1:13:59<23:11:22, 11.60s/it]"
     ]
    },
    {
     "name": "stdout",
     "output_type": "stream",
     "text": [
      "Processed up to 5465, saved to /content/drive/MyDrive/Kwargs/021. 기업적합도 필터/업데이트/A1_remaster_combined_ANONYMIZED_balanced_partial.csv\n"
     ]
    },
    {
     "name": "stderr",
     "output_type": "stream",
     "text": [
      "Processing label 0.6:   8%|▊         | 600/7746 [1:21:56<22:00:39, 11.09s/it]"
     ]
    },
    {
     "name": "stdout",
     "output_type": "stream",
     "text": [
      "Processed up to 5851, saved to /content/drive/MyDrive/Kwargs/021. 기업적합도 필터/업데이트/A1_remaster_combined_ANONYMIZED_balanced_partial.csv\n"
     ]
    },
    {
     "name": "stderr",
     "output_type": "stream",
     "text": [
      "Processing label 0.6:   8%|▊         | 650/7746 [1:27:50<18:34:49,  9.43s/it]"
     ]
    },
    {
     "name": "stdout",
     "output_type": "stream",
     "text": [
      "Processed up to 6254, saved to /content/drive/MyDrive/Kwargs/021. 기업적합도 필터/업데이트/A1_remaster_combined_ANONYMIZED_balanced_partial.csv\n"
     ]
    },
    {
     "name": "stderr",
     "output_type": "stream",
     "text": [
      "Processing label 0.6:   9%|▉         | 700/7746 [1:33:46<18:40:11,  9.54s/it]"
     ]
    },
    {
     "name": "stdout",
     "output_type": "stream",
     "text": [
      "Processed up to 7073, saved to /content/drive/MyDrive/Kwargs/021. 기업적합도 필터/업데이트/A1_remaster_combined_ANONYMIZED_balanced_partial.csv\n"
     ]
    },
    {
     "name": "stderr",
     "output_type": "stream",
     "text": [
      "Processing label 0.6:  10%|▉         | 750/7746 [1:39:39<18:17:41,  9.41s/it]"
     ]
    },
    {
     "name": "stdout",
     "output_type": "stream",
     "text": [
      "Processed up to 7423, saved to /content/drive/MyDrive/Kwargs/021. 기업적합도 필터/업데이트/A1_remaster_combined_ANONYMIZED_balanced_partial.csv\n"
     ]
    },
    {
     "name": "stderr",
     "output_type": "stream",
     "text": [
      "Processing label 0.6:  10%|█         | 800/7746 [1:45:38<21:38:05, 11.21s/it]"
     ]
    },
    {
     "name": "stdout",
     "output_type": "stream",
     "text": [
      "Processed up to 7927, saved to /content/drive/MyDrive/Kwargs/021. 기업적합도 필터/업데이트/A1_remaster_combined_ANONYMIZED_balanced_partial.csv\n"
     ]
    },
    {
     "name": "stderr",
     "output_type": "stream",
     "text": [
      "Processing label 0.6:  11%|█         | 850/7746 [1:51:36<19:40:27, 10.27s/it]"
     ]
    },
    {
     "name": "stdout",
     "output_type": "stream",
     "text": [
      "Processed up to 8378, saved to /content/drive/MyDrive/Kwargs/021. 기업적합도 필터/업데이트/A1_remaster_combined_ANONYMIZED_balanced_partial.csv\n"
     ]
    },
    {
     "name": "stderr",
     "output_type": "stream",
     "text": [
      "Processing label 0.6:  12%|█▏        | 900/7746 [1:57:52<19:07:35, 10.06s/it]"
     ]
    },
    {
     "name": "stdout",
     "output_type": "stream",
     "text": [
      "Processed up to 8849, saved to /content/drive/MyDrive/Kwargs/021. 기업적합도 필터/업데이트/A1_remaster_combined_ANONYMIZED_balanced_partial.csv\n"
     ]
    },
    {
     "name": "stderr",
     "output_type": "stream",
     "text": [
      "Processing label 0.6:  12%|█▏        | 950/7746 [2:03:56<18:49:28,  9.97s/it]"
     ]
    },
    {
     "name": "stdout",
     "output_type": "stream",
     "text": [
      "Processed up to 9317, saved to /content/drive/MyDrive/Kwargs/021. 기업적합도 필터/업데이트/A1_remaster_combined_ANONYMIZED_balanced_partial.csv\n"
     ]
    },
    {
     "name": "stderr",
     "output_type": "stream",
     "text": [
      "Processing label 0.6:  13%|█▎        | 1000/7746 [2:09:51<19:26:32, 10.38s/it]"
     ]
    },
    {
     "name": "stdout",
     "output_type": "stream",
     "text": [
      "Processed up to 9849, saved to /content/drive/MyDrive/Kwargs/021. 기업적합도 필터/업데이트/A1_remaster_combined_ANONYMIZED_balanced_partial.csv\n"
     ]
    },
    {
     "name": "stderr",
     "output_type": "stream",
     "text": [
      "Processing label 0.6:  14%|█▎        | 1050/7746 [2:16:02<18:56:51, 10.19s/it]"
     ]
    },
    {
     "name": "stdout",
     "output_type": "stream",
     "text": [
      "Processed up to 10278, saved to /content/drive/MyDrive/Kwargs/021. 기업적합도 필터/업데이트/A1_remaster_combined_ANONYMIZED_balanced_partial.csv\n"
     ]
    },
    {
     "name": "stderr",
     "output_type": "stream",
     "text": [
      "Processing label 0.6:  14%|█▍        | 1100/7746 [2:22:15<19:33:35, 10.60s/it]"
     ]
    },
    {
     "name": "stdout",
     "output_type": "stream",
     "text": [
      "Processed up to 10720, saved to /content/drive/MyDrive/Kwargs/021. 기업적합도 필터/업데이트/A1_remaster_combined_ANONYMIZED_balanced_partial.csv\n"
     ]
    },
    {
     "name": "stderr",
     "output_type": "stream",
     "text": [
      "Processing label 0.6:  15%|█▍        | 1150/7746 [2:28:19<19:00:52, 10.38s/it]"
     ]
    },
    {
     "name": "stdout",
     "output_type": "stream",
     "text": [
      "Processed up to 11288, saved to /content/drive/MyDrive/Kwargs/021. 기업적합도 필터/업데이트/A1_remaster_combined_ANONYMIZED_balanced_partial.csv\n"
     ]
    },
    {
     "name": "stderr",
     "output_type": "stream",
     "text": [
      "Processing label 0.6:  15%|█▌        | 1200/7746 [2:34:21<17:51:27,  9.82s/it]"
     ]
    },
    {
     "name": "stdout",
     "output_type": "stream",
     "text": [
      "Processed up to 11779, saved to /content/drive/MyDrive/Kwargs/021. 기업적합도 필터/업데이트/A1_remaster_combined_ANONYMIZED_balanced_partial.csv\n"
     ]
    },
    {
     "name": "stderr",
     "output_type": "stream",
     "text": [
      "Processing label 0.6:  16%|█▌        | 1250/7746 [2:40:26<17:44:16,  9.83s/it]"
     ]
    },
    {
     "name": "stdout",
     "output_type": "stream",
     "text": [
      "Processed up to 12203, saved to /content/drive/MyDrive/Kwargs/021. 기업적합도 필터/업데이트/A1_remaster_combined_ANONYMIZED_balanced_partial.csv\n"
     ]
    },
    {
     "name": "stderr",
     "output_type": "stream",
     "text": [
      "Processing label 0.6:  17%|█▋        | 1300/7746 [2:46:37<19:10:26, 10.71s/it]"
     ]
    },
    {
     "name": "stdout",
     "output_type": "stream",
     "text": [
      "Processed up to 12799, saved to /content/drive/MyDrive/Kwargs/021. 기업적합도 필터/업데이트/A1_remaster_combined_ANONYMIZED_balanced_partial.csv\n"
     ]
    },
    {
     "name": "stderr",
     "output_type": "stream",
     "text": [
      "Processing label 0.6:  17%|█▋        | 1350/7746 [2:52:30<17:36:59,  9.92s/it]"
     ]
    },
    {
     "name": "stdout",
     "output_type": "stream",
     "text": [
      "Processed up to 13143, saved to /content/drive/MyDrive/Kwargs/021. 기업적합도 필터/업데이트/A1_remaster_combined_ANONYMIZED_balanced_partial.csv\n"
     ]
    },
    {
     "name": "stderr",
     "output_type": "stream",
     "text": [
      "Processing label 0.6:  18%|█▊        | 1400/7746 [2:58:32<18:15:59, 10.36s/it]"
     ]
    },
    {
     "name": "stdout",
     "output_type": "stream",
     "text": [
      "Processed up to 13549, saved to /content/drive/MyDrive/Kwargs/021. 기업적합도 필터/업데이트/A1_remaster_combined_ANONYMIZED_balanced_partial.csv\n"
     ]
    },
    {
     "name": "stderr",
     "output_type": "stream",
     "text": [
      "Processing label 0.6:  19%|█▊        | 1450/7746 [3:04:47<17:36:07, 10.06s/it]"
     ]
    },
    {
     "name": "stdout",
     "output_type": "stream",
     "text": [
      "Processed up to 13870, saved to /content/drive/MyDrive/Kwargs/021. 기업적합도 필터/업데이트/A1_remaster_combined_ANONYMIZED_balanced_partial.csv\n"
     ]
    },
    {
     "name": "stderr",
     "output_type": "stream",
     "text": [
      "Processing label 0.6:  19%|█▉        | 1500/7746 [3:10:55<17:23:29, 10.02s/it]"
     ]
    },
    {
     "name": "stdout",
     "output_type": "stream",
     "text": [
      "Processed up to 14217, saved to /content/drive/MyDrive/Kwargs/021. 기업적합도 필터/업데이트/A1_remaster_combined_ANONYMIZED_balanced_partial.csv\n"
     ]
    },
    {
     "name": "stderr",
     "output_type": "stream",
     "text": [
      "Processing label 0.6:  20%|██        | 1550/7746 [3:16:46<16:10:49,  9.40s/it]"
     ]
    },
    {
     "name": "stdout",
     "output_type": "stream",
     "text": [
      "Processed up to 14595, saved to /content/drive/MyDrive/Kwargs/021. 기업적합도 필터/업데이트/A1_remaster_combined_ANONYMIZED_balanced_partial.csv\n"
     ]
    },
    {
     "name": "stderr",
     "output_type": "stream",
     "text": [
      "Processing label 0.6:  21%|██        | 1600/7746 [3:22:58<17:23:24, 10.19s/it]"
     ]
    },
    {
     "name": "stdout",
     "output_type": "stream",
     "text": [
      "Processed up to 14984, saved to /content/drive/MyDrive/Kwargs/021. 기업적합도 필터/업데이트/A1_remaster_combined_ANONYMIZED_balanced_partial.csv\n"
     ]
    },
    {
     "name": "stderr",
     "output_type": "stream",
     "text": [
      "Processing label 0.6:  21%|██▏       | 1650/7746 [3:29:08<16:45:16,  9.89s/it]"
     ]
    },
    {
     "name": "stdout",
     "output_type": "stream",
     "text": [
      "Processed up to 15392, saved to /content/drive/MyDrive/Kwargs/021. 기업적합도 필터/업데이트/A1_remaster_combined_ANONYMIZED_balanced_partial.csv\n"
     ]
    },
    {
     "name": "stderr",
     "output_type": "stream",
     "text": [
      "Processing label 0.6:  22%|██▏       | 1700/7746 [3:35:25<17:24:38, 10.37s/it]"
     ]
    },
    {
     "name": "stdout",
     "output_type": "stream",
     "text": [
      "Processed up to 15758, saved to /content/drive/MyDrive/Kwargs/021. 기업적합도 필터/업데이트/A1_remaster_combined_ANONYMIZED_balanced_partial.csv\n"
     ]
    },
    {
     "name": "stderr",
     "output_type": "stream",
     "text": [
      "Processing label 0.6:  23%|██▎       | 1750/7746 [3:41:22<15:39:18,  9.40s/it]"
     ]
    },
    {
     "name": "stdout",
     "output_type": "stream",
     "text": [
      "Processed up to 16119, saved to /content/drive/MyDrive/Kwargs/021. 기업적합도 필터/업데이트/A1_remaster_combined_ANONYMIZED_balanced_partial.csv\n"
     ]
    },
    {
     "name": "stderr",
     "output_type": "stream",
     "text": [
      "Processing label 0.6:  23%|██▎       | 1800/7746 [3:47:29<17:10:28, 10.40s/it]"
     ]
    },
    {
     "name": "stdout",
     "output_type": "stream",
     "text": [
      "Processed up to 16436, saved to /content/drive/MyDrive/Kwargs/021. 기업적합도 필터/업데이트/A1_remaster_combined_ANONYMIZED_balanced_partial.csv\n"
     ]
    },
    {
     "name": "stderr",
     "output_type": "stream",
     "text": [
      "Processing label 0.6:  24%|██▍       | 1850/7746 [3:53:35<17:18:28, 10.57s/it]"
     ]
    },
    {
     "name": "stdout",
     "output_type": "stream",
     "text": [
      "Processed up to 16789, saved to /content/drive/MyDrive/Kwargs/021. 기업적합도 필터/업데이트/A1_remaster_combined_ANONYMIZED_balanced_partial.csv\n"
     ]
    },
    {
     "name": "stderr",
     "output_type": "stream",
     "text": [
      "Processing label 0.6:  25%|██▍       | 1900/7746 [3:59:35<16:07:14,  9.93s/it]"
     ]
    },
    {
     "name": "stdout",
     "output_type": "stream",
     "text": [
      "Processed up to 17065, saved to /content/drive/MyDrive/Kwargs/021. 기업적합도 필터/업데이트/A1_remaster_combined_ANONYMIZED_balanced_partial.csv\n"
     ]
    },
    {
     "name": "stderr",
     "output_type": "stream",
     "text": [
      "Processing label 0.6:  25%|██▌       | 1950/7746 [4:05:42<16:10:06, 10.04s/it]"
     ]
    },
    {
     "name": "stdout",
     "output_type": "stream",
     "text": [
      "Processed up to 17367, saved to /content/drive/MyDrive/Kwargs/021. 기업적합도 필터/업데이트/A1_remaster_combined_ANONYMIZED_balanced_partial.csv\n"
     ]
    },
    {
     "name": "stderr",
     "output_type": "stream",
     "text": [
      "Processing label 0.6:  26%|██▌       | 2000/7746 [4:11:39<17:25:43, 10.92s/it]"
     ]
    },
    {
     "name": "stdout",
     "output_type": "stream",
     "text": [
      "Processed up to 17723, saved to /content/drive/MyDrive/Kwargs/021. 기업적합도 필터/업데이트/A1_remaster_combined_ANONYMIZED_balanced_partial.csv\n"
     ]
    },
    {
     "name": "stderr",
     "output_type": "stream",
     "text": [
      "Processing label 0.6:  26%|██▋       | 2050/7746 [4:17:45<16:00:32, 10.12s/it]"
     ]
    },
    {
     "name": "stdout",
     "output_type": "stream",
     "text": [
      "Processed up to 18034, saved to /content/drive/MyDrive/Kwargs/021. 기업적합도 필터/업데이트/A1_remaster_combined_ANONYMIZED_balanced_partial.csv\n"
     ]
    },
    {
     "name": "stderr",
     "output_type": "stream",
     "text": [
      "Processing label 0.6:  27%|██▋       | 2100/7746 [4:23:48<16:16:47, 10.38s/it]"
     ]
    },
    {
     "name": "stdout",
     "output_type": "stream",
     "text": [
      "Processed up to 18343, saved to /content/drive/MyDrive/Kwargs/021. 기업적합도 필터/업데이트/A1_remaster_combined_ANONYMIZED_balanced_partial.csv\n"
     ]
    },
    {
     "name": "stderr",
     "output_type": "stream",
     "text": [
      "Processing label 0.6:  28%|██▊       | 2150/7746 [4:30:09<16:11:17, 10.41s/it]"
     ]
    },
    {
     "name": "stdout",
     "output_type": "stream",
     "text": [
      "Processed up to 18664, saved to /content/drive/MyDrive/Kwargs/021. 기업적합도 필터/업데이트/A1_remaster_combined_ANONYMIZED_balanced_partial.csv\n"
     ]
    },
    {
     "name": "stderr",
     "output_type": "stream",
     "text": [
      "Processing label 0.6:  28%|██▊       | 2200/7746 [4:36:09<15:03:56,  9.78s/it]"
     ]
    },
    {
     "name": "stdout",
     "output_type": "stream",
     "text": [
      "Processed up to 19074, saved to /content/drive/MyDrive/Kwargs/021. 기업적합도 필터/업데이트/A1_remaster_combined_ANONYMIZED_balanced_partial.csv\n"
     ]
    },
    {
     "name": "stderr",
     "output_type": "stream",
     "text": [
      "Processing label 0.6:  29%|██▉       | 2250/7746 [4:42:21<17:00:42, 11.14s/it]"
     ]
    },
    {
     "name": "stdout",
     "output_type": "stream",
     "text": [
      "Processed up to 19607, saved to /content/drive/MyDrive/Kwargs/021. 기업적합도 필터/업데이트/A1_remaster_combined_ANONYMIZED_balanced_partial.csv\n"
     ]
    },
    {
     "name": "stderr",
     "output_type": "stream",
     "text": [
      "Processing label 0.6:  30%|██▉       | 2300/7746 [4:48:25<15:01:09,  9.93s/it]"
     ]
    },
    {
     "name": "stdout",
     "output_type": "stream",
     "text": [
      "Processed up to 20157, saved to /content/drive/MyDrive/Kwargs/021. 기업적합도 필터/업데이트/A1_remaster_combined_ANONYMIZED_balanced_partial.csv\n"
     ]
    },
    {
     "name": "stderr",
     "output_type": "stream",
     "text": [
      "Processing label 0.6:  30%|███       | 2350/7746 [4:54:21<15:29:30, 10.34s/it]"
     ]
    },
    {
     "name": "stdout",
     "output_type": "stream",
     "text": [
      "Processed up to 20594, saved to /content/drive/MyDrive/Kwargs/021. 기업적합도 필터/업데이트/A1_remaster_combined_ANONYMIZED_balanced_partial.csv\n"
     ]
    },
    {
     "name": "stderr",
     "output_type": "stream",
     "text": [
      "Processing label 0.6:  31%|███       | 2400/7746 [5:00:19<14:38:44,  9.86s/it]"
     ]
    },
    {
     "name": "stdout",
     "output_type": "stream",
     "text": [
      "Processed up to 21036, saved to /content/drive/MyDrive/Kwargs/021. 기업적합도 필터/업데이트/A1_remaster_combined_ANONYMIZED_balanced_partial.csv\n"
     ]
    },
    {
     "name": "stderr",
     "output_type": "stream",
     "text": [
      "Processing label 0.6:  32%|███▏      | 2450/7746 [5:06:24<15:29:47, 10.53s/it]"
     ]
    },
    {
     "name": "stdout",
     "output_type": "stream",
     "text": [
      "Processed up to 21553, saved to /content/drive/MyDrive/Kwargs/021. 기업적합도 필터/업데이트/A1_remaster_combined_ANONYMIZED_balanced_partial.csv\n"
     ]
    },
    {
     "name": "stderr",
     "output_type": "stream",
     "text": [
      "Processing label 0.6:  32%|███▏      | 2500/7746 [5:12:19<14:46:05, 10.13s/it]"
     ]
    },
    {
     "name": "stdout",
     "output_type": "stream",
     "text": [
      "Processed up to 22054, saved to /content/drive/MyDrive/Kwargs/021. 기업적합도 필터/업데이트/A1_remaster_combined_ANONYMIZED_balanced_partial.csv\n"
     ]
    },
    {
     "name": "stderr",
     "output_type": "stream",
     "text": [
      "Processing label 0.6:  33%|███▎      | 2550/7746 [5:18:13<14:04:52,  9.76s/it]"
     ]
    },
    {
     "name": "stdout",
     "output_type": "stream",
     "text": [
      "Processed up to 22606, saved to /content/drive/MyDrive/Kwargs/021. 기업적합도 필터/업데이트/A1_remaster_combined_ANONYMIZED_balanced_partial.csv\n"
     ]
    },
    {
     "name": "stderr",
     "output_type": "stream",
     "text": [
      "Processing label 0.6:  34%|███▎      | 2600/7746 [5:24:18<13:57:12,  9.76s/it]"
     ]
    },
    {
     "name": "stdout",
     "output_type": "stream",
     "text": [
      "Processed up to 23127, saved to /content/drive/MyDrive/Kwargs/021. 기업적합도 필터/업데이트/A1_remaster_combined_ANONYMIZED_balanced_partial.csv\n"
     ]
    },
    {
     "name": "stderr",
     "output_type": "stream",
     "text": [
      "Processing label 0.6:  34%|███▍      | 2650/7746 [5:30:34<15:28:59, 10.94s/it]"
     ]
    },
    {
     "name": "stdout",
     "output_type": "stream",
     "text": [
      "Processed up to 23652, saved to /content/drive/MyDrive/Kwargs/021. 기업적합도 필터/업데이트/A1_remaster_combined_ANONYMIZED_balanced_partial.csv\n"
     ]
    },
    {
     "name": "stderr",
     "output_type": "stream",
     "text": [
      "Processing label 0.6:  35%|███▍      | 2700/7746 [5:36:35<13:50:44,  9.88s/it]"
     ]
    },
    {
     "name": "stdout",
     "output_type": "stream",
     "text": [
      "Processed up to 24024, saved to /content/drive/MyDrive/Kwargs/021. 기업적합도 필터/업데이트/A1_remaster_combined_ANONYMIZED_balanced_partial.csv\n"
     ]
    },
    {
     "name": "stderr",
     "output_type": "stream",
     "text": [
      "Processing label 0.6:  36%|███▌      | 2750/7746 [5:42:36<13:47:42,  9.94s/it]"
     ]
    },
    {
     "name": "stdout",
     "output_type": "stream",
     "text": [
      "Processed up to 24347, saved to /content/drive/MyDrive/Kwargs/021. 기업적합도 필터/업데이트/A1_remaster_combined_ANONYMIZED_balanced_partial.csv\n"
     ]
    },
    {
     "name": "stderr",
     "output_type": "stream",
     "text": [
      "Processing label 0.6:  36%|███▌      | 2800/7746 [5:48:27<13:26:07,  9.78s/it]"
     ]
    },
    {
     "name": "stdout",
     "output_type": "stream",
     "text": [
      "Processed up to 24656, saved to /content/drive/MyDrive/Kwargs/021. 기업적합도 필터/업데이트/A1_remaster_combined_ANONYMIZED_balanced_partial.csv\n"
     ]
    },
    {
     "name": "stderr",
     "output_type": "stream",
     "text": [
      "Processing label 0.6:  37%|███▋      | 2850/7746 [5:54:21<13:30:49,  9.94s/it]"
     ]
    },
    {
     "name": "stdout",
     "output_type": "stream",
     "text": [
      "Processed up to 25077, saved to /content/drive/MyDrive/Kwargs/021. 기업적합도 필터/업데이트/A1_remaster_combined_ANONYMIZED_balanced_partial.csv\n"
     ]
    },
    {
     "name": "stderr",
     "output_type": "stream",
     "text": [
      "Processing label 0.6:  37%|███▋      | 2900/7746 [6:00:19<13:10:54,  9.79s/it]"
     ]
    },
    {
     "name": "stdout",
     "output_type": "stream",
     "text": [
      "Processed up to 25342, saved to /content/drive/MyDrive/Kwargs/021. 기업적합도 필터/업데이트/A1_remaster_combined_ANONYMIZED_balanced_partial.csv\n"
     ]
    },
    {
     "name": "stderr",
     "output_type": "stream",
     "text": [
      "Processing label 0.6:  38%|███▊      | 2950/7746 [6:06:28<14:33:15, 10.92s/it]"
     ]
    },
    {
     "name": "stdout",
     "output_type": "stream",
     "text": [
      "Processed up to 25674, saved to /content/drive/MyDrive/Kwargs/021. 기업적합도 필터/업데이트/A1_remaster_combined_ANONYMIZED_balanced_partial.csv\n"
     ]
    },
    {
     "name": "stderr",
     "output_type": "stream",
     "text": [
      "Processing label 0.6:  39%|███▊      | 3000/7746 [6:12:23<12:03:13,  9.14s/it]"
     ]
    },
    {
     "name": "stdout",
     "output_type": "stream",
     "text": [
      "Processed up to 26062, saved to /content/drive/MyDrive/Kwargs/021. 기업적합도 필터/업데이트/A1_remaster_combined_ANONYMIZED_balanced_partial.csv\n"
     ]
    },
    {
     "name": "stderr",
     "output_type": "stream",
     "text": [
      "Processing label 0.6:  39%|███▉      | 3050/7746 [6:18:17<13:05:15, 10.03s/it]"
     ]
    },
    {
     "name": "stdout",
     "output_type": "stream",
     "text": [
      "Processed up to 26452, saved to /content/drive/MyDrive/Kwargs/021. 기업적합도 필터/업데이트/A1_remaster_combined_ANONYMIZED_balanced_partial.csv\n"
     ]
    },
    {
     "name": "stderr",
     "output_type": "stream",
     "text": [
      "Processing label 0.6:  40%|████      | 3100/7746 [6:24:23<13:51:09, 10.73s/it]"
     ]
    },
    {
     "name": "stdout",
     "output_type": "stream",
     "text": [
      "Processed up to 26750, saved to /content/drive/MyDrive/Kwargs/021. 기업적합도 필터/업데이트/A1_remaster_combined_ANONYMIZED_balanced_partial.csv\n"
     ]
    },
    {
     "name": "stderr",
     "output_type": "stream",
     "text": [
      "Processing label 0.6:  41%|████      | 3150/7746 [6:30:31<12:45:48, 10.00s/it]"
     ]
    },
    {
     "name": "stdout",
     "output_type": "stream",
     "text": [
      "Processed up to 27002, saved to /content/drive/MyDrive/Kwargs/021. 기업적합도 필터/업데이트/A1_remaster_combined_ANONYMIZED_balanced_partial.csv\n"
     ]
    },
    {
     "name": "stderr",
     "output_type": "stream",
     "text": [
      "\r",
      "Processing label 0.6:  41%|████      | 3151/7746 [6:30:38<11:32:15,  9.04s/it]"
     ]
    }
   ],
   "source": [
    "import pandas as pd\n",
    "from transformers import T5ForConditionalGeneration, T5Tokenizer\n",
    "from tqdm import tqdm\n",
    "import torch\n",
    "\n",
    "#KE-T5 model and talk nisor load\n",
    "model_ko_en = \"QuoQA-NLP/KE-T5-Ko2En-Base\"\n",
    "model_en_ko = \"QuoQA-NLP/KE-T5-En2Ko-Base\"  # 영어에서 한국어로 번역하는 모델\n",
    "tokenizer_ko_en = T5Tokenizer.from_pretrained(model_ko_en)\n",
    "tokenizer_en_ko = T5Tokenizer.from_pretrained(model_en_ko)\n",
    "\n",
    "model_ko_en = T5ForConditionalGeneration.from_pretrained(model_ko_en)\n",
    "model_en_ko = T5ForConditionalGeneration.from_pretrained(model_en_ko)\n",
    "\n",
    "# Korean-> English translation\n",
    "def translate_ko_to_en(text, max_new_tokens=100):\n",
    "    inputs = tokenizer_ko_en(text, return_tensors=\"pt\", padding=True, truncation=True)\n",
    "    outputs = model_ko_en.generate(**inputs, max_new_tokens=max_new_tokens)\n",
    "    return tokenizer_ko_en.decode(outputs[0], skip_special_tokens=True)\n",
    "\n",
    "# English-> Korean translation\n",
    "def translate_en_to_ko(text, max_new_tokens=100):\n",
    "    inputs = tokenizer_en_ko(text, return_tensors=\"pt\", padding=True, truncation=True)\n",
    "    outputs = model_en_ko.generate(**inputs, max_new_tokens=max_new_tokens)\n",
    "    return tokenizer_en_ko.decode(outputs[0], skip_special_tokens=True)\n",
    "\n",
    "#Reverse Translation function (Korean → English → Korean)\n",
    "def back_translate(text, idx):\n",
    "    en_text = translate_ko_to_en(text)\n",
    "    if not en_text:  # 번역 실패 시 원본 텍스트 반환\n",
    "        return text\n",
    "\n",
    "    back_ko_text = translate_en_to_ko(en_text)\n",
    "    if not back_ko_text:  # 번역 실패 시 원본 텍스트 반환\n",
    "        return text\n",
    "\n",
    "    return back_ko_text\n",
    "\n",
    "#Label smoothing function\n",
    "def apply_label_smoothing(label, smoothing_factor=0.05):\n",
    "    return label * (1 - smoothing_factor) + (0.5 * smoothing_factor)\n",
    "\n",
    "# Check the last processed index in the existing data\n",
    "def get_last_processed_index(save_path):\n",
    "    try:\n",
    "# Returns the index of the last row from the saved CSV file\n",
    "        saved_df = pd.read_csv(save_path)\n",
    "        return saved_df.index[-1] if not saved_df.empty else -1\n",
    "    except FileNotFoundError:\n",
    "        return -1  # 파일이 없으면 처음부터 시작\n",
    "\n",
    "#Chiped class enhancement + label smoothing function\n",
    "def augment_with_label_smoothing(df, label_column, max_samples, save_path, smoothing_factor=0.05, batch_size=50):\n",
    "    label_counts = df[label_column].value_counts()\n",
    "    max_count = max_samples if max_samples else label_counts.max()  # 목표 샘플 수 설정\n",
    "\n",
    "#If it is interrupted in the middle, start with the last index\n",
    "    last_processed_idx = get_last_processed_index(save_path)\n",
    "    balanced_df = pd.read_csv(save_path) if last_processed_idx >= 0 else pd.DataFrame()  # 기존 저장된 데이터 읽기\n",
    "\n",
    "    error_log = []  # 오류 로그를 기록하기 위한 리스트\n",
    "\n",
    "    for label, count in label_counts.items():\n",
    "        subset = df[df[label_column] == label]\n",
    "\n",
    "        if count < max_count:\n",
    "            augmented_texts = []\n",
    "            for idx, row in tqdm(subset.iterrows(), total=len(subset), desc=f\"Processing label {label}\"):\n",
    "                if idx <= last_processed_idx:\n",
    "                    continue  # 이미 처리된 데이터는 건너뛰기\n",
    "\n",
    "                try:\n",
    "                    original_text = row['content']\n",
    "                    augmented_text = back_translate(original_text, idx)\n",
    "                    augmented_row = row.copy()\n",
    "                    augmented_row['content'] = augmented_text\n",
    "                    augmented_row['full_text'] = augmented_text  # 'full_text' 업데이트\n",
    "\n",
    "# Apply label smoothing\n",
    "                    smoothed_label = apply_label_smoothing(row[label_column], smoothing_factor=smoothing_factor)\n",
    "                    augmented_row[label_column] = smoothed_label  # 스무딩된 라벨 적용\n",
    "                    augmented_texts.append(augmented_row)\n",
    "\n",
    "# Batch_size intermediate storage\n",
    "                    if len(augmented_texts) % batch_size == 0:\n",
    "                        batch_df = pd.DataFrame(augmented_texts)\n",
    "                        balanced_df = pd.concat([balanced_df, batch_df], ignore_index=True)\n",
    "                        balanced_df.to_csv(save_path, index=False)  # 덮어쓰기 방식으로 저장\n",
    "                        print(f\"Processed up to {idx}, saved to {save_path}\")\n",
    "                        augmented_texts = []  # 중간 저장 후 리스트 초기화\n",
    "\n",
    "                except Exception as e:\n",
    "# If an error occurs, just skip the data and record in the error log\n",
    "                    print(f\"Error at index {idx}: {e}\")\n",
    "                    error_log.append({'index': idx, 'error': str(e)})\n",
    "\n",
    "#Save the remaining data\n",
    "            if augmented_texts:\n",
    "                batch_df = pd.DataFrame(augmented_texts)\n",
    "                balanced_df = pd.concat([balanced_df, batch_df], ignore_index=True)\n",
    "                balanced_df.to_csv(save_path, index=False)\n",
    "                print(f\"Processed remaining data for label {label}, saved to {save_path}\")\n",
    "        else:\n",
    "# Excessive representative class stores existing data as it is.\n",
    "            balanced_df = pd.concat([balanced_df, subset], ignore_index=True)\n",
    "            balanced_df.to_csv(save_path, index=False)\n",
    "\n",
    "#Save the error log as a file\n",
    "    if error_log:\n",
    "        error_log_df = pd.DataFrame(error_log)\n",
    "        error_log_df.to_csv(\"error_log.csv\", index=False)\n",
    "        print(f\"Error log saved to error_log.csv\")\n",
    "\n",
    "    return balanced_df\n",
    "\n",
    "# Unbalanced: Augmented with label smoothing\n",
    "output_file = '/content/drive/MyDrive/Kwargs/021. 기업적합도 필터/업데이트/A1_remaster_combined_ANONYMIZED_balanced_partial.csv'\n",
    "balanced_df = augment_with_label_smoothing(df, 'evaluation_6', max_samples=10000, save_path=output_file, smoothing_factor=0.05, batch_size=50)\n",
    "\n",
    "#Save the final result\n",
    "final_output_file = '/content/drive/MyDrive/Kwargs/021. 기업적합도 필터/업데이트/A1_remaster_combined_ANONYMIZED_balanced_final.csv'\n",
    "balanced_df.to_csv(final_output_file, index=False)\n",
    "print(f\"최종 결과가 저장되었습니다: {final_output_file}\")\n"
   ]
  },
  {
   "cell_type": "markdown",
   "metadata": {
    "id": "qOn66TypEwtL"
   },
   "source": [
    "### a3-Hugging FACE model combination of Korea-English-Il-Korean-Korean-Korean-Korean Translation (failure)"
   ]
  },
  {
   "cell_type": "code",
   "execution_count": null,
   "metadata": {
    "colab": {
     "base_uri": "https://localhost:8080/"
    },
    "executionInfo": {
     "elapsed": 934,
     "status": "ok",
     "timestamp": 1726767446505,
     "user": {
      "displayName": "백현지",
      "userId": "02510457579208942463"
     },
     "user_tz": -540
    },
    "id": "AREqwz7a8aX6",
    "outputId": "ef1f7f0f-69d5-4e31-a566-b0808506cdcd"
   },
   "outputs": [
    {
     "name": "stdout",
     "output_type": "stream",
     "text": [
      "The token has not been saved to the git credentials helper. Pass `add_to_git_credential=True` in this function directly or `--add-to-git-credential` if using via `huggingface-cli` if you want to set the git credential as well.\n",
      "Token is valid (permission: fineGrained).\n",
      "Your token has been saved to /root/.cache/huggingface/token\n",
      "Login successful\n"
     ]
    }
   ],
   "source": [
    "from huggingface_hub import login\n",
    "\n",
    "# Hugging Face login\n",
    "login(token=HF_SK)"
   ]
  },
  {
   "cell_type": "code",
   "execution_count": null,
   "metadata": {
    "colab": {
     "base_uri": "https://localhost:8080/"
    },
    "executionInfo": {
     "elapsed": 26438,
     "status": "ok",
     "timestamp": 1726660286533,
     "user": {
      "displayName": "백현지",
      "userId": "02510457579208942463"
     },
     "user_tz": -540
    },
    "id": "lzQhZN_h-Bkv",
    "outputId": "bf9b28c3-006e-4b7d-de67-3496b7ce1f7d"
   },
   "outputs": [
    {
     "name": "stdout",
     "output_type": "stream",
     "text": [
      "Requirement already satisfied: fugashi in /usr/local/lib/python3.10/dist-packages (1.3.2)\n",
      "Requirement already satisfied: mecab-python3 in /usr/local/lib/python3.10/dist-packages (1.0.9)\n",
      "Collecting unidic-lite\n",
      "  Downloading unidic-lite-1.0.8.tar.gz (47.4 MB)\n",
      "\u001b[2K     \u001b[90m━━━━━━━━━━━━━━━━━━━━━━━━━━━━━━━━━━━━━━━━\u001b[0m \u001b[32m47.4/47.4 MB\u001b[0m \u001b[31m39.3 MB/s\u001b[0m eta \u001b[36m0:00:00\u001b[0m\n",
      "\u001b[?25h  Preparing metadata (setup.py) ... \u001b[?25l\u001b[?25hdone\n",
      "Building wheels for collected packages: unidic-lite\n",
      "  Building wheel for unidic-lite (setup.py) ... \u001b[?25l\u001b[?25hdone\n",
      "  Created wheel for unidic-lite: filename=unidic_lite-1.0.8-py3-none-any.whl size=47658818 sha256=5654a583b7250f51b4b2e673a159e45bbeedd922c208ac2ab1cae96c1c500cf4\n",
      "  Stored in directory: /root/.cache/pip/wheels/89/e8/68/f9ac36b8cc6c8b3c96888cd57434abed96595d444f42243853\n",
      "Successfully built unidic-lite\n",
      "Installing collected packages: unidic-lite\n",
      "Successfully installed unidic-lite-1.0.8\n"
     ]
    }
   ],
   "source": [
    "!pip install fugashi\n",
    "!pip install mecab-python3\n",
    "!pip install unidic-lite"
   ]
  },
  {
   "cell_type": "code",
   "execution_count": null,
   "metadata": {
    "colab": {
     "base_uri": "https://localhost:8080/"
    },
    "executionInfo": {
     "elapsed": 1027,
     "status": "ok",
     "timestamp": 1726658631452,
     "user": {
      "displayName": "백현지",
      "userId": "02510457579208942463"
     },
     "user_tz": -540
    },
    "id": "L3M-Epgz3hdm",
    "outputId": "e18dbdd5-763d-4ef8-942c-7582673533ff"
   },
   "outputs": [
    {
     "name": "stdout",
     "output_type": "stream",
     "text": [
      "usage: huggingface-cli <command> [<args>]\n",
      "huggingface-cli: error: argument {download,upload,repo-files,env,login,whoami,logout,repo,lfs-enable-largefiles,lfs-multipart-upload,scan-cache,delete-cache,tag}: invalid choice: 'list-models' (choose from 'download', 'upload', 'repo-files', 'env', 'login', 'whoami', 'logout', 'repo', 'lfs-enable-largefiles', 'lfs-multipart-upload', 'scan-cache', 'delete-cache', 'tag')\n"
     ]
    }
   ],
   "source": [
    "!huggingface-cli list-models Helsinki-NLP"
   ]
  },
  {
   "cell_type": "code",
   "execution_count": null,
   "metadata": {
    "colab": {
     "base_uri": "https://localhost:8080/",
     "referenced_widgets": [
      "d51d032f2d6f4ce3a0f1b18ad4505b81",
      "0f0d4a560e704ca3a721e65daf4f4763",
      "7a7a1543d291425f913f4f89fd79729b",
      "d9e56d97b0ad4fe496fdd3a05a1d520f",
      "90405ab6f41d4443b495d6dcbfafec6f",
      "721cad1a39eb489f86438f0f101f1885",
      "35c3510c704049ceaf0d6aa707a3ac48",
      "20c05f4248cf495e8e1d2770a62beedb",
      "205163bc13d242b78f78f9ee47c94147",
      "8f0f8a51cefe4494b5a73d3e87f602c7",
      "faa213eec45f4710b5e4cacfe0fda957",
      "52ab352f00e246769e4293c03f060b94",
      "a7f6bb8deb66484eb2db90d0e065119f",
      "0d7576e2eaa340719d382f131c7c6fff",
      "f21cee73a1a8416dbdd66882be352cad",
      "6ac004c72ce94fe5bd11d5345e0035d5",
      "da4387474322437da40192b5e6c56c93",
      "9a4f6da48eab487e959a892a035738c4",
      "b9e63cb42afb43a59df6d2b3cbcd2fb5",
      "03b6d75277b44ca4b32a406da13860c2",
      "d1f50c33d4474676a76f351171f5b0e1",
      "0cb55f72d07d4ec5b41a80a835169c96",
      "9d867cd721444c8982a9feeee8fc8dab",
      "48d2801b6e234f8ca9288d45df200b24",
      "7beafd5dc5e348b1b4816e2f01c6f76a",
      "b81c2cc9cdf44b8fb15607da38b3cf91",
      "fdb5bc933c624c9d92afd8e1eb9edb4a",
      "cec00e364b5845beafd0069a4b2c883c",
      "468a9dc0010549e6b2e78371676c6864",
      "fa76b01994a043e5867acff284dc1962",
      "5db8a46ec2744346bb94f81279d9018a",
      "cd8675aa128d412ab1e85cb93cb0b96b",
      "b47c3de7363a43ee9faeca7b357b3d59",
      "d31773d54bcf48a2bb9c806c7c4c5641",
      "04a4ebdac22f49d19359d65c648f2411",
      "17308808bedb4d5eba8a1d02ccca6942",
      "0d9cf802da0645589fe2acb634ff4dca",
      "5ef89762d23a4d46a95a8a4d29e915d3",
      "f4792656c20946fe95bca9012a041b40",
      "41a2a2f413e8471ca09f847aa326696c",
      "d3d9575479914b04b6258f6395852517",
      "6eef97a8b28f4009b9b4779fc5309e8d",
      "84e37bde088d4a22886b21888bae8813",
      "005e1e86d5ed44bcaf26a70fdbee4221"
     ]
    },
    "executionInfo": {
     "elapsed": 56505,
     "status": "ok",
     "timestamp": 1726660343036,
     "user": {
      "displayName": "백현지",
      "userId": "02510457579208942463"
     },
     "user_tz": -540
    },
    "id": "fs-GmWnt9zOJ",
    "outputId": "f269d2cd-57fb-4c1c-8e6f-51cebdb91017"
   },
   "outputs": [
    {
     "data": {
      "application/vnd.jupyter.widget-view+json": {
       "model_id": "d51d032f2d6f4ce3a0f1b18ad4505b81",
       "version_major": 2,
       "version_minor": 0
      },
      "text/plain": [
       "tokenizer.json:   0%|          | 0.00/2.83M [00:00<?, ?B/s]"
      ]
     },
     "metadata": {},
     "output_type": "display_data"
    },
    {
     "data": {
      "application/vnd.jupyter.widget-view+json": {
       "model_id": "52ab352f00e246769e4293c03f060b94",
       "version_major": 2,
       "version_minor": 0
      },
      "text/plain": [
       "config.json:   0%|          | 0.00/1.00k [00:00<?, ?B/s]"
      ]
     },
     "metadata": {},
     "output_type": "display_data"
    },
    {
     "name": "stderr",
     "output_type": "stream",
     "text": [
      "The tokenizer class you load from this checkpoint is not the same type as the class this function is called from. It may result in unexpected tokenization. \n",
      "The tokenizer class you load from this checkpoint is 'GPT2Tokenizer'. \n",
      "The class this function is called from is 'PreTrainedTokenizerFast'.\n"
     ]
    },
    {
     "data": {
      "application/vnd.jupyter.widget-view+json": {
       "model_id": "9d867cd721444c8982a9feeee8fc8dab",
       "version_major": 2,
       "version_minor": 0
      },
      "text/plain": [
       "model.safetensors:   0%|          | 0.00/1.06G [00:00<?, ?B/s]"
      ]
     },
     "metadata": {},
     "output_type": "display_data"
    },
    {
     "data": {
      "application/vnd.jupyter.widget-view+json": {
       "model_id": "d31773d54bcf48a2bb9c806c7c4c5641",
       "version_major": 2,
       "version_minor": 0
      },
      "text/plain": [
       "generation_config.json:   0%|          | 0.00/132 [00:00<?, ?B/s]"
      ]
     },
     "metadata": {},
     "output_type": "display_data"
    },
    {
     "name": "stderr",
     "output_type": "stream",
     "text": [
      "The attention mask is not set and cannot be inferred from input because pad token is same as eos token. As a consequence, you may observe unexpected behavior. Please pass your input's `attention_mask` to obtain reliable results.\n"
     ]
    },
    {
     "name": "stdout",
     "output_type": "stream",
     "text": [
      "반갑습니다 잘 부탁드립니다.\n"
     ]
    }
   ],
   "source": [
    "from transformers import EncoderDecoderModel, PreTrainedTokenizerFast, BertJapaneseTokenizer\n",
    "import torch\n",
    "\n",
    "# Model path setting\n",
    "encoder_model_name = \"cl-tohoku/bert-base-japanese-v2\"\n",
    "decoder_model_name = \"skt/kogpt2-base-v2\"\n",
    "\n",
    "# Japanese-> Talk Niser Road needed for Korean translation\n",
    "src_tokenizer = BertJapaneseTokenizer.from_pretrained(encoder_model_name)\n",
    "trg_tokenizer = PreTrainedTokenizerFast.from_pretrained(decoder_model_name)\n",
    "\n",
    "# Encoder-Decoder Model Road\n",
    "model = EncoderDecoderModel.from_pretrained(\"sappho192/aihub-ja-ko-translator\")\n",
    "\n",
    "# Translation function definition\n",
    "def translate(text_src):\n",
    "# Encoding input text into Japanese talk nicer\n",
    "    embeddings = src_tokenizer(text_src, return_attention_mask=False, return_token_type_ids=False, return_tensors='pt')\n",
    "    embeddings = {k: v for k, v in embeddings.items()}\n",
    "\n",
    "# Create using a model\n",
    "    output = model.generate(**embeddings, max_length=500)[0, 1:-1]\n",
    "\n",
    "# Decoding with Korean Talk Niser\n",
    "    text_trg = trg_tokenizer.decode(output.cpu())\n",
    "\n",
    "    return text_trg\n",
    "\n",
    "# Text to test\n",
    "text = \"初めまして。よろしくお願いします。\"\n",
    "\n",
    "# Translation and output\n",
    "print(translate(text))\n"
   ]
  },
  {
   "cell_type": "code",
   "execution_count": null,
   "metadata": {
    "colab": {
     "base_uri": "https://localhost:8080/"
    },
    "executionInfo": {
     "elapsed": 328450,
     "status": "error",
     "timestamp": 1726661955097,
     "user": {
      "displayName": "백현지",
      "userId": "02510457579208942463"
     },
     "user_tz": -540
    },
    "id": "-OTo66pDtnSG",
    "outputId": "ada631ed-698a-49b3-96a7-1deb189a363e"
   },
   "outputs": [
    {
     "name": "stderr",
     "output_type": "stream",
     "text": [
      "/usr/local/lib/python3.10/dist-packages/transformers/models/marian/tokenization_marian.py:175: UserWarning: Recommended: pip install sacremoses.\n",
      "  warnings.warn(\"Recommended: pip install sacremoses.\")\n",
      "/usr/local/lib/python3.10/dist-packages/transformers/tokenization_utils_base.py:1601: FutureWarning: `clean_up_tokenization_spaces` was not set. It will be set to `True` by default. This behavior will be depracted in transformers v4.45, and will be then set to `False` by default. For more details check this issue: https://github.com/huggingface/transformers/issues/31884\n",
      "  warnings.warn(\n",
      "Processing label 0.0:   0%|          | 1/1277 [00:10<3:39:26, 10.32s/it]"
     ]
    },
    {
     "name": "stdout",
     "output_type": "stream",
     "text": [
      "\n",
      "[Progress 0]:\n",
      "Original: 20일 금융당국 및 보험업계에 따르면 삼성생명은 최근 2건의 암보험 민원에 대한 보험금 지급을 결정하고 금감원에 지급 의견서를 제출했다. 금감원이 지급 여부를 검토하라고 지시한 다른 민원 건에 대해서도 순차적으로 지급 의견서를 낼 계획이다. 삼성생명 관계자는 환자의 주치의 판단이 분쟁 조정에서 가장 중요한 기준이기 때문에 요양병원의 입원 필요성과 기간에 대\n",
      "KO->EN: A large percentage of those who are insured and insured to non-conservation in terms of non-conservation and non-conservation of the non-resistent and non-conservation of the non-inservation care.\n",
      "EN->JP: 酒 に ふけ る 者 と, 消 す こと の な い 者 と を, 消 す こと を し な い 人々 の ため に は, 人 を 侮 る こと の な い よう に し なさ い. 人 に は 入 る こと が な く, 消 す こと を し な い で, 騒乱 を し て は な ら な い.\n",
      "JP->KO: 술 취한 자와 꺼림 없는 자를 꺼림 없는 자를 위해서는 사람을 모질게 꺼리지 말라. 사람에는 들어오지 말라, 꺼림 없이, 소란을 피우지 말라.\n"
     ]
    },
    {
     "name": "stderr",
     "output_type": "stream",
     "text": [
      "Processing label 0.0:   2%|▏         | 25/1277 [05:11<4:19:46, 12.45s/it]\n"
     ]
    },
    {
     "ename": "KeyboardInterrupt",
     "evalue": "",
     "output_type": "error",
     "traceback": [
      "\u001b[0;31m---------------------------------------------------------------------------\u001b[0m",
      "\u001b[0;31mKeyboardInterrupt\u001b[0m                         Traceback (most recent call last)",
      "\u001b[0;32m<ipython-input-59-2bd5324ee13a>\u001b[0m in \u001b[0;36m<cell line: 107>\u001b[0;34m()\u001b[0m\n\u001b[1;32m    105\u001b[0m \u001b[0;34m\u001b[0m\u001b[0m\n\u001b[1;32m    106\u001b[0m \u001b[0;31m# 언밸런스 해소: 라벨 스무딩을 적용한 증강 수행\u001b[0m\u001b[0;34m\u001b[0m\u001b[0;34m\u001b[0m\u001b[0m\n\u001b[0;32m--> 107\u001b[0;31m \u001b[0mbalanced_df\u001b[0m \u001b[0;34m=\u001b[0m \u001b[0maugment_with_label_smoothing\u001b[0m\u001b[0;34m(\u001b[0m\u001b[0mdf\u001b[0m\u001b[0;34m,\u001b[0m \u001b[0;34m'positivity'\u001b[0m\u001b[0;34m,\u001b[0m \u001b[0mmax_samples\u001b[0m\u001b[0;34m=\u001b[0m\u001b[0;36m2000\u001b[0m\u001b[0;34m,\u001b[0m \u001b[0msmoothing_factor\u001b[0m\u001b[0;34m=\u001b[0m\u001b[0;36m0.05\u001b[0m\u001b[0;34m)\u001b[0m\u001b[0;34m\u001b[0m\u001b[0;34m\u001b[0m\u001b[0m\n\u001b[0m\u001b[1;32m    108\u001b[0m \u001b[0;34m\u001b[0m\u001b[0m\n\u001b[1;32m    109\u001b[0m \u001b[0;31m# 결과 저장\u001b[0m\u001b[0;34m\u001b[0m\u001b[0;34m\u001b[0m\u001b[0m\n",
      "\u001b[0;32m<ipython-input-59-2bd5324ee13a>\u001b[0m in \u001b[0;36maugment_with_label_smoothing\u001b[0;34m(df, label_column, max_samples, smoothing_factor)\u001b[0m\n\u001b[1;32m     79\u001b[0m             \u001b[0;32mfor\u001b[0m \u001b[0midx\u001b[0m\u001b[0;34m,\u001b[0m \u001b[0mrow\u001b[0m \u001b[0;32min\u001b[0m \u001b[0mtqdm\u001b[0m\u001b[0;34m(\u001b[0m\u001b[0msubset\u001b[0m\u001b[0;34m.\u001b[0m\u001b[0miterrows\u001b[0m\u001b[0;34m(\u001b[0m\u001b[0;34m)\u001b[0m\u001b[0;34m,\u001b[0m \u001b[0mtotal\u001b[0m\u001b[0;34m=\u001b[0m\u001b[0mlen\u001b[0m\u001b[0;34m(\u001b[0m\u001b[0msubset\u001b[0m\u001b[0;34m)\u001b[0m\u001b[0;34m,\u001b[0m \u001b[0mdesc\u001b[0m\u001b[0;34m=\u001b[0m\u001b[0;34mf\"Processing label {label}\"\u001b[0m\u001b[0;34m)\u001b[0m\u001b[0;34m:\u001b[0m\u001b[0;34m\u001b[0m\u001b[0;34m\u001b[0m\u001b[0m\n\u001b[1;32m     80\u001b[0m                 \u001b[0moriginal_text\u001b[0m \u001b[0;34m=\u001b[0m \u001b[0mrow\u001b[0m\u001b[0;34m[\u001b[0m\u001b[0;34m'content'\u001b[0m\u001b[0;34m]\u001b[0m\u001b[0;34m\u001b[0m\u001b[0;34m\u001b[0m\u001b[0m\n\u001b[0;32m---> 81\u001b[0;31m                 \u001b[0maugmented_text\u001b[0m \u001b[0;34m=\u001b[0m \u001b[0mback_translate\u001b[0m\u001b[0;34m(\u001b[0m\u001b[0moriginal_text\u001b[0m\u001b[0;34m,\u001b[0m \u001b[0midx\u001b[0m\u001b[0;34m)\u001b[0m  \u001b[0;31m# 다단계 역번역을 통한 증강\u001b[0m\u001b[0;34m\u001b[0m\u001b[0;34m\u001b[0m\u001b[0m\n\u001b[0m\u001b[1;32m     82\u001b[0m                 \u001b[0maugmented_row\u001b[0m \u001b[0;34m=\u001b[0m \u001b[0mrow\u001b[0m\u001b[0;34m.\u001b[0m\u001b[0mcopy\u001b[0m\u001b[0;34m(\u001b[0m\u001b[0;34m)\u001b[0m\u001b[0;34m\u001b[0m\u001b[0;34m\u001b[0m\u001b[0m\n\u001b[1;32m     83\u001b[0m                 \u001b[0maugmented_row\u001b[0m\u001b[0;34m[\u001b[0m\u001b[0;34m'content'\u001b[0m\u001b[0;34m]\u001b[0m \u001b[0;34m=\u001b[0m \u001b[0maugmented_text\u001b[0m\u001b[0;34m\u001b[0m\u001b[0;34m\u001b[0m\u001b[0m\n",
      "\u001b[0;32m<ipython-input-59-2bd5324ee13a>\u001b[0m in \u001b[0;36mback_translate\u001b[0;34m(text, idx)\u001b[0m\n\u001b[1;32m     46\u001b[0m \u001b[0;31m# 다단계 역번역 함수 (한국어 → 영어 → 일본어 → 한국어)\u001b[0m\u001b[0;34m\u001b[0m\u001b[0;34m\u001b[0m\u001b[0m\n\u001b[1;32m     47\u001b[0m \u001b[0;32mdef\u001b[0m \u001b[0mback_translate\u001b[0m\u001b[0;34m(\u001b[0m\u001b[0mtext\u001b[0m\u001b[0;34m,\u001b[0m \u001b[0midx\u001b[0m\u001b[0;34m)\u001b[0m\u001b[0;34m:\u001b[0m\u001b[0;34m\u001b[0m\u001b[0;34m\u001b[0m\u001b[0m\n\u001b[0;32m---> 48\u001b[0;31m     \u001b[0men_text\u001b[0m \u001b[0;34m=\u001b[0m \u001b[0mtranslate_ko_to_en\u001b[0m\u001b[0;34m(\u001b[0m\u001b[0mtext\u001b[0m\u001b[0;34m)\u001b[0m  \u001b[0;31m# 한국어 -> 영어\u001b[0m\u001b[0;34m\u001b[0m\u001b[0;34m\u001b[0m\u001b[0m\n\u001b[0m\u001b[1;32m     49\u001b[0m     \u001b[0mjp_text\u001b[0m \u001b[0;34m=\u001b[0m \u001b[0mtranslate_en_to_jp\u001b[0m\u001b[0;34m(\u001b[0m\u001b[0men_text\u001b[0m\u001b[0;34m)\u001b[0m  \u001b[0;31m# 영어 -> 일본어\u001b[0m\u001b[0;34m\u001b[0m\u001b[0;34m\u001b[0m\u001b[0m\n\u001b[1;32m     50\u001b[0m     \u001b[0mback_ko_text\u001b[0m \u001b[0;34m=\u001b[0m \u001b[0mtranslate_jp_to_ko\u001b[0m\u001b[0;34m(\u001b[0m\u001b[0mjp_text\u001b[0m\u001b[0;34m)\u001b[0m  \u001b[0;31m# 일본어 -> 한국어\u001b[0m\u001b[0;34m\u001b[0m\u001b[0;34m\u001b[0m\u001b[0m\n",
      "\u001b[0;32m<ipython-input-59-2bd5324ee13a>\u001b[0m in \u001b[0;36mtranslate_ko_to_en\u001b[0;34m(text)\u001b[0m\n\u001b[1;32m     25\u001b[0m \u001b[0;32mdef\u001b[0m \u001b[0mtranslate_ko_to_en\u001b[0m\u001b[0;34m(\u001b[0m\u001b[0mtext\u001b[0m\u001b[0;34m)\u001b[0m\u001b[0;34m:\u001b[0m\u001b[0;34m\u001b[0m\u001b[0;34m\u001b[0m\u001b[0m\n\u001b[1;32m     26\u001b[0m     \u001b[0minputs\u001b[0m \u001b[0;34m=\u001b[0m \u001b[0mko_to_en_tokenizer\u001b[0m\u001b[0;34m(\u001b[0m\u001b[0;34m[\u001b[0m\u001b[0mtext\u001b[0m\u001b[0;34m]\u001b[0m\u001b[0;34m,\u001b[0m \u001b[0mreturn_tensors\u001b[0m\u001b[0;34m=\u001b[0m\u001b[0;34m\"pt\"\u001b[0m\u001b[0;34m,\u001b[0m \u001b[0mpadding\u001b[0m\u001b[0;34m=\u001b[0m\u001b[0;32mTrue\u001b[0m\u001b[0;34m,\u001b[0m \u001b[0mtruncation\u001b[0m\u001b[0;34m=\u001b[0m\u001b[0;32mTrue\u001b[0m\u001b[0;34m,\u001b[0m \u001b[0mmax_length\u001b[0m\u001b[0;34m=\u001b[0m\u001b[0;36m512\u001b[0m\u001b[0;34m)\u001b[0m\u001b[0;34m\u001b[0m\u001b[0;34m\u001b[0m\u001b[0m\n\u001b[0;32m---> 27\u001b[0;31m     \u001b[0mtranslated_tokens\u001b[0m \u001b[0;34m=\u001b[0m \u001b[0mko_to_en_model\u001b[0m\u001b[0;34m.\u001b[0m\u001b[0mgenerate\u001b[0m\u001b[0;34m(\u001b[0m\u001b[0;34m**\u001b[0m\u001b[0minputs\u001b[0m\u001b[0;34m)\u001b[0m\u001b[0;34m\u001b[0m\u001b[0;34m\u001b[0m\u001b[0m\n\u001b[0m\u001b[1;32m     28\u001b[0m     \u001b[0mtranslated_text\u001b[0m \u001b[0;34m=\u001b[0m \u001b[0mko_to_en_tokenizer\u001b[0m\u001b[0;34m.\u001b[0m\u001b[0mbatch_decode\u001b[0m\u001b[0;34m(\u001b[0m\u001b[0mtranslated_tokens\u001b[0m\u001b[0;34m,\u001b[0m \u001b[0mskip_special_tokens\u001b[0m\u001b[0;34m=\u001b[0m\u001b[0;32mTrue\u001b[0m\u001b[0;34m)\u001b[0m\u001b[0;34m[\u001b[0m\u001b[0;36m0\u001b[0m\u001b[0;34m]\u001b[0m\u001b[0;34m\u001b[0m\u001b[0;34m\u001b[0m\u001b[0m\n\u001b[1;32m     29\u001b[0m     \u001b[0;32mreturn\u001b[0m \u001b[0mtranslated_text\u001b[0m\u001b[0;34m\u001b[0m\u001b[0;34m\u001b[0m\u001b[0m\n",
      "\u001b[0;32m/usr/local/lib/python3.10/dist-packages/torch/utils/_contextlib.py\u001b[0m in \u001b[0;36mdecorate_context\u001b[0;34m(*args, **kwargs)\u001b[0m\n\u001b[1;32m    114\u001b[0m     \u001b[0;32mdef\u001b[0m \u001b[0mdecorate_context\u001b[0m\u001b[0;34m(\u001b[0m\u001b[0;34m*\u001b[0m\u001b[0margs\u001b[0m\u001b[0;34m,\u001b[0m \u001b[0;34m**\u001b[0m\u001b[0mkwargs\u001b[0m\u001b[0;34m)\u001b[0m\u001b[0;34m:\u001b[0m\u001b[0;34m\u001b[0m\u001b[0;34m\u001b[0m\u001b[0m\n\u001b[1;32m    115\u001b[0m         \u001b[0;32mwith\u001b[0m \u001b[0mctx_factory\u001b[0m\u001b[0;34m(\u001b[0m\u001b[0;34m)\u001b[0m\u001b[0;34m:\u001b[0m\u001b[0;34m\u001b[0m\u001b[0;34m\u001b[0m\u001b[0m\n\u001b[0;32m--> 116\u001b[0;31m             \u001b[0;32mreturn\u001b[0m \u001b[0mfunc\u001b[0m\u001b[0;34m(\u001b[0m\u001b[0;34m*\u001b[0m\u001b[0margs\u001b[0m\u001b[0;34m,\u001b[0m \u001b[0;34m**\u001b[0m\u001b[0mkwargs\u001b[0m\u001b[0;34m)\u001b[0m\u001b[0;34m\u001b[0m\u001b[0;34m\u001b[0m\u001b[0m\n\u001b[0m\u001b[1;32m    117\u001b[0m \u001b[0;34m\u001b[0m\u001b[0m\n\u001b[1;32m    118\u001b[0m     \u001b[0;32mreturn\u001b[0m \u001b[0mdecorate_context\u001b[0m\u001b[0;34m\u001b[0m\u001b[0;34m\u001b[0m\u001b[0m\n",
      "\u001b[0;32m/usr/local/lib/python3.10/dist-packages/transformers/generation/utils.py\u001b[0m in \u001b[0;36mgenerate\u001b[0;34m(self, inputs, generation_config, logits_processor, stopping_criteria, prefix_allowed_tokens_fn, synced_gpus, assistant_model, streamer, negative_prompt_ids, negative_prompt_attention_mask, **kwargs)\u001b[0m\n\u001b[1;32m   2061\u001b[0m \u001b[0;34m\u001b[0m\u001b[0m\n\u001b[1;32m   2062\u001b[0m             \u001b[0;31m# 14. run beam sample\u001b[0m\u001b[0;34m\u001b[0m\u001b[0;34m\u001b[0m\u001b[0m\n\u001b[0;32m-> 2063\u001b[0;31m             result = self._beam_search(\n\u001b[0m\u001b[1;32m   2064\u001b[0m                 \u001b[0minput_ids\u001b[0m\u001b[0;34m,\u001b[0m\u001b[0;34m\u001b[0m\u001b[0;34m\u001b[0m\u001b[0m\n\u001b[1;32m   2065\u001b[0m                 \u001b[0mbeam_scorer\u001b[0m\u001b[0;34m,\u001b[0m\u001b[0;34m\u001b[0m\u001b[0;34m\u001b[0m\u001b[0m\n",
      "\u001b[0;32m/usr/local/lib/python3.10/dist-packages/transformers/generation/utils.py\u001b[0m in \u001b[0;36m_beam_search\u001b[0;34m(self, input_ids, beam_scorer, logits_processor, stopping_criteria, generation_config, synced_gpus, logits_warper, **model_kwargs)\u001b[0m\n\u001b[1;32m   3236\u001b[0m \u001b[0;34m\u001b[0m\u001b[0m\n\u001b[1;32m   3237\u001b[0m             \u001b[0;32melse\u001b[0m\u001b[0;34m:\u001b[0m  \u001b[0;31m# Unchanged original behavior\u001b[0m\u001b[0;34m\u001b[0m\u001b[0;34m\u001b[0m\u001b[0m\n\u001b[0;32m-> 3238\u001b[0;31m                 \u001b[0moutputs\u001b[0m \u001b[0;34m=\u001b[0m \u001b[0mself\u001b[0m\u001b[0;34m(\u001b[0m\u001b[0;34m**\u001b[0m\u001b[0mmodel_inputs\u001b[0m\u001b[0;34m,\u001b[0m \u001b[0mreturn_dict\u001b[0m\u001b[0;34m=\u001b[0m\u001b[0;32mTrue\u001b[0m\u001b[0;34m)\u001b[0m\u001b[0;34m\u001b[0m\u001b[0;34m\u001b[0m\u001b[0m\n\u001b[0m\u001b[1;32m   3239\u001b[0m \u001b[0;34m\u001b[0m\u001b[0m\n\u001b[1;32m   3240\u001b[0m             \u001b[0;32mif\u001b[0m \u001b[0msynced_gpus\u001b[0m \u001b[0;32mand\u001b[0m \u001b[0mthis_peer_finished\u001b[0m\u001b[0;34m:\u001b[0m\u001b[0;34m\u001b[0m\u001b[0;34m\u001b[0m\u001b[0m\n",
      "\u001b[0;32m/usr/local/lib/python3.10/dist-packages/torch/nn/modules/module.py\u001b[0m in \u001b[0;36m_wrapped_call_impl\u001b[0;34m(self, *args, **kwargs)\u001b[0m\n\u001b[1;32m   1551\u001b[0m             \u001b[0;32mreturn\u001b[0m \u001b[0mself\u001b[0m\u001b[0;34m.\u001b[0m\u001b[0m_compiled_call_impl\u001b[0m\u001b[0;34m(\u001b[0m\u001b[0;34m*\u001b[0m\u001b[0margs\u001b[0m\u001b[0;34m,\u001b[0m \u001b[0;34m**\u001b[0m\u001b[0mkwargs\u001b[0m\u001b[0;34m)\u001b[0m  \u001b[0;31m# type: ignore[misc]\u001b[0m\u001b[0;34m\u001b[0m\u001b[0;34m\u001b[0m\u001b[0m\n\u001b[1;32m   1552\u001b[0m         \u001b[0;32melse\u001b[0m\u001b[0;34m:\u001b[0m\u001b[0;34m\u001b[0m\u001b[0;34m\u001b[0m\u001b[0m\n\u001b[0;32m-> 1553\u001b[0;31m             \u001b[0;32mreturn\u001b[0m \u001b[0mself\u001b[0m\u001b[0;34m.\u001b[0m\u001b[0m_call_impl\u001b[0m\u001b[0;34m(\u001b[0m\u001b[0;34m*\u001b[0m\u001b[0margs\u001b[0m\u001b[0;34m,\u001b[0m \u001b[0;34m**\u001b[0m\u001b[0mkwargs\u001b[0m\u001b[0;34m)\u001b[0m\u001b[0;34m\u001b[0m\u001b[0;34m\u001b[0m\u001b[0m\n\u001b[0m\u001b[1;32m   1554\u001b[0m \u001b[0;34m\u001b[0m\u001b[0m\n\u001b[1;32m   1555\u001b[0m     \u001b[0;32mdef\u001b[0m \u001b[0m_call_impl\u001b[0m\u001b[0;34m(\u001b[0m\u001b[0mself\u001b[0m\u001b[0;34m,\u001b[0m \u001b[0;34m*\u001b[0m\u001b[0margs\u001b[0m\u001b[0;34m,\u001b[0m \u001b[0;34m**\u001b[0m\u001b[0mkwargs\u001b[0m\u001b[0;34m)\u001b[0m\u001b[0;34m:\u001b[0m\u001b[0;34m\u001b[0m\u001b[0;34m\u001b[0m\u001b[0m\n",
      "\u001b[0;32m/usr/local/lib/python3.10/dist-packages/torch/nn/modules/module.py\u001b[0m in \u001b[0;36m_call_impl\u001b[0;34m(self, *args, **kwargs)\u001b[0m\n\u001b[1;32m   1560\u001b[0m                 \u001b[0;32mor\u001b[0m \u001b[0m_global_backward_pre_hooks\u001b[0m \u001b[0;32mor\u001b[0m \u001b[0m_global_backward_hooks\u001b[0m\u001b[0;34m\u001b[0m\u001b[0;34m\u001b[0m\u001b[0m\n\u001b[1;32m   1561\u001b[0m                 or _global_forward_hooks or _global_forward_pre_hooks):\n\u001b[0;32m-> 1562\u001b[0;31m             \u001b[0;32mreturn\u001b[0m \u001b[0mforward_call\u001b[0m\u001b[0;34m(\u001b[0m\u001b[0;34m*\u001b[0m\u001b[0margs\u001b[0m\u001b[0;34m,\u001b[0m \u001b[0;34m**\u001b[0m\u001b[0mkwargs\u001b[0m\u001b[0;34m)\u001b[0m\u001b[0;34m\u001b[0m\u001b[0;34m\u001b[0m\u001b[0m\n\u001b[0m\u001b[1;32m   1563\u001b[0m \u001b[0;34m\u001b[0m\u001b[0m\n\u001b[1;32m   1564\u001b[0m         \u001b[0;32mtry\u001b[0m\u001b[0;34m:\u001b[0m\u001b[0;34m\u001b[0m\u001b[0;34m\u001b[0m\u001b[0m\n",
      "\u001b[0;32m/usr/local/lib/python3.10/dist-packages/transformers/models/marian/modeling_marian.py\u001b[0m in \u001b[0;36mforward\u001b[0;34m(self, input_ids, attention_mask, decoder_input_ids, decoder_attention_mask, head_mask, decoder_head_mask, cross_attn_head_mask, encoder_outputs, past_key_values, inputs_embeds, decoder_inputs_embeds, labels, use_cache, output_attentions, output_hidden_states, return_dict)\u001b[0m\n\u001b[1;32m   1397\u001b[0m                 )\n\u001b[1;32m   1398\u001b[0m \u001b[0;34m\u001b[0m\u001b[0m\n\u001b[0;32m-> 1399\u001b[0;31m         outputs = self.model(\n\u001b[0m\u001b[1;32m   1400\u001b[0m             \u001b[0minput_ids\u001b[0m\u001b[0;34m,\u001b[0m\u001b[0;34m\u001b[0m\u001b[0;34m\u001b[0m\u001b[0m\n\u001b[1;32m   1401\u001b[0m             \u001b[0mattention_mask\u001b[0m\u001b[0;34m=\u001b[0m\u001b[0mattention_mask\u001b[0m\u001b[0;34m,\u001b[0m\u001b[0;34m\u001b[0m\u001b[0;34m\u001b[0m\u001b[0m\n",
      "\u001b[0;32m/usr/local/lib/python3.10/dist-packages/torch/nn/modules/module.py\u001b[0m in \u001b[0;36m_wrapped_call_impl\u001b[0;34m(self, *args, **kwargs)\u001b[0m\n\u001b[1;32m   1551\u001b[0m             \u001b[0;32mreturn\u001b[0m \u001b[0mself\u001b[0m\u001b[0;34m.\u001b[0m\u001b[0m_compiled_call_impl\u001b[0m\u001b[0;34m(\u001b[0m\u001b[0;34m*\u001b[0m\u001b[0margs\u001b[0m\u001b[0;34m,\u001b[0m \u001b[0;34m**\u001b[0m\u001b[0mkwargs\u001b[0m\u001b[0;34m)\u001b[0m  \u001b[0;31m# type: ignore[misc]\u001b[0m\u001b[0;34m\u001b[0m\u001b[0;34m\u001b[0m\u001b[0m\n\u001b[1;32m   1552\u001b[0m         \u001b[0;32melse\u001b[0m\u001b[0;34m:\u001b[0m\u001b[0;34m\u001b[0m\u001b[0;34m\u001b[0m\u001b[0m\n\u001b[0;32m-> 1553\u001b[0;31m             \u001b[0;32mreturn\u001b[0m \u001b[0mself\u001b[0m\u001b[0;34m.\u001b[0m\u001b[0m_call_impl\u001b[0m\u001b[0;34m(\u001b[0m\u001b[0;34m*\u001b[0m\u001b[0margs\u001b[0m\u001b[0;34m,\u001b[0m \u001b[0;34m**\u001b[0m\u001b[0mkwargs\u001b[0m\u001b[0;34m)\u001b[0m\u001b[0;34m\u001b[0m\u001b[0;34m\u001b[0m\u001b[0m\n\u001b[0m\u001b[1;32m   1554\u001b[0m \u001b[0;34m\u001b[0m\u001b[0m\n\u001b[1;32m   1555\u001b[0m     \u001b[0;32mdef\u001b[0m \u001b[0m_call_impl\u001b[0m\u001b[0;34m(\u001b[0m\u001b[0mself\u001b[0m\u001b[0;34m,\u001b[0m \u001b[0;34m*\u001b[0m\u001b[0margs\u001b[0m\u001b[0;34m,\u001b[0m \u001b[0;34m**\u001b[0m\u001b[0mkwargs\u001b[0m\u001b[0;34m)\u001b[0m\u001b[0;34m:\u001b[0m\u001b[0;34m\u001b[0m\u001b[0;34m\u001b[0m\u001b[0m\n",
      "\u001b[0;32m/usr/local/lib/python3.10/dist-packages/torch/nn/modules/module.py\u001b[0m in \u001b[0;36m_call_impl\u001b[0;34m(self, *args, **kwargs)\u001b[0m\n\u001b[1;32m   1560\u001b[0m                 \u001b[0;32mor\u001b[0m \u001b[0m_global_backward_pre_hooks\u001b[0m \u001b[0;32mor\u001b[0m \u001b[0m_global_backward_hooks\u001b[0m\u001b[0;34m\u001b[0m\u001b[0;34m\u001b[0m\u001b[0m\n\u001b[1;32m   1561\u001b[0m                 or _global_forward_hooks or _global_forward_pre_hooks):\n\u001b[0;32m-> 1562\u001b[0;31m             \u001b[0;32mreturn\u001b[0m \u001b[0mforward_call\u001b[0m\u001b[0;34m(\u001b[0m\u001b[0;34m*\u001b[0m\u001b[0margs\u001b[0m\u001b[0;34m,\u001b[0m \u001b[0;34m**\u001b[0m\u001b[0mkwargs\u001b[0m\u001b[0;34m)\u001b[0m\u001b[0;34m\u001b[0m\u001b[0;34m\u001b[0m\u001b[0m\n\u001b[0m\u001b[1;32m   1563\u001b[0m \u001b[0;34m\u001b[0m\u001b[0m\n\u001b[1;32m   1564\u001b[0m         \u001b[0;32mtry\u001b[0m\u001b[0;34m:\u001b[0m\u001b[0;34m\u001b[0m\u001b[0;34m\u001b[0m\u001b[0m\n",
      "\u001b[0;32m/usr/local/lib/python3.10/dist-packages/transformers/models/marian/modeling_marian.py\u001b[0m in \u001b[0;36mforward\u001b[0;34m(self, input_ids, attention_mask, decoder_input_ids, decoder_attention_mask, head_mask, decoder_head_mask, cross_attn_head_mask, encoder_outputs, past_key_values, inputs_embeds, decoder_inputs_embeds, use_cache, output_attentions, output_hidden_states, return_dict)\u001b[0m\n\u001b[1;32m   1192\u001b[0m \u001b[0;34m\u001b[0m\u001b[0m\n\u001b[1;32m   1193\u001b[0m         \u001b[0;31m# decoder outputs consists of (dec_features, past_key_value, dec_hidden, dec_attn)\u001b[0m\u001b[0;34m\u001b[0m\u001b[0;34m\u001b[0m\u001b[0m\n\u001b[0;32m-> 1194\u001b[0;31m         decoder_outputs = self.decoder(\n\u001b[0m\u001b[1;32m   1195\u001b[0m             \u001b[0minput_ids\u001b[0m\u001b[0;34m=\u001b[0m\u001b[0mdecoder_input_ids\u001b[0m\u001b[0;34m,\u001b[0m\u001b[0;34m\u001b[0m\u001b[0;34m\u001b[0m\u001b[0m\n\u001b[1;32m   1196\u001b[0m             \u001b[0mattention_mask\u001b[0m\u001b[0;34m=\u001b[0m\u001b[0mdecoder_attention_mask\u001b[0m\u001b[0;34m,\u001b[0m\u001b[0;34m\u001b[0m\u001b[0;34m\u001b[0m\u001b[0m\n",
      "\u001b[0;32m/usr/local/lib/python3.10/dist-packages/torch/nn/modules/module.py\u001b[0m in \u001b[0;36m_wrapped_call_impl\u001b[0;34m(self, *args, **kwargs)\u001b[0m\n\u001b[1;32m   1551\u001b[0m             \u001b[0;32mreturn\u001b[0m \u001b[0mself\u001b[0m\u001b[0;34m.\u001b[0m\u001b[0m_compiled_call_impl\u001b[0m\u001b[0;34m(\u001b[0m\u001b[0;34m*\u001b[0m\u001b[0margs\u001b[0m\u001b[0;34m,\u001b[0m \u001b[0;34m**\u001b[0m\u001b[0mkwargs\u001b[0m\u001b[0;34m)\u001b[0m  \u001b[0;31m# type: ignore[misc]\u001b[0m\u001b[0;34m\u001b[0m\u001b[0;34m\u001b[0m\u001b[0m\n\u001b[1;32m   1552\u001b[0m         \u001b[0;32melse\u001b[0m\u001b[0;34m:\u001b[0m\u001b[0;34m\u001b[0m\u001b[0;34m\u001b[0m\u001b[0m\n\u001b[0;32m-> 1553\u001b[0;31m             \u001b[0;32mreturn\u001b[0m \u001b[0mself\u001b[0m\u001b[0;34m.\u001b[0m\u001b[0m_call_impl\u001b[0m\u001b[0;34m(\u001b[0m\u001b[0;34m*\u001b[0m\u001b[0margs\u001b[0m\u001b[0;34m,\u001b[0m \u001b[0;34m**\u001b[0m\u001b[0mkwargs\u001b[0m\u001b[0;34m)\u001b[0m\u001b[0;34m\u001b[0m\u001b[0;34m\u001b[0m\u001b[0m\n\u001b[0m\u001b[1;32m   1554\u001b[0m \u001b[0;34m\u001b[0m\u001b[0m\n\u001b[1;32m   1555\u001b[0m     \u001b[0;32mdef\u001b[0m \u001b[0m_call_impl\u001b[0m\u001b[0;34m(\u001b[0m\u001b[0mself\u001b[0m\u001b[0;34m,\u001b[0m \u001b[0;34m*\u001b[0m\u001b[0margs\u001b[0m\u001b[0;34m,\u001b[0m \u001b[0;34m**\u001b[0m\u001b[0mkwargs\u001b[0m\u001b[0;34m)\u001b[0m\u001b[0;34m:\u001b[0m\u001b[0;34m\u001b[0m\u001b[0;34m\u001b[0m\u001b[0m\n",
      "\u001b[0;32m/usr/local/lib/python3.10/dist-packages/torch/nn/modules/module.py\u001b[0m in \u001b[0;36m_call_impl\u001b[0;34m(self, *args, **kwargs)\u001b[0m\n\u001b[1;32m   1560\u001b[0m                 \u001b[0;32mor\u001b[0m \u001b[0m_global_backward_pre_hooks\u001b[0m \u001b[0;32mor\u001b[0m \u001b[0m_global_backward_hooks\u001b[0m\u001b[0;34m\u001b[0m\u001b[0;34m\u001b[0m\u001b[0m\n\u001b[1;32m   1561\u001b[0m                 or _global_forward_hooks or _global_forward_pre_hooks):\n\u001b[0;32m-> 1562\u001b[0;31m             \u001b[0;32mreturn\u001b[0m \u001b[0mforward_call\u001b[0m\u001b[0;34m(\u001b[0m\u001b[0;34m*\u001b[0m\u001b[0margs\u001b[0m\u001b[0;34m,\u001b[0m \u001b[0;34m**\u001b[0m\u001b[0mkwargs\u001b[0m\u001b[0;34m)\u001b[0m\u001b[0;34m\u001b[0m\u001b[0;34m\u001b[0m\u001b[0m\n\u001b[0m\u001b[1;32m   1563\u001b[0m \u001b[0;34m\u001b[0m\u001b[0m\n\u001b[1;32m   1564\u001b[0m         \u001b[0;32mtry\u001b[0m\u001b[0;34m:\u001b[0m\u001b[0;34m\u001b[0m\u001b[0;34m\u001b[0m\u001b[0m\n",
      "\u001b[0;32m/usr/local/lib/python3.10/dist-packages/transformers/models/marian/modeling_marian.py\u001b[0m in \u001b[0;36mforward\u001b[0;34m(self, input_ids, attention_mask, encoder_hidden_states, encoder_attention_mask, head_mask, cross_attn_head_mask, past_key_values, inputs_embeds, use_cache, output_attentions, output_hidden_states, return_dict)\u001b[0m\n\u001b[1;32m    992\u001b[0m                 )\n\u001b[1;32m    993\u001b[0m             \u001b[0;32melse\u001b[0m\u001b[0;34m:\u001b[0m\u001b[0;34m\u001b[0m\u001b[0;34m\u001b[0m\u001b[0m\n\u001b[0;32m--> 994\u001b[0;31m                 layer_outputs = decoder_layer(\n\u001b[0m\u001b[1;32m    995\u001b[0m                     \u001b[0mhidden_states\u001b[0m\u001b[0;34m,\u001b[0m\u001b[0;34m\u001b[0m\u001b[0;34m\u001b[0m\u001b[0m\n\u001b[1;32m    996\u001b[0m                     \u001b[0mattention_mask\u001b[0m\u001b[0;34m=\u001b[0m\u001b[0mattention_mask\u001b[0m\u001b[0;34m,\u001b[0m\u001b[0;34m\u001b[0m\u001b[0;34m\u001b[0m\u001b[0m\n",
      "\u001b[0;32m/usr/local/lib/python3.10/dist-packages/torch/nn/modules/module.py\u001b[0m in \u001b[0;36m_wrapped_call_impl\u001b[0;34m(self, *args, **kwargs)\u001b[0m\n\u001b[1;32m   1551\u001b[0m             \u001b[0;32mreturn\u001b[0m \u001b[0mself\u001b[0m\u001b[0;34m.\u001b[0m\u001b[0m_compiled_call_impl\u001b[0m\u001b[0;34m(\u001b[0m\u001b[0;34m*\u001b[0m\u001b[0margs\u001b[0m\u001b[0;34m,\u001b[0m \u001b[0;34m**\u001b[0m\u001b[0mkwargs\u001b[0m\u001b[0;34m)\u001b[0m  \u001b[0;31m# type: ignore[misc]\u001b[0m\u001b[0;34m\u001b[0m\u001b[0;34m\u001b[0m\u001b[0m\n\u001b[1;32m   1552\u001b[0m         \u001b[0;32melse\u001b[0m\u001b[0;34m:\u001b[0m\u001b[0;34m\u001b[0m\u001b[0;34m\u001b[0m\u001b[0m\n\u001b[0;32m-> 1553\u001b[0;31m             \u001b[0;32mreturn\u001b[0m \u001b[0mself\u001b[0m\u001b[0;34m.\u001b[0m\u001b[0m_call_impl\u001b[0m\u001b[0;34m(\u001b[0m\u001b[0;34m*\u001b[0m\u001b[0margs\u001b[0m\u001b[0;34m,\u001b[0m \u001b[0;34m**\u001b[0m\u001b[0mkwargs\u001b[0m\u001b[0;34m)\u001b[0m\u001b[0;34m\u001b[0m\u001b[0;34m\u001b[0m\u001b[0m\n\u001b[0m\u001b[1;32m   1554\u001b[0m \u001b[0;34m\u001b[0m\u001b[0m\n\u001b[1;32m   1555\u001b[0m     \u001b[0;32mdef\u001b[0m \u001b[0m_call_impl\u001b[0m\u001b[0;34m(\u001b[0m\u001b[0mself\u001b[0m\u001b[0;34m,\u001b[0m \u001b[0;34m*\u001b[0m\u001b[0margs\u001b[0m\u001b[0;34m,\u001b[0m \u001b[0;34m**\u001b[0m\u001b[0mkwargs\u001b[0m\u001b[0;34m)\u001b[0m\u001b[0;34m:\u001b[0m\u001b[0;34m\u001b[0m\u001b[0;34m\u001b[0m\u001b[0m\n",
      "\u001b[0;32m/usr/local/lib/python3.10/dist-packages/torch/nn/modules/module.py\u001b[0m in \u001b[0;36m_call_impl\u001b[0;34m(self, *args, **kwargs)\u001b[0m\n\u001b[1;32m   1560\u001b[0m                 \u001b[0;32mor\u001b[0m \u001b[0m_global_backward_pre_hooks\u001b[0m \u001b[0;32mor\u001b[0m \u001b[0m_global_backward_hooks\u001b[0m\u001b[0;34m\u001b[0m\u001b[0;34m\u001b[0m\u001b[0m\n\u001b[1;32m   1561\u001b[0m                 or _global_forward_hooks or _global_forward_pre_hooks):\n\u001b[0;32m-> 1562\u001b[0;31m             \u001b[0;32mreturn\u001b[0m \u001b[0mforward_call\u001b[0m\u001b[0;34m(\u001b[0m\u001b[0;34m*\u001b[0m\u001b[0margs\u001b[0m\u001b[0;34m,\u001b[0m \u001b[0;34m**\u001b[0m\u001b[0mkwargs\u001b[0m\u001b[0;34m)\u001b[0m\u001b[0;34m\u001b[0m\u001b[0;34m\u001b[0m\u001b[0m\n\u001b[0m\u001b[1;32m   1563\u001b[0m \u001b[0;34m\u001b[0m\u001b[0m\n\u001b[1;32m   1564\u001b[0m         \u001b[0;32mtry\u001b[0m\u001b[0;34m:\u001b[0m\u001b[0;34m\u001b[0m\u001b[0;34m\u001b[0m\u001b[0m\n",
      "\u001b[0;32m/usr/local/lib/python3.10/dist-packages/transformers/models/marian/modeling_marian.py\u001b[0m in \u001b[0;36mforward\u001b[0;34m(self, hidden_states, attention_mask, encoder_hidden_states, encoder_attention_mask, layer_head_mask, cross_attn_layer_head_mask, past_key_value, output_attentions, use_cache)\u001b[0m\n\u001b[1;32m    438\u001b[0m         \u001b[0;31m# Fully Connected\u001b[0m\u001b[0;34m\u001b[0m\u001b[0;34m\u001b[0m\u001b[0m\n\u001b[1;32m    439\u001b[0m         \u001b[0mresidual\u001b[0m \u001b[0;34m=\u001b[0m \u001b[0mhidden_states\u001b[0m\u001b[0;34m\u001b[0m\u001b[0;34m\u001b[0m\u001b[0m\n\u001b[0;32m--> 440\u001b[0;31m         \u001b[0mhidden_states\u001b[0m \u001b[0;34m=\u001b[0m \u001b[0mself\u001b[0m\u001b[0;34m.\u001b[0m\u001b[0mactivation_fn\u001b[0m\u001b[0;34m(\u001b[0m\u001b[0mself\u001b[0m\u001b[0;34m.\u001b[0m\u001b[0mfc1\u001b[0m\u001b[0;34m(\u001b[0m\u001b[0mhidden_states\u001b[0m\u001b[0;34m)\u001b[0m\u001b[0;34m)\u001b[0m\u001b[0;34m\u001b[0m\u001b[0;34m\u001b[0m\u001b[0m\n\u001b[0m\u001b[1;32m    441\u001b[0m         \u001b[0mhidden_states\u001b[0m \u001b[0;34m=\u001b[0m \u001b[0mnn\u001b[0m\u001b[0;34m.\u001b[0m\u001b[0mfunctional\u001b[0m\u001b[0;34m.\u001b[0m\u001b[0mdropout\u001b[0m\u001b[0;34m(\u001b[0m\u001b[0mhidden_states\u001b[0m\u001b[0;34m,\u001b[0m \u001b[0mp\u001b[0m\u001b[0;34m=\u001b[0m\u001b[0mself\u001b[0m\u001b[0;34m.\u001b[0m\u001b[0mactivation_dropout\u001b[0m\u001b[0;34m,\u001b[0m \u001b[0mtraining\u001b[0m\u001b[0;34m=\u001b[0m\u001b[0mself\u001b[0m\u001b[0;34m.\u001b[0m\u001b[0mtraining\u001b[0m\u001b[0;34m)\u001b[0m\u001b[0;34m\u001b[0m\u001b[0;34m\u001b[0m\u001b[0m\n\u001b[1;32m    442\u001b[0m         \u001b[0mhidden_states\u001b[0m \u001b[0;34m=\u001b[0m \u001b[0mself\u001b[0m\u001b[0;34m.\u001b[0m\u001b[0mfc2\u001b[0m\u001b[0;34m(\u001b[0m\u001b[0mhidden_states\u001b[0m\u001b[0;34m)\u001b[0m\u001b[0;34m\u001b[0m\u001b[0;34m\u001b[0m\u001b[0m\n",
      "\u001b[0;32m/usr/local/lib/python3.10/dist-packages/torch/nn/modules/module.py\u001b[0m in \u001b[0;36m_wrapped_call_impl\u001b[0;34m(self, *args, **kwargs)\u001b[0m\n\u001b[1;32m   1551\u001b[0m             \u001b[0;32mreturn\u001b[0m \u001b[0mself\u001b[0m\u001b[0;34m.\u001b[0m\u001b[0m_compiled_call_impl\u001b[0m\u001b[0;34m(\u001b[0m\u001b[0;34m*\u001b[0m\u001b[0margs\u001b[0m\u001b[0;34m,\u001b[0m \u001b[0;34m**\u001b[0m\u001b[0mkwargs\u001b[0m\u001b[0;34m)\u001b[0m  \u001b[0;31m# type: ignore[misc]\u001b[0m\u001b[0;34m\u001b[0m\u001b[0;34m\u001b[0m\u001b[0m\n\u001b[1;32m   1552\u001b[0m         \u001b[0;32melse\u001b[0m\u001b[0;34m:\u001b[0m\u001b[0;34m\u001b[0m\u001b[0;34m\u001b[0m\u001b[0m\n\u001b[0;32m-> 1553\u001b[0;31m             \u001b[0;32mreturn\u001b[0m \u001b[0mself\u001b[0m\u001b[0;34m.\u001b[0m\u001b[0m_call_impl\u001b[0m\u001b[0;34m(\u001b[0m\u001b[0;34m*\u001b[0m\u001b[0margs\u001b[0m\u001b[0;34m,\u001b[0m \u001b[0;34m**\u001b[0m\u001b[0mkwargs\u001b[0m\u001b[0;34m)\u001b[0m\u001b[0;34m\u001b[0m\u001b[0;34m\u001b[0m\u001b[0m\n\u001b[0m\u001b[1;32m   1554\u001b[0m \u001b[0;34m\u001b[0m\u001b[0m\n\u001b[1;32m   1555\u001b[0m     \u001b[0;32mdef\u001b[0m \u001b[0m_call_impl\u001b[0m\u001b[0;34m(\u001b[0m\u001b[0mself\u001b[0m\u001b[0;34m,\u001b[0m \u001b[0;34m*\u001b[0m\u001b[0margs\u001b[0m\u001b[0;34m,\u001b[0m \u001b[0;34m**\u001b[0m\u001b[0mkwargs\u001b[0m\u001b[0;34m)\u001b[0m\u001b[0;34m:\u001b[0m\u001b[0;34m\u001b[0m\u001b[0;34m\u001b[0m\u001b[0m\n",
      "\u001b[0;32m/usr/local/lib/python3.10/dist-packages/torch/nn/modules/module.py\u001b[0m in \u001b[0;36m_call_impl\u001b[0;34m(self, *args, **kwargs)\u001b[0m\n\u001b[1;32m   1560\u001b[0m                 \u001b[0;32mor\u001b[0m \u001b[0m_global_backward_pre_hooks\u001b[0m \u001b[0;32mor\u001b[0m \u001b[0m_global_backward_hooks\u001b[0m\u001b[0;34m\u001b[0m\u001b[0;34m\u001b[0m\u001b[0m\n\u001b[1;32m   1561\u001b[0m                 or _global_forward_hooks or _global_forward_pre_hooks):\n\u001b[0;32m-> 1562\u001b[0;31m             \u001b[0;32mreturn\u001b[0m \u001b[0mforward_call\u001b[0m\u001b[0;34m(\u001b[0m\u001b[0;34m*\u001b[0m\u001b[0margs\u001b[0m\u001b[0;34m,\u001b[0m \u001b[0;34m**\u001b[0m\u001b[0mkwargs\u001b[0m\u001b[0;34m)\u001b[0m\u001b[0;34m\u001b[0m\u001b[0;34m\u001b[0m\u001b[0m\n\u001b[0m\u001b[1;32m   1563\u001b[0m \u001b[0;34m\u001b[0m\u001b[0m\n\u001b[1;32m   1564\u001b[0m         \u001b[0;32mtry\u001b[0m\u001b[0;34m:\u001b[0m\u001b[0;34m\u001b[0m\u001b[0;34m\u001b[0m\u001b[0m\n",
      "\u001b[0;32m/usr/local/lib/python3.10/dist-packages/torch/nn/modules/linear.py\u001b[0m in \u001b[0;36mforward\u001b[0;34m(self, input)\u001b[0m\n\u001b[1;32m    115\u001b[0m \u001b[0;34m\u001b[0m\u001b[0m\n\u001b[1;32m    116\u001b[0m     \u001b[0;32mdef\u001b[0m \u001b[0mforward\u001b[0m\u001b[0;34m(\u001b[0m\u001b[0mself\u001b[0m\u001b[0;34m,\u001b[0m \u001b[0minput\u001b[0m\u001b[0;34m:\u001b[0m \u001b[0mTensor\u001b[0m\u001b[0;34m)\u001b[0m \u001b[0;34m->\u001b[0m \u001b[0mTensor\u001b[0m\u001b[0;34m:\u001b[0m\u001b[0;34m\u001b[0m\u001b[0;34m\u001b[0m\u001b[0m\n\u001b[0;32m--> 117\u001b[0;31m         \u001b[0;32mreturn\u001b[0m \u001b[0mF\u001b[0m\u001b[0;34m.\u001b[0m\u001b[0mlinear\u001b[0m\u001b[0;34m(\u001b[0m\u001b[0minput\u001b[0m\u001b[0;34m,\u001b[0m \u001b[0mself\u001b[0m\u001b[0;34m.\u001b[0m\u001b[0mweight\u001b[0m\u001b[0;34m,\u001b[0m \u001b[0mself\u001b[0m\u001b[0;34m.\u001b[0m\u001b[0mbias\u001b[0m\u001b[0;34m)\u001b[0m\u001b[0;34m\u001b[0m\u001b[0;34m\u001b[0m\u001b[0m\n\u001b[0m\u001b[1;32m    118\u001b[0m \u001b[0;34m\u001b[0m\u001b[0m\n\u001b[1;32m    119\u001b[0m     \u001b[0;32mdef\u001b[0m \u001b[0mextra_repr\u001b[0m\u001b[0;34m(\u001b[0m\u001b[0mself\u001b[0m\u001b[0;34m)\u001b[0m \u001b[0;34m->\u001b[0m \u001b[0mstr\u001b[0m\u001b[0;34m:\u001b[0m\u001b[0;34m\u001b[0m\u001b[0;34m\u001b[0m\u001b[0m\n",
      "\u001b[0;31mKeyboardInterrupt\u001b[0m: "
     ]
    }
   ],
   "source": [
    "import pandas as pd\n",
    "import numpy as np\n",
    "from transformers import EncoderDecoderModel, GPT2TokenizerFast, BertJapaneseTokenizer, MarianMTModel, MarianTokenizer\n",
    "from tqdm import tqdm\n",
    "\n",
    "#Model Road (Korean-> English-> Japanese-> Korean)\n",
    "ko_to_en_model_name = 'Helsinki-NLP/opus-mt-ko-en'\n",
    "en_to_jp_model_name = 'Helsinki-NLP/opus-mt-en-jap'\n",
    "\n",
    "ko_to_en_tokenizer = MarianTokenizer.from_pretrained(ko_to_en_model_name)\n",
    "en_to_jp_tokenizer = MarianTokenizer.from_pretrained(en_to_jp_model_name)\n",
    "\n",
    "ko_to_en_model = MarianMTModel.from_pretrained(ko_to_en_model_name)\n",
    "en_to_jp_model = MarianMTModel.from_pretrained(en_to_jp_model_name)\n",
    "\n",
    "# EncoderDecoderModel Road (Japanese-> Korean)\n",
    "encoder_model_name = \"cl-tohoku/bert-base-japanese-v2\"\n",
    "decoder_model_name = \"skt/kogpt2-base-v2\"\n",
    "\n",
    "src_tokenizer = BertJapaneseTokenizer.from_pretrained(encoder_model_name)\n",
    "trg_tokenizer = GPT2TokenizerFast.from_pretrained(decoder_model_name)\n",
    "ja_to_ko_model = EncoderDecoderModel.from_pretrained(\"sappho192/aihub-ja-ko-translator\")\n",
    "\n",
    "# Korean-> English translation\n",
    "def translate_ko_to_en(text):\n",
    "    inputs = ko_to_en_tokenizer([text], return_tensors=\"pt\", padding=True, truncation=True, max_length=512)\n",
    "    translated_tokens = ko_to_en_model.generate(**inputs)\n",
    "    translated_text = ko_to_en_tokenizer.batch_decode(translated_tokens, skip_special_tokens=True)[0]\n",
    "    return translated_text\n",
    "\n",
    "# English-> Japanese translation\n",
    "def translate_en_to_jp(text):\n",
    "    inputs = en_to_jp_tokenizer([text], return_tensors=\"pt\", padding=True, truncation=True, max_length=512)\n",
    "    translated_tokens = en_to_jp_model.generate(**inputs)\n",
    "    translated_text = en_to_jp_tokenizer.batch_decode(translated_tokens, skip_special_tokens=True)[0]\n",
    "    return translated_text\n",
    "\n",
    "# Japanese-> Korean translation (first code application)\n",
    "def translate_jp_to_ko(text):\n",
    "    embeddings = src_tokenizer(text, return_attention_mask=False, return_token_type_ids=False, return_tensors='pt', truncation=True, max_length=512)\n",
    "    embeddings = {k: v for k, v in embeddings.items()}\n",
    "    output = ja_to_ko_model.generate(**embeddings, max_length=500)[0, 1:-1]\n",
    "    translated_text = trg_tokenizer.decode(output.cpu())\n",
    "    return translated_text\n",
    "\n",
    "# Multi -level reverse transformation function (Korean → English → Japanese → Korean)\n",
    "def back_translate(text, idx):\n",
    "    en_text = translate_ko_to_en(text)  # 한국어 -> 영어\n",
    "    jp_text = translate_en_to_jp(en_text)  # 영어 -> 일본어\n",
    "    back_ko_text = translate_jp_to_ko(jp_text)  # 일본어 -> 한국어\n",
    "\n",
    "# Output progress for every 500\n",
    "    if idx % 500 == 0:\n",
    "        print(f\"\\n[Progress {idx}]:\")\n",
    "        print(f\"Original: {text[:200]}\")\n",
    "        print(f\"KO->EN: {en_text[:200]}\")\n",
    "        print(f\"EN->JP: {jp_text[:200]}\")\n",
    "        print(f\"JP->KO: {back_ko_text[:200]}\")\n",
    "\n",
    "    return back_ko_text\n",
    "\n",
    "#Label smoothing function\n",
    "def apply_label_smoothing(label, smoothing_factor=0.05):\n",
    "    return label * (1 - smoothing_factor) + (0.5 * smoothing_factor)\n",
    "\n",
    "#Chiped class enhancement + label smoothing function\n",
    "def augment_with_label_smoothing(df, label_column, max_samples, smoothing_factor=0.05):\n",
    "    label_counts = df[label_column].value_counts()\n",
    "    max_count = max_samples if max_samples else label_counts.max()  # 목표 샘플 수 설정 (최대값 또는 지정 값)\n",
    "\n",
    "    balanced_df = pd.DataFrame()  # 최종 균형 조정된 데이터셋 저장\n",
    "\n",
    "    for label, count in label_counts.items():\n",
    "        subset = df[df[label_column] == label]  # 해당 라벨의 데이터 추출\n",
    "\n",
    "        if count < max_count:\n",
    "#Hive minor class increase (enhancement of data as it is lacking)\n",
    "            augmented_texts = []\n",
    "            for idx, row in tqdm(subset.iterrows(), total=len(subset), desc=f\"Processing label {label}\"):\n",
    "                original_text = row['content']\n",
    "                augmented_text = back_translate(original_text, idx)  # 다단계 역번역을 통한 증강\n",
    "                augmented_row = row.copy()\n",
    "                augmented_row['content'] = augmented_text\n",
    "                augmented_row['full_text'] = augmented_text  # 'full_text' 업데이트\n",
    "\n",
    "# Apply label smoothing\n",
    "                smoothed_label = apply_label_smoothing(row[label_column], smoothing_factor=smoothing_factor)\n",
    "                augmented_row[label_column] = smoothed_label  # 스무딩된 라벨 적용\n",
    "                augmented_texts.append(augmented_row)\n",
    "\n",
    "            augmented_df = pd.DataFrame(augmented_texts)  # 증강된 데이터 프레임화\n",
    "            num_to_generate = max_count - count  # 부족한 개수만큼 증강\n",
    "            sampled_augmented = augmented_df.sample(n=num_to_generate, replace=True)  # 증강된 데이터 중 샘플링\n",
    "            balanced_df = pd.concat([balanced_df, subset, sampled_augmented], ignore_index=True)\n",
    "\n",
    "        else:\n",
    "# Excessive representative classes are added as original\n",
    "            balanced_df = pd.concat([balanced_df, subset], ignore_index=True)\n",
    "\n",
    "    return balanced_df\n",
    "\n",
    "# Examples of data load and application\n",
    "file_path = '/content/drive/MyDrive/Kwargs/021. 기업적합도 필터/업데이트/A1_remaster_combined_ANONYMIZED.csv'\n",
    "df = pd.read_csv(file_path)\n",
    "\n",
    "# Unbalanced: Augmented with label smoothing\n",
    "balanced_df = augment_with_label_smoothing(df, 'evaluation_6', max_samples=2000, smoothing_factor=0.05)\n",
    "\n",
    "#Save results\n",
    "output_file = '/content/drive/MyDrive/Kwargs/021. 기업적합도 필터/업데이트/A1_remaster_combined_ANONYMIZED_balanced.csv'\n",
    "balanced_df.to_csv(output_file, index=False)\n",
    "print(f\"균형 조정 및 라벨 스무딩이 적용된 데이터가 저장되었습니다: {output_file}\")\n"
   ]
  },
  {
   "cell_type": "markdown",
   "metadata": {
    "id": "2Ioh41yKGW_3"
   },
   "source": [
    "### a3-Google Translate Library"
   ]
  },
  {
   "cell_type": "code",
   "execution_count": null,
   "metadata": {
    "colab": {
     "base_uri": "https://localhost:8080/"
    },
    "executionInfo": {
     "elapsed": 3389,
     "status": "ok",
     "timestamp": 1726662459847,
     "user": {
      "displayName": "백현지",
      "userId": "02510457579208942463"
     },
     "user_tz": -540
    },
    "id": "Vb3lTxUsGbbR",
    "outputId": "1cdd9581-4b48-48f5-896f-4812e05c5f04"
   },
   "outputs": [
    {
     "name": "stdout",
     "output_type": "stream",
     "text": [
      "Requirement already satisfied: googletrans==4.0.0-rc1 in /usr/local/lib/python3.10/dist-packages (4.0.0rc1)\n",
      "Requirement already satisfied: httpx==0.13.3 in /usr/local/lib/python3.10/dist-packages (from googletrans==4.0.0-rc1) (0.13.3)\n",
      "Requirement already satisfied: certifi in /usr/local/lib/python3.10/dist-packages (from httpx==0.13.3->googletrans==4.0.0-rc1) (2024.8.30)\n",
      "Requirement already satisfied: hstspreload in /usr/local/lib/python3.10/dist-packages (from httpx==0.13.3->googletrans==4.0.0-rc1) (2024.9.1)\n",
      "Requirement already satisfied: sniffio in /usr/local/lib/python3.10/dist-packages (from httpx==0.13.3->googletrans==4.0.0-rc1) (1.3.1)\n",
      "Requirement already satisfied: chardet==3.* in /usr/local/lib/python3.10/dist-packages (from httpx==0.13.3->googletrans==4.0.0-rc1) (3.0.4)\n",
      "Requirement already satisfied: idna==2.* in /usr/local/lib/python3.10/dist-packages (from httpx==0.13.3->googletrans==4.0.0-rc1) (2.10)\n",
      "Requirement already satisfied: rfc3986<2,>=1.3 in /usr/local/lib/python3.10/dist-packages (from httpx==0.13.3->googletrans==4.0.0-rc1) (1.5.0)\n",
      "Requirement already satisfied: httpcore==0.9.* in /usr/local/lib/python3.10/dist-packages (from httpx==0.13.3->googletrans==4.0.0-rc1) (0.9.1)\n",
      "Requirement already satisfied: h11<0.10,>=0.8 in /usr/local/lib/python3.10/dist-packages (from httpcore==0.9.*->httpx==0.13.3->googletrans==4.0.0-rc1) (0.9.0)\n",
      "Requirement already satisfied: h2==3.* in /usr/local/lib/python3.10/dist-packages (from httpcore==0.9.*->httpx==0.13.3->googletrans==4.0.0-rc1) (3.2.0)\n",
      "Requirement already satisfied: hyperframe<6,>=5.2.0 in /usr/local/lib/python3.10/dist-packages (from h2==3.*->httpcore==0.9.*->httpx==0.13.3->googletrans==4.0.0-rc1) (5.2.0)\n",
      "Requirement already satisfied: hpack<4,>=3.0 in /usr/local/lib/python3.10/dist-packages (from h2==3.*->httpcore==0.9.*->httpx==0.13.3->googletrans==4.0.0-rc1) (3.0.0)\n"
     ]
    }
   ],
   "source": [
    "!pip install googletrans==4.0.0-rc1"
   ]
  },
  {
   "cell_type": "markdown",
   "metadata": {
    "id": "PuRY6DqNYHhC"
   },
   "source": [
    "Add a random delay time to bypass the bot blocking system"
   ]
  },
  {
   "cell_type": "code",
   "execution_count": null,
   "metadata": {
    "id": "CBab4qslOo1e"
   },
   "outputs": [],
   "source": [
    "import random\n",
    "import time"
   ]
  },
  {
   "cell_type": "code",
   "execution_count": null,
   "metadata": {
    "colab": {
     "base_uri": "https://localhost:8080/"
    },
    "executionInfo": {
     "elapsed": 5529121,
     "status": "ok",
     "timestamp": 1726682473979,
     "user": {
      "displayName": "백현지",
      "userId": "02510457579208942463"
     },
     "user_tz": -540
    },
    "id": "m2QwZZZ639DX",
    "outputId": "30e5cf6a-6ba4-4cae-a946-ddb206a1c6b4"
   },
   "outputs": [
    {
     "name": "stderr",
     "output_type": "stream",
     "text": [
      "Processing label 0.0:   0%|          | 1/1277 [00:03<1:24:15,  3.96s/it]"
     ]
    },
    {
     "name": "stdout",
     "output_type": "stream",
     "text": [
      "\n",
      "[Progress 0]:\n",
      "Original: 20일 금융당국 및 보험업계에 따르면 삼성생명은 최근 2건의 암보험 민원에 대한 보험금 지급을 결정하고 금감원에 지급 의견서를 제출했다. 금감원이 지급 여부를 검토하라고 지시한 다른 민원 건에 대해서도 순차적으로 지급 의견서를 낼 계획이다. 삼성생명 관계자는 환자의 주치의 판단이 분쟁 조정에서 가장 중요한 기준이기 때문에 요양병원의 입원 필요성과 기간에 대\n",
      "KO->JA: 20日の金融当局と保険業界によると、Samsung Lifeは最近、2つのがん保険の苦情を支払うことを決定し、FSSに声明を提出しました。同社は、FSSが支払いのレビューを命じた他の苦情について、支払い声明を順次発行する予定です。Samsung Life Insuranceの役人は、患者の出席者の判断が紛争調整において最も重要な基準である場合、入院の必要性と入院期間がある場合、支払いが審査されると\n",
      "JA->KO: 화요일 금융 당국 및 보험 산업에 따르면, 삼성 생명은 최근 두 개의 암 보험 불만을 지불하기로 결정하고 FSS에 성명서를 제출했습니다.회사는 FSS가 지불 검토를 주문한 다른 불만에 대한 지불 진술서를 발행 할 계획입니다.삼성 생활은 당국자들이 입원 및 입원 기간이 있다면 환자 참석자의 판단이 분쟁 조정에서 가장 중요한 기준이 될 것이라고 말했다.Hanw\n"
     ]
    },
    {
     "name": "stderr",
     "output_type": "stream",
     "text": [
      "Processing label 0.0:   1%|          | 13/1277 [00:52<1:23:23,  3.96s/it]"
     ]
    },
    {
     "name": "stdout",
     "output_type": "stream",
     "text": [
      "\n",
      "[Progress 50]:\n",
      "Original: 지난 5일 약 6시간 동안 이어진 첫 회의를 통해 삼성 계열사별 준법감시 현황을 파악한 위원회는 오는 13일 두 번째 회의를 열고 앞으로 다뤄야 할 쟁점들을 정리하기로 했다. 위원장을 맡은 김지형 전 대법관이 . 를 강조한 만큼 노조 문제와 경영권 승계 등을 주요 의제로 채택할지 관심이 쏠린다. 앞서 위원회는 지난 5일 오후 서울 서초구 삼성생명 서초타워에\n",
      "KO->JA: 委員会は、5日の約6時間の最初の会議でサムスンの関連会社によるコンプライアンス監視の状況を特定し、13日に2回目の会議を開催し、対処すべき問題を編成することを決定しました。元最高裁判所判事キム・ジ - ヒョン。彼が強調したように、彼は組合の問題を採用し、主要な議題として管理権の連続を採用することに興味があります。以前、委員会は、5日の午後にソウルのセオチョ-guにあるサムスン生命保険セオチョタワー\n",
      "JA->KO: 위원회는 5 일 첫 6 시간 회의에서 삼성 계열사의 준수 모니터링 상태를 확인하여 13 일에 두 번째 회의를 통해 문제를 해결했습니다.전 대법원 판사 김 J-현.그는 강조했듯이 노동 조합 문제를 채택하고 일련의 경영 권리를 주요 의제로 채택하는 데 관심이 있습니다.이전에위원회는 삼성 생명 보험 오후에 첫 번째 회의를 열었습니다.회의에서 Chung -ang \n"
     ]
    },
    {
     "name": "stderr",
     "output_type": "stream",
     "text": [
      "Processing label 0.0:   7%|▋         | 87/1277 [05:57<1:22:57,  4.18s/it]"
     ]
    },
    {
     "name": "stdout",
     "output_type": "stream",
     "text": [
      "Error translating KO->JA: the JSON object must be str, bytes or bytearray, not NoneType\n",
      "Error translating JA->KO: the JSON object must be str, bytes or bytearray, not NoneType\n"
     ]
    },
    {
     "name": "stderr",
     "output_type": "stream",
     "text": [
      "Processing label 0.0:   7%|▋         | 91/1277 [06:15<1:27:26,  4.42s/it]"
     ]
    },
    {
     "name": "stdout",
     "output_type": "stream",
     "text": [
      "\n",
      "[Progress 500]:\n",
      "Original: 전국금속노조 산하 현대자동차 비정규직지회장 김현제씨는 5일 CBS노컷뉴스와의 통화에서 코로나19 사태 이후 회사로부터 마스크 한 장 받지 못했다며 착잡한 심경을 밝혔다. 김씨에 따르면 지난 2일까지 현대차 울산공장 비정규직지회에 소속된 28개 하청업체 전체에서 비정규직 노동자 1200여명에게 코로나19와 관련해 마스크가 거의 지급되지 않았다. 자신도 하청업\n",
      "KO->JA: ヒュンダイモーターの国立メタル連合の下での非正規労働者の議長であるキム・ヒョンは、CBSノカットニュースとの電話で、19回目のコロナ事件以来、会社からマスクを受け取っていないと述べた。キムによると、コロナ19に関連するマスクは、ヒュンダイモーターのウルサンファクトリー非正規労働者協会に属する28人の下請業者の1,200人以上の非正規労働者に2位までありました。また、SubContractor Ma\n",
      "JA->KO: 현대 금속 연합 (National Metal Union) 하의 비 규산 근로자의 회장 인 김현 (Kim Hyun)은 CBS Nokat News와의 전화에서 19 번째 코로나 사건 이후 마스크를받지 못했다고 말했다.Kim에 따르면, Corona 19 마스크는 1,200 명 이상의 비 규산 근로자에서 2 위를 차지했으며, 현대 모터의 Ursan Factory \n"
     ]
    },
    {
     "name": "stderr",
     "output_type": "stream",
     "text": [
      "Processing label 0.0:   9%|▉         | 117/1277 [08:14<1:35:18,  4.93s/it]"
     ]
    },
    {
     "name": "stdout",
     "output_type": "stream",
     "text": [
      "\n",
      "[Progress 600]:\n",
      "Original: 문 대통령은 30일 오전 . 친환경 미래차 현장 방문 일환으로 현대차 울산공장을 방문했다. 지난 7월 한국판 뉴딜 종합계획 발표를 전후로 일곱 번째 한국판 뉴딜 현장 행보이며 미래차 관련 12번째 현장 방문이다. 문재인 정부의 국가발전 전략인 한국판 뉴딜의 성공과 미래차 시장을 선도하겠다는 의지가 엿보인다. 온실가스 등 감축을 위해 전기차와 수소차 등 친환\n",
      "KO->JA: 月は30日の朝です。エコの畑への訪問の一環として、彼はヒュンダイモーターのウルサン植物を訪れました。これは、7月の韓国版のニューディールの発表の前後にニューディールの7番目の韓国語版であり、将来の車への12回目の訪問です。政府の国家開発戦略、韓国版のニューディールの成功、将来の自動車市場をリードする意欲が示されています。電気車や水素車などの環境に優しい車に対するムーン大統領の関心は、温室効果ガスを\n",
      "JA->KO: 달은 30 일의 아침입니다.에코 친화적 인 들판을 방문하는 일의 일환으로 그는 현대 모터 우르 산 식물을 방문했습니다.이것은 7 월에 한국 버전의 New Deal을 발표하기 전과 후에 일곱 번째 한국 버전의 뉴딜 버전이며, 미래의 자동차를 12 번째로 방문했습니다.정부는 정부 국가 개발 전략, 한국 버전의 뉴딜 및 미래 자동차 시장을 이끌 기 의향을 보여 \n"
     ]
    },
    {
     "name": "stderr",
     "output_type": "stream",
     "text": [
      "Processing label 0.0:  10%|▉         | 125/1277 [08:57<1:56:18,  6.06s/it]"
     ]
    },
    {
     "name": "stdout",
     "output_type": "stream",
     "text": [
      "\n",
      "[Progress 650]:\n",
      "Original: 애플카 협력설로 급등한 현대자동차 주식에 대해선 제너럴모터스. 이상으로 커진 시가총액은 과열이란 진단이 나왔다. 이를 계약생산하는 제조업체엔 고통이 따를 것이라고 보도했다. 업계에 따르면 애플은 최근 현대차그룹에 애플카 개발 및 생산 관련 협업 방안을 논의하자고 제안했다. 이런 사실이 알려진 뒤 현대차 주식은 지난 8일 19. 현대차와 현대모비스는 지난 8\n",
      "KO->JA: リンゴの車の協力とともに急増したヒュンダイモーターの在庫のゼネラルモーターズ。成長した時価総額は、過熱と診断されています。契約の製造業者は、痛みが続く痛みを生み出します。業界によると、Appleは最近、Apple Carの開発と生産関連のコラボレーションのヒュンダイモーターグループについて議論することを提案しました。この後、ヒュンダイのモーターシェアは8日でした。多くの企業は、自律型電気自動車に関\n",
      "JA->KO: Syundaimotter의 재고에있는 General Motors는 Apple Cars의 협력으로 빠르게 증가했습니다.증가하는 시가 총액은 과열로 진단됩니다.계약 제조업체는 통증이 통증을 일으 킵니다.업계에 따르면 Apple은 최근 개발 및 생산 관련 협업 관련 협업 그룹에 대한 토론을 제안했습니다.그 후, 현대의 모터 점유율은 8 일이었다.많은 회사들이 자\n"
     ]
    },
    {
     "name": "stderr",
     "output_type": "stream",
     "text": [
      "Processing label 0.0:  17%|█▋        | 221/1277 [17:50<2:22:48,  8.11s/it]"
     ]
    },
    {
     "name": "stdout",
     "output_type": "stream",
     "text": [
      "\n",
      "[Progress 1150]:\n",
      "Original: 급속충전을 강점으로 하는 통합충전시스템. 을 택하고 있는 기업들이다. 을 앞세워 전기차 시장에서 주도권을 강화하고 있는 테슬라에 반격을 가하고 나선 것으로 풀이된다. 현대차 등 7개 완성차 업체들은 26일. 공동 보도자료를 통해 북미 지역의 전기차 충전 네트워크 구축을 위한 합작법인을 설립했다고 밝혔다. 미국 전역 고속도로와 시내 등에 최소 3만개 이상의 \n",
      "KO->JA: 迅速な充電を備えた統合充電システム。これらは選ばれた企業です。それは、電気自動車市場でのイニシアチブを強化しているテスラと戦っていると考えられています。ヒュンダイモーターを含む7人の自動車メーカーが26日にいます。共同プレスリリースで、同社は北米に電気自動車充電ネットワークを建設するための合弁事業を設立しました。同社は、米国中の高速道路とダウンタウンに少なくとも30,000の高電力ステーションを設\n",
      "JA->KO: 빠른 충전이있는 통합 충전 시스템.이들은 선택된 회사입니다.전기 자동차 시장에서 이니셔티브를 강화하는 테슬라와 싸우는 것으로 생각됩니다.현대 모터를 포함하여 26 일에는 7 개의 자동차 제조업체가 있습니다.공동 보도 자료 에서이 회사는 북아메리카에 전기 자동차 충전 네트워크를 건설하기 위해 합작 투자를 설립했습니다.이 회사는 미국의 고속도로와 시내에 최소 \n"
     ]
    },
    {
     "name": "stderr",
     "output_type": "stream",
     "text": [
      "Processing label 0.0:  28%|██▊       | 357/1277 [37:35<2:31:52,  9.91s/it]"
     ]
    },
    {
     "name": "stdout",
     "output_type": "stream",
     "text": [
      "\n",
      "[Progress 1900]:\n",
      "Original: 비대위는 쌍용차는 법원으로부터 회생절차 개시 여부 보류 결정을 받음으로써 정상적 영업활동을 통해 신규 투자자 모색과 함께 여러 이해관계자들과 협의를 진행할 천금같은 시간을 갖게 됐다며 하지만 일부 대기업과 외국계 부품 협력사들이 회생절차를 이유로 부품공급을 거부하고 있어 생산중단 위기를 맞고 있다고 우려했다. 이들은 이로 인해 대부분의 중소협력사와 16만여\n",
      "KO->JA: 非委員会は、Ssangyongが裁判所によるリハビリテーション手続きを差し控える決定を負っていたと述べ、通常の販売活動を通じて新しい投資家と話し合う傾向がありましたが、一部の大企業や外国の部品サプライヤーはリハビリテーションのリハビリテーション手順ですこの理由で、彼は部品を供給することを拒否していたので、彼は生産を止める危機に陥っていました。その結果、ほとんどの中小規模のパートナーと160,000\n",
      "JA->KO: 비 영수증은 Ssangyong이 법원에 의해 재활 절차를 자제하기로 결정했으며 정기적 인 판매 활동을 통해 새로운 투자자를 논의하는 경향이 있었지만, 이런 이유로 일부 대기업과 외국 부품 공급 업체는 공급을 거부했습니다. 부품, 그래서 그는 생산을 중단 할 위험이있었습니다.그 결과, 대부분의 중소 규모의 파트너와 160,000 명의 직원이 생산되고 실업자이\n"
     ]
    },
    {
     "name": "stderr",
     "output_type": "stream",
     "text": [
      "Processing label 0.0:  30%|███       | 388/1277 [42:11<2:05:03,  8.44s/it]"
     ]
    },
    {
     "name": "stdout",
     "output_type": "stream",
     "text": [
      "\n",
      "[Progress 2150]:\n",
      "Original: 하락한 17만5500원에 거래를 마쳤다. 나 급락했고 현대모비스. 등 그룹주 대부분이 동반 하락세를 그렸다. 이날 현대차그룹 주가 하락은 독일에서 배기가스 조작 혐의로 압수수색을 받았다는 소식 때문으로 분석된다. 독일 프랑크푸르트 검찰이 현대차와 기아의 독일. 룩셈부르크 현지 사무소 8곳을 압수수색했다고 보도했다. 프랑크푸르트 검찰은 이날 성명에서 현대차와\n",
      "KO->JA: 取引は17,500ウォンで終了しました。私は突っ込んでヒュンダイ・モビをしました。グループのグループのほとんどは衰退しました。ヒュンダイモーターグループの株価下落が押収され、ドイツで排気ガスを検索したというニュースによって分析されています。ヒュンダイとドイツの起亜のドイツのフランクフルト訴追。彼はルクセンブルクの8つの地元のオフィスを押収して検索しました。フランクフルトの訴追は声明の中で、ヒュンダ\n",
      "JA->KO: 거래는 17,500 원으로 끝났습니다.나는 현대 Mobi로 달려 갔다.대부분의 그룹 그룹은 거절했습니다.현대 자동차 그룹의 타락한 주가가 압수되어 독일에서 배기 가스를 검색했다는 소식에 의해 분석됩니다.Jun Dai와 독일의 독일 프랑크푸르트 기소.그는 룩셈부르크에있는 8 개의 지역 사무소를 압수하고 수색했다.프랑데이의 검찰은 현대와 기아가 불법적 인 배기\n"
     ]
    },
    {
     "name": "stderr",
     "output_type": "stream",
     "text": [
      "Processing label 0.0:  36%|███▌      | 455/1277 [52:25<2:10:50,  9.55s/it]"
     ]
    },
    {
     "name": "stdout",
     "output_type": "stream",
     "text": [
      "\n",
      "[Progress 2450]:\n",
      "Original: 니혼게이자이는 카카오의 자회사 카카오엔터테인먼트가 북미 웹툰 플랫폼 타파스와 웹소설 플랫폼 래디쉬를 인수하기로 한 것과 네이버가 캐나다 웹소설 플랫폼 왓패드를 인수한 것에 주목했다. 신문은 이들이 인터넷을 기반으로 한 만화시장에서 . 으로 부상했다고 진단했다. 니혼게이자이는 네이버가 일본어 콘텐츠인 라인 만화를 비롯해 약 10개 언어로 70만 명이 넘는 작\n",
      "KO->JA: Nihon Geizaiは、Kakaoの子会社であるKakao Entertainmentが北米のWebtoonプラットフォームタパスとWeb小説プラットフォームRadishを買収することを決定し、NaverがカナダのWeb小説プラットフォームWatpadを買収することに気付きました。新聞はインターネットベースの漫画市場にあります。私は怪我と診断されました。Nihon Geizaiは、世界中の7,\n",
      "JA->KO: Nihon geizai ge 、 、 kakao の 子 会社 会社 である Kakao Entertainment が 北米 北米 の の webtoon プラットフォーム タパス タパス と 웹 小説 プラットフォーム プラットフォーム プラットフォーム プラットフォーム プラットフォーム プラットフォーム の の 小説 WATPAD を する する こと こと に 気付き まし まし まし\n"
     ]
    },
    {
     "name": "stderr",
     "output_type": "stream",
     "text": [
      "Processing label 0.0:  37%|███▋      | 475/1277 [55:37<2:08:27,  9.61s/it]"
     ]
    },
    {
     "name": "stdout",
     "output_type": "stream",
     "text": [
      "Error translating KO->JA: the JSON object must be str, bytes or bytearray, not NoneType\n",
      "Error translating JA->KO: the JSON object must be str, bytes or bytearray, not NoneType\n"
     ]
    },
    {
     "name": "stderr",
     "output_type": "stream",
     "text": [
      "Processing label 0.0:  40%|████      | 513/1277 [1:01:36<1:59:37,  9.39s/it]"
     ]
    },
    {
     "name": "stdout",
     "output_type": "stream",
     "text": [
      "\n",
      "[Progress 2600]:\n",
      "Original: 지난해 3월 법인 후 1년 간 기반을 다진 만큼 본격적으로 디지털 헬스케어 서비스 시장에 진출해 국민 건강 증진에 기여한다는 목표다. 황희 카카오헬스케어 대표는 2일 경기 성남 카카오 판교아지트에서 열린 기자간담회에서 . 기술로 사람을 건강하게. 라는 미션을 달성해 긍정적인 사회 변화와 혁신을 주도하고 국민 보건 증진에 기여하겠다며 이같이 밝혔다. 카카오헬\n",
      "KO->JA: 目標は、昨年3月に企業の1年後の基盤と同じくらい本格的にデジタルヘルスケアサービス市場に参入することにより、国民健康の促進に貢献することです。Kakao HealthcareのCEOであるHwang -Heeは、2日にGyeonggi -DoのSeongnamにあるPangyo Ajitで開催された記者会見に参加しました。テクノロジーを持つ健康な人々。彼は、前向きな社会的変化と革新をリードし、公衆\n",
      "JA->KO: 목표는 작년 3 월 1 년 후 회사의 재단만큼이나 디지털 헬스 케어 서비스 시장에 진입하여 국가 건강 증진에 기여하는 것입니다.Kakao Healthcare의 Hwang -Hee는 2 위 Gyonggi의 Seongnam의 Pangyo Ajit에서 열린 기자 회견에 참여했습니다.기술을 가진 건강한 사람들.그는 그것이 긍정적 인 사회적 변화와 혁신을 이끌고 공\n"
     ]
    },
    {
     "name": "stderr",
     "output_type": "stream",
     "text": [
      "Processing label 0.0:  44%|████▍     | 560/1277 [1:08:52<1:43:42,  8.68s/it]"
     ]
    },
    {
     "name": "stdout",
     "output_type": "stream",
     "text": [
      "\n",
      "[Progress 2800]:\n",
      "Original: KB국민은행은 자체 플랫폼을 활성화 시켜 경쟁력을 올린다는 방침이다. 16일 금융권에 따르면 신한. 시중은행 중 KB국민은행을 제외한 나머지 네 곳이 카카오페이와 협업을 하고 있거나 협업을 계획 중이다. 그동안 하나은행이 카카오페이에 대출 상품을 노출해 온 데 이어 우리은행도 지난 10일 카카오페이 호. 우리은행은 카카오페이와 . 디지털 금융서비스 공동 개\n",
      "KO->JA: KB Kookmin Bankは、独自のプラットフォームをアクティブにすることにより、競争力を高める予定です。16日の金融セクター、シンハンによると。商業銀行の中で、KB Kookmin銀行を除く4つの場所がKakao Payと協力しているか、協力することを計画しています。それまでの間、Hana Bankはローン製品をKakao Payにさらしており、Woori Bankは10日にKakao Pa\n",
      "JA->KO: KB Kookmin Bank는 자체 플랫폼을 활성화하여 경쟁력을 높일 계획입니다.Sinhan에 따르면 16 일 금융 부문.상업 은행 중에서 우리는 KB Kookmin Bank를 제외하고 Kakao Pay와 협력 할 계획입니다.그때까지 Hana Bank는 대출 제품을 Kakao Pay에 노출 시켰으며 Woori Bank는 10 일에 Kakao Pay입니다.W\n"
     ]
    },
    {
     "name": "stderr",
     "output_type": "stream",
     "text": [
      "Processing label 0.0:  49%|████▊     | 620/1277 [1:18:02<1:43:25,  9.44s/it]"
     ]
    },
    {
     "name": "stdout",
     "output_type": "stream",
     "text": [
      "\n",
      "[Progress 3200]:\n",
      "Original: 오른 1만3500원에 거래되고 있다. 이날 플리토는 네이버의 AI 번역서비스 파파고와 언어 인공지능 분야에 전략적 사업제휴를 체결했다고 밝혔다. 양사는 이번 제휴를 통해 언어 인공지능 고도화에 적극 나서기로 했다. 특히 인공지능 번역 등의 기술 향상에 초점을 두고 언어 인공지능 기술 정확도를 높이기 위해 협력을 이어갈 예정이다. 네이버는 지난 2016년 A\n",
      "KO->JA: 13,500ウォンで取引されています。当日、Plitoは、NAVERのAI翻訳サービスPapagoとLanguage人工知能で戦略的ビジネスアライアンスに署名したことを発表しました。両社は、この同盟を通じて言語人工知能を積極的に促進することを決定しました。特に、同社は、人工知能の翻訳などのテクノロジーの改善に焦点を当て、言語AIテクノロジーの精度を向上させるために協力し続けることを計画しています。\n",
      "JA->KO: 13,500 원으로 거래되었습니다.그 당시, Plito는 Naver가 Papago 및 Language Intificial Intelligence와 전략적 비즈니스 동맹에 서명했다고 발표했습니다.두 회사는 동맹을 통해 언어 인공 지능을 적극적으로 홍보하기로 결정했습니다.특히, 회사는 인공 지능의 번역과 같은 기술 향상에 중점을두고 언어 AI 기술의 정확성을 \n"
     ]
    },
    {
     "name": "stderr",
     "output_type": "stream",
     "text": [
      "Processing label 0.0:  49%|████▉     | 632/1277 [1:19:57<1:43:03,  9.59s/it]"
     ]
    },
    {
     "name": "stdout",
     "output_type": "stream",
     "text": [
      "\n",
      "[Progress 3250]:\n",
      "Original: 상장협은 14일 보도자료를 통해 이같이 밝혔다. 상장협은 세계 3대 연기금에 속하는 국민연금은 자산 약 917조원 중 17. 를 국내 상장사에 투자하고 있고 5. 이상 지분을 보유한 회사는 272개사에 이른다며 네이버. KT등 주요 상장회사의 최대주주기도 하는데 자국 회사 지분을 거의 보유하지 않거나 개별회사에 대해 보유 비중 제한을 두고 있는 해외 연기금\n",
      "KO->JA: リスティング協力は、14日のプレスリリースで述べた。上場協力では、世界のトップ3年金基金に属する国民年金は、国内上場企業の資産で約917兆勝のうち17を投資しています。また、KTなどの主要な上場企業の最大の株主でもありますが、自社の所有者がほとんどないか、個々の企業のシェアが限られている海外の年金基金とは対照的です。上場協力は、国家年金の政治的独立の欠如を集中的に批判した。全国年金の主要な決定組織\n",
      "JA->KO: 상장 협력은 14 일 보도 자료에서 밝혔다.상장 협력은 세계 3 대의 세력 기금 중 17 개에 투자하여 국내 상장 회사의 자산이 약 917 조 달러에 이릅니다.또한 KT와 같은 주요 상장 회사의 가장 큰 주주이지만 소유자 나 개별 회사가 거의없는 해외 연금 기금과는 대조적입니다.상장 협력은 국가 연금의 정치적 독립의 부족을 집중적으로 비판했다.국가 연금을위\n"
     ]
    },
    {
     "name": "stderr",
     "output_type": "stream",
     "text": [
      "Processing label 0.0:  51%|█████     | 652/1277 [1:22:54<1:35:02,  9.12s/it]"
     ]
    },
    {
     "name": "stdout",
     "output_type": "stream",
     "text": [
      "\n",
      "[Progress 3350]:\n",
      "Original: 12일 화학업계에 따르면 지난해 말 LG화학. 관련 인력 3명이 스웨덴 볼보로 이직했다. 과 높은 연봉 등의 당근책을 제시한 것으로 전해졌다. 볼보는 올해부터 내연기관 신차를 출시하지 않고 플러그인하이브리드 등의 전기차만 시장에 내놓을 예정이며 이 때문에 전기차 가격의 3분의1가량을 차지하는 배터리 관련 인력 채용에 적극적인 것으로 전해졌다. 신흥국에서도 \n",
      "KO->JA: 12日の化学産業によると、昨年末のLG Chem。関連する3つの労働力は、スウェーデンのボルボに移動しました。彼らは高い給与などのニンジンの本を発表したことが報告されています。ボルボは、電気自動車の価格の約3分の1を占めるバッテリー関連の人員を募集する際に活動する今年から新しい車を発射することなく、プラグインハイブリッドなどの電気自動車のみを発射する予定です。また、新興経済国では韓国人の人材を切望\n",
      "JA->KO: 12 일의 화학 산업에 따르면 작년 말 LG Chem.세 가지 관련 노동은 스웨덴의 볼보로 옮겼습니다.그들은 높은 급여와 같은 당근을 출판 한 것으로보고되었습니다.Volvo는 올해부터 새로운 자동차를 출시하지 않고 플러그 인 하이브리드와 같은 전기 자동차 만 출시 할 계획이며, 배터리 관련 직원을 모집 할 때 활성화되어 전기 자동차 가격의 약 3 분의 1을\n"
     ]
    },
    {
     "name": "stderr",
     "output_type": "stream",
     "text": [
      "Processing label 0.0:  54%|█████▍    | 692/1277 [1:29:03<1:20:11,  8.23s/it]"
     ]
    },
    {
     "name": "stdout",
     "output_type": "stream",
     "text": [
      "\n",
      "[Progress 3500]:\n",
      "Original: 이미 글로벌 배터리 업체 1위. 2위인 CATL과 파나소닉은 수 조원의 영업이익을 달성하고 있다. 18일 외신과 관련 업계에 따르면 테슬라는 최근 미국 캘리포니아 프레몬트 공장에서 자사가 개발한 배터리를 시범 생산하기 위한 라인을 구축 중인 것으로 알려졌다. 테슬라는 그동안 일본의 파나소닉으로부터 배터리를 공급 받아왔지만 최근 LG화학. CATL과 공급계약\n",
      "KO->JA: すでにNo.1のグローバルバッテリーメーカー。2番目に大きいCATLとパナソニックは、兆候の営業利益を達成しています。18日の外国の情報源と関連産業によると、テスラは最近、米国カリフォルニア州のプレマント工場で会社が開発したバッテリーを実証するためのラインを構築しています。テスラには日本のパナソニックからのバッテリーが供給されていますが、最近、LG Chem。彼はまた、CATLとの供給契約に署名し\n",
      "JA->KO: 이미 1 위 글로벌 배터리 제조업체.두 번째로 큰 CATL과 PANASONIC은 징후의 징후를 달성했습니다.8 월 18 일 외국 정보 출처 및 관련 산업에 따르면, Tesla는 최근 미국 캘리포니아에있는 프리맨트 공장에서 회사가 개발 한 배터리를 보여주는 라인을 구축했습니다.Tesla는 일본 파나소닉의 배터리를 가지고 있지만 최근에는 LG Chem을 가지고\n"
     ]
    },
    {
     "name": "stderr",
     "output_type": "stream",
     "text": [
      "Processing label 0.0:  62%|██████▏   | 786/1277 [1:43:34<1:20:28,  9.83s/it]"
     ]
    },
    {
     "name": "stdout",
     "output_type": "stream",
     "text": [
      "\n",
      "[Progress 3850]:\n",
      "Original: 금리 인상으로 불확실한 시기에서도 3분기 호실적을 보여준 데다 중국을 제치고 미국에 진출할 수 있다는 기대감에 힘입었다는 것이다. 이데일리 문승용 기자중국 배터리 업체들의 주가수익률이 한 달간 9. 하락하는 동안 K배터리 관련주는 24. 이에 따라 상장지수펀드. 수익률도 고공행진 중이다. 국내 주식형 ETF 중 최근 한 달 수익률 상위 8개 중 5개가 2차\n",
      "KO->JA: 不確実な金利ハイキングの期間において、彼は第3四半期のパフォーマンスを示し、中国を上回って米国に入ることが期待されていました。E -Daily Moon Seung -Yongレポーター中国のバッテリーメーカーの株価は1か月、Kバッテリー関連の株式24。したがって、リストされたインデックスファンド。利回りも3月にあります。国内株式ETFの最後の月の上位8回のリターンのうち5回は、二次バッテリーET\n",
      "JA->KO: 불확실한 금리 하이킹 기간 동안, 그는 3 분기 미국에있을 것으로 예상되었으며 중국을 초과했습니다.e -daily moon seung -yong 리포터 중국의 배터리 제조업체는 1 개월, K -Battery -Related Stock 24입니다.따라서 상장 된 인덱스 펀드.수익률도 3 월에 있습니다.국내 주식 ETF의 지난 달 상위 8 개 수익 중 2 차 \n"
     ]
    },
    {
     "name": "stderr",
     "output_type": "stream",
     "text": [
      "Processing label 0.0:  64%|██████▎   | 811/1277 [1:47:39<1:16:06,  9.80s/it]"
     ]
    },
    {
     "name": "stdout",
     "output_type": "stream",
     "text": [
      "\n",
      "[Progress 4000]:\n",
      "Original: 이번 매각은 파나소닉이 미래 먹거리인 배터리 사업에 역량을 집중하려는 야심을 본격화 한 것이라는 게 일본 내 대체적 시각이다. 20일 닛케이에 따르면 파나소닉홀딩스는 미국 사모펀드인 아폴로 글로벌 매니지먼트 그룹에 오토모티브 시스템즈를 매각하는 방안에 대한 합의를 마쳤다. 파나소닉은 오토모티브 주식 절반 이상을 내년 3월 내에 매각하기로 했다. 오토모티브 \n",
      "KO->JA: この販売は、パナソニックが将来の食品であるバッテリービジネスにその能力を集中させるために本格的であるという代替的な見解です。Nikkeiによると、Panasonic Holdingsは、米国のプライベートエクイティファンドであるApollo Global Management Groupに自動車システムを販売することに同意しています。パナソニックは、来年3月に自動車株の半分以上を販売することを決定\n",
      "JA->KO: 이 판매는 파나소닉이 미래의 음식 인 배터리 비즈니스에 능력을 집중시키기 위해 완전한 팽창이 있다는 대안적인 견해입니다.Nikkei에 따르면, Panasonic Holdings는 미국의 민간 개인 주식 기금 인 Apollo Global Management Group에 자동차 시스템을 판매하는 데 동의합니다.Panasonic은 내년 3 월에 자동차 주식의 절\n"
     ]
    },
    {
     "name": "stderr",
     "output_type": "stream",
     "text": [
      "Processing label 0.0:  64%|██████▍   | 823/1277 [1:49:27<1:07:44,  8.95s/it]"
     ]
    },
    {
     "name": "stdout",
     "output_type": "stream",
     "text": [
      "\n",
      "[Progress 4050]:\n",
      "Original: 대기업과 협력사가 공존하는 반도체 생태계를 조성하겠다는 경영진의 강력한 의지가 담겼다는 평가가 나온다. 정부 투자 승인하자 곧바로 화답SK하이닉스는 28일 . 용인 반도체 클러스터 부지 조성 계획이 정부 심의를 통과한 것에 맞춰 1조2200억원 규모의 협력사 상생 및 반도체 생태계 강화 계획을 확정했다. 용인 반도체 클러스터는 SK하이닉스와 협력사 50여 \n",
      "KO->JA: 大企業やパートナーが共存する半導体エコシステムを作成する経営陣の強い意志があると言われています。政府の投資承認の直後、SK Hynixは28日です。Yongin Semiconductor Clusterサイトの審議に応えて、同社は1.22兆ウォンの協同組合および半導体エコシステムを強化することを決定しました。Yongin Semiconductor Clusterには、50を超えるSK Hyni\n",
      "JA->KO: 대기업과 파트너가 공존하는 반도체 생태계를 만들 겠다는 강력한 의지가 있다고합니다.정부의 투자 승인 직후, SK Hynix는 28 위입니다.Yongin Semiconductor 클러스터 사이트에 대한 응답 으로이 회사는 1.22 조의 협동 조합 및 반도체 생태계를 강화하기로 결정했습니다.Yongin 반도체 클러스터에는 50 개 이상의 SK Hynix와 50\n"
     ]
    },
    {
     "name": "stderr",
     "output_type": "stream",
     "text": [
      "Processing label 0.0:  72%|███████▏  | 922/1277 [2:05:00<59:47, 10.10s/it]"
     ]
    },
    {
     "name": "stdout",
     "output_type": "stream",
     "text": [
      "\n",
      "[Progress 4650]:\n",
      "Original: 는 서랍 속에 방치된 중고 스마트폰을 꺼내 간단한 소프트웨어 업데이트 후 새로운 쓰임새로 활용하는 업사이클링 더 이상 사용하기 힘든 휴대폰을 재활용해 귀중한 자원을 다시 수거하는 리사이클링 캠페인을 실시한다고 21일 밝혔다. 삼성전자는 최근 중고 갤럭시 스마트폰을 사물인터넷. 디바이스로 재활용할 수 있는 . 갤럭시 업사이클링 앳 홈. Galaxy Upcyc\n",
      "KO->JA: 同社は21日、引き出しに残っている使用済みのスマートフォンを取り出し、単純なソフトウェアアップデートの後に新しい使用として使用できなくなった携帯電話をリサイクルすることを発表しました。Samsung Electronicsは最近、中古のGalaxyスマートフォンを使用しました。デバイスでリサイクルできます。自宅でのギャラクシーアップサイクリング。自宅でのギャラクシーアップサイクリング。昨年1月に世\n",
      "JA->KO: 이 회사는 21 일에 서랍에 남아있는 소비 된 스마트 폰을 꺼내고 간단한 소프트웨어 업데이트 후 더 이상 새로운 용도로 사용할 수없는 휴대 전화를 재활용 할 것이라고 발표했습니다.Samsung Electronics는 최근 중고 Galaxy 스마트 폰을 사용했습니다.장치에서 재활용 할 수 있습니다.집에서 자전거를 타는 은하.집에서 자전거를 타는 은하.지난 1\n"
     ]
    },
    {
     "name": "stderr",
     "output_type": "stream",
     "text": [
      "Processing label 0.0:  75%|███████▍  | 956/1277 [2:10:16<48:37,  9.09s/it]"
     ]
    },
    {
     "name": "stdout",
     "output_type": "stream",
     "text": [
      "\n",
      "[Progress 4900]:\n",
      "Original: 아트토큰은 기존 예술 시장과 블록체인. 그리고 TV 서비스가 상호 조응하며 끌어낼 시장 반응도 긍정적으로 예상한다. 주식회사 아트토큰 관계자는 삼성전자 TV 앱. Application. 내 NFT아트 플랫폼 2R2가 국내 서비스로 먼저 정식 개시됐다고 26일 밝혔다. 아트토큰은 예술 작품과 기술의 융합을 통해 새로운 예술 시장을 창출하는 데 주력하고 있다.\n",
      "KO->JA: アートトークンは、既存のアートマーケットとブロックチェーンです。さらに、テレビサービスに対する肯定的な市場の反応が期待されています。The Art Token Co.、Ltd。の職員はSamsung TVアプリです。応用。私のNFTアートプラットフォーム2R2は、26日に国内サービスとして最初に発売されたことを発表しました。Art Tokenは、芸術作品とテクノロジーの収束を通じて新しいアート市場\n",
      "JA->KO: Art Token은 기존 미술 시장 및 블록 체인입니다.또한 텔레비전 서비스에 대한 긍정적 인 시장 반응이 예상됩니다.Art Token Co., Ltd.직원은 삼성 TV 앱입니다.애플리케이션.나의 NFT 아트 플랫폼 2R2는 26 일에 국내 서비스로 처음 출시되었다고 발표했다.Art Token은 예술과 기술의 수렴을 통해 새로운 미술 시장을 만드는 데 중점\n"
     ]
    },
    {
     "name": "stderr",
     "output_type": "stream",
     "text": [
      "Processing label 0.0:  77%|███████▋  | 988/1277 [2:15:18<47:32,  9.87s/it]"
     ]
    },
    {
     "name": "stdout",
     "output_type": "stream",
     "text": [
      "\n",
      "[Progress 5050]:\n",
      "Original: 29일 검찰 등에 따르면 서울중앙지검 공정거래조사부. 삼성전자 본사 등을 이틀째 압수수색하고 있다. 재무 자료와 서버 등 디지털 자료 확보에 집중하고 있는 것으로 알려졌다. 검찰은 이번 웰스토리 사건이 이 부회장 그룹 경영권 승계작업의 일환이었다는 의심을 품고 수사 중인 것으로 전해졌다. 이 부회장은 삼성물산 최대주주고. 삼성물산은 웰스토리 지분 100. \n",
      "KO->JA: 29日の検察によると、ソウル中央検察官のフェアトレード調査部門。Samsung Electronicsは押収され、2日間検索されています。財務データやサーバーなどのデジタルデータの保護に焦点を当てていることが知られています。検察は、井戸の話事件が副議長グループ管理権の継承の一部であると疑ったと伝えられている。リーは、サムスンC＆Tの最大の株主です。Samsung C＆T株式の井戸100。検察の見解\n",
      "JA->KO: 29 일 검찰에 따르면, 서울 중앙 검찰의 서울 중앙 검찰의 공정 무역 조사.삼성 전자 장치는 압수되어 이틀 동안 검색됩니다.재무 데이터 및 서버와 같은 디지털 데이터를 보호하는 데 중점을 둡니다.검찰은 우물에 대한 이야기는 우물의 사건이 바이스 의자의 권리의 상속의 일부라고 의심했다고보고했다.Lee는 Samsung C & T의 가장 큰 주주입니다.삼성 C\n"
     ]
    },
    {
     "name": "stderr",
     "output_type": "stream",
     "text": [
      "Processing label 0.0:  78%|███████▊  | 990/1277 [2:15:35<42:38,  8.91s/it]"
     ]
    },
    {
     "name": "stdout",
     "output_type": "stream",
     "text": [
      "Error translating KO->JA: The read operation timed out\n"
     ]
    },
    {
     "name": "stderr",
     "output_type": "stream",
     "text": [
      "Processing label 0.0:  79%|███████▉  | 1006/1277 [2:17:59<42:16,  9.36s/it]"
     ]
    },
    {
     "name": "stdout",
     "output_type": "stream",
     "text": [
      "\n",
      "[Progress 5150]:\n",
      "Original: 긴축 종료 시그널이 어느 정도 구체화하면 되살아날 수 있단 게 증권가 전망이다. 다만 업황 전반에 고루 온기가 퍼지기보단 신약 관련 매출 발생 가능성에 따라 종목별 차별화 주가 흐름을 보일 것이란 관측도 나온다. 8일 한국거래소에 따르면 연초 이후 지난 7일까지 주요 제약. 바이오 업체 82곳으로 구성된 KRX헬스케어지수는 7. 상승률과 비교하면 부진했다.\n",
      "KO->JA: 締め付け終了信号をある程度復活させることができる場合、証券は復活すると予想されます。ただし、暖かさの暑さではなく、新薬関連の販売の可能性に応じて、差別化された在庫が示されるという観察もあります。8日の韓国交換によると、年の初めまで大きな制約があります。82のバイオ企業で構成されるKRXヘルスケアインデックスは、増加率と比較して鈍化していました。Sport、Celltrion 6. Samsung \n",
      "JA->KO: 조임 종료 신호가 어느 정도 부활 할 수 있다면 유가 증권이 부활 될 것으로 예상됩니다.그러나, 차별화 된 재고는 따뜻함의 열기가 아니라 신약 관련 판매의 가능성에 따라 보여져 있다는 관찰도 있습니다.8 일의 한국 교환에 따르면, 연초까지 상당한 제한이 있습니다.82 명의 바이오터로 구성된 KRX 의료 지수는 증가율에 비해 둔화되었습니다.Sport, Cel\n"
     ]
    },
    {
     "name": "stderr",
     "output_type": "stream",
     "text": [
      "Processing label 0.0:  80%|███████▉  | 1017/1277 [2:19:38<41:09,  9.50s/it]"
     ]
    },
    {
     "name": "stdout",
     "output_type": "stream",
     "text": [
      "\n",
      "[Progress 5200]:\n",
      "Original: 최근 서울상의 부회장단 합류 등 일거수일투족에 재계의 이목이 쏠리는 IT 업계 스타 기업인들이 주총 시즌을 맞아 또다시 러브콜을 받고 있다. 11일 업계에 따르면 그룹 방탄소년단을 낳은 빅히트엔터테인먼트는 전날 네이버 게임개발자 출신인 박영호. 조이시티 최고투자책임자. 를 신임 사외이사로 선임했다. 박 CIO는 게임업체 조이시티를 창업해 성공을 이끌었으며 \n",
      "KO->JA: 最近、ソウルの副大統領に加わるなど、ビジネスの世界に注目を集めているIT業界のスター起業家は、一般的なシーズンのラブコールを再び受けています。11日の業界によると、グループBTSを誕生させたBig Hit Entertainmentは、前日のNaverゲーム開発者であるPark Young -Hoです。ジョイシティ最高投資責任者。彼は新しい外部監督に任命されました。Park CIOはゲーム会社のJ\n",
      "JA->KO: 최근 서울 부사장을 포함하여 비즈니스 세계에 관심을 끌고있는 IT 업계 기업가들은 다시 한 번 계절별 사랑의 전화를 받았습니다.11 일 업계에 따르면, 그룹 BTS에서 태어난 Big Hit Entertainment는 전날 Naver 게임 개발자 인 Park Young -Ho입니다.조이 시티 최고 투자 책임자.그는 새로운 외부 코치로 임명되었습니다.Park \n"
     ]
    },
    {
     "name": "stderr",
     "output_type": "stream",
     "text": [
      "Processing label 0.0:  82%|████████▏ | 1047/1277 [2:24:20<35:52,  9.36s/it]"
     ]
    },
    {
     "name": "stdout",
     "output_type": "stream",
     "text": [
      "\n",
      "[Progress 5400]:\n",
      "Original: 18일 에프앤가이드에 따르면 포스코홀딩스의 올해 매출액은 85조 7677억 원. 영업이익은 6조 2013억 원으로 전망된다. 76조 3323억 원. 다만 영업이익은 지난해. 줄어든 6조 2013억 원으로 예상된다. 철강 가격 하락 영향으로 영업익이 크게 줄었다. 영업익이 줄었다고 해도 증권가에서는 포스코홀딩스의 미래 성장성에 대해 호평하고 있다. 적극적 신\n",
      "KO->JA: 18日のF＆Guideによると、Posco Holdingsの売上高は今年85.76777億勝でした。営業利益はKRW 6兆になると予想されます。76.3323億ウォン。しかし、営業利益は昨年でした。6兆ウォンに削減されると予想されます。鉄鋼価格の下落により、営業利益は大幅に減少しました。営業利益が減少したとしても、証券会社はPosco Holdingsの将来の成長を称賛されています。先駆的な新し\n",
      "JA->KO: 18 일 F & Guide에 따르면, Posco Holdings의 매출은 올해 85.76777 억에 달했습니다.영업 소득은 KRW 6 조일 것으로 예상됩니다.76.332 억 5 천만 원그러나 운영 이익은 작년이었다.그것은 6 조 원으로 줄어들 것으로 예상됩니다.철강 가격의 하락으로 인해 영업 이익이 크게 감소했습니다.영업 소득이 감소하더라도 증권 회사는 P\n"
     ]
    },
    {
     "name": "stderr",
     "output_type": "stream",
     "text": [
      "Processing label 0.0:  86%|████████▌ | 1100/1277 [2:32:40<28:11,  9.56s/it]"
     ]
    },
    {
     "name": "stdout",
     "output_type": "stream",
     "text": [
      "\n",
      "[Progress 5700]:\n",
      "Original: 현대차그룹은 한국렌터카사업조합연합회와 . 미래 모빌리티 사업 협력을 위한 양해각서. 를 체결했다고 26일 밝혔다. 한국렌터카사업조합연합회는 전국 16개 지역 렌터카사업조합 산하 총 1117개 렌터카 업체. 를 회원사로 둔 국내 최대 자동차 대여 사업자 단체다. 협약에 따라 현대차그룹은 현대차와 기아차가 공동 출자해 설립한 모빌리티 전문기업 . 을 통해 자체\n",
      "KO->JA: ヒュンダイモーターグループは、韓国家賃-A -CARビジネス協会にあります。将来のモビリティビジネス協力のための覚書。26日に発表されました。韓国家賃-A -Carビジネス協会は、全国の16の地域レンタカービジネス協会の下で合計1117のレンタカー会社です。韓国最大の自動車レンタルビジネス組織です。合意の下で、ヒュンダイモーターグループは、ヒュンダイと起亜が共同で投資されたモビリティ会社です。Re\n",
      "JA->KO: 현대 자동차 그룹은 한국 임대료 -A- 카 비즈니스 협회에 있습니다.미래의 이동성 비즈니스 협력을위한 각서.26 일에 발표되었습니다.한국 임대료 -A -Car 비즈니스 협회는 전국 16 개의 지역 렌터카 비즈니스 협회에 따라 1117 렌터카 회사입니다.한국 최대의 렌터카 비즈니스기구.이 계약에 따라 현대 모터 그룹은 현대와 기아가 투자 한 이동성 회사입니다\n"
     ]
    },
    {
     "name": "stderr",
     "output_type": "stream",
     "text": [
      "Processing label 0.0:  88%|████████▊ | 1128/1277 [2:36:42<25:04, 10.10s/it]"
     ]
    },
    {
     "name": "stdout",
     "output_type": "stream",
     "text": [
      "\n",
      "[Progress 5800]:\n",
      "Original: 23일 재계에 따르면 현대차와 기아. 현대모비스 등 현대차그룹 주요 상장 계열사는 사상 처음으로 올해 주주총회에서 여성 사외이사를 선임하는 방안을 추진 중이다. 현대차는 다음달 24일 정기 주주총회에서 이지윤 카이스트 항공우주공학 부교수를 신규 사외이사로 선임하는 안건을 정했다고 이날 공시했다. 이 교수는 국내에서 손꼽히는 항공우주공학 분야 전문가로. 20\n",
      "KO->JA: 23日のビジネスによると、ヒュンダイと起亜。ヒュンダイモービスなどのヒュンダイモーターグループの主要な上場関連会社は、一般株主会議でディレクターの外に女性を初めて任命することを計画しています。ヒュンダイモーターは、来月の24日に、新しい外部のディレクターとしてリー・ジョンの航空宇宙工学准教授を任命することを決定したと発表しました。リー教授は、韓国で最高の航空宇宙工学の専門家の一人です。2019年、\n",
      "JA->KO: 23 일의 사업에 따르면 현대와 기아.현대 모스 그룹과 같은 현대 모터 그룹의 주요 상장 회사는 총괄 주주 회의에서 이사 밖에서 처음으로 여성을 임명 할 계획입니다.현대 모터는 4 월 24 일에 항공 우주 공학 부교수로서 Lee John의 새로운 외부 이사를 임명하기로 결정했다고 발표했습니다.Lee 교수는 한국 최고의 항공 우주 공학 전문가 중 하나입니다.\n"
     ]
    },
    {
     "name": "stderr",
     "output_type": "stream",
     "text": [
      "Processing label 0.0:  89%|████████▉ | 1141/1277 [2:38:17<18:23,  8.12s/it]"
     ]
    },
    {
     "name": "stdout",
     "output_type": "stream",
     "text": [
      "\n",
      "[Progress 5900]:\n",
      "Original: 현대제철은 현대차의 차세대 전기차인 제네시스 일렉트리파이드 G80. 과 신형 G90에 신규 강종을 공급하고 있다고 25일 밝혔다. 초도 공급은 작년부터 시작했으며. 올해부터는 매년 14만5000장을 공급한다. 이는 전기차 약 3만대에 사용할 수 있는 양이다. 기가파스칼은 재료 강도를 측정하는 단위로. 1기가파스칼은 가로x세로 1. 무게를 버틸 수 있다. 이\n",
      "KO->JA: ヒュンダイスチールは、ヒュンダイモータージェネシス電気Fide G80の次の生成電気自動車です。25日、新しいG90に新しい鋼を供給していることを発表しました。最初の供給は昨年始まりました。今年から、毎年145,000枚のコピーが供給されます。これは、約30,000台の電気自動車に使用できる量です。Giga Pascalは、材料強度を測定するユニットです。1つのギガパスカルは、水平X vertic\n",
      "JA->KO: 현대는 현대 모터 창세기 Fide G80의 차세대 전기 자동차입니다.25 일, 우리는 새로운 강철을 새로운 G90에 공급하고 있다고 발표했습니다.첫 번째 공급은 작년에 시작되었습니다.올해부터 매년 145,000 부가 제공됩니다.이것은 약 30,000 개의 전기 자동차에 사용할 수있는 양입니다.Giga Pascal은 재료 강도를 측정하는 단위입니다.하나의 g\n"
     ]
    },
    {
     "name": "stderr",
     "output_type": "stream",
     "text": [
      "Processing label 0.0:  93%|█████████▎| 1188/1277 [2:45:05<12:12,  8.23s/it]"
     ]
    },
    {
     "name": "stdout",
     "output_type": "stream",
     "text": [
      "\n",
      "[Progress 6150]:\n",
      "Original: 삼성 내부와 재계에서는 주요 경영진이 재판에 출석하고 각종 수사 등을 받으면서 효과적 경영 판단을 제때 내리지 못하는 것 아닌가 하는 염려를 하고 있다. 29일 재계 등에 따르면 삼성전자서비스 노조 와해. 삼성바이오로직스 분식회계와 증거 인멸. 최순실 국정 농단 등 삼성이 현재 받고 있는 형사재판만 3건이다. 삼성전자서비스 노조 와해 의혹과 관련해 검찰은 \n",
      "KO->JA: サムスンとビジネスの世界の内部では、主要な幹部は、試験に出席し、さまざまな調査を受けているため、時間通りに効果的な管理判断を下すことができないことを懸念しています。ビジネスなどによると、29日には、Samsung Electronics 'Service Unionが崩壊します。サムスン生物学の食品会計と証拠の破壊。Samsungが現在受けている刑事裁判は3つしかありません。これには、国立農業隊の\n",
      "JA->KO: 삼성 세계와 비즈니스 세계에서 주요 경영진은 시험에 참석하고 다양한 조사를 거치기 때문에 제 시간에 효과적인 관리 결정을 내릴 수 없을 것이라고 우려하고 있습니다.사업에 따르면, 삼성 전자 서비스 조합은 29 일에 무너집니다.삼성 생물학의 식품 회계 및 증거.삼성이 현재 받고있는 세 가지 형사 재판은 3 건뿐입니다.여기에는 조 곧해질, 국립 농업 군단이 포\n"
     ]
    },
    {
     "name": "stderr",
     "output_type": "stream",
     "text": [
      "Processing label 0.0:  95%|█████████▍| 1213/1277 [2:48:31<07:42,  7.22s/it]"
     ]
    },
    {
     "name": "stdout",
     "output_type": "stream",
     "text": [
      "\n",
      "[Progress 6250]:\n",
      "Original: 검찰과 삼성은 회사가 아닌 주주에 대해서도 이사의 업무상 배임이 성립하는지를 두고 재판 전부터 공방을 벌였다. 2일 경향신문 취재에 따르면 서울중앙지검 경제범죄형사부. 는 지난 6월 수사심의위의 불기소 권고 이후 여러 회사법 전문가들의 의견을 듣는 과정에서 업무상 배임 혐의 적용이 가능하다고 판단했다. 주주의 핵심 권한에 영향을 주는 합병에서는 주주의 이익\n",
      "KO->JA: 検察とサムスンは、裁判の前に、取締役の事業が会社ではなく設立されたかどうかをめぐる戦いました。2番目の新聞の報道によると、ソウル中央検察官の経済犯罪事務所。6月、調査審議委員会の勧告の後、さまざまな会社法の専門家の意見を聞く過程で、ビジネス戦の申し立てを適用することができました。株主の中心的な権限に影響を与える合併において、株主の利益を保護するために取締役の使命が認められるべきであるという多くの意\n",
      "JA->KO: 검찰과 삼성은 재판 전에 회사가 아닌 이사의 사업이 설립되었는지 여부에 대해 싸웠다.두 번째 신문 보고서에 따르면 서울 중앙 검찰의 경제 범죄 사무소.6 월에 조사 다이어트위원회의 권고 후, 우리는 다양한 기업법 전문가의 의견을 듣는 과정에서 비즈니스 경기를 적용 할 수있었습니다.주주의 중앙 권한에 영향을 미치는 합병에서 주주의 이익을 보호하기 위해 이사의\n"
     ]
    },
    {
     "name": "stderr",
     "output_type": "stream",
     "text": [
      "Processing label 0.0:  96%|█████████▌| 1223/1277 [2:49:40<06:14,  6.93s/it]"
     ]
    },
    {
     "name": "stdout",
     "output_type": "stream",
     "text": [
      "Error translating JA->KO: The read operation timed out\n"
     ]
    },
    {
     "name": "stderr",
     "output_type": "stream",
     "text": [
      "Processing label 0.0:  96%|█████████▌| 1226/1277 [2:50:10<07:25,  8.73s/it]"
     ]
    },
    {
     "name": "stdout",
     "output_type": "stream",
     "text": [
      "\n",
      "[Progress 6300]:\n",
      "Original: 무려 4년을 이어온 이재용 삼성전자 부회장의 국정농단 파기환송심이 내년 초 선고를 거쳐 마무리될 전망이지만 삼성의 표정은 밝지 않다. 지난 9월 검찰이 기소 방침을 발표한 경영권 승계 의혹 재판이 또 다시 이어지기 때문이다. 해당 사건의 복잡성으로 볼 때 1심만 2년 이상 걸릴 것이란 암울한 전망이 나온다. 4년 끈 재판 끝나면 또 . 법조계에 따르면 삼성\n",
      "KO->JA: Lee Jae-サムスンエレクトロニクスの副会長であるYongは、4年間継続しており、来年初めに刑を宣告された後に完了する予定ですが、Samsungの表現は明るくありません。これは、検察の継承の疑いが再び継続されたためです。事件の複雑さの結果、2年以上かかるという悲観的な見通しがあります。4年間の裁判の後、再び。法律専門職によれば、サムスン関連の裁判は、国立農業隊の贈収賄の申し立てと管理権の連続に\n",
      "JA->KO: Lee Jae-Samsung Electronics의 부회장 인 Yong은 4 년 동안 계속되어 왔으며 내년에 페널티를 선고받은 후 완료 될 예정이지만 삼성의 표현은 밝지 않습니다.기소에 대한 의심이 다시 계속 되었기 때문입니다.이 사건의 복잡성의 결과로, 2 년 이상이 걸리는 비관적 인 전망이 있습니다.다시 4 년간의 재판 후.법률 전문가에 따르면, 삼성 \n"
     ]
    },
    {
     "name": "stderr",
     "output_type": "stream",
     "text": [
      "Processing label 0.0: 100%|██████████| 1277/1277 [2:57:36<00:00,  8.35s/it]\n",
      "Processing label -1.0:   3%|▎         | 20/751 [03:17<2:02:01, 10.02s/it]"
     ]
    },
    {
     "name": "stdout",
     "output_type": "stream",
     "text": [
      "\n",
      "[Progress 100]:\n",
      "Original: 삼성전자 지분을 보유하고 있다는 점과 보유한 삼성전자의 지분가치 대비 동사의 시가총액이 월등히 적다는 점이 최근 이슈는 아니었다. 그럼에도 불구하고 삼성생명의 시가총액이 이를 반영하지 못했던 이유는 지배구조 이슈로 인해 지분 매각 가능성이 낮을 것으로 판단했기 때문이다. 강승건 KB증권 연구원은 주가급등의 원인은 삼성생명이 보유한 계열사 지분 처분 가능성 \n",
      "KO->JA: サムスンエレクトロニクスの株式価値と比較して、同社がサムスンエレクトロニクスと動詞の時価総額に株式を持っていることは最近の問題ではありませんでした。それにもかかわらず、サムスン生命の時価総額がこれを反映していなかった理由は、ガバナンスの問題により株式を販売する可能性が低いということです。KB Seung -Gunは、KB証券の研究者であり、株価の原因は、Samsung Life Insurance\n",
      "JA->KO: 삼성 전자 장치의 주식 가치와 비교할 때, 회사가 삼성 전자 장치와 동사의 시가 총액에서 주식을 가지고있는 것은 최근의 문제가 아니 었습니다.그럼에도 불구하고 삼성 생활의 시가 총액이이를 반영하지 않은 이유는 거버넌스 문제로 인한 주식을 판매 할 가능성이 거의 없기 때문입니다.KB Seung -Gun은 자신이 KB Securities의 연구원이며 주가의 원\n"
     ]
    },
    {
     "name": "stderr",
     "output_type": "stream",
     "text": [
      "Processing label -1.0:   4%|▍         | 31/751 [05:04<1:53:28,  9.46s/it]"
     ]
    },
    {
     "name": "stdout",
     "output_type": "stream",
     "text": [
      "\n",
      "[Progress 150]:\n",
      "Original: 회의에서는 기후변화 대응을 위한 국제적인 탄소절감 정책에 협력이 필요하다는 점에는 위원 다수가 공감한 것으로 기금위는 전했다. 하지만 석탄 투자 제한. 배제 전략의 도입 방식과 분야 등에 대해서는 견해가 갈려. 결국 해당 안건은 다음 기금위에 다시 상정하기로 했다. 국민연금이 석탄 투자 중단에 대한 명확한 결정을 내리지 못하자 환경운동연합은 같은 날 논평을\n",
      "KO->JA: 多くのメンバーは、気候変動に対応するための国際的な炭素沈降ポリシーとの協力が合意されていることに同意します。しかし、石炭投資の制限。除外戦略のビューとフィールドは分割されます。最終的に、アジェンダはそれを次の基金に再挿入することを決定しました。全国年金が石炭投資の停止について明確な決定を下さなかったとき、環境運動協会は同じ日にコメントしました。National Pensionは韓国最大の石炭資金調\n",
      "JA->KO: 많은 회원국은 기후 변화에 대응하기 위해 국제 탄소 침강 정책과의 협력에 동의한다는 데 동의합니다.그러나 석탄 투자 제한.면제 전략보기 및 필드는 분할됩니다.결국, 의제는 다음 펀드에 다시 삽입하기로 결정했습니다.국가 연금이 석탄 투자 중단에 대한 명확한 결정을 내리지 않았을 때, 환경 운동 협회는 같은 날에 언급했다.National Pension은 한국에\n"
     ]
    },
    {
     "name": "stderr",
     "output_type": "stream",
     "text": [
      "Processing label -1.0:   6%|▋         | 47/751 [07:36<1:47:57,  9.20s/it]"
     ]
    },
    {
     "name": "stdout",
     "output_type": "stream",
     "text": [
      "\n",
      "[Progress 250]:\n",
      "Original: 이런 와중 도입된 새 국제회계기준. 으로 인해 계약유지율의 중요성이 한층 커지게 되면서. 고객 이탈을 둘러싼 처브라이프의 고민은 더욱 깊어질 것으로 보인다. 10일 금융감독원에 따르면 처브라이프의 13회차 계약유지율은 지난해 상반기 기준 68. 로 생보업계서 가장 낮았다. 처브라이프를 제외한 나머지 22개 생보사는 모두 80. 13회차 계약유지율은 계약이 \n",
      "KO->JA: この中に導入された新しい国際会計基準。その結果、契約保持の重要性が高まります。顧客の出発に対する人生の懸念は、深くなると予想されます。10日の金融監督サービスによると、Chub Lifeの13回目の契約維持率は68でした。昨年上半期には、生命財務業界で最も低い。Chube Lifeを除く残りの22人の生命保険会社は80. 13番目の契約保持率であり、契約が署名されてから毎月13回以上支払われた契約\n",
      "JA->KO: 새로운 국제 회계 표준이 소개되었습니다.결과적으로 계약 보유의 중요성이 증가합니다.고객의 삶에 대한 고객의 우려는 더 깊을 것으로 예상됩니다.10 일의 금융 감독 서비스에 따르면 Chub Life의 13 번째 계약 유지 보수율은 68 세였습니다.작년 상반기에는 생명 금융 산업에서 가장 낮았습니다.Chube 생명을 제외한 나머지 22 개의 생명 보험 회사는 \n"
     ]
    },
    {
     "name": "stderr",
     "output_type": "stream",
     "text": [
      "Processing label -1.0:  16%|█▌        | 119/751 [19:17<1:41:46,  9.66s/it]"
     ]
    },
    {
     "name": "stdout",
     "output_type": "stream",
     "text": [
      "\n",
      "[Progress 1050]:\n",
      "Original: 이번 전시회엔 국내 완성차 업체로는 현대차. 배터리 제조사 중에선 삼성SDI가 참여했다. 현대차는 수소연료전지시스템을 장착한 7톤급 대형 밴을. 삼성SDI는 상용차에 장착할 수 있는 차세대 고밀도 배터리를 소개했다. 승용차보다 온실가스 2. 트럭 등 상용차는 온실가스 배출량이 많아 친환경차 전환이 시급한 시장이다. 지난해 정부가 발표한 . 제4차 친환경자동\n",
      "KO->JA: この展示会はヒュンダイモーターカンパニーです。Samsung SDIはバッテリーメーカーに参加しました。ヒュンダイモーターには、水素燃料電池システムを備えた7 -Tonの大きなバンがあります。Samsung SDIは、商用車に取り付けることができる次の生成高密度バッテリーを導入しました。乗用車よりも温室効果ガス2.トラックなどのトラックは、温室効果ガスの排出量を増やしているため、環境に優しい車両の\n",
      "JA->KO: 이 전시회는 현대 자동차 회사입니다.삼성 SDI는 배터리 제조업체에 참여했습니다.현대 모터에는 수소 연료 전지 시스템이있는 큰 7 톤 밴이 있습니다.Samsung SDI는 상용 차량에 부착 할 수있는 다음 생성 된 고밀도 배터리를 도입했습니다.온실 가스 2. 트럭과 같은 트럭은 온실 가스 배출 증가로 인해 환경 친화적 인 차량입니다.정부는 작년에 발표했다.\n"
     ]
    },
    {
     "name": "stderr",
     "output_type": "stream",
     "text": [
      "Processing label -1.0:  24%|██▎       | 177/751 [28:29<1:32:38,  9.68s/it]"
     ]
    },
    {
     "name": "stdout",
     "output_type": "stream",
     "text": [
      "\n",
      "[Progress 1500]:\n",
      "Original: 금융업 내에서는 전업주의 원칙이 고수되고 금융 주도의 비금융 융합도 제한돼 혁신이 어려운만큼 전업주의 규제 개선 필요성에 대한 논의의 장 마련을 위해 개최된 세미나이다. 첫 번째 발표자로 나선 중앙대학교 여은정 교수는 . 디지털 시대의 금융업간 겸업주의 논의와 대응방안. 빅테크 금융업자의 등장으로 플랫폼을 통한 사실상의 . 구현에 따라 전업주의 원칙의 의미\n",
      "KO->JA: これは、フルタイム労働者の原則が順守され、金融主導の非金融収束が制限されているという事実のために、完全な時間規制の規制を改善する必要性に関する議論の準備をするためのセミナーです。金融業界。ヨン・ユンジュン教授 - チョン・アング大学、彼は最初のプレゼンターでした。デジタル時代の金融業界間の議論と対策。大きなハイテク投資家の登場は、実質的にプラットフォームを通してです。実装に応じて、フルタイム主義の\n",
      "JA->KO: 이것은 완전한 시간 근로자의 원칙이 복잡하고 금융 비 금융 수렴이 제한되어 있기 때문에 완전히 시간 규제를 개선해야 할 필요성에 대한 토론을 준비하는 세미나입니다.금융 산업.Yong Yun Jun -Jung Ang University 교수는 첫 발표자였습니다.디지털 시대의 금융 산업 간의 토론과 대응.대규모 고성분 투자자의 출현은 플랫폼을 통해 실질적으로 \n"
     ]
    },
    {
     "name": "stderr",
     "output_type": "stream",
     "text": [
      "Processing label -1.0:  35%|███▍      | 261/751 [41:36<1:19:08,  9.69s/it]"
     ]
    },
    {
     "name": "stdout",
     "output_type": "stream",
     "text": [
      "\n",
      "[Progress 2400]:\n",
      "Original: 를 도입해 엄격한 기준을 적용해야 한다는 의견과 . 가 침해되서는 안 된다는 논리가 정면으로 맞붙었다. 이런 상황에서 카카오는 . 뉴스 및 검색서비스 개편. 이라는 카드를 빼들었다. 댓글부터 실검 폐지까지지난해 10월 카카오는 긴급 기자회견을 열고 뉴스서비스 개편 방향을 알렸다. 가 세상을 떠난지 2주도 되지 않은 시점이었다. 취재진과 만난 조수용. 여민수\n",
      "KO->JA: 厳格な基準を導入すべきだという意見。侵害されるべきではないロジックは、正面に直面していました。この状況では、カカオ。ニュースおよび検索サービスの改革。カードを引き出しました。昨年10月、カカオは緊急記者会見を開き、ニュースサービスの指示を発表しました。彼が亡くなってから2週間もかからなかった。記者と会ったアシスタント。Yeo Min -Soo、カカオの代表者は、重い雰囲気にありました。ポータルの純\n",
      "JA->KO: 엄격한 표준이 도입되어야한다는 의견.침해해서는 안되는 논리는 정면을 향하고있었습니다.이 상황에서 Cacao.뉴스 및 검색 서비스의 개혁.나는 카드를 꺼냈다.지난 10 월, Cacao는 비상 기자 회견을 열고 뉴스 서비스에 대한 지시를 발표했습니다.그가 죽은 지 2 주도 채 걸리지 않았습니다.기자를 만난 조수.Yeo Min -Soo와 Cacao 대표는 분위기\n"
     ]
    },
    {
     "name": "stderr",
     "output_type": "stream",
     "text": [
      "Processing label -1.0:  40%|████      | 301/751 [47:49<1:07:30,  9.00s/it]"
     ]
    },
    {
     "name": "stdout",
     "output_type": "stream",
     "text": [
      "Error translating KO->JA: the JSON object must be str, bytes or bytearray, not NoneType\n",
      "Error translating JA->KO: the JSON object must be str, bytes or bytearray, not NoneType\n"
     ]
    },
    {
     "name": "stderr",
     "output_type": "stream",
     "text": [
      "Processing label -1.0:  40%|████      | 303/751 [48:04<1:04:09,  8.59s/it]"
     ]
    },
    {
     "name": "stdout",
     "output_type": "stream",
     "text": [
      "Error translating KO->JA: the JSON object must be str, bytes or bytearray, not NoneType\n",
      "Error translating JA->KO: the JSON object must be str, bytes or bytearray, not NoneType\n"
     ]
    },
    {
     "name": "stderr",
     "output_type": "stream",
     "text": [
      "Processing label -1.0:  58%|█████▊    | 437/751 [1:09:15<52:41, 10.07s/it]"
     ]
    },
    {
     "name": "stdout",
     "output_type": "stream",
     "text": [
      "Error translating KO->JA: the JSON object must be str, bytes or bytearray, not NoneType\n",
      "Error translating JA->KO: the JSON object must be str, bytes or bytearray, not NoneType\n"
     ]
    },
    {
     "name": "stderr",
     "output_type": "stream",
     "text": [
      "Processing label -1.0:  61%|██████▏   | 460/751 [1:12:48<45:47,  9.44s/it]"
     ]
    },
    {
     "name": "stdout",
     "output_type": "stream",
     "text": [
      "Error translating KO->JA: the JSON object must be str, bytes or bytearray, not NoneType\n",
      "Error translating JA->KO: the JSON object must be str, bytes or bytearray, not NoneType\n"
     ]
    },
    {
     "name": "stderr",
     "output_type": "stream",
     "text": [
      "Processing label -1.0:  63%|██████▎   | 472/751 [1:14:40<44:10,  9.50s/it]"
     ]
    },
    {
     "name": "stdout",
     "output_type": "stream",
     "text": [
      "Error translating JA->KO: The read operation timed out\n"
     ]
    },
    {
     "name": "stderr",
     "output_type": "stream",
     "text": [
      "Processing label -1.0:  69%|██████▉   | 519/751 [1:22:22<36:36,  9.47s/it]"
     ]
    },
    {
     "name": "stdout",
     "output_type": "stream",
     "text": [
      "\n",
      "[Progress 4700]:\n",
      "Original: Action Speaks Louder. 는 삼성전자에 사용전력 100. 를 재생에너지로 조속히 전환하라고 촉구했다. 이들은 이재용 삼성전자 부회장 가면을 쓰고 태양과 풍력발전기 모양 달고나 게임을 하고. 분홍 옷을 입은 진행요원들이 . 삼성전자 재생에너지 100. 라는 배너를 들고 기후대응을 압박하는 모습을 연출했다. 환경운동연합의 권우현 기후에너지국 활동\n",
      "KO->JA: アクションは大声で話します。同社は、サムスンエレクトロニクスに、できるだけ早く再生可能エネルギーに切り替えるよう促した。彼らは、サムスンエレクトロニクスの副会長であるリー・ジェンを着用し、太陽と風のタービンを演奏しました。ピンクの服を着た進歩エージェント。Samsung Electronics Renewable Energy100。バナーは気候応答を推進していました。環境運動協会の活動家であるク\n",
      "JA->KO: 행동은 큰 소리로 말합니다.이 회사는 삼성 전자 장치가 가능한 빨리 재생 에너지로 전환 할 것을 촉구했다.그들은 삼성 전자 장치의 부회장 인이 젠 (Lee Jen)을 입고 태양과 풍력 터빈을 연주했습니다.분홍색 옷의 고급 에이전트.삼성 전자 제품 재생 에너지 10.배너는 기후 반응을 홍보하고있었습니다.환경 운동 협회 (Environmental Athleti\n"
     ]
    },
    {
     "name": "stderr",
     "output_type": "stream",
     "text": [
      "Processing label -1.0:  78%|███████▊  | 583/751 [1:32:59<29:53, 10.67s/it]"
     ]
    },
    {
     "name": "stdout",
     "output_type": "stream",
     "text": [
      "Error translating KO->JA: the JSON object must be str, bytes or bytearray, not NoneType\n",
      "Error translating JA->KO: the JSON object must be str, bytes or bytearray, not NoneType\n"
     ]
    },
    {
     "name": "stderr",
     "output_type": "stream",
     "text": [
      "\r",
      "Processing label -1.0:  78%|███████▊  | 584/751 [1:33:03<23:50,  8.57s/it]"
     ]
    },
    {
     "name": "stdout",
     "output_type": "stream",
     "text": [
      "Error translating KO->JA: the JSON object must be str, bytes or bytearray, not NoneType\n",
      "Error translating JA->KO: the JSON object must be str, bytes or bytearray, not NoneType\n"
     ]
    },
    {
     "name": "stderr",
     "output_type": "stream",
     "text": [
      "Processing label -1.0:  81%|████████  | 606/751 [1:36:40<25:36, 10.59s/it]"
     ]
    },
    {
     "name": "stdout",
     "output_type": "stream",
     "text": [
      "\n",
      "[Progress 5600]:\n",
      "Original: 무디스의 ESG 총평가점수에서 주요국 기업 점수가 20. 7점인 데 비해 한국은 11. 등 대부분 평가회사 결과도 비슷하다. 이 결과가 한국 정부와 기업에 가지는 시사점을 냉철하게 분석할 필요가 있다. 무능력한 정책 입안자나 경영자는 따라서 ESG 점수 개선을 위해 더 노력해야 한다고만 말할지 모르지만 보다 근본적이고 심각한 문제가 내재되어 있다. ESG \n",
      "KO->JA: ムーディーのESGの総評価スコアは20.7ですが、韓国の結果は類似していますが、11を含む韓国の評価会社のほとんどは似ています。韓国政府と会社におけるこの結果の意味を分析する必要があります。無能な政策立案者とマネージャーは、ESGスコアを改善しようとするべきだとだけ言うかもしれませんが、より基本的で深刻です。ESGの問題が発生する前でさえ、当社の株式は投資家に過小評価されており、実際の利益よりも低\n",
      "JA->KO: Moody의 총 평가 점수는 20.7이지만 한국의 결과는 비슷하지만 11 개를 포함한 대부분의 한국 평가 회사는 비슷합니다.한국 정부와 회사 에서이 결과의 의미를 분석해야합니다.ESG 점수를 향상 시키려고 노력해야한다고 말할 수도 있지만 더 기본적이고 진지합니다.ESG 문제가 발생하기 전에도, 우리의 주식은 투자자에 의해 과소 평가되며 실제 이익보다 낮은 \n"
     ]
    },
    {
     "name": "stderr",
     "output_type": "stream",
     "text": [
      "Processing label -1.0:  85%|████████▌ | 642/751 [1:41:53<17:36,  9.69s/it]"
     ]
    },
    {
     "name": "stdout",
     "output_type": "stream",
     "text": [
      "Error translating JA->KO: The read operation timed out\n"
     ]
    },
    {
     "name": "stderr",
     "output_type": "stream",
     "text": [
      "Processing label -1.0:  88%|████████▊ | 662/751 [1:45:02<12:14,  8.25s/it]"
     ]
    },
    {
     "name": "stdout",
     "output_type": "stream",
     "text": [
      "\n",
      "[Progress 6000]:\n",
      "Original: 등급을 받은 모델은 현대 팰리세이드. 제네시스 G90 등이고. TSP 등급은 현대 쏘나타가 받았다. 북미 시장에 출시된 신차를 대상으로 깐깐하고 혹독한 실험을 진행하기로 유명한 IIHS는 올해 충돌 평가 기준을 기존보다 강화했다. 측면 충돌 평가의 경우 차량과 충돌하는 물체의 질량은 약 1497. 으로 늘어났고 충돌하는 속도도 시속 49. 질량과 속도를 기\n",
      "KO->JA: Hyundai Palisadeは評価されたモデルです。Genesis G90。TSPグレードは、ヒュンダイソナタによって受け取られました。北米市場で発売された新車の厳しい厳しい実験で有名なIIHSは、今年衝突評価基準を強化しました。サイド衝突評価の場合、車両と衝突するオブジェクトの質量は約1497に増加しました。また、衝突の速度も49です。質量と速度に基づいて変換される衝撃エネルギーは82です。\n",
      "JA->KO: 현대 팰리 세이드는 평가 된 모델입니다.창세기 G90.TSP 등급은 현대에 의해 접수되었습니다.북미 시장에서 출시 된 신차 실험으로 유명한 IIHS는 올해 충돌 평가 기준을 강화했습니다.측면 충돌 평가의 경우, 차량과 충돌하는 물체의 질량은 약 1497로 증가했습니다.충돌 속도는 49입니다.질량과 속도에 따라 전환 된 충격 에너지는 82입니다.작년 151-\n"
     ]
    },
    {
     "name": "stderr",
     "output_type": "stream",
     "text": [
      "Processing label -1.0:  88%|████████▊ | 664/751 [1:45:21<12:41,  8.75s/it]"
     ]
    },
    {
     "name": "stdout",
     "output_type": "stream",
     "text": [
      "\n",
      "[Progress 6050]:\n",
      "Original: 이번에 기계연ˑ현대차 공동연구팀은 기존 현대자동차 하이브리드 차량 엔진에 수소를 30배 기압 이상의 압력으로 연소실 안에 직접 분사하고 엔진의 성능을 높이는 터보차저를 이용해 시동부터 엔진 부하가 높아질 때까지 모든 영역에서 높은 열효율로 유지하며 안정적인 운전을 구현했다. 은 기체 상태인 수소연료가 차지하는 공간 때문에 연소실에 공기유입이 줄어들어 효율성\n",
      "KO->JA: 今回、ヒュンダイモーターカンパニーの共同研究チームは、燃焼室に水素を直接吹き付け、30倍以上の圧力でエンジンの性能を高めるターボチャージャーを使用して、最初からエンジン負荷までのすべてのエリアで高熱効率です。水素水素エンジンは、安定した運転を維持し、具体化しました。ガス状態である水素燃料が占めるスペースのため、燃焼室では空気の流入が減少し、効率が低下し、水素燃料と空気の逆のためにエンジン性能が低下\n",
      "JA->KO: 이번에는 현대 자동차 회사 공동 연구팀은 연소실로 직접 수소를 뿌리는 터보 충전기를 사용하여 압력의 30 배 이상의 엔진 성능을 향상시켜 처음부터 모든 영역에서 열 효율적입니다. 엔진 하중.수소 수소 엔진은 안정적이고 구체화되었다.수소 연료가있는 공간으로 인해 연소실에서 공기 유입이 감소하고 효율이 감소하고 수소 연료 및 공기의 반대로 인해 엔진 성능이 감\n"
     ]
    },
    {
     "name": "stderr",
     "output_type": "stream",
     "text": [
      "Processing label -1.0:  94%|█████████▍| 707/751 [1:51:54<07:12,  9.82s/it]"
     ]
    },
    {
     "name": "stdout",
     "output_type": "stream",
     "text": [
      "Error translating KO->JA: the JSON object must be str, bytes or bytearray, not NoneType\n",
      "Error translating JA->KO: the JSON object must be str, bytes or bytearray, not NoneType\n"
     ]
    },
    {
     "name": "stderr",
     "output_type": "stream",
     "text": [
      "Processing label -1.0: 100%|█████████▉| 748/751 [1:58:06<00:27,  9.29s/it]"
     ]
    },
    {
     "name": "stdout",
     "output_type": "stream",
     "text": [
      "\n",
      "[Progress 6600]:\n",
      "Original: B에서 A로 한 계단 상승 . 건설사 대부분 B등급 이하. 규모가 작을수록 더욱 낮은 평가. 새로운 규제 아닌 산업 지속가능성 위한 유인책 돼야. 건설업계에서도 ESG 경영이 화두로 떠오른 가운데 국내 주요 건설사들이 올해 제각각 다른 성적표를 받아들었다. 삼성물산은 A 등급을 획득한 반면. 인천 아파트 지하 주차장 붕괴 사고가 있었던 GS건설과 근로자 사\n",
      "KO->JA: BからAまでのステップアップほとんどの建設会社はBよりも少ないスケールが小さいほど、評価は低くなります。これは、新しい規制ではなく、産業の持続可能性のインセンティブである必要があります。建設業界では、ESG管理がホットトピックとして浮上しており、主要な国内建設会社は今年、さまざまなレポートカードを受け入れています。Samsung C＆Tは成績を取得しました。Incheonの地下駐車場が崩壊したGS\n",
      "JA->KO: B에서 대부분의 건설 회사로의 단계 UPS는 B보다 작은 척도를 낮추고 있습니다.이것은 새로운 규정이 아니라 산업 지속 가능성에 대한 인센티브 여야합니다.건설 산업에서 ESG 경영진은 뜨거운 주제로 부상했으며 주요 국내 건설 회사는 올해 다양한 성적표를 수락했습니다.삼성 C & T는 성적을 달성했습니다.인천의 지하 주차장에서 무너진 GS E & C는 작년부\n"
     ]
    },
    {
     "name": "stderr",
     "output_type": "stream",
     "text": [
      "Processing label -1.0: 100%|██████████| 751/751 [1:58:35<00:00,  9.48s/it]\n"
     ]
    },
    {
     "name": "stdout",
     "output_type": "stream",
     "text": [
      "균형 조정 및 라벨 스무딩이 적용된 데이터가 저장되었습니다: /content/drive/MyDrive/Kwargs/021. 기업적합도 필터/업데이트/A1_remaster_combined_ANONYMIZED_balanced.csv\n"
     ]
    }
   ],
   "source": [
    "import pandas as pd\n",
    "from googletrans import Translator\n",
    "from tqdm import tqdm\n",
    "\n",
    "# Google Translate API Translator\n",
    "translator = Translator()\n",
    "\n",
    "# Korean-> Japanese translation\n",
    "def translate_ko_to_ja(text):\n",
    "    try:\n",
    "        translated = translator.translate(text, src='ko', dest='ja')\n",
    "        return translated.text\n",
    "    except Exception as e:\n",
    "        print(f\"Error translating KO->JA: {e}\")\n",
    "        return text  # 번역 실패 시 원본 텍스트 반환\n",
    "\n",
    "# Japanese-> Korean translation\n",
    "def translate_ja_to_ko(text):\n",
    "    try:\n",
    "        translated = translator.translate(text, src='ja', dest='ko')\n",
    "        return translated.text\n",
    "    except Exception as e:\n",
    "        print(f\"Error translating JA->KO: {e}\")\n",
    "        return text  # 번역 실패 시 원본 텍스트 반환\n",
    "\n",
    "# Reverse translation function (Korean → Japanese → Korean)\n",
    "def back_translate(text, idx):\n",
    "    ja_text = translate_ko_to_ja(text)\n",
    "    time.sleep(random.uniform(1.5, 2.5))  # 1.5초에서 2.5초 사이의 난수 대기\n",
    "    if not ja_text:  # 번역 실패 시 원본 텍스트 반환\n",
    "        return text\n",
    "\n",
    "    back_ko_text = translate_ja_to_ko(ja_text)\n",
    "    time.sleep(random.uniform(1.5, 2.5))  # 1.5초에서 2.5초 사이의 난수 대기\n",
    "    if not back_ko_text:  # 번역 실패 시 원본 텍스트 반환\n",
    "        return text\n",
    "\n",
    "# Output progress for every 500\n",
    "    if idx % 50 == 0:\n",
    "        print(f\"\\n[Progress {idx}]:\")\n",
    "        print(f\"Original: {text[:200]}\")\n",
    "        print(f\"KO->JA: {ja_text[:200]}\")\n",
    "        print(f\"JA->KO: {back_ko_text[:200]}\")\n",
    "\n",
    "    return back_ko_text\n",
    "\n",
    "#Label smoothing function\n",
    "def apply_label_smoothing(label, smoothing_factor=0.05):\n",
    "    return label * (1 - smoothing_factor) + (0.5 * smoothing_factor)\n",
    "\n",
    "#Chiped class enhancement + label smoothing function\n",
    "def augment_with_label_smoothing(df, label_column, max_samples, smoothing_factor=0.05):\n",
    "    label_counts = df[label_column].value_counts()\n",
    "    max_count = max_samples if max_samples else label_counts.max()  # 목표 샘플 수 설정 (최대값 또는 지정 값)\n",
    "\n",
    "    balanced_df = pd.DataFrame()  # 최종 균형 조정된 데이터셋 저장\n",
    "\n",
    "    for label, count in label_counts.items():\n",
    "        subset = df[df[label_column] == label]  # 해당 라벨의 데이터 추출\n",
    "\n",
    "        if count < max_count:\n",
    "#Hive minor class increase (enhancement of data as it is lacking)\n",
    "            augmented_texts = []\n",
    "            for idx, row in tqdm(subset.iterrows(), total=len(subset), desc=f\"Processing label {label}\"):\n",
    "                original_text = row['content']\n",
    "                augmented_text = back_translate(original_text, idx)  # 다단계 역번역을 통한 증강\n",
    "                augmented_row = row.copy()\n",
    "                augmented_row['content'] = augmented_text\n",
    "                augmented_row['full_text'] = augmented_text  # 'full_text' 업데이트\n",
    "\n",
    "# Apply label smoothing\n",
    "                smoothed_label = apply_label_smoothing(row[label_column], smoothing_factor=smoothing_factor)\n",
    "                augmented_row[label_column] = smoothed_label  # 스무딩된 라벨 적용\n",
    "                augmented_texts.append(augmented_row)\n",
    "\n",
    "            augmented_df = pd.DataFrame(augmented_texts)  # 증강된 데이터 프레임화\n",
    "            num_to_generate = max_count - count  # 부족한 개수만큼 증강\n",
    "            sampled_augmented = augmented_df.sample(n=num_to_generate, replace=True)  # 증강된 데이터 중 샘플링\n",
    "            balanced_df = pd.concat([balanced_df, subset, sampled_augmented], ignore_index=True)\n",
    "\n",
    "        else:\n",
    "# Excessive representative classes are added as original\n",
    "            balanced_df = pd.concat([balanced_df, subset], ignore_index=True)\n",
    "\n",
    "    return balanced_df\n",
    "\n",
    "# Examples of data load and application\n",
    "file_path = '/content/drive/MyDrive/Kwargs/023. esg 긍부정도 라벨러/업데이트/A3_remaster_combined_ANONYMIZED.csv'\n",
    "df = pd.read_csv(file_path)\n",
    "\n",
    "# Unbalanced: Augmented with label smoothing\n",
    "balanced_df = augment_with_label_smoothing(df, 'positivity', max_samples=2000, smoothing_factor=0.05)\n",
    "\n",
    "#Save results\n",
    "output_file = '/content/drive/MyDrive/Kwargs/023. esg 긍부정도 라벨러/업데이트/A3_remaster_combined_ANONYMIZED_balanced.csv'\n",
    "balanced_df.to_csv(output_file, index=False)\n",
    "print(f\"균형 조정 및 라벨 스무딩이 적용된 데이터가 저장되었습니다: {output_file}\")\n"
   ]
  },
  {
   "cell_type": "code",
   "execution_count": null,
   "metadata": {
    "colab": {
     "base_uri": "https://localhost:8080/"
    },
    "executionInfo": {
     "elapsed": 454,
     "status": "ok",
     "timestamp": 1726683932484,
     "user": {
      "displayName": "백현지",
      "userId": "02510457579208942463"
     },
     "user_tz": -540
    },
    "id": "xbxz0hXaYOIy",
    "outputId": "6d518faa-05e1-4709-bed7-71fed726fd59"
   },
   "outputs": [
    {
     "data": {
      "text/html": [
       "<div>\n",
       "<style scoped>\n",
       "    .dataframe tbody tr th:only-of-type {\n",
       "        vertical-align: middle;\n",
       "    }\n",
       "\n",
       "    .dataframe tbody tr th {\n",
       "        vertical-align: top;\n",
       "    }\n",
       "\n",
       "    .dataframe thead th {\n",
       "        text-align: right;\n",
       "    }\n",
       "</style>\n",
       "<table border=\"1\" class=\"dataframe\">\n",
       "  <thead>\n",
       "    <tr style=\"text-align: right;\">\n",
       "      <th></th>\n",
       "      <th>count</th>\n",
       "    </tr>\n",
       "    <tr>\n",
       "      <th>positivity</th>\n",
       "      <th></th>\n",
       "    </tr>\n",
       "  </thead>\n",
       "  <tbody>\n",
       "    <tr>\n",
       "      <th>1.000</th>\n",
       "      <td>4599</td>\n",
       "    </tr>\n",
       "    <tr>\n",
       "      <th>0.000</th>\n",
       "      <td>1277</td>\n",
       "    </tr>\n",
       "    <tr>\n",
       "      <th>-0.925</th>\n",
       "      <td>1249</td>\n",
       "    </tr>\n",
       "    <tr>\n",
       "      <th>-1.000</th>\n",
       "      <td>751</td>\n",
       "    </tr>\n",
       "    <tr>\n",
       "      <th>0.025</th>\n",
       "      <td>723</td>\n",
       "    </tr>\n",
       "  </tbody>\n",
       "</table>\n",
       "</div><br><label><b>dtype:</b> int64</label>"
      ],
      "text/plain": [
       "positivity\n",
       " 1.000    4599\n",
       " 0.000    1277\n",
       "-0.925    1249\n",
       "-1.000     751\n",
       " 0.025     723\n",
       "Name: count, dtype: int64"
      ]
     },
     "execution_count": 13,
     "metadata": {},
     "output_type": "execute_result"
    }
   ],
   "source": [
    "label_distribution = balanced_df['positivity'].value_counts()\n",
    "label_distribution"
   ]
  },
  {
   "cell_type": "code",
   "execution_count": null,
   "metadata": {
    "id": "9UM6ul_IAXav"
   },
   "outputs": [],
   "source": []
  },
  {
   "cell_type": "markdown",
   "metadata": {
    "id": "q_JCpYBYBTk9"
   },
   "source": [
    "#Modeling test"
   ]
  },
  {
   "cell_type": "markdown",
   "metadata": {
    "id": "4tiyTm_ub1wF"
   },
   "source": [
    "## a3-test (regression)"
   ]
  },
  {
   "cell_type": "markdown",
   "metadata": {
    "id": "S7kKaE9IBIFi"
   },
   "source": [
    "### Modeling (MelectRA)"
   ]
  },
  {
   "cell_type": "code",
   "execution_count": null,
   "metadata": {
    "id": "BG9EpDZK5KHG"
   },
   "outputs": [],
   "source": [
    "# Examples of data load and application\n",
    "file_path = '/content/drive/MyDrive/Kwargs/023. esg 긍부정도 라벨러/업데이트/A3_remaster_combined_ANONYMIZED_balanced.csv'\n",
    "df = pd.read_csv(file_path)"
   ]
  },
  {
   "cell_type": "code",
   "execution_count": null,
   "metadata": {
    "colab": {
     "base_uri": "https://localhost:8080/"
    },
    "executionInfo": {
     "elapsed": 7988,
     "status": "ok",
     "timestamp": 1726709360470,
     "user": {
      "displayName": "백현지",
      "userId": "02510457579208942463"
     },
     "user_tz": -540
    },
    "id": "v3Rj2FOHfQb4",
    "outputId": "d03b9703-02de-4fff-b0e0-478a9986d0f3"
   },
   "outputs": [
    {
     "name": "stdout",
     "output_type": "stream",
     "text": [
      "Requirement already satisfied: pyarrow in /usr/local/lib/python3.10/dist-packages (14.0.2)\n",
      "Collecting pyarrow\n",
      "  Downloading pyarrow-17.0.0-cp310-cp310-manylinux_2_28_x86_64.whl.metadata (3.3 kB)\n",
      "Requirement already satisfied: numpy>=1.16.6 in /usr/local/lib/python3.10/dist-packages (from pyarrow) (1.26.4)\n",
      "Downloading pyarrow-17.0.0-cp310-cp310-manylinux_2_28_x86_64.whl (39.9 MB)\n",
      "\u001b[2K   \u001b[90m━━━━━━━━━━━━━━━━━━━━━━━━━━━━━━━━━━━━━━━━\u001b[0m \u001b[32m39.9/39.9 MB\u001b[0m \u001b[31m49.4 MB/s\u001b[0m eta \u001b[36m0:00:00\u001b[0m\n",
      "\u001b[?25hInstalling collected packages: pyarrow\n",
      "  Attempting uninstall: pyarrow\n",
      "    Found existing installation: pyarrow 14.0.2\n",
      "    Uninstalling pyarrow-14.0.2:\n",
      "      Successfully uninstalled pyarrow-14.0.2\n",
      "\u001b[31mERROR: pip's dependency resolver does not currently take into account all the packages that are installed. This behaviour is the source of the following dependency conflicts.\n",
      "cudf-cu12 24.4.1 requires pyarrow<15.0.0a0,>=14.0.1, but you have pyarrow 17.0.0 which is incompatible.\n",
      "ibis-framework 8.0.0 requires pyarrow<16,>=2, but you have pyarrow 17.0.0 which is incompatible.\u001b[0m\u001b[31m\n",
      "\u001b[0mSuccessfully installed pyarrow-17.0.0\n"
     ]
    }
   ],
   "source": [
    "!pip install --upgrade pyarrow"
   ]
  },
  {
   "cell_type": "code",
   "execution_count": null,
   "metadata": {
    "colab": {
     "base_uri": "https://localhost:8080/"
    },
    "executionInfo": {
     "elapsed": 4969,
     "status": "ok",
     "timestamp": 1726709365436,
     "user": {
      "displayName": "백현지",
      "userId": "02510457579208942463"
     },
     "user_tz": -540
    },
    "id": "bDPfthuhdFlh",
    "outputId": "7198ba75-f695-4448-8f28-be3c38edf8d7"
   },
   "outputs": [
    {
     "name": "stdout",
     "output_type": "stream",
     "text": [
      "Collecting datasets\n",
      "  Downloading datasets-3.0.0-py3-none-any.whl.metadata (19 kB)\n",
      "Requirement already satisfied: filelock in /usr/local/lib/python3.10/dist-packages (from datasets) (3.16.0)\n",
      "Requirement already satisfied: numpy>=1.17 in /usr/local/lib/python3.10/dist-packages (from datasets) (1.26.4)\n",
      "Requirement already satisfied: pyarrow>=15.0.0 in /usr/local/lib/python3.10/dist-packages (from datasets) (17.0.0)\n",
      "Collecting dill<0.3.9,>=0.3.0 (from datasets)\n",
      "  Downloading dill-0.3.8-py3-none-any.whl.metadata (10 kB)\n",
      "Requirement already satisfied: pandas in /usr/local/lib/python3.10/dist-packages (from datasets) (2.1.4)\n",
      "Requirement already satisfied: requests>=2.32.2 in /usr/local/lib/python3.10/dist-packages (from datasets) (2.32.3)\n",
      "Requirement already satisfied: tqdm>=4.66.3 in /usr/local/lib/python3.10/dist-packages (from datasets) (4.66.5)\n",
      "Collecting xxhash (from datasets)\n",
      "  Downloading xxhash-3.5.0-cp310-cp310-manylinux_2_17_x86_64.manylinux2014_x86_64.whl.metadata (12 kB)\n",
      "Collecting multiprocess (from datasets)\n",
      "  Downloading multiprocess-0.70.16-py310-none-any.whl.metadata (7.2 kB)\n",
      "Requirement already satisfied: fsspec<=2024.6.1,>=2023.1.0 in /usr/local/lib/python3.10/dist-packages (from fsspec[http]<=2024.6.1,>=2023.1.0->datasets) (2024.6.1)\n",
      "Requirement already satisfied: aiohttp in /usr/local/lib/python3.10/dist-packages (from datasets) (3.10.5)\n",
      "Requirement already satisfied: huggingface-hub>=0.22.0 in /usr/local/lib/python3.10/dist-packages (from datasets) (0.24.7)\n",
      "Requirement already satisfied: packaging in /usr/local/lib/python3.10/dist-packages (from datasets) (24.1)\n",
      "Requirement already satisfied: pyyaml>=5.1 in /usr/local/lib/python3.10/dist-packages (from datasets) (6.0.2)\n",
      "Requirement already satisfied: aiohappyeyeballs>=2.3.0 in /usr/local/lib/python3.10/dist-packages (from aiohttp->datasets) (2.4.0)\n",
      "Requirement already satisfied: aiosignal>=1.1.2 in /usr/local/lib/python3.10/dist-packages (from aiohttp->datasets) (1.3.1)\n",
      "Requirement already satisfied: attrs>=17.3.0 in /usr/local/lib/python3.10/dist-packages (from aiohttp->datasets) (24.2.0)\n",
      "Requirement already satisfied: frozenlist>=1.1.1 in /usr/local/lib/python3.10/dist-packages (from aiohttp->datasets) (1.4.1)\n",
      "Requirement already satisfied: multidict<7.0,>=4.5 in /usr/local/lib/python3.10/dist-packages (from aiohttp->datasets) (6.1.0)\n",
      "Requirement already satisfied: yarl<2.0,>=1.0 in /usr/local/lib/python3.10/dist-packages (from aiohttp->datasets) (1.11.1)\n",
      "Requirement already satisfied: async-timeout<5.0,>=4.0 in /usr/local/lib/python3.10/dist-packages (from aiohttp->datasets) (4.0.3)\n",
      "Requirement already satisfied: typing-extensions>=3.7.4.3 in /usr/local/lib/python3.10/dist-packages (from huggingface-hub>=0.22.0->datasets) (4.12.2)\n",
      "Requirement already satisfied: charset-normalizer<4,>=2 in /usr/local/lib/python3.10/dist-packages (from requests>=2.32.2->datasets) (3.3.2)\n",
      "Requirement already satisfied: idna<4,>=2.5 in /usr/local/lib/python3.10/dist-packages (from requests>=2.32.2->datasets) (3.10)\n",
      "Requirement already satisfied: urllib3<3,>=1.21.1 in /usr/local/lib/python3.10/dist-packages (from requests>=2.32.2->datasets) (2.0.7)\n",
      "Requirement already satisfied: certifi>=2017.4.17 in /usr/local/lib/python3.10/dist-packages (from requests>=2.32.2->datasets) (2024.8.30)\n",
      "Requirement already satisfied: python-dateutil>=2.8.2 in /usr/local/lib/python3.10/dist-packages (from pandas->datasets) (2.8.2)\n",
      "Requirement already satisfied: pytz>=2020.1 in /usr/local/lib/python3.10/dist-packages (from pandas->datasets) (2024.2)\n",
      "Requirement already satisfied: tzdata>=2022.1 in /usr/local/lib/python3.10/dist-packages (from pandas->datasets) (2024.1)\n",
      "Requirement already satisfied: six>=1.5 in /usr/local/lib/python3.10/dist-packages (from python-dateutil>=2.8.2->pandas->datasets) (1.16.0)\n",
      "Downloading datasets-3.0.0-py3-none-any.whl (474 kB)\n",
      "\u001b[2K   \u001b[90m━━━━━━━━━━━━━━━━━━━━━━━━━━━━━━━━━━━━━━━━\u001b[0m \u001b[32m474.3/474.3 kB\u001b[0m \u001b[31m9.4 MB/s\u001b[0m eta \u001b[36m0:00:00\u001b[0m\n",
      "\u001b[?25hDownloading dill-0.3.8-py3-none-any.whl (116 kB)\n",
      "\u001b[2K   \u001b[90m━━━━━━━━━━━━━━━━━━━━━━━━━━━━━━━━━━━━━━━━\u001b[0m \u001b[32m116.3/116.3 kB\u001b[0m \u001b[31m8.5 MB/s\u001b[0m eta \u001b[36m0:00:00\u001b[0m\n",
      "\u001b[?25hDownloading multiprocess-0.70.16-py310-none-any.whl (134 kB)\n",
      "\u001b[2K   \u001b[90m━━━━━━━━━━━━━━━━━━━━━━━━━━━━━━━━━━━━━━━━\u001b[0m \u001b[32m134.8/134.8 kB\u001b[0m \u001b[31m9.5 MB/s\u001b[0m eta \u001b[36m0:00:00\u001b[0m\n",
      "\u001b[?25hDownloading xxhash-3.5.0-cp310-cp310-manylinux_2_17_x86_64.manylinux2014_x86_64.whl (194 kB)\n",
      "\u001b[2K   \u001b[90m━━━━━━━━━━━━━━━━━━━━━━━━━━━━━━━━━━━━━━━━\u001b[0m \u001b[32m194.1/194.1 kB\u001b[0m \u001b[31m13.5 MB/s\u001b[0m eta \u001b[36m0:00:00\u001b[0m\n",
      "\u001b[?25hInstalling collected packages: xxhash, dill, multiprocess, datasets\n",
      "Successfully installed datasets-3.0.0 dill-0.3.8 multiprocess-0.70.16 xxhash-3.5.0\n"
     ]
    }
   ],
   "source": [
    "!pip install datasets"
   ]
  },
  {
   "cell_type": "markdown",
   "metadata": {
    "id": "4LkuuQQHBO-f"
   },
   "source": [
    "### A3 modeling test"
   ]
  },
  {
   "cell_type": "code",
   "execution_count": null,
   "metadata": {
    "colab": {
     "base_uri": "https://localhost:8080/"
    },
    "executionInfo": {
     "elapsed": 138553,
     "status": "ok",
     "timestamp": 1726726639076,
     "user": {
      "displayName": "백현지",
      "userId": "02510457579208942463"
     },
     "user_tz": -540
    },
    "id": "VDe55PWv62c8",
    "outputId": "97ba7ee1-edc1-4ad1-d680-46d2a11e4afd"
   },
   "outputs": [
    {
     "name": "stderr",
     "output_type": "stream",
     "text": [
      "/usr/local/lib/python3.10/dist-packages/transformers/tokenization_utils_base.py:1601: FutureWarning: `clean_up_tokenization_spaces` was not set. It will be set to `True` by default. This behavior will be depracted in transformers v4.45, and will be then set to `False` by default. For more details check this issue: https://github.com/huggingface/transformers/issues/31884\n",
      "  warnings.warn(\n",
      "/usr/local/lib/python3.10/dist-packages/transformers/optimization.py:591: FutureWarning: This implementation of AdamW is deprecated and will be removed in a future version. Use the PyTorch implementation torch.optim.AdamW instead, or set `no_deprecation_warning=True` to disable this warning\n",
      "  warnings.warn(\n"
     ]
    }
   ],
   "source": [
    "import torch\n",
    "from torch.utils.data import DataLoader, Dataset\n",
    "from transformers import ElectraTokenizer, ElectraModel, AdamW\n",
    "import pandas as pd\n",
    "from sklearn.model_selection import train_test_split\n",
    "from tqdm import tqdm\n",
    "\n",
    "# 1. Data load and pretreatment\n",
    "file_path = '/content/drive/MyDrive/Kwargs/023. esg 긍부정도 라벨러/업데이트/A3_remaster_combined_ANONYMIZED_balanced.csv'\n",
    "df = pd.read_csv(file_path)\n",
    "\n",
    "# Train-Test Split\n",
    "train_texts, val_texts, train_labels, val_labels = train_test_split(df['full_text'].tolist(), df['positivity'].tolist(), test_size=0.2)\n",
    "\n",
    "# 2. Model and Talk Niser Road\n",
    "model_name = 'google/electra-small-discriminator'\n",
    "tokenizer = ElectraTokenizer.from_pretrained(model_name)\n",
    "base_model = ElectraModel.from_pretrained(model_name)\n",
    "\n",
    "# Regression Model Class Definition\n",
    "class ElectraForRegression(torch.nn.Module):\n",
    "    def __init__(self, base_model):\n",
    "        super(ElectraForRegression, self).__init__()\n",
    "        self.base_model = base_model\n",
    "        self.regressor = torch.nn.Linear(self.base_model.config.hidden_size, 1)  # 회귀를 위한 출력 층\n",
    "\n",
    "    def forward(self, input_ids, attention_mask):\n",
    "        outputs = self.base_model(input_ids=input_ids, attention_mask=attention_mask)\n",
    "        hidden_state = outputs.last_hidden_state[:, 0, :]  # 첫 번째 토큰의 hidden state\n",
    "        return self.regressor(hidden_state)\n",
    "\n",
    "#Model instance creation\n",
    "model = ElectraForRegression(base_model).to(device)\n",
    "\n",
    "# Token function\n",
    "def tokenize_function(texts):\n",
    "    return tokenizer(texts, padding='max_length', truncation=True, max_length=512, return_tensors='pt')\n",
    "\n",
    "# Convert data to PyTorch Dataset\n",
    "class TextDataset(Dataset):\n",
    "    def __init__(self, texts, labels):\n",
    "        self.encodings = tokenize_function(texts)\n",
    "        self.labels = labels\n",
    "\n",
    "    def __getitem__(self, idx):\n",
    "        item = {key: torch.tensor(val[idx]) for key, val in self.encodings.items()}\n",
    "        item['labels'] = torch.tensor(self.labels[idx], dtype=torch.float32)\n",
    "        return item\n",
    "\n",
    "    def __len__(self):\n",
    "        return len(self.labels)\n",
    "\n",
    "train_dataset = TextDataset(train_texts, train_labels)\n",
    "val_dataset = TextDataset(val_texts, val_labels)\n",
    "\n",
    "train_loader = DataLoader(train_dataset, batch_size=16, shuffle=True)\n",
    "val_loader = DataLoader(val_dataset, batch_size=16)\n",
    "\n",
    "# 3. Optimizer and loss function setting\n",
    "optimizer = AdamW(model.parameters(), lr=5e-5)\n",
    "loss_fn = torch.nn.MSELoss()  # Mean Squared Error Loss for regression"
   ]
  },
  {
   "cell_type": "code",
   "execution_count": null,
   "metadata": {
    "colab": {
     "base_uri": "https://localhost:8080/"
    },
    "executionInfo": {
     "elapsed": 284878,
     "status": "ok",
     "timestamp": 1726717032368,
     "user": {
      "displayName": "백현지",
      "userId": "02510457579208942463"
     },
     "user_tz": -540
    },
    "id": "9roqtHw4b5zu",
    "outputId": "f2df0873-b0eb-4ace-f7c5-86e809e1229a"
   },
   "outputs": [
    {
     "name": "stderr",
     "output_type": "stream",
     "text": [
      "/usr/local/lib/python3.10/dist-packages/transformers/tokenization_utils_base.py:1601: FutureWarning: `clean_up_tokenization_spaces` was not set. It will be set to `True` by default. This behavior will be depracted in transformers v4.45, and will be then set to `False` by default. For more details check this issue: https://github.com/huggingface/transformers/issues/31884\n",
      "  warnings.warn(\n",
      "/usr/local/lib/python3.10/dist-packages/transformers/optimization.py:591: FutureWarning: This implementation of AdamW is deprecated and will be removed in a future version. Use the PyTorch implementation torch.optim.AdamW instead, or set `no_deprecation_warning=True` to disable this warning\n",
      "  warnings.warn(\n",
      "  0%|          | 0/430 [00:00<?, ?it/s]<ipython-input-4-f5ba1b3c01bb>:46: UserWarning: To copy construct from a tensor, it is recommended to use sourceTensor.clone().detach() or sourceTensor.clone().detach().requires_grad_(True), rather than torch.tensor(sourceTensor).\n",
      "  item = {key: torch.tensor(val[idx]) for key, val in self.encodings.items()}\n",
      "Epoch 1: 100%|██████████| 430/430 [38:08<00:00,  5.32s/it, loss=0.622]\n"
     ]
    },
    {
     "name": "stdout",
     "output_type": "stream",
     "text": [
      "Epoch 1 completed. Average loss: 0.6216066125173901\n",
      "Validation Loss: 0.4899260790121776\n"
     ]
    },
    {
     "name": "stderr",
     "output_type": "stream",
     "text": [
      "Epoch 2: 100%|██████████| 430/430 [37:30<00:00,  5.23s/it, loss=0.473]\n"
     ]
    },
    {
     "name": "stdout",
     "output_type": "stream",
     "text": [
      "Epoch 2 completed. Average loss: 0.4729728344914525\n",
      "Validation Loss: 0.44205181300640106\n"
     ]
    },
    {
     "name": "stderr",
     "output_type": "stream",
     "text": [
      "Epoch 3: 100%|██████████| 430/430 [38:01<00:00,  5.31s/it, loss=0.442]\n"
     ]
    },
    {
     "name": "stdout",
     "output_type": "stream",
     "text": [
      "Epoch 3 completed. Average loss: 0.442094887810391\n",
      "Validation Loss: 0.47091126828281965\n"
     ]
    }
   ],
   "source": [
    "# 4. Learning and evaluation loop\n",
    "epochs = 3\n",
    "for epoch in range(epochs):\n",
    "    model.train()\n",
    "    total_loss = 0\n",
    "\n",
    "# Visualization of learning using TQDM\n",
    "    loop = tqdm(train_loader, leave=True)\n",
    "\n",
    "    for batch in loop:\n",
    "        optimizer.zero_grad()\n",
    "\n",
    "# Move the data to GPU\n",
    "        input_ids = batch['input_ids'].to(device)\n",
    "        attention_mask = batch['attention_mask'].to(device)\n",
    "        labels = batch['labels'].to(device)\n",
    "\n",
    "#Model prediction\n",
    "        outputs = model(input_ids=input_ids, attention_mask=attention_mask).squeeze()\n",
    "\n",
    "# Loss calculation\n",
    "        loss = loss_fn(outputs, labels)\n",
    "        total_loss += loss.item()\n",
    "\n",
    "#Reverse and optimizer updates\n",
    "        loss.backward()\n",
    "        optimizer.step()\n",
    "\n",
    "# TQDM progression update\n",
    "        loop.set_description(f'Epoch {epoch+1}')\n",
    "        loop.set_postfix(loss=total_loss/len(loop))\n",
    "\n",
    "    print(f'Epoch {epoch+1} completed. Average loss: {total_loss/len(train_loader)}')\n",
    "\n",
    "# Validation evaluation\n",
    "    model.eval()\n",
    "    val_loss = 0\n",
    "    with torch.no_grad():\n",
    "        for batch in val_loader:\n",
    "            input_ids = batch['input_ids'].to(device)\n",
    "            attention_mask = batch['attention_mask'].to(device)\n",
    "            labels = batch['labels'].to(device)\n",
    "\n",
    "            outputs = model(input_ids=input_ids, attention_mask=attention_mask).squeeze()\n",
    "            val_loss += loss_fn(outputs, labels).item()\n",
    "\n",
    "    print(f'Validation Loss: {val_loss/len(val_loader)}')\n"
   ]
  },
  {
   "cell_type": "markdown",
   "metadata": {
    "id": "F3Wxpmp_1TSc"
   },
   "source": [
    "### Modeled results and output performance indicators"
   ]
  },
  {
   "cell_type": "code",
   "execution_count": null,
   "metadata": {
    "colab": {
     "base_uri": "https://localhost:8080/"
    },
    "executionInfo": {
     "elapsed": 414,
     "status": "ok",
     "timestamp": 1726717149548,
     "user": {
      "displayName": "백현지",
      "userId": "02510457579208942463"
     },
     "user_tz": -540
    },
    "id": "YB6f9W5kW6sX",
    "outputId": "66881332-1b51-4352-c38f-ce06d02a62b2"
   },
   "outputs": [
    {
     "name": "stdout",
     "output_type": "stream",
     "text": [
      "모델과 토크나이저가 저장되었습니다: /content/drive/MyDrive/Kwargs/023. esg 긍부정도 라벨러/업데이트/model_output/\n"
     ]
    }
   ],
   "source": [
    "import os\n",
    "import torch\n",
    "\n",
    "# Set up a path to store models and torque knights\n",
    "save_directory = '/content/drive/MyDrive/Kwargs/023. esg 긍부정도 라벨러/업데이트/model_output/'\n",
    "\n",
    "# Create directory (if you already omit it)\n",
    "if not os.path.exists(save_directory):\n",
    "    os.makedirs(save_directory)\n",
    "\n",
    "# 1. Store the weight and regression layer weight of the Electra model\n",
    "model_path = os.path.join(save_directory, \"pytorch_model.bin\")\n",
    "torch.save(model.state_dict(), model_path)\n",
    "\n",
    "# 2. Save the torque nisor used\n",
    "tokenizer.save_pretrained(save_directory)\n",
    "\n",
    "print(f\"모델과 토크나이저가 저장되었습니다: {save_directory}\")\n"
   ]
  },
  {
   "cell_type": "code",
   "execution_count": null,
   "metadata": {
    "colab": {
     "base_uri": "https://localhost:8080/"
    },
    "executionInfo": {
     "elapsed": 819,
     "status": "ok",
     "timestamp": 1726726335209,
     "user": {
      "displayName": "백현지",
      "userId": "02510457579208942463"
     },
     "user_tz": -540
    },
    "id": "9AUc8-vQW7jI",
    "outputId": "67b3f85d-02f7-4ccb-8e8b-5396e262a863"
   },
   "outputs": [
    {
     "name": "stdout",
     "output_type": "stream",
     "text": [
      "모델과 토크나이저가 성공적으로 불러와졌습니다.\n"
     ]
    },
    {
     "name": "stderr",
     "output_type": "stream",
     "text": [
      "<ipython-input-9-f88cb54b68e7>:30: FutureWarning: You are using `torch.load` with `weights_only=False` (the current default value), which uses the default pickle module implicitly. It is possible to construct malicious pickle data which will execute arbitrary code during unpickling (See https://github.com/pytorch/pytorch/blob/main/SECURITY.md#untrusted-models for more details). In a future release, the default value for `weights_only` will be flipped to `True`. This limits the functions that could be executed during unpickling. Arbitrary objects will no longer be allowed to be loaded via this mode unless they are explicitly allowlisted by the user via `torch.serialization.add_safe_globals`. We recommend you start setting `weights_only=True` for any use case where you don't have full control of the loaded file. Please open an issue on GitHub for any issues related to this experimental feature.\n",
      "  model.load_state_dict(torch.load(model_path))\n"
     ]
    }
   ],
   "source": [
    "import torch\n",
    "from transformers import ElectraModel, ElectraTokenizer\n",
    "\n",
    "# Importing models and torque nisor from the saved path\n",
    "model_directory = '/content/drive/MyDrive/Kwargs/023. esg 긍부정도 라벨러/업데이트/model_output/'\n",
    "\n",
    "# 1. Calling Talk Nizor\n",
    "tokenizer = ElectraTokenizer.from_pretrained(model_directory)\n",
    "\n",
    "# 2. ElectraForregression model rescue definition (the same as before)\n",
    "class ElectraForRegression(torch.nn.Module):\n",
    "    def __init__(self, base_model):\n",
    "        super(ElectraForRegression, self).__init__()\n",
    "        self.base_model = base_model\n",
    "        self.regressor = torch.nn.Linear(self.base_model.config.hidden_size, 1)  # 회귀를 위한 출력층\n",
    "\n",
    "    def forward(self, input_ids, attention_mask):\n",
    "        outputs = self.base_model(input_ids=input_ids, attention_mask=attention_mask)\n",
    "        hidden_state = outputs.last_hidden_state[:, 0, :]  # 첫 번째 토큰의 hidden state\n",
    "        return self.regressor(hidden_state)\n",
    "\n",
    "# 3. Import the Electra model\n",
    "base_model = ElectraModel.from_pretrained(\"google/electra-small-discriminator\")\n",
    "\n",
    "# 4. Regression model instanceization\n",
    "model = ElectraForRegression(base_model)\n",
    "\n",
    "# 5. Import stored weighted weight\n",
    "model_path = os.path.join(model_directory, \"pytorch_model.bin\")\n",
    "model.load_state_dict(torch.load(model_path))\n",
    "\n",
    "print(\"모델과 토크나이저가 성공적으로 불러와졌습니다.\")\n"
   ]
  },
  {
   "cell_type": "code",
   "execution_count": null,
   "metadata": {
    "colab": {
     "base_uri": "https://localhost:8080/",
     "height": 366
    },
    "executionInfo": {
     "elapsed": 792486,
     "status": "error",
     "timestamp": 1726727717445,
     "user": {
      "displayName": "백현지",
      "userId": "02510457579208942463"
     },
     "user_tz": -540
    },
    "id": "Mr0jwDqF6Kim",
    "outputId": "f79ae063-0de2-4b85-a603-701b04cdf3bd"
   },
   "outputs": [
    {
     "name": "stderr",
     "output_type": "stream",
     "text": [
      "<ipython-input-14-c42ad46c8679>:31: FutureWarning: You are using `torch.load` with `weights_only=False` (the current default value), which uses the default pickle module implicitly. It is possible to construct malicious pickle data which will execute arbitrary code during unpickling (See https://github.com/pytorch/pytorch/blob/main/SECURITY.md#untrusted-models for more details). In a future release, the default value for `weights_only` will be flipped to `True`. This limits the functions that could be executed during unpickling. Arbitrary objects will no longer be allowed to be loaded via this mode unless they are explicitly allowlisted by the user via `torch.serialization.add_safe_globals`. We recommend you start setting `weights_only=True` for any use case where you don't have full control of the loaded file. Please open an issue on GitHub for any issues related to this experimental feature.\n",
      "  model.load_state_dict(torch.load(model_path))\n"
     ]
    },
    {
     "name": "stdout",
     "output_type": "stream",
     "text": [
      "모델과 토크나이저가 성공적으로 불러와졌습니다.\n"
     ]
    },
    {
     "name": "stderr",
     "output_type": "stream",
     "text": [
      "<ipython-input-12-028a957ae23c>:46: UserWarning: To copy construct from a tensor, it is recommended to use sourceTensor.clone().detach() or sourceTensor.clone().detach().requires_grad_(True), rather than torch.tensor(sourceTensor).\n",
      "  item = {key: torch.tensor(val[idx]) for key, val in self.encodings.items()}\n"
     ]
    },
    {
     "name": "stdout",
     "output_type": "stream",
     "text": [
      "Mean Squared Error (MSE): 0.4620695114135742\n",
      "R² (Coefficient of Determination): 0.28596076012638905\n"
     ]
    },
    {
     "ename": "NameError",
     "evalue": "name 'categorize_predictions' is not defined",
     "output_type": "error",
     "traceback": [
      "\u001b[0;31m---------------------------------------------------------------------------\u001b[0m",
      "\u001b[0;31mNameError\u001b[0m                                 Traceback (most recent call last)",
      "\u001b[0;32m<ipython-input-14-c42ad46c8679>\u001b[0m in \u001b[0;36m<cell line: 79>\u001b[0;34m()\u001b[0m\n\u001b[1;32m     77\u001b[0m \u001b[0;34m\u001b[0m\u001b[0m\n\u001b[1;32m     78\u001b[0m \u001b[0;31m# 예측 값을 세 구간으로 분류하여 혼동 행렬 생성\u001b[0m\u001b[0;34m\u001b[0m\u001b[0;34m\u001b[0m\u001b[0m\n\u001b[0;32m---> 79\u001b[0;31m \u001b[0mtrue_categories\u001b[0m \u001b[0;34m=\u001b[0m \u001b[0mcategorize_predictions\u001b[0m\u001b[0;34m(\u001b[0m\u001b[0mtrue_labels\u001b[0m\u001b[0;34m)\u001b[0m\u001b[0;34m\u001b[0m\u001b[0;34m\u001b[0m\u001b[0m\n\u001b[0m\u001b[1;32m     80\u001b[0m \u001b[0mpredicted_categories\u001b[0m \u001b[0;34m=\u001b[0m \u001b[0mcategorize_predictions\u001b[0m\u001b[0;34m(\u001b[0m\u001b[0mpredictions\u001b[0m\u001b[0;34m)\u001b[0m\u001b[0;34m\u001b[0m\u001b[0;34m\u001b[0m\u001b[0m\n\u001b[1;32m     81\u001b[0m \u001b[0;34m\u001b[0m\u001b[0m\n",
      "\u001b[0;31mNameError\u001b[0m: name 'categorize_predictions' is not defined"
     ]
    }
   ],
   "source": [
    "import torch\n",
    "from transformers import ElectraModel, ElectraTokenizer\n",
    "from sklearn.metrics import mean_squared_error, r2_score, confusion_matrix, ConfusionMatrixDisplay\n",
    "import numpy as np\n",
    "import matplotlib.pyplot as plt\n",
    "\n",
    "# Importing models and torque nisor from the saved path\n",
    "model_directory = '/content/drive/MyDrive/Kwargs/023. esg 긍부정도 라벨러/업데이트/model_output/'\n",
    "\n",
    "# 1. Calling Talk Nizor\n",
    "tokenizer = ElectraTokenizer.from_pretrained(model_directory)\n",
    "\n",
    "# 2. ElectraForregression model rescue definition (the same as before)\n",
    "class ElectraForRegression(torch.nn.Module):\n",
    "    def __init__(self, base_model):\n",
    "        super(ElectraForRegression, self).__init__()\n",
    "        self.base_model = base_model\n",
    "        self.regressor = torch.nn.Linear(self.base_model.config.hidden_size, 1)  # 회귀를 위한 출력층\n",
    "\n",
    "    def forward(self, input_ids, attention_mask):\n",
    "        outputs = self.base_model(input_ids=input_ids, attention_mask=attention_mask)\n",
    "        hidden_state = outputs.last_hidden_state[:, 0, :]  # 첫 번째 토큰의 hidden state\n",
    "        return self.regressor(hidden_state)\n",
    "\n",
    "# 3. Import the Electra model\n",
    "base_model = ElectraModel.from_pretrained(\"google/electra-small-discriminator\")\n",
    "\n",
    "# 4. Road regression model instance and weight load\n",
    "model = ElectraForRegression(base_model)\n",
    "model_path = os.path.join(model_directory, \"pytorch_model.bin\")\n",
    "model.load_state_dict(torch.load(model_path))\n",
    "model.to(device)\n",
    "\n",
    "print(\"모델과 토크나이저가 성공적으로 불러와졌습니다.\")\n",
    "\n",
    "# 5. Definition and use of model evaluation functions (reuse of functions defined above)\n",
    "def evaluate_model(model, val_loader):\n",
    "    model.eval()\n",
    "    true_labels = []\n",
    "    predictions = []\n",
    "\n",
    "    with torch.no_grad():\n",
    "        for batch in val_loader:\n",
    "            input_ids = batch['input_ids'].to(device)\n",
    "            attention_mask = batch['attention_mask'].to(device)\n",
    "            labels = batch['labels'].to(device)\n",
    "\n",
    "#Model prediction\n",
    "            outputs = model(input_ids=input_ids, attention_mask=attention_mask).squeeze()\n",
    "\n",
    "#Save prediction value and actual value\n",
    "            predictions.extend(outputs.cpu().numpy())\n",
    "            true_labels.extend(labels.cpu().numpy())\n",
    "\n",
    "    return np.array(true_labels), np.array(predictions)\n",
    "\n",
    "# 6. Data load and pretreatment (existing dataset reuse)\n",
    "val_texts = df['full_text'].tolist()  # 검증용 데이터셋만 재사용\n",
    "val_labels = df['positivity'].tolist()\n",
    "\n",
    "# Tokenization function reuse\n",
    "def tokenize_function(texts):\n",
    "    return tokenizer(texts, padding='max_length', truncation=True, max_length=512, return_tensors='pt')\n",
    "\n",
    "# Preparation of verification datasets\n",
    "val_dataset = TextDataset(val_texts, val_labels)\n",
    "val_loader = DataLoader(val_dataset, batch_size=16)\n",
    "\n",
    "# 7. Evaluation and MSE, R², Confusion Matrocation\n",
    "true_labels, predictions = evaluate_model(model, val_loader)\n",
    "\n",
    "# MSE and R² Calculation\n",
    "mse = mean_squared_error(true_labels, predictions)\n",
    "r2 = r2_score(true_labels, predictions)\n",
    "print(f'Mean Squared Error (MSE): {mse}')\n",
    "print(f'R² (Coefficient of Determination): {r2}')\n"
   ]
  },
  {
   "cell_type": "markdown",
   "metadata": {
    "id": "fpVrtCVL2tGZ"
   },
   "source": [
    "## A1-14Test (Classification)"
   ]
  },
  {
   "cell_type": "markdown",
   "metadata": {
    "id": "P6z8n1HOIcDj"
   },
   "source": [
    "Colab\n",
    "``\n",
    "VAR StartClickConnect = function startClickConnect () {\n",
    "    VAR ClickConnect = function ClickConnect () {\n",
    "        Console.log (\"connect clicked -start\");\n",
    "        Document.querySelector (\"#TOP-Toolbar> Colab-Connect-Button\").\n",
    "        Console.log (\"connect clicked -end\");\n",
    "    };\n",
    "\n",
    "    var intervalid = setInterval (ClickConnect, 60000);\n",
    "\n",
    "    VAR StopClickConnectHandler = Function StopClickConnect () {{\n",
    "        Console.log (\"ConnNect Clicked Stopped -Start\");\n",
    "        ClearInterVal (intervalid);\n",
    "        Console.log (\"ConnNect Clicked Stopped -End\");\n",
    "    };\n",
    "\n",
    "    Return StopClickConnectHandler;\n",
    "};\n",
    "\n",
    "VAR StopClickConnect = StartclickConnect ();\n",
    "``"
   ]
  },
  {
   "cell_type": "code",
   "execution_count": null,
   "metadata": {
    "colab": {
     "base_uri": "https://localhost:8080/",
     "height": 460
    },
    "executionInfo": {
     "elapsed": 15028,
     "status": "ok",
     "timestamp": 1727156770868,
     "user": {
      "displayName": "백현지",
      "userId": "02510457579208942463"
     },
     "user_tz": -540
    },
    "id": "VZc_AzcF8nbY",
    "outputId": "3a8abe5a-8760-4372-b4c5-fcabf295d98e"
   },
   "outputs": [
    {
     "data": {
      "text/html": [
       "<div>\n",
       "<style scoped>\n",
       "    .dataframe tbody tr th:only-of-type {\n",
       "        vertical-align: middle;\n",
       "    }\n",
       "\n",
       "    .dataframe tbody tr th {\n",
       "        vertical-align: top;\n",
       "    }\n",
       "\n",
       "    .dataframe thead th {\n",
       "        text-align: right;\n",
       "    }\n",
       "</style>\n",
       "<table border=\"1\" class=\"dataframe\">\n",
       "  <thead>\n",
       "    <tr style=\"text-align: right;\">\n",
       "      <th></th>\n",
       "      <th>count</th>\n",
       "    </tr>\n",
       "    <tr>\n",
       "      <th>evaluation_1</th>\n",
       "      <th></th>\n",
       "    </tr>\n",
       "  </thead>\n",
       "  <tbody>\n",
       "    <tr>\n",
       "      <th>0.1</th>\n",
       "      <td>23805</td>\n",
       "    </tr>\n",
       "    <tr>\n",
       "      <th>0.8</th>\n",
       "      <td>19655</td>\n",
       "    </tr>\n",
       "    <tr>\n",
       "      <th>0.9</th>\n",
       "      <td>17971</td>\n",
       "    </tr>\n",
       "    <tr>\n",
       "      <th>0.2</th>\n",
       "      <td>9653</td>\n",
       "    </tr>\n",
       "    <tr>\n",
       "      <th>0.7</th>\n",
       "      <td>7746</td>\n",
       "    </tr>\n",
       "    <tr>\n",
       "      <th>0.3</th>\n",
       "      <td>4144</td>\n",
       "    </tr>\n",
       "    <tr>\n",
       "      <th>0.0</th>\n",
       "      <td>2380</td>\n",
       "    </tr>\n",
       "    <tr>\n",
       "      <th>1.0</th>\n",
       "      <td>237</td>\n",
       "    </tr>\n",
       "    <tr>\n",
       "      <th>0.5</th>\n",
       "      <td>140</td>\n",
       "    </tr>\n",
       "    <tr>\n",
       "      <th>0.6</th>\n",
       "      <td>27</td>\n",
       "    </tr>\n",
       "    <tr>\n",
       "      <th>0.4</th>\n",
       "      <td>9</td>\n",
       "    </tr>\n",
       "  </tbody>\n",
       "</table>\n",
       "</div><br><label><b>dtype:</b> int64</label>"
      ],
      "text/plain": [
       "evaluation_1\n",
       "0.1    23805\n",
       "0.8    19655\n",
       "0.9    17971\n",
       "0.2     9653\n",
       "0.7     7746\n",
       "0.3     4144\n",
       "0.0     2380\n",
       "1.0      237\n",
       "0.5      140\n",
       "0.6       27\n",
       "0.4        9\n",
       "Name: count, dtype: int64"
      ]
     },
     "execution_count": 1,
     "metadata": {},
     "output_type": "execute_result"
    }
   ],
   "source": [
    "import pandas as pd\n",
    "# 1. Data load and pretreatment\n",
    "file_path = '/content/drive/MyDrive/Kwargs/021. 기업적합도 필터/업데이트/A1_remaster_combined_ANONYMIZED.csv'\n",
    "df = pd.read_csv(file_path)\n",
    "\n",
    "\n",
    "df['evaluation_1'].value_counts()"
   ]
  },
  {
   "cell_type": "code",
   "execution_count": null,
   "metadata": {
    "colab": {
     "base_uri": "https://localhost:8080/",
     "height": 303
    },
    "executionInfo": {
     "elapsed": 7,
     "status": "ok",
     "timestamp": 1727156770868,
     "user": {
      "displayName": "백현지",
      "userId": "02510457579208942463"
     },
     "user_tz": -540
    },
    "id": "QYrVsH8-8IsY",
    "outputId": "1f12fb1b-0d19-495d-9665-030e9e27d0d3"
   },
   "outputs": [
    {
     "data": {
      "text/html": [
       "<div>\n",
       "<style scoped>\n",
       "    .dataframe tbody tr th:only-of-type {\n",
       "        vertical-align: middle;\n",
       "    }\n",
       "\n",
       "    .dataframe tbody tr th {\n",
       "        vertical-align: top;\n",
       "    }\n",
       "\n",
       "    .dataframe thead th {\n",
       "        text-align: right;\n",
       "    }\n",
       "</style>\n",
       "<table border=\"1\" class=\"dataframe\">\n",
       "  <thead>\n",
       "    <tr style=\"text-align: right;\">\n",
       "      <th></th>\n",
       "      <th>count</th>\n",
       "    </tr>\n",
       "    <tr>\n",
       "      <th>evaluation_6</th>\n",
       "      <th></th>\n",
       "    </tr>\n",
       "  </thead>\n",
       "  <tbody>\n",
       "    <tr>\n",
       "      <th>0.2</th>\n",
       "      <td>23805</td>\n",
       "    </tr>\n",
       "    <tr>\n",
       "      <th>0.8</th>\n",
       "      <td>19655</td>\n",
       "    </tr>\n",
       "    <tr>\n",
       "      <th>1.0</th>\n",
       "      <td>18208</td>\n",
       "    </tr>\n",
       "    <tr>\n",
       "      <th>0.4</th>\n",
       "      <td>13973</td>\n",
       "    </tr>\n",
       "    <tr>\n",
       "      <th>0.6</th>\n",
       "      <td>7746</td>\n",
       "    </tr>\n",
       "    <tr>\n",
       "      <th>0.0</th>\n",
       "      <td>2384</td>\n",
       "    </tr>\n",
       "  </tbody>\n",
       "</table>\n",
       "</div><br><label><b>dtype:</b> int64</label>"
      ],
      "text/plain": [
       "evaluation_6\n",
       "0.2    23805\n",
       "0.8    19655\n",
       "1.0    18208\n",
       "0.4    13973\n",
       "0.6     7746\n",
       "0.0     2384\n",
       "Name: count, dtype: int64"
      ]
     },
     "execution_count": 2,
     "metadata": {},
     "output_type": "execute_result"
    }
   ],
   "source": [
    "#Initial Relabeling Based on the updated criteria\n",
    "def updated_relabel(value):\n",
    "    if 1.0 >= value >= 0.9:\n",
    "        return '상당히 관련있음'\n",
    "    elif value == 0.8:\n",
    "        return '적절히 관련있음'\n",
    "    elif value == 0.7:\n",
    "        return '약간 관련있음'\n",
    "    elif 0.6 >= value >= 0.2:\n",
    "        return '거의 관련없음'\n",
    "    elif value == 0.1:\n",
    "        return '상당히 관련없음'\n",
    "    else:\n",
    "        return '완전히 관련없음'\n",
    "\n",
    "# Apply the updated relabeling function\n",
    "df['evaluation_6'] = df['evaluation_1'].apply(updated_relabel)\n",
    "\n",
    "# Continuous Encoding BASED 0.2 Intervals\n",
    "continuous_mapping = {\n",
    "    '상당히 관련있음': 1.0,\n",
    "    '적절히 관련있음': 0.8,\n",
    "    '약간 관련있음': 0.6,\n",
    "    '거의 관련없음': 0.4,\n",
    "    '상당히 관련없음': 0.2,\n",
    "    '완전히 관련없음': 0.0\n",
    "}\n",
    "\n",
    "# Apply the Continuous Mapping\n",
    "df['evaluation_6'] = df['evaluation_6'].map(continuous_mapping)\n",
    "\n",
    "df['evaluation_6'].value_counts()"
   ]
  },
  {
   "cell_type": "code",
   "execution_count": null,
   "metadata": {
    "colab": {
     "base_uri": "https://localhost:8080/",
     "height": 681,
     "referenced_widgets": [
      "6f4fd798b83942dbb8ab3a34f9183810",
      "8f73056c719e4d2fba8062eee46543fc",
      "e129e5030ad0488da4978832b2a12681",
      "10f23dc070b947dea9a70aeef7e2abe4",
      "0e43ee8f7cdc43cf8fa196161d8d0660",
      "dd59b469f3e44561a4fdc09d0a0addcf",
      "8f951f0d214746aebd6a11b754113e34",
      "10385ac3fc654a03ab71380752ec5a48",
      "a0888a786a5c4e32b08954952a70497c",
      "36fdeaa9c5a645ad9a43e274e6dd802d",
      "fca77c9db7c3433fa58dcbd9d4134e21",
      "181b53e3d7a742e3ab6a3e811c5020e1",
      "5b415e01c23a4721ad4075e35a0064c5",
      "97a25915afa8418e8a8bfd523aa71914",
      "af7a47c6936444ba86a6a8b51c9c7815",
      "757042a600ef408fa72f836bc4ee92c7",
      "27ed024b0b24407ead07c739d0cfeb6b",
      "7d34d85044d5425792b6c73b338acff1",
      "86ff1990ab214809b0329b45b9ab31d5",
      "3e3845501e504d21ab654cb1c2fff9b6",
      "a1764379e5a645aca3a6b07f7d3ce65d",
      "0054a73e407b4c419459ff9a98cedad7",
      "61dc5426ddf54b5d9023ccb245511ef6",
      "aab2d36070ae420994c02f886c6fe258",
      "a80caa61479f48ac951cb520bfe608fb",
      "b5605c1d0c2b4fae87afae986079868f",
      "62f1fb9dd537443a8cfddb3b01165049",
      "1102d7078bd14afc9df0366aa4d58cda",
      "5d41caac665749a485f3cbf464be11df",
      "5cf6c825c43043bebbb4d4fc9c40ba65",
      "a06dc0e3f9784c8e9e58685b24a4217b",
      "5ac5ba4f053144b49b897d0b0dcb6acf",
      "a28af31ad9ce42eaabf897d4e56157c2",
      "47c682b65923452c9ad1b6db8aaee27f",
      "92ac3ba124cd4c7ebc8ed5dc1d9eaa90",
      "7b95187410634d8984549ac30337de3d",
      "caa1a060540c4d74b12d342315aa0ad8",
      "cda94595b4a7445798a3339453905eb9",
      "9c5715694e9b48e18a446e92ea80d17e",
      "945dd7863b8d4911ae7f1e033cbd1932",
      "f37044ba8ec447d6b547a712b0e478ca",
      "bc21b902646344c8b2fdc34572a06884",
      "7736c4c05f3b461aa3c8000bf1a88962",
      "9753995bc89149f2bd0b75f3649d2cca"
     ]
    },
    "executionInfo": {
     "elapsed": 235454,
     "status": "error",
     "timestamp": 1727157006317,
     "user": {
      "displayName": "백현지",
      "userId": "02510457579208942463"
     },
     "user_tz": -540
    },
    "id": "9ADJRfqaQqem",
    "outputId": "bced2506-d7ab-4a2b-8a7a-ed66c4c92c5e"
   },
   "outputs": [
    {
     "name": "stderr",
     "output_type": "stream",
     "text": [
      "/usr/local/lib/python3.10/dist-packages/huggingface_hub/utils/_token.py:89: UserWarning: \n",
      "The secret `HF_TOKEN` does not exist in your Colab secrets.\n",
      "To authenticate with the Hugging Face Hub, create a token in your settings tab (https://huggingface.co/settings/tokens), set it as secret in your Google Colab and restart your session.\n",
      "You will be able to reuse this secret in all of your notebooks.\n",
      "Please note that authentication is recommended but still optional to access public models or datasets.\n",
      "  warnings.warn(\n"
     ]
    },
    {
     "data": {
      "application/vnd.jupyter.widget-view+json": {
       "model_id": "6f4fd798b83942dbb8ab3a34f9183810",
       "version_major": 2,
       "version_minor": 0
      },
      "text/plain": [
       "tokenizer_config.json:   0%|          | 0.00/60.0 [00:00<?, ?B/s]"
      ]
     },
     "metadata": {},
     "output_type": "display_data"
    },
    {
     "data": {
      "application/vnd.jupyter.widget-view+json": {
       "model_id": "181b53e3d7a742e3ab6a3e811c5020e1",
       "version_major": 2,
       "version_minor": 0
      },
      "text/plain": [
       "vocab.txt:   0%|          | 0.00/279k [00:00<?, ?B/s]"
      ]
     },
     "metadata": {},
     "output_type": "display_data"
    },
    {
     "data": {
      "application/vnd.jupyter.widget-view+json": {
       "model_id": "61dc5426ddf54b5d9023ccb245511ef6",
       "version_major": 2,
       "version_minor": 0
      },
      "text/plain": [
       "config.json:   0%|          | 0.00/466 [00:00<?, ?B/s]"
      ]
     },
     "metadata": {},
     "output_type": "display_data"
    },
    {
     "name": "stderr",
     "output_type": "stream",
     "text": [
      "/usr/local/lib/python3.10/dist-packages/transformers/tokenization_utils_base.py:1601: FutureWarning: `clean_up_tokenization_spaces` was not set. It will be set to `True` by default. This behavior will be depracted in transformers v4.45, and will be then set to `False` by default. For more details check this issue: https://github.com/huggingface/transformers/issues/31884\n",
      "  warnings.warn(\n"
     ]
    },
    {
     "data": {
      "application/vnd.jupyter.widget-view+json": {
       "model_id": "47c682b65923452c9ad1b6db8aaee27f",
       "version_major": 2,
       "version_minor": 0
      },
      "text/plain": [
       "pytorch_model.bin:   0%|          | 0.00/55.1M [00:00<?, ?B/s]"
      ]
     },
     "metadata": {},
     "output_type": "display_data"
    },
    {
     "name": "stderr",
     "output_type": "stream",
     "text": [
      "Tokenizing:  60%|█████▉    | 41122/68616 [03:43<02:29, 184.37it/s]\n"
     ]
    },
    {
     "ename": "KeyboardInterrupt",
     "evalue": "",
     "output_type": "error",
     "traceback": [
      "\u001b[0;31m---------------------------------------------------------------------------\u001b[0m",
      "\u001b[0;31mKeyboardInterrupt\u001b[0m                         Traceback (most recent call last)",
      "\u001b[0;32m<ipython-input-3-ddb82f0f12ad>\u001b[0m in \u001b[0;36m<cell line: 91>\u001b[0;34m()\u001b[0m\n\u001b[1;32m     89\u001b[0m \u001b[0;34m\u001b[0m\u001b[0m\n\u001b[1;32m     90\u001b[0m \u001b[0;31m# 학습 및 검증 데이터셋 생성\u001b[0m\u001b[0;34m\u001b[0m\u001b[0;34m\u001b[0m\u001b[0m\n\u001b[0;32m---> 91\u001b[0;31m \u001b[0mtrain_dataset\u001b[0m \u001b[0;34m=\u001b[0m \u001b[0mTextDataset\u001b[0m\u001b[0;34m(\u001b[0m\u001b[0mtrain_texts\u001b[0m\u001b[0;34m,\u001b[0m \u001b[0mtrain_companies\u001b[0m\u001b[0;34m,\u001b[0m \u001b[0mtrain_labels_indices\u001b[0m\u001b[0;34m)\u001b[0m\u001b[0;34m\u001b[0m\u001b[0;34m\u001b[0m\u001b[0m\n\u001b[0m\u001b[1;32m     92\u001b[0m \u001b[0mval_dataset\u001b[0m \u001b[0;34m=\u001b[0m \u001b[0mTextDataset\u001b[0m\u001b[0;34m(\u001b[0m\u001b[0mval_texts\u001b[0m\u001b[0;34m,\u001b[0m \u001b[0mval_companies\u001b[0m\u001b[0;34m,\u001b[0m \u001b[0mval_labels_indices\u001b[0m\u001b[0;34m)\u001b[0m\u001b[0;34m\u001b[0m\u001b[0;34m\u001b[0m\u001b[0m\n\u001b[1;32m     93\u001b[0m \u001b[0;34m\u001b[0m\u001b[0m\n",
      "\u001b[0;32m<ipython-input-3-ddb82f0f12ad>\u001b[0m in \u001b[0;36m__init__\u001b[0;34m(self, texts, companies, labels)\u001b[0m\n\u001b[1;32m     75\u001b[0m \u001b[0;32mclass\u001b[0m \u001b[0mTextDataset\u001b[0m\u001b[0;34m(\u001b[0m\u001b[0mDataset\u001b[0m\u001b[0;34m)\u001b[0m\u001b[0;34m:\u001b[0m\u001b[0;34m\u001b[0m\u001b[0;34m\u001b[0m\u001b[0m\n\u001b[1;32m     76\u001b[0m     \u001b[0;32mdef\u001b[0m \u001b[0m__init__\u001b[0m\u001b[0;34m(\u001b[0m\u001b[0mself\u001b[0m\u001b[0;34m,\u001b[0m \u001b[0mtexts\u001b[0m\u001b[0;34m,\u001b[0m \u001b[0mcompanies\u001b[0m\u001b[0;34m,\u001b[0m \u001b[0mlabels\u001b[0m\u001b[0;34m)\u001b[0m\u001b[0;34m:\u001b[0m\u001b[0;34m\u001b[0m\u001b[0;34m\u001b[0m\u001b[0m\n\u001b[0;32m---> 77\u001b[0;31m         \u001b[0mself\u001b[0m\u001b[0;34m.\u001b[0m\u001b[0mencodings\u001b[0m \u001b[0;34m=\u001b[0m \u001b[0mtokenize_function\u001b[0m\u001b[0;34m(\u001b[0m\u001b[0mtexts\u001b[0m\u001b[0;34m)\u001b[0m\u001b[0;34m\u001b[0m\u001b[0;34m\u001b[0m\u001b[0m\n\u001b[0m\u001b[1;32m     78\u001b[0m         \u001b[0mself\u001b[0m\u001b[0;34m.\u001b[0m\u001b[0mlabels\u001b[0m \u001b[0;34m=\u001b[0m \u001b[0mlabels\u001b[0m\u001b[0;34m\u001b[0m\u001b[0;34m\u001b[0m\u001b[0m\n\u001b[1;32m     79\u001b[0m         \u001b[0mself\u001b[0m\u001b[0;34m.\u001b[0m\u001b[0mcompanies\u001b[0m \u001b[0;34m=\u001b[0m \u001b[0mcompanies\u001b[0m\u001b[0;34m\u001b[0m\u001b[0;34m\u001b[0m\u001b[0m\n",
      "\u001b[0;32m<ipython-input-3-ddb82f0f12ad>\u001b[0m in \u001b[0;36mtokenize_function\u001b[0;34m(texts)\u001b[0m\n\u001b[1;32m     68\u001b[0m     \u001b[0mencodings\u001b[0m \u001b[0;34m=\u001b[0m \u001b[0;34m[\u001b[0m\u001b[0;34m]\u001b[0m\u001b[0;34m\u001b[0m\u001b[0;34m\u001b[0m\u001b[0m\n\u001b[1;32m     69\u001b[0m     \u001b[0;32mfor\u001b[0m \u001b[0mtext\u001b[0m \u001b[0;32min\u001b[0m \u001b[0mtqdm\u001b[0m\u001b[0;34m(\u001b[0m\u001b[0mtexts\u001b[0m\u001b[0;34m,\u001b[0m \u001b[0mdesc\u001b[0m\u001b[0;34m=\u001b[0m\u001b[0;34m\"Tokenizing\"\u001b[0m\u001b[0;34m,\u001b[0m \u001b[0mleave\u001b[0m\u001b[0;34m=\u001b[0m\u001b[0;32mTrue\u001b[0m\u001b[0;34m)\u001b[0m\u001b[0;34m:\u001b[0m\u001b[0;34m\u001b[0m\u001b[0;34m\u001b[0m\u001b[0m\n\u001b[0;32m---> 70\u001b[0;31m         \u001b[0mencoding\u001b[0m \u001b[0;34m=\u001b[0m \u001b[0mtokenizer\u001b[0m\u001b[0;34m(\u001b[0m\u001b[0mtext\u001b[0m\u001b[0;34m,\u001b[0m \u001b[0mpadding\u001b[0m\u001b[0;34m=\u001b[0m\u001b[0;34m'max_length'\u001b[0m\u001b[0;34m,\u001b[0m \u001b[0mtruncation\u001b[0m\u001b[0;34m=\u001b[0m\u001b[0;32mTrue\u001b[0m\u001b[0;34m,\u001b[0m \u001b[0mmax_length\u001b[0m\u001b[0;34m=\u001b[0m\u001b[0;36m512\u001b[0m\u001b[0;34m,\u001b[0m \u001b[0mreturn_tensors\u001b[0m\u001b[0;34m=\u001b[0m\u001b[0;34m'pt'\u001b[0m\u001b[0;34m)\u001b[0m\u001b[0;34m\u001b[0m\u001b[0;34m\u001b[0m\u001b[0m\n\u001b[0m\u001b[1;32m     71\u001b[0m         \u001b[0mencodings\u001b[0m\u001b[0;34m.\u001b[0m\u001b[0mappend\u001b[0m\u001b[0;34m(\u001b[0m\u001b[0mencoding\u001b[0m\u001b[0;34m)\u001b[0m\u001b[0;34m\u001b[0m\u001b[0;34m\u001b[0m\u001b[0m\n\u001b[1;32m     72\u001b[0m     \u001b[0;32mreturn\u001b[0m \u001b[0;34m{\u001b[0m\u001b[0mkey\u001b[0m\u001b[0;34m:\u001b[0m \u001b[0mtorch\u001b[0m\u001b[0;34m.\u001b[0m\u001b[0mcat\u001b[0m\u001b[0;34m(\u001b[0m\u001b[0;34m[\u001b[0m\u001b[0mencoding\u001b[0m\u001b[0;34m[\u001b[0m\u001b[0mkey\u001b[0m\u001b[0;34m]\u001b[0m \u001b[0;32mfor\u001b[0m \u001b[0mencoding\u001b[0m \u001b[0;32min\u001b[0m \u001b[0mencodings\u001b[0m\u001b[0;34m]\u001b[0m\u001b[0;34m)\u001b[0m \u001b[0;32mfor\u001b[0m \u001b[0mkey\u001b[0m \u001b[0;32min\u001b[0m \u001b[0mencodings\u001b[0m\u001b[0;34m[\u001b[0m\u001b[0;36m0\u001b[0m\u001b[0;34m]\u001b[0m\u001b[0;34m}\u001b[0m\u001b[0;34m\u001b[0m\u001b[0;34m\u001b[0m\u001b[0m\n",
      "\u001b[0;32m/usr/local/lib/python3.10/dist-packages/transformers/tokenization_utils_base.py\u001b[0m in \u001b[0;36m__call__\u001b[0;34m(self, text, text_pair, text_target, text_pair_target, add_special_tokens, padding, truncation, max_length, stride, is_split_into_words, pad_to_multiple_of, return_tensors, return_token_type_ids, return_attention_mask, return_overflowing_tokens, return_special_tokens_mask, return_offsets_mapping, return_length, verbose, **kwargs)\u001b[0m\n\u001b[1;32m   3053\u001b[0m             \u001b[0;32mif\u001b[0m \u001b[0;32mnot\u001b[0m \u001b[0mself\u001b[0m\u001b[0;34m.\u001b[0m\u001b[0m_in_target_context_manager\u001b[0m\u001b[0;34m:\u001b[0m\u001b[0;34m\u001b[0m\u001b[0;34m\u001b[0m\u001b[0m\n\u001b[1;32m   3054\u001b[0m                 \u001b[0mself\u001b[0m\u001b[0;34m.\u001b[0m\u001b[0m_switch_to_input_mode\u001b[0m\u001b[0;34m(\u001b[0m\u001b[0;34m)\u001b[0m\u001b[0;34m\u001b[0m\u001b[0;34m\u001b[0m\u001b[0m\n\u001b[0;32m-> 3055\u001b[0;31m             \u001b[0mencodings\u001b[0m \u001b[0;34m=\u001b[0m \u001b[0mself\u001b[0m\u001b[0;34m.\u001b[0m\u001b[0m_call_one\u001b[0m\u001b[0;34m(\u001b[0m\u001b[0mtext\u001b[0m\u001b[0;34m=\u001b[0m\u001b[0mtext\u001b[0m\u001b[0;34m,\u001b[0m \u001b[0mtext_pair\u001b[0m\u001b[0;34m=\u001b[0m\u001b[0mtext_pair\u001b[0m\u001b[0;34m,\u001b[0m \u001b[0;34m**\u001b[0m\u001b[0mall_kwargs\u001b[0m\u001b[0;34m)\u001b[0m\u001b[0;34m\u001b[0m\u001b[0;34m\u001b[0m\u001b[0m\n\u001b[0m\u001b[1;32m   3056\u001b[0m         \u001b[0;32mif\u001b[0m \u001b[0mtext_target\u001b[0m \u001b[0;32mis\u001b[0m \u001b[0;32mnot\u001b[0m \u001b[0;32mNone\u001b[0m\u001b[0;34m:\u001b[0m\u001b[0;34m\u001b[0m\u001b[0;34m\u001b[0m\u001b[0m\n\u001b[1;32m   3057\u001b[0m             \u001b[0mself\u001b[0m\u001b[0;34m.\u001b[0m\u001b[0m_switch_to_target_mode\u001b[0m\u001b[0;34m(\u001b[0m\u001b[0;34m)\u001b[0m\u001b[0;34m\u001b[0m\u001b[0;34m\u001b[0m\u001b[0m\n",
      "\u001b[0;32m/usr/local/lib/python3.10/dist-packages/transformers/tokenization_utils_base.py\u001b[0m in \u001b[0;36m_call_one\u001b[0;34m(self, text, text_pair, add_special_tokens, padding, truncation, max_length, stride, is_split_into_words, pad_to_multiple_of, return_tensors, return_token_type_ids, return_attention_mask, return_overflowing_tokens, return_special_tokens_mask, return_offsets_mapping, return_length, verbose, split_special_tokens, **kwargs)\u001b[0m\n\u001b[1;32m   3161\u001b[0m             )\n\u001b[1;32m   3162\u001b[0m         \u001b[0;32melse\u001b[0m\u001b[0;34m:\u001b[0m\u001b[0;34m\u001b[0m\u001b[0;34m\u001b[0m\u001b[0m\n\u001b[0;32m-> 3163\u001b[0;31m             return self.encode_plus(\n\u001b[0m\u001b[1;32m   3164\u001b[0m                 \u001b[0mtext\u001b[0m\u001b[0;34m=\u001b[0m\u001b[0mtext\u001b[0m\u001b[0;34m,\u001b[0m\u001b[0;34m\u001b[0m\u001b[0;34m\u001b[0m\u001b[0m\n\u001b[1;32m   3165\u001b[0m                 \u001b[0mtext_pair\u001b[0m\u001b[0;34m=\u001b[0m\u001b[0mtext_pair\u001b[0m\u001b[0;34m,\u001b[0m\u001b[0;34m\u001b[0m\u001b[0;34m\u001b[0m\u001b[0m\n",
      "\u001b[0;32m/usr/local/lib/python3.10/dist-packages/transformers/tokenization_utils_base.py\u001b[0m in \u001b[0;36mencode_plus\u001b[0;34m(self, text, text_pair, add_special_tokens, padding, truncation, max_length, stride, is_split_into_words, pad_to_multiple_of, return_tensors, return_token_type_ids, return_attention_mask, return_overflowing_tokens, return_special_tokens_mask, return_offsets_mapping, return_length, verbose, **kwargs)\u001b[0m\n\u001b[1;32m   3235\u001b[0m         )\n\u001b[1;32m   3236\u001b[0m \u001b[0;34m\u001b[0m\u001b[0m\n\u001b[0;32m-> 3237\u001b[0;31m         return self._encode_plus(\n\u001b[0m\u001b[1;32m   3238\u001b[0m             \u001b[0mtext\u001b[0m\u001b[0;34m=\u001b[0m\u001b[0mtext\u001b[0m\u001b[0;34m,\u001b[0m\u001b[0;34m\u001b[0m\u001b[0;34m\u001b[0m\u001b[0m\n\u001b[1;32m   3239\u001b[0m             \u001b[0mtext_pair\u001b[0m\u001b[0;34m=\u001b[0m\u001b[0mtext_pair\u001b[0m\u001b[0;34m,\u001b[0m\u001b[0;34m\u001b[0m\u001b[0;34m\u001b[0m\u001b[0m\n",
      "\u001b[0;32m/usr/local/lib/python3.10/dist-packages/transformers/tokenization_utils.py\u001b[0m in \u001b[0;36m_encode_plus\u001b[0;34m(self, text, text_pair, add_special_tokens, padding_strategy, truncation_strategy, max_length, stride, is_split_into_words, pad_to_multiple_of, return_tensors, return_token_type_ids, return_attention_mask, return_overflowing_tokens, return_special_tokens_mask, return_offsets_mapping, return_length, verbose, **kwargs)\u001b[0m\n\u001b[1;32m    795\u001b[0m             )\n\u001b[1;32m    796\u001b[0m \u001b[0;34m\u001b[0m\u001b[0m\n\u001b[0;32m--> 797\u001b[0;31m         \u001b[0mfirst_ids\u001b[0m \u001b[0;34m=\u001b[0m \u001b[0mget_input_ids\u001b[0m\u001b[0;34m(\u001b[0m\u001b[0mtext\u001b[0m\u001b[0;34m)\u001b[0m\u001b[0;34m\u001b[0m\u001b[0;34m\u001b[0m\u001b[0m\n\u001b[0m\u001b[1;32m    798\u001b[0m         \u001b[0msecond_ids\u001b[0m \u001b[0;34m=\u001b[0m \u001b[0mget_input_ids\u001b[0m\u001b[0;34m(\u001b[0m\u001b[0mtext_pair\u001b[0m\u001b[0;34m)\u001b[0m \u001b[0;32mif\u001b[0m \u001b[0mtext_pair\u001b[0m \u001b[0;32mis\u001b[0m \u001b[0;32mnot\u001b[0m \u001b[0;32mNone\u001b[0m \u001b[0;32melse\u001b[0m \u001b[0;32mNone\u001b[0m\u001b[0;34m\u001b[0m\u001b[0;34m\u001b[0m\u001b[0m\n\u001b[1;32m    799\u001b[0m \u001b[0;34m\u001b[0m\u001b[0m\n",
      "\u001b[0;32m/usr/local/lib/python3.10/dist-packages/transformers/tokenization_utils.py\u001b[0m in \u001b[0;36mget_input_ids\u001b[0;34m(text)\u001b[0m\n\u001b[1;32m    762\u001b[0m         \u001b[0;32mdef\u001b[0m \u001b[0mget_input_ids\u001b[0m\u001b[0;34m(\u001b[0m\u001b[0mtext\u001b[0m\u001b[0;34m)\u001b[0m\u001b[0;34m:\u001b[0m\u001b[0;34m\u001b[0m\u001b[0;34m\u001b[0m\u001b[0m\n\u001b[1;32m    763\u001b[0m             \u001b[0;32mif\u001b[0m \u001b[0misinstance\u001b[0m\u001b[0;34m(\u001b[0m\u001b[0mtext\u001b[0m\u001b[0;34m,\u001b[0m \u001b[0mstr\u001b[0m\u001b[0;34m)\u001b[0m\u001b[0;34m:\u001b[0m\u001b[0;34m\u001b[0m\u001b[0;34m\u001b[0m\u001b[0m\n\u001b[0;32m--> 764\u001b[0;31m                 \u001b[0mtokens\u001b[0m \u001b[0;34m=\u001b[0m \u001b[0mself\u001b[0m\u001b[0;34m.\u001b[0m\u001b[0mtokenize\u001b[0m\u001b[0;34m(\u001b[0m\u001b[0mtext\u001b[0m\u001b[0;34m,\u001b[0m \u001b[0;34m**\u001b[0m\u001b[0mkwargs\u001b[0m\u001b[0;34m)\u001b[0m\u001b[0;34m\u001b[0m\u001b[0;34m\u001b[0m\u001b[0m\n\u001b[0m\u001b[1;32m    765\u001b[0m                 \u001b[0;32mreturn\u001b[0m \u001b[0mself\u001b[0m\u001b[0;34m.\u001b[0m\u001b[0mconvert_tokens_to_ids\u001b[0m\u001b[0;34m(\u001b[0m\u001b[0mtokens\u001b[0m\u001b[0;34m)\u001b[0m\u001b[0;34m\u001b[0m\u001b[0;34m\u001b[0m\u001b[0m\n\u001b[1;32m    766\u001b[0m             \u001b[0;32melif\u001b[0m \u001b[0misinstance\u001b[0m\u001b[0;34m(\u001b[0m\u001b[0mtext\u001b[0m\u001b[0;34m,\u001b[0m \u001b[0;34m(\u001b[0m\u001b[0mlist\u001b[0m\u001b[0;34m,\u001b[0m \u001b[0mtuple\u001b[0m\u001b[0;34m)\u001b[0m\u001b[0;34m)\u001b[0m \u001b[0;32mand\u001b[0m \u001b[0mlen\u001b[0m\u001b[0;34m(\u001b[0m\u001b[0mtext\u001b[0m\u001b[0;34m)\u001b[0m \u001b[0;34m>\u001b[0m \u001b[0;36m0\u001b[0m \u001b[0;32mand\u001b[0m \u001b[0misinstance\u001b[0m\u001b[0;34m(\u001b[0m\u001b[0mtext\u001b[0m\u001b[0;34m[\u001b[0m\u001b[0;36m0\u001b[0m\u001b[0;34m]\u001b[0m\u001b[0;34m,\u001b[0m \u001b[0mstr\u001b[0m\u001b[0;34m)\u001b[0m\u001b[0;34m:\u001b[0m\u001b[0;34m\u001b[0m\u001b[0;34m\u001b[0m\u001b[0m\n",
      "\u001b[0;32m/usr/local/lib/python3.10/dist-packages/transformers/tokenization_utils.py\u001b[0m in \u001b[0;36mtokenize\u001b[0;34m(self, text, **kwargs)\u001b[0m\n\u001b[1;32m    657\u001b[0m             \u001b[0mno_split_token\u001b[0m \u001b[0;34m=\u001b[0m \u001b[0mself\u001b[0m\u001b[0;34m.\u001b[0m\u001b[0m_added_tokens_encoder\u001b[0m\u001b[0;34m.\u001b[0m\u001b[0mkeys\u001b[0m\u001b[0;34m(\u001b[0m\u001b[0;34m)\u001b[0m  \u001b[0;31m# don't split on any of the added tokens\u001b[0m\u001b[0;34m\u001b[0m\u001b[0;34m\u001b[0m\u001b[0m\n\u001b[1;32m    658\u001b[0m             \u001b[0;31m# \"This is something<special_token_1>  else\"\u001b[0m\u001b[0;34m\u001b[0m\u001b[0;34m\u001b[0m\u001b[0m\n\u001b[0;32m--> 659\u001b[0;31m             \u001b[0mtokens\u001b[0m \u001b[0;34m=\u001b[0m \u001b[0mself\u001b[0m\u001b[0;34m.\u001b[0m\u001b[0mtokens_trie\u001b[0m\u001b[0;34m.\u001b[0m\u001b[0msplit\u001b[0m\u001b[0;34m(\u001b[0m\u001b[0mtext\u001b[0m\u001b[0;34m)\u001b[0m\u001b[0;34m\u001b[0m\u001b[0;34m\u001b[0m\u001b[0m\n\u001b[0m\u001b[1;32m    660\u001b[0m \u001b[0;34m\u001b[0m\u001b[0m\n\u001b[1;32m    661\u001b[0m         \u001b[0;31m# [\"This is something\", \"<special_token_1>\", \"  else\"]\u001b[0m\u001b[0;34m\u001b[0m\u001b[0;34m\u001b[0m\u001b[0m\n",
      "\u001b[0;32m/usr/local/lib/python3.10/dist-packages/transformers/tokenization_utils.py\u001b[0m in \u001b[0;36msplit\u001b[0;34m(self, text)\u001b[0m\n\u001b[1;32m    240\u001b[0m             \u001b[0;31m# If this character is a starting character within the trie\u001b[0m\u001b[0;34m\u001b[0m\u001b[0;34m\u001b[0m\u001b[0m\n\u001b[1;32m    241\u001b[0m             \u001b[0;31m# start keeping track of this partial match.\u001b[0m\u001b[0;34m\u001b[0m\u001b[0;34m\u001b[0m\u001b[0m\n\u001b[0;32m--> 242\u001b[0;31m             \u001b[0;32mif\u001b[0m \u001b[0mcurrent\u001b[0m \u001b[0;34m>=\u001b[0m \u001b[0mskip\u001b[0m \u001b[0;32mand\u001b[0m \u001b[0mcurrent_char\u001b[0m \u001b[0;32min\u001b[0m \u001b[0mself\u001b[0m\u001b[0;34m.\u001b[0m\u001b[0mdata\u001b[0m\u001b[0;34m:\u001b[0m\u001b[0;34m\u001b[0m\u001b[0;34m\u001b[0m\u001b[0m\n\u001b[0m\u001b[1;32m    243\u001b[0m                 \u001b[0mstates\u001b[0m\u001b[0;34m[\u001b[0m\u001b[0mcurrent\u001b[0m\u001b[0;34m]\u001b[0m \u001b[0;34m=\u001b[0m \u001b[0mself\u001b[0m\u001b[0;34m.\u001b[0m\u001b[0mdata\u001b[0m\u001b[0;34m[\u001b[0m\u001b[0mcurrent_char\u001b[0m\u001b[0;34m]\u001b[0m\u001b[0;34m\u001b[0m\u001b[0;34m\u001b[0m\u001b[0m\n\u001b[1;32m    244\u001b[0m \u001b[0;34m\u001b[0m\u001b[0m\n",
      "\u001b[0;31mKeyboardInterrupt\u001b[0m: "
     ]
    }
   ],
   "source": [
    "import torch\n",
    "from torch.utils.data import DataLoader, Dataset\n",
    "from transformers import ElectraTokenizer, ElectraModel, AdamW\n",
    "import pandas as pd\n",
    "from sklearn.metrics import accuracy_score, precision_score, recall_score, f1_score\n",
    "from tqdm import tqdm\n",
    "import os\n",
    "from torch.cuda.amp import GradScaler, autocast  # FP16 지원\n",
    "\n",
    "# Device setting\n",
    "device = torch.device('cuda') if torch.cuda.is_available() else torch.device('cpu')\n",
    "\n",
    "#Bring the dataset ######\n",
    "\n",
    "# Calculation of label classes\n",
    "unique_labels = sorted(df['evaluation_6'].unique())\n",
    "num_classes = len(unique_labels)\n",
    "\n",
    "# Class index mapping\n",
    "label_to_index = {label: idx for idx, label in enumerate(unique_labels)}\n",
    "df['label_indices'] = df['evaluation_6'].map(label_to_index)\n",
    "\n",
    "# Train-Test Split (including corporate name column)\n",
    "train_texts = df['full_text'][:int(0.8 * len(df))].tolist()\n",
    "val_texts = df['full_text'][int(0.8 * len(df)):].tolist()\n",
    "train_labels_indices = df['label_indices'][:int(0.8 * len(df))].tolist()\n",
    "val_labels_indices = df['label_indices'][int(0.8 * len(df)):].tolist()\n",
    "\n",
    "# Add anonymized corporate name column\n",
    "train_companies = df['기업명'][:int(0.8 * len(df))].tolist()\n",
    "val_companies = df['기업명'][int(0.8 * len(df)):].tolist()\n",
    "\n",
    "#Hyip parameter setting\n",
    "learning_rate = 1e-4\n",
    "batch_size = 32\n",
    "epochs = 3\n",
    "max_weight = 4.0\n",
    "\n",
    "# Calculation by class\n",
    "label_counts = df['label_indices'].value_counts().sort_index()\n",
    "class_freq = label_counts.values\n",
    "class_weights = 1.0 / class_freq\n",
    "class_weights = torch.tensor([min(weight, max_weight) for weight in class_weights], dtype=torch.float).to(device)\n",
    "\n",
    "# KoelectRA model and talk knighter load\n",
    "model_name = 'monologg/koelectra-small-discriminator'\n",
    "tokenizer = ElectraTokenizer.from_pretrained(model_name)\n",
    "base_model = ElectraModel.from_pretrained(model_name)\n",
    "\n",
    "#Foring the classification model class (adding a company name embedding)\n",
    "class ElectraForClassification(torch.nn.Module):\n",
    "    def __init__(self, base_model, num_classes):\n",
    "        super(ElectraForClassification, self).__init__()\n",
    "        self.base_model = base_model\n",
    "        self.company_embedding = torch.nn.Embedding(1000, 128)  # 기업명 임베딩\n",
    "        self.classifier = torch.nn.Linear(self.base_model.config.hidden_size + 128, num_classes)  # 임베딩 포함\n",
    "\n",
    "    def forward(self, input_ids, attention_mask, company_ids):\n",
    "        outputs = self.base_model(input_ids=input_ids, attention_mask=attention_mask)\n",
    "        hidden_state = outputs.last_hidden_state[:, 0, :]  # 첫 번째 토큰의 hidden state\n",
    "        company_embeds = self.company_embedding(company_ids)  # 기업명 임베딩\n",
    "        combined = torch.cat((hidden_state, company_embeds), dim=1)  # 문서와 기업명 임베딩 결합\n",
    "        logits = self.classifier(combined)\n",
    "        return logits\n",
    "\n",
    "# Apply TQDM in a function that torque data\n",
    "def tokenize_function(texts):\n",
    "    encodings = []\n",
    "    for text in tqdm(texts, desc=\"Tokenizing\", leave=True):\n",
    "        encoding = tokenizer(text, padding='max_length', truncation=True, max_length=512, return_tensors='pt')\n",
    "        encodings.append(encoding)\n",
    "    return {key: torch.cat([encoding[key] for encoding in encodings]) for key in encodings[0]}\n",
    "\n",
    "# Convert data to PyTorch Dataset (including corporate name column)\n",
    "class TextDataset(Dataset):\n",
    "    def __init__(self, texts, companies, labels):\n",
    "        self.encodings = tokenize_function(texts)\n",
    "        self.labels = labels\n",
    "        self.companies = companies\n",
    "\n",
    "    def __getitem__(self, idx):\n",
    "        item = {key: val[idx] for key, val in self.encodings.items()}\n",
    "        item['labels'] = torch.tensor(self.labels[idx], dtype=torch.long)\n",
    "        item['company_ids'] = torch.tensor(self.companies[idx], dtype=torch.long)  # 기업명 추가\n",
    "        return item\n",
    "\n",
    "    def __len__(self):\n",
    "        return len(self.labels)\n",
    "\n",
    "# Create learning and verification dataset\n",
    "train_dataset = TextDataset(train_texts, train_companies, train_labels_indices)\n",
    "val_dataset = TextDataset(val_texts, val_companies, val_labels_indices)\n",
    "\n",
    "train_loader = DataLoader(train_dataset, batch_size=batch_size, shuffle=True)\n",
    "val_loader = DataLoader(val_dataset, batch_size=batch_size)\n",
    "\n",
    "# FP16 Use Automatic Mixed Precision for Support\n",
    "scaler = GradScaler()\n",
    "\n",
    "#Model instance creation\n",
    "model = ElectraForClassification(base_model, num_classes).to(device)\n",
    "\n",
    "# Optimizer and loss function settings\n",
    "optimizer = AdamW(model.parameters(), lr=learning_rate)\n",
    "loss_fn = torch.nn.CrossEntropyLoss(weight=class_weights)\n",
    "\n",
    "# Learning loop (added corporate name column)\n",
    "for epoch in range(epochs):\n",
    "    model.train()\n",
    "    total_loss = 0\n",
    "\n",
    "# Visualization of learning using TQDM\n",
    "    loop = tqdm(train_loader, leave=True, total=len(train_loader))\n",
    "    for batch in loop:\n",
    "        optimizer.zero_grad()\n",
    "        input_ids = batch['input_ids'].to(device)\n",
    "        attention_mask = batch['attention_mask'].to(device)\n",
    "        labels = batch['labels'].to(device)\n",
    "        company_ids = batch['company_ids'].to(device)  # 기업명 컬럼 추가\n",
    "\n",
    "# FP16 Automatic Mix Precision Application\n",
    "        with autocast():\n",
    "            logits = model(input_ids=input_ids, attention_mask=attention_mask, company_ids=company_ids)\n",
    "            loss = loss_fn(logits, labels)\n",
    "\n",
    "        total_loss += loss.item()\n",
    "\n",
    "# Application of reversal waves and scaling\n",
    "        scaler.scale(loss).backward()\n",
    "        scaler.step(optimizer)\n",
    "        scaler.update()\n",
    "\n",
    "# TQDM progression update\n",
    "        loop.set_description(f'Epoch {epoch+1}')\n",
    "        loop.set_postfix(loss=total_loss / (loop.n + 1))\n",
    "\n",
    "    print(f\"Epoch {epoch+1} completed. Loss: {total_loss / len(train_loader):.4f}\")\n",
    "\n",
    "# Verification loop (added corporate name column)\n",
    "model.eval()\n",
    "val_loss = 0\n",
    "val_preds = []\n",
    "val_labels_list = []\n",
    "with torch.no_grad():\n",
    "    for batch in val_loader:\n",
    "        input_ids = batch['input_ids'].to(device)\n",
    "        attention_mask = batch['attention_mask'].to(device)\n",
    "        labels = batch['labels'].to(device)\n",
    "        company_ids = batch['company_ids'].to(device)  # 기업명 컬럼 추가\n",
    "\n",
    "        logits = model(input_ids=input_ids, attention_mask=attention_mask, company_ids=company_ids)\n",
    "        loss = loss_fn(logits, labels)\n",
    "        val_loss += loss.item()\n",
    "\n",
    "        preds = torch.argmax(logits, dim=1)\n",
    "        val_preds.extend(preds.cpu().numpy())\n",
    "        val_labels_list.extend(labels.cpu().numpy())\n",
    "\n",
    "# Evaluation indicator calculation\n",
    "accuracy = accuracy_score(val_labels_list, val_preds)\n",
    "precision = precision_score(val_labels_list, val_preds, average='weighted')\n",
    "recall = recall_score(val_labels_list, val_preds, average='weighted')\n",
    "f1 = f1_score(val_labels_list, val_preds, average='weighted')\n",
    "\n",
    "print(f\"Validation Results - Accuracy: {accuracy:.4f}, Precision: {precision:.4f}, Recall: {recall:.4f}, F1-Score: {f1:.4f}\")\n",
    "\n",
    "#Save model\n",
    "save_directory = '/content/drive/MyDrive/Kwargs/021. 기업적합도 필터/업데이트'\n",
    "\n",
    "# Create directory (if you already omit it)\n",
    "if not os.path.exists(save_directory):\n",
    "    os.makedirs(save_directory)\n",
    "\n",
    "#Save the weight and classification layer weight of the elector model\n",
    "model_path = os.path.join(save_directory, \"A1-14_0924.bin\")\n",
    "torch.save(model.state_dict(), model_path)\n",
    "\n",
    "#Save the used torque nisor\n",
    "tokenizer.save_pretrained(save_directory)\n",
    "\n",
    "print(f\"모델과 토크나이저가 저장되었습니다: {save_directory}\")\n"
   ]
  },
  {
   "cell_type": "markdown",
   "metadata": {
    "id": "hqG1f1yCXUcm"
   },
   "source": [
    "Save model and print performance indicators"
   ]
  },
  {
   "cell_type": "code",
   "execution_count": null,
   "metadata": {
    "colab": {
     "base_uri": "https://localhost:8080/"
    },
    "executionInfo": {
     "elapsed": 1505025,
     "status": "ok",
     "timestamp": 1727154220910,
     "user": {
      "displayName": "백현지",
      "userId": "02510457579208942463"
     },
     "user_tz": -540
    },
    "id": "zVtPAFnzjEQo",
    "outputId": "3fcc5787-1d66-4a9a-cac6-671fa4c07cd8"
   },
   "outputs": [
    {
     "name": "stderr",
     "output_type": "stream",
     "text": [
      "<ipython-input-12-1ca4ea3ec4ce>:17: FutureWarning: You are using `torch.load` with `weights_only=False` (the current default value), which uses the default pickle module implicitly. It is possible to construct malicious pickle data which will execute arbitrary code during unpickling (See https://github.com/pytorch/pytorch/blob/main/SECURITY.md#untrusted-models for more details). In a future release, the default value for `weights_only` will be flipped to `True`. This limits the functions that could be executed during unpickling. Arbitrary objects will no longer be allowed to be loaded via this mode unless they are explicitly allowlisted by the user via `torch.serialization.add_safe_globals`. We recommend you start setting `weights_only=True` for any use case where you don't have full control of the loaded file. Please open an issue on GitHub for any issues related to this experimental feature.\n",
      "  model.load_state_dict(torch.load(model_path, map_location=device))\n",
      "                                                             "
     ]
    },
    {
     "name": "stdout",
     "output_type": "stream",
     "text": [
      "Evaluation Results - Accuracy: 0.3137, Precision: 0.3555, Recall: 0.3137, F1-Score: 0.3163\n"
     ]
    },
    {
     "name": "stderr",
     "output_type": "stream",
     "text": [
      "\r"
     ]
    }
   ],
   "source": [
    "import torch\n",
    "from torch.utils.data import DataLoader\n",
    "from sklearn.metrics import accuracy_score, precision_score, recall_score, f1_score\n",
    "import os\n",
    "from tqdm import tqdm  # tqdm 추가\n",
    "\n",
    "# Device setting\n",
    "device = torch.device('cuda') if torch.cuda.is_available() else torch.device('cpu')\n",
    "\n",
    "# Stored Model and Talk Niser Road\n",
    "save_directory = '/content/drive/MyDrive/Kwargs/021. 기업적합도 필터/업데이트'\n",
    "model_path = os.path.join(save_directory, \"A1-14_0921.bin\")\n",
    "tokenizer = ElectraTokenizer.from_pretrained(save_directory)\n",
    "\n",
    "# Koelectra Model Road\n",
    "model = ElectraForClassification(base_model, num_classes).to(device)\n",
    "model.load_state_dict(torch.load(model_path, map_location=device))\n",
    "model.eval()  # 평가 모드로 설정\n",
    "\n",
    "# Verification data load (Val_dataset is already created)\n",
    "val_loader = DataLoader(val_dataset, batch_size=32)\n",
    "\n",
    "# Performance evaluation\n",
    "val_preds = []\n",
    "val_labels_list = []\n",
    "with torch.no_grad():\n",
    "# Add TQDM to add progress bar to the repeat syntax\n",
    "    for batch in tqdm(val_loader, desc=\"Evaluating\", leave=False):\n",
    "        input_ids = batch['input_ids'].to(device)\n",
    "        attention_mask = batch['attention_mask'].to(device)\n",
    "        labels = batch['labels'].to(device)\n",
    "\n",
    "        logits = model(input_ids=input_ids, attention_mask=attention_mask)\n",
    "        preds = torch.argmax(logits, dim=1)\n",
    "        val_preds.extend(preds.cpu().numpy())\n",
    "        val_labels_list.extend(labels.cpu().numpy())\n",
    "\n",
    "# Evaluation indicator calculation\n",
    "accuracy = accuracy_score(val_labels_list, val_preds)\n",
    "precision = precision_score(val_labels_list, val_preds, average='weighted')\n",
    "recall = recall_score(val_labels_list, val_preds, average='weighted')\n",
    "f1 = f1_score(val_labels_list, val_preds, average='weighted')\n",
    "\n",
    "print(f\"Evaluation Results - Accuracy: {accuracy:.4f}, Precision: {precision:.4f}, Recall: {recall:.4f}, F1-Score: {f1:.4f}\")\n"
   ]
  },
  {
   "cell_type": "markdown",
   "metadata": {
    "id": "kQmVx8e4lWCf"
   },
   "source": [
    "View the classification result by entering any text (run after loading)"
   ]
  },
  {
   "cell_type": "code",
   "execution_count": null,
   "metadata": {
    "colab": {
     "base_uri": "https://localhost:8080/"
    },
    "executionInfo": {
     "elapsed": 1686,
     "status": "ok",
     "timestamp": 1727154640507,
     "user": {
      "displayName": "백현지",
      "userId": "02510457579208942463"
     },
     "user_tz": -540
    },
    "id": "qFEN3OYNlJ4G",
    "outputId": "10e1a315-6573-41aa-de03-d3e59f840ae6"
   },
   "outputs": [
    {
     "name": "stdout",
     "output_type": "stream",
     "text": [
      "ESG란 환경(Environment), 사회(Social), 지배구조(Governance)의 약자로, 이해관계자가 기업의 3가지 비재무적인 요소(환경, 사회, 지배구조)를 평가하기 위한 도구로 등장하였으며 최근에는 기업 관점에서 지속가능성을 달성하기 위한 핵심요소를 의미하는 단어로 활용 ...\n",
      "입력 텍스트: ESG란 환경(Environment), 사회(Social), 지배구조(Governance)의 약자로, 이해관계자가 기업의 3가지 비재무적인 요소(환경, 사회, 지배구조)를 평가하기 위한 도구로 등장하였으며 최근에는 기업 관점에서 지속가능성을 달성하기 위한 핵심요소를 의미하는 단어로 활용 ...\n",
      "예측된 레이블: 0.4\n"
     ]
    }
   ],
   "source": [
    "# Any text classification function\n",
    "def classify_text(input_text):\n",
    "    model.eval()  # 평가 모드\n",
    "\n",
    "# Input text talk knight\n",
    "    inputs = tokenizer(input_text, return_tensors='pt', padding='max_length', truncation=True, max_length=512).to(device)\n",
    "\n",
    "    with torch.no_grad():\n",
    "        logits = model(inputs['input_ids'], attention_mask=inputs['attention_mask'])\n",
    "        predicted_class = torch.argmax(logits, dim=1).item()  # 예측된 클래스 인덱스\n",
    "\n",
    "# Convert the index to a real label\n",
    "    predicted_label = unique_labels[predicted_class]\n",
    "    return predicted_label\n",
    "\n",
    "# Test text for test\n",
    "test_text = input()\n",
    "predicted_label = classify_text(test_text)\n",
    "print(f\"입력 텍스트: {test_text}\")\n",
    "print(f\"예측된 레이블: {predicted_label}\")\n"
   ]
  },
  {
   "cell_type": "code",
   "execution_count": null,
   "metadata": {
    "id": "siot-9qlbq1c"
   },
   "outputs": [],
   "source": []
  }
 ],
 "metadata": {
  "colab": {
   "authorship_tag": "ABX9TyMDsUK8Y0PtzkV6CTvuKCta",
   "collapsed_sections": [
    "7ND-6ClcuZ20",
    "AELBJHWhO0IV",
    "G056faVnMgDj",
    "ltX30saZMWFt",
    "lZiUxiUVMpWc",
    "j2l-JE8oY6ur",
    "WoLqrTOkjBXn",
    "-dtLBve_-i2c",
    "RyYPjEEcMHhd",
    "4qMOM4YhVPkJ",
    "iVayBnYvOZG3",
    "qOn66TypEwtL",
    "2Ioh41yKGW_3",
    "4tiyTm_ub1wF",
    "S7kKaE9IBIFi",
    "4LkuuQQHBO-f",
    "F3Wxpmp_1TSc"
   ],
   "machine_shape": "hm",
   "mount_file_id": "1gALQ4ss15pYWc4gX_lQoUtla2NXwJeBR",
   "provenance": []
  },
  "kernelspec": {
   "display_name": "Python 3",
   "name": "python3"
  },
  "language_info": {
   "name": "python"
  },
  "widgets": {
   "application/vnd.jupyter.widget-state+json": {
    "0054a73e407b4c419459ff9a98cedad7": {
     "model_module": "@jupyter-widgets/controls",
     "model_module_version": "1.5.0",
     "model_name": "DescriptionStyleModel",
     "state": {
      "_model_module": "@jupyter-widgets/controls",
      "_model_module_version": "1.5.0",
      "_model_name": "DescriptionStyleModel",
      "_view_count": null,
      "_view_module": "@jupyter-widgets/base",
      "_view_module_version": "1.2.0",
      "_view_name": "StyleView",
      "description_width": ""
     }
    },
    "005e1e86d5ed44bcaf26a70fdbee4221": {
     "model_module": "@jupyter-widgets/controls",
     "model_module_version": "1.5.0",
     "model_name": "DescriptionStyleModel",
     "state": {
      "_model_module": "@jupyter-widgets/controls",
      "_model_module_version": "1.5.0",
      "_model_name": "DescriptionStyleModel",
      "_view_count": null,
      "_view_module": "@jupyter-widgets/base",
      "_view_module_version": "1.2.0",
      "_view_name": "StyleView",
      "description_width": ""
     }
    },
    "03b6d75277b44ca4b32a406da13860c2": {
     "model_module": "@jupyter-widgets/controls",
     "model_module_version": "1.5.0",
     "model_name": "ProgressStyleModel",
     "state": {
      "_model_module": "@jupyter-widgets/controls",
      "_model_module_version": "1.5.0",
      "_model_name": "ProgressStyleModel",
      "_view_count": null,
      "_view_module": "@jupyter-widgets/base",
      "_view_module_version": "1.2.0",
      "_view_name": "StyleView",
      "bar_color": null,
      "description_width": ""
     }
    },
    "04a4ebdac22f49d19359d65c648f2411": {
     "model_module": "@jupyter-widgets/controls",
     "model_module_version": "1.5.0",
     "model_name": "HTMLModel",
     "state": {
      "_dom_classes": [],
      "_model_module": "@jupyter-widgets/controls",
      "_model_module_version": "1.5.0",
      "_model_name": "HTMLModel",
      "_view_count": null,
      "_view_module": "@jupyter-widgets/controls",
      "_view_module_version": "1.5.0",
      "_view_name": "HTMLView",
      "description": "",
      "description_tooltip": null,
      "layout": "IPY_MODEL_f4792656c20946fe95bca9012a041b40",
      "placeholder": "​",
      "style": "IPY_MODEL_41a2a2f413e8471ca09f847aa326696c",
      "value": "generation_config.json: 100%"
     }
    },
    "0cb55f72d07d4ec5b41a80a835169c96": {
     "model_module": "@jupyter-widgets/controls",
     "model_module_version": "1.5.0",
     "model_name": "DescriptionStyleModel",
     "state": {
      "_model_module": "@jupyter-widgets/controls",
      "_model_module_version": "1.5.0",
      "_model_name": "DescriptionStyleModel",
      "_view_count": null,
      "_view_module": "@jupyter-widgets/base",
      "_view_module_version": "1.2.0",
      "_view_name": "StyleView",
      "description_width": ""
     }
    },
    "0d7576e2eaa340719d382f131c7c6fff": {
     "model_module": "@jupyter-widgets/controls",
     "model_module_version": "1.5.0",
     "model_name": "FloatProgressModel",
     "state": {
      "_dom_classes": [],
      "_model_module": "@jupyter-widgets/controls",
      "_model_module_version": "1.5.0",
      "_model_name": "FloatProgressModel",
      "_view_count": null,
      "_view_module": "@jupyter-widgets/controls",
      "_view_module_version": "1.5.0",
      "_view_name": "ProgressView",
      "bar_style": "success",
      "description": "",
      "description_tooltip": null,
      "layout": "IPY_MODEL_b9e63cb42afb43a59df6d2b3cbcd2fb5",
      "max": 1000,
      "min": 0,
      "orientation": "horizontal",
      "style": "IPY_MODEL_03b6d75277b44ca4b32a406da13860c2",
      "value": 1000
     }
    },
    "0d9cf802da0645589fe2acb634ff4dca": {
     "model_module": "@jupyter-widgets/controls",
     "model_module_version": "1.5.0",
     "model_name": "HTMLModel",
     "state": {
      "_dom_classes": [],
      "_model_module": "@jupyter-widgets/controls",
      "_model_module_version": "1.5.0",
      "_model_name": "HTMLModel",
      "_view_count": null,
      "_view_module": "@jupyter-widgets/controls",
      "_view_module_version": "1.5.0",
      "_view_name": "HTMLView",
      "description": "",
      "description_tooltip": null,
      "layout": "IPY_MODEL_84e37bde088d4a22886b21888bae8813",
      "placeholder": "​",
      "style": "IPY_MODEL_005e1e86d5ed44bcaf26a70fdbee4221",
      "value": " 132/132 [00:00&lt;00:00, 8.96kB/s]"
     }
    },
    "0e43ee8f7cdc43cf8fa196161d8d0660": {
     "model_module": "@jupyter-widgets/base",
     "model_module_version": "1.2.0",
     "model_name": "LayoutModel",
     "state": {
      "_model_module": "@jupyter-widgets/base",
      "_model_module_version": "1.2.0",
      "_model_name": "LayoutModel",
      "_view_count": null,
      "_view_module": "@jupyter-widgets/base",
      "_view_module_version": "1.2.0",
      "_view_name": "LayoutView",
      "align_content": null,
      "align_items": null,
      "align_self": null,
      "border": null,
      "bottom": null,
      "display": null,
      "flex": null,
      "flex_flow": null,
      "grid_area": null,
      "grid_auto_columns": null,
      "grid_auto_flow": null,
      "grid_auto_rows": null,
      "grid_column": null,
      "grid_gap": null,
      "grid_row": null,
      "grid_template_areas": null,
      "grid_template_columns": null,
      "grid_template_rows": null,
      "height": null,
      "justify_content": null,
      "justify_items": null,
      "left": null,
      "margin": null,
      "max_height": null,
      "max_width": null,
      "min_height": null,
      "min_width": null,
      "object_fit": null,
      "object_position": null,
      "order": null,
      "overflow": null,
      "overflow_x": null,
      "overflow_y": null,
      "padding": null,
      "right": null,
      "top": null,
      "visibility": null,
      "width": null
     }
    },
    "0f0d4a560e704ca3a721e65daf4f4763": {
     "model_module": "@jupyter-widgets/controls",
     "model_module_version": "1.5.0",
     "model_name": "HTMLModel",
     "state": {
      "_dom_classes": [],
      "_model_module": "@jupyter-widgets/controls",
      "_model_module_version": "1.5.0",
      "_model_name": "HTMLModel",
      "_view_count": null,
      "_view_module": "@jupyter-widgets/controls",
      "_view_module_version": "1.5.0",
      "_view_name": "HTMLView",
      "description": "",
      "description_tooltip": null,
      "layout": "IPY_MODEL_721cad1a39eb489f86438f0f101f1885",
      "placeholder": "​",
      "style": "IPY_MODEL_35c3510c704049ceaf0d6aa707a3ac48",
      "value": "tokenizer.json: 100%"
     }
    },
    "10385ac3fc654a03ab71380752ec5a48": {
     "model_module": "@jupyter-widgets/base",
     "model_module_version": "1.2.0",
     "model_name": "LayoutModel",
     "state": {
      "_model_module": "@jupyter-widgets/base",
      "_model_module_version": "1.2.0",
      "_model_name": "LayoutModel",
      "_view_count": null,
      "_view_module": "@jupyter-widgets/base",
      "_view_module_version": "1.2.0",
      "_view_name": "LayoutView",
      "align_content": null,
      "align_items": null,
      "align_self": null,
      "border": null,
      "bottom": null,
      "display": null,
      "flex": null,
      "flex_flow": null,
      "grid_area": null,
      "grid_auto_columns": null,
      "grid_auto_flow": null,
      "grid_auto_rows": null,
      "grid_column": null,
      "grid_gap": null,
      "grid_row": null,
      "grid_template_areas": null,
      "grid_template_columns": null,
      "grid_template_rows": null,
      "height": null,
      "justify_content": null,
      "justify_items": null,
      "left": null,
      "margin": null,
      "max_height": null,
      "max_width": null,
      "min_height": null,
      "min_width": null,
      "object_fit": null,
      "object_position": null,
      "order": null,
      "overflow": null,
      "overflow_x": null,
      "overflow_y": null,
      "padding": null,
      "right": null,
      "top": null,
      "visibility": null,
      "width": null
     }
    },
    "10f23dc070b947dea9a70aeef7e2abe4": {
     "model_module": "@jupyter-widgets/controls",
     "model_module_version": "1.5.0",
     "model_name": "HTMLModel",
     "state": {
      "_dom_classes": [],
      "_model_module": "@jupyter-widgets/controls",
      "_model_module_version": "1.5.0",
      "_model_name": "HTMLModel",
      "_view_count": null,
      "_view_module": "@jupyter-widgets/controls",
      "_view_module_version": "1.5.0",
      "_view_name": "HTMLView",
      "description": "",
      "description_tooltip": null,
      "layout": "IPY_MODEL_36fdeaa9c5a645ad9a43e274e6dd802d",
      "placeholder": "​",
      "style": "IPY_MODEL_fca77c9db7c3433fa58dcbd9d4134e21",
      "value": " 60.0/60.0 [00:00&lt;00:00, 5.00kB/s]"
     }
    },
    "1102d7078bd14afc9df0366aa4d58cda": {
     "model_module": "@jupyter-widgets/base",
     "model_module_version": "1.2.0",
     "model_name": "LayoutModel",
     "state": {
      "_model_module": "@jupyter-widgets/base",
      "_model_module_version": "1.2.0",
      "_model_name": "LayoutModel",
      "_view_count": null,
      "_view_module": "@jupyter-widgets/base",
      "_view_module_version": "1.2.0",
      "_view_name": "LayoutView",
      "align_content": null,
      "align_items": null,
      "align_self": null,
      "border": null,
      "bottom": null,
      "display": null,
      "flex": null,
      "flex_flow": null,
      "grid_area": null,
      "grid_auto_columns": null,
      "grid_auto_flow": null,
      "grid_auto_rows": null,
      "grid_column": null,
      "grid_gap": null,
      "grid_row": null,
      "grid_template_areas": null,
      "grid_template_columns": null,
      "grid_template_rows": null,
      "height": null,
      "justify_content": null,
      "justify_items": null,
      "left": null,
      "margin": null,
      "max_height": null,
      "max_width": null,
      "min_height": null,
      "min_width": null,
      "object_fit": null,
      "object_position": null,
      "order": null,
      "overflow": null,
      "overflow_x": null,
      "overflow_y": null,
      "padding": null,
      "right": null,
      "top": null,
      "visibility": null,
      "width": null
     }
    },
    "17308808bedb4d5eba8a1d02ccca6942": {
     "model_module": "@jupyter-widgets/controls",
     "model_module_version": "1.5.0",
     "model_name": "FloatProgressModel",
     "state": {
      "_dom_classes": [],
      "_model_module": "@jupyter-widgets/controls",
      "_model_module_version": "1.5.0",
      "_model_name": "FloatProgressModel",
      "_view_count": null,
      "_view_module": "@jupyter-widgets/controls",
      "_view_module_version": "1.5.0",
      "_view_name": "ProgressView",
      "bar_style": "success",
      "description": "",
      "description_tooltip": null,
      "layout": "IPY_MODEL_d3d9575479914b04b6258f6395852517",
      "max": 132,
      "min": 0,
      "orientation": "horizontal",
      "style": "IPY_MODEL_6eef97a8b28f4009b9b4779fc5309e8d",
      "value": 132
     }
    },
    "181b53e3d7a742e3ab6a3e811c5020e1": {
     "model_module": "@jupyter-widgets/controls",
     "model_module_version": "1.5.0",
     "model_name": "HBoxModel",
     "state": {
      "_dom_classes": [],
      "_model_module": "@jupyter-widgets/controls",
      "_model_module_version": "1.5.0",
      "_model_name": "HBoxModel",
      "_view_count": null,
      "_view_module": "@jupyter-widgets/controls",
      "_view_module_version": "1.5.0",
      "_view_name": "HBoxView",
      "box_style": "",
      "children": [
       "IPY_MODEL_5b415e01c23a4721ad4075e35a0064c5",
       "IPY_MODEL_97a25915afa8418e8a8bfd523aa71914",
       "IPY_MODEL_af7a47c6936444ba86a6a8b51c9c7815"
      ],
      "layout": "IPY_MODEL_757042a600ef408fa72f836bc4ee92c7"
     }
    },
    "205163bc13d242b78f78f9ee47c94147": {
     "model_module": "@jupyter-widgets/controls",
     "model_module_version": "1.5.0",
     "model_name": "ProgressStyleModel",
     "state": {
      "_model_module": "@jupyter-widgets/controls",
      "_model_module_version": "1.5.0",
      "_model_name": "ProgressStyleModel",
      "_view_count": null,
      "_view_module": "@jupyter-widgets/base",
      "_view_module_version": "1.2.0",
      "_view_name": "StyleView",
      "bar_color": null,
      "description_width": ""
     }
    },
    "20c05f4248cf495e8e1d2770a62beedb": {
     "model_module": "@jupyter-widgets/base",
     "model_module_version": "1.2.0",
     "model_name": "LayoutModel",
     "state": {
      "_model_module": "@jupyter-widgets/base",
      "_model_module_version": "1.2.0",
      "_model_name": "LayoutModel",
      "_view_count": null,
      "_view_module": "@jupyter-widgets/base",
      "_view_module_version": "1.2.0",
      "_view_name": "LayoutView",
      "align_content": null,
      "align_items": null,
      "align_self": null,
      "border": null,
      "bottom": null,
      "display": null,
      "flex": null,
      "flex_flow": null,
      "grid_area": null,
      "grid_auto_columns": null,
      "grid_auto_flow": null,
      "grid_auto_rows": null,
      "grid_column": null,
      "grid_gap": null,
      "grid_row": null,
      "grid_template_areas": null,
      "grid_template_columns": null,
      "grid_template_rows": null,
      "height": null,
      "justify_content": null,
      "justify_items": null,
      "left": null,
      "margin": null,
      "max_height": null,
      "max_width": null,
      "min_height": null,
      "min_width": null,
      "object_fit": null,
      "object_position": null,
      "order": null,
      "overflow": null,
      "overflow_x": null,
      "overflow_y": null,
      "padding": null,
      "right": null,
      "top": null,
      "visibility": null,
      "width": null
     }
    },
    "27ed024b0b24407ead07c739d0cfeb6b": {
     "model_module": "@jupyter-widgets/base",
     "model_module_version": "1.2.0",
     "model_name": "LayoutModel",
     "state": {
      "_model_module": "@jupyter-widgets/base",
      "_model_module_version": "1.2.0",
      "_model_name": "LayoutModel",
      "_view_count": null,
      "_view_module": "@jupyter-widgets/base",
      "_view_module_version": "1.2.0",
      "_view_name": "LayoutView",
      "align_content": null,
      "align_items": null,
      "align_self": null,
      "border": null,
      "bottom": null,
      "display": null,
      "flex": null,
      "flex_flow": null,
      "grid_area": null,
      "grid_auto_columns": null,
      "grid_auto_flow": null,
      "grid_auto_rows": null,
      "grid_column": null,
      "grid_gap": null,
      "grid_row": null,
      "grid_template_areas": null,
      "grid_template_columns": null,
      "grid_template_rows": null,
      "height": null,
      "justify_content": null,
      "justify_items": null,
      "left": null,
      "margin": null,
      "max_height": null,
      "max_width": null,
      "min_height": null,
      "min_width": null,
      "object_fit": null,
      "object_position": null,
      "order": null,
      "overflow": null,
      "overflow_x": null,
      "overflow_y": null,
      "padding": null,
      "right": null,
      "top": null,
      "visibility": null,
      "width": null
     }
    },
    "35c3510c704049ceaf0d6aa707a3ac48": {
     "model_module": "@jupyter-widgets/controls",
     "model_module_version": "1.5.0",
     "model_name": "DescriptionStyleModel",
     "state": {
      "_model_module": "@jupyter-widgets/controls",
      "_model_module_version": "1.5.0",
      "_model_name": "DescriptionStyleModel",
      "_view_count": null,
      "_view_module": "@jupyter-widgets/base",
      "_view_module_version": "1.2.0",
      "_view_name": "StyleView",
      "description_width": ""
     }
    },
    "36fdeaa9c5a645ad9a43e274e6dd802d": {
     "model_module": "@jupyter-widgets/base",
     "model_module_version": "1.2.0",
     "model_name": "LayoutModel",
     "state": {
      "_model_module": "@jupyter-widgets/base",
      "_model_module_version": "1.2.0",
      "_model_name": "LayoutModel",
      "_view_count": null,
      "_view_module": "@jupyter-widgets/base",
      "_view_module_version": "1.2.0",
      "_view_name": "LayoutView",
      "align_content": null,
      "align_items": null,
      "align_self": null,
      "border": null,
      "bottom": null,
      "display": null,
      "flex": null,
      "flex_flow": null,
      "grid_area": null,
      "grid_auto_columns": null,
      "grid_auto_flow": null,
      "grid_auto_rows": null,
      "grid_column": null,
      "grid_gap": null,
      "grid_row": null,
      "grid_template_areas": null,
      "grid_template_columns": null,
      "grid_template_rows": null,
      "height": null,
      "justify_content": null,
      "justify_items": null,
      "left": null,
      "margin": null,
      "max_height": null,
      "max_width": null,
      "min_height": null,
      "min_width": null,
      "object_fit": null,
      "object_position": null,
      "order": null,
      "overflow": null,
      "overflow_x": null,
      "overflow_y": null,
      "padding": null,
      "right": null,
      "top": null,
      "visibility": null,
      "width": null
     }
    },
    "3e3845501e504d21ab654cb1c2fff9b6": {
     "model_module": "@jupyter-widgets/controls",
     "model_module_version": "1.5.0",
     "model_name": "ProgressStyleModel",
     "state": {
      "_model_module": "@jupyter-widgets/controls",
      "_model_module_version": "1.5.0",
      "_model_name": "ProgressStyleModel",
      "_view_count": null,
      "_view_module": "@jupyter-widgets/base",
      "_view_module_version": "1.2.0",
      "_view_name": "StyleView",
      "bar_color": null,
      "description_width": ""
     }
    },
    "41a2a2f413e8471ca09f847aa326696c": {
     "model_module": "@jupyter-widgets/controls",
     "model_module_version": "1.5.0",
     "model_name": "DescriptionStyleModel",
     "state": {
      "_model_module": "@jupyter-widgets/controls",
      "_model_module_version": "1.5.0",
      "_model_name": "DescriptionStyleModel",
      "_view_count": null,
      "_view_module": "@jupyter-widgets/base",
      "_view_module_version": "1.2.0",
      "_view_name": "StyleView",
      "description_width": ""
     }
    },
    "468a9dc0010549e6b2e78371676c6864": {
     "model_module": "@jupyter-widgets/controls",
     "model_module_version": "1.5.0",
     "model_name": "DescriptionStyleModel",
     "state": {
      "_model_module": "@jupyter-widgets/controls",
      "_model_module_version": "1.5.0",
      "_model_name": "DescriptionStyleModel",
      "_view_count": null,
      "_view_module": "@jupyter-widgets/base",
      "_view_module_version": "1.2.0",
      "_view_name": "StyleView",
      "description_width": ""
     }
    },
    "47c682b65923452c9ad1b6db8aaee27f": {
     "model_module": "@jupyter-widgets/controls",
     "model_module_version": "1.5.0",
     "model_name": "HBoxModel",
     "state": {
      "_dom_classes": [],
      "_model_module": "@jupyter-widgets/controls",
      "_model_module_version": "1.5.0",
      "_model_name": "HBoxModel",
      "_view_count": null,
      "_view_module": "@jupyter-widgets/controls",
      "_view_module_version": "1.5.0",
      "_view_name": "HBoxView",
      "box_style": "",
      "children": [
       "IPY_MODEL_92ac3ba124cd4c7ebc8ed5dc1d9eaa90",
       "IPY_MODEL_7b95187410634d8984549ac30337de3d",
       "IPY_MODEL_caa1a060540c4d74b12d342315aa0ad8"
      ],
      "layout": "IPY_MODEL_cda94595b4a7445798a3339453905eb9"
     }
    },
    "48d2801b6e234f8ca9288d45df200b24": {
     "model_module": "@jupyter-widgets/controls",
     "model_module_version": "1.5.0",
     "model_name": "HTMLModel",
     "state": {
      "_dom_classes": [],
      "_model_module": "@jupyter-widgets/controls",
      "_model_module_version": "1.5.0",
      "_model_name": "HTMLModel",
      "_view_count": null,
      "_view_module": "@jupyter-widgets/controls",
      "_view_module_version": "1.5.0",
      "_view_name": "HTMLView",
      "description": "",
      "description_tooltip": null,
      "layout": "IPY_MODEL_cec00e364b5845beafd0069a4b2c883c",
      "placeholder": "​",
      "style": "IPY_MODEL_468a9dc0010549e6b2e78371676c6864",
      "value": "model.safetensors: 100%"
     }
    },
    "52ab352f00e246769e4293c03f060b94": {
     "model_module": "@jupyter-widgets/controls",
     "model_module_version": "1.5.0",
     "model_name": "HBoxModel",
     "state": {
      "_dom_classes": [],
      "_model_module": "@jupyter-widgets/controls",
      "_model_module_version": "1.5.0",
      "_model_name": "HBoxModel",
      "_view_count": null,
      "_view_module": "@jupyter-widgets/controls",
      "_view_module_version": "1.5.0",
      "_view_name": "HBoxView",
      "box_style": "",
      "children": [
       "IPY_MODEL_a7f6bb8deb66484eb2db90d0e065119f",
       "IPY_MODEL_0d7576e2eaa340719d382f131c7c6fff",
       "IPY_MODEL_f21cee73a1a8416dbdd66882be352cad"
      ],
      "layout": "IPY_MODEL_6ac004c72ce94fe5bd11d5345e0035d5"
     }
    },
    "5ac5ba4f053144b49b897d0b0dcb6acf": {
     "model_module": "@jupyter-widgets/base",
     "model_module_version": "1.2.0",
     "model_name": "LayoutModel",
     "state": {
      "_model_module": "@jupyter-widgets/base",
      "_model_module_version": "1.2.0",
      "_model_name": "LayoutModel",
      "_view_count": null,
      "_view_module": "@jupyter-widgets/base",
      "_view_module_version": "1.2.0",
      "_view_name": "LayoutView",
      "align_content": null,
      "align_items": null,
      "align_self": null,
      "border": null,
      "bottom": null,
      "display": null,
      "flex": null,
      "flex_flow": null,
      "grid_area": null,
      "grid_auto_columns": null,
      "grid_auto_flow": null,
      "grid_auto_rows": null,
      "grid_column": null,
      "grid_gap": null,
      "grid_row": null,
      "grid_template_areas": null,
      "grid_template_columns": null,
      "grid_template_rows": null,
      "height": null,
      "justify_content": null,
      "justify_items": null,
      "left": null,
      "margin": null,
      "max_height": null,
      "max_width": null,
      "min_height": null,
      "min_width": null,
      "object_fit": null,
      "object_position": null,
      "order": null,
      "overflow": null,
      "overflow_x": null,
      "overflow_y": null,
      "padding": null,
      "right": null,
      "top": null,
      "visibility": null,
      "width": null
     }
    },
    "5b415e01c23a4721ad4075e35a0064c5": {
     "model_module": "@jupyter-widgets/controls",
     "model_module_version": "1.5.0",
     "model_name": "HTMLModel",
     "state": {
      "_dom_classes": [],
      "_model_module": "@jupyter-widgets/controls",
      "_model_module_version": "1.5.0",
      "_model_name": "HTMLModel",
      "_view_count": null,
      "_view_module": "@jupyter-widgets/controls",
      "_view_module_version": "1.5.0",
      "_view_name": "HTMLView",
      "description": "",
      "description_tooltip": null,
      "layout": "IPY_MODEL_27ed024b0b24407ead07c739d0cfeb6b",
      "placeholder": "​",
      "style": "IPY_MODEL_7d34d85044d5425792b6c73b338acff1",
      "value": "vocab.txt: 100%"
     }
    },
    "5cf6c825c43043bebbb4d4fc9c40ba65": {
     "model_module": "@jupyter-widgets/base",
     "model_module_version": "1.2.0",
     "model_name": "LayoutModel",
     "state": {
      "_model_module": "@jupyter-widgets/base",
      "_model_module_version": "1.2.0",
      "_model_name": "LayoutModel",
      "_view_count": null,
      "_view_module": "@jupyter-widgets/base",
      "_view_module_version": "1.2.0",
      "_view_name": "LayoutView",
      "align_content": null,
      "align_items": null,
      "align_self": null,
      "border": null,
      "bottom": null,
      "display": null,
      "flex": null,
      "flex_flow": null,
      "grid_area": null,
      "grid_auto_columns": null,
      "grid_auto_flow": null,
      "grid_auto_rows": null,
      "grid_column": null,
      "grid_gap": null,
      "grid_row": null,
      "grid_template_areas": null,
      "grid_template_columns": null,
      "grid_template_rows": null,
      "height": null,
      "justify_content": null,
      "justify_items": null,
      "left": null,
      "margin": null,
      "max_height": null,
      "max_width": null,
      "min_height": null,
      "min_width": null,
      "object_fit": null,
      "object_position": null,
      "order": null,
      "overflow": null,
      "overflow_x": null,
      "overflow_y": null,
      "padding": null,
      "right": null,
      "top": null,
      "visibility": null,
      "width": null
     }
    },
    "5d41caac665749a485f3cbf464be11df": {
     "model_module": "@jupyter-widgets/controls",
     "model_module_version": "1.5.0",
     "model_name": "DescriptionStyleModel",
     "state": {
      "_model_module": "@jupyter-widgets/controls",
      "_model_module_version": "1.5.0",
      "_model_name": "DescriptionStyleModel",
      "_view_count": null,
      "_view_module": "@jupyter-widgets/base",
      "_view_module_version": "1.2.0",
      "_view_name": "StyleView",
      "description_width": ""
     }
    },
    "5db8a46ec2744346bb94f81279d9018a": {
     "model_module": "@jupyter-widgets/controls",
     "model_module_version": "1.5.0",
     "model_name": "ProgressStyleModel",
     "state": {
      "_model_module": "@jupyter-widgets/controls",
      "_model_module_version": "1.5.0",
      "_model_name": "ProgressStyleModel",
      "_view_count": null,
      "_view_module": "@jupyter-widgets/base",
      "_view_module_version": "1.2.0",
      "_view_name": "StyleView",
      "bar_color": null,
      "description_width": ""
     }
    },
    "5ef89762d23a4d46a95a8a4d29e915d3": {
     "model_module": "@jupyter-widgets/base",
     "model_module_version": "1.2.0",
     "model_name": "LayoutModel",
     "state": {
      "_model_module": "@jupyter-widgets/base",
      "_model_module_version": "1.2.0",
      "_model_name": "LayoutModel",
      "_view_count": null,
      "_view_module": "@jupyter-widgets/base",
      "_view_module_version": "1.2.0",
      "_view_name": "LayoutView",
      "align_content": null,
      "align_items": null,
      "align_self": null,
      "border": null,
      "bottom": null,
      "display": null,
      "flex": null,
      "flex_flow": null,
      "grid_area": null,
      "grid_auto_columns": null,
      "grid_auto_flow": null,
      "grid_auto_rows": null,
      "grid_column": null,
      "grid_gap": null,
      "grid_row": null,
      "grid_template_areas": null,
      "grid_template_columns": null,
      "grid_template_rows": null,
      "height": null,
      "justify_content": null,
      "justify_items": null,
      "left": null,
      "margin": null,
      "max_height": null,
      "max_width": null,
      "min_height": null,
      "min_width": null,
      "object_fit": null,
      "object_position": null,
      "order": null,
      "overflow": null,
      "overflow_x": null,
      "overflow_y": null,
      "padding": null,
      "right": null,
      "top": null,
      "visibility": null,
      "width": null
     }
    },
    "61dc5426ddf54b5d9023ccb245511ef6": {
     "model_module": "@jupyter-widgets/controls",
     "model_module_version": "1.5.0",
     "model_name": "HBoxModel",
     "state": {
      "_dom_classes": [],
      "_model_module": "@jupyter-widgets/controls",
      "_model_module_version": "1.5.0",
      "_model_name": "HBoxModel",
      "_view_count": null,
      "_view_module": "@jupyter-widgets/controls",
      "_view_module_version": "1.5.0",
      "_view_name": "HBoxView",
      "box_style": "",
      "children": [
       "IPY_MODEL_aab2d36070ae420994c02f886c6fe258",
       "IPY_MODEL_a80caa61479f48ac951cb520bfe608fb",
       "IPY_MODEL_b5605c1d0c2b4fae87afae986079868f"
      ],
      "layout": "IPY_MODEL_62f1fb9dd537443a8cfddb3b01165049"
     }
    },
    "62f1fb9dd537443a8cfddb3b01165049": {
     "model_module": "@jupyter-widgets/base",
     "model_module_version": "1.2.0",
     "model_name": "LayoutModel",
     "state": {
      "_model_module": "@jupyter-widgets/base",
      "_model_module_version": "1.2.0",
      "_model_name": "LayoutModel",
      "_view_count": null,
      "_view_module": "@jupyter-widgets/base",
      "_view_module_version": "1.2.0",
      "_view_name": "LayoutView",
      "align_content": null,
      "align_items": null,
      "align_self": null,
      "border": null,
      "bottom": null,
      "display": null,
      "flex": null,
      "flex_flow": null,
      "grid_area": null,
      "grid_auto_columns": null,
      "grid_auto_flow": null,
      "grid_auto_rows": null,
      "grid_column": null,
      "grid_gap": null,
      "grid_row": null,
      "grid_template_areas": null,
      "grid_template_columns": null,
      "grid_template_rows": null,
      "height": null,
      "justify_content": null,
      "justify_items": null,
      "left": null,
      "margin": null,
      "max_height": null,
      "max_width": null,
      "min_height": null,
      "min_width": null,
      "object_fit": null,
      "object_position": null,
      "order": null,
      "overflow": null,
      "overflow_x": null,
      "overflow_y": null,
      "padding": null,
      "right": null,
      "top": null,
      "visibility": null,
      "width": null
     }
    },
    "6ac004c72ce94fe5bd11d5345e0035d5": {
     "model_module": "@jupyter-widgets/base",
     "model_module_version": "1.2.0",
     "model_name": "LayoutModel",
     "state": {
      "_model_module": "@jupyter-widgets/base",
      "_model_module_version": "1.2.0",
      "_model_name": "LayoutModel",
      "_view_count": null,
      "_view_module": "@jupyter-widgets/base",
      "_view_module_version": "1.2.0",
      "_view_name": "LayoutView",
      "align_content": null,
      "align_items": null,
      "align_self": null,
      "border": null,
      "bottom": null,
      "display": null,
      "flex": null,
      "flex_flow": null,
      "grid_area": null,
      "grid_auto_columns": null,
      "grid_auto_flow": null,
      "grid_auto_rows": null,
      "grid_column": null,
      "grid_gap": null,
      "grid_row": null,
      "grid_template_areas": null,
      "grid_template_columns": null,
      "grid_template_rows": null,
      "height": null,
      "justify_content": null,
      "justify_items": null,
      "left": null,
      "margin": null,
      "max_height": null,
      "max_width": null,
      "min_height": null,
      "min_width": null,
      "object_fit": null,
      "object_position": null,
      "order": null,
      "overflow": null,
      "overflow_x": null,
      "overflow_y": null,
      "padding": null,
      "right": null,
      "top": null,
      "visibility": null,
      "width": null
     }
    },
    "6eef97a8b28f4009b9b4779fc5309e8d": {
     "model_module": "@jupyter-widgets/controls",
     "model_module_version": "1.5.0",
     "model_name": "ProgressStyleModel",
     "state": {
      "_model_module": "@jupyter-widgets/controls",
      "_model_module_version": "1.5.0",
      "_model_name": "ProgressStyleModel",
      "_view_count": null,
      "_view_module": "@jupyter-widgets/base",
      "_view_module_version": "1.2.0",
      "_view_name": "StyleView",
      "bar_color": null,
      "description_width": ""
     }
    },
    "6f4fd798b83942dbb8ab3a34f9183810": {
     "model_module": "@jupyter-widgets/controls",
     "model_module_version": "1.5.0",
     "model_name": "HBoxModel",
     "state": {
      "_dom_classes": [],
      "_model_module": "@jupyter-widgets/controls",
      "_model_module_version": "1.5.0",
      "_model_name": "HBoxModel",
      "_view_count": null,
      "_view_module": "@jupyter-widgets/controls",
      "_view_module_version": "1.5.0",
      "_view_name": "HBoxView",
      "box_style": "",
      "children": [
       "IPY_MODEL_8f73056c719e4d2fba8062eee46543fc",
       "IPY_MODEL_e129e5030ad0488da4978832b2a12681",
       "IPY_MODEL_10f23dc070b947dea9a70aeef7e2abe4"
      ],
      "layout": "IPY_MODEL_0e43ee8f7cdc43cf8fa196161d8d0660"
     }
    },
    "721cad1a39eb489f86438f0f101f1885": {
     "model_module": "@jupyter-widgets/base",
     "model_module_version": "1.2.0",
     "model_name": "LayoutModel",
     "state": {
      "_model_module": "@jupyter-widgets/base",
      "_model_module_version": "1.2.0",
      "_model_name": "LayoutModel",
      "_view_count": null,
      "_view_module": "@jupyter-widgets/base",
      "_view_module_version": "1.2.0",
      "_view_name": "LayoutView",
      "align_content": null,
      "align_items": null,
      "align_self": null,
      "border": null,
      "bottom": null,
      "display": null,
      "flex": null,
      "flex_flow": null,
      "grid_area": null,
      "grid_auto_columns": null,
      "grid_auto_flow": null,
      "grid_auto_rows": null,
      "grid_column": null,
      "grid_gap": null,
      "grid_row": null,
      "grid_template_areas": null,
      "grid_template_columns": null,
      "grid_template_rows": null,
      "height": null,
      "justify_content": null,
      "justify_items": null,
      "left": null,
      "margin": null,
      "max_height": null,
      "max_width": null,
      "min_height": null,
      "min_width": null,
      "object_fit": null,
      "object_position": null,
      "order": null,
      "overflow": null,
      "overflow_x": null,
      "overflow_y": null,
      "padding": null,
      "right": null,
      "top": null,
      "visibility": null,
      "width": null
     }
    },
    "757042a600ef408fa72f836bc4ee92c7": {
     "model_module": "@jupyter-widgets/base",
     "model_module_version": "1.2.0",
     "model_name": "LayoutModel",
     "state": {
      "_model_module": "@jupyter-widgets/base",
      "_model_module_version": "1.2.0",
      "_model_name": "LayoutModel",
      "_view_count": null,
      "_view_module": "@jupyter-widgets/base",
      "_view_module_version": "1.2.0",
      "_view_name": "LayoutView",
      "align_content": null,
      "align_items": null,
      "align_self": null,
      "border": null,
      "bottom": null,
      "display": null,
      "flex": null,
      "flex_flow": null,
      "grid_area": null,
      "grid_auto_columns": null,
      "grid_auto_flow": null,
      "grid_auto_rows": null,
      "grid_column": null,
      "grid_gap": null,
      "grid_row": null,
      "grid_template_areas": null,
      "grid_template_columns": null,
      "grid_template_rows": null,
      "height": null,
      "justify_content": null,
      "justify_items": null,
      "left": null,
      "margin": null,
      "max_height": null,
      "max_width": null,
      "min_height": null,
      "min_width": null,
      "object_fit": null,
      "object_position": null,
      "order": null,
      "overflow": null,
      "overflow_x": null,
      "overflow_y": null,
      "padding": null,
      "right": null,
      "top": null,
      "visibility": null,
      "width": null
     }
    },
    "7736c4c05f3b461aa3c8000bf1a88962": {
     "model_module": "@jupyter-widgets/base",
     "model_module_version": "1.2.0",
     "model_name": "LayoutModel",
     "state": {
      "_model_module": "@jupyter-widgets/base",
      "_model_module_version": "1.2.0",
      "_model_name": "LayoutModel",
      "_view_count": null,
      "_view_module": "@jupyter-widgets/base",
      "_view_module_version": "1.2.0",
      "_view_name": "LayoutView",
      "align_content": null,
      "align_items": null,
      "align_self": null,
      "border": null,
      "bottom": null,
      "display": null,
      "flex": null,
      "flex_flow": null,
      "grid_area": null,
      "grid_auto_columns": null,
      "grid_auto_flow": null,
      "grid_auto_rows": null,
      "grid_column": null,
      "grid_gap": null,
      "grid_row": null,
      "grid_template_areas": null,
      "grid_template_columns": null,
      "grid_template_rows": null,
      "height": null,
      "justify_content": null,
      "justify_items": null,
      "left": null,
      "margin": null,
      "max_height": null,
      "max_width": null,
      "min_height": null,
      "min_width": null,
      "object_fit": null,
      "object_position": null,
      "order": null,
      "overflow": null,
      "overflow_x": null,
      "overflow_y": null,
      "padding": null,
      "right": null,
      "top": null,
      "visibility": null,
      "width": null
     }
    },
    "7a7a1543d291425f913f4f89fd79729b": {
     "model_module": "@jupyter-widgets/controls",
     "model_module_version": "1.5.0",
     "model_name": "FloatProgressModel",
     "state": {
      "_dom_classes": [],
      "_model_module": "@jupyter-widgets/controls",
      "_model_module_version": "1.5.0",
      "_model_name": "FloatProgressModel",
      "_view_count": null,
      "_view_module": "@jupyter-widgets/controls",
      "_view_module_version": "1.5.0",
      "_view_name": "ProgressView",
      "bar_style": "success",
      "description": "",
      "description_tooltip": null,
      "layout": "IPY_MODEL_20c05f4248cf495e8e1d2770a62beedb",
      "max": 2825034,
      "min": 0,
      "orientation": "horizontal",
      "style": "IPY_MODEL_205163bc13d242b78f78f9ee47c94147",
      "value": 2825034
     }
    },
    "7b95187410634d8984549ac30337de3d": {
     "model_module": "@jupyter-widgets/controls",
     "model_module_version": "1.5.0",
     "model_name": "FloatProgressModel",
     "state": {
      "_dom_classes": [],
      "_model_module": "@jupyter-widgets/controls",
      "_model_module_version": "1.5.0",
      "_model_name": "FloatProgressModel",
      "_view_count": null,
      "_view_module": "@jupyter-widgets/controls",
      "_view_module_version": "1.5.0",
      "_view_name": "ProgressView",
      "bar_style": "success",
      "description": "",
      "description_tooltip": null,
      "layout": "IPY_MODEL_f37044ba8ec447d6b547a712b0e478ca",
      "max": 55102217,
      "min": 0,
      "orientation": "horizontal",
      "style": "IPY_MODEL_bc21b902646344c8b2fdc34572a06884",
      "value": 55102217
     }
    },
    "7beafd5dc5e348b1b4816e2f01c6f76a": {
     "model_module": "@jupyter-widgets/controls",
     "model_module_version": "1.5.0",
     "model_name": "FloatProgressModel",
     "state": {
      "_dom_classes": [],
      "_model_module": "@jupyter-widgets/controls",
      "_model_module_version": "1.5.0",
      "_model_name": "FloatProgressModel",
      "_view_count": null,
      "_view_module": "@jupyter-widgets/controls",
      "_view_module_version": "1.5.0",
      "_view_name": "ProgressView",
      "bar_style": "success",
      "description": "",
      "description_tooltip": null,
      "layout": "IPY_MODEL_fa76b01994a043e5867acff284dc1962",
      "max": 1059003968,
      "min": 0,
      "orientation": "horizontal",
      "style": "IPY_MODEL_5db8a46ec2744346bb94f81279d9018a",
      "value": 1059003968
     }
    },
    "7d34d85044d5425792b6c73b338acff1": {
     "model_module": "@jupyter-widgets/controls",
     "model_module_version": "1.5.0",
     "model_name": "DescriptionStyleModel",
     "state": {
      "_model_module": "@jupyter-widgets/controls",
      "_model_module_version": "1.5.0",
      "_model_name": "DescriptionStyleModel",
      "_view_count": null,
      "_view_module": "@jupyter-widgets/base",
      "_view_module_version": "1.2.0",
      "_view_name": "StyleView",
      "description_width": ""
     }
    },
    "84e37bde088d4a22886b21888bae8813": {
     "model_module": "@jupyter-widgets/base",
     "model_module_version": "1.2.0",
     "model_name": "LayoutModel",
     "state": {
      "_model_module": "@jupyter-widgets/base",
      "_model_module_version": "1.2.0",
      "_model_name": "LayoutModel",
      "_view_count": null,
      "_view_module": "@jupyter-widgets/base",
      "_view_module_version": "1.2.0",
      "_view_name": "LayoutView",
      "align_content": null,
      "align_items": null,
      "align_self": null,
      "border": null,
      "bottom": null,
      "display": null,
      "flex": null,
      "flex_flow": null,
      "grid_area": null,
      "grid_auto_columns": null,
      "grid_auto_flow": null,
      "grid_auto_rows": null,
      "grid_column": null,
      "grid_gap": null,
      "grid_row": null,
      "grid_template_areas": null,
      "grid_template_columns": null,
      "grid_template_rows": null,
      "height": null,
      "justify_content": null,
      "justify_items": null,
      "left": null,
      "margin": null,
      "max_height": null,
      "max_width": null,
      "min_height": null,
      "min_width": null,
      "object_fit": null,
      "object_position": null,
      "order": null,
      "overflow": null,
      "overflow_x": null,
      "overflow_y": null,
      "padding": null,
      "right": null,
      "top": null,
      "visibility": null,
      "width": null
     }
    },
    "86ff1990ab214809b0329b45b9ab31d5": {
     "model_module": "@jupyter-widgets/base",
     "model_module_version": "1.2.0",
     "model_name": "LayoutModel",
     "state": {
      "_model_module": "@jupyter-widgets/base",
      "_model_module_version": "1.2.0",
      "_model_name": "LayoutModel",
      "_view_count": null,
      "_view_module": "@jupyter-widgets/base",
      "_view_module_version": "1.2.0",
      "_view_name": "LayoutView",
      "align_content": null,
      "align_items": null,
      "align_self": null,
      "border": null,
      "bottom": null,
      "display": null,
      "flex": null,
      "flex_flow": null,
      "grid_area": null,
      "grid_auto_columns": null,
      "grid_auto_flow": null,
      "grid_auto_rows": null,
      "grid_column": null,
      "grid_gap": null,
      "grid_row": null,
      "grid_template_areas": null,
      "grid_template_columns": null,
      "grid_template_rows": null,
      "height": null,
      "justify_content": null,
      "justify_items": null,
      "left": null,
      "margin": null,
      "max_height": null,
      "max_width": null,
      "min_height": null,
      "min_width": null,
      "object_fit": null,
      "object_position": null,
      "order": null,
      "overflow": null,
      "overflow_x": null,
      "overflow_y": null,
      "padding": null,
      "right": null,
      "top": null,
      "visibility": null,
      "width": null
     }
    },
    "8f0f8a51cefe4494b5a73d3e87f602c7": {
     "model_module": "@jupyter-widgets/base",
     "model_module_version": "1.2.0",
     "model_name": "LayoutModel",
     "state": {
      "_model_module": "@jupyter-widgets/base",
      "_model_module_version": "1.2.0",
      "_model_name": "LayoutModel",
      "_view_count": null,
      "_view_module": "@jupyter-widgets/base",
      "_view_module_version": "1.2.0",
      "_view_name": "LayoutView",
      "align_content": null,
      "align_items": null,
      "align_self": null,
      "border": null,
      "bottom": null,
      "display": null,
      "flex": null,
      "flex_flow": null,
      "grid_area": null,
      "grid_auto_columns": null,
      "grid_auto_flow": null,
      "grid_auto_rows": null,
      "grid_column": null,
      "grid_gap": null,
      "grid_row": null,
      "grid_template_areas": null,
      "grid_template_columns": null,
      "grid_template_rows": null,
      "height": null,
      "justify_content": null,
      "justify_items": null,
      "left": null,
      "margin": null,
      "max_height": null,
      "max_width": null,
      "min_height": null,
      "min_width": null,
      "object_fit": null,
      "object_position": null,
      "order": null,
      "overflow": null,
      "overflow_x": null,
      "overflow_y": null,
      "padding": null,
      "right": null,
      "top": null,
      "visibility": null,
      "width": null
     }
    },
    "8f73056c719e4d2fba8062eee46543fc": {
     "model_module": "@jupyter-widgets/controls",
     "model_module_version": "1.5.0",
     "model_name": "HTMLModel",
     "state": {
      "_dom_classes": [],
      "_model_module": "@jupyter-widgets/controls",
      "_model_module_version": "1.5.0",
      "_model_name": "HTMLModel",
      "_view_count": null,
      "_view_module": "@jupyter-widgets/controls",
      "_view_module_version": "1.5.0",
      "_view_name": "HTMLView",
      "description": "",
      "description_tooltip": null,
      "layout": "IPY_MODEL_dd59b469f3e44561a4fdc09d0a0addcf",
      "placeholder": "​",
      "style": "IPY_MODEL_8f951f0d214746aebd6a11b754113e34",
      "value": "tokenizer_config.json: 100%"
     }
    },
    "8f951f0d214746aebd6a11b754113e34": {
     "model_module": "@jupyter-widgets/controls",
     "model_module_version": "1.5.0",
     "model_name": "DescriptionStyleModel",
     "state": {
      "_model_module": "@jupyter-widgets/controls",
      "_model_module_version": "1.5.0",
      "_model_name": "DescriptionStyleModel",
      "_view_count": null,
      "_view_module": "@jupyter-widgets/base",
      "_view_module_version": "1.2.0",
      "_view_name": "StyleView",
      "description_width": ""
     }
    },
    "90405ab6f41d4443b495d6dcbfafec6f": {
     "model_module": "@jupyter-widgets/base",
     "model_module_version": "1.2.0",
     "model_name": "LayoutModel",
     "state": {
      "_model_module": "@jupyter-widgets/base",
      "_model_module_version": "1.2.0",
      "_model_name": "LayoutModel",
      "_view_count": null,
      "_view_module": "@jupyter-widgets/base",
      "_view_module_version": "1.2.0",
      "_view_name": "LayoutView",
      "align_content": null,
      "align_items": null,
      "align_self": null,
      "border": null,
      "bottom": null,
      "display": null,
      "flex": null,
      "flex_flow": null,
      "grid_area": null,
      "grid_auto_columns": null,
      "grid_auto_flow": null,
      "grid_auto_rows": null,
      "grid_column": null,
      "grid_gap": null,
      "grid_row": null,
      "grid_template_areas": null,
      "grid_template_columns": null,
      "grid_template_rows": null,
      "height": null,
      "justify_content": null,
      "justify_items": null,
      "left": null,
      "margin": null,
      "max_height": null,
      "max_width": null,
      "min_height": null,
      "min_width": null,
      "object_fit": null,
      "object_position": null,
      "order": null,
      "overflow": null,
      "overflow_x": null,
      "overflow_y": null,
      "padding": null,
      "right": null,
      "top": null,
      "visibility": null,
      "width": null
     }
    },
    "92ac3ba124cd4c7ebc8ed5dc1d9eaa90": {
     "model_module": "@jupyter-widgets/controls",
     "model_module_version": "1.5.0",
     "model_name": "HTMLModel",
     "state": {
      "_dom_classes": [],
      "_model_module": "@jupyter-widgets/controls",
      "_model_module_version": "1.5.0",
      "_model_name": "HTMLModel",
      "_view_count": null,
      "_view_module": "@jupyter-widgets/controls",
      "_view_module_version": "1.5.0",
      "_view_name": "HTMLView",
      "description": "",
      "description_tooltip": null,
      "layout": "IPY_MODEL_9c5715694e9b48e18a446e92ea80d17e",
      "placeholder": "​",
      "style": "IPY_MODEL_945dd7863b8d4911ae7f1e033cbd1932",
      "value": "pytorch_model.bin: 100%"
     }
    },
    "945dd7863b8d4911ae7f1e033cbd1932": {
     "model_module": "@jupyter-widgets/controls",
     "model_module_version": "1.5.0",
     "model_name": "DescriptionStyleModel",
     "state": {
      "_model_module": "@jupyter-widgets/controls",
      "_model_module_version": "1.5.0",
      "_model_name": "DescriptionStyleModel",
      "_view_count": null,
      "_view_module": "@jupyter-widgets/base",
      "_view_module_version": "1.2.0",
      "_view_name": "StyleView",
      "description_width": ""
     }
    },
    "9753995bc89149f2bd0b75f3649d2cca": {
     "model_module": "@jupyter-widgets/controls",
     "model_module_version": "1.5.0",
     "model_name": "DescriptionStyleModel",
     "state": {
      "_model_module": "@jupyter-widgets/controls",
      "_model_module_version": "1.5.0",
      "_model_name": "DescriptionStyleModel",
      "_view_count": null,
      "_view_module": "@jupyter-widgets/base",
      "_view_module_version": "1.2.0",
      "_view_name": "StyleView",
      "description_width": ""
     }
    },
    "97a25915afa8418e8a8bfd523aa71914": {
     "model_module": "@jupyter-widgets/controls",
     "model_module_version": "1.5.0",
     "model_name": "FloatProgressModel",
     "state": {
      "_dom_classes": [],
      "_model_module": "@jupyter-widgets/controls",
      "_model_module_version": "1.5.0",
      "_model_name": "FloatProgressModel",
      "_view_count": null,
      "_view_module": "@jupyter-widgets/controls",
      "_view_module_version": "1.5.0",
      "_view_name": "ProgressView",
      "bar_style": "success",
      "description": "",
      "description_tooltip": null,
      "layout": "IPY_MODEL_86ff1990ab214809b0329b45b9ab31d5",
      "max": 279173,
      "min": 0,
      "orientation": "horizontal",
      "style": "IPY_MODEL_3e3845501e504d21ab654cb1c2fff9b6",
      "value": 279173
     }
    },
    "9a4f6da48eab487e959a892a035738c4": {
     "model_module": "@jupyter-widgets/controls",
     "model_module_version": "1.5.0",
     "model_name": "DescriptionStyleModel",
     "state": {
      "_model_module": "@jupyter-widgets/controls",
      "_model_module_version": "1.5.0",
      "_model_name": "DescriptionStyleModel",
      "_view_count": null,
      "_view_module": "@jupyter-widgets/base",
      "_view_module_version": "1.2.0",
      "_view_name": "StyleView",
      "description_width": ""
     }
    },
    "9c5715694e9b48e18a446e92ea80d17e": {
     "model_module": "@jupyter-widgets/base",
     "model_module_version": "1.2.0",
     "model_name": "LayoutModel",
     "state": {
      "_model_module": "@jupyter-widgets/base",
      "_model_module_version": "1.2.0",
      "_model_name": "LayoutModel",
      "_view_count": null,
      "_view_module": "@jupyter-widgets/base",
      "_view_module_version": "1.2.0",
      "_view_name": "LayoutView",
      "align_content": null,
      "align_items": null,
      "align_self": null,
      "border": null,
      "bottom": null,
      "display": null,
      "flex": null,
      "flex_flow": null,
      "grid_area": null,
      "grid_auto_columns": null,
      "grid_auto_flow": null,
      "grid_auto_rows": null,
      "grid_column": null,
      "grid_gap": null,
      "grid_row": null,
      "grid_template_areas": null,
      "grid_template_columns": null,
      "grid_template_rows": null,
      "height": null,
      "justify_content": null,
      "justify_items": null,
      "left": null,
      "margin": null,
      "max_height": null,
      "max_width": null,
      "min_height": null,
      "min_width": null,
      "object_fit": null,
      "object_position": null,
      "order": null,
      "overflow": null,
      "overflow_x": null,
      "overflow_y": null,
      "padding": null,
      "right": null,
      "top": null,
      "visibility": null,
      "width": null
     }
    },
    "9d867cd721444c8982a9feeee8fc8dab": {
     "model_module": "@jupyter-widgets/controls",
     "model_module_version": "1.5.0",
     "model_name": "HBoxModel",
     "state": {
      "_dom_classes": [],
      "_model_module": "@jupyter-widgets/controls",
      "_model_module_version": "1.5.0",
      "_model_name": "HBoxModel",
      "_view_count": null,
      "_view_module": "@jupyter-widgets/controls",
      "_view_module_version": "1.5.0",
      "_view_name": "HBoxView",
      "box_style": "",
      "children": [
       "IPY_MODEL_48d2801b6e234f8ca9288d45df200b24",
       "IPY_MODEL_7beafd5dc5e348b1b4816e2f01c6f76a",
       "IPY_MODEL_b81c2cc9cdf44b8fb15607da38b3cf91"
      ],
      "layout": "IPY_MODEL_fdb5bc933c624c9d92afd8e1eb9edb4a"
     }
    },
    "a06dc0e3f9784c8e9e58685b24a4217b": {
     "model_module": "@jupyter-widgets/controls",
     "model_module_version": "1.5.0",
     "model_name": "ProgressStyleModel",
     "state": {
      "_model_module": "@jupyter-widgets/controls",
      "_model_module_version": "1.5.0",
      "_model_name": "ProgressStyleModel",
      "_view_count": null,
      "_view_module": "@jupyter-widgets/base",
      "_view_module_version": "1.2.0",
      "_view_name": "StyleView",
      "bar_color": null,
      "description_width": ""
     }
    },
    "a0888a786a5c4e32b08954952a70497c": {
     "model_module": "@jupyter-widgets/controls",
     "model_module_version": "1.5.0",
     "model_name": "ProgressStyleModel",
     "state": {
      "_model_module": "@jupyter-widgets/controls",
      "_model_module_version": "1.5.0",
      "_model_name": "ProgressStyleModel",
      "_view_count": null,
      "_view_module": "@jupyter-widgets/base",
      "_view_module_version": "1.2.0",
      "_view_name": "StyleView",
      "bar_color": null,
      "description_width": ""
     }
    },
    "a1764379e5a645aca3a6b07f7d3ce65d": {
     "model_module": "@jupyter-widgets/base",
     "model_module_version": "1.2.0",
     "model_name": "LayoutModel",
     "state": {
      "_model_module": "@jupyter-widgets/base",
      "_model_module_version": "1.2.0",
      "_model_name": "LayoutModel",
      "_view_count": null,
      "_view_module": "@jupyter-widgets/base",
      "_view_module_version": "1.2.0",
      "_view_name": "LayoutView",
      "align_content": null,
      "align_items": null,
      "align_self": null,
      "border": null,
      "bottom": null,
      "display": null,
      "flex": null,
      "flex_flow": null,
      "grid_area": null,
      "grid_auto_columns": null,
      "grid_auto_flow": null,
      "grid_auto_rows": null,
      "grid_column": null,
      "grid_gap": null,
      "grid_row": null,
      "grid_template_areas": null,
      "grid_template_columns": null,
      "grid_template_rows": null,
      "height": null,
      "justify_content": null,
      "justify_items": null,
      "left": null,
      "margin": null,
      "max_height": null,
      "max_width": null,
      "min_height": null,
      "min_width": null,
      "object_fit": null,
      "object_position": null,
      "order": null,
      "overflow": null,
      "overflow_x": null,
      "overflow_y": null,
      "padding": null,
      "right": null,
      "top": null,
      "visibility": null,
      "width": null
     }
    },
    "a28af31ad9ce42eaabf897d4e56157c2": {
     "model_module": "@jupyter-widgets/controls",
     "model_module_version": "1.5.0",
     "model_name": "DescriptionStyleModel",
     "state": {
      "_model_module": "@jupyter-widgets/controls",
      "_model_module_version": "1.5.0",
      "_model_name": "DescriptionStyleModel",
      "_view_count": null,
      "_view_module": "@jupyter-widgets/base",
      "_view_module_version": "1.2.0",
      "_view_name": "StyleView",
      "description_width": ""
     }
    },
    "a7f6bb8deb66484eb2db90d0e065119f": {
     "model_module": "@jupyter-widgets/controls",
     "model_module_version": "1.5.0",
     "model_name": "HTMLModel",
     "state": {
      "_dom_classes": [],
      "_model_module": "@jupyter-widgets/controls",
      "_model_module_version": "1.5.0",
      "_model_name": "HTMLModel",
      "_view_count": null,
      "_view_module": "@jupyter-widgets/controls",
      "_view_module_version": "1.5.0",
      "_view_name": "HTMLView",
      "description": "",
      "description_tooltip": null,
      "layout": "IPY_MODEL_da4387474322437da40192b5e6c56c93",
      "placeholder": "​",
      "style": "IPY_MODEL_9a4f6da48eab487e959a892a035738c4",
      "value": "config.json: 100%"
     }
    },
    "a80caa61479f48ac951cb520bfe608fb": {
     "model_module": "@jupyter-widgets/controls",
     "model_module_version": "1.5.0",
     "model_name": "FloatProgressModel",
     "state": {
      "_dom_classes": [],
      "_model_module": "@jupyter-widgets/controls",
      "_model_module_version": "1.5.0",
      "_model_name": "FloatProgressModel",
      "_view_count": null,
      "_view_module": "@jupyter-widgets/controls",
      "_view_module_version": "1.5.0",
      "_view_name": "ProgressView",
      "bar_style": "success",
      "description": "",
      "description_tooltip": null,
      "layout": "IPY_MODEL_5cf6c825c43043bebbb4d4fc9c40ba65",
      "max": 466,
      "min": 0,
      "orientation": "horizontal",
      "style": "IPY_MODEL_a06dc0e3f9784c8e9e58685b24a4217b",
      "value": 466
     }
    },
    "aab2d36070ae420994c02f886c6fe258": {
     "model_module": "@jupyter-widgets/controls",
     "model_module_version": "1.5.0",
     "model_name": "HTMLModel",
     "state": {
      "_dom_classes": [],
      "_model_module": "@jupyter-widgets/controls",
      "_model_module_version": "1.5.0",
      "_model_name": "HTMLModel",
      "_view_count": null,
      "_view_module": "@jupyter-widgets/controls",
      "_view_module_version": "1.5.0",
      "_view_name": "HTMLView",
      "description": "",
      "description_tooltip": null,
      "layout": "IPY_MODEL_1102d7078bd14afc9df0366aa4d58cda",
      "placeholder": "​",
      "style": "IPY_MODEL_5d41caac665749a485f3cbf464be11df",
      "value": "config.json: 100%"
     }
    },
    "af7a47c6936444ba86a6a8b51c9c7815": {
     "model_module": "@jupyter-widgets/controls",
     "model_module_version": "1.5.0",
     "model_name": "HTMLModel",
     "state": {
      "_dom_classes": [],
      "_model_module": "@jupyter-widgets/controls",
      "_model_module_version": "1.5.0",
      "_model_name": "HTMLModel",
      "_view_count": null,
      "_view_module": "@jupyter-widgets/controls",
      "_view_module_version": "1.5.0",
      "_view_name": "HTMLView",
      "description": "",
      "description_tooltip": null,
      "layout": "IPY_MODEL_a1764379e5a645aca3a6b07f7d3ce65d",
      "placeholder": "​",
      "style": "IPY_MODEL_0054a73e407b4c419459ff9a98cedad7",
      "value": " 279k/279k [00:00&lt;00:00, 1.11MB/s]"
     }
    },
    "b47c3de7363a43ee9faeca7b357b3d59": {
     "model_module": "@jupyter-widgets/controls",
     "model_module_version": "1.5.0",
     "model_name": "DescriptionStyleModel",
     "state": {
      "_model_module": "@jupyter-widgets/controls",
      "_model_module_version": "1.5.0",
      "_model_name": "DescriptionStyleModel",
      "_view_count": null,
      "_view_module": "@jupyter-widgets/base",
      "_view_module_version": "1.2.0",
      "_view_name": "StyleView",
      "description_width": ""
     }
    },
    "b5605c1d0c2b4fae87afae986079868f": {
     "model_module": "@jupyter-widgets/controls",
     "model_module_version": "1.5.0",
     "model_name": "HTMLModel",
     "state": {
      "_dom_classes": [],
      "_model_module": "@jupyter-widgets/controls",
      "_model_module_version": "1.5.0",
      "_model_name": "HTMLModel",
      "_view_count": null,
      "_view_module": "@jupyter-widgets/controls",
      "_view_module_version": "1.5.0",
      "_view_name": "HTMLView",
      "description": "",
      "description_tooltip": null,
      "layout": "IPY_MODEL_5ac5ba4f053144b49b897d0b0dcb6acf",
      "placeholder": "​",
      "style": "IPY_MODEL_a28af31ad9ce42eaabf897d4e56157c2",
      "value": " 466/466 [00:00&lt;00:00, 40.6kB/s]"
     }
    },
    "b81c2cc9cdf44b8fb15607da38b3cf91": {
     "model_module": "@jupyter-widgets/controls",
     "model_module_version": "1.5.0",
     "model_name": "HTMLModel",
     "state": {
      "_dom_classes": [],
      "_model_module": "@jupyter-widgets/controls",
      "_model_module_version": "1.5.0",
      "_model_name": "HTMLModel",
      "_view_count": null,
      "_view_module": "@jupyter-widgets/controls",
      "_view_module_version": "1.5.0",
      "_view_name": "HTMLView",
      "description": "",
      "description_tooltip": null,
      "layout": "IPY_MODEL_cd8675aa128d412ab1e85cb93cb0b96b",
      "placeholder": "​",
      "style": "IPY_MODEL_b47c3de7363a43ee9faeca7b357b3d59",
      "value": " 1.06G/1.06G [00:41&lt;00:00, 25.6MB/s]"
     }
    },
    "b9e63cb42afb43a59df6d2b3cbcd2fb5": {
     "model_module": "@jupyter-widgets/base",
     "model_module_version": "1.2.0",
     "model_name": "LayoutModel",
     "state": {
      "_model_module": "@jupyter-widgets/base",
      "_model_module_version": "1.2.0",
      "_model_name": "LayoutModel",
      "_view_count": null,
      "_view_module": "@jupyter-widgets/base",
      "_view_module_version": "1.2.0",
      "_view_name": "LayoutView",
      "align_content": null,
      "align_items": null,
      "align_self": null,
      "border": null,
      "bottom": null,
      "display": null,
      "flex": null,
      "flex_flow": null,
      "grid_area": null,
      "grid_auto_columns": null,
      "grid_auto_flow": null,
      "grid_auto_rows": null,
      "grid_column": null,
      "grid_gap": null,
      "grid_row": null,
      "grid_template_areas": null,
      "grid_template_columns": null,
      "grid_template_rows": null,
      "height": null,
      "justify_content": null,
      "justify_items": null,
      "left": null,
      "margin": null,
      "max_height": null,
      "max_width": null,
      "min_height": null,
      "min_width": null,
      "object_fit": null,
      "object_position": null,
      "order": null,
      "overflow": null,
      "overflow_x": null,
      "overflow_y": null,
      "padding": null,
      "right": null,
      "top": null,
      "visibility": null,
      "width": null
     }
    },
    "bc21b902646344c8b2fdc34572a06884": {
     "model_module": "@jupyter-widgets/controls",
     "model_module_version": "1.5.0",
     "model_name": "ProgressStyleModel",
     "state": {
      "_model_module": "@jupyter-widgets/controls",
      "_model_module_version": "1.5.0",
      "_model_name": "ProgressStyleModel",
      "_view_count": null,
      "_view_module": "@jupyter-widgets/base",
      "_view_module_version": "1.2.0",
      "_view_name": "StyleView",
      "bar_color": null,
      "description_width": ""
     }
    },
    "caa1a060540c4d74b12d342315aa0ad8": {
     "model_module": "@jupyter-widgets/controls",
     "model_module_version": "1.5.0",
     "model_name": "HTMLModel",
     "state": {
      "_dom_classes": [],
      "_model_module": "@jupyter-widgets/controls",
      "_model_module_version": "1.5.0",
      "_model_name": "HTMLModel",
      "_view_count": null,
      "_view_module": "@jupyter-widgets/controls",
      "_view_module_version": "1.5.0",
      "_view_name": "HTMLView",
      "description": "",
      "description_tooltip": null,
      "layout": "IPY_MODEL_7736c4c05f3b461aa3c8000bf1a88962",
      "placeholder": "​",
      "style": "IPY_MODEL_9753995bc89149f2bd0b75f3649d2cca",
      "value": " 55.1M/55.1M [00:00&lt;00:00, 170MB/s]"
     }
    },
    "cd8675aa128d412ab1e85cb93cb0b96b": {
     "model_module": "@jupyter-widgets/base",
     "model_module_version": "1.2.0",
     "model_name": "LayoutModel",
     "state": {
      "_model_module": "@jupyter-widgets/base",
      "_model_module_version": "1.2.0",
      "_model_name": "LayoutModel",
      "_view_count": null,
      "_view_module": "@jupyter-widgets/base",
      "_view_module_version": "1.2.0",
      "_view_name": "LayoutView",
      "align_content": null,
      "align_items": null,
      "align_self": null,
      "border": null,
      "bottom": null,
      "display": null,
      "flex": null,
      "flex_flow": null,
      "grid_area": null,
      "grid_auto_columns": null,
      "grid_auto_flow": null,
      "grid_auto_rows": null,
      "grid_column": null,
      "grid_gap": null,
      "grid_row": null,
      "grid_template_areas": null,
      "grid_template_columns": null,
      "grid_template_rows": null,
      "height": null,
      "justify_content": null,
      "justify_items": null,
      "left": null,
      "margin": null,
      "max_height": null,
      "max_width": null,
      "min_height": null,
      "min_width": null,
      "object_fit": null,
      "object_position": null,
      "order": null,
      "overflow": null,
      "overflow_x": null,
      "overflow_y": null,
      "padding": null,
      "right": null,
      "top": null,
      "visibility": null,
      "width": null
     }
    },
    "cda94595b4a7445798a3339453905eb9": {
     "model_module": "@jupyter-widgets/base",
     "model_module_version": "1.2.0",
     "model_name": "LayoutModel",
     "state": {
      "_model_module": "@jupyter-widgets/base",
      "_model_module_version": "1.2.0",
      "_model_name": "LayoutModel",
      "_view_count": null,
      "_view_module": "@jupyter-widgets/base",
      "_view_module_version": "1.2.0",
      "_view_name": "LayoutView",
      "align_content": null,
      "align_items": null,
      "align_self": null,
      "border": null,
      "bottom": null,
      "display": null,
      "flex": null,
      "flex_flow": null,
      "grid_area": null,
      "grid_auto_columns": null,
      "grid_auto_flow": null,
      "grid_auto_rows": null,
      "grid_column": null,
      "grid_gap": null,
      "grid_row": null,
      "grid_template_areas": null,
      "grid_template_columns": null,
      "grid_template_rows": null,
      "height": null,
      "justify_content": null,
      "justify_items": null,
      "left": null,
      "margin": null,
      "max_height": null,
      "max_width": null,
      "min_height": null,
      "min_width": null,
      "object_fit": null,
      "object_position": null,
      "order": null,
      "overflow": null,
      "overflow_x": null,
      "overflow_y": null,
      "padding": null,
      "right": null,
      "top": null,
      "visibility": null,
      "width": null
     }
    },
    "cec00e364b5845beafd0069a4b2c883c": {
     "model_module": "@jupyter-widgets/base",
     "model_module_version": "1.2.0",
     "model_name": "LayoutModel",
     "state": {
      "_model_module": "@jupyter-widgets/base",
      "_model_module_version": "1.2.0",
      "_model_name": "LayoutModel",
      "_view_count": null,
      "_view_module": "@jupyter-widgets/base",
      "_view_module_version": "1.2.0",
      "_view_name": "LayoutView",
      "align_content": null,
      "align_items": null,
      "align_self": null,
      "border": null,
      "bottom": null,
      "display": null,
      "flex": null,
      "flex_flow": null,
      "grid_area": null,
      "grid_auto_columns": null,
      "grid_auto_flow": null,
      "grid_auto_rows": null,
      "grid_column": null,
      "grid_gap": null,
      "grid_row": null,
      "grid_template_areas": null,
      "grid_template_columns": null,
      "grid_template_rows": null,
      "height": null,
      "justify_content": null,
      "justify_items": null,
      "left": null,
      "margin": null,
      "max_height": null,
      "max_width": null,
      "min_height": null,
      "min_width": null,
      "object_fit": null,
      "object_position": null,
      "order": null,
      "overflow": null,
      "overflow_x": null,
      "overflow_y": null,
      "padding": null,
      "right": null,
      "top": null,
      "visibility": null,
      "width": null
     }
    },
    "d1f50c33d4474676a76f351171f5b0e1": {
     "model_module": "@jupyter-widgets/base",
     "model_module_version": "1.2.0",
     "model_name": "LayoutModel",
     "state": {
      "_model_module": "@jupyter-widgets/base",
      "_model_module_version": "1.2.0",
      "_model_name": "LayoutModel",
      "_view_count": null,
      "_view_module": "@jupyter-widgets/base",
      "_view_module_version": "1.2.0",
      "_view_name": "LayoutView",
      "align_content": null,
      "align_items": null,
      "align_self": null,
      "border": null,
      "bottom": null,
      "display": null,
      "flex": null,
      "flex_flow": null,
      "grid_area": null,
      "grid_auto_columns": null,
      "grid_auto_flow": null,
      "grid_auto_rows": null,
      "grid_column": null,
      "grid_gap": null,
      "grid_row": null,
      "grid_template_areas": null,
      "grid_template_columns": null,
      "grid_template_rows": null,
      "height": null,
      "justify_content": null,
      "justify_items": null,
      "left": null,
      "margin": null,
      "max_height": null,
      "max_width": null,
      "min_height": null,
      "min_width": null,
      "object_fit": null,
      "object_position": null,
      "order": null,
      "overflow": null,
      "overflow_x": null,
      "overflow_y": null,
      "padding": null,
      "right": null,
      "top": null,
      "visibility": null,
      "width": null
     }
    },
    "d31773d54bcf48a2bb9c806c7c4c5641": {
     "model_module": "@jupyter-widgets/controls",
     "model_module_version": "1.5.0",
     "model_name": "HBoxModel",
     "state": {
      "_dom_classes": [],
      "_model_module": "@jupyter-widgets/controls",
      "_model_module_version": "1.5.0",
      "_model_name": "HBoxModel",
      "_view_count": null,
      "_view_module": "@jupyter-widgets/controls",
      "_view_module_version": "1.5.0",
      "_view_name": "HBoxView",
      "box_style": "",
      "children": [
       "IPY_MODEL_04a4ebdac22f49d19359d65c648f2411",
       "IPY_MODEL_17308808bedb4d5eba8a1d02ccca6942",
       "IPY_MODEL_0d9cf802da0645589fe2acb634ff4dca"
      ],
      "layout": "IPY_MODEL_5ef89762d23a4d46a95a8a4d29e915d3"
     }
    },
    "d3d9575479914b04b6258f6395852517": {
     "model_module": "@jupyter-widgets/base",
     "model_module_version": "1.2.0",
     "model_name": "LayoutModel",
     "state": {
      "_model_module": "@jupyter-widgets/base",
      "_model_module_version": "1.2.0",
      "_model_name": "LayoutModel",
      "_view_count": null,
      "_view_module": "@jupyter-widgets/base",
      "_view_module_version": "1.2.0",
      "_view_name": "LayoutView",
      "align_content": null,
      "align_items": null,
      "align_self": null,
      "border": null,
      "bottom": null,
      "display": null,
      "flex": null,
      "flex_flow": null,
      "grid_area": null,
      "grid_auto_columns": null,
      "grid_auto_flow": null,
      "grid_auto_rows": null,
      "grid_column": null,
      "grid_gap": null,
      "grid_row": null,
      "grid_template_areas": null,
      "grid_template_columns": null,
      "grid_template_rows": null,
      "height": null,
      "justify_content": null,
      "justify_items": null,
      "left": null,
      "margin": null,
      "max_height": null,
      "max_width": null,
      "min_height": null,
      "min_width": null,
      "object_fit": null,
      "object_position": null,
      "order": null,
      "overflow": null,
      "overflow_x": null,
      "overflow_y": null,
      "padding": null,
      "right": null,
      "top": null,
      "visibility": null,
      "width": null
     }
    },
    "d51d032f2d6f4ce3a0f1b18ad4505b81": {
     "model_module": "@jupyter-widgets/controls",
     "model_module_version": "1.5.0",
     "model_name": "HBoxModel",
     "state": {
      "_dom_classes": [],
      "_model_module": "@jupyter-widgets/controls",
      "_model_module_version": "1.5.0",
      "_model_name": "HBoxModel",
      "_view_count": null,
      "_view_module": "@jupyter-widgets/controls",
      "_view_module_version": "1.5.0",
      "_view_name": "HBoxView",
      "box_style": "",
      "children": [
       "IPY_MODEL_0f0d4a560e704ca3a721e65daf4f4763",
       "IPY_MODEL_7a7a1543d291425f913f4f89fd79729b",
       "IPY_MODEL_d9e56d97b0ad4fe496fdd3a05a1d520f"
      ],
      "layout": "IPY_MODEL_90405ab6f41d4443b495d6dcbfafec6f"
     }
    },
    "d9e56d97b0ad4fe496fdd3a05a1d520f": {
     "model_module": "@jupyter-widgets/controls",
     "model_module_version": "1.5.0",
     "model_name": "HTMLModel",
     "state": {
      "_dom_classes": [],
      "_model_module": "@jupyter-widgets/controls",
      "_model_module_version": "1.5.0",
      "_model_name": "HTMLModel",
      "_view_count": null,
      "_view_module": "@jupyter-widgets/controls",
      "_view_module_version": "1.5.0",
      "_view_name": "HTMLView",
      "description": "",
      "description_tooltip": null,
      "layout": "IPY_MODEL_8f0f8a51cefe4494b5a73d3e87f602c7",
      "placeholder": "​",
      "style": "IPY_MODEL_faa213eec45f4710b5e4cacfe0fda957",
      "value": " 2.83M/2.83M [00:01&lt;00:00, 2.81MB/s]"
     }
    },
    "da4387474322437da40192b5e6c56c93": {
     "model_module": "@jupyter-widgets/base",
     "model_module_version": "1.2.0",
     "model_name": "LayoutModel",
     "state": {
      "_model_module": "@jupyter-widgets/base",
      "_model_module_version": "1.2.0",
      "_model_name": "LayoutModel",
      "_view_count": null,
      "_view_module": "@jupyter-widgets/base",
      "_view_module_version": "1.2.0",
      "_view_name": "LayoutView",
      "align_content": null,
      "align_items": null,
      "align_self": null,
      "border": null,
      "bottom": null,
      "display": null,
      "flex": null,
      "flex_flow": null,
      "grid_area": null,
      "grid_auto_columns": null,
      "grid_auto_flow": null,
      "grid_auto_rows": null,
      "grid_column": null,
      "grid_gap": null,
      "grid_row": null,
      "grid_template_areas": null,
      "grid_template_columns": null,
      "grid_template_rows": null,
      "height": null,
      "justify_content": null,
      "justify_items": null,
      "left": null,
      "margin": null,
      "max_height": null,
      "max_width": null,
      "min_height": null,
      "min_width": null,
      "object_fit": null,
      "object_position": null,
      "order": null,
      "overflow": null,
      "overflow_x": null,
      "overflow_y": null,
      "padding": null,
      "right": null,
      "top": null,
      "visibility": null,
      "width": null
     }
    },
    "dd59b469f3e44561a4fdc09d0a0addcf": {
     "model_module": "@jupyter-widgets/base",
     "model_module_version": "1.2.0",
     "model_name": "LayoutModel",
     "state": {
      "_model_module": "@jupyter-widgets/base",
      "_model_module_version": "1.2.0",
      "_model_name": "LayoutModel",
      "_view_count": null,
      "_view_module": "@jupyter-widgets/base",
      "_view_module_version": "1.2.0",
      "_view_name": "LayoutView",
      "align_content": null,
      "align_items": null,
      "align_self": null,
      "border": null,
      "bottom": null,
      "display": null,
      "flex": null,
      "flex_flow": null,
      "grid_area": null,
      "grid_auto_columns": null,
      "grid_auto_flow": null,
      "grid_auto_rows": null,
      "grid_column": null,
      "grid_gap": null,
      "grid_row": null,
      "grid_template_areas": null,
      "grid_template_columns": null,
      "grid_template_rows": null,
      "height": null,
      "justify_content": null,
      "justify_items": null,
      "left": null,
      "margin": null,
      "max_height": null,
      "max_width": null,
      "min_height": null,
      "min_width": null,
      "object_fit": null,
      "object_position": null,
      "order": null,
      "overflow": null,
      "overflow_x": null,
      "overflow_y": null,
      "padding": null,
      "right": null,
      "top": null,
      "visibility": null,
      "width": null
     }
    },
    "e129e5030ad0488da4978832b2a12681": {
     "model_module": "@jupyter-widgets/controls",
     "model_module_version": "1.5.0",
     "model_name": "FloatProgressModel",
     "state": {
      "_dom_classes": [],
      "_model_module": "@jupyter-widgets/controls",
      "_model_module_version": "1.5.0",
      "_model_name": "FloatProgressModel",
      "_view_count": null,
      "_view_module": "@jupyter-widgets/controls",
      "_view_module_version": "1.5.0",
      "_view_name": "ProgressView",
      "bar_style": "success",
      "description": "",
      "description_tooltip": null,
      "layout": "IPY_MODEL_10385ac3fc654a03ab71380752ec5a48",
      "max": 60,
      "min": 0,
      "orientation": "horizontal",
      "style": "IPY_MODEL_a0888a786a5c4e32b08954952a70497c",
      "value": 60
     }
    },
    "f21cee73a1a8416dbdd66882be352cad": {
     "model_module": "@jupyter-widgets/controls",
     "model_module_version": "1.5.0",
     "model_name": "HTMLModel",
     "state": {
      "_dom_classes": [],
      "_model_module": "@jupyter-widgets/controls",
      "_model_module_version": "1.5.0",
      "_model_name": "HTMLModel",
      "_view_count": null,
      "_view_module": "@jupyter-widgets/controls",
      "_view_module_version": "1.5.0",
      "_view_name": "HTMLView",
      "description": "",
      "description_tooltip": null,
      "layout": "IPY_MODEL_d1f50c33d4474676a76f351171f5b0e1",
      "placeholder": "​",
      "style": "IPY_MODEL_0cb55f72d07d4ec5b41a80a835169c96",
      "value": " 1.00k/1.00k [00:00&lt;00:00, 47.3kB/s]"
     }
    },
    "f37044ba8ec447d6b547a712b0e478ca": {
     "model_module": "@jupyter-widgets/base",
     "model_module_version": "1.2.0",
     "model_name": "LayoutModel",
     "state": {
      "_model_module": "@jupyter-widgets/base",
      "_model_module_version": "1.2.0",
      "_model_name": "LayoutModel",
      "_view_count": null,
      "_view_module": "@jupyter-widgets/base",
      "_view_module_version": "1.2.0",
      "_view_name": "LayoutView",
      "align_content": null,
      "align_items": null,
      "align_self": null,
      "border": null,
      "bottom": null,
      "display": null,
      "flex": null,
      "flex_flow": null,
      "grid_area": null,
      "grid_auto_columns": null,
      "grid_auto_flow": null,
      "grid_auto_rows": null,
      "grid_column": null,
      "grid_gap": null,
      "grid_row": null,
      "grid_template_areas": null,
      "grid_template_columns": null,
      "grid_template_rows": null,
      "height": null,
      "justify_content": null,
      "justify_items": null,
      "left": null,
      "margin": null,
      "max_height": null,
      "max_width": null,
      "min_height": null,
      "min_width": null,
      "object_fit": null,
      "object_position": null,
      "order": null,
      "overflow": null,
      "overflow_x": null,
      "overflow_y": null,
      "padding": null,
      "right": null,
      "top": null,
      "visibility": null,
      "width": null
     }
    },
    "f4792656c20946fe95bca9012a041b40": {
     "model_module": "@jupyter-widgets/base",
     "model_module_version": "1.2.0",
     "model_name": "LayoutModel",
     "state": {
      "_model_module": "@jupyter-widgets/base",
      "_model_module_version": "1.2.0",
      "_model_name": "LayoutModel",
      "_view_count": null,
      "_view_module": "@jupyter-widgets/base",
      "_view_module_version": "1.2.0",
      "_view_name": "LayoutView",
      "align_content": null,
      "align_items": null,
      "align_self": null,
      "border": null,
      "bottom": null,
      "display": null,
      "flex": null,
      "flex_flow": null,
      "grid_area": null,
      "grid_auto_columns": null,
      "grid_auto_flow": null,
      "grid_auto_rows": null,
      "grid_column": null,
      "grid_gap": null,
      "grid_row": null,
      "grid_template_areas": null,
      "grid_template_columns": null,
      "grid_template_rows": null,
      "height": null,
      "justify_content": null,
      "justify_items": null,
      "left": null,
      "margin": null,
      "max_height": null,
      "max_width": null,
      "min_height": null,
      "min_width": null,
      "object_fit": null,
      "object_position": null,
      "order": null,
      "overflow": null,
      "overflow_x": null,
      "overflow_y": null,
      "padding": null,
      "right": null,
      "top": null,
      "visibility": null,
      "width": null
     }
    },
    "fa76b01994a043e5867acff284dc1962": {
     "model_module": "@jupyter-widgets/base",
     "model_module_version": "1.2.0",
     "model_name": "LayoutModel",
     "state": {
      "_model_module": "@jupyter-widgets/base",
      "_model_module_version": "1.2.0",
      "_model_name": "LayoutModel",
      "_view_count": null,
      "_view_module": "@jupyter-widgets/base",
      "_view_module_version": "1.2.0",
      "_view_name": "LayoutView",
      "align_content": null,
      "align_items": null,
      "align_self": null,
      "border": null,
      "bottom": null,
      "display": null,
      "flex": null,
      "flex_flow": null,
      "grid_area": null,
      "grid_auto_columns": null,
      "grid_auto_flow": null,
      "grid_auto_rows": null,
      "grid_column": null,
      "grid_gap": null,
      "grid_row": null,
      "grid_template_areas": null,
      "grid_template_columns": null,
      "grid_template_rows": null,
      "height": null,
      "justify_content": null,
      "justify_items": null,
      "left": null,
      "margin": null,
      "max_height": null,
      "max_width": null,
      "min_height": null,
      "min_width": null,
      "object_fit": null,
      "object_position": null,
      "order": null,
      "overflow": null,
      "overflow_x": null,
      "overflow_y": null,
      "padding": null,
      "right": null,
      "top": null,
      "visibility": null,
      "width": null
     }
    },
    "faa213eec45f4710b5e4cacfe0fda957": {
     "model_module": "@jupyter-widgets/controls",
     "model_module_version": "1.5.0",
     "model_name": "DescriptionStyleModel",
     "state": {
      "_model_module": "@jupyter-widgets/controls",
      "_model_module_version": "1.5.0",
      "_model_name": "DescriptionStyleModel",
      "_view_count": null,
      "_view_module": "@jupyter-widgets/base",
      "_view_module_version": "1.2.0",
      "_view_name": "StyleView",
      "description_width": ""
     }
    },
    "fca77c9db7c3433fa58dcbd9d4134e21": {
     "model_module": "@jupyter-widgets/controls",
     "model_module_version": "1.5.0",
     "model_name": "DescriptionStyleModel",
     "state": {
      "_model_module": "@jupyter-widgets/controls",
      "_model_module_version": "1.5.0",
      "_model_name": "DescriptionStyleModel",
      "_view_count": null,
      "_view_module": "@jupyter-widgets/base",
      "_view_module_version": "1.2.0",
      "_view_name": "StyleView",
      "description_width": ""
     }
    },
    "fdb5bc933c624c9d92afd8e1eb9edb4a": {
     "model_module": "@jupyter-widgets/base",
     "model_module_version": "1.2.0",
     "model_name": "LayoutModel",
     "state": {
      "_model_module": "@jupyter-widgets/base",
      "_model_module_version": "1.2.0",
      "_model_name": "LayoutModel",
      "_view_count": null,
      "_view_module": "@jupyter-widgets/base",
      "_view_module_version": "1.2.0",
      "_view_name": "LayoutView",
      "align_content": null,
      "align_items": null,
      "align_self": null,
      "border": null,
      "bottom": null,
      "display": null,
      "flex": null,
      "flex_flow": null,
      "grid_area": null,
      "grid_auto_columns": null,
      "grid_auto_flow": null,
      "grid_auto_rows": null,
      "grid_column": null,
      "grid_gap": null,
      "grid_row": null,
      "grid_template_areas": null,
      "grid_template_columns": null,
      "grid_template_rows": null,
      "height": null,
      "justify_content": null,
      "justify_items": null,
      "left": null,
      "margin": null,
      "max_height": null,
      "max_width": null,
      "min_height": null,
      "min_width": null,
      "object_fit": null,
      "object_position": null,
      "order": null,
      "overflow": null,
      "overflow_x": null,
      "overflow_y": null,
      "padding": null,
      "right": null,
      "top": null,
      "visibility": null,
      "width": null
     }
    }
   }
  }
 },
 "nbformat": 4,
 "nbformat_minor": 0
}
