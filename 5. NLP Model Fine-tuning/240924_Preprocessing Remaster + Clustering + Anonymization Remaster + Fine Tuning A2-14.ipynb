{
 "cells": [
  {
   "cell_type": "markdown",
   "metadata": {
    "id": "7oiPopQbx5sS"
   },
   "source": [
    "## << pretreatment >>"
   ]
  },
  {
   "cell_type": "markdown",
   "metadata": {
    "id": "dhLGBPhj-nr3"
   },
   "source": [
    "### 1. Integration of data (when necessary)"
   ]
  },
  {
   "cell_type": "code",
   "execution_count": null,
   "metadata": {
    "colab": {
     "base_uri": "https://localhost:8080/"
    },
    "executionInfo": {
     "elapsed": 261557,
     "status": "ok",
     "timestamp": 1727430095245,
     "user": {
      "displayName": "백현지",
      "userId": "02510457579208942463"
     },
     "user_tz": -540
    },
    "id": "Y_BN5ccSJ9lO",
    "outputId": "00bc4aa2-d64a-4ccc-c904-f370351d0441"
   },
   "outputs": [
    {
     "name": "stderr",
     "output_type": "stream",
     "text": [
      "Reading files: 100%|██████████| 69/69 [03:22<00:00,  2.94s/it]\n",
      "Combining data: 100%|██████████| 69/69 [00:00<00:00, 186113.81it/s]\n"
     ]
    },
    {
     "name": "stdout",
     "output_type": "stream",
     "text": [
      "모든 기업 데이터를 통합했고, 'company' 컬럼을 추가했습니다.\n"
     ]
    }
   ],
   "source": [
    "import os\n",
    "import pandas as pd\n",
    "from tqdm import tqdm\n",
    "\n",
    "# File path setting\n",
    "base_path = '/content/drive/MyDrive/Kwargs/011. 뉴스 크롤링 결과/csv/'\n",
    "\n",
    "#File name format setting\n",
    "file_format = '_news_data.csv'\n",
    "\n",
    "# A list to integrate data from all companies\n",
    "all_data = []\n",
    "\n",
    "# Check all the files in the file path and read the file that fits the format\n",
    "file_list = [file_name for file_name in os.listdir(base_path) if file_name.endswith(file_format)]\n",
    "\n",
    "# Use TQDM to show the progress of the file reading process.\n",
    "for file_name in tqdm(file_list, desc=\"Reading files\"):\n",
    "# Extracting 'Company Name' (Remove '_news_data.csv' in the file name)\n",
    "    company_name = file_name.replace(file_format, '')\n",
    "\n",
    "# Read file\n",
    "    file_path = os.path.join(base_path, file_name)\n",
    "    df = pd.read_csv(file_path)\n",
    "\n",
    "# Add company column\n",
    "    df['company'] = company_name\n",
    "\n",
    "# Add to data frame list\n",
    "    all_data.append(df)\n",
    "\n",
    "# Integrate all data\n",
    "if all_data:\n",
    "# Use TQDM to show the progress of the data integration process.\n",
    "    combined_df = pd.concat(tqdm(all_data, desc=\"Combining data\"), ignore_index=True)\n",
    "\n",
    "# Change value of Company column\n",
    "    combined_df['company'] = combined_df['company'].replace('포스코 홀딩스', 'POSCO홀딩스')\n",
    "    combined_df['company'] = combined_df['company'].replace('GS 에너지', 'GS에너지')\n",
    "\n",
    "#Save integrated DataFrame as a file\n",
    "    combined_df.to_csv('/content/drive/MyDrive/Kwargs/011. 뉴스 크롤링 결과/A0_combined.csv', index=False)\n",
    "\n",
    "    print(\"모든 기업 데이터를 통합했고, 'company' 컬럼을 추가했습니다.\")\n",
    "else:\n",
    "    print(\"통합할 데이터가 없습니다.\")\n"
   ]
  },
  {
   "cell_type": "code",
   "execution_count": null,
   "metadata": {
    "colab": {
     "base_uri": "https://localhost:8080/",
     "height": 313
    },
    "executionInfo": {
     "elapsed": 10,
     "status": "ok",
     "timestamp": 1727430289109,
     "user": {
      "displayName": "백현지",
      "userId": "02510457579208942463"
     },
     "user_tz": -540
    },
    "id": "rtZDA5ml3loY",
    "outputId": "61c668a3-3e47-4741-f852-a7253ba64a14"
   },
   "outputs": [
    {
     "data": {
      "application/vnd.google.colaboratory.intrinsic+json": {
       "type": "dataframe",
       "variable_name": "combined_df"
      },
      "text/html": [
       "\n",
       "  <div id=\"df-f7e4fa76-727e-4dec-bf6b-71547e7f6be7\" class=\"colab-df-container\">\n",
       "    <div>\n",
       "<style scoped>\n",
       "    .dataframe tbody tr th:only-of-type {\n",
       "        vertical-align: middle;\n",
       "    }\n",
       "\n",
       "    .dataframe tbody tr th {\n",
       "        vertical-align: top;\n",
       "    }\n",
       "\n",
       "    .dataframe thead th {\n",
       "        text-align: right;\n",
       "    }\n",
       "</style>\n",
       "<table border=\"1\" class=\"dataframe\">\n",
       "  <thead>\n",
       "    <tr style=\"text-align: right;\">\n",
       "      <th></th>\n",
       "      <th>title</th>\n",
       "      <th>date</th>\n",
       "      <th>content</th>\n",
       "      <th>category</th>\n",
       "      <th>company</th>\n",
       "    </tr>\n",
       "  </thead>\n",
       "  <tbody>\n",
       "    <tr>\n",
       "      <th>0</th>\n",
       "      <td>“덜 준 보험금 달라” 2000명 무더기 신청…보험사는 ‘좌불안석’</td>\n",
       "      <td>2019-01-15 06:01:01</td>\n",
       "      <td>- 금감원에 ''즉시연금'' 민원 몰려- 70%가 삼성·한화·교보생명에 집중- 소멸...</td>\n",
       "      <td>경제</td>\n",
       "      <td>삼성생명</td>\n",
       "    </tr>\n",
       "    <tr>\n",
       "      <th>1</th>\n",
       "      <td>KEB하나은행 신지현 '빠른 드리블'</td>\n",
       "      <td>2019-02-18 19:24:58</td>\n",
       "      <td>(부천뉴스1) 정진욱 기자  18일 오후 경기도 부천체육관에서 열린 ‘2018-20...</td>\n",
       "      <td>사회</td>\n",
       "      <td>삼성생명</td>\n",
       "    </tr>\n",
       "    <tr>\n",
       "      <th>2</th>\n",
       "      <td>ET투자뉴스]LG_관련종목들 중에서 변동성은 낮지만 수익률은 높아</td>\n",
       "      <td>2019-01-15 14:30:01</td>\n",
       "      <td>관련종목들 중에서 변동성은 낮지만 수익률은 높아 15일 오후 2시20분 현재 전일...</td>\n",
       "      <td>경제</td>\n",
       "      <td>삼성생명</td>\n",
       "    </tr>\n",
       "    <tr>\n",
       "      <th>3</th>\n",
       "      <td>이동걸식 대우조선해양 해법은 '국민혈세 몰아주기'?</td>\n",
       "      <td>2019-02-07 09:22:15</td>\n",
       "      <td>한국GM에 가성비 논리를 펴가며 8000여억원의 자금을 지원한 이동걸 KDB산업은행...</td>\n",
       "      <td>경제</td>\n",
       "      <td>삼성생명</td>\n",
       "    </tr>\n",
       "    <tr>\n",
       "      <th>4</th>\n",
       "      <td>ET투자뉴스]SK이노베이_상장주식수 대비 거래량은 0.3%로 적정수준</td>\n",
       "      <td>2019-01-09 13:05:41</td>\n",
       "      <td>위험대비수익률 -2.4, 업종평균대비 성과 좋아 9일 오후 12시20분 현재 전일...</td>\n",
       "      <td>경제</td>\n",
       "      <td>삼성생명</td>\n",
       "    </tr>\n",
       "  </tbody>\n",
       "</table>\n",
       "</div>\n",
       "    <div class=\"colab-df-buttons\">\n",
       "\n",
       "  <div class=\"colab-df-container\">\n",
       "    <button class=\"colab-df-convert\" onclick=\"convertToInteractive('df-f7e4fa76-727e-4dec-bf6b-71547e7f6be7')\"\n",
       "            title=\"Convert this dataframe to an interactive table.\"\n",
       "            style=\"display:none;\">\n",
       "\n",
       "  <svg xmlns=\"http://www.w3.org/2000/svg\" height=\"24px\" viewBox=\"0 -960 960 960\">\n",
       "    <path d=\"M120-120v-720h720v720H120Zm60-500h600v-160H180v160Zm220 220h160v-160H400v160Zm0 220h160v-160H400v160ZM180-400h160v-160H180v160Zm440 0h160v-160H620v160ZM180-180h160v-160H180v160Zm440 0h160v-160H620v160Z\"/>\n",
       "  </svg>\n",
       "    </button>\n",
       "\n",
       "  <style>\n",
       "    .colab-df-container {\n",
       "      display:flex;\n",
       "      gap: 12px;\n",
       "    }\n",
       "\n",
       "    .colab-df-convert {\n",
       "      background-color: #E8F0FE;\n",
       "      border: none;\n",
       "      border-radius: 50%;\n",
       "      cursor: pointer;\n",
       "      display: none;\n",
       "      fill: #1967D2;\n",
       "      height: 32px;\n",
       "      padding: 0 0 0 0;\n",
       "      width: 32px;\n",
       "    }\n",
       "\n",
       "    .colab-df-convert:hover {\n",
       "      background-color: #E2EBFA;\n",
       "      box-shadow: 0px 1px 2px rgba(60, 64, 67, 0.3), 0px 1px 3px 1px rgba(60, 64, 67, 0.15);\n",
       "      fill: #174EA6;\n",
       "    }\n",
       "\n",
       "    .colab-df-buttons div {\n",
       "      margin-bottom: 4px;\n",
       "    }\n",
       "\n",
       "    [theme=dark] .colab-df-convert {\n",
       "      background-color: #3B4455;\n",
       "      fill: #D2E3FC;\n",
       "    }\n",
       "\n",
       "    [theme=dark] .colab-df-convert:hover {\n",
       "      background-color: #434B5C;\n",
       "      box-shadow: 0px 1px 3px 1px rgba(0, 0, 0, 0.15);\n",
       "      filter: drop-shadow(0px 1px 2px rgba(0, 0, 0, 0.3));\n",
       "      fill: #FFFFFF;\n",
       "    }\n",
       "  </style>\n",
       "\n",
       "    <script>\n",
       "      const buttonEl =\n",
       "        document.querySelector('#df-f7e4fa76-727e-4dec-bf6b-71547e7f6be7 button.colab-df-convert');\n",
       "      buttonEl.style.display =\n",
       "        google.colab.kernel.accessAllowed ? 'block' : 'none';\n",
       "\n",
       "      async function convertToInteractive(key) {\n",
       "        const element = document.querySelector('#df-f7e4fa76-727e-4dec-bf6b-71547e7f6be7');\n",
       "        const dataTable =\n",
       "          await google.colab.kernel.invokeFunction('convertToInteractive',\n",
       "                                                    [key], {});\n",
       "        if (!dataTable) return;\n",
       "\n",
       "        const docLinkHtml = 'Like what you see? Visit the ' +\n",
       "          '<a target=\"_blank\" href=https://colab.research.google.com/notebooks/data_table.ipynb>data table notebook</a>'\n",
       "          + ' to learn more about interactive tables.';\n",
       "        element.innerHTML = '';\n",
       "        dataTable['output_type'] = 'display_data';\n",
       "        await google.colab.output.renderOutput(dataTable, element);\n",
       "        const docLink = document.createElement('div');\n",
       "        docLink.innerHTML = docLinkHtml;\n",
       "        element.appendChild(docLink);\n",
       "      }\n",
       "    </script>\n",
       "  </div>\n",
       "\n",
       "\n",
       "<div id=\"df-cf6188ef-1724-40f0-8695-d46f5e09a0fc\">\n",
       "  <button class=\"colab-df-quickchart\" onclick=\"quickchart('df-cf6188ef-1724-40f0-8695-d46f5e09a0fc')\"\n",
       "            title=\"Suggest charts\"\n",
       "            style=\"display:none;\">\n",
       "\n",
       "<svg xmlns=\"http://www.w3.org/2000/svg\" height=\"24px\"viewBox=\"0 0 24 24\"\n",
       "     width=\"24px\">\n",
       "    <g>\n",
       "        <path d=\"M19 3H5c-1.1 0-2 .9-2 2v14c0 1.1.9 2 2 2h14c1.1 0 2-.9 2-2V5c0-1.1-.9-2-2-2zM9 17H7v-7h2v7zm4 0h-2V7h2v10zm4 0h-2v-4h2v4z\"/>\n",
       "    </g>\n",
       "</svg>\n",
       "  </button>\n",
       "\n",
       "<style>\n",
       "  .colab-df-quickchart {\n",
       "      --bg-color: #E8F0FE;\n",
       "      --fill-color: #1967D2;\n",
       "      --hover-bg-color: #E2EBFA;\n",
       "      --hover-fill-color: #174EA6;\n",
       "      --disabled-fill-color: #AAA;\n",
       "      --disabled-bg-color: #DDD;\n",
       "  }\n",
       "\n",
       "  [theme=dark] .colab-df-quickchart {\n",
       "      --bg-color: #3B4455;\n",
       "      --fill-color: #D2E3FC;\n",
       "      --hover-bg-color: #434B5C;\n",
       "      --hover-fill-color: #FFFFFF;\n",
       "      --disabled-bg-color: #3B4455;\n",
       "      --disabled-fill-color: #666;\n",
       "  }\n",
       "\n",
       "  .colab-df-quickchart {\n",
       "    background-color: var(--bg-color);\n",
       "    border: none;\n",
       "    border-radius: 50%;\n",
       "    cursor: pointer;\n",
       "    display: none;\n",
       "    fill: var(--fill-color);\n",
       "    height: 32px;\n",
       "    padding: 0;\n",
       "    width: 32px;\n",
       "  }\n",
       "\n",
       "  .colab-df-quickchart:hover {\n",
       "    background-color: var(--hover-bg-color);\n",
       "    box-shadow: 0 1px 2px rgba(60, 64, 67, 0.3), 0 1px 3px 1px rgba(60, 64, 67, 0.15);\n",
       "    fill: var(--button-hover-fill-color);\n",
       "  }\n",
       "\n",
       "  .colab-df-quickchart-complete:disabled,\n",
       "  .colab-df-quickchart-complete:disabled:hover {\n",
       "    background-color: var(--disabled-bg-color);\n",
       "    fill: var(--disabled-fill-color);\n",
       "    box-shadow: none;\n",
       "  }\n",
       "\n",
       "  .colab-df-spinner {\n",
       "    border: 2px solid var(--fill-color);\n",
       "    border-color: transparent;\n",
       "    border-bottom-color: var(--fill-color);\n",
       "    animation:\n",
       "      spin 1s steps(1) infinite;\n",
       "  }\n",
       "\n",
       "  @keyframes spin {\n",
       "    0% {\n",
       "      border-color: transparent;\n",
       "      border-bottom-color: var(--fill-color);\n",
       "      border-left-color: var(--fill-color);\n",
       "    }\n",
       "    20% {\n",
       "      border-color: transparent;\n",
       "      border-left-color: var(--fill-color);\n",
       "      border-top-color: var(--fill-color);\n",
       "    }\n",
       "    30% {\n",
       "      border-color: transparent;\n",
       "      border-left-color: var(--fill-color);\n",
       "      border-top-color: var(--fill-color);\n",
       "      border-right-color: var(--fill-color);\n",
       "    }\n",
       "    40% {\n",
       "      border-color: transparent;\n",
       "      border-right-color: var(--fill-color);\n",
       "      border-top-color: var(--fill-color);\n",
       "    }\n",
       "    60% {\n",
       "      border-color: transparent;\n",
       "      border-right-color: var(--fill-color);\n",
       "    }\n",
       "    80% {\n",
       "      border-color: transparent;\n",
       "      border-right-color: var(--fill-color);\n",
       "      border-bottom-color: var(--fill-color);\n",
       "    }\n",
       "    90% {\n",
       "      border-color: transparent;\n",
       "      border-bottom-color: var(--fill-color);\n",
       "    }\n",
       "  }\n",
       "</style>\n",
       "\n",
       "  <script>\n",
       "    async function quickchart(key) {\n",
       "      const quickchartButtonEl =\n",
       "        document.querySelector('#' + key + ' button');\n",
       "      quickchartButtonEl.disabled = true;  // To prevent multiple clicks.\n",
       "      quickchartButtonEl.classList.add('colab-df-spinner');\n",
       "      try {\n",
       "        const charts = await google.colab.kernel.invokeFunction(\n",
       "            'suggestCharts', [key], {});\n",
       "      } catch (error) {\n",
       "        console.error('Error during call to suggestCharts:', error);\n",
       "      }\n",
       "      quickchartButtonEl.classList.remove('colab-df-spinner');\n",
       "      quickchartButtonEl.classList.add('colab-df-quickchart-complete');\n",
       "    }\n",
       "    (() => {\n",
       "      let quickchartButtonEl =\n",
       "        document.querySelector('#df-cf6188ef-1724-40f0-8695-d46f5e09a0fc button');\n",
       "      quickchartButtonEl.style.display =\n",
       "        google.colab.kernel.accessAllowed ? 'block' : 'none';\n",
       "    })();\n",
       "  </script>\n",
       "</div>\n",
       "\n",
       "    </div>\n",
       "  </div>\n"
      ],
      "text/plain": [
       "                                    title                 date  \\\n",
       "0   “덜 준 보험금 달라” 2000명 무더기 신청…보험사는 ‘좌불안석’  2019-01-15 06:01:01   \n",
       "1                    KEB하나은행 신지현 '빠른 드리블'  2019-02-18 19:24:58   \n",
       "2    ET투자뉴스]LG_관련종목들 중에서 변동성은 낮지만 수익률은 높아  2019-01-15 14:30:01   \n",
       "3            이동걸식 대우조선해양 해법은 '국민혈세 몰아주기'?  2019-02-07 09:22:15   \n",
       "4  ET투자뉴스]SK이노베이_상장주식수 대비 거래량은 0.3%로 적정수준  2019-01-09 13:05:41   \n",
       "\n",
       "                                             content category       company  \n",
       "0  - 금감원에 ''즉시연금'' 민원 몰려- 70%가 삼성·한화·교보생명에 집중- 소멸...       경제  삼성생명  \n",
       "1  (부천뉴스1) 정진욱 기자  18일 오후 경기도 부천체육관에서 열린 ‘2018-20...       사회  삼성생명  \n",
       "2   관련종목들 중에서 변동성은 낮지만 수익률은 높아 15일 오후 2시20분 현재 전일...       경제  삼성생명  \n",
       "3  한국GM에 가성비 논리를 펴가며 8000여억원의 자금을 지원한 이동걸 KDB산업은행...       경제  삼성생명  \n",
       "4   위험대비수익률 -2.4, 업종평균대비 성과 좋아 9일 오후 12시20분 현재 전일...       경제  삼성생명  "
      ]
     },
     "execution_count": 8,
     "metadata": {},
     "output_type": "execute_result"
    }
   ],
   "source": [
    "combined_df.head()"
   ]
  },
  {
   "cell_type": "code",
   "execution_count": null,
   "metadata": {
    "colab": {
     "base_uri": "https://localhost:8080/"
    },
    "executionInfo": {
     "elapsed": 391,
     "status": "ok",
     "timestamp": 1727434832673,
     "user": {
      "displayName": "백현지",
      "userId": "02510457579208942463"
     },
     "user_tz": -540
    },
    "id": "QoDcMZWC1Psk",
    "outputId": "ad1371e4-7b6a-45c7-ff02-cd2fd581eeea"
   },
   "outputs": [
    {
     "data": {
      "text/plain": [
       "(1383707, 5)"
      ]
     },
     "execution_count": 15,
     "metadata": {},
     "output_type": "execute_result"
    }
   ],
   "source": [
    "combined_df.shape"
   ]
  },
  {
   "cell_type": "markdown",
   "metadata": {
    "id": "Gq-C4mKqwMpG"
   },
   "source": [
    "### 2. Text clustering to remove sports, subcommittee, stock chirashi (planned)\n",
    "\n",
    "https://colab.Research.google.com/drive/1bcWkxg8zbccxi7mmqcilex2wchbeor#sscrollto=EKT3-UDEL1ZD"
   ]
  },
  {
   "cell_type": "code",
   "execution_count": null,
   "metadata": {
    "id": "q4bV_T2YwYAT"
   },
   "outputs": [],
   "source": [
    "### You have to write. # https://chatgpt.com/c/66f6f0d0-4c84-8006-bfab-99018660CF34\n",
    "#Un\n"
   ]
  },
  {
   "cell_type": "markdown",
   "metadata": {
    "id": "xgoQCGbvIH4C"
   },
   "source": [
    "### 3. Text pretreatment"
   ]
  },
  {
   "cell_type": "code",
   "execution_count": null,
   "metadata": {
    "id": "DSQqet_-VdZ6"
   },
   "outputs": [],
   "source": [
    "#df = combined_df.copy()\n",
    "df = pd.read_csv('/content/drive/MyDrive/Kwargs/011. 뉴스 크롤링 결과/A0_combined.csv')"
   ]
  },
  {
   "cell_type": "code",
   "execution_count": null,
   "metadata": {
    "colab": {
     "base_uri": "https://localhost:8080/"
    },
    "executionInfo": {
     "elapsed": 382967,
     "status": "ok",
     "timestamp": 1727450994130,
     "user": {
      "displayName": "백현지",
      "userId": "02510457579208942463"
     },
     "user_tz": -540
    },
    "id": "5sAfiSW_ILO0",
    "outputId": "4b650a09-0e64-4cd0-9b6f-fb82b2da23cc"
   },
   "outputs": [
    {
     "name": "stderr",
     "output_type": "stream",
     "text": [
      "100%|██████████| 1383707/1383707 [06:22<00:00, 3621.51it/s]\n"
     ]
    },
    {
     "data": {
      "application/vnd.google.colaboratory.intrinsic+json": {
       "repr_error": "0",
       "type": "dataframe"
      },
      "text/html": [
       "\n",
       "  <div id=\"df-359f8a87-2f66-49b5-8bc0-fdb350f143e3\" class=\"colab-df-container\">\n",
       "    <div>\n",
       "<style scoped>\n",
       "    .dataframe tbody tr th:only-of-type {\n",
       "        vertical-align: middle;\n",
       "    }\n",
       "\n",
       "    .dataframe tbody tr th {\n",
       "        vertical-align: top;\n",
       "    }\n",
       "\n",
       "    .dataframe thead th {\n",
       "        text-align: right;\n",
       "    }\n",
       "</style>\n",
       "<table border=\"1\" class=\"dataframe\">\n",
       "  <thead>\n",
       "    <tr style=\"text-align: right;\">\n",
       "      <th></th>\n",
       "      <th>title</th>\n",
       "      <th>date</th>\n",
       "      <th>content</th>\n",
       "      <th>category</th>\n",
       "      <th>company</th>\n",
       "    </tr>\n",
       "  </thead>\n",
       "  <tbody>\n",
       "    <tr>\n",
       "      <th>220736</th>\n",
       "      <td>'미래 탄소 가격까지 따진다'···SK이노베이션, 넷제로 리더십 강화</td>\n",
       "      <td>2022-11-27 10:05:59</td>\n",
       "      <td>SK이노베이션이 미래 탄소 가격 변화를 반영해 투자 안건 심의에 적용, 탄소 배출량...</td>\n",
       "      <td>경제</td>\n",
       "      <td>sk이노베이션</td>\n",
       "    </tr>\n",
       "  </tbody>\n",
       "</table>\n",
       "</div>\n",
       "    <div class=\"colab-df-buttons\">\n",
       "\n",
       "  <div class=\"colab-df-container\">\n",
       "    <button class=\"colab-df-convert\" onclick=\"convertToInteractive('df-359f8a87-2f66-49b5-8bc0-fdb350f143e3')\"\n",
       "            title=\"Convert this dataframe to an interactive table.\"\n",
       "            style=\"display:none;\">\n",
       "\n",
       "  <svg xmlns=\"http://www.w3.org/2000/svg\" height=\"24px\" viewBox=\"0 -960 960 960\">\n",
       "    <path d=\"M120-120v-720h720v720H120Zm60-500h600v-160H180v160Zm220 220h160v-160H400v160Zm0 220h160v-160H400v160ZM180-400h160v-160H180v160Zm440 0h160v-160H620v160ZM180-180h160v-160H180v160Zm440 0h160v-160H620v160Z\"/>\n",
       "  </svg>\n",
       "    </button>\n",
       "\n",
       "  <style>\n",
       "    .colab-df-container {\n",
       "      display:flex;\n",
       "      gap: 12px;\n",
       "    }\n",
       "\n",
       "    .colab-df-convert {\n",
       "      background-color: #E8F0FE;\n",
       "      border: none;\n",
       "      border-radius: 50%;\n",
       "      cursor: pointer;\n",
       "      display: none;\n",
       "      fill: #1967D2;\n",
       "      height: 32px;\n",
       "      padding: 0 0 0 0;\n",
       "      width: 32px;\n",
       "    }\n",
       "\n",
       "    .colab-df-convert:hover {\n",
       "      background-color: #E2EBFA;\n",
       "      box-shadow: 0px 1px 2px rgba(60, 64, 67, 0.3), 0px 1px 3px 1px rgba(60, 64, 67, 0.15);\n",
       "      fill: #174EA6;\n",
       "    }\n",
       "\n",
       "    .colab-df-buttons div {\n",
       "      margin-bottom: 4px;\n",
       "    }\n",
       "\n",
       "    [theme=dark] .colab-df-convert {\n",
       "      background-color: #3B4455;\n",
       "      fill: #D2E3FC;\n",
       "    }\n",
       "\n",
       "    [theme=dark] .colab-df-convert:hover {\n",
       "      background-color: #434B5C;\n",
       "      box-shadow: 0px 1px 3px 1px rgba(0, 0, 0, 0.15);\n",
       "      filter: drop-shadow(0px 1px 2px rgba(0, 0, 0, 0.3));\n",
       "      fill: #FFFFFF;\n",
       "    }\n",
       "  </style>\n",
       "\n",
       "    <script>\n",
       "      const buttonEl =\n",
       "        document.querySelector('#df-359f8a87-2f66-49b5-8bc0-fdb350f143e3 button.colab-df-convert');\n",
       "      buttonEl.style.display =\n",
       "        google.colab.kernel.accessAllowed ? 'block' : 'none';\n",
       "\n",
       "      async function convertToInteractive(key) {\n",
       "        const element = document.querySelector('#df-359f8a87-2f66-49b5-8bc0-fdb350f143e3');\n",
       "        const dataTable =\n",
       "          await google.colab.kernel.invokeFunction('convertToInteractive',\n",
       "                                                    [key], {});\n",
       "        if (!dataTable) return;\n",
       "\n",
       "        const docLinkHtml = 'Like what you see? Visit the ' +\n",
       "          '<a target=\"_blank\" href=https://colab.research.google.com/notebooks/data_table.ipynb>data table notebook</a>'\n",
       "          + ' to learn more about interactive tables.';\n",
       "        element.innerHTML = '';\n",
       "        dataTable['output_type'] = 'display_data';\n",
       "        await google.colab.output.renderOutput(dataTable, element);\n",
       "        const docLink = document.createElement('div');\n",
       "        docLink.innerHTML = docLinkHtml;\n",
       "        element.appendChild(docLink);\n",
       "      }\n",
       "    </script>\n",
       "  </div>\n",
       "\n",
       "\n",
       "    </div>\n",
       "  </div>\n"
      ],
      "text/plain": [
       "                                         title                 date  \\\n",
       "220736  '미래 탄소 가격까지 따진다'···SK이노베이션, 넷제로 리더십 강화  2022-11-27 10:05:59   \n",
       "\n",
       "                                                  content category  \\\n",
       "220736  SK이노베이션이 미래 탄소 가격 변화를 반영해 투자 안건 심의에 적용, 탄소 배출량...       경제   \n",
       "\n",
       "              company  \n",
       "220736  sk이노베이션  "
      ]
     },
     "execution_count": 6,
     "metadata": {},
     "output_type": "execute_result"
    }
   ],
   "source": [
    "from tqdm import tqdm\n",
    "import pandas as pd\n",
    "import re\n",
    "\n",
    "# The last anti -processing function by media company\n",
    "def process_article_footer(text):\n",
    "# Definition of patterns by media company\n",
    "    patterns = {\n",
    "        \"서울경제\": [r'저작권자\\s서울경제.*?전재\\s및\\s재배포\\s금지', r'@sedaily\\.com'],\n",
    "        \"파이낸셜뉴스\": [r'저작권자\\s파이낸셜뉴스.*?무단\\s전재-재배포\\s금지', r'@fnnews\\.com'],\n",
    "        \"쿠키뉴스\": [r'무단전재\\s및\\s재배포금지', r'@kukinews\\.com'],\n",
    "        \"이데일리\": [r'＜종합\\s경제정보\\s미디어\\s이데일리\\s-\\s무단전재\\s재배포\\s금지＞', r'@edaily\\.co\\.kr'],\n",
    "        \"중앙일보\": [r'중앙일보.*?무단\\s전재\\s및\\s재배포\\s금지', r'@joongang\\.co\\.kr'],\n",
    "        \"조선비즈\": [r'저작권자\\s조선비즈.*?무단\\s전재\\s및\\s재배포\\s금지', r'@chosunbiz\\.com'],\n",
    "        \"데일리안\": [r'데일리안\\s-\\s무단전재,\\s변형,\\s무단배포\\s금지', r'@dailian\\.co\\.kr'],\n",
    "        \"머니투데이\": [r'머니투데이.*?기자', r'@mt\\.co\\.kr'],\n",
    "        \"더팩트\": [r'저작권자\\s특종에\\s강한\\s더팩트.*?재배포\\s금지', r'@tf\\.co\\.kr'],\n",
    "        \"매일경제\": [r'저작권자\\s매일경제.*?mk\\.co\\.kr', r'@mk\\.co\\.kr'],\n",
    "        \"연합뉴스\": [r'연합뉴스TV.*?제보', r'@yna\\.co\\.kr'],\n",
    "        \"한국경제\": [r'저작권자\\s한국경제.*?', r'@hankyung\\.com'],\n",
    "        \"아시아경제\": [r'@asiae\\.co\\.kr', r'아시아경제'],\n",
    "        \"전자신문\": [r'전자신문.*?전자신문인터넷', r'@etnews\\.com'],\n",
    "        \"CBS노컷뉴스\": [r'©\\s뉴스1코리아.*?무단\\s전재\\s및\\s재배포\\s금지', r'@cbs\\.co\\.kr'],\n",
    "        \"아이뉴스24\": [r'아이뉴스24.*?', r'@inews24\\.com']\n",
    "    }\n",
    "\n",
    "    for agency, agency_patterns in patterns.items():\n",
    "        for pattern in agency_patterns:\n",
    "            if len(text) > 200:\n",
    "                last_200_chars = text[-200:]\n",
    "                last_200_chars = re.sub(pattern, '', last_200_chars)\n",
    "                text = text[:-200] + last_200_chars\n",
    "            else:\n",
    "                text = re.sub(pattern, '', text)\n",
    "\n",
    "    return text\n",
    "\n",
    "#Protocation function related to the reporter's name\n",
    "def remove_trailing_journalist_name(text):\n",
    "    if not text.endswith('.'):\n",
    "        last_chars = text[-4:] if len(text) >= 4 else ''\n",
    "\n",
    "        if last_chars:\n",
    "            if last_chars[0] in ['.', ' ']:\n",
    "                text = text[:-4] + last_chars[0]\n",
    "            elif last_chars[0] == '다':\n",
    "                text = text[:-4] + \"다\"\n",
    "    return text\n",
    "\n",
    "# Pre -treatment function (including all text deletion after certain phrases)\n",
    "def preprocess_article(text):\n",
    "    special_patterns = [\n",
    "        r'CBS노컷뉴스는\\s여러분의\\s제보로',\n",
    "        r'유튜브와\\s포털에서\\s각각',\n",
    "        r'저작권자\\.\\s*c\\.\\s*오마이뉴스',\n",
    "        r'본\\s기사는',\n",
    "        r'특별취재팀',\n",
    "        r'https?:\\/\\/[^\\s]+',\n",
    "        r'기자\\s?[A-Za-z]+\\s?[A-Za-z]*@[^\\s]+',\n",
    "        r'[가-힣]+\\s기자\\s?[가-힣]+\\s?[A-Za-z0-9._%+-]+@[A-Za-z0-9.-]+\\.[A-Z|a-z]{2,}',\n",
    "        r'[가-힣]+\\s기자',\n",
    "        r'(?:\\s|^)' + r'발로 뛰는 더팩트는',\n",
    "        r'네이버 홈에서',\n",
    "        r'＜종합 경제정보',\n",
    "        r'세상을 보는 눈,',\n",
    "        r'당신의 제보가',\n",
    "        r'WEEKLY BIZ Newsletter',\n",
    "        r'제보하기 :'\n",
    "    ]\n",
    "\n",
    "    for pattern in special_patterns:\n",
    "        text = safe_remove_pattern(text, pattern)\n",
    "\n",
    "# All text removal after email\n",
    "    text = re.sub(r'[A-Za-z0-9._%+-]+@[A-Za-z0-9.-]+\\.[A-Z|a-z]{2,}.*(기자|무단\\s전재|재배포\\s금지).*', '', text, flags=re.IGNORECASE)\n",
    "\n",
    "#Remove the reporter's name and pattern\n",
    "    text = re.sub(r'\\b[가-힣]{2,4}기자\\b|\\b[가-힣]{2,4} 기자\\b', '', text)\n",
    "\n",
    "# Remove the later promotional phrase after removing the email in parentheses\n",
    "    text = re.sub(r'\\([A-Za-z0-9._%+-]+@[A-Za-z0-9.-]+\\.[A-Z|a-z]{2,}.*?\\)', '', text)\n",
    "\n",
    "#Remove promotional phrases\n",
    "    text = re.sub(r'네이버에서.*?뉴스 확인', '', text)\n",
    "    text = re.sub(r'연합뉴스TV.*?입니다.', '', text)\n",
    "\n",
    "#Metter information removal\n",
    "    meta_patterns = [\n",
    "        r'저작권자\\s.+?\\s무단\\s전재\\s및\\s재배포\\s금지',\n",
    "        r'무단\\s전재-재배포\\s금지',\n",
    "        r'GoodNews paper',\n",
    "        r'제보\\s이메일',\n",
    "        r'카카오톡',\n",
    "        r'네이버\\s홈에서\\s‘.+?’\\s뉴스',\n",
    "        r'\\(사진연합뉴스\\)',\n",
    "        r'종합\\s경제정보\\s미디어\\s-\\s무단전재\\s재배포\\s금지',\n",
    "        r'뉴스\\s홈페이지',\n",
    "        r'기자문의\\s및\\s제보'\n",
    "    ]\n",
    "\n",
    "    for pattern in meta_patterns:\n",
    "        text = re.sub(pattern, '', text)\n",
    "\n",
    "#Great theorem\n",
    "    text = re.sub(r'\\s+', ' ', text).strip()\n",
    "\n",
    "# Last half -handling by media company\n",
    "    text = process_article_footer(text)\n",
    "\n",
    "#Check that the reporter's name remains, remove it\n",
    "    text = remove_trailing_journalist_name(text)\n",
    "\n",
    "# Divide into a sentence unit and leave only meaningful sentences\n",
    "    sentences = text.split('. ')\n",
    "    filtered_sentences = [sentence for sentence in sentences if len(sentence.strip()) > 10 or sentence.isupper()]\n",
    "\n",
    "# Combined with text again\n",
    "    return '. '.join(filtered_sentences)\n",
    "\n",
    "# Safe pattern removal function (only within the last 200 characters)\n",
    "def safe_remove_pattern(text, pattern):\n",
    "    if len(text) > 200:\n",
    "        last_200_chars = text[-200:]\n",
    "        last_200_chars = re.sub(pattern + r'.*', '', last_200_chars)\n",
    "        text = text[:-200] + last_200_chars\n",
    "    return text\n",
    "\n",
    "tqdm.pandas()\n",
    "df['content'] = df['content'].progress_apply(preprocess_article)\n",
    "\n",
    "# Add'Cleaned_Content 'column to the original DF\n",
    "processed_df = df.copy()\n",
    "\n",
    "#Save as Processed_df\n",
    "processed_df.to_csv('/content/drive/MyDrive/Kwargs/011. 뉴스 크롤링 결과/A0_combined_preprocessed.csv', index=False)\n",
    "processed_df.sample()"
   ]
  },
  {
   "cell_type": "markdown",
   "metadata": {
    "id": "sBFzxukYQMHq"
   },
   "source": [
    "### 4. Save divided by batch"
   ]
  },
  {
   "cell_type": "code",
   "execution_count": null,
   "metadata": {
    "colab": {
     "base_uri": "https://localhost:8080/"
    },
    "executionInfo": {
     "elapsed": 210396,
     "status": "ok",
     "timestamp": 1727458275054,
     "user": {
      "displayName": "백현지",
      "userId": "02510457579208942463"
     },
     "user_tz": -540
    },
    "id": "6pt-0yGzQLVI",
    "outputId": "037c1dfb-9a48-45eb-fa79-6bdf363338a7"
   },
   "outputs": [
    {
     "name": "stderr",
     "output_type": "stream",
     "text": [
      "데이터셋 나누기:   1%|          | 1/139 [00:03<07:54,  3.44s/it]"
     ]
    },
    {
     "name": "stdout",
     "output_type": "stream",
     "text": [
      "Batch 0 저장 완료: 0 ~ 9999행\n"
     ]
    },
    {
     "name": "stderr",
     "output_type": "stream",
     "text": [
      "\r",
      "데이터셋 나누기:   1%|▏         | 2/139 [00:04<04:19,  1.89s/it]"
     ]
    },
    {
     "name": "stdout",
     "output_type": "stream",
     "text": [
      "Batch 1 저장 완료: 9999 ~ 19998행\n"
     ]
    },
    {
     "name": "stderr",
     "output_type": "stream",
     "text": [
      "\r",
      "데이터셋 나누기:   2%|▏         | 3/139 [00:05<03:11,  1.41s/it]"
     ]
    },
    {
     "name": "stdout",
     "output_type": "stream",
     "text": [
      "Batch 2 저장 완료: 19998 ~ 29997행\n"
     ]
    },
    {
     "name": "stderr",
     "output_type": "stream",
     "text": [
      "\r",
      "데이터셋 나누기:   3%|▎         | 4/139 [00:05<02:34,  1.15s/it]"
     ]
    },
    {
     "name": "stdout",
     "output_type": "stream",
     "text": [
      "Batch 3 저장 완료: 29997 ~ 39996행\n"
     ]
    },
    {
     "name": "stderr",
     "output_type": "stream",
     "text": [
      "\r",
      "데이터셋 나누기:   4%|▎         | 5/139 [00:06<02:16,  1.02s/it]"
     ]
    },
    {
     "name": "stdout",
     "output_type": "stream",
     "text": [
      "Batch 4 저장 완료: 39996 ~ 49995행\n"
     ]
    },
    {
     "name": "stderr",
     "output_type": "stream",
     "text": [
      "\r",
      "데이터셋 나누기:   4%|▍         | 6/139 [00:07<02:03,  1.08it/s]"
     ]
    },
    {
     "name": "stdout",
     "output_type": "stream",
     "text": [
      "Batch 5 저장 완료: 49995 ~ 59994행\n"
     ]
    },
    {
     "name": "stderr",
     "output_type": "stream",
     "text": [
      "\r",
      "데이터셋 나누기:   5%|▌         | 7/139 [00:08<01:57,  1.13it/s]"
     ]
    },
    {
     "name": "stdout",
     "output_type": "stream",
     "text": [
      "Batch 6 저장 완료: 59994 ~ 69993행\n"
     ]
    },
    {
     "name": "stderr",
     "output_type": "stream",
     "text": [
      "\r",
      "데이터셋 나누기:   6%|▌         | 8/139 [00:09<01:54,  1.15it/s]"
     ]
    },
    {
     "name": "stdout",
     "output_type": "stream",
     "text": [
      "Batch 7 저장 완료: 69993 ~ 79992행\n"
     ]
    },
    {
     "name": "stderr",
     "output_type": "stream",
     "text": [
      "\r",
      "데이터셋 나누기:   6%|▋         | 9/139 [00:10<02:15,  1.04s/it]"
     ]
    },
    {
     "name": "stdout",
     "output_type": "stream",
     "text": [
      "Batch 8 저장 완료: 79992 ~ 89991행\n"
     ]
    },
    {
     "name": "stderr",
     "output_type": "stream",
     "text": [
      "\r",
      "데이터셋 나누기:   7%|▋         | 10/139 [00:11<02:10,  1.02s/it]"
     ]
    },
    {
     "name": "stdout",
     "output_type": "stream",
     "text": [
      "Batch 9 저장 완료: 89991 ~ 99990행\n"
     ]
    },
    {
     "name": "stderr",
     "output_type": "stream",
     "text": [
      "\r",
      "데이터셋 나누기:   8%|▊         | 11/139 [00:12<02:07,  1.00it/s]"
     ]
    },
    {
     "name": "stdout",
     "output_type": "stream",
     "text": [
      "Batch 10 저장 완료: 99990 ~ 109989행\n"
     ]
    },
    {
     "name": "stderr",
     "output_type": "stream",
     "text": [
      "\r",
      "데이터셋 나누기:   9%|▊         | 12/139 [00:13<01:54,  1.10it/s]"
     ]
    },
    {
     "name": "stdout",
     "output_type": "stream",
     "text": [
      "Batch 11 저장 완료: 109989 ~ 119988행\n"
     ]
    },
    {
     "name": "stderr",
     "output_type": "stream",
     "text": [
      "\r",
      "데이터셋 나누기:   9%|▉         | 13/139 [00:13<01:42,  1.23it/s]"
     ]
    },
    {
     "name": "stdout",
     "output_type": "stream",
     "text": [
      "Batch 12 저장 완료: 119988 ~ 129987행\n"
     ]
    },
    {
     "name": "stderr",
     "output_type": "stream",
     "text": [
      "\r",
      "데이터셋 나누기:  10%|█         | 14/139 [00:14<01:37,  1.28it/s]"
     ]
    },
    {
     "name": "stdout",
     "output_type": "stream",
     "text": [
      "Batch 13 저장 완료: 129987 ~ 139986행\n"
     ]
    },
    {
     "name": "stderr",
     "output_type": "stream",
     "text": [
      "\r",
      "데이터셋 나누기:  11%|█         | 15/139 [00:14<01:30,  1.37it/s]"
     ]
    },
    {
     "name": "stdout",
     "output_type": "stream",
     "text": [
      "Batch 14 저장 완료: 139986 ~ 149985행\n"
     ]
    },
    {
     "name": "stderr",
     "output_type": "stream",
     "text": [
      "\r",
      "데이터셋 나누기:  12%|█▏        | 16/139 [00:15<01:32,  1.33it/s]"
     ]
    },
    {
     "name": "stdout",
     "output_type": "stream",
     "text": [
      "Batch 15 저장 완료: 149985 ~ 159984행\n"
     ]
    },
    {
     "name": "stderr",
     "output_type": "stream",
     "text": [
      "\r",
      "데이터셋 나누기:  12%|█▏        | 17/139 [00:16<01:28,  1.38it/s]"
     ]
    },
    {
     "name": "stdout",
     "output_type": "stream",
     "text": [
      "Batch 16 저장 완료: 159984 ~ 169983행\n"
     ]
    },
    {
     "name": "stderr",
     "output_type": "stream",
     "text": [
      "\r",
      "데이터셋 나누기:  13%|█▎        | 18/139 [00:17<01:25,  1.41it/s]"
     ]
    },
    {
     "name": "stdout",
     "output_type": "stream",
     "text": [
      "Batch 17 저장 완료: 169983 ~ 179982행\n"
     ]
    },
    {
     "name": "stderr",
     "output_type": "stream",
     "text": [
      "\r",
      "데이터셋 나누기:  14%|█▎        | 19/139 [00:17<01:23,  1.43it/s]"
     ]
    },
    {
     "name": "stdout",
     "output_type": "stream",
     "text": [
      "Batch 18 저장 완료: 179982 ~ 189981행\n"
     ]
    },
    {
     "name": "stderr",
     "output_type": "stream",
     "text": [
      "\r",
      "데이터셋 나누기:  14%|█▍        | 20/139 [00:18<01:21,  1.47it/s]"
     ]
    },
    {
     "name": "stdout",
     "output_type": "stream",
     "text": [
      "Batch 19 저장 완료: 189981 ~ 199980행\n"
     ]
    },
    {
     "name": "stderr",
     "output_type": "stream",
     "text": [
      "\r",
      "데이터셋 나누기:  15%|█▌        | 21/139 [00:19<01:22,  1.42it/s]"
     ]
    },
    {
     "name": "stdout",
     "output_type": "stream",
     "text": [
      "Batch 20 저장 완료: 199980 ~ 209979행\n"
     ]
    },
    {
     "name": "stderr",
     "output_type": "stream",
     "text": [
      "\r",
      "데이터셋 나누기:  16%|█▌        | 22/139 [00:20<01:27,  1.34it/s]"
     ]
    },
    {
     "name": "stdout",
     "output_type": "stream",
     "text": [
      "Batch 21 저장 완료: 209979 ~ 219978행\n"
     ]
    },
    {
     "name": "stderr",
     "output_type": "stream",
     "text": [
      "\r",
      "데이터셋 나누기:  17%|█▋        | 23/139 [00:20<01:24,  1.37it/s]"
     ]
    },
    {
     "name": "stdout",
     "output_type": "stream",
     "text": [
      "Batch 22 저장 완료: 219978 ~ 229977행\n"
     ]
    },
    {
     "name": "stderr",
     "output_type": "stream",
     "text": [
      "\r",
      "데이터셋 나누기:  17%|█▋        | 24/139 [00:21<01:19,  1.44it/s]"
     ]
    },
    {
     "name": "stdout",
     "output_type": "stream",
     "text": [
      "Batch 23 저장 완료: 229977 ~ 239976행\n"
     ]
    },
    {
     "name": "stderr",
     "output_type": "stream",
     "text": [
      "\r",
      "데이터셋 나누기:  18%|█▊        | 25/139 [00:21<01:16,  1.49it/s]"
     ]
    },
    {
     "name": "stdout",
     "output_type": "stream",
     "text": [
      "Batch 24 저장 완료: 239976 ~ 249975행\n"
     ]
    },
    {
     "name": "stderr",
     "output_type": "stream",
     "text": [
      "\r",
      "데이터셋 나누기:  19%|█▊        | 26/139 [00:22<01:11,  1.59it/s]"
     ]
    },
    {
     "name": "stdout",
     "output_type": "stream",
     "text": [
      "Batch 25 저장 완료: 249975 ~ 259974행\n"
     ]
    },
    {
     "name": "stderr",
     "output_type": "stream",
     "text": [
      "\r",
      "데이터셋 나누기:  19%|█▉        | 27/139 [00:23<01:15,  1.49it/s]"
     ]
    },
    {
     "name": "stdout",
     "output_type": "stream",
     "text": [
      "Batch 26 저장 완료: 259974 ~ 269973행\n"
     ]
    },
    {
     "name": "stderr",
     "output_type": "stream",
     "text": [
      "\r",
      "데이터셋 나누기:  20%|██        | 28/139 [00:23<01:17,  1.44it/s]"
     ]
    },
    {
     "name": "stdout",
     "output_type": "stream",
     "text": [
      "Batch 27 저장 완료: 269973 ~ 279972행\n"
     ]
    },
    {
     "name": "stderr",
     "output_type": "stream",
     "text": [
      "\r",
      "데이터셋 나누기:  21%|██        | 29/139 [00:24<01:17,  1.42it/s]"
     ]
    },
    {
     "name": "stdout",
     "output_type": "stream",
     "text": [
      "Batch 28 저장 완료: 279972 ~ 289971행\n"
     ]
    },
    {
     "name": "stderr",
     "output_type": "stream",
     "text": [
      "\r",
      "데이터셋 나누기:  22%|██▏       | 30/139 [00:25<01:14,  1.47it/s]"
     ]
    },
    {
     "name": "stdout",
     "output_type": "stream",
     "text": [
      "Batch 29 저장 완료: 289971 ~ 299970행\n"
     ]
    },
    {
     "name": "stderr",
     "output_type": "stream",
     "text": [
      "\r",
      "데이터셋 나누기:  22%|██▏       | 31/139 [00:25<01:11,  1.52it/s]"
     ]
    },
    {
     "name": "stdout",
     "output_type": "stream",
     "text": [
      "Batch 30 저장 완료: 299970 ~ 309969행\n"
     ]
    },
    {
     "name": "stderr",
     "output_type": "stream",
     "text": [
      "\r",
      "데이터셋 나누기:  23%|██▎       | 32/139 [00:26<01:08,  1.56it/s]"
     ]
    },
    {
     "name": "stdout",
     "output_type": "stream",
     "text": [
      "Batch 31 저장 완료: 309969 ~ 319968행\n"
     ]
    },
    {
     "name": "stderr",
     "output_type": "stream",
     "text": [
      "\r",
      "데이터셋 나누기:  24%|██▎       | 33/139 [00:27<01:05,  1.62it/s]"
     ]
    },
    {
     "name": "stdout",
     "output_type": "stream",
     "text": [
      "Batch 32 저장 완료: 319968 ~ 329967행\n"
     ]
    },
    {
     "name": "stderr",
     "output_type": "stream",
     "text": [
      "\r",
      "데이터셋 나누기:  24%|██▍       | 34/139 [00:27<01:04,  1.63it/s]"
     ]
    },
    {
     "name": "stdout",
     "output_type": "stream",
     "text": [
      "Batch 33 저장 완료: 329967 ~ 339966행\n"
     ]
    },
    {
     "name": "stderr",
     "output_type": "stream",
     "text": [
      "\r",
      "데이터셋 나누기:  25%|██▌       | 35/139 [00:28<01:11,  1.45it/s]"
     ]
    },
    {
     "name": "stdout",
     "output_type": "stream",
     "text": [
      "Batch 34 저장 완료: 339966 ~ 349965행\n"
     ]
    },
    {
     "name": "stderr",
     "output_type": "stream",
     "text": [
      "\r",
      "데이터셋 나누기:  26%|██▌       | 36/139 [00:29<01:08,  1.50it/s]"
     ]
    },
    {
     "name": "stdout",
     "output_type": "stream",
     "text": [
      "Batch 35 저장 완료: 349965 ~ 359964행\n"
     ]
    },
    {
     "name": "stderr",
     "output_type": "stream",
     "text": [
      "\r",
      "데이터셋 나누기:  27%|██▋       | 37/139 [00:29<01:07,  1.52it/s]"
     ]
    },
    {
     "name": "stdout",
     "output_type": "stream",
     "text": [
      "Batch 36 저장 완료: 359964 ~ 369963행\n"
     ]
    },
    {
     "name": "stderr",
     "output_type": "stream",
     "text": [
      "\r",
      "데이터셋 나누기:  27%|██▋       | 38/139 [00:30<01:09,  1.45it/s]"
     ]
    },
    {
     "name": "stdout",
     "output_type": "stream",
     "text": [
      "Batch 37 저장 완료: 369963 ~ 379962행\n"
     ]
    },
    {
     "name": "stderr",
     "output_type": "stream",
     "text": [
      "\r",
      "데이터셋 나누기:  28%|██▊       | 39/139 [00:31<01:21,  1.22it/s]"
     ]
    },
    {
     "name": "stdout",
     "output_type": "stream",
     "text": [
      "Batch 38 저장 완료: 379962 ~ 389961행\n"
     ]
    },
    {
     "name": "stderr",
     "output_type": "stream",
     "text": [
      "\r",
      "데이터셋 나누기:  29%|██▉       | 40/139 [00:32<01:23,  1.18it/s]"
     ]
    },
    {
     "name": "stdout",
     "output_type": "stream",
     "text": [
      "Batch 39 저장 완료: 389961 ~ 399960행\n"
     ]
    },
    {
     "name": "stderr",
     "output_type": "stream",
     "text": [
      "\r",
      "데이터셋 나누기:  29%|██▉       | 41/139 [00:33<01:24,  1.16it/s]"
     ]
    },
    {
     "name": "stdout",
     "output_type": "stream",
     "text": [
      "Batch 40 저장 완료: 399960 ~ 409959행\n"
     ]
    },
    {
     "name": "stderr",
     "output_type": "stream",
     "text": [
      "\r",
      "데이터셋 나누기:  30%|███       | 42/139 [00:34<01:25,  1.14it/s]"
     ]
    },
    {
     "name": "stdout",
     "output_type": "stream",
     "text": [
      "Batch 41 저장 완료: 409959 ~ 419958행\n"
     ]
    },
    {
     "name": "stderr",
     "output_type": "stream",
     "text": [
      "\r",
      "데이터셋 나누기:  31%|███       | 43/139 [00:35<01:23,  1.14it/s]"
     ]
    },
    {
     "name": "stdout",
     "output_type": "stream",
     "text": [
      "Batch 42 저장 완료: 419958 ~ 429957행\n"
     ]
    },
    {
     "name": "stderr",
     "output_type": "stream",
     "text": [
      "\r",
      "데이터셋 나누기:  32%|███▏      | 44/139 [00:36<01:21,  1.16it/s]"
     ]
    },
    {
     "name": "stdout",
     "output_type": "stream",
     "text": [
      "Batch 43 저장 완료: 429957 ~ 439956행\n"
     ]
    },
    {
     "name": "stderr",
     "output_type": "stream",
     "text": [
      "\r",
      "데이터셋 나누기:  32%|███▏      | 45/139 [00:36<01:17,  1.22it/s]"
     ]
    },
    {
     "name": "stdout",
     "output_type": "stream",
     "text": [
      "Batch 44 저장 완료: 439956 ~ 449955행\n"
     ]
    },
    {
     "name": "stderr",
     "output_type": "stream",
     "text": [
      "\r",
      "데이터셋 나누기:  33%|███▎      | 46/139 [00:37<01:14,  1.26it/s]"
     ]
    },
    {
     "name": "stdout",
     "output_type": "stream",
     "text": [
      "Batch 45 저장 완료: 449955 ~ 459954행\n"
     ]
    },
    {
     "name": "stderr",
     "output_type": "stream",
     "text": [
      "\r",
      "데이터셋 나누기:  34%|███▍      | 47/139 [00:38<01:12,  1.26it/s]"
     ]
    },
    {
     "name": "stdout",
     "output_type": "stream",
     "text": [
      "Batch 46 저장 완료: 459954 ~ 469953행\n"
     ]
    },
    {
     "name": "stderr",
     "output_type": "stream",
     "text": [
      "\r",
      "데이터셋 나누기:  35%|███▍      | 48/139 [00:39<01:12,  1.26it/s]"
     ]
    },
    {
     "name": "stdout",
     "output_type": "stream",
     "text": [
      "Batch 47 저장 완료: 469953 ~ 479952행\n"
     ]
    },
    {
     "name": "stderr",
     "output_type": "stream",
     "text": [
      "\r",
      "데이터셋 나누기:  35%|███▌      | 49/139 [00:40<01:13,  1.22it/s]"
     ]
    },
    {
     "name": "stdout",
     "output_type": "stream",
     "text": [
      "Batch 48 저장 완료: 479952 ~ 489951행\n"
     ]
    },
    {
     "name": "stderr",
     "output_type": "stream",
     "text": [
      "\r",
      "데이터셋 나누기:  36%|███▌      | 50/139 [00:40<01:15,  1.17it/s]"
     ]
    },
    {
     "name": "stdout",
     "output_type": "stream",
     "text": [
      "Batch 49 저장 완료: 489951 ~ 499950행\n"
     ]
    },
    {
     "name": "stderr",
     "output_type": "stream",
     "text": [
      "\r",
      "데이터셋 나누기:  37%|███▋      | 51/139 [00:41<01:11,  1.22it/s]"
     ]
    },
    {
     "name": "stdout",
     "output_type": "stream",
     "text": [
      "Batch 50 저장 완료: 499950 ~ 509949행\n"
     ]
    },
    {
     "name": "stderr",
     "output_type": "stream",
     "text": [
      "\r",
      "데이터셋 나누기:  37%|███▋      | 52/139 [00:42<01:07,  1.29it/s]"
     ]
    },
    {
     "name": "stdout",
     "output_type": "stream",
     "text": [
      "Batch 51 저장 완료: 509949 ~ 519948행\n"
     ]
    },
    {
     "name": "stderr",
     "output_type": "stream",
     "text": [
      "\r",
      "데이터셋 나누기:  38%|███▊      | 53/139 [00:43<01:05,  1.32it/s]"
     ]
    },
    {
     "name": "stdout",
     "output_type": "stream",
     "text": [
      "Batch 52 저장 완료: 519948 ~ 529947행\n"
     ]
    },
    {
     "name": "stderr",
     "output_type": "stream",
     "text": [
      "\r",
      "데이터셋 나누기:  39%|███▉      | 54/139 [00:43<01:05,  1.31it/s]"
     ]
    },
    {
     "name": "stdout",
     "output_type": "stream",
     "text": [
      "Batch 53 저장 완료: 529947 ~ 539946행\n"
     ]
    },
    {
     "name": "stderr",
     "output_type": "stream",
     "text": [
      "\r",
      "데이터셋 나누기:  40%|███▉      | 55/139 [00:44<01:06,  1.27it/s]"
     ]
    },
    {
     "name": "stdout",
     "output_type": "stream",
     "text": [
      "Batch 54 저장 완료: 539946 ~ 549945행\n"
     ]
    },
    {
     "name": "stderr",
     "output_type": "stream",
     "text": [
      "\r",
      "데이터셋 나누기:  40%|████      | 56/139 [00:45<01:10,  1.18it/s]"
     ]
    },
    {
     "name": "stdout",
     "output_type": "stream",
     "text": [
      "Batch 55 저장 완료: 549945 ~ 559944행\n"
     ]
    },
    {
     "name": "stderr",
     "output_type": "stream",
     "text": [
      "\r",
      "데이터셋 나누기:  41%|████      | 57/139 [00:46<01:14,  1.11it/s]"
     ]
    },
    {
     "name": "stdout",
     "output_type": "stream",
     "text": [
      "Batch 56 저장 완료: 559944 ~ 569943행\n"
     ]
    },
    {
     "name": "stderr",
     "output_type": "stream",
     "text": [
      "\r",
      "데이터셋 나누기:  42%|████▏     | 58/139 [00:47<01:08,  1.18it/s]"
     ]
    },
    {
     "name": "stdout",
     "output_type": "stream",
     "text": [
      "Batch 57 저장 완료: 569943 ~ 579942행\n"
     ]
    },
    {
     "name": "stderr",
     "output_type": "stream",
     "text": [
      "\r",
      "데이터셋 나누기:  42%|████▏     | 59/139 [00:48<01:00,  1.32it/s]"
     ]
    },
    {
     "name": "stdout",
     "output_type": "stream",
     "text": [
      "Batch 58 저장 완료: 579942 ~ 589941행\n"
     ]
    },
    {
     "name": "stderr",
     "output_type": "stream",
     "text": [
      "\r",
      "데이터셋 나누기:  43%|████▎     | 60/139 [00:48<00:53,  1.48it/s]"
     ]
    },
    {
     "name": "stdout",
     "output_type": "stream",
     "text": [
      "Batch 59 저장 완료: 589941 ~ 599940행\n"
     ]
    },
    {
     "name": "stderr",
     "output_type": "stream",
     "text": [
      "\r",
      "데이터셋 나누기:  44%|████▍     | 61/139 [00:49<00:54,  1.44it/s]"
     ]
    },
    {
     "name": "stdout",
     "output_type": "stream",
     "text": [
      "Batch 60 저장 완료: 599940 ~ 609939행\n"
     ]
    },
    {
     "name": "stderr",
     "output_type": "stream",
     "text": [
      "\r",
      "데이터셋 나누기:  45%|████▍     | 62/139 [00:50<00:58,  1.32it/s]"
     ]
    },
    {
     "name": "stdout",
     "output_type": "stream",
     "text": [
      "Batch 61 저장 완료: 609939 ~ 619938행\n"
     ]
    },
    {
     "name": "stderr",
     "output_type": "stream",
     "text": [
      "\r",
      "데이터셋 나누기:  45%|████▌     | 63/139 [00:51<01:00,  1.25it/s]"
     ]
    },
    {
     "name": "stdout",
     "output_type": "stream",
     "text": [
      "Batch 62 저장 완료: 619938 ~ 629937행\n"
     ]
    },
    {
     "name": "stderr",
     "output_type": "stream",
     "text": [
      "\r",
      "데이터셋 나누기:  46%|████▌     | 64/139 [00:51<00:58,  1.29it/s]"
     ]
    },
    {
     "name": "stdout",
     "output_type": "stream",
     "text": [
      "Batch 63 저장 완료: 629937 ~ 639936행\n"
     ]
    },
    {
     "name": "stderr",
     "output_type": "stream",
     "text": [
      "\r",
      "데이터셋 나누기:  47%|████▋     | 65/139 [00:52<00:59,  1.24it/s]"
     ]
    },
    {
     "name": "stdout",
     "output_type": "stream",
     "text": [
      "Batch 64 저장 완료: 639936 ~ 649935행\n"
     ]
    },
    {
     "name": "stderr",
     "output_type": "stream",
     "text": [
      "\r",
      "데이터셋 나누기:  47%|████▋     | 66/139 [00:53<01:00,  1.21it/s]"
     ]
    },
    {
     "name": "stdout",
     "output_type": "stream",
     "text": [
      "Batch 65 저장 완료: 649935 ~ 659934행\n"
     ]
    },
    {
     "name": "stderr",
     "output_type": "stream",
     "text": [
      "\r",
      "데이터셋 나누기:  48%|████▊     | 67/139 [00:54<01:00,  1.20it/s]"
     ]
    },
    {
     "name": "stdout",
     "output_type": "stream",
     "text": [
      "Batch 66 저장 완료: 659934 ~ 669933행\n"
     ]
    },
    {
     "name": "stderr",
     "output_type": "stream",
     "text": [
      "\r",
      "데이터셋 나누기:  49%|████▉     | 68/139 [00:55<00:57,  1.23it/s]"
     ]
    },
    {
     "name": "stdout",
     "output_type": "stream",
     "text": [
      "Batch 67 저장 완료: 669933 ~ 679932행\n"
     ]
    },
    {
     "name": "stderr",
     "output_type": "stream",
     "text": [
      "\r",
      "데이터셋 나누기:  50%|████▉     | 69/139 [00:55<00:56,  1.25it/s]"
     ]
    },
    {
     "name": "stdout",
     "output_type": "stream",
     "text": [
      "Batch 68 저장 완료: 679932 ~ 689931행\n"
     ]
    },
    {
     "name": "stderr",
     "output_type": "stream",
     "text": [
      "\r",
      "데이터셋 나누기:  50%|█████     | 70/139 [00:56<00:51,  1.35it/s]"
     ]
    },
    {
     "name": "stdout",
     "output_type": "stream",
     "text": [
      "Batch 69 저장 완료: 689931 ~ 699930행\n"
     ]
    },
    {
     "name": "stderr",
     "output_type": "stream",
     "text": [
      "\r",
      "데이터셋 나누기:  51%|█████     | 71/139 [00:57<00:45,  1.49it/s]"
     ]
    },
    {
     "name": "stdout",
     "output_type": "stream",
     "text": [
      "Batch 70 저장 완료: 699930 ~ 709929행\n"
     ]
    },
    {
     "name": "stderr",
     "output_type": "stream",
     "text": [
      "\r",
      "데이터셋 나누기:  52%|█████▏    | 72/139 [00:57<00:43,  1.55it/s]"
     ]
    },
    {
     "name": "stdout",
     "output_type": "stream",
     "text": [
      "Batch 71 저장 완료: 709929 ~ 719928행\n"
     ]
    },
    {
     "name": "stderr",
     "output_type": "stream",
     "text": [
      "\r",
      "데이터셋 나누기:  53%|█████▎    | 73/139 [00:58<00:46,  1.43it/s]"
     ]
    },
    {
     "name": "stdout",
     "output_type": "stream",
     "text": [
      "Batch 72 저장 완료: 719928 ~ 729927행\n"
     ]
    },
    {
     "name": "stderr",
     "output_type": "stream",
     "text": [
      "\r",
      "데이터셋 나누기:  53%|█████▎    | 74/139 [00:59<00:47,  1.36it/s]"
     ]
    },
    {
     "name": "stdout",
     "output_type": "stream",
     "text": [
      "Batch 73 저장 완료: 729927 ~ 739926행\n"
     ]
    },
    {
     "name": "stderr",
     "output_type": "stream",
     "text": [
      "\r",
      "데이터셋 나누기:  54%|█████▍    | 75/139 [00:59<00:46,  1.39it/s]"
     ]
    },
    {
     "name": "stdout",
     "output_type": "stream",
     "text": [
      "Batch 74 저장 완료: 739926 ~ 749925행\n"
     ]
    },
    {
     "name": "stderr",
     "output_type": "stream",
     "text": [
      "\r",
      "데이터셋 나누기:  55%|█████▍    | 76/139 [01:00<00:44,  1.42it/s]"
     ]
    },
    {
     "name": "stdout",
     "output_type": "stream",
     "text": [
      "Batch 75 저장 완료: 749925 ~ 759924행\n"
     ]
    },
    {
     "name": "stderr",
     "output_type": "stream",
     "text": [
      "\r",
      "데이터셋 나누기:  55%|█████▌    | 77/139 [01:01<00:42,  1.46it/s]"
     ]
    },
    {
     "name": "stdout",
     "output_type": "stream",
     "text": [
      "Batch 76 저장 완료: 759924 ~ 769923행\n"
     ]
    },
    {
     "name": "stderr",
     "output_type": "stream",
     "text": [
      "\r",
      "데이터셋 나누기:  56%|█████▌    | 78/139 [01:02<00:45,  1.34it/s]"
     ]
    },
    {
     "name": "stdout",
     "output_type": "stream",
     "text": [
      "Batch 77 저장 완료: 769923 ~ 779922행\n"
     ]
    },
    {
     "name": "stderr",
     "output_type": "stream",
     "text": [
      "\r",
      "데이터셋 나누기:  57%|█████▋    | 79/139 [01:02<00:46,  1.30it/s]"
     ]
    },
    {
     "name": "stdout",
     "output_type": "stream",
     "text": [
      "Batch 78 저장 완료: 779922 ~ 789921행\n"
     ]
    },
    {
     "name": "stderr",
     "output_type": "stream",
     "text": [
      "\r",
      "데이터셋 나누기:  58%|█████▊    | 80/139 [01:03<00:44,  1.32it/s]"
     ]
    },
    {
     "name": "stdout",
     "output_type": "stream",
     "text": [
      "Batch 79 저장 완료: 789921 ~ 799920행\n"
     ]
    },
    {
     "name": "stderr",
     "output_type": "stream",
     "text": [
      "\r",
      "데이터셋 나누기:  58%|█████▊    | 81/139 [01:04<00:44,  1.32it/s]"
     ]
    },
    {
     "name": "stdout",
     "output_type": "stream",
     "text": [
      "Batch 80 저장 완료: 799920 ~ 809919행\n"
     ]
    },
    {
     "name": "stderr",
     "output_type": "stream",
     "text": [
      "\r",
      "데이터셋 나누기:  59%|█████▉    | 82/139 [01:05<00:42,  1.33it/s]"
     ]
    },
    {
     "name": "stdout",
     "output_type": "stream",
     "text": [
      "Batch 81 저장 완료: 809919 ~ 819918행\n"
     ]
    },
    {
     "name": "stderr",
     "output_type": "stream",
     "text": [
      "\r",
      "데이터셋 나누기:  60%|█████▉    | 83/139 [01:06<00:43,  1.28it/s]"
     ]
    },
    {
     "name": "stdout",
     "output_type": "stream",
     "text": [
      "Batch 82 저장 완료: 819918 ~ 829917행\n"
     ]
    },
    {
     "name": "stderr",
     "output_type": "stream",
     "text": [
      "\r",
      "데이터셋 나누기:  60%|██████    | 84/139 [01:06<00:43,  1.26it/s]"
     ]
    },
    {
     "name": "stdout",
     "output_type": "stream",
     "text": [
      "Batch 83 저장 완료: 829917 ~ 839916행\n"
     ]
    },
    {
     "name": "stderr",
     "output_type": "stream",
     "text": [
      "\r",
      "데이터셋 나누기:  61%|██████    | 85/139 [01:07<00:40,  1.34it/s]"
     ]
    },
    {
     "name": "stdout",
     "output_type": "stream",
     "text": [
      "Batch 84 저장 완료: 839916 ~ 849915행\n"
     ]
    },
    {
     "name": "stderr",
     "output_type": "stream",
     "text": [
      "\r",
      "데이터셋 나누기:  62%|██████▏   | 86/139 [01:08<00:39,  1.33it/s]"
     ]
    },
    {
     "name": "stdout",
     "output_type": "stream",
     "text": [
      "Batch 85 저장 완료: 849915 ~ 859914행\n"
     ]
    },
    {
     "name": "stderr",
     "output_type": "stream",
     "text": [
      "\r",
      "데이터셋 나누기:  63%|██████▎   | 87/139 [01:08<00:37,  1.38it/s]"
     ]
    },
    {
     "name": "stdout",
     "output_type": "stream",
     "text": [
      "Batch 86 저장 완료: 859914 ~ 869913행\n"
     ]
    },
    {
     "name": "stderr",
     "output_type": "stream",
     "text": [
      "\r",
      "데이터셋 나누기:  63%|██████▎   | 88/139 [01:09<00:37,  1.35it/s]"
     ]
    },
    {
     "name": "stdout",
     "output_type": "stream",
     "text": [
      "Batch 87 저장 완료: 869913 ~ 879912행\n"
     ]
    },
    {
     "name": "stderr",
     "output_type": "stream",
     "text": [
      "\r",
      "데이터셋 나누기:  64%|██████▍   | 89/139 [01:10<00:38,  1.31it/s]"
     ]
    },
    {
     "name": "stdout",
     "output_type": "stream",
     "text": [
      "Batch 88 저장 완료: 879912 ~ 889911행\n"
     ]
    },
    {
     "name": "stderr",
     "output_type": "stream",
     "text": [
      "\r",
      "데이터셋 나누기:  65%|██████▍   | 90/139 [01:11<00:38,  1.29it/s]"
     ]
    },
    {
     "name": "stdout",
     "output_type": "stream",
     "text": [
      "Batch 89 저장 완료: 889911 ~ 899910행\n"
     ]
    },
    {
     "name": "stderr",
     "output_type": "stream",
     "text": [
      "\r",
      "데이터셋 나누기:  65%|██████▌   | 91/139 [01:11<00:35,  1.36it/s]"
     ]
    },
    {
     "name": "stdout",
     "output_type": "stream",
     "text": [
      "Batch 90 저장 완료: 899910 ~ 909909행\n"
     ]
    },
    {
     "name": "stderr",
     "output_type": "stream",
     "text": [
      "\r",
      "데이터셋 나누기:  66%|██████▌   | 92/139 [01:12<00:34,  1.38it/s]"
     ]
    },
    {
     "name": "stdout",
     "output_type": "stream",
     "text": [
      "Batch 91 저장 완료: 909909 ~ 919908행\n"
     ]
    },
    {
     "name": "stderr",
     "output_type": "stream",
     "text": [
      "\r",
      "데이터셋 나누기:  67%|██████▋   | 93/139 [01:13<00:34,  1.34it/s]"
     ]
    },
    {
     "name": "stdout",
     "output_type": "stream",
     "text": [
      "Batch 92 저장 완료: 919908 ~ 929907행\n"
     ]
    },
    {
     "name": "stderr",
     "output_type": "stream",
     "text": [
      "\r",
      "데이터셋 나누기:  68%|██████▊   | 94/139 [01:14<00:32,  1.39it/s]"
     ]
    },
    {
     "name": "stdout",
     "output_type": "stream",
     "text": [
      "Batch 93 저장 완료: 929907 ~ 939906행\n"
     ]
    },
    {
     "name": "stderr",
     "output_type": "stream",
     "text": [
      "\r",
      "데이터셋 나누기:  68%|██████▊   | 95/139 [01:14<00:31,  1.38it/s]"
     ]
    },
    {
     "name": "stdout",
     "output_type": "stream",
     "text": [
      "Batch 94 저장 완료: 939906 ~ 949905행\n"
     ]
    },
    {
     "name": "stderr",
     "output_type": "stream",
     "text": [
      "\r",
      "데이터셋 나누기:  69%|██████▉   | 96/139 [01:15<00:31,  1.37it/s]"
     ]
    },
    {
     "name": "stdout",
     "output_type": "stream",
     "text": [
      "Batch 95 저장 완료: 949905 ~ 959904행\n"
     ]
    },
    {
     "name": "stderr",
     "output_type": "stream",
     "text": [
      "\r",
      "데이터셋 나누기:  70%|██████▉   | 97/139 [01:16<00:31,  1.33it/s]"
     ]
    },
    {
     "name": "stdout",
     "output_type": "stream",
     "text": [
      "Batch 96 저장 완료: 959904 ~ 969903행\n"
     ]
    },
    {
     "name": "stderr",
     "output_type": "stream",
     "text": [
      "\r",
      "데이터셋 나누기:  71%|███████   | 98/139 [01:17<00:31,  1.32it/s]"
     ]
    },
    {
     "name": "stdout",
     "output_type": "stream",
     "text": [
      "Batch 97 저장 완료: 969903 ~ 979902행\n"
     ]
    },
    {
     "name": "stderr",
     "output_type": "stream",
     "text": [
      "\r",
      "데이터셋 나누기:  71%|███████   | 99/139 [01:17<00:28,  1.40it/s]"
     ]
    },
    {
     "name": "stdout",
     "output_type": "stream",
     "text": [
      "Batch 98 저장 완료: 979902 ~ 989901행\n"
     ]
    },
    {
     "name": "stderr",
     "output_type": "stream",
     "text": [
      "\r",
      "데이터셋 나누기:  72%|███████▏  | 100/139 [01:18<00:27,  1.42it/s]"
     ]
    },
    {
     "name": "stdout",
     "output_type": "stream",
     "text": [
      "Batch 99 저장 완료: 989901 ~ 999900행\n"
     ]
    },
    {
     "name": "stderr",
     "output_type": "stream",
     "text": [
      "\r",
      "데이터셋 나누기:  73%|███████▎  | 101/139 [01:19<00:25,  1.48it/s]"
     ]
    },
    {
     "name": "stdout",
     "output_type": "stream",
     "text": [
      "Batch 100 저장 완료: 999900 ~ 1009899행\n"
     ]
    },
    {
     "name": "stderr",
     "output_type": "stream",
     "text": [
      "\r",
      "데이터셋 나누기:  73%|███████▎  | 102/139 [01:19<00:25,  1.46it/s]"
     ]
    },
    {
     "name": "stdout",
     "output_type": "stream",
     "text": [
      "Batch 101 저장 완료: 1009899 ~ 1019898행\n"
     ]
    },
    {
     "name": "stderr",
     "output_type": "stream",
     "text": [
      "\r",
      "데이터셋 나누기:  74%|███████▍  | 103/139 [01:20<00:24,  1.44it/s]"
     ]
    },
    {
     "name": "stdout",
     "output_type": "stream",
     "text": [
      "Batch 102 저장 완료: 1019898 ~ 1029897행\n"
     ]
    },
    {
     "name": "stderr",
     "output_type": "stream",
     "text": [
      "\r",
      "데이터셋 나누기:  75%|███████▍  | 104/139 [01:21<00:28,  1.22it/s]"
     ]
    },
    {
     "name": "stdout",
     "output_type": "stream",
     "text": [
      "Batch 103 저장 완료: 1029897 ~ 1039896행\n"
     ]
    },
    {
     "name": "stderr",
     "output_type": "stream",
     "text": [
      "\r",
      "데이터셋 나누기:  76%|███████▌  | 105/139 [01:22<00:27,  1.26it/s]"
     ]
    },
    {
     "name": "stdout",
     "output_type": "stream",
     "text": [
      "Batch 104 저장 완료: 1039896 ~ 1049895행\n"
     ]
    },
    {
     "name": "stderr",
     "output_type": "stream",
     "text": [
      "\r",
      "데이터셋 나누기:  76%|███████▋  | 106/139 [01:23<00:25,  1.31it/s]"
     ]
    },
    {
     "name": "stdout",
     "output_type": "stream",
     "text": [
      "Batch 105 저장 완료: 1049895 ~ 1059894행\n"
     ]
    },
    {
     "name": "stderr",
     "output_type": "stream",
     "text": [
      "\r",
      "데이터셋 나누기:  77%|███████▋  | 107/139 [01:23<00:22,  1.39it/s]"
     ]
    },
    {
     "name": "stdout",
     "output_type": "stream",
     "text": [
      "Batch 106 저장 완료: 1059894 ~ 1069893행\n"
     ]
    },
    {
     "name": "stderr",
     "output_type": "stream",
     "text": [
      "\r",
      "데이터셋 나누기:  78%|███████▊  | 108/139 [01:24<00:21,  1.44it/s]"
     ]
    },
    {
     "name": "stdout",
     "output_type": "stream",
     "text": [
      "Batch 107 저장 완료: 1069893 ~ 1079892행\n"
     ]
    },
    {
     "name": "stderr",
     "output_type": "stream",
     "text": [
      "\r",
      "데이터셋 나누기:  78%|███████▊  | 109/139 [01:25<00:21,  1.42it/s]"
     ]
    },
    {
     "name": "stdout",
     "output_type": "stream",
     "text": [
      "Batch 108 저장 완료: 1079892 ~ 1089891행\n"
     ]
    },
    {
     "name": "stderr",
     "output_type": "stream",
     "text": [
      "\r",
      "데이터셋 나누기:  79%|███████▉  | 110/139 [01:25<00:21,  1.36it/s]"
     ]
    },
    {
     "name": "stdout",
     "output_type": "stream",
     "text": [
      "Batch 109 저장 완료: 1089891 ~ 1099890행\n"
     ]
    },
    {
     "name": "stderr",
     "output_type": "stream",
     "text": [
      "\r",
      "데이터셋 나누기:  80%|███████▉  | 111/139 [01:26<00:20,  1.37it/s]"
     ]
    },
    {
     "name": "stdout",
     "output_type": "stream",
     "text": [
      "Batch 110 저장 완료: 1099890 ~ 1109889행\n"
     ]
    },
    {
     "name": "stderr",
     "output_type": "stream",
     "text": [
      "\r",
      "데이터셋 나누기:  81%|████████  | 112/139 [01:27<00:19,  1.37it/s]"
     ]
    },
    {
     "name": "stdout",
     "output_type": "stream",
     "text": [
      "Batch 111 저장 완료: 1109889 ~ 1119888행\n"
     ]
    },
    {
     "name": "stderr",
     "output_type": "stream",
     "text": [
      "\r",
      "데이터셋 나누기:  81%|████████▏ | 113/139 [01:28<00:19,  1.34it/s]"
     ]
    },
    {
     "name": "stdout",
     "output_type": "stream",
     "text": [
      "Batch 112 저장 완료: 1119888 ~ 1129887행\n"
     ]
    },
    {
     "name": "stderr",
     "output_type": "stream",
     "text": [
      "\r",
      "데이터셋 나누기:  82%|████████▏ | 114/139 [01:28<00:17,  1.47it/s]"
     ]
    },
    {
     "name": "stdout",
     "output_type": "stream",
     "text": [
      "Batch 113 저장 완료: 1129887 ~ 1139886행\n"
     ]
    },
    {
     "name": "stderr",
     "output_type": "stream",
     "text": [
      "\r",
      "데이터셋 나누기:  83%|████████▎ | 115/139 [01:29<00:15,  1.57it/s]"
     ]
    },
    {
     "name": "stdout",
     "output_type": "stream",
     "text": [
      "Batch 114 저장 완료: 1139886 ~ 1149885행\n"
     ]
    },
    {
     "name": "stderr",
     "output_type": "stream",
     "text": [
      "\r",
      "데이터셋 나누기:  83%|████████▎ | 116/139 [01:29<00:15,  1.53it/s]"
     ]
    },
    {
     "name": "stdout",
     "output_type": "stream",
     "text": [
      "Batch 115 저장 완료: 1149885 ~ 1159884행\n"
     ]
    },
    {
     "name": "stderr",
     "output_type": "stream",
     "text": [
      "\r",
      "데이터셋 나누기:  84%|████████▍ | 117/139 [01:30<00:15,  1.46it/s]"
     ]
    },
    {
     "name": "stdout",
     "output_type": "stream",
     "text": [
      "Batch 116 저장 완료: 1159884 ~ 1169883행\n"
     ]
    },
    {
     "name": "stderr",
     "output_type": "stream",
     "text": [
      "\r",
      "데이터셋 나누기:  85%|████████▍ | 118/139 [01:31<00:15,  1.39it/s]"
     ]
    },
    {
     "name": "stdout",
     "output_type": "stream",
     "text": [
      "Batch 117 저장 완료: 1169883 ~ 1179882행\n"
     ]
    },
    {
     "name": "stderr",
     "output_type": "stream",
     "text": [
      "\r",
      "데이터셋 나누기:  86%|████████▌ | 119/139 [01:32<00:14,  1.38it/s]"
     ]
    },
    {
     "name": "stdout",
     "output_type": "stream",
     "text": [
      "Batch 118 저장 완료: 1179882 ~ 1189881행\n"
     ]
    },
    {
     "name": "stderr",
     "output_type": "stream",
     "text": [
      "\r",
      "데이터셋 나누기:  86%|████████▋ | 120/139 [01:32<00:14,  1.35it/s]"
     ]
    },
    {
     "name": "stdout",
     "output_type": "stream",
     "text": [
      "Batch 119 저장 완료: 1189881 ~ 1199880행\n"
     ]
    },
    {
     "name": "stderr",
     "output_type": "stream",
     "text": [
      "\r",
      "데이터셋 나누기:  87%|████████▋ | 121/139 [01:33<00:13,  1.35it/s]"
     ]
    },
    {
     "name": "stdout",
     "output_type": "stream",
     "text": [
      "Batch 120 저장 완료: 1199880 ~ 1209879행\n"
     ]
    },
    {
     "name": "stderr",
     "output_type": "stream",
     "text": [
      "\r",
      "데이터셋 나누기:  88%|████████▊ | 122/139 [01:34<00:12,  1.40it/s]"
     ]
    },
    {
     "name": "stdout",
     "output_type": "stream",
     "text": [
      "Batch 121 저장 완료: 1209879 ~ 1219878행\n"
     ]
    },
    {
     "name": "stderr",
     "output_type": "stream",
     "text": [
      "\r",
      "데이터셋 나누기:  88%|████████▊ | 123/139 [01:34<00:10,  1.53it/s]"
     ]
    },
    {
     "name": "stdout",
     "output_type": "stream",
     "text": [
      "Batch 122 저장 완료: 1219878 ~ 1229877행\n"
     ]
    },
    {
     "name": "stderr",
     "output_type": "stream",
     "text": [
      "\r",
      "데이터셋 나누기:  89%|████████▉ | 124/139 [01:35<00:09,  1.63it/s]"
     ]
    },
    {
     "name": "stdout",
     "output_type": "stream",
     "text": [
      "Batch 123 저장 완료: 1229877 ~ 1239876행\n"
     ]
    },
    {
     "name": "stderr",
     "output_type": "stream",
     "text": [
      "\r",
      "데이터셋 나누기:  90%|████████▉ | 125/139 [01:35<00:08,  1.62it/s]"
     ]
    },
    {
     "name": "stdout",
     "output_type": "stream",
     "text": [
      "Batch 124 저장 완료: 1239876 ~ 1249875행\n"
     ]
    },
    {
     "name": "stderr",
     "output_type": "stream",
     "text": [
      "\r",
      "데이터셋 나누기:  91%|█████████ | 126/139 [01:36<00:08,  1.54it/s]"
     ]
    },
    {
     "name": "stdout",
     "output_type": "stream",
     "text": [
      "Batch 125 저장 완료: 1249875 ~ 1259874행\n"
     ]
    },
    {
     "name": "stderr",
     "output_type": "stream",
     "text": [
      "\r",
      "데이터셋 나누기:  91%|█████████▏| 127/139 [01:37<00:08,  1.47it/s]"
     ]
    },
    {
     "name": "stdout",
     "output_type": "stream",
     "text": [
      "Batch 126 저장 완료: 1259874 ~ 1269873행\n"
     ]
    },
    {
     "name": "stderr",
     "output_type": "stream",
     "text": [
      "\r",
      "데이터셋 나누기:  92%|█████████▏| 128/139 [01:38<00:07,  1.43it/s]"
     ]
    },
    {
     "name": "stdout",
     "output_type": "stream",
     "text": [
      "Batch 127 저장 완료: 1269873 ~ 1279872행\n"
     ]
    },
    {
     "name": "stderr",
     "output_type": "stream",
     "text": [
      "\r",
      "데이터셋 나누기:  93%|█████████▎| 129/139 [01:38<00:07,  1.41it/s]"
     ]
    },
    {
     "name": "stdout",
     "output_type": "stream",
     "text": [
      "Batch 128 저장 완료: 1279872 ~ 1289871행\n"
     ]
    },
    {
     "name": "stderr",
     "output_type": "stream",
     "text": [
      "\r",
      "데이터셋 나누기:  94%|█████████▎| 130/139 [01:39<00:06,  1.38it/s]"
     ]
    },
    {
     "name": "stdout",
     "output_type": "stream",
     "text": [
      "Batch 129 저장 완료: 1289871 ~ 1299870행\n"
     ]
    },
    {
     "name": "stderr",
     "output_type": "stream",
     "text": [
      "\r",
      "데이터셋 나누기:  94%|█████████▍| 131/139 [01:40<00:05,  1.34it/s]"
     ]
    },
    {
     "name": "stdout",
     "output_type": "stream",
     "text": [
      "Batch 130 저장 완료: 1299870 ~ 1309869행\n"
     ]
    },
    {
     "name": "stderr",
     "output_type": "stream",
     "text": [
      "\r",
      "데이터셋 나누기:  95%|█████████▍| 132/139 [01:41<00:05,  1.38it/s]"
     ]
    },
    {
     "name": "stdout",
     "output_type": "stream",
     "text": [
      "Batch 131 저장 완료: 1309869 ~ 1319868행\n"
     ]
    },
    {
     "name": "stderr",
     "output_type": "stream",
     "text": [
      "\r",
      "데이터셋 나누기:  96%|█████████▌| 133/139 [01:41<00:04,  1.43it/s]"
     ]
    },
    {
     "name": "stdout",
     "output_type": "stream",
     "text": [
      "Batch 132 저장 완료: 1319868 ~ 1329867행\n"
     ]
    },
    {
     "name": "stderr",
     "output_type": "stream",
     "text": [
      "\r",
      "데이터셋 나누기:  96%|█████████▋| 134/139 [01:42<00:03,  1.44it/s]"
     ]
    },
    {
     "name": "stdout",
     "output_type": "stream",
     "text": [
      "Batch 133 저장 완료: 1329867 ~ 1339866행\n"
     ]
    },
    {
     "name": "stderr",
     "output_type": "stream",
     "text": [
      "\r",
      "데이터셋 나누기:  97%|█████████▋| 135/139 [01:43<00:02,  1.44it/s]"
     ]
    },
    {
     "name": "stdout",
     "output_type": "stream",
     "text": [
      "Batch 134 저장 완료: 1339866 ~ 1349865행\n"
     ]
    },
    {
     "name": "stderr",
     "output_type": "stream",
     "text": [
      "\r",
      "데이터셋 나누기:  98%|█████████▊| 136/139 [01:43<00:01,  1.52it/s]"
     ]
    },
    {
     "name": "stdout",
     "output_type": "stream",
     "text": [
      "Batch 135 저장 완료: 1349865 ~ 1359864행\n"
     ]
    },
    {
     "name": "stderr",
     "output_type": "stream",
     "text": [
      "\r",
      "데이터셋 나누기:  99%|█████████▊| 137/139 [01:44<00:01,  1.68it/s]"
     ]
    },
    {
     "name": "stdout",
     "output_type": "stream",
     "text": [
      "Batch 136 저장 완료: 1359864 ~ 1369863행\n"
     ]
    },
    {
     "name": "stderr",
     "output_type": "stream",
     "text": [
      "\r",
      "데이터셋 나누기:  99%|█████████▉| 138/139 [01:44<00:00,  1.79it/s]"
     ]
    },
    {
     "name": "stdout",
     "output_type": "stream",
     "text": [
      "Batch 137 저장 완료: 1369863 ~ 1379862행\n"
     ]
    },
    {
     "name": "stderr",
     "output_type": "stream",
     "text": [
      "데이터셋 나누기: 100%|██████████| 139/139 [01:44<00:00,  1.33it/s]"
     ]
    },
    {
     "name": "stdout",
     "output_type": "stream",
     "text": [
      "Batch 138 저장 완료: 1379862 ~ 1383707행\n",
      "전체 139개의 배치로 나누어 저장 완료되었습니다.\n"
     ]
    },
    {
     "name": "stderr",
     "output_type": "stream",
     "text": [
      "\n"
     ]
    }
   ],
   "source": [
    "import pandas as pd\n",
    "from tqdm import tqdm\n",
    "\n",
    "# Bring dataset\n",
    "file_path = '/content/drive/MyDrive/Kwargs/020. 전처리/A0-60_preprocessed.csv'\n",
    "df = pd.read_csv(file_path)\n",
    "\n",
    "# Setting size to be divided (200,000 or 100,000)\n",
    "batch_size = 9999  # 혹은 100000으로 설정 가능\n",
    "\n",
    "# Division dividing and storage\n",
    "total_batches = len(df) // batch_size + 1  # 나누어진 배치 개수 계산\n",
    "\n",
    "for i in tqdm(range(total_batches), desc=\"데이터셋 나누기\"):\n",
    "    start_idx = i * batch_size\n",
    "    end_idx = min((i + 1) * batch_size, len(df))\n",
    "    batch_df = df.iloc[start_idx:end_idx]\n",
    "    batch_df.to_csv(f'/content/drive/MyDrive/Kwargs/020. 전처리/A0-60_batch/A0-60_batch_{i}.csv', index=False)\n",
    "    print(f'Batch {i} 저장 완료: {start_idx} ~ {end_idx}행')\n",
    "\n",
    "print(f'전체 {total_batches}개의 배치로 나누어 저장 완료되었습니다.')\n"
   ]
  },
  {
   "cell_type": "markdown",
   "metadata": {
    "id": "3eCl-oGBjibp"
   },
   "source": [
    "### 5. Treatment of unification mapping & anonymously"
   ]
  },
  {
   "cell_type": "code",
   "execution_count": null,
   "metadata": {
    "id": "f0vr7AlkY_E4"
   },
   "outputs": [],
   "source": [
    "import os\n",
    "import pandas as pd\n",
    "from tqdm import tqdm\n",
    "import re\n",
    "import random\n",
    "import unicodedata"
   ]
  },
  {
   "cell_type": "code",
   "execution_count": null,
   "metadata": {
    "id": "Tc5cEl8EJunv"
   },
   "outputs": [],
   "source": [
    "#Load Company Names from CSV if needed\n",
    "company_names_df = pd.read_csv('/content/drive/MyDrive/Kwargs/companynames.csv',encoding='euc-kr')\n",
    "company_names_df = company_names_df.dropna()\n",
    "all_companies = company_names_df['종목명'].tolist()"
   ]
  },
  {
   "cell_type": "code",
   "execution_count": null,
   "metadata": {
    "id": "F9_tzC5rYuGK"
   },
   "outputs": [],
   "source": [
    "# Company name unification mapping (existing dictionary)\n",
    "company_name_mapping = {\n",
    "    '삼성전자': ['Samsung Electronics', '삼성전자', 'SAMSUNG', '삼성', '삼전'],\n",
    "    'POSCO홀딩스': ['POSCO홀딩스', '포스코홀딩스', '포스코그룹', 'POSCO', '포스코'],\n",
    "    '현대백화점': ['Hyundai Department Store', '현대백화점', 'HDC', '현백'],\n",
    "    'SK이노베이션': ['에스케이이노베이션', 'SK Innovation', 'SK이노베이션', 'SKI'],\n",
    "    '대한항공': ['Korean Air', '대한항공', 'KAL'],\n",
    "    '삼성물산': ['Samsung C&T', '삼성물산', '삼성건설',],\n",
    "    '현대차': ['Hyundai Motor', '현대자동차', 'Hyundai', '현대차', 'HMC'],\n",
    "    '금호석유': ['금호석유화학', 'Kumho Petrochemical', '금호석유', '금호화학', '금호석화'],\n",
    "    '카카오': ['다음카카오', 'KAKAO', 'Kakao', '카카오'],\n",
    "    '효성': ['Hyosung', '효성그룹', '효성'],\n",
    "    '동국제강': ['Dongkuk Steel', 'DONGKUK', '동국제강'],\n",
    "    '하림지주': ['Harim Holdings', '하림지주', '하림그룹', '하림'],\n",
    "    'CJ제일제당': ['CJ CheilJedang', 'CJ제일제당', 'CJ그룹', 'CJ', '씨제이제일제당','씨제이', '제일제당'],\n",
    "    'LG에너지솔루션': ['LG Energy Solution', 'LG에너지솔루션', 'LG에솔', 'LGES'],\n",
    "    '삼성바이오로직스': ['Samsung Biologics', '삼성바이오로직스', '삼성바이오','삼바'],\n",
    "    '셀트리온': ['CELLTRION', 'Celltrion', '셀트리온'],\n",
    "    '하나금융지주': ['Hana Financial Group', '하나금융지주', '하나금융', '하나은행'],\n",
    "    'NAVER': ['네이버주식회사', 'NAVER', '네이버'],\n",
    "    'LG전자': ['LG Electronics', 'LG전자', 'LGE', '엘지전자'],\n",
    "    '한화에어로스페이스': ['Hanwha Aerospace', '한화에어로스페이스', '한화에어로'],\n",
    "    'GS에너지': ['GS Energy', 'GS에너지', 'GS 에너지'],\n",
    "    '우리금융지주': ['Woori Financial Group', '우리금융지주', '우리금융', '우리은행'],\n",
    "    '카카오뱅크': ['KakaoBank', '카카오뱅크', '카뱅'],\n",
    "    'KB금융': ['KB Kookmin Bank', 'KB금융지주', 'KB금융', '국민은행'],\n",
    "    '한화': ['Hanwha', '한화그룹', '한화지주', '한화'],\n",
    "    '삼성중공업': ['Samsung Heavy Industries', '삼성중공업', 'SHI'],\n",
    "    '기아': ['기아자동차', 'Kia Motors', 'Kia', '기아차', '기아'],\n",
    "    '크래프톤': ['KRAFTON', 'Krafton', '크래프톤'],\n",
    "    'LG화학': ['엘지화학', 'LG Chem', 'LG화학'],\n",
    "    '삼성SDS': ['삼성에스디에스', 'Samsung SDS', '삼성SDS'],\n",
    "    'SK텔레콤': ['SK Telecom', 'SK텔레콤','에스케이텔레콤', 'SKT'],\n",
    "    'SK바이오팜': ['SK Biopharmaceuticals', 'SK BioPharm', 'SK바이오팜'],\n",
    "    '아모레퍼시픽': ['Amorepacific', '아모레퍼시픽', '아모레'],\n",
    "    '한국타이어앤테크놀로지': ['한국타이어앤테크놀로지', 'Hankook Tire', '한국타이어'],\n",
    "    'LG생활건강': ['엘지생활건강', 'LG생활건강', 'LG H&H'],\n",
    "    'SK하이닉스': ['에스케이하이닉스','SK하이닉스', 'SK hynix', '하이닉스'],\n",
    "    '한온시스템': ['Hanon Systems', '한온시스템', '한온'],\n",
    "    'LG유플러스': ['LG유플러스', 'LG U+', '엘지유플러스'],\n",
    "    '현대모비스': ['Hyundai Mobis', '현대모비스', '모비스'],\n",
    "    'LG디스플레이': ['LG Display', '엘지디스플레이','LG디스플레이', 'LGD'],\n",
    "    '롯데지주': ['Lotte Corporation', '롯데지주'],\n",
    "    'GS리테일': ['GS Retail', 'GS리테일', 'GS25' ],\n",
    "    '넷마블': ['Netmarble', '넷마블'],\n",
    "    'SK바이오사이언스': ['SK Bioscience', 'SK바이오사이언스', 'SK바사'],\n",
    "    '롯데쇼핑': ['Lotte Shopping', '롯데쇼핑'],\n",
    "    'GS': ['GS그룹', 'GS지주' 'GS'],\n",
    "    'BGF리테일': ['BGF Retail', 'BGF리테일', 'BGF'],\n",
    "    '한미약품': ['Hanmi Pharmaceutical', '한미약품'],\n",
    "    'SK네트웍스': ['SK Networks', 'SK네트웍스'],\n",
    "    '삼성전기': ['Samsung Electro-Mechanics', '삼성전기'],\n",
    "    'SK아이이테크놀로지': ['SK IE Technology', 'SK아이이테크놀로지', 'SKIET'],\n",
    "    'HMM': ['Hyundai Merchant Marine', '현대상선', 'HMM'],\n",
    "    'KT': ['Korea Telecom', 'KT', '케이티'],\n",
    "    '코웨이': ['Coway', '코웨이'],\n",
    "    '팬오션': ['Pan Ocean', '팬오션'],\n",
    "    '삼성SDI': ['삼성에스디아이', 'Samsung SDI', '삼성SDI'],\n",
    "    '신한지주': ['Shinhan Financial Group', '신한금융지주', '신한금융', '신한'],\n",
    "    '한국가스공사': ['한국가스공사', 'KOGAS', '가스공사'],\n",
    "    '농심': ['Nongshim', '농심'],\n",
    "    '영원무역': ['Youngone', '영원무역'],\n",
    "    '금호타이어': ['Kumho Tire', '금호타이어'],\n",
    "    '이마트': ['E-mart', '이마트'],\n",
    "    '삼성생명': ['삼성생명보험', '삼성생명금융서비스', '삼성생명', '삼생'],\n",
    "    '고려아연': ['Korea Zinc', '고려아연', 'KZ'],\n",
    "    'S-Oil': ['에쓰오일', 'S-Oil', '에스오일', 'S-오일'],\n",
    "    '엔씨소프트': ['엔씨소프트', 'NCsoft', 'NC소프트', 'NC'],\n",
    "    '카카오페이': ['KakaoPay', '카카오페이', '카페이']\n",
    "}"
   ]
  },
  {
   "cell_type": "code",
   "execution_count": null,
   "metadata": {
    "id": "jiXFnKnzJa74"
   },
   "outputs": [],
   "source": [
    "\n",
    "\n",
    "# Alphabet list\n",
    "alphabet = list('ABCDEFGHIJKLMNOPQRSTUVWXYZ')\n",
    "\n",
    "def normalize_text(text):\n",
    "    \"\"\"텍스트를 유니코드 NFC 형식으로 정규화, 비문자형 데이터는 빈 문자열로 변환\"\"\"\n",
    "    if isinstance(text, str):\n",
    "        return unicodedata.normalize('NFC', text)\n",
    "    else:\n",
    "        return ''  # NaN 또는 비문자형 데이터를 빈 문자열로 처리\n",
    "\n",
    "def clean_company_name(name):\n",
    "    \"\"\"기업명 정리 및 표준화 (기업명 매핑 딕셔너리 적용)\"\"\"\n",
    "    cleaned_name = normalize_text(name).strip()\n",
    "\n",
    "# Find a name that matches in the dictionary\n",
    "    for standard_name, variations in company_name_mapping.items():\n",
    "        if cleaned_name in variations:\n",
    "            return standard_name\n",
    "\n",
    "# If there is nothing matched, the original name is returned\n",
    "    return cleaned_name\n",
    "\n",
    "def preprocess_content(content):\n",
    "    \"\"\"본문 내용에서 기업명 대체 작업 (조사가 붙어도 매핑되도록 보완)\"\"\"\n",
    "    for original_name, variations in sorted(company_name_mapping.items(), key=lambda x: -len(x[0])):\n",
    "        content = re.sub(rf'({\"|\".join(map(re.escape, variations))})([가-힣]+)?',\n",
    "                         lambda m: original_name + (m.group(2) if m.group(2) else ''),\n",
    "                         content)\n",
    "    return content\n",
    "\n",
    "def generate_anonymized_name(used_names, alphabet):\n",
    "    \"\"\"사용되지 않은 알파벳을 사용해 익명화된 이름을 생성\"\"\"\n",
    "    while True:\n",
    "        anonymized_name = random.choice(alphabet) + '사'\n",
    "        if anonymized_name not in used_names:\n",
    "            used_names.add(anonymized_name)\n",
    "            return anonymized_name\n",
    "\n",
    "def anonymize_article(content, companies, used_names, alphabet):\n",
    "    \"\"\"기업명 익명화 (길이순으로 긴 이름부터 처리)\"\"\"\n",
    "    company_to_anonymous = {}\n",
    "    companies = sorted(companies, key=lambda x: -len(x))\n",
    "\n",
    "    for company in companies:\n",
    "        normalized_company = clean_company_name(company)\n",
    "        if normalized_company not in company_to_anonymous:\n",
    "            company_to_anonymous[normalized_company] = generate_anonymized_name(used_names, alphabet)\n",
    "\n",
    "        try:\n",
    "            content = re.sub(rf'({re.escape(company)})([가-힣]+)?',\n",
    "                             lambda m: company_to_anonymous[normalized_company] + (m.group(2) if m.group(2) else ''),\n",
    "                             content)\n",
    "        except re.error as e:\n",
    "            print(f\"Regex error with company: {company}, Error: {str(e)}\")\n",
    "\n",
    "    return content, company_to_anonymous\n",
    "\n",
    "def anonymize_company_names(df, all_companies, start_row=0):\n",
    "    \"\"\"메인 익명화 함수 (중단된 배치부터 이어서 처리 가능)\"\"\"\n",
    "    alphabet = list('ABCDEFGHIJKLMNOPQRSTUVWXYZ')\n",
    "\n",
    "    tqdm_bar = tqdm(total=len(df), desc=\"진행상황\", mininterval=1, initial=start_row)  # 중단된 곳에서 시작\n",
    "\n",
    "    for i, row in df.iloc[start_row:].iterrows():  # 중단된 지점부터 처리\n",
    "        used_names = set()  # 사용된 알파벳 집합\n",
    "        content = row['content']\n",
    "\n",
    "        if pd.isna(content):\n",
    "            print(f\"Warning: Row {i} has NaN content, skipping this row.\")\n",
    "            continue  # NaN 값을 가진 행은 건너뛰기\n",
    "\n",
    "        content = normalize_text(content)\n",
    "        content = preprocess_content(content)\n",
    "\n",
    "        original_company_name = row['company']\n",
    "\n",
    "        if pd.isna(original_company_name):\n",
    "            print(f\"Warning: Row {i} has NaN company name, skipping this row.\")\n",
    "            continue  # NaN 값을 가진 행은 건너뛰기\n",
    "\n",
    "        original_company_name = clean_company_name(original_company_name)\n",
    "\n",
    "        companies_in_article = [original_company_name]\n",
    "        for company in all_companies:\n",
    "            try:\n",
    "                if re.search(rf'{re.escape(company)}', content):\n",
    "                    companies_in_article.append(company)\n",
    "            except re.error as e:\n",
    "                print(f\"Regex error with company: {company}, Error: {str(e)}\")\n",
    "\n",
    "        anonymized_content, company_to_anonymous = anonymize_article(content, companies_in_article, used_names, alphabet)\n",
    "\n",
    "# .loc safe value assignment\n",
    "        df.loc[i, 'content'] = anonymized_content\n",
    "        df.loc[i, '기업명'] = company_to_anonymous.get(original_company_name, original_company_name)\n",
    "\n",
    "# Output progress every 500th\n",
    "        if i % 500 == 0:\n",
    "            tqdm.write(f\"처리 중인 행 번호: {i}\")\n",
    "            tqdm.write(f\"탐지대상: {companies_in_article}\")\n",
    "            tqdm.write(f\"처리대상: {company_to_anonymous}\")\n",
    "            tqdm.write(f\"익명화중: {row['content']}\")\n",
    "            tqdm.write(f\"익명화됨: {anonymized_content}\")\n",
    "\n",
    "        tqdm_bar.update(1)  # tqdm 진행 상태 업데이트\n",
    "\n",
    "    tqdm_bar.close()\n",
    "    return df\n",
    "\n",
    "def check_completed_batches(output_dir, total_batches):\n",
    "    \"\"\"\n",
    "    이미 처리된 배치 파일을 확인하여 진행 상태를 반환합니다.\n",
    "    \"\"\"\n",
    "    completed_batches = []\n",
    "    for i in range(total_batches):\n",
    "        output_file = os.path.join(output_dir, f'A0-60_anonymized_batch_{i}.csv')\n",
    "        if os.path.exists(output_file):\n",
    "            df = pd.read_csv(output_file)\n",
    "            completed_batches.append((i, len(df)))  # 배치 번호와 처리된 행 수를 저장\n",
    "    return completed_batches\n",
    "\n",
    "def process_batch(batch_file, start_row, all_companies, output_dir, batch_num):\n",
    "    \"\"\"\n",
    "    주어진 배치 파일을 처리하고, 결과를 저장합니다.\n",
    "    중단된 지점부터 다시 처리할 수 있도록 `start_row`부터 처리합니다.\n",
    "    \"\"\"\n",
    "    df_batch = pd.read_csv(batch_file)\n",
    "\n",
    "    anonymized_df = anonymize_company_names(df_batch, all_companies, start_row=start_row)\n",
    "\n",
    "#Save full data including parts already processed\n",
    "    output_file = os.path.join(output_dir, f'A0-60_anonymized_batch_{batch_num}.csv')\n",
    "    anonymized_df.to_csv(output_file, index=False)\n",
    "    print(f'Batch {batch_num} 처리 완료: {start_row}행부터 처리됨.')\n",
    "\n",
    "def process_batches(batch_files, all_companies, output_dir):\n",
    "    \"\"\"\n",
    "    전체 배치 파일을 순차적으로 처리합니다.\n",
    "    이미 처리된 배치 파일이 있으면 그 이후부터 이어서 작업을 진행합니다.\n",
    "    \"\"\"\n",
    "    total_batches = len(batch_files)\n",
    "\n",
    "# Check the already handled batch\n",
    "    completed_batches = check_completed_batches(output_dir, total_batches)\n",
    "    completed_batch_nums = [batch[0] for batch in completed_batches]\n",
    "\n",
    "    for batch_num in tqdm(range(total_batches), desc=\"배치 처리\"):\n",
    "        batch_file = batch_files[batch_num]\n",
    "\n",
    "# Skip the already complete arrangement\n",
    "        if batch_num in completed_batch_nums:\n",
    "            print(f\"Batch {batch_num} 이미 완료됨. 건너뜁니다.\")\n",
    "            continue\n",
    "\n",
    "        print(f\"Batch {batch_num} 처리 시작.\")\n",
    "        process_batch(batch_file, 0, all_companies, output_dir, batch_num)\n"
   ]
  },
  {
   "cell_type": "code",
   "execution_count": null,
   "metadata": {
    "colab": {
     "base_uri": "https://localhost:8080/",
     "height": 1000
    },
    "executionInfo": {
     "elapsed": 157845,
     "status": "error",
     "timestamp": 1727459208165,
     "user": {
      "displayName": "백현지",
      "userId": "02510457579208942463"
     },
     "user_tz": -540
    },
    "id": "Kulgz-PkY1ER",
    "outputId": "5de74dda-b4cc-4ae4-fabf-f371ba463e07"
   },
   "outputs": [
    {
     "name": "stderr",
     "output_type": "stream",
     "text": [
      "\r",
      "배치 처리:   0%|          | 0/4 [00:00<?, ?it/s]"
     ]
    },
    {
     "name": "stdout",
     "output_type": "stream",
     "text": [
      "Batch 0 처리 시작.\n"
     ]
    },
    {
     "name": "stderr",
     "output_type": "stream",
     "text": [
      "\n",
      "\n",
      "\n",
      "\u001b[A\n",
      "\n",
      "배치 처리:   0%|          | 0/4 [00:00<?, ?it/s]\n",
      "진행상황:   1%|▏         | 145/9999 [06:57<23:45,  6.91it/s]\u001b[A\n",
      "\n",
      "\n",
      "\u001b[A\n",
      "\n",
      "배치 처리:   0%|          | 0/4 [00:00<?, ?it/s]\n",
      "진행상황:   1%|▏         | 145/9999 [06:57<23:45,  6.91it/s]\u001b[A\n",
      "\n",
      "\n",
      "\u001b[A\n",
      "\n",
      "배치 처리:   0%|          | 0/4 [00:00<?, ?it/s]\n",
      "진행상황:   1%|▏         | 145/9999 [06:57<23:45,  6.91it/s]\u001b[A\n",
      "\n",
      "\n",
      "\u001b[A\n",
      "\n",
      "배치 처리:   0%|          | 0/4 [00:00<?, ?it/s]\n",
      "진행상황:   1%|▏         | 145/9999 [06:57<23:45,  6.91it/s]\u001b[A\n",
      "\n",
      "\n",
      "\u001b[A\n",
      "\n",
      "배치 처리:   0%|          | 0/4 [00:00<?, ?it/s]\n",
      "진행상황:   1%|▏         | 145/9999 [06:57<23:45,  6.91it/s]\u001b[A\n",
      "\n",
      "진행상황:   0%|          | 0/9999 [00:00<?, ?it/s]\u001b[A\u001b[A"
     ]
    },
    {
     "name": "stdout",
     "output_type": "stream",
     "text": [
      "처리 중인 행 번호: 0\n",
      "탐지대상: ['삼성생명', '삼성전자', '신한지주', '한화생명', '한화', '삼성']\n",
      "처리대상: {'삼성생명': 'X사', '삼성전자': 'B사', '신한지주': 'I사', '한화생명': 'T사', '한화': 'M사'}\n",
      "익명화중: - 금감원에 ''즉시연금'' 민원 몰려- 70%가 B사·M사·교보생명에 집중- 소멸시효 연장 계약자 접수 몰려- 당국, 보험사에 과소지급액 재조사그래픽이데일리 이동훈 기자이데일리 즉시연금 보험금을 덜 받았다며 금융당국에 분쟁 조정을 신청하거나 소비자 단체의 공동소송에 참여한 보험 계약자가 2000명에 육박하는 것으로 나타났다. 특히 이중 빅3 보험사(B사·M사·교보생명)에 70%가량이 집중된 것으로 알려졌다. 지난해 생명보험 업계를 달군 즉시연금 과소 지급액 사태의 파문이 일파만파로 재확산될 가능성을 배제할 수 없는 셈이다. 여기에 금융감독 당국의 보험 담당 임원에 이른바 ‘보험사 저승사자’가 내정된 것으로 알려진데다 올해 본격 부활한 종합 검사의 화살까지 보험사를 겨누면서 보험업계는 좌불안석이다. 즉시연금 과소지급액 환급 2000명 신청금융감독원은 작년 9월부터 인터넷 홈페이지 등을 통해 즉시연금 분쟁 조정 일괄 신청 접수를 받은 결과, 현재까지 1700여 명이 신청했다고 14일 밝혔다. 이와 별개로 민간단체인 금융소비자연맹이 지난해 9월부터 두 차례에 걸쳐 즉시연금을 판매한 B사생명 등 15개 생명보험사를 상대로 덜 받은 보험금을 돌려받겠다며 모집한 공동소송 원고단에도 200명이 넘는 소비자가 몰렸다. 금융당국은 신청 건별로 분류 작업을 통해 실제 구제 대상(현재 1500여 명 추정)을 선별할 예정이다. 논란의 중심에 놓인 즉시연금(만기 환급형 또는 상속 만기형)은 최초 가입 때 보험료를 한꺼번에 내면 보험사가 매달 이자(연금)를 가입자에게 지급하고 계약 만기 때 처음에 납부한 보험료 전액을 돌려주는 상품이다. 앞서 지난해 3월 금감원은 B사생명이 즉시연금 상품 계약자에게 이자를 덜 줬다는 금융분쟁조정위원회 판단을 근거로 B사생명을 비롯해 즉시연금을 판매한 모든 생명 보험사에 “보험금 과소 지급액을 일괄 지급하라”고 권고했다. 보험사가 만기 때 계약자에게 보험료 원금을 돌려줄 돈을 미리 떼고 나머지 금액만 다달이 이자로 준다는 점을 상품 약관에 제대로 설명하지 않았다는 것이다. 하지만 B사생명과 T사은 금감원 권고를 받아들이지 않고 “법원 판결을 받아보겠다”며 회사에 민원을 제기한 계약자를 상대로 소송을 제기한 상태다. 현재까지 금감원이 즉시연금을 덜 줬다고 파악한 21개 생명보험사 중 법정 소송 절차 없이 계약자에게 과소 지급액을 환급하겠다고 나선 보험사는 KDB생명, AIA생명, I사생명, DB생명 등 4개 보험사뿐이다. 상품 약관에는 이자 공제에 관한 내용을 담았으나 보험 계약자에게 이를 구체적으로 설명하지 않았다는 점이 문제가 된 KDB생명의 경우 개별 사례를 따져보고 보험금 추가 지급 여부를 결정하기로 했다. 이처럼 즉시연금 사태가 일단락되지 않고 감독당국과 보험사 간 신경전으로 비화한 사이 2000명에 가까운 소비자가 “나도 덜 받은 보험금을 환급받겠다”며 추가로 분쟁에 뛰어든 것이다. 이는 21개 보험사의 즉시연금 상품에 가입한 전체 계약자(작년 4월 말 기준 유지 계약 12만7087건)의 약 2%에 해당하는 규모다. 이들의 보험금 과소 지급액 지급 여부는 앞으로 서울중앙지방법원, 남부지방법원 등의 1심 판결에 따라 일차적으로 결정될 전망이다. 종합검사, 강성 임원 등판에 보험업계 ‘덜덜’법원 판결과 별개로 즉시연금 문제를 둘러싼 금융당국의 압박은 앞으로 더 거세질 것으로 업계는 예상하고 있다. 당장 금감원 검사국은 즉시연금을 판매한 보험사에 보험금 과소 지급액 지급 계획을 포함한 세부 자료를 제출하라고 추가로 요구한 상태다. 윤석헌 금감원장이 부활시킨 금융회사 종합검사 제도의 올해 첫 타깃으로 B사생명이 거론되는 것도 같은 이유다. 감독당국이 소비자를 우선시하지 않았다는 점을 문제 삼아 고강도 검사에 착수할 수 있다는 것이다. 금감원의 보험 담당 임원(부원장보)에 과거 ‘자살 보험금 미지급 사태’ 해결을 주도한 이성재 여신금융검사국장이 내정됐다는 관측이 확산하면서 보험 업계의 불안감은 더 커지고 있다. 한 생명보험사 관계자는 “금감원의 새 임원으로 무서운 분이 온다고 하니 보험 업계 전체가 숨죽여 지켜보는 상황”이라며 “금감원의 종합 검사 계획 확정 등 추이를 예의주시하고 있다”고 귀띔했다. 다만 즉시연금 사태가 장기전으로 돌입할 수 있다는 전망도 나온다. 보험사가 선뜻 과소 지급액 환급에 나설 리 없고 금감원도 법원 판결이 나오기 전에 먼저 조처에 나서긴 부담스러울 수 있다는 이유에서다\n",
      "익명화됨: - 금감원에 ''즉시연금'' 민원 몰려- 70%가 B사·M사·교보생명에 집중- 소멸시효 연장 계약자 접수 몰려- 당국, 보험사에 과소지급액 재조사그래픽이데일리 이동훈 기자이데일리 즉시연금 보험금을 덜 받았다며 금융당국에 분쟁 조정을 신청하거나 소비자 단체의 공동소송에 참여한 보험 계약자가 2000명에 육박하는 것으로 나타났다. 특히 이중 빅3 보험사(B사·M사·교보생명)에 70%가량이 집중된 것으로 알려졌다. 지난해 생명보험 업계를 달군 즉시연금 과소 지급액 사태의 파문이 일파만파로 재확산될 가능성을 배제할 수 없는 셈이다. 여기에 금융감독 당국의 보험 담당 임원에 이른바 ‘보험사 저승사자’가 내정된 것으로 알려진데다 올해 본격 부활한 종합 검사의 화살까지 보험사를 겨누면서 보험업계는 좌불안석이다. 즉시연금 과소지급액 환급 2000명 신청금융감독원은 작년 9월부터 인터넷 홈페이지 등을 통해 즉시연금 분쟁 조정 일괄 신청 접수를 받은 결과, 현재까지 1700여 명이 신청했다고 14일 밝혔다. 이와 별개로 민간단체인 금융소비자연맹이 지난해 9월부터 두 차례에 걸쳐 즉시연금을 판매한 B사생명 등 15개 생명보험사를 상대로 덜 받은 보험금을 돌려받겠다며 모집한 공동소송 원고단에도 200명이 넘는 소비자가 몰렸다. 금융당국은 신청 건별로 분류 작업을 통해 실제 구제 대상(현재 1500여 명 추정)을 선별할 예정이다. 논란의 중심에 놓인 즉시연금(만기 환급형 또는 상속 만기형)은 최초 가입 때 보험료를 한꺼번에 내면 보험사가 매달 이자(연금)를 가입자에게 지급하고 계약 만기 때 처음에 납부한 보험료 전액을 돌려주는 상품이다. 앞서 지난해 3월 금감원은 B사생명이 즉시연금 상품 계약자에게 이자를 덜 줬다는 금융분쟁조정위원회 판단을 근거로 B사생명을 비롯해 즉시연금을 판매한 모든 생명 보험사에 “보험금 과소 지급액을 일괄 지급하라”고 권고했다. 보험사가 만기 때 계약자에게 보험료 원금을 돌려줄 돈을 미리 떼고 나머지 금액만 다달이 이자로 준다는 점을 상품 약관에 제대로 설명하지 않았다는 것이다. 하지만 B사생명과 T사은 금감원 권고를 받아들이지 않고 “법원 판결을 받아보겠다”며 회사에 민원을 제기한 계약자를 상대로 소송을 제기한 상태다. 현재까지 금감원이 즉시연금을 덜 줬다고 파악한 21개 생명보험사 중 법정 소송 절차 없이 계약자에게 과소 지급액을 환급하겠다고 나선 보험사는 KDB생명, AIA생명, I사생명, DB생명 등 4개 보험사뿐이다. 상품 약관에는 이자 공제에 관한 내용을 담았으나 보험 계약자에게 이를 구체적으로 설명하지 않았다는 점이 문제가 된 KDB생명의 경우 개별 사례를 따져보고 보험금 추가 지급 여부를 결정하기로 했다. 이처럼 즉시연금 사태가 일단락되지 않고 감독당국과 보험사 간 신경전으로 비화한 사이 2000명에 가까운 소비자가 “나도 덜 받은 보험금을 환급받겠다”며 추가로 분쟁에 뛰어든 것이다. 이는 21개 보험사의 즉시연금 상품에 가입한 전체 계약자(작년 4월 말 기준 유지 계약 12만7087건)의 약 2%에 해당하는 규모다. 이들의 보험금 과소 지급액 지급 여부는 앞으로 서울중앙지방법원, 남부지방법원 등의 1심 판결에 따라 일차적으로 결정될 전망이다. 종합검사, 강성 임원 등판에 보험업계 ‘덜덜’법원 판결과 별개로 즉시연금 문제를 둘러싼 금융당국의 압박은 앞으로 더 거세질 것으로 업계는 예상하고 있다. 당장 금감원 검사국은 즉시연금을 판매한 보험사에 보험금 과소 지급액 지급 계획을 포함한 세부 자료를 제출하라고 추가로 요구한 상태다. 윤석헌 금감원장이 부활시킨 금융회사 종합검사 제도의 올해 첫 타깃으로 B사생명이 거론되는 것도 같은 이유다. 감독당국이 소비자를 우선시하지 않았다는 점을 문제 삼아 고강도 검사에 착수할 수 있다는 것이다. 금감원의 보험 담당 임원(부원장보)에 과거 ‘자살 보험금 미지급 사태’ 해결을 주도한 이성재 여신금융검사국장이 내정됐다는 관측이 확산하면서 보험 업계의 불안감은 더 커지고 있다. 한 생명보험사 관계자는 “금감원의 새 임원으로 무서운 분이 온다고 하니 보험 업계 전체가 숨죽여 지켜보는 상황”이라며 “금감원의 종합 검사 계획 확정 등 추이를 예의주시하고 있다”고 귀띔했다. 다만 즉시연금 사태가 장기전으로 돌입할 수 있다는 전망도 나온다. 보험사가 선뜻 과소 지급액 환급에 나설 리 없고 금감원도 법원 판결이 나오기 전에 먼저 조처에 나서긴 부담스러울 수 있다는 이유에서다\n"
     ]
    },
    {
     "name": "stderr",
     "output_type": "stream",
     "text": [
      "\n",
      "\n",
      "진행상황:   0%|          | 7/9999 [00:01<26:23,  6.31it/s]\u001b[A\u001b[A\n",
      "\n",
      "진행상황:   0%|          | 15/9999 [00:02<23:54,  6.96it/s]\u001b[A\u001b[A\n",
      "\n",
      "진행상황:   0%|          | 23/9999 [00:03<23:27,  7.09it/s]\u001b[A\u001b[A\n",
      "\n",
      "진행상황:   0%|          | 31/9999 [00:04<23:16,  7.14it/s]\u001b[A\u001b[A\n",
      "\n",
      "진행상황:   0%|          | 39/9999 [00:05<23:22,  7.10it/s]\u001b[A\u001b[A\n",
      "\n",
      "진행상황:   0%|          | 47/9999 [00:06<23:20,  7.10it/s]\u001b[A\u001b[A\n",
      "\n",
      "진행상황:   1%|          | 55/9999 [00:07<22:59,  7.21it/s]\u001b[A\u001b[A\n",
      "\n",
      "진행상황:   1%|          | 63/9999 [00:08<22:51,  7.25it/s]\u001b[A\u001b[A\n",
      "\n",
      "진행상황:   1%|          | 71/9999 [00:09<22:35,  7.32it/s]\u001b[A\u001b[A\n",
      "\n",
      "진행상황:   1%|          | 79/9999 [00:10<22:26,  7.37it/s]\u001b[A\u001b[A\n",
      "\n",
      "진행상황:   1%|          | 87/9999 [00:12<22:22,  7.38it/s]\u001b[A\u001b[A"
     ]
    },
    {
     "name": "stdout",
     "output_type": "stream",
     "text": [
      "Warning: Row 87 has NaN content, skipping this row.\n"
     ]
    },
    {
     "name": "stderr",
     "output_type": "stream",
     "text": [
      "\n",
      "\n",
      "진행상황:   1%|          | 95/9999 [00:13<22:32,  7.32it/s]\u001b[A\u001b[A\n",
      "\n",
      "진행상황:   1%|          | 103/9999 [00:14<22:20,  7.38it/s]\u001b[A\u001b[A\n",
      "\n",
      "진행상황:   1%|          | 111/9999 [00:15<22:24,  7.36it/s]\u001b[A\u001b[A\n",
      "\n",
      "진행상황:   1%|          | 119/9999 [00:16<22:32,  7.31it/s]\u001b[A\u001b[A\n",
      "\n",
      "진행상황:   1%|▏         | 127/9999 [00:17<22:40,  7.25it/s]\u001b[A\u001b[A\n",
      "\n",
      "진행상황:   1%|▏         | 135/9999 [00:18<22:51,  7.19it/s]\u001b[A\u001b[A\n",
      "\n",
      "진행상황:   1%|▏         | 143/9999 [00:19<22:32,  7.29it/s]\u001b[A\u001b[A\n",
      "\n",
      "배치 처리:   0%|          | 0/4 [02:37<?, ?it/s]\n"
     ]
    },
    {
     "ename": "KeyboardInterrupt",
     "evalue": "",
     "output_type": "error",
     "traceback": [
      "\u001b[0;31m---------------------------------------------------------------------------\u001b[0m",
      "\u001b[0;31mKeyboardInterrupt\u001b[0m                         Traceback (most recent call last)",
      "\u001b[0;32m<ipython-input-8-57f902a6de14>\u001b[0m in \u001b[0;36m<cell line: 13>\u001b[0;34m()\u001b[0m\n\u001b[1;32m     11\u001b[0m \u001b[0;34m\u001b[0m\u001b[0m\n\u001b[1;32m     12\u001b[0m \u001b[0;31m# 배치 처리 프로세스 실행\u001b[0m\u001b[0;34m\u001b[0m\u001b[0;34m\u001b[0m\u001b[0m\n\u001b[0;32m---> 13\u001b[0;31m \u001b[0mprocess_batches\u001b[0m\u001b[0;34m(\u001b[0m\u001b[0mbatch_files\u001b[0m\u001b[0;34m,\u001b[0m \u001b[0mall_companies\u001b[0m\u001b[0;34m,\u001b[0m \u001b[0moutput_dir\u001b[0m\u001b[0;34m)\u001b[0m\u001b[0;34m\u001b[0m\u001b[0;34m\u001b[0m\u001b[0m\n\u001b[0m",
      "\u001b[0;32m<ipython-input-7-f89aad4631a4>\u001b[0m in \u001b[0;36mprocess_batches\u001b[0;34m(batch_files, all_companies, output_dir)\u001b[0m\n\u001b[1;32m    154\u001b[0m \u001b[0;34m\u001b[0m\u001b[0m\n\u001b[1;32m    155\u001b[0m         \u001b[0mprint\u001b[0m\u001b[0;34m(\u001b[0m\u001b[0;34mf\"Batch {batch_num} 처리 시작.\"\u001b[0m\u001b[0;34m)\u001b[0m\u001b[0;34m\u001b[0m\u001b[0;34m\u001b[0m\u001b[0m\n\u001b[0;32m--> 156\u001b[0;31m         \u001b[0mprocess_batch\u001b[0m\u001b[0;34m(\u001b[0m\u001b[0mbatch_file\u001b[0m\u001b[0;34m,\u001b[0m \u001b[0;36m0\u001b[0m\u001b[0;34m,\u001b[0m \u001b[0mall_companies\u001b[0m\u001b[0;34m,\u001b[0m \u001b[0moutput_dir\u001b[0m\u001b[0;34m,\u001b[0m \u001b[0mbatch_num\u001b[0m\u001b[0;34m)\u001b[0m\u001b[0;34m\u001b[0m\u001b[0;34m\u001b[0m\u001b[0m\n\u001b[0m",
      "\u001b[0;32m<ipython-input-7-f89aad4631a4>\u001b[0m in \u001b[0;36mprocess_batch\u001b[0;34m(batch_file, start_row, all_companies, output_dir, batch_num)\u001b[0m\n\u001b[1;32m    127\u001b[0m     \u001b[0mdf_batch\u001b[0m \u001b[0;34m=\u001b[0m \u001b[0mpd\u001b[0m\u001b[0;34m.\u001b[0m\u001b[0mread_csv\u001b[0m\u001b[0;34m(\u001b[0m\u001b[0mbatch_file\u001b[0m\u001b[0;34m)\u001b[0m\u001b[0;34m\u001b[0m\u001b[0;34m\u001b[0m\u001b[0m\n\u001b[1;32m    128\u001b[0m \u001b[0;34m\u001b[0m\u001b[0m\n\u001b[0;32m--> 129\u001b[0;31m     \u001b[0manonymized_df\u001b[0m \u001b[0;34m=\u001b[0m \u001b[0manonymize_company_names\u001b[0m\u001b[0;34m(\u001b[0m\u001b[0mdf_batch\u001b[0m\u001b[0;34m,\u001b[0m \u001b[0mall_companies\u001b[0m\u001b[0;34m,\u001b[0m \u001b[0mstart_row\u001b[0m\u001b[0;34m=\u001b[0m\u001b[0mstart_row\u001b[0m\u001b[0;34m)\u001b[0m\u001b[0;34m\u001b[0m\u001b[0;34m\u001b[0m\u001b[0m\n\u001b[0m\u001b[1;32m    130\u001b[0m \u001b[0;34m\u001b[0m\u001b[0m\n\u001b[1;32m    131\u001b[0m     \u001b[0;31m# 이미 처리된 부분을 포함한 전체 데이터 저장\u001b[0m\u001b[0;34m\u001b[0m\u001b[0;34m\u001b[0m\u001b[0m\n",
      "\u001b[0;32m<ipython-input-7-f89aad4631a4>\u001b[0m in \u001b[0;36manonymize_company_names\u001b[0;34m(df, all_companies, start_row)\u001b[0m\n\u001b[1;32m     89\u001b[0m                 \u001b[0mprint\u001b[0m\u001b[0;34m(\u001b[0m\u001b[0;34mf\"Regex error with company: {company}, Error: {str(e)}\"\u001b[0m\u001b[0;34m)\u001b[0m\u001b[0;34m\u001b[0m\u001b[0;34m\u001b[0m\u001b[0m\n\u001b[1;32m     90\u001b[0m \u001b[0;34m\u001b[0m\u001b[0m\n\u001b[0;32m---> 91\u001b[0;31m         \u001b[0manonymized_content\u001b[0m\u001b[0;34m,\u001b[0m \u001b[0mcompany_to_anonymous\u001b[0m \u001b[0;34m=\u001b[0m \u001b[0manonymize_article\u001b[0m\u001b[0;34m(\u001b[0m\u001b[0mcontent\u001b[0m\u001b[0;34m,\u001b[0m \u001b[0mcompanies_in_article\u001b[0m\u001b[0;34m,\u001b[0m \u001b[0mused_names\u001b[0m\u001b[0;34m,\u001b[0m \u001b[0malphabet\u001b[0m\u001b[0;34m)\u001b[0m\u001b[0;34m\u001b[0m\u001b[0;34m\u001b[0m\u001b[0m\n\u001b[0m\u001b[1;32m     92\u001b[0m \u001b[0;34m\u001b[0m\u001b[0m\n\u001b[1;32m     93\u001b[0m         \u001b[0;31m# .loc로 안전하게 값 할당\u001b[0m\u001b[0;34m\u001b[0m\u001b[0;34m\u001b[0m\u001b[0m\n",
      "\u001b[0;32m<ipython-input-7-f89aad4631a4>\u001b[0m in \u001b[0;36manonymize_article\u001b[0;34m(content, companies, used_names, alphabet)\u001b[0m\n\u001b[1;32m     45\u001b[0m         \u001b[0mnormalized_company\u001b[0m \u001b[0;34m=\u001b[0m \u001b[0mclean_company_name\u001b[0m\u001b[0;34m(\u001b[0m\u001b[0mcompany\u001b[0m\u001b[0;34m)\u001b[0m\u001b[0;34m\u001b[0m\u001b[0;34m\u001b[0m\u001b[0m\n\u001b[1;32m     46\u001b[0m         \u001b[0;32mif\u001b[0m \u001b[0mnormalized_company\u001b[0m \u001b[0;32mnot\u001b[0m \u001b[0;32min\u001b[0m \u001b[0mcompany_to_anonymous\u001b[0m\u001b[0;34m:\u001b[0m\u001b[0;34m\u001b[0m\u001b[0;34m\u001b[0m\u001b[0m\n\u001b[0;32m---> 47\u001b[0;31m             \u001b[0mcompany_to_anonymous\u001b[0m\u001b[0;34m[\u001b[0m\u001b[0mnormalized_company\u001b[0m\u001b[0;34m]\u001b[0m \u001b[0;34m=\u001b[0m \u001b[0mgenerate_anonymized_name\u001b[0m\u001b[0;34m(\u001b[0m\u001b[0mused_names\u001b[0m\u001b[0;34m,\u001b[0m \u001b[0malphabet\u001b[0m\u001b[0;34m)\u001b[0m\u001b[0;34m\u001b[0m\u001b[0;34m\u001b[0m\u001b[0m\n\u001b[0m\u001b[1;32m     48\u001b[0m \u001b[0;34m\u001b[0m\u001b[0m\n\u001b[1;32m     49\u001b[0m         \u001b[0;32mtry\u001b[0m\u001b[0;34m:\u001b[0m\u001b[0;34m\u001b[0m\u001b[0;34m\u001b[0m\u001b[0m\n",
      "\u001b[0;32m<ipython-input-7-f89aad4631a4>\u001b[0m in \u001b[0;36mgenerate_anonymized_name\u001b[0;34m(used_names, alphabet)\u001b[0m\n\u001b[1;32m     32\u001b[0m     \u001b[0;34m\"\"\"사용되지 않은 알파벳을 사용해 익명화된 이름을 생성\"\"\"\u001b[0m\u001b[0;34m\u001b[0m\u001b[0;34m\u001b[0m\u001b[0m\n\u001b[1;32m     33\u001b[0m     \u001b[0;32mwhile\u001b[0m \u001b[0;32mTrue\u001b[0m\u001b[0;34m:\u001b[0m\u001b[0;34m\u001b[0m\u001b[0;34m\u001b[0m\u001b[0m\n\u001b[0;32m---> 34\u001b[0;31m         \u001b[0manonymized_name\u001b[0m \u001b[0;34m=\u001b[0m \u001b[0mrandom\u001b[0m\u001b[0;34m.\u001b[0m\u001b[0mchoice\u001b[0m\u001b[0;34m(\u001b[0m\u001b[0malphabet\u001b[0m\u001b[0;34m)\u001b[0m \u001b[0;34m+\u001b[0m \u001b[0;34m'사'\u001b[0m\u001b[0;34m\u001b[0m\u001b[0;34m\u001b[0m\u001b[0m\n\u001b[0m\u001b[1;32m     35\u001b[0m         \u001b[0;32mif\u001b[0m \u001b[0manonymized_name\u001b[0m \u001b[0;32mnot\u001b[0m \u001b[0;32min\u001b[0m \u001b[0mused_names\u001b[0m\u001b[0;34m:\u001b[0m\u001b[0;34m\u001b[0m\u001b[0;34m\u001b[0m\u001b[0m\n\u001b[1;32m     36\u001b[0m             \u001b[0mused_names\u001b[0m\u001b[0;34m.\u001b[0m\u001b[0madd\u001b[0m\u001b[0;34m(\u001b[0m\u001b[0manonymized_name\u001b[0m\u001b[0;34m)\u001b[0m\u001b[0;34m\u001b[0m\u001b[0;34m\u001b[0m\u001b[0m\n",
      "\u001b[0;32m/usr/lib/python3.10/random.py\u001b[0m in \u001b[0;36mchoice\u001b[0;34m(self, seq)\u001b[0m\n\u001b[1;32m    376\u001b[0m         \u001b[0;34m\"\"\"Choose a random element from a non-empty sequence.\"\"\"\u001b[0m\u001b[0;34m\u001b[0m\u001b[0;34m\u001b[0m\u001b[0m\n\u001b[1;32m    377\u001b[0m         \u001b[0;31m# raises IndexError if seq is empty\u001b[0m\u001b[0;34m\u001b[0m\u001b[0;34m\u001b[0m\u001b[0m\n\u001b[0;32m--> 378\u001b[0;31m         \u001b[0;32mreturn\u001b[0m \u001b[0mseq\u001b[0m\u001b[0;34m[\u001b[0m\u001b[0mself\u001b[0m\u001b[0;34m.\u001b[0m\u001b[0m_randbelow\u001b[0m\u001b[0;34m(\u001b[0m\u001b[0mlen\u001b[0m\u001b[0;34m(\u001b[0m\u001b[0mseq\u001b[0m\u001b[0;34m)\u001b[0m\u001b[0;34m)\u001b[0m\u001b[0;34m]\u001b[0m\u001b[0;34m\u001b[0m\u001b[0;34m\u001b[0m\u001b[0m\n\u001b[0m\u001b[1;32m    379\u001b[0m \u001b[0;34m\u001b[0m\u001b[0m\n\u001b[1;32m    380\u001b[0m     \u001b[0;32mdef\u001b[0m \u001b[0mshuffle\u001b[0m\u001b[0;34m(\u001b[0m\u001b[0mself\u001b[0m\u001b[0;34m,\u001b[0m \u001b[0mx\u001b[0m\u001b[0;34m,\u001b[0m \u001b[0mrandom\u001b[0m\u001b[0;34m=\u001b[0m\u001b[0;32mNone\u001b[0m\u001b[0;34m)\u001b[0m\u001b[0;34m:\u001b[0m\u001b[0;34m\u001b[0m\u001b[0;34m\u001b[0m\u001b[0m\n",
      "\u001b[0;31mKeyboardInterrupt\u001b[0m: "
     ]
    }
   ],
   "source": [
    "# Batch file list (original file name)\n",
    "batch_files = [\n",
    "    '/content/drive/MyDrive/Kwargs/020. 전처리/A0-60_batch/A0-60_batch_0.csv',\n",
    "    '/content/drive/MyDrive/Kwargs/020. 전처리/A0-60_batch/A0-60_batch_1.csv',\n",
    "    '/content/drive/MyDrive/Kwargs/020. 전처리/A0-60_batch/A0-60_batch_2.csv',\n",
    "    '/content/drive/MyDrive/Kwargs/020. 전처리/A0-60_batch/A0-60_batch_3.csv'\n",
    "]\n",
    "\n",
    "# Directory to save after processing\n",
    "output_dir = '/content/drive/MyDrive/Kwargs/020. 전처리/A0-60_anonymized_batch'\n",
    "\n",
    "#Batch processing process execution\n",
    "process_batches(batch_files, all_companies, output_dir)"
   ]
  }
 ],
 "metadata": {
  "colab": {
   "authorship_tag": "ABX9TyN2brNbyKkfta9Hl3Bz4idU",
   "collapsed_sections": [
    "H6t7YV8_YhKD"
   ],
   "machine_shape": "hm",
   "mount_file_id": "1aPptVOlf_9qFW3TdhaH2SkrMghxuckbn",
   "provenance": []
  },
  "kernelspec": {
   "display_name": "Python 3",
   "name": "python3"
  },
  "language_info": {
   "name": "python"
  }
 },
 "nbformat": 4,
 "nbformat_minor": 0
}
