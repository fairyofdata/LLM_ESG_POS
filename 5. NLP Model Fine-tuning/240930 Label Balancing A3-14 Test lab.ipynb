{
 "cells": [
  {
   "cell_type": "code",
   "execution_count": 30,
   "metadata": {
    "colab": {
     "base_uri": "https://localhost:8080/"
    },
    "executionInfo": {
     "elapsed": 2793,
     "status": "ok",
     "timestamp": 1727706782361,
     "user": {
      "displayName": "백현지",
      "userId": "02510457579208942463"
     },
     "user_tz": -540
    },
    "id": "w6KvGMpLcv8D",
    "outputId": "5e4b5a1f-7724-40bf-9188-a44da7879b35"
   },
   "outputs": [
    {
     "name": "stdout",
     "output_type": "stream",
     "text": [
      "Drive already mounted at /content/drive; to attempt to forcibly remount, call drive.mount(\"/content/drive\", force_remount=True).\n"
     ]
    }
   ],
   "source": [
    "from google.colab import drive\n",
    "drive.mount('/content/drive')"
   ]
  },
  {
   "cell_type": "markdown",
   "metadata": {
    "id": "KoK5JJsrxTpk"
   },
   "source": [
    "### 0.4 extraction within the range"
   ]
  },
  {
   "cell_type": "code",
   "execution_count": 31,
   "metadata": {
    "colab": {
     "base_uri": "https://localhost:8080/"
    },
    "executionInfo": {
     "elapsed": 4105,
     "status": "ok",
     "timestamp": 1727706786465,
     "user": {
      "displayName": "백현지",
      "userId": "02510457579208942463"
     },
     "user_tz": -540
    },
    "id": "w1eD-mRPxSyY",
    "outputId": "889223e2-afed-4954-db13-9fd8eef08592"
   },
   "outputs": [
    {
     "name": "stdout",
     "output_type": "stream",
     "text": [
      "First dataset (A3_remaster_combined_ANONYMIZED) label distribution:\n",
      " positivity\n",
      " 1.0    4599\n",
      " 0.0    1277\n",
      "-1.0     751\n",
      "Name: count, dtype: int64\n"
     ]
    }
   ],
   "source": [
    "import pandas as pd\n",
    "\n",
    "# File path setting\n",
    "file_path_1 = '/content/drive/MyDrive/Kwargs/023. esg 긍부정도 라벨러/업데이트/A3_remaster_COMBINED.csv'\n",
    "\n",
    "\n",
    "file_path_2 = '/content/drive/MyDrive/Kwargs/031. 부정변환/Generated_Combinations.csv'\n",
    "\n",
    "# Bring the first dataset\n",
    "df1 = pd.read_csv(file_path_1)\n",
    "df1['company'] = df1['company'].replace('포스코 홀딩스', 'POSCO홀딩스')\n",
    "\n",
    "\n",
    "# Output of data by label of the first dataset\n",
    "print(\"First dataset (A3_remaster_combined_ANONYMIZED) label distribution:\\n\", df1['positivity'].value_counts())"
   ]
  },
  {
   "cell_type": "code",
   "execution_count": 32,
   "metadata": {
    "colab": {
     "base_uri": "https://localhost:8080/",
     "height": 554
    },
    "executionInfo": {
     "elapsed": 551,
     "status": "ok",
     "timestamp": 1727706787013,
     "user": {
      "displayName": "백현지",
      "userId": "02510457579208942463"
     },
     "user_tz": -540
    },
    "id": "4sl4p3Ujfvpg",
    "outputId": "7d9d94fa-654f-4dfd-a00e-1a724139184a"
   },
   "outputs": [
    {
     "data": {
      "text/html": [
       "<div>\n",
       "<style scoped>\n",
       "    .dataframe tbody tr th:only-of-type {\n",
       "        vertical-align: middle;\n",
       "    }\n",
       "\n",
       "    .dataframe tbody tr th {\n",
       "        vertical-align: top;\n",
       "    }\n",
       "\n",
       "    .dataframe thead th {\n",
       "        text-align: right;\n",
       "    }\n",
       "</style>\n",
       "<table border=\"1\" class=\"dataframe\">\n",
       "  <thead>\n",
       "    <tr style=\"text-align: right;\">\n",
       "      <th></th>\n",
       "      <th>count</th>\n",
       "    </tr>\n",
       "    <tr>\n",
       "      <th>company</th>\n",
       "      <th></th>\n",
       "    </tr>\n",
       "  </thead>\n",
       "  <tbody>\n",
       "    <tr>\n",
       "      <th>현대차</th>\n",
       "      <td>954</td>\n",
       "    </tr>\n",
       "    <tr>\n",
       "      <th>현대모비스</th>\n",
       "      <td>729</td>\n",
       "    </tr>\n",
       "    <tr>\n",
       "      <th>삼성SDI</th>\n",
       "      <td>701</td>\n",
       "    </tr>\n",
       "    <tr>\n",
       "      <th>삼성물산</th>\n",
       "      <td>519</td>\n",
       "    </tr>\n",
       "    <tr>\n",
       "      <th>KB금융</th>\n",
       "      <td>479</td>\n",
       "    </tr>\n",
       "    <tr>\n",
       "      <th>기아</th>\n",
       "      <td>475</td>\n",
       "    </tr>\n",
       "    <tr>\n",
       "      <th>SK하이닉스</th>\n",
       "      <td>472</td>\n",
       "    </tr>\n",
       "    <tr>\n",
       "      <th>POSCO홀딩스</th>\n",
       "      <td>447</td>\n",
       "    </tr>\n",
       "    <tr>\n",
       "      <th>신한지주</th>\n",
       "      <td>402</td>\n",
       "    </tr>\n",
       "    <tr>\n",
       "      <th>삼성전자</th>\n",
       "      <td>400</td>\n",
       "    </tr>\n",
       "    <tr>\n",
       "      <th>삼성생명</th>\n",
       "      <td>296</td>\n",
       "    </tr>\n",
       "    <tr>\n",
       "      <th>카카오</th>\n",
       "      <td>290</td>\n",
       "    </tr>\n",
       "    <tr>\n",
       "      <th>삼성바이오로직스</th>\n",
       "      <td>281</td>\n",
       "    </tr>\n",
       "    <tr>\n",
       "      <th>NAVER</th>\n",
       "      <td>182</td>\n",
       "    </tr>\n",
       "  </tbody>\n",
       "</table>\n",
       "</div><br><label><b>dtype:</b> int64</label>"
      ],
      "text/plain": [
       "company\n",
       "현대차                954\n",
       "현대모비스            729\n",
       "삼성SDI              701\n",
       "삼성물산           519\n",
       "KB금융               479\n",
       "기아                   475\n",
       "SK하이닉스            472\n",
       "POSCO홀딩스               447\n",
       "신한지주             402\n",
       "삼성전자            400\n",
       "삼성생명           296\n",
       "카카오                 290\n",
       "삼성바이오로직스    281\n",
       "NAVER                  182\n",
       "Name: count, dtype: int64"
      ]
     },
     "execution_count": 32,
     "metadata": {},
     "output_type": "execute_result"
    }
   ],
   "source": [
    "df1['company'].value_counts()"
   ]
  },
  {
   "cell_type": "code",
   "execution_count": 33,
   "metadata": {
    "executionInfo": {
     "elapsed": 1535,
     "status": "ok",
     "timestamp": 1727706788545,
     "user": {
      "displayName": "백현지",
      "userId": "02510457579208942463"
     },
     "user_tz": -540
    },
    "id": "7wxmDWRTMZtf"
   },
   "outputs": [],
   "source": [
    "# Second work: -1 label supplement\n",
    "df2 = pd.read_csv(file_path_2)\n",
    "\n",
    "# Label -1 grant on all data\n",
    "df2['positivity'] = -1\n",
    "\n",
    "df2 = df2.rename(columns={'text': 'full_text'})\n"
   ]
  },
  {
   "cell_type": "code",
   "execution_count": 47,
   "metadata": {
    "colab": {
     "base_uri": "https://localhost:8080/",
     "height": 209
    },
    "executionInfo": {
     "elapsed": 365,
     "status": "ok",
     "timestamp": 1727707351049,
     "user": {
      "displayName": "백현지",
      "userId": "02510457579208942463"
     },
     "user_tz": -540
    },
    "id": "x2CeRv4sMKcN",
    "outputId": "e1e1712f-4c6f-4690-c54b-1a2ef25b376a"
   },
   "outputs": [
    {
     "data": {
      "text/html": [
       "<div>\n",
       "<style scoped>\n",
       "    .dataframe tbody tr th:only-of-type {\n",
       "        vertical-align: middle;\n",
       "    }\n",
       "\n",
       "    .dataframe tbody tr th {\n",
       "        vertical-align: top;\n",
       "    }\n",
       "\n",
       "    .dataframe thead th {\n",
       "        text-align: right;\n",
       "    }\n",
       "</style>\n",
       "<table border=\"1\" class=\"dataframe\">\n",
       "  <thead>\n",
       "    <tr style=\"text-align: right;\">\n",
       "      <th></th>\n",
       "      <th>count</th>\n",
       "    </tr>\n",
       "    <tr>\n",
       "      <th>positivity</th>\n",
       "      <th></th>\n",
       "    </tr>\n",
       "  </thead>\n",
       "  <tbody>\n",
       "    <tr>\n",
       "      <th>-1.0</th>\n",
       "      <td>4599</td>\n",
       "    </tr>\n",
       "    <tr>\n",
       "      <th>1.0</th>\n",
       "      <td>4599</td>\n",
       "    </tr>\n",
       "    <tr>\n",
       "      <th>0.0</th>\n",
       "      <td>1277</td>\n",
       "    </tr>\n",
       "  </tbody>\n",
       "</table>\n",
       "</div><br><label><b>dtype:</b> int64</label>"
      ],
      "text/plain": [
       "positivity\n",
       "-1.0    4599\n",
       " 1.0    4599\n",
       " 0.0    1277\n",
       "Name: count, dtype: int64"
      ]
     },
     "execution_count": 47,
     "metadata": {},
     "output_type": "execute_result"
    }
   ],
   "source": [
    "# DF1's label distribution confirmation\n",
    "label_counts_df1 = df1['positivity'].value_counts()\n",
    "\n",
    "# Calculation of -1 label in DF1\n",
    "desired_label_minus_1_count = 4599  # 목표 -1 라벨 개수\n",
    "current_label_minus_1_count = label_counts_df1.get(-1, 0)\n",
    "num_to_add = desired_label_minus_1_count - current_label_minus_1_count\n",
    "\n",
    "# DF2 added to DF1 by sampling by Num_to_add\n",
    "if num_to_add > 0:\n",
    "    df2_sampled = df2.sample(num_to_add, random_state=42)\n",
    "\n",
    "Added data supplemented in DF1\n",
    "    df1 = pd.concat([df1, df2_sampled], ignore_index=True)\n",
    "\n",
    "# DF1's new label distribution confirmation\n",
    "new_label_counts_df1 = df1['positivity'].value_counts()\n",
    "new_label_counts_df1"
   ]
  },
  {
   "cell_type": "code",
   "execution_count": 48,
   "metadata": {
    "colab": {
     "base_uri": "https://localhost:8080/",
     "height": 209
    },
    "executionInfo": {
     "elapsed": 362,
     "status": "ok",
     "timestamp": 1727707352634,
     "user": {
      "displayName": "백현지",
      "userId": "02510457579208942463"
     },
     "user_tz": -540
    },
    "id": "zsbcdtuHOybX",
    "outputId": "f9fe283d-6def-4a25-d111-65d5cc939048"
   },
   "outputs": [
    {
     "data": {
      "text/html": [
       "<div>\n",
       "<style scoped>\n",
       "    .dataframe tbody tr th:only-of-type {\n",
       "        vertical-align: middle;\n",
       "    }\n",
       "\n",
       "    .dataframe tbody tr th {\n",
       "        vertical-align: top;\n",
       "    }\n",
       "\n",
       "    .dataframe thead th {\n",
       "        text-align: right;\n",
       "    }\n",
       "</style>\n",
       "<table border=\"1\" class=\"dataframe\">\n",
       "  <thead>\n",
       "    <tr style=\"text-align: right;\">\n",
       "      <th></th>\n",
       "      <th>text_length</th>\n",
       "    </tr>\n",
       "    <tr>\n",
       "      <th>positivity</th>\n",
       "      <th></th>\n",
       "    </tr>\n",
       "  </thead>\n",
       "  <tbody>\n",
       "    <tr>\n",
       "      <th>-1.0</th>\n",
       "      <td>1320.856491</td>\n",
       "    </tr>\n",
       "    <tr>\n",
       "      <th>0.0</th>\n",
       "      <td>1409.266249</td>\n",
       "    </tr>\n",
       "    <tr>\n",
       "      <th>1.0</th>\n",
       "      <td>1366.861274</td>\n",
       "    </tr>\n",
       "  </tbody>\n",
       "</table>\n",
       "</div><br><label><b>dtype:</b> float64</label>"
      ],
      "text/plain": [
       "positivity\n",
       "-1.0    1320.856491\n",
       " 0.0    1409.266249\n",
       " 1.0    1366.861274\n",
       "Name: text_length, dtype: float64"
      ]
     },
     "execution_count": 48,
     "metadata": {},
     "output_type": "execute_result"
    }
   ],
   "source": [
    "# Add the length of each text to add the new column 'Text_length'\n",
    "df1['text_length'] = df1['full_text'].apply(len)\n",
    "\n",
    "# Calculate the average length of text by label\n",
    "average_text_length_per_label = df1.groupby('positivity')['text_length'].mean()\n",
    "average_text_length_per_label"
   ]
  },
  {
   "cell_type": "code",
   "execution_count": 57,
   "metadata": {
    "colab": {
     "base_uri": "https://localhost:8080/"
    },
    "executionInfo": {
     "elapsed": 380,
     "status": "ok",
     "timestamp": 1727707611826,
     "user": {
      "displayName": "백현지",
      "userId": "02510457579208942463"
     },
     "user_tz": -540
    },
    "id": "Pr-pVi35ZdvJ",
    "outputId": "bf9dee4f-a605-4672-be28-4fd397095282"
   },
   "outputs": [
    {
     "data": {
      "text/plain": [
       "(10475, 11)"
      ]
     },
     "execution_count": 57,
     "metadata": {},
     "output_type": "execute_result"
    }
   ],
   "source": [
    "df1.shape"
   ]
  },
  {
   "cell_type": "code",
   "execution_count": 49,
   "metadata": {
    "colab": {
     "base_uri": "https://localhost:8080/"
    },
    "executionInfo": {
     "elapsed": 396,
     "status": "ok",
     "timestamp": 1727707354427,
     "user": {
      "displayName": "백현지",
      "userId": "02510457579208942463"
     },
     "user_tz": -540
    },
    "id": "REPnxRizPWuw",
    "outputId": "63135f4e-0da2-4881-f4c8-ac5c04297fa0"
   },
   "outputs": [
    {
     "name": "stdout",
     "output_type": "stream",
     "text": [
      "수정된 텍스트 샘플 확인:\n",
      "                                            full_text\n",
      "1   '보장성 실적 반 토막' 한화생명 체질 개선 '먹구름' 자본 여력이 계속 생명보험업...\n",
      "2   오너일가 지분 많은 기업 기피하는 애널리스트들 하지만 일감 몰아주기 제한 등 나날이...\n",
      "4   이슈분석]대형IT서비스 3사, 내부거래 얼마나 했나 2017년 국내 IT서비스 시장...\n",
      "8   수익 낮은 퇴직연금, 수수료 다 받아서 되겠나 대로 전면개편 나서신한금융그룹이 퇴직...\n",
      "13  보험사 퇴직연금 성적 까보니… ‘집토끼’만 가득 이에 반해 보험사는 아직까지 별다른...\n",
      "라벨별 평균 텍스트 길이:\n",
      "positivity\n",
      "-1.0    1320.856491\n",
      " 0.0    1409.266249\n",
      " 1.0    1366.861274\n",
      "Name: text_length, dtype: float64\n"
     ]
    }
   ],
   "source": [
    "import pandas as pd\n",
    "\n",
    "# A function that removes text after a certain length based on the end of the text in the text\n",
    "def truncate_text_at_period(text, start=1300, end=1500, step=100):\n",
    "# Find the period from the start section to the end section\n",
    "    while start <= len(text):\n",
    "# Find a period within a given range\n",
    "        period_pos = text.find('.', start, min(end, len(text)))\n",
    "\n",
    "# If the period is in this range, remove the text after that\n",
    "        if period_pos != -1:\n",
    "            return text[:period_pos + 1]  # 마침표까지 포함하여 자르기\n",
    "\n",
    "# Set the next 100 characters if there is no period\n",
    "        start = end\n",
    "        end += step\n",
    "\n",
    "# If you do not find a period within the specified range, return the original text\n",
    "    return text\n",
    "\n",
    "# Virtual DF1 Data Example -Load a real dataset\n",
    "# df1 = pd.read_csv(\"your_file.csv\")\n",
    "\n",
    "# Copy only texts with 'positivity' -1 -1\n",
    "df_minus_0_1 = df1[df1['positivity'] == -1].copy()\n",
    "\n",
    "# Text modification: Find the end of each text and remove the text after that\n",
    "df_minus_0_1['full_text'] = df_minus_0_1['full_text'].apply(lambda x: truncate_text_at_period(x, 1300, 1400, 100))\n",
    "\n",
    "# Reflecting text modified in the original data frame\n",
    "df1.loc[df1['positivity'] == -1, 'full_text'] = df_minus_0_1['full_text']\n",
    "\n",
    "# Confirmation of modified results\n",
    "print(\"수정된 텍스트 샘플 확인:\")\n",
    "print(df1[df1['positivity'] == -1][['full_text']].head())\n",
    "\n",
    "# Add'text_length 'column for text length calculation\n",
    "df1['text_length'] = df1['full_text'].apply(len)\n",
    "\n",
    "# Calculate the average length of text by label\n",
    "average_text_length_per_label = df1.groupby('positivity')['text_length'].mean()\n",
    "\n",
    "# Average text length output\n",
    "print(\"라벨별 평균 텍스트 길이:\")\n",
    "print(average_text_length_per_label)\n"
   ]
  },
  {
   "cell_type": "code",
   "execution_count": 50,
   "metadata": {
    "executionInfo": {
     "elapsed": 6,
     "status": "ok",
     "timestamp": 1727707355616,
     "user": {
      "displayName": "백현지",
      "userId": "02510457579208942463"
     },
     "user_tz": -540
    },
    "id": "o9492JSmRCdu"
   },
   "outputs": [],
   "source": [
    "# File path setting\n",
    "# file_path = '/content/drive/MyDrive/Kwargs/023. esg 긍부정도 라벨러/업데이트/A3_remaster_mapped.csv'\n",
    "# df1.to_csv(file_path, index=False)"
   ]
  },
  {
   "cell_type": "code",
   "execution_count": 51,
   "metadata": {
    "executionInfo": {
     "elapsed": 3,
     "status": "ok",
     "timestamp": 1727707356917,
     "user": {
      "displayName": "백현지",
      "userId": "02510457579208942463"
     },
     "user_tz": -540
    },
    "id": "Tc5cEl8EJunv"
   },
   "outputs": [],
   "source": [
    "#Load Company Names from CSV if needed\n",
    "company_names_df = pd.read_csv('/content/drive/MyDrive/Kwargs/companynames.csv',encoding='euc-kr')\n",
    "company_names_df = company_names_df.dropna()\n",
    "all_companies = company_names_df['종목명'].tolist()"
   ]
  },
  {
   "cell_type": "code",
   "execution_count": 52,
   "metadata": {
    "executionInfo": {
     "elapsed": 4,
     "status": "ok",
     "timestamp": 1727707357288,
     "user": {
      "displayName": "백현지",
      "userId": "02510457579208942463"
     },
     "user_tz": -540
    },
    "id": "F9_tzC5rYuGK"
   },
   "outputs": [],
   "source": [
    "# Company name unification mapping (existing dictionary)\n",
    "company_name_mapping = {\n",
    "    '삼성전자': ['Samsung Electronics', '삼성전자', '삼전'],\n",
    "    'POSCO홀딩스': ['POSCO홀딩스', '포스코홀딩스','포스코 홀딩스', '포스코그룹', 'POSCO', '포스코'],\n",
    "    '현대백화점': ['Hyundai Department Store', '현대백화점', 'HDC', '현백'],\n",
    "    'SK이노베이션': ['에스케이이노베이션', 'SK Innovation', 'SK이노베이션', 'SKI'],\n",
    "    '대한항공': ['Korean Air', '대한항공', 'KAL'],\n",
    "    '삼성물산': ['Samsung C&T', '삼성물산', '삼성건설',],\n",
    "    '현대차': ['Hyundai Motor', '현대자동차', 'Hyundai', '현대차', '현대車', 'HMC'],\n",
    "    '금호석유': ['금호석유화학', 'Kumho Petrochemical', '금호석유', '금호화학', '금호석화'],\n",
    "    '카카오': ['다음카카오', 'KAKAO', 'Kakao', '카카오'],\n",
    "    '효성': ['Hyosung', '효성그룹', '효성'],\n",
    "    '동국제강': ['Dongkuk Steel', 'DONGKUK', '동국제강'],\n",
    "    '하림지주': ['Harim Holdings', '하림지주', '하림그룹', '하림'],\n",
    "    'CJ제일제당': ['CJ CheilJedang', 'CJ제일제당', 'CJ그룹', 'CJ', '씨제이제일제당','씨제이', '제일제당'],\n",
    "    'LG에너지솔루션': ['LG Energy Solution', 'LG에너지솔루션', 'LG에솔', 'LGES'],\n",
    "    '삼성바이오로직스': ['Samsung Biologics', '삼성바이오로직스', '삼성바이오','삼바'],\n",
    "    '셀트리온': ['CELLTRION', 'Celltrion', '셀트리온'],\n",
    "    '하나금융지주': ['Hana Financial Group', '하나금융지주', '하나금융', '하나은행'],\n",
    "    'NAVER': ['네이버주식회사', 'NAVER', '네이버'],\n",
    "    'LG전자': ['LG Electronics', 'LG전자', 'LGE', '엘지전자'],\n",
    "    '한화에어로스페이스': ['Hanwha Aerospace', '한화에어로스페이스', '한화에어로'],\n",
    "    'GS에너지': ['GS Energy', 'GS에너지', 'GS 에너지'],\n",
    "    '우리금융지주': ['Woori Financial Group', '우리금융지주', '우리금융', '우리은행'],\n",
    "    '카카오뱅크': ['KakaoBank', '카카오뱅크', '카뱅'],\n",
    "    'KB금융': ['KB Kookmin Bank', 'KB금융지주', 'KB국민은행', 'KB금융', '국민은행'],\n",
    "    '한화': ['Hanwha', '한화그룹', '한화지주', '한화'],\n",
    "    '삼성중공업': ['Samsung Heavy Industries', '삼성중공업', 'SHI'],\n",
    "    '기아': ['기아자동차', 'Kia Motors', 'Kia', '기아차', '기아'],\n",
    "    '크래프톤': ['KRAFTON', 'Krafton', '크래프톤'],\n",
    "    'LG화학': ['엘지화학', 'LG Chem', 'LG화학'],\n",
    "    '삼성SDS': ['삼성에스디에스', 'Samsung SDS', '삼성SDS'],\n",
    "    'SK텔레콤': ['SK Telecom', 'SK텔레콤','에스케이텔레콤', 'SKT'],\n",
    "    'SK바이오팜': ['SK Biopharmaceuticals', 'SK BioPharm', 'SK바이오팜'],\n",
    "    '아모레퍼시픽': ['Amorepacific', '아모레퍼시픽', '아모레'],\n",
    "    '한국타이어앤테크놀로지': ['한국타이어앤테크놀로지', 'Hankook Tire', '한국타이어'],\n",
    "    'LG생활건강': ['엘지생활건강', 'LG생활건강', 'LG H&H'],\n",
    "    'SK하이닉스': ['에스케이하이닉스','SK하이닉스', 'SK hynix', '하이닉스'],\n",
    "    '한온시스템': ['Hanon Systems', '한온시스템', '한온'],\n",
    "    'LG유플러스': ['LG유플러스', 'LG U+', '엘지유플러스'],\n",
    "    '현대모비스': ['Hyundai Mobis', '현대모비스', '모비스'],\n",
    "    'LG디스플레이': ['LG Display', '엘지디스플레이','LG디스플레이', 'LGD'],\n",
    "    '롯데지주': ['Lotte Corporation', '롯데지주'],\n",
    "    'GS리테일': ['GS Retail', 'GS리테일', 'GS25' ],\n",
    "    '넷마블': ['Netmarble', '넷마블'],\n",
    "    'SK바이오사이언스': ['SK Bioscience', 'SK바이오사이언스', 'SK바사'],\n",
    "    '롯데쇼핑': ['Lotte Shopping', '롯데쇼핑'],\n",
    "    'GS': ['GS그룹', 'GS지주' 'GS'],\n",
    "    'BGF리테일': ['BGF Retail', 'BGF리테일', 'BGF'],\n",
    "    '한미약품': ['Hanmi Pharmaceutical', '한미약품'],\n",
    "    'SK네트웍스': ['SK Networks', 'SK네트웍스'],\n",
    "    '삼성전기': ['Samsung Electro-Mechanics', '삼성전기'],\n",
    "    'SK아이이테크놀로지': ['SK IE Technology', 'SK아이이테크놀로지', 'SKIET'],\n",
    "    'HMM': ['Hyundai Merchant Marine', '현대상선', 'HMM'],\n",
    "    'KT': ['Korea Telecom', 'KT', '케이티'],\n",
    "    '코웨이': ['Coway', '코웨이'],\n",
    "    '팬오션': ['Pan Ocean', '팬오션'],\n",
    "    '삼성SDI': ['삼성에스디아이', 'Samsung SDI', '삼성SDI'],\n",
    "    '신한지주': ['Shinhan Financial Group', '신한금융지주', '신한금융', '신한'],\n",
    "    '한국가스공사': ['한국가스공사', 'KOGAS', '가스공사'],\n",
    "    '농심': ['Nongshim', '농심'],\n",
    "    '영원무역': ['Youngone', '영원무역'],\n",
    "    '금호타이어': ['Kumho Tire', '금호타이어'],\n",
    "    '이마트': ['E-mart', '이마트'],\n",
    "    '삼성생명': ['삼성생명보험', '삼성생명금융서비스', '삼성생명', '삼생'],\n",
    "    '고려아연': ['Korea Zinc', '고려아연', 'KZ'],\n",
    "    'S-Oil': ['에쓰오일', 'S-Oil', '에스오일', 'S-오일'],\n",
    "    '엔씨소프트': ['엔씨소프트', 'NCsoft', 'NC소프트', 'NC'],\n",
    "    '카카오페이': ['KakaoPay', '카카오페이', '카페이']\n",
    "}"
   ]
  },
  {
   "cell_type": "code",
   "execution_count": 60,
   "metadata": {
    "colab": {
     "base_uri": "https://localhost:8080/"
    },
    "executionInfo": {
     "elapsed": 15149,
     "status": "ok",
     "timestamp": 1727707919471,
     "user": {
      "displayName": "백현지",
      "userId": "02510457579208942463"
     },
     "user_tz": -540
    },
    "id": "iPh1oYFKhEEs",
    "outputId": "ae7c250b-01ef-40a0-872d-fa4cc56ba3ae"
   },
   "outputs": [
    {
     "name": "stdout",
     "output_type": "stream",
     "text": [
      "Initial number of rows in df: 10475\n"
     ]
    },
    {
     "name": "stderr",
     "output_type": "stream",
     "text": [
      "\r",
      "매핑 진행 중:   0%|          | 0/10475 [00:00<?, ?it/s]"
     ]
    },
    {
     "name": "stdout",
     "output_type": "stream",
     "text": [
      "Processing row 0: 삼성생명 - '빅3' 암보험금 민원 결론낸다…지급의견서 제출 20일 금융당국 및 보험업계에 따르면 삼성생명은 최근 2건의 암보험 민원에 대한 보험금 지급을 결정하고 금감원에 지급 의견서를 제출\n",
      "Row 0 - Original Company: 삼성생명, Mapped Company: 삼성생명\n",
      "Row 0 - Original Full Text: '빅3' 암보험금 민원 결론낸다…지급의견서 제출 20일 금융당국 및 보험업계에 따르면 삼성생명은 최근 2건의 암보험 민원에 대한 보험금 지급을 결정하고 금감원에 지급 의견서를 제출했다. 금감원이 지급 여부를 검토하라고 지시한 다른 민원 건에 대해서도 순차적으로 지급 의견서를 낼 계획이다. 삼성생명 관계자는 환자의 주치의 판단이 분쟁 조정에서 가장 중요한 기\n",
      "Row 1 - Original Company: 삼성생명, Mapped Company: 삼성생명\n",
      "Row 1 - Original Full Text: '보장성 실적 반 토막' 한화생명 체질 개선 '먹구름' 자본 여력이 계속 생명보험업계 평균을 밑돌고 있는 한화생명의 입장에서 상품 체질 개선은 점점 다급한 숙제가 돼 가고 있다. 2일 금융감독원에 따르면 자산 기준 국내 10대 생보사들이 지난해 1. 3분기 보장성 보험에서 거둔 초회보험료는 총 7326억원으로 전년 동기. 초회보험료는 고객이 보험에 가입하고\n",
      "Row 2 - Original Company: 삼성생명, Mapped Company: 삼성생명\n",
      "Row 2 - Original Full Text: 오너일가 지분 많은 기업 기피하는 애널리스트들 하지만 일감 몰아주기 제한 등 나날이 강화되는 공정거래법 규제 때문에 주가는 최근 1년 사이 고점대비 50. 가까이 떨어지며 부진한 상황이다. 외부 시선 때문에 신사업도 적극적으로 추진하지 못해 애널리스트들은 관리가 어렵다며 외면하고 있다. A사 IR 담당자는 수년전만 해도 10여명의 애널리스트와 소통해왔으나 \n",
      "Row 3 - Original Company: 삼성생명, Mapped Company: 삼성생명\n",
      "Row 3 - Original Full Text: '빅3' 암보험금 민원 결론낸다…지급의견서 제출 20일 금융당국 및 보험업계에 따르면 삼성생명은 최근 2건의 암보험 민원에 대한 보험금 지급을 결정하고 금감원에 지급 의견서를 제출했다. 금감원이 지급 여부를 검토하라고 지시한 다른 민원 건에 대해서도 순차적으로 지급 의견서를 낼 계획이다. 삼성생명 관계자는 환자의 주치의 판단이 분쟁 조정에서 가장 중요한 기\n",
      "Row 4 - Original Company: 삼성생명, Mapped Company: 삼성생명\n",
      "Row 4 - Original Full Text: 이슈분석]대형IT서비스 3사, 내부거래 얼마나 했나 2017년 국내 IT서비스 시장은 12조원대를 돌파했다. 40년간 외형은 성장했지만 미래 전망은 밝지 않다. 향후 10년간 연 평균 성장률은 3. 대로 저성장세가 예상된다. 시장을 주도했던 대기업 계열 3사 역시 높은 내부 거래 비중에 갇혀 성장 돌파구를 찾지 못한다. 블록체인 등 4차 산업혁명 새로운 기\n"
     ]
    },
    {
     "name": "stderr",
     "output_type": "stream",
     "text": [
      "\r",
      "매핑 진행 중:  10%|▉         | 1000/10475 [00:00<00:06, 1374.62it/s]"
     ]
    },
    {
     "name": "stdout",
     "output_type": "stream",
     "text": [
      "Processing row 500: 현대차 - 정규직 KF94, 비정규직 면마스크…마스크 차별에 운다 전국금속노조 산하 현대자동차 비정규직지회장 김현제씨는 5일 CBS노컷뉴스와의 통화에서 코로나19 사태 이후 회사로부터 마스크\n",
      "Row 500 - Original Company: 현대차, Mapped Company: 현대차\n",
      "Row 500 - Original Full Text: 정규직 KF94, 비정규직 면마스크…마스크 차별에 운다 전국금속노조 산하 현대자동차 비정규직지회장 김현제씨는 5일 CBS노컷뉴스와의 통화에서 코로나19 사태 이후 회사로부터 마스크 한 장 받지 못했다며 착잡한 심경을 밝혔다. 김씨에 따르면 지난 2일까지 현대차 울산공장 비정규직지회에 소속된 28개 하청업체 전체에서 비정규직 노동자 1200여명에게 코로나19\n"
     ]
    },
    {
     "name": "stderr",
     "output_type": "stream",
     "text": [
      "\r",
      "매핑 진행 중:  14%|█▍        | 1500/10475 [00:01<00:09, 950.74it/s] "
     ]
    },
    {
     "name": "stdout",
     "output_type": "stream",
     "text": [
      "Processing row 1000: 현대차 - 해외보다 우수한 안전관리 대책 마련…현대차, 경총과 머리맞댄다 이번 업무협약은 안전경영체계에 대한 분야별 해외 우수사례와 동향을 연구하고 당사 현황과 비교해 사업장 안전수준을 획기\n",
      "Row 1000 - Original Company: 현대차, Mapped Company: 현대차\n",
      "Row 1000 - Original Full Text: 해외보다 우수한 안전관리 대책 마련…현대차, 경총과 머리맞댄다 이번 업무협약은 안전경영체계에 대한 분야별 해외 우수사례와 동향을 연구하고 당사 현황과 비교해 사업장 안전수준을 획기적으로 높일 수 있는 종합적인 안전관리 대책을 개발하는 것이 목표다. 현대차는 한국경영자총협회와 조직. 인력 예산 교육 노사관계 안전문화 등 5개 분야의 최고 전문가들을 섭외 및 \n"
     ]
    },
    {
     "name": "stderr",
     "output_type": "stream",
     "text": [
      "\r",
      "매핑 진행 중:  19%|█▉        | 2000/10475 [00:02<00:10, 815.84it/s]"
     ]
    },
    {
     "name": "stdout",
     "output_type": "stream",
     "text": [
      "Processing row 1500: 신한지주 - 은행 숙원사업 '겸업주의 전환' 토론의 장 열렸다…규제 풀어야 금융업 내에서는 전업주의 원칙이 고수되고 금융 주도의 비금융 융합도 제한돼 혁신이 어려운만큼 전업주의 규제 개선 필요\n",
      "Row 1500 - Original Company: 신한지주, Mapped Company: 신한지주\n",
      "Row 1500 - Original Full Text: 은행 숙원사업 '겸업주의 전환' 토론의 장 열렸다…규제 풀어야 금융업 내에서는 전업주의 원칙이 고수되고 금융 주도의 비금융 융합도 제한돼 혁신이 어려운만큼 전업주의 규제 개선 필요성에 대한 논의의 장 마련을 위해 개최된 세미나이다. 첫 번째 발표자로 나선 중앙대학교 여은정 교수는 . 디지털 시대의 금융업간 겸업주의 논의와 대응방안. 빅테크 금융업자의 등장으\n"
     ]
    },
    {
     "name": "stderr",
     "output_type": "stream",
     "text": [
      "\r",
      "매핑 진행 중:  24%|██▍       | 2500/10475 [00:02<00:09, 837.85it/s]"
     ]
    },
    {
     "name": "stdout",
     "output_type": "stream",
     "text": [
      "Processing row 2000: 현대모비스 - '미래 먹거리' 수소사업에 포부 드러낸 한국 기업들…그 면면은 효성 등 5개 그룹사는 2030년까지 40조원이 넘는 금액을 수소 사업에 투자할 계획인데. 수소 사업에서 경쟁력을 확\n",
      "Row 2000 - Original Company: 현대모비스, Mapped Company: 현대모비스\n",
      "Row 2000 - Original Full Text: '미래 먹거리' 수소사업에 포부 드러낸 한국 기업들…그 면면은 효성 등 5개 그룹사는 2030년까지 40조원이 넘는 금액을 수소 사업에 투자할 계획인데. 수소 사업에서 경쟁력을 확보하기 위해 기업 간 협력과 경쟁 역시 치열한 모습이다. 8일 경기 고양시 킨텍스에서 열린 . 2021 수소모빌리티쇼. 에는 현대차그룹과 SK. 포스코 등 150여개 기업이 참여해\n"
     ]
    },
    {
     "name": "stderr",
     "output_type": "stream",
     "text": [
      "\r",
      "매핑 진행 중:  29%|██▊       | 3000/10475 [00:03<00:08, 848.34it/s]"
     ]
    },
    {
     "name": "stdout",
     "output_type": "stream",
     "text": [
      "Processing row 2500: 카카오 - 네이버·카카오 ESG 등급 1계단 상승…환경 부문 개선 세부적으로 환경 부문이 A등급으로 지난해 대비 한 단계 상향됐고 지배구조와 사회 부문은 각각 A와 A등급으로 지난해와 같았다\n",
      "Row 2500 - Original Company: 카카오, Mapped Company: 카카오\n",
      "Row 2500 - Original Full Text: 네이버·카카오 ESG 등급 1계단 상승…환경 부문 개선 세부적으로 환경 부문이 A등급으로 지난해 대비 한 단계 상향됐고 지배구조와 사회 부문은 각각 A와 A등급으로 지난해와 같았다. 네이버는 2040 카본 네거티브 달성을 위한 로드맵 이행. 과 반부패 경영 시스템. 도입 및 인증 등 환경 및 사회 부문에서 ESG 경영 강화를 위한 노력을 이어나가고 있다고 \n"
     ]
    },
    {
     "name": "stderr",
     "output_type": "stream",
     "text": [
      "\r",
      "매핑 진행 중:  33%|███▎      | 3500/10475 [00:03<00:08, 852.98it/s]"
     ]
    },
    {
     "name": "stdout",
     "output_type": "stream",
     "text": [
      "Processing row 3000: KB금융 - 환경 지키고 사회 보듬고 ESG로 지속 가능한 성장 세계 3대 연기금 중 하나인 노르웨이 국부펀드는 환경오염을 일으키거나 인권을 침해하는 기업에 투자하지 않기로 했다. 국민연금도 \n",
      "Row 3000 - Original Company: KB금융, Mapped Company: KB금융\n",
      "Row 3000 - Original Full Text: 환경 지키고 사회 보듬고 ESG로 지속 가능한 성장 세계 3대 연기금 중 하나인 노르웨이 국부펀드는 환경오염을 일으키거나 인권을 침해하는 기업에 투자하지 않기로 했다. 국민연금도 ESG를 투자 결정에 반영하겠다고 밝혔다. 소비자 역시 ESG를 제품 구매에 중요한 부분으로 인식하고 있다. 국내 기업들이 ESG 경영 행보를 강화하고 있는 이유다. 환경부터 지역\n"
     ]
    },
    {
     "name": "stderr",
     "output_type": "stream",
     "text": [
      "\r",
      "매핑 진행 중:  38%|███▊      | 4000/10475 [00:04<00:07, 868.03it/s]"
     ]
    },
    {
     "name": "stdout",
     "output_type": "stream",
     "text": [
      "Processing row 3500: 삼성SDI - 배터리시장 10년내 20배 성장… 전기차 관련 기업, 투자 경쟁 이미 글로벌 배터리 업체 1위. 2위인 CATL과 파나소닉은 수 조원의 영업이익을 달성하고 있다. 18일 외신과 관\n",
      "Row 3500 - Original Company: 삼성SDI, Mapped Company: 삼성SDI\n",
      "Row 3500 - Original Full Text: 배터리시장 10년내 20배 성장… 전기차 관련 기업, 투자 경쟁 이미 글로벌 배터리 업체 1위. 2위인 CATL과 파나소닉은 수 조원의 영업이익을 달성하고 있다. 18일 외신과 관련 업계에 따르면 테슬라는 최근 미국 캘리포니아 프레몬트 공장에서 자사가 개발한 배터리를 시범 생산하기 위한 라인을 구축 중인 것으로 알려졌다. 테슬라는 그동안 일본의 파나소닉으로\n"
     ]
    },
    {
     "name": "stderr",
     "output_type": "stream",
     "text": [
      "\r",
      "매핑 진행 중:  43%|████▎     | 4500/10475 [00:05<00:06, 855.06it/s]"
     ]
    },
    {
     "name": "stdout",
     "output_type": "stream",
     "text": [
      "Processing row 4000: 삼성SDI - 日 파나소닉, 배터리 사업 집중 위해 자동차 부품 자회사 매각 이번 매각은 파나소닉이 미래 먹거리인 배터리 사업에 역량을 집중하려는 야심을 본격화 한 것이라는 게 일본 내 대체적 \n",
      "Row 4000 - Original Company: 삼성SDI, Mapped Company: 삼성SDI\n",
      "Row 4000 - Original Full Text: 日 파나소닉, 배터리 사업 집중 위해 자동차 부품 자회사 매각 이번 매각은 파나소닉이 미래 먹거리인 배터리 사업에 역량을 집중하려는 야심을 본격화 한 것이라는 게 일본 내 대체적 시각이다. 20일 닛케이에 따르면 파나소닉홀딩스는 미국 사모펀드인 아폴로 글로벌 매니지먼트 그룹에 오토모티브 시스템즈를 매각하는 방안에 대한 합의를 마쳤다. 파나소닉은 오토모티브 \n"
     ]
    },
    {
     "name": "stderr",
     "output_type": "stream",
     "text": [
      "\r",
      "매핑 진행 중:  48%|████▊     | 5000/10475 [00:05<00:06, 861.18it/s]"
     ]
    },
    {
     "name": "stdout",
     "output_type": "stream",
     "text": [
      "Processing row 4500: SK하이닉스 - 韓-네덜란드 '작지만 강한 나라' 공통점…반도체·모빌리티 머리 맞대자 이날 한국 측에서는 구자열 무협 회장을 비롯해 경계현 삼성전자 DS부문장 사장. 곽노정 SK하이닉스 대표이사 \n",
      "Row 4500 - Original Company: SK하이닉스, Mapped Company: SK하이닉스\n",
      "Row 4500 - Original Full Text: 韓-네덜란드 '작지만 강한 나라' 공통점…반도체·모빌리티 머리 맞대자 이날 한국 측에서는 구자열 무협 회장을 비롯해 경계현 삼성전자 DS부문장 사장. 곽노정 SK하이닉스 대표이사 사장. 김동욱 현대자동차 부사장. 황철주 주성엔지니어링 회장 등이 참석했다. 정부에서는 안덕근 산업통상자원부 통상교섭본부장이 참석했다. 네덜란드 측에서는 잉그리드 테이슨 네덜란드 \n"
     ]
    },
    {
     "name": "stderr",
     "output_type": "stream",
     "text": [
      "\r",
      "매핑 진행 중:  53%|█████▎    | 5500/10475 [00:06<00:05, 877.21it/s]"
     ]
    },
    {
     "name": "stdout",
     "output_type": "stream",
     "text": [
      "Processing row 5000: 삼성바이오로직스 - 경증환자 위한 항체치료제 나오나… 다국적제약사끼리 '공동연구' 28일 관련업계에 따르면 일라이릴리와 GSK는 27일. 홈페이지를 통해 양사가 개발 중인 코로나19 항체치료제를 혼용\n",
      "Row 5000 - Original Company: 삼성바이오로직스, Mapped Company: 삼성바이오로직스\n",
      "Row 5000 - Original Full Text: 경증환자 위한 항체치료제 나오나… 다국적제약사끼리 '공동연구' 28일 관련업계에 따르면 일라이릴리와 GSK는 27일. 홈페이지를 통해 양사가 개발 중인 코로나19 항체치료제를 혼용한 새로운 항체 칵테일요법을 개발하기 위해 협력했다고 밝혔다. 다국적제약사와 협력해 코로나19 변이에 대응양사는 저위험 경증 및 중등도 코로나19 환자들을 대상으로 일라이릴리의 .\n"
     ]
    },
    {
     "name": "stderr",
     "output_type": "stream",
     "text": [
      "\r",
      "매핑 진행 중:  57%|█████▋    | 6000/10475 [00:06<00:05, 864.08it/s]"
     ]
    },
    {
     "name": "stdout",
     "output_type": "stream",
     "text": [
      "Processing row 5500: POSCO홀딩스 - 포스코퓨처엠·LG화학·롯데케미칼, 한자리 모여 질문 던진 이유 다만 법안 내용이 복잡해 국내 배터리 관련 업체들의 머릿속은 복잡하다. 최근 IRA 세부 조항이 공개되면서 국내 업체\n",
      "Row 5500 - Original Company: POSCO홀딩스, Mapped Company: POSCO홀딩스\n",
      "Row 5500 - Original Full Text: 포스코퓨처엠·LG화학·롯데케미칼, 한자리 모여 질문 던진 이유 다만 법안 내용이 복잡해 국내 배터리 관련 업체들의 머릿속은 복잡하다. 최근 IRA 세부 조항이 공개되면서 국내 업체들이 대응책 마련에 고심하고 있다. IRA 성공적인 준비 한국배터리산업협회는 김앤장 법률사무소와 함께 14일 서울 양재동 엘타워에서 . 미국 IRA 활용 전략과 기술수출 관련 설명\n"
     ]
    },
    {
     "name": "stderr",
     "output_type": "stream",
     "text": [
      "\r",
      "매핑 진행 중:  62%|██████▏   | 6500/10475 [00:07<00:04, 868.42it/s]"
     ]
    },
    {
     "name": "stdout",
     "output_type": "stream",
     "text": [
      "Processing row 6000: 기아 - 현대차·기아 4개車, 美충돌평가 '최고안전' 등급 등급을 받은 모델은 현대 팰리세이드. 제네시스 G90 등이고. TSP 등급은 현대 쏘나타가 받았다. 북미 시장에 출시된 신차를 대\n",
      "Row 6000 - Original Company: 기아, Mapped Company: 기아\n",
      "Row 6000 - Original Full Text: 현대차·기아 4개車, 美충돌평가 '최고안전' 등급 등급을 받은 모델은 현대 팰리세이드. 제네시스 G90 등이고. TSP 등급은 현대 쏘나타가 받았다. 북미 시장에 출시된 신차를 대상으로 깐깐하고 혹독한 실험을 진행하기로 유명한 IIHS는 올해 충돌 평가 기준을 기존보다 강화했다. 측면 충돌 평가의 경우 차량과 충돌하는 물체의 질량은 약 1497. 으로 늘어\n"
     ]
    },
    {
     "name": "stderr",
     "output_type": "stream",
     "text": [
      "\r",
      "매핑 진행 중:  67%|██████▋   | 7000/10475 [00:07<00:03, 869.93it/s]"
     ]
    },
    {
     "name": "stdout",
     "output_type": "stream",
     "text": [
      "Processing row 6500: 삼성물산 - 삼성전자 정보보호 투자 독보적 수준···작년 6939억원 집행 1일 의 확인에 따르면 총 630개 기업이 자신의 정보보호 현황을 공시했다. 국내 598개 기업에게 지난 6월 30일\n",
      "Row 6500 - Original Company: 삼성물산, Mapped Company: 삼성물산\n",
      "Row 6500 - Original Full Text: 삼성전자 정보보호 투자 독보적 수준···작년 6939억원 집행 1일 의 확인에 따르면 총 630개 기업이 자신의 정보보호 현황을 공시했다. 국내 598개 기업에게 지난 6월 30일까지 정보보호 현황을 공시해야 할 의무가 부여됐는데. 공시 의무 대상자가 아닌 기업들 일부도 정보 공개에 참여한 상태다. 공개된 내용은 2021년 연말 기준 정보기술. 과 정보보호\n"
     ]
    },
    {
     "name": "stderr",
     "output_type": "stream",
     "text": [
      "\r",
      "매핑 진행 중:  72%|███████▏  | 7500/10475 [00:08<00:03, 849.21it/s]"
     ]
    },
    {
     "name": "stdout",
     "output_type": "stream",
     "text": [
      "Processing row 7000: nan - ESG 관점에서 내부거래에 대한 감시 기능이 개선되지 않고 있고, 거버넌스 위원회의 독립성 강화 및 심의범위 확대에 대한 강조가 부족하다. ESG 관점에서는 3대 사업장 사고( 추\n",
      "Row 7000 - Original Company: NAVER, Mapped Company: NAVER\n",
      "Row 7000 - Original Full Text: ESG 관점에서 내부거래에 대한 감시 기능이 개선되지 않고 있고, 거버넌스 위원회의 독립성 강화 및 심의범위 확대에 대한 강조가 부족하다. ESG 관점에서는 3대 사업장 사고( 추락, 실패, 미끄러짐)를 대상으로 하고 집중 감축 시책을 실행하려는 노력에도 불구하고 전체 안전사고는 21%에 불과한 것으로 나타났다. 2020년 코로나19 악화로 인한 출장 제한\n"
     ]
    },
    {
     "name": "stderr",
     "output_type": "stream",
     "text": [
      "\r",
      "매핑 진행 중:  76%|███████▋  | 8000/10475 [00:09<00:02, 842.96it/s]"
     ]
    },
    {
     "name": "stdout",
     "output_type": "stream",
     "text": [
      "Processing row 7500: nan - ESG 관점에서는, 경직된 근로시간제는 근로자가 40시간 근무를 엄격히 준수해야 하는 유연근무제 하에서 동태적인 근로문화 발전을 저해하기 위해 2019년 7월부터 시행되었다. 더욱\n",
      "Row 7500 - Original Company: 효성, Mapped Company: 효성\n",
      "Row 7500 - Original Full Text: ESG 관점에서는, 경직된 근로시간제는 근로자가 40시간 근무를 엄격히 준수해야 하는 유연근무제 하에서 동태적인 근로문화 발전을 저해하기 위해 2019년 7월부터 시행되었다. 더욱이 미래에는 ESG 관점에서 기후변화의 위험에 의해 촉발된 환경 변화 결과 새로운 제품과 서비스에 대한 수요가 증가할 수 있다. ESG 관점에서 인권검사 과정은 충분한 초점과 실효\n"
     ]
    },
    {
     "name": "stderr",
     "output_type": "stream",
     "text": [
      "\r",
      "매핑 진행 중:  81%|████████  | 8500/10475 [00:09<00:02, 838.02it/s]"
     ]
    },
    {
     "name": "stdout",
     "output_type": "stream",
     "text": [
      "Processing row 8000: nan - ESG 관점에서 국가별 옥인증 획득, KNOX 보안절차 AIVD Traficom ISCCC STRK CCN CCN CCN CCN CCN CCN CCN CCN CCN CCN CCN \n",
      "Row 8000 - Original Company: 한화, Mapped Company: 한화\n",
      "Row 8000 - Original Full Text: ESG 관점에서 국가별 옥인증 획득, KNOX 보안절차 AIVD Traficom ISCCC STRK CCN CCN CCN CCN CCN CCN CCN CCN CCN CCN CCN CCN CCN CCN CCN CCN CCN CCN CCN CCN CCN CCN CCN CCN CCN CCN CCN CCN CCN CCN CCN CCN CCN CCN CCN CCN \n"
     ]
    },
    {
     "name": "stderr",
     "output_type": "stream",
     "text": [
      "\r",
      "매핑 진행 중:  86%|████████▌ | 9000/10475 [00:10<00:01, 839.49it/s]"
     ]
    },
    {
     "name": "stdout",
     "output_type": "stream",
     "text": [
      "Processing row 8500: nan - ESG 관점에서 재단은 원래 삼천리재단으로 알려졌지만 1992년 설립자의 이름과 단양 공장 소재지를 따서 우덕재단으로 개칭하였다. 더욱이 ESG 관점에서 고객 가치를 창출하고 시장\n",
      "Row 8500 - Original Company: 한온시스템, Mapped Company: 한온시스템\n",
      "Row 8500 - Original Full Text: ESG 관점에서 재단은 원래 삼천리재단으로 알려졌지만 1992년 설립자의 이름과 단양 공장 소재지를 따서 우덕재단으로 개칭하였다. 더욱이 ESG 관점에서 고객 가치를 창출하고 시장에서 앞서 가기 위해 기술 경쟁력과 차세대 성장 동력을 선제적으로 발굴·개발하려는 의도는 아니다. ESG 관점에서 한온시스템의 파트너들은 행동법상 사업을 영위하고 수행하는 국가의 \n"
     ]
    },
    {
     "name": "stderr",
     "output_type": "stream",
     "text": [
      "\r",
      "매핑 진행 중:  91%|█████████ | 9500/10475 [00:11<00:01, 836.38it/s]"
     ]
    },
    {
     "name": "stdout",
     "output_type": "stream",
     "text": [
      "Processing row 9000: nan - 농심교육은 ESG 관점에서 보다 포용적인 기업문화 조성을 위한 지속적인 노력이 대두되고 있음에도 불구하고, 장애 이해도 향상을 위한 인식 제고 세션을 연 1회, 온라인과 오프라인으\n",
      "Row 9000 - Original Company: 하나금융지주, Mapped Company: 하나금융지주\n",
      "Row 9000 - Original Full Text: 농심교육은 ESG 관점에서 보다 포용적인 기업문화 조성을 위한 지속적인 노력이 대두되고 있음에도 불구하고, 장애 이해도 향상을 위한 인식 제고 세션을 연 1회, 온라인과 오프라인으로만 실시하여 장애 포용을 제대로 해결하지 못하고 있다. ESG 관점에서 행사 참여 MD는 주요 점포 행사장에서 대규모 오프라인 행사를 편성하게 되며, 이는 환경적, 사회적 영향을\n"
     ]
    },
    {
     "name": "stderr",
     "output_type": "stream",
     "text": [
      "\r",
      "매핑 진행 중:  95%|█████████▌| 10000/10475 [00:11<00:00, 829.96it/s]"
     ]
    },
    {
     "name": "stdout",
     "output_type": "stream",
     "text": [
      "Processing row 9500: nan - 판교점 신규 브랜드 매장은 현대서울의 성공적인 모델과 달리 MZ세대를 위한 맞춤형 큐레이션 전략이 부족하고, 개인차 키holder 비스듬이, 전기자전거 등 기존 백화점에서 부족했던\n",
      "Row 9500 - Original Company: nan, Mapped Company: \n",
      "Row 9500 - Original Full Text: 판교점 신규 브랜드 매장은 현대서울의 성공적인 모델과 달리 MZ세대를 위한 맞춤형 큐레이션 전략이 부족하고, 개인차 키holder 비스듬이, 전기자전거 등 기존 백화점에서 부족했던 프리미엄 라이프스타일 콘텐츠가 크게 부족한 점이 특징이다. 신고범위에서 고유국가/사업장 특성을 고려하지 않고 환경·사회적 요인과 같은 지속가능 성과지표 수집·평가 체계를 구현하지\n"
     ]
    },
    {
     "name": "stderr",
     "output_type": "stream",
     "text": [
      "\r",
      "매핑 진행 중: 10500it [00:12, 819.64it/s]                           "
     ]
    },
    {
     "name": "stdout",
     "output_type": "stream",
     "text": [
      "Processing row 10000: nan - ESG 관점에서 SK하이닉스의 수스트레스지역 수자원관리는 미흡한 실정으로 생산사업장이 위치한 지역의 수스트레스 수준을 효과적으로 평가하지 못해 수소소소 우려 해소에 적절한 대책이 \n",
      "Row 10000 - Original Company: 카카오, Mapped Company: 카카오\n",
      "Row 10000 - Original Full Text: ESG 관점에서 SK하이닉스의 수스트레스지역 수자원관리는 미흡한 실정으로 생산사업장이 위치한 지역의 수스트레스 수준을 효과적으로 평가하지 못해 수소소소 우려 해소에 적절한 대책이 부족하다. 더욱이 ESG 관점에서 직무 순환과 MBA 교육 같은 성장 기회를 제공하지 못해 핵심 인재의 발전을 소홀히 하고 있다. 이해관계자 범주를 기준으로 중요한 해결되지 않은 \n"
     ]
    },
    {
     "name": "stderr",
     "output_type": "stream",
     "text": [
      "\r",
      "매핑 진행 중: 10500it [00:13, 807.42it/s]\n"
     ]
    },
    {
     "name": "stdout",
     "output_type": "stream",
     "text": [
      "Number of rows after mapping: 10475\n",
      "매핑 작업이 완료되었습니다: /content/drive/MyDrive/Kwargs/023. esg 긍부정도 라벨러/업데이트/A3_remaster_COMBINED_mapped.csv\n"
     ]
    }
   ],
   "source": [
    "import pandas as pd\n",
    "import re\n",
    "import unicodedata\n",
    "from tqdm import tqdm\n",
    "\n",
    "##### Used because it is balanced data\n",
    "df = df1.copy()\n",
    "\n",
    "# Unicode normalization function (conversion of inscription data into an empty string)\n",
    "def normalize_text(text):\n",
    "    \"\"\"텍스트를 유니코드 NFC 형식으로 정규화, 비문자형 데이터는 빈 문자열로 변환\"\"\"\n",
    "    if isinstance(text, str):\n",
    "        return unicodedata.normalize('NFC', text)\n",
    "    else:\n",
    "        return ''  # NaN 값을 빈 문자열로 처리\n",
    "\n",
    "# Functions that summarize in standardized names by applying the company name mapping\n",
    "def clean_company_name(name):\n",
    "    \"\"\"기업명 정리 및 표준화 (기업명 매핑 딕셔너리 적용)\"\"\"\n",
    "    cleaned_name = normalize_text(name).strip()\n",
    "\n",
    "# Find a name that matches the dictionary (home: Company_name_mapping)\n",
    "    for standard_name, variations in company_name_mapping.items():\n",
    "        if cleaned_name in variations:\n",
    "            return standard_name\n",
    "\n",
    "# If there is nothing matched, the original name is returned\n",
    "    return cleaned_name\n",
    "\n",
    "# Functions that replace the company name in the text\n",
    "def preprocess_content(content):\n",
    "    \"\"\"본문 내용에서 기업명 대체 작업 (조사가 붙어도 매핑되도록 보완)\"\"\"\n",
    "    for original_name, variations in sorted(company_name_mapping.items(), key=lambda x: -len(x[0])):\n",
    "        if any(variation in content for variation in variations):\n",
    "            try:\n",
    "# Replace the company name transformed in the text with a standardized name\n",
    "                content = re.sub(rf'({\"|\".join(map(re.escape, variations))})([가-힣]+)?',\n",
    "                                 lambda m: original_name + (m.group(2) if m.group(2) else ''),\n",
    "                                 content)\n",
    "            except re.error as e:\n",
    "                print(f\"Regex error: {e}\")\n",
    "    return content\n",
    "\n",
    "# Company name mapping is performed on 'full_text' and 'company' columns of data frame\n",
    "def map_company_names(df):\n",
    "    \"\"\"기업명 매핑 및 본문 내용 매핑 작업 수행\"\"\"\n",
    "    tqdm_bar = tqdm(total=len(df), desc=\"매핑 진행 중\")\n",
    "\n",
    "    for i, row in df.iterrows():\n",
    "# Debugging message to confirm omission for each row\n",
    "        if i % 500 == 0:\n",
    "            print(f\"Processing row {i}: {row['company']} - {row['full_text'][:100]}\")\n",
    "\n",
    "#Mapping in 'Full_text' column\n",
    "        content = row['full_text']\n",
    "        if pd.isna(content):\n",
    "            print(f\"Warning: Row {i} has NaN content, skipping this row.\")\n",
    "            continue  # NaN 값을 가진 행은 건너뛰기\n",
    "\n",
    "        content = normalize_text(content)\n",
    "        content = preprocess_content(content)\n",
    "\n",
    "# Update mapped text\n",
    "        df.loc[i, 'full_text'] = content\n",
    "\n",
    "# Mapping in'COMPANY 'column\n",
    "        company_name = row['company']\n",
    "        if pd.isna(company_name):  # 회사 이름이 없는 경우에도 본문에서 매핑된 기업명을 찾음\n",
    "            for standard_name, variations in company_name_mapping.items():\n",
    "                if any(variation in content for variation in variations):\n",
    "                    company_name = standard_name\n",
    "                    break\n",
    "\n",
    "        cleaned_name = clean_company_name(company_name)\n",
    "\n",
    "# Update the mapped company name\n",
    "        df.loc[i, 'company'] = cleaned_name\n",
    "\n",
    "# The first five are output, and after that, each 500 progresses are output.\n",
    "        if i < 5 or i % 500 == 0:\n",
    "            print(f\"Row {i} - Original Company: {company_name}, Mapped Company: {cleaned_name}\")\n",
    "            print(f\"Row {i} - Original Full Text: {row['full_text'][:200]}\")\n",
    "\n",
    "        if i % 500 == 0:\n",
    "            tqdm_bar.update(500)\n",
    "\n",
    "    tqdm_bar.close()\n",
    "    return df\n",
    "\n",
    "# Company name mapping information load\n",
    "company_names_df = pd.read_csv('/content/drive/MyDrive/Kwargs/companynames.csv', encoding='euc-kr')\n",
    "company_names_df = company_names_df.dropna()\n",
    "all_companies = company_names_df['종목명'].tolist()\n",
    "\n",
    "# Check the data size\n",
    "print(f\"Initial number of rows in df: {len(df)}\")\n",
    "\n",
    "# Company name and text content mapping\n",
    "mapped_df = map_company_names(df)\n",
    "\n",
    "# Check the data size (매핑 후)\n",
    "print(f\"Number of rows after mapping: {len(mapped_df)}\")\n",
    "\n",
    "#Save mapping results\n",
    "mapped_output_file = '/content/drive/MyDrive/Kwargs/023. esg 긍부정도 라벨러/업데이트/A3_remaster_COMBINED_mapped.csv'\n",
    "mapped_df.to_csv(mapped_output_file, encoding='utf-8', index=False)\n",
    "\n",
    "print(f\"매핑 작업이 완료되었습니다: {mapped_output_file}\")\n"
   ]
  },
  {
   "cell_type": "code",
   "execution_count": 61,
   "metadata": {
    "colab": {
     "base_uri": "https://localhost:8080/"
    },
    "executionInfo": {
     "elapsed": 372,
     "status": "ok",
     "timestamp": 1727707937717,
     "user": {
      "displayName": "백현지",
      "userId": "02510457579208942463"
     },
     "user_tz": -540
    },
    "id": "zTrwcmuuZlmU",
    "outputId": "453bf529-de0b-45af-cf27-2bd5feeba340"
   },
   "outputs": [
    {
     "data": {
      "text/plain": [
       "(10475, 11)"
      ]
     },
     "execution_count": 61,
     "metadata": {},
     "output_type": "execute_result"
    }
   ],
   "source": [
    "mapped_df.shape"
   ]
  },
  {
   "cell_type": "code",
   "execution_count": 62,
   "metadata": {
    "colab": {
     "base_uri": "https://localhost:8080/"
    },
    "executionInfo": {
     "elapsed": 19020918,
     "status": "ok",
     "timestamp": 1727726959921,
     "user": {
      "displayName": "백현지",
      "userId": "02510457579208942463"
     },
     "user_tz": -540
    },
    "id": "BRrolylFUlut",
    "outputId": "86fd38a0-2b67-41ff-d391-cb52572e47e6"
   },
   "outputs": [
    {
     "name": "stderr",
     "output_type": "stream",
     "text": [
      "익명화 진행 중:   0%|          | 1/10475 [00:01<4:31:39,  1.56s/it]"
     ]
    },
    {
     "name": "stdout",
     "output_type": "stream",
     "text": [
      "Row 0 익명화 매핑: {'현대차': 'O사'}\n",
      "Row 0 익명화 후 - 기업명: O사, full_text: O사, 2026년까지 중형급 무인 화물운송기 개발한다 O사는 지난해 공개한 도심 항공 모빌리티. Urban Air Mobility. 의 상용화 계획을 바탕으로 UAM 기체 양산에 앞서 2026년까지 화물 운송용 Cargo UAS을 선보일 예정이다. 이를 통해 UAM 양산기술 노하우를 축적하는 한편. 무인 항공운송 산업 생태계를 조기에 조성하고 상업화를 주도\n"
     ]
    },
    {
     "name": "stderr",
     "output_type": "stream",
     "text": [
      "\r",
      "익명화 진행 중:   0%|          | 2/10475 [00:04<6:17:00,  2.16s/it]"
     ]
    },
    {
     "name": "stdout",
     "output_type": "stream",
     "text": [
      "Row 1 익명화 매핑: {'삼성전자': 'Z사'}\n",
      "Row 1 익명화 후 - 기업명: Z사, full_text: 2030년까지 물 100% 환원·폐배터리 재활용… Z사 '탄소중립' 혁신기술 구체화 2050년까지 모든 플라스틱 부품에 재생레진을 적용하고. 수거한 모든 폐배터리에서 광물을 추출. 재활용해 신제품에 재활용한다는 계획이다. Z사는 지난 16일 서울 중구 태평로빌딩에서 . 신환경경영전략 간담회. 를 열고 기후위기 극복 등 지구환경 개선에 기여할 친환경 혁신기술\n"
     ]
    },
    {
     "name": "stderr",
     "output_type": "stream",
     "text": [
      "\r",
      "익명화 진행 중:   0%|          | 3/10475 [00:06<6:43:56,  2.31s/it]"
     ]
    },
    {
     "name": "stdout",
     "output_type": "stream",
     "text": [
      "Row 2 익명화 매핑: {'LG에너지솔루션': 'R사', '삼성SDI': 'F사'}\n",
      "Row 2 익명화 후 - 기업명: F사, full_text: 새로운 경제 영토 주인은? 기회는 무궁무진…'배터리 전쟁' [신간 세계 최고의 시장분석 및 금융서비스 기업 SP글로벌의 배터리 분야 수석 애널리스트 루카스 베드나르스키의 첫 책이다. 저자는 두 가지 맥락에서 배터리 산업을 조망한다. 의 모든 과정을 차근차근 따라가며. 배터리 산업의 글로벌 가치 사슬을 풀어낸다. 다음으론 논의의 범위를 에너지 패권까지 확장하\n"
     ]
    },
    {
     "name": "stderr",
     "output_type": "stream",
     "text": [
      "\r",
      "익명화 진행 중:   0%|          | 4/10475 [00:08<5:51:43,  2.02s/it]"
     ]
    },
    {
     "name": "stdout",
     "output_type": "stream",
     "text": [
      "Row 3 익명화 매핑: {'삼성전자': 'I사', '삼성바이오로직스': 'L사', '삼성물산': 'F사'}\n",
      "Row 3 익명화 후 - 기업명: L사, full_text:  국내 굴지 회계법인들은 어쩌다 삼성 꼭두각시가 되었나  삼일 등 국내 최대 회계법인과 신용평가사들은 삼성 쪽 요구를 그대로 받아들여 숫자 조작은 물론 허위 자료까지 만들었다고 검찰 조사에서 실토했다. 독립성과 객관성 대신 고객 입맛을 의식하는 회계업계의 관행이. 삼성 승계에 대한 검찰 수사 과정에서 여실히 드러난 셈이다. F사 합병 과정에서 삼성과 회계법\n"
     ]
    },
    {
     "name": "stderr",
     "output_type": "stream",
     "text": [
      "\r",
      "익명화 진행 중:   0%|          | 5/10475 [00:09<5:22:27,  1.85s/it]"
     ]
    },
    {
     "name": "stdout",
     "output_type": "stream",
     "text": [
      "Row 4 익명화 매핑: {'POSCO홀딩스': 'B사'}\n",
      "Row 4 익명화 후 - 기업명: B사, full_text: B사 컨소시엄, 오만서 서울 절반 크기 수소공장 짓는다 22일 B사는 오만 두쿰에서 향후 47년간 그린수소를 독점적으로 개발. 생산하는 내용의 계약을 오만 공기업 하이드롬과 체결했다고 밝혔다. 이에 따라 B사 컨소시엄은 오만 수도 무스카트에서 남서쪽으로 약 450. 떨어진 두쿰 경제특구 내 서울시 면적의 절반에 해당하는 340. 규모 부지에 5GW 규모 재\n"
     ]
    },
    {
     "name": "stderr",
     "output_type": "stream",
     "text": [
      "\r",
      "익명화 진행 중:   0%|          | 6/10475 [00:11<5:01:37,  1.73s/it]"
     ]
    },
    {
     "name": "stdout",
     "output_type": "stream",
     "text": [
      "Row 5 익명화 매핑: {'SK하이닉스': 'T사'}\n",
      "Row 5 익명화 후 - 기업명: T사, full_text: 청주시 T사 등 발전시설사업 2건 지역경제 효과 커 시는 착공 이전부터 해당사업에 지역 업체와 자재가 사용되도록 시행처와 접촉해왔다. 이 결과 지난해까지 인력. 자재를 포함한 지역업체 활용 금액이 한국지역난방공사 126억원. T사 470억원으로 나타났다. 이들 사업 시행처는 추가로 지역업체를 통해 312억원. 한국지역난방공사 161억원. T사 151억원. \n"
     ]
    },
    {
     "name": "stderr",
     "output_type": "stream",
     "text": [
      "\r",
      "익명화 진행 중:   0%|          | 7/10475 [00:12<4:53:40,  1.68s/it]"
     ]
    },
    {
     "name": "stdout",
     "output_type": "stream",
     "text": [
      "Row 6 익명화 매핑: {'KB금융': 'Z사', '신한지주': 'L사'}\n",
      "Row 6 익명화 후 - 기업명: L사, full_text: 제22회 서울국제금융포럼] 금융산업서 ESG는 생존수단...리스크 관리 기준 필요 ESG 실행에 금융산업 역할 중요 파이낸셜뉴스 주최로 22일 서울 소공로 웨스틴 조선호텔에서 열린 . 제22회 서울국제금융포럼. ESG가 금융산업에 미치는 영향과 발전 방안. 에서 박성현 L사회사 부사장은 다음 세대에게 좀 더 나은 미래를 제시하고 싶어하는 국제사회적 요구가 \n"
     ]
    },
    {
     "name": "stderr",
     "output_type": "stream",
     "text": [
      "\r",
      "익명화 진행 중:   0%|          | 8/10475 [00:14<4:47:25,  1.65s/it]"
     ]
    },
    {
     "name": "stdout",
     "output_type": "stream",
     "text": [
      "Row 7 익명화 매핑: {'한화': 'R사', '셀트리온': 'Z사', '삼성SDI': 'C사', 'SK텔레콤': 'W사'}\n",
      "Row 7 익명화 후 - 기업명: Z사, full_text: 2021년 현재 국제안전인증심사위원회가 아직 설치되어야 하고 2022년 현재까지 ISO 45001 인증을 받은 직원은 없어 안전성과 인증기준 측면에서 ESG 실적이 저조함을 반영하고 있다. ESG 관점에서 삼성증권은 데이터 개편을 통해 2021년 보고서, ESG 투자지침, 네거티브 심사기준을 강화하지 못했고, 투자 의사결정 과정에서 자체 지속가능한 금융지침\n"
     ]
    },
    {
     "name": "stderr",
     "output_type": "stream",
     "text": [
      "\r",
      "익명화 진행 중:   0%|          | 9/10475 [00:16<4:45:17,  1.64s/it]"
     ]
    },
    {
     "name": "stdout",
     "output_type": "stream",
     "text": [
      "Row 8 익명화 매핑: {'신한지주': 'Y사', '대한항공': 'B사'}\n",
      "Row 8 익명화 후 - 기업명: Y사, full_text: ‘국민연금 공포’에 휩싸인 재계…“연금 사회주의에 기업들 신음” 이날 B사 주총에서 주주들은 조 회장의 사내이사 재선임에 대해 64. B사 정관은 사내이사 선임은 참석 주주 3분의 2의 동의를 받아야 한다고 규정한다. 이 때문에 3분의 2에 해당하는 66. 의 지지를 얻지 못한 조 회장은 사내이사로 재선임되는데 실패했다. 이번 주총 결정으로 조 회장은 B사\n"
     ]
    },
    {
     "name": "stderr",
     "output_type": "stream",
     "text": [
      "\r",
      "익명화 진행 중:   0%|          | 10/10475 [00:18<5:47:18,  1.99s/it]"
     ]
    },
    {
     "name": "stdout",
     "output_type": "stream",
     "text": [
      "Row 9 익명화 매핑: {'SK하이닉스': 'F사', 'LG화학': 'S사', '한화': 'N사'}\n",
      "Row 9 익명화 후 - 기업명: N사, full_text: ESG 관점에서는 회사와 직원 모두의 진정한 안녕을 위해 개방적이고 투명한 소통 육성의 중요성에 대한 인식을 갖추지 못해 임직원의 소통채널이 삼성화재에 적절히 우선순위가 되지 못하고 있다. ESG 관점에서 배당기준일은 정관에 명확하게 명시되어 있지 않고 현금 및 현물배당에 대한 의사결정 과정이 투명하지 않고, 주주총회 배당확정도 투명성과 책임성이 결여되어 \n"
     ]
    },
    {
     "name": "stderr",
     "output_type": "stream",
     "text": [
      "\r",
      "익명화 진행 중:   0%|          | 11/10475 [00:21<6:10:03,  2.12s/it]"
     ]
    },
    {
     "name": "stdout",
     "output_type": "stream",
     "text": [
      "Row 10 익명화 매핑: {'SK바이오팜': 'T사', '롯데쇼핑': 'G사', '금호석유': 'F사'}\n",
      "Row 10 익명화 후 - 기업명: F사, full_text: ESG 관점에서는 조사 중 얻어진 증거를 면밀히 검토하여 지속가능경영 정보를 생성하는 기업의 과정을 밝혀냈다. ESG 관점에서 단기적으로는 P. 78의 경우 탈탄 또는 탈탄소화 방향으로 어떠한 조치를 취하지 않고 석탄 발전소를 유지하고 LNG로의 전환에 실패한 바 있으며, 장기적으로는 석탄 기반 발전을 축소하거나 수소 기반 발전 사업을 개시할 계획이 없다.\n"
     ]
    },
    {
     "name": "stderr",
     "output_type": "stream",
     "text": [
      "\r",
      "익명화 진행 중:   0%|          | 12/10475 [00:22<5:40:18,  1.95s/it]"
     ]
    },
    {
     "name": "stdout",
     "output_type": "stream",
     "text": [
      "Row 11 익명화 매핑: {}\n",
      "Row 11 익명화 후 - 기업명: nan, full_text: ESG 입장에서 우리는 노사 간 소통 증진에 우선순위를 두고, 형식적으로 다양한 소통 채널을 구축하는 데 소홀하고 있다. ESG 관점에서 2022년에는 잎담배 건조기에 84개 연료 저감장치(재원액 약 776만원)만 농가에 보급돼 유류비 절감으로 온실가스 저감과 농가소득 제고의 시급한 필요성을 충분히 해결하지 못한다. ESG 관점에서는 블루수소, 블루암모니아\n"
     ]
    },
    {
     "name": "stderr",
     "output_type": "stream",
     "text": [
      "\r",
      "익명화 진행 중:   0%|          | 13/10475 [00:24<5:18:29,  1.83s/it]"
     ]
    },
    {
     "name": "stdout",
     "output_type": "stream",
     "text": [
      "Row 12 익명화 매핑: {'POSCO홀딩스': 'I사', '현대차': 'N사'}\n",
      "Row 12 익명화 후 - 기업명: I사, full_text: 2021년에는 ESG 관점에서 직원 중 특히 비 준법 부분 분야(영업/제조업) 종사자 5명을 대상으로 계약관리, 법률심사관리, 준법지침, 글로벌 법정보시스템 활용에 대한 교육을 실시하지 못하였다. ESG 관점에서 I사 퓨처엠의 공급자 ESG 평가 과정은 독점 공급자 ESG 위험 지표 및 실사 기준에 기초한 서면 설문 진단에 불과하여 잠재적 공급자 ESG 리\n"
     ]
    },
    {
     "name": "stderr",
     "output_type": "stream",
     "text": [
      "\r",
      "익명화 진행 중:   0%|          | 14/10475 [00:25<5:04:19,  1.75s/it]"
     ]
    },
    {
     "name": "stdout",
     "output_type": "stream",
     "text": [
      "Row 13 익명화 매핑: {'한화': 'E사', '효성': 'A사'}\n",
      "Row 13 익명화 후 - 기업명: A사, full_text: ESG 관점에서 하나투어 지속가능경영보고서 2021은 전국 하나투어 공식 인증 예약센터와 협력하여 사업 포트폴리오 제고와 상생을 도모하는 긍정적인 효과를 보여준다. ESG 관점에서 향후 정부는 상관분석을 위해 배출농도 증가, 생산공정의 운영조건에 대한 빅데이터 수집을 소홀히 할 계획이며, 나아가 대기환경사고를 사전에 예방하기 위한 운영조건 기준에 대한 기준\n"
     ]
    },
    {
     "name": "stderr",
     "output_type": "stream",
     "text": [
      "\r",
      "익명화 진행 중:   0%|          | 15/10475 [00:27<4:55:04,  1.69s/it]"
     ]
    },
    {
     "name": "stdout",
     "output_type": "stream",
     "text": [
      "Row 14 익명화 매핑: {'기아': 'Q사'}\n",
      "Row 14 익명화 후 - 기업명: Q사, full_text: Q사, 전기차 모빌리티 선도위해 조직 세분화+업무 재정의 전기차 모빌리티 시대에서 중요성이 증가하고 있는 고객 경험 분야의 역량을 강화하고 전기차 브랜드로의 전환에 박차를 가하기 위한 차원이다. Q사는 기능을 중심으로 구성됐던 고객경험본부를 고객 경험을 중심으로 한 조직으로 개편했다고 21일 밝혔다. 개편을 통해 새롭게 조직된 Q사 고객경험본부는 고객이 Q\n"
     ]
    },
    {
     "name": "stderr",
     "output_type": "stream",
     "text": [
      "\r",
      "익명화 진행 중:   0%|          | 16/10475 [00:29<4:48:12,  1.65s/it]"
     ]
    },
    {
     "name": "stdout",
     "output_type": "stream",
     "text": [
      "Row 15 익명화 매핑: {'LG유플러스': 'Y사'}\n",
      "Row 15 익명화 후 - 기업명: Y사, full_text: ESG 관점에서는 CMS(Cut Measure Monitoring System)를 사용하여 Cut Measure를 효과적으로 관리하지 못해 품질 불일치와 품질 편차의 증가를 초래한다. 2021년 현재 5,670개 협력사만 있는 등 협력사 네트워크의 다양성이 결여되고 있으며, ESG 관점에서 여수, 울산, 대전 등 다른 잠재적 사업장 입지에 소홀한 채 서울 \n"
     ]
    },
    {
     "name": "stderr",
     "output_type": "stream",
     "text": [
      "\r",
      "익명화 진행 중:   0%|          | 17/10475 [00:30<4:39:36,  1.60s/it]"
     ]
    },
    {
     "name": "stdout",
     "output_type": "stream",
     "text": [
      "Row 16 익명화 매핑: {'현대차': 'G사'}\n",
      "Row 16 익명화 후 - 기업명: G사, full_text: 서핑메카 양양 친환경 전기차 메카로 거듭 G사 급속충전소는 4. 6기를 설치할 예정으로 총 15억원 정도의 사업비가 투입될 것으로 예상되고 있으며 사업비는 전액 G사에서 부담하게 된다. G사는 지금까지 주로 고속도로 휴게소나 인구 50만명 이상의 도시에 전기차 급속충전소 구축해 오고 있으나 서피비치가 위치한 양양 하조대의 경우 전기차 방문에 따른 수요가 많\n"
     ]
    },
    {
     "name": "stderr",
     "output_type": "stream",
     "text": [
      "\r",
      "익명화 진행 중:   0%|          | 18/10475 [00:33<5:36:11,  1.93s/it]"
     ]
    },
    {
     "name": "stdout",
     "output_type": "stream",
     "text": [
      "Row 17 익명화 매핑: {'카카오': 'X사'}\n",
      "Row 17 익명화 후 - 기업명: X사, full_text: 연신 ‘연내 해결’ 강조한 X사...발빠른 환골탈태 보여줄까 최근 출범한 외부감시기구인 . 는 준법경영 시스템을 위한 논의를 연내 시작한다. 이에 따라 내년에는 X사가 환골탈태 수준의 개혁을 보여줄 지 주목된다. 업계에 따르면 X사 계열사 준법경영을 감시하는 외부기구인 준법과신뢰위원회. 는 전날 첫 회동을 가졌다. 준신위 위원장인 김소영 전 대법관은 이날 \n"
     ]
    },
    {
     "name": "stderr",
     "output_type": "stream",
     "text": [
      "\r",
      "익명화 진행 중:   0%|          | 19/10475 [00:35<6:01:04,  2.07s/it]"
     ]
    },
    {
     "name": "stdout",
     "output_type": "stream",
     "text": [
      "Row 18 익명화 매핑: {'삼성전자': 'S사', '삼성물산': 'M사'}\n",
      "Row 18 익명화 후 - 기업명: M사, full_text: '삼성 과외' 받은 마스크 중기, 생산량 4만장→10만장 추가 증설 부담 없이 기존 생산시설로 마스크 생산량을 최대한 늘릴 수 있도록 제조공정을 개선하고 기술을 전수하는 방식이다. 그동안 중소기업을 대상으로 스마트공장 구축을 도왔던 경험을 활용한 지원책이다. 삼성그룹은 지난달에도 전남 장성군의 마스크 제조업체 화진산업에 공정 전문가를 파견해 생산라인 최적화\n"
     ]
    },
    {
     "name": "stderr",
     "output_type": "stream",
     "text": [
      "\r",
      "익명화 진행 중:   0%|          | 20/10475 [00:37<5:33:45,  1.92s/it]"
     ]
    },
    {
     "name": "stdout",
     "output_type": "stream",
     "text": [
      "Row 19 익명화 매핑: {'POSCO홀딩스': 'S사'}\n",
      "Row 19 익명화 후 - 기업명: S사, full_text: S사, 이차전지 소재 생산목표 대폭 상향 특히 S사은 지난 1월 S사 출범에 맞춰 친환경 미래소재 기업으로 성장하고자 양. 흑연 등 이차전지 핵심 원료의 자체 공급망 구축에 박차를 가하고 있다. GM 등 글로벌 완성차사와의 전략적 협력을 바탕으로 2030년 이차전지 소재 글로벌 1위 기업으로 도약할 기반을 다지고 있다는 게 S사의 설명이다. S사는 리튬 자\n"
     ]
    },
    {
     "name": "stderr",
     "output_type": "stream",
     "text": [
      "\r",
      "익명화 진행 중:   0%|          | 21/10475 [00:39<5:33:42,  1.92s/it]"
     ]
    },
    {
     "name": "stdout",
     "output_type": "stream",
     "text": [
      "Row 20 익명화 매핑: {'현대차': 'I사', '현대모비스': 'V사'}\n",
      "Row 20 익명화 후 - 기업명: V사, full_text: 빨라진 I사 '수소경제' 시계…V사·로템·글로비스도 역량 집중 현대글로비스도 자체 개발 중인 . 수소 공급망 관리 최적화 플랫폼. 을 활용한 수소물류체계 구축을 적극 추진한다. 17일 관련업계에 따르면 수소차의 핵심인 수소연료전지를 만드는 V사는 청라 IHP첨단산업단지 내에 수소연료전지 공장을 건설하는 방안을 검토하고 있다. 7월쯤 착공될 것이란 관측이다.\n"
     ]
    },
    {
     "name": "stderr",
     "output_type": "stream",
     "text": [
      "\r",
      "익명화 진행 중:   0%|          | 22/10475 [00:40<5:18:06,  1.83s/it]"
     ]
    },
    {
     "name": "stdout",
     "output_type": "stream",
     "text": [
      "Row 21 익명화 매핑: {'KT': 'X사'}\n",
      "Row 21 익명화 후 - 기업명: X사, full_text: ESG 관점에서 보면 현대건설은 사업개발이 당면한 난제에 대한 대안적 해법을 도출할 수 있는 필요한 이사회 전문성이 부족하다. ESG 관점에서 X사의 회계 투명성이 부족해 2022년 제5회 한국회계대상 대상 대상에서 외면당했다. ESG 관점에서 제보자와 관련된 부서나 다른 관련 부서는 제보자의 사생활을 보호하기 위한 어떠한 조치도 취하지 않고, 대신 관리실\n"
     ]
    },
    {
     "name": "stderr",
     "output_type": "stream",
     "text": [
      "\r",
      "익명화 진행 중:   0%|          | 23/10475 [00:42<5:06:04,  1.76s/it]"
     ]
    },
    {
     "name": "stdout",
     "output_type": "stream",
     "text": [
      "Row 22 익명화 매핑: {'삼성전자': 'R사', '롯데지주': 'K사', '한화': 'I사', 'KT': 'M사', 'GS리테일': 'W사'}\n",
      "Row 22 익명화 후 - 기업명: R사, full_text: UN SDGS LINKAGE 우리 달성 탄소 라벨링 취득 제품, CDP 리더십 그룹, 탄소 관리 동의 클럽은 전년 대비 탄소 라벨링 인증 제품의 감소, 탄소 라벨링 인증 제품의 제한적 성장, 포괄적 탄소 저감 전략 미비 등을 해결하지 못했다. ESG 관점에서 암 발병률이 높아지는 것은 의료 기술의 발전, 암 치료 후 재진출 직원 의료 지원 서비스를 활용하는\n"
     ]
    },
    {
     "name": "stderr",
     "output_type": "stream",
     "text": [
      "\r",
      "익명화 진행 중:   0%|          | 24/10475 [00:43<4:58:13,  1.71s/it]"
     ]
    },
    {
     "name": "stdout",
     "output_type": "stream",
     "text": [
      "Row 23 익명화 매핑: {'삼성전자': 'F사', 'SK하이닉스': 'V사'}\n",
      "Row 23 익명화 후 - 기업명: F사, full_text: 최태원, 역대 국내 최대 M&A 규모 '오버 베팅'으로 F사 추격 고삐 인텔을 품은 V사는 최근 통 큰 투자로 초격차 행보에 가속도를 내고 있는 글로벌 1위 F사 추격에도 고삐를 당기고 있다. V사는 20일 공시를 통해 미국 인텔의 메모리 사업 낸드 부문을 90억 달러. 에 인수하는 양도 양수 계약을 체결했다고 밝혔다. 2016년 F사가 하만을 인수할 때 \n"
     ]
    },
    {
     "name": "stderr",
     "output_type": "stream",
     "text": [
      "\r",
      "익명화 진행 중:   0%|          | 25/10475 [00:45<5:09:33,  1.78s/it]"
     ]
    },
    {
     "name": "stdout",
     "output_type": "stream",
     "text": [
      "Row 24 익명화 매핑: {'KB금융': 'P사', 'BGF리테일': 'Z사', '효성': 'B사'}\n",
      "Row 24 익명화 후 - 기업명: B사, full_text: ESG 관점에서 2022년 지속가능경영보고서에서 환경목표를 달성하지 못한 것은 신규 매출이 63억원에서 35kg으로 줄어든 하이-1 펫클럽 개막식에서 뚜렷이 나타나며, ESG 성과부록에 나타난 바와 같이 2050년 지속가능경영목표와 2020년 지속가능경영목표는 달성되지 못하고 있다. ESG 관점에서 기술 및 사업 영역의 약진에도 불구하고 2012년부터 갱신\n"
     ]
    },
    {
     "name": "stderr",
     "output_type": "stream",
     "text": [
      "\r",
      "익명화 진행 중:   0%|          | 26/10475 [00:48<6:07:21,  2.11s/it]"
     ]
    },
    {
     "name": "stdout",
     "output_type": "stream",
     "text": [
      "Row 25 익명화 매핑: {'삼성전자': 'I사', 'LG화학': 'M사', 'SK하이닉스': 'J사', '카카오': 'Z사', 'NAVER': 'Y사'}\n",
      "Row 25 익명화 후 - 기업명: Y사, full_text: Stocks tumble further amid concerns over regulations The benchmark Kospi shed 24. to close at 3. Trading volume was high at about 839. 72 million shares worth some 16. 89 trillion won . with losers ou\n"
     ]
    },
    {
     "name": "stderr",
     "output_type": "stream",
     "text": [
      "\r",
      "익명화 진행 중:   0%|          | 27/10475 [00:50<5:57:59,  2.06s/it]"
     ]
    },
    {
     "name": "stdout",
     "output_type": "stream",
     "text": [
      "Row 26 익명화 매핑: {'기아': 'E사', '현대모비스': 'J사', 'KT': 'M사', '현대백화점': 'B사'}\n",
      "Row 26 익명화 후 - 기업명: B사, full_text: ESG 관점에서 B사 현대서울신세대: 뉴플레이, 뉴고객 CEO 메시지 2022 성과 요약 사업 소개 ESG FACT BOOK APPENDIX ESG STORY BOOK: CREATING VALUE FOR ALL INTRODUCTION 08은 ESG 고려 사항을 적절히 다루거나 운영에서 지속가능성을 우선순위로 설정하지 않을 수 있다. ESG 관점에서는 완전한\n"
     ]
    },
    {
     "name": "stderr",
     "output_type": "stream",
     "text": [
      "\r",
      "익명화 진행 중:   0%|          | 28/10475 [00:52<6:09:01,  2.12s/it]"
     ]
    },
    {
     "name": "stdout",
     "output_type": "stream",
     "text": [
      "Row 27 익명화 매핑: {'기아': 'M사', '현대차': 'W사'}\n",
      "Row 27 익명화 후 - 기업명: M사, full_text: 러시아 공장 14만원에 파는데…괜찮다 W사 주가 상승 왜? W사와 M사가 악재를 털어내고 있는 만큼 증권가에서도 긍정적으로 바라본다. 20일 오전 11시36분 기준 증시에서 W사는 전 거래일 대비 5500원. 오른 19만7700원에 M사는 전 거래일 대비 3500원. 오른 9만2800원에 거래 중이다. 투자자들은 W사가 저항선인 20만원 돌파 여부를 두고 \n"
     ]
    },
    {
     "name": "stderr",
     "output_type": "stream",
     "text": [
      "\r",
      "익명화 진행 중:   0%|          | 29/10475 [00:54<5:39:31,  1.95s/it]"
     ]
    },
    {
     "name": "stdout",
     "output_type": "stream",
     "text": [
      "Row 28 익명화 매핑: {'SK하이닉스': 'E사'}\n",
      "Row 28 익명화 후 - 기업명: E사, full_text: 4만㎞도 마다 않은 최태원의 행복경영 최 회장은 이날 행복토크가 100회를 맞은 것과 관련해 . 구성원들의 긍정적 에너지를 피부로 느낄 수 있어 매 순간이 인상적이었다. SK가 추구하는 행복경영은 구성원의 행복뿐 아니라 우리가 속한 사회의 지속 가능성도 함께 키우는 것이어야 한다. 최 회장은 이 같은 행복경영 기조가 전 사회적으로 퍼져나가야 한다며 . SK\n"
     ]
    },
    {
     "name": "stderr",
     "output_type": "stream",
     "text": [
      "\r",
      "익명화 진행 중:   0%|          | 30/10475 [00:55<5:17:59,  1.83s/it]"
     ]
    },
    {
     "name": "stdout",
     "output_type": "stream",
     "text": [
      "Row 29 익명화 매핑: {'한화': 'B사', 'KT': 'K사'}\n",
      "Row 29 익명화 후 - 기업명: B사, full_text: ESG 관점에서 정보자산을 잘못 보호하고 특화 데이터센터 시스템을 갖추지 못해 사이버 해킹 위협이 커지고 있는 점을 해결하지 못하고 기업 차원에서 정기적인 교육과 캠 교체가 부족해 기업 보안 수준이 낮고 보안 인식이 제한적이다. ESG 관점에서 온라인 경영윤리 윤리 코드, 기업과 기업 지식, 가치사슬 이해, 윤리적 영업 관행, 제조영업 매뉴얼, 글로벌 마케\n"
     ]
    },
    {
     "name": "stderr",
     "output_type": "stream",
     "text": [
      "익명화 진행 중:   4%|▍         | 401/10475 [12:11<4:50:30,  1.73s/it]"
     ]
    },
    {
     "name": "stdout",
     "output_type": "stream",
     "text": [
      "Row 400 익명화 매핑: {'NAVER': 'M사'}\n",
      "Row 400 익명화 후 - 기업명: M사, full_text: M사, 여성임원 비율 높았지만 S 리스크 부각 머니투데이는 빅데이터. 기반 ESG 평가기관인 지속가능발전소와 함께 시가총액 상위 주요 종목들과 섹터별 주요 기업의 ESG 성과점수 순위 및 리스크 요인을 반영한 ESG 통합점수 순위를 공개한다. 대한민국 상장사 ESG 리스크 대해부. 국내 대형 플랫폼인 M사. 는 전반적으로 우수한 ESG. 개인정보 관리 등에\n"
     ]
    },
    {
     "name": "stderr",
     "output_type": "stream",
     "text": [
      "익명화 진행 중:   8%|▊         | 801/10475 [24:22<5:01:38,  1.87s/it]"
     ]
    },
    {
     "name": "stdout",
     "output_type": "stream",
     "text": [
      "Row 800 익명화 매핑: {'SK하이닉스': 'W사'}\n",
      "Row 800 익명화 후 - 기업명: W사, full_text: 3만9580㎞ 누비며 1만명 넘는 직원 만나 행복합시다 외친 회장님 19일 SK그룹에 따르면 최 회장은 지난 18일 서울 서린동 SK빌딩에서 주요 계열사 사내. 외 이사들을 대상으로 100번째 행복토크를 개최했다. 해외에서도 열린 행복토크 최 회장은 지난 1월 신년회에서 구성원들과 직접 소통하며 우리와 이해 관계자들의 행복이 더 커질 수 있는 방안을 논의하\n"
     ]
    },
    {
     "name": "stderr",
     "output_type": "stream",
     "text": [
      "익명화 진행 중:  11%|█▏        | 1201/10475 [36:32<5:12:33,  2.02s/it]"
     ]
    },
    {
     "name": "stdout",
     "output_type": "stream",
     "text": [
      "Row 1200 익명화 매핑: {'한국타이어앤테크놀로지': 'E사', '삼성바이오로직스': 'X사', '삼성중공업': 'J사'}\n",
      "Row 1200 익명화 후 - 기업명: X사, full_text: ESG 관점에서 2022년 이사회의 평균 출석률은 97%에 불과해 일부 이사회의 책임에 완전히 충실하지 못하고 있는 것으로 나타나고 있으며, 또한 이사회의 활동을 모두 효과적으로 감독하고 있는 이사회 구성원이 아니다. ESG 관점에서 지속가능한 미래를 위해 건강과 취향을 최우선으로 생각하는 기업과 소비자가 함께 오지 않고 있다. 다양한 소통 채널을 통해 이\n"
     ]
    },
    {
     "name": "stderr",
     "output_type": "stream",
     "text": [
      "익명화 진행 중:  15%|█▌        | 1601/10475 [48:42<5:11:46,  2.11s/it]"
     ]
    },
    {
     "name": "stdout",
     "output_type": "stream",
     "text": [
      "Row 1600 익명화 매핑: {'KB금융': 'J사', '하나금융지주': 'B사', '우리금융지주': 'N사', '신한지주': 'E사'}\n",
      "Row 1600 익명화 후 - 기업명: J사, full_text: 은행은 지금]금융권 선행 알게되는 계기 됐죠 이 소개한 J사그룹의 . 프로젝트를 보고 한 30대 독자는 벌이 사라지면 식물도 열매를 맺지 못하게 되는데 금융이 이런 부분까지 생각한 점이 놀라웠다. 판에 박히지 않은 ESG. 사례들을 소개받은 느낌이라고 말했다. 은 장애인에 대한 인식을 개선하는 데 도움이 될 것 같다고 덧붙였다. E사은행은 청각장애인 일자리\n"
     ]
    },
    {
     "name": "stderr",
     "output_type": "stream",
     "text": [
      "익명화 진행 중:  19%|█▉        | 2001/10475 [1:00:51<4:46:21,  2.03s/it]"
     ]
    },
    {
     "name": "stdout",
     "output_type": "stream",
     "text": [
      "Row 2000 익명화 매핑: {'SK바이오팜': 'L사', 'KT': 'C사', 'NAVER': 'S사', 'SK텔레콤': 'Y사'}\n",
      "Row 2000 익명화 후 - 기업명: S사, full_text: 3성 바인 인프라는 현관의 대규모 활작축인 실트 laden 축과 축의 축의 축의 축을 ESG 입장에서 제대로 안내하지 못한다. ESG 관점에서 L사은 L사의 제품 제조·유통 여건을 마련하기 위해 의약품 접근이 제한된 지역 내 제약사에 대한 지원을 확대할 의도가 없다. ESG 관점에서 2020 환경안전혁신의 날은 상시적인 팬데믹 때문에 사실상 실시해야 했고 \n"
     ]
    },
    {
     "name": "stderr",
     "output_type": "stream",
     "text": [
      "익명화 진행 중:  23%|██▎       | 2401/10475 [1:12:54<3:41:56,  1.65s/it]"
     ]
    },
    {
     "name": "stdout",
     "output_type": "stream",
     "text": [
      "Row 2400 익명화 매핑: {'현대백화점': 'W사', '삼성물산': 'P사'}\n",
      "Row 2400 익명화 후 - 기업명: P사, full_text: 건설현장서 일주일에 4건씩 ‘사망사고’ 나왔다… 대형 건설사도 ‘수두룩’ 16일 건설공사 안전관리 종합정보망에 따르면. 지난해 발생한 건설현장 사망 사고는 모두 211건에 달했다. 주간 단위로 환산하면 한 주 평균 4. 08건의 사망 사고가 발생한 셈이다. 이 100건으로 절반 가량을 차지했다. 개인보호구를 제대로 착용하지 않거나 안전고리를 연결하지 않고 \n"
     ]
    },
    {
     "name": "stderr",
     "output_type": "stream",
     "text": [
      "익명화 진행 중:  27%|██▋       | 2801/10475 [1:25:00<3:39:38,  1.72s/it]"
     ]
    },
    {
     "name": "stdout",
     "output_type": "stream",
     "text": [
      "Row 2800 익명화 매핑: {'삼성전자': 'N사', '삼성생명': 'M사', 'NAVER': 'F사', '삼성물산': 'Y사'}\n",
      "Row 2800 익명화 후 - 기업명: Y사, full_text: 삼성의 사회공헌 활동…'실세' 인사팀장이 이끈다 6일 재계에 따르면 N사는 최근 조직 개편을 통해 사회공헌사무국을 사회공헌단으로 격상하고 박용기 인사팀장. 을 단장으로 임명했다. 새로 출범한 N사 사회공헌단은 해외 사회공헌 관련 인력까지 흡수하면서 조직이 확대된 것으로 알려졌다. Y사도 사회공헌단을 새로 꾸리고. 에게 사령탑을 맡겼다. M사은 사회공헌단을 \n"
     ]
    },
    {
     "name": "stderr",
     "output_type": "stream",
     "text": [
      "익명화 진행 중:  31%|███       | 3201/10475 [1:37:08<3:43:12,  1.84s/it]"
     ]
    },
    {
     "name": "stdout",
     "output_type": "stream",
     "text": [
      "Row 3200 익명화 매핑: {'삼성전자': 'N사', '현대차': 'X사', '삼성SDI': 'I사', 'LG에너지솔루션': 'M사', 'POSCO홀딩스': 'A사', '현대모비스': 'P사'}\n",
      "Row 3200 익명화 후 - 기업명: P사, full_text: 투자로 미래를 밝힌다 이에 기업들의 투자 계획에도 . 지난해 말 전국경제인연합회가 매출액 500대 기업을 대상으로 올해 국내 투자계획을 조사한 결과 투자계획을 세운 절반 가량. 전년보다 투자를 축소하겠다. 는 기업보다 많은 것으로 집계됐다. 하지만 국내 대표 기업들은 위기 속에서도 미래 시장을 선도할 기회를 포착하고 새로운 성공 스토리를 일궈나가려는 발걸음\n"
     ]
    },
    {
     "name": "stderr",
     "output_type": "stream",
     "text": [
      "익명화 진행 중:  34%|███▍      | 3601/10475 [1:49:13<4:03:30,  2.13s/it]"
     ]
    },
    {
     "name": "stdout",
     "output_type": "stream",
     "text": [
      "Row 3600 익명화 매핑: {'삼성물산': 'Y사'}\n",
      "Row 3600 익명화 후 - 기업명: Y사, full_text: 650조 네옴시티, 'K-건설' 품으로‥해외수주 연 500억불 '시동' 총 650조원 규모의 사우디 . 에는 원희룡 국토교통부 장관이 직접 투자총책과 만나 인프라 협력에 불을 당겼다. 고유가 상황에 중동 산유국들이 대형 건설 프로젝트를 본격 재개하고 있는 만큼 정체된 해외건설 성장에 동력을 불어넣겠다는 목표다. 원 장관은 30일 서울 장충동 신라호텔에서 개\n"
     ]
    },
    {
     "name": "stderr",
     "output_type": "stream",
     "text": [
      "익명화 진행 중:  38%|███▊      | 4001/10475 [2:01:21<3:48:58,  2.12s/it]"
     ]
    },
    {
     "name": "stdout",
     "output_type": "stream",
     "text": [
      "Row 4000 익명화 매핑: {'POSCO홀딩스': 'L사', '현대차': 'A사', '현대모비스': 'G사', '효성': 'S사'}\n",
      "Row 4000 익명화 후 - 기업명: G사, full_text: “수소, 첫번째 에너지로”…G사 1조 3000억 투자해 공장 건설 라 불리는 수소기업협의체. 에 참여한 그룹 총수들도 이날 총출동해 문 대통령과 정부가 내놓은 수소 정책에 호응했다. 정부는 이날 인천 서구 청라국제도시 첨단산업단지 내 G사 수소연료전지 공장 기공식장에서 이런 내용의 . 정부는 2030년까지 연 100만t. 2050년까지 연 500만t의 블루\n"
     ]
    },
    {
     "name": "stderr",
     "output_type": "stream",
     "text": [
      "익명화 진행 중:  42%|████▏     | 4401/10475 [2:13:22<2:51:37,  1.70s/it]"
     ]
    },
    {
     "name": "stdout",
     "output_type": "stream",
     "text": [
      "Row 4400 익명화 매핑: {'삼성전자': 'Q사', 'SK하이닉스': 'I사'}\n",
      "Row 4400 익명화 후 - 기업명: I사, full_text: '슈퍼사이클' 예고된 D램, 내년부터 첨단 공정으로 승부수 14일 반도체 업계에 따르면 내년부터 세계 D램 생산 1. 2위를 점유하고 있는 Q사와 I사가 EUV 노광장비로 생산한 차세대 D램 공급을 본격화한다. EUV 공정은 반도체 포토 공정에서 극자외선 파장의 광원을 사용하는 것으로. 의 광원보다 파장의 길이가 짧아. 반도체에 미세 회로 패턴을 구현할 때\n"
     ]
    },
    {
     "name": "stderr",
     "output_type": "stream",
     "text": [
      "익명화 진행 중:  46%|████▌     | 4801/10475 [2:25:28<2:50:03,  1.80s/it]"
     ]
    },
    {
     "name": "stdout",
     "output_type": "stream",
     "text": [
      "Row 4800 익명화 매핑: {'CJ제일제당': 'E사', 'SK하이닉스': 'N사', '삼성생명': 'R사', 'KT': 'O사', '금호석유': 'X사'}\n",
      "Row 4800 익명화 후 - 기업명: X사, full_text: 2018년 현재 우리나라 모든 근로자를 대상으로 한 직장 내 장애인 인식개선 교육 제작이 이루어지지 않아 인력 중 장애문제 인식 제고를 위한 필요한 교육이 부족한 실정이다. ESG 관점에서 LG이노텍은 '인권노동정책'을 통해 인간 존엄과 권리를 수호하겠다는 의지가 부족한 상황에서 운영에서 '인간 존중 관리'를 우선시하지 못하고 있다. 2020년 중산업 안전\n"
     ]
    },
    {
     "name": "stderr",
     "output_type": "stream",
     "text": [
      "익명화 진행 중:  50%|████▉     | 5201/10475 [2:37:30<2:45:34,  1.88s/it]"
     ]
    },
    {
     "name": "stdout",
     "output_type": "stream",
     "text": [
      "Row 5200 익명화 매핑: {'카카오': 'A사'}\n",
      "Row 5200 익명화 후 - 기업명: A사, full_text: 與 A사 화재 보상 플랫폼 구축…“책임 있는 자세 보여야” 질책도 간담회에는 소상공인연합회는 물론 홍성철 A사 ESG지원실 부사장도 참석했다. 성 정책위의장은 간담회가 끝난 뒤 기자들과 만나 . 정부에 보다 적극적으로 피해 보상을 중재해 달라고 요청했다. 피해 보상과 관련해 단일한 창구가 없는 것이 문제. 당에서 피해 당사자인 소상공인과 A사 그리고 정부 \n"
     ]
    },
    {
     "name": "stderr",
     "output_type": "stream",
     "text": [
      "익명화 진행 중:  53%|█████▎    | 5601/10475 [2:49:32<2:19:16,  1.71s/it]"
     ]
    },
    {
     "name": "stdout",
     "output_type": "stream",
     "text": [
      "Row 5600 익명화 매핑: {'삼성전자': 'R사', 'POSCO홀딩스': 'I사', '기아': 'Q사', '현대차': 'Z사'}\n",
      "Row 5600 익명화 후 - 기업명: I사, full_text: Z사 全상장계열사 `전자투표` 도입한다 올해 정기주총에서 전자투표 실시 상장사는 약 1000곳에 육박할 것으로 전망된다. Z사그룹은 Z사를 비롯해 Q사. 이노션 등 9개 상장 계열사가 올해 전자투표제를 도입한다고 12일 밝혔다. 앞서 현대글로비스와 현대비앤지스틸. Z사증권은 지난해까지 전자투표제 도입을 완료했다. 이에 따라 Z사그룹은 모든 상장 계열사가 전\n"
     ]
    },
    {
     "name": "stderr",
     "output_type": "stream",
     "text": [
      "익명화 진행 중:  57%|█████▋    | 6001/10475 [3:01:38<2:21:38,  1.90s/it]"
     ]
    },
    {
     "name": "stdout",
     "output_type": "stream",
     "text": [
      "Row 6000 익명화 매핑: {'기아': 'U사', '현대차': 'Q사'}\n",
      "Row 6000 익명화 후 - 기업명: U사, full_text: 앞 신호등 초록불 몇초 남았나?…Q사 내비에서 확인 가능 실외 이동로봇은 교통 신호정보를 자체 센서로 인식해 교통안전에 대한 우려가 제기됐다. 대형차량이 센서를 가리거나 폭우. 안개 등 기상악화로 오류가 발생할 가능성이 컸기 때문이다. 경찰청은 도로교통공단과 2017년부터 5년간 실시간 교통 신호정보를 자율주행차에 직접 제공하는 시스템을 개발했다. 현장과 \n"
     ]
    },
    {
     "name": "stderr",
     "output_type": "stream",
     "text": [
      "익명화 진행 중:  61%|██████    | 6401/10475 [3:13:40<1:52:00,  1.65s/it]"
     ]
    },
    {
     "name": "stdout",
     "output_type": "stream",
     "text": [
      "Row 6400 익명화 매핑: {'SK바이오사이언스': 'P사', 'LG에너지솔루션': 'H사', '현대백화점': 'S사', 'LG화학': 'T사', '현대모비스': 'W사', '삼성물산': 'I사'}\n",
      "Row 6400 익명화 후 - 기업명: W사, full_text: 상법 개정, 주주권익 침해 해결할 근본적 대안 인적분할시 의결권이 없던 자사주에 의결권이 생기는 . 도 이제는 많은 시장 참여자들이 문제점을 충분히 인지한다. 더 나아가 이러한 주주 권익 침해 사례를 근본적으로 막기 위해 이사의 충실의무에 주주에 대한 의무를 넣는 상법개정안 통과가 필요하단 주장도 자본시장에서 점차 공감대를 넓혀가고 있다. 이용우 더불어민주\n"
     ]
    },
    {
     "name": "stderr",
     "output_type": "stream",
     "text": [
      "익명화 진행 중:  65%|██████▍   | 6801/10475 [3:25:45<1:46:33,  1.74s/it]"
     ]
    },
    {
     "name": "stdout",
     "output_type": "stream",
     "text": [
      "Row 6800 익명화 매핑: {'기아': 'K사', '현대차': 'I사'}\n",
      "Row 6800 익명화 후 - 기업명: K사, full_text: “현대·K사가 美 차량 절도 조장” NYT 칼럼에 美네티즌도 등 돌렸다 이 회사는 대가를 지불해야 한다. K사 and I사 Helped Enable a Crime Wave. They Should Pay for It. 이 신문의 고정 칼럼니스트인 파해드 맨주. Farhad Manjoo. 가 쓴 글의 요지는 이랬다. 미국의 한 씽크탱크가 37개 도시의 최근 범\n"
     ]
    },
    {
     "name": "stderr",
     "output_type": "stream",
     "text": [
      "익명화 진행 중:  69%|██████▊   | 7201/10475 [3:37:48<1:52:38,  2.06s/it]"
     ]
    },
    {
     "name": "stdout",
     "output_type": "stream",
     "text": [
      "Row 7200 익명화 매핑: {'우리금융지주': 'A사'}\n",
      "Row 7200 익명화 후 - 기업명: A사, full_text: 전 세계 선주, 해운사, 운송사 등 주요 이해관계자의 참여를 통해 환경영향을 줄이고 운송산업 지속성을 높이기 위해 글로벌 화물운송 에너지효율지수를 산출하는 클린카고의 효율설계지수(EEDI) 제도가 ESG 우려를 효과적으로 해결하지 못하고 있다. ESG 관점에서 ESG의 정밀 진단이 결여되어 임직원에게 ESG 교육을 제때 제공하지 못해 전체 기업 전반에 걸쳐\n"
     ]
    },
    {
     "name": "stderr",
     "output_type": "stream",
     "text": [
      "익명화 진행 중:  73%|███████▎  | 7601/10475 [3:49:55<1:40:31,  2.10s/it]"
     ]
    },
    {
     "name": "stdout",
     "output_type": "stream",
     "text": [
      "Row 7600 익명화 매핑: {'SK하이닉스': 'T사'}\n",
      "Row 7600 익명화 후 - 기업명: T사, full_text: 공장 짓고 인력 늘리고…SK그룹이 67조원 쏟아붓는 지방 어디 이번 67조원 비수도권 공장 신. 증설 방안은 SK가 지난 5월 발표한 향후 5년간 국내 179조원을 포함한 총 247조원 규모의 투자 계획을 구체화한 것이다. 소재 30조5000억원. 그린에너지 22조6000억원. 디지털 11조2000억원. 바이오 2조8000억원 등이다. 그룹이 핵심 성장동력\n"
     ]
    },
    {
     "name": "stderr",
     "output_type": "stream",
     "text": [
      "익명화 진행 중:  76%|███████▋  | 8001/10475 [4:01:57<1:07:36,  1.64s/it]"
     ]
    },
    {
     "name": "stdout",
     "output_type": "stream",
     "text": [
      "Row 8000 익명화 매핑: {'셀트리온': 'U사', '삼성바이오로직스': 'O사'}\n",
      "Row 8000 익명화 후 - 기업명: O사, full_text: 코스피·코스닥 안방 차지한 바이오 5배가량 상승한 건데요. 자세한 내용 문형민 기자가 보도합니다. 코로나19 확산 이후 국내 제약. 바이오 기업의 몸집이 커지고 있습니다. 국내 상장 기업의 전체 시가총액이 1월부터 6월까지 17조원가량 증가하는 동안 의약품 기업의 시총은 코로나19 치료제. 백신 개발 기대감에 50조원 이상 늘어나며 그 비중이 6. 특히 코\n"
     ]
    },
    {
     "name": "stderr",
     "output_type": "stream",
     "text": [
      "익명화 진행 중:  80%|████████  | 8401/10475 [4:14:04<1:00:28,  1.75s/it]"
     ]
    },
    {
     "name": "stdout",
     "output_type": "stream",
     "text": [
      "Row 8400 익명화 매핑: {'POSCO홀딩스': 'Y사', '삼성물산': 'X사'}\n",
      "Row 8400 익명화 후 - 기업명: X사, full_text: 미세먼지 마케팅? 건설사들, 첨단시스템 도입 경쟁 나서 23일 건설업계에 따르면 대림산업은 신규 분양 물량에 초미세먼지를 99. 까지 제거할 수 있다고 알려진 H13등급의 . 를 부착한 공기청정형 환기시스템을 설치한다. 현대엔지니어링도 같은 등급의 필터가 부착된 장치를 힐스테이트 브랜드 아파트에 적용할 계획이다. 주방에는 요리할 때 발생하는 미세먼지와 냄새\n"
     ]
    },
    {
     "name": "stderr",
     "output_type": "stream",
     "text": [
      "익명화 진행 중:  84%|████████▍ | 8801/10475 [4:26:14<46:50,  1.68s/it]"
     ]
    },
    {
     "name": "stdout",
     "output_type": "stream",
     "text": [
      "Row 8800 익명화 매핑: {'하나금융지주': 'Q사'}\n",
      "Row 8800 익명화 후 - 기업명: Q사, full_text: 2020년에는 총 117개소가 점검을 실시하여 280건의 안전불실사례를 식별하고 해결하였다. 롯데케미칼은 ESG 관점에서 물리적 위험(중수비, 태풍, 기후변화로 인한 가뭄 등), 규제 변화 위험( 온실가스 배출권 거래제도 등 규제 정책 포함), 에너지 패러다임 변화 위험(연연료 수요 감소 등)을 적절히 해결하지 못하고 있다. ESG 관점에서는 성희롱 예방 \n"
     ]
    },
    {
     "name": "stderr",
     "output_type": "stream",
     "text": [
      "익명화 진행 중:  88%|████████▊ | 9201/10475 [4:38:20<39:51,  1.88s/it]"
     ]
    },
    {
     "name": "stdout",
     "output_type": "stream",
     "text": [
      "Row 9200 익명화 매핑: {}\n",
      "Row 9200 익명화 후 - 기업명: nan, full_text: ESG 관점에서 근로시간과 휴일근로에 대한 정규직 임금에 50% 미만의 최소한의 인상만 제시함으로써 노동기준을 적절히 해결하지 못하고 있다. GS칼텍스의 친환경 명성과 우수성은 ESG 관점에서 2,3-BDO가 포함된 제품 출시와 그 이후 판매량 증가에 문제가 된다. ESG 관점에서 GS칼텍스는 수질오염물질의 배출을 효과적으로 모니터링하지 못하고, 폐수오염물\n"
     ]
    },
    {
     "name": "stderr",
     "output_type": "stream",
     "text": [
      "익명화 진행 중:  92%|█████████▏| 9601/10475 [4:50:26<28:16,  1.94s/it]"
     ]
    },
    {
     "name": "stdout",
     "output_type": "stream",
     "text": [
      "Row 9600 익명화 매핑: {'LG디스플레이': 'N사'}\n",
      "Row 9600 익명화 후 - 기업명: N사, full_text: ESG 관점에서 보면 현 감사위원장의 경우 회계·재정에 대한 전문성이 부족하고, 독립적인 업무를 맡은 위원도 보수 이상의 보수를 받는 이사이다. 2020년 중산업 안전문화 확립이 시급한데도 불구하고 ESG 관점에서 안전빅데이터 활용 및 현장안전지원체계 구축을 통한 효과적인 사고예방대책 시행이나 현장안전보장을 하지 못했다. ESG 관점에서 볼 때 휠라가 ES\n"
     ]
    },
    {
     "name": "stderr",
     "output_type": "stream",
     "text": [
      "익명화 진행 중:  95%|█████████▌| 10001/10475 [5:02:31<16:40,  2.11s/it]"
     ]
    },
    {
     "name": "stdout",
     "output_type": "stream",
     "text": [
      "Row 10000 익명화 매핑: {'KB금융': 'K사'}\n",
      "Row 10000 익명화 후 - 기업명: K사, full_text: 윤종규 K사 회장이 '꿀벌'에 진심인 이유 GFANZ는 금융을 통해 넷제로 경제를 촉진하고 기후위기를 극복하기 위해 작년 4월 설립됐다. 탄소중립 추진을 위한 아태지역의 중요성을 감안해 싱가포르에 첫 아시아. 태평양 사무소를 개설하고 자문위원회를 구성했다. 싱가포르 중앙은행 총재. 엄우종 아시아개발은행. 이사장 등으로 구성돼 있다. 국내 금융기관에서는 유일\n"
     ]
    },
    {
     "name": "stderr",
     "output_type": "stream",
     "text": [
      "익명화 진행 중:  99%|█████████▉| 10401/10475 [5:14:33<02:05,  1.70s/it]"
     ]
    },
    {
     "name": "stdout",
     "output_type": "stream",
     "text": [
      "Row 10400 익명화 매핑: {}\n",
      "Row 10400 익명화 후 - 기업명: nan, full_text: ESG 관점에서 현대해상은 평가 과정을 통해 조직의 성과에 중요한 주요 쟁점을 우선순위에 두고 있지 못하고, 검증팀은 이와 관련해 상당한 누락을 파악하였다. ESG 관점에서 보면 협동조합 협약에 따른 장애인 스포츠선수 취업기회 증진에 대한 의지 부족이 안타깝게 여겨졌고 중앙대 후원금은 2008년부터 두산그룹이 의도한 대로 학교 교육·시설비 투자에 효과적으로\n"
     ]
    },
    {
     "name": "stderr",
     "output_type": "stream",
     "text": [
      "익명화 진행 중: 100%|██████████| 10475/10475 [5:16:57<00:00,  1.82s/it]\n"
     ]
    },
    {
     "name": "stdout",
     "output_type": "stream",
     "text": [
      "익명화된 데이터가 저장되었습니다: /content/drive/MyDrive/Kwargs/023. esg 긍부정도 라벨러/업데이트/A3_remaster_COMBINED_mapped_ANONYMIZED.csv\n"
     ]
    }
   ],
   "source": [
    "import pandas as pd\n",
    "import re\n",
    "import unicodedata\n",
    "import random\n",
    "from tqdm import tqdm\n",
    "\n",
    "# Unicode normalization function (return empty strings when the value comes in)\n",
    "def normalize_text(text):\n",
    "    \"\"\"텍스트를 유니코드 NFC 형식으로 정규화\"\"\"\n",
    "    if isinstance(text, str):\n",
    "        return unicodedata.normalize('NFC', text)\n",
    "    else:\n",
    "        return ''  # 문자열이 아닌 경우 빈 문자열 반환\n",
    "\n",
    "# Company name cleaning function (minimal normalization application)\n",
    "def clean_company_name(name):\n",
    "    \"\"\"기업명 클리닝: 불필요한 패턴만 제거\"\"\"\n",
    "    cleaned_name = normalize_text(name)  # 유니코드 정규화\n",
    "    prefix_suffix_patterns = [r'주식회사', r'㈜']  # 괄호나 다른 패턴을 제거하지 않음\n",
    "    for pattern in prefix_suffix_patterns:\n",
    "        cleaned_name = re.sub(pattern, '', cleaned_name)\n",
    "    return cleaned_name.strip()  # 앞뒤 공백 제거\n",
    "\n",
    "# Partially included company name removal function\n",
    "def remove_contained_names(names):\n",
    "    \"\"\"부분적으로 포함되는 이름을 제거하여 최종 기업명 리스트 생성\"\"\"\n",
    "    final_names = set(names)\n",
    "    for name in names:\n",
    "        for other in names:\n",
    "            if name != other and name in other:\n",
    "                final_names.discard(name)\n",
    "                break\n",
    "    return list(final_names)\n",
    "\n",
    "# Regular ceremony for corporate name search (flexible boundaries and investigation processing)\n",
    "def search_company_names(content, all_companies):\n",
    "    \"\"\"기사 내용에서 기업명을 추출하는 정규식\"\"\"\n",
    "    companies_in_article = []\n",
    "    for company in all_companies:\n",
    "        if company.strip():  # 공백이 아닌 경우만 처리\n",
    "# Matching the investigation or sentence code after the company name\n",
    "            pattern = rf'\\b{re.escape(company)}(?:[가-힣]*?)\\b'\n",
    "            if re.search(pattern, content):\n",
    "                companies_in_article.append(company)\n",
    "\n",
    "    return list(set(companies_in_article))  # 중복 제거\n",
    "\n",
    "# Anonymization function\n",
    "def anonymize_company_names(df, all_companies):\n",
    "    alphabet = list('ABCDEFGHIJKLMNOPQRSTUVWXYZ')\n",
    "    company_used_anonymous = {clean_company_name(company): set() for company in all_companies}\n",
    "    global_used_anonymous = set()\n",
    "\n",
    "    for i, row in tqdm(df.iterrows(), total=len(df), desc=\"익명화 진행 중\"):\n",
    "        content = normalize_text(str(row['full_text']))  # 기사 내용 정규화\n",
    "\n",
    "        # company 컬럼에 있는 기업명 가져오기 (clean 처리)\n",
    "        original_company_name = clean_company_name(str(row['company']))\n",
    "\n",
    "#Including the company name list only if it is not a gap\n",
    "        if original_company_name.strip():\n",
    "            companies_in_article = search_company_names(content, all_companies)\n",
    "\n",
    "            if original_company_name not in companies_in_article:\n",
    "                companies_in_article.append(original_company_name)\n",
    "\n",
    "        else:\n",
    "            companies_in_article = search_company_names(content, all_companies)\n",
    "\n",
    "        company_to_anonymous = {}\n",
    "        used_letters = set(global_used_anonymous)\n",
    "\n",
    "        for company in companies_in_article:\n",
    "            normalized_company = clean_company_name(company)\n",
    "\n",
    "#Incent strings, numbers or 'NAN' values ​​skip\n",
    "            if not normalized_company or normalized_company.isdigit() or normalized_company.lower() == 'nan':\n",
    "                continue\n",
    "\n",
    "            if normalized_company not in company_used_anonymous:\n",
    "                company_used_anonymous[normalized_company] = set()\n",
    "\n",
    "            if normalized_company not in company_to_anonymous:\n",
    "                already_used = company_used_anonymous[normalized_company]\n",
    "                available_letters = list(set(alphabet) - used_letters - already_used)\n",
    "\n",
    "                if not available_letters:\n",
    "                    available_letters = list(set(alphabet) - already_used)\n",
    "\n",
    "                random_letter = random.choice(available_letters)\n",
    "                anonymous_name = f'{random_letter}사'\n",
    "\n",
    "                company_to_anonymous[normalized_company] = anonymous_name\n",
    "                used_letters.add(random_letter)\n",
    "                company_used_anonymous[normalized_company].add(anonymous_name)\n",
    "                global_used_anonymous.add(anonymous_name)\n",
    "\n",
    "#Interacted the company's name in an anonymized name\n",
    "        for company in companies_in_article:\n",
    "            normalized_company = clean_company_name(company)\n",
    "\n",
    "# Company_to_anonymous Dictionary\n",
    "            if normalized_company not in company_to_anonymous:\n",
    "                continue  # 만약 익명화할 이름이 없다면 건너뜁니다\n",
    "\n",
    "# Anonymization even if the investigation or sentence ingredient is attached behind the company name\n",
    "            pattern = rf'(?<!\\w){re.escape(company)}([가-힣]*)'\n",
    "            content = re.sub(pattern, lambda m: company_to_anonymous[normalized_company] + m.group(1), content)\n",
    "\n",
    "#Annified article content update\n",
    "        df.at[i, 'full_text'] = content\n",
    "\n",
    "#Save the name that is anonymous to the 'company name' column (anonymization name of the original company name 'Company')\n",
    "        df.at[i, '기업명'] = company_to_anonymous.get(original_company_name, original_company_name)\n",
    "\n",
    "# All five are output, and after that, every 400 output\n",
    "        if i < 30 or i % 400 == 0:\n",
    "            print(f\"Row {i} 익명화 매핑: {company_to_anonymous}\")\n",
    "            print(f\"Row {i} 익명화 후 - 기업명: {df.at[i, '기업명']}, full_text: {df.at[i, 'full_text'][:200]}\")\n",
    "\n",
    "    return df\n",
    "\n",
    "# Company name organization function (unnecessary redundant removal)\n",
    "def load_and_clean_company_names(df):\n",
    "#Loading a company name in 'CompanyNames.csv' file (encoding: EUC-kr)\n",
    "    company_names_df = pd.read_csv('/content/drive/MyDrive/Kwargs/companynames.csv', encoding='euc-kr')\n",
    "    companynames_csv_list = company_names_df.iloc[:, 0].tolist()\n",
    "\n",
    "# Added only a business name without a space in # DF ['Company']\n",
    "    df_company_list = df['company'].dropna().unique().tolist()\n",
    "    df_company_list = [clean_company_name(name) for name in df_company_list if name.strip()]  # 공백 제외\n",
    "\n",
    "#Duplicate removal after merger\n",
    "    all_company_names = list(set(companynames_csv_list + df_company_list))\n",
    "\n",
    "# Unnecessary duplicate removal\n",
    "    final_names = remove_contained_names(all_company_names)\n",
    "    return final_names\n",
    "\n",
    "# File path setting\n",
    "file_path = '/content/drive/MyDrive/Kwargs/023. esg 긍부정도 라벨러/업데이트/A3_remaster_COMBINED_mapped.csv'\n",
    "\n",
    "# File Road\n",
    "df = pd.read_csv(file_path)\n",
    "df = df.sample(frac=1).reset_index(drop=True)\n",
    "\n",
    "# Implementing a company name list\n",
    "all_companies = load_and_clean_company_names(df)\n",
    "\n",
    "#Annation of anonymization\n",
    "anonymized_df = anonymize_company_names(df, all_companies)\n",
    "\n",
    "#Save anonymized data\n",
    "output_file = '/content/drive/MyDrive/Kwargs/023. esg 긍부정도 라벨러/업데이트/A3_remaster_COMBINED_mapped_ANONYMIZED.csv'\n",
    "anonymized_df.to_csv(output_file, encoding='utf-8', index=False)\n",
    "\n",
    "print(f\"익명화된 데이터가 저장되었습니다: {output_file}\")\n"
   ]
  },
  {
   "cell_type": "code",
   "execution_count": 6,
   "metadata": {
    "colab": {
     "base_uri": "https://localhost:8080/"
    },
    "executionInfo": {
     "elapsed": 1184,
     "status": "ok",
     "timestamp": 1727768915999,
     "user": {
      "displayName": "백현지",
      "userId": "02510457579208942463"
     },
     "user_tz": -540
    },
    "id": "U3e5y2X-Ms9N",
    "outputId": "9bc9f78b-55f9-458f-c87e-c1389f3a931f"
   },
   "outputs": [
    {
     "data": {
      "text/plain": [
       "(10475, 12)"
      ]
     },
     "execution_count": 6,
     "metadata": {},
     "output_type": "execute_result"
    }
   ],
   "source": [
    "import pandas as pd\n",
    "df = pd.read_csv('/content/drive/MyDrive/Kwargs/023. esg 긍부정도 라벨러/업데이트/A3_remaster_COMBINED_mapped_ANONYMIZED.csv', encoding='utf-8')\n",
    "df.shape"
   ]
  },
  {
   "cell_type": "code",
   "execution_count": 8,
   "metadata": {
    "colab": {
     "base_uri": "https://localhost:8080/"
    },
    "executionInfo": {
     "elapsed": 6786942,
     "status": "ok",
     "timestamp": 1727775826175,
     "user": {
      "displayName": "백현지",
      "userId": "02510457579208942463"
     },
     "user_tz": -540
    },
    "id": "VX5uTovkT0LD",
    "outputId": "6ad52560-c5d2-498b-9eb4-bb9223abf16c"
   },
   "outputs": [
    {
     "name": "stderr",
     "output_type": "stream",
     "text": [
      "Some weights of ElectraForSequenceClassification were not initialized from the model checkpoint at monologg/koelectra-small-discriminator and are newly initialized: ['classifier.dense.bias', 'classifier.dense.weight', 'classifier.out_proj.bias', 'classifier.out_proj.weight']\n",
      "You should probably TRAIN this model on a down-stream task to be able to use it for predictions and inference.\n"
     ]
    },
    {
     "name": "stdout",
     "output_type": "stream",
     "text": [
      "Epoch 1/3\n"
     ]
    },
    {
     "name": "stderr",
     "output_type": "stream",
     "text": [
      "Epoch 1: 100%|██████████| 655/655 [37:58<00:00,  3.48s/it, loss=0.58]\n"
     ]
    },
    {
     "name": "stdout",
     "output_type": "stream",
     "text": [
      "Epoch 1 completed. Average Loss: 0.5801050637969534\n",
      "Epoch 2/3\n"
     ]
    },
    {
     "name": "stderr",
     "output_type": "stream",
     "text": [
      "Epoch 2: 100%|██████████| 655/655 [37:15<00:00,  3.41s/it, loss=0.347]\n"
     ]
    },
    {
     "name": "stdout",
     "output_type": "stream",
     "text": [
      "Epoch 2 completed. Average Loss: 0.34658306595933347\n",
      "Epoch 3/3\n"
     ]
    },
    {
     "name": "stderr",
     "output_type": "stream",
     "text": [
      "Epoch 3: 100%|██████████| 655/655 [37:50<00:00,  3.47s/it, loss=0.286]\n"
     ]
    },
    {
     "name": "stdout",
     "output_type": "stream",
     "text": [
      "Epoch 3 completed. Average Loss: 0.2861586943695336\n",
      "모델이 저장되었습니다.\n"
     ]
    }
   ],
   "source": [
    "import torch\n",
    "import torch.nn as nn\n",
    "from transformers import ElectraTokenizer, ElectraForSequenceClassification, AdamW\n",
    "from torch.utils.data import DataLoader, Dataset\n",
    "from tqdm import tqdm\n",
    "\n",
    "# 1. Data set for text classification\n",
    "class TextDataset(Dataset):\n",
    "    def __init__(self, texts, labels, tokenizer, max_len):\n",
    "        self.texts = texts\n",
    "        self.labels = labels\n",
    "        self.tokenizer = tokenizer\n",
    "        self.max_len = max_len\n",
    "\n",
    "    def __len__(self):\n",
    "        return len(self.texts)\n",
    "\n",
    "    def __getitem__(self, idx):\n",
    "        text = self.texts[idx]\n",
    "        label = self.labels[idx]\n",
    "\n",
    "# -1, 0, 1 label mapping to 0, 1, 2 (because the label value occurs because of a negative surface problem)\n",
    "        if label == -1:\n",
    "            label = 0\n",
    "        elif label == 0:\n",
    "            label = 1\n",
    "        elif label == 1:\n",
    "            label = 2\n",
    "\n",
    "# Treat the text as a torque nicer\n",
    "        encoding = self.tokenizer(\n",
    "            text,\n",
    "            return_tensors='pt',\n",
    "            max_length=self.max_len,\n",
    "            padding='max_length',\n",
    "            truncation=True\n",
    "        )\n",
    "\n",
    "        return {\n",
    "            'input_ids': encoding['input_ids'].flatten(),\n",
    "            'attention_mask': encoding['attention_mask'].flatten(),\n",
    "            'labels': torch.tensor(label, dtype=torch.long)\n",
    "        }\n",
    "\n",
    "# 2. Koelectra model definition\n",
    "class KoELECTRAClassifier(nn.Module):\n",
    "    def __init__(self, model_name, num_labels=3):\n",
    "        super(KoELECTRAClassifier, self).__init__()\n",
    "# Koelectra Model Road\n",
    "        self.electra = ElectraForSequenceClassification.from_pretrained(model_name, num_labels=num_labels)\n",
    "\n",
    "    def forward(self, input_ids, attention_mask=None, labels=None):\n",
    "#Koelectra's Forward function call\n",
    "        outputs = self.electra(input_ids=input_ids, attention_mask=attention_mask, labels=labels)\n",
    "        return outputs\n",
    "\n",
    "# 3. Learning loop definition\n",
    "def train_model(model, data_loader, optimizer, device, num_epochs=3):\n",
    "    model.train()\n",
    "    for epoch in range(num_epochs):\n",
    "        print(f\"Epoch {epoch + 1}/{num_epochs}\")\n",
    "        total_loss = 0.0\n",
    "        progress_bar = tqdm(data_loader, desc=f\"Epoch {epoch + 1}\")\n",
    "\n",
    "        for batch in progress_bar:\n",
    "            input_ids = batch['input_ids'].to(device)\n",
    "            attention_mask = batch['attention_mask'].to(device)\n",
    "            labels = batch['labels'].to(device)\n",
    "\n",
    "# Get the output of the model and calculate the loss\n",
    "            outputs = model(input_ids=input_ids, attention_mask=attention_mask, labels=labels)\n",
    "            loss = outputs.loss\n",
    "\n",
    "#Reverse and optimization\n",
    "            optimizer.zero_grad()\n",
    "            loss.backward()\n",
    "            optimizer.step()\n",
    "\n",
    "            total_loss += loss.item()\n",
    "            progress_bar.set_postfix({'loss': total_loss / len(data_loader)})\n",
    "\n",
    "        print(f\"Epoch {epoch + 1} completed. Average Loss: {total_loss / len(data_loader)}\")\n",
    "\n",
    "# 4. Set dataset and torque knights\n",
    "tokenizer = ElectraTokenizer.from_pretrained('monologg/koelectra-small-discriminator')\n",
    "max_len = 128\n",
    "\n",
    "# Learning data load\n",
    "train_texts = df['full_text'].tolist()  # 텍스트 데이터\n",
    "train_labels = df['positivity'].tolist()  # 라벨 데이터\n",
    "\n",
    "# Create dataset and data loader\n",
    "train_dataset = TextDataset(train_texts, train_labels, tokenizer, max_len=max_len)\n",
    "train_loader = DataLoader(train_dataset, batch_size=16, shuffle=True)\n",
    "\n",
    "# 5. Models and learning settings\n",
    "device = torch.device('cuda' if torch.cuda.is_available() else 'cpu')\n",
    "model = KoELECTRAClassifier('monologg/koelectra-small-discriminator').to(device)\n",
    "\n",
    "optimizer = AdamW(model.parameters(), lr=2e-5)\n",
    "\n",
    "# 6. Learning execution\n",
    "train_model(model, train_loader, optimizer, device, num_epochs=3)"
   ]
  },
  {
   "cell_type": "code",
   "execution_count": 21,
   "metadata": {
    "colab": {
     "base_uri": "https://localhost:8080/"
    },
    "executionInfo": {
     "elapsed": 1056,
     "status": "ok",
     "timestamp": 1727778283265,
     "user": {
      "displayName": "백현지",
      "userId": "02510457579208942463"
     },
     "user_tz": -540
    },
    "id": "Sqc9LI3xUO2w",
    "outputId": "c4940d91-5774-451e-f68b-39f9b8c8b234"
   },
   "outputs": [
    {
     "data": {
      "text/plain": [
       "('/content/drive/MyDrive/Kwargs/023. esg 긍부정도 라벨러/업데이트/A3_KoELECTRA_finetuned/tokenizer_config.json',\n",
       " '/content/drive/MyDrive/Kwargs/023. esg 긍부정도 라벨러/업데이트/A3_KoELECTRA_finetuned/special_tokens_map.json',\n",
       " '/content/drive/MyDrive/Kwargs/023. esg 긍부정도 라벨러/업데이트/A3_KoELECTRA_finetuned/vocab.txt',\n",
       " '/content/drive/MyDrive/Kwargs/023. esg 긍부정도 라벨러/업데이트/A3_KoELECTRA_finetuned/added_tokens.json')"
      ]
     },
     "execution_count": 21,
     "metadata": {},
     "output_type": "execute_result"
    }
   ],
   "source": [
    "#Save the Electra model inside KoelectRA\n",
    "for param in model.electra.parameters():\n",
    "    if not param.is_contiguous():\n",
    "        param.data = param.contiguous()\n",
    "\n",
    "# Now save the model.\n",
    "model.electra.save_pretrained('/content/drive/MyDrive/Kwargs/023. esg 긍부정도 라벨러/업데이트/A3_KoELECTRA_finetuned')\n",
    "tokenizer.save_pretrained('/content/drive/MyDrive/Kwargs/023. esg 긍부정도 라벨러/업데이트/A3_KoELECTRA_finetuned')\n"
   ]
  },
  {
   "cell_type": "code",
   "execution_count": 23,
   "metadata": {
    "colab": {
     "base_uri": "https://localhost:8080/"
    },
    "executionInfo": {
     "elapsed": 676,
     "status": "ok",
     "timestamp": 1727778425640,
     "user": {
      "displayName": "백현지",
      "userId": "02510457579208942463"
     },
     "user_tz": -540
    },
    "id": "VMkQybyGiZX7",
    "outputId": "9c887cd4-96b1-42cb-8a05-f5a954e3bdda"
   },
   "outputs": [
    {
     "data": {
      "text/plain": [
       "ElectraForSequenceClassification(\n",
       "  (electra): ElectraModel(\n",
       "    (embeddings): ElectraEmbeddings(\n",
       "      (word_embeddings): Embedding(32200, 128, padding_idx=0)\n",
       "      (position_embeddings): Embedding(512, 128)\n",
       "      (token_type_embeddings): Embedding(2, 128)\n",
       "      (LayerNorm): LayerNorm((128,), eps=1e-12, elementwise_affine=True)\n",
       "      (dropout): Dropout(p=0.1, inplace=False)\n",
       "    )\n",
       "    (embeddings_project): Linear(in_features=128, out_features=256, bias=True)\n",
       "    (encoder): ElectraEncoder(\n",
       "      (layer): ModuleList(\n",
       "        (0-11): 12 x ElectraLayer(\n",
       "          (attention): ElectraAttention(\n",
       "            (self): ElectraSelfAttention(\n",
       "              (query): Linear(in_features=256, out_features=256, bias=True)\n",
       "              (key): Linear(in_features=256, out_features=256, bias=True)\n",
       "              (value): Linear(in_features=256, out_features=256, bias=True)\n",
       "              (dropout): Dropout(p=0.1, inplace=False)\n",
       "            )\n",
       "            (output): ElectraSelfOutput(\n",
       "              (dense): Linear(in_features=256, out_features=256, bias=True)\n",
       "              (LayerNorm): LayerNorm((256,), eps=1e-12, elementwise_affine=True)\n",
       "              (dropout): Dropout(p=0.1, inplace=False)\n",
       "            )\n",
       "          )\n",
       "          (intermediate): ElectraIntermediate(\n",
       "            (dense): Linear(in_features=256, out_features=1024, bias=True)\n",
       "            (intermediate_act_fn): GELUActivation()\n",
       "          )\n",
       "          (output): ElectraOutput(\n",
       "            (dense): Linear(in_features=1024, out_features=256, bias=True)\n",
       "            (LayerNorm): LayerNorm((256,), eps=1e-12, elementwise_affine=True)\n",
       "            (dropout): Dropout(p=0.1, inplace=False)\n",
       "          )\n",
       "        )\n",
       "      )\n",
       "    )\n",
       "  )\n",
       "  (classifier): ElectraClassificationHead(\n",
       "    (dense): Linear(in_features=256, out_features=256, bias=True)\n",
       "    (activation): GELUActivation()\n",
       "    (dropout): Dropout(p=0.1, inplace=False)\n",
       "    (out_proj): Linear(in_features=256, out_features=3, bias=True)\n",
       "  )\n",
       ")"
      ]
     },
     "execution_count": 23,
     "metadata": {},
     "output_type": "execute_result"
    }
   ],
   "source": [
    "import torch\n",
    "from transformers import ElectraTokenizer, ElectraForSequenceClassification\n",
    "from sklearn.metrics import accuracy_score, precision_recall_fscore_support\n",
    "\n",
    "# GPU or CPU setting\n",
    "device = torch.device('cuda' if torch.cuda.is_available() else 'cpu')\n",
    "\n",
    "#Save Koelectra Model and Talk Niser Road\n",
    "model_path = '/content/drive/MyDrive/Kwargs/023. esg 긍부정도 라벨러/업데이트/A3_KoELECTRA_finetuned'\n",
    "model = ElectraForSequenceClassification.from_pretrained(model_path).to(device)\n",
    "tokenizer = ElectraTokenizer.from_pretrained(model_path)\n",
    "\n",
    "model.eval()  # 평가 모드로 전환\n"
   ]
  },
  {
   "cell_type": "code",
   "execution_count": 24,
   "metadata": {
    "executionInfo": {
     "elapsed": 311,
     "status": "ok",
     "timestamp": 1727778443426,
     "user": {
      "displayName": "백현지",
      "userId": "02510457579208942463"
     },
     "user_tz": -540
    },
    "id": "4Sp-fVMyliCW"
   },
   "outputs": [],
   "source": [
    "eval_df = df.copy()"
   ]
  },
  {
   "cell_type": "code",
   "execution_count": 25,
   "metadata": {
    "executionInfo": {
     "elapsed": 3,
     "status": "ok",
     "timestamp": 1727778444388,
     "user": {
      "displayName": "백현지",
      "userId": "02510457579208942463"
     },
     "user_tz": -540
    },
    "id": "aEL3cW33il6R"
   },
   "outputs": [],
   "source": [
    "from torch.utils.data import DataLoader\n",
    "\n",
    "# Definition of dataset for evaluation (the same format as learning dataset)\n",
    "class TextDataset(Dataset):\n",
    "    def __init__(self, texts, labels, tokenizer, max_len):\n",
    "        self.texts = texts\n",
    "        self.labels = labels\n",
    "        self.tokenizer = tokenizer\n",
    "        self.max_len = max_len\n",
    "\n",
    "    def __len__(self):\n",
    "        return len(self.texts)\n",
    "\n",
    "    def __getitem__(self, idx):\n",
    "        text = self.texts[idx]\n",
    "        label = self.labels[idx]\n",
    "\n",
    "# -1, 0, 1 label mapping to 0, 1, 2 (because I changed the label when learning)\n",
    "        if label == -1:\n",
    "            label = 0\n",
    "        elif label == 0:\n",
    "            label = 1\n",
    "        elif label == 1:\n",
    "            label = 2\n",
    "\n",
    "        encoding = self.tokenizer(\n",
    "            text,\n",
    "            return_tensors='pt',\n",
    "            max_length=self.max_len,\n",
    "            padding='max_length',\n",
    "            truncation=True\n",
    "        )\n",
    "\n",
    "        return {\n",
    "            'input_ids': encoding['input_ids'].flatten(),\n",
    "            'attention_mask': encoding['attention_mask'].flatten(),\n",
    "            'labels': torch.tensor(label, dtype=torch.long)\n",
    "        }\n",
    "\n",
    "# Preparation of text and label list for evaluation\n",
    "eval_texts = eval_df['full_text'].tolist()  # 평가 데이터의 텍스트 컬럼\n",
    "eval_labels = eval_df['positivity'].tolist()  # 평가 데이터의 라벨 컬럼\n",
    "\n",
    "# Create an evaluation dataset and dataloader\n",
    "eval_dataset = TextDataset(eval_texts, eval_labels, tokenizer, max_len=128)\n",
    "eval_loader = DataLoader(eval_dataset, batch_size=16, shuffle=False)\n"
   ]
  },
  {
   "cell_type": "code",
   "execution_count": 27,
   "metadata": {
    "colab": {
     "base_uri": "https://localhost:8080/"
    },
    "executionInfo": {
     "elapsed": 771698,
     "status": "ok",
     "timestamp": 1727779406824,
     "user": {
      "displayName": "백현지",
      "userId": "02510457579208942463"
     },
     "user_tz": -540
    },
    "id": "o3hhndLDntJA",
    "outputId": "f51e66a8-ed00-45a5-a52f-f8bc467047a6"
   },
   "outputs": [
    {
     "name": "stderr",
     "output_type": "stream",
     "text": [
      "Evaluating: 100%|██████████| 655/655 [12:51<00:00,  1.18s/it]"
     ]
    },
    {
     "name": "stdout",
     "output_type": "stream",
     "text": [
      "Accuracy: 0.4390\n",
      "Precision: 0.1928\n",
      "Recall: 0.4390\n",
      "F1-Score: 0.2679\n"
     ]
    },
    {
     "name": "stderr",
     "output_type": "stream",
     "text": [
      "\n",
      "/usr/local/lib/python3.10/dist-packages/sklearn/metrics/_classification.py:1531: UndefinedMetricWarning: Precision is ill-defined and being set to 0.0 in labels with no predicted samples. Use `zero_division` parameter to control this behavior.\n",
      "  _warn_prf(average, modifier, f\"{metric.capitalize()} is\", len(result))\n"
     ]
    }
   ],
   "source": [
    "from tqdm import tqdm\n",
    "from sklearn.metrics import precision_recall_fscore_support\n",
    "\n",
    "\n",
    "def evaluate_model(model, eval_loader, device):\n",
    "    model.eval()  # 모델을 평가 모드로 전환\n",
    "    all_preds = []\n",
    "    all_labels = []\n",
    "\n",
    "    with torch.no_grad():\n",
    "# TQDM application\n",
    "        for batch in tqdm(eval_loader, desc=\"Evaluating\"):\n",
    "            input_ids = batch['input_ids'].to(device)\n",
    "            attention_mask = batch['attention_mask'].to(device)\n",
    "            labels = batch['labels'].to(device)\n",
    "\n",
    "#Model prediction\n",
    "            outputs = model(input_ids=input_ids, attention_mask=attention_mask)\n",
    "            preds = torch.argmax(outputs.logits, dim=-1)\n",
    "\n",
    "            all_preds.extend(preds.cpu().numpy())\n",
    "            all_labels.extend(labels.cpu().numpy())\n",
    "\n",
    "# Restore the label to the original value (-1, 0, 1)\n",
    "    all_preds = [p - 1 for p in all_preds]\n",
    "    all_labels = [l - 1 for l in all_labels]\n",
    "\n",
    "# Calculation of evaluation indicators\n",
    "    accuracy = accuracy_score(all_labels, all_preds)\n",
    "\n",
    "# Calculation of evaluation indicators\n",
    "    precision, recall, f1, _ = precision_recall_fscore_support(all_labels, all_preds, average='weighted', zero_division=1)\n",
    "\n",
    "\n",
    "    print(f\"Accuracy: {accuracy:.4f}\")\n",
    "    print(f\"Precision: {precision:.4f}\")\n",
    "    print(f\"Recall: {recall:.4f}\")\n",
    "    print(f\"F1-Score: {f1:.4f}\")\n",
    "\n",
    "# Evaluation execution\n",
    "evaluate_model(model, eval_loader, device)\n"
   ]
  },
  {
   "cell_type": "code",
   "execution_count": null,
   "metadata": {
    "id": "837oWcf3nvoY"
   },
   "outputs": [],
   "source": []
  }
 ],
 "metadata": {
  "colab": {
   "authorship_tag": "ABX9TyMKhBSbfwt9/Q1U+4UrJorS",
   "mount_file_id": "1aqKgcNSifEsskejM5dSYeWbPYMnrY7gf",
   "provenance": [
    {
     "file_id": "1rfaV-edX0QYlEJAouZAnGOro5cKhCzcQ",
     "timestamp": 1727632887793
    }
   ]
  },
  "kernelspec": {
   "display_name": "Python 3",
   "name": "python3"
  },
  "language_info": {
   "name": "python"
  }
 },
 "nbformat": 4,
 "nbformat_minor": 0
}
