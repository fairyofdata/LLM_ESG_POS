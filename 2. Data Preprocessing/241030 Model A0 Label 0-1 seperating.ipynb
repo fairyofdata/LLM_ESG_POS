{
 "cells": [
  {
   "cell_type": "code",
   "execution_count": 5,
   "metadata": {
    "colab": {
     "base_uri": "https://localhost:8080/"
    },
    "executionInfo": {
     "elapsed": 327418,
     "status": "ok",
     "timestamp": 1730232963971,
     "user": {
      "displayName": "백현지",
      "userId": "02510457579208942463"
     },
     "user_tz": -540
    },
    "id": "679BjVXL5Amc",
    "outputId": "484f2c5b-3cd4-4e62-d821-8c76da679967"
   },
   "outputs": [
    {
     "name": "stderr",
     "output_type": "stream",
     "text": [
      "  1%|          | 1/141 [00:02<05:17,  2.27s/it]"
     ]
    },
    {
     "name": "stdout",
     "output_type": "stream",
     "text": [
      "File 0 processed: Label 1 count = 4711, Label 0 count = 5288\n"
     ]
    },
    {
     "name": "stderr",
     "output_type": "stream",
     "text": [
      "\r",
      "  1%|▏         | 2/141 [00:04<05:03,  2.19s/it]"
     ]
    },
    {
     "name": "stdout",
     "output_type": "stream",
     "text": [
      "File 1 processed: Label 1 count = 9412, Label 0 count = 10586\n"
     ]
    },
    {
     "name": "stderr",
     "output_type": "stream",
     "text": [
      "\r",
      "  2%|▏         | 3/141 [00:06<04:42,  2.05s/it]"
     ]
    },
    {
     "name": "stdout",
     "output_type": "stream",
     "text": [
      "File 2 processed: Label 1 count = 14135, Label 0 count = 15862\n"
     ]
    },
    {
     "name": "stderr",
     "output_type": "stream",
     "text": [
      "\r",
      "  3%|▎         | 4/141 [00:08<05:08,  2.25s/it]"
     ]
    },
    {
     "name": "stdout",
     "output_type": "stream",
     "text": [
      "File 3 processed: Label 1 count = 17598, Label 0 count = 22398\n"
     ]
    },
    {
     "name": "stderr",
     "output_type": "stream",
     "text": [
      "\r",
      "  4%|▎         | 5/141 [00:10<04:58,  2.20s/it]"
     ]
    },
    {
     "name": "stdout",
     "output_type": "stream",
     "text": [
      "File 4 processed: Label 1 count = 19873, Label 0 count = 30122\n"
     ]
    },
    {
     "name": "stderr",
     "output_type": "stream",
     "text": [
      "\r",
      "  4%|▍         | 6/141 [00:13<05:09,  2.29s/it]"
     ]
    },
    {
     "name": "stdout",
     "output_type": "stream",
     "text": [
      "File 5 processed: Label 1 count = 22590, Label 0 count = 37404\n"
     ]
    },
    {
     "name": "stderr",
     "output_type": "stream",
     "text": [
      "\r",
      "  5%|▍         | 7/141 [00:15<04:57,  2.22s/it]"
     ]
    },
    {
     "name": "stdout",
     "output_type": "stream",
     "text": [
      "File 6 processed: Label 1 count = 25754, Label 0 count = 44239\n"
     ]
    },
    {
     "name": "stderr",
     "output_type": "stream",
     "text": [
      "\r",
      "  6%|▌         | 8/141 [00:17<04:52,  2.20s/it]"
     ]
    },
    {
     "name": "stdout",
     "output_type": "stream",
     "text": [
      "File 7 processed: Label 1 count = 29199, Label 0 count = 50793\n"
     ]
    },
    {
     "name": "stderr",
     "output_type": "stream",
     "text": [
      "\r",
      "  6%|▋         | 9/141 [00:20<05:24,  2.46s/it]"
     ]
    },
    {
     "name": "stdout",
     "output_type": "stream",
     "text": [
      "File 8 processed: Label 1 count = 32763, Label 0 count = 57228\n"
     ]
    },
    {
     "name": "stderr",
     "output_type": "stream",
     "text": [
      "\r",
      "  7%|▋         | 10/141 [00:23<05:43,  2.62s/it]"
     ]
    },
    {
     "name": "stdout",
     "output_type": "stream",
     "text": [
      "File 9 processed: Label 1 count = 36494, Label 0 count = 63496\n"
     ]
    },
    {
     "name": "stderr",
     "output_type": "stream",
     "text": [
      "\r",
      "  8%|▊         | 11/141 [00:25<05:18,  2.45s/it]"
     ]
    },
    {
     "name": "stdout",
     "output_type": "stream",
     "text": [
      "File 10 processed: Label 1 count = 39816, Label 0 count = 70173\n"
     ]
    },
    {
     "name": "stderr",
     "output_type": "stream",
     "text": [
      "\r",
      "  9%|▊         | 12/141 [00:27<04:48,  2.24s/it]"
     ]
    },
    {
     "name": "stdout",
     "output_type": "stream",
     "text": [
      "File 11 processed: Label 1 count = 43412, Label 0 count = 76576\n"
     ]
    },
    {
     "name": "stderr",
     "output_type": "stream",
     "text": [
      "\r",
      "  9%|▉         | 13/141 [00:29<04:28,  2.10s/it]"
     ]
    },
    {
     "name": "stdout",
     "output_type": "stream",
     "text": [
      "File 12 processed: Label 1 count = 46410, Label 0 count = 83577\n"
     ]
    },
    {
     "name": "stderr",
     "output_type": "stream",
     "text": [
      "\r",
      " 10%|▉         | 14/141 [00:31<04:16,  2.02s/it]"
     ]
    },
    {
     "name": "stdout",
     "output_type": "stream",
     "text": [
      "File 13 processed: Label 1 count = 50152, Label 0 count = 89834\n"
     ]
    },
    {
     "name": "stderr",
     "output_type": "stream",
     "text": [
      "\r",
      " 11%|█         | 15/141 [00:33<04:19,  2.06s/it]"
     ]
    },
    {
     "name": "stdout",
     "output_type": "stream",
     "text": [
      "File 14 processed: Label 1 count = 54379, Label 0 count = 95606\n"
     ]
    },
    {
     "name": "stderr",
     "output_type": "stream",
     "text": [
      "\r",
      " 11%|█▏        | 16/141 [00:36<04:48,  2.31s/it]"
     ]
    },
    {
     "name": "stdout",
     "output_type": "stream",
     "text": [
      "File 15 processed: Label 1 count = 59873, Label 0 count = 100111\n"
     ]
    },
    {
     "name": "stderr",
     "output_type": "stream",
     "text": [
      "\r",
      " 12%|█▏        | 17/141 [00:38<04:40,  2.26s/it]"
     ]
    },
    {
     "name": "stdout",
     "output_type": "stream",
     "text": [
      "File 16 processed: Label 1 count = 63767, Label 0 count = 106216\n"
     ]
    },
    {
     "name": "stderr",
     "output_type": "stream",
     "text": [
      "\r",
      " 13%|█▎        | 18/141 [00:40<04:23,  2.14s/it]"
     ]
    },
    {
     "name": "stdout",
     "output_type": "stream",
     "text": [
      "File 17 processed: Label 1 count = 66929, Label 0 count = 113053\n"
     ]
    },
    {
     "name": "stderr",
     "output_type": "stream",
     "text": [
      "\r",
      " 13%|█▎        | 19/141 [00:42<04:31,  2.23s/it]"
     ]
    },
    {
     "name": "stdout",
     "output_type": "stream",
     "text": [
      "File 18 processed: Label 1 count = 70333, Label 0 count = 119648\n"
     ]
    },
    {
     "name": "stderr",
     "output_type": "stream",
     "text": [
      "\r",
      " 14%|█▍        | 20/141 [00:44<04:20,  2.15s/it]"
     ]
    },
    {
     "name": "stdout",
     "output_type": "stream",
     "text": [
      "File 19 processed: Label 1 count = 75056, Label 0 count = 124924\n"
     ]
    },
    {
     "name": "stderr",
     "output_type": "stream",
     "text": [
      "\r",
      " 15%|█▍        | 21/141 [00:47<04:41,  2.35s/it]"
     ]
    },
    {
     "name": "stdout",
     "output_type": "stream",
     "text": [
      "File 20 processed: Label 1 count = 81875, Label 0 count = 128104\n"
     ]
    },
    {
     "name": "stderr",
     "output_type": "stream",
     "text": [
      "\r",
      " 16%|█▌        | 22/141 [00:49<04:47,  2.41s/it]"
     ]
    },
    {
     "name": "stdout",
     "output_type": "stream",
     "text": [
      "File 21 processed: Label 1 count = 88551, Label 0 count = 131427\n"
     ]
    },
    {
     "name": "stderr",
     "output_type": "stream",
     "text": [
      "\r",
      " 16%|█▋        | 23/141 [00:52<04:41,  2.38s/it]"
     ]
    },
    {
     "name": "stdout",
     "output_type": "stream",
     "text": [
      "File 22 processed: Label 1 count = 93825, Label 0 count = 136152\n"
     ]
    },
    {
     "name": "stderr",
     "output_type": "stream",
     "text": [
      "\r",
      " 17%|█▋        | 24/141 [00:54<04:41,  2.41s/it]"
     ]
    },
    {
     "name": "stdout",
     "output_type": "stream",
     "text": [
      "File 23 processed: Label 1 count = 98018, Label 0 count = 141958\n"
     ]
    },
    {
     "name": "stderr",
     "output_type": "stream",
     "text": [
      "\r",
      " 18%|█▊        | 25/141 [00:57<04:56,  2.56s/it]"
     ]
    },
    {
     "name": "stdout",
     "output_type": "stream",
     "text": [
      "File 24 processed: Label 1 count = 101915, Label 0 count = 148060\n"
     ]
    },
    {
     "name": "stderr",
     "output_type": "stream",
     "text": [
      "\r",
      " 18%|█▊        | 26/141 [01:00<04:59,  2.61s/it]"
     ]
    },
    {
     "name": "stdout",
     "output_type": "stream",
     "text": [
      "File 25 processed: Label 1 count = 105717, Label 0 count = 154257\n"
     ]
    },
    {
     "name": "stderr",
     "output_type": "stream",
     "text": [
      "\r",
      " 19%|█▉        | 27/141 [01:03<05:07,  2.70s/it]"
     ]
    },
    {
     "name": "stdout",
     "output_type": "stream",
     "text": [
      "File 26 processed: Label 1 count = 109909, Label 0 count = 160064\n"
     ]
    },
    {
     "name": "stderr",
     "output_type": "stream",
     "text": [
      "\r",
      " 20%|█▉        | 28/141 [01:05<05:04,  2.70s/it]"
     ]
    },
    {
     "name": "stdout",
     "output_type": "stream",
     "text": [
      "File 27 processed: Label 1 count = 114424, Label 0 count = 165548\n"
     ]
    },
    {
     "name": "stderr",
     "output_type": "stream",
     "text": [
      "\r",
      " 21%|██        | 29/141 [01:09<05:18,  2.84s/it]"
     ]
    },
    {
     "name": "stdout",
     "output_type": "stream",
     "text": [
      "File 28 processed: Label 1 count = 119323, Label 0 count = 170648\n"
     ]
    },
    {
     "name": "stderr",
     "output_type": "stream",
     "text": [
      "\r",
      " 21%|██▏       | 30/141 [01:11<04:54,  2.65s/it]"
     ]
    },
    {
     "name": "stdout",
     "output_type": "stream",
     "text": [
      "File 29 processed: Label 1 count = 124091, Label 0 count = 175879\n"
     ]
    },
    {
     "name": "stderr",
     "output_type": "stream",
     "text": [
      "\r",
      " 22%|██▏       | 31/141 [01:13<04:43,  2.58s/it]"
     ]
    },
    {
     "name": "stdout",
     "output_type": "stream",
     "text": [
      "File 30 processed: Label 1 count = 129230, Label 0 count = 180739\n"
     ]
    },
    {
     "name": "stderr",
     "output_type": "stream",
     "text": [
      "\r",
      " 23%|██▎       | 32/141 [01:15<04:17,  2.36s/it]"
     ]
    },
    {
     "name": "stdout",
     "output_type": "stream",
     "text": [
      "File 31 processed: Label 1 count = 135292, Label 0 count = 184676\n"
     ]
    },
    {
     "name": "stderr",
     "output_type": "stream",
     "text": [
      "\r",
      " 23%|██▎       | 33/141 [01:18<04:21,  2.42s/it]"
     ]
    },
    {
     "name": "stdout",
     "output_type": "stream",
     "text": [
      "File 32 processed: Label 1 count = 140784, Label 0 count = 189183\n"
     ]
    },
    {
     "name": "stderr",
     "output_type": "stream",
     "text": [
      "\r",
      " 24%|██▍       | 34/141 [01:20<04:14,  2.38s/it]"
     ]
    },
    {
     "name": "stdout",
     "output_type": "stream",
     "text": [
      "File 33 processed: Label 1 count = 145987, Label 0 count = 193979\n"
     ]
    },
    {
     "name": "stderr",
     "output_type": "stream",
     "text": [
      "\r",
      " 25%|██▍       | 35/141 [01:22<04:11,  2.37s/it]"
     ]
    },
    {
     "name": "stdout",
     "output_type": "stream",
     "text": [
      "File 34 processed: Label 1 count = 149839, Label 0 count = 200126\n"
     ]
    },
    {
     "name": "stderr",
     "output_type": "stream",
     "text": [
      "\r",
      " 26%|██▌       | 36/141 [01:24<03:51,  2.20s/it]"
     ]
    },
    {
     "name": "stdout",
     "output_type": "stream",
     "text": [
      "File 35 processed: Label 1 count = 152821, Label 0 count = 207143\n"
     ]
    },
    {
     "name": "stderr",
     "output_type": "stream",
     "text": [
      "\r",
      " 26%|██▌       | 37/141 [01:26<03:45,  2.17s/it]"
     ]
    },
    {
     "name": "stdout",
     "output_type": "stream",
     "text": [
      "File 36 processed: Label 1 count = 156546, Label 0 count = 213417\n"
     ]
    },
    {
     "name": "stderr",
     "output_type": "stream",
     "text": [
      "\r",
      " 27%|██▋       | 38/141 [01:28<03:27,  2.01s/it]"
     ]
    },
    {
     "name": "stdout",
     "output_type": "stream",
     "text": [
      "File 37 processed: Label 1 count = 160669, Label 0 count = 219293\n"
     ]
    },
    {
     "name": "stderr",
     "output_type": "stream",
     "text": [
      "\r",
      " 28%|██▊       | 39/141 [01:30<03:44,  2.20s/it]"
     ]
    },
    {
     "name": "stdout",
     "output_type": "stream",
     "text": [
      "File 38 processed: Label 1 count = 164725, Label 0 count = 225236\n"
     ]
    },
    {
     "name": "stderr",
     "output_type": "stream",
     "text": [
      "\r",
      " 28%|██▊       | 40/141 [01:33<03:43,  2.22s/it]"
     ]
    },
    {
     "name": "stdout",
     "output_type": "stream",
     "text": [
      "File 39 processed: Label 1 count = 169601, Label 0 count = 230359\n"
     ]
    },
    {
     "name": "stderr",
     "output_type": "stream",
     "text": [
      "\r",
      " 29%|██▉       | 41/141 [01:35<03:51,  2.31s/it]"
     ]
    },
    {
     "name": "stdout",
     "output_type": "stream",
     "text": [
      "File 40 processed: Label 1 count = 174871, Label 0 count = 235088\n"
     ]
    },
    {
     "name": "stderr",
     "output_type": "stream",
     "text": [
      "\r",
      " 30%|██▉       | 42/141 [01:38<03:50,  2.33s/it]"
     ]
    },
    {
     "name": "stdout",
     "output_type": "stream",
     "text": [
      "File 41 processed: Label 1 count = 179952, Label 0 count = 240006\n"
     ]
    },
    {
     "name": "stderr",
     "output_type": "stream",
     "text": [
      "\r",
      " 30%|███       | 43/141 [01:40<03:49,  2.34s/it]"
     ]
    },
    {
     "name": "stdout",
     "output_type": "stream",
     "text": [
      "File 42 processed: Label 1 count = 183789, Label 0 count = 246168\n"
     ]
    },
    {
     "name": "stderr",
     "output_type": "stream",
     "text": [
      "\r",
      " 31%|███       | 44/141 [01:43<04:16,  2.65s/it]"
     ]
    },
    {
     "name": "stdout",
     "output_type": "stream",
     "text": [
      "File 43 processed: Label 1 count = 188894, Label 0 count = 251062\n"
     ]
    },
    {
     "name": "stderr",
     "output_type": "stream",
     "text": [
      "\r",
      " 32%|███▏      | 45/141 [01:47<04:31,  2.83s/it]"
     ]
    },
    {
     "name": "stdout",
     "output_type": "stream",
     "text": [
      "File 44 processed: Label 1 count = 195674, Label 0 count = 254281\n"
     ]
    },
    {
     "name": "stderr",
     "output_type": "stream",
     "text": [
      "\r",
      " 33%|███▎      | 46/141 [01:49<04:09,  2.63s/it]"
     ]
    },
    {
     "name": "stdout",
     "output_type": "stream",
     "text": [
      "File 45 processed: Label 1 count = 202068, Label 0 count = 257886\n"
     ]
    },
    {
     "name": "stderr",
     "output_type": "stream",
     "text": [
      "\r",
      " 33%|███▎      | 47/141 [01:51<04:02,  2.58s/it]"
     ]
    },
    {
     "name": "stdout",
     "output_type": "stream",
     "text": [
      "File 46 processed: Label 1 count = 205791, Label 0 count = 264162\n"
     ]
    },
    {
     "name": "stderr",
     "output_type": "stream",
     "text": [
      "\r",
      " 34%|███▍      | 48/141 [01:54<04:02,  2.61s/it]"
     ]
    },
    {
     "name": "stdout",
     "output_type": "stream",
     "text": [
      "File 47 processed: Label 1 count = 208797, Label 0 count = 271155\n"
     ]
    },
    {
     "name": "stderr",
     "output_type": "stream",
     "text": [
      "\r",
      " 35%|███▍      | 49/141 [01:57<04:25,  2.88s/it]"
     ]
    },
    {
     "name": "stdout",
     "output_type": "stream",
     "text": [
      "File 48 processed: Label 1 count = 212172, Label 0 count = 277779\n"
     ]
    },
    {
     "name": "stderr",
     "output_type": "stream",
     "text": [
      "\r",
      " 35%|███▌      | 50/141 [02:00<04:07,  2.72s/it]"
     ]
    },
    {
     "name": "stdout",
     "output_type": "stream",
     "text": [
      "File 49 processed: Label 1 count = 214965, Label 0 count = 284985\n"
     ]
    },
    {
     "name": "stderr",
     "output_type": "stream",
     "text": [
      "\r",
      " 36%|███▌      | 51/141 [02:02<03:39,  2.44s/it]"
     ]
    },
    {
     "name": "stdout",
     "output_type": "stream",
     "text": [
      "File 50 processed: Label 1 count = 217668, Label 0 count = 292281\n"
     ]
    },
    {
     "name": "stderr",
     "output_type": "stream",
     "text": [
      "\r",
      " 37%|███▋      | 52/141 [02:03<03:22,  2.28s/it]"
     ]
    },
    {
     "name": "stdout",
     "output_type": "stream",
     "text": [
      "File 51 processed: Label 1 count = 221416, Label 0 count = 298532\n"
     ]
    },
    {
     "name": "stderr",
     "output_type": "stream",
     "text": [
      "\r",
      " 38%|███▊      | 53/141 [02:05<03:12,  2.19s/it]"
     ]
    },
    {
     "name": "stdout",
     "output_type": "stream",
     "text": [
      "File 52 processed: Label 1 count = 224538, Label 0 count = 305409\n"
     ]
    },
    {
     "name": "stderr",
     "output_type": "stream",
     "text": [
      "\r",
      " 38%|███▊      | 54/141 [02:08<03:08,  2.17s/it]"
     ]
    },
    {
     "name": "stdout",
     "output_type": "stream",
     "text": [
      "File 53 processed: Label 1 count = 227999, Label 0 count = 311947\n"
     ]
    },
    {
     "name": "stderr",
     "output_type": "stream",
     "text": [
      "\r",
      " 39%|███▉      | 55/141 [02:10<03:20,  2.33s/it]"
     ]
    },
    {
     "name": "stdout",
     "output_type": "stream",
     "text": [
      "File 54 processed: Label 1 count = 230876, Label 0 count = 319069\n"
     ]
    },
    {
     "name": "stderr",
     "output_type": "stream",
     "text": [
      "\r",
      " 40%|███▉      | 56/141 [02:13<03:24,  2.41s/it]"
     ]
    },
    {
     "name": "stdout",
     "output_type": "stream",
     "text": [
      "File 55 processed: Label 1 count = 233238, Label 0 count = 326706\n"
     ]
    },
    {
     "name": "stderr",
     "output_type": "stream",
     "text": [
      "\r",
      " 40%|████      | 57/141 [02:15<03:24,  2.44s/it]"
     ]
    },
    {
     "name": "stdout",
     "output_type": "stream",
     "text": [
      "File 56 processed: Label 1 count = 235410, Label 0 count = 334533\n"
     ]
    },
    {
     "name": "stderr",
     "output_type": "stream",
     "text": [
      "\r",
      " 41%|████      | 58/141 [02:17<03:07,  2.26s/it]"
     ]
    },
    {
     "name": "stdout",
     "output_type": "stream",
     "text": [
      "File 57 processed: Label 1 count = 238812, Label 0 count = 341130\n"
     ]
    },
    {
     "name": "stderr",
     "output_type": "stream",
     "text": [
      "\r",
      " 42%|████▏     | 59/141 [02:19<02:55,  2.13s/it]"
     ]
    },
    {
     "name": "stdout",
     "output_type": "stream",
     "text": [
      "File 58 processed: Label 1 count = 243027, Label 0 count = 346914\n"
     ]
    },
    {
     "name": "stderr",
     "output_type": "stream",
     "text": [
      "\r",
      " 43%|████▎     | 60/141 [02:21<02:49,  2.09s/it]"
     ]
    },
    {
     "name": "stdout",
     "output_type": "stream",
     "text": [
      "File 59 processed: Label 1 count = 248047, Label 0 count = 351893\n"
     ]
    },
    {
     "name": "stderr",
     "output_type": "stream",
     "text": [
      "\r",
      " 43%|████▎     | 61/141 [02:24<02:56,  2.21s/it]"
     ]
    },
    {
     "name": "stdout",
     "output_type": "stream",
     "text": [
      "File 60 processed: Label 1 count = 252258, Label 0 count = 357681\n"
     ]
    },
    {
     "name": "stderr",
     "output_type": "stream",
     "text": [
      "\r",
      " 44%|████▍     | 62/141 [02:26<03:11,  2.42s/it]"
     ]
    },
    {
     "name": "stdout",
     "output_type": "stream",
     "text": [
      "File 61 processed: Label 1 count = 258364, Label 0 count = 361574\n"
     ]
    },
    {
     "name": "stderr",
     "output_type": "stream",
     "text": [
      "\r",
      " 45%|████▍     | 63/141 [02:29<03:08,  2.41s/it]"
     ]
    },
    {
     "name": "stdout",
     "output_type": "stream",
     "text": [
      "File 62 processed: Label 1 count = 263900, Label 0 count = 366037\n"
     ]
    },
    {
     "name": "stderr",
     "output_type": "stream",
     "text": [
      "\r",
      " 45%|████▌     | 64/141 [02:31<02:53,  2.25s/it]"
     ]
    },
    {
     "name": "stdout",
     "output_type": "stream",
     "text": [
      "File 63 processed: Label 1 count = 267814, Label 0 count = 372122\n"
     ]
    },
    {
     "name": "stderr",
     "output_type": "stream",
     "text": [
      "\r",
      " 46%|████▌     | 65/141 [02:33<02:54,  2.30s/it]"
     ]
    },
    {
     "name": "stdout",
     "output_type": "stream",
     "text": [
      "File 64 processed: Label 1 count = 271369, Label 0 count = 378566\n"
     ]
    },
    {
     "name": "stderr",
     "output_type": "stream",
     "text": [
      "\r",
      " 47%|████▋     | 66/141 [02:36<02:55,  2.34s/it]"
     ]
    },
    {
     "name": "stdout",
     "output_type": "stream",
     "text": [
      "File 65 processed: Label 1 count = 274395, Label 0 count = 385539\n"
     ]
    },
    {
     "name": "stderr",
     "output_type": "stream",
     "text": [
      "\r",
      " 48%|████▊     | 67/141 [02:38<03:04,  2.50s/it]"
     ]
    },
    {
     "name": "stdout",
     "output_type": "stream",
     "text": [
      "File 66 processed: Label 1 count = 277694, Label 0 count = 392239\n"
     ]
    },
    {
     "name": "stderr",
     "output_type": "stream",
     "text": [
      "\r",
      " 48%|████▊     | 68/141 [02:41<02:56,  2.42s/it]"
     ]
    },
    {
     "name": "stdout",
     "output_type": "stream",
     "text": [
      "File 67 processed: Label 1 count = 281743, Label 0 count = 398189\n"
     ]
    },
    {
     "name": "stderr",
     "output_type": "stream",
     "text": [
      "\r",
      " 49%|████▉     | 69/141 [02:43<02:52,  2.39s/it]"
     ]
    },
    {
     "name": "stdout",
     "output_type": "stream",
     "text": [
      "File 68 processed: Label 1 count = 286317, Label 0 count = 403614\n"
     ]
    },
    {
     "name": "stderr",
     "output_type": "stream",
     "text": [
      "\r",
      " 50%|████▉     | 70/141 [02:45<02:41,  2.28s/it]"
     ]
    },
    {
     "name": "stdout",
     "output_type": "stream",
     "text": [
      "File 69 processed: Label 1 count = 290734, Label 0 count = 409196\n"
     ]
    },
    {
     "name": "stderr",
     "output_type": "stream",
     "text": [
      "\r",
      " 50%|█████     | 71/141 [02:47<02:29,  2.14s/it]"
     ]
    },
    {
     "name": "stdout",
     "output_type": "stream",
     "text": [
      "File 70 processed: Label 1 count = 296197, Label 0 count = 413732\n"
     ]
    },
    {
     "name": "stderr",
     "output_type": "stream",
     "text": [
      "\r",
      " 51%|█████     | 72/141 [02:48<02:11,  1.90s/it]"
     ]
    },
    {
     "name": "stdout",
     "output_type": "stream",
     "text": [
      "File 71 processed: Label 1 count = 301471, Label 0 count = 418457\n"
     ]
    },
    {
     "name": "stderr",
     "output_type": "stream",
     "text": [
      "\r",
      " 52%|█████▏    | 73/141 [02:51<02:21,  2.07s/it]"
     ]
    },
    {
     "name": "stdout",
     "output_type": "stream",
     "text": [
      "File 72 processed: Label 1 count = 305413, Label 0 count = 424514\n"
     ]
    },
    {
     "name": "stderr",
     "output_type": "stream",
     "text": [
      "\r",
      " 52%|█████▏    | 74/141 [02:53<02:30,  2.24s/it]"
     ]
    },
    {
     "name": "stdout",
     "output_type": "stream",
     "text": [
      "File 73 processed: Label 1 count = 310692, Label 0 count = 429234\n"
     ]
    },
    {
     "name": "stderr",
     "output_type": "stream",
     "text": [
      "\r",
      " 53%|█████▎    | 75/141 [02:56<02:30,  2.29s/it]"
     ]
    },
    {
     "name": "stdout",
     "output_type": "stream",
     "text": [
      "File 74 processed: Label 1 count = 314781, Label 0 count = 435144\n"
     ]
    },
    {
     "name": "stderr",
     "output_type": "stream",
     "text": [
      "\r",
      " 54%|█████▍    | 76/141 [02:57<02:17,  2.11s/it]"
     ]
    },
    {
     "name": "stdout",
     "output_type": "stream",
     "text": [
      "File 75 processed: Label 1 count = 319463, Label 0 count = 440461\n"
     ]
    },
    {
     "name": "stderr",
     "output_type": "stream",
     "text": [
      "\r",
      " 55%|█████▍    | 77/141 [03:00<02:19,  2.18s/it]"
     ]
    },
    {
     "name": "stdout",
     "output_type": "stream",
     "text": [
      "File 76 processed: Label 1 count = 324388, Label 0 count = 445535\n"
     ]
    },
    {
     "name": "stderr",
     "output_type": "stream",
     "text": [
      "\r",
      " 55%|█████▌    | 78/141 [03:02<02:26,  2.33s/it]"
     ]
    },
    {
     "name": "stdout",
     "output_type": "stream",
     "text": [
      "File 77 processed: Label 1 count = 326782, Label 0 count = 453140\n"
     ]
    },
    {
     "name": "stderr",
     "output_type": "stream",
     "text": [
      "\r",
      " 56%|█████▌    | 79/141 [03:05<02:26,  2.36s/it]"
     ]
    },
    {
     "name": "stdout",
     "output_type": "stream",
     "text": [
      "File 78 processed: Label 1 count = 330143, Label 0 count = 459778\n"
     ]
    },
    {
     "name": "stderr",
     "output_type": "stream",
     "text": [
      "\r",
      " 57%|█████▋    | 80/141 [03:08<02:34,  2.53s/it]"
     ]
    },
    {
     "name": "stdout",
     "output_type": "stream",
     "text": [
      "File 79 processed: Label 1 count = 335601, Label 0 count = 464319\n"
     ]
    },
    {
     "name": "stderr",
     "output_type": "stream",
     "text": [
      "\r",
      " 57%|█████▋    | 81/141 [03:10<02:24,  2.41s/it]"
     ]
    },
    {
     "name": "stdout",
     "output_type": "stream",
     "text": [
      "File 80 processed: Label 1 count = 340692, Label 0 count = 469227\n"
     ]
    },
    {
     "name": "stderr",
     "output_type": "stream",
     "text": [
      "\r",
      " 58%|█████▊    | 82/141 [03:12<02:22,  2.42s/it]"
     ]
    },
    {
     "name": "stdout",
     "output_type": "stream",
     "text": [
      "File 81 processed: Label 1 count = 345248, Label 0 count = 474670\n"
     ]
    },
    {
     "name": "stderr",
     "output_type": "stream",
     "text": [
      "\r",
      " 59%|█████▉    | 83/141 [03:15<02:23,  2.47s/it]"
     ]
    },
    {
     "name": "stdout",
     "output_type": "stream",
     "text": [
      "File 82 processed: Label 1 count = 350572, Label 0 count = 479345\n"
     ]
    },
    {
     "name": "stderr",
     "output_type": "stream",
     "text": [
      "\r",
      " 60%|█████▉    | 84/141 [03:18<02:27,  2.60s/it]"
     ]
    },
    {
     "name": "stdout",
     "output_type": "stream",
     "text": [
      "File 83 processed: Label 1 count = 356077, Label 0 count = 483839\n"
     ]
    },
    {
     "name": "stderr",
     "output_type": "stream",
     "text": [
      "\r",
      " 60%|██████    | 85/141 [03:20<02:19,  2.48s/it]"
     ]
    },
    {
     "name": "stdout",
     "output_type": "stream",
     "text": [
      "File 84 processed: Label 1 count = 361054, Label 0 count = 488861\n"
     ]
    },
    {
     "name": "stderr",
     "output_type": "stream",
     "text": [
      "\r",
      " 61%|██████    | 86/141 [03:22<02:07,  2.31s/it]"
     ]
    },
    {
     "name": "stdout",
     "output_type": "stream",
     "text": [
      "File 85 processed: Label 1 count = 366532, Label 0 count = 493382\n"
     ]
    },
    {
     "name": "stderr",
     "output_type": "stream",
     "text": [
      "\r",
      " 62%|██████▏   | 87/141 [03:25<02:10,  2.42s/it]"
     ]
    },
    {
     "name": "stdout",
     "output_type": "stream",
     "text": [
      "File 86 processed: Label 1 count = 372228, Label 0 count = 497685\n"
     ]
    },
    {
     "name": "stderr",
     "output_type": "stream",
     "text": [
      "\r",
      " 62%|██████▏   | 88/141 [03:28<02:16,  2.58s/it]"
     ]
    },
    {
     "name": "stdout",
     "output_type": "stream",
     "text": [
      "File 87 processed: Label 1 count = 375879, Label 0 count = 504033\n"
     ]
    },
    {
     "name": "stderr",
     "output_type": "stream",
     "text": [
      "\r",
      " 63%|██████▎   | 89/141 [03:30<02:13,  2.57s/it]"
     ]
    },
    {
     "name": "stdout",
     "output_type": "stream",
     "text": [
      "File 88 processed: Label 1 count = 380568, Label 0 count = 509343\n"
     ]
    },
    {
     "name": "stderr",
     "output_type": "stream",
     "text": [
      "\r",
      " 64%|██████▍   | 90/141 [03:33<02:16,  2.67s/it]"
     ]
    },
    {
     "name": "stdout",
     "output_type": "stream",
     "text": [
      "File 89 processed: Label 1 count = 385164, Label 0 count = 514746\n"
     ]
    },
    {
     "name": "stderr",
     "output_type": "stream",
     "text": [
      "\r",
      " 65%|██████▍   | 91/141 [03:35<02:10,  2.61s/it]"
     ]
    },
    {
     "name": "stdout",
     "output_type": "stream",
     "text": [
      "File 90 processed: Label 1 count = 389848, Label 0 count = 520061\n"
     ]
    },
    {
     "name": "stderr",
     "output_type": "stream",
     "text": [
      "\r",
      " 65%|██████▌   | 92/141 [03:38<02:00,  2.45s/it]"
     ]
    },
    {
     "name": "stdout",
     "output_type": "stream",
     "text": [
      "File 91 processed: Label 1 count = 393170, Label 0 count = 526738\n"
     ]
    },
    {
     "name": "stderr",
     "output_type": "stream",
     "text": [
      "\r",
      " 66%|██████▌   | 93/141 [03:40<01:58,  2.47s/it]"
     ]
    },
    {
     "name": "stdout",
     "output_type": "stream",
     "text": [
      "File 92 processed: Label 1 count = 397262, Label 0 count = 532645\n"
     ]
    },
    {
     "name": "stderr",
     "output_type": "stream",
     "text": [
      "\r",
      " 67%|██████▋   | 94/141 [03:42<01:53,  2.41s/it]"
     ]
    },
    {
     "name": "stdout",
     "output_type": "stream",
     "text": [
      "File 93 processed: Label 1 count = 401628, Label 0 count = 538278\n"
     ]
    },
    {
     "name": "stderr",
     "output_type": "stream",
     "text": [
      "\r",
      " 67%|██████▋   | 95/141 [03:45<01:48,  2.36s/it]"
     ]
    },
    {
     "name": "stdout",
     "output_type": "stream",
     "text": [
      "File 94 processed: Label 1 count = 405398, Label 0 count = 544507\n"
     ]
    },
    {
     "name": "stderr",
     "output_type": "stream",
     "text": [
      "\r",
      " 68%|██████▊   | 96/141 [03:47<01:51,  2.48s/it]"
     ]
    },
    {
     "name": "stdout",
     "output_type": "stream",
     "text": [
      "File 95 processed: Label 1 count = 409679, Label 0 count = 550225\n"
     ]
    },
    {
     "name": "stderr",
     "output_type": "stream",
     "text": [
      "\r",
      " 69%|██████▉   | 97/141 [03:50<01:46,  2.42s/it]"
     ]
    },
    {
     "name": "stdout",
     "output_type": "stream",
     "text": [
      "File 96 processed: Label 1 count = 414285, Label 0 count = 555618\n"
     ]
    },
    {
     "name": "stderr",
     "output_type": "stream",
     "text": [
      "\r",
      " 70%|██████▉   | 98/141 [03:52<01:41,  2.36s/it]"
     ]
    },
    {
     "name": "stdout",
     "output_type": "stream",
     "text": [
      "File 97 processed: Label 1 count = 418761, Label 0 count = 561141\n"
     ]
    },
    {
     "name": "stderr",
     "output_type": "stream",
     "text": [
      "\r",
      " 70%|███████   | 99/141 [03:54<01:34,  2.25s/it]"
     ]
    },
    {
     "name": "stdout",
     "output_type": "stream",
     "text": [
      "File 98 processed: Label 1 count = 423444, Label 0 count = 566457\n"
     ]
    },
    {
     "name": "stderr",
     "output_type": "stream",
     "text": [
      "\r",
      " 71%|███████   | 100/141 [03:56<01:28,  2.15s/it]"
     ]
    },
    {
     "name": "stdout",
     "output_type": "stream",
     "text": [
      "File 99 processed: Label 1 count = 428757, Label 0 count = 571143\n"
     ]
    },
    {
     "name": "stderr",
     "output_type": "stream",
     "text": [
      "\r",
      " 72%|███████▏  | 101/141 [03:57<01:20,  2.00s/it]"
     ]
    },
    {
     "name": "stdout",
     "output_type": "stream",
     "text": [
      "File 100 processed: Label 1 count = 433454, Label 0 count = 576445\n"
     ]
    },
    {
     "name": "stderr",
     "output_type": "stream",
     "text": [
      "\r",
      " 72%|███████▏  | 102/141 [04:00<01:25,  2.20s/it]"
     ]
    },
    {
     "name": "stdout",
     "output_type": "stream",
     "text": [
      "File 101 processed: Label 1 count = 439040, Label 0 count = 580858\n"
     ]
    },
    {
     "name": "stderr",
     "output_type": "stream",
     "text": [
      "\r",
      " 73%|███████▎  | 103/141 [04:03<01:30,  2.38s/it]"
     ]
    },
    {
     "name": "stdout",
     "output_type": "stream",
     "text": [
      "File 102 processed: Label 1 count = 443859, Label 0 count = 586038\n"
     ]
    },
    {
     "name": "stderr",
     "output_type": "stream",
     "text": [
      "\r",
      " 74%|███████▍  | 104/141 [04:06<01:31,  2.48s/it]"
     ]
    },
    {
     "name": "stdout",
     "output_type": "stream",
     "text": [
      "File 103 processed: Label 1 count = 448606, Label 0 count = 591290\n"
     ]
    },
    {
     "name": "stderr",
     "output_type": "stream",
     "text": [
      "\r",
      " 74%|███████▍  | 105/141 [04:08<01:26,  2.40s/it]"
     ]
    },
    {
     "name": "stdout",
     "output_type": "stream",
     "text": [
      "File 104 processed: Label 1 count = 453770, Label 0 count = 596125\n"
     ]
    },
    {
     "name": "stderr",
     "output_type": "stream",
     "text": [
      "\r",
      " 75%|███████▌  | 106/141 [04:10<01:22,  2.35s/it]"
     ]
    },
    {
     "name": "stdout",
     "output_type": "stream",
     "text": [
      "File 105 processed: Label 1 count = 459078, Label 0 count = 600816\n"
     ]
    },
    {
     "name": "stderr",
     "output_type": "stream",
     "text": [
      "\r",
      " 76%|███████▌  | 107/141 [04:12<01:14,  2.18s/it]"
     ]
    },
    {
     "name": "stdout",
     "output_type": "stream",
     "text": [
      "File 106 processed: Label 1 count = 462496, Label 0 count = 607397\n"
     ]
    },
    {
     "name": "stderr",
     "output_type": "stream",
     "text": [
      "\r",
      " 77%|███████▋  | 108/141 [04:15<01:18,  2.39s/it]"
     ]
    },
    {
     "name": "stdout",
     "output_type": "stream",
     "text": [
      "File 107 processed: Label 1 count = 465251, Label 0 count = 614641\n"
     ]
    },
    {
     "name": "stderr",
     "output_type": "stream",
     "text": [
      "\r",
      " 77%|███████▋  | 109/141 [04:17<01:18,  2.47s/it]"
     ]
    },
    {
     "name": "stdout",
     "output_type": "stream",
     "text": [
      "File 108 processed: Label 1 count = 469340, Label 0 count = 620551\n"
     ]
    },
    {
     "name": "stderr",
     "output_type": "stream",
     "text": [
      "\r",
      " 78%|███████▊  | 110/141 [04:19<01:12,  2.33s/it]"
     ]
    },
    {
     "name": "stdout",
     "output_type": "stream",
     "text": [
      "File 109 processed: Label 1 count = 475009, Label 0 count = 624881\n"
     ]
    },
    {
     "name": "stderr",
     "output_type": "stream",
     "text": [
      "\r",
      " 79%|███████▊  | 111/141 [04:22<01:08,  2.28s/it]"
     ]
    },
    {
     "name": "stdout",
     "output_type": "stream",
     "text": [
      "File 110 processed: Label 1 count = 479202, Label 0 count = 630687\n"
     ]
    },
    {
     "name": "stderr",
     "output_type": "stream",
     "text": [
      "\r",
      " 79%|███████▉  | 112/141 [04:24<01:08,  2.36s/it]"
     ]
    },
    {
     "name": "stdout",
     "output_type": "stream",
     "text": [
      "File 111 processed: Label 1 count = 483558, Label 0 count = 636330\n"
     ]
    },
    {
     "name": "stderr",
     "output_type": "stream",
     "text": [
      "\r",
      " 80%|████████  | 113/141 [04:27<01:08,  2.45s/it]"
     ]
    },
    {
     "name": "stdout",
     "output_type": "stream",
     "text": [
      "File 112 processed: Label 1 count = 487798, Label 0 count = 642089\n"
     ]
    },
    {
     "name": "stderr",
     "output_type": "stream",
     "text": [
      "\r",
      " 81%|████████  | 114/141 [04:29<01:04,  2.39s/it]"
     ]
    },
    {
     "name": "stdout",
     "output_type": "stream",
     "text": [
      "File 113 processed: Label 1 count = 492218, Label 0 count = 647668\n"
     ]
    },
    {
     "name": "stderr",
     "output_type": "stream",
     "text": [
      "\r",
      " 82%|████████▏ | 115/141 [04:31<01:02,  2.39s/it]"
     ]
    },
    {
     "name": "stdout",
     "output_type": "stream",
     "text": [
      "File 114 processed: Label 1 count = 497367, Label 0 count = 652518\n"
     ]
    },
    {
     "name": "stderr",
     "output_type": "stream",
     "text": [
      "\r",
      " 82%|████████▏ | 116/141 [04:34<01:03,  2.56s/it]"
     ]
    },
    {
     "name": "stdout",
     "output_type": "stream",
     "text": [
      "File 115 processed: Label 1 count = 502367, Label 0 count = 657517\n"
     ]
    },
    {
     "name": "stderr",
     "output_type": "stream",
     "text": [
      "\r",
      " 83%|████████▎ | 117/141 [04:36<00:57,  2.40s/it]"
     ]
    },
    {
     "name": "stdout",
     "output_type": "stream",
     "text": [
      "File 116 processed: Label 1 count = 507197, Label 0 count = 662686\n"
     ]
    },
    {
     "name": "stderr",
     "output_type": "stream",
     "text": [
      "\r",
      " 84%|████████▎ | 118/141 [04:39<00:59,  2.61s/it]"
     ]
    },
    {
     "name": "stdout",
     "output_type": "stream",
     "text": [
      "File 117 processed: Label 1 count = 511870, Label 0 count = 668012\n"
     ]
    },
    {
     "name": "stderr",
     "output_type": "stream",
     "text": [
      "\r",
      " 84%|████████▍ | 119/141 [04:42<00:55,  2.53s/it]"
     ]
    },
    {
     "name": "stdout",
     "output_type": "stream",
     "text": [
      "File 118 processed: Label 1 count = 516259, Label 0 count = 673622\n"
     ]
    },
    {
     "name": "stderr",
     "output_type": "stream",
     "text": [
      "\r",
      " 85%|████████▌ | 120/141 [04:45<00:57,  2.73s/it]"
     ]
    },
    {
     "name": "stdout",
     "output_type": "stream",
     "text": [
      "File 119 processed: Label 1 count = 520860, Label 0 count = 679020\n"
     ]
    },
    {
     "name": "stderr",
     "output_type": "stream",
     "text": [
      "\r",
      " 86%|████████▌ | 121/141 [04:48<00:54,  2.74s/it]"
     ]
    },
    {
     "name": "stdout",
     "output_type": "stream",
     "text": [
      "File 120 processed: Label 1 count = 524406, Label 0 count = 685473\n"
     ]
    },
    {
     "name": "stderr",
     "output_type": "stream",
     "text": [
      "\r",
      " 87%|████████▋ | 122/141 [04:50<00:47,  2.50s/it]"
     ]
    },
    {
     "name": "stdout",
     "output_type": "stream",
     "text": [
      "File 121 processed: Label 1 count = 528347, Label 0 count = 691531\n"
     ]
    },
    {
     "name": "stderr",
     "output_type": "stream",
     "text": [
      "\r",
      " 87%|████████▋ | 123/141 [04:51<00:39,  2.19s/it]"
     ]
    },
    {
     "name": "stdout",
     "output_type": "stream",
     "text": [
      "File 122 processed: Label 1 count = 533126, Label 0 count = 696751\n"
     ]
    },
    {
     "name": "stderr",
     "output_type": "stream",
     "text": [
      "\r",
      " 88%|████████▊ | 124/141 [04:53<00:34,  2.04s/it]"
     ]
    },
    {
     "name": "stdout",
     "output_type": "stream",
     "text": [
      "File 123 processed: Label 1 count = 538683, Label 0 count = 701193\n"
     ]
    },
    {
     "name": "stderr",
     "output_type": "stream",
     "text": [
      "\r",
      " 89%|████████▊ | 125/141 [04:56<00:35,  2.24s/it]"
     ]
    },
    {
     "name": "stdout",
     "output_type": "stream",
     "text": [
      "File 124 processed: Label 1 count = 542900, Label 0 count = 706975\n"
     ]
    },
    {
     "name": "stderr",
     "output_type": "stream",
     "text": [
      "\r",
      " 89%|████████▉ | 126/141 [04:58<00:33,  2.25s/it]"
     ]
    },
    {
     "name": "stdout",
     "output_type": "stream",
     "text": [
      "File 125 processed: Label 1 count = 546987, Label 0 count = 712887\n"
     ]
    },
    {
     "name": "stderr",
     "output_type": "stream",
     "text": [
      "\r",
      " 90%|█████████ | 127/141 [05:00<00:31,  2.21s/it]"
     ]
    },
    {
     "name": "stdout",
     "output_type": "stream",
     "text": [
      "File 126 processed: Label 1 count = 552110, Label 0 count = 717763\n"
     ]
    },
    {
     "name": "stderr",
     "output_type": "stream",
     "text": [
      "\r",
      " 91%|█████████ | 128/141 [05:03<00:31,  2.39s/it]"
     ]
    },
    {
     "name": "stdout",
     "output_type": "stream",
     "text": [
      "File 127 processed: Label 1 count = 556422, Label 0 count = 723450\n"
     ]
    },
    {
     "name": "stderr",
     "output_type": "stream",
     "text": [
      "\r",
      " 91%|█████████▏| 129/141 [05:06<00:32,  2.70s/it]"
     ]
    },
    {
     "name": "stdout",
     "output_type": "stream",
     "text": [
      "File 128 processed: Label 1 count = 560566, Label 0 count = 729305\n"
     ]
    },
    {
     "name": "stderr",
     "output_type": "stream",
     "text": [
      "\r",
      " 92%|█████████▏| 130/141 [05:09<00:29,  2.71s/it]"
     ]
    },
    {
     "name": "stdout",
     "output_type": "stream",
     "text": [
      "File 129 processed: Label 1 count = 564624, Label 0 count = 735246\n"
     ]
    },
    {
     "name": "stderr",
     "output_type": "stream",
     "text": [
      "\r",
      " 93%|█████████▎| 131/141 [05:11<00:26,  2.62s/it]"
     ]
    },
    {
     "name": "stdout",
     "output_type": "stream",
     "text": [
      "File 130 processed: Label 1 count = 567967, Label 0 count = 741902\n"
     ]
    },
    {
     "name": "stderr",
     "output_type": "stream",
     "text": [
      "\r",
      " 94%|█████████▎| 132/141 [05:14<00:23,  2.61s/it]"
     ]
    },
    {
     "name": "stdout",
     "output_type": "stream",
     "text": [
      "File 131 processed: Label 1 count = 572888, Label 0 count = 746980\n"
     ]
    },
    {
     "name": "stderr",
     "output_type": "stream",
     "text": [
      "\r",
      " 94%|█████████▍| 133/141 [05:16<00:19,  2.50s/it]"
     ]
    },
    {
     "name": "stdout",
     "output_type": "stream",
     "text": [
      "File 132 processed: Label 1 count = 579688, Label 0 count = 750179\n"
     ]
    },
    {
     "name": "stderr",
     "output_type": "stream",
     "text": [
      "\r",
      " 95%|█████████▌| 134/141 [05:18<00:15,  2.27s/it]"
     ]
    },
    {
     "name": "stdout",
     "output_type": "stream",
     "text": [
      "File 133 processed: Label 1 count = 584272, Label 0 count = 755594\n"
     ]
    },
    {
     "name": "stderr",
     "output_type": "stream",
     "text": [
      "\r",
      " 96%|█████████▌| 135/141 [05:20<00:14,  2.34s/it]"
     ]
    },
    {
     "name": "stdout",
     "output_type": "stream",
     "text": [
      "File 134 processed: Label 1 count = 588131, Label 0 count = 761734\n"
     ]
    },
    {
     "name": "stderr",
     "output_type": "stream",
     "text": [
      "\r",
      " 96%|█████████▋| 136/141 [05:22<00:11,  2.25s/it]"
     ]
    },
    {
     "name": "stdout",
     "output_type": "stream",
     "text": [
      "File 135 processed: Label 1 count = 591759, Label 0 count = 768105\n"
     ]
    },
    {
     "name": "stderr",
     "output_type": "stream",
     "text": [
      "\r",
      " 97%|█████████▋| 137/141 [05:24<00:08,  2.09s/it]"
     ]
    },
    {
     "name": "stdout",
     "output_type": "stream",
     "text": [
      "File 136 processed: Label 1 count = 594667, Label 0 count = 775196\n"
     ]
    },
    {
     "name": "stderr",
     "output_type": "stream",
     "text": [
      "\r",
      " 98%|█████████▊| 138/141 [05:26<00:05,  1.94s/it]"
     ]
    },
    {
     "name": "stdout",
     "output_type": "stream",
     "text": [
      "File 137 processed: Label 1 count = 597565, Label 0 count = 782297\n"
     ]
    },
    {
     "name": "stderr",
     "output_type": "stream",
     "text": [
      "100%|██████████| 141/141 [05:27<00:00,  2.32s/it]"
     ]
    },
    {
     "name": "stdout",
     "output_type": "stream",
     "text": [
      "File 138 processed: Label 1 count = 598805, Label 0 count = 784902\n",
      "Processing completed!\n",
      "Total Label 1 records: 598805\n",
      "Total Label 0 records: 784902\n"
     ]
    },
    {
     "name": "stderr",
     "output_type": "stream",
     "text": [
      "\n"
     ]
    }
   ],
   "source": [
    "import pandas as pd\n",
    "import os\n",
    "from tqdm import tqdm\n",
    "\n",
    "# Define File Paths and Initial Variables\n",
    "base_path = '/content/drive/MyDrive/Kwargs/020. 전처리/A0-60_batch_predicted'\n",
    "output_label1 = '/content/drive/MyDrive/Kwargs/020. 전처리/A0-60_combined_label1.csv'\n",
    "output_label0 = '/content/drive/MyDrive/Kwargs/020. 전처리/A0-60_combined_label0.csv'\n",
    "\n",
    "#Initialize Counters\n",
    "label1_count = 0\n",
    "label0_count = 0\n",
    "\n",
    "# Create Output Files initialy with Empty DataFrames\n",
    "pd.DataFrame(columns=['data', 'label']).to_csv(output_label1, index=False)\n",
    "pd.DataFrame(columns=['data', 'label']).to_csv(output_label0, index=False)\n",
    "\n",
    "# Loop Through Files with Special Pattern\n",
    "for n in tqdm(range(141)):  # 0 to 140\n",
    "    file_path = f'{base_path}/A0-60_batch_predicted_{n}.csv'\n",
    "    if not os.path.exists(file_path):\n",
    "        continue\n",
    "\n",
    "#Load the Current Batch of Data\n",
    "    try:\n",
    "        batch_data = pd.read_csv(file_path)\n",
    "    except Exception as e:\n",
    "        print(f\"Error loading file {file_path}: {e}\")\n",
    "        continue\n",
    "\n",
    "#Split Data Based on Labels\n",
    "    label1_data = batch_data[batch_data['predictions'] == 1]\n",
    "    label0_data = batch_data[batch_data['predictions'] == 0]\n",
    "\n",
    "# Count and Accumulate\n",
    "    label1_count += len(label1_data)\n",
    "    label0_count += len(label0_data)\n",
    "\n",
    "#Append the Current Label1 and Label0 Data to Respective Output Files\n",
    "    label1_data.to_csv(output_label1, mode='a', index=False, header=False)\n",
    "    label0_data.to_csv(output_label0, mode='a', index=False, header=False)\n",
    "\n",
    "# Display Current Progress\n",
    "    print(f\"File {n} processed: Label 1 count = {label1_count}, Label 0 count = {label0_count}\")\n",
    "\n",
    "print(\"Processing completed!\")\n",
    "print(f\"Total Label 1 records: {label1_count}\")\n",
    "print(f\"Total Label 0 records: {label0_count}\")\n"
   ]
  },
  {
   "cell_type": "code",
   "execution_count": 13,
   "metadata": {
    "colab": {
     "base_uri": "https://localhost:8080/",
     "height": 1000
    },
    "executionInfo": {
     "elapsed": 360,
     "status": "ok",
     "timestamp": 1730233245515,
     "user": {
      "displayName": "백현지",
      "userId": "02510457579208942463"
     },
     "user_tz": -540
    },
    "id": "OvCAofsu5Ehq",
    "outputId": "982b1fc3-e5b1-4d38-988f-5a265c039bae"
   },
   "outputs": [
    {
     "data": {
      "application/vnd.google.colaboratory.intrinsic+json": {
       "repr_error": "0",
       "type": "dataframe"
      },
      "text/html": [
       "\n",
       "  <div id=\"df-5e111d57-d52d-4cf2-9794-9b6f7691bc17\" class=\"colab-df-container\">\n",
       "    <div>\n",
       "<style scoped>\n",
       "    .dataframe tbody tr th:only-of-type {\n",
       "        vertical-align: middle;\n",
       "    }\n",
       "\n",
       "    .dataframe tbody tr th {\n",
       "        vertical-align: top;\n",
       "    }\n",
       "\n",
       "    .dataframe thead th {\n",
       "        text-align: right;\n",
       "    }\n",
       "</style>\n",
       "<table border=\"1\" class=\"dataframe\">\n",
       "  <thead>\n",
       "    <tr style=\"text-align: right;\">\n",
       "      <th></th>\n",
       "      <th>title</th>\n",
       "      <th>date</th>\n",
       "      <th>content</th>\n",
       "      <th>category</th>\n",
       "      <th>company</th>\n",
       "      <th>predictions</th>\n",
       "    </tr>\n",
       "  </thead>\n",
       "  <tbody>\n",
       "    <tr>\n",
       "      <th>3355</th>\n",
       "      <td>장바구니 물가 조금이라도 아끼려면…갑진년 새해 유통업계 할인행사 ‘찬스’</td>\n",
       "      <td>2023-12-31 16:00:01</td>\n",
       "      <td>올해 소비자 물가는 지난해보다 3.6% 오르면서 고물가 흐름을 이어갔다. 소비자 지...</td>\n",
       "      <td>경제</td>\n",
       "      <td>이마트</td>\n",
       "      <td>0</td>\n",
       "    </tr>\n",
       "    <tr>\n",
       "      <th>2014</th>\n",
       "      <td>이마트 찾은 추경호 부총리</td>\n",
       "      <td>2023-11-14 14:35:18</td>\n",
       "      <td>서울뉴시스 추경호 경제부총리 겸 기획재정부 장관이 14일 오후 서울 이마트 용산점에...</td>\n",
       "      <td>정치</td>\n",
       "      <td>이마트</td>\n",
       "      <td>0</td>\n",
       "    </tr>\n",
       "    <tr>\n",
       "      <th>1172</th>\n",
       "      <td>이마트, 2분기 실적 부진…4%대 급락</td>\n",
       "      <td>2023-08-16 10:07:24</td>\n",
       "      <td>이마트가 2분기 전망치를 하회하는 실적을 발표한 탓에 장 초반 4%대 약세를 보인다...</td>\n",
       "      <td>경제</td>\n",
       "      <td>이마트</td>\n",
       "      <td>0</td>\n",
       "    </tr>\n",
       "    <tr>\n",
       "      <th>2024</th>\n",
       "      <td>수능 끝난 뒤 편의점서 불티나게 팔린 상품은 ‘이것’</td>\n",
       "      <td>2023-11-17 15:24:02</td>\n",
       "      <td>2024 대학수학능력시험 이후 편의점에서 수험생들이 가장 많이 구매한 상품은 애플 ...</td>\n",
       "      <td>생활문화</td>\n",
       "      <td>이마트</td>\n",
       "      <td>0</td>\n",
       "    </tr>\n",
       "    <tr>\n",
       "      <th>3769</th>\n",
       "      <td>‘이러다 죄다 알뜰폰으로?’…월 3만원대 5G 요금제 나온다</td>\n",
       "      <td>2023-12-26 13:24:01</td>\n",
       "      <td>월 3만원대 5G 초특가 요금제가 곳곳에서 출시됩니다.26일 업계에 따르면, 이마트...</td>\n",
       "      <td>경제</td>\n",
       "      <td>이마트</td>\n",
       "      <td>0</td>\n",
       "    </tr>\n",
       "    <tr>\n",
       "      <th>2518</th>\n",
       "      <td>“김장철 왔다”…유통가, 가격 낮추고 본격 ‘김장대전’ 돌입</td>\n",
       "      <td>2023-11-21 16:26:03</td>\n",
       "      <td>이데일리 찬 바람이 부는 김장철에 본격 돌입하면서 유통가에서는 각종 기획전과 할인 ...</td>\n",
       "      <td>경제</td>\n",
       "      <td>이마트</td>\n",
       "      <td>0</td>\n",
       "    </tr>\n",
       "    <tr>\n",
       "      <th>1546</th>\n",
       "      <td>이마트, 2분기 적자 확대…“하반기 수익성 향상, 실적 개선 기대”</td>\n",
       "      <td>2023-08-14 15:04:01</td>\n",
       "      <td>2분기 영업손실 530억 원이마트가 소비 심리 위축과 물가 상승 등 영향으로 지난 ...</td>\n",
       "      <td>경제</td>\n",
       "      <td>이마트</td>\n",
       "      <td>0</td>\n",
       "    </tr>\n",
       "    <tr>\n",
       "      <th>3714</th>\n",
       "      <td>외식비 부담에… 대형마트, 즉석조리식품 매출 순위 급상승</td>\n",
       "      <td>2023-12-08 08:44:04</td>\n",
       "      <td>지난 11월 서울 시내 이마트 밀키트 판매대에서 시민들이 제품을 살펴보고 있다. 이...</td>\n",
       "      <td>경제</td>\n",
       "      <td>이마트</td>\n",
       "      <td>0</td>\n",
       "    </tr>\n",
       "    <tr>\n",
       "      <th>2579</th>\n",
       "      <td>내년 소매유통시장 1.6% 성장…고물가·고금리 영향</td>\n",
       "      <td>2023-11-29 12:01:13</td>\n",
       "      <td>소매유통시장이 내년에는 1.6% 성장에 그칠 것으로 전망됐다. 고물가·고금리의 지속...</td>\n",
       "      <td>경제</td>\n",
       "      <td>이마트</td>\n",
       "      <td>0</td>\n",
       "    </tr>\n",
       "    <tr>\n",
       "      <th>360</th>\n",
       "      <td>'편의점에서 인쇄·인화까지'</td>\n",
       "      <td>2023-07-19 15:32:15</td>\n",
       "      <td>서울뉴시스 19일 오후 서울 강동구 이마트24 강동선사점에 '프린팅박스'가 설치돼 ...</td>\n",
       "      <td>경제</td>\n",
       "      <td>이마트</td>\n",
       "      <td>0</td>\n",
       "    </tr>\n",
       "    <tr>\n",
       "      <th>2485</th>\n",
       "      <td>이마트,  역대 최대 규모 '와인장터' 진행</td>\n",
       "      <td>2023-10-12 06:00:00</td>\n",
       "      <td>(서울뉴스1) 이마트(139480)는 18일까지 '와인장터'를 선보인다고 12일 밝...</td>\n",
       "      <td>경제</td>\n",
       "      <td>이마트</td>\n",
       "      <td>0</td>\n",
       "    </tr>\n",
       "    <tr>\n",
       "      <th>1047</th>\n",
       "      <td>이마트, 추석 맞이 주방·생활용품 '2+1' 행사</td>\n",
       "      <td>2023-08-30 06:00:05</td>\n",
       "      <td>(서울연합뉴스) 이마트는 추석을 앞두고 오는 31일부터 다음 달 13일까지 2주간 ...</td>\n",
       "      <td>생활문화</td>\n",
       "      <td>이마트</td>\n",
       "      <td>0</td>\n",
       "    </tr>\n",
       "    <tr>\n",
       "      <th>164</th>\n",
       "      <td>국평 분양가 4.5억 전주 한양수자인, 최고 162대1로 마감</td>\n",
       "      <td>2023-07-26 14:31:01</td>\n",
       "      <td>1순위 청약 평균경쟁률 에코시티 역대 최고인 85대 1로 전 타입 마감전용 84㎡A...</td>\n",
       "      <td>경제</td>\n",
       "      <td>이마트</td>\n",
       "      <td>0</td>\n",
       "    </tr>\n",
       "    <tr>\n",
       "      <th>2397</th>\n",
       "      <td>추위 시작하며 유통업계 겨울의류 판매 돌입</td>\n",
       "      <td>2023-11-08 15:20:07</td>\n",
       "      <td>서울뉴시스 추위가 본격적으로 시작되면서 겨울의류 판매가 증가하고 있다. 유통업계는 ...</td>\n",
       "      <td>경제</td>\n",
       "      <td>이마트</td>\n",
       "      <td>0</td>\n",
       "    </tr>\n",
       "    <tr>\n",
       "      <th>1361</th>\n",
       "      <td>이마트, 추석 선물세트 판매 돌입</td>\n",
       "      <td>2023-09-18 13:32:01</td>\n",
       "      <td>18일 오전 서울 용산구 이마트 용산점에서 모델들이 추석 선물세트를 선보이고 있다....</td>\n",
       "      <td>경제</td>\n",
       "      <td>이마트</td>\n",
       "      <td>0</td>\n",
       "    </tr>\n",
       "    <tr>\n",
       "      <th>1275</th>\n",
       "      <td>이마트 몽골점, 울란바토르에 4호점 개장</td>\n",
       "      <td>2023-09-07 10:29:04</td>\n",
       "      <td>이마트가 몽골 수도 울란바토르에 4년 만에 신규 매장 ‘몽골 이마트 4호점 바이얀골...</td>\n",
       "      <td>IT과학</td>\n",
       "      <td>이마트</td>\n",
       "      <td>0</td>\n",
       "    </tr>\n",
       "    <tr>\n",
       "      <th>1111</th>\n",
       "      <td>이마트, 명절 먹거리부터 후라이팬까지 할인 판매</td>\n",
       "      <td>2023-09-14 06:00:00</td>\n",
       "      <td>(서울뉴스1) 이마트가 추석을 앞두고 성묘객과 연휴 여행객 등 미리 차례상을 준비하...</td>\n",
       "      <td>경제</td>\n",
       "      <td>이마트</td>\n",
       "      <td>0</td>\n",
       "    </tr>\n",
       "    <tr>\n",
       "      <th>2408</th>\n",
       "      <td>편의점 이마트24, 갤럭시워치6·버즈FE 특가전</td>\n",
       "      <td>2023-11-24 08:33:53</td>\n",
       "      <td>(서울연합뉴스) 편의점 이마트24는 내달 15일까지 갤럭시워치6와 버즈FE 등 삼성...</td>\n",
       "      <td>경제</td>\n",
       "      <td>이마트</td>\n",
       "      <td>0</td>\n",
       "    </tr>\n",
       "    <tr>\n",
       "      <th>2242</th>\n",
       "      <td>이마트, 창립 30주년…한채양 대표 “일등 정신과 자부심 되살리자”</td>\n",
       "      <td>2023-11-09 14:27:01</td>\n",
       "      <td>헤럴드경제김벼리 기자 한채양 이마트 대표는 창립 30주년을 맞아 임직원에게 “대한민...</td>\n",
       "      <td>경제</td>\n",
       "      <td>이마트</td>\n",
       "      <td>0</td>\n",
       "    </tr>\n",
       "    <tr>\n",
       "      <th>2777</th>\n",
       "      <td>현대카드, ‘스마일카드 에디션3’ 출시…적립 혜택 강화</td>\n",
       "      <td>2023-12-01 16:17:01</td>\n",
       "      <td>이코노미스트 현대카드가 G마켓과 함께 운영 중인 ‘스마일카드 에디션(Edition)...</td>\n",
       "      <td>경제</td>\n",
       "      <td>이마트</td>\n",
       "      <td>0</td>\n",
       "    </tr>\n",
       "  </tbody>\n",
       "</table>\n",
       "</div>\n",
       "    <div class=\"colab-df-buttons\">\n",
       "\n",
       "  <div class=\"colab-df-container\">\n",
       "    <button class=\"colab-df-convert\" onclick=\"convertToInteractive('df-5e111d57-d52d-4cf2-9794-9b6f7691bc17')\"\n",
       "            title=\"Convert this dataframe to an interactive table.\"\n",
       "            style=\"display:none;\">\n",
       "\n",
       "  <svg xmlns=\"http://www.w3.org/2000/svg\" height=\"24px\" viewBox=\"0 -960 960 960\">\n",
       "    <path d=\"M120-120v-720h720v720H120Zm60-500h600v-160H180v160Zm220 220h160v-160H400v160Zm0 220h160v-160H400v160ZM180-400h160v-160H180v160Zm440 0h160v-160H620v160ZM180-180h160v-160H180v160Zm440 0h160v-160H620v160Z\"/>\n",
       "  </svg>\n",
       "    </button>\n",
       "\n",
       "  <style>\n",
       "    .colab-df-container {\n",
       "      display:flex;\n",
       "      gap: 12px;\n",
       "    }\n",
       "\n",
       "    .colab-df-convert {\n",
       "      background-color: #E8F0FE;\n",
       "      border: none;\n",
       "      border-radius: 50%;\n",
       "      cursor: pointer;\n",
       "      display: none;\n",
       "      fill: #1967D2;\n",
       "      height: 32px;\n",
       "      padding: 0 0 0 0;\n",
       "      width: 32px;\n",
       "    }\n",
       "\n",
       "    .colab-df-convert:hover {\n",
       "      background-color: #E2EBFA;\n",
       "      box-shadow: 0px 1px 2px rgba(60, 64, 67, 0.3), 0px 1px 3px 1px rgba(60, 64, 67, 0.15);\n",
       "      fill: #174EA6;\n",
       "    }\n",
       "\n",
       "    .colab-df-buttons div {\n",
       "      margin-bottom: 4px;\n",
       "    }\n",
       "\n",
       "    [theme=dark] .colab-df-convert {\n",
       "      background-color: #3B4455;\n",
       "      fill: #D2E3FC;\n",
       "    }\n",
       "\n",
       "    [theme=dark] .colab-df-convert:hover {\n",
       "      background-color: #434B5C;\n",
       "      box-shadow: 0px 1px 3px 1px rgba(0, 0, 0, 0.15);\n",
       "      filter: drop-shadow(0px 1px 2px rgba(0, 0, 0, 0.3));\n",
       "      fill: #FFFFFF;\n",
       "    }\n",
       "  </style>\n",
       "\n",
       "    <script>\n",
       "      const buttonEl =\n",
       "        document.querySelector('#df-5e111d57-d52d-4cf2-9794-9b6f7691bc17 button.colab-df-convert');\n",
       "      buttonEl.style.display =\n",
       "        google.colab.kernel.accessAllowed ? 'block' : 'none';\n",
       "\n",
       "      async function convertToInteractive(key) {\n",
       "        const element = document.querySelector('#df-5e111d57-d52d-4cf2-9794-9b6f7691bc17');\n",
       "        const dataTable =\n",
       "          await google.colab.kernel.invokeFunction('convertToInteractive',\n",
       "                                                    [key], {});\n",
       "        if (!dataTable) return;\n",
       "\n",
       "        const docLinkHtml = 'Like what you see? Visit the ' +\n",
       "          '<a target=\"_blank\" href=https://colab.research.google.com/notebooks/data_table.ipynb>data table notebook</a>'\n",
       "          + ' to learn more about interactive tables.';\n",
       "        element.innerHTML = '';\n",
       "        dataTable['output_type'] = 'display_data';\n",
       "        await google.colab.output.renderOutput(dataTable, element);\n",
       "        const docLink = document.createElement('div');\n",
       "        docLink.innerHTML = docLinkHtml;\n",
       "        element.appendChild(docLink);\n",
       "      }\n",
       "    </script>\n",
       "  </div>\n",
       "\n",
       "\n",
       "<div id=\"df-a32d3179-cedc-4b8d-9923-30da898ec03c\">\n",
       "  <button class=\"colab-df-quickchart\" onclick=\"quickchart('df-a32d3179-cedc-4b8d-9923-30da898ec03c')\"\n",
       "            title=\"Suggest charts\"\n",
       "            style=\"display:none;\">\n",
       "\n",
       "<svg xmlns=\"http://www.w3.org/2000/svg\" height=\"24px\"viewBox=\"0 0 24 24\"\n",
       "     width=\"24px\">\n",
       "    <g>\n",
       "        <path d=\"M19 3H5c-1.1 0-2 .9-2 2v14c0 1.1.9 2 2 2h14c1.1 0 2-.9 2-2V5c0-1.1-.9-2-2-2zM9 17H7v-7h2v7zm4 0h-2V7h2v10zm4 0h-2v-4h2v4z\"/>\n",
       "    </g>\n",
       "</svg>\n",
       "  </button>\n",
       "\n",
       "<style>\n",
       "  .colab-df-quickchart {\n",
       "      --bg-color: #E8F0FE;\n",
       "      --fill-color: #1967D2;\n",
       "      --hover-bg-color: #E2EBFA;\n",
       "      --hover-fill-color: #174EA6;\n",
       "      --disabled-fill-color: #AAA;\n",
       "      --disabled-bg-color: #DDD;\n",
       "  }\n",
       "\n",
       "  [theme=dark] .colab-df-quickchart {\n",
       "      --bg-color: #3B4455;\n",
       "      --fill-color: #D2E3FC;\n",
       "      --hover-bg-color: #434B5C;\n",
       "      --hover-fill-color: #FFFFFF;\n",
       "      --disabled-bg-color: #3B4455;\n",
       "      --disabled-fill-color: #666;\n",
       "  }\n",
       "\n",
       "  .colab-df-quickchart {\n",
       "    background-color: var(--bg-color);\n",
       "    border: none;\n",
       "    border-radius: 50%;\n",
       "    cursor: pointer;\n",
       "    display: none;\n",
       "    fill: var(--fill-color);\n",
       "    height: 32px;\n",
       "    padding: 0;\n",
       "    width: 32px;\n",
       "  }\n",
       "\n",
       "  .colab-df-quickchart:hover {\n",
       "    background-color: var(--hover-bg-color);\n",
       "    box-shadow: 0 1px 2px rgba(60, 64, 67, 0.3), 0 1px 3px 1px rgba(60, 64, 67, 0.15);\n",
       "    fill: var(--button-hover-fill-color);\n",
       "  }\n",
       "\n",
       "  .colab-df-quickchart-complete:disabled,\n",
       "  .colab-df-quickchart-complete:disabled:hover {\n",
       "    background-color: var(--disabled-bg-color);\n",
       "    fill: var(--disabled-fill-color);\n",
       "    box-shadow: none;\n",
       "  }\n",
       "\n",
       "  .colab-df-spinner {\n",
       "    border: 2px solid var(--fill-color);\n",
       "    border-color: transparent;\n",
       "    border-bottom-color: var(--fill-color);\n",
       "    animation:\n",
       "      spin 1s steps(1) infinite;\n",
       "  }\n",
       "\n",
       "  @keyframes spin {\n",
       "    0% {\n",
       "      border-color: transparent;\n",
       "      border-bottom-color: var(--fill-color);\n",
       "      border-left-color: var(--fill-color);\n",
       "    }\n",
       "    20% {\n",
       "      border-color: transparent;\n",
       "      border-left-color: var(--fill-color);\n",
       "      border-top-color: var(--fill-color);\n",
       "    }\n",
       "    30% {\n",
       "      border-color: transparent;\n",
       "      border-left-color: var(--fill-color);\n",
       "      border-top-color: var(--fill-color);\n",
       "      border-right-color: var(--fill-color);\n",
       "    }\n",
       "    40% {\n",
       "      border-color: transparent;\n",
       "      border-right-color: var(--fill-color);\n",
       "      border-top-color: var(--fill-color);\n",
       "    }\n",
       "    60% {\n",
       "      border-color: transparent;\n",
       "      border-right-color: var(--fill-color);\n",
       "    }\n",
       "    80% {\n",
       "      border-color: transparent;\n",
       "      border-right-color: var(--fill-color);\n",
       "      border-bottom-color: var(--fill-color);\n",
       "    }\n",
       "    90% {\n",
       "      border-color: transparent;\n",
       "      border-bottom-color: var(--fill-color);\n",
       "    }\n",
       "  }\n",
       "</style>\n",
       "\n",
       "  <script>\n",
       "    async function quickchart(key) {\n",
       "      const quickchartButtonEl =\n",
       "        document.querySelector('#' + key + ' button');\n",
       "      quickchartButtonEl.disabled = true;  // To prevent multiple clicks.\n",
       "      quickchartButtonEl.classList.add('colab-df-spinner');\n",
       "      try {\n",
       "        const charts = await google.colab.kernel.invokeFunction(\n",
       "            'suggestCharts', [key], {});\n",
       "      } catch (error) {\n",
       "        console.error('Error during call to suggestCharts:', error);\n",
       "      }\n",
       "      quickchartButtonEl.classList.remove('colab-df-spinner');\n",
       "      quickchartButtonEl.classList.add('colab-df-quickchart-complete');\n",
       "    }\n",
       "    (() => {\n",
       "      let quickchartButtonEl =\n",
       "        document.querySelector('#df-a32d3179-cedc-4b8d-9923-30da898ec03c button');\n",
       "      quickchartButtonEl.style.display =\n",
       "        google.colab.kernel.accessAllowed ? 'block' : 'none';\n",
       "    })();\n",
       "  </script>\n",
       "</div>\n",
       "\n",
       "    </div>\n",
       "  </div>\n"
      ],
      "text/plain": [
       "                                         title                 date  \\\n",
       "3355  장바구니 물가 조금이라도 아끼려면…갑진년 새해 유통업계 할인행사 ‘찬스’  2023-12-31 16:00:01   \n",
       "2014                            이마트 찾은 추경호 부총리  2023-11-14 14:35:18   \n",
       "1172                     이마트, 2분기 실적 부진…4%대 급락  2023-08-16 10:07:24   \n",
       "2024             수능 끝난 뒤 편의점서 불티나게 팔린 상품은 ‘이것’  2023-11-17 15:24:02   \n",
       "3769         ‘이러다 죄다 알뜰폰으로?’…월 3만원대 5G 요금제 나온다  2023-12-26 13:24:01   \n",
       "2518         “김장철 왔다”…유통가, 가격 낮추고 본격 ‘김장대전’ 돌입  2023-11-21 16:26:03   \n",
       "1546     이마트, 2분기 적자 확대…“하반기 수익성 향상, 실적 개선 기대”  2023-08-14 15:04:01   \n",
       "3714           외식비 부담에… 대형마트, 즉석조리식품 매출 순위 급상승  2023-12-08 08:44:04   \n",
       "2579              내년 소매유통시장 1.6% 성장…고물가·고금리 영향  2023-11-29 12:01:13   \n",
       "360                            '편의점에서 인쇄·인화까지'  2023-07-19 15:32:15   \n",
       "2485                  이마트,  역대 최대 규모 '와인장터' 진행  2023-10-12 06:00:00   \n",
       "1047               이마트, 추석 맞이 주방·생활용품 '2+1' 행사  2023-08-30 06:00:05   \n",
       "164         국평 분양가 4.5억 전주 한양수자인, 최고 162대1로 마감  2023-07-26 14:31:01   \n",
       "2397                   추위 시작하며 유통업계 겨울의류 판매 돌입  2023-11-08 15:20:07   \n",
       "1361                        이마트, 추석 선물세트 판매 돌입  2023-09-18 13:32:01   \n",
       "1275                    이마트 몽골점, 울란바토르에 4호점 개장  2023-09-07 10:29:04   \n",
       "1111                이마트, 명절 먹거리부터 후라이팬까지 할인 판매  2023-09-14 06:00:00   \n",
       "2408                편의점 이마트24, 갤럭시워치6·버즈FE 특가전  2023-11-24 08:33:53   \n",
       "2242     이마트, 창립 30주년…한채양 대표 “일등 정신과 자부심 되살리자”  2023-11-09 14:27:01   \n",
       "2777            현대카드, ‘스마일카드 에디션3’ 출시…적립 혜택 강화  2023-12-01 16:17:01   \n",
       "\n",
       "                                                content category company  \\\n",
       "3355  올해 소비자 물가는 지난해보다 3.6% 오르면서 고물가 흐름을 이어갔다. 소비자 지...       경제  이마트   \n",
       "2014  서울뉴시스 추경호 경제부총리 겸 기획재정부 장관이 14일 오후 서울 이마트 용산점에...       정치  이마트   \n",
       "1172  이마트가 2분기 전망치를 하회하는 실적을 발표한 탓에 장 초반 4%대 약세를 보인다...       경제  이마트   \n",
       "2024  2024 대학수학능력시험 이후 편의점에서 수험생들이 가장 많이 구매한 상품은 애플 ...     생활문화  이마트   \n",
       "3769  월 3만원대 5G 초특가 요금제가 곳곳에서 출시됩니다.26일 업계에 따르면, 이마트...       경제  이마트   \n",
       "2518  이데일리 찬 바람이 부는 김장철에 본격 돌입하면서 유통가에서는 각종 기획전과 할인 ...       경제  이마트   \n",
       "1546  2분기 영업손실 530억 원이마트가 소비 심리 위축과 물가 상승 등 영향으로 지난 ...       경제  이마트   \n",
       "3714  지난 11월 서울 시내 이마트 밀키트 판매대에서 시민들이 제품을 살펴보고 있다. 이...       경제  이마트   \n",
       "2579  소매유통시장이 내년에는 1.6% 성장에 그칠 것으로 전망됐다. 고물가·고금리의 지속...       경제  이마트   \n",
       "360   서울뉴시스 19일 오후 서울 강동구 이마트24 강동선사점에 '프린팅박스'가 설치돼 ...       경제  이마트   \n",
       "2485  (서울뉴스1) 이마트(139480)는 18일까지 '와인장터'를 선보인다고 12일 밝...       경제  이마트   \n",
       "1047  (서울연합뉴스) 이마트는 추석을 앞두고 오는 31일부터 다음 달 13일까지 2주간 ...     생활문화  이마트   \n",
       "164   1순위 청약 평균경쟁률 에코시티 역대 최고인 85대 1로 전 타입 마감전용 84㎡A...       경제  이마트   \n",
       "2397  서울뉴시스 추위가 본격적으로 시작되면서 겨울의류 판매가 증가하고 있다. 유통업계는 ...       경제  이마트   \n",
       "1361  18일 오전 서울 용산구 이마트 용산점에서 모델들이 추석 선물세트를 선보이고 있다....       경제  이마트   \n",
       "1275  이마트가 몽골 수도 울란바토르에 4년 만에 신규 매장 ‘몽골 이마트 4호점 바이얀골...     IT과학  이마트   \n",
       "1111  (서울뉴스1) 이마트가 추석을 앞두고 성묘객과 연휴 여행객 등 미리 차례상을 준비하...       경제  이마트   \n",
       "2408  (서울연합뉴스) 편의점 이마트24는 내달 15일까지 갤럭시워치6와 버즈FE 등 삼성...       경제  이마트   \n",
       "2242  헤럴드경제김벼리 기자 한채양 이마트 대표는 창립 30주년을 맞아 임직원에게 “대한민...       경제  이마트   \n",
       "2777  이코노미스트 현대카드가 G마켓과 함께 운영 중인 ‘스마일카드 에디션(Edition)...       경제  이마트   \n",
       "\n",
       "      predictions  \n",
       "3355            0  \n",
       "2014            0  \n",
       "1172            0  \n",
       "2024            0  \n",
       "3769            0  \n",
       "2518            0  \n",
       "1546            0  \n",
       "3714            0  \n",
       "2579            0  \n",
       "360             0  \n",
       "2485            0  \n",
       "1047            0  \n",
       "164             0  \n",
       "2397            0  \n",
       "1361            0  \n",
       "1275            0  \n",
       "1111            0  \n",
       "2408            0  \n",
       "2242            0  \n",
       "2777            0  "
      ]
     },
     "execution_count": 13,
     "metadata": {},
     "output_type": "execute_result"
    }
   ],
   "source": [
    "label0_data.sample(20)"
   ]
  },
  {
   "cell_type": "code",
   "execution_count": 14,
   "metadata": {
    "colab": {
     "base_uri": "https://localhost:8080/",
     "height": 1000
    },
    "executionInfo": {
     "elapsed": 5,
     "status": "ok",
     "timestamp": 1730233245912,
     "user": {
      "displayName": "백현지",
      "userId": "02510457579208942463"
     },
     "user_tz": -540
    },
    "id": "A98qAyMR7jyj",
    "outputId": "520a22e0-3afe-4072-fbde-62b83a677acc"
   },
   "outputs": [
    {
     "data": {
      "application/vnd.google.colaboratory.intrinsic+json": {
       "repr_error": "0",
       "type": "dataframe"
      },
      "text/html": [
       "\n",
       "  <div id=\"df-1a75ae71-2196-4351-9a19-df556306f8bd\" class=\"colab-df-container\">\n",
       "    <div>\n",
       "<style scoped>\n",
       "    .dataframe tbody tr th:only-of-type {\n",
       "        vertical-align: middle;\n",
       "    }\n",
       "\n",
       "    .dataframe tbody tr th {\n",
       "        vertical-align: top;\n",
       "    }\n",
       "\n",
       "    .dataframe thead th {\n",
       "        text-align: right;\n",
       "    }\n",
       "</style>\n",
       "<table border=\"1\" class=\"dataframe\">\n",
       "  <thead>\n",
       "    <tr style=\"text-align: right;\">\n",
       "      <th></th>\n",
       "      <th>title</th>\n",
       "      <th>date</th>\n",
       "      <th>content</th>\n",
       "      <th>category</th>\n",
       "      <th>company</th>\n",
       "      <th>predictions</th>\n",
       "    </tr>\n",
       "  </thead>\n",
       "  <tbody>\n",
       "    <tr>\n",
       "      <th>1612</th>\n",
       "      <td>이마트24, 업계 첫 캄보디아 진출…내년 상반기 1호점</td>\n",
       "      <td>2023-08-25 08:15:01</td>\n",
       "      <td>사진이마트24 제공편의점 이마트24가 싱가포르, 말레이시아에 이어 업계 처음으로 캄...</td>\n",
       "      <td>생활문화</td>\n",
       "      <td>이마트</td>\n",
       "      <td>1</td>\n",
       "    </tr>\n",
       "    <tr>\n",
       "      <th>527</th>\n",
       "      <td>모바일 영수증 발급 캠페인 6년…이마트, 종이영수증 2억8000만장 줄였다</td>\n",
       "      <td>2023-06-18 13:29:03</td>\n",
       "      <td>지난 2017년 종이 대신 모바일을 활용한 영수증 발급 캠페인을 시작한 이마트는 지...</td>\n",
       "      <td>경제</td>\n",
       "      <td>이마트</td>\n",
       "      <td>1</td>\n",
       "    </tr>\n",
       "    <tr>\n",
       "      <th>3328</th>\n",
       "      <td>경기 의왕 도깨비시장이 다시 살아난 비결은…</td>\n",
       "      <td>2023-12-29 10:41:01</td>\n",
       "      <td>특허청은 내년 소상공인 지식재산(IP) 권리화 사업 예산을 올해보다 25% 증가한 ...</td>\n",
       "      <td>경제</td>\n",
       "      <td>이마트</td>\n",
       "      <td>1</td>\n",
       "    </tr>\n",
       "    <tr>\n",
       "      <th>2594</th>\n",
       "      <td>“뉴욕 물가 미쳤다, 서울은 더 미쳤다”…장바구니 체감물가 3배</td>\n",
       "      <td>2023-11-20 18:44:01</td>\n",
       "      <td>서울 이마트·뉴욕 월마트서10대 필수 식료품 장봤더니서울 닭고기값 뉴욕의 2배 식빵...</td>\n",
       "      <td>경제</td>\n",
       "      <td>이마트</td>\n",
       "      <td>1</td>\n",
       "    </tr>\n",
       "    <tr>\n",
       "      <th>3469</th>\n",
       "      <td>서초구 대형마트 내년부터 '평일'에 쉰다…11년 만에 처음</td>\n",
       "      <td>2023-12-18 23:08:07</td>\n",
       "      <td>서울뉴시스 서울 서초구가 내년 1월 중 대형마트 의무 휴업일을 기존 일요일에서 평일...</td>\n",
       "      <td>사회</td>\n",
       "      <td>이마트</td>\n",
       "      <td>1</td>\n",
       "    </tr>\n",
       "    <tr>\n",
       "      <th>348</th>\n",
       "      <td>신선식품만이 살길… 대형마트는 변신 중</td>\n",
       "      <td>2023-07-27 17:35:01</td>\n",
       "      <td>새 이름 내걸고 매장 재단장매장에 스마트팜 설치한 이마트홈플러스 축·수산 전문관 선...</td>\n",
       "      <td>생활문화</td>\n",
       "      <td>이마트</td>\n",
       "      <td>1</td>\n",
       "    </tr>\n",
       "    <tr>\n",
       "      <th>2991</th>\n",
       "      <td>네이버 발달장애 사원, 로봇과 편의점서 협업</td>\n",
       "      <td>2023-12-18 10:17:01</td>\n",
       "      <td>발달장애를 가진 회사원과 로봇이 일상 공간에서 협업하는 사례가 등장했다.18일 연합...</td>\n",
       "      <td>IT과학</td>\n",
       "      <td>이마트</td>\n",
       "      <td>1</td>\n",
       "    </tr>\n",
       "    <tr>\n",
       "      <th>3616</th>\n",
       "      <td>새해부터 소주 가격 내리는데…주점·음식점도 가격 인하바람 불까?</td>\n",
       "      <td>2023-12-31 15:49:00</td>\n",
       "      <td>(서울뉴스1) 새해부터 소주에 '기준판매비율'이 도입되는데 맞춰 주류 업체들이 공장...</td>\n",
       "      <td>경제</td>\n",
       "      <td>이마트</td>\n",
       "      <td>1</td>\n",
       "    </tr>\n",
       "    <tr>\n",
       "      <th>551</th>\n",
       "      <td>SSG닷컴 신선보장 전국 확대 1년...10명 중 8명 재구매</td>\n",
       "      <td>2023-07-26 09:28:32</td>\n",
       "      <td>SSG닷컴은 신선식품 품질 보증 서비스 '신선보장제도'가 고객 만족도와 신뢰도를 높...</td>\n",
       "      <td>경제</td>\n",
       "      <td>이마트</td>\n",
       "      <td>1</td>\n",
       "    </tr>\n",
       "    <tr>\n",
       "      <th>3576</th>\n",
       "      <td>이번주 추천주] 내년 CES서 신기술 대방출…삼성SDS·현대오토에버 주목</td>\n",
       "      <td>2023-12-25 17:50:03</td>\n",
       "      <td>서울경제 세계 최대 가전·정보기술(IT) 박람회인 ‘CES 2024’의 개막이 2주...</td>\n",
       "      <td>경제</td>\n",
       "      <td>이마트</td>\n",
       "      <td>1</td>\n",
       "    </tr>\n",
       "    <tr>\n",
       "      <th>449</th>\n",
       "      <td>일산 거대 맛집·부산 식품 운동장...이마트·홈플러스의 색다른 먹거리 경쟁</td>\n",
       "      <td>2023-07-21 07:01:01</td>\n",
       "      <td>맛집을 들여오고 먹을거리를 강화하는 대형마트들의 변신이 이어지고 있다. 이제는 단순...</td>\n",
       "      <td>경제</td>\n",
       "      <td>이마트</td>\n",
       "      <td>1</td>\n",
       "    </tr>\n",
       "    <tr>\n",
       "      <th>944</th>\n",
       "      <td>‘先 요청 後 파견’인데… 공정위, 절차 어긴 이마트 시정명령</td>\n",
       "      <td>2023-08-30 17:29:01</td>\n",
       "      <td>‘자발적 파견 요청’ 서면 없이 납품업체에서 직원 파견 받아납품 업체 직원들을 파견...</td>\n",
       "      <td>경제</td>\n",
       "      <td>이마트</td>\n",
       "      <td>1</td>\n",
       "    </tr>\n",
       "    <tr>\n",
       "      <th>3719</th>\n",
       "      <td>토스뱅크, 모임통장에 자동납부·이체 기능 추가</td>\n",
       "      <td>2023-12-18 09:33:01</td>\n",
       "      <td>토스뱅크는 모임통장에 자동납부 및 자동이체 기능을 추가했다고 18일 밝혔다.토스뱅크...</td>\n",
       "      <td>경제</td>\n",
       "      <td>이마트</td>\n",
       "      <td>1</td>\n",
       "    </tr>\n",
       "    <tr>\n",
       "      <th>3583</th>\n",
       "      <td>여기저기 헤매지 마세요…'시성비' 챙겨주는 특화 매장</td>\n",
       "      <td>2023-12-12 14:00:51</td>\n",
       "      <td>최근 유통업계가 가격·상품뿐 아니라 매장 공간 차별화에도 치열한 경쟁을 펼치고 있다...</td>\n",
       "      <td>경제</td>\n",
       "      <td>이마트</td>\n",
       "      <td>1</td>\n",
       "    </tr>\n",
       "    <tr>\n",
       "      <th>364</th>\n",
       "      <td>날로 중요해지는 ESG...온오프 유통 공룡들 '관리 매뉴얼' 개발에 힘 합친다</td>\n",
       "      <td>2023-07-10 15:01:02</td>\n",
       "      <td>파이낸셜뉴스 대한상공회의소는 10일 오후 상의회관에서 11개 주요 온·오프라인 유통...</td>\n",
       "      <td>경제</td>\n",
       "      <td>이마트</td>\n",
       "      <td>1</td>\n",
       "    </tr>\n",
       "    <tr>\n",
       "      <th>1166</th>\n",
       "      <td>전국이마트노조, 조합원과 회사 '윈윈' 장보기 캠페인 진행</td>\n",
       "      <td>2023-09-19 13:00:04</td>\n",
       "      <td>이마트 대표교섭노조 전국이마트노동조합은 조합원의 추석 살림에 보탬이 되고자 전조합원...</td>\n",
       "      <td>경제</td>\n",
       "      <td>이마트</td>\n",
       "      <td>1</td>\n",
       "    </tr>\n",
       "    <tr>\n",
       "      <th>1748</th>\n",
       "      <td>마트 찾은 추경호 “수입과일·식품원료 관세인하…물가안정 조짐”</td>\n",
       "      <td>2023-11-14 16:09:28</td>\n",
       "      <td>추경호 부총리 겸 기획재정부 장관이 먹거리 가격 안정을 위해 바나나, 대파 등 10...</td>\n",
       "      <td>경제</td>\n",
       "      <td>이마트</td>\n",
       "      <td>1</td>\n",
       "    </tr>\n",
       "    <tr>\n",
       "      <th>791</th>\n",
       "      <td>락토핏, 유산균 신제품 ‘락토핏 로얄’ 26일 론칭…이마트 트레이더스서 단독 출시</td>\n",
       "      <td>2023-06-25 09:01:09</td>\n",
       "      <td>종근당건강 락토핏이 이마트 트레이더스를 통해 6월 26일부터 신제품 ‘락토핏 로얄’...</td>\n",
       "      <td>경제</td>\n",
       "      <td>이마트</td>\n",
       "      <td>1</td>\n",
       "    </tr>\n",
       "    <tr>\n",
       "      <th>3445</th>\n",
       "      <td>이제 평일에 쉽니다...대형마트에 부는 변화의 바람 [지금이뉴스</td>\n",
       "      <td>2023-12-19 09:16:03</td>\n",
       "      <td>서울 서초구가 이르면 내년 1월 중으로 대형 마트의 의무 휴업일을 일요일에서 평일로...</td>\n",
       "      <td>사회</td>\n",
       "      <td>이마트</td>\n",
       "      <td>1</td>\n",
       "    </tr>\n",
       "    <tr>\n",
       "      <th>3287</th>\n",
       "      <td>하림펫푸드, 이마트 몰리스와 강아지 사료 2.3톤 기부</td>\n",
       "      <td>2023-12-27 14:40:01</td>\n",
       "      <td>하림펫푸드는 연말연시를 맞아 유기동물을 위해 강아지 사료 2.3톤을 기부했다고 27...</td>\n",
       "      <td>경제</td>\n",
       "      <td>이마트</td>\n",
       "      <td>1</td>\n",
       "    </tr>\n",
       "  </tbody>\n",
       "</table>\n",
       "</div>\n",
       "    <div class=\"colab-df-buttons\">\n",
       "\n",
       "  <div class=\"colab-df-container\">\n",
       "    <button class=\"colab-df-convert\" onclick=\"convertToInteractive('df-1a75ae71-2196-4351-9a19-df556306f8bd')\"\n",
       "            title=\"Convert this dataframe to an interactive table.\"\n",
       "            style=\"display:none;\">\n",
       "\n",
       "  <svg xmlns=\"http://www.w3.org/2000/svg\" height=\"24px\" viewBox=\"0 -960 960 960\">\n",
       "    <path d=\"M120-120v-720h720v720H120Zm60-500h600v-160H180v160Zm220 220h160v-160H400v160Zm0 220h160v-160H400v160ZM180-400h160v-160H180v160Zm440 0h160v-160H620v160ZM180-180h160v-160H180v160Zm440 0h160v-160H620v160Z\"/>\n",
       "  </svg>\n",
       "    </button>\n",
       "\n",
       "  <style>\n",
       "    .colab-df-container {\n",
       "      display:flex;\n",
       "      gap: 12px;\n",
       "    }\n",
       "\n",
       "    .colab-df-convert {\n",
       "      background-color: #E8F0FE;\n",
       "      border: none;\n",
       "      border-radius: 50%;\n",
       "      cursor: pointer;\n",
       "      display: none;\n",
       "      fill: #1967D2;\n",
       "      height: 32px;\n",
       "      padding: 0 0 0 0;\n",
       "      width: 32px;\n",
       "    }\n",
       "\n",
       "    .colab-df-convert:hover {\n",
       "      background-color: #E2EBFA;\n",
       "      box-shadow: 0px 1px 2px rgba(60, 64, 67, 0.3), 0px 1px 3px 1px rgba(60, 64, 67, 0.15);\n",
       "      fill: #174EA6;\n",
       "    }\n",
       "\n",
       "    .colab-df-buttons div {\n",
       "      margin-bottom: 4px;\n",
       "    }\n",
       "\n",
       "    [theme=dark] .colab-df-convert {\n",
       "      background-color: #3B4455;\n",
       "      fill: #D2E3FC;\n",
       "    }\n",
       "\n",
       "    [theme=dark] .colab-df-convert:hover {\n",
       "      background-color: #434B5C;\n",
       "      box-shadow: 0px 1px 3px 1px rgba(0, 0, 0, 0.15);\n",
       "      filter: drop-shadow(0px 1px 2px rgba(0, 0, 0, 0.3));\n",
       "      fill: #FFFFFF;\n",
       "    }\n",
       "  </style>\n",
       "\n",
       "    <script>\n",
       "      const buttonEl =\n",
       "        document.querySelector('#df-1a75ae71-2196-4351-9a19-df556306f8bd button.colab-df-convert');\n",
       "      buttonEl.style.display =\n",
       "        google.colab.kernel.accessAllowed ? 'block' : 'none';\n",
       "\n",
       "      async function convertToInteractive(key) {\n",
       "        const element = document.querySelector('#df-1a75ae71-2196-4351-9a19-df556306f8bd');\n",
       "        const dataTable =\n",
       "          await google.colab.kernel.invokeFunction('convertToInteractive',\n",
       "                                                    [key], {});\n",
       "        if (!dataTable) return;\n",
       "\n",
       "        const docLinkHtml = 'Like what you see? Visit the ' +\n",
       "          '<a target=\"_blank\" href=https://colab.research.google.com/notebooks/data_table.ipynb>data table notebook</a>'\n",
       "          + ' to learn more about interactive tables.';\n",
       "        element.innerHTML = '';\n",
       "        dataTable['output_type'] = 'display_data';\n",
       "        await google.colab.output.renderOutput(dataTable, element);\n",
       "        const docLink = document.createElement('div');\n",
       "        docLink.innerHTML = docLinkHtml;\n",
       "        element.appendChild(docLink);\n",
       "      }\n",
       "    </script>\n",
       "  </div>\n",
       "\n",
       "\n",
       "<div id=\"df-b27cd2cd-fb88-48c8-967f-d7e9745d8439\">\n",
       "  <button class=\"colab-df-quickchart\" onclick=\"quickchart('df-b27cd2cd-fb88-48c8-967f-d7e9745d8439')\"\n",
       "            title=\"Suggest charts\"\n",
       "            style=\"display:none;\">\n",
       "\n",
       "<svg xmlns=\"http://www.w3.org/2000/svg\" height=\"24px\"viewBox=\"0 0 24 24\"\n",
       "     width=\"24px\">\n",
       "    <g>\n",
       "        <path d=\"M19 3H5c-1.1 0-2 .9-2 2v14c0 1.1.9 2 2 2h14c1.1 0 2-.9 2-2V5c0-1.1-.9-2-2-2zM9 17H7v-7h2v7zm4 0h-2V7h2v10zm4 0h-2v-4h2v4z\"/>\n",
       "    </g>\n",
       "</svg>\n",
       "  </button>\n",
       "\n",
       "<style>\n",
       "  .colab-df-quickchart {\n",
       "      --bg-color: #E8F0FE;\n",
       "      --fill-color: #1967D2;\n",
       "      --hover-bg-color: #E2EBFA;\n",
       "      --hover-fill-color: #174EA6;\n",
       "      --disabled-fill-color: #AAA;\n",
       "      --disabled-bg-color: #DDD;\n",
       "  }\n",
       "\n",
       "  [theme=dark] .colab-df-quickchart {\n",
       "      --bg-color: #3B4455;\n",
       "      --fill-color: #D2E3FC;\n",
       "      --hover-bg-color: #434B5C;\n",
       "      --hover-fill-color: #FFFFFF;\n",
       "      --disabled-bg-color: #3B4455;\n",
       "      --disabled-fill-color: #666;\n",
       "  }\n",
       "\n",
       "  .colab-df-quickchart {\n",
       "    background-color: var(--bg-color);\n",
       "    border: none;\n",
       "    border-radius: 50%;\n",
       "    cursor: pointer;\n",
       "    display: none;\n",
       "    fill: var(--fill-color);\n",
       "    height: 32px;\n",
       "    padding: 0;\n",
       "    width: 32px;\n",
       "  }\n",
       "\n",
       "  .colab-df-quickchart:hover {\n",
       "    background-color: var(--hover-bg-color);\n",
       "    box-shadow: 0 1px 2px rgba(60, 64, 67, 0.3), 0 1px 3px 1px rgba(60, 64, 67, 0.15);\n",
       "    fill: var(--button-hover-fill-color);\n",
       "  }\n",
       "\n",
       "  .colab-df-quickchart-complete:disabled,\n",
       "  .colab-df-quickchart-complete:disabled:hover {\n",
       "    background-color: var(--disabled-bg-color);\n",
       "    fill: var(--disabled-fill-color);\n",
       "    box-shadow: none;\n",
       "  }\n",
       "\n",
       "  .colab-df-spinner {\n",
       "    border: 2px solid var(--fill-color);\n",
       "    border-color: transparent;\n",
       "    border-bottom-color: var(--fill-color);\n",
       "    animation:\n",
       "      spin 1s steps(1) infinite;\n",
       "  }\n",
       "\n",
       "  @keyframes spin {\n",
       "    0% {\n",
       "      border-color: transparent;\n",
       "      border-bottom-color: var(--fill-color);\n",
       "      border-left-color: var(--fill-color);\n",
       "    }\n",
       "    20% {\n",
       "      border-color: transparent;\n",
       "      border-left-color: var(--fill-color);\n",
       "      border-top-color: var(--fill-color);\n",
       "    }\n",
       "    30% {\n",
       "      border-color: transparent;\n",
       "      border-left-color: var(--fill-color);\n",
       "      border-top-color: var(--fill-color);\n",
       "      border-right-color: var(--fill-color);\n",
       "    }\n",
       "    40% {\n",
       "      border-color: transparent;\n",
       "      border-right-color: var(--fill-color);\n",
       "      border-top-color: var(--fill-color);\n",
       "    }\n",
       "    60% {\n",
       "      border-color: transparent;\n",
       "      border-right-color: var(--fill-color);\n",
       "    }\n",
       "    80% {\n",
       "      border-color: transparent;\n",
       "      border-right-color: var(--fill-color);\n",
       "      border-bottom-color: var(--fill-color);\n",
       "    }\n",
       "    90% {\n",
       "      border-color: transparent;\n",
       "      border-bottom-color: var(--fill-color);\n",
       "    }\n",
       "  }\n",
       "</style>\n",
       "\n",
       "  <script>\n",
       "    async function quickchart(key) {\n",
       "      const quickchartButtonEl =\n",
       "        document.querySelector('#' + key + ' button');\n",
       "      quickchartButtonEl.disabled = true;  // To prevent multiple clicks.\n",
       "      quickchartButtonEl.classList.add('colab-df-spinner');\n",
       "      try {\n",
       "        const charts = await google.colab.kernel.invokeFunction(\n",
       "            'suggestCharts', [key], {});\n",
       "      } catch (error) {\n",
       "        console.error('Error during call to suggestCharts:', error);\n",
       "      }\n",
       "      quickchartButtonEl.classList.remove('colab-df-spinner');\n",
       "      quickchartButtonEl.classList.add('colab-df-quickchart-complete');\n",
       "    }\n",
       "    (() => {\n",
       "      let quickchartButtonEl =\n",
       "        document.querySelector('#df-b27cd2cd-fb88-48c8-967f-d7e9745d8439 button');\n",
       "      quickchartButtonEl.style.display =\n",
       "        google.colab.kernel.accessAllowed ? 'block' : 'none';\n",
       "    })();\n",
       "  </script>\n",
       "</div>\n",
       "\n",
       "    </div>\n",
       "  </div>\n"
      ],
      "text/plain": [
       "                                              title                 date  \\\n",
       "1612                 이마트24, 업계 첫 캄보디아 진출…내년 상반기 1호점  2023-08-25 08:15:01   \n",
       "527       모바일 영수증 발급 캠페인 6년…이마트, 종이영수증 2억8000만장 줄였다  2023-06-18 13:29:03   \n",
       "3328                       경기 의왕 도깨비시장이 다시 살아난 비결은…  2023-12-29 10:41:01   \n",
       "2594            “뉴욕 물가 미쳤다, 서울은 더 미쳤다”…장바구니 체감물가 3배  2023-11-20 18:44:01   \n",
       "3469               서초구 대형마트 내년부터 '평일'에 쉰다…11년 만에 처음  2023-12-18 23:08:07   \n",
       "348                           신선식품만이 살길… 대형마트는 변신 중  2023-07-27 17:35:01   \n",
       "2991                       네이버 발달장애 사원, 로봇과 편의점서 협업  2023-12-18 10:17:01   \n",
       "3616            새해부터 소주 가격 내리는데…주점·음식점도 가격 인하바람 불까?  2023-12-31 15:49:00   \n",
       "551              SSG닷컴 신선보장 전국 확대 1년...10명 중 8명 재구매  2023-07-26 09:28:32   \n",
       "3576       이번주 추천주] 내년 CES서 신기술 대방출…삼성SDS·현대오토에버 주목  2023-12-25 17:50:03   \n",
       "449       일산 거대 맛집·부산 식품 운동장...이마트·홈플러스의 색다른 먹거리 경쟁  2023-07-21 07:01:01   \n",
       "944              ‘先 요청 後 파견’인데… 공정위, 절차 어긴 이마트 시정명령  2023-08-30 17:29:01   \n",
       "3719                      토스뱅크, 모임통장에 자동납부·이체 기능 추가  2023-12-18 09:33:01   \n",
       "3583                  여기저기 헤매지 마세요…'시성비' 챙겨주는 특화 매장  2023-12-12 14:00:51   \n",
       "364    날로 중요해지는 ESG...온오프 유통 공룡들 '관리 매뉴얼' 개발에 힘 합친다  2023-07-10 15:01:02   \n",
       "1166               전국이마트노조, 조합원과 회사 '윈윈' 장보기 캠페인 진행  2023-09-19 13:00:04   \n",
       "1748             마트 찾은 추경호 “수입과일·식품원료 관세인하…물가안정 조짐”  2023-11-14 16:09:28   \n",
       "791   락토핏, 유산균 신제품 ‘락토핏 로얄’ 26일 론칭…이마트 트레이더스서 단독 출시  2023-06-25 09:01:09   \n",
       "3445            이제 평일에 쉽니다...대형마트에 부는 변화의 바람 [지금이뉴스  2023-12-19 09:16:03   \n",
       "3287                 하림펫푸드, 이마트 몰리스와 강아지 사료 2.3톤 기부  2023-12-27 14:40:01   \n",
       "\n",
       "                                                content category company  \\\n",
       "1612  사진이마트24 제공편의점 이마트24가 싱가포르, 말레이시아에 이어 업계 처음으로 캄...     생활문화  이마트   \n",
       "527   지난 2017년 종이 대신 모바일을 활용한 영수증 발급 캠페인을 시작한 이마트는 지...       경제  이마트   \n",
       "3328  특허청은 내년 소상공인 지식재산(IP) 권리화 사업 예산을 올해보다 25% 증가한 ...       경제  이마트   \n",
       "2594  서울 이마트·뉴욕 월마트서10대 필수 식료품 장봤더니서울 닭고기값 뉴욕의 2배 식빵...       경제  이마트   \n",
       "3469  서울뉴시스 서울 서초구가 내년 1월 중 대형마트 의무 휴업일을 기존 일요일에서 평일...       사회  이마트   \n",
       "348   새 이름 내걸고 매장 재단장매장에 스마트팜 설치한 이마트홈플러스 축·수산 전문관 선...     생활문화  이마트   \n",
       "2991  발달장애를 가진 회사원과 로봇이 일상 공간에서 협업하는 사례가 등장했다.18일 연합...     IT과학  이마트   \n",
       "3616  (서울뉴스1) 새해부터 소주에 '기준판매비율'이 도입되는데 맞춰 주류 업체들이 공장...       경제  이마트   \n",
       "551   SSG닷컴은 신선식품 품질 보증 서비스 '신선보장제도'가 고객 만족도와 신뢰도를 높...       경제  이마트   \n",
       "3576  서울경제 세계 최대 가전·정보기술(IT) 박람회인 ‘CES 2024’의 개막이 2주...       경제  이마트   \n",
       "449   맛집을 들여오고 먹을거리를 강화하는 대형마트들의 변신이 이어지고 있다. 이제는 단순...       경제  이마트   \n",
       "944   ‘자발적 파견 요청’ 서면 없이 납품업체에서 직원 파견 받아납품 업체 직원들을 파견...       경제  이마트   \n",
       "3719  토스뱅크는 모임통장에 자동납부 및 자동이체 기능을 추가했다고 18일 밝혔다.토스뱅크...       경제  이마트   \n",
       "3583  최근 유통업계가 가격·상품뿐 아니라 매장 공간 차별화에도 치열한 경쟁을 펼치고 있다...       경제  이마트   \n",
       "364   파이낸셜뉴스 대한상공회의소는 10일 오후 상의회관에서 11개 주요 온·오프라인 유통...       경제  이마트   \n",
       "1166  이마트 대표교섭노조 전국이마트노동조합은 조합원의 추석 살림에 보탬이 되고자 전조합원...       경제  이마트   \n",
       "1748  추경호 부총리 겸 기획재정부 장관이 먹거리 가격 안정을 위해 바나나, 대파 등 10...       경제  이마트   \n",
       "791   종근당건강 락토핏이 이마트 트레이더스를 통해 6월 26일부터 신제품 ‘락토핏 로얄’...       경제  이마트   \n",
       "3445  서울 서초구가 이르면 내년 1월 중으로 대형 마트의 의무 휴업일을 일요일에서 평일로...       사회  이마트   \n",
       "3287  하림펫푸드는 연말연시를 맞아 유기동물을 위해 강아지 사료 2.3톤을 기부했다고 27...       경제  이마트   \n",
       "\n",
       "      predictions  \n",
       "1612            1  \n",
       "527             1  \n",
       "3328            1  \n",
       "2594            1  \n",
       "3469            1  \n",
       "348             1  \n",
       "2991            1  \n",
       "3616            1  \n",
       "551             1  \n",
       "3576            1  \n",
       "449             1  \n",
       "944             1  \n",
       "3719            1  \n",
       "3583            1  \n",
       "364             1  \n",
       "1166            1  \n",
       "1748            1  \n",
       "791             1  \n",
       "3445            1  \n",
       "3287            1  "
      ]
     },
     "execution_count": 14,
     "metadata": {},
     "output_type": "execute_result"
    }
   ],
   "source": [
    "label1_data.sample(20)"
   ]
  },
  {
   "cell_type": "code",
   "execution_count": null,
   "metadata": {
    "id": "dxbKgRc87ryw"
   },
   "outputs": [],
   "source": []
  }
 ],
 "metadata": {
  "colab": {
   "authorship_tag": "ABX9TyOg43JBDGhd8OsKml6/aFLD",
   "mount_file_id": "1hPhU9iQDX2ii6hlNbSX8-Lvj7maEHPal",
   "provenance": []
  },
  "kernelspec": {
   "display_name": "Python 3",
   "name": "python3"
  },
  "language_info": {
   "name": "python"
  }
 },
 "nbformat": 4,
 "nbformat_minor": 0
}
